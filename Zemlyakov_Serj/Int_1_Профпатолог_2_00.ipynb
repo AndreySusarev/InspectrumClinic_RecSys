{
  "cells": [
    {
      "cell_type": "markdown",
      "metadata": {
        "id": "view-in-github",
        "colab_type": "text"
      },
      "source": [
        "<a href=\"https://colab.research.google.com/github/Untick/InspectrumClinic_RecSys/blob/main/Zemlyakov_Serj/Int_1_%D0%9F%D1%80%D0%BE%D1%84%D0%BF%D0%B0%D1%82%D0%BE%D0%BB%D0%BE%D0%B3_2_00.ipynb\" target=\"_parent\"><img src=\"https://colab.research.google.com/assets/colab-badge.svg\" alt=\"Open In Colab\"/></a>"
      ]
    },
    {
      "cell_type": "code",
      "execution_count": null,
      "metadata": {
        "id": "EOjQlKFqKLXw"
      },
      "outputs": [],
      "source": [
        "# Работа с массивами данных\n",
        "import numpy as np \n",
        "\n",
        "# Работа с табличными данными\n",
        "import pandas as pd\n",
        "\n",
        "import string\n",
        "\n",
        "import tensorflow as tf\n",
        "\n",
        "# Функции-утилиты для работы с категориальными данными\n",
        "from tensorflow.keras import utils\n",
        "\n",
        "# Класс для конструирования последовательной модели нейронной сети\n",
        "from tensorflow.keras.models import Sequential, Model\n",
        "\n",
        "# Основные слои\n",
        "from tensorflow.keras.layers import Dense, Dropout, SpatialDropout1D, BatchNormalization, Embedding, Flatten, Activation, Input, concatenate\n",
        "from tensorflow.keras.layers import SimpleRNN, GRU, LSTM, Bidirectional, Conv1D, MaxPooling1D, GlobalMaxPooling1D\n",
        "\n",
        "# Оптимизаторы\n",
        "from tensorflow.keras.optimizers import Adam, Adadelta, SGD, Adagrad, RMSprop\n",
        "\n",
        "# Токенизатор для преобразования текстов в последовательности\n",
        "from tensorflow.keras.preprocessing.text import Tokenizer\n",
        "\n",
        "# Матрица ошибок классификатора\n",
        "from sklearn.metrics import confusion_matrix, ConfusionMatrixDisplay\n",
        "\n",
        "# Масштабирование данных\n",
        "from sklearn.preprocessing import StandardScaler\n",
        "\n",
        "# Загрузка датасетов из облака google\n",
        "import gdown\n",
        "\n",
        "# Регулярные выражения\n",
        "import re\n",
        "\n",
        "import random\n",
        "\n",
        "#Для работы с файлами \n",
        "import os \n",
        "\n",
        "from google.colab import files\n",
        "\n",
        "# Отрисовка графиков\n",
        "import matplotlib.pyplot as plt\n",
        "\n",
        "# Метрики для расчета ошибок\n",
        "from sklearn.metrics import mean_squared_error, mean_absolute_error\n",
        "\n",
        "from sklearn.model_selection import train_test_split\n",
        "\n",
        "!pip install tensorflow-addons\n",
        "\n",
        "import tensorflow_addons as tfa\n",
        "\n",
        "from tensorflow_addons.metrics import F1Score\n",
        "\n",
        "%matplotlib inline\n",
        "\n"
      ]
    },
    {
      "cell_type": "code",
      "execution_count": null,
      "metadata": {
        "id": "LXK3eJUE-OpX"
      },
      "outputs": [],
      "source": [
        "# Mount Google Drive\n",
        "import os\n",
        "from google.colab import drive\n",
        "\n",
        "drive.mount('/content/drive')\n",
        "!pwd\n",
        "!ls\n",
        "\n"
      ]
    },
    {
      "cell_type": "code",
      "execution_count": null,
      "metadata": {
        "id": "Ql2_FAur_h9Q"
      },
      "outputs": [],
      "source": [
        "# Загрузка базы данных заказчика, предварительно сохарненной в формате *.csv\n",
        "import pandas as pd\n",
        "df = pd.read_csv('/content/drive/MyDrive/internsheep1/profpat_1.csv')\n"
      ]
    },
    {
      "cell_type": "code",
      "execution_count": 5,
      "metadata": {
        "id": "t8X9AjLBqu2T"
      },
      "outputs": [],
      "source": [
        "# Вспомогательные функции для очистки строковых данных для приведения к удобномы для обратки виду\n",
        "def purify(x):\n",
        "    if isinstance(x, str):                # Если значение - строка:\n",
        "        # Замена концов строк на пробелы, удаление символа с кодом 0xA0,\n",
        "        # обрезка краевых пробелов и приведение к нижнему регистру\n",
        "        x1 = re.sub(r',\\s*(?=,|$)', '', x).strip(',')\n",
        "    return x1\n",
        "\n",
        "def clean_string(text): \n",
        "    # удаление знаков препинания\n",
        "    text = text.translate(str.maketrans('', '', string.punctuation))\n",
        "    return text    "
      ]
    },
    {
      "cell_type": "code",
      "execution_count": 6,
      "metadata": {
        "id": "hXPkrT7ZvvX6"
      },
      "outputs": [],
      "source": [
        "def clean_dict(dict_d):\n",
        "  advanceddict = {}\n",
        "  for key in dict_d:\n",
        "    # проверяем, есть ли в ключе разделитель \",\"\n",
        "    if re.search(',', key):\n",
        "      # если есть, то разделяем ключ на список из отдельных ключей\n",
        "      subkeys = key.split(',')\n",
        "      # для каждого нового ключа создаем запись в новом словаре\n",
        "      for subkey in subkeys:\n",
        "        # копируем значение из старого словаря\n",
        "        advanceddict[subkey] = dict_d[key]\n",
        "    else:\n",
        "      # если разделителя нет, то просто копируем ключ и значение\n",
        "      advanceddict[key] = dict_d[key]\n",
        "\n",
        "  return advanceddict"
      ]
    },
    {
      "cell_type": "code",
      "execution_count": 7,
      "metadata": {
        "id": "-CtG85xJ02Sh"
      },
      "outputs": [],
      "source": [
        "def format_vector(vector):\n",
        "    return [round(num, 1) for num in vector]"
      ]
    },
    {
      "cell_type": "code",
      "execution_count": 8,
      "metadata": {
        "colab": {
          "base_uri": "https://localhost:8080/"
        },
        "id": "zAyxKyr4ELSh",
        "outputId": "4f0a10b7-f6d3-4051-c0d4-1dc813f5a001"
      },
      "outputs": [
        {
          "output_type": "stream",
          "name": "stdout",
          "text": [
            "(1982, 4587)\n"
          ]
        }
      ],
      "source": [
        "# Исходный размер таблицы данных\n",
        "print(df.shape)"
      ]
    },
    {
      "cell_type": "code",
      "execution_count": 9,
      "metadata": {
        "id": "FRZxszdfR8dS",
        "colab": {
          "base_uri": "https://localhost:8080/"
        },
        "outputId": "8b4a8a11-4649-41b9-9e16-8a22722f0f92"
      },
      "outputs": [
        {
          "output_type": "stream",
          "name": "stdout",
          "text": [
            "(1571, 30)\n"
          ]
        }
      ],
      "source": [
        "# Подготовка таблицы данных\n",
        "# Убираем полностью пустые строки\n",
        "dffix1 = df.dropna(axis=1, how='all')\n",
        "\n",
        "# Убираем строки в которых отстутствует одно из встреченных заключений Профпатолога (ПП)\n",
        "dffix1 = dffix1[dffix1['ЗаключениеМК'].isin(['Годен',\n",
        "                                    'ГоденСКоррекциейЗрения',\n",
        "                                    'ВременноНегоден',\n",
        "                                    'НуждаетсяВДообследованииИЛечении',\n",
        "                                    'ОграниченноГоден',\n",
        "                                    'ГоденБезРаботНаВысотах'])]\n",
        "\n",
        "# Приводим к 3-м классам (Годен, Негоден, ОграниченноГоден)\n",
        "dffix1.loc[dffix1['ЗаключениеМК'] == 'ВременноНегоден', 'ЗаключениеМК'] = 'Негоден'\n",
        "dffix1.loc[dffix1['ЗаключениеМК'] == 'НуждаетсяВДообследованииИЛечении', 'ЗаключениеМК'] = 'Негоден'\n",
        "dffix1.loc[dffix1['ЗаключениеМК'] == 'ГоденСКоррекциейЗрения', 'ЗаключениеМК'] = 'ОграниченноГоден'\n",
        "dffix1.loc[dffix1['ЗаключениеМК'] == 'ГоденБезРаботНаВысотах', 'ЗаключениеМК'] = 'ОграниченноГоден'\n",
        "\n",
        "# Для удобства обращения к столбцу, переименуем его в название из одного слова\n",
        "dffix1.rename(columns = {'Вредные Факторы':'Вредность'}, inplace = True )\n",
        "dffix1.rename(columns = {'Диспансерная Группа':'ГруппаЗдоровья'}, inplace = True )\n",
        "\n",
        "# Оставляем только значащие для нас колонки: Заключение ПП, Вредность и Диагнозы узких специалистов в текстовом представлении\n",
        "dffix1 = dffix1[['ЗаключениеМК',\n",
        "'ГруппаЗдоровья',\n",
        "'Вредность',\n",
        "'Психиатрия Наркология1 Диагноз Представление1',\n",
        "'Офтальмология1_ДиагнозПредставление1',\n",
        "'Оториноларингология1_ДиагнозПредставление1',\n",
        "'Гинекология1_ДиагнозПредставление1',\n",
        "'Стоматология1_ДиагнозПредставление1',\n",
        "'Дерматовенерология1_ДиагнозПредставление1',\n",
        "'Неврология1_ДиагнозПредставление1',\n",
        "'Терапия1_ДиагнозПредставление1',\n",
        "'Хирургия1_ДиагнозПредставление1',\n",
        "'Офтальмология1_ДиагнозПредставление2',\n",
        "'Терапия2_ДиагнозПредставление1',\n",
        "'ЛабораторныеИсследования1_ХР_Рекомендация1Представление',\n",
        " 'ПсихиатрияНаркология1_ХР_Рекомендация1Представление',\n",
        " 'Офтальмология1_ХР_Рекомендация1Представление',\n",
        " 'Офтальмология1_ХР_Рекомендация2Представление',\n",
        " 'Оториноларингология1_ХР_Рекомендация1Представление',\n",
        " 'Гинекология1_ХР_Рекомендация1Представление',\n",
        " 'Гинекология1_ХР_Рекомендация2Представление',\n",
        " 'ФункциональнаяДиагностика1_ХР_Рекомендация1Представление',\n",
        "'Стоматология1_ХР_Рекомендация1Представление',\n",
        "'Терапия1_ХР_Рекомендация2Представление',\n",
        "'Дерматовенерология1_ХР_Рекомендация1Представление',\n",
        "'Дерматовенерология1_ХР_Рекомендация2Представление',\n",
        "'Неврология1_ХР_Рекомендация1Представление',\n",
        "'УЗИДиагностика1_Заключение_ЗначениеПредставление',\n",
        "'Хирургия1_ХР_Рекомендация1Представление',\n",
        "'Терапия2_ХР_Рекомендация1Представление'\n",
        "]]\n",
        "\n",
        "# Заменяем отсутсвтующие записи узких специалистов в пробелы\n",
        "dffix1=dffix1.fillna('')\n",
        "\n",
        "# Вывод количества и числа признаков\n",
        "print(dffix1.shape)\n"
      ]
    },
    {
      "cell_type": "code",
      "execution_count": 10,
      "metadata": {
        "id": "AZcVNqvJ7aa9"
      },
      "outputs": [],
      "source": [
        "# Обобщенный диагноз - собирем диагнозы узких специалистов в одну строку через запятую\n",
        "dffix1['Свод_Диагноз'] = (dffix1['Психиатрия Наркология1 Диагноз Представление1'].map(str) + ','\n",
        " + dffix1['Офтальмология1_ДиагнозПредставление1'].map(str)+ ','\n",
        " + dffix1['Оториноларингология1_ДиагнозПредставление1'].map(str)+ ','\n",
        " + dffix1['Гинекология1_ДиагнозПредставление1'].map(str)+ ','\n",
        " + dffix1['Стоматология1_ДиагнозПредставление1'].map(str)+ ','\n",
        " + dffix1['Дерматовенерология1_ДиагнозПредставление1'].map(str)+ ','\n",
        " + dffix1['Неврология1_ДиагнозПредставление1'].map(str)+ ','\n",
        " + dffix1['Терапия1_ДиагнозПредставление1'].map(str)+ ','\n",
        " + dffix1['Хирургия1_ДиагнозПредставление1'].map(str)+ ','\n",
        " + dffix1['Офтальмология1_ДиагнозПредставление2'].map(str)+ ','\n",
        " + dffix1['Терапия2_ДиагнозПредставление1'].map(str))"
      ]
    },
    {
      "cell_type": "code",
      "source": [
        "# Обобщенная рекомендация\n",
        "dffix1['Рекомендации'] = (dffix1['ЛабораторныеИсследования1_ХР_Рекомендация1Представление'].map(str) + ','\n",
        " + dffix1['ПсихиатрияНаркология1_ХР_Рекомендация1Представление'].map(str)+ ','\n",
        " + dffix1['Офтальмология1_ХР_Рекомендация1Представление'].map(str)+ ','\n",
        " + dffix1['Офтальмология1_ХР_Рекомендация2Представление'].map(str)+ ','\n",
        " + dffix1['Оториноларингология1_ХР_Рекомендация1Представление'].map(str)+ ','\n",
        " + dffix1['Гинекология1_ХР_Рекомендация1Представление'].map(str)+ ','\n",
        " + dffix1['Гинекология1_ХР_Рекомендация2Представление'].map(str)+ ','\n",
        " + dffix1['ФункциональнаяДиагностика1_ХР_Рекомендация1Представление'].map(str)+ ','\n",
        " + dffix1['Стоматология1_ХР_Рекомендация1Представление'].map(str)+ ','\n",
        " + dffix1['Терапия1_ХР_Рекомендация2Представление'].map(str)+ ','\n",
        " + dffix1['Дерматовенерология1_ХР_Рекомендация1Представление'].map(str)+ ','\n",
        " + dffix1['Дерматовенерология1_ХР_Рекомендация2Представление'].map(str)+ ','\n",
        " + dffix1['Неврология1_ХР_Рекомендация1Представление'].map(str)+ ','\n",
        " + dffix1['УЗИДиагностика1_Заключение_ЗначениеПредставление'].map(str)+ ','\n",
        " + dffix1['Хирургия1_ХР_Рекомендация1Представление'].map(str)+ ','\n",
        " + dffix1['Терапия2_ХР_Рекомендация1Представление'].map(str))"
      ],
      "metadata": {
        "id": "-oBlHbsmJEKQ"
      },
      "execution_count": 11,
      "outputs": []
    },
    {
      "cell_type": "code",
      "execution_count": 13,
      "metadata": {
        "id": "gbw-Tyl-Uqup"
      },
      "outputs": [],
      "source": [
        "# Упрвостим таблицу данных до 5 столбцов\n",
        "dffix2 = dffix1[['ЗаключениеМК',\n",
        "                 'ГруппаЗдоровья',\n",
        "                 'Вредность',\n",
        "                 'Свод_Диагноз',\n",
        "                 'Рекомендации']]\n"
      ]
    },
    {
      "cell_type": "code",
      "execution_count": 18,
      "metadata": {
        "id": "_fZSCIvrIMDk"
      },
      "outputs": [],
      "source": [
        "# Функция обработки столбца сводного диагноза\n",
        "def diag_adv (df0):\n",
        "  # Получим список всех сводных диагнозов \n",
        "  list_of_Diag = df0['Свод_Диагноз'].tolist()\n",
        "  # Используя заготовленную функцию, очистим каждую строку от \"мусора\"\n",
        "  clearlistdiag=[]\n",
        "  for A in list_of_Diag:\n",
        "    clearlistdiag.append(purify(A))\n",
        "  # Поместим в новую колонку очищенные строки из полученного списка\n",
        "  df0['Диагнозы'] = True\n",
        "  df0['Диагнозы'] = clearlistdiag\n",
        "\n",
        "  # Получаем новую таблицу данных\n",
        "  df1=df0[['ЗаключениеМК',\n",
        "           'ГруппаЗдоровья',\n",
        "           'Вредность',\n",
        "           'Диагнозы',\n",
        "           'Рекомендации']]\n",
        "  return df1     \n",
        "                   "
      ]
    },
    {
      "cell_type": "code",
      "source": [
        "  # Функция обработки столбца рекомендаций\n",
        "def recom_adv (df1):\n",
        "    # Получим список всех рекомендаций \n",
        "    list_of_recom = df1['Рекомендации'].tolist()\n",
        "    # Используя заготовленную функцию, очистим каждую строку от \"мусора\"\n",
        "    clearlistrecom=[]\n",
        "    for A in list_of_recom:\n",
        "      clearlistrecom.append(purify(A))\n",
        "    # Поместим в новую колонку очищенные строки из полученного списка\n",
        "    df1['Рекомендации'] = True\n",
        "    df1['Рекомендации'] = clearlistrecom\n",
        "\n",
        "    # Получаем новую таблицу данных\n",
        "    df2=df1[['ЗаключениеМК',\n",
        "              'ГруппаЗдоровья',\n",
        "              'Вредность',\n",
        "              'Диагнозы',\n",
        "              'Рекомендации']]\n",
        "    return df2     "
      ],
      "metadata": {
        "id": "Kshz4STwRiGk"
      },
      "execution_count": 24,
      "outputs": []
    },
    {
      "cell_type": "code",
      "execution_count": null,
      "metadata": {
        "id": "CzGZfWkhVgmU"
      },
      "outputs": [],
      "source": [
        "# Получаем новую таблицу данных\n",
        "dffix3=diag_adv(dffix2)\n",
        "dffix3=recom_adv(dffix3)\n",
        "\n",
        "# Удаляем строки с отстуствующими записями всех узких специалистов                    \n",
        "dffix3 = dffix3[dffix3['Диагнозы']!='']\n",
        "\n",
        "print (dffix3.shape)\n"
      ]
    },
    {
      "cell_type": "code",
      "execution_count": 26,
      "metadata": {
        "colab": {
          "base_uri": "https://localhost:8080/"
        },
        "id": "-jz5kxzwVymA",
        "outputId": "75efd127-b00a-4dc7-a202-b3778a1d719a"
      },
      "outputs": [
        {
          "output_type": "execute_result",
          "data": {
            "text/plain": [
              "Годен               1284\n",
              "ОграниченноГоден     125\n",
              "Негоден               11\n",
              "Name: ЗаключениеМК, dtype: int64"
            ]
          },
          "metadata": {},
          "execution_count": 26
        }
      ],
      "source": [
        "# Данные по распределению представителей классов\n",
        "dffix3.ЗаключениеМК.value_counts()"
      ]
    },
    {
      "cell_type": "code",
      "execution_count": 27,
      "metadata": {
        "id": "-aeNShFSK-P9"
      },
      "outputs": [],
      "source": [
        "CLASS_COUNT = dffix3['ЗаключениеМК'].nunique()\n",
        "\n",
        "# Задаем словарь классов\n",
        "CLASS_DICT ={'Негоден':0, 'ОграниченноГоден':1, 'Годен':2}\n",
        "\n",
        "CLASS_LIST = dffix3.ЗаключениеМК.value_counts()\n",
        "\n",
        "# Создаем метрику для разбалансированных классов\n",
        "custum_metric = tfa.metrics.F1Score(num_classes=CLASS_COUNT, average=\"micro\", threshold=0.5, name='F1Score' )"
      ]
    },
    {
      "cell_type": "code",
      "execution_count": 28,
      "metadata": {
        "id": "vMO2f6ioF01U"
      },
      "outputs": [],
      "source": [
        "# Функция извлечения данных о вредных факторах\n",
        "\n",
        "def extract_harm_text(df_harm):\n",
        "    result = []\n",
        "    COL_HARM   = df_harm.columns.get_loc('Вредность')\n",
        "    # Для всех строк таблицы: собрать значения столбцов вредности\n",
        "    for row in df_harm.values:\n",
        "                    result.append(str(row[COL_HARM]).split(','))\n",
        "    # Возврат в виде массива\n",
        "    return result"
      ]
    },
    {
      "cell_type": "code",
      "execution_count": 29,
      "metadata": {
        "id": "bD5RG6N94bUS"
      },
      "outputs": [],
      "source": [
        "# Функция извлечения данных о Диагнозе\n",
        "\n",
        "def extract_Diag_text(df_diag):\n",
        "    result = []\n",
        "    COL_DIAG    = df_diag.columns.get_loc('Диагнозы')\n",
        "    # Для всех строк таблицы: собрать значения сводного Диагноза\n",
        "    for row in df_diag.values:\n",
        "                    result.append(str(row[COL_DIAG]).split(','))\n",
        "    # Возврат в виде массива\n",
        "    return result"
      ]
    },
    {
      "cell_type": "code",
      "source": [
        "# Функция извлечения данных о Рекомендациях\n",
        "\n",
        "def extract_recom_text(df_diag):\n",
        "    result = []\n",
        "    COL_RECOM    = df_diag.columns.get_loc('Рекомендации')\n",
        "    # Для всех строк таблицы: собрать значения сводного Диагноза\n",
        "    for row in df_diag.values:\n",
        "                    result.append(str(row[COL_RECOM]).split(','))\n",
        "    # Возврат в виде массива\n",
        "    return result"
      ],
      "metadata": {
        "id": "Hop16eK9LOTw"
      },
      "execution_count": 30,
      "outputs": []
    },
    {
      "cell_type": "code",
      "execution_count": 32,
      "metadata": {
        "id": "TiyzggR8M6yM"
      },
      "outputs": [],
      "source": [
        "# Функция извлечения данных о Группе здоровья OHE\n",
        "\n",
        "def extract_gz(df):\n",
        "  GZ_COUNT = 5\n",
        "  # Задаем словарь классов\n",
        "  GZ_DICT ={'':0, 'I':1, 'II':2, 'IIIа':3, 'IIIб':4}\n",
        "  gz_list_key = list(df.ГруппаЗдоровья.values)\n",
        "  gz_list = []\n",
        "  for GZ in gz_list_key:\n",
        "    gz_list.append(GZ_DICT[GZ])\n",
        "  \n",
        "  gz_data = np.array(gz_list)            # Перевод общего списка меток класса в numpy-массив\n",
        "  gz_res = utils.to_categorical(gz_data, GZ_COUNT)\n",
        "  return gz_res"
      ]
    },
    {
      "cell_type": "code",
      "execution_count": 33,
      "metadata": {
        "colab": {
          "base_uri": "https://localhost:8080/"
        },
        "id": "jBGmxWEAOEpQ",
        "outputId": "d6635f7e-ea17-407c-8bd7-3deabd2a2e0e"
      },
      "outputs": [
        {
          "output_type": "stream",
          "name": "stdout",
          "text": [
            "(1420, 5)\n"
          ]
        }
      ],
      "source": [
        "# Извлечение текстов о Группе здоровья и перевод в массив OHE\n",
        "gz_ohe  = extract_gz(dffix3)\n",
        "\n",
        "print (gz_ohe.shape)"
      ]
    },
    {
      "cell_type": "code",
      "execution_count": 34,
      "metadata": {
        "id": "4r3VvqnAnkok"
      },
      "outputs": [],
      "source": [
        "# Функция перевода классов в OHE\n",
        "def Y_to_OHE(df):\n",
        "  y_list_key = list(df.ЗаключениеМК.values)\n",
        "  # print (y_list_key)\n",
        "  y_list = []\n",
        "  for CD in y_list_key:\n",
        "    y_list.append(CLASS_DICT[CD])\n",
        "  # print (y_list)\n",
        "\n",
        "  y_data = np.array(y_list)            # Перевод общего списка меток класса в numpy-массив\n",
        "\n",
        "  y_res = utils.to_categorical(y_data, CLASS_COUNT)\n",
        "  return y_data, y_res\n"
      ]
    },
    {
      "cell_type": "code",
      "execution_count": 86,
      "metadata": {
        "id": "QTTQYz9L6Uvw"
      },
      "outputs": [],
      "source": [
        "# Преобразование текстовых данных в числовые/векторные для обучения нейросетью\n",
        "# Используется встроенный в Keras токенизатор для разбиения текста и построения частотного словаря\n",
        "\n",
        "# Частотный словарь вредности\n",
        "tokenizer_harm = Tokenizer(num_words=200, # объем словаря\n",
        "                      filters='!\"#$%&()*+,-–—/:;<=>?@[\\\\]^_`{|}~\\t\\n\\xa0', # убираемые из текста ненужные символы \n",
        "                      lower=True, # приведение слов к нижнему регистру\n",
        "                      split=' ', # разделитель слов\n",
        "                      oov_token='unknown', # указание разделять по словам, а не по единичным символам\n",
        "                      char_level=False # токен для слов, которые не вошли в словарь\n",
        "                      )\n",
        "\n",
        "# Частотный словарь диагнозов узких специалистов\n",
        "tokenizer_Diag = Tokenizer(num_words=400, # объем словаря\n",
        "                      filters='!\"#$%&()*+,-–—./:;<=>?@[\\\\]^_`{|}~\\t\\n\\xa0', # убираемые из текста ненужные символы \n",
        "                      lower=False, # приведение слов к нижнему регистру\n",
        "                      split=' ', # разделитель слов\n",
        "                      oov_token='unknown', # указание разделять по словам, а не по единичным символам\n",
        "                      char_level=False # токен для слов, которые не вошли в словарь\n",
        "                      )\n",
        "\n",
        "# Частотный словарь рекомендаций узких специалистов\n",
        "tokenizer_recom = Tokenizer(num_words=400, # объем словаря\n",
        "                      filters='!\"#$%&()*+,-–—./:;<=>?@[\\\\]^_`{|}~\\t\\n\\xa0', # убираемые из текста ненужные символы \n",
        "                      lower=False, # приведение слов к нижнему регистру\n",
        "                      split=' ', # разделитель слов\n",
        "                      oov_token='unknown', # указание разделять по словам, а не по единичным символам\n",
        "                      char_level=False # токен для слов, которые не вошли в словарь\n",
        "                      )"
      ]
    },
    {
      "cell_type": "code",
      "execution_count": 36,
      "metadata": {
        "id": "3mwsSMTd_sGN"
      },
      "outputs": [],
      "source": [
        "# Функция предсказания и визуализация результата\n",
        "def eval_model(model, x, y_true,\n",
        "               class_labels=[],\n",
        "               cm_round=3,\n",
        "               title='',\n",
        "               figsize=(10, 10)):\n",
        "    # Вычисление предсказания сети\n",
        "    y_pred = model.predict(x)\n",
        "    # Построение матрицы ошибок\n",
        "    cm = confusion_matrix(np.argmax(y_true, axis=1),\n",
        "                          np.argmax(y_pred, axis=1),\n",
        "                          normalize='true')\n",
        "    # Округление значений матрицы ошибок\n",
        "    cm = np.around(cm, cm_round)\n",
        "\n",
        "    # Отрисовка матрицы ошибок\n",
        "    fig, ax = plt.subplots(figsize=figsize)\n",
        "    ax.set_title(f'Нейросеть {title}: матрица ошибок нормализованная', fontsize=18)\n",
        "    disp = ConfusionMatrixDisplay(confusion_matrix=cm, display_labels=class_labels)\n",
        "    disp.plot(ax=ax)\n",
        "    plt.gca().images[-1].colorbar.remove()  # Стирание ненужной цветовой шкалы\n",
        "    plt.xlabel('Предсказанные классы', fontsize=16)\n",
        "    plt.ylabel('Верные классы', fontsize=16)\n",
        "    fig.autofmt_xdate(rotation=45)          # Наклон меток горизонтальной оси при необходимости\n",
        "    plt.show()    \n",
        "\n",
        "    print('-'*100)\n",
        "    print(f'Нейросеть: {title}')\n",
        "\n",
        "    # Для каждого класса:\n",
        "    for cls in range(len(class_labels)):\n",
        "        # Определяется индекс класса с максимальным значением предсказания (уверенности)\n",
        "        cls_pred = np.argmax(cm[cls])\n",
        "        # Формируется сообщение о верности или неверности предсказания\n",
        "        msg = 'ВЕРНО :-)' if cls_pred == cls else 'НЕВЕРНО :-('\n",
        "        # Выводится текстовая информация о предсказанном классе и значении уверенности\n",
        "        # print('Класс: {:<20} {:3.0f}% сеть отнесла к классу {:<20} - {}'.format(class_labels[cls],\n",
        "        #                                                                        100. * cm[cls, cls_pred],\n",
        "        #                                                                        class_labels[cls_pred],\n",
        "        #                                                                        msg))\n",
        "\n",
        "    # Средняя точность распознавания определяется как среднее диагональных элементов матрицы ошибок\n",
        "    print('\\nСредняя точность распознавания: {:3.0f}%'.format(100. * cm.diagonal().mean()))"
      ]
    },
    {
      "cell_type": "markdown",
      "metadata": {
        "id": "pvM8vBMbSjIS"
      },
      "source": [
        "Добавление данных на основании Приказа 29н и 302н для расширения группы \"Негоден\"\n",
        "Данные приняты по вредным факторам и факторам трудового процесса соответсвующие категориям 4-5 и 6-27 на основании Приказа 29н"
      ]
    },
    {
      "cell_type": "code",
      "execution_count": 37,
      "metadata": {
        "id": "6xuat7_SY1mt"
      },
      "outputs": [],
      "source": [
        "df_add = pd.read_csv('/content/drive/MyDrive/internsheep1/Pr29_1.csv')"
      ]
    },
    {
      "cell_type": "code",
      "execution_count": null,
      "metadata": {
        "id": "kySmtWNATw7T"
      },
      "outputs": [],
      "source": [
        "df_add"
      ]
    },
    {
      "cell_type": "code",
      "execution_count": 39,
      "metadata": {
        "id": "NltcpXwLpBPs"
      },
      "outputs": [],
      "source": [
        "# Создадим список противопоказаний\n",
        "list_against = df_add['Свод_Диагноз'].tolist()\n",
        "\n",
        "# И очистим его ранее подготовленной функцией\n",
        "clearlist=[]\n",
        "for A in list_against:\n",
        "  clearlist.append(clean_string(A))\n"
      ]
    },
    {
      "cell_type": "code",
      "execution_count": 40,
      "metadata": {
        "colab": {
          "base_uri": "https://localhost:8080/"
        },
        "id": "0pKIi3h9pkyT",
        "outputId": "fb833f21-e0f2-4e0f-8cbb-beab15962130"
      },
      "outputs": [
        {
          "output_type": "stream",
          "name": "stdout",
          "text": [
            "(474, 3)\n"
          ]
        }
      ],
      "source": [
        "# Поместим в новую колонку очищенные строки из полученного списка\n",
        "df_add['Диагнозы'] = True\n",
        "df_add['Диагнозы'] = clearlist\n",
        "\n",
        "# Получаем новую таблицу данных\n",
        "df_add_1=df_add[['ЗаключениеМК',\n",
        "                        'Вредность',\n",
        "                        'Диагнозы']]\n",
        "\n",
        "print (df_add_1.shape)\n",
        "                   "
      ]
    },
    {
      "cell_type": "code",
      "execution_count": 41,
      "metadata": {
        "id": "PiQKhfjrl_Eo"
      },
      "outputs": [],
      "source": [
        "# Создадим список вредностей из добавленной таблицы данных по Приказу 29н\n",
        "list_of_harm = df_add_1['Вредность'].unique().tolist()\n",
        "\n",
        "# Из списка вредностей составим словарь\n",
        "promdict = dict.fromkeys(list_of_harm)\n",
        "for A in list_of_harm:\n",
        "  df1 = df_add_1[df_add_1['Вредность']==A]\n",
        "  list_of_daig = df1['Диагнозы'].unique().tolist()\n",
        "  promdict[A]=list_of_daig"
      ]
    },
    {
      "cell_type": "code",
      "execution_count": 42,
      "metadata": {
        "colab": {
          "base_uri": "https://localhost:8080/"
        },
        "id": "rPYNrfgstk4I",
        "outputId": "59adc75d-34a6-4fa5-fde5-5730df6ace3b"
      },
      "outputs": [
        {
          "output_type": "stream",
          "name": "stdout",
          "text": [
            "['Нарушения функции вестибулярного аппарата любой этиологии ', 'Выраженные расстройства вегетативной автономной нервной системы']\n"
          ]
        }
      ],
      "source": [
        "# Пример записи из словоря по ключу - фактору вредности на основании Приказа 29н\n",
        "print (promdict['4.6'])"
      ]
    },
    {
      "cell_type": "code",
      "execution_count": 43,
      "metadata": {
        "id": "1PigERvG0T9T"
      },
      "outputs": [],
      "source": [
        "# Создаем генератор который на основе списка вредностей и словаря добавит в имеющуюся таблицу данный заданное количество записей Негоден\n",
        "def gen_profstop (num_gen, somedict, somelist, somedf):\n",
        "  additional_df = somedf.copy()\n",
        "  for i in range (num_gen):\n",
        "    ran_h = random.choice(somelist)\n",
        "    ran_d = random.choice(somedict[ran_h])\n",
        "    additional_df.loc[len(additional_df.index)]=['Негоден', '', ran_h, ran_d, '']\n",
        "  \n",
        "  return additional_df"
      ]
    },
    {
      "cell_type": "code",
      "execution_count": 44,
      "metadata": {
        "colab": {
          "base_uri": "https://localhost:8080/"
        },
        "id": "qLVhUGwZ3A7H",
        "outputId": "03ca2820-5e0a-4517-d9ac-e365f2571d8c"
      },
      "outputs": [
        {
          "output_type": "stream",
          "name": "stdout",
          "text": [
            "(2520, 5)\n"
          ]
        }
      ],
      "source": [
        "# Создаем новую таблицу данных с добавлением 1100 записей негоден\n",
        "dffix4=dffix3.reset_index(drop=True)\n",
        "dffix4 = gen_profstop (1100, promdict, list_of_harm, dffix4)\n",
        "print (dffix4.shape)"
      ]
    },
    {
      "cell_type": "code",
      "execution_count": 45,
      "metadata": {
        "colab": {
          "base_uri": "https://localhost:8080/",
          "height": 424
        },
        "id": "9Mn-NT-33qUw",
        "outputId": "5d54b750-bcb7-4908-f9b7-39fc8d77c947"
      },
      "outputs": [
        {
          "output_type": "execute_result",
          "data": {
            "text/plain": [
              "          ЗаключениеМК ГруппаЗдоровья Вредность  \\\n",
              "0                Годен              I      11.4   \n",
              "1                Годен           IIIа     4.2.5   \n",
              "2     ОграниченноГоден             II     4.2.5   \n",
              "3                Годен              I      11.1   \n",
              "4     ОграниченноГоден             II      11.1   \n",
              "...                ...            ...       ...   \n",
              "2515           Негоден                      4.7   \n",
              "2516           Негоден                     11.2   \n",
              "2517           Негоден                      4.1   \n",
              "2518           Негоден                       16   \n",
              "2519           Негоден                      4.5   \n",
              "\n",
              "                                               Диагнозы  \\\n",
              "0     Общий медицинский осмотр,Общий медицинский осм...   \n",
              "1     Общий медицинский осмотр,Общий медицинский осм...   \n",
              "2     Общий медицинский осмотр,Миопия,Общий медицинс...   \n",
              "3     Общий медицинский осмотр,Общий медицинский осм...   \n",
              "4     Астигматизм,Общий медицинский осмотр,Общий мед...   \n",
              "...                                                 ...   \n",
              "2515  Хронические рецидивирующие заболевания кожи с ...   \n",
              "2516  Грыжи с наклонностью к ущемлению выпадение пря...   \n",
              "2517                        вл тромбоцитов менее 180000   \n",
              "2518  Искривление носовой перегородки с нарушением ф...   \n",
              "2519  Хронические заболевания периферической нервной...   \n",
              "\n",
              "                                           Рекомендации  \n",
              "0                                                        \n",
              "1                                                        \n",
              "2     Допуск с ношением средств оптической коррекции...  \n",
              "3           Эхопатологии на момент осмотра не выявлено   \n",
              "4     Использование средств оптической коррекции зре...  \n",
              "...                                                 ...  \n",
              "2515                                                     \n",
              "2516                                                     \n",
              "2517                                                     \n",
              "2518                                                     \n",
              "2519                                                     \n",
              "\n",
              "[2520 rows x 5 columns]"
            ],
            "text/html": [
              "\n",
              "  <div id=\"df-0a07615a-5475-49fe-9b85-2f1b4db6853b\">\n",
              "    <div class=\"colab-df-container\">\n",
              "      <div>\n",
              "<style scoped>\n",
              "    .dataframe tbody tr th:only-of-type {\n",
              "        vertical-align: middle;\n",
              "    }\n",
              "\n",
              "    .dataframe tbody tr th {\n",
              "        vertical-align: top;\n",
              "    }\n",
              "\n",
              "    .dataframe thead th {\n",
              "        text-align: right;\n",
              "    }\n",
              "</style>\n",
              "<table border=\"1\" class=\"dataframe\">\n",
              "  <thead>\n",
              "    <tr style=\"text-align: right;\">\n",
              "      <th></th>\n",
              "      <th>ЗаключениеМК</th>\n",
              "      <th>ГруппаЗдоровья</th>\n",
              "      <th>Вредность</th>\n",
              "      <th>Диагнозы</th>\n",
              "      <th>Рекомендации</th>\n",
              "    </tr>\n",
              "  </thead>\n",
              "  <tbody>\n",
              "    <tr>\n",
              "      <th>0</th>\n",
              "      <td>Годен</td>\n",
              "      <td>I</td>\n",
              "      <td>11.4</td>\n",
              "      <td>Общий медицинский осмотр,Общий медицинский осм...</td>\n",
              "      <td></td>\n",
              "    </tr>\n",
              "    <tr>\n",
              "      <th>1</th>\n",
              "      <td>Годен</td>\n",
              "      <td>IIIа</td>\n",
              "      <td>4.2.5</td>\n",
              "      <td>Общий медицинский осмотр,Общий медицинский осм...</td>\n",
              "      <td></td>\n",
              "    </tr>\n",
              "    <tr>\n",
              "      <th>2</th>\n",
              "      <td>ОграниченноГоден</td>\n",
              "      <td>II</td>\n",
              "      <td>4.2.5</td>\n",
              "      <td>Общий медицинский осмотр,Миопия,Общий медицинс...</td>\n",
              "      <td>Допуск с ношением средств оптической коррекции...</td>\n",
              "    </tr>\n",
              "    <tr>\n",
              "      <th>3</th>\n",
              "      <td>Годен</td>\n",
              "      <td>I</td>\n",
              "      <td>11.1</td>\n",
              "      <td>Общий медицинский осмотр,Общий медицинский осм...</td>\n",
              "      <td>Эхопатологии на момент осмотра не выявлено</td>\n",
              "    </tr>\n",
              "    <tr>\n",
              "      <th>4</th>\n",
              "      <td>ОграниченноГоден</td>\n",
              "      <td>II</td>\n",
              "      <td>11.1</td>\n",
              "      <td>Астигматизм,Общий медицинский осмотр,Общий мед...</td>\n",
              "      <td>Использование средств оптической коррекции зре...</td>\n",
              "    </tr>\n",
              "    <tr>\n",
              "      <th>...</th>\n",
              "      <td>...</td>\n",
              "      <td>...</td>\n",
              "      <td>...</td>\n",
              "      <td>...</td>\n",
              "      <td>...</td>\n",
              "    </tr>\n",
              "    <tr>\n",
              "      <th>2515</th>\n",
              "      <td>Негоден</td>\n",
              "      <td></td>\n",
              "      <td>4.7</td>\n",
              "      <td>Хронические рецидивирующие заболевания кожи с ...</td>\n",
              "      <td></td>\n",
              "    </tr>\n",
              "    <tr>\n",
              "      <th>2516</th>\n",
              "      <td>Негоден</td>\n",
              "      <td></td>\n",
              "      <td>11.2</td>\n",
              "      <td>Грыжи с наклонностью к ущемлению выпадение пря...</td>\n",
              "      <td></td>\n",
              "    </tr>\n",
              "    <tr>\n",
              "      <th>2517</th>\n",
              "      <td>Негоден</td>\n",
              "      <td></td>\n",
              "      <td>4.1</td>\n",
              "      <td>вл тромбоцитов менее 180000</td>\n",
              "      <td></td>\n",
              "    </tr>\n",
              "    <tr>\n",
              "      <th>2518</th>\n",
              "      <td>Негоден</td>\n",
              "      <td></td>\n",
              "      <td>16</td>\n",
              "      <td>Искривление носовой перегородки с нарушением ф...</td>\n",
              "      <td></td>\n",
              "    </tr>\n",
              "    <tr>\n",
              "      <th>2519</th>\n",
              "      <td>Негоден</td>\n",
              "      <td></td>\n",
              "      <td>4.5</td>\n",
              "      <td>Хронические заболевания периферической нервной...</td>\n",
              "      <td></td>\n",
              "    </tr>\n",
              "  </tbody>\n",
              "</table>\n",
              "<p>2520 rows × 5 columns</p>\n",
              "</div>\n",
              "      <button class=\"colab-df-convert\" onclick=\"convertToInteractive('df-0a07615a-5475-49fe-9b85-2f1b4db6853b')\"\n",
              "              title=\"Convert this dataframe to an interactive table.\"\n",
              "              style=\"display:none;\">\n",
              "        \n",
              "  <svg xmlns=\"http://www.w3.org/2000/svg\" height=\"24px\"viewBox=\"0 0 24 24\"\n",
              "       width=\"24px\">\n",
              "    <path d=\"M0 0h24v24H0V0z\" fill=\"none\"/>\n",
              "    <path d=\"M18.56 5.44l.94 2.06.94-2.06 2.06-.94-2.06-.94-.94-2.06-.94 2.06-2.06.94zm-11 1L8.5 8.5l.94-2.06 2.06-.94-2.06-.94L8.5 2.5l-.94 2.06-2.06.94zm10 10l.94 2.06.94-2.06 2.06-.94-2.06-.94-.94-2.06-.94 2.06-2.06.94z\"/><path d=\"M17.41 7.96l-1.37-1.37c-.4-.4-.92-.59-1.43-.59-.52 0-1.04.2-1.43.59L10.3 9.45l-7.72 7.72c-.78.78-.78 2.05 0 2.83L4 21.41c.39.39.9.59 1.41.59.51 0 1.02-.2 1.41-.59l7.78-7.78 2.81-2.81c.8-.78.8-2.07 0-2.86zM5.41 20L4 18.59l7.72-7.72 1.47 1.35L5.41 20z\"/>\n",
              "  </svg>\n",
              "      </button>\n",
              "      \n",
              "  <style>\n",
              "    .colab-df-container {\n",
              "      display:flex;\n",
              "      flex-wrap:wrap;\n",
              "      gap: 12px;\n",
              "    }\n",
              "\n",
              "    .colab-df-convert {\n",
              "      background-color: #E8F0FE;\n",
              "      border: none;\n",
              "      border-radius: 50%;\n",
              "      cursor: pointer;\n",
              "      display: none;\n",
              "      fill: #1967D2;\n",
              "      height: 32px;\n",
              "      padding: 0 0 0 0;\n",
              "      width: 32px;\n",
              "    }\n",
              "\n",
              "    .colab-df-convert:hover {\n",
              "      background-color: #E2EBFA;\n",
              "      box-shadow: 0px 1px 2px rgba(60, 64, 67, 0.3), 0px 1px 3px 1px rgba(60, 64, 67, 0.15);\n",
              "      fill: #174EA6;\n",
              "    }\n",
              "\n",
              "    [theme=dark] .colab-df-convert {\n",
              "      background-color: #3B4455;\n",
              "      fill: #D2E3FC;\n",
              "    }\n",
              "\n",
              "    [theme=dark] .colab-df-convert:hover {\n",
              "      background-color: #434B5C;\n",
              "      box-shadow: 0px 1px 3px 1px rgba(0, 0, 0, 0.15);\n",
              "      filter: drop-shadow(0px 1px 2px rgba(0, 0, 0, 0.3));\n",
              "      fill: #FFFFFF;\n",
              "    }\n",
              "  </style>\n",
              "\n",
              "      <script>\n",
              "        const buttonEl =\n",
              "          document.querySelector('#df-0a07615a-5475-49fe-9b85-2f1b4db6853b button.colab-df-convert');\n",
              "        buttonEl.style.display =\n",
              "          google.colab.kernel.accessAllowed ? 'block' : 'none';\n",
              "\n",
              "        async function convertToInteractive(key) {\n",
              "          const element = document.querySelector('#df-0a07615a-5475-49fe-9b85-2f1b4db6853b');\n",
              "          const dataTable =\n",
              "            await google.colab.kernel.invokeFunction('convertToInteractive',\n",
              "                                                     [key], {});\n",
              "          if (!dataTable) return;\n",
              "\n",
              "          const docLinkHtml = 'Like what you see? Visit the ' +\n",
              "            '<a target=\"_blank\" href=https://colab.research.google.com/notebooks/data_table.ipynb>data table notebook</a>'\n",
              "            + ' to learn more about interactive tables.';\n",
              "          element.innerHTML = '';\n",
              "          dataTable['output_type'] = 'display_data';\n",
              "          await google.colab.output.renderOutput(dataTable, element);\n",
              "          const docLink = document.createElement('div');\n",
              "          docLink.innerHTML = docLinkHtml;\n",
              "          element.appendChild(docLink);\n",
              "        }\n",
              "      </script>\n",
              "    </div>\n",
              "  </div>\n",
              "  "
            ]
          },
          "metadata": {},
          "execution_count": 45
        }
      ],
      "source": [
        "dffix4"
      ]
    },
    {
      "cell_type": "markdown",
      "metadata": {
        "id": "s8_QKTRb0Bnk"
      },
      "source": [
        "Дополним генератором класса ОграниченноГоден"
      ]
    },
    {
      "cell_type": "code",
      "execution_count": 46,
      "metadata": {
        "colab": {
          "base_uri": "https://localhost:8080/",
          "height": 589
        },
        "id": "CF5_FBTx0hxm",
        "outputId": "21a09620-7873-4e02-d877-f840cd67bf9f"
      },
      "outputs": [
        {
          "output_type": "execute_result",
          "data": {
            "text/plain": [
              "         ЗаключениеМК ГруппаЗдоровья             Вредность  \\\n",
              "0    ОграниченноГоден             II                 4.2.5   \n",
              "1    ОграниченноГоден             II                  11.1   \n",
              "2    ОграниченноГоден             II                  11.1   \n",
              "3    ОграниченноГоден             II                  11.1   \n",
              "4    ОграниченноГоден             II                  11.1   \n",
              "..                ...            ...                   ...   \n",
              "120  ОграниченноГоден           IIIа         23,15,4.4,5.1   \n",
              "121  ОграниченноГоден             II        4.4,5.1,6.1,15   \n",
              "122  ОграниченноГоден             II  4.2.5,6,14,11.3,11.4   \n",
              "123  ОграниченноГоден           IIIа               4.4,6.1   \n",
              "124  ОграниченноГоден           IIIа         6.1,6.2,4.4,9   \n",
              "\n",
              "                                              Диагнозы  \\\n",
              "0    Общий медицинский осмотр,Миопия,Общий медицинс...   \n",
              "1    Астигматизм,Общий медицинский осмотр,Общий мед...   \n",
              "2    Миопия,Общий медицинский осмотр,Общий медицинс...   \n",
              "3    Астигматизм,Общий медицинский осмотр,Общий мед...   \n",
              "4    Астигматизм,Общий медицинский осмотр,Общий мед...   \n",
              "..                                                 ...   \n",
              "120  Общий медицинский осмотр,Миопия,Общий медицинс...   \n",
              "121  Общий медицинский осмотр,Астигматизм,Общий мед...   \n",
              "122  Общий медицинский осмотр,Миопия,Общий медицинс...   \n",
              "123  Общий медицинский осмотр,Астигматизм,Пресбиаку...   \n",
              "124  Общий медицинский осмотр,Миопия,Общий медицинс...   \n",
              "\n",
              "                                          Рекомендации  \n",
              "0    Допуск с ношением средств оптической коррекции...  \n",
              "1    Использование средств оптической коррекции зре...  \n",
              "2    Использование средств оптической коррекции зре...  \n",
              "3    Использование средств оптической коррекции зре...  \n",
              "4    Использование средств оптической коррекции зрения  \n",
              "..                                                 ...  \n",
              "120                      Наблюдение офтальмолога по мж  \n",
              "121  Допуск с ношением средств оптической коррекции...  \n",
              "122  Допуск с ношением средств оптической коррекции...  \n",
              "123  Использование средств оптической коррекции зрения  \n",
              "124  Допуск с ношением средств оптической коррекции...  \n",
              "\n",
              "[125 rows x 5 columns]"
            ],
            "text/html": [
              "\n",
              "  <div id=\"df-bf776dd7-17ca-4451-a5d2-44366205ec31\">\n",
              "    <div class=\"colab-df-container\">\n",
              "      <div>\n",
              "<style scoped>\n",
              "    .dataframe tbody tr th:only-of-type {\n",
              "        vertical-align: middle;\n",
              "    }\n",
              "\n",
              "    .dataframe tbody tr th {\n",
              "        vertical-align: top;\n",
              "    }\n",
              "\n",
              "    .dataframe thead th {\n",
              "        text-align: right;\n",
              "    }\n",
              "</style>\n",
              "<table border=\"1\" class=\"dataframe\">\n",
              "  <thead>\n",
              "    <tr style=\"text-align: right;\">\n",
              "      <th></th>\n",
              "      <th>ЗаключениеМК</th>\n",
              "      <th>ГруппаЗдоровья</th>\n",
              "      <th>Вредность</th>\n",
              "      <th>Диагнозы</th>\n",
              "      <th>Рекомендации</th>\n",
              "    </tr>\n",
              "  </thead>\n",
              "  <tbody>\n",
              "    <tr>\n",
              "      <th>0</th>\n",
              "      <td>ОграниченноГоден</td>\n",
              "      <td>II</td>\n",
              "      <td>4.2.5</td>\n",
              "      <td>Общий медицинский осмотр,Миопия,Общий медицинс...</td>\n",
              "      <td>Допуск с ношением средств оптической коррекции...</td>\n",
              "    </tr>\n",
              "    <tr>\n",
              "      <th>1</th>\n",
              "      <td>ОграниченноГоден</td>\n",
              "      <td>II</td>\n",
              "      <td>11.1</td>\n",
              "      <td>Астигматизм,Общий медицинский осмотр,Общий мед...</td>\n",
              "      <td>Использование средств оптической коррекции зре...</td>\n",
              "    </tr>\n",
              "    <tr>\n",
              "      <th>2</th>\n",
              "      <td>ОграниченноГоден</td>\n",
              "      <td>II</td>\n",
              "      <td>11.1</td>\n",
              "      <td>Миопия,Общий медицинский осмотр,Общий медицинс...</td>\n",
              "      <td>Использование средств оптической коррекции зре...</td>\n",
              "    </tr>\n",
              "    <tr>\n",
              "      <th>3</th>\n",
              "      <td>ОграниченноГоден</td>\n",
              "      <td>II</td>\n",
              "      <td>11.1</td>\n",
              "      <td>Астигматизм,Общий медицинский осмотр,Общий мед...</td>\n",
              "      <td>Использование средств оптической коррекции зре...</td>\n",
              "    </tr>\n",
              "    <tr>\n",
              "      <th>4</th>\n",
              "      <td>ОграниченноГоден</td>\n",
              "      <td>II</td>\n",
              "      <td>11.1</td>\n",
              "      <td>Астигматизм,Общий медицинский осмотр,Общий мед...</td>\n",
              "      <td>Использование средств оптической коррекции зрения</td>\n",
              "    </tr>\n",
              "    <tr>\n",
              "      <th>...</th>\n",
              "      <td>...</td>\n",
              "      <td>...</td>\n",
              "      <td>...</td>\n",
              "      <td>...</td>\n",
              "      <td>...</td>\n",
              "    </tr>\n",
              "    <tr>\n",
              "      <th>120</th>\n",
              "      <td>ОграниченноГоден</td>\n",
              "      <td>IIIа</td>\n",
              "      <td>23,15,4.4,5.1</td>\n",
              "      <td>Общий медицинский осмотр,Миопия,Общий медицинс...</td>\n",
              "      <td>Наблюдение офтальмолога по мж</td>\n",
              "    </tr>\n",
              "    <tr>\n",
              "      <th>121</th>\n",
              "      <td>ОграниченноГоден</td>\n",
              "      <td>II</td>\n",
              "      <td>4.4,5.1,6.1,15</td>\n",
              "      <td>Общий медицинский осмотр,Астигматизм,Общий мед...</td>\n",
              "      <td>Допуск с ношением средств оптической коррекции...</td>\n",
              "    </tr>\n",
              "    <tr>\n",
              "      <th>122</th>\n",
              "      <td>ОграниченноГоден</td>\n",
              "      <td>II</td>\n",
              "      <td>4.2.5,6,14,11.3,11.4</td>\n",
              "      <td>Общий медицинский осмотр,Миопия,Общий медицинс...</td>\n",
              "      <td>Допуск с ношением средств оптической коррекции...</td>\n",
              "    </tr>\n",
              "    <tr>\n",
              "      <th>123</th>\n",
              "      <td>ОграниченноГоден</td>\n",
              "      <td>IIIа</td>\n",
              "      <td>4.4,6.1</td>\n",
              "      <td>Общий медицинский осмотр,Астигматизм,Пресбиаку...</td>\n",
              "      <td>Использование средств оптической коррекции зрения</td>\n",
              "    </tr>\n",
              "    <tr>\n",
              "      <th>124</th>\n",
              "      <td>ОграниченноГоден</td>\n",
              "      <td>IIIа</td>\n",
              "      <td>6.1,6.2,4.4,9</td>\n",
              "      <td>Общий медицинский осмотр,Миопия,Общий медицинс...</td>\n",
              "      <td>Допуск с ношением средств оптической коррекции...</td>\n",
              "    </tr>\n",
              "  </tbody>\n",
              "</table>\n",
              "<p>125 rows × 5 columns</p>\n",
              "</div>\n",
              "      <button class=\"colab-df-convert\" onclick=\"convertToInteractive('df-bf776dd7-17ca-4451-a5d2-44366205ec31')\"\n",
              "              title=\"Convert this dataframe to an interactive table.\"\n",
              "              style=\"display:none;\">\n",
              "        \n",
              "  <svg xmlns=\"http://www.w3.org/2000/svg\" height=\"24px\"viewBox=\"0 0 24 24\"\n",
              "       width=\"24px\">\n",
              "    <path d=\"M0 0h24v24H0V0z\" fill=\"none\"/>\n",
              "    <path d=\"M18.56 5.44l.94 2.06.94-2.06 2.06-.94-2.06-.94-.94-2.06-.94 2.06-2.06.94zm-11 1L8.5 8.5l.94-2.06 2.06-.94-2.06-.94L8.5 2.5l-.94 2.06-2.06.94zm10 10l.94 2.06.94-2.06 2.06-.94-2.06-.94-.94-2.06-.94 2.06-2.06.94z\"/><path d=\"M17.41 7.96l-1.37-1.37c-.4-.4-.92-.59-1.43-.59-.52 0-1.04.2-1.43.59L10.3 9.45l-7.72 7.72c-.78.78-.78 2.05 0 2.83L4 21.41c.39.39.9.59 1.41.59.51 0 1.02-.2 1.41-.59l7.78-7.78 2.81-2.81c.8-.78.8-2.07 0-2.86zM5.41 20L4 18.59l7.72-7.72 1.47 1.35L5.41 20z\"/>\n",
              "  </svg>\n",
              "      </button>\n",
              "      \n",
              "  <style>\n",
              "    .colab-df-container {\n",
              "      display:flex;\n",
              "      flex-wrap:wrap;\n",
              "      gap: 12px;\n",
              "    }\n",
              "\n",
              "    .colab-df-convert {\n",
              "      background-color: #E8F0FE;\n",
              "      border: none;\n",
              "      border-radius: 50%;\n",
              "      cursor: pointer;\n",
              "      display: none;\n",
              "      fill: #1967D2;\n",
              "      height: 32px;\n",
              "      padding: 0 0 0 0;\n",
              "      width: 32px;\n",
              "    }\n",
              "\n",
              "    .colab-df-convert:hover {\n",
              "      background-color: #E2EBFA;\n",
              "      box-shadow: 0px 1px 2px rgba(60, 64, 67, 0.3), 0px 1px 3px 1px rgba(60, 64, 67, 0.15);\n",
              "      fill: #174EA6;\n",
              "    }\n",
              "\n",
              "    [theme=dark] .colab-df-convert {\n",
              "      background-color: #3B4455;\n",
              "      fill: #D2E3FC;\n",
              "    }\n",
              "\n",
              "    [theme=dark] .colab-df-convert:hover {\n",
              "      background-color: #434B5C;\n",
              "      box-shadow: 0px 1px 3px 1px rgba(0, 0, 0, 0.15);\n",
              "      filter: drop-shadow(0px 1px 2px rgba(0, 0, 0, 0.3));\n",
              "      fill: #FFFFFF;\n",
              "    }\n",
              "  </style>\n",
              "\n",
              "      <script>\n",
              "        const buttonEl =\n",
              "          document.querySelector('#df-bf776dd7-17ca-4451-a5d2-44366205ec31 button.colab-df-convert');\n",
              "        buttonEl.style.display =\n",
              "          google.colab.kernel.accessAllowed ? 'block' : 'none';\n",
              "\n",
              "        async function convertToInteractive(key) {\n",
              "          const element = document.querySelector('#df-bf776dd7-17ca-4451-a5d2-44366205ec31');\n",
              "          const dataTable =\n",
              "            await google.colab.kernel.invokeFunction('convertToInteractive',\n",
              "                                                     [key], {});\n",
              "          if (!dataTable) return;\n",
              "\n",
              "          const docLinkHtml = 'Like what you see? Visit the ' +\n",
              "            '<a target=\"_blank\" href=https://colab.research.google.com/notebooks/data_table.ipynb>data table notebook</a>'\n",
              "            + ' to learn more about interactive tables.';\n",
              "          element.innerHTML = '';\n",
              "          dataTable['output_type'] = 'display_data';\n",
              "          await google.colab.output.renderOutput(dataTable, element);\n",
              "          const docLink = document.createElement('div');\n",
              "          docLink.innerHTML = docLinkHtml;\n",
              "          element.appendChild(docLink);\n",
              "        }\n",
              "      </script>\n",
              "    </div>\n",
              "  </div>\n",
              "  "
            ]
          },
          "metadata": {},
          "execution_count": 46
        }
      ],
      "source": [
        "# Создадим выборку имеющихся записей класса ОграниченноГоден\n",
        "df_limited = dffix4[dffix4['ЗаключениеМК'].isin(['ОграниченноГоден'])]\n",
        "df_limited = df_limited.reset_index(drop=True)\n",
        "df_limited"
      ]
    },
    {
      "cell_type": "code",
      "execution_count": 47,
      "metadata": {
        "colab": {
          "base_uri": "https://localhost:8080/"
        },
        "id": "bkEm_bzZ1gJg",
        "outputId": "f929c7d6-9992-4c15-f484-2c9a2ba59954"
      },
      "outputs": [
        {
          "output_type": "stream",
          "name": "stdout",
          "text": [
            "4.2.5                 14\n",
            "11.1                   7\n",
            "9                      6\n",
            "15                     5\n",
            "5.1                    4\n",
            "                      ..\n",
            "1.50,3.1.8.2           1\n",
            "1.49,5.1               1\n",
            "1.30.1,4.4,6.1,6.2     1\n",
            "5.1,6.1,6.2            1\n",
            "6.1,6.2,4.4,9          1\n",
            "Name: Вредность, Length: 76, dtype: int64\n",
            "76\n"
          ]
        }
      ],
      "source": [
        "# Выведем записи Вредности для выборкии обратим внимание что часть записей имеет список Вредностей\n",
        "print(df_limited.Вредность.value_counts())\n",
        "print(df_limited['Вредность'].nunique())"
      ]
    },
    {
      "cell_type": "code",
      "execution_count": 48,
      "metadata": {
        "colab": {
          "base_uri": "https://localhost:8080/"
        },
        "id": "i5r7DqMK1gJj",
        "outputId": "23368f30-be8b-466c-ea1f-e34900395ffa"
      },
      "outputs": [
        {
          "output_type": "stream",
          "name": "stdout",
          "text": [
            "['4.2.5', '11.1', '5.1,6.1,6.2', '5.1', '6.1,6.2', '1.34.1,1.19.1,1.14.2,1.50,1.37.1,1.8.1.1,1.8.2.1', '1.50,1.34.1,1.37.1', '1.34.1,1.37.1,1.50', '1.8.1.1,1.50', '1.1,1.8.1.1,1.8.1.2,1.14.2,1.18.3,1.19.1,1.29.1,1.29.2,1.30.1,1.36.1,1.37.1.1,1.34.1,1.50', '1.1,1.8.1.1,1.8.1.2,1.14.2,1.18.3,1.19.1,1.29.1,1.29.2,1.30.1,1.36.1,1.37.1,1.34.1,1.50', '1.14.2,1.29.2,1.29.4,1.30.1,1.34.1,1.36.1,1.37.1,1.50', '1.1,1.8.1.1,1.8.1.2,1.14.2,1.18.3,1.19.1,1.29.1,1.29.2,1.30.1,1.34.1,1.36.1,1.50,1.37.1', '1.14.1,1.50', '1.14.2,1.29.2,1.29.4,1.30.1,1.34.1,1.36.1,1.37.1', '6.1,9,15', '11.1,4.2.5', '1.29.2,4.2.5,4.4,4.7,4.1,11.1,6.2', '15', '4.4,5.1,6.1,15', '1.29.2,4.1,4.3.2,11.1,17,18.2,11.4', '4.2.5,11.1,11.4', '4.2.3,4.5', '6.2,1.14.2,1.37.1.1,1.3', '1.29.2,1.29.4,1.30.1,1.34.1,1.36.1,1.37.1,1.50,1.14.2', '4.4,5.1,15', '4.1,4.1', '4.1,4.7,4.8,5.1,4.1,4.7,4.8,5.1', '1.1,1.8.1.1,1.36.1', '1.1,1.8.1.1', '1.1,1.8.1.1,1.34.1', '1.50,3.1.2,4.3.1,15', '1.14.2,1.29.1,1.37.1,1.50', '4.4,15', '1.50,3.1.8.2', '1.49,5.1', '1.30.1,4.4,6.1,6.2', '3.1.8.3,4.4,15,3.1.8.3,4.4,15', '9', '4.4', '6.1,9,18.1', '1.30.1,3.1.8.1', '1.30.1,1.50,4.4,6.1,6.2,18.1', '1.50,3.4,4.4,5.1', '1.50,4.3.1,4.3.2,4.4,4.7,4.9,5.1,11.1,18.2', '1.1,1.39,4.4,15', '4.2.5,23', '4.2.5,4.4,12,13,6.1', '6,6.1,9,6,6.1,9', '18.1,23', '1.1,4.2.5', '27,4.2.5,4.4', '4.1,5.1,6.1,11.1', '4.2.5,4.2.5', '1.50,4.3.2,4.4,18.1', '1.1,4.2.5,4.4', '18.1,18.2,23', '6.1,9', '1.1,1.30.1,1.36.1', '3.1.2,4.3.1,4.4,5.1,6.2,11.4', '4.1,6.1,11.1', '4.1', '8,11.1,11.4,18,18.2', '6,11.1', '4.2.5,18.1,23', '23', '4.2.5,4.3.1,4.4,4.7,4.8,4.9,5.1,6,9', '4.2.5,4.4', '1.50,4.3.1,15', '5.1,11.1,23,11.4', '4.4,11.1,13,11.4', '5.1,5.1', '23,15,4.4,5.1', '4.2.5,6,14,11.3,11.4', '4.4,6.1', '6.1,6.2,4.4,9']\n",
            "{'4.2.5': [['II', 'IIIа'], ['Общий медицинский осмотр,Миопия,Общий медицинский осмотр,Общий медицинский осмотр', 'Общий медицинский осмотр,Миопия,Общий медицинский осмотр,Общий медицинский осмотр,Общий медицинский осмотр,Общий медицинский осмотр', 'Общий медицинский осмотр,Миопия,Общий медицинский осмотр,Общий медицинский осмотр,Общий медицинский осмотр,Гипертензивная [гипертоническая] болезнь с преимущественным поражением сердца без (застойной) сердечной недостаточности', 'Общий медицинский осмотр,Первичная открытоугольная глаукома,Общий медицинский осмотр,Общий медицинский осмотр,Общий медицинский осмотр,Общий медицинский осмотр,Миопия', 'Общий медицинский осмотр,Астигматизм,Общий медицинский осмотр,Общий медицинский осмотр,Общий медицинский осмотр,Общий медицинский осмотр', 'Миопия,Общий медицинский осмотр,Общий медицинский осмотр,Общий медицинский осмотр,Общий медицинский осмотр', 'Гиперметропия,Общий медицинский осмотр,Общий медицинский осмотр,Гипертензивная [гипертоническая] болезнь с преимущественным поражением сердца без (застойной) сердечной недостаточности'], ['Допуск с ношением средств оптической коррекции зрения', 'Использование средств оптической коррекции зрения', 'Допуск с ношением средств оптической коррекции зрения,Наблюдение офтальмолога по мж,набдюдение по месту жительства ', 'Наблюдение офтальмолога по мж', 'Допуск с ношением средств оптической коррекции зрения,набдюдение по месту жительства ', '']], '11.1': [['II', 'IIIа', 'IIIб'], ['Астигматизм,Общий медицинский осмотр,Общий медицинский осмотр,Общий медицинский осмотр,Общий медицинский осмотр,Общий медицинский осмотр', 'Миопия,Общий медицинский осмотр,Общий медицинский осмотр,Общий медицинский осмотр,Общий медицинский осмотр,Общий медицинский осмотр', 'Общий медицинский осмотр,Миопия,Общий медицинский осмотр,Общий медицинский осмотр,Общий медицинский осмотр,Общий медицинский осмотр,Общий медицинский осмотр', 'Общий медицинский осмотр,Миопия,Общий медицинский осмотр,Другие гастриты,Общий медицинский осмотр', 'Общий медицинский осмотр,Гиперметропия,Пресбиакузис,Общий медицинский осмотр,Общий медицинский осмотр,Другие хронические панкреатиты,Общий медицинский осмотр'], ['Использование средств оптической коррекции зрения,Полип желчного пузыря.', 'Использование средств оптической коррекции зрения,Эхопатологии на момент осмотра не выявлено ', 'Использование средств оптической коррекции зрения', 'УЗ - признаки диффузных изменений паренхимы печени и поджелудочной железы. Умеренная гепатомегалия. Полипы ЖП.', 'Использование средств оптической коррекции зрения,Диф. изменения паренхимы печени и ПЖ.']], '5.1,6.1,6.2': [['II'], ['Общий медицинский осмотр,Миопия,Общий медицинский осмотр,Общий медицинский осмотр,Общий медицинский осмотр,Общий медицинский осмотр'], ['Допуск с ношением средств оптической коррекции зрения,УЗИ органов малого таза на 6-10 день м.ц.,Обследование и лечение гинеколога']], '5.1': [['II', 'IIIа'], ['Общий медицинский осмотр,Гиперметропия,Общий медицинский осмотр,Общий медицинский осмотр', 'Общий медицинский осмотр,Миопия,Общий медицинский осмотр,Общий медицинский осмотр,Общий медицинский осмотр', 'Общий медицинский осмотр,Миопия,Общий медицинский осмотр,Гипертензивная [гипертоническая] болезнь с преимущественным поражением сердца без (застойной) сердечной недостаточности,Общий медицинский осмотр'], ['УЗИ органов малого таза на 6-10 день м.ц.,Обследование и лечение гинеколога,Фиброзная мастопатия', 'УЗИ органов малого таза на 6-10 день м.ц.,Обследование и лечение гинеколога', 'Наблюдение офтальмолога по мж', 'Допуск с ношением средств оптической коррекции зрения,Поддерживать уровень АД не выше 140/90 мм рт.ст. Подбор гипотензивных препаратов у терапевта по месту жительства']], '6.1,6.2': [['II'], ['Общий медицинский осмотр,Астигматизм,Общий медицинский осмотр,Общий медицинский осмотр,Общий медицинский осмотр,Общий медицинский осмотр'], ['']], '1.34.1,1.19.1,1.14.2,1.50,1.37.1,1.8.1.1,1.8.2.1': [['II'], ['Общий медицинский осмотр,Миопия,Общий медицинский осмотр,Общий медицинский осмотр,Общий медицинский осмотр,Общий медицинский осмотр,Общий медицинский осмотр'], ['Использование средств оптической коррекции зрения']], '1.50,1.34.1,1.37.1': [['II'], ['Общий медицинский осмотр,Общий медицинский осмотр,Общий медицинский осмотр,Общий медицинский осмотр,Общий медицинский осмотр,Общий медицинский осмотр,Миопия', 'Общий медицинский осмотр,Астигматизм,Общий медицинский осмотр,Общий медицинский осмотр,Общий медицинский осмотр,Общий медицинский осмотр,Общий медицинский осмотр'], ['УЗ - признаки диф. изменений паренхимы ПЖ.', 'Использование средств оптической коррекции зрения,Эхопатологии на момент осмотра не выявлено ']], '1.34.1,1.37.1,1.50': [['II'], ['Общий медицинский осмотр,Астигматизм,Общий медицинский осмотр,Общий медицинский осмотр,Общий медицинский осмотр,Общий медицинский осмотр'], ['Использование средств оптической коррекции зрения']], '1.8.1.1,1.50': [['II'], ['Общий медицинский осмотр,Миопия,Общий медицинский осмотр,Общий медицинский осмотр,Общий медицинский осмотр,Общий медицинский осмотр'], ['']], '1.1,1.8.1.1,1.8.1.2,1.14.2,1.18.3,1.19.1,1.29.1,1.29.2,1.30.1,1.36.1,1.37.1.1,1.34.1,1.50': [['II'], ['Общий медицинский осмотр,Астигматизм,Общий медицинский осмотр,Общий медицинский осмотр,Общий медицинский осмотр'], ['Использование средств оптической коррекции зрения,УЗИ органов малого таза на 6-10 день м.ц.,Обследование и лечение гинеколога']], '1.1,1.8.1.1,1.8.1.2,1.14.2,1.18.3,1.19.1,1.29.1,1.29.2,1.30.1,1.36.1,1.37.1,1.34.1,1.50': [['II'], ['Общий медицинский осмотр,Астигматизм,Общий медицинский осмотр,Фиброаденоз молочной железы,Общий медицинский осмотр,Общий медицинский осмотр,Общий медицинский осмотр'], ['Использование средств оптической коррекции зрения,Консультация маммолога,Эхопатологии на момент осмотра не выявлено. ']], '1.14.2,1.29.2,1.29.4,1.30.1,1.34.1,1.36.1,1.37.1,1.50': [['II'], ['Миопия,Общий медицинский осмотр,Общий медицинский осмотр,Общий медицинский осмотр,Общий медицинский осмотр,Общий медицинский осмотр'], ['Использование средств оптической коррекции зрения']], '1.1,1.8.1.1,1.8.1.2,1.14.2,1.18.3,1.19.1,1.29.1,1.29.2,1.30.1,1.34.1,1.36.1,1.50,1.37.1': [['II'], ['Общий медицинский осмотр,Миопия,Общий медицинский осмотр,Эндометриоз матки,Общий медицинский осмотр,Общий медицинский осмотр,Общий медицинский осмотр'], ['Использование средств оптической коррекции зрения,УЗИ органов малого таза на 6-10 день м.ц.,Обследование и лечение гинеколога,УЗИ 08.08.2022 Диф. изменения паренхимы ПЖ.']], '1.14.1,1.50': [['II'], ['Общий медицинский осмотр,Миопия,Общий медицинский осмотр,Лейомиома матки,Общий медицинский осмотр,Общий медицинский осмотр,Общий медицинский осмотр'], ['Использование средств оптической коррекции зрения,Осмотр глазного дна 1 р/год,УЗИ органов малого таза на 6-10 день м.ц.,Обследование и лечение гинеколога,Диф. изменения паренхимы ПЖ.']], '1.14.2,1.29.2,1.29.4,1.30.1,1.34.1,1.36.1,1.37.1': [['IIIа'], ['Общий медицинский осмотр,Миопия,Общий медицинский осмотр,Общий медицинский осмотр,Общий медицинский осмотр,Вегетативная невропатия при эндокринных и метаболических болезнях'], ['Использование средств оптической коррекции зрения,Наблюдение офтальмолога по мж,В-ся затруднена (выраженное метеоризм), ПЖ в-ся фрагментарно. Диф. изменения паренхимы печени и ПЖ. Гепатомегалия.']], '6.1,9,15': [['IIIа'], ['Общий медицинский осмотр,Общий медицинский осмотр,Общий медицинский осмотр,Другие наследственные спинальные мышечные атрофии,Общий медицинский осмотр,Общий медицинский осмотр'], ['']], '11.1,4.2.5': [['IIIб'], ['Общий медицинский осмотр,Астигматизм,Общий медицинский осмотр,Общий медицинский осмотр,Общий медицинский осмотр,Общий медицинский осмотр,Общий медицинский осмотр,Холецистит неуточненный,Общий медицинский осмотр'], ['Использование средств оптической коррекции зрения,Пациент не подготовлен (поел), ПЖ в-ся фрагментарно. Диф. изменения паренхимы ПЖ.']], '1.29.2,4.2.5,4.4,4.7,4.1,11.1,6.2': [['IIIб'], ['Общий медицинский осмотр,Миопия,Общий медицинский осмотр,Общий медицинский осмотр,Общий медицинский осмотр,Общий медицинский осмотр,Хронический поверхностный гастрит,Общий медицинский осмотр'], ['Использование средств оптической коррекции зрения,Диф. изменения паренхимы ПЖ.']], '15': [['IIIа', 'II'], ['Общий медицинский осмотр,Гиперметропия,Пресбиакузис,Общий медицинский осмотр,Гипертензивная [гипертоническая] болезнь с преимущественным поражением сердца без (застойной) сердечной недостаточности', 'Миопия,Общий медицинский осмотр,Общий медицинский осмотр,Общий медицинский осмотр', 'Тремор неуточненный,Астигматизм,Общий медицинский осмотр,Общий медицинский осмотр,Общий медицинский осмотр', 'Общий медицинский осмотр,Миопия,Общий медицинский осмотр,Общий медицинский осмотр,Общий медицинский осмотр'], ['Допуск с ношением средств оптической коррекции зрения']], '4.4,5.1,6.1,15': [['II'], ['Общий медицинский осмотр,Миопия,Общий медицинский осмотр,Общий медицинский осмотр,Общий медицинский осмотр,Общий медицинский осмотр', 'Общий медицинский осмотр,Астигматизм,Общий медицинский осмотр,Общий медицинский осмотр,Общий медицинский осмотр,Общий медицинский осмотр'], ['', 'Допуск с ношением средств оптической коррекции зрения']], '1.29.2,4.1,4.3.2,11.1,17,18.2,11.4': [['II'], ['Общий медицинский осмотр,Гиперметропия,Общий медицинский осмотр,Общий медицинский осмотр,Общий медицинский осмотр,Общий медицинский осмотр,Общий медицинский осмотр,Общий медицинский осмотр'], ['Допуск с ношением средств оптической коррекции зрения,Осмотр после ФГДС, ПЖ в-ся фрагментарно. Диф. изменения паренхимы ПЖ.']], '4.2.5,11.1,11.4': [['II'], ['Общий медицинский осмотр,Астигматизм,Общий медицинский осмотр,Общий медицинский осмотр,Общий медицинский осмотр,Общий медицинский осмотр,Общий медицинский осмотр'], ['Использование средств оптической коррекции зрения,Осмотр глазного дна 1 р/год,Пациент не подготовлен (поел), ЖП полусокращен. Диф. изменения паренхимы ПЖ.']], '4.2.3,4.5': [['II'], ['Общий медицинский осмотр,Гиперметропия,Общий медицинский осмотр,Общий медицинский осмотр,Общий медицинский осмотр,Общий медицинский осмотр,Общий медицинский осмотр'], ['Использование средств оптической коррекции зрения']], '6.2,1.14.2,1.37.1.1,1.3': [['II'], ['Общий медицинский осмотр,Миопия,Общий медицинский осмотр,Общий медицинский осмотр,Общий медицинский осмотр,Общий медицинский осмотр,Общий медицинский осмотр,Общий медицинский осмотр'], ['Диспансерное наблюдение гинеколога']], '1.29.2,1.29.4,1.30.1,1.34.1,1.36.1,1.37.1,1.50,1.14.2': [['II'], ['Общий медицинский осмотр,Миопия,Общий медицинский осмотр,Общий медицинский осмотр,Общий медицинский осмотр,Общий медицинский осмотр,Общий медицинский осмотр'], ['Эхопатологии на момент осмотра не выявлено ']], '4.4,5.1,15': [['II'], ['Общий медицинский осмотр,Гиперметропия,Общий медицинский осмотр,Общий медицинский осмотр,Общий медицинский осмотр,Общий медицинский осмотр'], ['Допуск с ношением средств оптической коррекции зрения']], '4.1,4.1': [['II'], ['Общий медицинский осмотр,Миопия,Общий медицинский осмотр,Общий медицинский осмотр,Общий медицинский осмотр,Миопия,Общий медицинский осмотр'], ['Допуск с ношением средств оптической коррекции зрения,Без особенностей.']], '4.1,4.7,4.8,5.1,4.1,4.7,4.8,5.1': [['IIIа'], ['Общий медицинский осмотр,Последствия травм, захватывающих несколько областей тела,Общий медицинский осмотр,Общий медицинский осмотр,Гипертензивная [гипертоническая] болезнь с преимущественным поражением сердца без (застойной) сердечной недостаточности,Общий медицинский осмотр,Последствия травм, захватывающих несколько областей тела,Гипертензивная [гипертоническая] болезнь с преимущественным поражением сердца без (застойной) сердечной недостаточности'], ['Допуск с ношением средств оптической коррекции зрения,набдюдение по месту жительства ,Диффузные изменения паренхимы поджелудочной железы.,Поддерживать уровень АД не выше 140/90 мм рт.ст. Подбор гипотензивных препаратов у терапевта по месту жительства']], '1.1,1.8.1.1,1.36.1': [['II'], ['Гиперметропия,Общий медицинский осмотр,Общий медицинский осмотр,Общий медицинский осмотр,Общий медицинский осмотр,Общий медицинский осмотр'], ['Наблюдение офтальмолога по мж']], '1.1,1.8.1.1': [['II'], ['Миопия,Общий медицинский осмотр,Общий медицинский осмотр,Общий медицинский осмотр,Общий медицинский осмотр,Общий медицинский осмотр'], ['Наблюдение офтальмолога по мж']], '1.1,1.8.1.1,1.34.1': [['II'], ['Общий медицинский осмотр,Миопия,Общий медицинский осмотр,Общий медицинский осмотр,Общий медицинский осмотр,Общий медицинский осмотр'], ['Наблюдение офтальмолога по мж']], '1.50,3.1.2,4.3.1,15': [['II'], ['Общий медицинский осмотр,Миопия,Общий медицинский осмотр,Общий медицинский осмотр,Общий медицинский осмотр,Общий медицинский осмотр,Общий медицинский осмотр'], ['Наблюдение офтальмолога по мж']], '1.14.2,1.29.1,1.37.1,1.50': [['II'], ['Общий медицинский осмотр,Миопия,Общий медицинский осмотр,Общий медицинский осмотр,Общий медицинский осмотр,Общий медицинский осмотр,Общий медицинский осмотр'], ['Использование средств оптической коррекции зрения,Эхопатологии на момент осмотра не выявлено ']], '4.4,15': [['IIIа'], ['Общий медицинский осмотр,Миопия,Общий медицинский осмотр,Общий медицинский осмотр,Гипертензивная [гипертоническая] болезнь с преимущественным поражением сердца без (застойной) сердечной недостаточности'], ['Допуск с ношением средств оптической коррекции зрения,набдюдение по месту жительства ']], '1.50,3.1.8.2': [['II'], ['Общий медицинский осмотр,Астигматизм,Общий медицинский осмотр,Общий медицинский осмотр,Общий медицинский осмотр'], ['Использование средств оптической коррекции зрения,Диф. изменения паренхимы ПЖ. \\r\\n']], '1.49,5.1': [['II'], ['Общий медицинский осмотр,Миопия,Общий медицинский осмотр,Общий медицинский осмотр,Общий медицинский осмотр,Общий медицинский осмотр,Общий медицинский осмотр'], ['Использование средств оптической коррекции зрения']], '1.30.1,4.4,6.1,6.2': [['IIIа'], ['Общий медицинский осмотр,Миопия,Общий медицинский осмотр,Общий медицинский осмотр,Общий медицинский осмотр,Общий медицинский осмотр,Гипертензивная [гипертоническая] болезнь с преимущественным поражением сердца без (застойной) сердечной недостаточности'], ['Допуск с ношением средств оптической коррекции зрения']], '3.1.8.3,4.4,15,3.1.8.3,4.4,15': [['II'], ['Общий медицинский осмотр,Начальная старческая катаракта,Общий медицинский осмотр,Общий медицинский осмотр,Общий медицинский осмотр,Общий медицинский осмотр,Начальная старческая катаракта,Общий медицинский осмотр'], ['Допуск с ношением средств оптической коррекции зрения']], '9': [['II'], ['Общий медицинский осмотр,Миопия,Общий медицинский осмотр,Общий медицинский осмотр,Общий медицинский осмотр', 'Общий медицинский осмотр,Миопия,Общий медицинский осмотр,Общий медицинский осмотр,Общий медицинский осмотр,Общий медицинский осмотр', 'Общий медицинский осмотр,Общий медицинский осмотр,Общий медицинский осмотр,Общий медицинский осмотр'], ['Допуск с ношением средств оптической коррекции зрения', '']], '4.4': [['II'], ['Общий медицинский осмотр,Общий медицинский осмотр,Общий медицинский осмотр,Общий медицинский осмотр'], ['']], '6.1,9,18.1': [['II'], ['Общий медицинский осмотр,Миопия,Общий медицинский осмотр,Общий медицинский осмотр,Общий медицинский осмотр,Общий медицинский осмотр'], ['Допуск с ношением средств оптической коррекции зрения']], '1.30.1,3.1.8.1': [['II'], ['Общий медицинский осмотр,Миопия,Общий медицинский осмотр,Общий медицинский осмотр,Общий медицинский осмотр', 'Общий медицинский осмотр,Миопия,Общий медицинский осмотр,Общий медицинский осмотр,Общий медицинский осмотр,Общий медицинский осмотр,Общий медицинский осмотр,Общий медицинский осмотр', 'Миопия,Общий медицинский осмотр,Общий медицинский осмотр,Общий медицинский осмотр,Общий медицинский осмотр,Общий медицинский осмотр'], ['Использование средств оптической коррекции зрения', 'Наблюдение офтальмолога по мж']], '1.30.1,1.50,4.4,6.1,6.2,18.1': [['II'], ['Общий медицинский осмотр,Астигматизм,Общий медицинский осмотр,Общий медицинский осмотр,Общий медицинский осмотр,Общий медицинский осмотр', 'Общий медицинский осмотр,Миопия,Общий медицинский осмотр,Общий медицинский осмотр,Общий медицинский осмотр,Общий медицинский осмотр,Общий медицинский осмотр,Астигматизм', 'Общий медицинский осмотр,Гиперметропия,Общий медицинский осмотр,Общий медицинский осмотр,Общий медицинский осмотр,Общий медицинский осмотр,Астигматизм', 'Миопия,Общий медицинский осмотр,Общий медицинский осмотр,Общий медицинский осмотр'], ['Допуск с ношением средств оптической коррекции зрения,Диффузные изменения паренхимы печени, паренхимы поджелудочной железы. Метеоризм.', 'Допуск с ношением средств оптической коррекции зрения']], '1.50,3.4,4.4,5.1': [['IIIа', 'II'], ['Общий медицинский осмотр,Астигматизм,Общий медицинский осмотр,Общий медицинский осмотр,Общий медицинский осмотр,Гипертензивная [гипертоническая] болезнь с преимущественным поражением сердца без (застойной) сердечной недостаточности,Общий медицинский осмотр', 'Общий медицинский осмотр,Астигматизм,Общий медицинский осмотр,Общий медицинский осмотр,Общий медицинский осмотр,Общий медицинский осмотр,Общий медицинский осмотр'], ['Допуск с ношением средств оптической коррекции зрения,Осмотр глазного дна 1 р/год', 'Использование средств оптической коррекции зрения']], '1.50,4.3.1,4.3.2,4.4,4.7,4.9,5.1,11.1,18.2': [['II'], ['Общий медицинский осмотр,Миопия,Общий медицинский осмотр,Общий медицинский осмотр,Общий медицинский осмотр,Общий медицинский осмотр,Общий медицинский осмотр,Астигматизм'], ['Допуск с ношением средств оптической коррекции зрения']], '1.1,1.39,4.4,15': [['IIIа'], ['Тремор неуточненный,Гиперметропия,Общий медицинский осмотр,Общий медицинский осмотр,Общий медицинский осмотр,Гипертензивная [гипертоническая] болезнь с преимущественным поражением сердца без (застойной) сердечной недостаточности'], ['Допуск с ношением средств оптической коррекции зрения']], '4.2.5,23': [['II'], ['Общий медицинский осмотр,Миопия,Общий медицинский осмотр,Общий медицинский осмотр,Общий медицинский осмотр,Общий медицинский осмотр'], ['Допуск с ношением средств оптической коррекции зрения']], '4.2.5,4.4,12,13,6.1': [['IIIа'], ['Общий медицинский осмотр,Миопия,Общий медицинский осмотр,Общий медицинский осмотр,Общий медицинский осмотр,Гипертензивная [гипертоническая] болезнь с преимущественным поражением сердца без (застойной) сердечной недостаточности,Общий медицинский осмотр'], ['Консультация стоматолога-хирурга,набдюдение по месту жительства ']], '6,6.1,9,6,6.1,9': [['II'], ['Общий медицинский осмотр,Миопия,Общий медицинский осмотр,Общий медицинский осмотр,Общий медицинский осмотр,Миопия,Общий медицинский осмотр'], ['Допуск с ношением средств оптической коррекции зрения']], '18.1,23': [['II'], ['Общий медицинский осмотр,Миопия,Общий медицинский осмотр,Общий медицинский осмотр,Общий медицинский осмотр,Общий медицинский осмотр,Общий медицинский осмотр', 'Общий медицинский осмотр,Атрофия зрительного нерва,Общий медицинский осмотр,Общий медицинский осмотр,Общий медицинский осмотр,Общий медицинский осмотр,Общий медицинский осмотр,Миопия'], ['Допуск с ношением средств оптической коррекции зрения']], '1.1,4.2.5': [['II'], ['Общий медицинский осмотр,Начальная старческая катаракта,Общий медицинский осмотр,Общий медицинский осмотр,Общий медицинский осмотр,Общий медицинский осмотр,Общий медицинский осмотр,Миопия'], ['Использование средств оптической коррекции зрения,Обследование и лечение офтальмолога']], '27,4.2.5,4.4': [['II'], ['Общий медицинский осмотр,Блефарит,Общий медицинский осмотр,Общий медицинский осмотр,Общий медицинский осмотр,Общий медицинский осмотр,Общий медицинский осмотр,Астигматизм'], ['Использование средств оптической коррекции зрения,Наблюдение офтальмолога по мж,Выраженный метеоризм. Диф. изменения паренхимы печени и ПЖ. Гепатомегалия.']], '4.1,5.1,6.1,11.1': [['IIIа'], ['Миопия,Общий медицинский осмотр,Общий медицинский осмотр,Общий медицинский осмотр,Общий медицинский осмотр,Общий медицинский осмотр,Общий медицинский осмотр,Гипертензивная [гипертоническая] болезнь с преимущественным поражением сердца без (застойной) сердечной недостаточности'], ['Наблюдение офтальмолога по мж,Осмотр после ФГДС, ПЖ в-ся фрагментарно. Диф. изменения паренхимы ПЖ.']], '4.2.5,4.2.5': [['II'], ['Миопия,Общий медицинский осмотр,Общий медицинский осмотр,Общий медицинский осмотр,Миопия,Общий медицинский осмотр', 'Миопия,Общий медицинский осмотр,Общий медицинский осмотр,Общий медицинский осмотр,Общий медицинский осмотр,Миопия,Общий медицинский осмотр'], ['Допуск с ношением средств оптической коррекции зрения']], '1.50,4.3.2,4.4,18.1': [['II'], ['Миопия,Общий медицинский осмотр,Общий медицинский осмотр,Общий медицинский осмотр,Общий медицинский осмотр,Общий медицинский осмотр'], ['Допуск с ношением средств оптической коррекции зрения,Пациент не подготовлен (поел). ЖП полусокращен, ПЖ в-ся фрагментарно. Диф. изменения паренхимы ПЖ.\\r\\nРекомендовано: УЗИ ОБП после подготовки.']], '1.1,4.2.5,4.4': [['II'], ['Общий медицинский осмотр,Миопия,Общий медицинский осмотр,Общий медицинский осмотр,Общий медицинский осмотр,Общий медицинский осмотр', 'Общий медицинский осмотр,Миопия,Общий медицинский осмотр,Общий медицинский осмотр,Общий медицинский осмотр,Общий медицинский осмотр,Общий медицинский осмотр'], ['Использование средств оптической коррекции зрения']], '18.1,18.2,23': [['II'], ['Общий медицинский осмотр,Миопия,Общий медицинский осмотр,Общий медицинский осмотр,Общий медицинский осмотр,Общий медицинский осмотр,Общий медицинский осмотр'], ['Использование средств оптической коррекции зрения']], '6.1,9': [['IIIа'], ['Миопия,Общий медицинский осмотр,Общий медицинский осмотр,Общий медицинский осмотр,Общий медицинский осмотр,Гипертензивная [гипертоническая] болезнь с преимущественным поражением сердца без (застойной) сердечной недостаточности'], ['Допуск с ношением средств оптической коррекции зрения']], '1.1,1.30.1,1.36.1': [['II'], ['Общий медицинский осмотр,Общий медицинский осмотр,Общий медицинский осмотр,Общий медицинский осмотр,Другие гастриты,Миопия'], ['Диф. изменения паренхимы ПЖ.']], '3.1.2,4.3.1,4.4,5.1,6.2,11.4': [['IIIа'], ['Гиперметропия,Общий медицинский осмотр,Общий медицинский осмотр,Общий медицинский осмотр,Общий медицинский осмотр,Гипертензивная [гипертоническая] болезнь с преимущественным поражением сердца без (застойной) сердечной недостаточности,Общий медицинский осмотр'], ['Допуск с ношением средств оптической коррекции зрения,Метеоризм. Диф. изменения паренхимы печени и ПЖ.']], '4.1,6.1,11.1': [['II'], ['Общий медицинский осмотр,Общий медицинский осмотр,Общий медицинский осмотр,Общий медицинский осмотр,Общий медицинский осмотр,Общий медицинский осмотр'], ['Осмотр после ФГДС, ПЖ в-ся фрагментарно. Диф. изменения паренхимы печени и ПЖ. Гепатомегалия.']], '4.1': [['II'], ['Общий медицинский осмотр,Общий медицинский осмотр,Общий медицинский осмотр,Общий медицинский осмотр'], ['Метеоризм. Диф. изменения паренхимы печени и ПЖ. В правой доле печени S6 в-ся анэхогенное образование 13х10 мм с четким неровным контуром, без кровотока (киста?)']], '8,11.1,11.4,18,18.2': [['II'], ['Общий медицинский осмотр,Гиперметропия,Общий медицинский осмотр,Общий медицинский осмотр,Общий медицинский осмотр,Общий медицинский осмотр,Общий медицинский осмотр'], ['Допуск с ношением средств оптической коррекции зрения,Осмотр затруднен (выраженный метеоризм, не подготовлен), ПЖ в-ся фрагментарно. Диф. изменения паренхимы печени и ПЖ. Гепатомегалия.']], '6,11.1': [['II'], ['Общий медицинский осмотр,Общий медицинский осмотр,Общий медицинский осмотр,Общий медицинский осмотр,Общий медицинский осмотр,Общий медицинский осмотр'], ['Выраженный метеоризм, ПЖ в-ся фрагментарно. Диф. изменения паренхимы печени и ПЖ. Гепатомегалия. В ЖП в-ся гиперэхогенное образование 16,5 мм с акустической тенью, подвижное при перемене положения тела (холецистолитиаз).']], '4.2.5,18.1,23': [['II'], ['Общий медицинский осмотр,Миопия,Общий медицинский осмотр,Общий медицинский осмотр,Общий медицинский осмотр,Общий медицинский осмотр,Общий медицинский осмотр'], ['Допуск с ношением средств оптической коррекции зрения']], '23': [['II'], ['Общий медицинский осмотр,Общий медицинский осмотр,Миопия,Общий медицинский осмотр,Общий медицинский осмотр,Общий медицинский осмотр'], ['Консультация стоматолога-хирурга']], '4.2.5,4.3.1,4.4,4.7,4.8,4.9,5.1,6,9': [['II'], ['Общий медицинский осмотр,Миопия,Общий медицинский осмотр,Общий медицинский осмотр,Общий медицинский осмотр,Общий медицинский осмотр,Общий медицинский осмотр'], ['Допуск с ношением средств оптической коррекции зрения']], '4.2.5,4.4': [['II'], ['Общий медицинский осмотр,Гиперметропия,Общий медицинский осмотр,Общий медицинский осмотр,Общий медицинский осмотр,Общий медицинский осмотр,Общий медицинский осмотр'], ['Использование средств оптической коррекции зрения']], '1.50,4.3.1,15': [['IIIа'], ['Общий медицинский осмотр,Астигматизм,Общий медицинский осмотр,Общий медицинский осмотр,Общий медицинский осмотр,Гипертензивная [гипертоническая] болезнь с преимущественным поражением сердца без (застойной) сердечной недостаточности,Общий медицинский осмотр'], ['Наблюдение офтальмолога по мж,набдюдение по месту жительства ']], '5.1,11.1,23,11.4': [['II'], ['Общий медицинский осмотр,Общий медицинский осмотр,Общий медицинский осмотр,Общий медицинский осмотр,Общий медицинский осмотр,Общий медицинский осмотр,Общий медицинский осмотр,Общий медицинский осмотр'], ['ЖП удален. Без патологии.']], '4.4,11.1,13,11.4': [['IIIа'], ['Общий медицинский осмотр,Общий медицинский осмотр,Миопия,Общий медицинский осмотр,Язва двенадцатиперстной кишки хроническая без кровотечения или прободения,Общий медицинский осмотр'], ['Диф. изменения паренхимы ПЖ.']], '5.1,5.1': [['II'], ['Общий медицинский осмотр,Атрофия зрительного нерва,Общий медицинский осмотр,Общий медицинский осмотр,Общий медицинский осмотр,Атрофия зрительного нерва,Общий медицинский осмотр'], ['Допуск с ношением средств оптической коррекции зрения']], '23,15,4.4,5.1': [['IIIа'], ['Общий медицинский осмотр,Миопия,Общий медицинский осмотр,Общий медицинский осмотр,Общий медицинский осмотр,Общий медицинский осмотр,Общий медицинский осмотр,Варикозное расширение вен нижних конечностей без язвы или воспаления'], ['Наблюдение офтальмолога по мж']], '4.2.5,6,14,11.3,11.4': [['II'], ['Общий медицинский осмотр,Миопия,Общий медицинский осмотр,Общий медицинский осмотр,Общий медицинский осмотр,Общий медицинский осмотр,Общий медицинский осмотр,Общий медицинский осмотр'], ['Допуск с ношением средств оптической коррекции зрения,Пациент не подготовлен (поел). В желудке содержимое, ЖП сокращен, ПЖ не в-ся.\\r\\nРек-но: УЗИ ОБП после подготовки.']], '4.4,6.1': [['IIIа'], ['Общий медицинский осмотр,Астигматизм,Пресбиакузис,Общий медицинский осмотр,Гипертензивная [гипертоническая] болезнь с преимущественным поражением сердца без (застойной) сердечной недостаточности,Общий медицинский осмотр'], ['Использование средств оптической коррекции зрения']], '6.1,6.2,4.4,9': [['IIIа'], ['Общий медицинский осмотр,Миопия,Общий медицинский осмотр,Цереброваскулярная болезнь неуточненная,Гипертензивная [гипертоническая] болезнь с преимущественным поражением сердца без (застойной) сердечной недостаточности,Общий медицинский осмотр'], ['Допуск с ношением средств оптической коррекции зрения,Измерение внутриглазного давления']]}\n"
          ]
        }
      ],
      "source": [
        "# Создадим список вредностей соответствующих классу ОграниченноГоден\n",
        "list_of_harm = df_limited['Вредность'].unique().tolist()\n",
        "print (list_of_harm)\n",
        "\n",
        "# И словарь с ключами из этого списка\n",
        "promdict = dict.fromkeys(list_of_harm)\n",
        "\n",
        "for A in list_of_harm:\n",
        "  df1 = df_limited[df_limited['Вредность']==A]\n",
        "  list_of_diag = df1['Диагнозы'].unique().tolist()\n",
        "  list_of_gz = df1['ГруппаЗдоровья'].unique().tolist()\n",
        "  list_of_recom = df1['Рекомендации'].unique().tolist()\n",
        "  list_comb = [list_of_gz, list_of_diag, list_of_recom]\n",
        "  promdict[A]=list_comb\n",
        "\n",
        "print (promdict)"
      ]
    },
    {
      "cell_type": "code",
      "execution_count": 49,
      "metadata": {
        "colab": {
          "base_uri": "https://localhost:8080/"
        },
        "id": "LLLy6jUY4gTz",
        "outputId": "f5bf3329-2568-4696-b2b1-b1386c0371b8"
      },
      "outputs": [
        {
          "output_type": "stream",
          "name": "stdout",
          "text": [
            "{'4.2.5': [['II'], ['Общий медицинский осмотр,Миопия,Общий медицинский осмотр,Общий медицинский осмотр,Общий медицинский осмотр,Общий медицинский осмотр,Общий медицинский осмотр,Общий медицинский осмотр'], ['Допуск с ношением средств оптической коррекции зрения,Пациент не подготовлен (поел). В желудке содержимое, ЖП сокращен, ПЖ не в-ся.\\r\\nРек-но: УЗИ ОБП после подготовки.']], '11.1': [['IIIа'], ['Общий медицинский осмотр,Общий медицинский осмотр,Миопия,Общий медицинский осмотр,Язва двенадцатиперстной кишки хроническая без кровотечения или прободения,Общий медицинский осмотр'], ['Диф. изменения паренхимы ПЖ.']], '5.1': [['IIIа'], ['Общий медицинский осмотр,Миопия,Общий медицинский осмотр,Общий медицинский осмотр,Общий медицинский осмотр,Общий медицинский осмотр,Общий медицинский осмотр,Варикозное расширение вен нижних конечностей без язвы или воспаления'], ['Наблюдение офтальмолога по мж']], '6.1': [['IIIа'], ['Общий медицинский осмотр,Миопия,Общий медицинский осмотр,Цереброваскулярная болезнь неуточненная,Гипертензивная [гипертоническая] болезнь с преимущественным поражением сердца без (застойной) сердечной недостаточности,Общий медицинский осмотр'], ['Допуск с ношением средств оптической коррекции зрения,Измерение внутриглазного давления']], '6.2': [['IIIа'], ['Общий медицинский осмотр,Миопия,Общий медицинский осмотр,Цереброваскулярная болезнь неуточненная,Гипертензивная [гипертоническая] болезнь с преимущественным поражением сердца без (застойной) сердечной недостаточности,Общий медицинский осмотр'], ['Допуск с ношением средств оптической коррекции зрения,Измерение внутриглазного давления']], '1.34.1': [['II'], ['Общий медицинский осмотр,Миопия,Общий медицинский осмотр,Общий медицинский осмотр,Общий медицинский осмотр,Общий медицинский осмотр'], ['Наблюдение офтальмолога по мж']], '1.19.1': [['II'], ['Общий медицинский осмотр,Миопия,Общий медицинский осмотр,Эндометриоз матки,Общий медицинский осмотр,Общий медицинский осмотр,Общий медицинский осмотр'], ['Использование средств оптической коррекции зрения,УЗИ органов малого таза на 6-10 день м.ц.,Обследование и лечение гинеколога,УЗИ 08.08.2022 Диф. изменения паренхимы ПЖ.']], '1.14.2': [['II'], ['Общий медицинский осмотр,Миопия,Общий медицинский осмотр,Общий медицинский осмотр,Общий медицинский осмотр,Общий медицинский осмотр,Общий медицинский осмотр'], ['Использование средств оптической коррекции зрения,Эхопатологии на момент осмотра не выявлено ']], '1.50': [['IIIа'], ['Общий медицинский осмотр,Астигматизм,Общий медицинский осмотр,Общий медицинский осмотр,Общий медицинский осмотр,Гипертензивная [гипертоническая] болезнь с преимущественным поражением сердца без (застойной) сердечной недостаточности,Общий медицинский осмотр'], ['Наблюдение офтальмолога по мж,набдюдение по месту жительства ']], '1.37.1': [['II'], ['Общий медицинский осмотр,Миопия,Общий медицинский осмотр,Общий медицинский осмотр,Общий медицинский осмотр,Общий медицинский осмотр,Общий медицинский осмотр'], ['Использование средств оптической коррекции зрения,Эхопатологии на момент осмотра не выявлено ']], '1.8.1.1': [['II'], ['Общий медицинский осмотр,Миопия,Общий медицинский осмотр,Общий медицинский осмотр,Общий медицинский осмотр,Общий медицинский осмотр'], ['Наблюдение офтальмолога по мж']], '1.8.2.1': [['II'], ['Общий медицинский осмотр,Миопия,Общий медицинский осмотр,Общий медицинский осмотр,Общий медицинский осмотр,Общий медицинский осмотр,Общий медицинский осмотр'], ['Использование средств оптической коррекции зрения']], '1.1': [['II'], ['Общий медицинский осмотр,Общий медицинский осмотр,Общий медицинский осмотр,Общий медицинский осмотр,Другие гастриты,Миопия'], ['Диф. изменения паренхимы ПЖ.']], '1.8.1.2': [['II'], ['Общий медицинский осмотр,Миопия,Общий медицинский осмотр,Эндометриоз матки,Общий медицинский осмотр,Общий медицинский осмотр,Общий медицинский осмотр'], ['Использование средств оптической коррекции зрения,УЗИ органов малого таза на 6-10 день м.ц.,Обследование и лечение гинеколога,УЗИ 08.08.2022 Диф. изменения паренхимы ПЖ.']], '1.18.3': [['II'], ['Общий медицинский осмотр,Миопия,Общий медицинский осмотр,Эндометриоз матки,Общий медицинский осмотр,Общий медицинский осмотр,Общий медицинский осмотр'], ['Использование средств оптической коррекции зрения,УЗИ органов малого таза на 6-10 день м.ц.,Обследование и лечение гинеколога,УЗИ 08.08.2022 Диф. изменения паренхимы ПЖ.']], '1.29.1': [['II'], ['Общий медицинский осмотр,Миопия,Общий медицинский осмотр,Общий медицинский осмотр,Общий медицинский осмотр,Общий медицинский осмотр,Общий медицинский осмотр'], ['Использование средств оптической коррекции зрения,Эхопатологии на момент осмотра не выявлено ']], '1.29.2': [['II'], ['Общий медицинский осмотр,Миопия,Общий медицинский осмотр,Общий медицинский осмотр,Общий медицинский осмотр,Общий медицинский осмотр,Общий медицинский осмотр'], ['Эхопатологии на момент осмотра не выявлено ']], '1.30.1': [['II'], ['Общий медицинский осмотр,Общий медицинский осмотр,Общий медицинский осмотр,Общий медицинский осмотр,Другие гастриты,Миопия'], ['Диф. изменения паренхимы ПЖ.']], '1.36.1': [['II'], ['Общий медицинский осмотр,Общий медицинский осмотр,Общий медицинский осмотр,Общий медицинский осмотр,Другие гастриты,Миопия'], ['Диф. изменения паренхимы ПЖ.']], '1.37.1.1': [['II'], ['Общий медицинский осмотр,Миопия,Общий медицинский осмотр,Общий медицинский осмотр,Общий медицинский осмотр,Общий медицинский осмотр,Общий медицинский осмотр,Общий медицинский осмотр'], ['Диспансерное наблюдение гинеколога']], '1.29.4': [['II'], ['Общий медицинский осмотр,Миопия,Общий медицинский осмотр,Общий медицинский осмотр,Общий медицинский осмотр,Общий медицинский осмотр,Общий медицинский осмотр'], ['Эхопатологии на момент осмотра не выявлено ']], '1.14.1': [['II'], ['Общий медицинский осмотр,Миопия,Общий медицинский осмотр,Лейомиома матки,Общий медицинский осмотр,Общий медицинский осмотр,Общий медицинский осмотр'], ['Использование средств оптической коррекции зрения,Осмотр глазного дна 1 р/год,УЗИ органов малого таза на 6-10 день м.ц.,Обследование и лечение гинеколога,Диф. изменения паренхимы ПЖ.']], '9': [['IIIа'], ['Общий медицинский осмотр,Миопия,Общий медицинский осмотр,Цереброваскулярная болезнь неуточненная,Гипертензивная [гипертоническая] болезнь с преимущественным поражением сердца без (застойной) сердечной недостаточности,Общий медицинский осмотр'], ['Допуск с ношением средств оптической коррекции зрения,Измерение внутриглазного давления']], '15': [['IIIа'], ['Общий медицинский осмотр,Миопия,Общий медицинский осмотр,Общий медицинский осмотр,Общий медицинский осмотр,Общий медицинский осмотр,Общий медицинский осмотр,Варикозное расширение вен нижних конечностей без язвы или воспаления'], ['Наблюдение офтальмолога по мж']], '4.4': [['IIIа'], ['Общий медицинский осмотр,Миопия,Общий медицинский осмотр,Цереброваскулярная болезнь неуточненная,Гипертензивная [гипертоническая] болезнь с преимущественным поражением сердца без (застойной) сердечной недостаточности,Общий медицинский осмотр'], ['Допуск с ношением средств оптической коррекции зрения,Измерение внутриглазного давления']], '4.7': [['II'], ['Общий медицинский осмотр,Миопия,Общий медицинский осмотр,Общий медицинский осмотр,Общий медицинский осмотр,Общий медицинский осмотр,Общий медицинский осмотр'], ['Допуск с ношением средств оптической коррекции зрения']], '4.1': [['II'], ['Общий медицинский осмотр,Общий медицинский осмотр,Общий медицинский осмотр,Общий медицинский осмотр'], ['Метеоризм. Диф. изменения паренхимы печени и ПЖ. В правой доле печени S6 в-ся анэхогенное образование 13х10 мм с четким неровным контуром, без кровотока (киста?)']], '4.3.2': [['II'], ['Миопия,Общий медицинский осмотр,Общий медицинский осмотр,Общий медицинский осмотр,Общий медицинский осмотр,Общий медицинский осмотр'], ['Допуск с ношением средств оптической коррекции зрения,Пациент не подготовлен (поел). ЖП полусокращен, ПЖ в-ся фрагментарно. Диф. изменения паренхимы ПЖ.\\r\\nРекомендовано: УЗИ ОБП после подготовки.']], '17': [['II'], ['Общий медицинский осмотр,Гиперметропия,Общий медицинский осмотр,Общий медицинский осмотр,Общий медицинский осмотр,Общий медицинский осмотр,Общий медицинский осмотр,Общий медицинский осмотр'], ['Допуск с ношением средств оптической коррекции зрения,Осмотр после ФГДС, ПЖ в-ся фрагментарно. Диф. изменения паренхимы ПЖ.']], '18.2': [['II'], ['Общий медицинский осмотр,Гиперметропия,Общий медицинский осмотр,Общий медицинский осмотр,Общий медицинский осмотр,Общий медицинский осмотр,Общий медицинский осмотр'], ['Допуск с ношением средств оптической коррекции зрения,Осмотр затруднен (выраженный метеоризм, не подготовлен), ПЖ в-ся фрагментарно. Диф. изменения паренхимы печени и ПЖ. Гепатомегалия.']], '11.4': [['II'], ['Общий медицинский осмотр,Миопия,Общий медицинский осмотр,Общий медицинский осмотр,Общий медицинский осмотр,Общий медицинский осмотр,Общий медицинский осмотр,Общий медицинский осмотр'], ['Допуск с ношением средств оптической коррекции зрения,Пациент не подготовлен (поел). В желудке содержимое, ЖП сокращен, ПЖ не в-ся.\\r\\nРек-но: УЗИ ОБП после подготовки.']], '4.2.3': [['II'], ['Общий медицинский осмотр,Гиперметропия,Общий медицинский осмотр,Общий медицинский осмотр,Общий медицинский осмотр,Общий медицинский осмотр,Общий медицинский осмотр'], ['Использование средств оптической коррекции зрения']], '4.5': [['II'], ['Общий медицинский осмотр,Гиперметропия,Общий медицинский осмотр,Общий медицинский осмотр,Общий медицинский осмотр,Общий медицинский осмотр,Общий медицинский осмотр'], ['Использование средств оптической коррекции зрения']], '1.3': [['II'], ['Общий медицинский осмотр,Миопия,Общий медицинский осмотр,Общий медицинский осмотр,Общий медицинский осмотр,Общий медицинский осмотр,Общий медицинский осмотр,Общий медицинский осмотр'], ['Диспансерное наблюдение гинеколога']], '4.8': [['II'], ['Общий медицинский осмотр,Миопия,Общий медицинский осмотр,Общий медицинский осмотр,Общий медицинский осмотр,Общий медицинский осмотр,Общий медицинский осмотр'], ['Допуск с ношением средств оптической коррекции зрения']], '3.1.2': [['IIIа'], ['Гиперметропия,Общий медицинский осмотр,Общий медицинский осмотр,Общий медицинский осмотр,Общий медицинский осмотр,Гипертензивная [гипертоническая] болезнь с преимущественным поражением сердца без (застойной) сердечной недостаточности,Общий медицинский осмотр'], ['Допуск с ношением средств оптической коррекции зрения,Метеоризм. Диф. изменения паренхимы печени и ПЖ.']], '4.3.1': [['IIIа'], ['Общий медицинский осмотр,Астигматизм,Общий медицинский осмотр,Общий медицинский осмотр,Общий медицинский осмотр,Гипертензивная [гипертоническая] болезнь с преимущественным поражением сердца без (застойной) сердечной недостаточности,Общий медицинский осмотр'], ['Наблюдение офтальмолога по мж,набдюдение по месту жительства ']], '3.1.8.2': [['II'], ['Общий медицинский осмотр,Астигматизм,Общий медицинский осмотр,Общий медицинский осмотр,Общий медицинский осмотр'], ['Использование средств оптической коррекции зрения,Диф. изменения паренхимы ПЖ. \\r\\n']], '1.49': [['II'], ['Общий медицинский осмотр,Миопия,Общий медицинский осмотр,Общий медицинский осмотр,Общий медицинский осмотр,Общий медицинский осмотр,Общий медицинский осмотр'], ['Использование средств оптической коррекции зрения']], '3.1.8.3': [['II'], ['Общий медицинский осмотр,Начальная старческая катаракта,Общий медицинский осмотр,Общий медицинский осмотр,Общий медицинский осмотр,Общий медицинский осмотр,Начальная старческая катаракта,Общий медицинский осмотр'], ['Допуск с ношением средств оптической коррекции зрения']], '18.1': [['II'], ['Общий медицинский осмотр,Миопия,Общий медицинский осмотр,Общий медицинский осмотр,Общий медицинский осмотр,Общий медицинский осмотр,Общий медицинский осмотр'], ['Допуск с ношением средств оптической коррекции зрения']], '3.1.8.1': [['II'], ['Общий медицинский осмотр,Миопия,Общий медицинский осмотр,Общий медицинский осмотр,Общий медицинский осмотр', 'Общий медицинский осмотр,Миопия,Общий медицинский осмотр,Общий медицинский осмотр,Общий медицинский осмотр,Общий медицинский осмотр,Общий медицинский осмотр,Общий медицинский осмотр', 'Миопия,Общий медицинский осмотр,Общий медицинский осмотр,Общий медицинский осмотр,Общий медицинский осмотр,Общий медицинский осмотр'], ['Использование средств оптической коррекции зрения', 'Наблюдение офтальмолога по мж']], '3.4': [['IIIа', 'II'], ['Общий медицинский осмотр,Астигматизм,Общий медицинский осмотр,Общий медицинский осмотр,Общий медицинский осмотр,Гипертензивная [гипертоническая] болезнь с преимущественным поражением сердца без (застойной) сердечной недостаточности,Общий медицинский осмотр', 'Общий медицинский осмотр,Астигматизм,Общий медицинский осмотр,Общий медицинский осмотр,Общий медицинский осмотр,Общий медицинский осмотр,Общий медицинский осмотр'], ['Допуск с ношением средств оптической коррекции зрения,Осмотр глазного дна 1 р/год', 'Использование средств оптической коррекции зрения']], '4.9': [['II'], ['Общий медицинский осмотр,Миопия,Общий медицинский осмотр,Общий медицинский осмотр,Общий медицинский осмотр,Общий медицинский осмотр,Общий медицинский осмотр'], ['Допуск с ношением средств оптической коррекции зрения']], '1.39': [['IIIа'], ['Тремор неуточненный,Гиперметропия,Общий медицинский осмотр,Общий медицинский осмотр,Общий медицинский осмотр,Гипертензивная [гипертоническая] болезнь с преимущественным поражением сердца без (застойной) сердечной недостаточности'], ['Допуск с ношением средств оптической коррекции зрения']], '23': [['IIIа'], ['Общий медицинский осмотр,Миопия,Общий медицинский осмотр,Общий медицинский осмотр,Общий медицинский осмотр,Общий медицинский осмотр,Общий медицинский осмотр,Варикозное расширение вен нижних конечностей без язвы или воспаления'], ['Наблюдение офтальмолога по мж']], '12': [['IIIа'], ['Общий медицинский осмотр,Миопия,Общий медицинский осмотр,Общий медицинский осмотр,Общий медицинский осмотр,Гипертензивная [гипертоническая] болезнь с преимущественным поражением сердца без (застойной) сердечной недостаточности,Общий медицинский осмотр'], ['Консультация стоматолога-хирурга,набдюдение по месту жительства ']], '13': [['IIIа'], ['Общий медицинский осмотр,Общий медицинский осмотр,Миопия,Общий медицинский осмотр,Язва двенадцатиперстной кишки хроническая без кровотечения или прободения,Общий медицинский осмотр'], ['Диф. изменения паренхимы ПЖ.']], '6': [['II'], ['Общий медицинский осмотр,Миопия,Общий медицинский осмотр,Общий медицинский осмотр,Общий медицинский осмотр,Общий медицинский осмотр,Общий медицинский осмотр,Общий медицинский осмотр'], ['Допуск с ношением средств оптической коррекции зрения,Пациент не подготовлен (поел). В желудке содержимое, ЖП сокращен, ПЖ не в-ся.\\r\\nРек-но: УЗИ ОБП после подготовки.']], '27': [['II'], ['Общий медицинский осмотр,Блефарит,Общий медицинский осмотр,Общий медицинский осмотр,Общий медицинский осмотр,Общий медицинский осмотр,Общий медицинский осмотр,Астигматизм'], ['Использование средств оптической коррекции зрения,Наблюдение офтальмолога по мж,Выраженный метеоризм. Диф. изменения паренхимы печени и ПЖ. Гепатомегалия.']], '8': [['II'], ['Общий медицинский осмотр,Гиперметропия,Общий медицинский осмотр,Общий медицинский осмотр,Общий медицинский осмотр,Общий медицинский осмотр,Общий медицинский осмотр'], ['Допуск с ношением средств оптической коррекции зрения,Осмотр затруднен (выраженный метеоризм, не подготовлен), ПЖ в-ся фрагментарно. Диф. изменения паренхимы печени и ПЖ. Гепатомегалия.']], '18': [['II'], ['Общий медицинский осмотр,Гиперметропия,Общий медицинский осмотр,Общий медицинский осмотр,Общий медицинский осмотр,Общий медицинский осмотр,Общий медицинский осмотр'], ['Допуск с ношением средств оптической коррекции зрения,Осмотр затруднен (выраженный метеоризм, не подготовлен), ПЖ в-ся фрагментарно. Диф. изменения паренхимы печени и ПЖ. Гепатомегалия.']], '14': [['II'], ['Общий медицинский осмотр,Миопия,Общий медицинский осмотр,Общий медицинский осмотр,Общий медицинский осмотр,Общий медицинский осмотр,Общий медицинский осмотр,Общий медицинский осмотр'], ['Допуск с ношением средств оптической коррекции зрения,Пациент не подготовлен (поел). В желудке содержимое, ЖП сокращен, ПЖ не в-ся.\\r\\nРек-но: УЗИ ОБП после подготовки.']], '11.3': [['II'], ['Общий медицинский осмотр,Миопия,Общий медицинский осмотр,Общий медицинский осмотр,Общий медицинский осмотр,Общий медицинский осмотр,Общий медицинский осмотр,Общий медицинский осмотр'], ['Допуск с ношением средств оптической коррекции зрения,Пациент не подготовлен (поел). В желудке содержимое, ЖП сокращен, ПЖ не в-ся.\\r\\nРек-но: УЗИ ОБП после подготовки.']]}\n"
          ]
        }
      ],
      "source": [
        "# Создадим новый словарь с почищенными и разделенными записями по ранне определенной функции\n",
        "new_dict = clean_dict(promdict)\n",
        "\n",
        "print(new_dict)"
      ]
    },
    {
      "cell_type": "code",
      "execution_count": 50,
      "metadata": {
        "colab": {
          "base_uri": "https://localhost:8080/"
        },
        "id": "91pL0O0j6Ran",
        "outputId": "895bade4-24aa-4b6c-f09e-2a52dab273e7"
      },
      "outputs": [
        {
          "output_type": "stream",
          "name": "stdout",
          "text": [
            "54\n",
            "['4.2.5', '11.1', '5.1', '6.1', '6.2', '1.34.1', '1.19.1', '1.14.2', '1.50', '1.37.1', '1.8.1.1', '1.8.2.1', '1.1', '1.8.1.2', '1.18.3', '1.29.1', '1.29.2', '1.30.1', '1.36.1', '1.37.1.1', '1.29.4', '1.14.1', '9', '15', '4.4', '4.7', '4.1', '4.3.2', '17', '18.2', '11.4', '4.2.3', '4.5', '1.3', '4.8', '3.1.2', '4.3.1', '3.1.8.2', '1.49', '3.1.8.3', '18.1', '3.1.8.1', '3.4', '4.9', '1.39', '23', '12', '13', '6', '27', '8', '18', '14', '11.3']\n"
          ]
        }
      ],
      "source": [
        "# Получим список ключей нового словаря - единичных записей вредности\n",
        "list_harm = []\n",
        "for key in new_dict:\n",
        "  list_harm.append(key)\n",
        "print (len(list_harm))    \n",
        "print (list_harm)  "
      ]
    },
    {
      "cell_type": "code",
      "execution_count": 56,
      "metadata": {
        "id": "VLLsdKkY1gJm"
      },
      "outputs": [],
      "source": [
        "# Создаем генератор, который принимает исходную таблицу данных, список Вредностей, словарь Вредность:ГруппаЗдоровья и Диагноз, \n",
        "# возвращает новую таблицу с добавленными новыми записями\n",
        "def gen_proflimited (num_gen, somedict, somelist, somedf):\n",
        "  additional_df = somedf.copy()\n",
        "  for i in range (num_gen):\n",
        "    ran_h = random.choice(somelist)\n",
        "    list3 = somedict[ran_h]\n",
        "    ran_gz = list3[0]\n",
        "    ran_d = random.choice(list3[1])\n",
        "    ran_r = list3[2]\n",
        "    additional_df.loc[len(additional_df.index)]=['ОграниченноГоден',ran_gz[0], ran_h, ran_d, ran_r[0]]\n",
        "  \n",
        "  return additional_df"
      ]
    },
    {
      "cell_type": "code",
      "execution_count": 57,
      "metadata": {
        "colab": {
          "base_uri": "https://localhost:8080/",
          "height": 424
        },
        "id": "Zo1o469t1gJn",
        "outputId": "c585f146-8daa-43f1-8dc8-de58aea10c96"
      },
      "outputs": [
        {
          "output_type": "execute_result",
          "data": {
            "text/plain": [
              "          ЗаключениеМК ГруппаЗдоровья Вредность  \\\n",
              "0                Годен              I      11.4   \n",
              "1                Годен           IIIа     4.2.5   \n",
              "2     ОграниченноГоден             II     4.2.5   \n",
              "3                Годен              I      11.1   \n",
              "4     ОграниченноГоден             II      11.1   \n",
              "...                ...            ...       ...   \n",
              "2515           Негоден                      4.7   \n",
              "2516           Негоден                     11.2   \n",
              "2517           Негоден                      4.1   \n",
              "2518           Негоден                       16   \n",
              "2519           Негоден                      4.5   \n",
              "\n",
              "                                               Диагнозы  \\\n",
              "0     Общий медицинский осмотр,Общий медицинский осм...   \n",
              "1     Общий медицинский осмотр,Общий медицинский осм...   \n",
              "2     Общий медицинский осмотр,Миопия,Общий медицинс...   \n",
              "3     Общий медицинский осмотр,Общий медицинский осм...   \n",
              "4     Астигматизм,Общий медицинский осмотр,Общий мед...   \n",
              "...                                                 ...   \n",
              "2515  Хронические рецидивирующие заболевания кожи с ...   \n",
              "2516  Грыжи с наклонностью к ущемлению выпадение пря...   \n",
              "2517                        вл тромбоцитов менее 180000   \n",
              "2518  Искривление носовой перегородки с нарушением ф...   \n",
              "2519  Хронические заболевания периферической нервной...   \n",
              "\n",
              "                                           Рекомендации  \n",
              "0                                                        \n",
              "1                                                        \n",
              "2     Допуск с ношением средств оптической коррекции...  \n",
              "3           Эхопатологии на момент осмотра не выявлено   \n",
              "4     Использование средств оптической коррекции зре...  \n",
              "...                                                 ...  \n",
              "2515                                                     \n",
              "2516                                                     \n",
              "2517                                                     \n",
              "2518                                                     \n",
              "2519                                                     \n",
              "\n",
              "[2520 rows x 5 columns]"
            ],
            "text/html": [
              "\n",
              "  <div id=\"df-8488343a-49f2-4b06-9834-47d98ed33567\">\n",
              "    <div class=\"colab-df-container\">\n",
              "      <div>\n",
              "<style scoped>\n",
              "    .dataframe tbody tr th:only-of-type {\n",
              "        vertical-align: middle;\n",
              "    }\n",
              "\n",
              "    .dataframe tbody tr th {\n",
              "        vertical-align: top;\n",
              "    }\n",
              "\n",
              "    .dataframe thead th {\n",
              "        text-align: right;\n",
              "    }\n",
              "</style>\n",
              "<table border=\"1\" class=\"dataframe\">\n",
              "  <thead>\n",
              "    <tr style=\"text-align: right;\">\n",
              "      <th></th>\n",
              "      <th>ЗаключениеМК</th>\n",
              "      <th>ГруппаЗдоровья</th>\n",
              "      <th>Вредность</th>\n",
              "      <th>Диагнозы</th>\n",
              "      <th>Рекомендации</th>\n",
              "    </tr>\n",
              "  </thead>\n",
              "  <tbody>\n",
              "    <tr>\n",
              "      <th>0</th>\n",
              "      <td>Годен</td>\n",
              "      <td>I</td>\n",
              "      <td>11.4</td>\n",
              "      <td>Общий медицинский осмотр,Общий медицинский осм...</td>\n",
              "      <td></td>\n",
              "    </tr>\n",
              "    <tr>\n",
              "      <th>1</th>\n",
              "      <td>Годен</td>\n",
              "      <td>IIIа</td>\n",
              "      <td>4.2.5</td>\n",
              "      <td>Общий медицинский осмотр,Общий медицинский осм...</td>\n",
              "      <td></td>\n",
              "    </tr>\n",
              "    <tr>\n",
              "      <th>2</th>\n",
              "      <td>ОграниченноГоден</td>\n",
              "      <td>II</td>\n",
              "      <td>4.2.5</td>\n",
              "      <td>Общий медицинский осмотр,Миопия,Общий медицинс...</td>\n",
              "      <td>Допуск с ношением средств оптической коррекции...</td>\n",
              "    </tr>\n",
              "    <tr>\n",
              "      <th>3</th>\n",
              "      <td>Годен</td>\n",
              "      <td>I</td>\n",
              "      <td>11.1</td>\n",
              "      <td>Общий медицинский осмотр,Общий медицинский осм...</td>\n",
              "      <td>Эхопатологии на момент осмотра не выявлено</td>\n",
              "    </tr>\n",
              "    <tr>\n",
              "      <th>4</th>\n",
              "      <td>ОграниченноГоден</td>\n",
              "      <td>II</td>\n",
              "      <td>11.1</td>\n",
              "      <td>Астигматизм,Общий медицинский осмотр,Общий мед...</td>\n",
              "      <td>Использование средств оптической коррекции зре...</td>\n",
              "    </tr>\n",
              "    <tr>\n",
              "      <th>...</th>\n",
              "      <td>...</td>\n",
              "      <td>...</td>\n",
              "      <td>...</td>\n",
              "      <td>...</td>\n",
              "      <td>...</td>\n",
              "    </tr>\n",
              "    <tr>\n",
              "      <th>2515</th>\n",
              "      <td>Негоден</td>\n",
              "      <td></td>\n",
              "      <td>4.7</td>\n",
              "      <td>Хронические рецидивирующие заболевания кожи с ...</td>\n",
              "      <td></td>\n",
              "    </tr>\n",
              "    <tr>\n",
              "      <th>2516</th>\n",
              "      <td>Негоден</td>\n",
              "      <td></td>\n",
              "      <td>11.2</td>\n",
              "      <td>Грыжи с наклонностью к ущемлению выпадение пря...</td>\n",
              "      <td></td>\n",
              "    </tr>\n",
              "    <tr>\n",
              "      <th>2517</th>\n",
              "      <td>Негоден</td>\n",
              "      <td></td>\n",
              "      <td>4.1</td>\n",
              "      <td>вл тромбоцитов менее 180000</td>\n",
              "      <td></td>\n",
              "    </tr>\n",
              "    <tr>\n",
              "      <th>2518</th>\n",
              "      <td>Негоден</td>\n",
              "      <td></td>\n",
              "      <td>16</td>\n",
              "      <td>Искривление носовой перегородки с нарушением ф...</td>\n",
              "      <td></td>\n",
              "    </tr>\n",
              "    <tr>\n",
              "      <th>2519</th>\n",
              "      <td>Негоден</td>\n",
              "      <td></td>\n",
              "      <td>4.5</td>\n",
              "      <td>Хронические заболевания периферической нервной...</td>\n",
              "      <td></td>\n",
              "    </tr>\n",
              "  </tbody>\n",
              "</table>\n",
              "<p>2520 rows × 5 columns</p>\n",
              "</div>\n",
              "      <button class=\"colab-df-convert\" onclick=\"convertToInteractive('df-8488343a-49f2-4b06-9834-47d98ed33567')\"\n",
              "              title=\"Convert this dataframe to an interactive table.\"\n",
              "              style=\"display:none;\">\n",
              "        \n",
              "  <svg xmlns=\"http://www.w3.org/2000/svg\" height=\"24px\"viewBox=\"0 0 24 24\"\n",
              "       width=\"24px\">\n",
              "    <path d=\"M0 0h24v24H0V0z\" fill=\"none\"/>\n",
              "    <path d=\"M18.56 5.44l.94 2.06.94-2.06 2.06-.94-2.06-.94-.94-2.06-.94 2.06-2.06.94zm-11 1L8.5 8.5l.94-2.06 2.06-.94-2.06-.94L8.5 2.5l-.94 2.06-2.06.94zm10 10l.94 2.06.94-2.06 2.06-.94-2.06-.94-.94-2.06-.94 2.06-2.06.94z\"/><path d=\"M17.41 7.96l-1.37-1.37c-.4-.4-.92-.59-1.43-.59-.52 0-1.04.2-1.43.59L10.3 9.45l-7.72 7.72c-.78.78-.78 2.05 0 2.83L4 21.41c.39.39.9.59 1.41.59.51 0 1.02-.2 1.41-.59l7.78-7.78 2.81-2.81c.8-.78.8-2.07 0-2.86zM5.41 20L4 18.59l7.72-7.72 1.47 1.35L5.41 20z\"/>\n",
              "  </svg>\n",
              "      </button>\n",
              "      \n",
              "  <style>\n",
              "    .colab-df-container {\n",
              "      display:flex;\n",
              "      flex-wrap:wrap;\n",
              "      gap: 12px;\n",
              "    }\n",
              "\n",
              "    .colab-df-convert {\n",
              "      background-color: #E8F0FE;\n",
              "      border: none;\n",
              "      border-radius: 50%;\n",
              "      cursor: pointer;\n",
              "      display: none;\n",
              "      fill: #1967D2;\n",
              "      height: 32px;\n",
              "      padding: 0 0 0 0;\n",
              "      width: 32px;\n",
              "    }\n",
              "\n",
              "    .colab-df-convert:hover {\n",
              "      background-color: #E2EBFA;\n",
              "      box-shadow: 0px 1px 2px rgba(60, 64, 67, 0.3), 0px 1px 3px 1px rgba(60, 64, 67, 0.15);\n",
              "      fill: #174EA6;\n",
              "    }\n",
              "\n",
              "    [theme=dark] .colab-df-convert {\n",
              "      background-color: #3B4455;\n",
              "      fill: #D2E3FC;\n",
              "    }\n",
              "\n",
              "    [theme=dark] .colab-df-convert:hover {\n",
              "      background-color: #434B5C;\n",
              "      box-shadow: 0px 1px 3px 1px rgba(0, 0, 0, 0.15);\n",
              "      filter: drop-shadow(0px 1px 2px rgba(0, 0, 0, 0.3));\n",
              "      fill: #FFFFFF;\n",
              "    }\n",
              "  </style>\n",
              "\n",
              "      <script>\n",
              "        const buttonEl =\n",
              "          document.querySelector('#df-8488343a-49f2-4b06-9834-47d98ed33567 button.colab-df-convert');\n",
              "        buttonEl.style.display =\n",
              "          google.colab.kernel.accessAllowed ? 'block' : 'none';\n",
              "\n",
              "        async function convertToInteractive(key) {\n",
              "          const element = document.querySelector('#df-8488343a-49f2-4b06-9834-47d98ed33567');\n",
              "          const dataTable =\n",
              "            await google.colab.kernel.invokeFunction('convertToInteractive',\n",
              "                                                     [key], {});\n",
              "          if (!dataTable) return;\n",
              "\n",
              "          const docLinkHtml = 'Like what you see? Visit the ' +\n",
              "            '<a target=\"_blank\" href=https://colab.research.google.com/notebooks/data_table.ipynb>data table notebook</a>'\n",
              "            + ' to learn more about interactive tables.';\n",
              "          element.innerHTML = '';\n",
              "          dataTable['output_type'] = 'display_data';\n",
              "          await google.colab.output.renderOutput(dataTable, element);\n",
              "          const docLink = document.createElement('div');\n",
              "          docLink.innerHTML = docLinkHtml;\n",
              "          element.appendChild(docLink);\n",
              "        }\n",
              "      </script>\n",
              "    </div>\n",
              "  </div>\n",
              "  "
            ]
          },
          "metadata": {},
          "execution_count": 57
        }
      ],
      "source": [
        "dffix4"
      ]
    },
    {
      "cell_type": "code",
      "execution_count": 53,
      "metadata": {
        "colab": {
          "base_uri": "https://localhost:8080/"
        },
        "id": "Z9c9Nm0d1gJp",
        "outputId": "2c6ba6c1-c6ed-44cc-c715-252c2ee758a7"
      },
      "outputs": [
        {
          "output_type": "execute_result",
          "data": {
            "text/plain": [
              "Годен               1284\n",
              "Негоден             1111\n",
              "ОграниченноГоден     125\n",
              "Name: ЗаключениеМК, dtype: int64"
            ]
          },
          "metadata": {},
          "execution_count": 53
        }
      ],
      "source": [
        "dffix4.ЗаключениеМК.value_counts()"
      ]
    },
    {
      "cell_type": "code",
      "execution_count": 58,
      "metadata": {
        "id": "wHxur0Pe1gJp"
      },
      "outputs": [],
      "source": [
        "dffix5 = gen_proflimited (1000, new_dict, list_harm, dffix4)"
      ]
    },
    {
      "cell_type": "code",
      "execution_count": 59,
      "metadata": {
        "colab": {
          "base_uri": "https://localhost:8080/",
          "height": 424
        },
        "id": "QqbfWQl-1gJq",
        "outputId": "8d4f2858-947b-4a58-adc8-7e53d9379ce7"
      },
      "outputs": [
        {
          "output_type": "execute_result",
          "data": {
            "text/plain": [
              "          ЗаключениеМК ГруппаЗдоровья Вредность  \\\n",
              "0                Годен              I      11.4   \n",
              "1                Годен           IIIа     4.2.5   \n",
              "2     ОграниченноГоден             II     4.2.5   \n",
              "3                Годен              I      11.1   \n",
              "4     ОграниченноГоден             II      11.1   \n",
              "...                ...            ...       ...   \n",
              "3515  ОграниченноГоден             II   1.8.1.1   \n",
              "3516  ОграниченноГоден           IIIа        15   \n",
              "3517  ОграниченноГоден             II         8   \n",
              "3518  ОграниченноГоден           IIIа      1.39   \n",
              "3519  ОграниченноГоден             II      18.2   \n",
              "\n",
              "                                               Диагнозы  \\\n",
              "0     Общий медицинский осмотр,Общий медицинский осм...   \n",
              "1     Общий медицинский осмотр,Общий медицинский осм...   \n",
              "2     Общий медицинский осмотр,Миопия,Общий медицинс...   \n",
              "3     Общий медицинский осмотр,Общий медицинский осм...   \n",
              "4     Астигматизм,Общий медицинский осмотр,Общий мед...   \n",
              "...                                                 ...   \n",
              "3515  Общий медицинский осмотр,Миопия,Общий медицинс...   \n",
              "3516  Общий медицинский осмотр,Миопия,Общий медицинс...   \n",
              "3517  Общий медицинский осмотр,Гиперметропия,Общий м...   \n",
              "3518  Тремор неуточненный,Гиперметропия,Общий медици...   \n",
              "3519  Общий медицинский осмотр,Гиперметропия,Общий м...   \n",
              "\n",
              "                                           Рекомендации  \n",
              "0                                                        \n",
              "1                                                        \n",
              "2     Допуск с ношением средств оптической коррекции...  \n",
              "3           Эхопатологии на момент осмотра не выявлено   \n",
              "4     Использование средств оптической коррекции зре...  \n",
              "...                                                 ...  \n",
              "3515                      Наблюдение офтальмолога по мж  \n",
              "3516                      Наблюдение офтальмолога по мж  \n",
              "3517  Допуск с ношением средств оптической коррекции...  \n",
              "3518  Допуск с ношением средств оптической коррекции...  \n",
              "3519  Допуск с ношением средств оптической коррекции...  \n",
              "\n",
              "[3520 rows x 5 columns]"
            ],
            "text/html": [
              "\n",
              "  <div id=\"df-f9eb8f61-3e32-4044-9e6d-0de0cb416292\">\n",
              "    <div class=\"colab-df-container\">\n",
              "      <div>\n",
              "<style scoped>\n",
              "    .dataframe tbody tr th:only-of-type {\n",
              "        vertical-align: middle;\n",
              "    }\n",
              "\n",
              "    .dataframe tbody tr th {\n",
              "        vertical-align: top;\n",
              "    }\n",
              "\n",
              "    .dataframe thead th {\n",
              "        text-align: right;\n",
              "    }\n",
              "</style>\n",
              "<table border=\"1\" class=\"dataframe\">\n",
              "  <thead>\n",
              "    <tr style=\"text-align: right;\">\n",
              "      <th></th>\n",
              "      <th>ЗаключениеМК</th>\n",
              "      <th>ГруппаЗдоровья</th>\n",
              "      <th>Вредность</th>\n",
              "      <th>Диагнозы</th>\n",
              "      <th>Рекомендации</th>\n",
              "    </tr>\n",
              "  </thead>\n",
              "  <tbody>\n",
              "    <tr>\n",
              "      <th>0</th>\n",
              "      <td>Годен</td>\n",
              "      <td>I</td>\n",
              "      <td>11.4</td>\n",
              "      <td>Общий медицинский осмотр,Общий медицинский осм...</td>\n",
              "      <td></td>\n",
              "    </tr>\n",
              "    <tr>\n",
              "      <th>1</th>\n",
              "      <td>Годен</td>\n",
              "      <td>IIIа</td>\n",
              "      <td>4.2.5</td>\n",
              "      <td>Общий медицинский осмотр,Общий медицинский осм...</td>\n",
              "      <td></td>\n",
              "    </tr>\n",
              "    <tr>\n",
              "      <th>2</th>\n",
              "      <td>ОграниченноГоден</td>\n",
              "      <td>II</td>\n",
              "      <td>4.2.5</td>\n",
              "      <td>Общий медицинский осмотр,Миопия,Общий медицинс...</td>\n",
              "      <td>Допуск с ношением средств оптической коррекции...</td>\n",
              "    </tr>\n",
              "    <tr>\n",
              "      <th>3</th>\n",
              "      <td>Годен</td>\n",
              "      <td>I</td>\n",
              "      <td>11.1</td>\n",
              "      <td>Общий медицинский осмотр,Общий медицинский осм...</td>\n",
              "      <td>Эхопатологии на момент осмотра не выявлено</td>\n",
              "    </tr>\n",
              "    <tr>\n",
              "      <th>4</th>\n",
              "      <td>ОграниченноГоден</td>\n",
              "      <td>II</td>\n",
              "      <td>11.1</td>\n",
              "      <td>Астигматизм,Общий медицинский осмотр,Общий мед...</td>\n",
              "      <td>Использование средств оптической коррекции зре...</td>\n",
              "    </tr>\n",
              "    <tr>\n",
              "      <th>...</th>\n",
              "      <td>...</td>\n",
              "      <td>...</td>\n",
              "      <td>...</td>\n",
              "      <td>...</td>\n",
              "      <td>...</td>\n",
              "    </tr>\n",
              "    <tr>\n",
              "      <th>3515</th>\n",
              "      <td>ОграниченноГоден</td>\n",
              "      <td>II</td>\n",
              "      <td>1.8.1.1</td>\n",
              "      <td>Общий медицинский осмотр,Миопия,Общий медицинс...</td>\n",
              "      <td>Наблюдение офтальмолога по мж</td>\n",
              "    </tr>\n",
              "    <tr>\n",
              "      <th>3516</th>\n",
              "      <td>ОграниченноГоден</td>\n",
              "      <td>IIIа</td>\n",
              "      <td>15</td>\n",
              "      <td>Общий медицинский осмотр,Миопия,Общий медицинс...</td>\n",
              "      <td>Наблюдение офтальмолога по мж</td>\n",
              "    </tr>\n",
              "    <tr>\n",
              "      <th>3517</th>\n",
              "      <td>ОграниченноГоден</td>\n",
              "      <td>II</td>\n",
              "      <td>8</td>\n",
              "      <td>Общий медицинский осмотр,Гиперметропия,Общий м...</td>\n",
              "      <td>Допуск с ношением средств оптической коррекции...</td>\n",
              "    </tr>\n",
              "    <tr>\n",
              "      <th>3518</th>\n",
              "      <td>ОграниченноГоден</td>\n",
              "      <td>IIIа</td>\n",
              "      <td>1.39</td>\n",
              "      <td>Тремор неуточненный,Гиперметропия,Общий медици...</td>\n",
              "      <td>Допуск с ношением средств оптической коррекции...</td>\n",
              "    </tr>\n",
              "    <tr>\n",
              "      <th>3519</th>\n",
              "      <td>ОграниченноГоден</td>\n",
              "      <td>II</td>\n",
              "      <td>18.2</td>\n",
              "      <td>Общий медицинский осмотр,Гиперметропия,Общий м...</td>\n",
              "      <td>Допуск с ношением средств оптической коррекции...</td>\n",
              "    </tr>\n",
              "  </tbody>\n",
              "</table>\n",
              "<p>3520 rows × 5 columns</p>\n",
              "</div>\n",
              "      <button class=\"colab-df-convert\" onclick=\"convertToInteractive('df-f9eb8f61-3e32-4044-9e6d-0de0cb416292')\"\n",
              "              title=\"Convert this dataframe to an interactive table.\"\n",
              "              style=\"display:none;\">\n",
              "        \n",
              "  <svg xmlns=\"http://www.w3.org/2000/svg\" height=\"24px\"viewBox=\"0 0 24 24\"\n",
              "       width=\"24px\">\n",
              "    <path d=\"M0 0h24v24H0V0z\" fill=\"none\"/>\n",
              "    <path d=\"M18.56 5.44l.94 2.06.94-2.06 2.06-.94-2.06-.94-.94-2.06-.94 2.06-2.06.94zm-11 1L8.5 8.5l.94-2.06 2.06-.94-2.06-.94L8.5 2.5l-.94 2.06-2.06.94zm10 10l.94 2.06.94-2.06 2.06-.94-2.06-.94-.94-2.06-.94 2.06-2.06.94z\"/><path d=\"M17.41 7.96l-1.37-1.37c-.4-.4-.92-.59-1.43-.59-.52 0-1.04.2-1.43.59L10.3 9.45l-7.72 7.72c-.78.78-.78 2.05 0 2.83L4 21.41c.39.39.9.59 1.41.59.51 0 1.02-.2 1.41-.59l7.78-7.78 2.81-2.81c.8-.78.8-2.07 0-2.86zM5.41 20L4 18.59l7.72-7.72 1.47 1.35L5.41 20z\"/>\n",
              "  </svg>\n",
              "      </button>\n",
              "      \n",
              "  <style>\n",
              "    .colab-df-container {\n",
              "      display:flex;\n",
              "      flex-wrap:wrap;\n",
              "      gap: 12px;\n",
              "    }\n",
              "\n",
              "    .colab-df-convert {\n",
              "      background-color: #E8F0FE;\n",
              "      border: none;\n",
              "      border-radius: 50%;\n",
              "      cursor: pointer;\n",
              "      display: none;\n",
              "      fill: #1967D2;\n",
              "      height: 32px;\n",
              "      padding: 0 0 0 0;\n",
              "      width: 32px;\n",
              "    }\n",
              "\n",
              "    .colab-df-convert:hover {\n",
              "      background-color: #E2EBFA;\n",
              "      box-shadow: 0px 1px 2px rgba(60, 64, 67, 0.3), 0px 1px 3px 1px rgba(60, 64, 67, 0.15);\n",
              "      fill: #174EA6;\n",
              "    }\n",
              "\n",
              "    [theme=dark] .colab-df-convert {\n",
              "      background-color: #3B4455;\n",
              "      fill: #D2E3FC;\n",
              "    }\n",
              "\n",
              "    [theme=dark] .colab-df-convert:hover {\n",
              "      background-color: #434B5C;\n",
              "      box-shadow: 0px 1px 3px 1px rgba(0, 0, 0, 0.15);\n",
              "      filter: drop-shadow(0px 1px 2px rgba(0, 0, 0, 0.3));\n",
              "      fill: #FFFFFF;\n",
              "    }\n",
              "  </style>\n",
              "\n",
              "      <script>\n",
              "        const buttonEl =\n",
              "          document.querySelector('#df-f9eb8f61-3e32-4044-9e6d-0de0cb416292 button.colab-df-convert');\n",
              "        buttonEl.style.display =\n",
              "          google.colab.kernel.accessAllowed ? 'block' : 'none';\n",
              "\n",
              "        async function convertToInteractive(key) {\n",
              "          const element = document.querySelector('#df-f9eb8f61-3e32-4044-9e6d-0de0cb416292');\n",
              "          const dataTable =\n",
              "            await google.colab.kernel.invokeFunction('convertToInteractive',\n",
              "                                                     [key], {});\n",
              "          if (!dataTable) return;\n",
              "\n",
              "          const docLinkHtml = 'Like what you see? Visit the ' +\n",
              "            '<a target=\"_blank\" href=https://colab.research.google.com/notebooks/data_table.ipynb>data table notebook</a>'\n",
              "            + ' to learn more about interactive tables.';\n",
              "          element.innerHTML = '';\n",
              "          dataTable['output_type'] = 'display_data';\n",
              "          await google.colab.output.renderOutput(dataTable, element);\n",
              "          const docLink = document.createElement('div');\n",
              "          docLink.innerHTML = docLinkHtml;\n",
              "          element.appendChild(docLink);\n",
              "        }\n",
              "      </script>\n",
              "    </div>\n",
              "  </div>\n",
              "  "
            ]
          },
          "metadata": {},
          "execution_count": 59
        }
      ],
      "source": [
        "dffix5"
      ]
    },
    {
      "cell_type": "code",
      "execution_count": 60,
      "metadata": {
        "colab": {
          "base_uri": "https://localhost:8080/"
        },
        "id": "HcWtYO_Z09R5",
        "outputId": "93fb7d3e-03af-4ddf-daab-c7536bca14a6"
      },
      "outputs": [
        {
          "output_type": "execute_result",
          "data": {
            "text/plain": [
              "Годен               1284\n",
              "ОграниченноГоден    1125\n",
              "Негоден             1111\n",
              "Name: ЗаключениеМК, dtype: int64"
            ]
          },
          "metadata": {},
          "execution_count": 60
        }
      ],
      "source": [
        "dffix5.ЗаключениеМК.value_counts()"
      ]
    },
    {
      "cell_type": "code",
      "execution_count": 87,
      "metadata": {
        "colab": {
          "base_uri": "https://localhost:8080/"
        },
        "id": "1-adKdwL8xwG",
        "outputId": "1d7aef28-c24c-4c79-ed1f-c4f8bd4f3925"
      },
      "outputs": [
        {
          "output_type": "stream",
          "name": "stdout",
          "text": [
            "[('unknown', 1), ('Общий медицинский осмотр', 2), ('Миопия', 3), ('Гипертензивная [гипертоническая] болезнь с преимущественным поражением сердца без (застойной) сердечной недостаточности', 4), ('Гиперметропия', 5), ('Астигматизм', 6), ('Выраженные расстройства вегетативной автономной нервной системы', 7), ('Другие гастриты', 8), ('Цереброваскулярная болезнь неуточненная', 9), ('Эндометриоз матки', 10), ('Варикозное расширение вен нижних конечностей без язвы или воспаления', 11), ('Дегенеративнодистрофические заболевания сетчатки глаз', 12), ('Начальная старческая катаракта', 13), ('Беременность и период лактации', 14), ('Катаракта осложненная', 15), ('Язва двенадцатиперстной кишки хроническая без кровотечения или прободения', 16), ('Нарушение функции вестибулярного анализатора любой этиологии', 17), ('Хронический поверхностный гастрит', 18), ('Тремор неуточненный', 19), ('заболевания с нарушением голосовой функции за исключением узелков полипов и паралича голосовых связок и гортани у работающих', 20), ('Лейомиома матки', 21), ('Хронические рецидивирующие заболевания кожи с частотой обострения 4 раза и более за календарный год', 22), ('Заболевания любой этиологии вызывающие нарушение функции вестибулярного аппарата синдромы головокружения нистагм болезнь Меньера лабиринтиты вестибулярные кризы любой этиологии и др', 23), ('Облитерирующие заболевания сосудов вне зависимости от степени компенсации', 24), ('Болезнь и синдром Рейно', 25), ('Ишемическая болезнь сердца стенокардия ФК II риск средний', 26), ('Хронические воспалительные заболевания матки и придатков с частотой обострения 3 раза и более за календарный год', 27), ('сифилис в заразном периоде', 28), ('Острота зрения с коррекцией ниже 05 на одном глазу и ниже 02  на другом', 29), ('Хронические заболевания периферической нервной системы с частотой обострения 3 раза и более за календарный год', 30), ('Стойкое слезотечение не поддающееся лечению', 31), ('Хронические заболевания периферической нервной системы с обострениями 3 и более раза за календарный год', 32), ('озена', 33), ('брюшной тиф паратифы сальмонеллез дизентерия', 34), ('заразные кожные заболевания чесотка трихофития микроспория парша актиномикоз с изъязвлениями или свищами на открытых частях тела', 35), ('Другие расстройства вегетативной [автономной] нервной системы', 36), ('гельминтозы', 37), ('Амблиопия вследствие анопсии', 38), ('Блефарит', 39), ('лепра', 40), ('Стойкие 3 и более мес понижения слуха одно двусторонняя сенсоневральная смешанная кондуктивная тугоухость любой степени выраженности за исключением отсутствия слуха выраженных и значительно выраженных нарушений слуха глухота и III IV степень тугоухости', 41), ('Пресбиакузис', 42), ('легкая степень снижения слуха I степень тугоухости  при наличии отрицательной динамики в течение года по данным исследования порогов слуха при тональной пороговой аудиометрии в расширенном диапазоне частот', 43), ('Ограничение поля зрения более чем на 20° по любому из меридианов', 44), ('Болезни полости рта зубов и челюстей хронический гингивитстоматит пародонтит отсутствие зубов множественный кариес', 45), ('Бронхиальная астма', 46), ('Хронические воспалительные и дисгормональные заболевания матки и придатков с частотой обострения 3 раза и более за календарный год', 47), ('Высокая или осложненная близорукость выше 80 Д', 48), ('заразные и деструктивные формы туберкулеза легких внелегочный туберкулез с наличием свищей бактериоурии туберкулезной волчанки лица и рук', 49), ('Адгезивная болезнь среднего уха', 50)]\n",
            "Размер словаря 245\n"
          ]
        }
      ],
      "source": [
        "# Извлечение текстов о сводном диагнозе для выборки\n",
        "Diag_text = extract_Diag_text(dffix5[10:]) \n",
        "\n",
        "tokenizer_Diag.fit_on_texts(Diag_text)\n",
        "items_Diag = list(tokenizer_Diag.word_index.items())\n",
        "\n",
        "# Преобразование текстов в последовательность индексов согласно частотному словарю\n",
        "Diag_seq = tokenizer_Diag.texts_to_sequences(Diag_text)\n",
        "\n",
        "# Преобразование последовательностей индексов в bag of words\n",
        "x_train_Diag = tokenizer_Diag.sequences_to_matrix(Diag_seq)\n",
        "\n",
        "print(items_Diag[:50]) \n",
        "print(\"Размер словаря\", len(items_Diag))              # Длина словаря"
      ]
    },
    {
      "cell_type": "code",
      "execution_count": null,
      "metadata": {
        "id": "NZXnWAR68xwH"
      },
      "outputs": [],
      "source": [
        "# Проверка получившихся данных\n",
        "n = 520\n",
        "print(Diag_text[n])                       # Диагноз в тексте\n",
        "print(Diag_seq[n])                        # Диагноз в индексах слов\n",
        "print(x_train_Diag[n][0:242])          # Диагноз в bag of words"
      ]
    },
    {
      "cell_type": "code",
      "execution_count": 88,
      "metadata": {
        "colab": {
          "base_uri": "https://localhost:8080/"
        },
        "id": "ZuaNEgJH8xwH",
        "outputId": "bb27ffb4-d0f0-4e4c-fa70-f47b9b452690"
      },
      "outputs": [
        {
          "output_type": "stream",
          "name": "stdout",
          "text": [
            "[('unknown', 1), ('6.1', 2), ('4.4', 3), ('4.2.5', 4), ('5.1', 5), ('23', 6), ('9', 7), ('11.1', 8), ('18.1', 9), ('15', 10), ('6.2', 11), ('1.50', 12), ('4.7', 13), ('18.2', 14), ('4.1', 15), ('25', 16), ('6', 17), ('4.3.1', 18), ('1.30.1', 19), ('1.1', 20), ('4.3.2', 21), ('11.4', 22), ('17', 23), ('4.8', 24), ('4.5', 25), ('1.8.1.1', 26), ('1.14.2', 27), ('1.37.1', 28), ('12', 29), ('1.29.2', 30), ('1.34.1', 31), ('13', 32), ('8', 33), ('11.3', 34), ('27', 35), ('4.2.3', 36), ('4.9', 37), ('1.36.1', 38), ('4.2.1', 39), ('14', 40), ('1.19.1', 41), ('1.39', 42), ('1.29.1', 43), ('1.8.1.2', 44), ('4.6', 45), ('4.2.2', 46), ('18', 47), ('3.1.7', 48), ('1.8.2.1', 49), ('3.1.2', 50)]\n",
            "Размер словаря 99\n"
          ]
        }
      ],
      "source": [
        "# Извлечение текстов о вредности для выборки\n",
        "harm_text = extract_harm_text(dffix5[10:]) \n",
        "\n",
        "tokenizer_harm.fit_on_texts(harm_text)\n",
        "items_harm = list(tokenizer_harm.word_index.items())\n",
        "\n",
        "# Преобразование текстов в последовательность индексов согласно частотному словарю\n",
        "harm_seq = tokenizer_harm.texts_to_sequences(harm_text)\n",
        "\n",
        "# Преобразование последовательностей индексов в bag of words\n",
        "x_train_harm = tokenizer_harm.sequences_to_matrix(harm_seq)\n",
        "\n",
        "print(items_harm[:50]) \n",
        "print(\"Размер словаря\", len(items_harm))              # Длина словаря"
      ]
    },
    {
      "cell_type": "code",
      "execution_count": null,
      "metadata": {
        "id": "fEznHuMz8xwI"
      },
      "outputs": [],
      "source": [
        "# Проверка получившихся данных\n",
        "n = 1421\n",
        "print(harm_text[n])                       # Вредность в тексте\n",
        "print(harm_seq[n])                        # Вредность в индексах слов\n",
        "print(x_train_harm[n][0:100])          # Вредность в bag of words"
      ]
    },
    {
      "cell_type": "code",
      "source": [
        "# Извлечение текстов о рекомендациях для выборки\n",
        "recom_text = extract_recom_text(dffix5[10:]) \n",
        "\n",
        "tokenizer_recom.fit_on_texts(recom_text)\n",
        "items_recom = list(tokenizer_recom.word_index.items())\n",
        "\n",
        "# Преобразование текстов в последовательность индексов согласно частотному словарю\n",
        "recom_seq = tokenizer_recom.texts_to_sequences(recom_text)\n",
        "\n",
        "# Преобразование последовательностей индексов в bag of words\n",
        "x_train_recom = tokenizer_recom.sequences_to_matrix(recom_seq)\n",
        "\n",
        "print(items_recom[:50]) \n",
        "print(\"Размер словаря\", len(items_recom))              # Длина словаря"
      ],
      "metadata": {
        "colab": {
          "base_uri": "https://localhost:8080/"
        },
        "id": "rlqAiOInPyIz",
        "outputId": "fca6ecac-23c2-4c25-ee61-8593e13bba2e"
      },
      "execution_count": 89,
      "outputs": [
        {
          "output_type": "stream",
          "name": "stdout",
          "text": [
            "[('unknown', 1), ('', 2), ('Допуск с ношением средств оптической коррекции зрения', 3), ('Использование средств оптической коррекции зрения', 4), ('Наблюдение офтальмолога по мж', 5), ('набдюдение по месту жительства ', 6), ('Диф. изменения паренхимы ПЖ.', 7), ('УЗИ органов малого таза на 6-10 день м.ц.', 8), ('Обследование и лечение гинеколога', 9), ('Эхопатологии на момент осмотра не выявлено ', 10), (' ПЖ не в-ся.\\r\\nРек-но: УЗИ ОБП после подготовки.', 11), ('Пациент не подготовлен (поел). В желудке содержимое', 12), (' ЖП сокращен', 13), ('Консультация стоматолога-хирурга', 14), ('Измерение внутриглазного давления', 15), (' ПЖ в-ся фрагментарно. Диф. изменения паренхимы печени и ПЖ. Гепатомегалия.', 16), ('УЗИ 08.08.2022 Диф. изменения паренхимы ПЖ.', 17), ('Осмотр после ФГДС', 18), ('Осмотр затруднен (выраженный метеоризм', 19), (' не подготовлен)', 20), ('Поддерживать уровень АД не выше 140/90 мм рт.ст. Подбор гипотензивных препаратов у терапевта по месту жительства', 21), (' ПЖ в-ся фрагментарно. Диф. изменения паренхимы ПЖ.', 22), ('Осмотр глазного дна 1 р/год', 23), ('Диспансерное наблюдение гинеколога', 24), ('Метеоризм. Диф. изменения паренхимы печени и ПЖ.', 25), ('Санация полости рта', 26), ('Пациент не подготовлен (поел). ЖП полусокращен', 27), (' ПЖ в-ся фрагментарно. Диф. изменения паренхимы ПЖ.\\r\\nРекомендовано: УЗИ ОБП после подготовки.', 28), ('Диф. изменения паренхимы ПЖ. \\r\\n', 29), ('Метеоризм. Диф. изменения паренхимы печени и ПЖ. В правой доле печени S6 в-ся анэхогенное образование 13х10 мм с четким неровным контуром', 30), (' без кровотока (киста?)', 31), ('Без особенностей', 32), ('без особенностей', 33), ('Выраженный метеоризм. Диф. изменения паренхимы печени и ПЖ. Гепатомегалия.', 34), ('Консультация маммолога', 35), ('Обследование и лечение офтальмолога', 36), ('Умеренные диф. изменения паренхимы ПЖ.', 37), ('патологии не обнаружено', 38), ('Осмотр крайне затруднен (после ФГДС)', 39), ('Диф. изменения паренхимы печени и ПЖ.', 40), ('Диффузные изменения паренхимы поджелудочной железы.', 41), ('Выраженный метеоризм', 42), ('Без патологии.', 43), ('Диффузные изменения паренхимы поджелудочной железы. ', 44), ('Снятие зубных отложений', 45), ('Проведение кольпоскопии', 46), ('Пациент не подготовлен (поел)', 47), ('Обследование и лечение дерматолога', 48), ('Диспансерное наблюдение дерматолога', 49), ('Диффузные изменения паренхимы печени и поджелудочной железы.', 50)]\n",
            "Размер словаря 212\n"
          ]
        }
      ]
    },
    {
      "cell_type": "code",
      "execution_count": 90,
      "metadata": {
        "id": "c5lsL-K9xnmw"
      },
      "outputs": [],
      "source": [
        "# Извлечение текстов о группе здоровья для выборки\n",
        "x_train_gz = extract_gz (dffix5[10:])"
      ]
    },
    {
      "cell_type": "code",
      "execution_count": 91,
      "metadata": {
        "colab": {
          "base_uri": "https://localhost:8080/"
        },
        "id": "1Or02uog8xwI",
        "outputId": "91465cae-e05a-4d5c-f3ff-2fb52bdd8f19"
      },
      "outputs": [
        {
          "output_type": "stream",
          "name": "stdout",
          "text": [
            "['Годен' 'IIIа' '4.3.1,10,11.1'\n",
            " 'Общий медицинский осмотр,Общий медицинский осмотр,Общий медицинский осмотр,Общий медицинский осмотр,Общий медицинский осмотр,Общий медицинский осмотр,Хронический поверхностный гастрит,Общий медицинский осмотр'\n",
            " '']\n"
          ]
        }
      ],
      "source": [
        "# Пример текста записи\n",
        "print(dffix5.values[14])"
      ]
    },
    {
      "cell_type": "code",
      "execution_count": 92,
      "metadata": {
        "id": "SMympfJL8xwJ"
      },
      "outputs": [],
      "source": [
        "# Перевод классов в OHE\n",
        "y_data, y_train = Y_to_OHE(dffix5[10:])"
      ]
    },
    {
      "cell_type": "code",
      "execution_count": 93,
      "metadata": {
        "colab": {
          "base_uri": "https://localhost:8080/"
        },
        "id": "gujj8yR58xwJ",
        "outputId": "08f0b6a7-329d-4199-a33c-d8b62974daf5"
      },
      "outputs": [
        {
          "output_type": "stream",
          "name": "stdout",
          "text": [
            "Размер выборки Вредности (3510, 200)\n",
            "Размер выборки Диагноза (3510, 400)\n",
            "Размер выборки Группы здоровья (3510, 5)\n",
            "Размер выборки Группы здоровья (3510, 400)\n",
            "Размер выборки Заключения (3510, 3)\n"
          ]
        }
      ],
      "source": [
        "print('Размер выборки Вредности', x_train_harm.shape)\n",
        "print('Размер выборки Диагноза', x_train_Diag.shape)\n",
        "print('Размер выборки Группы здоровья', x_train_gz.shape)\n",
        "print('Размер выборки Группы здоровья', x_train_recom.shape)\n",
        "print('Размер выборки Заключения', y_train.shape)"
      ]
    },
    {
      "cell_type": "code",
      "execution_count": 94,
      "metadata": {
        "id": "MQ-hoy8f8xwK"
      },
      "outputs": [],
      "source": [
        "# Создание архитектуры модели\n",
        "input1 = Input((x_train_harm.shape[1],))\n",
        "input2 = Input((x_train_Diag.shape[1],))\n",
        "input3 = Input((x_train_gz.shape[1],))\n",
        "input4 = Input((x_train_recom.shape[1],))\n",
        "\n",
        "x1 = input1                               # Ветка 1\n",
        "\n",
        "x1 = Dense(1000, activation=\"relu\")(x1)   # 1 слой\n",
        "x1 = Dropout(0.1)(x1)\n",
        "x1 = BatchNormalization()(x1)\n",
        "\n",
        "x1 = Dense(2000, activation=\"relu\")(x1)   # 2 слой\n",
        "x1 = Dropout(0.1)(x1)\n",
        "x1 = BatchNormalization()(x1)\n",
        "\n",
        "x1 = Dense(1000, activation=\"relu\")(x1)   # 3 слой\n",
        "x1 = Dropout(0.1)(x1)\n",
        "x1 = BatchNormalization()(x1)\n",
        "\n",
        "x1 = Dense(100, activation=\"relu\")(x1)   # 4 слой\n",
        "# x1 = Dropout(0.1)(x1)\n",
        "x1 = BatchNormalization()(x1)\n",
        "\n",
        "x2 = input2                               # Ветка 2\n",
        "\n",
        "x2 = Dense(2000, activation=\"relu\")(x2)   # 1 слой\n",
        "x2 = Dropout(0.1)(x2)\n",
        "x2 = BatchNormalization()(x2)\n",
        "\n",
        "x2 = Dense(4000, activation=\"relu\")(x2)   # 2 слой\n",
        "x2 = Dropout(0.1)(x2)\n",
        "x2 = BatchNormalization()(x2)\n",
        "\n",
        "x2 = Dense(1000, activation=\"relu\")(x2)   # 3 слой\n",
        "x2 = Dropout(0.1)(x2)\n",
        "x2 = BatchNormalization()(x2)\n",
        "\n",
        "x2 = Dense(100, activation=\"relu\")(x2)   # 4 слой\n",
        "# x2 = Dropout(0.1)(x2)\n",
        "x2 = BatchNormalization()(x2)\n",
        "\n",
        "x3 = input3                               # Ветка 3\n",
        "\n",
        "x3 = Dense(100, activation=\"relu\")(x3)   # 1 слой\n",
        "x3 = Dropout(0.1)(x3)\n",
        "x3 = BatchNormalization()(x3)\n",
        "\n",
        "x3 = Dense(500, activation=\"relu\")(x3)   # 2 слой\n",
        "x3 = Dropout(0.1)(x3)\n",
        "x3 = BatchNormalization()(x3)\n",
        "\n",
        "x3 = Dense(100, activation=\"relu\")(x3)   # 3 слой\n",
        "# x2 = Dropout(0.1)(x2)\n",
        "x3 = BatchNormalization()(x3)\n",
        "\n",
        "x4 = input4                              # Ветка 4\n",
        "\n",
        "x4 = Dense(2000, activation=\"relu\")(x4)   # 1 слой\n",
        "x4 = Dropout(0.1)(x4)\n",
        "x4 = BatchNormalization()(x4)\n",
        "\n",
        "x4 = Dense(4000, activation=\"relu\")(x4)   # 2 слой\n",
        "x4 = Dropout(0.1)(x4)\n",
        "x4 = BatchNormalization()(x4)\n",
        "\n",
        "x4 = Dense(1000, activation=\"relu\")(x4)   # 3 слой\n",
        "x4 = Dropout(0.1)(x4)\n",
        "x4 = BatchNormalization()(x4)\n",
        "\n",
        "x4 = Dense(100, activation=\"relu\")(x4)   # 4 слой\n",
        "# x1 = Dropout(0.1)(x1)\n",
        "x4 = BatchNormalization()(x4)\n",
        "\n",
        "x = concatenate([x1, x2, x3, x4])             # Объединение 4 веток\n",
        "\n",
        "      \n",
        "x = Dense(100, activation='relu')(x)  # Промежуточный слой\n",
        "# x = Dropout(0.1)(x)\n",
        "x = BatchNormalization()(x)\n",
        "\n",
        "x = Dense(10, activation='relu')(x) \n",
        "# x = Dropout(0.1)(x)\n",
        "x = BatchNormalization()(x)\n",
        "x = Dense(CLASS_COUNT, activation='softmax')(x)      # Финальный слой\n",
        "\n",
        "# В Model передаются входы и выход\n",
        "model_final = Model((input1, input2, input3, input4), x)"
      ]
    },
    {
      "cell_type": "code",
      "execution_count": 95,
      "metadata": {
        "colab": {
          "base_uri": "https://localhost:8080/",
          "height": 1000
        },
        "id": "Wciju0vq8xwK",
        "outputId": "c063d3db-d3ae-4bdb-b315-b921dca51b6f"
      },
      "outputs": [
        {
          "output_type": "execute_result",
          "data": {
            "image/png": "[encoded data removed]",
            "text/plain": [
              "<IPython.core.display.Image object>"
            ]
          },
          "metadata": {},
          "execution_count": 95
        }
      ],
      "source": [
        "utils.plot_model(model_final, dpi=60)"
      ]
    },
    {
      "cell_type": "code",
      "execution_count": 96,
      "metadata": {
        "colab": {
          "base_uri": "https://localhost:8080/"
        },
        "id": "HqQJeB1p8xwL",
        "outputId": "7d011b73-4b91-4b85-e549-bc25e8606639"
      },
      "outputs": [
        {
          "output_type": "stream",
          "name": "stdout",
          "text": [
            "Model: \"model_2\"\n",
            "__________________________________________________________________________________________________\n",
            " Layer (type)                   Output Shape         Param #     Connected to                     \n",
            "==================================================================================================\n",
            " input_9 (InputLayer)           [(None, 200)]        0           []                               \n",
            "                                                                                                  \n",
            " input_10 (InputLayer)          [(None, 400)]        0           []                               \n",
            "                                                                                                  \n",
            " input_12 (InputLayer)          [(None, 400)]        0           []                               \n",
            "                                                                                                  \n",
            " dense_36 (Dense)               (None, 1000)         201000      ['input_9[0][0]']                \n",
            "                                                                                                  \n",
            " dense_40 (Dense)               (None, 2000)         802000      ['input_10[0][0]']               \n",
            "                                                                                                  \n",
            " dense_47 (Dense)               (None, 2000)         802000      ['input_12[0][0]']               \n",
            "                                                                                                  \n",
            " dropout_22 (Dropout)           (None, 1000)         0           ['dense_36[0][0]']               \n",
            "                                                                                                  \n",
            " dropout_25 (Dropout)           (None, 2000)         0           ['dense_40[0][0]']               \n",
            "                                                                                                  \n",
            " dropout_30 (Dropout)           (None, 2000)         0           ['dense_47[0][0]']               \n",
            "                                                                                                  \n",
            " batch_normalization_34 (BatchN  (None, 1000)        4000        ['dropout_22[0][0]']             \n",
            " ormalization)                                                                                    \n",
            "                                                                                                  \n",
            " batch_normalization_38 (BatchN  (None, 2000)        8000        ['dropout_25[0][0]']             \n",
            " ormalization)                                                                                    \n",
            "                                                                                                  \n",
            " input_11 (InputLayer)          [(None, 5)]          0           []                               \n",
            "                                                                                                  \n",
            " batch_normalization_45 (BatchN  (None, 2000)        8000        ['dropout_30[0][0]']             \n",
            " ormalization)                                                                                    \n",
            "                                                                                                  \n",
            " dense_37 (Dense)               (None, 2000)         2002000     ['batch_normalization_34[0][0]'] \n",
            "                                                                                                  \n",
            " dense_41 (Dense)               (None, 4000)         8004000     ['batch_normalization_38[0][0]'] \n",
            "                                                                                                  \n",
            " dense_44 (Dense)               (None, 100)          600         ['input_11[0][0]']               \n",
            "                                                                                                  \n",
            " dense_48 (Dense)               (None, 4000)         8004000     ['batch_normalization_45[0][0]'] \n",
            "                                                                                                  \n",
            " dropout_23 (Dropout)           (None, 2000)         0           ['dense_37[0][0]']               \n",
            "                                                                                                  \n",
            " dropout_26 (Dropout)           (None, 4000)         0           ['dense_41[0][0]']               \n",
            "                                                                                                  \n",
            " dropout_28 (Dropout)           (None, 100)          0           ['dense_44[0][0]']               \n",
            "                                                                                                  \n",
            " dropout_31 (Dropout)           (None, 4000)         0           ['dense_48[0][0]']               \n",
            "                                                                                                  \n",
            " batch_normalization_35 (BatchN  (None, 2000)        8000        ['dropout_23[0][0]']             \n",
            " ormalization)                                                                                    \n",
            "                                                                                                  \n",
            " batch_normalization_39 (BatchN  (None, 4000)        16000       ['dropout_26[0][0]']             \n",
            " ormalization)                                                                                    \n",
            "                                                                                                  \n",
            " batch_normalization_42 (BatchN  (None, 100)         400         ['dropout_28[0][0]']             \n",
            " ormalization)                                                                                    \n",
            "                                                                                                  \n",
            " batch_normalization_46 (BatchN  (None, 4000)        16000       ['dropout_31[0][0]']             \n",
            " ormalization)                                                                                    \n",
            "                                                                                                  \n",
            " dense_38 (Dense)               (None, 1000)         2001000     ['batch_normalization_35[0][0]'] \n",
            "                                                                                                  \n",
            " dense_42 (Dense)               (None, 1000)         4001000     ['batch_normalization_39[0][0]'] \n",
            "                                                                                                  \n",
            " dense_45 (Dense)               (None, 500)          50500       ['batch_normalization_42[0][0]'] \n",
            "                                                                                                  \n",
            " dense_49 (Dense)               (None, 1000)         4001000     ['batch_normalization_46[0][0]'] \n",
            "                                                                                                  \n",
            " dropout_24 (Dropout)           (None, 1000)         0           ['dense_38[0][0]']               \n",
            "                                                                                                  \n",
            " dropout_27 (Dropout)           (None, 1000)         0           ['dense_42[0][0]']               \n",
            "                                                                                                  \n",
            " dropout_29 (Dropout)           (None, 500)          0           ['dense_45[0][0]']               \n",
            "                                                                                                  \n",
            " dropout_32 (Dropout)           (None, 1000)         0           ['dense_49[0][0]']               \n",
            "                                                                                                  \n",
            " batch_normalization_36 (BatchN  (None, 1000)        4000        ['dropout_24[0][0]']             \n",
            " ormalization)                                                                                    \n",
            "                                                                                                  \n",
            " batch_normalization_40 (BatchN  (None, 1000)        4000        ['dropout_27[0][0]']             \n",
            " ormalization)                                                                                    \n",
            "                                                                                                  \n",
            " batch_normalization_43 (BatchN  (None, 500)         2000        ['dropout_29[0][0]']             \n",
            " ormalization)                                                                                    \n",
            "                                                                                                  \n",
            " batch_normalization_47 (BatchN  (None, 1000)        4000        ['dropout_32[0][0]']             \n",
            " ormalization)                                                                                    \n",
            "                                                                                                  \n",
            " dense_39 (Dense)               (None, 100)          100100      ['batch_normalization_36[0][0]'] \n",
            "                                                                                                  \n",
            " dense_43 (Dense)               (None, 100)          100100      ['batch_normalization_40[0][0]'] \n",
            "                                                                                                  \n",
            " dense_46 (Dense)               (None, 100)          50100       ['batch_normalization_43[0][0]'] \n",
            "                                                                                                  \n",
            " dense_50 (Dense)               (None, 100)          100100      ['batch_normalization_47[0][0]'] \n",
            "                                                                                                  \n",
            " batch_normalization_37 (BatchN  (None, 100)         400         ['dense_39[0][0]']               \n",
            " ormalization)                                                                                    \n",
            "                                                                                                  \n",
            " batch_normalization_41 (BatchN  (None, 100)         400         ['dense_43[0][0]']               \n",
            " ormalization)                                                                                    \n",
            "                                                                                                  \n",
            " batch_normalization_44 (BatchN  (None, 100)         400         ['dense_46[0][0]']               \n",
            " ormalization)                                                                                    \n",
            "                                                                                                  \n",
            " batch_normalization_48 (BatchN  (None, 100)         400         ['dense_50[0][0]']               \n",
            " ormalization)                                                                                    \n",
            "                                                                                                  \n",
            " concatenate_2 (Concatenate)    (None, 400)          0           ['batch_normalization_37[0][0]', \n",
            "                                                                  'batch_normalization_41[0][0]', \n",
            "                                                                  'batch_normalization_44[0][0]', \n",
            "                                                                  'batch_normalization_48[0][0]'] \n",
            "                                                                                                  \n",
            " dense_51 (Dense)               (None, 100)          40100       ['concatenate_2[0][0]']          \n",
            "                                                                                                  \n",
            " batch_normalization_49 (BatchN  (None, 100)         400         ['dense_51[0][0]']               \n",
            " ormalization)                                                                                    \n",
            "                                                                                                  \n",
            " dense_52 (Dense)               (None, 10)           1010        ['batch_normalization_49[0][0]'] \n",
            "                                                                                                  \n",
            " batch_normalization_50 (BatchN  (None, 10)          40          ['dense_52[0][0]']               \n",
            " ormalization)                                                                                    \n",
            "                                                                                                  \n",
            " dense_53 (Dense)               (None, 3)            33          ['batch_normalization_50[0][0]'] \n",
            "                                                                                                  \n",
            "==================================================================================================\n",
            "Total params: 30,337,083\n",
            "Trainable params: 30,298,863\n",
            "Non-trainable params: 38,220\n",
            "__________________________________________________________________________________________________\n"
          ]
        }
      ],
      "source": [
        "model_final.summary()"
      ]
    },
    {
      "cell_type": "code",
      "execution_count": 97,
      "metadata": {
        "colab": {
          "base_uri": "https://localhost:8080/",
          "height": 1000
        },
        "id": "iXcEX8ZA8xwL",
        "outputId": "2ae63f74-618c-476d-f963-e9b68f82908c"
      },
      "outputs": [
        {
          "output_type": "stream",
          "name": "stdout",
          "text": [
            "Epoch 1/30\n",
            "176/176 [==============================] - 86s 430ms/step - loss: 1.1879 - accuracy: 0.4815 - val_loss: 1.9454 - val_accuracy: 0.0000e+00\n",
            "Epoch 2/30\n",
            "176/176 [==============================] - 79s 447ms/step - loss: 0.9083 - accuracy: 0.5819 - val_loss: 1.3466 - val_accuracy: 0.1467\n",
            "Epoch 3/30\n",
            "176/176 [==============================] - 72s 407ms/step - loss: 0.7321 - accuracy: 0.6752 - val_loss: 0.3982 - val_accuracy: 0.9145\n",
            "Epoch 4/30\n",
            "176/176 [==============================] - 73s 413ms/step - loss: 0.6487 - accuracy: 0.7176 - val_loss: 0.2897 - val_accuracy: 0.9302\n",
            "Epoch 5/30\n",
            "176/176 [==============================] - 79s 450ms/step - loss: 0.5867 - accuracy: 0.7528 - val_loss: 0.2417 - val_accuracy: 0.9017\n",
            "Epoch 6/30\n",
            "176/176 [==============================] - 73s 415ms/step - loss: 0.5417 - accuracy: 0.7764 - val_loss: 0.2252 - val_accuracy: 0.9487\n",
            "Epoch 7/30\n",
            "176/176 [==============================] - 72s 408ms/step - loss: 0.5147 - accuracy: 0.7870 - val_loss: 0.1926 - val_accuracy: 0.9715\n",
            "Epoch 8/30\n",
            "176/176 [==============================] - 72s 408ms/step - loss: 0.4927 - accuracy: 0.8102 - val_loss: 0.1751 - val_accuracy: 0.9815\n",
            "Epoch 9/30\n",
            "176/176 [==============================] - 71s 405ms/step - loss: 0.4676 - accuracy: 0.8113 - val_loss: 0.1737 - val_accuracy: 0.9815\n",
            "Epoch 10/30\n",
            "176/176 [==============================] - 72s 410ms/step - loss: 0.4455 - accuracy: 0.8337 - val_loss: 0.1546 - val_accuracy: 0.9815\n",
            "Epoch 11/30\n",
            "176/176 [==============================] - 72s 410ms/step - loss: 0.4251 - accuracy: 0.8451 - val_loss: 0.1454 - val_accuracy: 0.9815\n",
            "Epoch 12/30\n",
            "176/176 [==============================] - 70s 400ms/step - loss: 0.4048 - accuracy: 0.8454 - val_loss: 0.1323 - val_accuracy: 0.9815\n",
            "Epoch 13/30\n",
            "176/176 [==============================] - 70s 399ms/step - loss: 0.4036 - accuracy: 0.8458 - val_loss: 0.1343 - val_accuracy: 0.9815\n",
            "Epoch 14/30\n",
            "176/176 [==============================] - 71s 401ms/step - loss: 0.3924 - accuracy: 0.8547 - val_loss: 0.1229 - val_accuracy: 0.9815\n",
            "Epoch 15/30\n",
            "176/176 [==============================] - 70s 401ms/step - loss: 0.3849 - accuracy: 0.8511 - val_loss: 0.1182 - val_accuracy: 0.9815\n",
            "Epoch 16/30\n",
            "176/176 [==============================] - 71s 401ms/step - loss: 0.3696 - accuracy: 0.8657 - val_loss: 0.1161 - val_accuracy: 0.9815\n",
            "Epoch 17/30\n",
            "176/176 [==============================] - 70s 400ms/step - loss: 0.3755 - accuracy: 0.8611 - val_loss: 0.1117 - val_accuracy: 0.9815\n",
            "Epoch 18/30\n",
            "176/176 [==============================] - 70s 400ms/step - loss: 0.3588 - accuracy: 0.8711 - val_loss: 0.1110 - val_accuracy: 0.9815\n",
            "Epoch 19/30\n",
            "176/176 [==============================] - 71s 406ms/step - loss: 0.3515 - accuracy: 0.8768 - val_loss: 0.1099 - val_accuracy: 0.9815\n",
            "Epoch 20/30\n",
            "176/176 [==============================] - 71s 406ms/step - loss: 0.3420 - accuracy: 0.8864 - val_loss: 0.1000 - val_accuracy: 0.9815\n",
            "Epoch 21/30\n",
            "176/176 [==============================] - 70s 395ms/step - loss: 0.3364 - accuracy: 0.8864 - val_loss: 0.1004 - val_accuracy: 0.9815\n",
            "Epoch 22/30\n",
            "176/176 [==============================] - 70s 397ms/step - loss: 0.3272 - accuracy: 0.8917 - val_loss: 0.0992 - val_accuracy: 1.0000\n",
            "Epoch 23/30\n",
            "176/176 [==============================] - 70s 399ms/step - loss: 0.3258 - accuracy: 0.8900 - val_loss: 0.0950 - val_accuracy: 1.0000\n",
            "Epoch 24/30\n",
            "176/176 [==============================] - 71s 402ms/step - loss: 0.3132 - accuracy: 0.8967 - val_loss: 0.0896 - val_accuracy: 1.0000\n",
            "Epoch 25/30\n",
            "176/176 [==============================] - 71s 402ms/step - loss: 0.3137 - accuracy: 0.8914 - val_loss: 0.0885 - val_accuracy: 1.0000\n",
            "Epoch 26/30\n",
            "176/176 [==============================] - 69s 391ms/step - loss: 0.3195 - accuracy: 0.8917 - val_loss: 0.0861 - val_accuracy: 1.0000\n",
            "Epoch 27/30\n",
            "176/176 [==============================] - 74s 419ms/step - loss: 0.3034 - accuracy: 0.9003 - val_loss: 0.0847 - val_accuracy: 1.0000\n",
            "Epoch 28/30\n",
            "176/176 [==============================] - 77s 441ms/step - loss: 0.2988 - accuracy: 0.9042 - val_loss: 0.0827 - val_accuracy: 1.0000\n",
            "Epoch 29/30\n",
            "176/176 [==============================] - 72s 410ms/step - loss: 0.2960 - accuracy: 0.9049 - val_loss: 0.0839 - val_accuracy: 1.0000\n",
            "Epoch 30/30\n",
            "176/176 [==============================] - 76s 430ms/step - loss: 0.2806 - accuracy: 0.9120 - val_loss: 0.0841 - val_accuracy: 1.0000\n"
          ]
        },
        {
          "output_type": "display_data",
          "data": {
            "text/plain": [
              "<Figure size 1800x500 with 2 Axes>"
            ],
            "image/png": "[encoded data removed]"
          },
          "metadata": {}
        }
      ],
      "source": [
        "# Обучение модели\n",
        "model_final.compile(optimizer=Adam(learning_rate=1e-6), loss='categorical_crossentropy', metrics=['accuracy'])\n",
        "history = model_final.fit([x_train_harm, x_train_Diag, x_train_gz, x_train_recom], \n",
        "                           y_train,\n",
        "                           shuffle=True,\n",
        "                           batch_size=16, \n",
        "                           epochs=30, \n",
        "                           validation_split=0.2,\n",
        "                           verbose=1)\n",
        "\n",
        "# Создание полотна для рисунка\n",
        "plt.figure(1, figsize=(18, 5))\n",
        "\n",
        "# Задание первой (левой) области для построения графиков\n",
        "plt.subplot(1, 2, 1)\n",
        "# Отрисовка графиков 'loss' и 'val_loss' из значений словаря store_learning.history\n",
        "plt.plot(history.history['loss'], \n",
        "         label='Значение ошибки на обучающем наборе')\n",
        "plt.plot(history.history['val_loss'], \n",
        "         label='Значение ошибки на проверочном наборе')\n",
        "# Задание подписей осей \n",
        "plt.xlabel('Эпоха обучения')\n",
        "plt.ylabel('Значение ошибки')\n",
        "plt.legend()\n",
        "\n",
        "# Задание второй (правой) области для построения графиков\n",
        "plt.subplot(1, 2, 2) \n",
        "# Отрисовка графиков 'accuracy' и 'val_accuracy' из значений словаря store_learning.history\n",
        "plt.plot(history.history['accuracy'], \n",
        "         label='Доля верных ответов на обучающем наборе')\n",
        "plt.plot(history.history['val_accuracy'], \n",
        "         label='Доля верных ответов на проверочном наборе')\n",
        "# Задание подписей осей \n",
        "plt.xlabel('Эпоха обучения')\n",
        "plt.ylabel('Доля верных ответов')\n",
        "plt.legend()\n",
        "\n",
        "# Фиксация графиков и рисование всей картинки\n",
        "plt.show()"
      ]
    },
    {
      "cell_type": "code",
      "execution_count": 98,
      "metadata": {
        "id": "aA2swiMKSDQf"
      },
      "outputs": [],
      "source": [
        "# Сохраним модель на диске\n",
        "model_final.save( 'model_7th.h5' )"
      ]
    },
    {
      "cell_type": "code",
      "execution_count": null,
      "metadata": {
        "colab": {
          "base_uri": "https://localhost:8080/",
          "height": 34
        },
        "id": "lAdX3GnkdUYD",
        "outputId": "172f5c77-3ae4-40d5-bd06-5ff83708fc3a"
      },
      "outputs": [
        {
          "data": {
            "application/javascript": [
              "\n",
              "    async function download(id, filename, size) {\n",
              "      if (!google.colab.kernel.accessAllowed) {\n",
              "        return;\n",
              "      }\n",
              "      const div = document.createElement('div');\n",
              "      const label = document.createElement('label');\n",
              "      label.textContent = `Downloading \"${filename}\": `;\n",
              "      div.appendChild(label);\n",
              "      const progress = document.createElement('progress');\n",
              "      progress.max = size;\n",
              "      div.appendChild(progress);\n",
              "      document.body.appendChild(div);\n",
              "\n",
              "      const buffers = [];\n",
              "      let downloaded = 0;\n",
              "\n",
              "      const channel = await google.colab.kernel.comms.open(id);\n",
              "      // Send a message to notify the kernel that we're ready.\n",
              "      channel.send({})\n",
              "\n",
              "      for await (const message of channel.messages) {\n",
              "        // Send a message to notify the kernel that we're ready.\n",
              "        channel.send({})\n",
              "        if (message.buffers) {\n",
              "          for (const buffer of message.buffers) {\n",
              "            buffers.push(buffer);\n",
              "            downloaded += buffer.byteLength;\n",
              "            progress.value = downloaded;\n",
              "          }\n",
              "        }\n",
              "      }\n",
              "      const blob = new Blob(buffers, {type: 'application/binary'});\n",
              "      const a = document.createElement('a');\n",
              "      a.href = window.URL.createObjectURL(blob);\n",
              "      a.download = filename;\n",
              "      div.appendChild(a);\n",
              "      a.click();\n",
              "      div.remove();\n",
              "    }\n",
              "  "
            ],
            "text/plain": [
              "<IPython.core.display.Javascript object>"
            ]
          },
          "metadata": {},
          "output_type": "display_data"
        },
        {
          "data": {
            "application/javascript": [
              "download(\"download_5d6237c1-62c7-4467-a2e4-2dd9ef324a26\", \"model_7th.h5\", 316868752)"
            ],
            "text/plain": [
              "<IPython.core.display.Javascript object>"
            ]
          },
          "metadata": {},
          "output_type": "display_data"
        }
      ],
      "source": [
        "files.download(filename='model_7th.h5')"
      ]
    },
    {
      "cell_type": "code",
      "execution_count": 99,
      "metadata": {
        "id": "_9lfLgKdUKkD"
      },
      "outputs": [],
      "source": [
        "# Загрузка модели\n",
        "model_download = tf.keras.models.load_model('model_7th.h5')"
      ]
    },
    {
      "cell_type": "code",
      "execution_count": 100,
      "metadata": {
        "colab": {
          "base_uri": "https://localhost:8080/",
          "height": 977
        },
        "id": "lTtxhHff8xwM",
        "outputId": "177aa030-8b1d-4387-b556-77439e352d95"
      },
      "outputs": [
        {
          "output_type": "stream",
          "name": "stdout",
          "text": [
            "110/110 [==============================] - 7s 61ms/step\n"
          ]
        },
        {
          "output_type": "display_data",
          "data": {
            "text/plain": [
              "<Figure size 1000x1000 with 1 Axes>"
            ],
            "image/png": "[encoded data removed]"
          },
          "metadata": {}
        },
        {
          "output_type": "stream",
          "name": "stdout",
          "text": [
            "----------------------------------------------------------------------------------------------------\n",
            "Нейросеть: \n",
            "\n",
            "Средняя точность распознавания:  96%\n"
          ]
        }
      ],
      "source": [
        "# Запуск предсказания и визуализация\n",
        "eval_model(model_download, [x_train_harm, x_train_Diag, x_train_gz, x_train_recom], \n",
        "                           y_train, class_labels = CLASS_DICT)"
      ]
    },
    {
      "cell_type": "code",
      "execution_count": 101,
      "metadata": {
        "colab": {
          "base_uri": "https://localhost:8080/",
          "height": 274
        },
        "id": "jGxShuBI8xwM",
        "outputId": "f845462b-a560-4577-9239-f52b0c4767a5"
      },
      "outputs": [
        {
          "output_type": "stream",
          "name": "stdout",
          "text": [
            "110/110 [==============================] - 6s 59ms/step\n"
          ]
        },
        {
          "output_type": "execute_result",
          "data": {
            "text/plain": [
              "  Реальное заключение  Реальный вектор  Реальный класс Предсказанный вектор  \\\n",
              "0             Негоден  [1.0, 0.0, 0.0]               0   [0.97, 0.03, 0.01]   \n",
              "1    ОграниченноГоден  [0.0, 1.0, 0.0]               1    [0.0, 0.97, 0.03]   \n",
              "2               Годен  [0.0, 0.0, 1.0]               2   [0.01, 0.68, 0.31]   \n",
              "\n",
              "   Предсказанный класс    ГЗ Вредность  \\\n",
              "0                    0               9   \n",
              "1                    1  IIIа      1.50   \n",
              "2                    1    II    4.4,15   \n",
              "\n",
              "                                            Диагнозы  \\\n",
              "0  Нарушение функции вестибулярного анализатора л...   \n",
              "1  Общий медицинский осмотр,Астигматизм,Общий мед...   \n",
              "2  Общий медицинский осмотр,Миопия,Общий медицинс...   \n",
              "\n",
              "                                        Рекомендации  \n",
              "0                                                     \n",
              "1  Наблюдение офтальмолога по мж,набдюдение по ме...  \n",
              "2                      Наблюдение офтальмолога по мж  "
            ],
            "text/html": [
              "\n",
              "  <div id=\"df-3954d9a1-01f0-466e-a76a-2b27376e8af7\">\n",
              "    <div class=\"colab-df-container\">\n",
              "      <div>\n",
              "<style scoped>\n",
              "    .dataframe tbody tr th:only-of-type {\n",
              "        vertical-align: middle;\n",
              "    }\n",
              "\n",
              "    .dataframe tbody tr th {\n",
              "        vertical-align: top;\n",
              "    }\n",
              "\n",
              "    .dataframe thead th {\n",
              "        text-align: right;\n",
              "    }\n",
              "</style>\n",
              "<table border=\"1\" class=\"dataframe\">\n",
              "  <thead>\n",
              "    <tr style=\"text-align: right;\">\n",
              "      <th></th>\n",
              "      <th>Реальное заключение</th>\n",
              "      <th>Реальный вектор</th>\n",
              "      <th>Реальный класс</th>\n",
              "      <th>Предсказанный вектор</th>\n",
              "      <th>Предсказанный класс</th>\n",
              "      <th>ГЗ</th>\n",
              "      <th>Вредность</th>\n",
              "      <th>Диагнозы</th>\n",
              "      <th>Рекомендации</th>\n",
              "    </tr>\n",
              "  </thead>\n",
              "  <tbody>\n",
              "    <tr>\n",
              "      <th>0</th>\n",
              "      <td>Негоден</td>\n",
              "      <td>[1.0, 0.0, 0.0]</td>\n",
              "      <td>0</td>\n",
              "      <td>[0.97, 0.03, 0.01]</td>\n",
              "      <td>0</td>\n",
              "      <td></td>\n",
              "      <td>9</td>\n",
              "      <td>Нарушение функции вестибулярного анализатора л...</td>\n",
              "      <td></td>\n",
              "    </tr>\n",
              "    <tr>\n",
              "      <th>1</th>\n",
              "      <td>ОграниченноГоден</td>\n",
              "      <td>[0.0, 1.0, 0.0]</td>\n",
              "      <td>1</td>\n",
              "      <td>[0.0, 0.97, 0.03]</td>\n",
              "      <td>1</td>\n",
              "      <td>IIIа</td>\n",
              "      <td>1.50</td>\n",
              "      <td>Общий медицинский осмотр,Астигматизм,Общий мед...</td>\n",
              "      <td>Наблюдение офтальмолога по мж,набдюдение по ме...</td>\n",
              "    </tr>\n",
              "    <tr>\n",
              "      <th>2</th>\n",
              "      <td>Годен</td>\n",
              "      <td>[0.0, 0.0, 1.0]</td>\n",
              "      <td>2</td>\n",
              "      <td>[0.01, 0.68, 0.31]</td>\n",
              "      <td>1</td>\n",
              "      <td>II</td>\n",
              "      <td>4.4,15</td>\n",
              "      <td>Общий медицинский осмотр,Миопия,Общий медицинс...</td>\n",
              "      <td>Наблюдение офтальмолога по мж</td>\n",
              "    </tr>\n",
              "  </tbody>\n",
              "</table>\n",
              "</div>\n",
              "      <button class=\"colab-df-convert\" onclick=\"convertToInteractive('df-3954d9a1-01f0-466e-a76a-2b27376e8af7')\"\n",
              "              title=\"Convert this dataframe to an interactive table.\"\n",
              "              style=\"display:none;\">\n",
              "        \n",
              "  <svg xmlns=\"http://www.w3.org/2000/svg\" height=\"24px\"viewBox=\"0 0 24 24\"\n",
              "       width=\"24px\">\n",
              "    <path d=\"M0 0h24v24H0V0z\" fill=\"none\"/>\n",
              "    <path d=\"M18.56 5.44l.94 2.06.94-2.06 2.06-.94-2.06-.94-.94-2.06-.94 2.06-2.06.94zm-11 1L8.5 8.5l.94-2.06 2.06-.94-2.06-.94L8.5 2.5l-.94 2.06-2.06.94zm10 10l.94 2.06.94-2.06 2.06-.94-2.06-.94-.94-2.06-.94 2.06-2.06.94z\"/><path d=\"M17.41 7.96l-1.37-1.37c-.4-.4-.92-.59-1.43-.59-.52 0-1.04.2-1.43.59L10.3 9.45l-7.72 7.72c-.78.78-.78 2.05 0 2.83L4 21.41c.39.39.9.59 1.41.59.51 0 1.02-.2 1.41-.59l7.78-7.78 2.81-2.81c.8-.78.8-2.07 0-2.86zM5.41 20L4 18.59l7.72-7.72 1.47 1.35L5.41 20z\"/>\n",
              "  </svg>\n",
              "      </button>\n",
              "      \n",
              "  <style>\n",
              "    .colab-df-container {\n",
              "      display:flex;\n",
              "      flex-wrap:wrap;\n",
              "      gap: 12px;\n",
              "    }\n",
              "\n",
              "    .colab-df-convert {\n",
              "      background-color: #E8F0FE;\n",
              "      border: none;\n",
              "      border-radius: 50%;\n",
              "      cursor: pointer;\n",
              "      display: none;\n",
              "      fill: #1967D2;\n",
              "      height: 32px;\n",
              "      padding: 0 0 0 0;\n",
              "      width: 32px;\n",
              "    }\n",
              "\n",
              "    .colab-df-convert:hover {\n",
              "      background-color: #E2EBFA;\n",
              "      box-shadow: 0px 1px 2px rgba(60, 64, 67, 0.3), 0px 1px 3px 1px rgba(60, 64, 67, 0.15);\n",
              "      fill: #174EA6;\n",
              "    }\n",
              "\n",
              "    [theme=dark] .colab-df-convert {\n",
              "      background-color: #3B4455;\n",
              "      fill: #D2E3FC;\n",
              "    }\n",
              "\n",
              "    [theme=dark] .colab-df-convert:hover {\n",
              "      background-color: #434B5C;\n",
              "      box-shadow: 0px 1px 3px 1px rgba(0, 0, 0, 0.15);\n",
              "      filter: drop-shadow(0px 1px 2px rgba(0, 0, 0, 0.3));\n",
              "      fill: #FFFFFF;\n",
              "    }\n",
              "  </style>\n",
              "\n",
              "      <script>\n",
              "        const buttonEl =\n",
              "          document.querySelector('#df-3954d9a1-01f0-466e-a76a-2b27376e8af7 button.colab-df-convert');\n",
              "        buttonEl.style.display =\n",
              "          google.colab.kernel.accessAllowed ? 'block' : 'none';\n",
              "\n",
              "        async function convertToInteractive(key) {\n",
              "          const element = document.querySelector('#df-3954d9a1-01f0-466e-a76a-2b27376e8af7');\n",
              "          const dataTable =\n",
              "            await google.colab.kernel.invokeFunction('convertToInteractive',\n",
              "                                                     [key], {});\n",
              "          if (!dataTable) return;\n",
              "\n",
              "          const docLinkHtml = 'Like what you see? Visit the ' +\n",
              "            '<a target=\"_blank\" href=https://colab.research.google.com/notebooks/data_table.ipynb>data table notebook</a>'\n",
              "            + ' to learn more about interactive tables.';\n",
              "          element.innerHTML = '';\n",
              "          dataTable['output_type'] = 'display_data';\n",
              "          await google.colab.output.renderOutput(dataTable, element);\n",
              "          const docLink = document.createElement('div');\n",
              "          docLink.innerHTML = docLinkHtml;\n",
              "          element.appendChild(docLink);\n",
              "        }\n",
              "      </script>\n",
              "    </div>\n",
              "  </div>\n",
              "  "
            ]
          },
          "metadata": {},
          "execution_count": 101
        }
      ],
      "source": [
        "# Пример предсказания\n",
        "\n",
        "# обновляем номера индексов\n",
        "dffix5=dffix5.reset_index(drop=True)\n",
        "\n",
        "# Получаем список номеров строк (индексов) с соответсвующими классами           \n",
        "indexes_0 = dffix5.loc[dffix5['ЗаключениеМК'] == 'Негоден'].index.tolist()\n",
        "indexes_1 = dffix5.loc[dffix5['ЗаключениеМК'] == 'ОграниченноГоден'].index.tolist()\n",
        "indexes_2 = dffix5.loc[dffix5['ЗаключениеМК'] == 'Годен'].index.tolist()\n",
        "\n",
        "# Случайно выбираем по одному представителю из класса\n",
        "n_0 = random.choice(indexes_0)\n",
        "n_1 = random.choice(indexes_1)\n",
        "n_2 = random.choice(indexes_2)\n",
        "\n",
        "# Предсказание по сформированной выборке Вредности и Диагноза\n",
        "y_pred = model_download.predict([x_train_harm, x_train_Diag, x_train_gz, x_train_recom])\n",
        "\n",
        "# Перевод полученного вектора в номера классов (0,1,2)\n",
        "y = np.argmax(y_pred, axis=-1)\n",
        "\n",
        "# Сформируем таблицу с выводом реальных значений и предсказания\n",
        "df_pred = pd.DataFrame({'Реальное заключение': ['Негоден', 'ОграниченноГоден', 'Годен'],\n",
        "                   'Реальный вектор': [y_train[n_0], y_train[n_1], y_train[n_2]],\n",
        "                   'Реальный класс': [y_data[n_0], y_data[n_1], y_data[n_2]],\n",
        "                   'Предсказанный вектор': [y_pred[n_0], y_pred[n_1], y_pred[n_2]],\n",
        "                   'Предсказанный класс': [y[n_0], y[n_1], y[n_2]],\n",
        "                   'ГЗ': [dffix5.iloc[n_0][1], dffix5.iloc[n_1][1], dffix5.iloc[n_2][1]],\n",
        "                   'Вредность': [dffix5.iloc[n_0][2], dffix5.iloc[n_1][2], dffix5.iloc[n_2][2]],\n",
        "                   'Диагнозы': [dffix5.iloc[n_0][3], dffix5.iloc[n_1][3], dffix5.iloc[n_2][3]],\n",
        "                   'Рекомендации': [dffix5.iloc[n_0][4], dffix5.iloc[n_1][4], dffix5.iloc[n_2][4]]\n",
        "                   })\n",
        "\n",
        "df_pred['Предсказанный вектор'] = df_pred['Предсказанный вектор'].apply(format_vector)\n",
        "\n",
        "df_pred"
      ]
    },
    {
      "cell_type": "code",
      "execution_count": 102,
      "metadata": {
        "id": "icHMPp8TCwgZ"
      },
      "outputs": [],
      "source": [
        "# Сформируем отдельную функцию, которая по получаемой тестовой выборке сделает предсказание и выдаст результат\n",
        "def getpred(df_in):\n",
        "  # Получаем на вход некую таблицу данных вида аналогичного первоначально предоставленной\n",
        "  # Подготовка таблицы данных\n",
        "  # Убираем полностью пустые строки\n",
        "  df_in = df_in.dropna(axis=1, how='all')\n",
        "\n",
        "  # Убираем строки в которых отстутствует одно из встреченных заключений Профпатолога (ПП)\n",
        "  df_in = df_in[df_in['ЗаключениеМК'].isin(['Годен',\n",
        "                                      'ГоденСКоррекциейЗрения',\n",
        "                                      'ВременноНегоден',\n",
        "                                      'НуждаетсяВДообследованииИЛечении',\n",
        "                                      'ОграниченноГоден',\n",
        "                                      'ГоденБезРаботНаВысотах'])]\n",
        "\n",
        "  # Приводим к 3-м классам (Годен, Негоден, ОграниченноГоден)\n",
        "  df_in.loc[df_in['ЗаключениеМК'] == 'ВременноНегоден', 'ЗаключениеМК'] = 'Негоден'\n",
        "  df_in.loc[df_in['ЗаключениеМК'] == 'НуждаетсяВДообследованииИЛечении', 'ЗаключениеМК'] = 'Негоден'\n",
        "  df_in.loc[df_in['ЗаключениеМК'] == 'ГоденСКоррекциейЗрения', 'ЗаключениеМК'] = 'ОграниченноГоден'\n",
        "  df_in.loc[df_in['ЗаключениеМК'] == 'ГоденБезРаботНаВысотах', 'ЗаключениеМК'] = 'ОграниченноГоден'\n",
        "\n",
        "  # Для удобства обращения к столбцу, переименуем его в название из одного слова\n",
        "  df_in.rename(columns = {'Диспансерная Группа':'ГруппаЗдоровья'}, inplace = True )\n",
        "\n",
        "  # Оставляем только значащие для нас колонки: Заключение ПП, Вредность и Диагнозы узких специалистов в текстовом представлении\n",
        "  df_in = df_in[['ЗаключениеМК',\n",
        "'ГруппаЗдоровья',\n",
        "'Вредность',\n",
        "'Психиатрия Наркология1 Диагноз Представление1',\n",
        "'Офтальмология1_ДиагнозПредставление1',\n",
        "'Оториноларингология1_ДиагнозПредставление1',\n",
        "'Гинекология1_ДиагнозПредставление1',\n",
        "'Стоматология1_ДиагнозПредставление1',\n",
        "'Дерматовенерология1_ДиагнозПредставление1',\n",
        "'Неврология1_ДиагнозПредставление1',\n",
        "'Терапия1_ДиагнозПредставление1',\n",
        "'Хирургия1_ДиагнозПредставление1',\n",
        "'Офтальмология1_ДиагнозПредставление2',\n",
        "'Терапия2_ДиагнозПредставление1',\n",
        "'ЛабораторныеИсследования1_ХР_Рекомендация1Представление',\n",
        " 'ПсихиатрияНаркология1_ХР_Рекомендация1Представление',\n",
        " 'Офтальмология1_ХР_Рекомендация1Представление',\n",
        " 'Офтальмология1_ХР_Рекомендация2Представление',\n",
        " 'Оториноларингология1_ХР_Рекомендация1Представление',\n",
        " 'Гинекология1_ХР_Рекомендация1Представление',\n",
        " 'Гинекология1_ХР_Рекомендация2Представление',\n",
        " 'ФункциональнаяДиагностика1_ХР_Рекомендация1Представление',\n",
        "'Стоматология1_ХР_Рекомендация1Представление',\n",
        "'Терапия1_ХР_Рекомендация2Представление',\n",
        "'Дерматовенерология1_ХР_Рекомендация1Представление',\n",
        "'Дерматовенерология1_ХР_Рекомендация2Представление',\n",
        "'Неврология1_ХР_Рекомендация1Представление',\n",
        "'УЗИДиагностика1_Заключение_ЗначениеПредставление',\n",
        "'Хирургия1_ХР_Рекомендация1Представление',\n",
        "'Терапия2_ХР_Рекомендация1Представление'\n",
        "  ]]\n",
        "\n",
        "  # Заменяем отсутсвтующие записи узких специалистов в пробелы\n",
        "  df_in=df_in.fillna('')\n",
        "\n",
        "  # Обобщенный диагноз - собирем диагнозы узких специалистов в одну строку через запятую\n",
        "  df_in['Свод_Диагноз'] = (df_in['Психиатрия Наркология1 Диагноз Представление1'].map(str) + ','\n",
        "  + df_in['Офтальмология1_ДиагнозПредставление1'].map(str)+ ','\n",
        "  + df_in['Оториноларингология1_ДиагнозПредставление1'].map(str)+ ','\n",
        "  + df_in['Гинекология1_ДиагнозПредставление1'].map(str)+ ','\n",
        "  + df_in['Стоматология1_ДиагнозПредставление1'].map(str)+ ','\n",
        "  + df_in['Дерматовенерология1_ДиагнозПредставление1'].map(str)+ ','\n",
        "  + df_in['Неврология1_ДиагнозПредставление1'].map(str)+ ','\n",
        "  + df_in['Терапия1_ДиагнозПредставление1'].map(str)+ ','\n",
        "  + df_in['Хирургия1_ДиагнозПредставление1'].map(str)+ ','\n",
        "  + df_in['Офтальмология1_ДиагнозПредставление2'].map(str)+ ','\n",
        "  + df_in['Терапия2_ДиагнозПредставление1'].map(str))\n",
        "\n",
        "\n",
        "  # Обобщенная рекомендация\n",
        "  df_in['Рекомендации'] = (df_in['ЛабораторныеИсследования1_ХР_Рекомендация1Представление'].map(str) + ','\n",
        "  + df_in['ПсихиатрияНаркология1_ХР_Рекомендация1Представление'].map(str)+ ','\n",
        "  + df_in['Офтальмология1_ХР_Рекомендация1Представление'].map(str)+ ','\n",
        "  + df_in['Офтальмология1_ХР_Рекомендация2Представление'].map(str)+ ','\n",
        "  + df_in['Оториноларингология1_ХР_Рекомендация1Представление'].map(str)+ ','\n",
        "  + df_in['Гинекология1_ХР_Рекомендация1Представление'].map(str)+ ','\n",
        "  + df_in['Гинекология1_ХР_Рекомендация2Представление'].map(str)+ ','\n",
        "  + df_in['ФункциональнаяДиагностика1_ХР_Рекомендация1Представление'].map(str)+ ','\n",
        "  + df_in['Стоматология1_ХР_Рекомендация1Представление'].map(str)+ ','\n",
        "  + df_in['Терапия1_ХР_Рекомендация2Представление'].map(str)+ ','\n",
        "  + df_in['Дерматовенерология1_ХР_Рекомендация1Представление'].map(str)+ ','\n",
        "  + df_in['Дерматовенерология1_ХР_Рекомендация2Представление'].map(str)+ ','\n",
        "  + df_in['Неврология1_ХР_Рекомендация1Представление'].map(str)+ ','\n",
        "  + df_in['УЗИДиагностика1_Заключение_ЗначениеПредставление'].map(str)+ ','\n",
        "  + df_in['Хирургия1_ХР_Рекомендация1Представление'].map(str)+ ','\n",
        "  + df_in['Терапия2_ХР_Рекомендация1Представление'].map(str))\n",
        "\n",
        "  # Упрвостим таблицу данных до 5 столбцов\n",
        "  df_in = df_in[['ЗаключениеМК',\n",
        "                 'ГруппаЗдоровья',\n",
        "                 'Вредность',\n",
        "                 'Свод_Диагноз',\n",
        "                 'Рекомендации']]\n",
        "\n",
        "  # Получаем новую таблицу данных\n",
        "  df_res1=diag_adv(df_in)\n",
        "  df_res=recom_adv(df_res1)\n",
        "\n",
        "  # Удаляем строки с отстуствующими записями всех узких специалистов                    \n",
        "  df_res = df_res[df_res['Диагнозы']!='']\n",
        "\n",
        "  # обновляем номера индексов\n",
        "  df_res=df_res.reset_index(drop=True)\n",
        "  return df_res"
      ]
    },
    {
      "cell_type": "code",
      "execution_count": 103,
      "metadata": {
        "id": "JtnTMuV_Ng58"
      },
      "outputs": [],
      "source": [
        "# Функция преобразования данных из таблицы во входные данные для модели\n",
        "\n",
        "def getXdata (df_res):\n",
        "  # Извлечение текстов о вредности для выборки\n",
        "  harm_text = extract_harm_text(df_res) \n",
        "\n",
        "  tokenizer_harm.fit_on_texts(harm_text)\n",
        "  items_harm = list(tokenizer_harm.word_index.items())\n",
        "\n",
        "  # Преобразование текстов в последовательность индексов согласно частотному словарю\n",
        "  harm_seq = tokenizer_harm.texts_to_sequences(harm_text)\n",
        "\n",
        "  # Преобразование последовательностей индексов в bag of words\n",
        "  x_harm = tokenizer_harm.sequences_to_matrix(harm_seq)\n",
        "\n",
        "  # Извлечение текстов о сводном диагнозе для выборки\n",
        "  Diag_text = extract_Diag_text(df_res) \n",
        "\n",
        "  tokenizer_Diag.fit_on_texts(Diag_text)\n",
        "  items_Diag = list(tokenizer_Diag.word_index.items())\n",
        "\n",
        "  # Преобразование текстов в последовательность индексов согласно частотному словарю\n",
        "  Diag_seq = tokenizer_Diag.texts_to_sequences(Diag_text)\n",
        "\n",
        "  # Преобразование последовательностей индексов в bag of words\n",
        "  x_diag = tokenizer_Diag.sequences_to_matrix(Diag_seq)\n",
        "\n",
        "\n",
        "  # Извлечение текстов о рекомендациях для выборки\n",
        "  recom_text = extract_recom_text(df_res) \n",
        "\n",
        "  tokenizer_recom.fit_on_texts(recom_text)\n",
        "  items_recom = list(tokenizer_recom.word_index.items())\n",
        "\n",
        "  # Преобразование текстов в последовательность индексов согласно частотному словарю\n",
        "  recom_seq = tokenizer_recom.texts_to_sequences(recom_text)\n",
        "\n",
        "  # Преобразование последовательностей индексов в bag of words\n",
        "  x_recom = tokenizer_recom.sequences_to_matrix(recom_seq)\n",
        "\n",
        "   \n",
        "\n",
        "  return x_harm, x_diag, x_recom\n"
      ]
    },
    {
      "cell_type": "code",
      "execution_count": 104,
      "metadata": {
        "id": "8YsXhTvFuXF9"
      },
      "outputs": [],
      "source": [
        "# Формирование выборки из тестовой таблицы\n",
        "x_test_harm, x_test_diag, x_test_recom = getXdata (dffix5[:10])\n",
        "\n",
        "x_test_gz = extract_gz(dffix5[:10])\n",
        "\n",
        "y_data_test, y_vect_test = Y_to_OHE(dffix5[:10])\n",
        "\n",
        "y_vec_list = list(y_vect_test)\n",
        "y_data_list = list(y_data_test)"
      ]
    },
    {
      "cell_type": "code",
      "execution_count": 105,
      "metadata": {
        "id": "c6hvTjFRuv6A",
        "colab": {
          "base_uri": "https://localhost:8080/"
        },
        "outputId": "9cfe54a8-e2e6-479c-dc5f-0c25a7b3311a"
      },
      "outputs": [
        {
          "output_type": "stream",
          "name": "stdout",
          "text": [
            "1/1 [==============================] - 0s 54ms/step\n"
          ]
        }
      ],
      "source": [
        "# Предсказание по сформированной выборке Вредности и Диагноза\n",
        "y_pred = model_download.predict([x_test_harm, x_test_diag, x_test_gz, x_test_recom])\n",
        "\n",
        "y_pred_list = list(y_pred)\n",
        "\n",
        "# Перевод полученного вектора в номера классов (0,1,2)\n",
        "y = np.argmax(y_pred, axis=-1)\n",
        "\n",
        "y_list = list (y)"
      ]
    },
    {
      "cell_type": "code",
      "execution_count": 106,
      "metadata": {
        "id": "MoF-drdwY0eF"
      },
      "outputs": [],
      "source": [
        "# Создадим списки входных данных\n",
        "dftest=dffix5.iloc[:10]\n",
        "x_harm_list = list(dftest['Вредность'])\n",
        "x_diag_list = list(dftest['Диагнозы'])\n",
        "x_recom_list = list(dftest['Рекомендации'])\n",
        "x_gz_list = list(dftest['ГруппаЗдоровья'])"
      ]
    },
    {
      "cell_type": "code",
      "execution_count": 107,
      "metadata": {
        "colab": {
          "base_uri": "https://localhost:8080/",
          "height": 598
        },
        "id": "1jFd0EfjvscK",
        "outputId": "1ebd421d-50e5-414b-f248-56a2e9dd1730"
      },
      "outputs": [
        {
          "output_type": "execute_result",
          "data": {
            "text/plain": [
              "        РеалВектор  РеалКласс          ПредВектор  ПредКласс ГруппаЗдоровья  \\\n",
              "0  [0.0, 0.0, 1.0]          2  [0.04, 0.09, 0.87]          2              I   \n",
              "1  [0.0, 0.0, 1.0]          2  [0.04, 0.03, 0.93]          2           IIIа   \n",
              "2  [0.0, 1.0, 0.0]          1  [0.01, 0.93, 0.07]          1             II   \n",
              "3  [0.0, 0.0, 1.0]          2  [0.02, 0.09, 0.89]          2              I   \n",
              "4  [0.0, 1.0, 0.0]          1    [0.0, 0.7, 0.29]          1             II   \n",
              "5  [0.0, 0.0, 1.0]          2  [0.01, 0.69, 0.31]          1             II   \n",
              "6  [0.0, 1.0, 0.0]          1    [0.01, 0.7, 0.3]          1             II   \n",
              "7  [0.0, 0.0, 1.0]          2   [0.04, 0.4, 0.56]          2             II   \n",
              "8  [0.0, 0.0, 1.0]          2  [0.02, 0.09, 0.89]          2              I   \n",
              "9  [0.0, 0.0, 1.0]          2  [0.02, 0.09, 0.89]          2              I   \n",
              "\n",
              "  Вредный фактор                                           Диагнозы  \\\n",
              "0           11.4  Общий медицинский осмотр,Общий медицинский осм...   \n",
              "1          4.2.5  Общий медицинский осмотр,Общий медицинский осм...   \n",
              "2          4.2.5  Общий медицинский осмотр,Миопия,Общий медицинс...   \n",
              "3           11.1  Общий медицинский осмотр,Общий медицинский осм...   \n",
              "4           11.1  Астигматизм,Общий медицинский осмотр,Общий мед...   \n",
              "5           11.1  Астигматизм,Общий медицинский осмотр,Общий мед...   \n",
              "6           11.1  Миопия,Общий медицинский осмотр,Общий медицинс...   \n",
              "7           11.1  Астигматизм,Общий медицинский осмотр,Общий мед...   \n",
              "8           11.1  Общий медицинский осмотр,Общий медицинский осм...   \n",
              "9           11.1  Общий медицинский осмотр,Общий медицинский осм...   \n",
              "\n",
              "                                        Рекомендации  \n",
              "0                                                     \n",
              "1                                                     \n",
              "2  Допуск с ношением средств оптической коррекции...  \n",
              "3        Эхопатологии на момент осмотра не выявлено   \n",
              "4  Использование средств оптической коррекции зре...  \n",
              "5        Эхопатологии на момент осмотра не выявлено   \n",
              "6  Использование средств оптической коррекции зре...  \n",
              "7  \\r\\nВизуализация поджелудочной железы затрудне...  \n",
              "8        Эхопатологии на момент осмотра не выявлено   \n",
              "9        Эхопатологии на момент осмотра не выявлено   "
            ],
            "text/html": [
              "\n",
              "  <div id=\"df-f86d2773-d8f5-468b-8ff4-d47963e4699e\">\n",
              "    <div class=\"colab-df-container\">\n",
              "      <div>\n",
              "<style scoped>\n",
              "    .dataframe tbody tr th:only-of-type {\n",
              "        vertical-align: middle;\n",
              "    }\n",
              "\n",
              "    .dataframe tbody tr th {\n",
              "        vertical-align: top;\n",
              "    }\n",
              "\n",
              "    .dataframe thead th {\n",
              "        text-align: right;\n",
              "    }\n",
              "</style>\n",
              "<table border=\"1\" class=\"dataframe\">\n",
              "  <thead>\n",
              "    <tr style=\"text-align: right;\">\n",
              "      <th></th>\n",
              "      <th>РеалВектор</th>\n",
              "      <th>РеалКласс</th>\n",
              "      <th>ПредВектор</th>\n",
              "      <th>ПредКласс</th>\n",
              "      <th>ГруппаЗдоровья</th>\n",
              "      <th>Вредный фактор</th>\n",
              "      <th>Диагнозы</th>\n",
              "      <th>Рекомендации</th>\n",
              "    </tr>\n",
              "  </thead>\n",
              "  <tbody>\n",
              "    <tr>\n",
              "      <th>0</th>\n",
              "      <td>[0.0, 0.0, 1.0]</td>\n",
              "      <td>2</td>\n",
              "      <td>[0.04, 0.09, 0.87]</td>\n",
              "      <td>2</td>\n",
              "      <td>I</td>\n",
              "      <td>11.4</td>\n",
              "      <td>Общий медицинский осмотр,Общий медицинский осм...</td>\n",
              "      <td></td>\n",
              "    </tr>\n",
              "    <tr>\n",
              "      <th>1</th>\n",
              "      <td>[0.0, 0.0, 1.0]</td>\n",
              "      <td>2</td>\n",
              "      <td>[0.04, 0.03, 0.93]</td>\n",
              "      <td>2</td>\n",
              "      <td>IIIа</td>\n",
              "      <td>4.2.5</td>\n",
              "      <td>Общий медицинский осмотр,Общий медицинский осм...</td>\n",
              "      <td></td>\n",
              "    </tr>\n",
              "    <tr>\n",
              "      <th>2</th>\n",
              "      <td>[0.0, 1.0, 0.0]</td>\n",
              "      <td>1</td>\n",
              "      <td>[0.01, 0.93, 0.07]</td>\n",
              "      <td>1</td>\n",
              "      <td>II</td>\n",
              "      <td>4.2.5</td>\n",
              "      <td>Общий медицинский осмотр,Миопия,Общий медицинс...</td>\n",
              "      <td>Допуск с ношением средств оптической коррекции...</td>\n",
              "    </tr>\n",
              "    <tr>\n",
              "      <th>3</th>\n",
              "      <td>[0.0, 0.0, 1.0]</td>\n",
              "      <td>2</td>\n",
              "      <td>[0.02, 0.09, 0.89]</td>\n",
              "      <td>2</td>\n",
              "      <td>I</td>\n",
              "      <td>11.1</td>\n",
              "      <td>Общий медицинский осмотр,Общий медицинский осм...</td>\n",
              "      <td>Эхопатологии на момент осмотра не выявлено</td>\n",
              "    </tr>\n",
              "    <tr>\n",
              "      <th>4</th>\n",
              "      <td>[0.0, 1.0, 0.0]</td>\n",
              "      <td>1</td>\n",
              "      <td>[0.0, 0.7, 0.29]</td>\n",
              "      <td>1</td>\n",
              "      <td>II</td>\n",
              "      <td>11.1</td>\n",
              "      <td>Астигматизм,Общий медицинский осмотр,Общий мед...</td>\n",
              "      <td>Использование средств оптической коррекции зре...</td>\n",
              "    </tr>\n",
              "    <tr>\n",
              "      <th>5</th>\n",
              "      <td>[0.0, 0.0, 1.0]</td>\n",
              "      <td>2</td>\n",
              "      <td>[0.01, 0.69, 0.31]</td>\n",
              "      <td>1</td>\n",
              "      <td>II</td>\n",
              "      <td>11.1</td>\n",
              "      <td>Астигматизм,Общий медицинский осмотр,Общий мед...</td>\n",
              "      <td>Эхопатологии на момент осмотра не выявлено</td>\n",
              "    </tr>\n",
              "    <tr>\n",
              "      <th>6</th>\n",
              "      <td>[0.0, 1.0, 0.0]</td>\n",
              "      <td>1</td>\n",
              "      <td>[0.01, 0.7, 0.3]</td>\n",
              "      <td>1</td>\n",
              "      <td>II</td>\n",
              "      <td>11.1</td>\n",
              "      <td>Миопия,Общий медицинский осмотр,Общий медицинс...</td>\n",
              "      <td>Использование средств оптической коррекции зре...</td>\n",
              "    </tr>\n",
              "    <tr>\n",
              "      <th>7</th>\n",
              "      <td>[0.0, 0.0, 1.0]</td>\n",
              "      <td>2</td>\n",
              "      <td>[0.04, 0.4, 0.56]</td>\n",
              "      <td>2</td>\n",
              "      <td>II</td>\n",
              "      <td>11.1</td>\n",
              "      <td>Астигматизм,Общий медицинский осмотр,Общий мед...</td>\n",
              "      <td>\\r\\nВизуализация поджелудочной железы затрудне...</td>\n",
              "    </tr>\n",
              "    <tr>\n",
              "      <th>8</th>\n",
              "      <td>[0.0, 0.0, 1.0]</td>\n",
              "      <td>2</td>\n",
              "      <td>[0.02, 0.09, 0.89]</td>\n",
              "      <td>2</td>\n",
              "      <td>I</td>\n",
              "      <td>11.1</td>\n",
              "      <td>Общий медицинский осмотр,Общий медицинский осм...</td>\n",
              "      <td>Эхопатологии на момент осмотра не выявлено</td>\n",
              "    </tr>\n",
              "    <tr>\n",
              "      <th>9</th>\n",
              "      <td>[0.0, 0.0, 1.0]</td>\n",
              "      <td>2</td>\n",
              "      <td>[0.02, 0.09, 0.89]</td>\n",
              "      <td>2</td>\n",
              "      <td>I</td>\n",
              "      <td>11.1</td>\n",
              "      <td>Общий медицинский осмотр,Общий медицинский осм...</td>\n",
              "      <td>Эхопатологии на момент осмотра не выявлено</td>\n",
              "    </tr>\n",
              "  </tbody>\n",
              "</table>\n",
              "</div>\n",
              "      <button class=\"colab-df-convert\" onclick=\"convertToInteractive('df-f86d2773-d8f5-468b-8ff4-d47963e4699e')\"\n",
              "              title=\"Convert this dataframe to an interactive table.\"\n",
              "              style=\"display:none;\">\n",
              "        \n",
              "  <svg xmlns=\"http://www.w3.org/2000/svg\" height=\"24px\"viewBox=\"0 0 24 24\"\n",
              "       width=\"24px\">\n",
              "    <path d=\"M0 0h24v24H0V0z\" fill=\"none\"/>\n",
              "    <path d=\"M18.56 5.44l.94 2.06.94-2.06 2.06-.94-2.06-.94-.94-2.06-.94 2.06-2.06.94zm-11 1L8.5 8.5l.94-2.06 2.06-.94-2.06-.94L8.5 2.5l-.94 2.06-2.06.94zm10 10l.94 2.06.94-2.06 2.06-.94-2.06-.94-.94-2.06-.94 2.06-2.06.94z\"/><path d=\"M17.41 7.96l-1.37-1.37c-.4-.4-.92-.59-1.43-.59-.52 0-1.04.2-1.43.59L10.3 9.45l-7.72 7.72c-.78.78-.78 2.05 0 2.83L4 21.41c.39.39.9.59 1.41.59.51 0 1.02-.2 1.41-.59l7.78-7.78 2.81-2.81c.8-.78.8-2.07 0-2.86zM5.41 20L4 18.59l7.72-7.72 1.47 1.35L5.41 20z\"/>\n",
              "  </svg>\n",
              "      </button>\n",
              "      \n",
              "  <style>\n",
              "    .colab-df-container {\n",
              "      display:flex;\n",
              "      flex-wrap:wrap;\n",
              "      gap: 12px;\n",
              "    }\n",
              "\n",
              "    .colab-df-convert {\n",
              "      background-color: #E8F0FE;\n",
              "      border: none;\n",
              "      border-radius: 50%;\n",
              "      cursor: pointer;\n",
              "      display: none;\n",
              "      fill: #1967D2;\n",
              "      height: 32px;\n",
              "      padding: 0 0 0 0;\n",
              "      width: 32px;\n",
              "    }\n",
              "\n",
              "    .colab-df-convert:hover {\n",
              "      background-color: #E2EBFA;\n",
              "      box-shadow: 0px 1px 2px rgba(60, 64, 67, 0.3), 0px 1px 3px 1px rgba(60, 64, 67, 0.15);\n",
              "      fill: #174EA6;\n",
              "    }\n",
              "\n",
              "    [theme=dark] .colab-df-convert {\n",
              "      background-color: #3B4455;\n",
              "      fill: #D2E3FC;\n",
              "    }\n",
              "\n",
              "    [theme=dark] .colab-df-convert:hover {\n",
              "      background-color: #434B5C;\n",
              "      box-shadow: 0px 1px 3px 1px rgba(0, 0, 0, 0.15);\n",
              "      filter: drop-shadow(0px 1px 2px rgba(0, 0, 0, 0.3));\n",
              "      fill: #FFFFFF;\n",
              "    }\n",
              "  </style>\n",
              "\n",
              "      <script>\n",
              "        const buttonEl =\n",
              "          document.querySelector('#df-f86d2773-d8f5-468b-8ff4-d47963e4699e button.colab-df-convert');\n",
              "        buttonEl.style.display =\n",
              "          google.colab.kernel.accessAllowed ? 'block' : 'none';\n",
              "\n",
              "        async function convertToInteractive(key) {\n",
              "          const element = document.querySelector('#df-f86d2773-d8f5-468b-8ff4-d47963e4699e');\n",
              "          const dataTable =\n",
              "            await google.colab.kernel.invokeFunction('convertToInteractive',\n",
              "                                                     [key], {});\n",
              "          if (!dataTable) return;\n",
              "\n",
              "          const docLinkHtml = 'Like what you see? Visit the ' +\n",
              "            '<a target=\"_blank\" href=https://colab.research.google.com/notebooks/data_table.ipynb>data table notebook</a>'\n",
              "            + ' to learn more about interactive tables.';\n",
              "          element.innerHTML = '';\n",
              "          dataTable['output_type'] = 'display_data';\n",
              "          await google.colab.output.renderOutput(dataTable, element);\n",
              "          const docLink = document.createElement('div');\n",
              "          docLink.innerHTML = docLinkHtml;\n",
              "          element.appendChild(docLink);\n",
              "        }\n",
              "      </script>\n",
              "    </div>\n",
              "  </div>\n",
              "  "
            ]
          },
          "metadata": {},
          "execution_count": 107
        }
      ],
      "source": [
        "# Сформируем таблицу с выводом реальных значений и предсказания\n",
        "df_pred = pd.DataFrame({'РеалВектор': y_vec_list,\n",
        "                   'РеалКласс': y_data_list,\n",
        "                   'ПредВектор': y_pred_list,\n",
        "                   'ПредКласс': y_list,\n",
        "                   'ГруппаЗдоровья': x_gz_list,\n",
        "                   'Вредный фактор': x_harm_list,\n",
        "                   'Диагнозы': x_diag_list,\n",
        "                   'Рекомендации': x_recom_list\n",
        "                   })\n",
        "# Обработка вывода вектора\n",
        "df_pred['ПредВектор'] = df_pred['ПредВектор'].apply(format_vector)\n",
        "\n",
        "df_pred"
      ]
    },
    {
      "cell_type": "code",
      "execution_count": null,
      "metadata": {
        "colab": {
          "background_save": true,
          "base_uri": "https://localhost:8080/"
        },
        "id": "qMJCQkRvjVay",
        "outputId": "562e6399-3bc3-438e-bfae-55610970ad10"
      },
      "outputs": [
        {
          "name": "stdout",
          "output_type": "stream",
          "text": [
            "[array([0., 1., 0.], dtype=float32) 1 list([0.05, 0.32, 0.63]) 2 'II'\n",
            " '11.1'\n",
            " 'Астигматизм,Общий медицинский осмотр,Общий медицинский осмотр,Общий медицинский осмотр,Общий медицинский осмотр,Общий медицинский осмотр']\n"
          ]
        }
      ],
      "source": [
        "# Пример текста о вредности и диагнозе\n",
        "print(df_pred.values[5])"
      ]
    }
  ],
  "metadata": {
    "colab": {
      "provenance": [],
      "mount_file_id": "1bzX8wLaAqtZO1jkAvL7VRYX1SusErr2c",
      "authorship_tag": "ABX9TyNvdpa8Iwiaa0wpd69fKRdp",
      "include_colab_link": true
    },
    "kernelspec": {
      "display_name": "Python 3",
      "name": "python3"
    },
    "language_info": {
      "name": "python"
    }
  },
  "nbformat": 4,
  "nbformat_minor": 0
}