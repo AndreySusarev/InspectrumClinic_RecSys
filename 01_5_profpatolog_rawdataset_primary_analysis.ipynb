{
  "nbformat": 4,
  "nbformat_minor": 0,
  "metadata": {
    "colab": {
      "provenance": [],
      "collapsed_sections": [
        "HdXhXAYiM9mq"
      ],
      "authorship_tag": "ABX9TyPT/YGxaOC4eHFz9oVe7Iu7",
      "include_colab_link": true
    },
    "kernelspec": {
      "name": "python3",
      "display_name": "Python 3"
    },
    "language_info": {
      "name": "python"
    }
  },
  "cells": [
    {
      "cell_type": "markdown",
      "metadata": {
        "id": "view-in-github",
        "colab_type": "text"
      },
      "source": [
        "<a href=\"https://colab.research.google.com/github/Untick/InspectrumClinic_RecSys/blob/Alesya-Moroz-folder/01_5_profpatolog_rawdataset_primary_analysis.ipynb\" target=\"_parent\"><img src=\"https://colab.research.google.com/assets/colab-badge.svg\" alt=\"Open In Colab\"/></a>"
      ]
    },
    {
      "cell_type": "markdown",
      "source": [
        "# Анализ и редактирование исходного датасета, удаление и добавление столбцов"
      ],
      "metadata": {
        "id": "1qWAIqN4I0Yj"
      }
    },
    {
      "cell_type": "markdown",
      "source": [
        "# Загрузка библиотек"
      ],
      "metadata": {
        "id": "8zK3SmcDTEX0"
      }
    },
    {
      "cell_type": "code",
      "execution_count": null,
      "metadata": {
        "id": "dDBLCWKuSJrN"
      },
      "outputs": [],
      "source": [
        "import numpy as np \n",
        "import pandas as pd \n",
        "import seaborn as sns\n",
        "\n",
        "import matplotlib.pyplot as plt\n",
        "import re\n",
        "\n",
        "import warnings\n",
        "warnings.filterwarnings('ignore')"
      ]
    },
    {
      "cell_type": "markdown",
      "source": [
        "# Функции"
      ],
      "metadata": {
        "id": "HdXhXAYiM9mq"
      }
    },
    {
      "cell_type": "code",
      "source": [
        "#@title функция для выбора и удаления столбцов в датафрейме по типовому окончанию (началу) наименования столбца\n",
        "\n",
        "def col_editing(dataframe, key_word, position_end=True, col_delete=False, display=False, check_info=False):\n",
        "    columns = dataframe.columns\n",
        "    col_list = []\n",
        "    if position_end:\n",
        "        for i,col in enumerate(columns):\n",
        "            if col.endswith(key_word):\n",
        "                col_list.append(col)\n",
        "                if display:\n",
        "                    print(i, col)\n",
        "    else:\n",
        "        for i,col in enumerate(columns):\n",
        "            if col.startswith(key_word):\n",
        "                col_list.append(col)\n",
        "                if display:\n",
        "                    print(i, col)\n",
        "    \n",
        "    if col_delete:\n",
        "        dataframe_new = dataframe.drop(col_list, axis='columns')\n",
        "    else:\n",
        "        dataframe_new = dataframe\n",
        "\n",
        "    if check_info:\n",
        "        for i in range(len(col_list)):\n",
        "            print('\\n',i, col_list[i], dataframe_new[col_list[i]].unique())\n",
        "            #print(i, dataframe_new[col_list[i]].value_counts())\n",
        "        print('---\\n')\n",
        "\n",
        "    print('\\nКоличество выбранных столбцов c key_word \"', key_word, '\":', len(col_list))\n",
        "    print('Количество столбцов в датафрейме на входе :', dataframe.shape[1])\n",
        "    print('Количество столбцов в датафрейме на выходе:', dataframe_new.shape[1])\n",
        "    \n",
        "    return dataframe_new, col_list    "
      ],
      "metadata": {
        "id": "BM0IsD1dM_nz"
      },
      "execution_count": null,
      "outputs": []
    },
    {
      "cell_type": "markdown",
      "source": [
        "# Загрузка датасета"
      ],
      "metadata": {
        "id": "6M58i5jcTaoK"
      }
    },
    {
      "cell_type": "code",
      "source": [
        "from google.colab import drive # Подключаем диск\n",
        "drive.mount('/content/drive')"
      ],
      "metadata": {
        "id": "XrucoYJnTVek",
        "colab": {
          "base_uri": "https://localhost:8080/"
        },
        "outputId": "cf969f7b-0415-46b4-955f-9301b7f73de4"
      },
      "execution_count": null,
      "outputs": [
        {
          "output_type": "stream",
          "name": "stdout",
          "text": [
            "Mounted at /content/drive\n"
          ]
        }
      ]
    },
    {
      "cell_type": "code",
      "source": [
        "df = pd.read_excel('/content/drive/MyDrive/датасет профпатолог часть.xlsx')"
      ],
      "metadata": {
        "id": "LE8c6IwMUA3k"
      },
      "execution_count": null,
      "outputs": []
    },
    {
      "cell_type": "code",
      "source": [
        "df"
      ],
      "metadata": {
        "colab": {
          "base_uri": "https://localhost:8080/",
          "height": 661
        },
        "id": "3RRT2th7Udmx",
        "outputId": "8fad521a-c82f-4589-ccd2-c9ef5b966c31"
      },
      "execution_count": null,
      "outputs": [
        {
          "output_type": "execute_result",
          "data": {
            "text/plain": [
              "             ДокументПрохождениеМедосмотра  \\\n",
              "0     7f41ca7e-7dac-11ec-80fc-0cc47aab8067   \n",
              "1     2ee1f9ac-83dd-11ec-80fc-0cc47aab8067   \n",
              "2     9cbb191e-8e24-11ec-80fe-0cc47aab8067   \n",
              "3     b8a33910-8eec-11ec-80fe-0cc47aab8067   \n",
              "4     0bb0d181-938c-11ec-80fe-0cc47aab8067   \n",
              "...                                    ...   \n",
              "1977  137af572-70a5-11ed-8109-0cc47aab8067   \n",
              "1978  26310d7e-70a5-11ed-8109-0cc47aab8067   \n",
              "1979  b2602553-705c-11ed-8109-0cc47aab8067   \n",
              "1980  d0358b83-7065-11ed-8109-0cc47aab8067   \n",
              "1981  a15e278b-71f5-11ed-810a-0cc47aab8067   \n",
              "\n",
              "                                    Клиент КлиентДатаРождения КлиентПол  \\\n",
              "0     c91e3407-b81f-11e9-80cf-0cc47aab8067         1976-10-24   Женский   \n",
              "1     1a1a5fea-8b7f-11eb-80e8-0cc47aab8067         1987-11-18   Мужской   \n",
              "2     7fe324e0-fa51-11eb-80f6-0cc47aab8067         1985-09-08   Мужской   \n",
              "3     98f9d761-8d65-11ec-80fe-0cc47aab8067         1988-04-25   Мужской   \n",
              "4     009aac7d-7bcf-11eb-80e8-0cc47aab8067         1984-04-17   Мужской   \n",
              "...                                    ...                ...       ...   \n",
              "1977  41a7c665-7098-11ed-8109-0cc47aab8067         1972-11-12   Мужской   \n",
              "1978  41a7c663-7098-11ed-8109-0cc47aab8067         1986-07-09   Мужской   \n",
              "1979  0dc52156-f1a9-11e9-80d1-0cc47aab8067         1994-05-12   Мужской   \n",
              "1980  6261a674-07c8-11e8-80c6-0cc47aab8067         1972-04-17   Женский   \n",
              "1981  920293ea-32c2-11eb-80e3-0cc47aab8067         1971-09-14   Мужской   \n",
              "\n",
              "     КлиентПолПредставление ДатаЗавершенияМедосмотра  ТипМедосмотра  \\\n",
              "0                   Женский               2022-01-25  Периодический   \n",
              "1                   Мужской               2022-02-02  Периодический   \n",
              "2                   Мужской               2022-02-15  Периодический   \n",
              "3                   Мужской               2022-02-16  Периодический   \n",
              "4                   Мужской               2022-02-22  Периодический   \n",
              "...                     ...                      ...            ...   \n",
              "1977                Мужской               2022-11-30  Периодический   \n",
              "1978                Мужской               2022-11-30  Периодический   \n",
              "1979                Мужской               2022-11-30  Периодический   \n",
              "1980                Женский               2022-11-30  Периодический   \n",
              "1981                Мужской               2022-12-02  Периодический   \n",
              "\n",
              "     ТипМедосмотраПредставление  ПсихОсвидетельствование  \\\n",
              "0                 Периодический                    False   \n",
              "1                 Периодический                    False   \n",
              "2                 Периодический                    False   \n",
              "3                 Периодический                    False   \n",
              "4                 Периодический                    False   \n",
              "...                         ...                      ...   \n",
              "1977              Периодический                    False   \n",
              "1978              Периодический                    False   \n",
              "1979              Периодический                    False   \n",
              "1980              Периодический                    False   \n",
              "1981              Периодический                    False   \n",
              "\n",
              "                                Контрагент  ...  \\\n",
              "0     23c173a7-30d9-11e7-80d8-708bcd7f83cd  ...   \n",
              "1     a6d559b0-7835-11eb-80e8-0cc47aab8067  ...   \n",
              "2     a6d559b0-7835-11eb-80e8-0cc47aab8067  ...   \n",
              "3     a6d559b0-7835-11eb-80e8-0cc47aab8067  ...   \n",
              "4     a6d559b0-7835-11eb-80e8-0cc47aab8067  ...   \n",
              "...                                    ...  ...   \n",
              "1977  a9f70e4c-707f-11ed-8109-0cc47aab8067  ...   \n",
              "1978  a9f70e4c-707f-11ed-8109-0cc47aab8067  ...   \n",
              "1979  e689a382-17b2-11e9-80ce-0cc47aab8067  ...   \n",
              "1980  21f2a93d-68f9-11e6-82dc-d897ba0a5c60  ...   \n",
              "1981  4826f33a-06b9-11ea-80d3-0cc47aab8067  ...   \n",
              "\n",
              "     Оториноларингология3_Аудиометрия1_Значение  \\\n",
              "0                                           NaN   \n",
              "1                                           NaN   \n",
              "2                                           NaN   \n",
              "3                                           NaN   \n",
              "4                                           NaN   \n",
              "...                                         ...   \n",
              "1977                                        NaN   \n",
              "1978                                        NaN   \n",
              "1979                                        NaN   \n",
              "1980                                        NaN   \n",
              "1981                                        NaN   \n",
              "\n",
              "     Оториноларингология3_Аудиометрия1_ЗначениеПредставление  \\\n",
              "0                                                   NaN        \n",
              "1                                                   NaN        \n",
              "2                                                   NaN        \n",
              "3                                                   NaN        \n",
              "4                                                   NaN        \n",
              "...                                                 ...        \n",
              "1977                                                NaN        \n",
              "1978                                                NaN        \n",
              "1979                                                NaN        \n",
              "1980                                                NaN        \n",
              "1981                                                NaN        \n",
              "\n",
              "     Оториноларингология1_ЖалобыДополнение_Значение  \\\n",
              "0                                               NaN   \n",
              "1                                               NaN   \n",
              "2                                               NaN   \n",
              "3                                               NaN   \n",
              "4                                               NaN   \n",
              "...                                             ...   \n",
              "1977                                            NaN   \n",
              "1978                                            NaN   \n",
              "1979                                            NaN   \n",
              "1980                                            NaN   \n",
              "1981                                            NaN   \n",
              "\n",
              "     Оториноларингология1_ЖалобыДополнение_ЗначениеПредставление  \\\n",
              "0                                                   NaN            \n",
              "1                                                   NaN            \n",
              "2                                                   NaN            \n",
              "3                                                   NaN            \n",
              "4                                                   NaN            \n",
              "...                                                 ...            \n",
              "1977                                                NaN            \n",
              "1978                                                NaN            \n",
              "1979                                                NaN            \n",
              "1980                                                NaN            \n",
              "1981                                                NaN            \n",
              "\n",
              "     Стоматология2_ВП2_Значение Стоматология2_ВП2_ЗначениеПредставление  \\\n",
              "0                           NaN                                     NaN   \n",
              "1                           NaN                                     NaN   \n",
              "2                           NaN                                     NaN   \n",
              "3                           NaN                                     NaN   \n",
              "4                           NaN                                     NaN   \n",
              "...                         ...                                     ...   \n",
              "1977                        NaN                                     NaN   \n",
              "1978                        NaN                                     NaN   \n",
              "1979                        NaN                                     NaN   \n",
              "1980                        NaN                                     NaN   \n",
              "1981                        NaN                                     NaN   \n",
              "\n",
              "     Терапия2_ЗаключениеФОГК_Значение  \\\n",
              "0                                 NaN   \n",
              "1                                 NaN   \n",
              "2                                 NaN   \n",
              "3                                 NaN   \n",
              "4                                 NaN   \n",
              "...                               ...   \n",
              "1977                              NaN   \n",
              "1978                              NaN   \n",
              "1979                              NaN   \n",
              "1980                              NaN   \n",
              "1981                              NaN   \n",
              "\n",
              "     Терапия2_ЗаключениеФОГК_ЗначениеПредставление  \\\n",
              "0                                              NaN   \n",
              "1                                              NaN   \n",
              "2                                              NaN   \n",
              "3                                              NaN   \n",
              "4                                              NaN   \n",
              "...                                            ...   \n",
              "1977                                           NaN   \n",
              "1978                                           NaN   \n",
              "1979                                           NaN   \n",
              "1980                                           NaN   \n",
              "1981                                           NaN   \n",
              "\n",
              "     Офтальмология1_ДвигательныйАппаратГлазДополнение_Значение  \\\n",
              "0                                                   NaN          \n",
              "1                                                   NaN          \n",
              "2                                                   NaN          \n",
              "3                                                   NaN          \n",
              "4                                                   NaN          \n",
              "...                                                 ...          \n",
              "1977                                                NaN          \n",
              "1978                                                NaN          \n",
              "1979                                                NaN          \n",
              "1980                                                NaN          \n",
              "1981                                                NaN          \n",
              "\n",
              "     Офтальмология1_ДвигательныйАппаратГлазДополнение_ЗначениеПредставление  \n",
              "0                                                   NaN                      \n",
              "1                                                   NaN                      \n",
              "2                                                   NaN                      \n",
              "3                                                   NaN                      \n",
              "4                                                   NaN                      \n",
              "...                                                 ...                      \n",
              "1977                                                NaN                      \n",
              "1978                                                NaN                      \n",
              "1979                                                NaN                      \n",
              "1980                                                NaN                      \n",
              "1981                                                NaN                      \n",
              "\n",
              "[1982 rows x 4587 columns]"
            ],
            "text/html": [
              "\n",
              "  <div id=\"df-fff6c6d6-fa84-4a33-910c-a4d6242133fa\">\n",
              "    <div class=\"colab-df-container\">\n",
              "      <div>\n",
              "<style scoped>\n",
              "    .dataframe tbody tr th:only-of-type {\n",
              "        vertical-align: middle;\n",
              "    }\n",
              "\n",
              "    .dataframe tbody tr th {\n",
              "        vertical-align: top;\n",
              "    }\n",
              "\n",
              "    .dataframe thead th {\n",
              "        text-align: right;\n",
              "    }\n",
              "</style>\n",
              "<table border=\"1\" class=\"dataframe\">\n",
              "  <thead>\n",
              "    <tr style=\"text-align: right;\">\n",
              "      <th></th>\n",
              "      <th>ДокументПрохождениеМедосмотра</th>\n",
              "      <th>Клиент</th>\n",
              "      <th>КлиентДатаРождения</th>\n",
              "      <th>КлиентПол</th>\n",
              "      <th>КлиентПолПредставление</th>\n",
              "      <th>ДатаЗавершенияМедосмотра</th>\n",
              "      <th>ТипМедосмотра</th>\n",
              "      <th>ТипМедосмотраПредставление</th>\n",
              "      <th>ПсихОсвидетельствование</th>\n",
              "      <th>Контрагент</th>\n",
              "      <th>...</th>\n",
              "      <th>Оториноларингология3_Аудиометрия1_Значение</th>\n",
              "      <th>Оториноларингология3_Аудиометрия1_ЗначениеПредставление</th>\n",
              "      <th>Оториноларингология1_ЖалобыДополнение_Значение</th>\n",
              "      <th>Оториноларингология1_ЖалобыДополнение_ЗначениеПредставление</th>\n",
              "      <th>Стоматология2_ВП2_Значение</th>\n",
              "      <th>Стоматология2_ВП2_ЗначениеПредставление</th>\n",
              "      <th>Терапия2_ЗаключениеФОГК_Значение</th>\n",
              "      <th>Терапия2_ЗаключениеФОГК_ЗначениеПредставление</th>\n",
              "      <th>Офтальмология1_ДвигательныйАппаратГлазДополнение_Значение</th>\n",
              "      <th>Офтальмология1_ДвигательныйАппаратГлазДополнение_ЗначениеПредставление</th>\n",
              "    </tr>\n",
              "  </thead>\n",
              "  <tbody>\n",
              "    <tr>\n",
              "      <th>0</th>\n",
              "      <td>7f41ca7e-7dac-11ec-80fc-0cc47aab8067</td>\n",
              "      <td>c91e3407-b81f-11e9-80cf-0cc47aab8067</td>\n",
              "      <td>1976-10-24</td>\n",
              "      <td>Женский</td>\n",
              "      <td>Женский</td>\n",
              "      <td>2022-01-25</td>\n",
              "      <td>Периодический</td>\n",
              "      <td>Периодический</td>\n",
              "      <td>False</td>\n",
              "      <td>23c173a7-30d9-11e7-80d8-708bcd7f83cd</td>\n",
              "      <td>...</td>\n",
              "      <td>NaN</td>\n",
              "      <td>NaN</td>\n",
              "      <td>NaN</td>\n",
              "      <td>NaN</td>\n",
              "      <td>NaN</td>\n",
              "      <td>NaN</td>\n",
              "      <td>NaN</td>\n",
              "      <td>NaN</td>\n",
              "      <td>NaN</td>\n",
              "      <td>NaN</td>\n",
              "    </tr>\n",
              "    <tr>\n",
              "      <th>1</th>\n",
              "      <td>2ee1f9ac-83dd-11ec-80fc-0cc47aab8067</td>\n",
              "      <td>1a1a5fea-8b7f-11eb-80e8-0cc47aab8067</td>\n",
              "      <td>1987-11-18</td>\n",
              "      <td>Мужской</td>\n",
              "      <td>Мужской</td>\n",
              "      <td>2022-02-02</td>\n",
              "      <td>Периодический</td>\n",
              "      <td>Периодический</td>\n",
              "      <td>False</td>\n",
              "      <td>a6d559b0-7835-11eb-80e8-0cc47aab8067</td>\n",
              "      <td>...</td>\n",
              "      <td>NaN</td>\n",
              "      <td>NaN</td>\n",
              "      <td>NaN</td>\n",
              "      <td>NaN</td>\n",
              "      <td>NaN</td>\n",
              "      <td>NaN</td>\n",
              "      <td>NaN</td>\n",
              "      <td>NaN</td>\n",
              "      <td>NaN</td>\n",
              "      <td>NaN</td>\n",
              "    </tr>\n",
              "    <tr>\n",
              "      <th>2</th>\n",
              "      <td>9cbb191e-8e24-11ec-80fe-0cc47aab8067</td>\n",
              "      <td>7fe324e0-fa51-11eb-80f6-0cc47aab8067</td>\n",
              "      <td>1985-09-08</td>\n",
              "      <td>Мужской</td>\n",
              "      <td>Мужской</td>\n",
              "      <td>2022-02-15</td>\n",
              "      <td>Периодический</td>\n",
              "      <td>Периодический</td>\n",
              "      <td>False</td>\n",
              "      <td>a6d559b0-7835-11eb-80e8-0cc47aab8067</td>\n",
              "      <td>...</td>\n",
              "      <td>NaN</td>\n",
              "      <td>NaN</td>\n",
              "      <td>NaN</td>\n",
              "      <td>NaN</td>\n",
              "      <td>NaN</td>\n",
              "      <td>NaN</td>\n",
              "      <td>NaN</td>\n",
              "      <td>NaN</td>\n",
              "      <td>NaN</td>\n",
              "      <td>NaN</td>\n",
              "    </tr>\n",
              "    <tr>\n",
              "      <th>3</th>\n",
              "      <td>b8a33910-8eec-11ec-80fe-0cc47aab8067</td>\n",
              "      <td>98f9d761-8d65-11ec-80fe-0cc47aab8067</td>\n",
              "      <td>1988-04-25</td>\n",
              "      <td>Мужской</td>\n",
              "      <td>Мужской</td>\n",
              "      <td>2022-02-16</td>\n",
              "      <td>Периодический</td>\n",
              "      <td>Периодический</td>\n",
              "      <td>False</td>\n",
              "      <td>a6d559b0-7835-11eb-80e8-0cc47aab8067</td>\n",
              "      <td>...</td>\n",
              "      <td>NaN</td>\n",
              "      <td>NaN</td>\n",
              "      <td>NaN</td>\n",
              "      <td>NaN</td>\n",
              "      <td>NaN</td>\n",
              "      <td>NaN</td>\n",
              "      <td>NaN</td>\n",
              "      <td>NaN</td>\n",
              "      <td>NaN</td>\n",
              "      <td>NaN</td>\n",
              "    </tr>\n",
              "    <tr>\n",
              "      <th>4</th>\n",
              "      <td>0bb0d181-938c-11ec-80fe-0cc47aab8067</td>\n",
              "      <td>009aac7d-7bcf-11eb-80e8-0cc47aab8067</td>\n",
              "      <td>1984-04-17</td>\n",
              "      <td>Мужской</td>\n",
              "      <td>Мужской</td>\n",
              "      <td>2022-02-22</td>\n",
              "      <td>Периодический</td>\n",
              "      <td>Периодический</td>\n",
              "      <td>False</td>\n",
              "      <td>a6d559b0-7835-11eb-80e8-0cc47aab8067</td>\n",
              "      <td>...</td>\n",
              "      <td>NaN</td>\n",
              "      <td>NaN</td>\n",
              "      <td>NaN</td>\n",
              "      <td>NaN</td>\n",
              "      <td>NaN</td>\n",
              "      <td>NaN</td>\n",
              "      <td>NaN</td>\n",
              "      <td>NaN</td>\n",
              "      <td>NaN</td>\n",
              "      <td>NaN</td>\n",
              "    </tr>\n",
              "    <tr>\n",
              "      <th>...</th>\n",
              "      <td>...</td>\n",
              "      <td>...</td>\n",
              "      <td>...</td>\n",
              "      <td>...</td>\n",
              "      <td>...</td>\n",
              "      <td>...</td>\n",
              "      <td>...</td>\n",
              "      <td>...</td>\n",
              "      <td>...</td>\n",
              "      <td>...</td>\n",
              "      <td>...</td>\n",
              "      <td>...</td>\n",
              "      <td>...</td>\n",
              "      <td>...</td>\n",
              "      <td>...</td>\n",
              "      <td>...</td>\n",
              "      <td>...</td>\n",
              "      <td>...</td>\n",
              "      <td>...</td>\n",
              "      <td>...</td>\n",
              "      <td>...</td>\n",
              "    </tr>\n",
              "    <tr>\n",
              "      <th>1977</th>\n",
              "      <td>137af572-70a5-11ed-8109-0cc47aab8067</td>\n",
              "      <td>41a7c665-7098-11ed-8109-0cc47aab8067</td>\n",
              "      <td>1972-11-12</td>\n",
              "      <td>Мужской</td>\n",
              "      <td>Мужской</td>\n",
              "      <td>2022-11-30</td>\n",
              "      <td>Периодический</td>\n",
              "      <td>Периодический</td>\n",
              "      <td>False</td>\n",
              "      <td>a9f70e4c-707f-11ed-8109-0cc47aab8067</td>\n",
              "      <td>...</td>\n",
              "      <td>NaN</td>\n",
              "      <td>NaN</td>\n",
              "      <td>NaN</td>\n",
              "      <td>NaN</td>\n",
              "      <td>NaN</td>\n",
              "      <td>NaN</td>\n",
              "      <td>NaN</td>\n",
              "      <td>NaN</td>\n",
              "      <td>NaN</td>\n",
              "      <td>NaN</td>\n",
              "    </tr>\n",
              "    <tr>\n",
              "      <th>1978</th>\n",
              "      <td>26310d7e-70a5-11ed-8109-0cc47aab8067</td>\n",
              "      <td>41a7c663-7098-11ed-8109-0cc47aab8067</td>\n",
              "      <td>1986-07-09</td>\n",
              "      <td>Мужской</td>\n",
              "      <td>Мужской</td>\n",
              "      <td>2022-11-30</td>\n",
              "      <td>Периодический</td>\n",
              "      <td>Периодический</td>\n",
              "      <td>False</td>\n",
              "      <td>a9f70e4c-707f-11ed-8109-0cc47aab8067</td>\n",
              "      <td>...</td>\n",
              "      <td>NaN</td>\n",
              "      <td>NaN</td>\n",
              "      <td>NaN</td>\n",
              "      <td>NaN</td>\n",
              "      <td>NaN</td>\n",
              "      <td>NaN</td>\n",
              "      <td>NaN</td>\n",
              "      <td>NaN</td>\n",
              "      <td>NaN</td>\n",
              "      <td>NaN</td>\n",
              "    </tr>\n",
              "    <tr>\n",
              "      <th>1979</th>\n",
              "      <td>b2602553-705c-11ed-8109-0cc47aab8067</td>\n",
              "      <td>0dc52156-f1a9-11e9-80d1-0cc47aab8067</td>\n",
              "      <td>1994-05-12</td>\n",
              "      <td>Мужской</td>\n",
              "      <td>Мужской</td>\n",
              "      <td>2022-11-30</td>\n",
              "      <td>Периодический</td>\n",
              "      <td>Периодический</td>\n",
              "      <td>False</td>\n",
              "      <td>e689a382-17b2-11e9-80ce-0cc47aab8067</td>\n",
              "      <td>...</td>\n",
              "      <td>NaN</td>\n",
              "      <td>NaN</td>\n",
              "      <td>NaN</td>\n",
              "      <td>NaN</td>\n",
              "      <td>NaN</td>\n",
              "      <td>NaN</td>\n",
              "      <td>NaN</td>\n",
              "      <td>NaN</td>\n",
              "      <td>NaN</td>\n",
              "      <td>NaN</td>\n",
              "    </tr>\n",
              "    <tr>\n",
              "      <th>1980</th>\n",
              "      <td>d0358b83-7065-11ed-8109-0cc47aab8067</td>\n",
              "      <td>6261a674-07c8-11e8-80c6-0cc47aab8067</td>\n",
              "      <td>1972-04-17</td>\n",
              "      <td>Женский</td>\n",
              "      <td>Женский</td>\n",
              "      <td>2022-11-30</td>\n",
              "      <td>Периодический</td>\n",
              "      <td>Периодический</td>\n",
              "      <td>False</td>\n",
              "      <td>21f2a93d-68f9-11e6-82dc-d897ba0a5c60</td>\n",
              "      <td>...</td>\n",
              "      <td>NaN</td>\n",
              "      <td>NaN</td>\n",
              "      <td>NaN</td>\n",
              "      <td>NaN</td>\n",
              "      <td>NaN</td>\n",
              "      <td>NaN</td>\n",
              "      <td>NaN</td>\n",
              "      <td>NaN</td>\n",
              "      <td>NaN</td>\n",
              "      <td>NaN</td>\n",
              "    </tr>\n",
              "    <tr>\n",
              "      <th>1981</th>\n",
              "      <td>a15e278b-71f5-11ed-810a-0cc47aab8067</td>\n",
              "      <td>920293ea-32c2-11eb-80e3-0cc47aab8067</td>\n",
              "      <td>1971-09-14</td>\n",
              "      <td>Мужской</td>\n",
              "      <td>Мужской</td>\n",
              "      <td>2022-12-02</td>\n",
              "      <td>Периодический</td>\n",
              "      <td>Периодический</td>\n",
              "      <td>False</td>\n",
              "      <td>4826f33a-06b9-11ea-80d3-0cc47aab8067</td>\n",
              "      <td>...</td>\n",
              "      <td>NaN</td>\n",
              "      <td>NaN</td>\n",
              "      <td>NaN</td>\n",
              "      <td>NaN</td>\n",
              "      <td>NaN</td>\n",
              "      <td>NaN</td>\n",
              "      <td>NaN</td>\n",
              "      <td>NaN</td>\n",
              "      <td>NaN</td>\n",
              "      <td>NaN</td>\n",
              "    </tr>\n",
              "  </tbody>\n",
              "</table>\n",
              "<p>1982 rows × 4587 columns</p>\n",
              "</div>\n",
              "      <button class=\"colab-df-convert\" onclick=\"convertToInteractive('df-fff6c6d6-fa84-4a33-910c-a4d6242133fa')\"\n",
              "              title=\"Convert this dataframe to an interactive table.\"\n",
              "              style=\"display:none;\">\n",
              "        \n",
              "  <svg xmlns=\"http://www.w3.org/2000/svg\" height=\"24px\"viewBox=\"0 0 24 24\"\n",
              "       width=\"24px\">\n",
              "    <path d=\"M0 0h24v24H0V0z\" fill=\"none\"/>\n",
              "    <path d=\"M18.56 5.44l.94 2.06.94-2.06 2.06-.94-2.06-.94-.94-2.06-.94 2.06-2.06.94zm-11 1L8.5 8.5l.94-2.06 2.06-.94-2.06-.94L8.5 2.5l-.94 2.06-2.06.94zm10 10l.94 2.06.94-2.06 2.06-.94-2.06-.94-.94-2.06-.94 2.06-2.06.94z\"/><path d=\"M17.41 7.96l-1.37-1.37c-.4-.4-.92-.59-1.43-.59-.52 0-1.04.2-1.43.59L10.3 9.45l-7.72 7.72c-.78.78-.78 2.05 0 2.83L4 21.41c.39.39.9.59 1.41.59.51 0 1.02-.2 1.41-.59l7.78-7.78 2.81-2.81c.8-.78.8-2.07 0-2.86zM5.41 20L4 18.59l7.72-7.72 1.47 1.35L5.41 20z\"/>\n",
              "  </svg>\n",
              "      </button>\n",
              "      \n",
              "  <style>\n",
              "    .colab-df-container {\n",
              "      display:flex;\n",
              "      flex-wrap:wrap;\n",
              "      gap: 12px;\n",
              "    }\n",
              "\n",
              "    .colab-df-convert {\n",
              "      background-color: #E8F0FE;\n",
              "      border: none;\n",
              "      border-radius: 50%;\n",
              "      cursor: pointer;\n",
              "      display: none;\n",
              "      fill: #1967D2;\n",
              "      height: 32px;\n",
              "      padding: 0 0 0 0;\n",
              "      width: 32px;\n",
              "    }\n",
              "\n",
              "    .colab-df-convert:hover {\n",
              "      background-color: #E2EBFA;\n",
              "      box-shadow: 0px 1px 2px rgba(60, 64, 67, 0.3), 0px 1px 3px 1px rgba(60, 64, 67, 0.15);\n",
              "      fill: #174EA6;\n",
              "    }\n",
              "\n",
              "    [theme=dark] .colab-df-convert {\n",
              "      background-color: #3B4455;\n",
              "      fill: #D2E3FC;\n",
              "    }\n",
              "\n",
              "    [theme=dark] .colab-df-convert:hover {\n",
              "      background-color: #434B5C;\n",
              "      box-shadow: 0px 1px 3px 1px rgba(0, 0, 0, 0.15);\n",
              "      filter: drop-shadow(0px 1px 2px rgba(0, 0, 0, 0.3));\n",
              "      fill: #FFFFFF;\n",
              "    }\n",
              "  </style>\n",
              "\n",
              "      <script>\n",
              "        const buttonEl =\n",
              "          document.querySelector('#df-fff6c6d6-fa84-4a33-910c-a4d6242133fa button.colab-df-convert');\n",
              "        buttonEl.style.display =\n",
              "          google.colab.kernel.accessAllowed ? 'block' : 'none';\n",
              "\n",
              "        async function convertToInteractive(key) {\n",
              "          const element = document.querySelector('#df-fff6c6d6-fa84-4a33-910c-a4d6242133fa');\n",
              "          const dataTable =\n",
              "            await google.colab.kernel.invokeFunction('convertToInteractive',\n",
              "                                                     [key], {});\n",
              "          if (!dataTable) return;\n",
              "\n",
              "          const docLinkHtml = 'Like what you see? Visit the ' +\n",
              "            '<a target=\"_blank\" href=https://colab.research.google.com/notebooks/data_table.ipynb>data table notebook</a>'\n",
              "            + ' to learn more about interactive tables.';\n",
              "          element.innerHTML = '';\n",
              "          dataTable['output_type'] = 'display_data';\n",
              "          await google.colab.output.renderOutput(dataTable, element);\n",
              "          const docLink = document.createElement('div');\n",
              "          docLink.innerHTML = docLinkHtml;\n",
              "          element.appendChild(docLink);\n",
              "        }\n",
              "      </script>\n",
              "    </div>\n",
              "  </div>\n",
              "  "
            ]
          },
          "metadata": {},
          "execution_count": 6
        }
      ]
    },
    {
      "cell_type": "markdown",
      "source": [
        "### Информация об исходном датасете"
      ],
      "metadata": {
        "id": "_Qxyx2h81Iai"
      }
    },
    {
      "cell_type": "code",
      "source": [
        "df.info()\n",
        "# df.info(verbose=True, buf=None, max_cols=4, memory_usage=None, show_counts=True)"
      ],
      "metadata": {
        "colab": {
          "base_uri": "https://localhost:8080/"
        },
        "id": "tjvyf_TSUoYY",
        "outputId": "d9351dc2-7ab1-490c-a5a4-8971065680d5"
      },
      "execution_count": null,
      "outputs": [
        {
          "output_type": "stream",
          "name": "stdout",
          "text": [
            "<class 'pandas.core.frame.DataFrame'>\n",
            "RangeIndex: 1982 entries, 0 to 1981\n",
            "Columns: 4587 entries, ДокументПрохождениеМедосмотра to Офтальмология1_ДвигательныйАппаратГлазДополнение_ЗначениеПредставление\n",
            "dtypes: bool(1), datetime64[ns](43), float64(1253), object(3290)\n",
            "memory usage: 69.3+ MB\n"
          ]
        }
      ]
    },
    {
      "cell_type": "markdown",
      "source": [
        "# Редактирование датасета"
      ],
      "metadata": {
        "id": "jx42n6UsTWFm"
      }
    },
    {
      "cell_type": "markdown",
      "source": [
        "## Предварительное очищение данных"
      ],
      "metadata": {
        "id": "4PsERcKOFxW1"
      }
    },
    {
      "cell_type": "code",
      "source": [
        "#@title проверка наличия пропусков по столбцу 'Клиент'\n",
        "\n",
        "if df['Клиент'].isna().sum() > 0:\n",
        "    df = df.dropna(subset=['Клиент'])\n",
        "    print('Удалены строки с пустыми значениями в столбце \"Клиент\"')\n",
        "\n",
        "print('Количество строк с пропусками:', df['Клиент'].isna().sum())"
      ],
      "metadata": {
        "colab": {
          "base_uri": "https://localhost:8080/"
        },
        "id": "kb5kwiqCeIWF",
        "outputId": "c57373f4-628a-4fe4-e0a3-d027423f89cd"
      },
      "execution_count": null,
      "outputs": [
        {
          "output_type": "stream",
          "name": "stdout",
          "text": [
            "Количество строк с пропусками: 0\n"
          ]
        }
      ]
    },
    {
      "cell_type": "markdown",
      "source": [
        "#### Корректировка данных по целевому столбцу 'ЗаключениеМК'\n",
        "1. Удаление строк со значениями Nan\n",
        "2. Удаление строк с нерелевантной информацией (при наличии)\n"
      ],
      "metadata": {
        "id": "emux0Bf5h2PK"
      }
    },
    {
      "cell_type": "code",
      "source": [
        "print(df['ЗаключениеМК'].isna().sum())\n",
        "print(df['ЗаключениеМКПредставление'].isna().sum())\n",
        "print(df['Заключение'].isna().sum())\n",
        "# df[pd.isna(df['ЗаключениеМК'])]['ЗаключениеМК']"
      ],
      "metadata": {
        "colab": {
          "base_uri": "https://localhost:8080/"
        },
        "id": "SU3ProeSh620",
        "outputId": "1c80379b-c269-49f0-98ec-ea57eac550b5"
      },
      "execution_count": null,
      "outputs": [
        {
          "output_type": "stream",
          "name": "stdout",
          "text": [
            "407\n",
            "407\n",
            "419\n"
          ]
        }
      ]
    },
    {
      "cell_type": "code",
      "source": [
        "conclusions = df['ЗаключениеМК'].unique()\n",
        "print(conclusions)"
      ],
      "metadata": {
        "colab": {
          "base_uri": "https://localhost:8080/"
        },
        "id": "bVoftC-5iEse",
        "outputId": "b2e617e2-69b5-4ab0-cd8e-d0cf11de3e76"
      },
      "execution_count": null,
      "outputs": [
        {
          "output_type": "stream",
          "name": "stdout",
          "text": [
            "['Годен' 'ГоденСКоррекциейЗрения' 'ГоденБезРаботНаВысотах'\n",
            " 'НуждаетсяВДообследованииИЛечении' 'ВременноНегоден' 'ОграниченноГоден'\n",
            " nan 'машинист бульдозера' 'Газоспасатель' ' Газоспасатель']\n"
          ]
        }
      ]
    },
    {
      "cell_type": "code",
      "source": [
        "# удаляем строки с  'ЗаключениеМК'= Nan и строки с нерелевантными значениями\n",
        "\n",
        "df_01 = df.dropna(subset=['ЗаключениеМК'])\n",
        "df_01 = df_01.loc[(df_01['ЗаключениеМК'] != 'машинист бульдозера') \n",
        "                & (df_01['ЗаключениеМК'] != 'Газоспасатель') \n",
        "                & (df_01['ЗаключениеМК'] != ' Газоспасатель')]\n",
        "\n",
        "# проверка\n",
        "print(df_01['ЗаключениеМК'].unique())"
      ],
      "metadata": {
        "id": "KkTWScF1l4NL",
        "colab": {
          "base_uri": "https://localhost:8080/"
        },
        "outputId": "c1093517-8c64-48e3-e42b-52322777c40d"
      },
      "execution_count": null,
      "outputs": [
        {
          "output_type": "stream",
          "name": "stdout",
          "text": [
            "['Годен' 'ГоденСКоррекциейЗрения' 'ГоденБезРаботНаВысотах'\n",
            " 'НуждаетсяВДообследованииИЛечении' 'ВременноНегоден' 'ОграниченноГоден']\n"
          ]
        }
      ]
    },
    {
      "cell_type": "code",
      "source": [
        "print(df_01['ЗаключениеМК'].value_counts())"
      ],
      "metadata": {
        "colab": {
          "base_uri": "https://localhost:8080/"
        },
        "id": "W1AzfmfQRPiB",
        "outputId": "f160449f-62fa-491c-c54c-5f4882ceb99f"
      },
      "execution_count": null,
      "outputs": [
        {
          "output_type": "stream",
          "name": "stdout",
          "text": [
            "Годен                               1434\n",
            "ГоденСКоррекциейЗрения               123\n",
            "ВременноНегоден                        9\n",
            "НуждаетсяВДообследованииИЛечении       2\n",
            "ОграниченноГоден                       2\n",
            "ГоденБезРаботНаВысотах                 1\n",
            "Name: ЗаключениеМК, dtype: int64\n"
          ]
        }
      ]
    },
    {
      "cell_type": "code",
      "source": [
        "# df_01.info()"
      ],
      "metadata": {
        "id": "OLA082UDIi1j"
      },
      "execution_count": null,
      "outputs": []
    },
    {
      "cell_type": "markdown",
      "source": [
        "### Удаление столбцов"
      ],
      "metadata": {
        "id": "V2C7F5fUGae1"
      }
    },
    {
      "cell_type": "code",
      "source": [
        "#@title  с дублирующей информацией\n",
        "# столбцы 'ЗаключениеМКПредставление', 'Заключение' удаляем из датасета, как дублирующие\n",
        "\n",
        "df_01 = df_01.drop(['ЗаключениеМКПредставление', 'Заключение'], axis='columns') "
      ],
      "metadata": {
        "id": "jbC6r7hNBDow"
      },
      "execution_count": null,
      "outputs": []
    },
    {
      "cell_type": "code",
      "source": [
        "#@title  с нулевыми значениями\n",
        "df_02 = df_01.dropna(axis='columns',how='all')"
      ],
      "metadata": {
        "id": "6SQb98ILnoi4"
      },
      "execution_count": null,
      "outputs": []
    },
    {
      "cell_type": "code",
      "source": [
        "print('df_01: ', df_01.shape)\n",
        "print('df_02: ', df_02.shape)"
      ],
      "metadata": {
        "colab": {
          "base_uri": "https://localhost:8080/"
        },
        "id": "de4TrH68K8gn",
        "outputId": "4fde5577-04b8-4f0f-d379-cb4a92fa94a5"
      },
      "execution_count": null,
      "outputs": [
        {
          "output_type": "stream",
          "name": "stdout",
          "text": [
            "df_01:  (1571, 4585)\n",
            "df_02:  (1571, 3576)\n"
          ]
        }
      ]
    },
    {
      "cell_type": "markdown",
      "source": [
        "#### с нерелевантной информацией"
      ],
      "metadata": {
        "id": "i-KRULWeJ1fl"
      }
    },
    {
      "cell_type": "code",
      "source": [
        "keywords_to_drop = 'ДатаПриема|_Дата|Документ|Салон|Специализация|Врач'\n",
        "columns_to_drop = list(df_02.filter(regex=keywords_to_drop).columns)\n",
        "len(columns_to_drop)"
      ],
      "metadata": {
        "colab": {
          "base_uri": "https://localhost:8080/"
        },
        "id": "IPUQxzXIXnc2",
        "outputId": "c4948a08-7ea0-483d-ce7a-5f865428a456"
      },
      "execution_count": null,
      "outputs": [
        {
          "output_type": "execute_result",
          "data": {
            "text/plain": [
              "381"
            ]
          },
          "metadata": {},
          "execution_count": 50
        }
      ]
    },
    {
      "cell_type": "code",
      "source": [
        "df_03 = df_02.drop(columns_to_drop, axis='columns')\n",
        "df_03.info()"
      ],
      "metadata": {
        "colab": {
          "base_uri": "https://localhost:8080/"
        },
        "id": "Bf7cFBSfcRhY",
        "outputId": "7fc6e615-4577-4bad-f277-c94f73857182"
      },
      "execution_count": null,
      "outputs": [
        {
          "output_type": "stream",
          "name": "stdout",
          "text": [
            "<class 'pandas.core.frame.DataFrame'>\n",
            "Int64Index: 1571 entries, 0 to 1981\n",
            "Columns: 3195 entries, Клиент to Офтальмология1_ДвигательныйАппаратГлазДополнение_ЗначениеПредставление\n",
            "dtypes: bool(1), datetime64[ns](2), float64(369), object(2823)\n",
            "memory usage: 38.3+ MB\n"
          ]
        }
      ]
    },
    {
      "cell_type": "code",
      "source": [
        "columns = list(df_03.columns)\n",
        "len(columns)"
      ],
      "metadata": {
        "colab": {
          "base_uri": "https://localhost:8080/"
        },
        "id": "KQEo0O-GS7iE",
        "outputId": "d4ab52aa-2806-48ae-f00b-9b416760abbe"
      },
      "execution_count": null,
      "outputs": [
        {
          "output_type": "execute_result",
          "data": {
            "text/plain": [
              "3195"
            ]
          },
          "metadata": {},
          "execution_count": 54
        }
      ]
    },
    {
      "cell_type": "markdown",
      "source": [
        "### Столбцы с общей информацией"
      ],
      "metadata": {
        "id": "bAPa334M5I97"
      }
    },
    {
      "cell_type": "code",
      "source": [
        "columns_general = ['КлиентДатаРождения',\n",
        "                        'КлиентПолПредставление', \n",
        "                        'ДатаЗавершенияМедосмотра', \n",
        "                        'ЗаключениеМК',\n",
        "                        'ДиспансернаяГруппаПредставление',\n",
        "                        'ВредныеФакторы']"
      ],
      "metadata": {
        "id": "YBK2HRT_lhNj"
      },
      "execution_count": null,
      "outputs": []
    },
    {
      "cell_type": "markdown",
      "source": [
        "### Столбцы с признаком \"Представление\"\n",
        "по результатам предварительного анализа датасета, считаем, что столбцы с признаком Представления содержат дублирующую или обобщенную информацию со столбцами аналогичного наименования, но без признака"
      ],
      "metadata": {
        "id": "ZW3CLb9BkNra"
      }
    },
    {
      "cell_type": "code",
      "source": [
        "keywords_representation = 'Представление'\n",
        "columns_representation = list(df_03.filter(regex=keywords_representation).columns)[3:]\n",
        "len(columns_representation)"
      ],
      "metadata": {
        "colab": {
          "base_uri": "https://localhost:8080/"
        },
        "id": "a_1yXpWRfhKX",
        "outputId": "74dbd16a-3208-4d9c-af5f-4d1bafb96381"
      },
      "execution_count": null,
      "outputs": [
        {
          "output_type": "execute_result",
          "data": {
            "text/plain": [
              "1529"
            ]
          },
          "metadata": {},
          "execution_count": 62
        }
      ]
    },
    {
      "cell_type": "code",
      "source": [
        "columns_representation[:10]"
      ],
      "metadata": {
        "colab": {
          "base_uri": "https://localhost:8080/"
        },
        "id": "VnqswFipgAML",
        "outputId": "b97f799a-c1ea-4a1f-acc9-cedfc71cdbd1"
      },
      "execution_count": null,
      "outputs": [
        {
          "output_type": "execute_result",
          "data": {
            "text/plain": [
              "['ЛабораторныеИсследования1_ОАК_ЗначениеПредставление',\n",
              " 'ЛабораторныеИсследования1_Биохимия_ЗначениеПредставление',\n",
              " 'ЛабораторныеИсследования1_ОАМ_ЗначениеПредставление',\n",
              " 'ЛабораторныеИсследования1_МазокИзЗеваИНоса_ЗначениеПредставление',\n",
              " 'ЛабораторныеИсследования1_Кал_ЗначениеПредставление',\n",
              " 'ЛабораторныеИсследования1_RW_ЗначениеПредставление',\n",
              " 'ЛабораторныеИсследования1_КровьНаЭнтеробиоз_ЗначениеПредставление',\n",
              " 'Рентгенология1_Легкие_ЗначениеПредставление',\n",
              " 'Рентгенология1_Сердце_ЗначениеПредставление',\n",
              " 'Рентгенология1_Заключение_ЗначениеПредставление']"
            ]
          },
          "metadata": {},
          "execution_count": 63
        }
      ]
    },
    {
      "cell_type": "markdown",
      "source": [
        "### Столбцы с признаком \"МКБ\""
      ],
      "metadata": {
        "id": "dWYjgdrXRLf9"
      }
    },
    {
      "cell_type": "code",
      "source": [
        "keywords_mkb = 'МКБ'\n",
        "columns_mkb = list(df_03.filter(regex=keywords_mkb).columns)\n",
        "len(columns_mkb)"
      ],
      "metadata": {
        "colab": {
          "base_uri": "https://localhost:8080/"
        },
        "id": "v_hmdqeQgeLm",
        "outputId": "e33498c5-bc73-442c-ada1-98d313766be1"
      },
      "execution_count": null,
      "outputs": [
        {
          "output_type": "execute_result",
          "data": {
            "text/plain": [
              "91"
            ]
          },
          "metadata": {},
          "execution_count": 66
        }
      ]
    },
    {
      "cell_type": "markdown",
      "source": [
        "### Формирование перечня столбцов для датафрейма"
      ],
      "metadata": {
        "id": "GPV4G8UA5T7S"
      }
    },
    {
      "cell_type": "code",
      "source": [
        "columns_to_save = columns_general + columns_representation + columns_mkb\n",
        "# columns_to_save\n",
        "print(len(columns_to_save))"
      ],
      "metadata": {
        "id": "k1zdeNxAj4lr",
        "colab": {
          "base_uri": "https://localhost:8080/"
        },
        "outputId": "2d5a0263-d398-438e-bdb9-5dd23e75e497"
      },
      "execution_count": null,
      "outputs": [
        {
          "output_type": "stream",
          "name": "stdout",
          "text": [
            "1626\n"
          ]
        }
      ]
    },
    {
      "cell_type": "code",
      "source": [
        "df_modified = df_03[columns_to_save]\n",
        "df_modified.reset_index(drop= True , inplace= True)\n",
        "df_modified.index"
      ],
      "metadata": {
        "id": "FYqDi_QakJiQ",
        "colab": {
          "base_uri": "https://localhost:8080/"
        },
        "outputId": "a20cbd36-4d6e-4073-98c8-2cdec84c7e18"
      },
      "execution_count": null,
      "outputs": [
        {
          "output_type": "execute_result",
          "data": {
            "text/plain": [
              "RangeIndex(start=0, stop=1571, step=1)"
            ]
          },
          "metadata": {},
          "execution_count": 68
        }
      ]
    },
    {
      "cell_type": "code",
      "source": [
        "df_modified.info()"
      ],
      "metadata": {
        "id": "0HKSk6eHq7K0",
        "colab": {
          "base_uri": "https://localhost:8080/"
        },
        "outputId": "7edf8542-e3a0-46f5-b747-45e8d8e5502d"
      },
      "execution_count": null,
      "outputs": [
        {
          "output_type": "stream",
          "name": "stdout",
          "text": [
            "<class 'pandas.core.frame.DataFrame'>\n",
            "RangeIndex: 1571 entries, 0 to 1570\n",
            "Columns: 1626 entries, КлиентДатаРождения to Оториноларингология3_МКБ101\n",
            "dtypes: datetime64[ns](2), float64(85), object(1539)\n",
            "memory usage: 19.5+ MB\n"
          ]
        }
      ]
    },
    {
      "cell_type": "code",
      "source": [
        "df_modified.shape"
      ],
      "metadata": {
        "colab": {
          "base_uri": "https://localhost:8080/"
        },
        "id": "EhDjIUmGKJRL",
        "outputId": "7385485c-4ec2-4337-d666-2f76fc701fd8"
      },
      "execution_count": null,
      "outputs": [
        {
          "output_type": "execute_result",
          "data": {
            "text/plain": [
              "(1571, 1626)"
            ]
          },
          "metadata": {},
          "execution_count": 70
        }
      ]
    },
    {
      "cell_type": "code",
      "source": [
        "data = df_modified.copy()\n",
        "data[columns_general].head()"
      ],
      "metadata": {
        "colab": {
          "base_uri": "https://localhost:8080/",
          "height": 206
        },
        "id": "bezNP931DIvI",
        "outputId": "eab100a1-1290-4ab9-8b75-85b59bb3ec66"
      },
      "execution_count": null,
      "outputs": [
        {
          "output_type": "execute_result",
          "data": {
            "text/plain": [
              "  КлиентДатаРождения КлиентПолПредставление ДатаЗавершенияМедосмотра  \\\n",
              "0         1976-10-24                Женский               2022-01-25   \n",
              "1         1987-11-18                Мужской               2022-02-02   \n",
              "2         1985-09-08                Мужской               2022-02-15   \n",
              "3         1988-04-25                Мужской               2022-02-16   \n",
              "4         1984-04-17                Мужской               2022-02-22   \n",
              "\n",
              "             ЗаключениеМК ДиспансернаяГруппаПредставление ВредныеФакторы  \n",
              "0                   Годен                               I           11.4  \n",
              "1                   Годен                            IIIа          4.2.5  \n",
              "2  ГоденСКоррекциейЗрения                              II          4.2.5  \n",
              "3                   Годен                               I           11.1  \n",
              "4  ГоденСКоррекциейЗрения                              II           11.1  "
            ],
            "text/html": [
              "\n",
              "  <div id=\"df-04a78a86-ea47-4b4e-9552-d90a6df8c14c\">\n",
              "    <div class=\"colab-df-container\">\n",
              "      <div>\n",
              "<style scoped>\n",
              "    .dataframe tbody tr th:only-of-type {\n",
              "        vertical-align: middle;\n",
              "    }\n",
              "\n",
              "    .dataframe tbody tr th {\n",
              "        vertical-align: top;\n",
              "    }\n",
              "\n",
              "    .dataframe thead th {\n",
              "        text-align: right;\n",
              "    }\n",
              "</style>\n",
              "<table border=\"1\" class=\"dataframe\">\n",
              "  <thead>\n",
              "    <tr style=\"text-align: right;\">\n",
              "      <th></th>\n",
              "      <th>КлиентДатаРождения</th>\n",
              "      <th>КлиентПолПредставление</th>\n",
              "      <th>ДатаЗавершенияМедосмотра</th>\n",
              "      <th>ЗаключениеМК</th>\n",
              "      <th>ДиспансернаяГруппаПредставление</th>\n",
              "      <th>ВредныеФакторы</th>\n",
              "    </tr>\n",
              "  </thead>\n",
              "  <tbody>\n",
              "    <tr>\n",
              "      <th>0</th>\n",
              "      <td>1976-10-24</td>\n",
              "      <td>Женский</td>\n",
              "      <td>2022-01-25</td>\n",
              "      <td>Годен</td>\n",
              "      <td>I</td>\n",
              "      <td>11.4</td>\n",
              "    </tr>\n",
              "    <tr>\n",
              "      <th>1</th>\n",
              "      <td>1987-11-18</td>\n",
              "      <td>Мужской</td>\n",
              "      <td>2022-02-02</td>\n",
              "      <td>Годен</td>\n",
              "      <td>IIIа</td>\n",
              "      <td>4.2.5</td>\n",
              "    </tr>\n",
              "    <tr>\n",
              "      <th>2</th>\n",
              "      <td>1985-09-08</td>\n",
              "      <td>Мужской</td>\n",
              "      <td>2022-02-15</td>\n",
              "      <td>ГоденСКоррекциейЗрения</td>\n",
              "      <td>II</td>\n",
              "      <td>4.2.5</td>\n",
              "    </tr>\n",
              "    <tr>\n",
              "      <th>3</th>\n",
              "      <td>1988-04-25</td>\n",
              "      <td>Мужской</td>\n",
              "      <td>2022-02-16</td>\n",
              "      <td>Годен</td>\n",
              "      <td>I</td>\n",
              "      <td>11.1</td>\n",
              "    </tr>\n",
              "    <tr>\n",
              "      <th>4</th>\n",
              "      <td>1984-04-17</td>\n",
              "      <td>Мужской</td>\n",
              "      <td>2022-02-22</td>\n",
              "      <td>ГоденСКоррекциейЗрения</td>\n",
              "      <td>II</td>\n",
              "      <td>11.1</td>\n",
              "    </tr>\n",
              "  </tbody>\n",
              "</table>\n",
              "</div>\n",
              "      <button class=\"colab-df-convert\" onclick=\"convertToInteractive('df-04a78a86-ea47-4b4e-9552-d90a6df8c14c')\"\n",
              "              title=\"Convert this dataframe to an interactive table.\"\n",
              "              style=\"display:none;\">\n",
              "        \n",
              "  <svg xmlns=\"http://www.w3.org/2000/svg\" height=\"24px\"viewBox=\"0 0 24 24\"\n",
              "       width=\"24px\">\n",
              "    <path d=\"M0 0h24v24H0V0z\" fill=\"none\"/>\n",
              "    <path d=\"M18.56 5.44l.94 2.06.94-2.06 2.06-.94-2.06-.94-.94-2.06-.94 2.06-2.06.94zm-11 1L8.5 8.5l.94-2.06 2.06-.94-2.06-.94L8.5 2.5l-.94 2.06-2.06.94zm10 10l.94 2.06.94-2.06 2.06-.94-2.06-.94-.94-2.06-.94 2.06-2.06.94z\"/><path d=\"M17.41 7.96l-1.37-1.37c-.4-.4-.92-.59-1.43-.59-.52 0-1.04.2-1.43.59L10.3 9.45l-7.72 7.72c-.78.78-.78 2.05 0 2.83L4 21.41c.39.39.9.59 1.41.59.51 0 1.02-.2 1.41-.59l7.78-7.78 2.81-2.81c.8-.78.8-2.07 0-2.86zM5.41 20L4 18.59l7.72-7.72 1.47 1.35L5.41 20z\"/>\n",
              "  </svg>\n",
              "      </button>\n",
              "      \n",
              "  <style>\n",
              "    .colab-df-container {\n",
              "      display:flex;\n",
              "      flex-wrap:wrap;\n",
              "      gap: 12px;\n",
              "    }\n",
              "\n",
              "    .colab-df-convert {\n",
              "      background-color: #E8F0FE;\n",
              "      border: none;\n",
              "      border-radius: 50%;\n",
              "      cursor: pointer;\n",
              "      display: none;\n",
              "      fill: #1967D2;\n",
              "      height: 32px;\n",
              "      padding: 0 0 0 0;\n",
              "      width: 32px;\n",
              "    }\n",
              "\n",
              "    .colab-df-convert:hover {\n",
              "      background-color: #E2EBFA;\n",
              "      box-shadow: 0px 1px 2px rgba(60, 64, 67, 0.3), 0px 1px 3px 1px rgba(60, 64, 67, 0.15);\n",
              "      fill: #174EA6;\n",
              "    }\n",
              "\n",
              "    [theme=dark] .colab-df-convert {\n",
              "      background-color: #3B4455;\n",
              "      fill: #D2E3FC;\n",
              "    }\n",
              "\n",
              "    [theme=dark] .colab-df-convert:hover {\n",
              "      background-color: #434B5C;\n",
              "      box-shadow: 0px 1px 3px 1px rgba(0, 0, 0, 0.15);\n",
              "      filter: drop-shadow(0px 1px 2px rgba(0, 0, 0, 0.3));\n",
              "      fill: #FFFFFF;\n",
              "    }\n",
              "  </style>\n",
              "\n",
              "      <script>\n",
              "        const buttonEl =\n",
              "          document.querySelector('#df-04a78a86-ea47-4b4e-9552-d90a6df8c14c button.colab-df-convert');\n",
              "        buttonEl.style.display =\n",
              "          google.colab.kernel.accessAllowed ? 'block' : 'none';\n",
              "\n",
              "        async function convertToInteractive(key) {\n",
              "          const element = document.querySelector('#df-04a78a86-ea47-4b4e-9552-d90a6df8c14c');\n",
              "          const dataTable =\n",
              "            await google.colab.kernel.invokeFunction('convertToInteractive',\n",
              "                                                     [key], {});\n",
              "          if (!dataTable) return;\n",
              "\n",
              "          const docLinkHtml = 'Like what you see? Visit the ' +\n",
              "            '<a target=\"_blank\" href=https://colab.research.google.com/notebooks/data_table.ipynb>data table notebook</a>'\n",
              "            + ' to learn more about interactive tables.';\n",
              "          element.innerHTML = '';\n",
              "          dataTable['output_type'] = 'display_data';\n",
              "          await google.colab.output.renderOutput(dataTable, element);\n",
              "          const docLink = document.createElement('div');\n",
              "          docLink.innerHTML = docLinkHtml;\n",
              "          element.appendChild(docLink);\n",
              "        }\n",
              "      </script>\n",
              "    </div>\n",
              "  </div>\n",
              "  "
            ]
          },
          "metadata": {},
          "execution_count": 81
        }
      ]
    },
    {
      "cell_type": "markdown",
      "source": [
        "### Добавление столбца с параметром \"Возраст\""
      ],
      "metadata": {
        "id": "1PaWAF2EFIQw"
      }
    },
    {
      "cell_type": "code",
      "source": [
        "data['Возраст'] = (data['ДатаЗавершенияМедосмотра'] - data['КлиентДатаРождения']).dt.days // 365"
      ],
      "metadata": {
        "id": "4gf0d1eVFM__"
      },
      "execution_count": null,
      "outputs": []
    },
    {
      "cell_type": "code",
      "source": [
        "# Столбцы \"КлиентДатаРождения\" и  \"ДатаЗавершенияМедосмотра\" далее не потребуются\n",
        "data = data.drop(['КлиентДатаРождения', 'ДатаЗавершенияМедосмотра'], axis='columns')\n"
      ],
      "metadata": {
        "id": "3lEuVgygMd2-"
      },
      "execution_count": null,
      "outputs": []
    },
    {
      "cell_type": "code",
      "source": [
        "data[['КлиентПолПредставление',\n",
        "      'ЗаключениеМК',\n",
        "      'ДиспансернаяГруппаПредставление',\n",
        "      'ВредныеФакторы',\n",
        "      'Возраст']].head()"
      ],
      "metadata": {
        "colab": {
          "base_uri": "https://localhost:8080/",
          "height": 206
        },
        "id": "pQs3p4QXiIuU",
        "outputId": "467af940-dfb0-44cb-cb4c-28fc777fe8a4"
      },
      "execution_count": null,
      "outputs": [
        {
          "output_type": "execute_result",
          "data": {
            "text/plain": [
              "  КлиентПолПредставление            ЗаключениеМК  \\\n",
              "0                Женский                   Годен   \n",
              "1                Мужской                   Годен   \n",
              "2                Мужской  ГоденСКоррекциейЗрения   \n",
              "3                Мужской                   Годен   \n",
              "4                Мужской  ГоденСКоррекциейЗрения   \n",
              "\n",
              "  ДиспансернаяГруппаПредставление ВредныеФакторы  Возраст  \n",
              "0                               I           11.4       45  \n",
              "1                            IIIа          4.2.5       34  \n",
              "2                              II          4.2.5       36  \n",
              "3                               I           11.1       33  \n",
              "4                              II           11.1       37  "
            ],
            "text/html": [
              "\n",
              "  <div id=\"df-e60354b8-dcf7-4514-9a1f-82f7be54bfdc\">\n",
              "    <div class=\"colab-df-container\">\n",
              "      <div>\n",
              "<style scoped>\n",
              "    .dataframe tbody tr th:only-of-type {\n",
              "        vertical-align: middle;\n",
              "    }\n",
              "\n",
              "    .dataframe tbody tr th {\n",
              "        vertical-align: top;\n",
              "    }\n",
              "\n",
              "    .dataframe thead th {\n",
              "        text-align: right;\n",
              "    }\n",
              "</style>\n",
              "<table border=\"1\" class=\"dataframe\">\n",
              "  <thead>\n",
              "    <tr style=\"text-align: right;\">\n",
              "      <th></th>\n",
              "      <th>КлиентПолПредставление</th>\n",
              "      <th>ЗаключениеМК</th>\n",
              "      <th>ДиспансернаяГруппаПредставление</th>\n",
              "      <th>ВредныеФакторы</th>\n",
              "      <th>Возраст</th>\n",
              "    </tr>\n",
              "  </thead>\n",
              "  <tbody>\n",
              "    <tr>\n",
              "      <th>0</th>\n",
              "      <td>Женский</td>\n",
              "      <td>Годен</td>\n",
              "      <td>I</td>\n",
              "      <td>11.4</td>\n",
              "      <td>45</td>\n",
              "    </tr>\n",
              "    <tr>\n",
              "      <th>1</th>\n",
              "      <td>Мужской</td>\n",
              "      <td>Годен</td>\n",
              "      <td>IIIа</td>\n",
              "      <td>4.2.5</td>\n",
              "      <td>34</td>\n",
              "    </tr>\n",
              "    <tr>\n",
              "      <th>2</th>\n",
              "      <td>Мужской</td>\n",
              "      <td>ГоденСКоррекциейЗрения</td>\n",
              "      <td>II</td>\n",
              "      <td>4.2.5</td>\n",
              "      <td>36</td>\n",
              "    </tr>\n",
              "    <tr>\n",
              "      <th>3</th>\n",
              "      <td>Мужской</td>\n",
              "      <td>Годен</td>\n",
              "      <td>I</td>\n",
              "      <td>11.1</td>\n",
              "      <td>33</td>\n",
              "    </tr>\n",
              "    <tr>\n",
              "      <th>4</th>\n",
              "      <td>Мужской</td>\n",
              "      <td>ГоденСКоррекциейЗрения</td>\n",
              "      <td>II</td>\n",
              "      <td>11.1</td>\n",
              "      <td>37</td>\n",
              "    </tr>\n",
              "  </tbody>\n",
              "</table>\n",
              "</div>\n",
              "      <button class=\"colab-df-convert\" onclick=\"convertToInteractive('df-e60354b8-dcf7-4514-9a1f-82f7be54bfdc')\"\n",
              "              title=\"Convert this dataframe to an interactive table.\"\n",
              "              style=\"display:none;\">\n",
              "        \n",
              "  <svg xmlns=\"http://www.w3.org/2000/svg\" height=\"24px\"viewBox=\"0 0 24 24\"\n",
              "       width=\"24px\">\n",
              "    <path d=\"M0 0h24v24H0V0z\" fill=\"none\"/>\n",
              "    <path d=\"M18.56 5.44l.94 2.06.94-2.06 2.06-.94-2.06-.94-.94-2.06-.94 2.06-2.06.94zm-11 1L8.5 8.5l.94-2.06 2.06-.94-2.06-.94L8.5 2.5l-.94 2.06-2.06.94zm10 10l.94 2.06.94-2.06 2.06-.94-2.06-.94-.94-2.06-.94 2.06-2.06.94z\"/><path d=\"M17.41 7.96l-1.37-1.37c-.4-.4-.92-.59-1.43-.59-.52 0-1.04.2-1.43.59L10.3 9.45l-7.72 7.72c-.78.78-.78 2.05 0 2.83L4 21.41c.39.39.9.59 1.41.59.51 0 1.02-.2 1.41-.59l7.78-7.78 2.81-2.81c.8-.78.8-2.07 0-2.86zM5.41 20L4 18.59l7.72-7.72 1.47 1.35L5.41 20z\"/>\n",
              "  </svg>\n",
              "      </button>\n",
              "      \n",
              "  <style>\n",
              "    .colab-df-container {\n",
              "      display:flex;\n",
              "      flex-wrap:wrap;\n",
              "      gap: 12px;\n",
              "    }\n",
              "\n",
              "    .colab-df-convert {\n",
              "      background-color: #E8F0FE;\n",
              "      border: none;\n",
              "      border-radius: 50%;\n",
              "      cursor: pointer;\n",
              "      display: none;\n",
              "      fill: #1967D2;\n",
              "      height: 32px;\n",
              "      padding: 0 0 0 0;\n",
              "      width: 32px;\n",
              "    }\n",
              "\n",
              "    .colab-df-convert:hover {\n",
              "      background-color: #E2EBFA;\n",
              "      box-shadow: 0px 1px 2px rgba(60, 64, 67, 0.3), 0px 1px 3px 1px rgba(60, 64, 67, 0.15);\n",
              "      fill: #174EA6;\n",
              "    }\n",
              "\n",
              "    [theme=dark] .colab-df-convert {\n",
              "      background-color: #3B4455;\n",
              "      fill: #D2E3FC;\n",
              "    }\n",
              "\n",
              "    [theme=dark] .colab-df-convert:hover {\n",
              "      background-color: #434B5C;\n",
              "      box-shadow: 0px 1px 3px 1px rgba(0, 0, 0, 0.15);\n",
              "      filter: drop-shadow(0px 1px 2px rgba(0, 0, 0, 0.3));\n",
              "      fill: #FFFFFF;\n",
              "    }\n",
              "  </style>\n",
              "\n",
              "      <script>\n",
              "        const buttonEl =\n",
              "          document.querySelector('#df-e60354b8-dcf7-4514-9a1f-82f7be54bfdc button.colab-df-convert');\n",
              "        buttonEl.style.display =\n",
              "          google.colab.kernel.accessAllowed ? 'block' : 'none';\n",
              "\n",
              "        async function convertToInteractive(key) {\n",
              "          const element = document.querySelector('#df-e60354b8-dcf7-4514-9a1f-82f7be54bfdc');\n",
              "          const dataTable =\n",
              "            await google.colab.kernel.invokeFunction('convertToInteractive',\n",
              "                                                     [key], {});\n",
              "          if (!dataTable) return;\n",
              "\n",
              "          const docLinkHtml = 'Like what you see? Visit the ' +\n",
              "            '<a target=\"_blank\" href=https://colab.research.google.com/notebooks/data_table.ipynb>data table notebook</a>'\n",
              "            + ' to learn more about interactive tables.';\n",
              "          element.innerHTML = '';\n",
              "          dataTable['output_type'] = 'display_data';\n",
              "          await google.colab.output.renderOutput(dataTable, element);\n",
              "          const docLink = document.createElement('div');\n",
              "          docLink.innerHTML = docLinkHtml;\n",
              "          element.appendChild(docLink);\n",
              "        }\n",
              "      </script>\n",
              "    </div>\n",
              "  </div>\n",
              "  "
            ]
          },
          "metadata": {},
          "execution_count": 85
        }
      ]
    },
    {
      "cell_type": "markdown",
      "source": [
        "## Сохранение скорректированного датасета для дальнейшей работы "
      ],
      "metadata": {
        "id": "G-AkBITtOhOk"
      }
    },
    {
      "cell_type": "code",
      "source": [
        "data.to_excel('/content/drive/MyDrive/NU_files/стажировка/profpatolog_modifiedDataset_v1.xlsx')"
      ],
      "metadata": {
        "id": "ZZuIjMV5Odmj"
      },
      "execution_count": null,
      "outputs": []
    }
  ]
}