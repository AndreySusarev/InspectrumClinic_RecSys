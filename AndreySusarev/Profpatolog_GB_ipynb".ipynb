{
  "cells": [
    {
      "cell_type": "markdown",
      "metadata": {
        "id": "view-in-github",
        "colab_type": "text"
      },
      "source": [
        "<a href=\"https://colab.research.google.com/github/Untick/InspectrumClinic_RecSys/blob/main/AndreySusarev/Profpatolog_GB_ipynb%22.ipynb\" target=\"_parent\"><img src=\"https://colab.research.google.com/assets/colab-badge.svg\" alt=\"Open In Colab\"/></a>"
      ]
    },
    {
      "cell_type": "markdown",
      "source": [
        "## Загрузка библиотек и инструментов"
      ],
      "metadata": {
        "id": "Kje69ZaUdhMD"
      }
    },
    {
      "cell_type": "code",
      "execution_count": 1,
      "metadata": {
        "id": "QzSKmBrAb24N",
        "colab": {
          "base_uri": "https://localhost:8080/"
        },
        "outputId": "2b515479-4111-496e-dc83-8690e0816a65"
      },
      "outputs": [
        {
          "output_type": "stream",
          "name": "stdout",
          "text": [
            "Looking in indexes: https://pypi.org/simple, https://us-python.pkg.dev/colab-wheels/public/simple/\n",
            "Collecting keras-tuner\n",
            "  Downloading keras_tuner-1.3.5-py3-none-any.whl (176 kB)\n",
            "\u001b[2K     \u001b[90m━━━━━━━━━━━━━━━━━━━━━━━━━━━━━━━━━━━━━━━\u001b[0m \u001b[32m176.1/176.1 kB\u001b[0m \u001b[31m4.6 MB/s\u001b[0m eta \u001b[36m0:00:00\u001b[0m\n",
            "\u001b[?25hRequirement already satisfied: packaging in /usr/local/lib/python3.10/dist-packages (from keras-tuner) (23.1)\n",
            "Requirement already satisfied: requests in /usr/local/lib/python3.10/dist-packages (from keras-tuner) (2.27.1)\n",
            "Collecting kt-legacy (from keras-tuner)\n",
            "  Downloading kt_legacy-1.0.5-py3-none-any.whl (9.6 kB)\n",
            "Requirement already satisfied: urllib3<1.27,>=1.21.1 in /usr/local/lib/python3.10/dist-packages (from requests->keras-tuner) (1.26.16)\n",
            "Requirement already satisfied: certifi>=2017.4.17 in /usr/local/lib/python3.10/dist-packages (from requests->keras-tuner) (2023.5.7)\n",
            "Requirement already satisfied: charset-normalizer~=2.0.0 in /usr/local/lib/python3.10/dist-packages (from requests->keras-tuner) (2.0.12)\n",
            "Requirement already satisfied: idna<4,>=2.5 in /usr/local/lib/python3.10/dist-packages (from requests->keras-tuner) (3.4)\n",
            "Installing collected packages: kt-legacy, keras-tuner\n",
            "Successfully installed keras-tuner-1.3.5 kt-legacy-1.0.5\n"
          ]
        }
      ],
      "source": [
        "import numpy as np\n",
        "import pandas as pd\n",
        "from tensorflow.keras.models import Sequential, Model\n",
        "from tensorflow.keras.layers import Dense, Dropout, BatchNormalization, Input, LSTM\n",
        "from tensorflow.keras.layers import Activation\n",
        "!pip install keras-tuner --upgrade\n",
        "from tensorflow.keras import utils\n",
        "from keras_tuner.tuners import Hyperband, BayesianOptimization\n",
        "from tensorflow.keras.optimizers import Adam\n",
        "from sklearn.model_selection import train_test_split\n",
        "import matplotlib.pyplot as plt\n",
        "import statistics\n",
        "import re\n",
        "import seaborn as sns\n",
        "import warnings\n",
        "warnings.filterwarnings('ignore')\n",
        "import random\n",
        "import os\n",
        "from sklearn.preprocessing import MinMaxScaler\n",
        "from sklearn.model_selection import cross_val_score\n",
        "from sklearn.model_selection import KFold\n",
        "from scipy import stats\n",
        "\n",
        "%matplotlib inline"
      ]
    },
    {
      "cell_type": "code",
      "source": [
        "# Метрики для расчета ошибок\n",
        "from sklearn.metrics import mean_squared_error, mean_absolute_error, r2_score\n",
        "from keras.callbacks import ModelCheckpoint"
      ],
      "metadata": {
        "id": "vJ6t9SISFpJX"
      },
      "execution_count": 2,
      "outputs": []
    },
    {
      "cell_type": "markdown",
      "source": [
        "## Загрузка и предобработка датасета"
      ],
      "metadata": {
        "id": "9vRHATFHyz9t"
      }
    },
    {
      "cell_type": "code",
      "source": [
        "# data = pd.read_excel('https://storage.yandexcloud.net/terratraineeship/23_InspectrumClinic_RS/datasets/%D0%B4%D0%B0%D1%82%D0%B0%D1%81%D0%B5%D1%82%20%D0%BF%D1%80%D0%BE%D1%84%D0%BF%D0%B0%D1%82%D0%BE%D0%BB%D0%BE%D0%B3%20%D1%87%D0%B0%D1%81%D1%82%D1%8C.xlsx')"
      ],
      "metadata": {
        "id": "twAvu4t1QfXu"
      },
      "execution_count": null,
      "outputs": []
    },
    {
      "cell_type": "code",
      "source": [
        "# Подключим диск\n",
        "from google.colab import drive\n",
        "drive.mount('/content/drive')\n",
        "\n",
        "# и сохраним туда исходную таблицу\n",
        "# data.to_excel('/content/drive/MyDrive/Стажировка/Profpatolog/Data/data_2.xlsx')"
      ],
      "metadata": {
        "colab": {
          "base_uri": "https://localhost:8080/"
        },
        "id": "3RrL-MkGE1gQ",
        "outputId": "bedb622b-ef19-4bfc-b6f9-a1a3266338a8"
      },
      "execution_count": 3,
      "outputs": [
        {
          "output_type": "stream",
          "name": "stdout",
          "text": [
            "Mounted at /content/drive\n"
          ]
        }
      ]
    },
    {
      "cell_type": "code",
      "source": [
        "# Загрузим таблицу для обработки\n",
        "data = pd.read_excel('/content/drive/MyDrive/Стажировка/Profpatolog/Data/DS_Profpatolog_1980.xlsx')\n",
        "data.head()"
      ],
      "metadata": {
        "id": "76pa6PJ4E2zx",
        "colab": {
          "base_uri": "https://localhost:8080/",
          "height": 560
        },
        "outputId": "cfdfa71a-e2d4-4277-bdb8-c0ff20a2915b"
      },
      "execution_count": 4,
      "outputs": [
        {
          "output_type": "execute_result",
          "data": {
            "text/plain": [
              "          ДокументПрохождениеМедосмотра                                Клиент  \\\n",
              "0  7f41ca7e-7dac-11ec-80fc-0cc47aab8067  c91e3407-b81f-11e9-80cf-0cc47aab8067   \n",
              "1  2ee1f9ac-83dd-11ec-80fc-0cc47aab8067  1a1a5fea-8b7f-11eb-80e8-0cc47aab8067   \n",
              "2  9cbb191e-8e24-11ec-80fe-0cc47aab8067  7fe324e0-fa51-11eb-80f6-0cc47aab8067   \n",
              "3  b8a33910-8eec-11ec-80fe-0cc47aab8067  98f9d761-8d65-11ec-80fe-0cc47aab8067   \n",
              "4  0bb0d181-938c-11ec-80fe-0cc47aab8067  009aac7d-7bcf-11eb-80e8-0cc47aab8067   \n",
              "\n",
              "  КлиентДатаРождения КлиентПол КлиентПолПредставление  \\\n",
              "0         1976-10-24   Женский                Женский   \n",
              "1         1987-11-18   Мужской                Мужской   \n",
              "2         1985-09-08   Мужской                Мужской   \n",
              "3         1988-04-25   Мужской                Мужской   \n",
              "4         1984-04-17   Мужской                Мужской   \n",
              "\n",
              "  ДатаЗавершенияМедосмотра  ТипМедосмотра ТипМедосмотраПредставление  \\\n",
              "0               2022-01-25  Периодический              Периодический   \n",
              "1               2022-02-02  Периодический              Периодический   \n",
              "2               2022-02-15  Периодический              Периодический   \n",
              "3               2022-02-16  Периодический              Периодический   \n",
              "4               2022-02-22  Периодический              Периодический   \n",
              "\n",
              "   ПсихОсвидетельствование                            Контрагент  ...  \\\n",
              "0                    False  23c173a7-30d9-11e7-80d8-708bcd7f83cd  ...   \n",
              "1                    False  a6d559b0-7835-11eb-80e8-0cc47aab8067  ...   \n",
              "2                    False  a6d559b0-7835-11eb-80e8-0cc47aab8067  ...   \n",
              "3                    False  a6d559b0-7835-11eb-80e8-0cc47aab8067  ...   \n",
              "4                    False  a6d559b0-7835-11eb-80e8-0cc47aab8067  ...   \n",
              "\n",
              "  Оториноларингология3_Аудиометрия1_Значение  \\\n",
              "0                                        NaN   \n",
              "1                                        NaN   \n",
              "2                                        NaN   \n",
              "3                                        NaN   \n",
              "4                                        NaN   \n",
              "\n",
              "  Оториноларингология3_Аудиометрия1_ЗначениеПредставление  \\\n",
              "0                                                NaN        \n",
              "1                                                NaN        \n",
              "2                                                NaN        \n",
              "3                                                NaN        \n",
              "4                                                NaN        \n",
              "\n",
              "  Оториноларингология1_ЖалобыДополнение_Значение  \\\n",
              "0                                            NaN   \n",
              "1                                            NaN   \n",
              "2                                            NaN   \n",
              "3                                            NaN   \n",
              "4                                            NaN   \n",
              "\n",
              "  Оториноларингология1_ЖалобыДополнение_ЗначениеПредставление  \\\n",
              "0                                                NaN            \n",
              "1                                                NaN            \n",
              "2                                                NaN            \n",
              "3                                                NaN            \n",
              "4                                                NaN            \n",
              "\n",
              "  Стоматология2_ВП2_Значение Стоматология2_ВП2_ЗначениеПредставление  \\\n",
              "0                        NaN                                     NaN   \n",
              "1                        NaN                                     NaN   \n",
              "2                        NaN                                     NaN   \n",
              "3                        NaN                                     NaN   \n",
              "4                        NaN                                     NaN   \n",
              "\n",
              "  Терапия2_ЗаключениеФОГК_Значение  \\\n",
              "0                              NaN   \n",
              "1                              NaN   \n",
              "2                              NaN   \n",
              "3                              NaN   \n",
              "4                              NaN   \n",
              "\n",
              "  Терапия2_ЗаключениеФОГК_ЗначениеПредставление  \\\n",
              "0                                           NaN   \n",
              "1                                           NaN   \n",
              "2                                           NaN   \n",
              "3                                           NaN   \n",
              "4                                           NaN   \n",
              "\n",
              "  Офтальмология1_ДвигательныйАппаратГлазДополнение_Значение  \\\n",
              "0                                                NaN          \n",
              "1                                                NaN          \n",
              "2                                                NaN          \n",
              "3                                                NaN          \n",
              "4                                                NaN          \n",
              "\n",
              "  Офтальмология1_ДвигательныйАппаратГлазДополнение_ЗначениеПредставление  \n",
              "0                                                NaN                      \n",
              "1                                                NaN                      \n",
              "2                                                NaN                      \n",
              "3                                                NaN                      \n",
              "4                                                NaN                      \n",
              "\n",
              "[5 rows x 4587 columns]"
            ],
            "text/html": [
              "\n",
              "  <div id=\"df-7fd03873-08f6-4de0-bf36-7b847b8fc437\">\n",
              "    <div class=\"colab-df-container\">\n",
              "      <div>\n",
              "<style scoped>\n",
              "    .dataframe tbody tr th:only-of-type {\n",
              "        vertical-align: middle;\n",
              "    }\n",
              "\n",
              "    .dataframe tbody tr th {\n",
              "        vertical-align: top;\n",
              "    }\n",
              "\n",
              "    .dataframe thead th {\n",
              "        text-align: right;\n",
              "    }\n",
              "</style>\n",
              "<table border=\"1\" class=\"dataframe\">\n",
              "  <thead>\n",
              "    <tr style=\"text-align: right;\">\n",
              "      <th></th>\n",
              "      <th>ДокументПрохождениеМедосмотра</th>\n",
              "      <th>Клиент</th>\n",
              "      <th>КлиентДатаРождения</th>\n",
              "      <th>КлиентПол</th>\n",
              "      <th>КлиентПолПредставление</th>\n",
              "      <th>ДатаЗавершенияМедосмотра</th>\n",
              "      <th>ТипМедосмотра</th>\n",
              "      <th>ТипМедосмотраПредставление</th>\n",
              "      <th>ПсихОсвидетельствование</th>\n",
              "      <th>Контрагент</th>\n",
              "      <th>...</th>\n",
              "      <th>Оториноларингология3_Аудиометрия1_Значение</th>\n",
              "      <th>Оториноларингология3_Аудиометрия1_ЗначениеПредставление</th>\n",
              "      <th>Оториноларингология1_ЖалобыДополнение_Значение</th>\n",
              "      <th>Оториноларингология1_ЖалобыДополнение_ЗначениеПредставление</th>\n",
              "      <th>Стоматология2_ВП2_Значение</th>\n",
              "      <th>Стоматология2_ВП2_ЗначениеПредставление</th>\n",
              "      <th>Терапия2_ЗаключениеФОГК_Значение</th>\n",
              "      <th>Терапия2_ЗаключениеФОГК_ЗначениеПредставление</th>\n",
              "      <th>Офтальмология1_ДвигательныйАппаратГлазДополнение_Значение</th>\n",
              "      <th>Офтальмология1_ДвигательныйАппаратГлазДополнение_ЗначениеПредставление</th>\n",
              "    </tr>\n",
              "  </thead>\n",
              "  <tbody>\n",
              "    <tr>\n",
              "      <th>0</th>\n",
              "      <td>7f41ca7e-7dac-11ec-80fc-0cc47aab8067</td>\n",
              "      <td>c91e3407-b81f-11e9-80cf-0cc47aab8067</td>\n",
              "      <td>1976-10-24</td>\n",
              "      <td>Женский</td>\n",
              "      <td>Женский</td>\n",
              "      <td>2022-01-25</td>\n",
              "      <td>Периодический</td>\n",
              "      <td>Периодический</td>\n",
              "      <td>False</td>\n",
              "      <td>23c173a7-30d9-11e7-80d8-708bcd7f83cd</td>\n",
              "      <td>...</td>\n",
              "      <td>NaN</td>\n",
              "      <td>NaN</td>\n",
              "      <td>NaN</td>\n",
              "      <td>NaN</td>\n",
              "      <td>NaN</td>\n",
              "      <td>NaN</td>\n",
              "      <td>NaN</td>\n",
              "      <td>NaN</td>\n",
              "      <td>NaN</td>\n",
              "      <td>NaN</td>\n",
              "    </tr>\n",
              "    <tr>\n",
              "      <th>1</th>\n",
              "      <td>2ee1f9ac-83dd-11ec-80fc-0cc47aab8067</td>\n",
              "      <td>1a1a5fea-8b7f-11eb-80e8-0cc47aab8067</td>\n",
              "      <td>1987-11-18</td>\n",
              "      <td>Мужской</td>\n",
              "      <td>Мужской</td>\n",
              "      <td>2022-02-02</td>\n",
              "      <td>Периодический</td>\n",
              "      <td>Периодический</td>\n",
              "      <td>False</td>\n",
              "      <td>a6d559b0-7835-11eb-80e8-0cc47aab8067</td>\n",
              "      <td>...</td>\n",
              "      <td>NaN</td>\n",
              "      <td>NaN</td>\n",
              "      <td>NaN</td>\n",
              "      <td>NaN</td>\n",
              "      <td>NaN</td>\n",
              "      <td>NaN</td>\n",
              "      <td>NaN</td>\n",
              "      <td>NaN</td>\n",
              "      <td>NaN</td>\n",
              "      <td>NaN</td>\n",
              "    </tr>\n",
              "    <tr>\n",
              "      <th>2</th>\n",
              "      <td>9cbb191e-8e24-11ec-80fe-0cc47aab8067</td>\n",
              "      <td>7fe324e0-fa51-11eb-80f6-0cc47aab8067</td>\n",
              "      <td>1985-09-08</td>\n",
              "      <td>Мужской</td>\n",
              "      <td>Мужской</td>\n",
              "      <td>2022-02-15</td>\n",
              "      <td>Периодический</td>\n",
              "      <td>Периодический</td>\n",
              "      <td>False</td>\n",
              "      <td>a6d559b0-7835-11eb-80e8-0cc47aab8067</td>\n",
              "      <td>...</td>\n",
              "      <td>NaN</td>\n",
              "      <td>NaN</td>\n",
              "      <td>NaN</td>\n",
              "      <td>NaN</td>\n",
              "      <td>NaN</td>\n",
              "      <td>NaN</td>\n",
              "      <td>NaN</td>\n",
              "      <td>NaN</td>\n",
              "      <td>NaN</td>\n",
              "      <td>NaN</td>\n",
              "    </tr>\n",
              "    <tr>\n",
              "      <th>3</th>\n",
              "      <td>b8a33910-8eec-11ec-80fe-0cc47aab8067</td>\n",
              "      <td>98f9d761-8d65-11ec-80fe-0cc47aab8067</td>\n",
              "      <td>1988-04-25</td>\n",
              "      <td>Мужской</td>\n",
              "      <td>Мужской</td>\n",
              "      <td>2022-02-16</td>\n",
              "      <td>Периодический</td>\n",
              "      <td>Периодический</td>\n",
              "      <td>False</td>\n",
              "      <td>a6d559b0-7835-11eb-80e8-0cc47aab8067</td>\n",
              "      <td>...</td>\n",
              "      <td>NaN</td>\n",
              "      <td>NaN</td>\n",
              "      <td>NaN</td>\n",
              "      <td>NaN</td>\n",
              "      <td>NaN</td>\n",
              "      <td>NaN</td>\n",
              "      <td>NaN</td>\n",
              "      <td>NaN</td>\n",
              "      <td>NaN</td>\n",
              "      <td>NaN</td>\n",
              "    </tr>\n",
              "    <tr>\n",
              "      <th>4</th>\n",
              "      <td>0bb0d181-938c-11ec-80fe-0cc47aab8067</td>\n",
              "      <td>009aac7d-7bcf-11eb-80e8-0cc47aab8067</td>\n",
              "      <td>1984-04-17</td>\n",
              "      <td>Мужской</td>\n",
              "      <td>Мужской</td>\n",
              "      <td>2022-02-22</td>\n",
              "      <td>Периодический</td>\n",
              "      <td>Периодический</td>\n",
              "      <td>False</td>\n",
              "      <td>a6d559b0-7835-11eb-80e8-0cc47aab8067</td>\n",
              "      <td>...</td>\n",
              "      <td>NaN</td>\n",
              "      <td>NaN</td>\n",
              "      <td>NaN</td>\n",
              "      <td>NaN</td>\n",
              "      <td>NaN</td>\n",
              "      <td>NaN</td>\n",
              "      <td>NaN</td>\n",
              "      <td>NaN</td>\n",
              "      <td>NaN</td>\n",
              "      <td>NaN</td>\n",
              "    </tr>\n",
              "  </tbody>\n",
              "</table>\n",
              "<p>5 rows × 4587 columns</p>\n",
              "</div>\n",
              "      <button class=\"colab-df-convert\" onclick=\"convertToInteractive('df-7fd03873-08f6-4de0-bf36-7b847b8fc437')\"\n",
              "              title=\"Convert this dataframe to an interactive table.\"\n",
              "              style=\"display:none;\">\n",
              "        \n",
              "  <svg xmlns=\"http://www.w3.org/2000/svg\" height=\"24px\"viewBox=\"0 0 24 24\"\n",
              "       width=\"24px\">\n",
              "    <path d=\"M0 0h24v24H0V0z\" fill=\"none\"/>\n",
              "    <path d=\"M18.56 5.44l.94 2.06.94-2.06 2.06-.94-2.06-.94-.94-2.06-.94 2.06-2.06.94zm-11 1L8.5 8.5l.94-2.06 2.06-.94-2.06-.94L8.5 2.5l-.94 2.06-2.06.94zm10 10l.94 2.06.94-2.06 2.06-.94-2.06-.94-.94-2.06-.94 2.06-2.06.94z\"/><path d=\"M17.41 7.96l-1.37-1.37c-.4-.4-.92-.59-1.43-.59-.52 0-1.04.2-1.43.59L10.3 9.45l-7.72 7.72c-.78.78-.78 2.05 0 2.83L4 21.41c.39.39.9.59 1.41.59.51 0 1.02-.2 1.41-.59l7.78-7.78 2.81-2.81c.8-.78.8-2.07 0-2.86zM5.41 20L4 18.59l7.72-7.72 1.47 1.35L5.41 20z\"/>\n",
              "  </svg>\n",
              "      </button>\n",
              "      \n",
              "  <style>\n",
              "    .colab-df-container {\n",
              "      display:flex;\n",
              "      flex-wrap:wrap;\n",
              "      gap: 12px;\n",
              "    }\n",
              "\n",
              "    .colab-df-convert {\n",
              "      background-color: #E8F0FE;\n",
              "      border: none;\n",
              "      border-radius: 50%;\n",
              "      cursor: pointer;\n",
              "      display: none;\n",
              "      fill: #1967D2;\n",
              "      height: 32px;\n",
              "      padding: 0 0 0 0;\n",
              "      width: 32px;\n",
              "    }\n",
              "\n",
              "    .colab-df-convert:hover {\n",
              "      background-color: #E2EBFA;\n",
              "      box-shadow: 0px 1px 2px rgba(60, 64, 67, 0.3), 0px 1px 3px 1px rgba(60, 64, 67, 0.15);\n",
              "      fill: #174EA6;\n",
              "    }\n",
              "\n",
              "    [theme=dark] .colab-df-convert {\n",
              "      background-color: #3B4455;\n",
              "      fill: #D2E3FC;\n",
              "    }\n",
              "\n",
              "    [theme=dark] .colab-df-convert:hover {\n",
              "      background-color: #434B5C;\n",
              "      box-shadow: 0px 1px 3px 1px rgba(0, 0, 0, 0.15);\n",
              "      filter: drop-shadow(0px 1px 2px rgba(0, 0, 0, 0.3));\n",
              "      fill: #FFFFFF;\n",
              "    }\n",
              "  </style>\n",
              "\n",
              "      <script>\n",
              "        const buttonEl =\n",
              "          document.querySelector('#df-7fd03873-08f6-4de0-bf36-7b847b8fc437 button.colab-df-convert');\n",
              "        buttonEl.style.display =\n",
              "          google.colab.kernel.accessAllowed ? 'block' : 'none';\n",
              "\n",
              "        async function convertToInteractive(key) {\n",
              "          const element = document.querySelector('#df-7fd03873-08f6-4de0-bf36-7b847b8fc437');\n",
              "          const dataTable =\n",
              "            await google.colab.kernel.invokeFunction('convertToInteractive',\n",
              "                                                     [key], {});\n",
              "          if (!dataTable) return;\n",
              "\n",
              "          const docLinkHtml = 'Like what you see? Visit the ' +\n",
              "            '<a target=\"_blank\" href=https://colab.research.google.com/notebooks/data_table.ipynb>data table notebook</a>'\n",
              "            + ' to learn more about interactive tables.';\n",
              "          element.innerHTML = '';\n",
              "          dataTable['output_type'] = 'display_data';\n",
              "          await google.colab.output.renderOutput(dataTable, element);\n",
              "          const docLink = document.createElement('div');\n",
              "          docLink.innerHTML = docLinkHtml;\n",
              "          element.appendChild(docLink);\n",
              "        }\n",
              "      </script>\n",
              "    </div>\n",
              "  </div>\n",
              "  "
            ]
          },
          "metadata": {},
          "execution_count": 4
        }
      ]
    },
    {
      "cell_type": "code",
      "source": [
        "# Вычислим возраст клиентов, результат запишим в отдельную колонку\n",
        "\n",
        "data['Возраст'] = (data['ДатаЗавершенияМедосмотра'] - data['КлиентДатаРождения']).dt.days // 365"
      ],
      "metadata": {
        "id": "GtV6rVmHSm9F"
      },
      "execution_count": 5,
      "outputs": []
    },
    {
      "cell_type": "code",
      "source": [
        "# Посмотрим...\n",
        "# display(data.head())\n",
        "data[['КлиентДатаРождения', 'ДатаЗавершенияМедосмотра', 'Возраст']].head()"
      ],
      "metadata": {
        "id": "_wXQzx-HUPBo",
        "colab": {
          "base_uri": "https://localhost:8080/",
          "height": 206
        },
        "outputId": "1dc8fb63-875f-4491-b6c1-c5a3787a618e"
      },
      "execution_count": 6,
      "outputs": [
        {
          "output_type": "execute_result",
          "data": {
            "text/plain": [
              "  КлиентДатаРождения ДатаЗавершенияМедосмотра  Возраст\n",
              "0         1976-10-24               2022-01-25       45\n",
              "1         1987-11-18               2022-02-02       34\n",
              "2         1985-09-08               2022-02-15       36\n",
              "3         1988-04-25               2022-02-16       33\n",
              "4         1984-04-17               2022-02-22       37"
            ],
            "text/html": [
              "\n",
              "  <div id=\"df-3a0af183-9e4e-4e5c-8fad-c66f1f9541e7\">\n",
              "    <div class=\"colab-df-container\">\n",
              "      <div>\n",
              "<style scoped>\n",
              "    .dataframe tbody tr th:only-of-type {\n",
              "        vertical-align: middle;\n",
              "    }\n",
              "\n",
              "    .dataframe tbody tr th {\n",
              "        vertical-align: top;\n",
              "    }\n",
              "\n",
              "    .dataframe thead th {\n",
              "        text-align: right;\n",
              "    }\n",
              "</style>\n",
              "<table border=\"1\" class=\"dataframe\">\n",
              "  <thead>\n",
              "    <tr style=\"text-align: right;\">\n",
              "      <th></th>\n",
              "      <th>КлиентДатаРождения</th>\n",
              "      <th>ДатаЗавершенияМедосмотра</th>\n",
              "      <th>Возраст</th>\n",
              "    </tr>\n",
              "  </thead>\n",
              "  <tbody>\n",
              "    <tr>\n",
              "      <th>0</th>\n",
              "      <td>1976-10-24</td>\n",
              "      <td>2022-01-25</td>\n",
              "      <td>45</td>\n",
              "    </tr>\n",
              "    <tr>\n",
              "      <th>1</th>\n",
              "      <td>1987-11-18</td>\n",
              "      <td>2022-02-02</td>\n",
              "      <td>34</td>\n",
              "    </tr>\n",
              "    <tr>\n",
              "      <th>2</th>\n",
              "      <td>1985-09-08</td>\n",
              "      <td>2022-02-15</td>\n",
              "      <td>36</td>\n",
              "    </tr>\n",
              "    <tr>\n",
              "      <th>3</th>\n",
              "      <td>1988-04-25</td>\n",
              "      <td>2022-02-16</td>\n",
              "      <td>33</td>\n",
              "    </tr>\n",
              "    <tr>\n",
              "      <th>4</th>\n",
              "      <td>1984-04-17</td>\n",
              "      <td>2022-02-22</td>\n",
              "      <td>37</td>\n",
              "    </tr>\n",
              "  </tbody>\n",
              "</table>\n",
              "</div>\n",
              "      <button class=\"colab-df-convert\" onclick=\"convertToInteractive('df-3a0af183-9e4e-4e5c-8fad-c66f1f9541e7')\"\n",
              "              title=\"Convert this dataframe to an interactive table.\"\n",
              "              style=\"display:none;\">\n",
              "        \n",
              "  <svg xmlns=\"http://www.w3.org/2000/svg\" height=\"24px\"viewBox=\"0 0 24 24\"\n",
              "       width=\"24px\">\n",
              "    <path d=\"M0 0h24v24H0V0z\" fill=\"none\"/>\n",
              "    <path d=\"M18.56 5.44l.94 2.06.94-2.06 2.06-.94-2.06-.94-.94-2.06-.94 2.06-2.06.94zm-11 1L8.5 8.5l.94-2.06 2.06-.94-2.06-.94L8.5 2.5l-.94 2.06-2.06.94zm10 10l.94 2.06.94-2.06 2.06-.94-2.06-.94-.94-2.06-.94 2.06-2.06.94z\"/><path d=\"M17.41 7.96l-1.37-1.37c-.4-.4-.92-.59-1.43-.59-.52 0-1.04.2-1.43.59L10.3 9.45l-7.72 7.72c-.78.78-.78 2.05 0 2.83L4 21.41c.39.39.9.59 1.41.59.51 0 1.02-.2 1.41-.59l7.78-7.78 2.81-2.81c.8-.78.8-2.07 0-2.86zM5.41 20L4 18.59l7.72-7.72 1.47 1.35L5.41 20z\"/>\n",
              "  </svg>\n",
              "      </button>\n",
              "      \n",
              "  <style>\n",
              "    .colab-df-container {\n",
              "      display:flex;\n",
              "      flex-wrap:wrap;\n",
              "      gap: 12px;\n",
              "    }\n",
              "\n",
              "    .colab-df-convert {\n",
              "      background-color: #E8F0FE;\n",
              "      border: none;\n",
              "      border-radius: 50%;\n",
              "      cursor: pointer;\n",
              "      display: none;\n",
              "      fill: #1967D2;\n",
              "      height: 32px;\n",
              "      padding: 0 0 0 0;\n",
              "      width: 32px;\n",
              "    }\n",
              "\n",
              "    .colab-df-convert:hover {\n",
              "      background-color: #E2EBFA;\n",
              "      box-shadow: 0px 1px 2px rgba(60, 64, 67, 0.3), 0px 1px 3px 1px rgba(60, 64, 67, 0.15);\n",
              "      fill: #174EA6;\n",
              "    }\n",
              "\n",
              "    [theme=dark] .colab-df-convert {\n",
              "      background-color: #3B4455;\n",
              "      fill: #D2E3FC;\n",
              "    }\n",
              "\n",
              "    [theme=dark] .colab-df-convert:hover {\n",
              "      background-color: #434B5C;\n",
              "      box-shadow: 0px 1px 3px 1px rgba(0, 0, 0, 0.15);\n",
              "      filter: drop-shadow(0px 1px 2px rgba(0, 0, 0, 0.3));\n",
              "      fill: #FFFFFF;\n",
              "    }\n",
              "  </style>\n",
              "\n",
              "      <script>\n",
              "        const buttonEl =\n",
              "          document.querySelector('#df-3a0af183-9e4e-4e5c-8fad-c66f1f9541e7 button.colab-df-convert');\n",
              "        buttonEl.style.display =\n",
              "          google.colab.kernel.accessAllowed ? 'block' : 'none';\n",
              "\n",
              "        async function convertToInteractive(key) {\n",
              "          const element = document.querySelector('#df-3a0af183-9e4e-4e5c-8fad-c66f1f9541e7');\n",
              "          const dataTable =\n",
              "            await google.colab.kernel.invokeFunction('convertToInteractive',\n",
              "                                                     [key], {});\n",
              "          if (!dataTable) return;\n",
              "\n",
              "          const docLinkHtml = 'Like what you see? Visit the ' +\n",
              "            '<a target=\"_blank\" href=https://colab.research.google.com/notebooks/data_table.ipynb>data table notebook</a>'\n",
              "            + ' to learn more about interactive tables.';\n",
              "          element.innerHTML = '';\n",
              "          dataTable['output_type'] = 'display_data';\n",
              "          await google.colab.output.renderOutput(dataTable, element);\n",
              "          const docLink = document.createElement('div');\n",
              "          docLink.innerHTML = docLinkHtml;\n",
              "          element.appendChild(docLink);\n",
              "        }\n",
              "      </script>\n",
              "    </div>\n",
              "  </div>\n",
              "  "
            ]
          },
          "metadata": {},
          "execution_count": 6
        }
      ]
    },
    {
      "cell_type": "code",
      "source": [
        "# Cоздаем список с искомыми словами в названиях столбцов для последующего удаления\n",
        "excluded_words = ['Представление', 'Документ', 'Контрагент', 'Врач', 'ЗаключениеМК', 'Салон', 'Дата']\n",
        "\n",
        "# Формируем новую таблицу, удаляя столбцы из созданного списка\n",
        "new_columns = [col for col in data.columns if not any(word in col for word in excluded_words)]\n",
        "new_df = data[new_columns]\n",
        "new_df.info()\n",
        "\n",
        "# Также удалим столбец \"Клиент\"\n",
        "new_df=new_df.drop(columns=['Клиент'])"
      ],
      "metadata": {
        "colab": {
          "base_uri": "https://localhost:8080/"
        },
        "id": "1fuSZ7CVJVJR",
        "outputId": "7327c2b5-ab27-427b-b862-b0cebaae2e96"
      },
      "execution_count": 29,
      "outputs": [
        {
          "output_type": "stream",
          "name": "stdout",
          "text": [
            "<class 'pandas.core.frame.DataFrame'>\n",
            "RangeIndex: 1982 entries, 0 to 1981\n",
            "Columns: 2256 entries, Клиент to Возраст\n",
            "dtypes: bool(1), float64(772), int64(1), object(1482)\n",
            "memory usage: 34.1+ MB\n"
          ]
        }
      ]
    },
    {
      "cell_type": "code",
      "source": [
        "df_cut = new_df.drop(new_df.select_dtypes(include=['bool']), axis=1)                                    # удаляем колонки с типом bool\n",
        "df_cut = df_cut.loc[:, df_cut.isnull().mean() < 0.8]                                                    # удаляем \"почти\" пустые колонки\n",
        "col_list = df_cut.columns.tolist()                                                                      # список столбцов\n",
        "df_cut[col_list] = df_cut[col_list].astype(str).apply(lambda x: x.str.replace(r'\\W+', '', regex=True))  # удаление служебных символов из столбцов\n",
        "df_cut = df_cut.applymap(lambda x: x.lower() if type(x) == str else x)                                  # заменяем все заглавные буквы на прописные"
      ],
      "metadata": {
        "id": "xTbinux4GvRd"
      },
      "execution_count": 30,
      "outputs": []
    },
    {
      "cell_type": "code",
      "source": [
        "print(df_cut.info())\n",
        "# df_cut.head()"
      ],
      "metadata": {
        "colab": {
          "base_uri": "https://localhost:8080/"
        },
        "id": "6BIaaROmQLu5",
        "outputId": "f44651c0-8986-44bb-a293-a7036de4bb6b"
      },
      "execution_count": 31,
      "outputs": [
        {
          "output_type": "stream",
          "name": "stdout",
          "text": [
            "<class 'pandas.core.frame.DataFrame'>\n",
            "RangeIndex: 1982 entries, 0 to 1981\n",
            "Columns: 312 entries, КлиентПол to Возраст\n",
            "dtypes: object(312)\n",
            "memory usage: 4.7+ MB\n",
            "None\n"
          ]
        }
      ]
    },
    {
      "cell_type": "code",
      "execution_count": 32,
      "metadata": {
        "id": "EmwZvC9lb24U",
        "outputId": "f560bec5-05a1-459b-dc40-16134b296fca",
        "colab": {
          "base_uri": "https://localhost:8080/",
          "height": 268
        }
      },
      "outputs": [
        {
          "output_type": "execute_result",
          "data": {
            "text/plain": [
              "       КлиентПол  ТипМедосмотра   Цех Профессия  \\\n",
              "count       1982           1982  1982      1982   \n",
              "unique         2              2   182       588   \n",
              "top      мужской  периодический   nan  водитель   \n",
              "freq        1451           1981  1180        64   \n",
              "\n",
              "                            Заключение ДиспансернаяГруппа ВредныеФакторы  \\\n",
              "count                             1982               1982           1982   \n",
              "unique                              13                  8            514   \n",
              "top     годенкработевуказанныхусловиях                  i             23   \n",
              "freq                              1424                779            227   \n",
              "\n",
              "       ЛабораторныеИсследования1_Специализация  \\\n",
              "count                                     1982   \n",
              "unique                                       4   \n",
              "top           e866ea50093d11e287b2002618dcef2c   \n",
              "freq                                      1652   \n",
              "\n",
              "       ЛабораторныеИсследования1_ОАК_Значение  \\\n",
              "count                                    1982   \n",
              "unique                                      2   \n",
              "top                                   получен   \n",
              "freq                                     1652   \n",
              "\n",
              "       ЛабораторныеИсследования1_Биохимия_Значение  ...  \\\n",
              "count                                         1982  ...   \n",
              "unique                                           2  ...   \n",
              "top                                        получен  ...   \n",
              "freq                                          1655  ...   \n",
              "\n",
              "       Гинекология1_Своды2_Значение  \\\n",
              "count                          1982   \n",
              "unique                            2   \n",
              "top                             nan   \n",
              "freq                           1519   \n",
              "\n",
              "       Гинекология1_НеИзмененоСОсобенностями_Значение  \\\n",
              "count                                            1982   \n",
              "unique                                              2   \n",
              "top                                               nan   \n",
              "freq                                             1519   \n",
              "\n",
              "       Гинекология1_CтепеньЧистоты_Значение  \\\n",
              "count                                  1982   \n",
              "unique                                    3   \n",
              "top                                     nan   \n",
              "freq                                   1519   \n",
              "\n",
              "       Гинекология1_АтипичныеКлетки_Значение Гинекология1_PSPV_Значение  \\\n",
              "count                                   1982                       1982   \n",
              "unique                                     4                          3   \n",
              "top                                      nan                        nan   \n",
              "freq                                    1519                       1519   \n",
              "\n",
              "       Терапия1_Курение_Значение Стоматология1_НЛ6_Значение  \\\n",
              "count                       1982                       1982   \n",
              "unique                         3                          9   \n",
              "top                           00                        nan   \n",
              "freq                        1105                       1573   \n",
              "\n",
              "       ПсихиатрияНаркология1_ДиагнозДополнение_Значение  \\\n",
              "count                                              1982   \n",
              "unique                                               61   \n",
              "top                                                 nan   \n",
              "freq                                               1468   \n",
              "\n",
              "                Терапия1_Диагноз_Значение Возраст  \n",
              "count                                1982    1982  \n",
              "unique                                 18      54  \n",
              "top     z000общиймедицинскийосмотр_x000d_      36  \n",
              "freq                                  856      83  \n",
              "\n",
              "[4 rows x 312 columns]"
            ],
            "text/html": [
              "\n",
              "  <div id=\"df-77d33579-b83a-42c4-b1dc-5f7960c973ed\">\n",
              "    <div class=\"colab-df-container\">\n",
              "      <div>\n",
              "<style scoped>\n",
              "    .dataframe tbody tr th:only-of-type {\n",
              "        vertical-align: middle;\n",
              "    }\n",
              "\n",
              "    .dataframe tbody tr th {\n",
              "        vertical-align: top;\n",
              "    }\n",
              "\n",
              "    .dataframe thead th {\n",
              "        text-align: right;\n",
              "    }\n",
              "</style>\n",
              "<table border=\"1\" class=\"dataframe\">\n",
              "  <thead>\n",
              "    <tr style=\"text-align: right;\">\n",
              "      <th></th>\n",
              "      <th>КлиентПол</th>\n",
              "      <th>ТипМедосмотра</th>\n",
              "      <th>Цех</th>\n",
              "      <th>Профессия</th>\n",
              "      <th>Заключение</th>\n",
              "      <th>ДиспансернаяГруппа</th>\n",
              "      <th>ВредныеФакторы</th>\n",
              "      <th>ЛабораторныеИсследования1_Специализация</th>\n",
              "      <th>ЛабораторныеИсследования1_ОАК_Значение</th>\n",
              "      <th>ЛабораторныеИсследования1_Биохимия_Значение</th>\n",
              "      <th>...</th>\n",
              "      <th>Гинекология1_Своды2_Значение</th>\n",
              "      <th>Гинекология1_НеИзмененоСОсобенностями_Значение</th>\n",
              "      <th>Гинекология1_CтепеньЧистоты_Значение</th>\n",
              "      <th>Гинекология1_АтипичныеКлетки_Значение</th>\n",
              "      <th>Гинекология1_PSPV_Значение</th>\n",
              "      <th>Терапия1_Курение_Значение</th>\n",
              "      <th>Стоматология1_НЛ6_Значение</th>\n",
              "      <th>ПсихиатрияНаркология1_ДиагнозДополнение_Значение</th>\n",
              "      <th>Терапия1_Диагноз_Значение</th>\n",
              "      <th>Возраст</th>\n",
              "    </tr>\n",
              "  </thead>\n",
              "  <tbody>\n",
              "    <tr>\n",
              "      <th>count</th>\n",
              "      <td>1982</td>\n",
              "      <td>1982</td>\n",
              "      <td>1982</td>\n",
              "      <td>1982</td>\n",
              "      <td>1982</td>\n",
              "      <td>1982</td>\n",
              "      <td>1982</td>\n",
              "      <td>1982</td>\n",
              "      <td>1982</td>\n",
              "      <td>1982</td>\n",
              "      <td>...</td>\n",
              "      <td>1982</td>\n",
              "      <td>1982</td>\n",
              "      <td>1982</td>\n",
              "      <td>1982</td>\n",
              "      <td>1982</td>\n",
              "      <td>1982</td>\n",
              "      <td>1982</td>\n",
              "      <td>1982</td>\n",
              "      <td>1982</td>\n",
              "      <td>1982</td>\n",
              "    </tr>\n",
              "    <tr>\n",
              "      <th>unique</th>\n",
              "      <td>2</td>\n",
              "      <td>2</td>\n",
              "      <td>182</td>\n",
              "      <td>588</td>\n",
              "      <td>13</td>\n",
              "      <td>8</td>\n",
              "      <td>514</td>\n",
              "      <td>4</td>\n",
              "      <td>2</td>\n",
              "      <td>2</td>\n",
              "      <td>...</td>\n",
              "      <td>2</td>\n",
              "      <td>2</td>\n",
              "      <td>3</td>\n",
              "      <td>4</td>\n",
              "      <td>3</td>\n",
              "      <td>3</td>\n",
              "      <td>9</td>\n",
              "      <td>61</td>\n",
              "      <td>18</td>\n",
              "      <td>54</td>\n",
              "    </tr>\n",
              "    <tr>\n",
              "      <th>top</th>\n",
              "      <td>мужской</td>\n",
              "      <td>периодический</td>\n",
              "      <td>nan</td>\n",
              "      <td>водитель</td>\n",
              "      <td>годенкработевуказанныхусловиях</td>\n",
              "      <td>i</td>\n",
              "      <td>23</td>\n",
              "      <td>e866ea50093d11e287b2002618dcef2c</td>\n",
              "      <td>получен</td>\n",
              "      <td>получен</td>\n",
              "      <td>...</td>\n",
              "      <td>nan</td>\n",
              "      <td>nan</td>\n",
              "      <td>nan</td>\n",
              "      <td>nan</td>\n",
              "      <td>nan</td>\n",
              "      <td>00</td>\n",
              "      <td>nan</td>\n",
              "      <td>nan</td>\n",
              "      <td>z000общиймедицинскийосмотр_x000d_</td>\n",
              "      <td>36</td>\n",
              "    </tr>\n",
              "    <tr>\n",
              "      <th>freq</th>\n",
              "      <td>1451</td>\n",
              "      <td>1981</td>\n",
              "      <td>1180</td>\n",
              "      <td>64</td>\n",
              "      <td>1424</td>\n",
              "      <td>779</td>\n",
              "      <td>227</td>\n",
              "      <td>1652</td>\n",
              "      <td>1652</td>\n",
              "      <td>1655</td>\n",
              "      <td>...</td>\n",
              "      <td>1519</td>\n",
              "      <td>1519</td>\n",
              "      <td>1519</td>\n",
              "      <td>1519</td>\n",
              "      <td>1519</td>\n",
              "      <td>1105</td>\n",
              "      <td>1573</td>\n",
              "      <td>1468</td>\n",
              "      <td>856</td>\n",
              "      <td>83</td>\n",
              "    </tr>\n",
              "  </tbody>\n",
              "</table>\n",
              "<p>4 rows × 312 columns</p>\n",
              "</div>\n",
              "      <button class=\"colab-df-convert\" onclick=\"convertToInteractive('df-77d33579-b83a-42c4-b1dc-5f7960c973ed')\"\n",
              "              title=\"Convert this dataframe to an interactive table.\"\n",
              "              style=\"display:none;\">\n",
              "        \n",
              "  <svg xmlns=\"http://www.w3.org/2000/svg\" height=\"24px\"viewBox=\"0 0 24 24\"\n",
              "       width=\"24px\">\n",
              "    <path d=\"M0 0h24v24H0V0z\" fill=\"none\"/>\n",
              "    <path d=\"M18.56 5.44l.94 2.06.94-2.06 2.06-.94-2.06-.94-.94-2.06-.94 2.06-2.06.94zm-11 1L8.5 8.5l.94-2.06 2.06-.94-2.06-.94L8.5 2.5l-.94 2.06-2.06.94zm10 10l.94 2.06.94-2.06 2.06-.94-2.06-.94-.94-2.06-.94 2.06-2.06.94z\"/><path d=\"M17.41 7.96l-1.37-1.37c-.4-.4-.92-.59-1.43-.59-.52 0-1.04.2-1.43.59L10.3 9.45l-7.72 7.72c-.78.78-.78 2.05 0 2.83L4 21.41c.39.39.9.59 1.41.59.51 0 1.02-.2 1.41-.59l7.78-7.78 2.81-2.81c.8-.78.8-2.07 0-2.86zM5.41 20L4 18.59l7.72-7.72 1.47 1.35L5.41 20z\"/>\n",
              "  </svg>\n",
              "      </button>\n",
              "      \n",
              "  <style>\n",
              "    .colab-df-container {\n",
              "      display:flex;\n",
              "      flex-wrap:wrap;\n",
              "      gap: 12px;\n",
              "    }\n",
              "\n",
              "    .colab-df-convert {\n",
              "      background-color: #E8F0FE;\n",
              "      border: none;\n",
              "      border-radius: 50%;\n",
              "      cursor: pointer;\n",
              "      display: none;\n",
              "      fill: #1967D2;\n",
              "      height: 32px;\n",
              "      padding: 0 0 0 0;\n",
              "      width: 32px;\n",
              "    }\n",
              "\n",
              "    .colab-df-convert:hover {\n",
              "      background-color: #E2EBFA;\n",
              "      box-shadow: 0px 1px 2px rgba(60, 64, 67, 0.3), 0px 1px 3px 1px rgba(60, 64, 67, 0.15);\n",
              "      fill: #174EA6;\n",
              "    }\n",
              "\n",
              "    [theme=dark] .colab-df-convert {\n",
              "      background-color: #3B4455;\n",
              "      fill: #D2E3FC;\n",
              "    }\n",
              "\n",
              "    [theme=dark] .colab-df-convert:hover {\n",
              "      background-color: #434B5C;\n",
              "      box-shadow: 0px 1px 3px 1px rgba(0, 0, 0, 0.15);\n",
              "      filter: drop-shadow(0px 1px 2px rgba(0, 0, 0, 0.3));\n",
              "      fill: #FFFFFF;\n",
              "    }\n",
              "  </style>\n",
              "\n",
              "      <script>\n",
              "        const buttonEl =\n",
              "          document.querySelector('#df-77d33579-b83a-42c4-b1dc-5f7960c973ed button.colab-df-convert');\n",
              "        buttonEl.style.display =\n",
              "          google.colab.kernel.accessAllowed ? 'block' : 'none';\n",
              "\n",
              "        async function convertToInteractive(key) {\n",
              "          const element = document.querySelector('#df-77d33579-b83a-42c4-b1dc-5f7960c973ed');\n",
              "          const dataTable =\n",
              "            await google.colab.kernel.invokeFunction('convertToInteractive',\n",
              "                                                     [key], {});\n",
              "          if (!dataTable) return;\n",
              "\n",
              "          const docLinkHtml = 'Like what you see? Visit the ' +\n",
              "            '<a target=\"_blank\" href=https://colab.research.google.com/notebooks/data_table.ipynb>data table notebook</a>'\n",
              "            + ' to learn more about interactive tables.';\n",
              "          element.innerHTML = '';\n",
              "          dataTable['output_type'] = 'display_data';\n",
              "          await google.colab.output.renderOutput(dataTable, element);\n",
              "          const docLink = document.createElement('div');\n",
              "          docLink.innerHTML = docLinkHtml;\n",
              "          element.appendChild(docLink);\n",
              "        }\n",
              "      </script>\n",
              "    </div>\n",
              "  </div>\n",
              "  "
            ]
          },
          "metadata": {},
          "execution_count": 32
        }
      ],
      "source": [
        "df_cut.describe()"
      ]
    },
    {
      "cell_type": "code",
      "source": [
        "# Создадим словарь категориальных признаков \"new_df\"\n",
        "dicts = {}\n",
        "for i in df_cut.columns.values.tolist():\n",
        "    if df_cut[i].dtypes == object:\n",
        "        c = 0\n",
        "        dl = {}\n",
        "        for j in df_cut[i].unique():\n",
        "            c += 1\n",
        "            dl.update({j:c})\n",
        "        dicts.update({i:dl})\n",
        "# dict"
      ],
      "metadata": {
        "id": "i4llVYKKeDwK"
      },
      "execution_count": 33,
      "outputs": []
    },
    {
      "cell_type": "code",
      "execution_count": 34,
      "metadata": {
        "id": "_K-cmfaKb24W"
      },
      "outputs": [],
      "source": [
        "# Соберем таблицу категориальных признаков на базе \"df_cut\" и \"dicts\"\n",
        "df_fl = df_cut.copy()\n",
        "for i in dicts.keys():\n",
        "    for j in range(df_cut[i].shape[0]):\n",
        "        df_fl[i][j] = float(dicts.get(i).get(df_cut[i][j]))"
      ]
    },
    {
      "cell_type": "code",
      "execution_count": 35,
      "metadata": {
        "id": "JMNBMhy0b24W"
      },
      "outputs": [],
      "source": [
        "# Преобразуем в тип float\n",
        "df_fl = df_fl.astype(float)\n",
        "# df_fl"
      ]
    },
    {
      "cell_type": "code",
      "execution_count": 36,
      "metadata": {
        "id": "Ko26OXt1b24W",
        "outputId": "14018f15-83e5-4f01-95aa-d9bd0be3f138",
        "colab": {
          "base_uri": "https://localhost:8080/"
        }
      },
      "outputs": [
        {
          "output_type": "stream",
          "name": "stdout",
          "text": [
            "<class 'pandas.core.frame.DataFrame'>\n",
            "RangeIndex: 1982 entries, 0 to 1981\n",
            "Columns: 312 entries, КлиентПол to Возраст\n",
            "dtypes: float64(312)\n",
            "memory usage: 4.7 MB\n"
          ]
        }
      ],
      "source": [
        "df_fl.info()"
      ]
    },
    {
      "cell_type": "code",
      "execution_count": 37,
      "metadata": {
        "id": "YzSxMUg2b24X"
      },
      "outputs": [],
      "source": [
        "# Нормализуем данные в таблице признаков (кроме \"Заключение\")\n",
        "for i in df_fl.columns.values.tolist():\n",
        "   if i != 'Заключение':\n",
        "        df_fl[i] = df_fl[i]/df_fl[i].max()"
      ]
    },
    {
      "cell_type": "code",
      "execution_count": 38,
      "metadata": {
        "id": "FN21WJYMb24X"
      },
      "outputs": [],
      "source": [
        "# Сформируем массив данных и их значений\n",
        "x=df_fl.drop(columns=['Заключение']).reset_index(drop=True)\n",
        "y=df_fl['Заключение']\n",
        "# x, y"
      ]
    },
    {
      "cell_type": "code",
      "source": [
        "# Пример обработанных данных\n",
        "# y = np.expand_dims(y, axis=1)\n",
        "print(x.shape)\n",
        "print(y.shape)"
      ],
      "metadata": {
        "colab": {
          "base_uri": "https://localhost:8080/"
        },
        "id": "yKj8NS40G_n_",
        "outputId": "d08f9262-836a-498d-a53b-e09938bba0b0"
      },
      "execution_count": 39,
      "outputs": [
        {
          "output_type": "stream",
          "name": "stdout",
          "text": [
            "(1982, 311)\n",
            "(1982,)\n"
          ]
        }
      ]
    },
    {
      "cell_type": "code",
      "execution_count": 40,
      "metadata": {
        "id": "kwgWHmOgb24X"
      },
      "outputs": [],
      "source": [
        "# Разобъем массив на обучающую и тестовую выборки\n",
        "x_train, x_test, y_train, y_test = train_test_split(x, y, test_size = 0.2, shuffle = True)"
      ]
    },
    {
      "cell_type": "code",
      "source": [
        "# Вывод размеров обучающей и проверочной выборок\n",
        "print(f'Структура и размер массива обучающей выборки: {x_train.shape}')\n",
        "print(f'Структура и размер массива проверочной выборки: {x_test.shape}')"
      ],
      "metadata": {
        "colab": {
          "base_uri": "https://localhost:8080/"
        },
        "id": "fl5Sx3-CesXO",
        "outputId": "1d1f4795-cbe1-4940-fd32-a41d0cb257ac"
      },
      "execution_count": 41,
      "outputs": [
        {
          "output_type": "stream",
          "name": "stdout",
          "text": [
            "Структура и размер массива обучающей выборки: (1585, 311)\n",
            "Структура и размер массива проверочной выборки: (397, 311)\n"
          ]
        }
      ]
    },
    {
      "cell_type": "markdown",
      "source": [
        "## Предобученные алгоритмы ML"
      ],
      "metadata": {
        "id": "G65r3TEy__Ui"
      }
    },
    {
      "cell_type": "code",
      "execution_count": 42,
      "metadata": {
        "id": "2fy-Bmufb24Y"
      },
      "outputs": [],
      "source": [
        "# Сначала загрузим библиотеки с алгоритмами ML и функциями ошибки\n",
        "from sklearn.ensemble import GradientBoostingRegressor\n",
        "from sklearn.metrics import mean_absolute_error\n",
        "from sklearn.metrics import r2_score\n",
        "from sklearn.metrics import mean_squared_error"
      ]
    },
    {
      "cell_type": "code",
      "source": [
        "# Ранее при экспериментах выяснилось, что наибольшую точность на данном датасете\n",
        "# из предобученных алгоритмов ML показывает GradientBoostingRegressor\n",
        "# Поищем его наилучшую конфигурацию.\n",
        "\n",
        "# Для этого импортируем класс GridSearchCV из модуля sklearn.model_selection.\n",
        "# GridSearchCV - это инструмент для подбора оптимальных гиперпараметров модели при помощи\n",
        "# перебора всех возможных комбинаций заданных значений.\n",
        "\n",
        "from sklearn.model_selection import GridSearchCV\n",
        "\n",
        "# Определяем параметры для перебора\n",
        "param_grid = {'loss': ['ls', 'lad', 'huber', 'quantile'],\n",
        "    'n_estimators': [50, 100, 150], 'max_depth': [3, 5, 7],\n",
        "    'learning_rate': [0.01, 0.1, 1.0]}\n",
        "\n",
        "# Создаем экземпляр GradientBoostingRegressor\n",
        "gb = GradientBoostingRegressor()\n",
        "\n",
        "# Инициализация класса GridSearchCV\n",
        "grid_search = GridSearchCV(gb, param_grid=param_grid, cv=5, n_jobs=-1)\n",
        "\n",
        "# Применяем GridSearchCV к данным для обучения\n",
        "grid_search.fit(x, y)\n",
        "\n",
        "# Выводим наилучшие параметры\n",
        "print('Best parameters:', grid_search.best_params_)"
      ],
      "metadata": {
        "colab": {
          "base_uri": "https://localhost:8080/"
        },
        "id": "yfHVHel03R-z",
        "outputId": "fe125aa6-3f1f-416a-d196-84d3b6177502"
      },
      "execution_count": 43,
      "outputs": [
        {
          "output_type": "stream",
          "name": "stdout",
          "text": [
            "Best parameters: {'learning_rate': 0.1, 'loss': 'huber', 'max_depth': 3, 'n_estimators': 50}\n"
          ]
        }
      ]
    },
    {
      "cell_type": "code",
      "source": [
        "# Создание и обучение экземпляра GradientBoostingRegressor с \"наилучшими\" параметрами\n",
        "# на обучающей выборке и проверка его работы на тестовой\n",
        "\n",
        "params = {'learning_rate': 0.1, 'loss': 'huber', 'max_depth': 3, 'n_estimators': 50}\n",
        "\n",
        "model = GradientBoostingRegressor(**params)\n",
        "model.fit(x_train, y_train)\n",
        "\n",
        "# отображение хода обучения\n",
        "train_scores = []\n",
        "test_scores = []\n",
        "\n",
        "for i, y_pred in enumerate(model.staged_predict(x_train)):\n",
        "    train_scores.append(model.loss_(y_train, y_pred))\n",
        "for i, y_pred in enumerate(model.staged_predict(x_test)):\n",
        "    test_scores.append(model.loss_(y_test, y_pred))\n",
        "\n",
        "plt.plot(train_scores, 'b', label='Train')\n",
        "plt.plot(test_scores, 'r', label='Test')\n",
        "plt.legend(loc='upper right')\n",
        "plt.xlabel('n_estimators')\n",
        "plt.ylabel('Loss')\n",
        "plt.show()\n",
        "\n",
        "# проверка на тестовой выборке\n",
        "test_score = model.score(x_test, y_test)\n",
        "print(\"Точность на тестовых данных: {:.4f}\".format(test_score))"
      ],
      "metadata": {
        "colab": {
          "base_uri": "https://localhost:8080/",
          "height": 467
        },
        "id": "fruT6iG0-VFu",
        "outputId": "bf62af30-140f-4d96-8461-a158b80669e4"
      },
      "execution_count": 44,
      "outputs": [
        {
          "output_type": "display_data",
          "data": {
            "text/plain": [
              "<Figure size 640x480 with 1 Axes>"
            ],
            "image/png": "[encoded data removed]"
          },
          "metadata": {}
        },
        {
          "output_type": "stream",
          "name": "stdout",
          "text": [
            "Точность на тестовых данных: 0.9719\n"
          ]
        }
      ]
    }
  ],
  "metadata": {
    "kernelspec": {
      "display_name": "Python 3 (ipykernel)",
      "language": "python",
      "name": "python3"
    },
    "language_info": {
      "codemirror_mode": {
        "name": "ipython",
        "version": 3
      },
      "file_extension": ".py",
      "mimetype": "text/x-python",
      "name": "python",
      "nbconvert_exporter": "python",
      "pygments_lexer": "ipython3",
      "version": "3.9.13"
    },
    "colab": {
      "provenance": [],
      "include_colab_link": true
    },
    "gpuClass": "standard"
  },
  "nbformat": 4,
  "nbformat_minor": 0
}