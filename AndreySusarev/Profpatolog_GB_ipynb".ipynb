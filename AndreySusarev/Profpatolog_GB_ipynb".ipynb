{
  "cells": [
    {
      "cell_type": "markdown",
      "metadata": {
        "id": "view-in-github",
        "colab_type": "text"
      },
      "source": [
        "<a href=\"https://colab.research.google.com/github/Untick/InspectrumClinic_RecSys/blob/main/AndreySusarev/Profpatolog_GB_ipynb%22.ipynb\" target=\"_parent\"><img src=\"https://colab.research.google.com/assets/colab-badge.svg\" alt=\"Open In Colab\"/></a>"
      ]
    },
    {
      "cell_type": "code",
      "execution_count": 1,
      "metadata": {
        "id": "QzSKmBrAb24N",
        "colab": {
          "base_uri": "https://localhost:8080/"
        },
        "outputId": "697cb2e1-3926-44f4-fe7e-4b2eec9d8b9f"
      },
      "outputs": [
        {
          "output_type": "stream",
          "name": "stdout",
          "text": [
            "Looking in indexes: https://pypi.org/simple, https://us-python.pkg.dev/colab-wheels/public/simple/\n",
            "Collecting keras-tuner\n",
            "  Downloading keras_tuner-1.3.5-py3-none-any.whl (176 kB)\n",
            "\u001b[2K     \u001b[90m━━━━━━━━━━━━━━━━━━━━━━━━━━━━━━━━━━━━━━━\u001b[0m \u001b[32m176.1/176.1 kB\u001b[0m \u001b[31m4.0 MB/s\u001b[0m eta \u001b[36m0:00:00\u001b[0m\n",
            "\u001b[?25hCollecting kt-legacy\n",
            "  Downloading kt_legacy-1.0.5-py3-none-any.whl (9.6 kB)\n",
            "Requirement already satisfied: packaging in /usr/local/lib/python3.10/dist-packages (from keras-tuner) (23.1)\n",
            "Requirement already satisfied: requests in /usr/local/lib/python3.10/dist-packages (from keras-tuner) (2.27.1)\n",
            "Requirement already satisfied: idna<4,>=2.5 in /usr/local/lib/python3.10/dist-packages (from requests->keras-tuner) (3.4)\n",
            "Requirement already satisfied: urllib3<1.27,>=1.21.1 in /usr/local/lib/python3.10/dist-packages (from requests->keras-tuner) (1.26.15)\n",
            "Requirement already satisfied: charset-normalizer~=2.0.0 in /usr/local/lib/python3.10/dist-packages (from requests->keras-tuner) (2.0.12)\n",
            "Requirement already satisfied: certifi>=2017.4.17 in /usr/local/lib/python3.10/dist-packages (from requests->keras-tuner) (2022.12.7)\n",
            "Installing collected packages: kt-legacy, keras-tuner\n",
            "Successfully installed keras-tuner-1.3.5 kt-legacy-1.0.5\n"
          ]
        }
      ],
      "source": [
        "# Грузим библиотеки\n",
        "import numpy as np\n",
        "import pandas as pd\n",
        "from tensorflow.keras.models import Sequential, Model\n",
        "from tensorflow.keras.layers import Dense, Dropout, BatchNormalization, Input, LSTM\n",
        "from tensorflow.keras.layers import Activation\n",
        "!pip install keras-tuner --upgrade\n",
        "from tensorflow.keras import utils\n",
        "from keras_tuner.tuners import Hyperband, BayesianOptimization\n",
        "from tensorflow.keras.optimizers import Adam\n",
        "from sklearn.model_selection import train_test_split\n",
        "import matplotlib.pyplot as plt\n",
        "import statistics\n",
        "import re\n",
        "import seaborn as sns\n",
        "import warnings\n",
        "warnings.filterwarnings('ignore')\n",
        "import random\n",
        "import os\n",
        "from sklearn.preprocessing import MinMaxScaler\n",
        "from sklearn.model_selection import cross_val_score\n",
        "from sklearn.model_selection import KFold\n",
        "from scipy import stats\n",
        "\n",
        "%matplotlib inline"
      ]
    },
    {
      "cell_type": "code",
      "source": [
        "# Метрики для расчета ошибок\n",
        "from sklearn.metrics import mean_squared_error, mean_absolute_error, r2_score\n",
        "from keras.callbacks import ModelCheckpoint"
      ],
      "metadata": {
        "id": "vJ6t9SISFpJX"
      },
      "execution_count": 2,
      "outputs": []
    },
    {
      "cell_type": "markdown",
      "source": [
        "## Загрузка и предобработка датасета"
      ],
      "metadata": {
        "id": "9vRHATFHyz9t"
      }
    },
    {
      "cell_type": "code",
      "source": [
        "# и таблицу\n",
        "# data = pd.read_excel('https://storage.yandexcloud.net/terratraineeship/23_InspectrumClinic_RS/datasets/%D0%B4%D0%B0%D1%82%D0%B0%D1%81%D0%B5%D1%82%20%D0%BF%D1%80%D0%BE%D1%84%D0%BF%D0%B0%D1%82%D0%BE%D0%BB%D0%BE%D0%B3%20%D1%87%D0%B0%D1%81%D1%82%D1%8C.xlsx')"
      ],
      "metadata": {
        "id": "twAvu4t1QfXu"
      },
      "execution_count": null,
      "outputs": []
    },
    {
      "cell_type": "code",
      "source": [
        "# Подключим диск\n",
        "from google.colab import drive\n",
        "drive.mount('/content/drive')\n",
        "\n",
        "# и сохраним туда исходную таблицу\n",
        "# data.to_excel('/content/drive/MyDrive/Стажировка/Profpatolog/Data/data_2.xlsx')"
      ],
      "metadata": {
        "colab": {
          "base_uri": "https://localhost:8080/"
        },
        "id": "3RrL-MkGE1gQ",
        "outputId": "3d0757c1-7780-4b60-f1e1-72d4d89b59dd"
      },
      "execution_count": 3,
      "outputs": [
        {
          "output_type": "stream",
          "name": "stdout",
          "text": [
            "Mounted at /content/drive\n"
          ]
        }
      ]
    },
    {
      "cell_type": "code",
      "source": [
        "# Загрузим таблицу для обработки\n",
        "data = pd.read_excel('/content/drive/MyDrive/Стажировка/Profpatolog/Data/data_2.xlsx')"
      ],
      "metadata": {
        "id": "76pa6PJ4E2zx"
      },
      "execution_count": 4,
      "outputs": []
    },
    {
      "cell_type": "code",
      "source": [
        "# Вычислим возраст клиентов, результат запишим в отдельную колонку\n",
        "\n",
        "data['Возраст'] = (data['ДатаЗавершенияМедосмотра'] - data['КлиентДатаРождения']).dt.days // 365"
      ],
      "metadata": {
        "id": "GtV6rVmHSm9F"
      },
      "execution_count": 5,
      "outputs": []
    },
    {
      "cell_type": "code",
      "source": [
        "# Посмотрим...\n",
        "# display(data.head())\n",
        "data[['КлиентДатаРождения', 'ДатаЗавершенияМедосмотра', 'Возраст']].head()"
      ],
      "metadata": {
        "id": "_wXQzx-HUPBo",
        "colab": {
          "base_uri": "https://localhost:8080/",
          "height": 206
        },
        "outputId": "11d5ea31-1f4d-4ed5-8b4c-8fdf5cae3548"
      },
      "execution_count": 6,
      "outputs": [
        {
          "output_type": "execute_result",
          "data": {
            "text/plain": [
              "  КлиентДатаРождения ДатаЗавершенияМедосмотра  Возраст\n",
              "0         1976-10-24               2022-01-25       45\n",
              "1         1987-11-18               2022-02-02       34\n",
              "2         1985-09-08               2022-02-15       36\n",
              "3         1988-04-25               2022-02-16       33\n",
              "4         1984-04-17               2022-02-22       37"
            ],
            "text/html": [
              "\n",
              "  <div id=\"df-5d6d0d11-1fba-45fb-835d-36ea411eaddd\">\n",
              "    <div class=\"colab-df-container\">\n",
              "      <div>\n",
              "<style scoped>\n",
              "    .dataframe tbody tr th:only-of-type {\n",
              "        vertical-align: middle;\n",
              "    }\n",
              "\n",
              "    .dataframe tbody tr th {\n",
              "        vertical-align: top;\n",
              "    }\n",
              "\n",
              "    .dataframe thead th {\n",
              "        text-align: right;\n",
              "    }\n",
              "</style>\n",
              "<table border=\"1\" class=\"dataframe\">\n",
              "  <thead>\n",
              "    <tr style=\"text-align: right;\">\n",
              "      <th></th>\n",
              "      <th>КлиентДатаРождения</th>\n",
              "      <th>ДатаЗавершенияМедосмотра</th>\n",
              "      <th>Возраст</th>\n",
              "    </tr>\n",
              "  </thead>\n",
              "  <tbody>\n",
              "    <tr>\n",
              "      <th>0</th>\n",
              "      <td>1976-10-24</td>\n",
              "      <td>2022-01-25</td>\n",
              "      <td>45</td>\n",
              "    </tr>\n",
              "    <tr>\n",
              "      <th>1</th>\n",
              "      <td>1987-11-18</td>\n",
              "      <td>2022-02-02</td>\n",
              "      <td>34</td>\n",
              "    </tr>\n",
              "    <tr>\n",
              "      <th>2</th>\n",
              "      <td>1985-09-08</td>\n",
              "      <td>2022-02-15</td>\n",
              "      <td>36</td>\n",
              "    </tr>\n",
              "    <tr>\n",
              "      <th>3</th>\n",
              "      <td>1988-04-25</td>\n",
              "      <td>2022-02-16</td>\n",
              "      <td>33</td>\n",
              "    </tr>\n",
              "    <tr>\n",
              "      <th>4</th>\n",
              "      <td>1984-04-17</td>\n",
              "      <td>2022-02-22</td>\n",
              "      <td>37</td>\n",
              "    </tr>\n",
              "  </tbody>\n",
              "</table>\n",
              "</div>\n",
              "      <button class=\"colab-df-convert\" onclick=\"convertToInteractive('df-5d6d0d11-1fba-45fb-835d-36ea411eaddd')\"\n",
              "              title=\"Convert this dataframe to an interactive table.\"\n",
              "              style=\"display:none;\">\n",
              "        \n",
              "  <svg xmlns=\"http://www.w3.org/2000/svg\" height=\"24px\"viewBox=\"0 0 24 24\"\n",
              "       width=\"24px\">\n",
              "    <path d=\"M0 0h24v24H0V0z\" fill=\"none\"/>\n",
              "    <path d=\"M18.56 5.44l.94 2.06.94-2.06 2.06-.94-2.06-.94-.94-2.06-.94 2.06-2.06.94zm-11 1L8.5 8.5l.94-2.06 2.06-.94-2.06-.94L8.5 2.5l-.94 2.06-2.06.94zm10 10l.94 2.06.94-2.06 2.06-.94-2.06-.94-.94-2.06-.94 2.06-2.06.94z\"/><path d=\"M17.41 7.96l-1.37-1.37c-.4-.4-.92-.59-1.43-.59-.52 0-1.04.2-1.43.59L10.3 9.45l-7.72 7.72c-.78.78-.78 2.05 0 2.83L4 21.41c.39.39.9.59 1.41.59.51 0 1.02-.2 1.41-.59l7.78-7.78 2.81-2.81c.8-.78.8-2.07 0-2.86zM5.41 20L4 18.59l7.72-7.72 1.47 1.35L5.41 20z\"/>\n",
              "  </svg>\n",
              "      </button>\n",
              "      \n",
              "  <style>\n",
              "    .colab-df-container {\n",
              "      display:flex;\n",
              "      flex-wrap:wrap;\n",
              "      gap: 12px;\n",
              "    }\n",
              "\n",
              "    .colab-df-convert {\n",
              "      background-color: #E8F0FE;\n",
              "      border: none;\n",
              "      border-radius: 50%;\n",
              "      cursor: pointer;\n",
              "      display: none;\n",
              "      fill: #1967D2;\n",
              "      height: 32px;\n",
              "      padding: 0 0 0 0;\n",
              "      width: 32px;\n",
              "    }\n",
              "\n",
              "    .colab-df-convert:hover {\n",
              "      background-color: #E2EBFA;\n",
              "      box-shadow: 0px 1px 2px rgba(60, 64, 67, 0.3), 0px 1px 3px 1px rgba(60, 64, 67, 0.15);\n",
              "      fill: #174EA6;\n",
              "    }\n",
              "\n",
              "    [theme=dark] .colab-df-convert {\n",
              "      background-color: #3B4455;\n",
              "      fill: #D2E3FC;\n",
              "    }\n",
              "\n",
              "    [theme=dark] .colab-df-convert:hover {\n",
              "      background-color: #434B5C;\n",
              "      box-shadow: 0px 1px 3px 1px rgba(0, 0, 0, 0.15);\n",
              "      filter: drop-shadow(0px 1px 2px rgba(0, 0, 0, 0.3));\n",
              "      fill: #FFFFFF;\n",
              "    }\n",
              "  </style>\n",
              "\n",
              "      <script>\n",
              "        const buttonEl =\n",
              "          document.querySelector('#df-5d6d0d11-1fba-45fb-835d-36ea411eaddd button.colab-df-convert');\n",
              "        buttonEl.style.display =\n",
              "          google.colab.kernel.accessAllowed ? 'block' : 'none';\n",
              "\n",
              "        async function convertToInteractive(key) {\n",
              "          const element = document.querySelector('#df-5d6d0d11-1fba-45fb-835d-36ea411eaddd');\n",
              "          const dataTable =\n",
              "            await google.colab.kernel.invokeFunction('convertToInteractive',\n",
              "                                                     [key], {});\n",
              "          if (!dataTable) return;\n",
              "\n",
              "          const docLinkHtml = 'Like what you see? Visit the ' +\n",
              "            '<a target=\"_blank\" href=https://colab.research.google.com/notebooks/data_table.ipynb>data table notebook</a>'\n",
              "            + ' to learn more about interactive tables.';\n",
              "          element.innerHTML = '';\n",
              "          dataTable['output_type'] = 'display_data';\n",
              "          await google.colab.output.renderOutput(dataTable, element);\n",
              "          const docLink = document.createElement('div');\n",
              "          docLink.innerHTML = docLinkHtml;\n",
              "          element.appendChild(docLink);\n",
              "        }\n",
              "      </script>\n",
              "    </div>\n",
              "  </div>\n",
              "  "
            ]
          },
          "metadata": {},
          "execution_count": 6
        }
      ]
    },
    {
      "cell_type": "code",
      "source": [
        "# Cоздаем список с искомыми словами в названиях столбцов для последующего удаления\n",
        "excluded_words = ['Представление', 'Документ', 'Контрагент', 'Врач', 'ЗаключениеМК', 'Салон', 'Дата']\n",
        "\n",
        "# Формируем новую таблицу, удаляя столбцы из созданного списка\n",
        "new_columns = [col for col in data.columns if not any(word in col for word in excluded_words)]\n",
        "new_df = data[new_columns]\n",
        "new_df.info()\n",
        "\n",
        "# Также удалим столбцы \"Клиент\", \"Unnamed: 0\"\n",
        "new_df=new_df.drop(columns=['Клиент', 'Unnamed: 0'])"
      ],
      "metadata": {
        "colab": {
          "base_uri": "https://localhost:8080/"
        },
        "id": "1fuSZ7CVJVJR",
        "outputId": "c18e50af-beee-4500-edea-60877bc3dfcf"
      },
      "execution_count": 7,
      "outputs": [
        {
          "output_type": "stream",
          "name": "stdout",
          "text": [
            "<class 'pandas.core.frame.DataFrame'>\n",
            "RangeIndex: 1982 entries, 0 to 1981\n",
            "Columns: 2257 entries, Unnamed: 0 to Возраст\n",
            "dtypes: bool(1), float64(856), int64(2), object(1398)\n",
            "memory usage: 34.1+ MB\n"
          ]
        }
      ]
    },
    {
      "cell_type": "code",
      "source": [
        "df_cut = new_df.drop(new_df.select_dtypes(include=['bool']), axis=1)                                    # удаляем колонки с типом bool\n",
        "df_cut = df_cut.loc[:, df_cut.isnull().mean() < 0.8]                                                    # удаляем \"почти\" пустые колонки\n",
        "col_list = df_cut.columns.tolist()                                                                      # список столбцов\n",
        "df_cut[col_list] = df_cut[col_list].astype(str).apply(lambda x: x.str.replace(r'\\W+', '', regex=True))  # удаление служебных символов из столбцов\n",
        "df_cut = df_cut.applymap(lambda x: x.lower() if type(x) == str else x)                                  # заменяем все заглавные буквы на прописные"
      ],
      "metadata": {
        "id": "xTbinux4GvRd"
      },
      "execution_count": 8,
      "outputs": []
    },
    {
      "cell_type": "code",
      "source": [
        "print(df_cut.info())\n",
        "# df_cut.head()"
      ],
      "metadata": {
        "colab": {
          "base_uri": "https://localhost:8080/"
        },
        "id": "6BIaaROmQLu5",
        "outputId": "22048501-b426-42a7-c78b-6169d54c29a8"
      },
      "execution_count": 9,
      "outputs": [
        {
          "output_type": "stream",
          "name": "stdout",
          "text": [
            "<class 'pandas.core.frame.DataFrame'>\n",
            "RangeIndex: 1982 entries, 0 to 1981\n",
            "Columns: 312 entries, КлиентПол to Возраст\n",
            "dtypes: object(312)\n",
            "memory usage: 4.7+ MB\n",
            "None\n"
          ]
        }
      ]
    },
    {
      "cell_type": "code",
      "execution_count": 10,
      "metadata": {
        "id": "EmwZvC9lb24U",
        "outputId": "fdf17008-b5be-4f22-e0ca-ea3b5743ec3b",
        "colab": {
          "base_uri": "https://localhost:8080/",
          "height": 268
        }
      },
      "outputs": [
        {
          "output_type": "execute_result",
          "data": {
            "text/plain": [
              "       КлиентПол  ТипМедосмотра   Цех Профессия  \\\n",
              "count       1982           1982  1982      1982   \n",
              "unique         2              2   182       588   \n",
              "top      мужской  периодический   nan  водитель   \n",
              "freq        1451           1981  1180        64   \n",
              "\n",
              "                            Заключение ДиспансернаяГруппа ВредныеФакторы  \\\n",
              "count                             1982               1982           1982   \n",
              "unique                              13                  8            514   \n",
              "top     годенкработевуказанныхусловиях                  i             23   \n",
              "freq                              1424                779            227   \n",
              "\n",
              "       ЛабораторныеИсследования1_Специализация  \\\n",
              "count                                     1982   \n",
              "unique                                       4   \n",
              "top           e866ea50093d11e287b2002618dcef2c   \n",
              "freq                                      1652   \n",
              "\n",
              "       ЛабораторныеИсследования1_ОАК_Значение  \\\n",
              "count                                    1982   \n",
              "unique                                      2   \n",
              "top                                   получен   \n",
              "freq                                     1652   \n",
              "\n",
              "       ЛабораторныеИсследования1_Биохимия_Значение  ...  \\\n",
              "count                                         1982  ...   \n",
              "unique                                           2  ...   \n",
              "top                                        получен  ...   \n",
              "freq                                          1655  ...   \n",
              "\n",
              "       Гинекология1_Своды2_Значение  \\\n",
              "count                          1982   \n",
              "unique                            2   \n",
              "top                             nan   \n",
              "freq                           1519   \n",
              "\n",
              "       Гинекология1_НеИзмененоСОсобенностями_Значение  \\\n",
              "count                                            1982   \n",
              "unique                                              2   \n",
              "top                                               nan   \n",
              "freq                                             1519   \n",
              "\n",
              "       Гинекология1_CтепеньЧистоты_Значение  \\\n",
              "count                                  1982   \n",
              "unique                                    3   \n",
              "top                                     nan   \n",
              "freq                                   1519   \n",
              "\n",
              "       Гинекология1_АтипичныеКлетки_Значение Гинекология1_PSPV_Значение  \\\n",
              "count                                   1982                       1982   \n",
              "unique                                     4                          3   \n",
              "top                                      nan                        nan   \n",
              "freq                                    1519                       1519   \n",
              "\n",
              "       Терапия1_Курение_Значение Стоматология1_НЛ6_Значение  \\\n",
              "count                       1982                       1982   \n",
              "unique                         3                          9   \n",
              "top                           00                        nan   \n",
              "freq                        1105                       1573   \n",
              "\n",
              "       ПсихиатрияНаркология1_ДиагнозДополнение_Значение  \\\n",
              "count                                              1982   \n",
              "unique                                               61   \n",
              "top                                                 nan   \n",
              "freq                                               1468   \n",
              "\n",
              "                Терапия1_Диагноз_Значение Возраст  \n",
              "count                                1982    1982  \n",
              "unique                                 18      54  \n",
              "top     z000общиймедицинскийосмотр_x000d_      36  \n",
              "freq                                  856      83  \n",
              "\n",
              "[4 rows x 312 columns]"
            ],
            "text/html": [
              "\n",
              "  <div id=\"df-d01f1222-a155-4a14-a26e-f95faa8fa7b4\">\n",
              "    <div class=\"colab-df-container\">\n",
              "      <div>\n",
              "<style scoped>\n",
              "    .dataframe tbody tr th:only-of-type {\n",
              "        vertical-align: middle;\n",
              "    }\n",
              "\n",
              "    .dataframe tbody tr th {\n",
              "        vertical-align: top;\n",
              "    }\n",
              "\n",
              "    .dataframe thead th {\n",
              "        text-align: right;\n",
              "    }\n",
              "</style>\n",
              "<table border=\"1\" class=\"dataframe\">\n",
              "  <thead>\n",
              "    <tr style=\"text-align: right;\">\n",
              "      <th></th>\n",
              "      <th>КлиентПол</th>\n",
              "      <th>ТипМедосмотра</th>\n",
              "      <th>Цех</th>\n",
              "      <th>Профессия</th>\n",
              "      <th>Заключение</th>\n",
              "      <th>ДиспансернаяГруппа</th>\n",
              "      <th>ВредныеФакторы</th>\n",
              "      <th>ЛабораторныеИсследования1_Специализация</th>\n",
              "      <th>ЛабораторныеИсследования1_ОАК_Значение</th>\n",
              "      <th>ЛабораторныеИсследования1_Биохимия_Значение</th>\n",
              "      <th>...</th>\n",
              "      <th>Гинекология1_Своды2_Значение</th>\n",
              "      <th>Гинекология1_НеИзмененоСОсобенностями_Значение</th>\n",
              "      <th>Гинекология1_CтепеньЧистоты_Значение</th>\n",
              "      <th>Гинекология1_АтипичныеКлетки_Значение</th>\n",
              "      <th>Гинекология1_PSPV_Значение</th>\n",
              "      <th>Терапия1_Курение_Значение</th>\n",
              "      <th>Стоматология1_НЛ6_Значение</th>\n",
              "      <th>ПсихиатрияНаркология1_ДиагнозДополнение_Значение</th>\n",
              "      <th>Терапия1_Диагноз_Значение</th>\n",
              "      <th>Возраст</th>\n",
              "    </tr>\n",
              "  </thead>\n",
              "  <tbody>\n",
              "    <tr>\n",
              "      <th>count</th>\n",
              "      <td>1982</td>\n",
              "      <td>1982</td>\n",
              "      <td>1982</td>\n",
              "      <td>1982</td>\n",
              "      <td>1982</td>\n",
              "      <td>1982</td>\n",
              "      <td>1982</td>\n",
              "      <td>1982</td>\n",
              "      <td>1982</td>\n",
              "      <td>1982</td>\n",
              "      <td>...</td>\n",
              "      <td>1982</td>\n",
              "      <td>1982</td>\n",
              "      <td>1982</td>\n",
              "      <td>1982</td>\n",
              "      <td>1982</td>\n",
              "      <td>1982</td>\n",
              "      <td>1982</td>\n",
              "      <td>1982</td>\n",
              "      <td>1982</td>\n",
              "      <td>1982</td>\n",
              "    </tr>\n",
              "    <tr>\n",
              "      <th>unique</th>\n",
              "      <td>2</td>\n",
              "      <td>2</td>\n",
              "      <td>182</td>\n",
              "      <td>588</td>\n",
              "      <td>13</td>\n",
              "      <td>8</td>\n",
              "      <td>514</td>\n",
              "      <td>4</td>\n",
              "      <td>2</td>\n",
              "      <td>2</td>\n",
              "      <td>...</td>\n",
              "      <td>2</td>\n",
              "      <td>2</td>\n",
              "      <td>3</td>\n",
              "      <td>4</td>\n",
              "      <td>3</td>\n",
              "      <td>3</td>\n",
              "      <td>9</td>\n",
              "      <td>61</td>\n",
              "      <td>18</td>\n",
              "      <td>54</td>\n",
              "    </tr>\n",
              "    <tr>\n",
              "      <th>top</th>\n",
              "      <td>мужской</td>\n",
              "      <td>периодический</td>\n",
              "      <td>nan</td>\n",
              "      <td>водитель</td>\n",
              "      <td>годенкработевуказанныхусловиях</td>\n",
              "      <td>i</td>\n",
              "      <td>23</td>\n",
              "      <td>e866ea50093d11e287b2002618dcef2c</td>\n",
              "      <td>получен</td>\n",
              "      <td>получен</td>\n",
              "      <td>...</td>\n",
              "      <td>nan</td>\n",
              "      <td>nan</td>\n",
              "      <td>nan</td>\n",
              "      <td>nan</td>\n",
              "      <td>nan</td>\n",
              "      <td>00</td>\n",
              "      <td>nan</td>\n",
              "      <td>nan</td>\n",
              "      <td>z000общиймедицинскийосмотр_x000d_</td>\n",
              "      <td>36</td>\n",
              "    </tr>\n",
              "    <tr>\n",
              "      <th>freq</th>\n",
              "      <td>1451</td>\n",
              "      <td>1981</td>\n",
              "      <td>1180</td>\n",
              "      <td>64</td>\n",
              "      <td>1424</td>\n",
              "      <td>779</td>\n",
              "      <td>227</td>\n",
              "      <td>1652</td>\n",
              "      <td>1652</td>\n",
              "      <td>1655</td>\n",
              "      <td>...</td>\n",
              "      <td>1519</td>\n",
              "      <td>1519</td>\n",
              "      <td>1519</td>\n",
              "      <td>1519</td>\n",
              "      <td>1519</td>\n",
              "      <td>1105</td>\n",
              "      <td>1573</td>\n",
              "      <td>1468</td>\n",
              "      <td>856</td>\n",
              "      <td>83</td>\n",
              "    </tr>\n",
              "  </tbody>\n",
              "</table>\n",
              "<p>4 rows × 312 columns</p>\n",
              "</div>\n",
              "      <button class=\"colab-df-convert\" onclick=\"convertToInteractive('df-d01f1222-a155-4a14-a26e-f95faa8fa7b4')\"\n",
              "              title=\"Convert this dataframe to an interactive table.\"\n",
              "              style=\"display:none;\">\n",
              "        \n",
              "  <svg xmlns=\"http://www.w3.org/2000/svg\" height=\"24px\"viewBox=\"0 0 24 24\"\n",
              "       width=\"24px\">\n",
              "    <path d=\"M0 0h24v24H0V0z\" fill=\"none\"/>\n",
              "    <path d=\"M18.56 5.44l.94 2.06.94-2.06 2.06-.94-2.06-.94-.94-2.06-.94 2.06-2.06.94zm-11 1L8.5 8.5l.94-2.06 2.06-.94-2.06-.94L8.5 2.5l-.94 2.06-2.06.94zm10 10l.94 2.06.94-2.06 2.06-.94-2.06-.94-.94-2.06-.94 2.06-2.06.94z\"/><path d=\"M17.41 7.96l-1.37-1.37c-.4-.4-.92-.59-1.43-.59-.52 0-1.04.2-1.43.59L10.3 9.45l-7.72 7.72c-.78.78-.78 2.05 0 2.83L4 21.41c.39.39.9.59 1.41.59.51 0 1.02-.2 1.41-.59l7.78-7.78 2.81-2.81c.8-.78.8-2.07 0-2.86zM5.41 20L4 18.59l7.72-7.72 1.47 1.35L5.41 20z\"/>\n",
              "  </svg>\n",
              "      </button>\n",
              "      \n",
              "  <style>\n",
              "    .colab-df-container {\n",
              "      display:flex;\n",
              "      flex-wrap:wrap;\n",
              "      gap: 12px;\n",
              "    }\n",
              "\n",
              "    .colab-df-convert {\n",
              "      background-color: #E8F0FE;\n",
              "      border: none;\n",
              "      border-radius: 50%;\n",
              "      cursor: pointer;\n",
              "      display: none;\n",
              "      fill: #1967D2;\n",
              "      height: 32px;\n",
              "      padding: 0 0 0 0;\n",
              "      width: 32px;\n",
              "    }\n",
              "\n",
              "    .colab-df-convert:hover {\n",
              "      background-color: #E2EBFA;\n",
              "      box-shadow: 0px 1px 2px rgba(60, 64, 67, 0.3), 0px 1px 3px 1px rgba(60, 64, 67, 0.15);\n",
              "      fill: #174EA6;\n",
              "    }\n",
              "\n",
              "    [theme=dark] .colab-df-convert {\n",
              "      background-color: #3B4455;\n",
              "      fill: #D2E3FC;\n",
              "    }\n",
              "\n",
              "    [theme=dark] .colab-df-convert:hover {\n",
              "      background-color: #434B5C;\n",
              "      box-shadow: 0px 1px 3px 1px rgba(0, 0, 0, 0.15);\n",
              "      filter: drop-shadow(0px 1px 2px rgba(0, 0, 0, 0.3));\n",
              "      fill: #FFFFFF;\n",
              "    }\n",
              "  </style>\n",
              "\n",
              "      <script>\n",
              "        const buttonEl =\n",
              "          document.querySelector('#df-d01f1222-a155-4a14-a26e-f95faa8fa7b4 button.colab-df-convert');\n",
              "        buttonEl.style.display =\n",
              "          google.colab.kernel.accessAllowed ? 'block' : 'none';\n",
              "\n",
              "        async function convertToInteractive(key) {\n",
              "          const element = document.querySelector('#df-d01f1222-a155-4a14-a26e-f95faa8fa7b4');\n",
              "          const dataTable =\n",
              "            await google.colab.kernel.invokeFunction('convertToInteractive',\n",
              "                                                     [key], {});\n",
              "          if (!dataTable) return;\n",
              "\n",
              "          const docLinkHtml = 'Like what you see? Visit the ' +\n",
              "            '<a target=\"_blank\" href=https://colab.research.google.com/notebooks/data_table.ipynb>data table notebook</a>'\n",
              "            + ' to learn more about interactive tables.';\n",
              "          element.innerHTML = '';\n",
              "          dataTable['output_type'] = 'display_data';\n",
              "          await google.colab.output.renderOutput(dataTable, element);\n",
              "          const docLink = document.createElement('div');\n",
              "          docLink.innerHTML = docLinkHtml;\n",
              "          element.appendChild(docLink);\n",
              "        }\n",
              "      </script>\n",
              "    </div>\n",
              "  </div>\n",
              "  "
            ]
          },
          "metadata": {},
          "execution_count": 10
        }
      ],
      "source": [
        "df_cut.describe()"
      ]
    },
    {
      "cell_type": "code",
      "execution_count": 11,
      "metadata": {
        "id": "cGpwSGj5b24V"
      },
      "outputs": [],
      "source": [
        "# Создадим словарь категориальных признаков \"new_df\"\n",
        "dicts = {}\n",
        "for i in df_cut.columns.values.tolist():\n",
        "    if df_cut[i].dtypes == object:\n",
        "        c = 0\n",
        "        dl = {}\n",
        "        for j in df_cut[i].unique():\n",
        "            c += 1\n",
        "            dl.update({j:c})\n",
        "        dicts.update({i:dl})\n",
        "# dict      \n",
        "    "
      ]
    },
    {
      "cell_type": "code",
      "execution_count": 12,
      "metadata": {
        "id": "_K-cmfaKb24W"
      },
      "outputs": [],
      "source": [
        "# Соберем таблицу категориальных признаков на базе \"df_cut\" и \"dicts\"\n",
        "df_fl = df_cut.copy()\n",
        "for i in dicts.keys():\n",
        "    for j in range(df_cut[i].shape[0]):\n",
        "        df_fl[i][j] = float(dicts.get(i).get(df_cut[i][j]))"
      ]
    },
    {
      "cell_type": "code",
      "execution_count": 13,
      "metadata": {
        "id": "JMNBMhy0b24W"
      },
      "outputs": [],
      "source": [
        "# Преобразуем в тип float\n",
        "df_fl = df_fl.astype(float)\n",
        "# df_fl"
      ]
    },
    {
      "cell_type": "code",
      "execution_count": 14,
      "metadata": {
        "id": "Ko26OXt1b24W",
        "outputId": "87ca3705-539d-411f-95ba-fd5c905f6290",
        "colab": {
          "base_uri": "https://localhost:8080/"
        }
      },
      "outputs": [
        {
          "output_type": "stream",
          "name": "stdout",
          "text": [
            "<class 'pandas.core.frame.DataFrame'>\n",
            "RangeIndex: 1982 entries, 0 to 1981\n",
            "Columns: 312 entries, КлиентПол to Возраст\n",
            "dtypes: float64(312)\n",
            "memory usage: 4.7 MB\n"
          ]
        }
      ],
      "source": [
        "df_fl.info()"
      ]
    },
    {
      "cell_type": "code",
      "execution_count": 15,
      "metadata": {
        "id": "YzSxMUg2b24X"
      },
      "outputs": [],
      "source": [
        "# Нормализуем данные в таблице признаков (кроме \"Заключение\")\n",
        "for i in df_fl.columns.values.tolist():\n",
        "   if i != 'Заключение':\n",
        "        df_fl[i] = df_fl[i]/df_fl[i].max()"
      ]
    },
    {
      "cell_type": "code",
      "execution_count": 16,
      "metadata": {
        "id": "FN21WJYMb24X"
      },
      "outputs": [],
      "source": [
        "# Сформируем массив данных и их значений\n",
        "x=df_fl.drop(columns=['Заключение']).reset_index(drop=True)\n",
        "y=df_fl['Заключение']\n",
        "# x, y"
      ]
    },
    {
      "cell_type": "code",
      "source": [
        "# Пример обработанных данных\n",
        "# y = np.expand_dims(y, axis=1)\n",
        "print(x.shape)\n",
        "print(y.shape)"
      ],
      "metadata": {
        "colab": {
          "base_uri": "https://localhost:8080/"
        },
        "id": "yKj8NS40G_n_",
        "outputId": "5818d888-a2aa-443f-ecf3-f44a6bb85f3a"
      },
      "execution_count": 17,
      "outputs": [
        {
          "output_type": "stream",
          "name": "stdout",
          "text": [
            "(1982, 311)\n",
            "(1982,)\n"
          ]
        }
      ]
    },
    {
      "cell_type": "code",
      "source": [
        "y.head()"
      ],
      "metadata": {
        "colab": {
          "base_uri": "https://localhost:8080/"
        },
        "id": "N_u7D9yi11Hr",
        "outputId": "0be36307-011e-40e7-ceaa-44b166f6ee58"
      },
      "execution_count": 18,
      "outputs": [
        {
          "output_type": "execute_result",
          "data": {
            "text/plain": [
              "0    1.0\n",
              "1    1.0\n",
              "2    2.0\n",
              "3    1.0\n",
              "4    2.0\n",
              "Name: Заключение, dtype: float64"
            ]
          },
          "metadata": {},
          "execution_count": 18
        }
      ]
    },
    {
      "cell_type": "code",
      "execution_count": 26,
      "metadata": {
        "id": "kwgWHmOgb24X"
      },
      "outputs": [],
      "source": [
        "# Разобъем массив на обучающую и тестовую выборки\n",
        "x_train, x_test, y_train, y_test = train_test_split(x, y, test_size = 0.2, shuffle = True)"
      ]
    },
    {
      "cell_type": "code",
      "source": [
        "# вывод размеров обучающей и проверочной выборок\n",
        "print(f'Размер обучающей выборки: {x_train.shape[0]}')\n",
        "print(f'Размер проверочной выборки: {x_test.shape[0]}')"
      ],
      "metadata": {
        "colab": {
          "base_uri": "https://localhost:8080/"
        },
        "id": "fl5Sx3-CesXO",
        "outputId": "f6ffeb60-3899-43d6-bf8f-55b94f18ea37"
      },
      "execution_count": 20,
      "outputs": [
        {
          "output_type": "stream",
          "name": "stdout",
          "text": [
            "Размер обучающей выборки: 1585\n",
            "Размер проверочной выборки: 397\n"
          ]
        }
      ]
    },
    {
      "cell_type": "markdown",
      "source": [
        "## Предобученные алгоритмы ML"
      ],
      "metadata": {
        "id": "G65r3TEy__Ui"
      }
    },
    {
      "cell_type": "code",
      "execution_count": 21,
      "metadata": {
        "id": "2fy-Bmufb24Y"
      },
      "outputs": [],
      "source": [
        "# Библиотеки с алгоритмами ML и функциями ошибки\n",
        "from sklearn.ensemble import GradientBoostingRegressor\n",
        "from sklearn.metrics import mean_absolute_error\n",
        "from sklearn.metrics import r2_score\n",
        "from sklearn.metrics import mean_squared_error"
      ]
    },
    {
      "cell_type": "code",
      "source": [
        "# Поищем наилучшую конфигурацию GradientBoostingRegressor\n",
        "\n",
        "from sklearn.model_selection import GridSearchCV\n",
        "\n",
        "# Определяем параметры для перебора\n",
        "param_grid = {'loss': ['ls', 'lad', 'huber', 'quantile'], \n",
        "    'n_estimators': [50, 100, 150], 'max_depth': [3, 5, 7],\n",
        "    'learning_rate': [0.01, 0.1, 1.0]}\n",
        "\n",
        "# Создаем экземпляр GradientBoostingRegressor\n",
        "gb = GradientBoostingRegressor()\n",
        "\n",
        "# Инициализация метода GridSearchCV\n",
        "grid_search = GridSearchCV(gb, param_grid=param_grid, cv=5, n_jobs=-1)\n",
        "\n",
        "# Применяем GridSearchCV к данным для обучения\n",
        "grid_search.fit(x, y)\n",
        "\n",
        "# Выводим наилучшие параметры\n",
        "print('Best parameters:', grid_search.best_params_)"
      ],
      "metadata": {
        "colab": {
          "base_uri": "https://localhost:8080/"
        },
        "id": "yfHVHel03R-z",
        "outputId": "248574e5-9def-425e-c3d3-e6388bf45225"
      },
      "execution_count": null,
      "outputs": [
        {
          "output_type": "stream",
          "name": "stdout",
          "text": [
            "Best parameters: {'learning_rate': 0.1, 'loss': 'huber', 'max_depth': 3, 'n_estimators': 50}\n"
          ]
        }
      ]
    },
    {
      "cell_type": "code",
      "source": [
        "# Создание и обучение экземпляра GradientBoostingRegressor с \"наилучшими\" параметрами\n",
        "# на обучающей выборке и проверка его работы на тестовой\n",
        "\n",
        "params = {'learning_rate': 0.1, 'loss': 'huber', 'max_depth': 3, 'n_estimators': 50}\n",
        "\n",
        "model = GradientBoostingRegressor(**params)\n",
        "model.fit(x_train, y_train)\n",
        "\n",
        "# отображение хода обучения\n",
        "train_scores = []\n",
        "test_scores = []\n",
        "\n",
        "for i, y_pred in enumerate(model.staged_predict(x_train)):\n",
        "    train_scores.append(model.loss_(y_train, y_pred))\n",
        "for i, y_pred in enumerate(model.staged_predict(x_test)):\n",
        "    test_scores.append(model.loss_(y_test, y_pred))\n",
        "    \n",
        "plt.plot(train_scores, 'b', label='Train')\n",
        "plt.plot(test_scores, 'r', label='Test')\n",
        "plt.legend(loc='upper right')\n",
        "plt.xlabel('n_estimators')\n",
        "plt.ylabel('Loss')\n",
        "plt.show()\n",
        "\n",
        "# проверка на тестовой выборке\n",
        "test_score = model.score(x_test, y_test)\n",
        "print(\"Точность на тестовых данных: {:.4f}\".format(test_score))"
      ],
      "metadata": {
        "colab": {
          "base_uri": "https://localhost:8080/",
          "height": 467
        },
        "id": "fruT6iG0-VFu",
        "outputId": "afcdb6f7-9195-47d9-b369-b26ac7079275"
      },
      "execution_count": 27,
      "outputs": [
        {
          "output_type": "display_data",
          "data": {
            "text/plain": [
              "<Figure size 640x480 with 1 Axes>"
            ],
            "image/png": "[encoded data removed]"
          },
          "metadata": {}
        },
        {
          "output_type": "stream",
          "name": "stdout",
          "text": [
            "Точность на тестовых данных: 0.9628\n"
          ]
        }
      ]
    }
  ],
  "metadata": {
    "kernelspec": {
      "display_name": "Python 3 (ipykernel)",
      "language": "python",
      "name": "python3"
    },
    "language_info": {
      "codemirror_mode": {
        "name": "ipython",
        "version": 3
      },
      "file_extension": ".py",
      "mimetype": "text/x-python",
      "name": "python",
      "nbconvert_exporter": "python",
      "pygments_lexer": "ipython3",
      "version": "3.9.13"
    },
    "colab": {
      "provenance": [],
      "toc_visible": true,
      "include_colab_link": true
    },
    "gpuClass": "standard"
  },
  "nbformat": 4,
  "nbformat_minor": 0
}