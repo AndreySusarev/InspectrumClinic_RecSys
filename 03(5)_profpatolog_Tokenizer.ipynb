{
  "nbformat": 4,
  "nbformat_minor": 0,
  "metadata": {
    "colab": {
      "provenance": [],
      "toc_visible": true,
      "collapsed_sections": [
        "upyMXDPPe4OI"
      ],
      "authorship_tag": "ABX9TyPAZNQEzzCoP0mKjDPCXPXG",
      "include_colab_link": true
    },
    "kernelspec": {
      "name": "python3",
      "display_name": "Python 3"
    },
    "language_info": {
      "name": "python"
    }
  },
  "cells": [
    {
      "cell_type": "markdown",
      "metadata": {
        "id": "view-in-github",
        "colab_type": "text"
      },
      "source": [
        "<a href=\"https://colab.research.google.com/github/Untick/InspectrumClinic_RecSys/blob/Alesya-Moroz-folder/03(5)_profpatolog_Tokenizer.ipynb\" target=\"_parent\"><img src=\"https://colab.research.google.com/assets/colab-badge.svg\" alt=\"Open In Colab\"/></a>"
      ]
    },
    {
      "cell_type": "markdown",
      "source": [
        "# Загрузка библиотек"
      ],
      "metadata": {
        "id": "8zK3SmcDTEX0"
      }
    },
    {
      "cell_type": "code",
      "execution_count": 99,
      "metadata": {
        "id": "dDBLCWKuSJrN"
      },
      "outputs": [],
      "source": [
        "import numpy as np \n",
        "import pandas as pd \n",
        "import seaborn as sns\n",
        "import tensorflow as tf\n",
        "\n",
        "\n",
        "from tensorflow.keras import utils # Для работы с категориальными данными\n",
        "from tensorflow.keras.models import Sequential, Model # Полносвязная модель\n",
        "from tensorflow.keras.optimizers import Adam\n",
        "from tensorflow.keras.layers import Dense, Dropout, SpatialDropout1D, BatchNormalization, Embedding, Flatten, Activation, Input # Слои для сети\n",
        "from tensorflow.keras.preprocessing.text import Tokenizer # Методы для работы с текстами и преобразования их в последовательности\n",
        "from tensorflow.keras.preprocessing.sequence import pad_sequences # Метод для работы с последовательностями\n",
        "\n",
        "from tensorflow.keras.layers import TextVectorization\n",
        "\n",
        "import matplotlib.pyplot as plt\n",
        "import re\n",
        "\n",
        "import warnings\n",
        "warnings.filterwarnings('ignore')\n",
        "\n",
        "from sklearn.model_selection import train_test_split\n",
        "from pandas.core.common import flatten\n",
        "\n",
        "from sklearn.metrics import f1_score"
      ]
    },
    {
      "cell_type": "code",
      "source": [
        "print(tf.__version__)\n",
        "print(tf.keras.__version__)"
      ],
      "metadata": {
        "colab": {
          "base_uri": "https://localhost:8080/"
        },
        "id": "tHzGdP3iknhM",
        "outputId": "2a1143e4-cba1-47f9-fa42-924041140bc1"
      },
      "execution_count": 2,
      "outputs": [
        {
          "output_type": "stream",
          "name": "stdout",
          "text": [
            "2.12.0\n",
            "2.12.0\n"
          ]
        }
      ]
    },
    {
      "cell_type": "markdown",
      "source": [
        "# Загрузка датасета"
      ],
      "metadata": {
        "id": "6M58i5jcTaoK"
      }
    },
    {
      "cell_type": "code",
      "source": [
        "from google.colab import drive # Подключаем диск\n",
        "drive.mount('/content/drive')"
      ],
      "metadata": {
        "id": "XrucoYJnTVek",
        "colab": {
          "base_uri": "https://localhost:8080/"
        },
        "outputId": "27c78111-be46-4a93-f3ff-fa5375ea7b1e"
      },
      "execution_count": 3,
      "outputs": [
        {
          "output_type": "stream",
          "name": "stdout",
          "text": [
            "Mounted at /content/drive\n"
          ]
        }
      ]
    },
    {
      "cell_type": "code",
      "source": [
        "df = pd.read_excel('/content/drive/MyDrive/NU_files/стажировка/profpatolog_modifiedDataset_v1.xlsx', index_col=0)"
      ],
      "metadata": {
        "id": "LE8c6IwMUA3k"
      },
      "execution_count": 4,
      "outputs": []
    },
    {
      "cell_type": "code",
      "source": [
        "df.head()"
      ],
      "metadata": {
        "colab": {
          "base_uri": "https://localhost:8080/",
          "height": 438
        },
        "id": "3RRT2th7Udmx",
        "outputId": "b79d5681-4223-41fd-cd17-663ee437a1b6"
      },
      "execution_count": 5,
      "outputs": [
        {
          "output_type": "execute_result",
          "data": {
            "text/plain": [
              "  КлиентПолПредставление  Возраст ДиспансернаяГруппаПредставление  \\\n",
              "0                Женский       45                               I   \n",
              "1                Мужской       34                            IIIа   \n",
              "2                Мужской       36                              II   \n",
              "3                Мужской       33                               I   \n",
              "4                Мужской       37                              II   \n",
              "\n",
              "                                   Профессия ВредныеФакторы  \\\n",
              "0  Ведущий специалист по организации обуения           11.4   \n",
              "1                         Ведущий специалист          4.2.5   \n",
              "2                           Главный менеджер          4.2.5   \n",
              "3                         Главный специалист           11.1   \n",
              "4                         Старший специалист           11.1   \n",
              "\n",
              "             ЗаключениеМК ЛабораторныеИсследования1_ОАК_ЗначениеПредставление  \\\n",
              "0                   Годен                                            получен    \n",
              "1                   Годен                                            получен    \n",
              "2  ГоденСКоррекциейЗрения                                            получен    \n",
              "3                   Годен                                            получен    \n",
              "4  ГоденСКоррекциейЗрения                                            получен    \n",
              "\n",
              "  ЛабораторныеИсследования1_Биохимия_ЗначениеПредставление  \\\n",
              "0                                            получен         \n",
              "1                                            получен         \n",
              "2                                            получен         \n",
              "3                                            получен         \n",
              "4                                            получен         \n",
              "\n",
              "  ЛабораторныеИсследования1_ОАМ_ЗначениеПредставление  \\\n",
              "0                                            получен    \n",
              "1                                            получен    \n",
              "2                                            получен    \n",
              "3                                            получен    \n",
              "4                                            получен    \n",
              "\n",
              "  ЛабораторныеИсследования1_МазокИзЗеваИНоса_ЗначениеПредставление  ...  \\\n",
              "0                                         не получен                ...   \n",
              "1                                         не получен                ...   \n",
              "2                                         не получен                ...   \n",
              "3                                            получен                ...   \n",
              "4                                         не получен                ...   \n",
              "\n",
              "  Психиатрия1_МКБ102 Психиатрия2_МКБ101 Психиатрия2_МКБ102  \\\n",
              "0                NaN                NaN                NaN   \n",
              "1                NaN                NaN                NaN   \n",
              "2                NaN                NaN                NaN   \n",
              "3                NaN                NaN                NaN   \n",
              "4                NaN                NaN                NaN   \n",
              "\n",
              "  Рентгенология1_МКБ102 Рентгенология2_МКБ102 Психиатрия3_МКБ101  \\\n",
              "0                   NaN                   NaN                NaN   \n",
              "1                   NaN                   NaN                NaN   \n",
              "2                   NaN                   NaN                NaN   \n",
              "3                   NaN                   NaN                NaN   \n",
              "4                   NaN                   NaN                NaN   \n",
              "\n",
              "  Психиатрия3_МКБ102 Психиатрия4_МКБ101 Психиатрия4_МКБ102  \\\n",
              "0                NaN                NaN                NaN   \n",
              "1                NaN                NaN                NaN   \n",
              "2                NaN                NaN                NaN   \n",
              "3                NaN                NaN                NaN   \n",
              "4                NaN                NaN                NaN   \n",
              "\n",
              "  Оториноларингология3_МКБ101  \n",
              "0                         NaN  \n",
              "1                         NaN  \n",
              "2                         NaN  \n",
              "3                         NaN  \n",
              "4                         NaN  \n",
              "\n",
              "[5 rows x 1626 columns]"
            ],
            "text/html": [
              "\n",
              "  <div id=\"df-e8f26fbe-851e-4a52-8673-cbdaea412331\">\n",
              "    <div class=\"colab-df-container\">\n",
              "      <div>\n",
              "<style scoped>\n",
              "    .dataframe tbody tr th:only-of-type {\n",
              "        vertical-align: middle;\n",
              "    }\n",
              "\n",
              "    .dataframe tbody tr th {\n",
              "        vertical-align: top;\n",
              "    }\n",
              "\n",
              "    .dataframe thead th {\n",
              "        text-align: right;\n",
              "    }\n",
              "</style>\n",
              "<table border=\"1\" class=\"dataframe\">\n",
              "  <thead>\n",
              "    <tr style=\"text-align: right;\">\n",
              "      <th></th>\n",
              "      <th>КлиентПолПредставление</th>\n",
              "      <th>Возраст</th>\n",
              "      <th>ДиспансернаяГруппаПредставление</th>\n",
              "      <th>Профессия</th>\n",
              "      <th>ВредныеФакторы</th>\n",
              "      <th>ЗаключениеМК</th>\n",
              "      <th>ЛабораторныеИсследования1_ОАК_ЗначениеПредставление</th>\n",
              "      <th>ЛабораторныеИсследования1_Биохимия_ЗначениеПредставление</th>\n",
              "      <th>ЛабораторныеИсследования1_ОАМ_ЗначениеПредставление</th>\n",
              "      <th>ЛабораторныеИсследования1_МазокИзЗеваИНоса_ЗначениеПредставление</th>\n",
              "      <th>...</th>\n",
              "      <th>Психиатрия1_МКБ102</th>\n",
              "      <th>Психиатрия2_МКБ101</th>\n",
              "      <th>Психиатрия2_МКБ102</th>\n",
              "      <th>Рентгенология1_МКБ102</th>\n",
              "      <th>Рентгенология2_МКБ102</th>\n",
              "      <th>Психиатрия3_МКБ101</th>\n",
              "      <th>Психиатрия3_МКБ102</th>\n",
              "      <th>Психиатрия4_МКБ101</th>\n",
              "      <th>Психиатрия4_МКБ102</th>\n",
              "      <th>Оториноларингология3_МКБ101</th>\n",
              "    </tr>\n",
              "  </thead>\n",
              "  <tbody>\n",
              "    <tr>\n",
              "      <th>0</th>\n",
              "      <td>Женский</td>\n",
              "      <td>45</td>\n",
              "      <td>I</td>\n",
              "      <td>Ведущий специалист по организации обуения</td>\n",
              "      <td>11.4</td>\n",
              "      <td>Годен</td>\n",
              "      <td>получен</td>\n",
              "      <td>получен</td>\n",
              "      <td>получен</td>\n",
              "      <td>не получен</td>\n",
              "      <td>...</td>\n",
              "      <td>NaN</td>\n",
              "      <td>NaN</td>\n",
              "      <td>NaN</td>\n",
              "      <td>NaN</td>\n",
              "      <td>NaN</td>\n",
              "      <td>NaN</td>\n",
              "      <td>NaN</td>\n",
              "      <td>NaN</td>\n",
              "      <td>NaN</td>\n",
              "      <td>NaN</td>\n",
              "    </tr>\n",
              "    <tr>\n",
              "      <th>1</th>\n",
              "      <td>Мужской</td>\n",
              "      <td>34</td>\n",
              "      <td>IIIа</td>\n",
              "      <td>Ведущий специалист</td>\n",
              "      <td>4.2.5</td>\n",
              "      <td>Годен</td>\n",
              "      <td>получен</td>\n",
              "      <td>получен</td>\n",
              "      <td>получен</td>\n",
              "      <td>не получен</td>\n",
              "      <td>...</td>\n",
              "      <td>NaN</td>\n",
              "      <td>NaN</td>\n",
              "      <td>NaN</td>\n",
              "      <td>NaN</td>\n",
              "      <td>NaN</td>\n",
              "      <td>NaN</td>\n",
              "      <td>NaN</td>\n",
              "      <td>NaN</td>\n",
              "      <td>NaN</td>\n",
              "      <td>NaN</td>\n",
              "    </tr>\n",
              "    <tr>\n",
              "      <th>2</th>\n",
              "      <td>Мужской</td>\n",
              "      <td>36</td>\n",
              "      <td>II</td>\n",
              "      <td>Главный менеджер</td>\n",
              "      <td>4.2.5</td>\n",
              "      <td>ГоденСКоррекциейЗрения</td>\n",
              "      <td>получен</td>\n",
              "      <td>получен</td>\n",
              "      <td>получен</td>\n",
              "      <td>не получен</td>\n",
              "      <td>...</td>\n",
              "      <td>NaN</td>\n",
              "      <td>NaN</td>\n",
              "      <td>NaN</td>\n",
              "      <td>NaN</td>\n",
              "      <td>NaN</td>\n",
              "      <td>NaN</td>\n",
              "      <td>NaN</td>\n",
              "      <td>NaN</td>\n",
              "      <td>NaN</td>\n",
              "      <td>NaN</td>\n",
              "    </tr>\n",
              "    <tr>\n",
              "      <th>3</th>\n",
              "      <td>Мужской</td>\n",
              "      <td>33</td>\n",
              "      <td>I</td>\n",
              "      <td>Главный специалист</td>\n",
              "      <td>11.1</td>\n",
              "      <td>Годен</td>\n",
              "      <td>получен</td>\n",
              "      <td>получен</td>\n",
              "      <td>получен</td>\n",
              "      <td>получен</td>\n",
              "      <td>...</td>\n",
              "      <td>NaN</td>\n",
              "      <td>NaN</td>\n",
              "      <td>NaN</td>\n",
              "      <td>NaN</td>\n",
              "      <td>NaN</td>\n",
              "      <td>NaN</td>\n",
              "      <td>NaN</td>\n",
              "      <td>NaN</td>\n",
              "      <td>NaN</td>\n",
              "      <td>NaN</td>\n",
              "    </tr>\n",
              "    <tr>\n",
              "      <th>4</th>\n",
              "      <td>Мужской</td>\n",
              "      <td>37</td>\n",
              "      <td>II</td>\n",
              "      <td>Старший специалист</td>\n",
              "      <td>11.1</td>\n",
              "      <td>ГоденСКоррекциейЗрения</td>\n",
              "      <td>получен</td>\n",
              "      <td>получен</td>\n",
              "      <td>получен</td>\n",
              "      <td>не получен</td>\n",
              "      <td>...</td>\n",
              "      <td>NaN</td>\n",
              "      <td>NaN</td>\n",
              "      <td>NaN</td>\n",
              "      <td>NaN</td>\n",
              "      <td>NaN</td>\n",
              "      <td>NaN</td>\n",
              "      <td>NaN</td>\n",
              "      <td>NaN</td>\n",
              "      <td>NaN</td>\n",
              "      <td>NaN</td>\n",
              "    </tr>\n",
              "  </tbody>\n",
              "</table>\n",
              "<p>5 rows × 1626 columns</p>\n",
              "</div>\n",
              "      <button class=\"colab-df-convert\" onclick=\"convertToInteractive('df-e8f26fbe-851e-4a52-8673-cbdaea412331')\"\n",
              "              title=\"Convert this dataframe to an interactive table.\"\n",
              "              style=\"display:none;\">\n",
              "        \n",
              "  <svg xmlns=\"http://www.w3.org/2000/svg\" height=\"24px\"viewBox=\"0 0 24 24\"\n",
              "       width=\"24px\">\n",
              "    <path d=\"M0 0h24v24H0V0z\" fill=\"none\"/>\n",
              "    <path d=\"M18.56 5.44l.94 2.06.94-2.06 2.06-.94-2.06-.94-.94-2.06-.94 2.06-2.06.94zm-11 1L8.5 8.5l.94-2.06 2.06-.94-2.06-.94L8.5 2.5l-.94 2.06-2.06.94zm10 10l.94 2.06.94-2.06 2.06-.94-2.06-.94-.94-2.06-.94 2.06-2.06.94z\"/><path d=\"M17.41 7.96l-1.37-1.37c-.4-.4-.92-.59-1.43-.59-.52 0-1.04.2-1.43.59L10.3 9.45l-7.72 7.72c-.78.78-.78 2.05 0 2.83L4 21.41c.39.39.9.59 1.41.59.51 0 1.02-.2 1.41-.59l7.78-7.78 2.81-2.81c.8-.78.8-2.07 0-2.86zM5.41 20L4 18.59l7.72-7.72 1.47 1.35L5.41 20z\"/>\n",
              "  </svg>\n",
              "      </button>\n",
              "      \n",
              "  <style>\n",
              "    .colab-df-container {\n",
              "      display:flex;\n",
              "      flex-wrap:wrap;\n",
              "      gap: 12px;\n",
              "    }\n",
              "\n",
              "    .colab-df-convert {\n",
              "      background-color: #E8F0FE;\n",
              "      border: none;\n",
              "      border-radius: 50%;\n",
              "      cursor: pointer;\n",
              "      display: none;\n",
              "      fill: #1967D2;\n",
              "      height: 32px;\n",
              "      padding: 0 0 0 0;\n",
              "      width: 32px;\n",
              "    }\n",
              "\n",
              "    .colab-df-convert:hover {\n",
              "      background-color: #E2EBFA;\n",
              "      box-shadow: 0px 1px 2px rgba(60, 64, 67, 0.3), 0px 1px 3px 1px rgba(60, 64, 67, 0.15);\n",
              "      fill: #174EA6;\n",
              "    }\n",
              "\n",
              "    [theme=dark] .colab-df-convert {\n",
              "      background-color: #3B4455;\n",
              "      fill: #D2E3FC;\n",
              "    }\n",
              "\n",
              "    [theme=dark] .colab-df-convert:hover {\n",
              "      background-color: #434B5C;\n",
              "      box-shadow: 0px 1px 3px 1px rgba(0, 0, 0, 0.15);\n",
              "      filter: drop-shadow(0px 1px 2px rgba(0, 0, 0, 0.3));\n",
              "      fill: #FFFFFF;\n",
              "    }\n",
              "  </style>\n",
              "\n",
              "      <script>\n",
              "        const buttonEl =\n",
              "          document.querySelector('#df-e8f26fbe-851e-4a52-8673-cbdaea412331 button.colab-df-convert');\n",
              "        buttonEl.style.display =\n",
              "          google.colab.kernel.accessAllowed ? 'block' : 'none';\n",
              "\n",
              "        async function convertToInteractive(key) {\n",
              "          const element = document.querySelector('#df-e8f26fbe-851e-4a52-8673-cbdaea412331');\n",
              "          const dataTable =\n",
              "            await google.colab.kernel.invokeFunction('convertToInteractive',\n",
              "                                                     [key], {});\n",
              "          if (!dataTable) return;\n",
              "\n",
              "          const docLinkHtml = 'Like what you see? Visit the ' +\n",
              "            '<a target=\"_blank\" href=https://colab.research.google.com/notebooks/data_table.ipynb>data table notebook</a>'\n",
              "            + ' to learn more about interactive tables.';\n",
              "          element.innerHTML = '';\n",
              "          dataTable['output_type'] = 'display_data';\n",
              "          await google.colab.output.renderOutput(dataTable, element);\n",
              "          const docLink = document.createElement('div');\n",
              "          docLink.innerHTML = docLinkHtml;\n",
              "          element.appendChild(docLink);\n",
              "        }\n",
              "      </script>\n",
              "    </div>\n",
              "  </div>\n",
              "  "
            ]
          },
          "metadata": {},
          "execution_count": 5
        }
      ]
    },
    {
      "cell_type": "code",
      "source": [
        "df.info()\n",
        "# df.info(verbose=True, buf=None, max_cols=4, memory_usage=None, show_counts=True)"
      ],
      "metadata": {
        "colab": {
          "base_uri": "https://localhost:8080/"
        },
        "id": "tjvyf_TSUoYY",
        "outputId": "efa6dd64-791a-4dcb-9a5d-96beb0c7910f"
      },
      "execution_count": 6,
      "outputs": [
        {
          "output_type": "stream",
          "name": "stdout",
          "text": [
            "<class 'pandas.core.frame.DataFrame'>\n",
            "Int64Index: 1571 entries, 0 to 1570\n",
            "Columns: 1626 entries, КлиентПолПредставление to Оториноларингология3_МКБ101\n",
            "dtypes: float64(87), int64(1), object(1538)\n",
            "memory usage: 19.5+ MB\n"
          ]
        }
      ]
    },
    {
      "cell_type": "code",
      "source": [
        "#@title Столбцы с общей информацией\n",
        "print(list(df.columns[:6]))"
      ],
      "metadata": {
        "colab": {
          "base_uri": "https://localhost:8080/"
        },
        "id": "129I4sPIThnb",
        "outputId": "5903b367-5886-4c55-cafe-1c3d778e9d75"
      },
      "execution_count": 7,
      "outputs": [
        {
          "output_type": "stream",
          "name": "stdout",
          "text": [
            "['КлиентПолПредставление', 'Возраст', 'ДиспансернаяГруппаПредставление', 'Профессия', 'ВредныеФакторы', 'ЗаключениеМК']\n"
          ]
        }
      ]
    },
    {
      "cell_type": "code",
      "source": [
        "# n = 0 # номер записи\n",
        "# for i in range(len(df.values[n])):\n",
        "#     if df.values[n][i] != np.NaN:\n",
        "#         print(i, df.columns[i], \" \", df.values[n][i])"
      ],
      "metadata": {
        "id": "BnpuYmFQVs1f"
      },
      "execution_count": 8,
      "outputs": []
    },
    {
      "cell_type": "code",
      "source": [
        "#@title Определение направлений исследований (по столбцам)\n",
        "columns = df.columns\n",
        "col_specialization = []\n",
        "for i, column in enumerate(columns):\n",
        "    string = re.split('_|[0-9]', column)\n",
        "    if len(string) > 1:\n",
        "        if string[0] not in col_specialization: \n",
        "            col_specialization.append(string[0])    \n",
        "            print(len(col_specialization), string[0])"
      ],
      "metadata": {
        "colab": {
          "base_uri": "https://localhost:8080/"
        },
        "id": "rRg8-Su6TIGQ",
        "outputId": "6310e824-f5b0-401c-a31c-e5044fc6ff78"
      },
      "execution_count": 9,
      "outputs": [
        {
          "output_type": "stream",
          "name": "stdout",
          "text": [
            "1 ЛабораторныеИсследования\n",
            "2 Рентгенология\n",
            "3 ПсихиатрияНаркология\n",
            "4 Офтальмология\n",
            "5 Оториноларингология\n",
            "6 ХирургНеИсп\n",
            "7 Гинекология\n",
            "8 ФункциональнаяДиагностика\n",
            "9 Стоматология\n",
            "10 Эндоскопия\n",
            "11 Терапия\n",
            "12 Дерматовенерология\n",
            "13 Неврология\n",
            "14 УЗИДиагностика\n",
            "15 Хирургия\n",
            "16 ЭКГНеИсп\n",
            "17 ПроцедурнаяМедсестра\n",
            "18 Психиатрия\n",
            "19 ТерапевтНеИсп\n"
          ]
        }
      ]
    },
    {
      "cell_type": "markdown",
      "source": [
        "## Формирование датасета с заключениями специалистов (МКБ)"
      ],
      "metadata": {
        "id": "paPkunJFOUyx"
      }
    },
    {
      "cell_type": "code",
      "source": [
        "keywords_to_save = 'МКБ'\n",
        "df_mkb = df.filter(regex=keywords_to_save)\n",
        "df_mkb.info()\n",
        "columns_mkb = list(df_mkb.columns)"
      ],
      "metadata": {
        "id": "nF5uX4bOOTLQ",
        "colab": {
          "base_uri": "https://localhost:8080/"
        },
        "outputId": "df029023-b78f-453f-e848-7d26f4663976"
      },
      "execution_count": 10,
      "outputs": [
        {
          "output_type": "stream",
          "name": "stdout",
          "text": [
            "<class 'pandas.core.frame.DataFrame'>\n",
            "Int64Index: 1571 entries, 0 to 1570\n",
            "Data columns (total 91 columns):\n",
            " #   Column                             Non-Null Count  Dtype \n",
            "---  ------                             --------------  ----- \n",
            " 0   ПсихиатрияНаркология1_МКБ101       1208 non-null   object\n",
            " 1   Офтальмология1_МКБ101              1005 non-null   object\n",
            " 2   Оториноларингология1_МКБ101        1221 non-null   object\n",
            " 3   ХирургНеИсп1_МКБ101                25 non-null     object\n",
            " 4   Гинекология1_МКБ101                363 non-null    object\n",
            " 5   Стоматология1_МКБ101               321 non-null    object\n",
            " 6   Дерматовенерология1_МКБ101         754 non-null    object\n",
            " 7   Рентгенология1_МКБ101              71 non-null     object\n",
            " 8   Неврология1_МКБ101                 1355 non-null   object\n",
            " 9   Терапия1_МКБ101                    1358 non-null   object\n",
            " 10  Хирургия1_МКБ101                   785 non-null    object\n",
            " 11  Офтальмология1_МКБ102              114 non-null    object\n",
            " 12  Терапия2_МКБ101                    155 non-null    object\n",
            " 13  Неврология2_МКБ101                 128 non-null    object\n",
            " 14  ЛабораторныеИсследования1_МКБ101   875 non-null    object\n",
            " 15  ЭКГНеИсп1_МКБ101                   1 non-null      object\n",
            " 16  УЗИДиагностика1_МКБ101             171 non-null    object\n",
            " 17  УЗИДиагностика2_МКБ101             43 non-null     object\n",
            " 18  ПсихиатрияНаркология2_МКБ101       113 non-null    object\n",
            " 19  Терапия1_МКБ102                    199 non-null    object\n",
            " 20  ЛабораторныеИсследования2_МКБ101   57 non-null     object\n",
            " 21  Терапия1_МКБ103                    13 non-null     object\n",
            " 22  Психиатрия1_МКБ101                 174 non-null    object\n",
            " 23  Гинекология1_МКБ102                19 non-null     object\n",
            " 24  Рентгенология2_МКБ101              3 non-null      object\n",
            " 25  Гинекология2_МКБ101                24 non-null     object\n",
            " 26  Хирургия2_МКБ101                   82 non-null     object\n",
            " 27  ПроцедурнаяМедсестра1_МКБ101       75 non-null     object\n",
            " 28  ФункциональнаяДиагностика1_МКБ101  6 non-null      object\n",
            " 29  УЗИДиагностика1_МКБ102             43 non-null     object\n",
            " 30  Стоматология2_МКБ101               38 non-null     object\n",
            " 31  Неврология1_МКБ102                 123 non-null    object\n",
            " 32  Оториноларингология2_МКБ101        115 non-null    object\n",
            " 33  Дерматовенерология1_МКБ102         83 non-null     object\n",
            " 34  Дерматовенерология2_МКБ101         84 non-null     object\n",
            " 35  Дерматовенерология2_МКБ102         82 non-null     object\n",
            " 36  Хирургия1_МКБ102                   54 non-null     object\n",
            " 37  Хирургия2_МКБ102                   54 non-null     object\n",
            " 38  Офтальмология2_МКБ101              84 non-null     object\n",
            " 39  Офтальмология2_МКБ102              82 non-null     object\n",
            " 40  Неврология2_МКБ102                 120 non-null    object\n",
            " 41  ПсихиатрияНаркология1_МКБ102       104 non-null    object\n",
            " 42  ПсихиатрияНаркология2_МКБ102       104 non-null    object\n",
            " 43  УЗИДиагностика2_МКБ102             42 non-null     object\n",
            " 44  Оториноларингология1_МКБ102        108 non-null    object\n",
            " 45  Оториноларингология2_МКБ102        104 non-null    object\n",
            " 46  Терапия2_МКБ102                    124 non-null    object\n",
            " 47  Оториноларингология1_МКБ103        4 non-null      object\n",
            " 48  Оториноларингология1_МКБ104        4 non-null      object\n",
            " 49  Оториноларингология2_МКБ103        4 non-null      object\n",
            " 50  Оториноларингология2_МКБ104        4 non-null      object\n",
            " 51  Терапия3_МКБ101                    6 non-null      object\n",
            " 52  Терапия3_МКБ102                    6 non-null      object\n",
            " 53  Терапия4_МКБ101                    6 non-null      object\n",
            " 54  Терапия4_МКБ102                    6 non-null      object\n",
            " 55  Гинекология2_МКБ102                18 non-null     object\n",
            " 56  УЗИДиагностика1_МКБ103             2 non-null      object\n",
            " 57  УЗИДиагностика1_МКБ104             2 non-null      object\n",
            " 58  УЗИДиагностика2_МКБ103             2 non-null      object\n",
            " 59  УЗИДиагностика2_МКБ104             2 non-null      object\n",
            " 60  Стоматология1_МКБ102               38 non-null     object\n",
            " 61  Стоматология2_МКБ102               36 non-null     object\n",
            " 62  Терапия1_МКБ104                    6 non-null      object\n",
            " 63  Терапия2_МКБ103                    6 non-null      object\n",
            " 64  Терапия2_МКБ104                    6 non-null      object\n",
            " 65  Офтальмология1_МКБ103              7 non-null      object\n",
            " 66  Офтальмология1_МКБ104              6 non-null      object\n",
            " 67  Офтальмология2_МКБ103              6 non-null      object\n",
            " 68  Офтальмология2_МКБ104              6 non-null      object\n",
            " 69  ЛабораторныеИсследования1_МКБ102   55 non-null     object\n",
            " 70  ЛабораторныеИсследования2_МКБ102   54 non-null     object\n",
            " 71  Гинекология3_МКБ101                2 non-null      object\n",
            " 72  Гинекология3_МКБ102                2 non-null      object\n",
            " 73  Гинекология4_МКБ101                2 non-null      object\n",
            " 74  Гинекология4_МКБ102                2 non-null      object\n",
            " 75  ТерапевтНеИсп1_МКБ101              8 non-null      object\n",
            " 76  Эндоскопия1_МКБ101                 4 non-null      object\n",
            " 77  ТерапевтНеИсп1_МКБ102              1 non-null      object\n",
            " 78  ХирургНеИсп1_МКБ102                2 non-null      object\n",
            " 79  ХирургНеИсп2_МКБ101                2 non-null      object\n",
            " 80  ХирургНеИсп2_МКБ102                2 non-null      object\n",
            " 81  Психиатрия1_МКБ102                 22 non-null     object\n",
            " 82  Психиатрия2_МКБ101                 22 non-null     object\n",
            " 83  Психиатрия2_МКБ102                 22 non-null     object\n",
            " 84  Рентгенология1_МКБ102              2 non-null      object\n",
            " 85  Рентгенология2_МКБ102              2 non-null      object\n",
            " 86  Психиатрия3_МКБ101                 2 non-null      object\n",
            " 87  Психиатрия3_МКБ102                 2 non-null      object\n",
            " 88  Психиатрия4_МКБ101                 2 non-null      object\n",
            " 89  Психиатрия4_МКБ102                 2 non-null      object\n",
            " 90  Оториноларингология3_МКБ101        1 non-null      object\n",
            "dtypes: object(91)\n",
            "memory usage: 1.1+ MB\n"
          ]
        }
      ]
    },
    {
      "cell_type": "code",
      "source": [
        "len(df_mkb.columns)"
      ],
      "metadata": {
        "id": "SAPtXP8oPNwA",
        "colab": {
          "base_uri": "https://localhost:8080/"
        },
        "outputId": "5f67a223-cbb3-4339-d157-8e38697ea68f"
      },
      "execution_count": 11,
      "outputs": [
        {
          "output_type": "execute_result",
          "data": {
            "text/plain": [
              "91"
            ]
          },
          "metadata": {},
          "execution_count": 11
        }
      ]
    },
    {
      "cell_type": "markdown",
      "source": [
        "### Объединение МКБ столбцов"
      ],
      "metadata": {
        "id": "mD3Tql1ptPVz"
      }
    },
    {
      "cell_type": "code",
      "source": [
        "df['mkb_all'] = df[columns_mkb].astype(str).agg(','. join , axis= 1 ) "
      ],
      "metadata": {
        "id": "oxfsuKA4s2xE"
      },
      "execution_count": 12,
      "outputs": []
    },
    {
      "cell_type": "code",
      "source": [
        "p = df['mkb_all'][5]\n",
        "type(p)\n",
        "p"
      ],
      "metadata": {
        "id": "GNPpYNars7oh",
        "colab": {
          "base_uri": "https://localhost:8080/",
          "height": 73
        },
        "outputId": "4a1b477b-418f-406a-a87c-c12249c61442"
      },
      "execution_count": 13,
      "outputs": [
        {
          "output_type": "execute_result",
          "data": {
            "text/plain": [
              "'nan,H52.2,Z00.0,nan,nan,Z00.0,nan,nan,Z00.0,Z00.0,Z00.0,H53.0,Z00.0,nan,nan,nan,nan,nan,nan,nan,nan,nan,nan,nan,nan,nan,nan,nan,nan,nan,nan,nan,nan,nan,nan,nan,nan,nan,nan,nan,nan,nan,nan,nan,nan,nan,nan,nan,nan,nan,nan,nan,nan,nan,nan,nan,nan,nan,nan,nan,nan,nan,nan,nan,nan,nan,nan,nan,nan,nan,nan,nan,nan,nan,nan,nan,nan,nan,nan,nan,nan,nan,nan,nan,nan,nan,nan,nan,nan,nan,nan'"
            ],
            "application/vnd.google.colaboratory.intrinsic+json": {
              "type": "string"
            }
          },
          "metadata": {},
          "execution_count": 13
        }
      ]
    },
    {
      "cell_type": "code",
      "source": [
        "def mkb_all(arg):\n",
        "    new = re.split(r',', arg)\n",
        "    unique = list(set(new))\n",
        "    unique.remove('nan')\n",
        "    return unique"
      ],
      "metadata": {
        "id": "C4TxB5P8tB0p"
      },
      "execution_count": 14,
      "outputs": []
    },
    {
      "cell_type": "code",
      "source": [
        "df['mkb_all_unique'] = df['mkb_all'].apply(mkb_all)"
      ],
      "metadata": {
        "id": "OmiIM4u1_qtO"
      },
      "execution_count": 15,
      "outputs": []
    },
    {
      "cell_type": "code",
      "source": [
        "df['mkb_all_unique'][100]"
      ],
      "metadata": {
        "colab": {
          "base_uri": "https://localhost:8080/"
        },
        "id": "FjiL_5eSAcHe",
        "outputId": "3641f3a0-6872-45f4-c31c-0d2b152a9aa6"
      },
      "execution_count": 16,
      "outputs": [
        {
          "output_type": "execute_result",
          "data": {
            "text/plain": [
              "['H52.1', 'Z00.0']"
            ]
          },
          "metadata": {},
          "execution_count": 16
        }
      ]
    },
    {
      "cell_type": "markdown",
      "source": [
        "## Формирование датасета с заключениями специалистов (Профнепригодность)"
      ],
      "metadata": {
        "id": "Yr2goO1gOSQs"
      }
    },
    {
      "cell_type": "code",
      "source": [
        "# Профнепригодность\n",
        "df_prof = df.filter(regex='Профнепригодность')\n",
        "# df_prof.info()\n",
        "df_prof"
      ],
      "metadata": {
        "colab": {
          "base_uri": "https://localhost:8080/",
          "height": 488
        },
        "id": "xoVE9it9RV2k",
        "outputId": "b96753e9-71d7-4f35-f675-ae28b3e6c100"
      },
      "execution_count": 17,
      "outputs": [
        {
          "output_type": "execute_result",
          "data": {
            "text/plain": [
              "     ПсихиатрияНаркология1_ПрофнепригодностьВременнаяПредставление1  \\\n",
              "0                                                   NaN               \n",
              "1                                                 Годен               \n",
              "2                                                 Годен               \n",
              "3                                                   NaN               \n",
              "4                                                   NaN               \n",
              "...                                                 ...               \n",
              "1566                                              Годен               \n",
              "1567                                              Годен               \n",
              "1568                                              Годен               \n",
              "1569                                              Годен               \n",
              "1570                                              Годен               \n",
              "\n",
              "     Офтальмология1_ПрофнепригодностьВременнаяПредставление1  \\\n",
              "0                                                   NaN        \n",
              "1                                                 Годен        \n",
              "2                                                 Годен        \n",
              "3                                                 Годен        \n",
              "4                                                 Годен        \n",
              "...                                                 ...        \n",
              "1566                                              Годен        \n",
              "1567                                                NaN        \n",
              "1568                                              Годен        \n",
              "1569                                              Годен        \n",
              "1570                                                NaN        \n",
              "\n",
              "     Оториноларингология1_ПрофнепригодностьВременнаяПредставление1  \\\n",
              "0                                                   NaN              \n",
              "1                                                   NaN              \n",
              "2                                                   NaN              \n",
              "3                                                 Годен              \n",
              "4                                                 Годен              \n",
              "...                                                 ...              \n",
              "1566                                              Годен              \n",
              "1567                                              Годен              \n",
              "1568                                              Годен              \n",
              "1569                                              Годен              \n",
              "1570                                              Годен              \n",
              "\n",
              "     ХирургНеИсп1_ПрофнепригодностьВременнаяПредставление1  \\\n",
              "0                                                   NaN      \n",
              "1                                                   NaN      \n",
              "2                                                   NaN      \n",
              "3                                                 Годен      \n",
              "4                                                   NaN      \n",
              "...                                                 ...      \n",
              "1566                                                NaN      \n",
              "1567                                                NaN      \n",
              "1568                                                NaN      \n",
              "1569                                                NaN      \n",
              "1570                                                NaN      \n",
              "\n",
              "     Гинекология1_ПрофнепригодностьВременнаяПредставление1  \\\n",
              "0                                                 Годен      \n",
              "1                                                   NaN      \n",
              "2                                                   NaN      \n",
              "3                                                   NaN      \n",
              "4                                                   NaN      \n",
              "...                                                 ...      \n",
              "1566                                                NaN      \n",
              "1567                                                NaN      \n",
              "1568                                                NaN      \n",
              "1569                                                NaN      \n",
              "1570                                                NaN      \n",
              "\n",
              "     Стоматология1_ПрофнепригодностьВременнаяПредставление1  \\\n",
              "0                                                   NaN       \n",
              "1                                                   NaN       \n",
              "2                                                   NaN       \n",
              "3                                                 Годен       \n",
              "4                                                 Годен       \n",
              "...                                                 ...       \n",
              "1566                                                NaN       \n",
              "1567                                                NaN       \n",
              "1568                                                NaN       \n",
              "1569                                                NaN       \n",
              "1570                                              Годен       \n",
              "\n",
              "     Дерматовенерология1_ПрофнепригодностьВременнаяПредставление1  \\\n",
              "0                                                   NaN             \n",
              "1                                                 Годен             \n",
              "2                                                 Годен             \n",
              "3                                                   NaN             \n",
              "4                                                   NaN             \n",
              "...                                                 ...             \n",
              "1566                                                NaN             \n",
              "1567                                                NaN             \n",
              "1568                                                NaN             \n",
              "1569                                                NaN             \n",
              "1570                                                NaN             \n",
              "\n",
              "     Рентгенология1_ПрофнепригодностьВременнаяПредставление1  \\\n",
              "0                                                   NaN        \n",
              "1                                                   NaN        \n",
              "2                                                   NaN        \n",
              "3                                                   NaN        \n",
              "4                                                   NaN        \n",
              "...                                                 ...        \n",
              "1566                                                NaN        \n",
              "1567                                                NaN        \n",
              "1568                                                NaN        \n",
              "1569                                                NaN        \n",
              "1570                                                NaN        \n",
              "\n",
              "     Неврология1_ПрофнепригодностьВременнаяПредставление1  \\\n",
              "0                                                   NaN     \n",
              "1                                                 Годен     \n",
              "2                                                   NaN     \n",
              "3                                                 Годен     \n",
              "4                                                 Годен     \n",
              "...                                                 ...     \n",
              "1566                                              Годен     \n",
              "1567                                              Годен     \n",
              "1568                                              Годен     \n",
              "1569                                              Годен     \n",
              "1570                                              Годен     \n",
              "\n",
              "     Терапия1_ПрофнепригодностьВременнаяПредставление1  ...  \\\n",
              "0                                                  NaN  ...   \n",
              "1                                                Годен  ...   \n",
              "2                                                Годен  ...   \n",
              "3                                                Годен  ...   \n",
              "4                                                Годен  ...   \n",
              "...                                                ...  ...   \n",
              "1566                                             Годен  ...   \n",
              "1567                                             Годен  ...   \n",
              "1568                                             Годен  ...   \n",
              "1569                                             Годен  ...   \n",
              "1570                                             Годен  ...   \n",
              "\n",
              "     Психиатрия1_ПрофнепригодностьВременнаяПредставление2  \\\n",
              "0                                                   NaN     \n",
              "1                                                   NaN     \n",
              "2                                                   NaN     \n",
              "3                                                   NaN     \n",
              "4                                                   NaN     \n",
              "...                                                 ...     \n",
              "1566                                                NaN     \n",
              "1567                                                NaN     \n",
              "1568                                                NaN     \n",
              "1569                                                NaN     \n",
              "1570                                                NaN     \n",
              "\n",
              "     Психиатрия2_ПрофнепригодностьВременнаяПредставление1  \\\n",
              "0                                                   NaN     \n",
              "1                                                   NaN     \n",
              "2                                                   NaN     \n",
              "3                                                   NaN     \n",
              "4                                                   NaN     \n",
              "...                                                 ...     \n",
              "1566                                                NaN     \n",
              "1567                                                NaN     \n",
              "1568                                                NaN     \n",
              "1569                                                NaN     \n",
              "1570                                                NaN     \n",
              "\n",
              "     Психиатрия2_ПрофнепригодностьВременнаяПредставление2  \\\n",
              "0                                                   NaN     \n",
              "1                                                   NaN     \n",
              "2                                                   NaN     \n",
              "3                                                   NaN     \n",
              "4                                                   NaN     \n",
              "...                                                 ...     \n",
              "1566                                                NaN     \n",
              "1567                                                NaN     \n",
              "1568                                                NaN     \n",
              "1569                                                NaN     \n",
              "1570                                                NaN     \n",
              "\n",
              "     Рентгенология1_ПрофнепригодностьВременнаяПредставление2  \\\n",
              "0                                                   NaN        \n",
              "1                                                   NaN        \n",
              "2                                                   NaN        \n",
              "3                                                   NaN        \n",
              "4                                                   NaN        \n",
              "...                                                 ...        \n",
              "1566                                                NaN        \n",
              "1567                                                NaN        \n",
              "1568                                                NaN        \n",
              "1569                                                NaN        \n",
              "1570                                                NaN        \n",
              "\n",
              "     Рентгенология2_ПрофнепригодностьВременнаяПредставление2  \\\n",
              "0                                                   NaN        \n",
              "1                                                   NaN        \n",
              "2                                                   NaN        \n",
              "3                                                   NaN        \n",
              "4                                                   NaN        \n",
              "...                                                 ...        \n",
              "1566                                                NaN        \n",
              "1567                                                NaN        \n",
              "1568                                                NaN        \n",
              "1569                                                NaN        \n",
              "1570                                                NaN        \n",
              "\n",
              "     Психиатрия3_ПрофнепригодностьВременнаяПредставление1  \\\n",
              "0                                                   NaN     \n",
              "1                                                   NaN     \n",
              "2                                                   NaN     \n",
              "3                                                   NaN     \n",
              "4                                                   NaN     \n",
              "...                                                 ...     \n",
              "1566                                                NaN     \n",
              "1567                                                NaN     \n",
              "1568                                                NaN     \n",
              "1569                                                NaN     \n",
              "1570                                                NaN     \n",
              "\n",
              "     Психиатрия3_ПрофнепригодностьВременнаяПредставление2  \\\n",
              "0                                                   NaN     \n",
              "1                                                   NaN     \n",
              "2                                                   NaN     \n",
              "3                                                   NaN     \n",
              "4                                                   NaN     \n",
              "...                                                 ...     \n",
              "1566                                                NaN     \n",
              "1567                                                NaN     \n",
              "1568                                                NaN     \n",
              "1569                                                NaN     \n",
              "1570                                                NaN     \n",
              "\n",
              "     Психиатрия4_ПрофнепригодностьВременнаяПредставление1  \\\n",
              "0                                                   NaN     \n",
              "1                                                   NaN     \n",
              "2                                                   NaN     \n",
              "3                                                   NaN     \n",
              "4                                                   NaN     \n",
              "...                                                 ...     \n",
              "1566                                                NaN     \n",
              "1567                                                NaN     \n",
              "1568                                                NaN     \n",
              "1569                                                NaN     \n",
              "1570                                                NaN     \n",
              "\n",
              "     Психиатрия4_ПрофнепригодностьВременнаяПредставление2  \\\n",
              "0                                                   NaN     \n",
              "1                                                   NaN     \n",
              "2                                                   NaN     \n",
              "3                                                   NaN     \n",
              "4                                                   NaN     \n",
              "...                                                 ...     \n",
              "1566                                                NaN     \n",
              "1567                                                NaN     \n",
              "1568                                                NaN     \n",
              "1569                                                NaN     \n",
              "1570                                                NaN     \n",
              "\n",
              "     Оториноларингология3_ПрофнепригодностьВременнаяПредставление1  \n",
              "0                                                   NaN             \n",
              "1                                                   NaN             \n",
              "2                                                   NaN             \n",
              "3                                                   NaN             \n",
              "4                                                   NaN             \n",
              "...                                                 ...             \n",
              "1566                                                NaN             \n",
              "1567                                                NaN             \n",
              "1568                                                NaN             \n",
              "1569                                                NaN             \n",
              "1570                                                NaN             \n",
              "\n",
              "[1571 rows x 79 columns]"
            ],
            "text/html": [
              "\n",
              "  <div id=\"df-b0aa07f8-f483-4d2b-85ec-b7adb210e575\">\n",
              "    <div class=\"colab-df-container\">\n",
              "      <div>\n",
              "<style scoped>\n",
              "    .dataframe tbody tr th:only-of-type {\n",
              "        vertical-align: middle;\n",
              "    }\n",
              "\n",
              "    .dataframe tbody tr th {\n",
              "        vertical-align: top;\n",
              "    }\n",
              "\n",
              "    .dataframe thead th {\n",
              "        text-align: right;\n",
              "    }\n",
              "</style>\n",
              "<table border=\"1\" class=\"dataframe\">\n",
              "  <thead>\n",
              "    <tr style=\"text-align: right;\">\n",
              "      <th></th>\n",
              "      <th>ПсихиатрияНаркология1_ПрофнепригодностьВременнаяПредставление1</th>\n",
              "      <th>Офтальмология1_ПрофнепригодностьВременнаяПредставление1</th>\n",
              "      <th>Оториноларингология1_ПрофнепригодностьВременнаяПредставление1</th>\n",
              "      <th>ХирургНеИсп1_ПрофнепригодностьВременнаяПредставление1</th>\n",
              "      <th>Гинекология1_ПрофнепригодностьВременнаяПредставление1</th>\n",
              "      <th>Стоматология1_ПрофнепригодностьВременнаяПредставление1</th>\n",
              "      <th>Дерматовенерология1_ПрофнепригодностьВременнаяПредставление1</th>\n",
              "      <th>Рентгенология1_ПрофнепригодностьВременнаяПредставление1</th>\n",
              "      <th>Неврология1_ПрофнепригодностьВременнаяПредставление1</th>\n",
              "      <th>Терапия1_ПрофнепригодностьВременнаяПредставление1</th>\n",
              "      <th>...</th>\n",
              "      <th>Психиатрия1_ПрофнепригодностьВременнаяПредставление2</th>\n",
              "      <th>Психиатрия2_ПрофнепригодностьВременнаяПредставление1</th>\n",
              "      <th>Психиатрия2_ПрофнепригодностьВременнаяПредставление2</th>\n",
              "      <th>Рентгенология1_ПрофнепригодностьВременнаяПредставление2</th>\n",
              "      <th>Рентгенология2_ПрофнепригодностьВременнаяПредставление2</th>\n",
              "      <th>Психиатрия3_ПрофнепригодностьВременнаяПредставление1</th>\n",
              "      <th>Психиатрия3_ПрофнепригодностьВременнаяПредставление2</th>\n",
              "      <th>Психиатрия4_ПрофнепригодностьВременнаяПредставление1</th>\n",
              "      <th>Психиатрия4_ПрофнепригодностьВременнаяПредставление2</th>\n",
              "      <th>Оториноларингология3_ПрофнепригодностьВременнаяПредставление1</th>\n",
              "    </tr>\n",
              "  </thead>\n",
              "  <tbody>\n",
              "    <tr>\n",
              "      <th>0</th>\n",
              "      <td>NaN</td>\n",
              "      <td>NaN</td>\n",
              "      <td>NaN</td>\n",
              "      <td>NaN</td>\n",
              "      <td>Годен</td>\n",
              "      <td>NaN</td>\n",
              "      <td>NaN</td>\n",
              "      <td>NaN</td>\n",
              "      <td>NaN</td>\n",
              "      <td>NaN</td>\n",
              "      <td>...</td>\n",
              "      <td>NaN</td>\n",
              "      <td>NaN</td>\n",
              "      <td>NaN</td>\n",
              "      <td>NaN</td>\n",
              "      <td>NaN</td>\n",
              "      <td>NaN</td>\n",
              "      <td>NaN</td>\n",
              "      <td>NaN</td>\n",
              "      <td>NaN</td>\n",
              "      <td>NaN</td>\n",
              "    </tr>\n",
              "    <tr>\n",
              "      <th>1</th>\n",
              "      <td>Годен</td>\n",
              "      <td>Годен</td>\n",
              "      <td>NaN</td>\n",
              "      <td>NaN</td>\n",
              "      <td>NaN</td>\n",
              "      <td>NaN</td>\n",
              "      <td>Годен</td>\n",
              "      <td>NaN</td>\n",
              "      <td>Годен</td>\n",
              "      <td>Годен</td>\n",
              "      <td>...</td>\n",
              "      <td>NaN</td>\n",
              "      <td>NaN</td>\n",
              "      <td>NaN</td>\n",
              "      <td>NaN</td>\n",
              "      <td>NaN</td>\n",
              "      <td>NaN</td>\n",
              "      <td>NaN</td>\n",
              "      <td>NaN</td>\n",
              "      <td>NaN</td>\n",
              "      <td>NaN</td>\n",
              "    </tr>\n",
              "    <tr>\n",
              "      <th>2</th>\n",
              "      <td>Годен</td>\n",
              "      <td>Годен</td>\n",
              "      <td>NaN</td>\n",
              "      <td>NaN</td>\n",
              "      <td>NaN</td>\n",
              "      <td>NaN</td>\n",
              "      <td>Годен</td>\n",
              "      <td>NaN</td>\n",
              "      <td>NaN</td>\n",
              "      <td>Годен</td>\n",
              "      <td>...</td>\n",
              "      <td>NaN</td>\n",
              "      <td>NaN</td>\n",
              "      <td>NaN</td>\n",
              "      <td>NaN</td>\n",
              "      <td>NaN</td>\n",
              "      <td>NaN</td>\n",
              "      <td>NaN</td>\n",
              "      <td>NaN</td>\n",
              "      <td>NaN</td>\n",
              "      <td>NaN</td>\n",
              "    </tr>\n",
              "    <tr>\n",
              "      <th>3</th>\n",
              "      <td>NaN</td>\n",
              "      <td>Годен</td>\n",
              "      <td>Годен</td>\n",
              "      <td>Годен</td>\n",
              "      <td>NaN</td>\n",
              "      <td>Годен</td>\n",
              "      <td>NaN</td>\n",
              "      <td>NaN</td>\n",
              "      <td>Годен</td>\n",
              "      <td>Годен</td>\n",
              "      <td>...</td>\n",
              "      <td>NaN</td>\n",
              "      <td>NaN</td>\n",
              "      <td>NaN</td>\n",
              "      <td>NaN</td>\n",
              "      <td>NaN</td>\n",
              "      <td>NaN</td>\n",
              "      <td>NaN</td>\n",
              "      <td>NaN</td>\n",
              "      <td>NaN</td>\n",
              "      <td>NaN</td>\n",
              "    </tr>\n",
              "    <tr>\n",
              "      <th>4</th>\n",
              "      <td>NaN</td>\n",
              "      <td>Годен</td>\n",
              "      <td>Годен</td>\n",
              "      <td>NaN</td>\n",
              "      <td>NaN</td>\n",
              "      <td>Годен</td>\n",
              "      <td>NaN</td>\n",
              "      <td>NaN</td>\n",
              "      <td>Годен</td>\n",
              "      <td>Годен</td>\n",
              "      <td>...</td>\n",
              "      <td>NaN</td>\n",
              "      <td>NaN</td>\n",
              "      <td>NaN</td>\n",
              "      <td>NaN</td>\n",
              "      <td>NaN</td>\n",
              "      <td>NaN</td>\n",
              "      <td>NaN</td>\n",
              "      <td>NaN</td>\n",
              "      <td>NaN</td>\n",
              "      <td>NaN</td>\n",
              "    </tr>\n",
              "    <tr>\n",
              "      <th>...</th>\n",
              "      <td>...</td>\n",
              "      <td>...</td>\n",
              "      <td>...</td>\n",
              "      <td>...</td>\n",
              "      <td>...</td>\n",
              "      <td>...</td>\n",
              "      <td>...</td>\n",
              "      <td>...</td>\n",
              "      <td>...</td>\n",
              "      <td>...</td>\n",
              "      <td>...</td>\n",
              "      <td>...</td>\n",
              "      <td>...</td>\n",
              "      <td>...</td>\n",
              "      <td>...</td>\n",
              "      <td>...</td>\n",
              "      <td>...</td>\n",
              "      <td>...</td>\n",
              "      <td>...</td>\n",
              "      <td>...</td>\n",
              "      <td>...</td>\n",
              "    </tr>\n",
              "    <tr>\n",
              "      <th>1566</th>\n",
              "      <td>Годен</td>\n",
              "      <td>Годен</td>\n",
              "      <td>Годен</td>\n",
              "      <td>NaN</td>\n",
              "      <td>NaN</td>\n",
              "      <td>NaN</td>\n",
              "      <td>NaN</td>\n",
              "      <td>NaN</td>\n",
              "      <td>Годен</td>\n",
              "      <td>Годен</td>\n",
              "      <td>...</td>\n",
              "      <td>NaN</td>\n",
              "      <td>NaN</td>\n",
              "      <td>NaN</td>\n",
              "      <td>NaN</td>\n",
              "      <td>NaN</td>\n",
              "      <td>NaN</td>\n",
              "      <td>NaN</td>\n",
              "      <td>NaN</td>\n",
              "      <td>NaN</td>\n",
              "      <td>NaN</td>\n",
              "    </tr>\n",
              "    <tr>\n",
              "      <th>1567</th>\n",
              "      <td>Годен</td>\n",
              "      <td>NaN</td>\n",
              "      <td>Годен</td>\n",
              "      <td>NaN</td>\n",
              "      <td>NaN</td>\n",
              "      <td>NaN</td>\n",
              "      <td>NaN</td>\n",
              "      <td>NaN</td>\n",
              "      <td>Годен</td>\n",
              "      <td>Годен</td>\n",
              "      <td>...</td>\n",
              "      <td>NaN</td>\n",
              "      <td>NaN</td>\n",
              "      <td>NaN</td>\n",
              "      <td>NaN</td>\n",
              "      <td>NaN</td>\n",
              "      <td>NaN</td>\n",
              "      <td>NaN</td>\n",
              "      <td>NaN</td>\n",
              "      <td>NaN</td>\n",
              "      <td>NaN</td>\n",
              "    </tr>\n",
              "    <tr>\n",
              "      <th>1568</th>\n",
              "      <td>Годен</td>\n",
              "      <td>Годен</td>\n",
              "      <td>Годен</td>\n",
              "      <td>NaN</td>\n",
              "      <td>NaN</td>\n",
              "      <td>NaN</td>\n",
              "      <td>NaN</td>\n",
              "      <td>NaN</td>\n",
              "      <td>Годен</td>\n",
              "      <td>Годен</td>\n",
              "      <td>...</td>\n",
              "      <td>NaN</td>\n",
              "      <td>NaN</td>\n",
              "      <td>NaN</td>\n",
              "      <td>NaN</td>\n",
              "      <td>NaN</td>\n",
              "      <td>NaN</td>\n",
              "      <td>NaN</td>\n",
              "      <td>NaN</td>\n",
              "      <td>NaN</td>\n",
              "      <td>NaN</td>\n",
              "    </tr>\n",
              "    <tr>\n",
              "      <th>1569</th>\n",
              "      <td>Годен</td>\n",
              "      <td>Годен</td>\n",
              "      <td>Годен</td>\n",
              "      <td>NaN</td>\n",
              "      <td>NaN</td>\n",
              "      <td>NaN</td>\n",
              "      <td>NaN</td>\n",
              "      <td>NaN</td>\n",
              "      <td>Годен</td>\n",
              "      <td>Годен</td>\n",
              "      <td>...</td>\n",
              "      <td>NaN</td>\n",
              "      <td>NaN</td>\n",
              "      <td>NaN</td>\n",
              "      <td>NaN</td>\n",
              "      <td>NaN</td>\n",
              "      <td>NaN</td>\n",
              "      <td>NaN</td>\n",
              "      <td>NaN</td>\n",
              "      <td>NaN</td>\n",
              "      <td>NaN</td>\n",
              "    </tr>\n",
              "    <tr>\n",
              "      <th>1570</th>\n",
              "      <td>Годен</td>\n",
              "      <td>NaN</td>\n",
              "      <td>Годен</td>\n",
              "      <td>NaN</td>\n",
              "      <td>NaN</td>\n",
              "      <td>Годен</td>\n",
              "      <td>NaN</td>\n",
              "      <td>NaN</td>\n",
              "      <td>Годен</td>\n",
              "      <td>Годен</td>\n",
              "      <td>...</td>\n",
              "      <td>NaN</td>\n",
              "      <td>NaN</td>\n",
              "      <td>NaN</td>\n",
              "      <td>NaN</td>\n",
              "      <td>NaN</td>\n",
              "      <td>NaN</td>\n",
              "      <td>NaN</td>\n",
              "      <td>NaN</td>\n",
              "      <td>NaN</td>\n",
              "      <td>NaN</td>\n",
              "    </tr>\n",
              "  </tbody>\n",
              "</table>\n",
              "<p>1571 rows × 79 columns</p>\n",
              "</div>\n",
              "      <button class=\"colab-df-convert\" onclick=\"convertToInteractive('df-b0aa07f8-f483-4d2b-85ec-b7adb210e575')\"\n",
              "              title=\"Convert this dataframe to an interactive table.\"\n",
              "              style=\"display:none;\">\n",
              "        \n",
              "  <svg xmlns=\"http://www.w3.org/2000/svg\" height=\"24px\"viewBox=\"0 0 24 24\"\n",
              "       width=\"24px\">\n",
              "    <path d=\"M0 0h24v24H0V0z\" fill=\"none\"/>\n",
              "    <path d=\"M18.56 5.44l.94 2.06.94-2.06 2.06-.94-2.06-.94-.94-2.06-.94 2.06-2.06.94zm-11 1L8.5 8.5l.94-2.06 2.06-.94-2.06-.94L8.5 2.5l-.94 2.06-2.06.94zm10 10l.94 2.06.94-2.06 2.06-.94-2.06-.94-.94-2.06-.94 2.06-2.06.94z\"/><path d=\"M17.41 7.96l-1.37-1.37c-.4-.4-.92-.59-1.43-.59-.52 0-1.04.2-1.43.59L10.3 9.45l-7.72 7.72c-.78.78-.78 2.05 0 2.83L4 21.41c.39.39.9.59 1.41.59.51 0 1.02-.2 1.41-.59l7.78-7.78 2.81-2.81c.8-.78.8-2.07 0-2.86zM5.41 20L4 18.59l7.72-7.72 1.47 1.35L5.41 20z\"/>\n",
              "  </svg>\n",
              "      </button>\n",
              "      \n",
              "  <style>\n",
              "    .colab-df-container {\n",
              "      display:flex;\n",
              "      flex-wrap:wrap;\n",
              "      gap: 12px;\n",
              "    }\n",
              "\n",
              "    .colab-df-convert {\n",
              "      background-color: #E8F0FE;\n",
              "      border: none;\n",
              "      border-radius: 50%;\n",
              "      cursor: pointer;\n",
              "      display: none;\n",
              "      fill: #1967D2;\n",
              "      height: 32px;\n",
              "      padding: 0 0 0 0;\n",
              "      width: 32px;\n",
              "    }\n",
              "\n",
              "    .colab-df-convert:hover {\n",
              "      background-color: #E2EBFA;\n",
              "      box-shadow: 0px 1px 2px rgba(60, 64, 67, 0.3), 0px 1px 3px 1px rgba(60, 64, 67, 0.15);\n",
              "      fill: #174EA6;\n",
              "    }\n",
              "\n",
              "    [theme=dark] .colab-df-convert {\n",
              "      background-color: #3B4455;\n",
              "      fill: #D2E3FC;\n",
              "    }\n",
              "\n",
              "    [theme=dark] .colab-df-convert:hover {\n",
              "      background-color: #434B5C;\n",
              "      box-shadow: 0px 1px 3px 1px rgba(0, 0, 0, 0.15);\n",
              "      filter: drop-shadow(0px 1px 2px rgba(0, 0, 0, 0.3));\n",
              "      fill: #FFFFFF;\n",
              "    }\n",
              "  </style>\n",
              "\n",
              "      <script>\n",
              "        const buttonEl =\n",
              "          document.querySelector('#df-b0aa07f8-f483-4d2b-85ec-b7adb210e575 button.colab-df-convert');\n",
              "        buttonEl.style.display =\n",
              "          google.colab.kernel.accessAllowed ? 'block' : 'none';\n",
              "\n",
              "        async function convertToInteractive(key) {\n",
              "          const element = document.querySelector('#df-b0aa07f8-f483-4d2b-85ec-b7adb210e575');\n",
              "          const dataTable =\n",
              "            await google.colab.kernel.invokeFunction('convertToInteractive',\n",
              "                                                     [key], {});\n",
              "          if (!dataTable) return;\n",
              "\n",
              "          const docLinkHtml = 'Like what you see? Visit the ' +\n",
              "            '<a target=\"_blank\" href=https://colab.research.google.com/notebooks/data_table.ipynb>data table notebook</a>'\n",
              "            + ' to learn more about interactive tables.';\n",
              "          element.innerHTML = '';\n",
              "          dataTable['output_type'] = 'display_data';\n",
              "          await google.colab.output.renderOutput(dataTable, element);\n",
              "          const docLink = document.createElement('div');\n",
              "          docLink.innerHTML = docLinkHtml;\n",
              "          element.appendChild(docLink);\n",
              "        }\n",
              "      </script>\n",
              "    </div>\n",
              "  </div>\n",
              "  "
            ]
          },
          "metadata": {},
          "execution_count": 17
        }
      ]
    },
    {
      "cell_type": "markdown",
      "source": [
        "# Формирование справочников и функций для парсинга данных"
      ],
      "metadata": {
        "id": "S3k2XCT7t4wI"
      }
    },
    {
      "cell_type": "markdown",
      "source": [
        "Для универсальности используем токенайзер, во избежание переписывания функций при изменении входных данных (например добавлении или удалении каких-либо параметров) "
      ],
      "metadata": {
        "id": "D01ta5VkuHP7"
      }
    },
    {
      "cell_type": "code",
      "source": [],
      "metadata": {
        "id": "wsIDN8-jEOsG"
      },
      "execution_count": 17,
      "outputs": []
    },
    {
      "cell_type": "code",
      "source": [
        "#@title Справочник 'КлиентПолПредставление'\n",
        "\n",
        "vocabulary_sex = list(df['КлиентПолПредставление'].astype(str).unique())\n",
        "try: \n",
        "    vocabulary_sex.remove('nan')\n",
        "except: \n",
        "    pass\n",
        "print(vocabulary_sex)"
      ],
      "metadata": {
        "colab": {
          "base_uri": "https://localhost:8080/"
        },
        "id": "NB_RDkTauCa1",
        "outputId": "9e147287-a391-4628-d3fb-0ee78beec738"
      },
      "execution_count": 18,
      "outputs": [
        {
          "output_type": "stream",
          "name": "stdout",
          "text": [
            "['Женский', 'Мужской']\n"
          ]
        }
      ]
    },
    {
      "cell_type": "code",
      "source": [
        "#@title Справочник 'ДиспансернаяГруппаПредставление'\n",
        "\n",
        "vocabulary_dispensary = list(df['ДиспансернаяГруппаПредставление'].astype(str).unique())\n",
        "try: \n",
        "    vocabulary_dispensary.remove('nan')\n",
        "except: \n",
        "    pass\n",
        "print(vocabulary_dispensary)"
      ],
      "metadata": {
        "colab": {
          "base_uri": "https://localhost:8080/"
        },
        "id": "fQ-SOOtOCtvg",
        "outputId": "1be24257-f212-4b05-b99d-2439d002b98e"
      },
      "execution_count": 19,
      "outputs": [
        {
          "output_type": "stream",
          "name": "stdout",
          "text": [
            "['I', 'IIIа', 'II', 'IIIб']\n"
          ]
        }
      ]
    },
    {
      "cell_type": "markdown",
      "source": [
        "### Справочник 'ВредныеФакторы'\n",
        "В данном ноутбуке справочник 'ВредныеФакторы' формируется на основе нормативной документации. Далее можно использовать справочник, который используется в клинике."
      ],
      "metadata": {
        "id": "S1L9KUAjf1Tk"
      }
    },
    {
      "cell_type": "code",
      "source": [
        "df_factors = pd.read_csv('/content/drive/MyDrive/NU_files/стажировка/Вредные факторы_справочник - Лист1 - Вредные факторы_справочник - Лист1.csv')\n",
        "df_factors.info()"
      ],
      "metadata": {
        "colab": {
          "base_uri": "https://localhost:8080/"
        },
        "id": "SpbYH37Sc26l",
        "outputId": "bea4f2c5-020c-4e0b-dc59-b2ba3b939cde"
      },
      "execution_count": 20,
      "outputs": [
        {
          "output_type": "stream",
          "name": "stdout",
          "text": [
            "<class 'pandas.core.frame.DataFrame'>\n",
            "RangeIndex: 230 entries, 0 to 229\n",
            "Data columns (total 1 columns):\n",
            " #   Column  Non-Null Count  Dtype \n",
            "---  ------  --------------  ----- \n",
            " 0   1       230 non-null    object\n",
            "dtypes: object(1)\n",
            "memory usage: 1.9+ KB\n"
          ]
        }
      ]
    },
    {
      "cell_type": "code",
      "source": [
        "df_factors['1'][0]"
      ],
      "metadata": {
        "colab": {
          "base_uri": "https://localhost:8080/",
          "height": 36
        },
        "id": "zbCtFFbtfvTK",
        "outputId": "ab70c983-5ab0-4735-c351-232d830f4843"
      },
      "execution_count": 21,
      "outputs": [
        {
          "output_type": "execute_result",
          "data": {
            "text/plain": [
              "'1.1. Азота неорганические соединения (в том числе азота оксиды О1, азота диоксид О).'"
            ],
            "application/vnd.google.colaboratory.intrinsic+json": {
              "type": "string"
            }
          },
          "metadata": {},
          "execution_count": 21
        }
      ]
    },
    {
      "cell_type": "code",
      "source": [
        "def factors_find(arg):\n",
        "    # string = df_factors['1'][200]\n",
        "    factors = re.split(r' ', arg)\n",
        "    \n",
        "    return factors[0][:][:-1]"
      ],
      "metadata": {
        "id": "V1zcxp0shVjE"
      },
      "execution_count": 22,
      "outputs": []
    },
    {
      "cell_type": "code",
      "source": [
        "df_factors['2'] = df_factors['1'].apply(factors_find)\n",
        "df_factors['2'][0]"
      ],
      "metadata": {
        "colab": {
          "base_uri": "https://localhost:8080/",
          "height": 36
        },
        "id": "WuEbiGK3hVdX",
        "outputId": "e5366665-8aaf-4e1d-9e53-7fe202a10078"
      },
      "execution_count": 23,
      "outputs": [
        {
          "output_type": "execute_result",
          "data": {
            "text/plain": [
              "'1.1'"
            ],
            "application/vnd.google.colaboratory.intrinsic+json": {
              "type": "string"
            }
          },
          "metadata": {},
          "execution_count": 23
        }
      ]
    },
    {
      "cell_type": "code",
      "source": [
        "vocabulary_hfactor = df_factors['2'].to_list()\n",
        "print(vocabulary_hfactor[:10], '\\n')\n",
        "print('Длина справочника ВредныеФакторы: ',len(vocabulary_hfactor))"
      ],
      "metadata": {
        "colab": {
          "base_uri": "https://localhost:8080/"
        },
        "id": "XXefwDlZhVYY",
        "outputId": "49a8ff7a-f763-4626-9db9-084718f15d71"
      },
      "execution_count": 24,
      "outputs": [
        {
          "output_type": "stream",
          "name": "stdout",
          "text": [
            "['1.1', '1.2', '1.3', '1.4', '1.5', '1.5.1', '1.6', '1.7', '1.7.1', '1.7.2'] \n",
            "\n",
            "Длина справочника ВредныеФакторы:  230\n"
          ]
        }
      ]
    },
    {
      "cell_type": "markdown",
      "source": [
        "### Справочник 'МКБ'\n",
        "В данном ноутбуке справочник 'МКБ' формируется на основе нормативной документации. Далее можно использовать справочник, который используется в клинике."
      ],
      "metadata": {
        "id": "J1x7pe6pfZv5"
      }
    },
    {
      "cell_type": "code",
      "source": [
        "df_mkb_catalog = pd.read_excel('/content/drive/MyDrive/NU_files/стажировка/spr_mkb10.xls')\n",
        "df_mkb_catalog .info()"
      ],
      "metadata": {
        "id": "xhYa8QN0hhYw",
        "colab": {
          "base_uri": "https://localhost:8080/"
        },
        "outputId": "3bc6f087-3b24-4f27-c4e9-35afee40ff72"
      },
      "execution_count": 25,
      "outputs": [
        {
          "output_type": "stream",
          "name": "stdout",
          "text": [
            "<class 'pandas.core.frame.DataFrame'>\n",
            "RangeIndex: 12941 entries, 0 to 12940\n",
            "Data columns (total 3 columns):\n",
            " #   Column    Non-Null Count  Dtype \n",
            "---  ------    --------------  ----- \n",
            " 0   mkb_cod   12941 non-null  object\n",
            " 1   mkb_name  12941 non-null  object\n",
            " 2   class_id  12941 non-null  int64 \n",
            "dtypes: int64(1), object(2)\n",
            "memory usage: 303.4+ KB\n"
          ]
        }
      ]
    },
    {
      "cell_type": "code",
      "source": [
        "df_mkb_catalog['mkb_cod'][:5]"
      ],
      "metadata": {
        "colab": {
          "base_uri": "https://localhost:8080/"
        },
        "id": "Yzyf7Udif0fe",
        "outputId": "c391e5a3-7cc3-43c2-8a82-c72ba3c5dd99"
      },
      "execution_count": 26,
      "outputs": [
        {
          "output_type": "execute_result",
          "data": {
            "text/plain": [
              "0      A00\n",
              "1    A00.0\n",
              "2    A00.1\n",
              "3    A00.9\n",
              "4      A01\n",
              "Name: mkb_cod, dtype: object"
            ]
          },
          "metadata": {},
          "execution_count": 26
        }
      ]
    },
    {
      "cell_type": "code",
      "source": [
        "vocabulary_mkb = df_mkb_catalog['mkb_cod'].to_list()\n",
        "print(vocabulary_mkb[:10], '\\n')\n",
        "print('Длина справочника МКБ: ',len(vocabulary_mkb))"
      ],
      "metadata": {
        "colab": {
          "base_uri": "https://localhost:8080/"
        },
        "id": "18Rszqhvf0Z_",
        "outputId": "1aa7a272-62c6-4463-cece-7ac97eda5072"
      },
      "execution_count": 27,
      "outputs": [
        {
          "output_type": "stream",
          "name": "stdout",
          "text": [
            "['A00', 'A00.0', 'A00.1', 'A00.9', 'A01', 'A01.0', 'A01.1', 'A01.2', 'A01.3', 'A01.4'] \n",
            "\n",
            "Длина справочника МКБ:  12941\n"
          ]
        }
      ]
    },
    {
      "cell_type": "markdown",
      "source": [
        "### Справочник для векторизации"
      ],
      "metadata": {
        "id": "wjX_O2ABCfoj"
      }
    },
    {
      "cell_type": "code",
      "source": [
        "vocabulary = vocabulary_sex + vocabulary_dispensary + vocabulary_hfactor + vocabulary_mkb\n",
        "\n",
        "print(vocabulary[:10])\n",
        "print(vocabulary[230:240])\n",
        "print('Длина общего справочника: ',len(vocabulary))\n"
      ],
      "metadata": {
        "colab": {
          "base_uri": "https://localhost:8080/"
        },
        "id": "MEM1GkjigbeB",
        "outputId": "a767fec9-c589-4652-f983-d127d59ba43a"
      },
      "execution_count": 28,
      "outputs": [
        {
          "output_type": "stream",
          "name": "stdout",
          "text": [
            "['Женский', 'Мужской', 'I', 'IIIа', 'II', 'IIIб', '1.1', '1.2', '1.3', '1.4']\n",
            "['22', '23', '24', '25', '26', '27', 'A00', 'A00.0', 'A00.1', 'A00.9']\n",
            "Длина общего справочника:  13177\n"
          ]
        }
      ]
    },
    {
      "cell_type": "markdown",
      "source": [
        "## Tokenizer"
      ],
      "metadata": {
        "id": "Im6aoKgFc-zU"
      }
    },
    {
      "cell_type": "code",
      "source": [
        "max_tokens = len(vocabulary)+1\n",
        "tokenizer = Tokenizer(num_words=max_tokens, \n",
        "                             filters='!\"#$%&()*+-–—/…:;<=>?@[\\\\]^_`{|}~«»\\t\\n\\xa0\\ufeff', \n",
        "                             lower=False, \n",
        "                             split=',', \n",
        "                             oov_token='unknown', \n",
        "                             char_level=False)\n",
        "\n",
        "\n",
        "tokenizer.fit_on_texts(vocabulary)"
      ],
      "metadata": {
        "id": "1FRs689TuTQa"
      },
      "execution_count": 62,
      "outputs": []
    },
    {
      "cell_type": "code",
      "source": [
        "print(tokenizer.word_index)"
      ],
      "metadata": {
        "colab": {
          "base_uri": "https://localhost:8080/"
        },
        "id": "yFo0hD4WuUVn",
        "outputId": "10f2963a-f52f-42da-f61d-4b9cf7ca07aa"
      },
      "execution_count": 63,
      "outputs": [
        {
          "output_type": "stream",
          "name": "stdout",
          "text": [
            "{'unknown': 1, 'Женский': 2, 'Мужской': 3, 'I': 4, 'IIIа': 5, 'II': 6, 'IIIб': 7, '1.1': 8, '1.2': 9, '1.3': 10, '1.4': 11, '1.5': 12, '1.5.1': 13, '1.6': 14, '1.7': 15, '1.7.1': 16, '1.7.2': 17, '1.8': 18, '1.8.1': 19, '1.8.1.1': 20, '1.8.1.2': 21, '1.8.2': 22, '1.8.2.1': 23, '1.8.2.2': 24, '1.8.3': 25, '1.8.3.1': 26, '1.8.3.2': 27, '1.8.4': 28, '1.8.4.1': 29, '1.8.4.2': 30, '1.9': 31, '1.10': 32, '1.11': 33, '1.12': 34, '1.13': 35, '1.14': 36, '1.14.1': 37, '1.14.2': 38, '1.15': 39, '1.15.1': 40, '1.16': 41, '1.17': 42, '1.18': 43, '1.18.1': 44, '1.18.2': 45, '1.18.3': 46, '1.19': 47, '1.19.1': 48, '1.19.2': 49, '1.19.3': 50, '1.20': 51, '1.21': 52, '1.22': 53, '1.23': 54, '1.24': 55, '1.25': 56, '1.26': 57, '1.27': 58, '1.27.1': 59, '1.27.2': 60, '1.28': 61, '1.29': 62, '1.29.1': 63, '1.29.2': 64, '1.29.3': 65, '1.29.4': 66, '1.29.5': 67, '1.30': 68, '1.30.1': 69, '1.31': 70, '1.32': 71, '1.33': 72, '1.34': 73, '1.34.1': 74, '1.34.2': 75, '1.35': 76, '1.36': 77, '1.36.1': 78, '1.36.2': 79, '1.36.3': 80, '1.37': 81, '1.37.1': 82, '1.37.1.1': 83, '1.37.1.2': 84, '1.37.2': 85, '1.38': 86, '1.39': 87, '1.40': 88, '1.40.1': 89, '1.40.2': 90, '1.41': 91, '1.42': 92, '1.43': 93, '1.43.1': 94, '1.43.2': 95, '1.44': 96, '1.45': 97, '1.45.1': 98, '1.45.2': 99, '1.45.3': 100, '1.46': 101, '1.47': 102, '1.47.1': 103, '1.47.2': 104, '1.47.3': 105, '1.47.4': 106, '1.47.5': 107, '1.47.6': 108, '1.47.7': 109, '1.47.8': 110, '1.47.9': 111, '1.47.10': 112, '1.47.11': 113, '1.47.12': 114, '1.47.13': 115, '1.47.14': 116, '1.47.15': 117, '1.47.16': 118, '1.48': 119, '1.49': 120, '1.49.1': 121, '1.49.2': 122, '1.49.3': 123, '1.49.4': 124, '1.49.5': 125, '1.49.6': 126, '1.49.7': 127, '1.49.8': 128, '1.49.9': 129, '1.49.10': 130, '1.49.11': 131, '1.49.12': 132, '1.49.13': 133, '1.49.14': 134, '1.50': 135, '1.51': 136, '1.51.1': 137, '1.51.2': 138, '1.52': 139, '1.52.1': 140, '1.52.2': 141, '1.52.3': 142, '1.52.4': 143, '1.52.5': 144, '1.52.6': 145, '1.52.7': 146, '1.53': 147, '1.53.1': 148, '1.53.2': 149, '2.1': 150, '2.2': 151, '2.3': 152, '2.4': 153, '2.4.1': 154, '2.4.2': 155, '2.4.3': 156, '2.4.4': 157, '2.4.5': 158, '3.1': 159, '3.1.1': 160, '3.1.2': 161, '3.1.3': 162, '3.1.4': 163, '3.1.5': 164, '3.1.6': 165, '3.1.7': 166, '3.1.8': 167, '3.1.8.1': 168, '3.1.8.2': 169, '3.1.8.3': 170, '3.1.9': 171, '3.1.9.1': 172, '3.1.9.2': 173, '3.1.9.3': 174, '3.1.9.4': 175, '3.1.10': 176, '3.2': 177, '3.3': 178, '3.4': 179, '4.1': 180, '4.2': 181, '4.2.1': 182, '4.2.2': 183, '4.2.3': 184, '4.2.4': 185, '4.2.5': 186, '4.3': 187, '4.3.1': 188, '4.3.2': 189, '4.4': 190, '4.5': 191, '4.6': 192, '4.7': 193, '4.8': 194, '4.9': 195, '4.10': 196, '5.1': 197, '5.1.1': 198, '5.1.2': 199, '5.1.3': 200, '5.1.4': 201, '5.2': 202, '5.2.1': 203, '5.2.2': 204, '6': 205, '6.1': 206, '6.2': 207, '7': 208, '8': 209, '9': 210, '10': 211, '11': 212, '11.1': 213, '11.2': 214, '11.3': 215, '11.4': 216, '12': 217, '13': 218, '14': 219, '15': 220, '16': 221, '17': 222, '18': 223, '18.1': 224, '18.2': 225, '19': 226, '19.1': 227, '19.2': 228, '19.3': 229, '20': 230, '21': 231, '22': 232, '23': 233, '24': 234, '25': 235, '26': 236, '27': 237, 'A00': 238, 'A00.0': 239, 'A00.1': 240, 'A00.9': 241, 'A01': 242, 'A01.0': 243, 'A01.1': 244, 'A01.2': 245, 'A01.3': 246, 'A01.4': 247, 'A02': 248, 'A02.0': 249, 'A02.1': 250, 'A02.2': 251, 'A02.8': 252, 'A02.9': 253, 'A03': 254, 'A03.0': 255, 'A03.1': 256, 'A03.2': 257, 'A03.3': 258, 'A03.8': 259, 'A03.9': 260, 'A04': 261, 'A04.0': 262, 'A04.1': 263, 'A04.2': 264, 'A04.3': 265, 'A04.4': 266, 'A04.5': 267, 'A04.6': 268, 'A04.7': 269, 'A04.8': 270, 'A04.9': 271, 'A05': 272, 'A05.0': 273, 'A05.1': 274, 'A05.2': 275, 'A05.3': 276, 'A05.4': 277, 'A05.8': 278, 'A05.9': 279, 'A06': 280, 'A06.0': 281, 'A06.1': 282, 'A06.2': 283, 'A06.3': 284, 'A06.4': 285, 'A06.5': 286, 'A06.6': 287, 'A06.7': 288, 'A06.8': 289, 'A06.9': 290, 'A07': 291, 'A07.0': 292, 'A07.1': 293, 'A07.2': 294, 'A07.3': 295, 'A07.8': 296, 'A07.9': 297, 'A08': 298, 'A08.0': 299, 'A08.1': 300, 'A08.2': 301, 'A08.3': 302, 'A08.4': 303, 'A08.5': 304, 'A09': 305, 'A09.9': 306, 'A15': 307, 'A15.0': 308, 'A15.1': 309, 'A15.2': 310, 'A15.3': 311, 'A15.4': 312, 'A15.5': 313, 'A15.6': 314, 'A15.7': 315, 'A15.8': 316, 'A15.9': 317, 'A16': 318, 'A16.0': 319, 'A16.1': 320, 'A16.2': 321, 'A16.3': 322, 'A16.4': 323, 'A16.5': 324, 'A16.7': 325, 'A16.8': 326, 'A16.9': 327, 'A17': 328, 'A17.0': 329, 'A17.1': 330, 'A17.8': 331, 'A17.9': 332, 'A18': 333, 'A18.0': 334, 'A18.1': 335, 'A18.2': 336, 'A18.3': 337, 'A18.4': 338, 'A18.5': 339, 'A18.6': 340, 'A18.7': 341, 'A18.8': 342, 'A19': 343, 'A19.0': 344, 'A19.1': 345, 'A19.2': 346, 'A19.8': 347, 'A19.9': 348, 'A20': 349, 'A20.0': 350, 'A20.1': 351, 'A20.2': 352, 'A20.3': 353, 'A20.7': 354, 'A20.8': 355, 'A20.9': 356, 'A21': 357, 'A21.0': 358, 'A21.1': 359, 'A21.2': 360, 'A21.3': 361, 'A21.7': 362, 'A21.8': 363, 'A21.9': 364, 'A22': 365, 'A22.0': 366, 'A22.1': 367, 'A22.2': 368, 'A22.7': 369, 'A22.8': 370, 'A22.9': 371, 'A23': 372, 'A23.0': 373, 'A23.1': 374, 'A23.2': 375, 'A23.3': 376, 'A23.8': 377, 'A23.9': 378, 'A24': 379, 'A24.0': 380, 'A24.1': 381, 'A24.2': 382, 'A24.3': 383, 'A24.4': 384, 'A25': 385, 'A25.0': 386, 'A25.1': 387, 'A25.9': 388, 'A26': 389, 'A26.0': 390, 'A26.7': 391, 'A26.8': 392, 'A26.9': 393, 'A27': 394, 'A27.0': 395, 'A27.8': 396, 'A27.9': 397, 'A28': 398, 'A28.0': 399, 'A28.1': 400, 'A28.2': 401, 'A28.8': 402, 'A28.9': 403, 'A30': 404, 'A30.0': 405, 'A30.1': 406, 'A30.2': 407, 'A30.3': 408, 'A30.4': 409, 'A30.5': 410, 'A30.8': 411, 'A30.9': 412, 'A31': 413, 'A31.0': 414, 'A31.1': 415, 'A31.8': 416, 'A31.9': 417, 'A32': 418, 'A32.0': 419, 'A32.1': 420, 'A32.7': 421, 'A32.8': 422, 'A32.9': 423, 'A33': 424, 'A33.9': 425, 'A34': 426, 'A34.9': 427, 'A35': 428, 'A35.9': 429, 'A36': 430, 'A36.0': 431, 'A36.1': 432, 'A36.2': 433, 'A36.3': 434, 'A36.8': 435, 'A36.9': 436, 'A37': 437, 'A37.0': 438, 'A37.1': 439, 'A37.8': 440, 'A37.9': 441, 'A38': 442, 'A38.9': 443, 'A39': 444, 'A39.0': 445, 'A39.1': 446, 'A39.2': 447, 'A39.3': 448, 'A39.4': 449, 'A39.5': 450, 'A39.8': 451, 'A39.9': 452, 'A40': 453, 'A40.0': 454, 'A40.1': 455, 'A40.2': 456, 'A40.3': 457, 'A40.8': 458, 'A40.9': 459, 'A41': 460, 'A41.0': 461, 'A41.1': 462, 'A41.2': 463, 'A41.3': 464, 'A41.4': 465, 'A41.5': 466, 'A41.8': 467, 'A41.9': 468, 'A42': 469, 'A42.0': 470, 'A42.1': 471, 'A42.2': 472, 'A42.7': 473, 'A42.8': 474, 'A42.9': 475, 'A43': 476, 'A43.0': 477, 'A43.1': 478, 'A43.8': 479, 'A43.9': 480, 'A44': 481, 'A44.0': 482, 'A44.1': 483, 'A44.8': 484, 'A44.9': 485, 'A46': 486, 'A46.9': 487, 'A48': 488, 'A48.0': 489, 'A48.1': 490, 'A48.2': 491, 'A48.3': 492, 'A48.4': 493, 'A48.8': 494, 'A49': 495, 'A49.0': 496, 'A49.1': 497, 'A49.2': 498, 'A49.3': 499, 'A49.8': 500, 'A49.9': 501, 'A50': 502, 'A50.0': 503, 'A50.1': 504, 'A50.2': 505, 'A50.3': 506, 'A50.4': 507, 'A50.5': 508, 'A50.6': 509, 'A50.7': 510, 'A50.9': 511, 'A51': 512, 'A51.0': 513, 'A51.1': 514, 'A51.2': 515, 'A51.3': 516, 'A51.4': 517, 'A51.5': 518, 'A51.9': 519, 'A52': 520, 'A52.0': 521, 'A52.1': 522, 'A52.2': 523, 'A52.3': 524, 'A52.7': 525, 'A52.8': 526, 'A52.9': 527, 'A53': 528, 'A53.0': 529, 'A53.9': 530, 'A54': 531, 'A54.0': 532, 'A54.1': 533, 'A54.2': 534, 'A54.3': 535, 'A54.4': 536, 'A54.5': 537, 'A54.6': 538, 'A54.8': 539, 'A54.9': 540, 'A55': 541, 'A55.9': 542, 'A56': 543, 'A56.0': 544, 'A56.1': 545, 'A56.2': 546, 'A56.3': 547, 'A56.4': 548, 'A56.8': 549, 'A57': 550, 'A57.9': 551, 'A58': 552, 'A58.9': 553, 'A59': 554, 'A59.0': 555, 'A59.8': 556, 'A59.9': 557, 'A60': 558, 'A60.0': 559, 'A60.1': 560, 'A60.9': 561, 'A63': 562, 'A63.0': 563, 'A63.8': 564, 'A63.81': 565, 'A63.82': 566, 'A63.83': 567, 'A64': 568, 'A64.9': 569, 'A65': 570, 'A65.9': 571, 'A66': 572, 'A66.0': 573, 'A66.1': 574, 'A66.2': 575, 'A66.3': 576, 'A66.4': 577, 'A66.5': 578, 'A66.6': 579, 'A66.7': 580, 'A66.8': 581, 'A66.9': 582, 'A67': 583, 'A67.0': 584, 'A67.1': 585, 'A67.2': 586, 'A67.3': 587, 'A67.9': 588, 'A68': 589, 'A68.0': 590, 'A68.1': 591, 'A68.9': 592, 'A69': 593, 'A69.0': 594, 'A69.1': 595, 'A69.2': 596, 'A69.8': 597, 'A69.9': 598, 'A70': 599, 'A70.9': 600, 'A71': 601, 'A71.0': 602, 'A71.1': 603, 'A71.9': 604, 'A74': 605, 'A74.0': 606, 'A74.8': 607, 'A74.9': 608, 'A75': 609, 'A75.0': 610, 'A75.1': 611, 'A75.2': 612, 'A75.3': 613, 'A75.9': 614, 'A77': 615, 'A77.0': 616, 'A77.1': 617, 'A77.2': 618, 'A77.3': 619, 'A77.8': 620, 'A77.9': 621, 'A78': 622, 'A78.9': 623, 'A79': 624, 'A79.0': 625, 'A79.1': 626, 'A79.8': 627, 'A79.9': 628, 'A80': 629, 'A80.0': 630, 'A80.1': 631, 'A80.2': 632, 'A80.3': 633, 'A80.4': 634, 'A80.9': 635, 'A81': 636, 'A81.0': 637, 'A81.1': 638, 'A81.2': 639, 'A81.8': 640, 'A81.9': 641, 'A82': 642, 'A82.0': 643, 'A82.1': 644, 'A82.9': 645, 'A83': 646, 'A83.0': 647, 'A83.1': 648, 'A83.2': 649, 'A83.3': 650, 'A83.4': 651, 'A83.5': 652, 'A83.6': 653, 'A83.8': 654, 'A83.9': 655, 'A84': 656, 'A84.0': 657, 'A84.1': 658, 'A84.8': 659, 'A84.9': 660, 'A85': 661, 'A85.0': 662, 'A85.1': 663, 'A85.2': 664, 'A85.8': 665, 'A86': 666, 'A86.9': 667, 'A87': 668, 'A87.0': 669, 'A87.1': 670, 'A87.2': 671, 'A87.8': 672, 'A87.9': 673, 'A88': 674, 'A88.0': 675, 'A88.1': 676, 'A88.8': 677, 'A89': 678, 'A89.9': 679, 'A90': 680, 'A90.9': 681, 'A91': 682, 'A91.9': 683, 'A92': 684, 'A92.0': 685, 'A92.1': 686, 'A92.2': 687, 'A92.3': 688, 'A92.4': 689, 'A92.8': 690, 'A92.9': 691, 'A93': 692, 'A93.0': 693, 'A93.1': 694, 'A93.2': 695, 'A93.8': 696, 'A94': 697, 'A94.9': 698, 'A95': 699, 'A95.0': 700, 'A95.1': 701, 'A95.9': 702, 'A96': 703, 'A96.0': 704, 'A96.1': 705, 'A96.2': 706, 'A96.8': 707, 'A96.9': 708, 'A98': 709, 'A98.0': 710, 'A98.1': 711, 'A98.2': 712, 'A98.3': 713, 'A98.4': 714, 'A98.5': 715, 'A98.8': 716, 'A99': 717, 'A99.9': 718, 'B00': 719, 'B00.0': 720, 'B00.1': 721, 'B00.2': 722, 'B00.3': 723, 'B00.4': 724, 'B00.5': 725, 'B00.7': 726, 'B00.8': 727, 'B00.9': 728, 'B01': 729, 'B01.0': 730, 'B01.1': 731, 'B01.2': 732, 'B01.8': 733, 'B01.9': 734, 'B02': 735, 'B02.0': 736, 'B02.1': 737, 'B02.2': 738, 'B02.3': 739, 'B02.7': 740, 'B02.8': 741, 'B02.9': 742, 'B03': 743, 'B03.9': 744, 'B04': 745, 'B04.9': 746, 'B05': 747, 'B05.0': 748, 'B05.1': 749, 'B05.2': 750, 'B05.3': 751, 'B05.4': 752, 'B05.8': 753, 'B05.9': 754, 'B06': 755, 'B06.0': 756, 'B06.8': 757, 'B06.9': 758, 'B07': 759, 'B07.9': 760, 'B08': 761, 'B08.0': 762, 'B08.1': 763, 'B08.2': 764, 'B08.3': 765, 'B08.4': 766, 'B08.5': 767, 'B08.8': 768, 'B09': 769, 'B09.9': 770, 'B15': 771, 'B15.0': 772, 'B15.9': 773, 'B16': 774, 'B16.0': 775, 'B16.1': 776, 'B16.2': 777, 'B16.9': 778, 'B17': 779, 'B17.0': 780, 'B17.1': 781, 'B17.2': 782, 'B17.8': 783, 'B18': 784, 'B18.0': 785, 'B18.1': 786, 'B18.2': 787, 'B18.8': 788, 'B18.9': 789, 'B19': 790, 'B19.0': 791, 'B19.9': 792, 'B20': 793, 'B20.0': 794, 'B20.1': 795, 'B20.2': 796, 'B20.3': 797, 'B20.4': 798, 'B20.5': 799, 'B20.6': 800, 'B20.7': 801, 'B20.8': 802, 'B20.9': 803, 'B21': 804, 'B21.0': 805, 'B21.1': 806, 'B21.2': 807, 'B21.3': 808, 'B21.7': 809, 'B21.8': 810, 'B21.9': 811, 'B22': 812, 'B22.0': 813, 'B22.1': 814, 'B22.2': 815, 'B22.7': 816, 'B23': 817, 'B23.0': 818, 'B23.1': 819, 'B23.2': 820, 'B23.8': 821, 'B24': 822, 'B24.9': 823, 'B25': 824, 'B25.0': 825, 'B25.1': 826, 'B25.2': 827, 'B25.8': 828, 'B25.9': 829, 'B26': 830, 'B26.0': 831, 'B26.1': 832, 'B26.2': 833, 'B26.3': 834, 'B26.8': 835, 'B26.9': 836, 'B27': 837, 'B27.0': 838, 'B27.1': 839, 'B27.8': 840, 'B27.9': 841, 'B30': 842, 'B30.0': 843, 'B30.1': 844, 'B30.2': 845, 'B30.3': 846, 'B30.8': 847, 'B30.9': 848, 'B33': 849, 'B33.0': 850, 'B33.1': 851, 'B33.2': 852, 'B33.3': 853, 'B33.8': 854, 'B34': 855, 'B34.0': 856, 'B34.1': 857, 'B34.2': 858, 'B34.3': 859, 'B34.4': 860, 'B34.8': 861, 'B34.9': 862, 'B35': 863, 'B35.0': 864, 'B35.1': 865, 'B35.2': 866, 'B35.3': 867, 'B35.4': 868, 'B35.5': 869, 'B35.6': 870, 'B35.8': 871, 'B35.9': 872, 'B36': 873, 'B36.0': 874, 'B36.1': 875, 'B36.2': 876, 'B36.3': 877, 'B36.8': 878, 'B36.9': 879, 'B37': 880, 'B37.0': 881, 'B37.1': 882, 'B37.2': 883, 'B37.3': 884, 'B37.4': 885, 'B37.5': 886, 'B37.6': 887, 'B37.7': 888, 'B37.8': 889, 'B37.9': 890, 'B38': 891, 'B38.0': 892, 'B38.1': 893, 'B38.2': 894, 'B38.3': 895, 'B38.4': 896, 'B38.7': 897, 'B38.8': 898, 'B38.9': 899, 'B39': 900, 'B39.0': 901, 'B39.1': 902, 'B39.2': 903, 'B39.3': 904, 'B39.4': 905, 'B39.5': 906, 'B39.9': 907, 'B40': 908, 'B40.0': 909, 'B40.1': 910, 'B40.2': 911, 'B40.3': 912, 'B40.7': 913, 'B40.8': 914, 'B40.9': 915, 'B41': 916, 'B41.0': 917, 'B41.7': 918, 'B41.8': 919, 'B41.9': 920, 'B42': 921, 'B42.0': 922, 'B42.1': 923, 'B42.7': 924, 'B42.8': 925, 'B42.9': 926, 'B43': 927, 'B43.0': 928, 'B43.1': 929, 'B43.2': 930, 'B43.8': 931, 'B43.9': 932, 'B44': 933, 'B44.0': 934, 'B44.1': 935, 'B44.2': 936, 'B44.7': 937, 'B44.8': 938, 'B44.9': 939, 'B45': 940, 'B45.0': 941, 'B45.1': 942, 'B45.2': 943, 'B45.3': 944, 'B45.7': 945, 'B45.8': 946, 'B45.9': 947, 'B46': 948, 'B46.0': 949, 'B46.1': 950, 'B46.2': 951, 'B46.3': 952, 'B46.4': 953, 'B46.5': 954, 'B46.8': 955, 'B46.9': 956, 'B47': 957, 'B47.0': 958, 'B47.1': 959, 'B47.9': 960, 'B48': 961, 'B48.0': 962, 'B48.1': 963, 'B48.2': 964, 'B48.3': 965, 'B48.4': 966, 'B48.7': 967, 'B48.8': 968, 'B49': 969, 'B49.9': 970, 'B50': 971, 'B50.0': 972, 'B50.8': 973, 'B50.9': 974, 'B51': 975, 'B51.0': 976, 'B51.8': 977, 'B51.9': 978, 'B52': 979, 'B52.0': 980, 'B52.8': 981, 'B52.9': 982, 'B53': 983, 'B53.0': 984, 'B53.1': 985, 'B53.8': 986, 'B54': 987, 'B54.9': 988, 'B55': 989, 'B55.0': 990, 'B55.1': 991, 'B55.2': 992, 'B55.9': 993, 'B56': 994, 'B56.0': 995, 'B56.1': 996, 'B56.9': 997, 'B57': 998, 'B57.0': 999, 'B57.1': 1000, 'B57.2': 1001, 'B57.3': 1002, 'B57.4': 1003, 'B57.5': 1004, 'B58': 1005, 'B58.0': 1006, 'B58.1': 1007, 'B58.2': 1008, 'B58.3': 1009, 'B58.8': 1010, 'B58.9': 1011, 'B59': 1012, 'B59.9': 1013, 'B60': 1014, 'B60.0': 1015, 'B60.1': 1016, 'B60.2': 1017, 'B60.8': 1018, 'B64': 1019, 'B64.9': 1020, 'B65': 1021, 'B65.0': 1022, 'B65.1': 1023, 'B65.2': 1024, 'B65.3': 1025, 'B65.8': 1026, 'B65.9': 1027, 'B66': 1028, 'B66.0': 1029, 'B66.1': 1030, 'B66.2': 1031, 'B66.3': 1032, 'B66.4': 1033, 'B66.5': 1034, 'B66.8': 1035, 'B66.9': 1036, 'B67': 1037, 'B67.0': 1038, 'B67.1': 1039, 'B67.2': 1040, 'B67.3': 1041, 'B67.4': 1042, 'B67.5': 1043, 'B67.6': 1044, 'B67.7': 1045, 'B67.8': 1046, 'B67.9': 1047, 'B68': 1048, 'B68.0': 1049, 'B68.1': 1050, 'B68.9': 1051, 'B69': 1052, 'B69.0': 1053, 'B69.1': 1054, 'B69.8': 1055, 'B69.9': 1056, 'B70': 1057, 'B70.0': 1058, 'B70.1': 1059, 'B71': 1060, 'B71.0': 1061, 'B71.1': 1062, 'B71.8': 1063, 'B71.9': 1064, 'B72': 1065, 'B72.9': 1066, 'B73': 1067, 'B73.9': 1068, 'B74': 1069, 'B74.0': 1070, 'B74.1': 1071, 'B74.2': 1072, 'B74.3': 1073, 'B74.4': 1074, 'B74.8': 1075, 'B74.9': 1076, 'B75': 1077, 'B75.9': 1078, 'B76': 1079, 'B76.0': 1080, 'B76.1': 1081, 'B76.8': 1082, 'B76.9': 1083, 'B77': 1084, 'B77.0': 1085, 'B77.8': 1086, 'B77.9': 1087, 'B78': 1088, 'B78.0': 1089, 'B78.1': 1090, 'B78.7': 1091, 'B78.9': 1092, 'B79': 1093, 'B79.9': 1094, 'B80': 1095, 'B80.9': 1096, 'B81': 1097, 'B81.0': 1098, 'B81.1': 1099, 'B81.2': 1100, 'B81.3': 1101, 'B81.4': 1102, 'B81.8': 1103, 'B82': 1104, 'B82.0': 1105, 'B82.9': 1106, 'B83': 1107, 'B83.0': 1108, 'B83.1': 1109, 'B83.2': 1110, 'B83.3': 1111, 'B83.4': 1112, 'B83.8': 1113, 'B83.9': 1114, 'B85': 1115, 'B85.0': 1116, 'B85.1': 1117, 'B85.2': 1118, 'B85.3': 1119, 'B85.4': 1120, 'B86': 1121, 'B86.9': 1122, 'B87': 1123, 'B87.0': 1124, 'B87.1': 1125, 'B87.2': 1126, 'B87.3': 1127, 'B87.4': 1128, 'B87.8': 1129, 'B87.9': 1130, 'B88': 1131, 'B88.0': 1132, 'B88.1': 1133, 'B88.2': 1134, 'B88.3': 1135, 'B88.8': 1136, 'B88.9': 1137, 'B89': 1138, 'B89.9': 1139, 'B90': 1140, 'B90.0': 1141, 'B90.1': 1142, 'B90.2': 1143, 'B90.8': 1144, 'B90.9': 1145, 'B91': 1146, 'B91.9': 1147, 'B92': 1148, 'B92.9': 1149, 'B94': 1150, 'B94.0': 1151, 'B94.1': 1152, 'B94.2': 1153, 'B94.8': 1154, 'B94.9': 1155, 'B95': 1156, 'B95.0': 1157, 'B95.1': 1158, 'B95.2': 1159, 'B95.3': 1160, 'B95.4': 1161, 'B95.5': 1162, 'B95.6': 1163, 'B95.7': 1164, 'B95.8': 1165, 'B96': 1166, 'B96.0': 1167, 'B96.1': 1168, 'B96.2': 1169, 'B96.3': 1170, 'B96.4': 1171, 'B96.5': 1172, 'B96.6': 1173, 'B96.7': 1174, 'B96.8': 1175, 'B97': 1176, 'B97.0': 1177, 'B97.1': 1178, 'B97.2': 1179, 'B97.3': 1180, 'B97.4': 1181, 'B97.5': 1182, 'B97.6': 1183, 'B97.7': 1184, 'B97.8': 1185, 'B99': 1186, 'B99.9': 1187, 'C00': 1188, 'C00.0': 1189, 'C00.1': 1190, 'C00.2': 1191, 'C00.3': 1192, 'C00.4': 1193, 'C00.5': 1194, 'C00.6': 1195, 'C00.8': 1196, 'C00.9': 1197, 'C01': 1198, 'C01.9': 1199, 'C02': 1200, 'C02.0': 1201, 'C02.1': 1202, 'C02.2': 1203, 'C02.3': 1204, 'C02.4': 1205, 'C02.8': 1206, 'C02.9': 1207, 'C03': 1208, 'C03.0': 1209, 'C03.1': 1210, 'C03.9': 1211, 'C04': 1212, 'C04.0': 1213, 'C04.1': 1214, 'C04.8': 1215, 'C04.9': 1216, 'C05': 1217, 'C05.0': 1218, 'C05.1': 1219, 'C05.2': 1220, 'C05.8': 1221, 'C05.9': 1222, 'C06': 1223, 'C06.0': 1224, 'C06.1': 1225, 'C06.2': 1226, 'C06.8': 1227, 'C06.9': 1228, 'C07': 1229, 'C07.9': 1230, 'C08': 1231, 'C08.0': 1232, 'C08.1': 1233, 'C08.8': 1234, 'C08.9': 1235, 'C09': 1236, 'C09.0': 1237, 'C09.1': 1238, 'C09.8': 1239, 'C09.9': 1240, 'C10': 1241, 'C10.0': 1242, 'C10.1': 1243, 'C10.2': 1244, 'C10.3': 1245, 'C10.4': 1246, 'C10.8': 1247, 'C10.9': 1248, 'C11': 1249, 'C11.0': 1250, 'C11.1': 1251, 'C11.2': 1252, 'C11.3': 1253, 'C11.8': 1254, 'C11.9': 1255, 'C12': 1256, 'C12.9': 1257, 'C13': 1258, 'C13.0': 1259, 'C13.1': 1260, 'C13.2': 1261, 'C13.8': 1262, 'C13.9': 1263, 'C14': 1264, 'C14.0': 1265, 'C14.2': 1266, 'C14.8': 1267, 'C15': 1268, 'C15.0': 1269, 'C15.1': 1270, 'C15.2': 1271, 'C15.3': 1272, 'C15.4': 1273, 'C15.5': 1274, 'C15.8': 1275, 'C15.9': 1276, 'C16': 1277, 'C16.0': 1278, 'C16.1': 1279, 'C16.2': 1280, 'C16.3': 1281, 'C16.4': 1282, 'C16.5': 1283, 'C16.6': 1284, 'C16.8': 1285, 'C16.9': 1286, 'C17': 1287, 'C17.0': 1288, 'C17.1': 1289, 'C17.2': 1290, 'C17.3': 1291, 'C17.8': 1292, 'C17.9': 1293, 'C18': 1294, 'C18.0': 1295, 'C18.1': 1296, 'C18.2': 1297, 'C18.3': 1298, 'C18.4': 1299, 'C18.5': 1300, 'C18.6': 1301, 'C18.7': 1302, 'C18.8': 1303, 'C18.9': 1304, 'C19': 1305, 'C19.9': 1306, 'C20': 1307, 'C20.9': 1308, 'C21': 1309, 'C21.0': 1310, 'C21.1': 1311, 'C21.2': 1312, 'C21.8': 1313, 'C22': 1314, 'C22.0': 1315, 'C22.1': 1316, 'C22.2': 1317, 'C22.3': 1318, 'C22.4': 1319, 'C22.7': 1320, 'C22.9': 1321, 'C23': 1322, 'C23.9': 1323, 'C24': 1324, 'C24.0': 1325, 'C24.1': 1326, 'C24.8': 1327, 'C24.9': 1328, 'C25': 1329, 'C25.0': 1330, 'C25.1': 1331, 'C25.2': 1332, 'C25.3': 1333, 'C25.4': 1334, 'C25.7': 1335, 'C25.8': 1336, 'C25.9': 1337, 'C26': 1338, 'C26.0': 1339, 'C26.1': 1340, 'C26.8': 1341, 'C26.9': 1342, 'C30': 1343, 'C30.0': 1344, 'C30.1': 1345, 'C31': 1346, 'C31.0': 1347, 'C31.1': 1348, 'C31.2': 1349, 'C31.3': 1350, 'C31.8': 1351, 'C31.9': 1352, 'C32': 1353, 'C32.0': 1354, 'C32.1': 1355, 'C32.2': 1356, 'C32.3': 1357, 'C32.8': 1358, 'C32.9': 1359, 'C33': 1360, 'C33.9': 1361, 'C34': 1362, 'C34.0': 1363, 'C34.1': 1364, 'C34.2': 1365, 'C34.3': 1366, 'C34.8': 1367, 'C34.9': 1368, 'C37': 1369, 'C37.9': 1370, 'C38': 1371, 'C38.0': 1372, 'C38.1': 1373, 'C38.2': 1374, 'C38.3': 1375, 'C38.4': 1376, 'C38.8': 1377, 'C39': 1378, 'C39.0': 1379, 'C39.8': 1380, 'C39.9': 1381, 'C40': 1382, 'C40.0': 1383, 'C40.1': 1384, 'C40.2': 1385, 'C40.3': 1386, 'C40.8': 1387, 'C40.9': 1388, 'C41': 1389, 'C41.0': 1390, 'C41.1': 1391, 'C41.2': 1392, 'C41.3': 1393, 'C41.4': 1394, 'C41.8': 1395, 'C41.9': 1396, 'C43': 1397, 'C43.0': 1398, 'C43.1': 1399, 'C43.2': 1400, 'C43.3': 1401, 'C43.4': 1402, 'C43.5': 1403, 'C43.6': 1404, 'C43.7': 1405, 'C43.8': 1406, 'C43.9': 1407, 'C44': 1408, 'C44.0': 1409, 'C44.1': 1410, 'C44.2': 1411, 'C44.3': 1412, 'C44.4': 1413, 'C44.5': 1414, 'C44.6': 1415, 'C44.7': 1416, 'C44.8': 1417, 'C44.9': 1418, 'C45': 1419, 'C45.0': 1420, 'C45.1': 1421, 'C45.2': 1422, 'C45.7': 1423, 'C45.9': 1424, 'C46': 1425, 'C46.0': 1426, 'C46.1': 1427, 'C46.2': 1428, 'C46.3': 1429, 'C46.7': 1430, 'C46.8': 1431, 'C46.9': 1432, 'C47': 1433, 'C47.0': 1434, 'C47.1': 1435, 'C47.2': 1436, 'C47.3': 1437, 'C47.4': 1438, 'C47.5': 1439, 'C47.6': 1440, 'C47.8': 1441, 'C47.9': 1442, 'C48': 1443, 'C48.0': 1444, 'C48.1': 1445, 'C48.2': 1446, 'C48.8': 1447, 'C49': 1448, 'C49.0': 1449, 'C49.1': 1450, 'C49.2': 1451, 'C49.3': 1452, 'C49.4': 1453, 'C49.5': 1454, 'C49.6': 1455, 'C49.8': 1456, 'C49.9': 1457, 'C50': 1458, 'C50.0': 1459, 'C50.1': 1460, 'C50.2': 1461, 'C50.3': 1462, 'C50.4': 1463, 'C50.5': 1464, 'C50.6': 1465, 'C50.8': 1466, 'C50.9': 1467, 'C51': 1468, 'C51.0': 1469, 'C51.1': 1470, 'C51.2': 1471, 'C51.8': 1472, 'C51.9': 1473, 'C52': 1474, 'C52.9': 1475, 'C53': 1476, 'C53.0': 1477, 'C53.1': 1478, 'C53.8': 1479, 'C53.9': 1480, 'C54': 1481, 'C54.0': 1482, 'C54.1': 1483, 'C54.2': 1484, 'C54.3': 1485, 'C54.8': 1486, 'C54.9': 1487, 'C55': 1488, 'C55.9': 1489, 'C56': 1490, 'C56.9': 1491, 'C57': 1492, 'C57.0': 1493, 'C57.1': 1494, 'C57.2': 1495, 'C57.3': 1496, 'C57.4': 1497, 'C57.7': 1498, 'C57.8': 1499, 'C57.9': 1500, 'C58': 1501, 'C58.9': 1502, 'C60': 1503, 'C60.0': 1504, 'C60.1': 1505, 'C60.2': 1506, 'C60.8': 1507, 'C60.9': 1508, 'C61': 1509, 'C61.9': 1510, 'C62': 1511, 'C62.0': 1512, 'C62.1': 1513, 'C62.9': 1514, 'C63': 1515, 'C63.0': 1516, 'C63.1': 1517, 'C63.2': 1518, 'C63.7': 1519, 'C63.8': 1520, 'C63.9': 1521, 'C64': 1522, 'C64.9': 1523, 'C65': 1524, 'C65.9': 1525, 'C66': 1526, 'C66.9': 1527, 'C67': 1528, 'C67.0': 1529, 'C67.1': 1530, 'C67.2': 1531, 'C67.3': 1532, 'C67.4': 1533, 'C67.5': 1534, 'C67.6': 1535, 'C67.7': 1536, 'C67.8': 1537, 'C67.9': 1538, 'C68': 1539, 'C68.0': 1540, 'C68.1': 1541, 'C68.8': 1542, 'C68.9': 1543, 'C69': 1544, 'C69.0': 1545, 'C69.1': 1546, 'C69.2': 1547, 'C69.3': 1548, 'C69.4': 1549, 'C69.5': 1550, 'C69.6': 1551, 'C69.8': 1552, 'C69.9': 1553, 'C70': 1554, 'C70.0': 1555, 'C70.1': 1556, 'C70.9': 1557, 'C71': 1558, 'C71.0': 1559, 'C71.1': 1560, 'C71.2': 1561, 'C71.3': 1562, 'C71.4': 1563, 'C71.5': 1564, 'C71.6': 1565, 'C71.7': 1566, 'C71.8': 1567, 'C71.9': 1568, 'C72': 1569, 'C72.0': 1570, 'C72.1': 1571, 'C72.2': 1572, 'C72.3': 1573, 'C72.4': 1574, 'C72.5': 1575, 'C72.8': 1576, 'C72.9': 1577, 'C73': 1578, 'C73.9': 1579, 'C74': 1580, 'C74.0': 1581, 'C74.1': 1582, 'C74.9': 1583, 'C75': 1584, 'C75.0': 1585, 'C75.1': 1586, 'C75.2': 1587, 'C75.3': 1588, 'C75.4': 1589, 'C75.5': 1590, 'C75.8': 1591, 'C75.9': 1592, 'C76': 1593, 'C76.0': 1594, 'C76.1': 1595, 'C76.2': 1596, 'C76.3': 1597, 'C76.4': 1598, 'C76.5': 1599, 'C76.7': 1600, 'C76.8': 1601, 'C77': 1602, 'C77.0': 1603, 'C77.1': 1604, 'C77.2': 1605, 'C77.3': 1606, 'C77.4': 1607, 'C77.5': 1608, 'C77.8': 1609, 'C77.9': 1610, 'C78': 1611, 'C78.0': 1612, 'C78.1': 1613, 'C78.2': 1614, 'C78.3': 1615, 'C78.4': 1616, 'C78.5': 1617, 'C78.6': 1618, 'C78.7': 1619, 'C78.8': 1620, 'C79': 1621, 'C79.0': 1622, 'C79.1': 1623, 'C79.2': 1624, 'C79.3': 1625, 'C79.4': 1626, 'C79.5': 1627, 'C79.6': 1628, 'C79.7': 1629, 'C79.8': 1630, 'C80': 1631, 'C80.9': 1632, 'C81': 1633, 'C81.0': 1634, 'C81.1': 1635, 'C81.2': 1636, 'C81.3': 1637, 'C81.7': 1638, 'C81.9': 1639, 'C82': 1640, 'C82.0': 1641, 'C82.1': 1642, 'C82.2': 1643, 'C82.7': 1644, 'C82.9': 1645, 'C83': 1646, 'C83.0': 1647, 'C83.1': 1648, 'C83.2': 1649, 'C83.3': 1650, 'C83.4': 1651, 'C83.5': 1652, 'C83.6': 1653, 'C83.7': 1654, 'C83.8': 1655, 'C83.9': 1656, 'C84': 1657, 'C84.0': 1658, 'C84.1': 1659, 'C84.2': 1660, 'C84.3': 1661, 'C84.4': 1662, 'C84.5': 1663, 'C85': 1664, 'C85.0': 1665, 'C85.1': 1666, 'C85.7': 1667, 'C85.9': 1668, 'C88': 1669, 'C88.0': 1670, 'C88.1': 1671, 'C88.2': 1672, 'C88.3': 1673, 'C88.7': 1674, 'C88.9': 1675, 'C90': 1676, 'C90.0': 1677, 'C90.1': 1678, 'C90.2': 1679, 'C91': 1680, 'C91.0': 1681, 'C91.1': 1682, 'C91.2': 1683, 'C91.3': 1684, 'C91.4': 1685, 'C91.5': 1686, 'C91.7': 1687, 'C91.9': 1688, 'C92': 1689, 'C92.0': 1690, 'C92.1': 1691, 'C92.2': 1692, 'C92.3': 1693, 'C92.4': 1694, 'C92.5': 1695, 'C92.7': 1696, 'C92.9': 1697, 'C93': 1698, 'C93.0': 1699, 'C93.1': 1700, 'C93.2': 1701, 'C93.7': 1702, 'C93.9': 1703, 'C94': 1704, 'C94.0': 1705, 'C94.1': 1706, 'C94.2': 1707, 'C94.3': 1708, 'C94.4': 1709, 'C94.5': 1710, 'C94.7': 1711, 'C95': 1712, 'C95.0': 1713, 'C95.1': 1714, 'C95.2': 1715, 'C95.7': 1716, 'C95.9': 1717, 'C96': 1718, 'C96.0': 1719, 'C96.1': 1720, 'C96.2': 1721, 'C96.3': 1722, 'C96.7': 1723, 'C96.9': 1724, 'C97': 1725, 'C97.9': 1726, 'D00': 1727, 'D00.0': 1728, 'D00.1': 1729, 'D00.2': 1730, 'D01': 1731, 'D01.0': 1732, 'D01.1': 1733, 'D01.2': 1734, 'D01.3': 1735, 'D01.4': 1736, 'D01.5': 1737, 'D01.7': 1738, 'D01.9': 1739, 'D02': 1740, 'D02.0': 1741, 'D02.1': 1742, 'D02.2': 1743, 'D02.3': 1744, 'D02.4': 1745, 'D03': 1746, 'D03.0': 1747, 'D03.1': 1748, 'D03.2': 1749, 'D03.3': 1750, 'D03.4': 1751, 'D03.5': 1752, 'D03.6': 1753, 'D03.7': 1754, 'D03.8': 1755, 'D03.9': 1756, 'D04': 1757, 'D04.0': 1758, 'D04.1': 1759, 'D04.2': 1760, 'D04.3': 1761, 'D04.4': 1762, 'D04.5': 1763, 'D04.6': 1764, 'D04.7': 1765, 'D04.8': 1766, 'D04.9': 1767, 'D05': 1768, 'D05.0': 1769, 'D05.1': 1770, 'D05.7': 1771, 'D05.9': 1772, 'D06': 1773, 'D06.0': 1774, 'D06.1': 1775, 'D06.7': 1776, 'D06.9': 1777, 'D07': 1778, 'D07.0': 1779, 'D07.1': 1780, 'D07.2': 1781, 'D07.3': 1782, 'D07.4': 1783, 'D07.5': 1784, 'D07.6': 1785, 'D09': 1786, 'D09.0': 1787, 'D09.1': 1788, 'D09.2': 1789, 'D09.3': 1790, 'D09.7': 1791, 'D09.9': 1792, 'D10': 1793, 'D10.0': 1794, 'D10.1': 1795, 'D10.2': 1796, 'D10.3': 1797, 'D10.4': 1798, 'D10.5': 1799, 'D10.6': 1800, 'D10.7': 1801, 'D10.9': 1802, 'D11': 1803, 'D11.0': 1804, 'D11.7': 1805, 'D11.9': 1806, 'D12': 1807, 'D12.0': 1808, 'D12.1': 1809, 'D12.2': 1810, 'D12.3': 1811, 'D12.4': 1812, 'D12.5': 1813, 'D12.6': 1814, 'D12.7': 1815, 'D12.8': 1816, 'D12.9': 1817, 'D13': 1818, 'D13.0': 1819, 'D13.1': 1820, 'D13.2': 1821, 'D13.3': 1822, 'D13.4': 1823, 'D13.5': 1824, 'D13.6': 1825, 'D13.7': 1826, 'D13.9': 1827, 'D14': 1828, 'D14.0': 1829, 'D14.1': 1830, 'D14.2': 1831, 'D14.3': 1832, 'D14.4': 1833, 'D15': 1834, 'D15.0': 1835, 'D15.1': 1836, 'D15.2': 1837, 'D15.7': 1838, 'D15.9': 1839, 'D16': 1840, 'D16.0': 1841, 'D16.1': 1842, 'D16.2': 1843, 'D16.3': 1844, 'D16.4': 1845, 'D16.5': 1846, 'D16.6': 1847, 'D16.7': 1848, 'D16.8': 1849, 'D16.9': 1850, 'D17': 1851, 'D17.0': 1852, 'D17.1': 1853, 'D17.2': 1854, 'D17.3': 1855, 'D17.4': 1856, 'D17.5': 1857, 'D17.6': 1858, 'D17.7': 1859, 'D17.9': 1860, 'D18': 1861, 'D18.0': 1862, 'D18.1': 1863, 'D19': 1864, 'D19.0': 1865, 'D19.1': 1866, 'D19.7': 1867, 'D19.9': 1868, 'D20': 1869, 'D20.0': 1870, 'D20.1': 1871, 'D21': 1872, 'D21.0': 1873, 'D21.1': 1874, 'D21.2': 1875, 'D21.3': 1876, 'D21.4': 1877, 'D21.5': 1878, 'D21.6': 1879, 'D21.9': 1880, 'D22': 1881, 'D22.0': 1882, 'D22.1': 1883, 'D22.2': 1884, 'D22.3': 1885, 'D22.4': 1886, 'D22.5': 1887, 'D22.6': 1888, 'D22.7': 1889, 'D22.9': 1890, 'D23': 1891, 'D23.0': 1892, 'D23.1': 1893, 'D23.2': 1894, 'D23.3': 1895, 'D23.4': 1896, 'D23.5': 1897, 'D23.6': 1898, 'D23.7': 1899, 'D23.9': 1900, 'D24': 1901, 'D24.9': 1902, 'D25': 1903, 'D25.0': 1904, 'D25.1': 1905, 'D25.2': 1906, 'D25.9': 1907, 'D26': 1908, 'D26.0': 1909, 'D26.1': 1910, 'D26.7': 1911, 'D26.9': 1912, 'D27': 1913, 'D27.9': 1914, 'D28': 1915, 'D28.0': 1916, 'D28.1': 1917, 'D28.2': 1918, 'D28.7': 1919, 'D28.9': 1920, 'D29': 1921, 'D29.0': 1922, 'D29.1': 1923, 'D29.2': 1924, 'D29.3': 1925, 'D29.4': 1926, 'D29.7': 1927, 'D29.9': 1928, 'D30': 1929, 'D30.0': 1930, 'D30.1': 1931, 'D30.2': 1932, 'D30.3': 1933, 'D30.4': 1934, 'D30.7': 1935, 'D30.9': 1936, 'D31': 1937, 'D31.0': 1938, 'D31.1': 1939, 'D31.2': 1940, 'D31.3': 1941, 'D31.4': 1942, 'D31.5': 1943, 'D31.6': 1944, 'D31.9': 1945, 'D32': 1946, 'D32.0': 1947, 'D32.1': 1948, 'D32.9': 1949, 'D33': 1950, 'D33.0': 1951, 'D33.1': 1952, 'D33.2': 1953, 'D33.3': 1954, 'D33.4': 1955, 'D33.7': 1956, 'D33.9': 1957, 'D34': 1958, 'D34.9': 1959, 'D35': 1960, 'D35.0': 1961, 'D35.1': 1962, 'D35.2': 1963, 'D35.3': 1964, 'D35.4': 1965, 'D35.5': 1966, 'D35.6': 1967, 'D35.7': 1968, 'D35.8': 1969, 'D35.9': 1970, 'D36': 1971, 'D36.0': 1972, 'D36.1': 1973, 'D36.7': 1974, 'D36.9': 1975, 'D37': 1976, 'D37.0': 1977, 'D37.1': 1978, 'D37.2': 1979, 'D37.3': 1980, 'D37.4': 1981, 'D37.5': 1982, 'D37.6': 1983, 'D37.7': 1984, 'D37.9': 1985, 'D38': 1986, 'D38.0': 1987, 'D38.1': 1988, 'D38.2': 1989, 'D38.3': 1990, 'D38.4': 1991, 'D38.5': 1992, 'D38.6': 1993, 'D39': 1994, 'D39.0': 1995, 'D39.1': 1996, 'D39.2': 1997, 'D39.7': 1998, 'D39.9': 1999, 'D40': 2000, 'D40.0': 2001, 'D40.1': 2002, 'D40.7': 2003, 'D40.9': 2004, 'D41': 2005, 'D41.0': 2006, 'D41.1': 2007, 'D41.2': 2008, 'D41.3': 2009, 'D41.4': 2010, 'D41.7': 2011, 'D41.9': 2012, 'D42': 2013, 'D42.0': 2014, 'D42.1': 2015, 'D42.9': 2016, 'D43': 2017, 'D43.0': 2018, 'D43.1': 2019, 'D43.2': 2020, 'D43.3': 2021, 'D43.4': 2022, 'D43.7': 2023, 'D43.9': 2024, 'D44': 2025, 'D44.0': 2026, 'D44.1': 2027, 'D44.2': 2028, 'D44.3': 2029, 'D44.4': 2030, 'D44.5': 2031, 'D44.6': 2032, 'D44.7': 2033, 'D44.8': 2034, 'D44.9': 2035, 'D45': 2036, 'D45.9': 2037, 'D46': 2038, 'D46.0': 2039, 'D46.1': 2040, 'D46.2': 2041, 'D46.3': 2042, 'D46.4': 2043, 'D46.7': 2044, 'D46.9': 2045, 'D47': 2046, 'D47.0': 2047, 'D47.1': 2048, 'D47.2': 2049, 'D47.3': 2050, 'D47.7': 2051, 'D47.9': 2052, 'D48': 2053, 'D48.0': 2054, 'D48.1': 2055, 'D48.2': 2056, 'D48.3': 2057, 'D48.4': 2058, 'D48.5': 2059, 'D48.6': 2060, 'D48.7': 2061, 'D48.9': 2062, 'D50': 2063, 'D50.0': 2064, 'D50.1': 2065, 'D50.8': 2066, 'D50.9': 2067, 'D51': 2068, 'D51.0': 2069, 'D51.1': 2070, 'D51.2': 2071, 'D51.3': 2072, 'D51.8': 2073, 'D51.9': 2074, 'D52': 2075, 'D52.0': 2076, 'D52.1': 2077, 'D52.8': 2078, 'D52.9': 2079, 'D53': 2080, 'D53.0': 2081, 'D53.1': 2082, 'D53.2': 2083, 'D53.8': 2084, 'D53.9': 2085, 'D55': 2086, 'D55.0': 2087, 'D55.1': 2088, 'D55.2': 2089, 'D55.3': 2090, 'D55.8': 2091, 'D55.9': 2092, 'D56': 2093, 'D56.0': 2094, 'D56.1': 2095, 'D56.2': 2096, 'D56.3': 2097, 'D56.4': 2098, 'D56.8': 2099, 'D56.9': 2100, 'D57': 2101, 'D57.0': 2102, 'D57.1': 2103, 'D57.2': 2104, 'D57.3': 2105, 'D57.8': 2106, 'D58': 2107, 'D58.0': 2108, 'D58.1': 2109, 'D58.2': 2110, 'D58.8': 2111, 'D58.9': 2112, 'D59': 2113, 'D59.0': 2114, 'D59.1': 2115, 'D59.2': 2116, 'D59.3': 2117, 'D59.4': 2118, 'D59.5': 2119, 'D59.6': 2120, 'D59.8': 2121, 'D59.9': 2122, 'D60': 2123, 'D60.0': 2124, 'D60.1': 2125, 'D60.8': 2126, 'D60.9': 2127, 'D61': 2128, 'D61.0': 2129, 'D61.1': 2130, 'D61.2': 2131, 'D61.3': 2132, 'D61.8': 2133, 'D61.9': 2134, 'D62': 2135, 'D62.9': 2136, 'D63': 2137, 'D63.0': 2138, 'D63.8': 2139, 'D64': 2140, 'D64.0': 2141, 'D64.1': 2142, 'D64.2': 2143, 'D64.3': 2144, 'D64.4': 2145, 'D64.8': 2146, 'D64.9': 2147, 'D65': 2148, 'D65.9': 2149, 'D66': 2150, 'D66.9': 2151, 'D67': 2152, 'D67.9': 2153, 'D68': 2154, 'D68.0': 2155, 'D68.1': 2156, 'D68.2': 2157, 'D68.3': 2158, 'D68.4': 2159, 'D68.6': 2160, 'D68.8': 2161, 'D68.9': 2162, 'D69': 2163, 'D69.0': 2164, 'D69.1': 2165, 'D69.2': 2166, 'D69.3': 2167, 'D69.4': 2168, 'D69.5': 2169, 'D69.6': 2170, 'D69.8': 2171, 'D69.9': 2172, 'D70': 2173, 'D70.9': 2174, 'D71': 2175, 'D71.9': 2176, 'D72': 2177, 'D72.0': 2178, 'D72.1': 2179, 'D72.8': 2180, 'D72.9': 2181, 'D73': 2182, 'D73.0': 2183, 'D73.1': 2184, 'D73.2': 2185, 'D73.3': 2186, 'D73.4': 2187, 'D73.5': 2188, 'D73.8': 2189, 'D73.9': 2190, 'D74': 2191, 'D74.0': 2192, 'D74.8': 2193, 'D74.9': 2194, 'D75': 2195, 'D75.0': 2196, 'D75.1': 2197, 'D75.2': 2198, 'D75.8': 2199, 'D75.9': 2200, 'D76': 2201, 'D76.0': 2202, 'D76.1': 2203, 'D76.2': 2204, 'D76.3': 2205, 'D77': 2206, 'D77.9': 2207, 'D80': 2208, 'D80.0': 2209, 'D80.1': 2210, 'D80.2': 2211, 'D80.3': 2212, 'D80.4': 2213, 'D80.5': 2214, 'D80.6': 2215, 'D80.7': 2216, 'D80.8': 2217, 'D80.9': 2218, 'D81': 2219, 'D81.0': 2220, 'D81.1': 2221, 'D81.2': 2222, 'D81.3': 2223, 'D81.4': 2224, 'D81.5': 2225, 'D81.6': 2226, 'D81.7': 2227, 'D81.8': 2228, 'D81.9': 2229, 'D82': 2230, 'D82.0': 2231, 'D82.1': 2232, 'D82.2': 2233, 'D82.3': 2234, 'D82.4': 2235, 'D82.8': 2236, 'D82.9': 2237, 'D83': 2238, 'D83.0': 2239, 'D83.1': 2240, 'D83.2': 2241, 'D83.8': 2242, 'D83.9': 2243, 'D84': 2244, 'D84.0': 2245, 'D84.1': 2246, 'D84.8': 2247, 'D84.9': 2248, 'D86': 2249, 'D86.0': 2250, 'D86.1': 2251, 'D86.2': 2252, 'D86.3': 2253, 'D86.8': 2254, 'D86.9': 2255, 'D89': 2256, 'D89.0': 2257, 'D89.1': 2258, 'D89.2': 2259, 'D89.8': 2260, 'D89.9': 2261, 'E00': 2262, 'E00.0': 2263, 'E00.1': 2264, 'E00.2': 2265, 'E00.9': 2266, 'E01': 2267, 'E01.0': 2268, 'E01.1': 2269, 'E01.2': 2270, 'E01.8': 2271, 'E02': 2272, 'E02.9': 2273, 'E03': 2274, 'E03.0': 2275, 'E03.1': 2276, 'E03.2': 2277, 'E03.3': 2278, 'E03.4': 2279, 'E03.5': 2280, 'E03.8': 2281, 'E03.9': 2282, 'E04': 2283, 'E04.0': 2284, 'E04.1': 2285, 'E04.2': 2286, 'E04.8': 2287, 'E04.9': 2288, 'E05': 2289, 'E05.0': 2290, 'E05.1': 2291, 'E05.2': 2292, 'E05.3': 2293, 'E05.4': 2294, 'E05.5': 2295, 'E05.8': 2296, 'E05.9': 2297, 'E06': 2298, 'E06.0': 2299, 'E06.1': 2300, 'E06.2': 2301, 'E06.3': 2302, 'E06.4': 2303, 'E06.5': 2304, 'E06.9': 2305, 'E07': 2306, 'E07.0': 2307, 'E07.1': 2308, 'E07.8': 2309, 'E07.9': 2310, 'E10': 2311, 'E10.0': 2312, 'E10.1': 2313, 'E10.2': 2314, 'E10.3': 2315, 'E10.4': 2316, 'E10.5': 2317, 'E10.6': 2318, 'E10.7': 2319, 'E10.8': 2320, 'E10.9': 2321, 'E11': 2322, 'E11.0': 2323, 'E11.1': 2324, 'E11.2': 2325, 'E11.3': 2326, 'E11.4': 2327, 'E11.5': 2328, 'E11.6': 2329, 'E11.7': 2330, 'E11.8': 2331, 'E11.9': 2332, 'E12': 2333, 'E12.0': 2334, 'E12.1': 2335, 'E12.2': 2336, 'E12.3': 2337, 'E12.4': 2338, 'E12.5': 2339, 'E12.6': 2340, 'E12.7': 2341, 'E12.8': 2342, 'E12.9': 2343, 'E13': 2344, 'E13.0': 2345, 'E13.1': 2346, 'E13.2': 2347, 'E13.3': 2348, 'E13.4': 2349, 'E13.5': 2350, 'E13.6': 2351, 'E13.7': 2352, 'E13.8': 2353, 'E13.9': 2354, 'E14': 2355, 'E14.0': 2356, 'E14.1': 2357, 'E14.2': 2358, 'E14.3': 2359, 'E14.4': 2360, 'E14.5': 2361, 'E14.6': 2362, 'E14.7': 2363, 'E14.8': 2364, 'E14.9': 2365, 'E15': 2366, 'E15.9': 2367, 'E16': 2368, 'E16.0': 2369, 'E16.1': 2370, 'E16.2': 2371, 'E16.3': 2372, 'E16.8': 2373, 'E16.9': 2374, 'E20': 2375, 'E20.0': 2376, 'E20.1': 2377, 'E20.8': 2378, 'E20.9': 2379, 'E21': 2380, 'E21.0': 2381, 'E21.1': 2382, 'E21.2': 2383, 'E21.3': 2384, 'E21.4': 2385, 'E21.5': 2386, 'E22': 2387, 'E22.0': 2388, 'E22.1': 2389, 'E22.2': 2390, 'E22.8': 2391, 'E22.9': 2392, 'E23': 2393, 'E23.0': 2394, 'E23.1': 2395, 'E23.2': 2396, 'E23.3': 2397, 'E23.6': 2398, 'E23.7': 2399, 'E24': 2400, 'E24.0': 2401, 'E24.1': 2402, 'E24.2': 2403, 'E24.3': 2404, 'E24.4': 2405, 'E24.8': 2406, 'E24.9': 2407, 'E25': 2408, 'E25.0': 2409, 'E25.8': 2410, 'E25.9': 2411, 'E26': 2412, 'E26.0': 2413, 'E26.1': 2414, 'E26.8': 2415, 'E26.9': 2416, 'E27': 2417, 'E27.0': 2418, 'E27.1': 2419, 'E27.2': 2420, 'E27.3': 2421, 'E27.4': 2422, 'E27.5': 2423, 'E27.8': 2424, 'E27.9': 2425, 'E28': 2426, 'E28.0': 2427, 'E28.1': 2428, 'E28.2': 2429, 'E28.3': 2430, 'E28.8': 2431, 'E28.9': 2432, 'E29': 2433, 'E29.0': 2434, 'E29.1': 2435, 'E29.8': 2436, 'E29.9': 2437, 'E30': 2438, 'E30.0': 2439, 'E30.1': 2440, 'E30.8': 2441, 'E30.9': 2442, 'E31': 2443, 'E31.0': 2444, 'E31.1': 2445, 'E31.8': 2446, 'E31.9': 2447, 'E32': 2448, 'E32.0': 2449, 'E32.1': 2450, 'E32.8': 2451, 'E32.9': 2452, 'E34': 2453, 'E34.0': 2454, 'E34.1': 2455, 'E34.2': 2456, 'E34.3': 2457, 'E34.4': 2458, 'E34.5': 2459, 'E34.8': 2460, 'E34.9': 2461, 'E35': 2462, 'E35.0': 2463, 'E35.1': 2464, 'E35.8': 2465, 'E40': 2466, 'E40.9': 2467, 'E41': 2468, 'E41.9': 2469, 'E42': 2470, 'E42.9': 2471, 'E43': 2472, 'E43.9': 2473, 'E44': 2474, 'E44.0': 2475, 'E44.1': 2476, 'E45': 2477, 'E45.9': 2478, 'E46': 2479, 'E46.9': 2480, 'E50': 2481, 'E50.0': 2482, 'E50.1': 2483, 'E50.2': 2484, 'E50.3': 2485, 'E50.4': 2486, 'E50.5': 2487, 'E50.6': 2488, 'E50.7': 2489, 'E50.8': 2490, 'E50.9': 2491, 'E51': 2492, 'E51.1': 2493, 'E51.2': 2494, 'E51.8': 2495, 'E51.9': 2496, 'E52': 2497, 'E52.9': 2498, 'E53': 2499, 'E53.0': 2500, 'E53.1': 2501, 'E53.8': 2502, 'E53.9': 2503, 'E54': 2504, 'E54.9': 2505, 'E55': 2506, 'E55.0': 2507, 'E55.9': 2508, 'E56': 2509, 'E56.0': 2510, 'E56.1': 2511, 'E56.8': 2512, 'E56.9': 2513, 'E58': 2514, 'E58.9': 2515, 'E59': 2516, 'E59.9': 2517, 'E60': 2518, 'E60.9': 2519, 'E61': 2520, 'E61.0': 2521, 'E61.1': 2522, 'E61.2': 2523, 'E61.3': 2524, 'E61.4': 2525, 'E61.5': 2526, 'E61.6': 2527, 'E61.7': 2528, 'E61.8': 2529, 'E61.9': 2530, 'E63': 2531, 'E63.0': 2532, 'E63.1': 2533, 'E63.8': 2534, 'E63.9': 2535, 'E64': 2536, 'E64.0': 2537, 'E64.1': 2538, 'E64.2': 2539, 'E64.3': 2540, 'E64.8': 2541, 'E64.9': 2542, 'E65': 2543, 'E65.9': 2544, 'E66': 2545, 'E66.0': 2546, 'E66.1': 2547, 'E66.2': 2548, 'E66.8': 2549, 'E66.9': 2550, 'E67': 2551, 'E67.0': 2552, 'E67.1': 2553, 'E67.2': 2554, 'E67.3': 2555, 'E67.8': 2556, 'E68': 2557, 'E68.9': 2558, 'E70': 2559, 'E70.0': 2560, 'E70.1': 2561, 'E70.2': 2562, 'E70.3': 2563, 'E70.8': 2564, 'E70.9': 2565, 'E71': 2566, 'E71.0': 2567, 'E71.1': 2568, 'E71.2': 2569, 'E71.3': 2570, 'E72': 2571, 'E72.0': 2572, 'E72.1': 2573, 'E72.2': 2574, 'E72.3': 2575, 'E72.4': 2576, 'E72.5': 2577, 'E72.8': 2578, 'E72.9': 2579, 'E73': 2580, 'E73.0': 2581, 'E73.1': 2582, 'E73.8': 2583, 'E73.9': 2584, 'E74': 2585, 'E74.0': 2586, 'E74.1': 2587, 'E74.2': 2588, 'E74.3': 2589, 'E74.4': 2590, 'E74.8': 2591, 'E74.9': 2592, 'E75': 2593, 'E75.0': 2594, 'E75.1': 2595, 'E75.2': 2596, 'E75.3': 2597, 'E75.4': 2598, 'E75.5': 2599, 'E75.6': 2600, 'E76': 2601, 'E76.0': 2602, 'E76.1': 2603, 'E76.2': 2604, 'E76.3': 2605, 'E76.8': 2606, 'E76.9': 2607, 'E77': 2608, 'E77.0': 2609, 'E77.1': 2610, 'E77.8': 2611, 'E77.9': 2612, 'E78': 2613, 'E78.0': 2614, 'E78.1': 2615, 'E78.2': 2616, 'E78.3': 2617, 'E78.4': 2618, 'E78.5': 2619, 'E78.6': 2620, 'E78.8': 2621, 'E78.9': 2622, 'E79': 2623, 'E79.0': 2624, 'E79.1': 2625, 'E79.8': 2626, 'E79.9': 2627, 'E80': 2628, 'E80.0': 2629, 'E80.1': 2630, 'E80.2': 2631, 'E80.3': 2632, 'E80.4': 2633, 'E80.5': 2634, 'E80.6': 2635, 'E80.7': 2636, 'E83': 2637, 'E83.0': 2638, 'E83.1': 2639, 'E83.2': 2640, 'E83.3': 2641, 'E83.4': 2642, 'E83.5': 2643, 'E83.8': 2644, 'E83.9': 2645, 'E84': 2646, 'E84.0': 2647, 'E84.1': 2648, 'E84.8': 2649, 'E84.9': 2650, 'E85': 2651, 'E85.0': 2652, 'E85.1': 2653, 'E85.2': 2654, 'E85.3': 2655, 'E85.4': 2656, 'E85.8': 2657, 'E85.9': 2658, 'E86': 2659, 'E86.9': 2660, 'E87': 2661, 'E87.0': 2662, 'E87.1': 2663, 'E87.2': 2664, 'E87.3': 2665, 'E87.4': 2666, 'E87.5': 2667, 'E87.6': 2668, 'E87.7': 2669, 'E87.8': 2670, 'E88': 2671, 'E88.0': 2672, 'E88.1': 2673, 'E88.2': 2674, 'E88.8': 2675, 'E88.9': 2676, 'E89': 2677, 'E89.0': 2678, 'E89.1': 2679, 'E89.2': 2680, 'E89.3': 2681, 'E89.4': 2682, 'E89.5': 2683, 'E89.6': 2684, 'E89.8': 2685, 'E89.9': 2686, 'E90': 2687, 'E90.9': 2688, 'F00': 2689, 'F00.0': 2690, 'F00.1': 2691, 'F00.2': 2692, 'F00.9': 2693, 'F01': 2694, 'F01.0': 2695, 'F01.1': 2696, 'F01.2': 2697, 'F01.3': 2698, 'F01.8': 2699, 'F01.9': 2700, 'F02': 2701, 'F02.0': 2702, 'F02.1': 2703, 'F02.2': 2704, 'F02.3': 2705, 'F02.4': 2706, 'F02.8': 2707, 'F03': 2708, 'F03.9': 2709, 'F04': 2710, 'F04.9': 2711, 'F05': 2712, 'F05.0': 2713, 'F05.1': 2714, 'F05.8': 2715, 'F05.9': 2716, 'F06': 2717, 'F06.0': 2718, 'F06.1': 2719, 'F06.2': 2720, 'F06.3': 2721, 'F06.4': 2722, 'F06.5': 2723, 'F06.6': 2724, 'F06.7': 2725, 'F06.8': 2726, 'F06.9': 2727, 'F07': 2728, 'F07.0': 2729, 'F07.1': 2730, 'F07.2': 2731, 'F07.8': 2732, 'F07.9': 2733, 'F09': 2734, 'F09.9': 2735, 'F10': 2736, 'F10.0': 2737, 'F10.1': 2738, 'F10.2': 2739, 'F10.3': 2740, 'F10.4': 2741, 'F10.5': 2742, 'F10.6': 2743, 'F10.7': 2744, 'F10.8': 2745, 'F10.9': 2746, 'F11': 2747, 'F11.0': 2748, 'F11.1': 2749, 'F11.2': 2750, 'F11.3': 2751, 'F11.4': 2752, 'F11.5': 2753, 'F11.6': 2754, 'F11.7': 2755, 'F11.8': 2756, 'F11.9': 2757, 'F12': 2758, 'F12.0': 2759, 'F12.1': 2760, 'F12.2': 2761, 'F12.3': 2762, 'F12.4': 2763, 'F12.5': 2764, 'F12.6': 2765, 'F12.7': 2766, 'F12.8': 2767, 'F12.9': 2768, 'F13': 2769, 'F13.0': 2770, 'F13.1': 2771, 'F13.2': 2772, 'F13.3': 2773, 'F13.4': 2774, 'F13.5': 2775, 'F13.6': 2776, 'F13.7': 2777, 'F13.8': 2778, 'F13.9': 2779, 'F14': 2780, 'F14.0': 2781, 'F14.1': 2782, 'F14.2': 2783, 'F14.3': 2784, 'F14.4': 2785, 'F14.5': 2786, 'F14.6': 2787, 'F14.7': 2788, 'F14.8': 2789, 'F14.9': 2790, 'F15': 2791, 'F15.0': 2792, 'F15.1': 2793, 'F15.2': 2794, 'F15.3': 2795, 'F15.4': 2796, 'F15.5': 2797, 'F15.6': 2798, 'F15.7': 2799, 'F15.8': 2800, 'F15.9': 2801, 'F16': 2802, 'F16.0': 2803, 'F16.1': 2804, 'F16.2': 2805, 'F16.3': 2806, 'F16.4': 2807, 'F16.5': 2808, 'F16.6': 2809, 'F16.7': 2810, 'F16.8': 2811, 'F16.9': 2812, 'F17': 2813, 'F17.0': 2814, 'F17.1': 2815, 'F17.2': 2816, 'F17.3': 2817, 'F17.4': 2818, 'F17.5': 2819, 'F17.6': 2820, 'F17.7': 2821, 'F17.8': 2822, 'F17.9': 2823, 'F18': 2824, 'F18.0': 2825, 'F18.1': 2826, 'F18.2': 2827, 'F18.3': 2828, 'F18.4': 2829, 'F18.5': 2830, 'F18.6': 2831, 'F18.7': 2832, 'F18.8': 2833, 'F18.9': 2834, 'F19': 2835, 'F19.0': 2836, 'F19.1': 2837, 'F19.2': 2838, 'F19.3': 2839, 'F19.4': 2840, 'F19.5': 2841, 'F19.6': 2842, 'F19.7': 2843, 'F19.8': 2844, 'F19.9': 2845, 'F20': 2846, 'F20.0': 2847, 'F20.1': 2848, 'F20.2': 2849, 'F20.3': 2850, 'F20.4': 2851, 'F20.5': 2852, 'F20.6': 2853, 'F20.8': 2854, 'F20.9': 2855, 'F21': 2856, 'F21.9': 2857, 'F22': 2858, 'F22.0': 2859, 'F22.8': 2860, 'F22.9': 2861, 'F23': 2862, 'F23.0': 2863, 'F23.1': 2864, 'F23.2': 2865, 'F23.3': 2866, 'F23.8': 2867, 'F23.9': 2868, 'F24': 2869, 'F24.9': 2870, 'F25': 2871, 'F25.0': 2872, 'F25.1': 2873, 'F25.2': 2874, 'F25.8': 2875, 'F25.9': 2876, 'F28': 2877, 'F28.9': 2878, 'F29': 2879, 'F29.9': 2880, 'F30': 2881, 'F30.0': 2882, 'F30.1': 2883, 'F30.2': 2884, 'F30.8': 2885, 'F30.9': 2886, 'F31': 2887, 'F31.0': 2888, 'F31.1': 2889, 'F31.2': 2890, 'F31.3': 2891, 'F31.4': 2892, 'F31.5': 2893, 'F31.6': 2894, 'F31.7': 2895, 'F31.8': 2896, 'F31.9': 2897, 'F32': 2898, 'F32.0': 2899, 'F32.1': 2900, 'F32.2': 2901, 'F32.3': 2902, 'F32.8': 2903, 'F32.9': 2904, 'F33': 2905, 'F33.0': 2906, 'F33.1': 2907, 'F33.2': 2908, 'F33.3': 2909, 'F33.4': 2910, 'F33.8': 2911, 'F33.9': 2912, 'F34': 2913, 'F34.0': 2914, 'F34.1': 2915, 'F34.8': 2916, 'F34.9': 2917, 'F38': 2918, 'F38.0': 2919, 'F38.1': 2920, 'F38.8': 2921, 'F39': 2922, 'F39.9': 2923, 'F40': 2924, 'F40.0': 2925, 'F40.1': 2926, 'F40.2': 2927, 'F40.8': 2928, 'F40.9': 2929, 'F41': 2930, 'F41.0': 2931, 'F41.1': 2932, 'F41.2': 2933, 'F41.3': 2934, 'F41.8': 2935, 'F41.9': 2936, 'F42': 2937, 'F42.0': 2938, 'F42.1': 2939, 'F42.2': 2940, 'F42.8': 2941, 'F42.9': 2942, 'F43': 2943, 'F43.0': 2944, 'F43.1': 2945, 'F43.2': 2946, 'F43.8': 2947, 'F43.9': 2948, 'F44': 2949, 'F44.0': 2950, 'F44.1': 2951, 'F44.2': 2952, 'F44.3': 2953, 'F44.4': 2954, 'F44.5': 2955, 'F44.6': 2956, 'F44.7': 2957, 'F44.8': 2958, 'F44.9': 2959, 'F45': 2960, 'F45.0': 2961, 'F45.1': 2962, 'F45.2': 2963, 'F45.3': 2964, 'F45.4': 2965, 'F45.8': 2966, 'F45.9': 2967, 'F48': 2968, 'F48.0': 2969, 'F48.1': 2970, 'F48.8': 2971, 'F48.9': 2972, 'F50': 2973, 'F50.0': 2974, 'F50.1': 2975, 'F50.2': 2976, 'F50.3': 2977, 'F50.4': 2978, 'F50.5': 2979, 'F50.8': 2980, 'F50.9': 2981, 'F51': 2982, 'F51.0': 2983, 'F51.1': 2984, 'F51.2': 2985, 'F51.3': 2986, 'F51.4': 2987, 'F51.5': 2988, 'F51.8': 2989, 'F51.9': 2990, 'F52': 2991, 'F52.0': 2992, 'F52.1': 2993, 'F52.2': 2994, 'F52.3': 2995, 'F52.4': 2996, 'F52.5': 2997, 'F52.6': 2998, 'F52.7': 2999, 'F52.8': 3000, 'F52.9': 3001, 'F53': 3002, 'F53.0': 3003, 'F53.1': 3004, 'F53.8': 3005, 'F53.9': 3006, 'F54': 3007, 'F54.9': 3008, 'F55': 3009, 'F55.9': 3010, 'F59': 3011, 'F59.9': 3012, 'F60': 3013, 'F60.0': 3014, 'F60.1': 3015, 'F60.2': 3016, 'F60.3': 3017, 'F60.4': 3018, 'F60.5': 3019, 'F60.6': 3020, 'F60.7': 3021, 'F60.8': 3022, 'F60.9': 3023, 'F61': 3024, 'F61.9': 3025, 'F62': 3026, 'F62.0': 3027, 'F62.1': 3028, 'F62.8': 3029, 'F62.9': 3030, 'F63': 3031, 'F63.0': 3032, 'F63.1': 3033, 'F63.2': 3034, 'F63.3': 3035, 'F63.8': 3036, 'F63.9': 3037, 'F64': 3038, 'F64.0': 3039, 'F64.1': 3040, 'F64.2': 3041, 'F64.8': 3042, 'F64.9': 3043, 'F65': 3044, 'F65.0': 3045, 'F65.1': 3046, 'F65.2': 3047, 'F65.3': 3048, 'F65.4': 3049, 'F65.5': 3050, 'F65.6': 3051, 'F65.8': 3052, 'F65.9': 3053, 'F66': 3054, 'F66.0': 3055, 'F66.1': 3056, 'F66.2': 3057, 'F66.8': 3058, 'F66.9': 3059, 'F68': 3060, 'F68.0': 3061, 'F68.1': 3062, 'F68.8': 3063, 'F69': 3064, 'F69.9': 3065, 'F70': 3066, 'F70.0': 3067, 'F70.1': 3068, 'F70.8': 3069, 'F70.9': 3070, 'F71': 3071, 'F71.0': 3072, 'F71.1': 3073, 'F71.8': 3074, 'F71.9': 3075, 'F72': 3076, 'F72.0': 3077, 'F72.1': 3078, 'F72.8': 3079, 'F72.9': 3080, 'F73': 3081, 'F73.0': 3082, 'F73.1': 3083, 'F73.8': 3084, 'F73.9': 3085, 'F78': 3086, 'F78.0': 3087, 'F78.1': 3088, 'F78.8': 3089, 'F78.9': 3090, 'F79': 3091, 'F79.0': 3092, 'F79.1': 3093, 'F79.8': 3094, 'F79.9': 3095, 'F80': 3096, 'F80.0': 3097, 'F80.1': 3098, 'F80.2': 3099, 'F80.3': 3100, 'F80.8': 3101, 'F80.9': 3102, 'F81': 3103, 'F81.0': 3104, 'F81.1': 3105, 'F81.2': 3106, 'F81.3': 3107, 'F81.8': 3108, 'F81.9': 3109, 'F82': 3110, 'F82.9': 3111, 'F83': 3112, 'F83.9': 3113, 'F84': 3114, 'F84.0': 3115, 'F84.1': 3116, 'F84.2': 3117, 'F84.3': 3118, 'F84.4': 3119, 'F84.5': 3120, 'F84.8': 3121, 'F84.9': 3122, 'F88': 3123, 'F88.9': 3124, 'F89': 3125, 'F89.9': 3126, 'F90': 3127, 'F90.0': 3128, 'F90.1': 3129, 'F90.8': 3130, 'F90.9': 3131, 'F91': 3132, 'F91.0': 3133, 'F91.1': 3134, 'F91.2': 3135, 'F91.3': 3136, 'F91.8': 3137, 'F91.9': 3138, 'F92': 3139, 'F92.0': 3140, 'F92.8': 3141, 'F92.9': 3142, 'F93': 3143, 'F93.0': 3144, 'F93.1': 3145, 'F93.2': 3146, 'F93.3': 3147, 'F93.8': 3148, 'F93.9': 3149, 'F94': 3150, 'F94.0': 3151, 'F94.1': 3152, 'F94.2': 3153, 'F94.8': 3154, 'F94.9': 3155, 'F95': 3156, 'F95.0': 3157, 'F95.1': 3158, 'F95.2': 3159, 'F95.8': 3160, 'F95.9': 3161, 'F98': 3162, 'F98.0': 3163, 'F98.1': 3164, 'F98.2': 3165, 'F98.3': 3166, 'F98.4': 3167, 'F98.5': 3168, 'F98.6': 3169, 'F98.8': 3170, 'F98.9': 3171, 'F99': 3172, 'F99.9': 3173, 'G00': 3174, 'G00.0': 3175, 'G00.1': 3176, 'G00.2': 3177, 'G00.3': 3178, 'G00.8': 3179, 'G00.9': 3180, 'G01': 3181, 'G01.9': 3182, 'G02': 3183, 'G02.0': 3184, 'G02.1': 3185, 'G02.8': 3186, 'G03': 3187, 'G03.0': 3188, 'G03.1': 3189, 'G03.2': 3190, 'G03.8': 3191, 'G03.9': 3192, 'G04': 3193, 'G04.0': 3194, 'G04.1': 3195, 'G04.2': 3196, 'G04.8': 3197, 'G04.9': 3198, 'G05': 3199, 'G05.0': 3200, 'G05.1': 3201, 'G05.2': 3202, 'G05.8': 3203, 'G06': 3204, 'G06.0': 3205, 'G06.1': 3206, 'G06.2': 3207, 'G07': 3208, 'G07.9': 3209, 'G08': 3210, 'G08.9': 3211, 'G09': 3212, 'G09.9': 3213, 'G10': 3214, 'G10.9': 3215, 'G11': 3216, 'G11.0': 3217, 'G11.1': 3218, 'G11.2': 3219, 'G11.3': 3220, 'G11.4': 3221, 'G11.8': 3222, 'G11.9': 3223, 'G12': 3224, 'G12.0': 3225, 'G12.1': 3226, 'G12.2': 3227, 'G12.8': 3228, 'G12.9': 3229, 'G13': 3230, 'G13.0': 3231, 'G13.1': 3232, 'G13.2': 3233, 'G13.8': 3234, 'G20': 3235, 'G20.9': 3236, 'G21': 3237, 'G21.0': 3238, 'G21.1': 3239, 'G21.2': 3240, 'G21.3': 3241, 'G21.8': 3242, 'G21.9': 3243, 'G22': 3244, 'G22.9': 3245, 'G23': 3246, 'G23.0': 3247, 'G23.1': 3248, 'G23.2': 3249, 'G23.8': 3250, 'G23.9': 3251, 'G24': 3252, 'G24.0': 3253, 'G24.1': 3254, 'G24.2': 3255, 'G24.3': 3256, 'G24.4': 3257, 'G24.5': 3258, 'G24.8': 3259, 'G24.9': 3260, 'G25': 3261, 'G25.0': 3262, 'G25.1': 3263, 'G25.2': 3264, 'G25.3': 3265, 'G25.4': 3266, 'G25.5': 3267, 'G25.6': 3268, 'G25.8': 3269, 'G25.9': 3270, 'G26': 3271, 'G26.9': 3272, 'G30': 3273, 'G30.0': 3274, 'G30.1': 3275, 'G30.8': 3276, 'G30.9': 3277, 'G31': 3278, 'G31.0': 3279, 'G31.1': 3280, 'G31.2': 3281, 'G31.8': 3282, 'G31.9': 3283, 'G32': 3284, 'G32.0': 3285, 'G32.8': 3286, 'G35': 3287, 'G35.9': 3288, 'G36': 3289, 'G36.0': 3290, 'G36.1': 3291, 'G36.8': 3292, 'G36.9': 3293, 'G37': 3294, 'G37.0': 3295, 'G37.1': 3296, 'G37.2': 3297, 'G37.3': 3298, 'G37.4': 3299, 'G37.5': 3300, 'G37.8': 3301, 'G37.9': 3302, 'G40': 3303, 'G40.0': 3304, 'G40.1': 3305, 'G40.2': 3306, 'G40.3': 3307, 'G40.4': 3308, 'G40.5': 3309, 'G40.6': 3310, 'G40.7': 3311, 'G40.8': 3312, 'G40.9': 3313, 'G41': 3314, 'G41.0': 3315, 'G41.1': 3316, 'G41.2': 3317, 'G41.8': 3318, 'G41.9': 3319, 'G43': 3320, 'G43.0': 3321, 'G43.1': 3322, 'G43.2': 3323, 'G43.3': 3324, 'G43.8': 3325, 'G43.9': 3326, 'G44': 3327, 'G44.0': 3328, 'G44.1': 3329, 'G44.2': 3330, 'G44.3': 3331, 'G44.4': 3332, 'G44.8': 3333, 'G45': 3334, 'G45.0': 3335, 'G45.1': 3336, 'G45.2': 3337, 'G45.3': 3338, 'G45.4': 3339, 'G45.8': 3340, 'G45.9': 3341, 'G46': 3342, 'G46.0': 3343, 'G46.1': 3344, 'G46.2': 3345, 'G46.3': 3346, 'G46.4': 3347, 'G46.5': 3348, 'G46.6': 3349, 'G46.7': 3350, 'G46.8': 3351, 'G47': 3352, 'G47.0': 3353, 'G47.1': 3354, 'G47.2': 3355, 'G47.3': 3356, 'G47.4': 3357, 'G47.8': 3358, 'G47.9': 3359, 'G50': 3360, 'G50.0': 3361, 'G50.1': 3362, 'G50.8': 3363, 'G50.9': 3364, 'G51': 3365, 'G51.0': 3366, 'G51.1': 3367, 'G51.2': 3368, 'G51.3': 3369, 'G51.4': 3370, 'G51.8': 3371, 'G51.9': 3372, 'G52': 3373, 'G52.0': 3374, 'G52.1': 3375, 'G52.2': 3376, 'G52.3': 3377, 'G52.7': 3378, 'G52.8': 3379, 'G52.9': 3380, 'G53': 3381, 'G53.0': 3382, 'G53.1': 3383, 'G53.2': 3384, 'G53.3': 3385, 'G53.8': 3386, 'G54': 3387, 'G54.0': 3388, 'G54.1': 3389, 'G54.2': 3390, 'G54.3': 3391, 'G54.4': 3392, 'G54.5': 3393, 'G54.6': 3394, 'G54.7': 3395, 'G54.8': 3396, 'G54.9': 3397, 'G55': 3398, 'G55.0': 3399, 'G55.1': 3400, 'G55.2': 3401, 'G55.3': 3402, 'G55.8': 3403, 'G56': 3404, 'G56.0': 3405, 'G56.1': 3406, 'G56.2': 3407, 'G56.3': 3408, 'G56.4': 3409, 'G56.8': 3410, 'G56.9': 3411, 'G57': 3412, 'G57.0': 3413, 'G57.1': 3414, 'G57.2': 3415, 'G57.3': 3416, 'G57.4': 3417, 'G57.5': 3418, 'G57.6': 3419, 'G57.8': 3420, 'G57.9': 3421, 'G58': 3422, 'G58.0': 3423, 'G58.7': 3424, 'G58.8': 3425, 'G58.9': 3426, 'G59': 3427, 'G59.0': 3428, 'G59.8': 3429, 'G60': 3430, 'G60.0': 3431, 'G60.1': 3432, 'G60.2': 3433, 'G60.3': 3434, 'G60.8': 3435, 'G60.9': 3436, 'G61': 3437, 'G61.0': 3438, 'G61.1': 3439, 'G61.8': 3440, 'G61.9': 3441, 'G62': 3442, 'G62.0': 3443, 'G62.1': 3444, 'G62.2': 3445, 'G62.8': 3446, 'G62.9': 3447, 'G63': 3448, 'G63.0': 3449, 'G63.1': 3450, 'G63.2': 3451, 'G63.3': 3452, 'G63.4': 3453, 'G63.5': 3454, 'G63.6': 3455, 'G63.8': 3456, 'G64': 3457, 'G64.9': 3458, 'G70': 3459, 'G70.0': 3460, 'G70.1': 3461, 'G70.2': 3462, 'G70.8': 3463, 'G70.9': 3464, 'G71': 3465, 'G71.0': 3466, 'G71.1': 3467, 'G71.2': 3468, 'G71.3': 3469, 'G71.8': 3470, 'G71.9': 3471, 'G72': 3472, 'G72.0': 3473, 'G72.1': 3474, 'G72.2': 3475, 'G72.3': 3476, 'G72.4': 3477, 'G72.8': 3478, 'G72.9': 3479, 'G73': 3480, 'G73.0': 3481, 'G73.1': 3482, 'G73.2': 3483, 'G73.3': 3484, 'G73.4': 3485, 'G73.5': 3486, 'G73.6': 3487, 'G73.7': 3488, 'G80': 3489, 'G80.0': 3490, 'G80.1': 3491, 'G80.2': 3492, 'G80.3': 3493, 'G80.4': 3494, 'G80.8': 3495, 'G80.9': 3496, 'G81': 3497, 'G81.0': 3498, 'G81.1': 3499, 'G81.9': 3500, 'G82': 3501, 'G82.0': 3502, 'G82.1': 3503, 'G82.2': 3504, 'G82.3': 3505, 'G82.4': 3506, 'G82.5': 3507, 'G83': 3508, 'G83.0': 3509, 'G83.1': 3510, 'G83.2': 3511, 'G83.3': 3512, 'G83.4': 3513, 'G83.8': 3514, 'G83.9': 3515, 'G90': 3516, 'G90.0': 3517, 'G90.1': 3518, 'G90.2': 3519, 'G90.3': 3520, 'G90.8': 3521, 'G90.9': 3522, 'G91': 3523, 'G91.0': 3524, 'G91.1': 3525, 'G91.2': 3526, 'G91.3': 3527, 'G91.8': 3528, 'G91.9': 3529, 'G92': 3530, 'G92.9': 3531, 'G93': 3532, 'G93.0': 3533, 'G93.1': 3534, 'G93.2': 3535, 'G93.3': 3536, 'G93.4': 3537, 'G93.5': 3538, 'G93.6': 3539, 'G93.7': 3540, 'G93.8': 3541, 'G93.9': 3542, 'G94': 3543, 'G94.0': 3544, 'G94.1': 3545, 'G94.2': 3546, 'G94.8': 3547, 'G95': 3548, 'G95.0': 3549, 'G95.1': 3550, 'G95.2': 3551, 'G95.8': 3552, 'G95.9': 3553, 'G96': 3554, 'G96.0': 3555, 'G96.1': 3556, 'G96.8': 3557, 'G96.9': 3558, 'G97': 3559, 'G97.0': 3560, 'G97.1': 3561, 'G97.2': 3562, 'G97.8': 3563, 'G97.9': 3564, 'G98': 3565, 'G98.9': 3566, 'G99': 3567, 'G99.0': 3568, 'G99.1': 3569, 'G99.2': 3570, 'G99.8': 3571, 'H00': 3572, 'H00.0': 3573, 'H00.1': 3574, 'H01': 3575, 'H01.0': 3576, 'H01.1': 3577, 'H01.8': 3578, 'H01.9': 3579, 'H02': 3580, 'H02.0': 3581, 'H02.1': 3582, 'H02.2': 3583, 'H02.3': 3584, 'H02.4': 3585, 'H02.5': 3586, 'H02.6': 3587, 'H02.7': 3588, 'H02.8': 3589, 'H02.9': 3590, 'H03': 3591, 'H03.0': 3592, 'H03.1': 3593, 'H03.8': 3594, 'H04': 3595, 'H04.0': 3596, 'H04.1': 3597, 'H04.2': 3598, 'H04.3': 3599, 'H04.4': 3600, 'H04.5': 3601, 'H04.6': 3602, 'H04.8': 3603, 'H04.9': 3604, 'H05': 3605, 'H05.0': 3606, 'H05.1': 3607, 'H05.2': 3608, 'H05.3': 3609, 'H05.4': 3610, 'H05.5': 3611, 'H05.8': 3612, 'H05.9': 3613, 'H06': 3614, 'H06.0': 3615, 'H06.1': 3616, 'H06.2': 3617, 'H06.3': 3618, 'H10': 3619, 'H10.0': 3620, 'H10.1': 3621, 'H10.2': 3622, 'H10.3': 3623, 'H10.4': 3624, 'H10.5': 3625, 'H10.8': 3626, 'H10.9': 3627, 'H11': 3628, 'H11.0': 3629, 'H11.1': 3630, 'H11.2': 3631, 'H11.3': 3632, 'H11.4': 3633, 'H11.8': 3634, 'H11.9': 3635, 'H13': 3636, 'H13.0': 3637, 'H13.1': 3638, 'H13.2': 3639, 'H13.3': 3640, 'H13.8': 3641, 'H15': 3642, 'H15.0': 3643, 'H15.1': 3644, 'H15.8': 3645, 'H15.9': 3646, 'H16': 3647, 'H16.0': 3648, 'H16.1': 3649, 'H16.2': 3650, 'H16.3': 3651, 'H16.4': 3652, 'H16.8': 3653, 'H16.9': 3654, 'H17': 3655, 'H17.0': 3656, 'H17.1': 3657, 'H17.8': 3658, 'H17.9': 3659, 'H18': 3660, 'H18.0': 3661, 'H18.1': 3662, 'H18.2': 3663, 'H18.3': 3664, 'H18.4': 3665, 'H18.5': 3666, 'H18.6': 3667, 'H18.7': 3668, 'H18.8': 3669, 'H18.9': 3670, 'H19': 3671, 'H19.0': 3672, 'H19.1': 3673, 'H19.2': 3674, 'H19.3': 3675, 'H19.8': 3676, 'H20': 3677, 'H20.0': 3678, 'H20.1': 3679, 'H20.2': 3680, 'H20.8': 3681, 'H20.9': 3682, 'H21': 3683, 'H21.0': 3684, 'H21.1': 3685, 'H21.2': 3686, 'H21.3': 3687, 'H21.4': 3688, 'H21.5': 3689, 'H21.8': 3690, 'H21.9': 3691, 'H22': 3692, 'H22.0': 3693, 'H22.1': 3694, 'H22.8': 3695, 'H25': 3696, 'H25.0': 3697, 'H25.1': 3698, 'H25.2': 3699, 'H25.8': 3700, 'H25.9': 3701, 'H26': 3702, 'H26.0': 3703, 'H26.1': 3704, 'H26.2': 3705, 'H26.3': 3706, 'H26.4': 3707, 'H26.8': 3708, 'H26.9': 3709, 'H27': 3710, 'H27.0': 3711, 'H27.1': 3712, 'H27.8': 3713, 'H27.9': 3714, 'H28': 3715, 'H28.0': 3716, 'H28.1': 3717, 'H28.2': 3718, 'H28.8': 3719, 'H30': 3720, 'H30.0': 3721, 'H30.1': 3722, 'H30.2': 3723, 'H30.8': 3724, 'H30.9': 3725, 'H31': 3726, 'H31.0': 3727, 'H31.1': 3728, 'H31.2': 3729, 'H31.3': 3730, 'H31.4': 3731, 'H31.8': 3732, 'H31.9': 3733, 'H32': 3734, 'H32.0': 3735, 'H32.8': 3736, 'H33': 3737, 'H33.0': 3738, 'H33.1': 3739, 'H33.2': 3740, 'H33.3': 3741, 'H33.4': 3742, 'H33.5': 3743, 'H34': 3744, 'H34.0': 3745, 'H34.1': 3746, 'H34.2': 3747, 'H34.8': 3748, 'H34.9': 3749, 'H35': 3750, 'H35.0': 3751, 'H35.1': 3752, 'H35.2': 3753, 'H35.3': 3754, 'H35.4': 3755, 'H35.5': 3756, 'H35.6': 3757, 'H35.7': 3758, 'H35.8': 3759, 'H35.9': 3760, 'H36': 3761, 'H36.0': 3762, 'H36.8': 3763, 'H40': 3764, 'H40.0': 3765, 'H40.1': 3766, 'H40.2': 3767, 'H40.3': 3768, 'H40.4': 3769, 'H40.5': 3770, 'H40.6': 3771, 'H40.8': 3772, 'H40.9': 3773, 'H42': 3774, 'H42.0': 3775, 'H42.8': 3776, 'H43': 3777, 'H43.0': 3778, 'H43.1': 3779, 'H43.2': 3780, 'H43.3': 3781, 'H43.8': 3782, 'H43.9': 3783, 'H44': 3784, 'H44.0': 3785, 'H44.1': 3786, 'H44.2': 3787, 'H44.3': 3788, 'H44.4': 3789, 'H44.5': 3790, 'H44.6': 3791, 'H44.7': 3792, 'H44.8': 3793, 'H44.9': 3794, 'H45': 3795, 'H45.0': 3796, 'H45.1': 3797, 'H45.8': 3798, 'H46': 3799, 'H46.9': 3800, 'H47': 3801, 'H47.0': 3802, 'H47.1': 3803, 'H47.2': 3804, 'H47.3': 3805, 'H47.4': 3806, 'H47.5': 3807, 'H47.6': 3808, 'H47.7': 3809, 'H48': 3810, 'H48.0': 3811, 'H48.1': 3812, 'H48.8': 3813, 'H49': 3814, 'H49.0': 3815, 'H49.1': 3816, 'H49.2': 3817, 'H49.3': 3818, 'H49.4': 3819, 'H49.8': 3820, 'H49.9': 3821, 'H50': 3822, 'H50.0': 3823, 'H50.1': 3824, 'H50.2': 3825, 'H50.3': 3826, 'H50.4': 3827, 'H50.5': 3828, 'H50.6': 3829, 'H50.8': 3830, 'H50.9': 3831, 'H51': 3832, 'H51.0': 3833, 'H51.1': 3834, 'H51.2': 3835, 'H51.8': 3836, 'H51.9': 3837, 'H52': 3838, 'H52.0': 3839, 'H52.1': 3840, 'H52.2': 3841, 'H52.3': 3842, 'H52.4': 3843, 'H52.5': 3844, 'H52.6': 3845, 'H52.7': 3846, 'H53': 3847, 'H53.0': 3848, 'H53.1': 3849, 'H53.2': 3850, 'H53.3': 3851, 'H53.4': 3852, 'H53.5': 3853, 'H53.6': 3854, 'H53.8': 3855, 'H53.9': 3856, 'H54': 3857, 'H54.0': 3858, 'H54.1': 3859, 'H54.2': 3860, 'H54.3': 3861, 'H54.4': 3862, 'H54.5': 3863, 'H54.6': 3864, 'H54.7': 3865, 'H55': 3866, 'H55.9': 3867, 'H57': 3868, 'H57.0': 3869, 'H57.1': 3870, 'H57.8': 3871, 'H57.9': 3872, 'H58': 3873, 'H58.0': 3874, 'H58.1': 3875, 'H58.8': 3876, 'H59': 3877, 'H59.0': 3878, 'H59.8': 3879, 'H59.9': 3880, 'H60': 3881, 'H60.0': 3882, 'H60.1': 3883, 'H60.2': 3884, 'H60.3': 3885, 'H60.4': 3886, 'H60.5': 3887, 'H60.8': 3888, 'H60.9': 3889, 'H61': 3890, 'H61.0': 3891, 'H61.1': 3892, 'H61.2': 3893, 'H61.3': 3894, 'H61.8': 3895, 'H61.9': 3896, 'H62': 3897, 'H62.0': 3898, 'H62.1': 3899, 'H62.2': 3900, 'H62.3': 3901, 'H62.4': 3902, 'H62.8': 3903, 'H65': 3904, 'H65.0': 3905, 'H65.1': 3906, 'H65.2': 3907, 'H65.3': 3908, 'H65.4': 3909, 'H65.9': 3910, 'H66': 3911, 'H66.0': 3912, 'H66.1': 3913, 'H66.2': 3914, 'H66.3': 3915, 'H66.4': 3916, 'H66.9': 3917, 'H67': 3918, 'H67.0': 3919, 'H67.1': 3920, 'H67.8': 3921, 'H68': 3922, 'H68.0': 3923, 'H68.1': 3924, 'H69': 3925, 'H69.0': 3926, 'H69.8': 3927, 'H69.9': 3928, 'H70': 3929, 'H70.0': 3930, 'H70.1': 3931, 'H70.2': 3932, 'H70.8': 3933, 'H70.9': 3934, 'H71': 3935, 'H71.9': 3936, 'H72': 3937, 'H72.0': 3938, 'H72.1': 3939, 'H72.2': 3940, 'H72.8': 3941, 'H72.9': 3942, 'H73': 3943, 'H73.0': 3944, 'H73.1': 3945, 'H73.8': 3946, 'H73.9': 3947, 'H74': 3948, 'H74.0': 3949, 'H74.1': 3950, 'H74.2': 3951, 'H74.3': 3952, 'H74.4': 3953, 'H74.8': 3954, 'H74.9': 3955, 'H75': 3956, 'H75.0': 3957, 'H75.8': 3958, 'H80': 3959, 'H80.0': 3960, 'H80.1': 3961, 'H80.2': 3962, 'H80.8': 3963, 'H80.9': 3964, 'H81': 3965, 'H81.0': 3966, 'H81.1': 3967, 'H81.2': 3968, 'H81.3': 3969, 'H81.4': 3970, 'H81.8': 3971, 'H81.9': 3972, 'H82': 3973, 'H82.9': 3974, 'H83': 3975, 'H83.0': 3976, 'H83.1': 3977, 'H83.2': 3978, 'H83.3': 3979, 'H83.8': 3980, 'H83.9': 3981, 'H90': 3982, 'H90.0': 3983, 'H90.1': 3984, 'H90.2': 3985, 'H90.3': 3986, 'H90.4': 3987, 'H90.5': 3988, 'H90.6': 3989, 'H90.7': 3990, 'H90.8': 3991, 'H91': 3992, 'H91.0': 3993, 'H91.1': 3994, 'H91.2': 3995, 'H91.3': 3996, 'H91.8': 3997, 'H91.9': 3998, 'H92': 3999, 'H92.0': 4000, 'H92.1': 4001, 'H92.2': 4002, 'H93': 4003, 'H93.0': 4004, 'H93.1': 4005, 'H93.2': 4006, 'H93.3': 4007, 'H93.8': 4008, 'H93.9': 4009, 'H94': 4010, 'H94.0': 4011, 'H94.8': 4012, 'H95': 4013, 'H95.0': 4014, 'H95.1': 4015, 'H95.8': 4016, 'H95.9': 4017, 'I00': 4018, 'I00.9': 4019, 'I01': 4020, 'I01.0': 4021, 'I01.1': 4022, 'I01.2': 4023, 'I01.8': 4024, 'I01.9': 4025, 'I02': 4026, 'I02.0': 4027, 'I02.9': 4028, 'I05': 4029, 'I05.0': 4030, 'I05.1': 4031, 'I05.2': 4032, 'I05.8': 4033, 'I05.9': 4034, 'I06': 4035, 'I06.0': 4036, 'I06.1': 4037, 'I06.2': 4038, 'I06.8': 4039, 'I06.9': 4040, 'I07': 4041, 'I07.0': 4042, 'I07.1': 4043, 'I07.2': 4044, 'I07.8': 4045, 'I07.9': 4046, 'I08': 4047, 'I08.0': 4048, 'I08.1': 4049, 'I08.2': 4050, 'I08.3': 4051, 'I08.8': 4052, 'I08.9': 4053, 'I09': 4054, 'I09.0': 4055, 'I09.1': 4056, 'I09.2': 4057, 'I09.8': 4058, 'I09.9': 4059, 'I10': 4060, 'I10.9': 4061, 'I11': 4062, 'I11.0': 4063, 'I11.9': 4064, 'I12': 4065, 'I12.0': 4066, 'I12.9': 4067, 'I13': 4068, 'I13.0': 4069, 'I13.1': 4070, 'I13.2': 4071, 'I13.9': 4072, 'I15': 4073, 'I15.0': 4074, 'I15.1': 4075, 'I15.2': 4076, 'I15.8': 4077, 'I15.9': 4078, 'I20': 4079, 'I20A': 4080, 'I20.0': 4081, 'I20.0A': 4082, 'I20.1': 4083, 'I20.1A': 4084, 'I20.8': 4085, 'I20.8A': 4086, 'I20.9': 4087, 'I20.9A': 4088, 'I21': 4089, 'I21A': 4090, 'I21.0': 4091, 'I21.0A': 4092, 'I21.1': 4093, 'I21.1A': 4094, 'I21.2': 4095, 'I21.2A': 4096, 'I21.3': 4097, 'I21.3A': 4098, 'I21.4': 4099, 'I21.4A': 4100, 'I21.9': 4101, 'I21.9A': 4102, 'I22': 4103, 'I22A': 4104, 'I22.0': 4105, 'I22.0A': 4106, 'I22.1': 4107, 'I22.1A': 4108, 'I22.8': 4109, 'I22.8A': 4110, 'I22.9': 4111, 'I22.9A': 4112, 'I23': 4113, 'I23A': 4114, 'I23.0': 4115, 'I23.0A': 4116, 'I23.1': 4117, 'I23.1A': 4118, 'I23.2': 4119, 'I23.2A': 4120, 'I23.3': 4121, 'I23.3A': 4122, 'I23.4': 4123, 'I23.4A': 4124, 'I23.5': 4125, 'I23.5A': 4126, 'I23.6': 4127, 'I23.6A': 4128, 'I23.8': 4129, 'I23.8A': 4130, 'I24': 4131, 'I24A': 4132, 'I24.0': 4133, 'I24.0A': 4134, 'I24.1': 4135, 'I24.1A': 4136, 'I24.8': 4137, 'I24.8A': 4138, 'I24.9': 4139, 'I24.9A': 4140, 'I25': 4141, 'I25A': 4142, 'I25.0': 4143, 'I25.0A': 4144, 'I25.1': 4145, 'I25.1A': 4146, 'I25.2': 4147, 'I25.2A': 4148, 'I25.3': 4149, 'I25.3A': 4150, 'I25.4': 4151, 'I25.4A': 4152, 'I25.5': 4153, 'I25.5A': 4154, 'I25.6': 4155, 'I25.6A': 4156, 'I25.8': 4157, 'I25.8A': 4158, 'I25.9': 4159, 'I25.9A': 4160, 'I26': 4161, 'I26.0': 4162, 'I26.9': 4163, 'I27': 4164, 'I27.0': 4165, 'I27.1': 4166, 'I27.8': 4167, 'I27.9': 4168, 'I28': 4169, 'I28.0': 4170, 'I28.1': 4171, 'I28.8': 4172, 'I28.9': 4173, 'I30': 4174, 'I30.0': 4175, 'I30.1': 4176, 'I30.8': 4177, 'I30.9': 4178, 'I31': 4179, 'I31.0': 4180, 'I31.1': 4181, 'I31.2': 4182, 'I31.3': 4183, 'I31.8': 4184, 'I31.9': 4185, 'I32': 4186, 'I32.0': 4187, 'I32.1': 4188, 'I32.8': 4189, 'I33': 4190, 'I33.0': 4191, 'I33.9': 4192, 'I34': 4193, 'I34.0': 4194, 'I34.1': 4195, 'I34.2': 4196, 'I34.8': 4197, 'I34.9': 4198, 'I35': 4199, 'I35.0': 4200, 'I35.1': 4201, 'I35.2': 4202, 'I35.8': 4203, 'I35.9': 4204, 'I36': 4205, 'I36.0': 4206, 'I36.1': 4207, 'I36.2': 4208, 'I36.8': 4209, 'I36.9': 4210, 'I37': 4211, 'I37.0': 4212, 'I37.1': 4213, 'I37.2': 4214, 'I37.8': 4215, 'I37.9': 4216, 'I38': 4217, 'I38.9': 4218, 'I39': 4219, 'I39.0': 4220, 'I39.1': 4221, 'I39.2': 4222, 'I39.3': 4223, 'I39.4': 4224, 'I39.8': 4225, 'I40': 4226, 'I40.0': 4227, 'I40.1': 4228, 'I40.8': 4229, 'I40.9': 4230, 'I41': 4231, 'I41.0': 4232, 'I41.1': 4233, 'I41.2': 4234, 'I41.8': 4235, 'I42': 4236, 'I42.0': 4237, 'I42.1': 4238, 'I42.2': 4239, 'I42.3': 4240, 'I42.4': 4241, 'I42.5': 4242, 'I42.6': 4243, 'I42.7': 4244, 'I42.8': 4245, 'I42.9': 4246, 'I43': 4247, 'I43.0': 4248, 'I43.1': 4249, 'I43.2': 4250, 'I43.8': 4251, 'I44': 4252, 'I44.0': 4253, 'I44.1': 4254, 'I44.2': 4255, 'I44.3': 4256, 'I44.4': 4257, 'I44.5': 4258, 'I44.6': 4259, 'I44.7': 4260, 'I45': 4261, 'I45.0': 4262, 'I45.1': 4263, 'I45.2': 4264, 'I45.3': 4265, 'I45.4': 4266, 'I45.5': 4267, 'I45.6': 4268, 'I45.8': 4269, 'I45.9': 4270, 'I46': 4271, 'I46.0': 4272, 'I46.1': 4273, 'I46.9': 4274, 'I47': 4275, 'I47.0': 4276, 'I47.1': 4277, 'I47.2': 4278, 'I47.9': 4279, 'I48': 4280, 'I48.9': 4281, 'I49': 4282, 'I49.0': 4283, 'I49.1': 4284, 'I49.2': 4285, 'I49.3': 4286, 'I49.4': 4287, 'I49.5': 4288, 'I49.8': 4289, 'I49.9': 4290, 'I50': 4291, 'I50.0': 4292, 'I50.1': 4293, 'I50.9': 4294, 'I51': 4295, 'I51.0': 4296, 'I51.1': 4297, 'I51.2': 4298, 'I51.3': 4299, 'I51.4': 4300, 'I51.5': 4301, 'I51.6': 4302, 'I51.7': 4303, 'I51.8': 4304, 'I51.9': 4305, 'I52': 4306, 'I52.0': 4307, 'I52.1': 4308, 'I52.8': 4309, 'I60': 4310, 'I60A': 4311, 'I60.0': 4312, 'I60.0A': 4313, 'I60.1': 4314, 'I60.1A': 4315, 'I60.2': 4316, 'I60.2A': 4317, 'I60.3': 4318, 'I60.3A': 4319, 'I60.4': 4320, 'I60.4A': 4321, 'I60.5': 4322, 'I60.5A': 4323, 'I60.6': 4324, 'I60.6A': 4325, 'I60.7': 4326, 'I60.7A': 4327, 'I60.8': 4328, 'I60.8A': 4329, 'I60.9': 4330, 'I60.9A': 4331, 'I61': 4332, 'I61A': 4333, 'I61.0': 4334, 'I61.0A': 4335, 'I61.1': 4336, 'I61.1A': 4337, 'I61.2': 4338, 'I61.2A': 4339, 'I61.3': 4340, 'I61.3A': 4341, 'I61.4': 4342, 'I61.4A': 4343, 'I61.5': 4344, 'I61.5A': 4345, 'I61.6': 4346, 'I61.6A': 4347, 'I61.8': 4348, 'I61.8A': 4349, 'I61.9': 4350, 'I61.9A': 4351, 'I62': 4352, 'I62A': 4353, 'I62.0': 4354, 'I62.0A': 4355, 'I62.1': 4356, 'I62.1A': 4357, 'I62.9': 4358, 'I62.9A': 4359, 'I63': 4360, 'I63A': 4361, 'I63.0': 4362, 'I63.0A': 4363, 'I63.1': 4364, 'I63.1A': 4365, 'I63.2': 4366, 'I63.2A': 4367, 'I63.3': 4368, 'I63.3A': 4369, 'I63.4': 4370, 'I63.4A': 4371, 'I63.5': 4372, 'I63.5A': 4373, 'I63.6': 4374, 'I63.6A': 4375, 'I63.8': 4376, 'I63.8A': 4377, 'I63.9': 4378, 'I63.9A': 4379, 'I64': 4380, 'I64A': 4381, 'I64.9': 4382, 'I64.9A': 4383, 'I65': 4384, 'I65A': 4385, 'I65.0': 4386, 'I65.0A': 4387, 'I65.1': 4388, 'I65.1A': 4389, 'I65.2': 4390, 'I65.2A': 4391, 'I65.3': 4392, 'I65.3A': 4393, 'I65.8': 4394, 'I65.8A': 4395, 'I65.9': 4396, 'I65.9A': 4397, 'I66': 4398, 'I66A': 4399, 'I66.0': 4400, 'I66.0A': 4401, 'I66.1': 4402, 'I66.1A': 4403, 'I66.2': 4404, 'I66.2A': 4405, 'I66.3': 4406, 'I66.3A': 4407, 'I66.4': 4408, 'I66.4A': 4409, 'I66.8': 4410, 'I66.8A': 4411, 'I66.9': 4412, 'I66.9A': 4413, 'I67': 4414, 'I67A': 4415, 'I67.0': 4416, 'I67.0A': 4417, 'I67.1': 4418, 'I67.1A': 4419, 'I67.2': 4420, 'I67.2A': 4421, 'I67.3': 4422, 'I67.3A': 4423, 'I67.4': 4424, 'I67.4A': 4425, 'I67.5': 4426, 'I67.5A': 4427, 'I67.6': 4428, 'I67.6A': 4429, 'I67.7': 4430, 'I67.7A': 4431, 'I67.8': 4432, 'I67.8A': 4433, 'I67.9': 4434, 'I67.9A': 4435, 'I68': 4436, 'I68A': 4437, 'I68.0': 4438, 'I68.0A': 4439, 'I68.1': 4440, 'I68.1A': 4441, 'I68.2': 4442, 'I68.2A': 4443, 'I68.8': 4444, 'I68.8A': 4445, 'I69': 4446, 'I69A': 4447, 'I69.0': 4448, 'I69.0A': 4449, 'I69.1': 4450, 'I69.1A': 4451, 'I69.2': 4452, 'I69.2A': 4453, 'I69.3': 4454, 'I69.3A': 4455, 'I69.4': 4456, 'I69.4A': 4457, 'I69.8': 4458, 'I69.8A': 4459, 'I70': 4460, 'I70.0': 4461, 'I70.1': 4462, 'I70.2': 4463, 'I70.8': 4464, 'I70.9': 4465, 'I71': 4466, 'I71.0': 4467, 'I71.1': 4468, 'I71.2': 4469, 'I71.3': 4470, 'I71.4': 4471, 'I71.5': 4472, 'I71.6': 4473, 'I71.8': 4474, 'I71.9': 4475, 'I72': 4476, 'I72.0': 4477, 'I72.1': 4478, 'I72.2': 4479, 'I72.3': 4480, 'I72.4': 4481, 'I72.8': 4482, 'I72.9': 4483, 'I73': 4484, 'I73.0': 4485, 'I73.1': 4486, 'I73.8': 4487, 'I73.9': 4488, 'I74': 4489, 'I74.0': 4490, 'I74.1': 4491, 'I74.2': 4492, 'I74.3': 4493, 'I74.4': 4494, 'I74.5': 4495, 'I74.8': 4496, 'I74.9': 4497, 'I77': 4498, 'I77.0': 4499, 'I77.1': 4500, 'I77.2': 4501, 'I77.3': 4502, 'I77.4': 4503, 'I77.5': 4504, 'I77.6': 4505, 'I77.8': 4506, 'I77.9': 4507, 'I78': 4508, 'I78.0': 4509, 'I78.1': 4510, 'I78.8': 4511, 'I78.9': 4512, 'I79': 4513, 'I79.0': 4514, 'I79.1': 4515, 'I79.2': 4516, 'I79.8': 4517, 'I80': 4518, 'I80.0': 4519, 'I80.1': 4520, 'I80.2': 4521, 'I80.3': 4522, 'I80.8': 4523, 'I80.9': 4524, 'I81': 4525, 'I81.9': 4526, 'I82': 4527, 'I82.0': 4528, 'I82.1': 4529, 'I82.2': 4530, 'I82.3': 4531, 'I82.8': 4532, 'I82.9': 4533, 'I83': 4534, 'I83.0': 4535, 'I83.1': 4536, 'I83.2': 4537, 'I83.9': 4538, 'I84': 4539, 'I84.0': 4540, 'I84.1': 4541, 'I84.2': 4542, 'I84.3': 4543, 'I84.4': 4544, 'I84.5': 4545, 'I84.6': 4546, 'I84.7': 4547, 'I84.8': 4548, 'I84.9': 4549, 'I85': 4550, 'I85.0': 4551, 'I85.9': 4552, 'I86': 4553, 'I86.0': 4554, 'I86.1': 4555, 'I86.2': 4556, 'I86.3': 4557, 'I86.4': 4558, 'I86.8': 4559, 'I87': 4560, 'I87.0': 4561, 'I87.1': 4562, 'I87.2': 4563, 'I87.8': 4564, 'I87.9': 4565, 'I88': 4566, 'I88.0': 4567, 'I88.1': 4568, 'I88.8': 4569, 'I88.9': 4570, 'I89': 4571, 'I89.0': 4572, 'I89.1': 4573, 'I89.8': 4574, 'I89.9': 4575, 'I95': 4576, 'I95.0': 4577, 'I95.1': 4578, 'I95.2': 4579, 'I95.8': 4580, 'I95.9': 4581, 'I97': 4582, 'I97.0': 4583, 'I97.1': 4584, 'I97.2': 4585, 'I97.8': 4586, 'I97.9': 4587, 'I98': 4588, 'I98.0': 4589, 'I98.1': 4590, 'I98.2': 4591, 'I98.8': 4592, 'I99': 4593, 'I99.9': 4594, 'J00': 4595, 'J00.9': 4596, 'J01': 4597, 'J01.0': 4598, 'J01.1': 4599, 'J01.2': 4600, 'J01.3': 4601, 'J01.4': 4602, 'J01.8': 4603, 'J01.9': 4604, 'J02': 4605, 'J02.0': 4606, 'J02.8': 4607, 'J02.9': 4608, 'J03': 4609, 'J03.0': 4610, 'J03.8': 4611, 'J03.9': 4612, 'J04': 4613, 'J04.0': 4614, 'J04.1': 4615, 'J04.2': 4616, 'J05': 4617, 'J05.0': 4618, 'J05.1': 4619, 'J06': 4620, 'J06.0': 4621, 'J06.8': 4622, 'J06.9': 4623, 'J10': 4624, 'J10.0': 4625, 'J10.1': 4626, 'J10.8': 4627, 'J11': 4628, 'J11.0': 4629, 'J11.1': 4630, 'J11.8': 4631, 'J12': 4632, 'J12.0': 4633, 'J12.1': 4634, 'J12.2': 4635, 'J12.8': 4636, 'J12.9': 4637, 'J13': 4638, 'J13.9': 4639, 'J14': 4640, 'J14.9': 4641, 'J15': 4642, 'J15.0': 4643, 'J15.1': 4644, 'J15.2': 4645, 'J15.3': 4646, 'J15.4': 4647, 'J15.5': 4648, 'J15.6': 4649, 'J15.7': 4650, 'J15.8': 4651, 'J15.9': 4652, 'J16': 4653, 'J16.0': 4654, 'J16.8': 4655, 'J17': 4656, 'J17.0': 4657, 'J17.1': 4658, 'J17.2': 4659, 'J17.3': 4660, 'J17.8': 4661, 'J18': 4662, 'J18.0': 4663, 'J18.1': 4664, 'J18.2': 4665, 'J18.8': 4666, 'J18.9': 4667, 'J20': 4668, 'J20.0': 4669, 'J20.1': 4670, 'J20.2': 4671, 'J20.3': 4672, 'J20.4': 4673, 'J20.5': 4674, 'J20.6': 4675, 'J20.7': 4676, 'J20.8': 4677, 'J20.9': 4678, 'J21': 4679, 'J21.0': 4680, 'J21.8': 4681, 'J21.9': 4682, 'J22': 4683, 'J22.9': 4684, 'J30': 4685, 'J30.0': 4686, 'J30.1': 4687, 'J30.2': 4688, 'J30.3': 4689, 'J30.4': 4690, 'J31': 4691, 'J31.0': 4692, 'J31.1': 4693, 'J31.2': 4694, 'J32': 4695, 'J32.0': 4696, 'J32.1': 4697, 'J32.2': 4698, 'J32.3': 4699, 'J32.4': 4700, 'J32.8': 4701, 'J32.9': 4702, 'J33': 4703, 'J33.0': 4704, 'J33.1': 4705, 'J33.8': 4706, 'J33.9': 4707, 'J34': 4708, 'J34.0': 4709, 'J34.1': 4710, 'J34.2': 4711, 'J34.3': 4712, 'J34.8': 4713, 'J35': 4714, 'J35.0': 4715, 'J35.1': 4716, 'J35.2': 4717, 'J35.3': 4718, 'J35.8': 4719, 'J35.9': 4720, 'J36': 4721, 'J36.9': 4722, 'J37': 4723, 'J37.0': 4724, 'J37.1': 4725, 'J38': 4726, 'J38.0': 4727, 'J38.1': 4728, 'J38.2': 4729, 'J38.3': 4730, 'J38.4': 4731, 'J38.5': 4732, 'J38.6': 4733, 'J38.7': 4734, 'J39': 4735, 'J39.0': 4736, 'J39.1': 4737, 'J39.2': 4738, 'J39.3': 4739, 'J39.8': 4740, 'J39.9': 4741, 'J40': 4742, 'J40.9': 4743, 'J41': 4744, 'J41.0': 4745, 'J41.1': 4746, 'J41.8': 4747, 'J42': 4748, 'J42.9': 4749, 'J43': 4750, 'J43.0': 4751, 'J43.1': 4752, 'J43.2': 4753, 'J43.8': 4754, 'J43.9': 4755, 'J44': 4756, 'J44.0': 4757, 'J44.1': 4758, 'J44.8': 4759, 'J44.9': 4760, 'J45': 4761, 'J45.0': 4762, 'J45.1': 4763, 'J45.8': 4764, 'J45.9': 4765, 'J46': 4766, 'J46.9': 4767, 'J47': 4768, 'J47.9': 4769, 'J60': 4770, 'J60.9': 4771, 'J61': 4772, 'J61.9': 4773, 'J62': 4774, 'J62.0': 4775, 'J62.8': 4776, 'J63': 4777, 'J63.0': 4778, 'J63.1': 4779, 'J63.2': 4780, 'J63.3': 4781, 'J63.4': 4782, 'J63.5': 4783, 'J63.8': 4784, 'J64': 4785, 'J64.9': 4786, 'J65': 4787, 'J65.9': 4788, 'J66': 4789, 'J66.0': 4790, 'J66.1': 4791, 'J66.2': 4792, 'J66.8': 4793, 'J67': 4794, 'J67.0': 4795, 'J67.1': 4796, 'J67.2': 4797, 'J67.3': 4798, 'J67.4': 4799, 'J67.5': 4800, 'J67.6': 4801, 'J67.7': 4802, 'J67.8': 4803, 'J67.9': 4804, 'J68': 4805, 'J68.0': 4806, 'J68.1': 4807, 'J68.2': 4808, 'J68.3': 4809, 'J68.4': 4810, 'J68.8': 4811, 'J68.9': 4812, 'J69': 4813, 'J69.0': 4814, 'J69.1': 4815, 'J69.8': 4816, 'J70': 4817, 'J70.0': 4818, 'J70.1': 4819, 'J70.2': 4820, 'J70.3': 4821, 'J70.4': 4822, 'J70.8': 4823, 'J70.9': 4824, 'J80': 4825, 'J80.9': 4826, 'J81': 4827, 'J81.9': 4828, 'J82': 4829, 'J82.9': 4830, 'J84': 4831, 'J84.0': 4832, 'J84.1': 4833, 'J84.8': 4834, 'J84.9': 4835, 'J85': 4836, 'J85.0': 4837, 'J85.1': 4838, 'J85.2': 4839, 'J85.3': 4840, 'J86': 4841, 'J86.0': 4842, 'J86.9': 4843, 'J90': 4844, 'J90.9': 4845, 'J91': 4846, 'J91.9': 4847, 'J92': 4848, 'J92.0': 4849, 'J92.9': 4850, 'J93': 4851, 'J93.0': 4852, 'J93.1': 4853, 'J93.8': 4854, 'J93.9': 4855, 'J94': 4856, 'J94.0': 4857, 'J94.1': 4858, 'J94.2': 4859, 'J94.8': 4860, 'J94.9': 4861, 'J95': 4862, 'J95.0': 4863, 'J95.1': 4864, 'J95.2': 4865, 'J95.3': 4866, 'J95.4': 4867, 'J95.5': 4868, 'J95.8': 4869, 'J95.9': 4870, 'J96': 4871, 'J96.0': 4872, 'J96.1': 4873, 'J96.9': 4874, 'J98': 4875, 'J98.0': 4876, 'J98.1': 4877, 'J98.2': 4878, 'J98.3': 4879, 'J98.4': 4880, 'J98.5': 4881, 'J98.6': 4882, 'J98.8': 4883, 'J98.9': 4884, 'J99': 4885, 'J99.0': 4886, 'J99.1': 4887, 'J99.8': 4888, 'K00': 4889, 'K00.0': 4890, 'K00.00': 4891, 'K00.01': 4892, 'K00.09': 4893, 'K00.1': 4894, 'K00.10': 4895, 'K00.11': 4896, 'K00.12': 4897, 'K00.19': 4898, 'K00.2': 4899, 'K00.20': 4900, 'K00.21': 4901, 'K00.22': 4902, 'K00.23': 4903, 'K00.24': 4904, 'K00.25': 4905, 'K00.26': 4906, 'K00.27': 4907, 'K00.28': 4908, 'K00.29': 4909, 'K00.3': 4910, 'K00.30': 4911, 'K00.31': 4912, 'K00.39': 4913, 'K00.4': 4914, 'K00.40': 4915, 'K00.41': 4916, 'K00.42': 4917, 'K00.43': 4918, 'K00.44': 4919, 'K00.45': 4920, 'K00.46': 4921, 'K00.48': 4922, 'K00.49': 4923, 'K00.5': 4924, 'K00.50': 4925, 'K00.51': 4926, 'K00.52': 4927, 'K00.58': 4928, 'K00.59': 4929, 'K00.6': 4930, 'K00.60': 4931, 'K00.61': 4932, 'K00.62': 4933, 'K00.63': 4934, 'K00.64': 4935, 'K00.65': 4936, 'K00.68': 4937, 'K00.69': 4938, 'K00.7': 4939, 'K00.8': 4940, 'K00.80': 4941, 'K00.81': 4942, 'K00.82': 4943, 'K00.83': 4944, 'K00.88': 4945, 'K00.9': 4946, 'K01': 4947, 'K01.0': 4948, 'K01.1': 4949, 'K01.10': 4950, 'K01.11': 4951, 'K01.12': 4952, 'K01.13': 4953, 'K01.14': 4954, 'K01.15': 4955, 'K01.16': 4956, 'K01.17': 4957, 'K01.18': 4958, 'K01.19': 4959, 'K02': 4960, 'K02.0': 4961, 'K02.1': 4962, 'K02.2': 4963, 'K02.3': 4964, 'K02.4': 4965, 'K02.8': 4966, 'K02.9': 4967, 'K03': 4968, 'K03.0': 4969, 'K03.00': 4970, 'K03.01': 4971, 'K03.08': 4972, 'K03.09': 4973, 'K03.1': 4974, 'K03.10': 4975, 'K03.11': 4976, 'K03.12': 4977, 'K03.13': 4978, 'K03.18': 4979, 'K03.19': 4980, 'K03.2': 4981, 'K03.20': 4982, 'K03.21': 4983, 'K03.22': 4984, 'K03.23': 4985, 'K03.24': 4986, 'K03.28': 4987, 'K03.29': 4988, 'K03.3': 4989, 'K03.30': 4990, 'K03.31': 4991, 'K03.39': 4992, 'K03.4': 4993, 'K03.5': 4994, 'K03.6': 4995, 'K03.60': 4996, 'K03.61': 4997, 'K03.62': 4998, 'K03.63': 4999, 'K03.64': 5000, 'K03.65': 5001, 'K03.66': 5002, 'K03.68': 5003, 'K03.69': 5004, 'K03.7': 5005, 'K03.70': 5006, 'K03.71': 5007, 'K03.72': 5008, 'K03.78': 5009, 'K03.79': 5010, 'K03.8': 5011, 'K03.80': 5012, 'K03.81': 5013, 'K03.88': 5014, 'K03.9': 5015, 'K04': 5016, 'K04.0': 5017, 'K04.00': 5018, 'K04.01': 5019, 'K04.02': 5020, 'K04.03': 5021, 'K04.04': 5022, 'K04.05': 5023, 'K04.08': 5024, 'K04.09': 5025, 'K04.1': 5026, 'K04.2': 5027, 'K04.3': 5028, 'K04.3X': 5029, 'K04.4': 5030, 'K04.5': 5031, 'K04.6': 5032, 'K04.60': 5033, 'K04.61': 5034, 'K04.62': 5035, 'K04.63': 5036, 'K04.69': 5037, 'K04.7': 5038, 'K04.8': 5039, 'K04.80': 5040, 'K04.81': 5041, 'K04.82': 5042, 'K04.89': 5043, 'K04.9': 5044, 'K05': 5045, 'K05.0': 5046, 'K05.00': 5047, 'K05.08': 5048, 'K05.09': 5049, 'K05.1': 5050, 'K05.10': 5051, 'K05.11': 5052, 'K05.12': 5053, 'K05.13': 5054, 'K05.18': 5055, 'K05.19': 5056, 'K05.2': 5057, 'K05.20': 5058, 'K05.21': 5059, 'K05.22': 5060, 'K05.28': 5061, 'K05.29': 5062, 'K05.3': 5063, 'K05.30': 5064, 'K05.31': 5065, 'K05.32': 5066, 'K05.33': 5067, 'K05.4': 5068, 'K05.5': 5069, 'K05.6': 5070, 'K06': 5071, 'K06.0': 5072, 'K06.00': 5073, 'K06.01': 5074, 'K06.09': 5075, 'K06.1': 5076, 'K06.10': 5077, 'K06.18': 5078, 'K06.19': 5079, 'K06.2': 5080, 'K06.20': 5081, 'K06.21': 5082, 'K06.22': 5083, 'K06.23': 5084, 'K06.28': 5085, 'K06.29': 5086, 'K06.8': 5087, 'K06.80': 5088, 'K06.81': 5089, 'K06.82': 5090, 'K06.83': 5091, 'K06.84': 5092, 'K06.88': 5093, 'K06.9': 5094, 'K07': 5095, 'K07.0': 5096, 'K07.00': 5097, 'K07.01': 5098, 'K07.02': 5099, 'K07.03': 5100, 'K07.04': 5101, 'K07.05': 5102, 'K07.08': 5103, 'K07.09': 5104, 'K07.1': 5105, 'K07.10': 5106, 'K07.11': 5107, 'K07.12': 5108, 'K07.13': 5109, 'K07.14': 5110, 'K07.18': 5111, 'K07.19': 5112, 'K07.2': 5113, 'K07.20': 5114, 'K07.21': 5115, 'K07.22': 5116, 'K07.23': 5117, 'K07.24': 5118, 'K07.25': 5119, 'K07.26': 5120, 'K07.27': 5121, 'K07.28': 5122, 'K07.29': 5123, 'K07.3': 5124, 'K07.30': 5125, 'K07.31': 5126, 'K07.32': 5127, 'K07.33': 5128, 'K07.34': 5129, 'K07.35': 5130, 'K07.38': 5131, 'K07.39': 5132, 'K07.4': 5133, 'K07.5': 5134, 'K07.50': 5135, 'K07.51': 5136, 'K07.54': 5137, 'K07.55': 5138, 'K07.58': 5139, 'K07.59': 5140, 'K07.6': 5141, 'K07.60': 5142, 'K07.61': 5143, 'K07.62': 5144, 'K07.63': 5145, 'K07.64': 5146, 'K07.65': 5147, 'K07.68': 5148, 'K07.69': 5149, 'K07.8': 5150, 'K07.9': 5151, 'K08': 5152, 'K08.0': 5153, 'K08.0Х': 5154, 'K08.1': 5155, 'K08.2': 5156, 'K08.3': 5157, 'K08.8': 5158, 'K08.9': 5159, 'K09': 5160, 'K09.0': 5161, 'K09.00': 5162, 'K09.01': 5163, 'K09.02': 5164, 'K09.03': 5165, 'K09.04': 5166, 'K09.08': 5167, 'K09.09': 5168, 'K09.1': 5169, 'K09.10': 5170, 'K09.11': 5171, 'K09.12': 5172, 'K09.13': 5173, 'K09.18': 5174, 'K09.19': 5175, 'K09.2': 5176, 'K09.20': 5177, 'K09.21': 5178, 'K09.22': 5179, 'K09.28': 5180, 'K09.29': 5181, 'K09.8': 5182, 'K09.80': 5183, 'K09.81': 5184, 'K09.82': 5185, 'K09.83': 5186, 'K09.84': 5187, 'K09.85': 5188, 'K09.88': 5189, 'K09.9': 5190, 'K10': 5191, 'K10.0': 5192, 'K10.00': 5193, 'K10.01': 5194, 'K10.02': 5195, 'K10.08': 5196, 'K10.09': 5197, 'K10.1': 5198, 'K10.2': 5199, 'K10.20': 5200, 'K10.21': 5201, 'K10.22': 5202, 'K10.23': 5203, 'K10.24': 5204, 'K10.25': 5205, 'K10.26': 5206, 'K10.28': 5207, 'K10.29': 5208, 'K10.3': 5209, 'K10.8': 5210, 'K10.80': 5211, 'K10.81': 5212, 'K10.82': 5213, 'K10.83': 5214, 'K10.88': 5215, 'K10.9': 5216, 'K11': 5217, 'K11.0': 5218, 'K11.1': 5219, 'K11.2': 5220, 'K11.3': 5221, 'K11.4': 5222, 'K11.5': 5223, 'K11.6': 5224, 'K11.60': 5225, 'K11.61': 5226, 'K11.69': 5227, 'K11.7': 5228, 'K11.70': 5229, 'K11.71': 5230, 'K11.72': 5231, 'K11.78': 5232, 'K11.79': 5233, 'K11.8': 5234, 'K11.80': 5235, 'K11.81': 5236, 'K11.82': 5237, 'K11.83': 5238, 'K11.84': 5239, 'K11.85': 5240, 'K11.88': 5241, 'K11.9': 5242, 'K12': 5243, 'K12.0': 5244, 'K12.00': 5245, 'K12.01': 5246, 'K12.02': 5247, 'K12.03': 5248, 'K12.04': 5249, 'K12.08': 5250, 'K12.09': 5251, 'K12.1': 5252, 'K12.10': 5253, 'K12.11': 5254, 'K12.12': 5255, 'K12.13': 5256, 'K12.14': 5257, 'K12.18': 5258, 'K12.19': 5259, 'K12.2': 5260, 'K13': 5261, 'K13.0': 5262, 'K13.00': 5263, 'K13.01': 5264, 'K13.02': 5265, 'K13.03': 5266, 'K13.04': 5267, 'K13.08': 5268, 'K13.09': 5269, 'K13.1': 5270, 'K13.2': 5271, 'K13.20': 5272, 'K13.21': 5273, 'K13.22': 5274, 'K13.23': 5275, 'K13.24': 5276, 'K13.28': 5277, 'K13.29': 5278, 'K13.3': 5279, 'K13.4': 5280, 'K13.40': 5281, 'K13.41': 5282, 'K13.42': 5283, 'K13.48': 5284, 'K13.49': 5285, 'K13.5': 5286, 'K13.6': 5287, 'K13.7': 5288, 'K13.70': 5289, 'K13.71': 5290, 'K13.72': 5291, 'K13.73': 5292, 'K13.78': 5293, 'K13.79': 5294, 'K14': 5295, 'K14.0': 5296, 'K14.00': 5297, 'K14.01': 5298, 'K14.08': 5299, 'K14.09': 5300, 'K14.1': 5301, 'K14.2': 5302, 'K14.3': 5303, 'K14.30': 5304, 'K14.31': 5305, 'K14.32': 5306, 'K14.38': 5307, 'K14.39': 5308, 'K14.4': 5309, 'K14.40': 5310, 'K14.41': 5311, 'K14.43': 5312, 'K14.48': 5313, 'K14.49': 5314, 'K14.5': 5315, 'K14.6': 5316, 'K14.60': 5317, 'K14.61': 5318, 'K14.68': 5319, 'K14.69': 5320, 'K14.8': 5321, 'K14.80': 5322, 'K14.81': 5323, 'K14.82': 5324, 'K14.88': 5325, 'K14.9': 5326, 'K20': 5327, 'K20.9': 5328, 'K21': 5329, 'K21.0': 5330, 'K21.9': 5331, 'K22': 5332, 'K22.0': 5333, 'K22.1': 5334, 'K22.2': 5335, 'K22.3': 5336, 'K22.4': 5337, 'K22.5': 5338, 'K22.6': 5339, 'K22.8': 5340, 'K22.9': 5341, 'K23': 5342, 'K23.0': 5343, 'K23.1': 5344, 'K23.8': 5345, 'K25': 5346, 'K25.0': 5347, 'K25.1': 5348, 'K25.2': 5349, 'K25.3': 5350, 'K25.4': 5351, 'K25.5': 5352, 'K25.6': 5353, 'K25.7': 5354, 'K25.9': 5355, 'K26': 5356, 'K26.0': 5357, 'K26.1': 5358, 'K26.2': 5359, 'K26.3': 5360, 'K26.4': 5361, 'K26.5': 5362, 'K26.6': 5363, 'K26.7': 5364, 'K26.9': 5365, 'K27': 5366, 'K27.0': 5367, 'K27.1': 5368, 'K27.2': 5369, 'K27.3': 5370, 'K27.4': 5371, 'K27.5': 5372, 'K27.6': 5373, 'K27.7': 5374, 'K27.9': 5375, 'K28': 5376, 'K28.0': 5377, 'K28.1': 5378, 'K28.2': 5379, 'K28.3': 5380, 'K28.4': 5381, 'K28.5': 5382, 'K28.6': 5383, 'K28.7': 5384, 'K28.9': 5385, 'K29': 5386, 'K29.0': 5387, 'K29.1': 5388, 'K29.2': 5389, 'K29.3': 5390, 'K29.4': 5391, 'K29.5': 5392, 'K29.6': 5393, 'K29.7': 5394, 'K29.8': 5395, 'K29.9': 5396, 'K30': 5397, 'K30.9': 5398, 'K31': 5399, 'K31.0': 5400, 'K31.1': 5401, 'K31.2': 5402, 'K31.3': 5403, 'K31.4': 5404, 'K31.5': 5405, 'K31.6': 5406, 'K31.8': 5407, 'K31.9': 5408, 'K35': 5409, 'K35.0': 5410, 'K35.1': 5411, 'K35.9': 5412, 'K36': 5413, 'K36.9': 5414, 'K37': 5415, 'K37.9': 5416, 'K38': 5417, 'K38.0': 5418, 'K38.1': 5419, 'K38.2': 5420, 'K38.3': 5421, 'K38.8': 5422, 'K38.9': 5423, 'K40': 5424, 'K40.0': 5425, 'K40.1': 5426, 'K40.2': 5427, 'K40.3': 5428, 'K40.4': 5429, 'K40.9': 5430, 'K41': 5431, 'K41.0': 5432, 'K41.1': 5433, 'K41.2': 5434, 'K41.3': 5435, 'K41.4': 5436, 'K41.9': 5437, 'K42': 5438, 'K42.0': 5439, 'K42.1': 5440, 'K42.9': 5441, 'K43': 5442, 'K43.0': 5443, 'K43.1': 5444, 'K43.9': 5445, 'K44': 5446, 'K44.0': 5447, 'K44.1': 5448, 'K44.9': 5449, 'K45': 5450, 'K45.0': 5451, 'K45.1': 5452, 'K45.8': 5453, 'K46': 5454, 'K46.0': 5455, 'K46.1': 5456, 'K46.9': 5457, 'K50': 5458, 'K50.0': 5459, 'K50.1': 5460, 'K50.8': 5461, 'K50.8Х': 5462, 'K50.9': 5463, 'K51': 5464, 'K51.0': 5465, 'K51.1': 5466, 'K51.2': 5467, 'K51.3': 5468, 'K51.4': 5469, 'K51.5': 5470, 'K51.8': 5471, 'K51.9': 5472, 'K52': 5473, 'K52.0': 5474, 'K52.1': 5475, 'K52.2': 5476, 'K52.8': 5477, 'K52.9': 5478, 'K55': 5479, 'K55.0': 5480, 'K55.1': 5481, 'K55.2': 5482, 'K55.8': 5483, 'K55.9': 5484, 'K56': 5485, 'K56.0': 5486, 'K56.1': 5487, 'K56.2': 5488, 'K56.3': 5489, 'K56.4': 5490, 'K56.5': 5491, 'K56.6': 5492, 'K56.7': 5493, 'K57': 5494, 'K57.0': 5495, 'K57.1': 5496, 'K57.2': 5497, 'K57.3': 5498, 'K57.4': 5499, 'K57.5': 5500, 'K57.8': 5501, 'K57.9': 5502, 'K58': 5503, 'K58.0': 5504, 'K58.9': 5505, 'K59': 5506, 'K59.0': 5507, 'K59.1': 5508, 'K59.2': 5509, 'K59.3': 5510, 'K59.4': 5511, 'K59.8': 5512, 'K59.9': 5513, 'K60': 5514, 'K60.0': 5515, 'K60.1': 5516, 'K60.2': 5517, 'K60.3': 5518, 'K60.4': 5519, 'K60.5': 5520, 'K61': 5521, 'K61.0': 5522, 'K61.1': 5523, 'K61.2': 5524, 'K61.3': 5525, 'K61.4': 5526, 'K62': 5527, 'K62.0': 5528, 'K62.1': 5529, 'K62.2': 5530, 'K62.3': 5531, 'K62.4': 5532, 'K62.5': 5533, 'K62.6': 5534, 'K62.7': 5535, 'K62.8': 5536, 'K62.9': 5537, 'K63': 5538, 'K63.0': 5539, 'K63.1': 5540, 'K63.2': 5541, 'K63.3': 5542, 'K63.4': 5543, 'K63.8': 5544, 'K63.9': 5545, 'K65': 5546, 'K65.0': 5547, 'K65.8': 5548, 'K65.9': 5549, 'K66': 5550, 'K66.0': 5551, 'K66.1': 5552, 'K66.8': 5553, 'K66.9': 5554, 'K67': 5555, 'K67.0': 5556, 'K67.1': 5557, 'K67.2': 5558, 'K67.3': 5559, 'K67.8': 5560, 'K70': 5561, 'K70.0': 5562, 'K70.1': 5563, 'K70.2': 5564, 'K70.3': 5565, 'K70.4': 5566, 'K70.9': 5567, 'K71': 5568, 'K71.0': 5569, 'K71.1': 5570, 'K71.2': 5571, 'K71.3': 5572, 'K71.4': 5573, 'K71.5': 5574, 'K71.6': 5575, 'K71.7': 5576, 'K71.8': 5577, 'K71.9': 5578, 'K72': 5579, 'K72.0': 5580, 'K72.1': 5581, 'K72.9': 5582, 'K73': 5583, 'K73.0': 5584, 'K73.1': 5585, 'K73.2': 5586, 'K73.8': 5587, 'K73.9': 5588, 'K74': 5589, 'K74.0': 5590, 'K74.1': 5591, 'K74.2': 5592, 'K74.3': 5593, 'K74.4': 5594, 'K74.5': 5595, 'K74.6': 5596, 'K75': 5597, 'K75.0': 5598, 'K75.1': 5599, 'K75.2': 5600, 'K75.3': 5601, 'K75.8': 5602, 'K75.9': 5603, 'K76': 5604, 'K76.0': 5605, 'K76.1': 5606, 'K76.2': 5607, 'K76.3': 5608, 'K76.4': 5609, 'K76.5': 5610, 'K76.6': 5611, 'K76.7': 5612, 'K76.8': 5613, 'K76.9': 5614, 'K77': 5615, 'K77.0': 5616, 'K77.8': 5617, 'K80': 5618, 'K80.0': 5619, 'K80.1': 5620, 'K80.2': 5621, 'K80.3': 5622, 'K80.4': 5623, 'K80.5': 5624, 'K80.8': 5625, 'K81': 5626, 'K81.0': 5627, 'K81.1': 5628, 'K81.8': 5629, 'K81.9': 5630, 'K82': 5631, 'K82.0': 5632, 'K82.1': 5633, 'K82.2': 5634, 'K82.3': 5635, 'K82.4': 5636, 'K82.8': 5637, 'K82.9': 5638, 'K83': 5639, 'K83.0': 5640, 'K83.1': 5641, 'K83.2': 5642, 'K83.3': 5643, 'K83.4': 5644, 'K83.5': 5645, 'K83.8': 5646, 'K83.9': 5647, 'K85': 5648, 'K85.9': 5649, 'K86': 5650, 'K86.0': 5651, 'K86.1': 5652, 'K86.2': 5653, 'K86.3': 5654, 'K86.8': 5655, 'K86.9': 5656, 'K87': 5657, 'K87.0': 5658, 'K87.1': 5659, 'K90': 5660, 'K90.0': 5661, 'K90.1': 5662, 'K90.2': 5663, 'K90.3': 5664, 'K90.4': 5665, 'K90.8': 5666, 'K90.9': 5667, 'K91': 5668, 'K91.0': 5669, 'K91.1': 5670, 'K91.2': 5671, 'K91.3': 5672, 'K91.4': 5673, 'K91.5': 5674, 'K91.8': 5675, 'K91.9': 5676, 'K92': 5677, 'K92.0': 5678, 'K92.1': 5679, 'K92.2': 5680, 'K92.8': 5681, 'K92.9': 5682, 'K93': 5683, 'K93.0': 5684, 'K93.1': 5685, 'K93.8': 5686, 'L00': 5687, 'L00.9': 5688, 'L01': 5689, 'L01.0': 5690, 'L01.1': 5691, 'L02': 5692, 'L02.0': 5693, 'L02.1': 5694, 'L02.2': 5695, 'L02.3': 5696, 'L02.4': 5697, 'L02.8': 5698, 'L02.9': 5699, 'L03': 5700, 'L03.0': 5701, 'L03.1': 5702, 'L03.2': 5703, 'L03.3': 5704, 'L03.8': 5705, 'L03.9': 5706, 'L04': 5707, 'L04.0': 5708, 'L04.1': 5709, 'L04.2': 5710, 'L04.3': 5711, 'L04.8': 5712, 'L04.9': 5713, 'L05': 5714, 'L05.0': 5715, 'L05.9': 5716, 'L08': 5717, 'L08.0': 5718, 'L08.1': 5719, 'L08.8': 5720, 'L08.9': 5721, 'L10': 5722, 'L10.0': 5723, 'L10.1': 5724, 'L10.2': 5725, 'L10.3': 5726, 'L10.4': 5727, 'L10.5': 5728, 'L10.8': 5729, 'L10.9': 5730, 'L11': 5731, 'L11.0': 5732, 'L11.1': 5733, 'L11.8': 5734, 'L11.9': 5735, 'L12': 5736, 'L12.0': 5737, 'L12.1': 5738, 'L12.2': 5739, 'L12.3': 5740, 'L12.8': 5741, 'L12.9': 5742, 'L13': 5743, 'L13.0': 5744, 'L13.1': 5745, 'L13.8': 5746, 'L13.9': 5747, 'L14': 5748, 'L14.9': 5749, 'L20': 5750, 'L20.0': 5751, 'L20.8': 5752, 'L20.9': 5753, 'L21': 5754, 'L21.0': 5755, 'L21.1': 5756, 'L21.8': 5757, 'L21.9': 5758, 'L22': 5759, 'L22.9': 5760, 'L23': 5761, 'L23.0': 5762, 'L23.1': 5763, 'L23.2': 5764, 'L23.3': 5765, 'L23.4': 5766, 'L23.5': 5767, 'L23.6': 5768, 'L23.7': 5769, 'L23.8': 5770, 'L23.9': 5771, 'L24': 5772, 'L24.0': 5773, 'L24.1': 5774, 'L24.2': 5775, 'L24.3': 5776, 'L24.4': 5777, 'L24.5': 5778, 'L24.6': 5779, 'L24.7': 5780, 'L24.8': 5781, 'L24.9': 5782, 'L25': 5783, 'L25.0': 5784, 'L25.1': 5785, 'L25.2': 5786, 'L25.3': 5787, 'L25.4': 5788, 'L25.5': 5789, 'L25.8': 5790, 'L25.9': 5791, 'L26': 5792, 'L26.9': 5793, 'L27': 5794, 'L27.0': 5795, 'L27.1': 5796, 'L27.2': 5797, 'L27.8': 5798, 'L27.9': 5799, 'L28': 5800, 'L28.0': 5801, 'L28.1': 5802, 'L28.2': 5803, 'L29': 5804, 'L29.0': 5805, 'L29.1': 5806, 'L29.2': 5807, 'L29.3': 5808, 'L29.8': 5809, 'L29.9': 5810, 'L30': 5811, 'L30.0': 5812, 'L30.1': 5813, 'L30.2': 5814, 'L30.3': 5815, 'L30.4': 5816, 'L30.5': 5817, 'L30.8': 5818, 'L30.9': 5819, 'L40': 5820, 'L40.0': 5821, 'L40.1': 5822, 'L40.2': 5823, 'L40.3': 5824, 'L40.4': 5825, 'L40.5': 5826, 'L40.8': 5827, 'L40.9': 5828, 'L41': 5829, 'L41.0': 5830, 'L41.1': 5831, 'L41.2': 5832, 'L41.3': 5833, 'L41.4': 5834, 'L41.5': 5835, 'L41.8': 5836, 'L41.9': 5837, 'L42': 5838, 'L42.9': 5839, 'L43': 5840, 'L43.0': 5841, 'L43.1': 5842, 'L43.2': 5843, 'L43.3': 5844, 'L43.8': 5845, 'L43.9': 5846, 'L44': 5847, 'L44.0': 5848, 'L44.1': 5849, 'L44.2': 5850, 'L44.3': 5851, 'L44.4': 5852, 'L44.8': 5853, 'L44.9': 5854, 'L45': 5855, 'L45.9': 5856, 'L50': 5857, 'L50.0': 5858, 'L50.1': 5859, 'L50.2': 5860, 'L50.3': 5861, 'L50.4': 5862, 'L50.5': 5863, 'L50.6': 5864, 'L50.8': 5865, 'L50.9': 5866, 'L51': 5867, 'L51.0': 5868, 'L51.1': 5869, 'L51.2': 5870, 'L51.8': 5871, 'L51.9': 5872, 'L52': 5873, 'L52.9': 5874, 'L53': 5875, 'L53.0': 5876, 'L53.1': 5877, 'L53.2': 5878, 'L53.3': 5879, 'L53.8': 5880, 'L53.9': 5881, 'L54': 5882, 'L54.0': 5883, 'L54.8': 5884, 'L55': 5885, 'L55.0': 5886, 'L55.1': 5887, 'L55.2': 5888, 'L55.8': 5889, 'L55.9': 5890, 'L56': 5891, 'L56.0': 5892, 'L56.1': 5893, 'L56.2': 5894, 'L56.3': 5895, 'L56.4': 5896, 'L56.8': 5897, 'L56.9': 5898, 'L57': 5899, 'L57.0': 5900, 'L57.1': 5901, 'L57.2': 5902, 'L57.3': 5903, 'L57.4': 5904, 'L57.5': 5905, 'L57.8': 5906, 'L57.9': 5907, 'L58': 5908, 'L58.0': 5909, 'L58.1': 5910, 'L58.9': 5911, 'L59': 5912, 'L59.0': 5913, 'L59.8': 5914, 'L59.9': 5915, 'L60': 5916, 'L60.0': 5917, 'L60.1': 5918, 'L60.2': 5919, 'L60.3': 5920, 'L60.4': 5921, 'L60.5': 5922, 'L60.8': 5923, 'L60.9': 5924, 'L62': 5925, 'L62.0': 5926, 'L62.8': 5927, 'L63': 5928, 'L63.0': 5929, 'L63.1': 5930, 'L63.2': 5931, 'L63.8': 5932, 'L63.9': 5933, 'L64': 5934, 'L64.0': 5935, 'L64.8': 5936, 'L64.9': 5937, 'L65': 5938, 'L65.0': 5939, 'L65.1': 5940, 'L65.2': 5941, 'L65.8': 5942, 'L65.9': 5943, 'L66': 5944, 'L66.0': 5945, 'L66.1': 5946, 'L66.2': 5947, 'L66.3': 5948, 'L66.4': 5949, 'L66.8': 5950, 'L66.9': 5951, 'L67': 5952, 'L67.0': 5953, 'L67.1': 5954, 'L67.8': 5955, 'L67.9': 5956, 'L68': 5957, 'L68.0': 5958, 'L68.1': 5959, 'L68.2': 5960, 'L68.3': 5961, 'L68.8': 5962, 'L68.9': 5963, 'L70': 5964, 'L70.0': 5965, 'L70.1': 5966, 'L70.2': 5967, 'L70.3': 5968, 'L70.4': 5969, 'L70.5': 5970, 'L70.8': 5971, 'L70.9': 5972, 'L71': 5973, 'L71.0': 5974, 'L71.1': 5975, 'L71.8': 5976, 'L71.9': 5977, 'L72': 5978, 'L72.0': 5979, 'L72.1': 5980, 'L72.2': 5981, 'L72.8': 5982, 'L72.9': 5983, 'L73': 5984, 'L73.0': 5985, 'L73.1': 5986, 'L73.2': 5987, 'L73.8': 5988, 'L73.9': 5989, 'L74': 5990, 'L74.0': 5991, 'L74.1': 5992, 'L74.2': 5993, 'L74.3': 5994, 'L74.4': 5995, 'L74.8': 5996, 'L74.9': 5997, 'L75': 5998, 'L75.0': 5999, 'L75.1': 6000, 'L75.2': 6001, 'L75.8': 6002, 'L75.9': 6003, 'L80': 6004, 'L80.9': 6005, 'L81': 6006, 'L81.0': 6007, 'L81.1': 6008, 'L81.2': 6009, 'L81.3': 6010, 'L81.4': 6011, 'L81.5': 6012, 'L81.6': 6013, 'L81.7': 6014, 'L81.8': 6015, 'L81.9': 6016, 'L82': 6017, 'L82.9': 6018, 'L83': 6019, 'L83.9': 6020, 'L84': 6021, 'L84.9': 6022, 'L85': 6023, 'L85.0': 6024, 'L85.1': 6025, 'L85.2': 6026, 'L85.3': 6027, 'L85.8': 6028, 'L85.9': 6029, 'L86': 6030, 'L86.9': 6031, 'L87': 6032, 'L87.0': 6033, 'L87.1': 6034, 'L87.2': 6035, 'L87.8': 6036, 'L87.9': 6037, 'L88': 6038, 'L88.9': 6039, 'L89': 6040, 'L89.9': 6041, 'L90': 6042, 'L90.0': 6043, 'L90.1': 6044, 'L90.2': 6045, 'L90.3': 6046, 'L90.4': 6047, 'L90.5': 6048, 'L90.6': 6049, 'L90.8': 6050, 'L90.9': 6051, 'L91': 6052, 'L91.0': 6053, 'L91.8': 6054, 'L91.9': 6055, 'L92': 6056, 'L92.0': 6057, 'L92.1': 6058, 'L92.2': 6059, 'L92.3': 6060, 'L92.8': 6061, 'L92.9': 6062, 'L93': 6063, 'L93.0': 6064, 'L93.1': 6065, 'L93.2': 6066, 'L94': 6067, 'L94.0': 6068, 'L94.1': 6069, 'L94.2': 6070, 'L94.3': 6071, 'L94.4': 6072, 'L94.5': 6073, 'L94.6': 6074, 'L94.8': 6075, 'L94.9': 6076, 'L95': 6077, 'L95.0': 6078, 'L95.1': 6079, 'L95.8': 6080, 'L95.9': 6081, 'L97': 6082, 'L97.9': 6083, 'L98': 6084, 'L98.0': 6085, 'L98.1': 6086, 'L98.2': 6087, 'L98.3': 6088, 'L98.4': 6089, 'L98.5': 6090, 'L98.6': 6091, 'L98.8': 6092, 'L98.9': 6093, 'L99': 6094, 'L99.0': 6095, 'L99.8': 6096, 'M00': 6097, 'M00.0': 6098, 'M00.1': 6099, 'M00.2': 6100, 'M00.8': 6101, 'M00.9': 6102, 'M01': 6103, 'M01.0': 6104, 'M01.1': 6105, 'M01.2': 6106, 'M01.3': 6107, 'M01.4': 6108, 'M01.5': 6109, 'M01.6': 6110, 'M01.8': 6111, 'M02': 6112, 'M02.0': 6113, 'M02.1': 6114, 'M02.2': 6115, 'M02.3': 6116, 'M02.8': 6117, 'M02.9': 6118, 'M03': 6119, 'M03.0': 6120, 'M03.1': 6121, 'M03.2': 6122, 'M03.6': 6123, 'M05': 6124, 'M05.0': 6125, 'M05.1': 6126, 'M05.2': 6127, 'M05.3': 6128, 'M05.8': 6129, 'M05.9': 6130, 'M06': 6131, 'M06.0': 6132, 'M06.1': 6133, 'M06.2': 6134, 'M06.3': 6135, 'M06.4': 6136, 'M06.8': 6137, 'M06.9': 6138, 'M07': 6139, 'M07.0': 6140, 'M07.1': 6141, 'M07.2': 6142, 'M07.3': 6143, 'M07.4': 6144, 'M07.5': 6145, 'M07.6': 6146, 'M08': 6147, 'M08.0': 6148, 'M08.1': 6149, 'M08.2': 6150, 'M08.3': 6151, 'M08.4': 6152, 'M08.8': 6153, 'M08.9': 6154, 'M09': 6155, 'M09.0': 6156, 'M09.1': 6157, 'M09.2': 6158, 'M09.8': 6159, 'M10': 6160, 'M10.0': 6161, 'M10.1': 6162, 'M10.2': 6163, 'M10.3': 6164, 'M10.4': 6165, 'M10.9': 6166, 'M11': 6167, 'M11.0': 6168, 'M11.1': 6169, 'M11.2': 6170, 'M11.8': 6171, 'M11.9': 6172, 'M12': 6173, 'M12.0': 6174, 'M12.1': 6175, 'M12.2': 6176, 'M12.3': 6177, 'M12.4': 6178, 'M12.5': 6179, 'M12.8': 6180, 'M13': 6181, 'M13.0': 6182, 'M13.1': 6183, 'M13.8': 6184, 'M13.9': 6185, 'M14': 6186, 'M14.0': 6187, 'M14.1': 6188, 'M14.2': 6189, 'M14.3': 6190, 'M14.4': 6191, 'M14.5': 6192, 'M14.6': 6193, 'M14.8': 6194, 'M15': 6195, 'M15.0': 6196, 'M15.1': 6197, 'M15.2': 6198, 'M15.3': 6199, 'M15.4': 6200, 'M15.8': 6201, 'M15.9': 6202, 'M16': 6203, 'M16.0': 6204, 'M16.1': 6205, 'M16.2': 6206, 'M16.3': 6207, 'M16.4': 6208, 'M16.5': 6209, 'M16.6': 6210, 'M16.7': 6211, 'M16.9': 6212, 'M17': 6213, 'M17.0': 6214, 'M17.1': 6215, 'M17.2': 6216, 'M17.3': 6217, 'M17.4': 6218, 'M17.5': 6219, 'M17.9': 6220, 'M18': 6221, 'M18.0': 6222, 'M18.1': 6223, 'M18.2': 6224, 'M18.3': 6225, 'M18.4': 6226, 'M18.5': 6227, 'M18.9': 6228, 'M19': 6229, 'M19.0': 6230, 'M19.1': 6231, 'M19.2': 6232, 'M19.8': 6233, 'M19.9': 6234, 'M20': 6235, 'M20.0': 6236, 'M20.1': 6237, 'M20.2': 6238, 'M20.3': 6239, 'M20.4': 6240, 'M20.5': 6241, 'M20.6': 6242, 'M21': 6243, 'M21.0': 6244, 'M21.1': 6245, 'M21.2': 6246, 'M21.3': 6247, 'M21.4': 6248, 'M21.5': 6249, 'M21.6': 6250, 'M21.7': 6251, 'M21.8': 6252, 'M21.9': 6253, 'M22': 6254, 'M22.0': 6255, 'M22.1': 6256, 'M22.2': 6257, 'M22.3': 6258, 'M22.4': 6259, 'M22.8': 6260, 'M22.9': 6261, 'M23': 6262, 'M23.0': 6263, 'M23.1': 6264, 'M23.2': 6265, 'M23.3': 6266, 'M23.4': 6267, 'M23.5': 6268, 'M23.6': 6269, 'M23.8': 6270, 'M23.9': 6271, 'M24': 6272, 'M24.0': 6273, 'M24.1': 6274, 'M24.2': 6275, 'M24.3': 6276, 'M24.4': 6277, 'M24.5': 6278, 'M24.6': 6279, 'M24.7': 6280, 'M24.8': 6281, 'M24.9': 6282, 'M25': 6283, 'M25.0': 6284, 'M25.1': 6285, 'M25.2': 6286, 'M25.3': 6287, 'M25.4': 6288, 'M25.5': 6289, 'M25.6': 6290, 'M25.7': 6291, 'M25.8': 6292, 'M25.9': 6293, 'M30': 6294, 'M30.0': 6295, 'M30.1': 6296, 'M30.2': 6297, 'M30.3': 6298, 'M30.8': 6299, 'M31': 6300, 'M31.0': 6301, 'M31.1': 6302, 'M31.2': 6303, 'M31.3': 6304, 'M31.4': 6305, 'M31.5': 6306, 'M31.6': 6307, 'M31.8': 6308, 'M31.9': 6309, 'M32': 6310, 'M32.0': 6311, 'M32.1': 6312, 'M32.8': 6313, 'M32.9': 6314, 'M33': 6315, 'M33.0': 6316, 'M33.1': 6317, 'M33.2': 6318, 'M33.9': 6319, 'M34': 6320, 'M34.0': 6321, 'M34.1': 6322, 'M34.2': 6323, 'M34.8': 6324, 'M34.9': 6325, 'M35': 6326, 'M35.0': 6327, 'M35.1': 6328, 'M35.2': 6329, 'M35.3': 6330, 'M35.4': 6331, 'M35.5': 6332, 'M35.6': 6333, 'M35.7': 6334, 'M35.8': 6335, 'M35.9': 6336, 'M36': 6337, 'M36.0': 6338, 'M36.1': 6339, 'M36.2': 6340, 'M36.3': 6341, 'M36.4': 6342, 'M36.8': 6343, 'M40': 6344, 'M40.0': 6345, 'M40.1': 6346, 'M40.2': 6347, 'M40.3': 6348, 'M40.4': 6349, 'M40.5': 6350, 'M41': 6351, 'M41.0': 6352, 'M41.1': 6353, 'M41.2': 6354, 'M41.3': 6355, 'M41.4': 6356, 'M41.5': 6357, 'M41.8': 6358, 'M41.9': 6359, 'M42': 6360, 'M42.0': 6361, 'M42.1': 6362, 'M42.9': 6363, 'M43': 6364, 'M43.0': 6365, 'M43.1': 6366, 'M43.2': 6367, 'M43.3': 6368, 'M43.4': 6369, 'M43.5': 6370, 'M43.6': 6371, 'M43.8': 6372, 'M43.9': 6373, 'M45': 6374, 'M45.9': 6375, 'M46': 6376, 'M46.0': 6377, 'M46.1': 6378, 'M46.2': 6379, 'M46.3': 6380, 'M46.4': 6381, 'M46.5': 6382, 'M46.8': 6383, 'M46.9': 6384, 'M47': 6385, 'M47.0': 6386, 'M47.1': 6387, 'M47.2': 6388, 'M47.8': 6389, 'M47.9': 6390, 'M48': 6391, 'M48.0': 6392, 'M48.1': 6393, 'M48.2': 6394, 'M48.3': 6395, 'M48.4': 6396, 'M48.5': 6397, 'M48.8': 6398, 'M48.9': 6399, 'M49': 6400, 'M49.0': 6401, 'M49.1': 6402, 'M49.2': 6403, 'M49.3': 6404, 'M49.4': 6405, 'M49.5': 6406, 'M49.8': 6407, 'M50': 6408, 'M50.0': 6409, 'M50.1': 6410, 'M50.2': 6411, 'M50.3': 6412, 'M50.8': 6413, 'M50.9': 6414, 'M51': 6415, 'M51.0': 6416, 'M51.1': 6417, 'M51.2': 6418, 'M51.3': 6419, 'M51.4': 6420, 'M51.8': 6421, 'M51.9': 6422, 'M53': 6423, 'M53.0': 6424, 'M53.1': 6425, 'M53.2': 6426, 'M53.3': 6427, 'M53.8': 6428, 'M53.9': 6429, 'M54': 6430, 'M54.0': 6431, 'M54.1': 6432, 'M54.2': 6433, 'M54.3': 6434, 'M54.4': 6435, 'M54.5': 6436, 'M54.6': 6437, 'M54.8': 6438, 'M54.9': 6439, 'M60': 6440, 'M60.0': 6441, 'M60.1': 6442, 'M60.2': 6443, 'M60.8': 6444, 'M60.9': 6445, 'M61': 6446, 'M61.0': 6447, 'M61.1': 6448, 'M61.2': 6449, 'M61.3': 6450, 'M61.4': 6451, 'M61.5': 6452, 'M61.9': 6453, 'M62': 6454, 'M62.0': 6455, 'M62.1': 6456, 'M62.2': 6457, 'M62.3': 6458, 'M62.4': 6459, 'M62.5': 6460, 'M62.6': 6461, 'M62.8': 6462, 'M62.9': 6463, 'M63': 6464, 'M63.0': 6465, 'M63.1': 6466, 'M63.2': 6467, 'M63.3': 6468, 'M63.8': 6469, 'M65': 6470, 'M65.0': 6471, 'M65.1': 6472, 'M65.2': 6473, 'M65.3': 6474, 'M65.4': 6475, 'M65.8': 6476, 'M65.9': 6477, 'M66': 6478, 'M66.0': 6479, 'M66.1': 6480, 'M66.2': 6481, 'M66.3': 6482, 'M66.4': 6483, 'M66.5': 6484, 'M67': 6485, 'M67.0': 6486, 'M67.1': 6487, 'M67.2': 6488, 'M67.3': 6489, 'M67.4': 6490, 'M67.8': 6491, 'M67.9': 6492, 'M68': 6493, 'M68.0': 6494, 'M68.8': 6495, 'M70': 6496, 'M70.0': 6497, 'M70.1': 6498, 'M70.2': 6499, 'M70.3': 6500, 'M70.4': 6501, 'M70.5': 6502, 'M70.6': 6503, 'M70.7': 6504, 'M70.8': 6505, 'M70.9': 6506, 'M71': 6507, 'M71.0': 6508, 'M71.1': 6509, 'M71.2': 6510, 'M71.3': 6511, 'M71.4': 6512, 'M71.5': 6513, 'M71.8': 6514, 'M71.9': 6515, 'M72': 6516, 'M72.0': 6517, 'M72.1': 6518, 'M72.2': 6519, 'M72.3': 6520, 'M72.4': 6521, 'M72.5': 6522, 'M72.8': 6523, 'M72.9': 6524, 'M73': 6525, 'M73.0': 6526, 'M73.1': 6527, 'M73.8': 6528, 'M75': 6529, 'M75.0': 6530, 'M75.1': 6531, 'M75.2': 6532, 'M75.3': 6533, 'M75.4': 6534, 'M75.5': 6535, 'M75.8': 6536, 'M75.9': 6537, 'M76': 6538, 'M76.0': 6539, 'M76.1': 6540, 'M76.2': 6541, 'M76.3': 6542, 'M76.4': 6543, 'M76.5': 6544, 'M76.6': 6545, 'M76.7': 6546, 'M76.8': 6547, 'M76.9': 6548, 'M77': 6549, 'M77.0': 6550, 'M77.1': 6551, 'M77.2': 6552, 'M77.3': 6553, 'M77.4': 6554, 'M77.5': 6555, 'M77.8': 6556, 'M77.9': 6557, 'M79': 6558, 'M79.0': 6559, 'M79.1': 6560, 'M79.2': 6561, 'M79.3': 6562, 'M79.4': 6563, 'M79.5': 6564, 'M79.6': 6565, 'M79.8': 6566, 'M79.9': 6567, 'M80': 6568, 'M80.0': 6569, 'M80.1': 6570, 'M80.2': 6571, 'M80.3': 6572, 'M80.4': 6573, 'M80.5': 6574, 'M80.8': 6575, 'M80.9': 6576, 'M81': 6577, 'M81.0': 6578, 'M81.1': 6579, 'M81.2': 6580, 'M81.3': 6581, 'M81.4': 6582, 'M81.5': 6583, 'M81.6': 6584, 'M81.8': 6585, 'M81.9': 6586, 'M82': 6587, 'M82.0': 6588, 'M82.1': 6589, 'M82.8': 6590, 'M83': 6591, 'M83.0': 6592, 'M83.1': 6593, 'M83.2': 6594, 'M83.3': 6595, 'M83.4': 6596, 'M83.5': 6597, 'M83.8': 6598, 'M83.9': 6599, 'M84': 6600, 'M84.0': 6601, 'M84.1': 6602, 'M84.2': 6603, 'M84.3': 6604, 'M84.4': 6605, 'M84.8': 6606, 'M84.9': 6607, 'M85': 6608, 'M85.0': 6609, 'M85.1': 6610, 'M85.2': 6611, 'M85.3': 6612, 'M85.4': 6613, 'M85.5': 6614, 'M85.6': 6615, 'M85.8': 6616, 'M85.9': 6617, 'M86': 6618, 'M86.0': 6619, 'M86.1': 6620, 'M86.2': 6621, 'M86.3': 6622, 'M86.4': 6623, 'M86.5': 6624, 'M86.6': 6625, 'M86.8': 6626, 'M86.9': 6627, 'M87': 6628, 'M87.0': 6629, 'M87.1': 6630, 'M87.2': 6631, 'M87.3': 6632, 'M87.8': 6633, 'M87.9': 6634, 'M88': 6635, 'M88.0': 6636, 'M88.8': 6637, 'M88.9': 6638, 'M89': 6639, 'M89.0': 6640, 'M89.1': 6641, 'M89.2': 6642, 'M89.3': 6643, 'M89.4': 6644, 'M89.5': 6645, 'M89.6': 6646, 'M89.8': 6647, 'M89.9': 6648, 'M90': 6649, 'M90.0': 6650, 'M90.1': 6651, 'M90.2': 6652, 'M90.3': 6653, 'M90.4': 6654, 'M90.5': 6655, 'M90.6': 6656, 'M90.7': 6657, 'M90.8': 6658, 'M91': 6659, 'M91.0': 6660, 'M91.1': 6661, 'M91.2': 6662, 'M91.3': 6663, 'M91.8': 6664, 'M91.9': 6665, 'M92': 6666, 'M92.0': 6667, 'M92.1': 6668, 'M92.2': 6669, 'M92.3': 6670, 'M92.4': 6671, 'M92.5': 6672, 'M92.6': 6673, 'M92.7': 6674, 'M92.8': 6675, 'M92.9': 6676, 'M93': 6677, 'M93.0': 6678, 'M93.1': 6679, 'M93.2': 6680, 'M93.8': 6681, 'M93.9': 6682, 'M94': 6683, 'M94.0': 6684, 'M94.1': 6685, 'M94.2': 6686, 'M94.3': 6687, 'M94.8': 6688, 'M94.9': 6689, 'M95': 6690, 'M95.0': 6691, 'M95.1': 6692, 'M95.2': 6693, 'M95.3': 6694, 'M95.4': 6695, 'M95.5': 6696, 'M95.8': 6697, 'M95.9': 6698, 'M96': 6699, 'M96.0': 6700, 'M96.1': 6701, 'M96.2': 6702, 'M96.3': 6703, 'M96.4': 6704, 'M96.5': 6705, 'M96.6': 6706, 'M96.8': 6707, 'M96.9': 6708, 'M99': 6709, 'M99.0': 6710, 'M99.1': 6711, 'M99.2': 6712, 'M99.3': 6713, 'M99.4': 6714, 'M99.5': 6715, 'M99.6': 6716, 'M99.7': 6717, 'M99.8': 6718, 'M99.9': 6719, 'N00': 6720, 'N00.0': 6721, 'N00.1': 6722, 'N00.2': 6723, 'N00.3': 6724, 'N00.4': 6725, 'N00.5': 6726, 'N00.6': 6727, 'N00.7': 6728, 'N00.8': 6729, 'N00.9': 6730, 'N01': 6731, 'N01.0': 6732, 'N01.1': 6733, 'N01.2': 6734, 'N01.3': 6735, 'N01.4': 6736, 'N01.5': 6737, 'N01.6': 6738, 'N01.7': 6739, 'N01.8': 6740, 'N01.9': 6741, 'N02': 6742, 'N02.0': 6743, 'N02.1': 6744, 'N02.2': 6745, 'N02.3': 6746, 'N02.4': 6747, 'N02.5': 6748, 'N02.6': 6749, 'N02.7': 6750, 'N02.8': 6751, 'N02.9': 6752, 'N03': 6753, 'N03.0': 6754, 'N03.1': 6755, 'N03.2': 6756, 'N03.3': 6757, 'N03.4': 6758, 'N03.5': 6759, 'N03.6': 6760, 'N03.7': 6761, 'N03.8': 6762, 'N03.9': 6763, 'N04': 6764, 'N04.0': 6765, 'N04.1': 6766, 'N04.2': 6767, 'N04.3': 6768, 'N04.4': 6769, 'N04.5': 6770, 'N04.6': 6771, 'N04.7': 6772, 'N04.8': 6773, 'N04.9': 6774, 'N05': 6775, 'N05.0': 6776, 'N05.1': 6777, 'N05.2': 6778, 'N05.3': 6779, 'N05.4': 6780, 'N05.5': 6781, 'N05.6': 6782, 'N05.7': 6783, 'N05.8': 6784, 'N05.9': 6785, 'N06': 6786, 'N06.0': 6787, 'N06.1': 6788, 'N06.2': 6789, 'N06.3': 6790, 'N06.4': 6791, 'N06.5': 6792, 'N06.6': 6793, 'N06.7': 6794, 'N06.8': 6795, 'N06.9': 6796, 'N07': 6797, 'N07.0': 6798, 'N07.1': 6799, 'N07.2': 6800, 'N07.3': 6801, 'N07.4': 6802, 'N07.5': 6803, 'N07.6': 6804, 'N07.7': 6805, 'N07.8': 6806, 'N07.9': 6807, 'N08': 6808, 'N08.0': 6809, 'N08.1': 6810, 'N08.2': 6811, 'N08.3': 6812, 'N08.4': 6813, 'N08.5': 6814, 'N08.8': 6815, 'N10': 6816, 'N10.9': 6817, 'N11': 6818, 'N11.0': 6819, 'N11.1': 6820, 'N11.8': 6821, 'N11.9': 6822, 'N12': 6823, 'N12.9': 6824, 'N13': 6825, 'N13.0': 6826, 'N13.1': 6827, 'N13.2': 6828, 'N13.3': 6829, 'N13.4': 6830, 'N13.5': 6831, 'N13.6': 6832, 'N13.7': 6833, 'N13.8': 6834, 'N13.9': 6835, 'N14': 6836, 'N14.0': 6837, 'N14.1': 6838, 'N14.2': 6839, 'N14.3': 6840, 'N14.4': 6841, 'N15': 6842, 'N15.0': 6843, 'N15.1': 6844, 'N15.8': 6845, 'N15.9': 6846, 'N16': 6847, 'N16.0': 6848, 'N16.1': 6849, 'N16.2': 6850, 'N16.3': 6851, 'N16.4': 6852, 'N16.5': 6853, 'N16.8': 6854, 'N17': 6855, 'N17.0': 6856, 'N17.1': 6857, 'N17.2': 6858, 'N17.8': 6859, 'N17.9': 6860, 'N18': 6861, 'N18.0': 6862, 'N18.8': 6863, 'N18.9': 6864, 'N19': 6865, 'N19.9': 6866, 'N20': 6867, 'N20.0': 6868, 'N20.1': 6869, 'N20.2': 6870, 'N20.9': 6871, 'N21': 6872, 'N21.0': 6873, 'N21.1': 6874, 'N21.8': 6875, 'N21.9': 6876, 'N22': 6877, 'N22.0': 6878, 'N22.8': 6879, 'N23': 6880, 'N23.9': 6881, 'N25': 6882, 'N25.0': 6883, 'N25.1': 6884, 'N25.8': 6885, 'N25.9': 6886, 'N26': 6887, 'N26.9': 6888, 'N27': 6889, 'N27.0': 6890, 'N27.1': 6891, 'N27.9': 6892, 'N28': 6893, 'N28.0': 6894, 'N28.1': 6895, 'N28.8': 6896, 'N28.9': 6897, 'N29': 6898, 'N29.0': 6899, 'N29.1': 6900, 'N29.8': 6901, 'N30': 6902, 'N30.0': 6903, 'N30.1': 6904, 'N30.2': 6905, 'N30.3': 6906, 'N30.4': 6907, 'N30.8': 6908, 'N30.9': 6909, 'N31': 6910, 'N31.0': 6911, 'N31.1': 6912, 'N31.2': 6913, 'N31.8': 6914, 'N31.9': 6915, 'N32': 6916, 'N32.0': 6917, 'N32.1': 6918, 'N32.2': 6919, 'N32.3': 6920, 'N32.4': 6921, 'N32.8': 6922, 'N32.9': 6923, 'N33': 6924, 'N33.0': 6925, 'N33.8': 6926, 'N34': 6927, 'N34.0': 6928, 'N34.1': 6929, 'N34.2': 6930, 'N34.3': 6931, 'N35': 6932, 'N35.0': 6933, 'N35.1': 6934, 'N35.8': 6935, 'N35.9': 6936, 'N36': 6937, 'N36.0': 6938, 'N36.1': 6939, 'N36.2': 6940, 'N36.3': 6941, 'N36.8': 6942, 'N36.9': 6943, 'N37': 6944, 'N37.0': 6945, 'N37.8': 6946, 'N39': 6947, 'N39.0': 6948, 'N39.1': 6949, 'N39.2': 6950, 'N39.3': 6951, 'N39.4': 6952, 'N39.8': 6953, 'N39.9': 6954, 'N40': 6955, 'N40.9': 6956, 'N41': 6957, 'N41.0': 6958, 'N41.1': 6959, 'N41.2': 6960, 'N41.3': 6961, 'N41.8': 6962, 'N41.9': 6963, 'N42': 6964, 'N42.0': 6965, 'N42.1': 6966, 'N42.2': 6967, 'N42.8': 6968, 'N42.9': 6969, 'N43': 6970, 'N43.0': 6971, 'N43.1': 6972, 'N43.2': 6973, 'N43.3': 6974, 'N43.4': 6975, 'N44': 6976, 'N44.9': 6977, 'N45': 6978, 'N45.0': 6979, 'N45.9': 6980, 'N46': 6981, 'N46.9': 6982, 'N47': 6983, 'N47.9': 6984, 'N48': 6985, 'N48.0': 6986, 'N48.1': 6987, 'N48.2': 6988, 'N48.3': 6989, 'N48.4': 6990, 'N48.5': 6991, 'N48.6': 6992, 'N48.8': 6993, 'N48.9': 6994, 'N49': 6995, 'N49.0': 6996, 'N49.1': 6997, 'N49.2': 6998, 'N49.8': 6999, 'N49.9': 7000, 'N50': 7001, 'N50.0': 7002, 'N50.1': 7003, 'N50.8': 7004, 'N50.9': 7005, 'N51': 7006, 'N51.0': 7007, 'N51.1': 7008, 'N51.2': 7009, 'N51.8': 7010, 'N60': 7011, 'N60.0': 7012, 'N60.1': 7013, 'N60.2': 7014, 'N60.3': 7015, 'N60.4': 7016, 'N60.8': 7017, 'N60.9': 7018, 'N61': 7019, 'N61.9': 7020, 'N62': 7021, 'N62.9': 7022, 'N63': 7023, 'N63.9': 7024, 'N64': 7025, 'N64.0': 7026, 'N64.1': 7027, 'N64.2': 7028, 'N64.3': 7029, 'N64.4': 7030, 'N64.5': 7031, 'N64.8': 7032, 'N64.9': 7033, 'N70': 7034, 'N70.0': 7035, 'N70.1': 7036, 'N70.9': 7037, 'N71': 7038, 'N71.0': 7039, 'N71.1': 7040, 'N71.9': 7041, 'N72': 7042, 'N72.9': 7043, 'N73': 7044, 'N73.0': 7045, 'N73.1': 7046, 'N73.2': 7047, 'N73.3': 7048, 'N73.4': 7049, 'N73.5': 7050, 'N73.6': 7051, 'N73.8': 7052, 'N73.9': 7053, 'N74': 7054, 'N74.0': 7055, 'N74.1': 7056, 'N74.2': 7057, 'N74.3': 7058, 'N74.4': 7059, 'N74.8': 7060, 'N75': 7061, 'N75.0': 7062, 'N75.1': 7063, 'N75.8': 7064, 'N75.9': 7065, 'N76': 7066, 'N76.0': 7067, 'N76.1': 7068, 'N76.2': 7069, 'N76.3': 7070, 'N76.4': 7071, 'N76.5': 7072, 'N76.6': 7073, 'N76.8': 7074, 'N77': 7075, 'N77.0': 7076, 'N77.1': 7077, 'N77.8': 7078, 'N80': 7079, 'N80.0': 7080, 'N80.1': 7081, 'N80.2': 7082, 'N80.3': 7083, 'N80.4': 7084, 'N80.5': 7085, 'N80.6': 7086, 'N80.8': 7087, 'N80.9': 7088, 'N81': 7089, 'N81.0': 7090, 'N81.1': 7091, 'N81.2': 7092, 'N81.3': 7093, 'N81.4': 7094, 'N81.5': 7095, 'N81.6': 7096, 'N81.8': 7097, 'N81.9': 7098, 'N82': 7099, 'N82.0': 7100, 'N82.1': 7101, 'N82.2': 7102, 'N82.3': 7103, 'N82.4': 7104, 'N82.5': 7105, 'N82.8': 7106, 'N82.9': 7107, 'N83': 7108, 'N83.0': 7109, 'N83.1': 7110, 'N83.2': 7111, 'N83.3': 7112, 'N83.4': 7113, 'N83.5': 7114, 'N83.6': 7115, 'N83.7': 7116, 'N83.8': 7117, 'N83.9': 7118, 'N84': 7119, 'N84.0': 7120, 'N84.1': 7121, 'N84.2': 7122, 'N84.3': 7123, 'N84.8': 7124, 'N84.9': 7125, 'N85': 7126, 'N85.0': 7127, 'N85.1': 7128, 'N85.2': 7129, 'N85.3': 7130, 'N85.4': 7131, 'N85.5': 7132, 'N85.6': 7133, 'N85.7': 7134, 'N85.8': 7135, 'N85.9': 7136, 'N86': 7137, 'N86.9': 7138, 'N87': 7139, 'N87.0': 7140, 'N87.1': 7141, 'N87.2': 7142, 'N87.9': 7143, 'N88': 7144, 'N88.0': 7145, 'N88.1': 7146, 'N88.2': 7147, 'N88.3': 7148, 'N88.4': 7149, 'N88.8': 7150, 'N88.9': 7151, 'N89': 7152, 'N89.0': 7153, 'N89.1': 7154, 'N89.2': 7155, 'N89.3': 7156, 'N89.4': 7157, 'N89.5': 7158, 'N89.6': 7159, 'N89.7': 7160, 'N89.8': 7161, 'N89.9': 7162, 'N90': 7163, 'N90.0': 7164, 'N90.1': 7165, 'N90.2': 7166, 'N90.3': 7167, 'N90.4': 7168, 'N90.5': 7169, 'N90.6': 7170, 'N90.7': 7171, 'N90.8': 7172, 'N90.9': 7173, 'N91': 7174, 'N91.0': 7175, 'N91.1': 7176, 'N91.2': 7177, 'N91.3': 7178, 'N91.4': 7179, 'N91.5': 7180, 'N92': 7181, 'N92.0': 7182, 'N92.1': 7183, 'N92.2': 7184, 'N92.3': 7185, 'N92.4': 7186, 'N92.5': 7187, 'N92.6': 7188, 'N93': 7189, 'N93.0': 7190, 'N93.8': 7191, 'N93.9': 7192, 'N94': 7193, 'N94.0': 7194, 'N94.1': 7195, 'N94.2': 7196, 'N94.3': 7197, 'N94.4': 7198, 'N94.5': 7199, 'N94.6': 7200, 'N94.8': 7201, 'N94.9': 7202, 'N95': 7203, 'N95.0': 7204, 'N95.1': 7205, 'N95.2': 7206, 'N95.3': 7207, 'N95.8': 7208, 'N95.9': 7209, 'N96': 7210, 'N96.9': 7211, 'N97': 7212, 'N97.0': 7213, 'N97.1': 7214, 'N97.2': 7215, 'N97.3': 7216, 'N97.4': 7217, 'N97.8': 7218, 'N97.9': 7219, 'N98': 7220, 'N98.0': 7221, 'N98.1': 7222, 'N98.2': 7223, 'N98.3': 7224, 'N98.8': 7225, 'N98.9': 7226, 'N99': 7227, 'N99.0': 7228, 'N99.1': 7229, 'N99.2': 7230, 'N99.3': 7231, 'N99.4': 7232, 'N99.5': 7233, 'N99.8': 7234, 'N99.9': 7235, 'O00': 7236, 'O00.0': 7237, 'O00.1': 7238, 'O00.2': 7239, 'O00.8': 7240, 'O00.9': 7241, 'O01': 7242, 'O01.0': 7243, 'O01.1': 7244, 'O01.9': 7245, 'O02': 7246, 'O02.0': 7247, 'O02.1': 7248, 'O02.8': 7249, 'O02.9': 7250, 'O03': 7251, 'O03.0': 7252, 'O03.1': 7253, 'O03.2': 7254, 'O03.3': 7255, 'O03.4': 7256, 'O03.5': 7257, 'O03.6': 7258, 'O03.7': 7259, 'O03.8': 7260, 'O03.9': 7261, 'O04': 7262, 'O04.0': 7263, 'O04.1': 7264, 'O04.2': 7265, 'O04.3': 7266, 'O04.4': 7267, 'O04.5': 7268, 'O04.6': 7269, 'O04.7': 7270, 'O04.8': 7271, 'O04.9': 7272, 'O05': 7273, 'O05.0': 7274, 'O05.1': 7275, 'O05.2': 7276, 'O05.3': 7277, 'O05.4': 7278, 'O05.5': 7279, 'O05.6': 7280, 'O05.7': 7281, 'O05.8': 7282, 'O05.9': 7283, 'O06': 7284, 'O06.0': 7285, 'O06.1': 7286, 'O06.2': 7287, 'O06.3': 7288, 'O06.4': 7289, 'O06.5': 7290, 'O06.6': 7291, 'O06.7': 7292, 'O06.8': 7293, 'O06.9': 7294, 'O07': 7295, 'O07.0': 7296, 'O07.1': 7297, 'O07.2': 7298, 'O07.3': 7299, 'O07.4': 7300, 'O07.5': 7301, 'O07.6': 7302, 'O07.7': 7303, 'O07.8': 7304, 'O07.9': 7305, 'O08': 7306, 'O08.0': 7307, 'O08.1': 7308, 'O08.2': 7309, 'O08.3': 7310, 'O08.4': 7311, 'O08.5': 7312, 'O08.6': 7313, 'O08.7': 7314, 'O08.8': 7315, 'O08.9': 7316, 'O10': 7317, 'O10.0': 7318, 'O10.1': 7319, 'O10.2': 7320, 'O10.3': 7321, 'O10.4': 7322, 'O10.9': 7323, 'O11': 7324, 'O11.9': 7325, 'O12': 7326, 'O12.0': 7327, 'O12.1': 7328, 'O12.2': 7329, 'O13': 7330, 'O13.9': 7331, 'O14': 7332, 'O14.0': 7333, 'O14.1': 7334, 'O14.9': 7335, 'O15': 7336, 'O15.0': 7337, 'O15.1': 7338, 'O15.2': 7339, 'O15.9': 7340, 'O16': 7341, 'O16.9': 7342, 'O20': 7343, 'O20.0': 7344, 'O20.8': 7345, 'O20.9': 7346, 'O21': 7347, 'O21.0': 7348, 'O21.1': 7349, 'O21.2': 7350, 'O21.8': 7351, 'O21.9': 7352, 'O22': 7353, 'O22.0': 7354, 'O22.1': 7355, 'O22.2': 7356, 'O22.3': 7357, 'O22.4': 7358, 'O22.5': 7359, 'O22.8': 7360, 'O22.9': 7361, 'O23': 7362, 'O23.0': 7363, 'O23.1': 7364, 'O23.2': 7365, 'O23.3': 7366, 'O23.4': 7367, 'O23.5': 7368, 'O23.9': 7369, 'O24': 7370, 'O24.0': 7371, 'O24.1': 7372, 'O24.2': 7373, 'O24.3': 7374, 'O24.4': 7375, 'O24.9': 7376, 'O25': 7377, 'O25.9': 7378, 'O26': 7379, 'O26.0': 7380, 'O26.1': 7381, 'O26.2': 7382, 'O26.3': 7383, 'O26.4': 7384, 'O26.5': 7385, 'O26.6': 7386, 'O26.7': 7387, 'O26.8': 7388, 'O26.9': 7389, 'O28': 7390, 'O28.0': 7391, 'O28.1': 7392, 'O28.2': 7393, 'O28.3': 7394, 'O28.4': 7395, 'O28.5': 7396, 'O28.8': 7397, 'O28.9': 7398, 'O29': 7399, 'O29.0': 7400, 'O29.1': 7401, 'O29.2': 7402, 'O29.3': 7403, 'O29.4': 7404, 'O29.5': 7405, 'O29.6': 7406, 'O29.8': 7407, 'O29.9': 7408, 'O30': 7409, 'O30.0': 7410, 'O30.1': 7411, 'O30.2': 7412, 'O30.8': 7413, 'O30.9': 7414, 'O31': 7415, 'O31.0': 7416, 'O31.1': 7417, 'O31.2': 7418, 'O31.8': 7419, 'O32': 7420, 'O32.0': 7421, 'O32.1': 7422, 'O32.2': 7423, 'O32.3': 7424, 'O32.4': 7425, 'O32.5': 7426, 'O32.6': 7427, 'O32.8': 7428, 'O32.9': 7429, 'O33': 7430, 'O33.0': 7431, 'O33.1': 7432, 'O33.2': 7433, 'O33.3': 7434, 'O33.4': 7435, 'O33.5': 7436, 'O33.6': 7437, 'O33.7': 7438, 'O33.8': 7439, 'O33.9': 7440, 'O34': 7441, 'O34.0': 7442, 'O34.1': 7443, 'O34.2': 7444, 'O34.3': 7445, 'O34.4': 7446, 'O34.5': 7447, 'O34.6': 7448, 'O34.7': 7449, 'O34.8': 7450, 'O34.9': 7451, 'O35': 7452, 'O35.0': 7453, 'O35.1': 7454, 'O35.2': 7455, 'O35.3': 7456, 'O35.4': 7457, 'O35.5': 7458, 'O35.6': 7459, 'O35.7': 7460, 'O35.8': 7461, 'O35.9': 7462, 'O36': 7463, 'O36.0': 7464, 'O36.1': 7465, 'O36.2': 7466, 'O36.3': 7467, 'O36.4': 7468, 'O36.5': 7469, 'O36.6': 7470, 'O36.7': 7471, 'O36.8': 7472, 'O36.9': 7473, 'O40': 7474, 'O40.9': 7475, 'O41': 7476, 'O41.0': 7477, 'O41.1': 7478, 'O41.8': 7479, 'O41.9': 7480, 'O42': 7481, 'O42.0': 7482, 'O42.1': 7483, 'O42.2': 7484, 'O42.9': 7485, 'O43': 7486, 'O43.0': 7487, 'O43.1': 7488, 'O43.8': 7489, 'O43.9': 7490, 'O44': 7491, 'O44.0': 7492, 'O44.1': 7493, 'O45': 7494, 'O45.0': 7495, 'O45.8': 7496, 'O45.9': 7497, 'O46': 7498, 'O46.0': 7499, 'O46.8': 7500, 'O46.9': 7501, 'O47': 7502, 'O47.0': 7503, 'O47.1': 7504, 'O47.9': 7505, 'O48': 7506, 'O48.9': 7507, 'O60': 7508, 'O60.9': 7509, 'O61': 7510, 'O61.0': 7511, 'O61.1': 7512, 'O61.8': 7513, 'O61.9': 7514, 'O62': 7515, 'O62.0': 7516, 'O62.1': 7517, 'O62.2': 7518, 'O62.3': 7519, 'O62.4': 7520, 'O62.8': 7521, 'O62.9': 7522, 'O63': 7523, 'O63.0': 7524, 'O63.1': 7525, 'O63.2': 7526, 'O63.9': 7527, 'O64': 7528, 'O64.0': 7529, 'O64.1': 7530, 'O64.2': 7531, 'O64.3': 7532, 'O64.4': 7533, 'O64.5': 7534, 'O64.8': 7535, 'O64.9': 7536, 'O65': 7537, 'O65.0': 7538, 'O65.1': 7539, 'O65.2': 7540, 'O65.3': 7541, 'O65.4': 7542, 'O65.5': 7543, 'O65.8': 7544, 'O65.9': 7545, 'O66': 7546, 'O66.0': 7547, 'O66.1': 7548, 'O66.2': 7549, 'O66.3': 7550, 'O66.4': 7551, 'O66.5': 7552, 'O66.8': 7553, 'O66.9': 7554, 'O67': 7555, 'O67.0': 7556, 'O67.8': 7557, 'O67.9': 7558, 'O68': 7559, 'O68.0': 7560, 'O68.1': 7561, 'O68.2': 7562, 'O68.3': 7563, 'O68.8': 7564, 'O68.9': 7565, 'O69': 7566, 'O69.0': 7567, 'O69.1': 7568, 'O69.2': 7569, 'O69.3': 7570, 'O69.4': 7571, 'O69.5': 7572, 'O69.8': 7573, 'O69.9': 7574, 'O70': 7575, 'O70.0': 7576, 'O70.1': 7577, 'O70.2': 7578, 'O70.3': 7579, 'O70.9': 7580, 'O71': 7581, 'O71.0': 7582, 'O71.1': 7583, 'O71.2': 7584, 'O71.3': 7585, 'O71.4': 7586, 'O71.5': 7587, 'O71.6': 7588, 'O71.7': 7589, 'O71.8': 7590, 'O71.9': 7591, 'O72': 7592, 'O72.0': 7593, 'O72.1': 7594, 'O72.2': 7595, 'O72.3': 7596, 'O73': 7597, 'O73.0': 7598, 'O73.1': 7599, 'O74': 7600, 'O74.0': 7601, 'O74.1': 7602, 'O74.2': 7603, 'O74.3': 7604, 'O74.4': 7605, 'O74.5': 7606, 'O74.6': 7607, 'O74.7': 7608, 'O74.8': 7609, 'O74.9': 7610, 'O75': 7611, 'O75.0': 7612, 'O75.1': 7613, 'O75.2': 7614, 'O75.3': 7615, 'O75.4': 7616, 'O75.5': 7617, 'O75.6': 7618, 'O75.7': 7619, 'O75.8': 7620, 'O75.9': 7621, 'O80': 7622, 'O80.0': 7623, 'O80.1': 7624, 'O80.8': 7625, 'O80.9': 7626, 'O81': 7627, 'O81.0': 7628, 'O81.1': 7629, 'O81.2': 7630, 'O81.3': 7631, 'O81.4': 7632, 'O81.5': 7633, 'O82': 7634, 'O82.0': 7635, 'O82.1': 7636, 'O82.2': 7637, 'O82.8': 7638, 'O82.9': 7639, 'O83': 7640, 'O83.0': 7641, 'O83.1': 7642, 'O83.2': 7643, 'O83.3': 7644, 'O83.4': 7645, 'O83.8': 7646, 'O83.9': 7647, 'O84': 7648, 'O84.0': 7649, 'O84.1': 7650, 'O84.2': 7651, 'O84.8': 7652, 'O84.9': 7653, 'O85': 7654, 'O85.9': 7655, 'O86': 7656, 'O86.0': 7657, 'O86.1': 7658, 'O86.2': 7659, 'O86.3': 7660, 'O86.4': 7661, 'O86.8': 7662, 'O87': 7663, 'O87.0': 7664, 'O87.1': 7665, 'O87.2': 7666, 'O87.3': 7667, 'O87.8': 7668, 'O87.9': 7669, 'O88': 7670, 'O88.0': 7671, 'O88.1': 7672, 'O88.2': 7673, 'O88.3': 7674, 'O88.8': 7675, 'O89': 7676, 'O89.0': 7677, 'O89.1': 7678, 'O89.2': 7679, 'O89.3': 7680, 'O89.4': 7681, 'O89.5': 7682, 'O89.6': 7683, 'O89.8': 7684, 'O89.9': 7685, 'O90': 7686, 'O90.0': 7687, 'O90.1': 7688, 'O90.2': 7689, 'O90.3': 7690, 'O90.4': 7691, 'O90.5': 7692, 'O90.8': 7693, 'O90.9': 7694, 'O91': 7695, 'O91.0': 7696, 'O91.1': 7697, 'O91.2': 7698, 'O92': 7699, 'O92.0': 7700, 'O92.1': 7701, 'O92.2': 7702, 'O92.3': 7703, 'O92.4': 7704, 'O92.5': 7705, 'O92.6': 7706, 'O92.7': 7707, 'O95': 7708, 'O95.9': 7709, 'O96': 7710, 'O96.9': 7711, 'O97': 7712, 'O97.9': 7713, 'O98': 7714, 'O98.0': 7715, 'O98.1': 7716, 'O98.2': 7717, 'O98.3': 7718, 'O98.4': 7719, 'O98.5': 7720, 'O98.6': 7721, 'O98.8': 7722, 'O98.9': 7723, 'O99': 7724, 'O99.0': 7725, 'O99.1': 7726, 'O99.2': 7727, 'O99.3': 7728, 'O99.4': 7729, 'O99.5': 7730, 'O99.6': 7731, 'O99.7': 7732, 'O99.8': 7733, 'P00': 7734, 'P00.0': 7735, 'P00.1': 7736, 'P00.2': 7737, 'P00.3': 7738, 'P00.4': 7739, 'P00.5': 7740, 'P00.6': 7741, 'P00.7': 7742, 'P00.8': 7743, 'P00.9': 7744, 'P01': 7745, 'P01.0': 7746, 'P01.1': 7747, 'P01.2': 7748, 'P01.3': 7749, 'P01.4': 7750, 'P01.5': 7751, 'P01.6': 7752, 'P01.7': 7753, 'P01.8': 7754, 'P01.9': 7755, 'P02': 7756, 'P02.0': 7757, 'P02.1': 7758, 'P02.2': 7759, 'P02.3': 7760, 'P02.4': 7761, 'P02.5': 7762, 'P02.6': 7763, 'P02.7': 7764, 'P02.8': 7765, 'P02.9': 7766, 'P03': 7767, 'P03.0': 7768, 'P03.1': 7769, 'P03.2': 7770, 'P03.3': 7771, 'P03.4': 7772, 'P03.5': 7773, 'P03.6': 7774, 'P03.8': 7775, 'P03.9': 7776, 'P04': 7777, 'P04.0': 7778, 'P04.1': 7779, 'P04.2': 7780, 'P04.3': 7781, 'P04.4': 7782, 'P04.5': 7783, 'P04.6': 7784, 'P04.8': 7785, 'P04.9': 7786, 'P05': 7787, 'P05.0': 7788, 'P05.1': 7789, 'P05.2': 7790, 'P05.9': 7791, 'P07': 7792, 'P07.0': 7793, 'P07.1': 7794, 'P07.2': 7795, 'P07.3': 7796, 'P08': 7797, 'P08.0': 7798, 'P08.1': 7799, 'P08.2': 7800, 'P10': 7801, 'P10.0': 7802, 'P10.1': 7803, 'P10.2': 7804, 'P10.3': 7805, 'P10.4': 7806, 'P10.8': 7807, 'P10.9': 7808, 'P11': 7809, 'P11.0': 7810, 'P11.1': 7811, 'P11.2': 7812, 'P11.3': 7813, 'P11.4': 7814, 'P11.5': 7815, 'P11.9': 7816, 'P12': 7817, 'P12.0': 7818, 'P12.1': 7819, 'P12.2': 7820, 'P12.3': 7821, 'P12.4': 7822, 'P12.8': 7823, 'P12.9': 7824, 'P13': 7825, 'P13.0': 7826, 'P13.1': 7827, 'P13.2': 7828, 'P13.3': 7829, 'P13.4': 7830, 'P13.8': 7831, 'P13.9': 7832, 'P14': 7833, 'P14.0': 7834, 'P14.1': 7835, 'P14.2': 7836, 'P14.3': 7837, 'P14.8': 7838, 'P14.9': 7839, 'P15': 7840, 'P15.0': 7841, 'P15.1': 7842, 'P15.2': 7843, 'P15.3': 7844, 'P15.4': 7845, 'P15.5': 7846, 'P15.6': 7847, 'P15.8': 7848, 'P15.9': 7849, 'P20': 7850, 'P20.0': 7851, 'P20.1': 7852, 'P20.9': 7853, 'P21': 7854, 'P21.0': 7855, 'P21.1': 7856, 'P21.9': 7857, 'P22': 7858, 'P22.0': 7859, 'P22.1': 7860, 'P22.8': 7861, 'P22.9': 7862, 'P23': 7863, 'P23.0': 7864, 'P23.1': 7865, 'P23.2': 7866, 'P23.3': 7867, 'P23.4': 7868, 'P23.5': 7869, 'P23.6': 7870, 'P23.8': 7871, 'P23.9': 7872, 'P24': 7873, 'P24.0': 7874, 'P24.1': 7875, 'P24.2': 7876, 'P24.3': 7877, 'P24.8': 7878, 'P24.9': 7879, 'P25': 7880, 'P25.0': 7881, 'P25.1': 7882, 'P25.2': 7883, 'P25.3': 7884, 'P25.8': 7885, 'P26': 7886, 'P26.0': 7887, 'P26.1': 7888, 'P26.8': 7889, 'P26.9': 7890, 'P27': 7891, 'P27.0': 7892, 'P27.1': 7893, 'P27.8': 7894, 'P27.9': 7895, 'P28': 7896, 'P28.0': 7897, 'P28.1': 7898, 'P28.2': 7899, 'P28.3': 7900, 'P28.4': 7901, 'P28.5': 7902, 'P28.8': 7903, 'P28.9': 7904, 'P29': 7905, 'P29.0': 7906, 'P29.1': 7907, 'P29.2': 7908, 'P29.3': 7909, 'P29.4': 7910, 'P29.8': 7911, 'P29.9': 7912, 'P35': 7913, 'P35.0': 7914, 'P35.1': 7915, 'P35.2': 7916, 'P35.3': 7917, 'P35.8': 7918, 'P35.9': 7919, 'P36': 7920, 'P36.0': 7921, 'P36.1': 7922, 'P36.2': 7923, 'P36.3': 7924, 'P36.4': 7925, 'P36.5': 7926, 'P36.8': 7927, 'P36.9': 7928, 'P37': 7929, 'P37.0': 7930, 'P37.1': 7931, 'P37.2': 7932, 'P37.3': 7933, 'P37.4': 7934, 'P37.5': 7935, 'P37.8': 7936, 'P37.9': 7937, 'P38': 7938, 'P38.9': 7939, 'P39': 7940, 'P39.0': 7941, 'P39.1': 7942, 'P39.2': 7943, 'P39.3': 7944, 'P39.4': 7945, 'P39.8': 7946, 'P39.9': 7947, 'P50': 7948, 'P50.0': 7949, 'P50.1': 7950, 'P50.2': 7951, 'P50.3': 7952, 'P50.4': 7953, 'P50.5': 7954, 'P50.8': 7955, 'P50.9': 7956, 'P51': 7957, 'P51.0': 7958, 'P51.8': 7959, 'P51.9': 7960, 'P52': 7961, 'P52.0': 7962, 'P52.1': 7963, 'P52.2': 7964, 'P52.3': 7965, 'P52.4': 7966, 'P52.5': 7967, 'P52.6': 7968, 'P52.8': 7969, 'P52.9': 7970, 'P53': 7971, 'P53.9': 7972, 'P54': 7973, 'P54.0': 7974, 'P54.1': 7975, 'P54.2': 7976, 'P54.3': 7977, 'P54.4': 7978, 'P54.5': 7979, 'P54.6': 7980, 'P54.8': 7981, 'P54.9': 7982, 'P55': 7983, 'P55.0': 7984, 'P55.1': 7985, 'P55.8': 7986, 'P55.9': 7987, 'P56': 7988, 'P56.0': 7989, 'P56.9': 7990, 'P57': 7991, 'P57.0': 7992, 'P57.8': 7993, 'P57.9': 7994, 'P58': 7995, 'P58.0': 7996, 'P58.1': 7997, 'P58.2': 7998, 'P58.3': 7999, 'P58.4': 8000, 'P58.5': 8001, 'P58.8': 8002, 'P58.9': 8003, 'P59': 8004, 'P59.0': 8005, 'P59.1': 8006, 'P59.2': 8007, 'P59.3': 8008, 'P59.8': 8009, 'P59.9': 8010, 'P60': 8011, 'P60.9': 8012, 'P61': 8013, 'P61.0': 8014, 'P61.1': 8015, 'P61.2': 8016, 'P61.3': 8017, 'P61.4': 8018, 'P61.5': 8019, 'P61.6': 8020, 'P61.8': 8021, 'P61.9': 8022, 'P70': 8023, 'P70.0': 8024, 'P70.1': 8025, 'P70.2': 8026, 'P70.3': 8027, 'P70.4': 8028, 'P70.8': 8029, 'P70.9': 8030, 'P71': 8031, 'P71.0': 8032, 'P71.1': 8033, 'P71.2': 8034, 'P71.3': 8035, 'P71.4': 8036, 'P71.8': 8037, 'P71.9': 8038, 'P72': 8039, 'P72.0': 8040, 'P72.1': 8041, 'P72.2': 8042, 'P72.8': 8043, 'P72.9': 8044, 'P74': 8045, 'P74.0': 8046, 'P74.1': 8047, 'P74.2': 8048, 'P74.3': 8049, 'P74.4': 8050, 'P74.5': 8051, 'P74.8': 8052, 'P74.9': 8053, 'P75': 8054, 'P75.9': 8055, 'P76': 8056, 'P76.0': 8057, 'P76.1': 8058, 'P76.2': 8059, 'P76.8': 8060, 'P76.9': 8061, 'P77': 8062, 'P77.9': 8063, 'P78': 8064, 'P78.0': 8065, 'P78.1': 8066, 'P78.2': 8067, 'P78.3': 8068, 'P78.8': 8069, 'P78.9': 8070, 'P80': 8071, 'P80.0': 8072, 'P80.8': 8073, 'P80.9': 8074, 'P81': 8075, 'P81.0': 8076, 'P81.8': 8077, 'P81.9': 8078, 'P83': 8079, 'P83.0': 8080, 'P83.1': 8081, 'P83.2': 8082, 'P83.3': 8083, 'P83.4': 8084, 'P83.5': 8085, 'P83.6': 8086, 'P83.8': 8087, 'P83.9': 8088, 'P90': 8089, 'P90.9': 8090, 'P91': 8091, 'P91.0': 8092, 'P91.1': 8093, 'P91.2': 8094, 'P91.3': 8095, 'P91.4': 8096, 'P91.5': 8097, 'P91.8': 8098, 'P91.9': 8099, 'P92': 8100, 'P92.0': 8101, 'P92.1': 8102, 'P92.2': 8103, 'P92.3': 8104, 'P92.4': 8105, 'P92.5': 8106, 'P92.8': 8107, 'P92.9': 8108, 'P93': 8109, 'P93.9': 8110, 'P94': 8111, 'P94.0': 8112, 'P94.1': 8113, 'P94.2': 8114, 'P94.8': 8115, 'P94.9': 8116, 'P95': 8117, 'P95.9': 8118, 'P96': 8119, 'P96.0': 8120, 'P96.1': 8121, 'P96.2': 8122, 'P96.3': 8123, 'P96.4': 8124, 'P96.5': 8125, 'P96.8': 8126, 'P96.9': 8127, 'Q00': 8128, 'Q00.0': 8129, 'Q00.1': 8130, 'Q00.2': 8131, 'Q01': 8132, 'Q01.0': 8133, 'Q01.1': 8134, 'Q01.2': 8135, 'Q01.8': 8136, 'Q01.9': 8137, 'Q02': 8138, 'Q02.9': 8139, 'Q03': 8140, 'Q03.0': 8141, 'Q03.1': 8142, 'Q03.8': 8143, 'Q03.9': 8144, 'Q04': 8145, 'Q04.0': 8146, 'Q04.1': 8147, 'Q04.2': 8148, 'Q04.3': 8149, 'Q04.4': 8150, 'Q04.5': 8151, 'Q04.6': 8152, 'Q04.8': 8153, 'Q04.9': 8154, 'Q05': 8155, 'Q05.0': 8156, 'Q05.1': 8157, 'Q05.2': 8158, 'Q05.3': 8159, 'Q05.4': 8160, 'Q05.5': 8161, 'Q05.6': 8162, 'Q05.7': 8163, 'Q05.8': 8164, 'Q05.9': 8165, 'Q06': 8166, 'Q06.0': 8167, 'Q06.1': 8168, 'Q06.2': 8169, 'Q06.3': 8170, 'Q06.4': 8171, 'Q06.8': 8172, 'Q06.9': 8173, 'Q07': 8174, 'Q07.0': 8175, 'Q07.8': 8176, 'Q07.9': 8177, 'Q10': 8178, 'Q10.0': 8179, 'Q10.1': 8180, 'Q10.2': 8181, 'Q10.3': 8182, 'Q10.4': 8183, 'Q10.5': 8184, 'Q10.6': 8185, 'Q10.7': 8186, 'Q11': 8187, 'Q11.0': 8188, 'Q11.1': 8189, 'Q11.2': 8190, 'Q11.3': 8191, 'Q12': 8192, 'Q12.0': 8193, 'Q12.1': 8194, 'Q12.2': 8195, 'Q12.3': 8196, 'Q12.4': 8197, 'Q12.8': 8198, 'Q12.9': 8199, 'Q13': 8200, 'Q13.0': 8201, 'Q13.1': 8202, 'Q13.2': 8203, 'Q13.3': 8204, 'Q13.4': 8205, 'Q13.5': 8206, 'Q13.8': 8207, 'Q13.9': 8208, 'Q14': 8209, 'Q14.0': 8210, 'Q14.1': 8211, 'Q14.2': 8212, 'Q14.3': 8213, 'Q14.8': 8214, 'Q14.9': 8215, 'Q15': 8216, 'Q15.0': 8217, 'Q15.8': 8218, 'Q15.9': 8219, 'Q16': 8220, 'Q16.0': 8221, 'Q16.1': 8222, 'Q16.2': 8223, 'Q16.3': 8224, 'Q16.4': 8225, 'Q16.5': 8226, 'Q16.9': 8227, 'Q17': 8228, 'Q17.0': 8229, 'Q17.1': 8230, 'Q17.2': 8231, 'Q17.3': 8232, 'Q17.4': 8233, 'Q17.5': 8234, 'Q17.8': 8235, 'Q17.9': 8236, 'Q18': 8237, 'Q18.0': 8238, 'Q18.1': 8239, 'Q18.2': 8240, 'Q18.3': 8241, 'Q18.4': 8242, 'Q18.5': 8243, 'Q18.6': 8244, 'Q18.7': 8245, 'Q18.8': 8246, 'Q18.9': 8247, 'Q20': 8248, 'Q20.0': 8249, 'Q20.1': 8250, 'Q20.2': 8251, 'Q20.3': 8252, 'Q20.4': 8253, 'Q20.5': 8254, 'Q20.6': 8255, 'Q20.8': 8256, 'Q20.9': 8257, 'Q21': 8258, 'Q21.0': 8259, 'Q21.1': 8260, 'Q21.11': 8261, 'Q21.2': 8262, 'Q21.3': 8263, 'Q21.4': 8264, 'Q21.8': 8265, 'Q21.9': 8266, 'Q22': 8267, 'Q22.0': 8268, 'Q22.1': 8269, 'Q22.2': 8270, 'Q22.3': 8271, 'Q22.4': 8272, 'Q22.5': 8273, 'Q22.6': 8274, 'Q22.8': 8275, 'Q22.9': 8276, 'Q23': 8277, 'Q23.0': 8278, 'Q23.1': 8279, 'Q23.2': 8280, 'Q23.3': 8281, 'Q23.4': 8282, 'Q23.8': 8283, 'Q23.9': 8284, 'Q24': 8285, 'Q24.0': 8286, 'Q24.1': 8287, 'Q24.2': 8288, 'Q24.3': 8289, 'Q24.4': 8290, 'Q24.5': 8291, 'Q24.6': 8292, 'Q24.8': 8293, 'Q24.9': 8294, 'Q25': 8295, 'Q25.0': 8296, 'Q25.1': 8297, 'Q25.2': 8298, 'Q25.3': 8299, 'Q25.4': 8300, 'Q25.5': 8301, 'Q25.6': 8302, 'Q25.7': 8303, 'Q25.8': 8304, 'Q25.9': 8305, 'Q26': 8306, 'Q26.0': 8307, 'Q26.1': 8308, 'Q26.2': 8309, 'Q26.3': 8310, 'Q26.4': 8311, 'Q26.5': 8312, 'Q26.6': 8313, 'Q26.8': 8314, 'Q26.9': 8315, 'Q27': 8316, 'Q27.0': 8317, 'Q27.1': 8318, 'Q27.2': 8319, 'Q27.3': 8320, 'Q27.4': 8321, 'Q27.8': 8322, 'Q27.9': 8323, 'Q28': 8324, 'Q28.0': 8325, 'Q28.1': 8326, 'Q28.2': 8327, 'Q28.3': 8328, 'Q28.8': 8329, 'Q28.9': 8330, 'Q30': 8331, 'Q30.0': 8332, 'Q30.1': 8333, 'Q30.2': 8334, 'Q30.3': 8335, 'Q30.8': 8336, 'Q30.9': 8337, 'Q31': 8338, 'Q31.0': 8339, 'Q31.1': 8340, 'Q31.2': 8341, 'Q31.3': 8342, 'Q31.4': 8343, 'Q31.8': 8344, 'Q31.9': 8345, 'Q32': 8346, 'Q32.0': 8347, 'Q32.1': 8348, 'Q32.2': 8349, 'Q32.3': 8350, 'Q32.4': 8351, 'Q33': 8352, 'Q33.0': 8353, 'Q33.1': 8354, 'Q33.2': 8355, 'Q33.3': 8356, 'Q33.4': 8357, 'Q33.5': 8358, 'Q33.6': 8359, 'Q33.8': 8360, 'Q33.9': 8361, 'Q34': 8362, 'Q34.0': 8363, 'Q34.1': 8364, 'Q34.8': 8365, 'Q34.9': 8366, 'Q35': 8367, 'Q35.0': 8368, 'Q35.1': 8369, 'Q35.2': 8370, 'Q35.3': 8371, 'Q35.4': 8372, 'Q35.5': 8373, 'Q35.6': 8374, 'Q35.7': 8375, 'Q35.8': 8376, 'Q35.9': 8377, 'Q36': 8378, 'Q36.0': 8379, 'Q36.1': 8380, 'Q36.9': 8381, 'Q37': 8382, 'Q37.0': 8383, 'Q37.1': 8384, 'Q37.2': 8385, 'Q37.3': 8386, 'Q37.4': 8387, 'Q37.5': 8388, 'Q37.8': 8389, 'Q37.9': 8390, 'Q38': 8391, 'Q38.0': 8392, 'Q38.1': 8393, 'Q38.2': 8394, 'Q38.3': 8395, 'Q38.4': 8396, 'Q38.5': 8397, 'Q38.6': 8398, 'Q38.7': 8399, 'Q38.8': 8400, 'Q39': 8401, 'Q39.0': 8402, 'Q39.1': 8403, 'Q39.2': 8404, 'Q39.3': 8405, 'Q39.4': 8406, 'Q39.5': 8407, 'Q39.6': 8408, 'Q39.8': 8409, 'Q39.9': 8410, 'Q40': 8411, 'Q40.0': 8412, 'Q40.1': 8413, 'Q40.2': 8414, 'Q40.3': 8415, 'Q40.8': 8416, 'Q40.9': 8417, 'Q41': 8418, 'Q41.0': 8419, 'Q41.1': 8420, 'Q41.2': 8421, 'Q41.8': 8422, 'Q41.9': 8423, 'Q42': 8424, 'Q42.0': 8425, 'Q42.1': 8426, 'Q42.2': 8427, 'Q42.3': 8428, 'Q42.8': 8429, 'Q42.9': 8430, 'Q43': 8431, 'Q43.0': 8432, 'Q43.1': 8433, 'Q43.2': 8434, 'Q43.3': 8435, 'Q43.4': 8436, 'Q43.5': 8437, 'Q43.6': 8438, 'Q43.7': 8439, 'Q43.8': 8440, 'Q43.9': 8441, 'Q44': 8442, 'Q44.0': 8443, 'Q44.1': 8444, 'Q44.2': 8445, 'Q44.3': 8446, 'Q44.4': 8447, 'Q44.5': 8448, 'Q44.6': 8449, 'Q44.7': 8450, 'Q45': 8451, 'Q45.0': 8452, 'Q45.1': 8453, 'Q45.2': 8454, 'Q45.3': 8455, 'Q45.8': 8456, 'Q45.9': 8457, 'Q50': 8458, 'Q50.0': 8459, 'Q50.1': 8460, 'Q50.2': 8461, 'Q50.3': 8462, 'Q50.4': 8463, 'Q50.5': 8464, 'Q50.6': 8465, 'Q51': 8466, 'Q51.0': 8467, 'Q51.1': 8468, 'Q51.2': 8469, 'Q51.3': 8470, 'Q51.4': 8471, 'Q51.5': 8472, 'Q51.6': 8473, 'Q51.7': 8474, 'Q51.8': 8475, 'Q51.9': 8476, 'Q52': 8477, 'Q52.0': 8478, 'Q52.1': 8479, 'Q52.2': 8480, 'Q52.3': 8481, 'Q52.4': 8482, 'Q52.5': 8483, 'Q52.6': 8484, 'Q52.7': 8485, 'Q52.8': 8486, 'Q52.9': 8487, 'Q53': 8488, 'Q53.0': 8489, 'Q53.1': 8490, 'Q53.2': 8491, 'Q53.9': 8492, 'Q54': 8493, 'Q54.0': 8494, 'Q54.1': 8495, 'Q54.2': 8496, 'Q54.3': 8497, 'Q54.4': 8498, 'Q54.8': 8499, 'Q54.9': 8500, 'Q55': 8501, 'Q55.0': 8502, 'Q55.1': 8503, 'Q55.2': 8504, 'Q55.3': 8505, 'Q55.4': 8506, 'Q55.5': 8507, 'Q55.6': 8508, 'Q55.8': 8509, 'Q55.9': 8510, 'Q56': 8511, 'Q56.0': 8512, 'Q56.1': 8513, 'Q56.2': 8514, 'Q56.3': 8515, 'Q56.4': 8516, 'Q60': 8517, 'Q60.0': 8518, 'Q60.1': 8519, 'Q60.2': 8520, 'Q60.3': 8521, 'Q60.4': 8522, 'Q60.5': 8523, 'Q60.6': 8524, 'Q61': 8525, 'Q61.0': 8526, 'Q61.1': 8527, 'Q61.2': 8528, 'Q61.3': 8529, 'Q61.4': 8530, 'Q61.5': 8531, 'Q61.8': 8532, 'Q61.9': 8533, 'Q62': 8534, 'Q62.0': 8535, 'Q62.1': 8536, 'Q62.2': 8537, 'Q62.3': 8538, 'Q62.4': 8539, 'Q62.5': 8540, 'Q62.6': 8541, 'Q62.7': 8542, 'Q62.8': 8543, 'Q63': 8544, 'Q63.0': 8545, 'Q63.1': 8546, 'Q63.2': 8547, 'Q63.3': 8548, 'Q63.8': 8549, 'Q63.9': 8550, 'Q64': 8551, 'Q64.0': 8552, 'Q64.1': 8553, 'Q64.2': 8554, 'Q64.3': 8555, 'Q64.4': 8556, 'Q64.5': 8557, 'Q64.6': 8558, 'Q64.7': 8559, 'Q64.8': 8560, 'Q64.9': 8561, 'Q65': 8562, 'Q65.0': 8563, 'Q65.1': 8564, 'Q65.2': 8565, 'Q65.3': 8566, 'Q65.4': 8567, 'Q65.5': 8568, 'Q65.6': 8569, 'Q65.8': 8570, 'Q65.9': 8571, 'Q66': 8572, 'Q66.0': 8573, 'Q66.1': 8574, 'Q66.2': 8575, 'Q66.3': 8576, 'Q66.4': 8577, 'Q66.5': 8578, 'Q66.6': 8579, 'Q66.7': 8580, 'Q66.8': 8581, 'Q66.9': 8582, 'Q67': 8583, 'Q67.0': 8584, 'Q67.1': 8585, 'Q67.2': 8586, 'Q67.3': 8587, 'Q67.4': 8588, 'Q67.5': 8589, 'Q67.6': 8590, 'Q67.7': 8591, 'Q67.8': 8592, 'Q68': 8593, 'Q68.0': 8594, 'Q68.1': 8595, 'Q68.2': 8596, 'Q68.3': 8597, 'Q68.4': 8598, 'Q68.5': 8599, 'Q68.8': 8600, 'Q69': 8601, 'Q69.0': 8602, 'Q69.1': 8603, 'Q69.2': 8604, 'Q69.9': 8605, 'Q70': 8606, 'Q70.0': 8607, 'Q70.1': 8608, 'Q70.2': 8609, 'Q70.3': 8610, 'Q70.4': 8611, 'Q70.9': 8612, 'Q71': 8613, 'Q71.0': 8614, 'Q71.1': 8615, 'Q71.2': 8616, 'Q71.3': 8617, 'Q71.4': 8618, 'Q71.5': 8619, 'Q71.6': 8620, 'Q71.8': 8621, 'Q71.9': 8622, 'Q72': 8623, 'Q72.0': 8624, 'Q72.1': 8625, 'Q72.2': 8626, 'Q72.3': 8627, 'Q72.4': 8628, 'Q72.5': 8629, 'Q72.6': 8630, 'Q72.7': 8631, 'Q72.8': 8632, 'Q72.9': 8633, 'Q73': 8634, 'Q73.0': 8635, 'Q73.1': 8636, 'Q73.8': 8637, 'Q74': 8638, 'Q74.0': 8639, 'Q74.1': 8640, 'Q74.2': 8641, 'Q74.3': 8642, 'Q74.8': 8643, 'Q74.9': 8644, 'Q75': 8645, 'Q75.0': 8646, 'Q75.1': 8647, 'Q75.2': 8648, 'Q75.3': 8649, 'Q75.4': 8650, 'Q75.5': 8651, 'Q75.8': 8652, 'Q75.9': 8653, 'Q76': 8654, 'Q76.0': 8655, 'Q76.1': 8656, 'Q76.2': 8657, 'Q76.3': 8658, 'Q76.4': 8659, 'Q76.5': 8660, 'Q76.6': 8661, 'Q76.7': 8662, 'Q76.8': 8663, 'Q76.9': 8664, 'Q77': 8665, 'Q77.0': 8666, 'Q77.1': 8667, 'Q77.2': 8668, 'Q77.3': 8669, 'Q77.4': 8670, 'Q77.5': 8671, 'Q77.6': 8672, 'Q77.7': 8673, 'Q77.8': 8674, 'Q77.9': 8675, 'Q78': 8676, 'Q78.0': 8677, 'Q78.1': 8678, 'Q78.2': 8679, 'Q78.3': 8680, 'Q78.4': 8681, 'Q78.5': 8682, 'Q78.6': 8683, 'Q78.8': 8684, 'Q78.9': 8685, 'Q79': 8686, 'Q79.0': 8687, 'Q79.1': 8688, 'Q79.2': 8689, 'Q79.3': 8690, 'Q79.4': 8691, 'Q79.5': 8692, 'Q79.6': 8693, 'Q79.8': 8694, 'Q79.9': 8695, 'Q80': 8696, 'Q80.0': 8697, 'Q80.1': 8698, 'Q80.2': 8699, 'Q80.3': 8700, 'Q80.4': 8701, 'Q80.8': 8702, 'Q80.9': 8703, 'Q81': 8704, 'Q81.0': 8705, 'Q81.1': 8706, 'Q81.2': 8707, 'Q81.8': 8708, 'Q81.9': 8709, 'Q82': 8710, 'Q82.0': 8711, 'Q82.1': 8712, 'Q82.2': 8713, 'Q82.3': 8714, 'Q82.4': 8715, 'Q82.5': 8716, 'Q82.8': 8717, 'Q82.9': 8718, 'Q83': 8719, 'Q83.0': 8720, 'Q83.1': 8721, 'Q83.2': 8722, 'Q83.3': 8723, 'Q83.8': 8724, 'Q83.9': 8725, 'Q84': 8726, 'Q84.0': 8727, 'Q84.1': 8728, 'Q84.2': 8729, 'Q84.3': 8730, 'Q84.4': 8731, 'Q84.5': 8732, 'Q84.6': 8733, 'Q84.8': 8734, 'Q84.9': 8735, 'Q85': 8736, 'Q85.0': 8737, 'Q85.1': 8738, 'Q85.8': 8739, 'Q85.9': 8740, 'Q86': 8741, 'Q86.0': 8742, 'Q86.1': 8743, 'Q86.2': 8744, 'Q86.8': 8745, 'Q87': 8746, 'Q87.0': 8747, 'Q87.1': 8748, 'Q87.2': 8749, 'Q87.3': 8750, 'Q87.4': 8751, 'Q87.5': 8752, 'Q87.8': 8753, 'Q89': 8754, 'Q89.0': 8755, 'Q89.1': 8756, 'Q89.2': 8757, 'Q89.3': 8758, 'Q89.4': 8759, 'Q89.7': 8760, 'Q89.8': 8761, 'Q89.9': 8762, 'Q90': 8763, 'Q90.0': 8764, 'Q90.1': 8765, 'Q90.2': 8766, 'Q90.9': 8767, 'Q91': 8768, 'Q91.0': 8769, 'Q91.1': 8770, 'Q91.2': 8771, 'Q91.3': 8772, 'Q91.4': 8773, 'Q91.5': 8774, 'Q91.6': 8775, 'Q91.7': 8776, 'Q92': 8777, 'Q92.0': 8778, 'Q92.1': 8779, 'Q92.2': 8780, 'Q92.3': 8781, 'Q92.4': 8782, 'Q92.5': 8783, 'Q92.6': 8784, 'Q92.7': 8785, 'Q92.8': 8786, 'Q92.9': 8787, 'Q93': 8788, 'Q93.0': 8789, 'Q93.1': 8790, 'Q93.2': 8791, 'Q93.3': 8792, 'Q93.4': 8793, 'Q93.5': 8794, 'Q93.6': 8795, 'Q93.7': 8796, 'Q93.8': 8797, 'Q93.9': 8798, 'Q95': 8799, 'Q95.0': 8800, 'Q95.1': 8801, 'Q95.2': 8802, 'Q95.3': 8803, 'Q95.4': 8804, 'Q95.5': 8805, 'Q95.8': 8806, 'Q95.9': 8807, 'Q96': 8808, 'Q96.0': 8809, 'Q96.1': 8810, 'Q96.2': 8811, 'Q96.3': 8812, 'Q96.4': 8813, 'Q96.8': 8814, 'Q96.9': 8815, 'Q97': 8816, 'Q97.0': 8817, 'Q97.1': 8818, 'Q97.2': 8819, 'Q97.3': 8820, 'Q97.8': 8821, 'Q97.9': 8822, 'Q98': 8823, 'Q98.0': 8824, 'Q98.1': 8825, 'Q98.2': 8826, 'Q98.3': 8827, 'Q98.4': 8828, 'Q98.5': 8829, 'Q98.6': 8830, 'Q98.7': 8831, 'Q98.8': 8832, 'Q98.9': 8833, 'Q99': 8834, 'Q99.0': 8835, 'Q99.1': 8836, 'Q99.2': 8837, 'Q99.8': 8838, 'Q99.9': 8839, 'R00': 8840, 'R00.0': 8841, 'R00.1': 8842, 'R00.2': 8843, 'R00.8': 8844, 'R01': 8845, 'R01.0': 8846, 'R01.1': 8847, 'R01.2': 8848, 'R02': 8849, 'R02.9': 8850, 'R03': 8851, 'R03.0': 8852, 'R03.1': 8853, 'R04': 8854, 'R04.0': 8855, 'R04.1': 8856, 'R04.2': 8857, 'R04.8': 8858, 'R04.9': 8859, 'R05': 8860, 'R05.9': 8861, 'R06': 8862, 'R06.0': 8863, 'R06.1': 8864, 'R06.2': 8865, 'R06.3': 8866, 'R06.4': 8867, 'R06.5': 8868, 'R06.6': 8869, 'R06.7': 8870, 'R06.8': 8871, 'R07': 8872, 'R07.0': 8873, 'R07.1': 8874, 'R07.2': 8875, 'R07.3': 8876, 'R07.4': 8877, 'R09': 8878, 'R09.0': 8879, 'R09.1': 8880, 'R09.2': 8881, 'R09.3': 8882, 'R09.8': 8883, 'R10': 8884, 'R10.0': 8885, 'R10.1': 8886, 'R10.2': 8887, 'R10.3': 8888, 'R10.4': 8889, 'R11': 8890, 'R11.9': 8891, 'R12': 8892, 'R12.9': 8893, 'R13': 8894, 'R13.9': 8895, 'R14': 8896, 'R14.9': 8897, 'R15': 8898, 'R15.9': 8899, 'R16': 8900, 'R16.0': 8901, 'R16.1': 8902, 'R16.2': 8903, 'R17': 8904, 'R17.9': 8905, 'R18': 8906, 'R18.9': 8907, 'R19': 8908, 'R19.0': 8909, 'R19.1': 8910, 'R19.2': 8911, 'R19.3': 8912, 'R19.4': 8913, 'R19.5': 8914, 'R19.6': 8915, 'R19.8': 8916, 'R20': 8917, 'R20.0': 8918, 'R20.1': 8919, 'R20.2': 8920, 'R20.3': 8921, 'R20.8': 8922, 'R21': 8923, 'R21.9': 8924, 'R22': 8925, 'R22.0': 8926, 'R22.1': 8927, 'R22.2': 8928, 'R22.3': 8929, 'R22.4': 8930, 'R22.7': 8931, 'R22.9': 8932, 'R23': 8933, 'R23.0': 8934, 'R23.1': 8935, 'R23.2': 8936, 'R23.3': 8937, 'R23.4': 8938, 'R23.8': 8939, 'R25': 8940, 'R25.0': 8941, 'R25.1': 8942, 'R25.2': 8943, 'R25.3': 8944, 'R25.8': 8945, 'R26': 8946, 'R26.0': 8947, 'R26.1': 8948, 'R26.2': 8949, 'R26.8': 8950, 'R27': 8951, 'R27.0': 8952, 'R27.8': 8953, 'R29': 8954, 'R29.0': 8955, 'R29.1': 8956, 'R29.2': 8957, 'R29.3': 8958, 'R29.4': 8959, 'R29.8': 8960, 'R30': 8961, 'R30.0': 8962, 'R30.1': 8963, 'R30.9': 8964, 'R31': 8965, 'R31.9': 8966, 'R32': 8967, 'R32.9': 8968, 'R33': 8969, 'R33.9': 8970, 'R34': 8971, 'R34.9': 8972, 'R35': 8973, 'R35.9': 8974, 'R36': 8975, 'R36.9': 8976, 'R39': 8977, 'R39.0': 8978, 'R39.1': 8979, 'R39.2': 8980, 'R39.8': 8981, 'R40': 8982, 'R40.0': 8983, 'R40.1': 8984, 'R40.2': 8985, 'R41': 8986, 'R41.0': 8987, 'R41.1': 8988, 'R41.2': 8989, 'R41.3': 8990, 'R41.8': 8991, 'R42': 8992, 'R42.9': 8993, 'R43': 8994, 'R43.0': 8995, 'R43.1': 8996, 'R43.2': 8997, 'R43.8': 8998, 'R44': 8999, 'R44.0': 9000, 'R44.1': 9001, 'R44.2': 9002, 'R44.3': 9003, 'R44.8': 9004, 'R45': 9005, 'R45.0': 9006, 'R45.1': 9007, 'R45.2': 9008, 'R45.3': 9009, 'R45.4': 9010, 'R45.5': 9011, 'R45.6': 9012, 'R45.7': 9013, 'R45.8': 9014, 'R46': 9015, 'R46.0': 9016, 'R46.1': 9017, 'R46.2': 9018, 'R46.3': 9019, 'R46.4': 9020, 'R46.5': 9021, 'R46.6': 9022, 'R46.7': 9023, 'R46.8': 9024, 'R47': 9025, 'R47.0': 9026, 'R47.1': 9027, 'R47.8': 9028, 'R48': 9029, 'R48.0': 9030, 'R48.1': 9031, 'R48.2': 9032, 'R48.8': 9033, 'R49': 9034, 'R49.0': 9035, 'R49.1': 9036, 'R49.2': 9037, 'R49.8': 9038, 'R50': 9039, 'R50.0': 9040, 'R50.1': 9041, 'R50.9': 9042, 'R51': 9043, 'R51.9': 9044, 'R52': 9045, 'R52.0': 9046, 'R52.1': 9047, 'R52.2': 9048, 'R52.9': 9049, 'R53': 9050, 'R53.9': 9051, 'R54': 9052, 'R54.9': 9053, 'R55': 9054, 'R55.9': 9055, 'R56': 9056, 'R56.0': 9057, 'R56.8': 9058, 'R57': 9059, 'R57.0': 9060, 'R57.1': 9061, 'R57.8': 9062, 'R57.9': 9063, 'R58': 9064, 'R58.9': 9065, 'R59': 9066, 'R59.0': 9067, 'R59.1': 9068, 'R59.9': 9069, 'R60': 9070, 'R60.0': 9071, 'R60.1': 9072, 'R60.9': 9073, 'R61': 9074, 'R61.0': 9075, 'R61.1': 9076, 'R61.9': 9077, 'R62': 9078, 'R62.0': 9079, 'R62.8': 9080, 'R62.9': 9081, 'R63': 9082, 'R63.0': 9083, 'R63.1': 9084, 'R63.2': 9085, 'R63.3': 9086, 'R63.4': 9087, 'R63.5': 9088, 'R63.8': 9089, 'R64': 9090, 'R64.9': 9091, 'R68': 9092, 'R68.0': 9093, 'R68.1': 9094, 'R68.2': 9095, 'R68.3': 9096, 'R68.8': 9097, 'R69': 9098, 'R69.9': 9099, 'R70': 9100, 'R70.0': 9101, 'R70.1': 9102, 'R71': 9103, 'R71.9': 9104, 'R72': 9105, 'R72.9': 9106, 'R73': 9107, 'R73.0': 9108, 'R73.9': 9109, 'R74': 9110, 'R74.0': 9111, 'R74.8': 9112, 'R74.9': 9113, 'R75': 9114, 'R75.9': 9115, 'R76': 9116, 'R76.0': 9117, 'R76.1': 9118, 'R76.2': 9119, 'R76.8': 9120, 'R76.9': 9121, 'R77': 9122, 'R77.0': 9123, 'R77.1': 9124, 'R77.2': 9125, 'R77.8': 9126, 'R77.9': 9127, 'R78': 9128, 'R78.0': 9129, 'R78.1': 9130, 'R78.2': 9131, 'R78.3': 9132, 'R78.4': 9133, 'R78.5': 9134, 'R78.6': 9135, 'R78.7': 9136, 'R78.8': 9137, 'R78.9': 9138, 'R79': 9139, 'R79.0': 9140, 'R79.8': 9141, 'R79.9': 9142, 'R80': 9143, 'R80.9': 9144, 'R81': 9145, 'R81.9': 9146, 'R82': 9147, 'R82.0': 9148, 'R82.1': 9149, 'R82.2': 9150, 'R82.3': 9151, 'R82.4': 9152, 'R82.5': 9153, 'R82.6': 9154, 'R82.7': 9155, 'R82.8': 9156, 'R82.9': 9157, 'R83': 9158, 'R83.0': 9159, 'R83.1': 9160, 'R83.2': 9161, 'R83.3': 9162, 'R83.4': 9163, 'R83.5': 9164, 'R83.6': 9165, 'R83.7': 9166, 'R83.8': 9167, 'R83.9': 9168, 'R84': 9169, 'R84.0': 9170, 'R84.1': 9171, 'R84.2': 9172, 'R84.3': 9173, 'R84.4': 9174, 'R84.5': 9175, 'R84.6': 9176, 'R84.7': 9177, 'R84.8': 9178, 'R84.9': 9179, 'R85': 9180, 'R85.0': 9181, 'R85.1': 9182, 'R85.2': 9183, 'R85.3': 9184, 'R85.4': 9185, 'R85.5': 9186, 'R85.6': 9187, 'R85.7': 9188, 'R85.8': 9189, 'R85.9': 9190, 'R86': 9191, 'R86.0': 9192, 'R86.1': 9193, 'R86.2': 9194, 'R86.3': 9195, 'R86.4': 9196, 'R86.5': 9197, 'R86.6': 9198, 'R86.7': 9199, 'R86.8': 9200, 'R86.9': 9201, 'R87': 9202, 'R87.0': 9203, 'R87.1': 9204, 'R87.2': 9205, 'R87.3': 9206, 'R87.4': 9207, 'R87.5': 9208, 'R87.6': 9209, 'R87.7': 9210, 'R87.8': 9211, 'R87.9': 9212, 'R89': 9213, 'R89.0': 9214, 'R89.1': 9215, 'R89.2': 9216, 'R89.3': 9217, 'R89.4': 9218, 'R89.5': 9219, 'R89.6': 9220, 'R89.7': 9221, 'R89.8': 9222, 'R89.9': 9223, 'R90': 9224, 'R90.0': 9225, 'R90.8': 9226, 'R91': 9227, 'R91.9': 9228, 'R92': 9229, 'R92.9': 9230, 'R93': 9231, 'R93.0': 9232, 'R93.1': 9233, 'R93.2': 9234, 'R93.3': 9235, 'R93.4': 9236, 'R93.5': 9237, 'R93.6': 9238, 'R93.7': 9239, 'R93.8': 9240, 'R94': 9241, 'R94.0': 9242, 'R94.1': 9243, 'R94.2': 9244, 'R94.3': 9245, 'R94.4': 9246, 'R94.5': 9247, 'R94.6': 9248, 'R94.7': 9249, 'R94.8': 9250, 'R95': 9251, 'R95.9': 9252, 'R96': 9253, 'R96.0': 9254, 'R96.1': 9255, 'R98': 9256, 'R98.9': 9257, 'R99': 9258, 'R99.9': 9259, 'S00': 9260, 'S00.0': 9261, 'S00.1': 9262, 'S00.2': 9263, 'S00.3': 9264, 'S00.4': 9265, 'S00.5': 9266, 'S00.7': 9267, 'S00.8': 9268, 'S00.9': 9269, 'S01': 9270, 'S01.0': 9271, 'S01.1': 9272, 'S01.2': 9273, 'S01.3': 9274, 'S01.4': 9275, 'S01.5': 9276, 'S01.7': 9277, 'S01.8': 9278, 'S01.9': 9279, 'S02': 9280, 'S02.0': 9281, 'S02.1': 9282, 'S02.2': 9283, 'S02.3': 9284, 'S02.4': 9285, 'S02.5': 9286, 'S02.6': 9287, 'S02.7': 9288, 'S02.8': 9289, 'S02.9': 9290, 'S03': 9291, 'S03.0': 9292, 'S03.1': 9293, 'S03.2': 9294, 'S03.3': 9295, 'S03.4': 9296, 'S03.5': 9297, 'S04': 9298, 'S04.0': 9299, 'S04.1': 9300, 'S04.2': 9301, 'S04.3': 9302, 'S04.4': 9303, 'S04.5': 9304, 'S04.6': 9305, 'S04.7': 9306, 'S04.8': 9307, 'S04.9': 9308, 'S05': 9309, 'S05.0': 9310, 'S05.1': 9311, 'S05.2': 9312, 'S05.3': 9313, 'S05.4': 9314, 'S05.5': 9315, 'S05.6': 9316, 'S05.7': 9317, 'S05.8': 9318, 'S05.9': 9319, 'S06': 9320, 'S06.0': 9321, 'S06.1': 9322, 'S06.2': 9323, 'S06.3': 9324, 'S06.4': 9325, 'S06.5': 9326, 'S06.6': 9327, 'S06.7': 9328, 'S06.8': 9329, 'S06.9': 9330, 'S07': 9331, 'S07.0': 9332, 'S07.1': 9333, 'S07.8': 9334, 'S07.9': 9335, 'S08': 9336, 'S08.0': 9337, 'S08.1': 9338, 'S08.8': 9339, 'S08.9': 9340, 'S09': 9341, 'S09.0': 9342, 'S09.1': 9343, 'S09.2': 9344, 'S09.7': 9345, 'S09.8': 9346, 'S09.9': 9347, 'S10': 9348, 'S10.0': 9349, 'S10.1': 9350, 'S10.7': 9351, 'S10.8': 9352, 'S10.9': 9353, 'S11': 9354, 'S11.0': 9355, 'S11.1': 9356, 'S11.2': 9357, 'S11.7': 9358, 'S11.8': 9359, 'S11.9': 9360, 'S12': 9361, 'S12.0': 9362, 'S12.1': 9363, 'S12.2': 9364, 'S12.7': 9365, 'S12.8': 9366, 'S12.9': 9367, 'S13': 9368, 'S13.0': 9369, 'S13.1': 9370, 'S13.2': 9371, 'S13.3': 9372, 'S13.4': 9373, 'S13.5': 9374, 'S13.6': 9375, 'S14': 9376, 'S14.0': 9377, 'S14.1': 9378, 'S14.2': 9379, 'S14.3': 9380, 'S14.4': 9381, 'S14.5': 9382, 'S14.6': 9383, 'S15': 9384, 'S15.0': 9385, 'S15.1': 9386, 'S15.2': 9387, 'S15.3': 9388, 'S15.7': 9389, 'S15.8': 9390, 'S15.9': 9391, 'S16': 9392, 'S16.9': 9393, 'S17': 9394, 'S17.0': 9395, 'S17.8': 9396, 'S17.9': 9397, 'S18': 9398, 'S18.9': 9399, 'S19': 9400, 'S19.7': 9401, 'S19.8': 9402, 'S19.9': 9403, 'S20': 9404, 'S20.0': 9405, 'S20.1': 9406, 'S20.2': 9407, 'S20.3': 9408, 'S20.4': 9409, 'S20.7': 9410, 'S20.8': 9411, 'S21': 9412, 'S21.0': 9413, 'S21.1': 9414, 'S21.2': 9415, 'S21.7': 9416, 'S21.8': 9417, 'S21.9': 9418, 'S22': 9419, 'S22.0': 9420, 'S22.1': 9421, 'S22.2': 9422, 'S22.3': 9423, 'S22.4': 9424, 'S22.5': 9425, 'S22.8': 9426, 'S22.9': 9427, 'S23': 9428, 'S23.0': 9429, 'S23.1': 9430, 'S23.2': 9431, 'S23.3': 9432, 'S23.4': 9433, 'S23.5': 9434, 'S24': 9435, 'S24.0': 9436, 'S24.1': 9437, 'S24.2': 9438, 'S24.3': 9439, 'S24.4': 9440, 'S24.5': 9441, 'S24.6': 9442, 'S25': 9443, 'S25.0': 9444, 'S25.1': 9445, 'S25.2': 9446, 'S25.3': 9447, 'S25.4': 9448, 'S25.5': 9449, 'S25.7': 9450, 'S25.8': 9451, 'S25.9': 9452, 'S26': 9453, 'S26.0': 9454, 'S26.8': 9455, 'S26.9': 9456, 'S27': 9457, 'S27.0': 9458, 'S27.1': 9459, 'S27.2': 9460, 'S27.3': 9461, 'S27.4': 9462, 'S27.5': 9463, 'S27.6': 9464, 'S27.7': 9465, 'S27.8': 9466, 'S27.9': 9467, 'S28': 9468, 'S28.0': 9469, 'S28.1': 9470, 'S29': 9471, 'S29.0': 9472, 'S29.7': 9473, 'S29.8': 9474, 'S29.9': 9475, 'S30': 9476, 'S30.0': 9477, 'S30.1': 9478, 'S30.2': 9479, 'S30.7': 9480, 'S30.8': 9481, 'S30.9': 9482, 'S31': 9483, 'S31.0': 9484, 'S31.1': 9485, 'S31.2': 9486, 'S31.3': 9487, 'S31.4': 9488, 'S31.5': 9489, 'S31.7': 9490, 'S31.8': 9491, 'S32': 9492, 'S32.0': 9493, 'S32.1': 9494, 'S32.2': 9495, 'S32.3': 9496, 'S32.4': 9497, 'S32.5': 9498, 'S32.7': 9499, 'S32.8': 9500, 'S33': 9501, 'S33.0': 9502, 'S33.1': 9503, 'S33.2': 9504, 'S33.3': 9505, 'S33.4': 9506, 'S33.5': 9507, 'S33.6': 9508, 'S33.7': 9509, 'S34': 9510, 'S34.0': 9511, 'S34.1': 9512, 'S34.2': 9513, 'S34.3': 9514, 'S34.4': 9515, 'S34.5': 9516, 'S34.6': 9517, 'S34.8': 9518, 'S35': 9519, 'S35.0': 9520, 'S35.1': 9521, 'S35.2': 9522, 'S35.3': 9523, 'S35.4': 9524, 'S35.5': 9525, 'S35.7': 9526, 'S35.8': 9527, 'S35.9': 9528, 'S36': 9529, 'S36.0': 9530, 'S36.1': 9531, 'S36.2': 9532, 'S36.3': 9533, 'S36.4': 9534, 'S36.5': 9535, 'S36.6': 9536, 'S36.7': 9537, 'S36.8': 9538, 'S36.9': 9539, 'S37': 9540, 'S37.0': 9541, 'S37.1': 9542, 'S37.2': 9543, 'S37.3': 9544, 'S37.4': 9545, 'S37.5': 9546, 'S37.6': 9547, 'S37.7': 9548, 'S37.8': 9549, 'S37.9': 9550, 'S38': 9551, 'S38.0': 9552, 'S38.1': 9553, 'S38.2': 9554, 'S38.3': 9555, 'S39': 9556, 'S39.0': 9557, 'S39.6': 9558, 'S39.7': 9559, 'S39.8': 9560, 'S39.9': 9561, 'S40': 9562, 'S40.0': 9563, 'S40.7': 9564, 'S40.8': 9565, 'S40.9': 9566, 'S41': 9567, 'S41.0': 9568, 'S41.1': 9569, 'S41.7': 9570, 'S41.8': 9571, 'S42': 9572, 'S42.0': 9573, 'S42.1': 9574, 'S42.2': 9575, 'S42.3': 9576, 'S42.4': 9577, 'S42.7': 9578, 'S42.8': 9579, 'S42.9': 9580, 'S43': 9581, 'S43.0': 9582, 'S43.1': 9583, 'S43.2': 9584, 'S43.3': 9585, 'S43.4': 9586, 'S43.5': 9587, 'S43.6': 9588, 'S43.7': 9589, 'S44': 9590, 'S44.0': 9591, 'S44.1': 9592, 'S44.2': 9593, 'S44.3': 9594, 'S44.4': 9595, 'S44.5': 9596, 'S44.7': 9597, 'S44.8': 9598, 'S44.9': 9599, 'S45': 9600, 'S45.0': 9601, 'S45.1': 9602, 'S45.2': 9603, 'S45.3': 9604, 'S45.7': 9605, 'S45.8': 9606, 'S45.9': 9607, 'S46': 9608, 'S46.0': 9609, 'S46.1': 9610, 'S46.2': 9611, 'S46.3': 9612, 'S46.7': 9613, 'S46.8': 9614, 'S46.9': 9615, 'S47': 9616, 'S47.9': 9617, 'S48': 9618, 'S48.0': 9619, 'S48.1': 9620, 'S48.9': 9621, 'S49': 9622, 'S49.7': 9623, 'S49.8': 9624, 'S49.9': 9625, 'S50': 9626, 'S50.0': 9627, 'S50.1': 9628, 'S50.7': 9629, 'S50.8': 9630, 'S50.9': 9631, 'S51': 9632, 'S51.0': 9633, 'S51.7': 9634, 'S51.8': 9635, 'S51.9': 9636, 'S52': 9637, 'S52.0': 9638, 'S52.1': 9639, 'S52.2': 9640, 'S52.3': 9641, 'S52.4': 9642, 'S52.5': 9643, 'S52.6': 9644, 'S52.7': 9645, 'S52.8': 9646, 'S52.9': 9647, 'S53': 9648, 'S53.0': 9649, 'S53.1': 9650, 'S53.2': 9651, 'S53.3': 9652, 'S53.4': 9653, 'S54': 9654, 'S54.0': 9655, 'S54.1': 9656, 'S54.2': 9657, 'S54.3': 9658, 'S54.7': 9659, 'S54.8': 9660, 'S54.9': 9661, 'S55': 9662, 'S55.0': 9663, 'S55.1': 9664, 'S55.2': 9665, 'S55.7': 9666, 'S55.8': 9667, 'S55.9': 9668, 'S56': 9669, 'S56.0': 9670, 'S56.1': 9671, 'S56.2': 9672, 'S56.3': 9673, 'S56.4': 9674, 'S56.5': 9675, 'S56.7': 9676, 'S56.8': 9677, 'S57': 9678, 'S57.0': 9679, 'S57.8': 9680, 'S57.9': 9681, 'S58': 9682, 'S58.0': 9683, 'S58.1': 9684, 'S58.9': 9685, 'S59': 9686, 'S59.7': 9687, 'S59.8': 9688, 'S59.9': 9689, 'S60': 9690, 'S60.0': 9691, 'S60.1': 9692, 'S60.2': 9693, 'S60.7': 9694, 'S60.8': 9695, 'S60.9': 9696, 'S61': 9697, 'S61.0': 9698, 'S61.1': 9699, 'S61.7': 9700, 'S61.8': 9701, 'S61.9': 9702, 'S62': 9703, 'S62.0': 9704, 'S62.1': 9705, 'S62.2': 9706, 'S62.3': 9707, 'S62.4': 9708, 'S62.5': 9709, 'S62.6': 9710, 'S62.7': 9711, 'S62.8': 9712, 'S63': 9713, 'S63.0': 9714, 'S63.1': 9715, 'S63.2': 9716, 'S63.3': 9717, 'S63.4': 9718, 'S63.5': 9719, 'S63.6': 9720, 'S63.7': 9721, 'S64': 9722, 'S64.0': 9723, 'S64.1': 9724, 'S64.2': 9725, 'S64.3': 9726, 'S64.4': 9727, 'S64.7': 9728, 'S64.8': 9729, 'S64.9': 9730, 'S65': 9731, 'S65.0': 9732, 'S65.1': 9733, 'S65.2': 9734, 'S65.3': 9735, 'S65.4': 9736, 'S65.5': 9737, 'S65.7': 9738, 'S65.8': 9739, 'S65.9': 9740, 'S66': 9741, 'S66.0': 9742, 'S66.1': 9743, 'S66.2': 9744, 'S66.3': 9745, 'S66.4': 9746, 'S66.5': 9747, 'S66.6': 9748, 'S66.7': 9749, 'S66.8': 9750, 'S66.9': 9751, 'S67': 9752, 'S67.0': 9753, 'S67.8': 9754, 'S68': 9755, 'S68.0': 9756, 'S68.1': 9757, 'S68.2': 9758, 'S68.3': 9759, 'S68.4': 9760, 'S68.8': 9761, 'S68.9': 9762, 'S69': 9763, 'S69.7': 9764, 'S69.8': 9765, 'S69.9': 9766, 'S70': 9767, 'S70.0': 9768, 'S70.1': 9769, 'S70.7': 9770, 'S70.8': 9771, 'S70.9': 9772, 'S71': 9773, 'S71.0': 9774, 'S71.1': 9775, 'S71.7': 9776, 'S71.8': 9777, 'S72': 9778, 'S72.0': 9779, 'S72.1': 9780, 'S72.2': 9781, 'S72.3': 9782, 'S72.4': 9783, 'S72.7': 9784, 'S72.8': 9785, 'S72.9': 9786, 'S73': 9787, 'S73.0': 9788, 'S73.1': 9789, 'S74': 9790, 'S74.0': 9791, 'S74.1': 9792, 'S74.2': 9793, 'S74.7': 9794, 'S74.8': 9795, 'S74.9': 9796, 'S75': 9797, 'S75.0': 9798, 'S75.1': 9799, 'S75.2': 9800, 'S75.7': 9801, 'S75.8': 9802, 'S75.9': 9803, 'S76': 9804, 'S76.0': 9805, 'S76.1': 9806, 'S76.2': 9807, 'S76.3': 9808, 'S76.4': 9809, 'S76.7': 9810, 'S77': 9811, 'S77.0': 9812, 'S77.1': 9813, 'S77.2': 9814, 'S78': 9815, 'S78.0': 9816, 'S78.1': 9817, 'S78.9': 9818, 'S79': 9819, 'S79.7': 9820, 'S79.8': 9821, 'S79.9': 9822, 'S80': 9823, 'S80.0': 9824, 'S80.1': 9825, 'S80.7': 9826, 'S80.8': 9827, 'S80.9': 9828, 'S81': 9829, 'S81.0': 9830, 'S81.7': 9831, 'S81.8': 9832, 'S81.9': 9833, 'S82': 9834, 'S82.0': 9835, 'S82.1': 9836, 'S82.2': 9837, 'S82.3': 9838, 'S82.4': 9839, 'S82.5': 9840, 'S82.6': 9841, 'S82.7': 9842, 'S82.8': 9843, 'S82.9': 9844, 'S83': 9845, 'S83.0': 9846, 'S83.1': 9847, 'S83.2': 9848, 'S83.3': 9849, 'S83.4': 9850, 'S83.5': 9851, 'S83.6': 9852, 'S83.7': 9853, 'S84': 9854, 'S84.0': 9855, 'S84.1': 9856, 'S84.2': 9857, 'S84.7': 9858, 'S84.8': 9859, 'S84.9': 9860, 'S85': 9861, 'S85.0': 9862, 'S85.1': 9863, 'S85.2': 9864, 'S85.3': 9865, 'S85.4': 9866, 'S85.5': 9867, 'S85.7': 9868, 'S85.8': 9869, 'S85.9': 9870, 'S86': 9871, 'S86.0': 9872, 'S86.1': 9873, 'S86.2': 9874, 'S86.3': 9875, 'S86.7': 9876, 'S86.8': 9877, 'S86.9': 9878, 'S87': 9879, 'S87.0': 9880, 'S87.8': 9881, 'S88': 9882, 'S88.0': 9883, 'S88.1': 9884, 'S88.9': 9885, 'S89': 9886, 'S89.7': 9887, 'S89.8': 9888, 'S89.9': 9889, 'S90': 9890, 'S90.0': 9891, 'S90.1': 9892, 'S90.2': 9893, 'S90.3': 9894, 'S90.7': 9895, 'S90.8': 9896, 'S90.9': 9897, 'S91': 9898, 'S91.0': 9899, 'S91.1': 9900, 'S91.2': 9901, 'S91.3': 9902, 'S91.7': 9903, 'S92': 9904, 'S92.0': 9905, 'S92.1': 9906, 'S92.2': 9907, 'S92.3': 9908, 'S92.4': 9909, 'S92.5': 9910, 'S92.7': 9911, 'S92.9': 9912, 'S93': 9913, 'S93.0': 9914, 'S93.1': 9915, 'S93.2': 9916, 'S93.3': 9917, 'S93.4': 9918, 'S93.5': 9919, 'S93.6': 9920, 'S94': 9921, 'S94.0': 9922, 'S94.1': 9923, 'S94.2': 9924, 'S94.3': 9925, 'S94.7': 9926, 'S94.8': 9927, 'S94.9': 9928, 'S95': 9929, 'S95.0': 9930, 'S95.1': 9931, 'S95.2': 9932, 'S95.7': 9933, 'S95.8': 9934, 'S95.9': 9935, 'S96': 9936, 'S96.0': 9937, 'S96.1': 9938, 'S96.2': 9939, 'S96.7': 9940, 'S96.8': 9941, 'S96.9': 9942, 'S97': 9943, 'S97.0': 9944, 'S97.1': 9945, 'S97.8': 9946, 'S98': 9947, 'S98.0': 9948, 'S98.1': 9949, 'S98.2': 9950, 'S98.3': 9951, 'S98.4': 9952, 'S99': 9953, 'S99.7': 9954, 'S99.8': 9955, 'S99.9': 9956, 'T00': 9957, 'T00.0': 9958, 'T00.1': 9959, 'T00.2': 9960, 'T00.3': 9961, 'T00.6': 9962, 'T00.8': 9963, 'T00.9': 9964, 'T01': 9965, 'T01.0': 9966, 'T01.1': 9967, 'T01.2': 9968, 'T01.3': 9969, 'T01.6': 9970, 'T01.8': 9971, 'T01.9': 9972, 'T02': 9973, 'T02.0': 9974, 'T02.1': 9975, 'T02.2': 9976, 'T02.3': 9977, 'T02.4': 9978, 'T02.5': 9979, 'T02.6': 9980, 'T02.7': 9981, 'T02.8': 9982, 'T02.9': 9983, 'T03': 9984, 'T03.0': 9985, 'T03.1': 9986, 'T03.2': 9987, 'T03.3': 9988, 'T03.4': 9989, 'T03.8': 9990, 'T03.9': 9991, 'T04': 9992, 'T04.0': 9993, 'T04.1': 9994, 'T04.2': 9995, 'T04.3': 9996, 'T04.4': 9997, 'T04.7': 9998, 'T04.8': 9999, 'T04.9': 10000, 'T05': 10001, 'T05.0': 10002, 'T05.1': 10003, 'T05.2': 10004, 'T05.3': 10005, 'T05.4': 10006, 'T05.5': 10007, 'T05.6': 10008, 'T05.8': 10009, 'T05.9': 10010, 'T06': 10011, 'T06.0': 10012, 'T06.1': 10013, 'T06.2': 10014, 'T06.3': 10015, 'T06.4': 10016, 'T06.5': 10017, 'T06.8': 10018, 'T07': 10019, 'T07.9': 10020, 'T08': 10021, 'T08.9': 10022, 'T09': 10023, 'T09.0': 10024, 'T09.1': 10025, 'T09.2': 10026, 'T09.3': 10027, 'T09.4': 10028, 'T09.5': 10029, 'T09.6': 10030, 'T09.8': 10031, 'T09.9': 10032, 'T10': 10033, 'T10.9': 10034, 'T11': 10035, 'T11.0': 10036, 'T11.1': 10037, 'T11.2': 10038, 'T11.3': 10039, 'T11.4': 10040, 'T11.5': 10041, 'T11.6': 10042, 'T11.8': 10043, 'T11.9': 10044, 'T12': 10045, 'T12.9': 10046, 'T13': 10047, 'T13.0': 10048, 'T13.1': 10049, 'T13.2': 10050, 'T13.3': 10051, 'T13.4': 10052, 'T13.5': 10053, 'T13.6': 10054, 'T13.8': 10055, 'T13.9': 10056, 'T14': 10057, 'T14.0': 10058, 'T14.1': 10059, 'T14.2': 10060, 'T14.3': 10061, 'T14.4': 10062, 'T14.5': 10063, 'T14.6': 10064, 'T14.7': 10065, 'T14.8': 10066, 'T14.9': 10067, 'T15': 10068, 'T15.0': 10069, 'T15.1': 10070, 'T15.8': 10071, 'T15.9': 10072, 'T16': 10073, 'T16.9': 10074, 'T17': 10075, 'T17.0': 10076, 'T17.1': 10077, 'T17.2': 10078, 'T17.3': 10079, 'T17.4': 10080, 'T17.5': 10081, 'T17.8': 10082, 'T17.9': 10083, 'T18': 10084, 'T18.0': 10085, 'T18.1': 10086, 'T18.2': 10087, 'T18.3': 10088, 'T18.4': 10089, 'T18.5': 10090, 'T18.8': 10091, 'T18.9': 10092, 'T19': 10093, 'T19.0': 10094, 'T19.1': 10095, 'T19.2': 10096, 'T19.3': 10097, 'T19.8': 10098, 'T19.9': 10099, 'T20': 10100, 'T20.0': 10101, 'T20.1': 10102, 'T20.2': 10103, 'T20.3': 10104, 'T20.4': 10105, 'T20.5': 10106, 'T20.6': 10107, 'T20.7': 10108, 'T21': 10109, 'T21.0': 10110, 'T21.1': 10111, 'T21.2': 10112, 'T21.3': 10113, 'T21.4': 10114, 'T21.5': 10115, 'T21.6': 10116, 'T21.7': 10117, 'T22': 10118, 'T22.0': 10119, 'T22.1': 10120, 'T22.2': 10121, 'T22.3': 10122, 'T22.4': 10123, 'T22.5': 10124, 'T22.6': 10125, 'T22.7': 10126, 'T23': 10127, 'T23.0': 10128, 'T23.1': 10129, 'T23.2': 10130, 'T23.3': 10131, 'T23.4': 10132, 'T23.5': 10133, 'T23.6': 10134, 'T23.7': 10135, 'T24': 10136, 'T24.0': 10137, 'T24.1': 10138, 'T24.2': 10139, 'T24.3': 10140, 'T24.4': 10141, 'T24.5': 10142, 'T24.6': 10143, 'T24.7': 10144, 'T25': 10145, 'T25.0': 10146, 'T25.1': 10147, 'T25.2': 10148, 'T25.3': 10149, 'T25.4': 10150, 'T25.5': 10151, 'T25.6': 10152, 'T25.7': 10153, 'T26': 10154, 'T26.0': 10155, 'T26.1': 10156, 'T26.2': 10157, 'T26.3': 10158, 'T26.4': 10159, 'T26.5': 10160, 'T26.6': 10161, 'T26.7': 10162, 'T26.8': 10163, 'T26.9': 10164, 'T27': 10165, 'T27.0': 10166, 'T27.1': 10167, 'T27.2': 10168, 'T27.3': 10169, 'T27.4': 10170, 'T27.5': 10171, 'T27.6': 10172, 'T27.7': 10173, 'T28': 10174, 'T28.0': 10175, 'T28.1': 10176, 'T28.2': 10177, 'T28.3': 10178, 'T28.4': 10179, 'T28.5': 10180, 'T28.6': 10181, 'T28.7': 10182, 'T28.8': 10183, 'T28.9': 10184, 'T29': 10185, 'T29.0': 10186, 'T29.1': 10187, 'T29.2': 10188, 'T29.3': 10189, 'T29.4': 10190, 'T29.5': 10191, 'T29.6': 10192, 'T29.7': 10193, 'T30': 10194, 'T30.0': 10195, 'T30.1': 10196, 'T30.2': 10197, 'T30.3': 10198, 'T30.4': 10199, 'T30.5': 10200, 'T30.6': 10201, 'T30.7': 10202, 'T31': 10203, 'T31.0': 10204, 'T31.1': 10205, 'T31.2': 10206, 'T31.3': 10207, 'T31.4': 10208, 'T31.5': 10209, 'T31.6': 10210, 'T31.7': 10211, 'T31.8': 10212, 'T31.9': 10213, 'T32': 10214, 'T32.0': 10215, 'T32.1': 10216, 'T32.2': 10217, 'T32.3': 10218, 'T32.4': 10219, 'T32.5': 10220, 'T32.6': 10221, 'T32.7': 10222, 'T32.8': 10223, 'T32.9': 10224, 'T33': 10225, 'T33.0': 10226, 'T33.1': 10227, 'T33.2': 10228, 'T33.3': 10229, 'T33.4': 10230, 'T33.5': 10231, 'T33.6': 10232, 'T33.7': 10233, 'T33.8': 10234, 'T33.9': 10235, 'T34': 10236, 'T34.0': 10237, 'T34.1': 10238, 'T34.2': 10239, 'T34.3': 10240, 'T34.4': 10241, 'T34.5': 10242, 'T34.6': 10243, 'T34.7': 10244, 'T34.8': 10245, 'T34.9': 10246, 'T35': 10247, 'T35.0': 10248, 'T35.1': 10249, 'T35.2': 10250, 'T35.3': 10251, 'T35.4': 10252, 'T35.5': 10253, 'T35.6': 10254, 'T35.7': 10255, 'T36': 10256, 'T36.0': 10257, 'T36.1': 10258, 'T36.2': 10259, 'T36.3': 10260, 'T36.4': 10261, 'T36.5': 10262, 'T36.6': 10263, 'T36.7': 10264, 'T36.8': 10265, 'T36.9': 10266, 'T37': 10267, 'T37.0': 10268, 'T37.1': 10269, 'T37.2': 10270, 'T37.3': 10271, 'T37.4': 10272, 'T37.5': 10273, 'T37.8': 10274, 'T37.9': 10275, 'T38': 10276, 'T38.0': 10277, 'T38.1': 10278, 'T38.2': 10279, 'T38.3': 10280, 'T38.4': 10281, 'T38.5': 10282, 'T38.6': 10283, 'T38.7': 10284, 'T38.8': 10285, 'T38.9': 10286, 'T39': 10287, 'T39.0': 10288, 'T39.1': 10289, 'T39.2': 10290, 'T39.3': 10291, 'T39.4': 10292, 'T39.8': 10293, 'T39.9': 10294, 'T40': 10295, 'T40.0': 10296, 'T40.1': 10297, 'T40.2': 10298, 'T40.3': 10299, 'T40.4': 10300, 'T40.5': 10301, 'T40.6': 10302, 'T40.7': 10303, 'T40.8': 10304, 'T40.9': 10305, 'T41': 10306, 'T41.0': 10307, 'T41.1': 10308, 'T41.2': 10309, 'T41.3': 10310, 'T41.4': 10311, 'T41.5': 10312, 'T42': 10313, 'T42.0': 10314, 'T42.1': 10315, 'T42.2': 10316, 'T42.3': 10317, 'T42.4': 10318, 'T42.5': 10319, 'T42.6': 10320, 'T42.7': 10321, 'T42.8': 10322, 'T43': 10323, 'T43.0': 10324, 'T43.1': 10325, 'T43.2': 10326, 'T43.3': 10327, 'T43.4': 10328, 'T43.5': 10329, 'T43.6': 10330, 'T43.8': 10331, 'T43.9': 10332, 'T44': 10333, 'T44.0': 10334, 'T44.1': 10335, 'T44.2': 10336, 'T44.3': 10337, 'T44.4': 10338, 'T44.5': 10339, 'T44.6': 10340, 'T44.7': 10341, 'T44.8': 10342, 'T44.9': 10343, 'T45': 10344, 'T45.0': 10345, 'T45.1': 10346, 'T45.2': 10347, 'T45.3': 10348, 'T45.4': 10349, 'T45.5': 10350, 'T45.6': 10351, 'T45.7': 10352, 'T45.8': 10353, 'T45.9': 10354, 'T46': 10355, 'T46.0': 10356, 'T46.1': 10357, 'T46.2': 10358, 'T46.3': 10359, 'T46.4': 10360, 'T46.5': 10361, 'T46.6': 10362, 'T46.7': 10363, 'T46.8': 10364, 'T46.9': 10365, 'T47': 10366, 'T47.0': 10367, 'T47.1': 10368, 'T47.2': 10369, 'T47.3': 10370, 'T47.4': 10371, 'T47.5': 10372, 'T47.6': 10373, 'T47.7': 10374, 'T47.8': 10375, 'T47.9': 10376, 'T48': 10377, 'T48.0': 10378, 'T48.1': 10379, 'T48.2': 10380, 'T48.3': 10381, 'T48.4': 10382, 'T48.5': 10383, 'T48.6': 10384, 'T48.7': 10385, 'T49': 10386, 'T49.0': 10387, 'T49.1': 10388, 'T49.2': 10389, 'T49.3': 10390, 'T49.4': 10391, 'T49.5': 10392, 'T49.6': 10393, 'T49.7': 10394, 'T49.8': 10395, 'T49.9': 10396, 'T50': 10397, 'T50.0': 10398, 'T50.1': 10399, 'T50.2': 10400, 'T50.3': 10401, 'T50.4': 10402, 'T50.5': 10403, 'T50.6': 10404, 'T50.7': 10405, 'T50.8': 10406, 'T50.9': 10407, 'T51': 10408, 'T51.0': 10409, 'T51.1': 10410, 'T51.2': 10411, 'T51.3': 10412, 'T51.8': 10413, 'T51.9': 10414, 'T52': 10415, 'T52.0': 10416, 'T52.1': 10417, 'T52.2': 10418, 'T52.3': 10419, 'T52.4': 10420, 'T52.8': 10421, 'T52.9': 10422, 'T53': 10423, 'T53.0': 10424, 'T53.1': 10425, 'T53.2': 10426, 'T53.3': 10427, 'T53.4': 10428, 'T53.5': 10429, 'T53.6': 10430, 'T53.7': 10431, 'T53.9': 10432, 'T54': 10433, 'T54.0': 10434, 'T54.1': 10435, 'T54.2': 10436, 'T54.3': 10437, 'T54.9': 10438, 'T55': 10439, 'T55.9': 10440, 'T56': 10441, 'T56.0': 10442, 'T56.1': 10443, 'T56.2': 10444, 'T56.3': 10445, 'T56.4': 10446, 'T56.5': 10447, 'T56.6': 10448, 'T56.7': 10449, 'T56.8': 10450, 'T56.9': 10451, 'T57': 10452, 'T57.0': 10453, 'T57.1': 10454, 'T57.2': 10455, 'T57.3': 10456, 'T57.8': 10457, 'T57.9': 10458, 'T58': 10459, 'T58.9': 10460, 'T59': 10461, 'T59.0': 10462, 'T59.1': 10463, 'T59.2': 10464, 'T59.3': 10465, 'T59.4': 10466, 'T59.5': 10467, 'T59.6': 10468, 'T59.7': 10469, 'T59.8': 10470, 'T59.9': 10471, 'T60': 10472, 'T60.0': 10473, 'T60.1': 10474, 'T60.2': 10475, 'T60.3': 10476, 'T60.4': 10477, 'T60.8': 10478, 'T60.9': 10479, 'T61': 10480, 'T61.0': 10481, 'T61.1': 10482, 'T61.2': 10483, 'T61.8': 10484, 'T61.9': 10485, 'T62': 10486, 'T62.0': 10487, 'T62.1': 10488, 'T62.2': 10489, 'T62.8': 10490, 'T62.9': 10491, 'T63': 10492, 'T63.0': 10493, 'T63.1': 10494, 'T63.2': 10495, 'T63.3': 10496, 'T63.4': 10497, 'T63.5': 10498, 'T63.6': 10499, 'T63.8': 10500, 'T63.9': 10501, 'T64': 10502, 'T64.9': 10503, 'T65': 10504, 'T65.0': 10505, 'T65.1': 10506, 'T65.2': 10507, 'T65.3': 10508, 'T65.4': 10509, 'T65.5': 10510, 'T65.6': 10511, 'T65.8': 10512, 'T65.9': 10513, 'T66': 10514, 'T66.9': 10515, 'T67': 10516, 'T67.0': 10517, 'T67.1': 10518, 'T67.2': 10519, 'T67.3': 10520, 'T67.4': 10521, 'T67.5': 10522, 'T67.6': 10523, 'T67.7': 10524, 'T67.8': 10525, 'T67.9': 10526, 'T68': 10527, 'T68.9': 10528, 'T69': 10529, 'T69.0': 10530, 'T69.1': 10531, 'T69.8': 10532, 'T69.9': 10533, 'T70': 10534, 'T70.0': 10535, 'T70.1': 10536, 'T70.2': 10537, 'T70.3': 10538, 'T70.4': 10539, 'T70.8': 10540, 'T70.9': 10541, 'T71': 10542, 'T71.9': 10543, 'T73': 10544, 'T73.0': 10545, 'T73.1': 10546, 'T73.2': 10547, 'T73.3': 10548, 'T73.8': 10549, 'T73.9': 10550, 'T74': 10551, 'T74.0': 10552, 'T74.1': 10553, 'T74.2': 10554, 'T74.3': 10555, 'T74.8': 10556, 'T74.9': 10557, 'T75': 10558, 'T75.0': 10559, 'T75.1': 10560, 'T75.2': 10561, 'T75.3': 10562, 'T75.4': 10563, 'T75.8': 10564, 'T78': 10565, 'T78.0': 10566, 'T78.1': 10567, 'T78.2': 10568, 'T78.3': 10569, 'T78.4': 10570, 'T78.8': 10571, 'T78.9': 10572, 'T79': 10573, 'T79.0': 10574, 'T79.1': 10575, 'T79.2': 10576, 'T79.3': 10577, 'T79.4': 10578, 'T79.5': 10579, 'T79.6': 10580, 'T79.7': 10581, 'T79.8': 10582, 'T79.9': 10583, 'T80': 10584, 'T80.0': 10585, 'T80.1': 10586, 'T80.2': 10587, 'T80.3': 10588, 'T80.4': 10589, 'T80.5': 10590, 'T80.6': 10591, 'T80.8': 10592, 'T80.9': 10593, 'T81': 10594, 'T81.0': 10595, 'T81.1': 10596, 'T81.2': 10597, 'T81.3': 10598, 'T81.4': 10599, 'T81.5': 10600, 'T81.6': 10601, 'T81.7': 10602, 'T81.8': 10603, 'T81.9': 10604, 'T82': 10605, 'T82.0': 10606, 'T82.1': 10607, 'T82.2': 10608, 'T82.3': 10609, 'T82.4': 10610, 'T82.5': 10611, 'T82.6': 10612, 'T82.7': 10613, 'T82.8': 10614, 'T82.9': 10615, 'T83': 10616, 'T83.0': 10617, 'T83.1': 10618, 'T83.2': 10619, 'T83.3': 10620, 'T83.4': 10621, 'T83.5': 10622, 'T83.6': 10623, 'T83.8': 10624, 'T83.9': 10625, 'T84': 10626, 'T84.0': 10627, 'T84.1': 10628, 'T84.2': 10629, 'T84.3': 10630, 'T84.4': 10631, 'T84.5': 10632, 'T84.6': 10633, 'T84.7': 10634, 'T84.8': 10635, 'T84.9': 10636, 'T85': 10637, 'T85.0': 10638, 'T85.1': 10639, 'T85.2': 10640, 'T85.3': 10641, 'T85.4': 10642, 'T85.5': 10643, 'T85.6': 10644, 'T85.7': 10645, 'T85.8': 10646, 'T85.9': 10647, 'T86': 10648, 'T86.0': 10649, 'T86.1': 10650, 'T86.2': 10651, 'T86.3': 10652, 'T86.4': 10653, 'T86.8': 10654, 'T86.9': 10655, 'T87': 10656, 'T87.0': 10657, 'T87.1': 10658, 'T87.2': 10659, 'T87.3': 10660, 'T87.4': 10661, 'T87.5': 10662, 'T87.6': 10663, 'T88': 10664, 'T88.0': 10665, 'T88.1': 10666, 'T88.2': 10667, 'T88.3': 10668, 'T88.4': 10669, 'T88.5': 10670, 'T88.6': 10671, 'T88.7': 10672, 'T88.8': 10673, 'T88.9': 10674, 'T90': 10675, 'T90.0': 10676, 'T90.1': 10677, 'T90.2': 10678, 'T90.3': 10679, 'T90.4': 10680, 'T90.5': 10681, 'T90.8': 10682, 'T90.9': 10683, 'T91': 10684, 'T91.0': 10685, 'T91.1': 10686, 'T91.2': 10687, 'T91.3': 10688, 'T91.4': 10689, 'T91.5': 10690, 'T91.8': 10691, 'T91.9': 10692, 'T92': 10693, 'T92.0': 10694, 'T92.1': 10695, 'T92.2': 10696, 'T92.3': 10697, 'T92.4': 10698, 'T92.5': 10699, 'T92.6': 10700, 'T92.8': 10701, 'T92.9': 10702, 'T93': 10703, 'T93.0': 10704, 'T93.1': 10705, 'T93.2': 10706, 'T93.3': 10707, 'T93.4': 10708, 'T93.5': 10709, 'T93.6': 10710, 'T93.8': 10711, 'T93.9': 10712, 'T94': 10713, 'T94.0': 10714, 'T94.1': 10715, 'T95': 10716, 'T95.0': 10717, 'T95.1': 10718, 'T95.2': 10719, 'T95.3': 10720, 'T95.4': 10721, 'T95.8': 10722, 'T95.9': 10723, 'T96': 10724, 'T96.9': 10725, 'T97': 10726, 'T97.9': 10727, 'T98': 10728, 'T98.0': 10729, 'T98.1': 10730, 'T98.2': 10731, 'T98.3': 10732, 'V01': 10733, 'V01.0': 10734, 'V01.1': 10735, 'V01.9': 10736, 'V02': 10737, 'V02.0': 10738, 'V02.1': 10739, 'V02.9': 10740, 'V03': 10741, 'V03.0': 10742, 'V03.1': 10743, 'V03.9': 10744, 'V04': 10745, 'V04.0': 10746, 'V04.1': 10747, 'V04.9': 10748, 'V05': 10749, 'V05.0': 10750, 'V05.1': 10751, 'V05.9': 10752, 'V06': 10753, 'V06.0': 10754, 'V06.1': 10755, 'V06.9': 10756, 'V09': 10757, 'V09.0': 10758, 'V09.1': 10759, 'V09.2': 10760, 'V09.3': 10761, 'V09.9': 10762, 'V10': 10763, 'V10.0': 10764, 'V10.1': 10765, 'V10.2': 10766, 'V10.3': 10767, 'V10.4': 10768, 'V10.5': 10769, 'V10.9': 10770, 'V11': 10771, 'V11.0': 10772, 'V11.1': 10773, 'V11.2': 10774, 'V11.3': 10775, 'V11.4': 10776, 'V11.5': 10777, 'V11.9': 10778, 'V12': 10779, 'V12.0': 10780, 'V12.1': 10781, 'V12.2': 10782, 'V12.3': 10783, 'V12.4': 10784, 'V12.5': 10785, 'V12.9': 10786, 'V13': 10787, 'V13.0': 10788, 'V13.1': 10789, 'V13.2': 10790, 'V13.3': 10791, 'V13.4': 10792, 'V13.5': 10793, 'V13.9': 10794, 'V14': 10795, 'V14.0': 10796, 'V14.1': 10797, 'V14.2': 10798, 'V14.3': 10799, 'V14.4': 10800, 'V14.5': 10801, 'V14.9': 10802, 'V15': 10803, 'V15.0': 10804, 'V15.1': 10805, 'V15.2': 10806, 'V15.3': 10807, 'V15.4': 10808, 'V15.5': 10809, 'V15.9': 10810, 'V16': 10811, 'V16.0': 10812, 'V16.1': 10813, 'V16.2': 10814, 'V16.3': 10815, 'V16.4': 10816, 'V16.5': 10817, 'V16.9': 10818, 'V17': 10819, 'V17.0': 10820, 'V17.1': 10821, 'V17.2': 10822, 'V17.3': 10823, 'V17.4': 10824, 'V17.5': 10825, 'V17.9': 10826, 'V18': 10827, 'V18.0': 10828, 'V18.1': 10829, 'V18.2': 10830, 'V18.3': 10831, 'V18.4': 10832, 'V18.5': 10833, 'V18.9': 10834, 'V19': 10835, 'V19.0': 10836, 'V19.1': 10837, 'V19.2': 10838, 'V19.3': 10839, 'V19.4': 10840, 'V19.5': 10841, 'V19.6': 10842, 'V19.8': 10843, 'V19.9': 10844, 'V20': 10845, 'V20.0': 10846, 'V20.1': 10847, 'V20.2': 10848, 'V20.3': 10849, 'V20.4': 10850, 'V20.5': 10851, 'V20.9': 10852, 'V21': 10853, 'V21.0': 10854, 'V21.1': 10855, 'V21.2': 10856, 'V21.3': 10857, 'V21.4': 10858, 'V21.5': 10859, 'V21.9': 10860, 'V22': 10861, 'V22.0': 10862, 'V22.1': 10863, 'V22.2': 10864, 'V22.3': 10865, 'V22.4': 10866, 'V22.5': 10867, 'V22.9': 10868, 'V23': 10869, 'V23.0': 10870, 'V23.1': 10871, 'V23.2': 10872, 'V23.3': 10873, 'V23.4': 10874, 'V23.5': 10875, 'V23.9': 10876, 'V24': 10877, 'V24.0': 10878, 'V24.1': 10879, 'V24.2': 10880, 'V24.3': 10881, 'V24.4': 10882, 'V24.5': 10883, 'V24.9': 10884, 'V25': 10885, 'V25.0': 10886, 'V25.1': 10887, 'V25.2': 10888, 'V25.3': 10889, 'V25.4': 10890, 'V25.5': 10891, 'V25.9': 10892, 'V26': 10893, 'V26.0': 10894, 'V26.1': 10895, 'V26.2': 10896, 'V26.3': 10897, 'V26.4': 10898, 'V26.5': 10899, 'V26.9': 10900, 'V27': 10901, 'V27.0': 10902, 'V27.1': 10903, 'V27.2': 10904, 'V27.3': 10905, 'V27.4': 10906, 'V27.5': 10907, 'V27.9': 10908, 'V28': 10909, 'V28.0': 10910, 'V28.1': 10911, 'V28.2': 10912, 'V28.3': 10913, 'V28.4': 10914, 'V28.5': 10915, 'V28.9': 10916, 'V29': 10917, 'V29.0': 10918, 'V29.1': 10919, 'V29.2': 10920, 'V29.3': 10921, 'V29.4': 10922, 'V29.5': 10923, 'V29.6': 10924, 'V29.8': 10925, 'V29.9': 10926, 'V30': 10927, 'V30.0': 10928, 'V30.1': 10929, 'V30.2': 10930, 'V30.3': 10931, 'V30.4': 10932, 'V30.5': 10933, 'V30.6': 10934, 'V30.7': 10935, 'V30.9': 10936, 'V31': 10937, 'V31.0': 10938, 'V31.1': 10939, 'V31.2': 10940, 'V31.3': 10941, 'V31.4': 10942, 'V31.5': 10943, 'V31.6': 10944, 'V31.7': 10945, 'V31.9': 10946, 'V32': 10947, 'V32.0': 10948, 'V32.1': 10949, 'V32.2': 10950, 'V32.3': 10951, 'V32.4': 10952, 'V32.5': 10953, 'V32.6': 10954, 'V32.7': 10955, 'V32.9': 10956, 'V33': 10957, 'V33.0': 10958, 'V33.1': 10959, 'V33.2': 10960, 'V33.3': 10961, 'V33.4': 10962, 'V33.5': 10963, 'V33.6': 10964, 'V33.7': 10965, 'V33.9': 10966, 'V34': 10967, 'V34.0': 10968, 'V34.1': 10969, 'V34.2': 10970, 'V34.3': 10971, 'V34.4': 10972, 'V34.5': 10973, 'V34.6': 10974, 'V34.7': 10975, 'V34.9': 10976, 'V35': 10977, 'V35.0': 10978, 'V35.1': 10979, 'V35.2': 10980, 'V35.3': 10981, 'V35.4': 10982, 'V35.5': 10983, 'V35.6': 10984, 'V35.7': 10985, 'V35.9': 10986, 'V36': 10987, 'V36.0': 10988, 'V36.1': 10989, 'V36.2': 10990, 'V36.3': 10991, 'V36.4': 10992, 'V36.5': 10993, 'V36.6': 10994, 'V36.7': 10995, 'V36.9': 10996, 'V37': 10997, 'V37.0': 10998, 'V37.1': 10999, 'V37.2': 11000, 'V37.3': 11001, 'V37.4': 11002, 'V37.5': 11003, 'V37.6': 11004, 'V37.7': 11005, 'V37.9': 11006, 'V38': 11007, 'V38.0': 11008, 'V38.1': 11009, 'V38.2': 11010, 'V38.3': 11011, 'V38.4': 11012, 'V38.5': 11013, 'V38.6': 11014, 'V38.7': 11015, 'V38.9': 11016, 'V39': 11017, 'V39.0': 11018, 'V39.1': 11019, 'V39.2': 11020, 'V39.3': 11021, 'V39.4': 11022, 'V39.5': 11023, 'V39.6': 11024, 'V39.8': 11025, 'V39.9': 11026, 'V40': 11027, 'V40.0': 11028, 'V40.1': 11029, 'V40.2': 11030, 'V40.3': 11031, 'V40.4': 11032, 'V40.5': 11033, 'V40.6': 11034, 'V40.7': 11035, 'V40.9': 11036, 'V41': 11037, 'V41.0': 11038, 'V41.1': 11039, 'V41.2': 11040, 'V41.3': 11041, 'V41.4': 11042, 'V41.5': 11043, 'V41.6': 11044, 'V41.7': 11045, 'V41.9': 11046, 'V42': 11047, 'V42.0': 11048, 'V42.1': 11049, 'V42.2': 11050, 'V42.3': 11051, 'V42.4': 11052, 'V42.5': 11053, 'V42.6': 11054, 'V42.7': 11055, 'V42.9': 11056, 'V43': 11057, 'V43.0': 11058, 'V43.1': 11059, 'V43.2': 11060, 'V43.3': 11061, 'V43.4': 11062, 'V43.5': 11063, 'V43.6': 11064, 'V43.7': 11065, 'V43.9': 11066, 'V44': 11067, 'V44.0': 11068, 'V44.1': 11069, 'V44.2': 11070, 'V44.3': 11071, 'V44.4': 11072, 'V44.5': 11073, 'V44.6': 11074, 'V44.7': 11075, 'V44.9': 11076, 'V45': 11077, 'V45.0': 11078, 'V45.1': 11079, 'V45.2': 11080, 'V45.3': 11081, 'V45.4': 11082, 'V45.5': 11083, 'V45.6': 11084, 'V45.7': 11085, 'V45.9': 11086, 'V46': 11087, 'V46.0': 11088, 'V46.1': 11089, 'V46.2': 11090, 'V46.3': 11091, 'V46.4': 11092, 'V46.5': 11093, 'V46.6': 11094, 'V46.7': 11095, 'V46.9': 11096, 'V47': 11097, 'V47.0': 11098, 'V47.1': 11099, 'V47.2': 11100, 'V47.3': 11101, 'V47.4': 11102, 'V47.5': 11103, 'V47.6': 11104, 'V47.7': 11105, 'V47.9': 11106, 'V48': 11107, 'V48.0': 11108, 'V48.1': 11109, 'V48.2': 11110, 'V48.3': 11111, 'V48.4': 11112, 'V48.5': 11113, 'V48.6': 11114, 'V48.7': 11115, 'V48.9': 11116, 'V49': 11117, 'V49.0': 11118, 'V49.1': 11119, 'V49.2': 11120, 'V49.3': 11121, 'V49.4': 11122, 'V49.5': 11123, 'V49.6': 11124, 'V49.8': 11125, 'V49.9': 11126, 'V50': 11127, 'V50.0': 11128, 'V50.1': 11129, 'V50.2': 11130, 'V50.3': 11131, 'V50.4': 11132, 'V50.5': 11133, 'V50.6': 11134, 'V50.7': 11135, 'V50.9': 11136, 'V51': 11137, 'V51.0': 11138, 'V51.1': 11139, 'V51.2': 11140, 'V51.3': 11141, 'V51.4': 11142, 'V51.5': 11143, 'V51.6': 11144, 'V51.7': 11145, 'V51.9': 11146, 'V52': 11147, 'V52.0': 11148, 'V52.1': 11149, 'V52.2': 11150, 'V52.3': 11151, 'V52.4': 11152, 'V52.5': 11153, 'V52.6': 11154, 'V52.7': 11155, 'V52.9': 11156, 'V53': 11157, 'V53.0': 11158, 'V53.1': 11159, 'V53.2': 11160, 'V53.3': 11161, 'V53.4': 11162, 'V53.5': 11163, 'V53.6': 11164, 'V53.7': 11165, 'V53.9': 11166, 'V54': 11167, 'V54.0': 11168, 'V54.1': 11169, 'V54.2': 11170, 'V54.3': 11171, 'V54.4': 11172, 'V54.5': 11173, 'V54.6': 11174, 'V54.7': 11175, 'V54.9': 11176, 'V55': 11177, 'V55.0': 11178, 'V55.1': 11179, 'V55.2': 11180, 'V55.3': 11181, 'V55.4': 11182, 'V55.5': 11183, 'V55.6': 11184, 'V55.7': 11185, 'V55.9': 11186, 'V56': 11187, 'V56.0': 11188, 'V56.1': 11189, 'V56.2': 11190, 'V56.3': 11191, 'V56.4': 11192, 'V56.5': 11193, 'V56.6': 11194, 'V56.7': 11195, 'V56.9': 11196, 'V57': 11197, 'V57.0': 11198, 'V57.1': 11199, 'V57.2': 11200, 'V57.3': 11201, 'V57.4': 11202, 'V57.5': 11203, 'V57.6': 11204, 'V57.7': 11205, 'V57.9': 11206, 'V58': 11207, 'V58.0': 11208, 'V58.1': 11209, 'V58.2': 11210, 'V58.3': 11211, 'V58.4': 11212, 'V58.5': 11213, 'V58.6': 11214, 'V58.7': 11215, 'V58.9': 11216, 'V59': 11217, 'V59.0': 11218, 'V59.1': 11219, 'V59.2': 11220, 'V59.3': 11221, 'V59.4': 11222, 'V59.5': 11223, 'V59.6': 11224, 'V59.8': 11225, 'V59.9': 11226, 'V60': 11227, 'V60.0': 11228, 'V60.1': 11229, 'V60.2': 11230, 'V60.3': 11231, 'V60.4': 11232, 'V60.5': 11233, 'V60.6': 11234, 'V60.7': 11235, 'V60.9': 11236, 'V61': 11237, 'V61.0': 11238, 'V61.1': 11239, 'V61.2': 11240, 'V61.3': 11241, 'V61.4': 11242, 'V61.5': 11243, 'V61.6': 11244, 'V61.7': 11245, 'V61.9': 11246, 'V62': 11247, 'V62.0': 11248, 'V62.1': 11249, 'V62.2': 11250, 'V62.3': 11251, 'V62.4': 11252, 'V62.5': 11253, 'V62.6': 11254, 'V62.7': 11255, 'V62.9': 11256, 'V63': 11257, 'V63.0': 11258, 'V63.1': 11259, 'V63.2': 11260, 'V63.3': 11261, 'V63.4': 11262, 'V63.5': 11263, 'V63.6': 11264, 'V63.7': 11265, 'V63.9': 11266, 'V64': 11267, 'V64.0': 11268, 'V64.1': 11269, 'V64.2': 11270, 'V64.3': 11271, 'V64.4': 11272, 'V64.5': 11273, 'V64.6': 11274, 'V64.7': 11275, 'V64.9': 11276, 'V65': 11277, 'V65.0': 11278, 'V65.1': 11279, 'V65.2': 11280, 'V65.3': 11281, 'V65.4': 11282, 'V65.5': 11283, 'V65.6': 11284, 'V65.7': 11285, 'V65.9': 11286, 'V66': 11287, 'V66.0': 11288, 'V66.1': 11289, 'V66.2': 11290, 'V66.3': 11291, 'V66.4': 11292, 'V66.5': 11293, 'V66.6': 11294, 'V66.7': 11295, 'V66.9': 11296, 'V67': 11297, 'V67.0': 11298, 'V67.1': 11299, 'V67.2': 11300, 'V67.3': 11301, 'V67.4': 11302, 'V67.5': 11303, 'V67.6': 11304, 'V67.7': 11305, 'V67.9': 11306, 'V68': 11307, 'V68.0': 11308, 'V68.1': 11309, 'V68.2': 11310, 'V68.3': 11311, 'V68.4': 11312, 'V68.5': 11313, 'V68.6': 11314, 'V68.7': 11315, 'V68.9': 11316, 'V69': 11317, 'V69.0': 11318, 'V69.1': 11319, 'V69.2': 11320, 'V69.3': 11321, 'V69.4': 11322, 'V69.5': 11323, 'V69.6': 11324, 'V69.8': 11325, 'V69.9': 11326, 'V70': 11327, 'V70.0': 11328, 'V70.1': 11329, 'V70.2': 11330, 'V70.3': 11331, 'V70.4': 11332, 'V70.5': 11333, 'V70.6': 11334, 'V70.7': 11335, 'V70.9': 11336, 'V71': 11337, 'V71.0': 11338, 'V71.1': 11339, 'V71.2': 11340, 'V71.3': 11341, 'V71.4': 11342, 'V71.5': 11343, 'V71.6': 11344, 'V71.7': 11345, 'V71.9': 11346, 'V72': 11347, 'V72.0': 11348, 'V72.1': 11349, 'V72.2': 11350, 'V72.3': 11351, 'V72.4': 11352, 'V72.5': 11353, 'V72.6': 11354, 'V72.7': 11355, 'V72.9': 11356, 'V73': 11357, 'V73.0': 11358, 'V73.1': 11359, 'V73.2': 11360, 'V73.3': 11361, 'V73.4': 11362, 'V73.5': 11363, 'V73.6': 11364, 'V73.7': 11365, 'V73.9': 11366, 'V74': 11367, 'V74.0': 11368, 'V74.1': 11369, 'V74.2': 11370, 'V74.3': 11371, 'V74.4': 11372, 'V74.5': 11373, 'V74.6': 11374, 'V74.7': 11375, 'V74.9': 11376, 'V75': 11377, 'V75.0': 11378, 'V75.1': 11379, 'V75.2': 11380, 'V75.3': 11381, 'V75.4': 11382, 'V75.5': 11383, 'V75.6': 11384, 'V75.7': 11385, 'V75.9': 11386, 'V76': 11387, 'V76.0': 11388, 'V76.1': 11389, 'V76.2': 11390, 'V76.3': 11391, 'V76.4': 11392, 'V76.5': 11393, 'V76.6': 11394, 'V76.7': 11395, 'V76.9': 11396, 'V77': 11397, 'V77.0': 11398, 'V77.1': 11399, 'V77.2': 11400, 'V77.3': 11401, 'V77.4': 11402, 'V77.5': 11403, 'V77.6': 11404, 'V77.7': 11405, 'V77.9': 11406, 'V78': 11407, 'V78.0': 11408, 'V78.1': 11409, 'V78.2': 11410, 'V78.3': 11411, 'V78.4': 11412, 'V78.5': 11413, 'V78.6': 11414, 'V78.7': 11415, 'V78.9': 11416, 'V79': 11417, 'V79.0': 11418, 'V79.1': 11419, 'V79.2': 11420, 'V79.3': 11421, 'V79.4': 11422, 'V79.5': 11423, 'V79.6': 11424, 'V79.8': 11425, 'V79.9': 11426, 'V80': 11427, 'V80.0': 11428, 'V80.1': 11429, 'V80.2': 11430, 'V80.3': 11431, 'V80.4': 11432, 'V80.5': 11433, 'V80.6': 11434, 'V80.7': 11435, 'V80.8': 11436, 'V80.9': 11437, 'V81': 11438, 'V81.0': 11439, 'V81.1': 11440, 'V81.2': 11441, 'V81.3': 11442, 'V81.4': 11443, 'V81.5': 11444, 'V81.6': 11445, 'V81.7': 11446, 'V81.8': 11447, 'V81.9': 11448, 'V82': 11449, 'V82.0': 11450, 'V82.1': 11451, 'V82.2': 11452, 'V82.3': 11453, 'V82.4': 11454, 'V82.5': 11455, 'V82.6': 11456, 'V82.7': 11457, 'V82.8': 11458, 'V82.9': 11459, 'V83': 11460, 'V83.0': 11461, 'V83.1': 11462, 'V83.2': 11463, 'V83.3': 11464, 'V83.4': 11465, 'V83.5': 11466, 'V83.6': 11467, 'V83.7': 11468, 'V83.9': 11469, 'V84': 11470, 'V84.0': 11471, 'V84.1': 11472, 'V84.2': 11473, 'V84.3': 11474, 'V84.4': 11475, 'V84.5': 11476, 'V84.6': 11477, 'V84.7': 11478, 'V84.9': 11479, 'V85': 11480, 'V85.0': 11481, 'V85.1': 11482, 'V85.2': 11483, 'V85.3': 11484, 'V85.4': 11485, 'V85.5': 11486, 'V85.6': 11487, 'V85.7': 11488, 'V85.9': 11489, 'V86': 11490, 'V86.0': 11491, 'V86.1': 11492, 'V86.2': 11493, 'V86.3': 11494, 'V86.4': 11495, 'V86.5': 11496, 'V86.6': 11497, 'V86.7': 11498, 'V86.9': 11499, 'V87': 11500, 'V87.0': 11501, 'V87.1': 11502, 'V87.2': 11503, 'V87.3': 11504, 'V87.4': 11505, 'V87.5': 11506, 'V87.6': 11507, 'V87.7': 11508, 'V87.8': 11509, 'V87.9': 11510, 'V88': 11511, 'V88.0': 11512, 'V88.1': 11513, 'V88.2': 11514, 'V88.3': 11515, 'V88.4': 11516, 'V88.5': 11517, 'V88.6': 11518, 'V88.7': 11519, 'V88.8': 11520, 'V88.9': 11521, 'V89': 11522, 'V89.0': 11523, 'V89.1': 11524, 'V89.2': 11525, 'V89.3': 11526, 'V89.9': 11527, 'V90': 11528, 'V90.0': 11529, 'V90.1': 11530, 'V90.2': 11531, 'V90.3': 11532, 'V90.4': 11533, 'V90.5': 11534, 'V90.6': 11535, 'V90.7': 11536, 'V90.8': 11537, 'V90.9': 11538, 'V91': 11539, 'V91.0': 11540, 'V91.1': 11541, 'V91.2': 11542, 'V91.3': 11543, 'V91.4': 11544, 'V91.5': 11545, 'V91.6': 11546, 'V91.7': 11547, 'V91.8': 11548, 'V91.9': 11549, 'V92': 11550, 'V92.0': 11551, 'V92.1': 11552, 'V92.2': 11553, 'V92.3': 11554, 'V92.4': 11555, 'V92.5': 11556, 'V92.6': 11557, 'V92.7': 11558, 'V92.8': 11559, 'V92.9': 11560, 'V93': 11561, 'V93.0': 11562, 'V93.1': 11563, 'V93.2': 11564, 'V93.3': 11565, 'V93.4': 11566, 'V93.5': 11567, 'V93.6': 11568, 'V93.7': 11569, 'V93.8': 11570, 'V93.9': 11571, 'V94': 11572, 'V94.0': 11573, 'V94.1': 11574, 'V94.2': 11575, 'V94.3': 11576, 'V94.4': 11577, 'V94.5': 11578, 'V94.6': 11579, 'V94.7': 11580, 'V94.8': 11581, 'V94.9': 11582, 'V95': 11583, 'V95.0': 11584, 'V95.1': 11585, 'V95.2': 11586, 'V95.3': 11587, 'V95.4': 11588, 'V95.8': 11589, 'V95.9': 11590, 'V96': 11591, 'V96.0': 11592, 'V96.1': 11593, 'V96.2': 11594, 'V96.8': 11595, 'V96.9': 11596, 'V97': 11597, 'V97.0': 11598, 'V97.1': 11599, 'V97.2': 11600, 'V97.3': 11601, 'V97.8': 11602, 'V98': 11603, 'V98.9': 11604, 'V99': 11605, 'V99.9': 11606, 'W00': 11607, 'W00.9': 11608, 'W01': 11609, 'W01.9': 11610, 'W02': 11611, 'W02.9': 11612, 'W03': 11613, 'W03.9': 11614, 'W04': 11615, 'W04.9': 11616, 'W05': 11617, 'W05.9': 11618, 'W06': 11619, 'W06.9': 11620, 'W07': 11621, 'W07.9': 11622, 'W08': 11623, 'W08.9': 11624, 'W09': 11625, 'W09.9': 11626, 'W10': 11627, 'W10.9': 11628, 'W11': 11629, 'W11.9': 11630, 'W12': 11631, 'W12.9': 11632, 'W13': 11633, 'W13.9': 11634, 'W14': 11635, 'W14.9': 11636, 'W15': 11637, 'W15.9': 11638, 'W16': 11639, 'W16.9': 11640, 'W17': 11641, 'W17.9': 11642, 'W18': 11643, 'W18.9': 11644, 'W19': 11645, 'W19.9': 11646, 'W20': 11647, 'W20.9': 11648, 'W21': 11649, 'W21.9': 11650, 'W22': 11651, 'W22.9': 11652, 'W23': 11653, 'W23.9': 11654, 'W24': 11655, 'W24.9': 11656, 'W25': 11657, 'W25.9': 11658, 'W26': 11659, 'W26.9': 11660, 'W27': 11661, 'W27.9': 11662, 'W28': 11663, 'W28.9': 11664, 'W29': 11665, 'W29.9': 11666, 'W30': 11667, 'W30.9': 11668, 'W31': 11669, 'W31.9': 11670, 'W32': 11671, 'W32.9': 11672, 'W33': 11673, 'W33.9': 11674, 'W34': 11675, 'W34.9': 11676, 'W35': 11677, 'W35.9': 11678, 'W36': 11679, 'W36.9': 11680, 'W37': 11681, 'W37.9': 11682, 'W38': 11683, 'W38.9': 11684, 'W39': 11685, 'W39.9': 11686, 'W40': 11687, 'W40.9': 11688, 'W41': 11689, 'W41.9': 11690, 'W42': 11691, 'W42.9': 11692, 'W43': 11693, 'W43.9': 11694, 'W44': 11695, 'W44.9': 11696, 'W45': 11697, 'W45.9': 11698, 'W49': 11699, 'W49.9': 11700, 'W50': 11701, 'W50.9': 11702, 'W51': 11703, 'W51.9': 11704, 'W52': 11705, 'W52.9': 11706, 'W53': 11707, 'W53.9': 11708, 'W54': 11709, 'W54.9': 11710, 'W55': 11711, 'W55.9': 11712, 'W56': 11713, 'W56.9': 11714, 'W57': 11715, 'W57.9': 11716, 'W58': 11717, 'W58.9': 11718, 'W59': 11719, 'W59.9': 11720, 'W60': 11721, 'W60.9': 11722, 'W64': 11723, 'W64.9': 11724, 'W65': 11725, 'W65.9': 11726, 'W66': 11727, 'W66.9': 11728, 'W67': 11729, 'W67.9': 11730, 'W68': 11731, 'W68.9': 11732, 'W69': 11733, 'W69.9': 11734, 'W70': 11735, 'W70.9': 11736, 'W73': 11737, 'W73.9': 11738, 'W74': 11739, 'W74.9': 11740, 'W75': 11741, 'W75.9': 11742, 'W76': 11743, 'W76.9': 11744, 'W77': 11745, 'W77.9': 11746, 'W78': 11747, 'W78.9': 11748, 'W79': 11749, 'W79.9': 11750, 'W80': 11751, 'W80.9': 11752, 'W81': 11753, 'W81.9': 11754, 'W83': 11755, 'W83.9': 11756, 'W84': 11757, 'W84.9': 11758, 'W85': 11759, 'W85.9': 11760, 'W86': 11761, 'W86.9': 11762, 'W87': 11763, 'W87.9': 11764, 'W88': 11765, 'W88.9': 11766, 'W89': 11767, 'W89.9': 11768, 'W90': 11769, 'W90.9': 11770, 'W91': 11771, 'W91.9': 11772, 'W92': 11773, 'W92.9': 11774, 'W93': 11775, 'W93.9': 11776, 'W94': 11777, 'W94.9': 11778, 'W99': 11779, 'W99.9': 11780, 'X00': 11781, 'X00.9': 11782, 'X01': 11783, 'X01.9': 11784, 'X02': 11785, 'X02.9': 11786, 'X03': 11787, 'X03.9': 11788, 'X04': 11789, 'X04.9': 11790, 'X05': 11791, 'X05.9': 11792, 'X06': 11793, 'X06.9': 11794, 'X08': 11795, 'X08.9': 11796, 'X09': 11797, 'X09.9': 11798, 'X10': 11799, 'X10.9': 11800, 'X11': 11801, 'X11.9': 11802, 'X12': 11803, 'X12.9': 11804, 'X13': 11805, 'X13.9': 11806, 'X14': 11807, 'X14.9': 11808, 'X15': 11809, 'X15.9': 11810, 'X16': 11811, 'X16.9': 11812, 'X17': 11813, 'X17.9': 11814, 'X18': 11815, 'X18.9': 11816, 'X19': 11817, 'X19.9': 11818, 'X20': 11819, 'X20.9': 11820, 'X21': 11821, 'X21.9': 11822, 'X22': 11823, 'X22.9': 11824, 'X23': 11825, 'X23.9': 11826, 'X24': 11827, 'X24.9': 11828, 'X25': 11829, 'X25.9': 11830, 'X26': 11831, 'X26.9': 11832, 'X27': 11833, 'X27.9': 11834, 'X28': 11835, 'X28.9': 11836, 'X29': 11837, 'X29.9': 11838, 'X30': 11839, 'X30.9': 11840, 'X31': 11841, 'X31.9': 11842, 'X32': 11843, 'X32.9': 11844, 'X33': 11845, 'X33.9': 11846, 'X34': 11847, 'X34.9': 11848, 'X35': 11849, 'X35.9': 11850, 'X36': 11851, 'X36.9': 11852, 'X37': 11853, 'X37.9': 11854, 'X38': 11855, 'X38.9': 11856, 'X39': 11857, 'X39.9': 11858, 'X40': 11859, 'X40.9': 11860, 'X41': 11861, 'X41.9': 11862, 'X42': 11863, 'X42.9': 11864, 'X43': 11865, 'X43.9': 11866, 'X44': 11867, 'X44.9': 11868, 'X45': 11869, 'X45.9': 11870, 'X46': 11871, 'X46.9': 11872, 'X47': 11873, 'X47.9': 11874, 'X48': 11875, 'X48.9': 11876, 'X49': 11877, 'X49.9': 11878, 'X50': 11879, 'X50.9': 11880, 'X51': 11881, 'X51.9': 11882, 'X52': 11883, 'X52.9': 11884, 'X53': 11885, 'X53.9': 11886, 'X54': 11887, 'X54.9': 11888, 'X57': 11889, 'X57.9': 11890, 'X58': 11891, 'X58.9': 11892, 'X59': 11893, 'X59.9': 11894, 'X60': 11895, 'X60.9': 11896, 'X61': 11897, 'X61.9': 11898, 'X62': 11899, 'X62.9': 11900, 'X63': 11901, 'X63.9': 11902, 'X64': 11903, 'X64.9': 11904, 'X65': 11905, 'X65.9': 11906, 'X66': 11907, 'X66.9': 11908, 'X67': 11909, 'X67.9': 11910, 'X68': 11911, 'X68.9': 11912, 'X69': 11913, 'X69.9': 11914, 'X70': 11915, 'X70.9': 11916, 'X71': 11917, 'X71.9': 11918, 'X72': 11919, 'X72.9': 11920, 'X73': 11921, 'X73.9': 11922, 'X74': 11923, 'X74.9': 11924, 'X75': 11925, 'X75.9': 11926, 'X76': 11927, 'X76.9': 11928, 'X77': 11929, 'X77.9': 11930, 'X78': 11931, 'X78.9': 11932, 'X79': 11933, 'X79.9': 11934, 'X80': 11935, 'X80.9': 11936, 'X81': 11937, 'X81.9': 11938, 'X82': 11939, 'X82.9': 11940, 'X83': 11941, 'X83.9': 11942, 'X84': 11943, 'X84.9': 11944, 'X85': 11945, 'X85.9': 11946, 'X86': 11947, 'X86.9': 11948, 'X87': 11949, 'X87.9': 11950, 'X88': 11951, 'X88.9': 11952, 'X89': 11953, 'X89.9': 11954, 'X90': 11955, 'X90.9': 11956, 'X91': 11957, 'X91.9': 11958, 'X92': 11959, 'X92.9': 11960, 'X93': 11961, 'X93.9': 11962, 'X94': 11963, 'X94.9': 11964, 'X95': 11965, 'X95.9': 11966, 'X96': 11967, 'X96.9': 11968, 'X97': 11969, 'X97.9': 11970, 'X98': 11971, 'X98.9': 11972, 'X99': 11973, 'X99.9': 11974, 'Y00': 11975, 'Y00.9': 11976, 'Y01': 11977, 'Y01.9': 11978, 'Y02': 11979, 'Y02.9': 11980, 'Y03': 11981, 'Y03.9': 11982, 'Y04': 11983, 'Y04.9': 11984, 'Y05': 11985, 'Y05.9': 11986, 'Y06': 11987, 'Y06.0': 11988, 'Y06.1': 11989, 'Y06.2': 11990, 'Y06.8': 11991, 'Y06.9': 11992, 'Y07': 11993, 'Y07.0': 11994, 'Y07.1': 11995, 'Y07.2': 11996, 'Y07.3': 11997, 'Y07.8': 11998, 'Y07.9': 11999, 'Y08': 12000, 'Y08.9': 12001, 'Y09': 12002, 'Y09.9': 12003, 'Y10': 12004, 'Y10.9': 12005, 'Y11': 12006, 'Y11.9': 12007, 'Y12': 12008, 'Y12.9': 12009, 'Y13': 12010, 'Y13.9': 12011, 'Y14': 12012, 'Y14.9': 12013, 'Y15': 12014, 'Y15.9': 12015, 'Y16': 12016, 'Y16.9': 12017, 'Y17': 12018, 'Y17.9': 12019, 'Y18': 12020, 'Y18.9': 12021, 'Y19': 12022, 'Y19.9': 12023, 'Y20': 12024, 'Y20.9': 12025, 'Y21': 12026, 'Y21.9': 12027, 'Y22': 12028, 'Y22.9': 12029, 'Y23': 12030, 'Y23.9': 12031, 'Y24': 12032, 'Y24.9': 12033, 'Y25': 12034, 'Y25.9': 12035, 'Y26': 12036, 'Y26.9': 12037, 'Y27': 12038, 'Y27.9': 12039, 'Y28': 12040, 'Y28.9': 12041, 'Y29': 12042, 'Y29.9': 12043, 'Y30': 12044, 'Y30.9': 12045, 'Y31': 12046, 'Y31.9': 12047, 'Y32': 12048, 'Y32.9': 12049, 'Y33': 12050, 'Y33.9': 12051, 'Y34': 12052, 'Y34.9': 12053, 'Y35': 12054, 'Y35.0': 12055, 'Y35.1': 12056, 'Y35.2': 12057, 'Y35.3': 12058, 'Y35.4': 12059, 'Y35.5': 12060, 'Y35.6': 12061, 'Y35.7': 12062, 'Y36': 12063, 'Y36.0': 12064, 'Y36.1': 12065, 'Y36.2': 12066, 'Y36.3': 12067, 'Y36.4': 12068, 'Y36.5': 12069, 'Y36.6': 12070, 'Y36.7': 12071, 'Y36.8': 12072, 'Y36.9': 12073, 'Y40': 12074, 'Y40.0': 12075, 'Y40.1': 12076, 'Y40.2': 12077, 'Y40.3': 12078, 'Y40.4': 12079, 'Y40.5': 12080, 'Y40.6': 12081, 'Y40.7': 12082, 'Y40.8': 12083, 'Y40.9': 12084, 'Y41': 12085, 'Y41.0': 12086, 'Y41.1': 12087, 'Y41.2': 12088, 'Y41.3': 12089, 'Y41.4': 12090, 'Y41.5': 12091, 'Y41.8': 12092, 'Y41.9': 12093, 'Y42': 12094, 'Y42.0': 12095, 'Y42.1': 12096, 'Y42.2': 12097, 'Y42.3': 12098, 'Y42.4': 12099, 'Y42.5': 12100, 'Y42.6': 12101, 'Y42.7': 12102, 'Y42.8': 12103, 'Y42.9': 12104, 'Y43': 12105, 'Y43.0': 12106, 'Y43.1': 12107, 'Y43.2': 12108, 'Y43.3': 12109, 'Y43.4': 12110, 'Y43.5': 12111, 'Y43.6': 12112, 'Y43.8': 12113, 'Y43.9': 12114, 'Y44': 12115, 'Y44.0': 12116, 'Y44.1': 12117, 'Y44.2': 12118, 'Y44.3': 12119, 'Y44.4': 12120, 'Y44.5': 12121, 'Y44.6': 12122, 'Y44.7': 12123, 'Y44.9': 12124, 'Y45': 12125, 'Y45.0': 12126, 'Y45.1': 12127, 'Y45.2': 12128, 'Y45.3': 12129, 'Y45.4': 12130, 'Y45.5': 12131, 'Y45.8': 12132, 'Y45.9': 12133, 'Y46': 12134, 'Y46.0': 12135, 'Y46.1': 12136, 'Y46.2': 12137, 'Y46.3': 12138, 'Y46.4': 12139, 'Y46.5': 12140, 'Y46.6': 12141, 'Y46.7': 12142, 'Y46.8': 12143, 'Y47': 12144, 'Y47.0': 12145, 'Y47.1': 12146, 'Y47.2': 12147, 'Y47.3': 12148, 'Y47.4': 12149, 'Y47.5': 12150, 'Y47.8': 12151, 'Y47.9': 12152, 'Y48': 12153, 'Y48.0': 12154, 'Y48.1': 12155, 'Y48.2': 12156, 'Y48.3': 12157, 'Y48.4': 12158, 'Y48.5': 12159, 'Y49': 12160, 'Y49.0': 12161, 'Y49.1': 12162, 'Y49.2': 12163, 'Y49.3': 12164, 'Y49.4': 12165, 'Y49.5': 12166, 'Y49.6': 12167, 'Y49.7': 12168, 'Y49.8': 12169, 'Y49.9': 12170, 'Y50': 12171, 'Y50.0': 12172, 'Y50.1': 12173, 'Y50.2': 12174, 'Y50.8': 12175, 'Y50.9': 12176, 'Y51': 12177, 'Y51.0': 12178, 'Y51.1': 12179, 'Y51.2': 12180, 'Y51.3': 12181, 'Y51.4': 12182, 'Y51.5': 12183, 'Y51.6': 12184, 'Y51.7': 12185, 'Y51.8': 12186, 'Y51.9': 12187, 'Y52': 12188, 'Y52.0': 12189, 'Y52.1': 12190, 'Y52.2': 12191, 'Y52.3': 12192, 'Y52.4': 12193, 'Y52.5': 12194, 'Y52.6': 12195, 'Y52.7': 12196, 'Y52.8': 12197, 'Y52.9': 12198, 'Y53': 12199, 'Y53.0': 12200, 'Y53.1': 12201, 'Y53.2': 12202, 'Y53.3': 12203, 'Y53.4': 12204, 'Y53.5': 12205, 'Y53.6': 12206, 'Y53.7': 12207, 'Y53.8': 12208, 'Y53.9': 12209, 'Y54': 12210, 'Y54.0': 12211, 'Y54.1': 12212, 'Y54.2': 12213, 'Y54.3': 12214, 'Y54.4': 12215, 'Y54.5': 12216, 'Y54.6': 12217, 'Y54.7': 12218, 'Y54.8': 12219, 'Y54.9': 12220, 'Y55': 12221, 'Y55.0': 12222, 'Y55.1': 12223, 'Y55.2': 12224, 'Y55.3': 12225, 'Y55.4': 12226, 'Y55.5': 12227, 'Y55.6': 12228, 'Y55.7': 12229, 'Y56': 12230, 'Y56.0': 12231, 'Y56.1': 12232, 'Y56.2': 12233, 'Y56.3': 12234, 'Y56.4': 12235, 'Y56.5': 12236, 'Y56.6': 12237, 'Y56.7': 12238, 'Y56.8': 12239, 'Y56.9': 12240, 'Y57': 12241, 'Y57.0': 12242, 'Y57.1': 12243, 'Y57.2': 12244, 'Y57.3': 12245, 'Y57.4': 12246, 'Y57.5': 12247, 'Y57.6': 12248, 'Y57.7': 12249, 'Y57.8': 12250, 'Y57.9': 12251, 'Y58': 12252, 'Y58.0': 12253, 'Y58.1': 12254, 'Y58.2': 12255, 'Y58.3': 12256, 'Y58.4': 12257, 'Y58.5': 12258, 'Y58.6': 12259, 'Y58.8': 12260, 'Y58.9': 12261, 'Y59': 12262, 'Y59.0': 12263, 'Y59.1': 12264, 'Y59.2': 12265, 'Y59.3': 12266, 'Y59.8': 12267, 'Y59.9': 12268, 'Y60': 12269, 'Y60.0': 12270, 'Y60.1': 12271, 'Y60.2': 12272, 'Y60.3': 12273, 'Y60.4': 12274, 'Y60.5': 12275, 'Y60.6': 12276, 'Y60.7': 12277, 'Y60.8': 12278, 'Y60.9': 12279, 'Y61': 12280, 'Y61.0': 12281, 'Y61.1': 12282, 'Y61.2': 12283, 'Y61.3': 12284, 'Y61.4': 12285, 'Y61.5': 12286, 'Y61.6': 12287, 'Y61.7': 12288, 'Y61.8': 12289, 'Y61.9': 12290, 'Y62': 12291, 'Y62.0': 12292, 'Y62.1': 12293, 'Y62.2': 12294, 'Y62.3': 12295, 'Y62.4': 12296, 'Y62.5': 12297, 'Y62.6': 12298, 'Y62.8': 12299, 'Y62.9': 12300, 'Y63': 12301, 'Y63.0': 12302, 'Y63.1': 12303, 'Y63.2': 12304, 'Y63.3': 12305, 'Y63.4': 12306, 'Y63.5': 12307, 'Y63.6': 12308, 'Y63.8': 12309, 'Y63.9': 12310, 'Y64': 12311, 'Y64.0': 12312, 'Y64.1': 12313, 'Y64.8': 12314, 'Y64.9': 12315, 'Y65': 12316, 'Y65.0': 12317, 'Y65.1': 12318, 'Y65.2': 12319, 'Y65.3': 12320, 'Y65.4': 12321, 'Y65.5': 12322, 'Y65.8': 12323, 'Y66': 12324, 'Y66.9': 12325, 'Y69': 12326, 'Y69.9': 12327, 'Y70': 12328, 'Y70.0': 12329, 'Y70.1': 12330, 'Y70.2': 12331, 'Y70.3': 12332, 'Y70.8': 12333, 'Y71': 12334, 'Y71.0': 12335, 'Y71.1': 12336, 'Y71.2': 12337, 'Y71.3': 12338, 'Y71.8': 12339, 'Y72': 12340, 'Y72.0': 12341, 'Y72.1': 12342, 'Y72.2': 12343, 'Y72.3': 12344, 'Y72.8': 12345, 'Y73': 12346, 'Y73.0': 12347, 'Y73.1': 12348, 'Y73.2': 12349, 'Y73.3': 12350, 'Y73.8': 12351, 'Y74': 12352, 'Y74.0': 12353, 'Y74.1': 12354, 'Y74.2': 12355, 'Y74.3': 12356, 'Y74.8': 12357, 'Y75': 12358, 'Y75.0': 12359, 'Y75.1': 12360, 'Y75.2': 12361, 'Y75.3': 12362, 'Y75.8': 12363, 'Y76': 12364, 'Y76.0': 12365, 'Y76.1': 12366, 'Y76.2': 12367, 'Y76.3': 12368, 'Y76.8': 12369, 'Y77': 12370, 'Y77.0': 12371, 'Y77.1': 12372, 'Y77.2': 12373, 'Y77.3': 12374, 'Y77.8': 12375, 'Y78': 12376, 'Y78.0': 12377, 'Y78.1': 12378, 'Y78.2': 12379, 'Y78.3': 12380, 'Y78.8': 12381, 'Y79': 12382, 'Y79.0': 12383, 'Y79.1': 12384, 'Y79.2': 12385, 'Y79.3': 12386, 'Y79.8': 12387, 'Y80': 12388, 'Y80.0': 12389, 'Y80.1': 12390, 'Y80.2': 12391, 'Y80.3': 12392, 'Y80.8': 12393, 'Y81': 12394, 'Y81.0': 12395, 'Y81.1': 12396, 'Y81.2': 12397, 'Y81.3': 12398, 'Y81.8': 12399, 'Y82': 12400, 'Y82.0': 12401, 'Y82.1': 12402, 'Y82.2': 12403, 'Y82.3': 12404, 'Y82.8': 12405, 'Y83': 12406, 'Y83.0': 12407, 'Y83.1': 12408, 'Y83.2': 12409, 'Y83.3': 12410, 'Y83.4': 12411, 'Y83.5': 12412, 'Y83.6': 12413, 'Y83.8': 12414, 'Y83.9': 12415, 'Y84': 12416, 'Y84.0': 12417, 'Y84.1': 12418, 'Y84.2': 12419, 'Y84.3': 12420, 'Y84.4': 12421, 'Y84.5': 12422, 'Y84.6': 12423, 'Y84.7': 12424, 'Y84.8': 12425, 'Y84.9': 12426, 'Y85': 12427, 'Y85.0': 12428, 'Y85.9': 12429, 'Y86': 12430, 'Y86.9': 12431, 'Y87': 12432, 'Y87.0': 12433, 'Y87.1': 12434, 'Y87.2': 12435, 'Y88': 12436, 'Y88.0': 12437, 'Y88.1': 12438, 'Y88.2': 12439, 'Y88.3': 12440, 'Y89': 12441, 'Y89.0': 12442, 'Y89.1': 12443, 'Y89.9': 12444, 'Y90': 12445, 'Y90.0': 12446, 'Y90.1': 12447, 'Y90.2': 12448, 'Y90.3': 12449, 'Y90.4': 12450, 'Y90.5': 12451, 'Y90.6': 12452, 'Y90.7': 12453, 'Y90.8': 12454, 'Y90.9': 12455, 'Y91': 12456, 'Y91.0': 12457, 'Y91.1': 12458, 'Y91.2': 12459, 'Y91.3': 12460, 'Y91.9': 12461, 'Y95': 12462, 'Y95.9': 12463, 'Y96': 12464, 'Y96.9': 12465, 'Y97': 12466, 'Y97.9': 12467, 'Y98': 12468, 'Y98.9': 12469, 'Z00': 12470, 'Z00.0': 12471, 'Z00.1': 12472, 'Z00.2': 12473, 'Z00.3': 12474, 'Z00.4': 12475, 'Z00.5': 12476, 'Z00.6': 12477, 'Z00.8': 12478, 'Z01': 12479, 'Z01.0': 12480, 'Z01.1': 12481, 'Z01.2': 12482, 'Z01.3': 12483, 'Z01.4': 12484, 'Z01.5': 12485, 'Z01.6': 12486, 'Z01.7': 12487, 'Z01.8': 12488, 'Z01.9': 12489, 'Z02': 12490, 'Z02.0': 12491, 'Z02.1': 12492, 'Z02.2': 12493, 'Z02.3': 12494, 'Z02.4': 12495, 'Z02.5': 12496, 'Z02.6': 12497, 'Z02.7': 12498, 'Z02.8': 12499, 'Z02.9': 12500, 'Z03': 12501, 'Z03.0': 12502, 'Z03.1': 12503, 'Z03.2': 12504, 'Z03.3': 12505, 'Z03.4': 12506, 'Z03.5': 12507, 'Z03.6': 12508, 'Z03.8': 12509, 'Z03.9': 12510, 'Z04': 12511, 'Z04.0': 12512, 'Z04.1': 12513, 'Z04.2': 12514, 'Z04.3': 12515, 'Z04.4': 12516, 'Z04.5': 12517, 'Z04.6': 12518, 'Z04.8': 12519, 'Z04.9': 12520, 'Z08': 12521, 'Z08.0': 12522, 'Z08.1': 12523, 'Z08.2': 12524, 'Z08.7': 12525, 'Z08.8': 12526, 'Z08.9': 12527, 'Z09': 12528, 'Z09.0': 12529, 'Z09.1': 12530, 'Z09.2': 12531, 'Z09.3': 12532, 'Z09.4': 12533, 'Z09.7': 12534, 'Z09.8': 12535, 'Z09.9': 12536, 'Z10': 12537, 'Z10.0': 12538, 'Z10.1': 12539, 'Z10.2': 12540, 'Z10.3': 12541, 'Z10.8': 12542, 'Z11': 12543, 'Z11.0': 12544, 'Z11.1': 12545, 'Z11.2': 12546, 'Z11.3': 12547, 'Z11.4': 12548, 'Z11.5': 12549, 'Z11.6': 12550, 'Z11.8': 12551, 'Z11.9': 12552, 'Z12': 12553, 'Z12.0': 12554, 'Z12.1': 12555, 'Z12.2': 12556, 'Z12.3': 12557, 'Z12.4': 12558, 'Z12.5': 12559, 'Z12.6': 12560, 'Z12.8': 12561, 'Z12.9': 12562, 'Z13': 12563, 'Z13.0': 12564, 'Z13.1': 12565, 'Z13.2': 12566, 'Z13.3': 12567, 'Z13.4': 12568, 'Z13.5': 12569, 'Z13.6': 12570, 'Z13.7': 12571, 'Z13.8': 12572, 'Z13.9': 12573, 'Z20': 12574, 'Z20.0': 12575, 'Z20.1': 12576, 'Z20.2': 12577, 'Z20.3': 12578, 'Z20.4': 12579, 'Z20.5': 12580, 'Z20.6': 12581, 'Z20.7': 12582, 'Z20.8': 12583, 'Z20.9': 12584, 'Z21': 12585, 'Z21.9': 12586, 'Z22': 12587, 'Z22.0': 12588, 'Z22.1': 12589, 'Z22.2': 12590, 'Z22.3': 12591, 'Z22.4': 12592, 'Z22.5': 12593, 'Z22.6': 12594, 'Z22.8': 12595, 'Z22.9': 12596, 'Z23': 12597, 'Z23.0': 12598, 'Z23.1': 12599, 'Z23.2': 12600, 'Z23.3': 12601, 'Z23.4': 12602, 'Z23.5': 12603, 'Z23.6': 12604, 'Z23.7': 12605, 'Z23.8': 12606, 'Z24': 12607, 'Z24.0': 12608, 'Z24.1': 12609, 'Z24.2': 12610, 'Z24.3': 12611, 'Z24.4': 12612, 'Z24.5': 12613, 'Z24.6': 12614, 'Z25': 12615, 'Z25.0': 12616, 'Z25.1': 12617, 'Z25.8': 12618, 'Z26': 12619, 'Z26.0': 12620, 'Z26.8': 12621, 'Z26.9': 12622, 'Z27': 12623, 'Z27.0': 12624, 'Z27.1': 12625, 'Z27.2': 12626, 'Z27.3': 12627, 'Z27.4': 12628, 'Z27.8': 12629, 'Z27.9': 12630, 'Z28': 12631, 'Z28.0': 12632, 'Z28.1': 12633, 'Z28.2': 12634, 'Z28.8': 12635, 'Z28.9': 12636, 'Z29': 12637, 'Z29.0': 12638, 'Z29.1': 12639, 'Z29.2': 12640, 'Z29.8': 12641, 'Z29.9': 12642, 'Z30': 12643, 'Z30.0': 12644, 'Z30.1': 12645, 'Z30.2': 12646, 'Z30.3': 12647, 'Z30.4': 12648, 'Z30.5': 12649, 'Z30.8': 12650, 'Z30.9': 12651, 'Z31': 12652, 'Z31.0': 12653, 'Z31.1': 12654, 'Z31.2': 12655, 'Z31.3': 12656, 'Z31.4': 12657, 'Z31.5': 12658, 'Z31.6': 12659, 'Z31.8': 12660, 'Z31.9': 12661, 'Z32': 12662, 'Z32.0': 12663, 'Z32.1': 12664, 'Z33': 12665, 'Z33.9': 12666, 'Z34': 12667, 'Z34.0': 12668, 'Z34.8': 12669, 'Z34.9': 12670, 'Z35': 12671, 'Z35.0': 12672, 'Z35.1': 12673, 'Z35.2': 12674, 'Z35.3': 12675, 'Z35.4': 12676, 'Z35.5': 12677, 'Z35.6': 12678, 'Z35.7': 12679, 'Z35.8': 12680, 'Z35.9': 12681, 'Z36': 12682, 'Z36.0': 12683, 'Z36.1': 12684, 'Z36.2': 12685, 'Z36.3': 12686, 'Z36.4': 12687, 'Z36.5': 12688, 'Z36.8': 12689, 'Z36.9': 12690, 'Z37': 12691, 'Z37.0': 12692, 'Z37.1': 12693, 'Z37.2': 12694, 'Z37.3': 12695, 'Z37.4': 12696, 'Z37.5': 12697, 'Z37.6': 12698, 'Z37.7': 12699, 'Z37.9': 12700, 'Z38': 12701, 'Z38.0': 12702, 'Z38.1': 12703, 'Z38.2': 12704, 'Z38.3': 12705, 'Z38.4': 12706, 'Z38.5': 12707, 'Z38.6': 12708, 'Z38.7': 12709, 'Z38.8': 12710, 'Z39': 12711, 'Z39.0': 12712, 'Z39.1': 12713, 'Z39.2': 12714, 'Z40': 12715, 'Z40.0': 12716, 'Z40.8': 12717, 'Z40.9': 12718, 'Z41': 12719, 'Z41.0': 12720, 'Z41.1': 12721, 'Z41.2': 12722, 'Z41.3': 12723, 'Z41.8': 12724, 'Z41.9': 12725, 'Z42': 12726, 'Z42.0': 12727, 'Z42.1': 12728, 'Z42.2': 12729, 'Z42.3': 12730, 'Z42.4': 12731, 'Z42.8': 12732, 'Z42.9': 12733, 'Z43': 12734, 'Z43.0': 12735, 'Z43.1': 12736, 'Z43.2': 12737, 'Z43.3': 12738, 'Z43.4': 12739, 'Z43.5': 12740, 'Z43.6': 12741, 'Z43.7': 12742, 'Z43.8': 12743, 'Z43.9': 12744, 'Z44': 12745, 'Z44.0': 12746, 'Z44.1': 12747, 'Z44.2': 12748, 'Z44.3': 12749, 'Z44.8': 12750, 'Z44.9': 12751, 'Z45': 12752, 'Z45.0': 12753, 'Z45.1': 12754, 'Z45.2': 12755, 'Z45.3': 12756, 'Z45.8': 12757, 'Z45.9': 12758, 'Z46': 12759, 'Z46.0': 12760, 'Z46.1': 12761, 'Z46.2': 12762, 'Z46.3': 12763, 'Z46.4': 12764, 'Z46.5': 12765, 'Z46.6': 12766, 'Z46.7': 12767, 'Z46.8': 12768, 'Z46.9': 12769, 'Z47': 12770, 'Z47.0': 12771, 'Z47.8': 12772, 'Z47.9': 12773, 'Z48': 12774, 'Z48.0': 12775, 'Z48.8': 12776, 'Z48.9': 12777, 'Z49': 12778, 'Z49.0': 12779, 'Z49.1': 12780, 'Z49.2': 12781, 'Z50': 12782, 'Z50.0': 12783, 'Z50.1': 12784, 'Z50.2': 12785, 'Z50.3': 12786, 'Z50.4': 12787, 'Z50.5': 12788, 'Z50.6': 12789, 'Z50.7': 12790, 'Z50.8': 12791, 'Z50.9': 12792, 'Z51': 12793, 'Z51.0': 12794, 'Z51.1': 12795, 'Z51.2': 12796, 'Z51.3': 12797, 'Z51.4': 12798, 'Z51.5': 12799, 'Z51.6': 12800, 'Z51.8': 12801, 'Z51.9': 12802, 'Z52': 12803, 'Z52.0': 12804, 'Z52.1': 12805, 'Z52.2': 12806, 'Z52.3': 12807, 'Z52.4': 12808, 'Z52.5': 12809, 'Z52.8': 12810, 'Z52.9': 12811, 'Z53': 12812, 'Z53.0': 12813, 'Z53.1': 12814, 'Z53.2': 12815, 'Z53.8': 12816, 'Z53.9': 12817, 'Z54': 12818, 'Z54.0': 12819, 'Z54.1': 12820, 'Z54.2': 12821, 'Z54.3': 12822, 'Z54.4': 12823, 'Z54.7': 12824, 'Z54.8': 12825, 'Z54.9': 12826, 'Z55': 12827, 'Z55.0': 12828, 'Z55.1': 12829, 'Z55.2': 12830, 'Z55.3': 12831, 'Z55.4': 12832, 'Z55.8': 12833, 'Z55.9': 12834, 'Z56': 12835, 'Z56.0': 12836, 'Z56.1': 12837, 'Z56.2': 12838, 'Z56.3': 12839, 'Z56.4': 12840, 'Z56.5': 12841, 'Z56.6': 12842, 'Z56.7': 12843, 'Z57': 12844, 'Z57.0': 12845, 'Z57.1': 12846, 'Z57.2': 12847, 'Z57.3': 12848, 'Z57.4': 12849, 'Z57.5': 12850, 'Z57.6': 12851, 'Z57.7': 12852, 'Z57.8': 12853, 'Z57.9': 12854, 'Z58': 12855, 'Z58.0': 12856, 'Z58.1': 12857, 'Z58.2': 12858, 'Z58.3': 12859, 'Z58.4': 12860, 'Z58.5': 12861, 'Z58.6': 12862, 'Z58.8': 12863, 'Z58.9': 12864, 'Z59': 12865, 'Z59.0': 12866, 'Z59.1': 12867, 'Z59.2': 12868, 'Z59.3': 12869, 'Z59.4': 12870, 'Z59.5': 12871, 'Z59.6': 12872, 'Z59.7': 12873, 'Z59.8': 12874, 'Z59.9': 12875, 'Z60': 12876, 'Z60.0': 12877, 'Z60.1': 12878, 'Z60.2': 12879, 'Z60.3': 12880, 'Z60.4': 12881, 'Z60.5': 12882, 'Z60.8': 12883, 'Z60.9': 12884, 'Z61': 12885, 'Z61.0': 12886, 'Z61.1': 12887, 'Z61.2': 12888, 'Z61.3': 12889, 'Z61.4': 12890, 'Z61.5': 12891, 'Z61.6': 12892, 'Z61.7': 12893, 'Z61.8': 12894, 'Z61.9': 12895, 'Z62': 12896, 'Z62.0': 12897, 'Z62.1': 12898, 'Z62.2': 12899, 'Z62.3': 12900, 'Z62.4': 12901, 'Z62.5': 12902, 'Z62.6': 12903, 'Z62.8': 12904, 'Z62.9': 12905, 'Z63': 12906, 'Z63.0': 12907, 'Z63.1': 12908, 'Z63.2': 12909, 'Z63.3': 12910, 'Z63.4': 12911, 'Z63.5': 12912, 'Z63.6': 12913, 'Z63.7': 12914, 'Z63.8': 12915, 'Z63.9': 12916, 'Z64': 12917, 'Z64.0': 12918, 'Z64.1': 12919, 'Z64.2': 12920, 'Z64.3': 12921, 'Z64.4': 12922, 'Z65': 12923, 'Z65.0': 12924, 'Z65.1': 12925, 'Z65.2': 12926, 'Z65.3': 12927, 'Z65.4': 12928, 'Z65.5': 12929, 'Z65.8': 12930, 'Z65.9': 12931, 'Z70': 12932, 'Z70.0': 12933, 'Z70.1': 12934, 'Z70.2': 12935, 'Z70.3': 12936, 'Z70.8': 12937, 'Z70.9': 12938, 'Z71': 12939, 'Z71.0': 12940, 'Z71.1': 12941, 'Z71.2': 12942, 'Z71.3': 12943, 'Z71.4': 12944, 'Z71.5': 12945, 'Z71.6': 12946, 'Z71.7': 12947, 'Z71.8': 12948, 'Z71.9': 12949, 'Z72': 12950, 'Z72.0': 12951, 'Z72.1': 12952, 'Z72.2': 12953, 'Z72.3': 12954, 'Z72.4': 12955, 'Z72.5': 12956, 'Z72.6': 12957, 'Z72.8': 12958, 'Z72.9': 12959, 'Z73': 12960, 'Z73.0': 12961, 'Z73.1': 12962, 'Z73.2': 12963, 'Z73.3': 12964, 'Z73.4': 12965, 'Z73.5': 12966, 'Z73.6': 12967, 'Z73.8': 12968, 'Z73.9': 12969, 'Z74': 12970, 'Z74.0': 12971, 'Z74.1': 12972, 'Z74.2': 12973, 'Z74.3': 12974, 'Z74.8': 12975, 'Z74.9': 12976, 'Z75': 12977, 'Z75.0': 12978, 'Z75.1': 12979, 'Z75.2': 12980, 'Z75.3': 12981, 'Z75.4': 12982, 'Z75.5': 12983, 'Z75.8': 12984, 'Z75.9': 12985, 'Z76': 12986, 'Z76.0': 12987, 'Z76.1': 12988, 'Z76.2': 12989, 'Z76.3': 12990, 'Z76.4': 12991, 'Z76.5': 12992, 'Z76.8': 12993, 'Z76.9': 12994, 'Z80': 12995, 'Z80.0': 12996, 'Z80.1': 12997, 'Z80.2': 12998, 'Z80.3': 12999, 'Z80.4': 13000, 'Z80.5': 13001, 'Z80.6': 13002, 'Z80.7': 13003, 'Z80.8': 13004, 'Z80.9': 13005, 'Z81': 13006, 'Z81.0': 13007, 'Z81.1': 13008, 'Z81.2': 13009, 'Z81.3': 13010, 'Z81.4': 13011, 'Z81.8': 13012, 'Z82': 13013, 'Z82.0': 13014, 'Z82.1': 13015, 'Z82.2': 13016, 'Z82.3': 13017, 'Z82.4': 13018, 'Z82.5': 13019, 'Z82.6': 13020, 'Z82.7': 13021, 'Z82.8': 13022, 'Z83': 13023, 'Z83.0': 13024, 'Z83.1': 13025, 'Z83.2': 13026, 'Z83.3': 13027, 'Z83.4': 13028, 'Z83.5': 13029, 'Z83.6': 13030, 'Z83.7': 13031, 'Z84': 13032, 'Z84.0': 13033, 'Z84.1': 13034, 'Z84.2': 13035, 'Z84.3': 13036, 'Z84.8': 13037, 'Z85': 13038, 'Z85.0': 13039, 'Z85.1': 13040, 'Z85.2': 13041, 'Z85.3': 13042, 'Z85.4': 13043, 'Z85.5': 13044, 'Z85.6': 13045, 'Z85.7': 13046, 'Z85.8': 13047, 'Z85.9': 13048, 'Z86': 13049, 'Z86.0': 13050, 'Z86.1': 13051, 'Z86.2': 13052, 'Z86.3': 13053, 'Z86.4': 13054, 'Z86.5': 13055, 'Z86.6': 13056, 'Z86.7': 13057, 'Z87': 13058, 'Z87.0': 13059, 'Z87.1': 13060, 'Z87.2': 13061, 'Z87.3': 13062, 'Z87.4': 13063, 'Z87.5': 13064, 'Z87.6': 13065, 'Z87.7': 13066, 'Z87.8': 13067, 'Z88': 13068, 'Z88.0': 13069, 'Z88.1': 13070, 'Z88.2': 13071, 'Z88.3': 13072, 'Z88.4': 13073, 'Z88.5': 13074, 'Z88.6': 13075, 'Z88.7': 13076, 'Z88.8': 13077, 'Z88.9': 13078, 'Z89': 13079, 'Z89.0': 13080, 'Z89.1': 13081, 'Z89.2': 13082, 'Z89.3': 13083, 'Z89.4': 13084, 'Z89.5': 13085, 'Z89.6': 13086, 'Z89.7': 13087, 'Z89.8': 13088, 'Z89.9': 13089, 'Z90': 13090, 'Z90.0': 13091, 'Z90.1': 13092, 'Z90.2': 13093, 'Z90.3': 13094, 'Z90.4': 13095, 'Z90.5': 13096, 'Z90.6': 13097, 'Z90.7': 13098, 'Z90.8': 13099, 'Z91': 13100, 'Z91.0': 13101, 'Z91.1': 13102, 'Z91.2': 13103, 'Z91.3': 13104, 'Z91.4': 13105, 'Z91.5': 13106, 'Z91.6': 13107, 'Z91.8': 13108, 'Z92': 13109, 'Z92.0': 13110, 'Z92.1': 13111, 'Z92.2': 13112, 'Z92.3': 13113, 'Z92.4': 13114, 'Z92.5': 13115, 'Z92.8': 13116, 'Z92.9': 13117, 'Z93': 13118, 'Z93.0': 13119, 'Z93.1': 13120, 'Z93.2': 13121, 'Z93.3': 13122, 'Z93.4': 13123, 'Z93.5': 13124, 'Z93.6': 13125, 'Z93.8': 13126, 'Z93.9': 13127, 'Z94': 13128, 'Z94.0': 13129, 'Z94.1': 13130, 'Z94.2': 13131, 'Z94.3': 13132, 'Z94.4': 13133, 'Z94.5': 13134, 'Z94.6': 13135, 'Z94.7': 13136, 'Z94.8': 13137, 'Z94.9': 13138, 'Z95': 13139, 'Z95.0': 13140, 'Z95.1': 13141, 'Z95.2': 13142, 'Z95.3': 13143, 'Z95.4': 13144, 'Z95.5': 13145, 'Z95.8': 13146, 'Z95.9': 13147, 'Z96': 13148, 'Z96.0': 13149, 'Z96.1': 13150, 'Z96.2': 13151, 'Z96.3': 13152, 'Z96.4': 13153, 'Z96.5': 13154, 'Z96.6': 13155, 'Z96.7': 13156, 'Z96.8': 13157, 'Z96.9': 13158, 'Z97': 13159, 'Z97.0': 13160, 'Z97.1': 13161, 'Z97.2': 13162, 'Z97.3': 13163, 'Z97.4': 13164, 'Z97.5': 13165, 'Z97.8': 13166, 'Z98': 13167, 'Z98.0': 13168, 'Z98.1': 13169, 'Z98.2': 13170, 'Z98.8': 13171, 'Z99': 13172, 'Z99.0': 13173, 'Z99.1': 13174, 'Z99.2': 13175, 'Z99.3': 13176, 'Z99.8': 13177, 'Z99.9': 13178}\n"
          ]
        }
      ]
    },
    {
      "cell_type": "code",
      "source": [
        "def tokenization_x(arg):\n",
        "    # for i in arg:\n",
        "    #     print(i)\n",
        "    k = tokenizer.texts_to_sequences(arg)\n",
        "    n = tokenizer.sequences_to_matrix(k)\n",
        "    f = sum(n)\n",
        "    return f"
      ],
      "metadata": {
        "id": "Q0p8udb6u-Nh"
      },
      "execution_count": 68,
      "outputs": []
    },
    {
      "cell_type": "markdown",
      "source": [
        "# Формирование выборок"
      ],
      "metadata": {
        "id": "C_VKq00UC1qN"
      }
    },
    {
      "cell_type": "markdown",
      "source": [
        "##  xTrain"
      ],
      "metadata": {
        "id": "t_Oe9AaKh9Y2"
      }
    },
    {
      "cell_type": "code",
      "source": [
        "columns_xtrain = ['КлиентПолПредставление', 'ДиспансернаяГруппаПредставление', 'ВредныеФакторы'] + columns_mkb"
      ],
      "metadata": {
        "id": "nCNgrNLgim0h"
      },
      "execution_count": 32,
      "outputs": []
    },
    {
      "cell_type": "code",
      "source": [
        "print(len(columns_xtrain))\n",
        "print(columns_xtrain[:5])"
      ],
      "metadata": {
        "colab": {
          "base_uri": "https://localhost:8080/"
        },
        "id": "t26j5aRQjDP6",
        "outputId": "8b06c95b-bff8-4ad8-e69e-6bb35916a76e"
      },
      "execution_count": 33,
      "outputs": [
        {
          "output_type": "stream",
          "name": "stdout",
          "text": [
            "94\n",
            "['КлиентПолПредставление', 'ДиспансернаяГруппаПредставление', 'ВредныеФакторы', 'ПсихиатрияНаркология1_МКБ101', 'Офтальмология1_МКБ101']\n"
          ]
        }
      ]
    },
    {
      "cell_type": "code",
      "source": [
        "df['x_raw'] = df[columns_xtrain].astype(str).agg(','. join , axis= 1 ) "
      ],
      "metadata": {
        "id": "T5cQRBNGf0Xb"
      },
      "execution_count": 34,
      "outputs": []
    },
    {
      "cell_type": "code",
      "source": [
        "p = df['x_raw'][5]\n",
        "type(p)\n",
        "print(p)\n",
        "print(len(p))\n",
        "row_length = len(p)"
      ],
      "metadata": {
        "colab": {
          "base_uri": "https://localhost:8080/"
        },
        "id": "yCHU5Uf4f0Sm",
        "outputId": "420a7419-fbaa-4e74-81e9-3b9555dd5a6b"
      },
      "execution_count": 35,
      "outputs": [
        {
          "output_type": "stream",
          "name": "stdout",
          "text": [
            "Мужской,II,11.1,nan,H52.2,Z00.0,nan,nan,Z00.0,nan,nan,Z00.0,Z00.0,Z00.0,H53.0,Z00.0,nan,nan,nan,nan,nan,nan,nan,nan,nan,nan,nan,nan,nan,nan,nan,nan,nan,nan,nan,nan,nan,nan,nan,nan,nan,nan,nan,nan,nan,nan,nan,nan,nan,nan,nan,nan,nan,nan,nan,nan,nan,nan,nan,nan,nan,nan,nan,nan,nan,nan,nan,nan,nan,nan,nan,nan,nan,nan,nan,nan,nan,nan,nan,nan,nan,nan,nan,nan,nan,nan,nan,nan,nan,nan,nan,nan,nan,nan\n",
            "395\n"
          ]
        }
      ]
    },
    {
      "cell_type": "code",
      "source": [
        "d = re.split(r',', p)"
      ],
      "metadata": {
        "id": "MIZEzyum-mZ7"
      },
      "execution_count": 36,
      "outputs": []
    },
    {
      "cell_type": "code",
      "source": [
        "len(d)"
      ],
      "metadata": {
        "colab": {
          "base_uri": "https://localhost:8080/"
        },
        "id": "0nuEyjdI-rNm",
        "outputId": "bf79d64b-d747-4503-8c1a-a570364fb4be"
      },
      "execution_count": 37,
      "outputs": [
        {
          "output_type": "execute_result",
          "data": {
            "text/plain": [
              "94"
            ]
          },
          "metadata": {},
          "execution_count": 37
        }
      ]
    },
    {
      "cell_type": "code",
      "source": [
        "def x_train_cleandata(arg):\n",
        "    splitted = re.split(r',', arg)\n",
        "    # unique = splitted\n",
        "\n",
        "    \n",
        "    unique = []\n",
        "    for i in splitted:\n",
        "        if i not in unique:\n",
        "            unique.append(i)\n",
        "    unique.remove('nan') # убираем из значений nan\n",
        "    # while len(unique) < 30:\n",
        "    #     unique.append('0')\n",
        "    # unique = tuple(unique)\n",
        "    # unique = np.asarray(unique)\n",
        "    # unique = str(unique) # переводим значения в строки\n",
        "    \n",
        "    return unique"
      ],
      "metadata": {
        "id": "YVFTii-MjtdM"
      },
      "execution_count": 38,
      "outputs": []
    },
    {
      "cell_type": "code",
      "source": [
        "df['x_clean'] = df['x_raw'].apply(x_train_cleandata)"
      ],
      "metadata": {
        "id": "pZr9j3o8iejQ"
      },
      "execution_count": 39,
      "outputs": []
    },
    {
      "cell_type": "code",
      "source": [
        "x_whole = df['x_clean']"
      ],
      "metadata": {
        "id": "68maGnNIusY1"
      },
      "execution_count": 40,
      "outputs": []
    },
    {
      "cell_type": "code",
      "source": [
        "arg = x_whole[3]\n",
        "arg"
      ],
      "metadata": {
        "colab": {
          "base_uri": "https://localhost:8080/"
        },
        "id": "m5QzZyIeyPqw",
        "outputId": "8261ebdf-d55f-43c4-fca5-e1053323eac2"
      },
      "execution_count": 72,
      "outputs": [
        {
          "output_type": "execute_result",
          "data": {
            "text/plain": [
              "['Мужской', 'I', '11.1', 'Z00.0']"
            ]
          },
          "metadata": {},
          "execution_count": 72
        }
      ]
    },
    {
      "cell_type": "code",
      "source": [
        "k = tokenizer.texts_to_sequences(arg)\n",
        "n = tokenizer.sequences_to_matrix(k)\n",
        "f = sum(n)"
      ],
      "metadata": {
        "id": "1VTdkEWey4Fe"
      },
      "execution_count": 67,
      "outputs": []
    },
    {
      "cell_type": "code",
      "source": [
        "tokenization_x(x_whole[3])"
      ],
      "metadata": {
        "colab": {
          "base_uri": "https://localhost:8080/"
        },
        "id": "LeFfKBLuyUGR",
        "outputId": "60868a76-d5e4-4281-c7f7-d663e30d8046"
      },
      "execution_count": 71,
      "outputs": [
        {
          "output_type": "execute_result",
          "data": {
            "text/plain": [
              "array([0., 0., 0., ..., 0., 0., 0.])"
            ]
          },
          "metadata": {},
          "execution_count": 71
        }
      ]
    },
    {
      "cell_type": "code",
      "source": [
        "x_train = x_whole.map(tokenization_x)\n",
        "\n",
        "print(type(x_train))\n",
        "print(x_train.dtypes)"
      ],
      "metadata": {
        "colab": {
          "base_uri": "https://localhost:8080/"
        },
        "id": "DW5X549YvYQL",
        "outputId": "dd80f905-9562-45ce-96dd-ca1e5e72f607"
      },
      "execution_count": 73,
      "outputs": [
        {
          "output_type": "stream",
          "name": "stdout",
          "text": [
            "<class 'pandas.core.series.Series'>\n",
            "object\n"
          ]
        }
      ]
    },
    {
      "cell_type": "code",
      "source": [
        "x_train = x_train.apply(lambda x: pd.Series(flatten(x)))\n",
        "x_train_np = x_train.to_numpy()\n",
        "\n",
        "print(type(x_train_np))\n",
        "print(x_train_np)\n",
        "print(x_train_np.shape)"
      ],
      "metadata": {
        "colab": {
          "base_uri": "https://localhost:8080/"
        },
        "id": "-oePfC1avcZx",
        "outputId": "fb0cdc26-ffb9-41fb-e59a-fbdf3cac5e21"
      },
      "execution_count": 74,
      "outputs": [
        {
          "output_type": "stream",
          "name": "stdout",
          "text": [
            "<class 'numpy.ndarray'>\n",
            "[[0. 0. 1. ... 0. 0. 0.]\n",
            " [0. 0. 0. ... 0. 0. 0.]\n",
            " [0. 0. 0. ... 0. 0. 0.]\n",
            " ...\n",
            " [0. 0. 0. ... 0. 0. 0.]\n",
            " [0. 0. 0. ... 0. 0. 0.]\n",
            " [0. 0. 0. ... 0. 0. 0.]]\n",
            "(1571, 13178)\n"
          ]
        }
      ]
    },
    {
      "cell_type": "markdown",
      "source": [
        "## yTrain"
      ],
      "metadata": {
        "id": "rq7Alql2huBi"
      }
    },
    {
      "cell_type": "code",
      "source": [
        "columns[:6]"
      ],
      "metadata": {
        "colab": {
          "base_uri": "https://localhost:8080/"
        },
        "id": "j5wprRsfmlGI",
        "outputId": "d9e94574-b64c-485f-b47b-b79b458f5de2"
      },
      "execution_count": 75,
      "outputs": [
        {
          "output_type": "execute_result",
          "data": {
            "text/plain": [
              "Index(['КлиентПолПредставление', 'Возраст', 'ДиспансернаяГруппаПредставление',\n",
              "       'Профессия', 'ВредныеФакторы', 'ЗаключениеМК'],\n",
              "      dtype='object')"
            ]
          },
          "metadata": {},
          "execution_count": 75
        }
      ]
    },
    {
      "cell_type": "code",
      "source": [
        "df['ЗаключениеМК'].unique()"
      ],
      "metadata": {
        "colab": {
          "base_uri": "https://localhost:8080/"
        },
        "id": "9X1xm3PciGpv",
        "outputId": "f4a23bdf-95d2-460c-cfde-d0ac6cb47348"
      },
      "execution_count": 76,
      "outputs": [
        {
          "output_type": "execute_result",
          "data": {
            "text/plain": [
              "array(['Годен', 'ГоденСКоррекциейЗрения', 'ГоденБезРаботНаВысотах',\n",
              "       'НуждаетсяВДообследованииИЛечении', 'ВременноНегоден',\n",
              "       'ОграниченноГоден'], dtype=object)"
            ]
          },
          "metadata": {},
          "execution_count": 76
        }
      ]
    },
    {
      "cell_type": "code",
      "source": [
        "df['ЗаключениеМК'].value_counts()"
      ],
      "metadata": {
        "colab": {
          "base_uri": "https://localhost:8080/"
        },
        "id": "aJkoV0VpoNkM",
        "outputId": "8c0709e7-ddf0-419c-d67f-f2897eadad8e"
      },
      "execution_count": 77,
      "outputs": [
        {
          "output_type": "execute_result",
          "data": {
            "text/plain": [
              "Годен                               1434\n",
              "ГоденСКоррекциейЗрения               123\n",
              "ВременноНегоден                        9\n",
              "НуждаетсяВДообследованииИЛечении       2\n",
              "ОграниченноГоден                       2\n",
              "ГоденБезРаботНаВысотах                 1\n",
              "Name: ЗаключениеМК, dtype: int64"
            ]
          },
          "metadata": {},
          "execution_count": 77
        }
      ]
    },
    {
      "cell_type": "code",
      "source": [
        "limited_eff = ['ГоденСКоррекциейЗрения', 'ГоденБезРаботНаВысотах', 'ОграниченноГоден']"
      ],
      "metadata": {
        "id": "avC_xSyDokhh"
      },
      "execution_count": 78,
      "outputs": []
    },
    {
      "cell_type": "code",
      "source": [
        "def y_train(arg):\n",
        "    \n",
        "    limited_eff = ['ГоденСКоррекциейЗрения', 'ГоденБезРаботНаВысотах', 'ОграниченноГоден']\n",
        "    \n",
        "    if arg == 'Годен': y = 0\n",
        "    \n",
        "    elif arg in limited_eff: y = 1\n",
        "    # elif arg == 'ГоденБезРаботНаВысотах': y = 1\n",
        "    # elif arg == 'ОграниченноГоден': y = 1\n",
        "\n",
        "    else: y = 2\n",
        "\n",
        "    return utils.to_categorical(y, num_classes=3)"
      ],
      "metadata": {
        "id": "8NBtQyQenUMZ"
      },
      "execution_count": 79,
      "outputs": []
    },
    {
      "cell_type": "code",
      "source": [
        "df['y_train'] = df['ЗаключениеМК'].apply(y_train)"
      ],
      "metadata": {
        "id": "pRcQa13_pNCZ"
      },
      "execution_count": 80,
      "outputs": []
    },
    {
      "cell_type": "code",
      "source": [
        "print(df['y_train'][:5], '\\n')\n",
        "# print('Количество значений в каждой группе:')\n",
        "# print(df['y_train'].value_counts())"
      ],
      "metadata": {
        "colab": {
          "base_uri": "https://localhost:8080/"
        },
        "id": "ARdWvfVrpb_q",
        "outputId": "677a70ae-8675-43ce-d2ec-20ada8f5536a"
      },
      "execution_count": 81,
      "outputs": [
        {
          "output_type": "stream",
          "name": "stdout",
          "text": [
            "0    [1.0, 0.0, 0.0]\n",
            "1    [1.0, 0.0, 0.0]\n",
            "2    [0.0, 1.0, 0.0]\n",
            "3    [1.0, 0.0, 0.0]\n",
            "4    [0.0, 1.0, 0.0]\n",
            "Name: y_train, dtype: object \n",
            "\n"
          ]
        }
      ]
    },
    {
      "cell_type": "code",
      "source": [
        "y_whole = df['y_train']"
      ],
      "metadata": {
        "id": "p8i9MYbewYj9"
      },
      "execution_count": 82,
      "outputs": []
    },
    {
      "cell_type": "code",
      "source": [
        "y_train = y_whole.apply(lambda x: pd.Series(flatten(x)))\n",
        "y_train_np = y_train.to_numpy()\n",
        "\n",
        "print(type(y_train_np))\n",
        "print(y_train_np)\n",
        "print(y_train_np.shape)"
      ],
      "metadata": {
        "colab": {
          "base_uri": "https://localhost:8080/"
        },
        "id": "H8eRmZhcvREX",
        "outputId": "fbab18dc-b374-4c23-bc3a-f00d63f7637d"
      },
      "execution_count": 84,
      "outputs": [
        {
          "output_type": "stream",
          "name": "stdout",
          "text": [
            "<class 'numpy.ndarray'>\n",
            "[[1. 0. 0.]\n",
            " [1. 0. 0.]\n",
            " [0. 1. 0.]\n",
            " ...\n",
            " [1. 0. 0.]\n",
            " [1. 0. 0.]\n",
            " [1. 0. 0.]]\n",
            "(1571, 3)\n"
          ]
        }
      ]
    },
    {
      "cell_type": "markdown",
      "source": [
        "## Обучающая и тестовая выборка"
      ],
      "metadata": {
        "id": "isSf4_pGZKDw"
      }
    },
    {
      "cell_type": "code",
      "source": [
        "# x_whole, y_whole = df['x_clean'], df['y_train']\n",
        "\n",
        "x_train_dataset, x_test_dataset, y_train_dataset, y_test_dataset = train_test_split(\n",
        "                                                                                    x_train_np, y_train_np,\n",
        "                                                                                    train_size=0.8,\n",
        "                                                                                    test_size=0.2,\n",
        "                                                                                    random_state=42,\n",
        "                                                                                    shuffle = False,      # перемешиваем выборку (нет)\n",
        "                                                                                    stratify=None    # равномерно распределяем по категорииям (нет)\n",
        "    )\n",
        "\n",
        "print(x_whole[0], y_whole[0])\n",
        "print()\n",
        "print('x_whole.shape', x_whole.shape)\n",
        "print('y_whole.shape', y_whole.shape)\n",
        "print()\n",
        "print('x_train.shape', x_train_dataset.shape, type(x_train_dataset[0]),type(x_train_dataset))\n",
        "print('y_train.shape', y_train_dataset.shape, type(y_train_dataset[0]),type(y_train_dataset))\n",
        "print()\n",
        "print('x_test.shape:', x_test_dataset.shape)\n",
        "print('y_test.shape:', y_test_dataset.shape)"
      ],
      "metadata": {
        "id": "Jx196XgxZMl8",
        "colab": {
          "base_uri": "https://localhost:8080/"
        },
        "outputId": "36517a58-1293-4ca6-80ac-d8f7d9f8aba0"
      },
      "execution_count": 85,
      "outputs": [
        {
          "output_type": "stream",
          "name": "stdout",
          "text": [
            "['Женский', 'I', '11.4', 'Z00.0'] [1. 0. 0.]\n",
            "\n",
            "x_whole.shape (1571,)\n",
            "y_whole.shape (1571,)\n",
            "\n",
            "x_train.shape (1256, 13178) <class 'numpy.ndarray'> <class 'numpy.ndarray'>\n",
            "y_train.shape (1256, 3) <class 'numpy.ndarray'> <class 'numpy.ndarray'>\n",
            "\n",
            "x_test.shape: (315, 13178)\n",
            "y_test.shape: (315, 3)\n"
          ]
        }
      ]
    },
    {
      "cell_type": "markdown",
      "source": [
        "## Нейросеть (1)"
      ],
      "metadata": {
        "id": "eTWugn5At3nW"
      }
    },
    {
      "cell_type": "code",
      "source": [
        "model_1 = Sequential()\n",
        "model_1.add(Dense(32, activation = 'relu', input_shape=(13178,)))\n",
        "model_1.add(Dense(32, activation = 'relu'))\n",
        "model_1.add(Dense(3, activation = 'softmax'))\n",
        "\n",
        "model_1.summary()\n"
      ],
      "metadata": {
        "colab": {
          "base_uri": "https://localhost:8080/"
        },
        "id": "OqL_ql5huzAb",
        "outputId": "5a1ebb87-cfe3-4f56-9ec6-bb12e631ba56"
      },
      "execution_count": 91,
      "outputs": [
        {
          "output_type": "stream",
          "name": "stdout",
          "text": [
            "Model: \"sequential_1\"\n",
            "_________________________________________________________________\n",
            " Layer (type)                Output Shape              Param #   \n",
            "=================================================================\n",
            " dense_3 (Dense)             (None, 32)                421728    \n",
            "                                                                 \n",
            " dense_4 (Dense)             (None, 32)                1056      \n",
            "                                                                 \n",
            " dense_5 (Dense)             (None, 3)                 99        \n",
            "                                                                 \n",
            "=================================================================\n",
            "Total params: 422,883\n",
            "Trainable params: 422,883\n",
            "Non-trainable params: 0\n",
            "_________________________________________________________________\n"
          ]
        }
      ]
    },
    {
      "cell_type": "markdown",
      "source": [
        "### metrics=['accuracy']"
      ],
      "metadata": {
        "id": "mWJysaai1o3z"
      }
    },
    {
      "cell_type": "code",
      "source": [
        "model_1.compile(optimizer='adam', \n",
        "                loss='categorical_crossentropy', \n",
        "                metrics=['accuracy'])"
      ],
      "metadata": {
        "id": "k75lxyEwvfD0"
      },
      "execution_count": 94,
      "outputs": []
    },
    {
      "cell_type": "code",
      "source": [
        "history = model_1.fit(x_train_dataset, y_train_dataset, batch_size=32, epochs=30, validation_data=(x_test_dataset, y_test_dataset))"
      ],
      "metadata": {
        "colab": {
          "base_uri": "https://localhost:8080/"
        },
        "id": "OWtGqnqAve5o",
        "outputId": "fbf3e136-670c-4593-daa1-31ae6b9e991a"
      },
      "execution_count": 95,
      "outputs": [
        {
          "output_type": "stream",
          "name": "stdout",
          "text": [
            "Epoch 1/30\n",
            "40/40 [==============================] - 1s 14ms/step - loss: 0.8036 - accuracy: 0.9005 - val_loss: 0.3794 - val_accuracy: 0.9365\n",
            "Epoch 2/30\n",
            "40/40 [==============================] - 0s 10ms/step - loss: 0.3597 - accuracy: 0.9068 - val_loss: 0.2658 - val_accuracy: 0.9365\n",
            "Epoch 3/30\n",
            "40/40 [==============================] - 0s 10ms/step - loss: 0.2918 - accuracy: 0.9068 - val_loss: 0.2404 - val_accuracy: 0.9365\n",
            "Epoch 4/30\n",
            "40/40 [==============================] - 0s 9ms/step - loss: 0.2533 - accuracy: 0.9068 - val_loss: 0.2256 - val_accuracy: 0.9365\n",
            "Epoch 5/30\n",
            "40/40 [==============================] - 0s 8ms/step - loss: 0.2311 - accuracy: 0.9068 - val_loss: 0.2181 - val_accuracy: 0.9365\n",
            "Epoch 6/30\n",
            "40/40 [==============================] - 0s 10ms/step - loss: 0.2146 - accuracy: 0.9061 - val_loss: 0.2166 - val_accuracy: 0.9365\n",
            "Epoch 7/30\n",
            "40/40 [==============================] - 0s 9ms/step - loss: 0.2079 - accuracy: 0.9132 - val_loss: 0.2146 - val_accuracy: 0.9333\n",
            "Epoch 8/30\n",
            "40/40 [==============================] - 0s 9ms/step - loss: 0.1972 - accuracy: 0.9140 - val_loss: 0.2150 - val_accuracy: 0.9238\n",
            "Epoch 9/30\n",
            "40/40 [==============================] - 0s 9ms/step - loss: 0.1913 - accuracy: 0.9220 - val_loss: 0.2145 - val_accuracy: 0.9270\n",
            "Epoch 10/30\n",
            "40/40 [==============================] - 0s 10ms/step - loss: 0.1846 - accuracy: 0.9180 - val_loss: 0.2132 - val_accuracy: 0.9270\n",
            "Epoch 11/30\n",
            "40/40 [==============================] - 0s 9ms/step - loss: 0.1831 - accuracy: 0.9180 - val_loss: 0.2132 - val_accuracy: 0.9270\n",
            "Epoch 12/30\n",
            "40/40 [==============================] - 0s 9ms/step - loss: 0.1783 - accuracy: 0.9220 - val_loss: 0.2153 - val_accuracy: 0.9270\n",
            "Epoch 13/30\n",
            "40/40 [==============================] - 0s 9ms/step - loss: 0.1729 - accuracy: 0.9220 - val_loss: 0.2142 - val_accuracy: 0.9270\n",
            "Epoch 14/30\n",
            "40/40 [==============================] - 0s 10ms/step - loss: 0.1710 - accuracy: 0.9212 - val_loss: 0.2151 - val_accuracy: 0.9270\n",
            "Epoch 15/30\n",
            "40/40 [==============================] - 0s 9ms/step - loss: 0.1678 - accuracy: 0.9291 - val_loss: 0.2188 - val_accuracy: 0.9270\n",
            "Epoch 16/30\n",
            "40/40 [==============================] - 0s 11ms/step - loss: 0.1648 - accuracy: 0.9291 - val_loss: 0.2138 - val_accuracy: 0.9270\n",
            "Epoch 17/30\n",
            "40/40 [==============================] - 1s 14ms/step - loss: 0.1607 - accuracy: 0.9268 - val_loss: 0.2144 - val_accuracy: 0.9206\n",
            "Epoch 18/30\n",
            "40/40 [==============================] - 1s 13ms/step - loss: 0.1578 - accuracy: 0.9268 - val_loss: 0.2167 - val_accuracy: 0.9206\n",
            "Epoch 19/30\n",
            "40/40 [==============================] - 1s 13ms/step - loss: 0.1553 - accuracy: 0.9339 - val_loss: 0.2163 - val_accuracy: 0.9206\n",
            "Epoch 20/30\n",
            "40/40 [==============================] - 1s 14ms/step - loss: 0.1506 - accuracy: 0.9347 - val_loss: 0.2233 - val_accuracy: 0.9270\n",
            "Epoch 21/30\n",
            "40/40 [==============================] - 1s 13ms/step - loss: 0.1494 - accuracy: 0.9387 - val_loss: 0.2230 - val_accuracy: 0.9238\n",
            "Epoch 22/30\n",
            "40/40 [==============================] - 1s 29ms/step - loss: 0.1487 - accuracy: 0.9403 - val_loss: 0.2228 - val_accuracy: 0.9206\n",
            "Epoch 23/30\n",
            "40/40 [==============================] - 1s 16ms/step - loss: 0.1431 - accuracy: 0.9403 - val_loss: 0.2185 - val_accuracy: 0.9206\n",
            "Epoch 24/30\n",
            "40/40 [==============================] - 0s 10ms/step - loss: 0.1408 - accuracy: 0.9411 - val_loss: 0.2251 - val_accuracy: 0.9302\n",
            "Epoch 25/30\n",
            "40/40 [==============================] - 0s 10ms/step - loss: 0.1384 - accuracy: 0.9451 - val_loss: 0.2213 - val_accuracy: 0.9175\n",
            "Epoch 26/30\n",
            "40/40 [==============================] - 0s 10ms/step - loss: 0.1353 - accuracy: 0.9435 - val_loss: 0.2224 - val_accuracy: 0.9143\n",
            "Epoch 27/30\n",
            "40/40 [==============================] - 0s 10ms/step - loss: 0.1332 - accuracy: 0.9459 - val_loss: 0.2246 - val_accuracy: 0.9270\n",
            "Epoch 28/30\n",
            "40/40 [==============================] - 0s 10ms/step - loss: 0.1304 - accuracy: 0.9395 - val_loss: 0.2260 - val_accuracy: 0.9143\n",
            "Epoch 29/30\n",
            "40/40 [==============================] - 0s 9ms/step - loss: 0.1267 - accuracy: 0.9467 - val_loss: 0.2340 - val_accuracy: 0.9270\n",
            "Epoch 30/30\n",
            "40/40 [==============================] - 0s 9ms/step - loss: 0.1230 - accuracy: 0.9498 - val_loss: 0.2325 - val_accuracy: 0.9111\n"
          ]
        }
      ]
    },
    {
      "cell_type": "markdown",
      "source": [
        "### metrics=['f1_score']"
      ],
      "metadata": {
        "id": "PufMhK7o1fLL"
      }
    },
    {
      "cell_type": "code",
      "source": [
        "model_1.compile(optimizer='adam', \n",
        "                loss='categorical_crossentropy', \n",
        "                metrics=[''])"
      ],
      "metadata": {
        "id": "OfyHUinS04Wo"
      },
      "execution_count": 106,
      "outputs": []
    },
    {
      "cell_type": "code",
      "source": [
        "# history = model_1.fit(x_train_dataset, y_train_dataset, batch_size=32, epochs=30, validation_data=(x_test_dataset, y_test_dataset))"
      ],
      "metadata": {
        "id": "IUwch7_b2X9b"
      },
      "execution_count": 108,
      "outputs": []
    },
    {
      "cell_type": "markdown",
      "source": [
        "# Расширение данных на основе нормативной документации"
      ],
      "metadata": {
        "id": "upyMXDPPe4OI"
      }
    },
    {
      "cell_type": "code",
      "source": [
        "df_extension = pd.read_excel('/content/drive/MyDrive/NU_files/стажировка/spr_mkb10.xls')"
      ],
      "metadata": {
        "id": "2Awwz_T8e2r8"
      },
      "execution_count": null,
      "outputs": []
    },
    {
      "cell_type": "code",
      "source": [
        "df_extension.head()"
      ],
      "metadata": {
        "id": "iNblKDWvfkVG"
      },
      "execution_count": null,
      "outputs": []
    },
    {
      "cell_type": "code",
      "source": [
        "df_extension = df_extension.drop('class_id', axis=1)\n",
        "df_extension.head()"
      ],
      "metadata": {
        "id": "PnTbB_uffthm"
      },
      "execution_count": null,
      "outputs": []
    },
    {
      "cell_type": "code",
      "source": [
        "# list_1 = df_extension['mkb_cod']"
      ],
      "metadata": {
        "id": "lwGcgasSh9GP"
      },
      "execution_count": null,
      "outputs": []
    },
    {
      "cell_type": "code",
      "source": [
        "# def extension(arg):\n",
        "#     mkb = df_extension['mkb_cod']\n",
        "#     if mkb in list_1:\n",
        "#         df_extension['factors_diseased'] "
      ],
      "metadata": {
        "id": "oIpomhqFgCyY"
      },
      "execution_count": null,
      "outputs": []
    },
    {
      "cell_type": "code",
      "source": [
        "vocabulary_mkb[:5]"
      ],
      "metadata": {
        "id": "70wnQttVrLZu"
      },
      "execution_count": null,
      "outputs": []
    },
    {
      "cell_type": "code",
      "source": [
        "print(vocabulary_mkb.index('A00'))\n",
        "print(vocabulary_mkb.index('A09'))"
      ],
      "metadata": {
        "id": "pe61ruWwrT1Z"
      },
      "execution_count": null,
      "outputs": []
    },
    {
      "cell_type": "code",
      "source": [
        "list_1 = vocabulary_mkb[0:68]\n",
        "list_1"
      ],
      "metadata": {
        "id": "PQm6fz6Ir-OP"
      },
      "execution_count": null,
      "outputs": []
    },
    {
      "cell_type": "code",
      "source": [
        "import random\n",
        "\n",
        "random.choice(list_1)"
      ],
      "metadata": {
        "id": "JHahbdCRslyv"
      },
      "execution_count": null,
      "outputs": []
    },
    {
      "cell_type": "code",
      "source": [
        "vocabulary_mkb.index('E84')"
      ],
      "metadata": {
        "id": "t70BijOfyGnx"
      },
      "execution_count": null,
      "outputs": []
    },
    {
      "cell_type": "code",
      "source": [
        "vocabulary_mkb[vocabulary_mkb.index('E84'):2420]\n",
        "# print(vocabulary_mkb.index('A09'))"
      ],
      "metadata": {
        "id": "q2vrs0q9sKl0"
      },
      "execution_count": null,
      "outputs": []
    }
  ]
}