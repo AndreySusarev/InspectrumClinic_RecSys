{
  "nbformat": 4,
  "nbformat_minor": 0,
  "metadata": {
    "colab": {
      "provenance": [],
      "toc_visible": true,
      "collapsed_sections": [
        "upyMXDPPe4OI"
      ],
      "authorship_tag": "ABX9TyOoihGAbqaQ68YW11SNEV06",
      "include_colab_link": true
    },
    "kernelspec": {
      "name": "python3",
      "display_name": "Python 3"
    },
    "language_info": {
      "name": "python"
    }
  },
  "cells": [
    {
      "cell_type": "markdown",
      "metadata": {
        "id": "view-in-github",
        "colab_type": "text"
      },
      "source": [
        "<a href=\"https://colab.research.google.com/github/Untick/InspectrumClinic_RecSys/blob/Alesya-Moroz-folder/03(5)_profpatolog_Tokenizer.ipynb\" target=\"_parent\"><img src=\"https://colab.research.google.com/assets/colab-badge.svg\" alt=\"Open In Colab\"/></a>"
      ]
    },
    {
      "cell_type": "markdown",
      "source": [
        "# Загрузка библиотек"
      ],
      "metadata": {
        "id": "8zK3SmcDTEX0"
      }
    },
    {
      "cell_type": "code",
      "execution_count": 99,
      "metadata": {
        "id": "dDBLCWKuSJrN"
      },
      "outputs": [],
      "source": [
        "import numpy as np \n",
        "import pandas as pd \n",
        "import seaborn as sns\n",
        "import tensorflow as tf\n",
        "\n",
        "\n",
        "from tensorflow.keras import utils # Для работы с категориальными данными\n",
        "from tensorflow.keras.models import Sequential, Model # Полносвязная модель\n",
        "from tensorflow.keras.optimizers import Adam\n",
        "from tensorflow.keras.layers import Dense, Dropout, SpatialDropout1D, BatchNormalization, Embedding, Flatten, Activation, Input # Слои для сети\n",
        "from tensorflow.keras.preprocessing.text import Tokenizer # Методы для работы с текстами и преобразования их в последовательности\n",
        "from tensorflow.keras.preprocessing.sequence import pad_sequences # Метод для работы с последовательностями\n",
        "\n",
        "from tensorflow.keras.layers import TextVectorization\n",
        "\n",
        "import matplotlib.pyplot as plt\n",
        "import re\n",
        "\n",
        "import warnings\n",
        "warnings.filterwarnings('ignore')\n",
        "\n",
        "from sklearn.model_selection import train_test_split\n",
        "from pandas.core.common import flatten\n",
        "\n",
        "from sklearn.metrics import f1_score"
      ]
    },
    {
      "cell_type": "code",
      "source": [
        "print(tf.__version__)\n",
        "print(tf.keras.__version__)"
      ],
      "metadata": {
        "colab": {
          "base_uri": "https://localhost:8080/"
        },
        "id": "tHzGdP3iknhM",
        "outputId": "2a1143e4-cba1-47f9-fa42-924041140bc1"
      },
      "execution_count": 2,
      "outputs": [
        {
          "output_type": "stream",
          "name": "stdout",
          "text": [
            "2.12.0\n",
            "2.12.0\n"
          ]
        }
      ]
    },
    {
      "cell_type": "markdown",
      "source": [
        "# Загрузка датасета"
      ],
      "metadata": {
        "id": "6M58i5jcTaoK"
      }
    },
    {
      "cell_type": "code",
      "source": [
        "from google.colab import drive # Подключаем диск\n",
        "drive.mount('/content/drive')"
      ],
      "metadata": {
        "id": "XrucoYJnTVek",
        "colab": {
          "base_uri": "https://localhost:8080/"
        },
        "outputId": "27c78111-be46-4a93-f3ff-fa5375ea7b1e"
      },
      "execution_count": 3,
      "outputs": [
        {
          "output_type": "stream",
          "name": "stdout",
          "text": [
            "Mounted at /content/drive\n"
          ]
        }
      ]
    },
    {
      "cell_type": "code",
      "source": [
        "df = pd.read_excel('/content/drive/MyDrive/NU_files/стажировка/profpatolog_modifiedDataset_v1.xlsx', index_col=0)"
      ],
      "metadata": {
        "id": "LE8c6IwMUA3k"
      },
      "execution_count": 4,
      "outputs": []
    },
    {
      "cell_type": "code",
      "source": [
        "df.head()"
      ],
      "metadata": {
        "colab": {
          "base_uri": "https://localhost:8080/",
          "height": 438
        },
        "id": "3RRT2th7Udmx",
        "outputId": "b79d5681-4223-41fd-cd17-663ee437a1b6"
      },
      "execution_count": 5,
      "outputs": [
        {
          "output_type": "execute_result",
          "data": {
            "text/plain": [
              "  КлиентПолПредставление  Возраст ДиспансернаяГруппаПредставление  \\\n",
              "0                Женский       45                               I   \n",
              "1                Мужской       34                            IIIа   \n",
              "2                Мужской       36                              II   \n",
              "3                Мужской       33                               I   \n",
              "4                Мужской       37                              II   \n",
              "\n",
              "                                   Профессия ВредныеФакторы  \\\n",
              "0  Ведущий специалист по организации обуения           11.4   \n",
              "1                         Ведущий специалист          4.2.5   \n",
              "2                           Главный менеджер          4.2.5   \n",
              "3                         Главный специалист           11.1   \n",
              "4                         Старший специалист           11.1   \n",
              "\n",
              "             ЗаключениеМК ЛабораторныеИсследования1_ОАК_ЗначениеПредставление  \\\n",
              "0                   Годен                                            получен    \n",
              "1                   Годен                                            получен    \n",
              "2  ГоденСКоррекциейЗрения                                            получен    \n",
              "3                   Годен                                            получен    \n",
              "4  ГоденСКоррекциейЗрения                                            получен    \n",
              "\n",
              "  ЛабораторныеИсследования1_Биохимия_ЗначениеПредставление  \\\n",
              "0                                            получен         \n",
              "1                                            получен         \n",
              "2                                            получен         \n",
              "3                                            получен         \n",
              "4                                            получен         \n",
              "\n",
              "  ЛабораторныеИсследования1_ОАМ_ЗначениеПредставление  \\\n",
              "0                                            получен    \n",
              "1                                            получен    \n",
              "2                                            получен    \n",
              "3                                            получен    \n",
              "4                                            получен    \n",
              "\n",
              "  ЛабораторныеИсследования1_МазокИзЗеваИНоса_ЗначениеПредставление  ...  \\\n",
              "0                                         не получен                ...   \n",
              "1                                         не получен                ...   \n",
              "2                                         не получен                ...   \n",
              "3                                            получен                ...   \n",
              "4                                         не получен                ...   \n",
              "\n",
              "  Психиатрия1_МКБ102 Психиатрия2_МКБ101 Психиатрия2_МКБ102  \\\n",
              "0                NaN                NaN                NaN   \n",
              "1                NaN                NaN                NaN   \n",
              "2                NaN                NaN                NaN   \n",
              "3                NaN                NaN                NaN   \n",
              "4                NaN                NaN                NaN   \n",
              "\n",
              "  Рентгенология1_МКБ102 Рентгенология2_МКБ102 Психиатрия3_МКБ101  \\\n",
              "0                   NaN                   NaN                NaN   \n",
              "1                   NaN                   NaN                NaN   \n",
              "2                   NaN                   NaN                NaN   \n",
              "3                   NaN                   NaN                NaN   \n",
              "4                   NaN                   NaN                NaN   \n",
              "\n",
              "  Психиатрия3_МКБ102 Психиатрия4_МКБ101 Психиатрия4_МКБ102  \\\n",
              "0                NaN                NaN                NaN   \n",
              "1                NaN                NaN                NaN   \n",
              "2                NaN                NaN                NaN   \n",
              "3                NaN                NaN                NaN   \n",
              "4                NaN                NaN                NaN   \n",
              "\n",
              "  Оториноларингология3_МКБ101  \n",
              "0                         NaN  \n",
              "1                         NaN  \n",
              "2                         NaN  \n",
              "3                         NaN  \n",
              "4                         NaN  \n",
              "\n",
              "[5 rows x 1626 columns]"
            ],
            "text/html": [
              "\n",
              "  <div id=\"df-e8f26fbe-851e-4a52-8673-cbdaea412331\">\n",
              "    <div class=\"colab-df-container\">\n",
              "      <div>\n",
              "<style scoped>\n",
              "    .dataframe tbody tr th:only-of-type {\n",
              "        vertical-align: middle;\n",
              "    }\n",
              "\n",
              "    .dataframe tbody tr th {\n",
              "        vertical-align: top;\n",
              "    }\n",
              "\n",
              "    .dataframe thead th {\n",
              "        text-align: right;\n",
              "    }\n",
              "</style>\n",
              "<table border=\"1\" class=\"dataframe\">\n",
              "  <thead>\n",
              "    <tr style=\"text-align: right;\">\n",
              "      <th></th>\n",
              "      <th>КлиентПолПредставление</th>\n",
              "      <th>Возраст</th>\n",
              "      <th>ДиспансернаяГруппаПредставление</th>\n",
              "      <th>Профессия</th>\n",
              "      <th>ВредныеФакторы</th>\n",
              "      <th>ЗаключениеМК</th>\n",
              "      <th>ЛабораторныеИсследования1_ОАК_ЗначениеПредставление</th>\n",
              "      <th>ЛабораторныеИсследования1_Биохимия_ЗначениеПредставление</th>\n",
              "      <th>ЛабораторныеИсследования1_ОАМ_ЗначениеПредставление</th>\n",
              "      <th>ЛабораторныеИсследования1_МазокИзЗеваИНоса_ЗначениеПредставление</th>\n",
              "      <th>...</th>\n",
              "      <th>Психиатрия1_МКБ102</th>\n",
              "      <th>Психиатрия2_МКБ101</th>\n",
              "      <th>Психиатрия2_МКБ102</th>\n",
              "      <th>Рентгенология1_МКБ102</th>\n",
              "      <th>Рентгенология2_МКБ102</th>\n",
              "      <th>Психиатрия3_МКБ101</th>\n",
              "      <th>Психиатрия3_МКБ102</th>\n",
              "      <th>Психиатрия4_МКБ101</th>\n",
              "      <th>Психиатрия4_МКБ102</th>\n",
              "      <th>Оториноларингология3_МКБ101</th>\n",
              "    </tr>\n",
              "  </thead>\n",
              "  <tbody>\n",
              "    <tr>\n",
              "      <th>0</th>\n",
              "      <td>Женский</td>\n",
              "      <td>45</td>\n",
              "      <td>I</td>\n",
              "      <td>Ведущий специалист по организации обуения</td>\n",
              "      <td>11.4</td>\n",
              "      <td>Годен</td>\n",
              "      <td>получен</td>\n",
              "      <td>получен</td>\n",
              "      <td>получен</td>\n",
              "      <td>не получен</td>\n",
              "      <td>...</td>\n",
              "      <td>NaN</td>\n",
              "      <td>NaN</td>\n",
              "      <td>NaN</td>\n",
              "      <td>NaN</td>\n",
              "      <td>NaN</td>\n",
              "      <td>NaN</td>\n",
              "      <td>NaN</td>\n",
              "      <td>NaN</td>\n",
              "      <td>NaN</td>\n",
              "      <td>NaN</td>\n",
              "    </tr>\n",
              "    <tr>\n",
              "      <th>1</th>\n",
              "      <td>Мужской</td>\n",
              "      <td>34</td>\n",
              "      <td>IIIа</td>\n",
              "      <td>Ведущий специалист</td>\n",
              "      <td>4.2.5</td>\n",
              "      <td>Годен</td>\n",
              "      <td>получен</td>\n",
              "      <td>получен</td>\n",
              "      <td>получен</td>\n",
              "      <td>не получен</td>\n",
              "      <td>...</td>\n",
              "      <td>NaN</td>\n",
              "      <td>NaN</td>\n",
              "      <td>NaN</td>\n",
              "      <td>NaN</td>\n",
              "      <td>NaN</td>\n",
              "      <td>NaN</td>\n",
              "      <td>NaN</td>\n",
              "      <td>NaN</td>\n",
              "      <td>NaN</td>\n",
              "      <td>NaN</td>\n",
              "    </tr>\n",
              "    <tr>\n",
              "      <th>2</th>\n",
              "      <td>Мужской</td>\n",
              "      <td>36</td>\n",
              "      <td>II</td>\n",
              "      <td>Главный менеджер</td>\n",
              "      <td>4.2.5</td>\n",
              "      <td>ГоденСКоррекциейЗрения</td>\n",
              "      <td>получен</td>\n",
              "      <td>получен</td>\n",
              "      <td>получен</td>\n",
              "      <td>не получен</td>\n",
              "      <td>...</td>\n",
              "      <td>NaN</td>\n",
              "      <td>NaN</td>\n",
              "      <td>NaN</td>\n",
              "      <td>NaN</td>\n",
              "      <td>NaN</td>\n",
              "      <td>NaN</td>\n",
              "      <td>NaN</td>\n",
              "      <td>NaN</td>\n",
              "      <td>NaN</td>\n",
              "      <td>NaN</td>\n",
              "    </tr>\n",
              "    <tr>\n",
              "      <th>3</th>\n",
              "      <td>Мужской</td>\n",
              "      <td>33</td>\n",
              "      <td>I</td>\n",
              "      <td>Главный специалист</td>\n",
              "      <td>11.1</td>\n",
              "      <td>Годен</td>\n",
              "      <td>получен</td>\n",
              "      <td>получен</td>\n",
              "      <td>получен</td>\n",
              "      <td>получен</td>\n",
              "      <td>...</td>\n",
              "      <td>NaN</td>\n",
              "      <td>NaN</td>\n",
              "      <td>NaN</td>\n",
              "      <td>NaN</td>\n",
              "      <td>NaN</td>\n",
              "      <td>NaN</td>\n",
              "      <td>NaN</td>\n",
              "      <td>NaN</td>\n",
              "      <td>NaN</td>\n",
              "      <td>NaN</td>\n",
              "    </tr>\n",
              "    <tr>\n",
              "      <th>4</th>\n",
              "      <td>Мужской</td>\n",
              "      <td>37</td>\n",
              "      <td>II</td>\n",
              "      <td>Старший специалист</td>\n",
              "      <td>11.1</td>\n",
              "      <td>ГоденСКоррекциейЗрения</td>\n",
              "      <td>получен</td>\n",
              "      <td>получен</td>\n",
              "      <td>получен</td>\n",
              "      <td>не получен</td>\n",
              "      <td>...</td>\n",
              "      <td>NaN</td>\n",
              "      <td>NaN</td>\n",
              "      <td>NaN</td>\n",
              "      <td>NaN</td>\n",
              "      <td>NaN</td>\n",
              "      <td>NaN</td>\n",
              "      <td>NaN</td>\n",
              "      <td>NaN</td>\n",
              "      <td>NaN</td>\n",
              "      <td>NaN</td>\n",
              "    </tr>\n",
              "  </tbody>\n",
              "</table>\n",
              "<p>5 rows × 1626 columns</p>\n",
              "</div>\n",
              "      <button class=\"colab-df-convert\" onclick=\"convertToInteractive('df-e8f26fbe-851e-4a52-8673-cbdaea412331')\"\n",
              "              title=\"Convert this dataframe to an interactive table.\"\n",
              "              style=\"display:none;\">\n",
              "        \n",
              "  <svg xmlns=\"http://www.w3.org/2000/svg\" height=\"24px\"viewBox=\"0 0 24 24\"\n",
              "       width=\"24px\">\n",
              "    <path d=\"M0 0h24v24H0V0z\" fill=\"none\"/>\n",
              "    <path d=\"M18.56 5.44l.94 2.06.94-2.06 2.06-.94-2.06-.94-.94-2.06-.94 2.06-2.06.94zm-11 1L8.5 8.5l.94-2.06 2.06-.94-2.06-.94L8.5 2.5l-.94 2.06-2.06.94zm10 10l.94 2.06.94-2.06 2.06-.94-2.06-.94-.94-2.06-.94 2.06-2.06.94z\"/><path d=\"M17.41 7.96l-1.37-1.37c-.4-.4-.92-.59-1.43-.59-.52 0-1.04.2-1.43.59L10.3 9.45l-7.72 7.72c-.78.78-.78 2.05 0 2.83L4 21.41c.39.39.9.59 1.41.59.51 0 1.02-.2 1.41-.59l7.78-7.78 2.81-2.81c.8-.78.8-2.07 0-2.86zM5.41 20L4 18.59l7.72-7.72 1.47 1.35L5.41 20z\"/>\n",
              "  </svg>\n",
              "      </button>\n",
              "      \n",
              "  <style>\n",
              "    .colab-df-container {\n",
              "      display:flex;\n",
              "      flex-wrap:wrap;\n",
              "      gap: 12px;\n",
              "    }\n",
              "\n",
              "    .colab-df-convert {\n",
              "      background-color: #E8F0FE;\n",
              "      border: none;\n",
              "      border-radius: 50%;\n",
              "      cursor: pointer;\n",
              "      display: none;\n",
              "      fill: #1967D2;\n",
              "      height: 32px;\n",
              "      padding: 0 0 0 0;\n",
              "      width: 32px;\n",
              "    }\n",
              "\n",
              "    .colab-df-convert:hover {\n",
              "      background-color: #E2EBFA;\n",
              "      box-shadow: 0px 1px 2px rgba(60, 64, 67, 0.3), 0px 1px 3px 1px rgba(60, 64, 67, 0.15);\n",
              "      fill: #174EA6;\n",
              "    }\n",
              "\n",
              "    [theme=dark] .colab-df-convert {\n",
              "      background-color: #3B4455;\n",
              "      fill: #D2E3FC;\n",
              "    }\n",
              "\n",
              "    [theme=dark] .colab-df-convert:hover {\n",
              "      background-color: #434B5C;\n",
              "      box-shadow: 0px 1px 3px 1px rgba(0, 0, 0, 0.15);\n",
              "      filter: drop-shadow(0px 1px 2px rgba(0, 0, 0, 0.3));\n",
              "      fill: #FFFFFF;\n",
              "    }\n",
              "  </style>\n",
              "\n",
              "      <script>\n",
              "        const buttonEl =\n",
              "          document.querySelector('#df-e8f26fbe-851e-4a52-8673-cbdaea412331 button.colab-df-convert');\n",
              "        buttonEl.style.display =\n",
              "          google.colab.kernel.accessAllowed ? 'block' : 'none';\n",
              "\n",
              "        async function convertToInteractive(key) {\n",
              "          const element = document.querySelector('#df-e8f26fbe-851e-4a52-8673-cbdaea412331');\n",
              "          const dataTable =\n",
              "            await google.colab.kernel.invokeFunction('convertToInteractive',\n",
              "                                                     [key], {});\n",
              "          if (!dataTable) return;\n",
              "\n",
              "          const docLinkHtml = 'Like what you see? Visit the ' +\n",
              "            '<a target=\"_blank\" href=https://colab.research.google.com/notebooks/data_table.ipynb>data table notebook</a>'\n",
              "            + ' to learn more about interactive tables.';\n",
              "          element.innerHTML = '';\n",
              "          dataTable['output_type'] = 'display_data';\n",
              "          await google.colab.output.renderOutput(dataTable, element);\n",
              "          const docLink = document.createElement('div');\n",
              "          docLink.innerHTML = docLinkHtml;\n",
              "          element.appendChild(docLink);\n",
              "        }\n",
              "      </script>\n",
              "    </div>\n",
              "  </div>\n",
              "  "
            ]
          },
          "metadata": {},
          "execution_count": 5
        }
      ]
    },
    {
      "cell_type": "code",
      "source": [
        "df.info()\n",
        "# df.info(verbose=True, buf=None, max_cols=4, memory_usage=None, show_counts=True)"
      ],
      "metadata": {
        "colab": {
          "base_uri": "https://localhost:8080/"
        },
        "id": "tjvyf_TSUoYY",
        "outputId": "efa6dd64-791a-4dcb-9a5d-96beb0c7910f"
      },
      "execution_count": 6,
      "outputs": [
        {
          "output_type": "stream",
          "name": "stdout",
          "text": [
            "<class 'pandas.core.frame.DataFrame'>\n",
            "Int64Index: 1571 entries, 0 to 1570\n",
            "Columns: 1626 entries, КлиентПолПредставление to Оториноларингология3_МКБ101\n",
            "dtypes: float64(87), int64(1), object(1538)\n",
            "memory usage: 19.5+ MB\n"
          ]
        }
      ]
    },
    {
      "cell_type": "code",
      "source": [
        "#@title Столбцы с общей информацией\n",
        "print(list(df.columns[:6]))"
      ],
      "metadata": {
        "colab": {
          "base_uri": "https://localhost:8080/"
        },
        "id": "129I4sPIThnb",
        "outputId": "5903b367-5886-4c55-cafe-1c3d778e9d75"
      },
      "execution_count": 7,
      "outputs": [
        {
          "output_type": "stream",
          "name": "stdout",
          "text": [
            "['КлиентПолПредставление', 'Возраст', 'ДиспансернаяГруппаПредставление', 'Профессия', 'ВредныеФакторы', 'ЗаключениеМК']\n"
          ]
        }
      ]
    },
    {
      "cell_type": "code",
      "source": [
        "# n = 0 # номер записи\n",
        "# for i in range(len(df.values[n])):\n",
        "#     if df.values[n][i] != np.NaN:\n",
        "#         print(i, df.columns[i], \" \", df.values[n][i])"
      ],
      "metadata": {
        "id": "BnpuYmFQVs1f"
      },
      "execution_count": 8,
      "outputs": []
    },
    {
      "cell_type": "code",
      "source": [
        "#@title Определение направлений исследований (по столбцам)\n",
        "columns = df.columns\n",
        "col_specialization = []\n",
        "for i, column in enumerate(columns):\n",
        "    string = re.split('_|[0-9]', column)\n",
        "    if len(string) > 1:\n",
        "        if string[0] not in col_specialization: \n",
        "            col_specialization.append(string[0])    \n",
        "            print(len(col_specialization), string[0])"
      ],
      "metadata": {
        "colab": {
          "base_uri": "https://localhost:8080/"
        },
        "id": "rRg8-Su6TIGQ",
        "outputId": "6310e824-f5b0-401c-a31c-e5044fc6ff78"
      },
      "execution_count": 9,
      "outputs": [
        {
          "output_type": "stream",
          "name": "stdout",
          "text": [
            "1 ЛабораторныеИсследования\n",
            "2 Рентгенология\n",
            "3 ПсихиатрияНаркология\n",
            "4 Офтальмология\n",
            "5 Оториноларингология\n",
            "6 ХирургНеИсп\n",
            "7 Гинекология\n",
            "8 ФункциональнаяДиагностика\n",
            "9 Стоматология\n",
            "10 Эндоскопия\n",
            "11 Терапия\n",
            "12 Дерматовенерология\n",
            "13 Неврология\n",
            "14 УЗИДиагностика\n",
            "15 Хирургия\n",
            "16 ЭКГНеИсп\n",
            "17 ПроцедурнаяМедсестра\n",
            "18 Психиатрия\n",
            "19 ТерапевтНеИсп\n"
          ]
        }
      ]
    },
    {
      "cell_type": "markdown",
      "source": [
        "## Формирование датасета с заключениями специалистов (МКБ)"
      ],
      "metadata": {
        "id": "paPkunJFOUyx"
      }
    },
    {
      "cell_type": "code",
      "source": [
        "keywords_to_save = 'МКБ'\n",
        "df_mkb = df.filter(regex=keywords_to_save)\n",
        "df_mkb.info()\n",
        "columns_mkb = list(df_mkb.columns)"
      ],
      "metadata": {
        "id": "nF5uX4bOOTLQ",
        "colab": {
          "base_uri": "https://localhost:8080/"
        },
        "outputId": "df029023-b78f-453f-e848-7d26f4663976"
      },
      "execution_count": 10,
      "outputs": [
        {
          "output_type": "stream",
          "name": "stdout",
          "text": [
            "<class 'pandas.core.frame.DataFrame'>\n",
            "Int64Index: 1571 entries, 0 to 1570\n",
            "Data columns (total 91 columns):\n",
            " #   Column                             Non-Null Count  Dtype \n",
            "---  ------                             --------------  ----- \n",
            " 0   ПсихиатрияНаркология1_МКБ101       1208 non-null   object\n",
            " 1   Офтальмология1_МКБ101              1005 non-null   object\n",
            " 2   Оториноларингология1_МКБ101        1221 non-null   object\n",
            " 3   ХирургНеИсп1_МКБ101                25 non-null     object\n",
            " 4   Гинекология1_МКБ101                363 non-null    object\n",
            " 5   Стоматология1_МКБ101               321 non-null    object\n",
            " 6   Дерматовенерология1_МКБ101         754 non-null    object\n",
            " 7   Рентгенология1_МКБ101              71 non-null     object\n",
            " 8   Неврология1_МКБ101                 1355 non-null   object\n",
            " 9   Терапия1_МКБ101                    1358 non-null   object\n",
            " 10  Хирургия1_МКБ101                   785 non-null    object\n",
            " 11  Офтальмология1_МКБ102              114 non-null    object\n",
            " 12  Терапия2_МКБ101                    155 non-null    object\n",
            " 13  Неврология2_МКБ101                 128 non-null    object\n",
            " 14  ЛабораторныеИсследования1_МКБ101   875 non-null    object\n",
            " 15  ЭКГНеИсп1_МКБ101                   1 non-null      object\n",
            " 16  УЗИДиагностика1_МКБ101             171 non-null    object\n",
            " 17  УЗИДиагностика2_МКБ101             43 non-null     object\n",
            " 18  ПсихиатрияНаркология2_МКБ101       113 non-null    object\n",
            " 19  Терапия1_МКБ102                    199 non-null    object\n",
            " 20  ЛабораторныеИсследования2_МКБ101   57 non-null     object\n",
            " 21  Терапия1_МКБ103                    13 non-null     object\n",
            " 22  Психиатрия1_МКБ101                 174 non-null    object\n",
            " 23  Гинекология1_МКБ102                19 non-null     object\n",
            " 24  Рентгенология2_МКБ101              3 non-null      object\n",
            " 25  Гинекология2_МКБ101                24 non-null     object\n",
            " 26  Хирургия2_МКБ101                   82 non-null     object\n",
            " 27  ПроцедурнаяМедсестра1_МКБ101       75 non-null     object\n",
            " 28  ФункциональнаяДиагностика1_МКБ101  6 non-null      object\n",
            " 29  УЗИДиагностика1_МКБ102             43 non-null     object\n",
            " 30  Стоматология2_МКБ101               38 non-null     object\n",
            " 31  Неврология1_МКБ102                 123 non-null    object\n",
            " 32  Оториноларингология2_МКБ101        115 non-null    object\n",
            " 33  Дерматовенерология1_МКБ102         83 non-null     object\n",
            " 34  Дерматовенерология2_МКБ101         84 non-null     object\n",
            " 35  Дерматовенерология2_МКБ102         82 non-null     object\n",
            " 36  Хирургия1_МКБ102                   54 non-null     object\n",
            " 37  Хирургия2_МКБ102                   54 non-null     object\n",
            " 38  Офтальмология2_МКБ101              84 non-null     object\n",
            " 39  Офтальмология2_МКБ102              82 non-null     object\n",
            " 40  Неврология2_МКБ102                 120 non-null    object\n",
            " 41  ПсихиатрияНаркология1_МКБ102       104 non-null    object\n",
            " 42  ПсихиатрияНаркология2_МКБ102       104 non-null    object\n",
            " 43  УЗИДиагностика2_МКБ102             42 non-null     object\n",
            " 44  Оториноларингология1_МКБ102        108 non-null    object\n",
            " 45  Оториноларингология2_МКБ102        104 non-null    object\n",
            " 46  Терапия2_МКБ102                    124 non-null    object\n",
            " 47  Оториноларингология1_МКБ103        4 non-null      object\n",
            " 48  Оториноларингология1_МКБ104        4 non-null      object\n",
            " 49  Оториноларингология2_МКБ103        4 non-null      object\n",
            " 50  Оториноларингология2_МКБ104        4 non-null      object\n",
            " 51  Терапия3_МКБ101                    6 non-null      object\n",
            " 52  Терапия3_МКБ102                    6 non-null      object\n",
            " 53  Терапия4_МКБ101                    6 non-null      object\n",
            " 54  Терапия4_МКБ102                    6 non-null      object\n",
            " 55  Гинекология2_МКБ102                18 non-null     object\n",
            " 56  УЗИДиагностика1_МКБ103             2 non-null      object\n",
            " 57  УЗИДиагностика1_МКБ104             2 non-null      object\n",
            " 58  УЗИДиагностика2_МКБ103             2 non-null      object\n",
            " 59  УЗИДиагностика2_МКБ104             2 non-null      object\n",
            " 60  Стоматология1_МКБ102               38 non-null     object\n",
            " 61  Стоматология2_МКБ102               36 non-null     object\n",
            " 62  Терапия1_МКБ104                    6 non-null      object\n",
            " 63  Терапия2_МКБ103                    6 non-null      object\n",
            " 64  Терапия2_МКБ104                    6 non-null      object\n",
            " 65  Офтальмология1_МКБ103              7 non-null      object\n",
            " 66  Офтальмология1_МКБ104              6 non-null      object\n",
            " 67  Офтальмология2_МКБ103              6 non-null      object\n",
            " 68  Офтальмология2_МКБ104              6 non-null      object\n",
            " 69  ЛабораторныеИсследования1_МКБ102   55 non-null     object\n",
            " 70  ЛабораторныеИсследования2_МКБ102   54 non-null     object\n",
            " 71  Гинекология3_МКБ101                2 non-null      object\n",
            " 72  Гинекология3_МКБ102                2 non-null      object\n",
            " 73  Гинекология4_МКБ101                2 non-null      object\n",
            " 74  Гинекология4_МКБ102                2 non-null      object\n",
            " 75  ТерапевтНеИсп1_МКБ101              8 non-null      object\n",
            " 76  Эндоскопия1_МКБ101                 4 non-null      object\n",
            " 77  ТерапевтНеИсп1_МКБ102              1 non-null      object\n",
            " 78  ХирургНеИсп1_МКБ102                2 non-null      object\n",
            " 79  ХирургНеИсп2_МКБ101                2 non-null      object\n",
            " 80  ХирургНеИсп2_МКБ102                2 non-null      object\n",
            " 81  Психиатрия1_МКБ102                 22 non-null     object\n",
            " 82  Психиатрия2_МКБ101                 22 non-null     object\n",
            " 83  Психиатрия2_МКБ102                 22 non-null     object\n",
            " 84  Рентгенология1_МКБ102              2 non-null      object\n",
            " 85  Рентгенология2_МКБ102              2 non-null      object\n",
            " 86  Психиатрия3_МКБ101                 2 non-null      object\n",
            " 87  Психиатрия3_МКБ102                 2 non-null      object\n",
            " 88  Психиатрия4_МКБ101                 2 non-null      object\n",
            " 89  Психиатрия4_МКБ102                 2 non-null      object\n",
            " 90  Оториноларингология3_МКБ101        1 non-null      object\n",
            "dtypes: object(91)\n",
            "memory usage: 1.1+ MB\n"
          ]
        }
      ]
    },
    {
      "cell_type": "code",
      "source": [
        "len(df_mkb.columns)"
      ],
      "metadata": {
        "id": "SAPtXP8oPNwA",
        "colab": {
          "base_uri": "https://localhost:8080/"
        },
        "outputId": "5f67a223-cbb3-4339-d157-8e38697ea68f"
      },
      "execution_count": 11,
      "outputs": [
        {
          "output_type": "execute_result",
          "data": {
            "text/plain": [
              "91"
            ]
          },
          "metadata": {},
          "execution_count": 11
        }
      ]
    },
    {
      "cell_type": "markdown",
      "source": [
        "### Объединение МКБ столбцов"
      ],
      "metadata": {
        "id": "mD3Tql1ptPVz"
      }
    },
    {
      "cell_type": "code",
      "source": [
        "df['mkb_all'] = df[columns_mkb].astype(str).agg(','. join , axis= 1 ) "
      ],
      "metadata": {
        "id": "oxfsuKA4s2xE"
      },
      "execution_count": 12,
      "outputs": []
    },
    {
      "cell_type": "code",
      "source": [
        "p = df['mkb_all'][5]\n",
        "type(p)\n",
        "p"
      ],
      "metadata": {
        "id": "GNPpYNars7oh",
        "colab": {
          "base_uri": "https://localhost:8080/",
          "height": 73
        },
        "outputId": "4a1b477b-418f-406a-a87c-c12249c61442"
      },
      "execution_count": 13,
      "outputs": [
        {
          "output_type": "execute_result",
          "data": {
            "text/plain": [
              "'nan,H52.2,Z00.0,nan,nan,Z00.0,nan,nan,Z00.0,Z00.0,Z00.0,H53.0,Z00.0,nan,nan,nan,nan,nan,nan,nan,nan,nan,nan,nan,nan,nan,nan,nan,nan,nan,nan,nan,nan,nan,nan,nan,nan,nan,nan,nan,nan,nan,nan,nan,nan,nan,nan,nan,nan,nan,nan,nan,nan,nan,nan,nan,nan,nan,nan,nan,nan,nan,nan,nan,nan,nan,nan,nan,nan,nan,nan,nan,nan,nan,nan,nan,nan,nan,nan,nan,nan,nan,nan,nan,nan,nan,nan,nan,nan,nan,nan'"
            ],
            "application/vnd.google.colaboratory.intrinsic+json": {
              "type": "string"
            }
          },
          "metadata": {},
          "execution_count": 13
        }
      ]
    },
    {
      "cell_type": "code",
      "source": [
        "def mkb_all(arg):\n",
        "    new = re.split(r',', arg)\n",
        "    unique = list(set(new))\n",
        "    unique.remove('nan')\n",
        "    return unique"
      ],
      "metadata": {
        "id": "C4TxB5P8tB0p"
      },
      "execution_count": 14,
      "outputs": []
    },
    {
      "cell_type": "code",
      "source": [
        "df['mkb_all_unique'] = df['mkb_all'].apply(mkb_all)"
      ],
      "metadata": {
        "id": "OmiIM4u1_qtO"
      },
      "execution_count": 15,
      "outputs": []
    },
    {
      "cell_type": "code",
      "source": [
        "df['mkb_all_unique'][100]"
      ],
      "metadata": {
        "colab": {
          "base_uri": "https://localhost:8080/"
        },
        "id": "FjiL_5eSAcHe",
        "outputId": "3641f3a0-6872-45f4-c31c-0d2b152a9aa6"
      },
      "execution_count": 16,
      "outputs": [
        {
          "output_type": "execute_result",
          "data": {
            "text/plain": [
              "['H52.1', 'Z00.0']"
            ]
          },
          "metadata": {},
          "execution_count": 16
        }
      ]
    },
    {
      "cell_type": "markdown",
      "source": [
        "## Формирование датасета с заключениями специалистов (Профнепригодность)"
      ],
      "metadata": {
        "id": "Yr2goO1gOSQs"
      }
    },
    {
      "cell_type": "code",
      "source": [
        "# Профнепригодность\n",
        "df_prof = df.filter(regex='Профнепригодность')\n",
        "# df_prof.info()\n",
        "df_prof"
      ],
      "metadata": {
        "colab": {
          "base_uri": "https://localhost:8080/",
          "height": 488
        },
        "id": "xoVE9it9RV2k",
        "outputId": "b96753e9-71d7-4f35-f675-ae28b3e6c100"
      },
      "execution_count": 17,
      "outputs": [
        {
          "output_type": "execute_result",
          "data": {
            "text/plain": [
              "     ПсихиатрияНаркология1_ПрофнепригодностьВременнаяПредставление1  \\\n",
              "0                                                   NaN               \n",
              "1                                                 Годен               \n",
              "2                                                 Годен               \n",
              "3                                                   NaN               \n",
              "4                                                   NaN               \n",
              "...                                                 ...               \n",
              "1566                                              Годен               \n",
              "1567                                              Годен               \n",
              "1568                                              Годен               \n",
              "1569                                              Годен               \n",
              "1570                                              Годен               \n",
              "\n",
              "     Офтальмология1_ПрофнепригодностьВременнаяПредставление1  \\\n",
              "0                                                   NaN        \n",
              "1                                                 Годен        \n",
              "2                                                 Годен        \n",
              "3                                                 Годен        \n",
              "4                                                 Годен        \n",
              "...                                                 ...        \n",
              "1566                                              Годен        \n",
              "1567                                                NaN        \n",
              "1568                                              Годен        \n",
              "1569                                              Годен        \n",
              "1570                                                NaN        \n",
              "\n",
              "     Оториноларингология1_ПрофнепригодностьВременнаяПредставление1  \\\n",
              "0                                                   NaN              \n",
              "1                                                   NaN              \n",
              "2                                                   NaN              \n",
              "3                                                 Годен              \n",
              "4                                                 Годен              \n",
              "...                                                 ...              \n",
              "1566                                              Годен              \n",
              "1567                                              Годен              \n",
              "1568                                              Годен              \n",
              "1569                                              Годен              \n",
              "1570                                              Годен              \n",
              "\n",
              "     ХирургНеИсп1_ПрофнепригодностьВременнаяПредставление1  \\\n",
              "0                                                   NaN      \n",
              "1                                                   NaN      \n",
              "2                                                   NaN      \n",
              "3                                                 Годен      \n",
              "4                                                   NaN      \n",
              "...                                                 ...      \n",
              "1566                                                NaN      \n",
              "1567                                                NaN      \n",
              "1568                                                NaN      \n",
              "1569                                                NaN      \n",
              "1570                                                NaN      \n",
              "\n",
              "     Гинекология1_ПрофнепригодностьВременнаяПредставление1  \\\n",
              "0                                                 Годен      \n",
              "1                                                   NaN      \n",
              "2                                                   NaN      \n",
              "3                                                   NaN      \n",
              "4                                                   NaN      \n",
              "...                                                 ...      \n",
              "1566                                                NaN      \n",
              "1567                                                NaN      \n",
              "1568                                                NaN      \n",
              "1569                                                NaN      \n",
              "1570                                                NaN      \n",
              "\n",
              "     Стоматология1_ПрофнепригодностьВременнаяПредставление1  \\\n",
              "0                                                   NaN       \n",
              "1                                                   NaN       \n",
              "2                                                   NaN       \n",
              "3                                                 Годен       \n",
              "4                                                 Годен       \n",
              "...                                                 ...       \n",
              "1566                                                NaN       \n",
              "1567                                                NaN       \n",
              "1568                                                NaN       \n",
              "1569                                                NaN       \n",
              "1570                                              Годен       \n",
              "\n",
              "     Дерматовенерология1_ПрофнепригодностьВременнаяПредставление1  \\\n",
              "0                                                   NaN             \n",
              "1                                                 Годен             \n",
              "2                                                 Годен             \n",
              "3                                                   NaN             \n",
              "4                                                   NaN             \n",
              "...                                                 ...             \n",
              "1566                                                NaN             \n",
              "1567                                                NaN             \n",
              "1568                                                NaN             \n",
              "1569                                                NaN             \n",
              "1570                                                NaN             \n",
              "\n",
              "     Рентгенология1_ПрофнепригодностьВременнаяПредставление1  \\\n",
              "0                                                   NaN        \n",
              "1                                                   NaN        \n",
              "2                                                   NaN        \n",
              "3                                                   NaN        \n",
              "4                                                   NaN        \n",
              "...                                                 ...        \n",
              "1566                                                NaN        \n",
              "1567                                                NaN        \n",
              "1568                                                NaN        \n",
              "1569                                                NaN        \n",
              "1570                                                NaN        \n",
              "\n",
              "     Неврология1_ПрофнепригодностьВременнаяПредставление1  \\\n",
              "0                                                   NaN     \n",
              "1                                                 Годен     \n",
              "2                                                   NaN     \n",
              "3                                                 Годен     \n",
              "4                                                 Годен     \n",
              "...                                                 ...     \n",
              "1566                                              Годен     \n",
              "1567                                              Годен     \n",
              "1568                                              Годен     \n",
              "1569                                              Годен     \n",
              "1570                                              Годен     \n",
              "\n",
              "     Терапия1_ПрофнепригодностьВременнаяПредставление1  ...  \\\n",
              "0                                                  NaN  ...   \n",
              "1                                                Годен  ...   \n",
              "2                                                Годен  ...   \n",
              "3                                                Годен  ...   \n",
              "4                                                Годен  ...   \n",
              "...                                                ...  ...   \n",
              "1566                                             Годен  ...   \n",
              "1567                                             Годен  ...   \n",
              "1568                                             Годен  ...   \n",
              "1569                                             Годен  ...   \n",
              "1570                                             Годен  ...   \n",
              "\n",
              "     Психиатрия1_ПрофнепригодностьВременнаяПредставление2  \\\n",
              "0                                                   NaN     \n",
              "1                                                   NaN     \n",
              "2                                                   NaN     \n",
              "3                                                   NaN     \n",
              "4                                                   NaN     \n",
              "...                                                 ...     \n",
              "1566                                                NaN     \n",
              "1567                                                NaN     \n",
              "1568                                                NaN     \n",
              "1569                                                NaN     \n",
              "1570                                                NaN     \n",
              "\n",
              "     Психиатрия2_ПрофнепригодностьВременнаяПредставление1  \\\n",
              "0                                                   NaN     \n",
              "1                                                   NaN     \n",
              "2                                                   NaN     \n",
              "3                                                   NaN     \n",
              "4                                                   NaN     \n",
              "...                                                 ...     \n",
              "1566                                                NaN     \n",
              "1567                                                NaN     \n",
              "1568                                                NaN     \n",
              "1569                                                NaN     \n",
              "1570                                                NaN     \n",
              "\n",
              "     Психиатрия2_ПрофнепригодностьВременнаяПредставление2  \\\n",
              "0                                                   NaN     \n",
              "1                                                   NaN     \n",
              "2                                                   NaN     \n",
              "3                                                   NaN     \n",
              "4                                                   NaN     \n",
              "...                                                 ...     \n",
              "1566                                                NaN     \n",
              "1567                                                NaN     \n",
              "1568                                                NaN     \n",
              "1569                                                NaN     \n",
              "1570                                                NaN     \n",
              "\n",
              "     Рентгенология1_ПрофнепригодностьВременнаяПредставление2  \\\n",
              "0                                                   NaN        \n",
              "1                                                   NaN        \n",
              "2                                                   NaN        \n",
              "3                                                   NaN        \n",
              "4                                                   NaN        \n",
              "...                                                 ...        \n",
              "1566                                                NaN        \n",
              "1567                                                NaN        \n",
              "1568                                                NaN        \n",
              "1569                                                NaN        \n",
              "1570                                                NaN        \n",
              "\n",
              "     Рентгенология2_ПрофнепригодностьВременнаяПредставление2  \\\n",
              "0                                                   NaN        \n",
              "1                                                   NaN        \n",
              "2                                                   NaN        \n",
              "3                                                   NaN        \n",
              "4                                                   NaN        \n",
              "...                                                 ...        \n",
              "1566                                                NaN        \n",
              "1567                                                NaN        \n",
              "1568                                                NaN        \n",
              "1569                                                NaN        \n",
              "1570                                                NaN        \n",
              "\n",
              "     Психиатрия3_ПрофнепригодностьВременнаяПредставление1  \\\n",
              "0                                                   NaN     \n",
              "1                                                   NaN     \n",
              "2                                                   NaN     \n",
              "3                                                   NaN     \n",
              "4                                                   NaN     \n",
              "...                                                 ...     \n",
              "1566                                                NaN     \n",
              "1567                                                NaN     \n",
              "1568                                                NaN     \n",
              "1569                                                NaN     \n",
              "1570                                                NaN     \n",
              "\n",
              "     Психиатрия3_ПрофнепригодностьВременнаяПредставление2  \\\n",
              "0                                                   NaN     \n",
              "1                                                   NaN     \n",
              "2                                                   NaN     \n",
              "3                                                   NaN     \n",
              "4                                                   NaN     \n",
              "...                                                 ...     \n",
              "1566                                                NaN     \n",
              "1567                                                NaN     \n",
              "1568                                                NaN     \n",
              "1569                                                NaN     \n",
              "1570                                                NaN     \n",
              "\n",
              "     Психиатрия4_ПрофнепригодностьВременнаяПредставление1  \\\n",
              "0                                                   NaN     \n",
              "1                                                   NaN     \n",
              "2                                                   NaN     \n",
              "3                                                   NaN     \n",
              "4                                                   NaN     \n",
              "...                                                 ...     \n",
              "1566                                                NaN     \n",
              "1567                                                NaN     \n",
              "1568                                                NaN     \n",
              "1569                                                NaN     \n",
              "1570                                                NaN     \n",
              "\n",
              "     Психиатрия4_ПрофнепригодностьВременнаяПредставление2  \\\n",
              "0                                                   NaN     \n",
              "1                                                   NaN     \n",
              "2                                                   NaN     \n",
              "3                                                   NaN     \n",
              "4                                                   NaN     \n",
              "...                                                 ...     \n",
              "1566                                                NaN     \n",
              "1567                                                NaN     \n",
              "1568                                                NaN     \n",
              "1569                                                NaN     \n",
              "1570                                                NaN     \n",
              "\n",
              "     Оториноларингология3_ПрофнепригодностьВременнаяПредставление1  \n",
              "0                                                   NaN             \n",
              "1                                                   NaN             \n",
              "2                                                   NaN             \n",
              "3                                                   NaN             \n",
              "4                                                   NaN             \n",
              "...                                                 ...             \n",
              "1566                                                NaN             \n",
              "1567                                                NaN             \n",
              "1568                                                NaN             \n",
              "1569                                                NaN             \n",
              "1570                                                NaN             \n",
              "\n",
              "[1571 rows x 79 columns]"
            ],
            "text/html": [
              "\n",
              "  <div id=\"df-b0aa07f8-f483-4d2b-85ec-b7adb210e575\">\n",
              "    <div class=\"colab-df-container\">\n",
              "      <div>\n",
              "<style scoped>\n",
              "    .dataframe tbody tr th:only-of-type {\n",
              "        vertical-align: middle;\n",
              "    }\n",
              "\n",
              "    .dataframe tbody tr th {\n",
              "        vertical-align: top;\n",
              "    }\n",
              "\n",
              "    .dataframe thead th {\n",
              "        text-align: right;\n",
              "    }\n",
              "</style>\n",
              "<table border=\"1\" class=\"dataframe\">\n",
              "  <thead>\n",
              "    <tr style=\"text-align: right;\">\n",
              "      <th></th>\n",
              "      <th>ПсихиатрияНаркология1_ПрофнепригодностьВременнаяПредставление1</th>\n",
              "      <th>Офтальмология1_ПрофнепригодностьВременнаяПредставление1</th>\n",
              "      <th>Оториноларингология1_ПрофнепригодностьВременнаяПредставление1</th>\n",
              "      <th>ХирургНеИсп1_ПрофнепригодностьВременнаяПредставление1</th>\n",
              "      <th>Гинекология1_ПрофнепригодностьВременнаяПредставление1</th>\n",
              "      <th>Стоматология1_ПрофнепригодностьВременнаяПредставление1</th>\n",
              "      <th>Дерматовенерология1_ПрофнепригодностьВременнаяПредставление1</th>\n",
              "      <th>Рентгенология1_ПрофнепригодностьВременнаяПредставление1</th>\n",
              "      <th>Неврология1_ПрофнепригодностьВременнаяПредставление1</th>\n",
              "      <th>Терапия1_ПрофнепригодностьВременнаяПредставление1</th>\n",
              "      <th>...</th>\n",
              "      <th>Психиатрия1_ПрофнепригодностьВременнаяПредставление2</th>\n",
              "      <th>Психиатрия2_ПрофнепригодностьВременнаяПредставление1</th>\n",
              "      <th>Психиатрия2_ПрофнепригодностьВременнаяПредставление2</th>\n",
              "      <th>Рентгенология1_ПрофнепригодностьВременнаяПредставление2</th>\n",
              "      <th>Рентгенология2_ПрофнепригодностьВременнаяПредставление2</th>\n",
              "      <th>Психиатрия3_ПрофнепригодностьВременнаяПредставление1</th>\n",
              "      <th>Психиатрия3_ПрофнепригодностьВременнаяПредставление2</th>\n",
              "      <th>Психиатрия4_ПрофнепригодностьВременнаяПредставление1</th>\n",
              "      <th>Психиатрия4_ПрофнепригодностьВременнаяПредставление2</th>\n",
              "      <th>Оториноларингология3_ПрофнепригодностьВременнаяПредставление1</th>\n",
              "    </tr>\n",
              "  </thead>\n",
              "  <tbody>\n",
              "    <tr>\n",
              "      <th>0</th>\n",
              "      <td>NaN</td>\n",
              "      <td>NaN</td>\n",
              "      <td>NaN</td>\n",
              "      <td>NaN</td>\n",
              "      <td>Годен</td>\n",
              "      <td>NaN</td>\n",
              "      <td>NaN</td>\n",
              "      <td>NaN</td>\n",
              "      <td>NaN</td>\n",
              "      <td>NaN</td>\n",
              "      <td>...</td>\n",
              "      <td>NaN</td>\n",
              "      <td>NaN</td>\n",
              "      <td>NaN</td>\n",
              "      <td>NaN</td>\n",
              "      <td>NaN</td>\n",
              "      <td>NaN</td>\n",
              "      <td>NaN</td>\n",
              "      <td>NaN</td>\n",
              "      <td>NaN</td>\n",
              "      <td>NaN</td>\n",
              "    </tr>\n",
              "    <tr>\n",
              "      <th>1</th>\n",
              "      <td>Годен</td>\n",
              "      <td>Годен</td>\n",
              "      <td>NaN</td>\n",
              "      <td>NaN</td>\n",
              "      <td>NaN</td>\n",
              "      <td>NaN</td>\n",
              "      <td>Годен</td>\n",
              "      <td>NaN</td>\n",
              "      <td>Годен</td>\n",
              "      <td>Годен</td>\n",
              "      <td>...</td>\n",
              "      <td>NaN</td>\n",
              "      <td>NaN</td>\n",
              "      <td>NaN</td>\n",
              "      <td>NaN</td>\n",
              "      <td>NaN</td>\n",
              "      <td>NaN</td>\n",
              "      <td>NaN</td>\n",
              "      <td>NaN</td>\n",
              "      <td>NaN</td>\n",
              "      <td>NaN</td>\n",
              "    </tr>\n",
              "    <tr>\n",
              "      <th>2</th>\n",
              "      <td>Годен</td>\n",
              "      <td>Годен</td>\n",
              "      <td>NaN</td>\n",
              "      <td>NaN</td>\n",
              "      <td>NaN</td>\n",
              "      <td>NaN</td>\n",
              "      <td>Годен</td>\n",
              "      <td>NaN</td>\n",
              "      <td>NaN</td>\n",
              "      <td>Годен</td>\n",
              "      <td>...</td>\n",
              "      <td>NaN</td>\n",
              "      <td>NaN</td>\n",
              "      <td>NaN</td>\n",
              "      <td>NaN</td>\n",
              "      <td>NaN</td>\n",
              "      <td>NaN</td>\n",
              "      <td>NaN</td>\n",
              "      <td>NaN</td>\n",
              "      <td>NaN</td>\n",
              "      <td>NaN</td>\n",
              "    </tr>\n",
              "    <tr>\n",
              "      <th>3</th>\n",
              "      <td>NaN</td>\n",
              "      <td>Годен</td>\n",
              "      <td>Годен</td>\n",
              "      <td>Годен</td>\n",
              "      <td>NaN</td>\n",
              "      <td>Годен</td>\n",
              "      <td>NaN</td>\n",
              "      <td>NaN</td>\n",
              "      <td>Годен</td>\n",
              "      <td>Годен</td>\n",
              "      <td>...</td>\n",
              "      <td>NaN</td>\n",
              "      <td>NaN</td>\n",
              "      <td>NaN</td>\n",
              "      <td>NaN</td>\n",
              "      <td>NaN</td>\n",
              "      <td>NaN</td>\n",
              "      <td>NaN</td>\n",
              "      <td>NaN</td>\n",
              "      <td>NaN</td>\n",
              "      <td>NaN</td>\n",
              "    </tr>\n",
              "    <tr>\n",
              "      <th>4</th>\n",
              "      <td>NaN</td>\n",
              "      <td>Годен</td>\n",
              "      <td>Годен</td>\n",
              "      <td>NaN</td>\n",
              "      <td>NaN</td>\n",
              "      <td>Годен</td>\n",
              "      <td>NaN</td>\n",
              "      <td>NaN</td>\n",
              "      <td>Годен</td>\n",
              "      <td>Годен</td>\n",
              "      <td>...</td>\n",
              "      <td>NaN</td>\n",
              "      <td>NaN</td>\n",
              "      <td>NaN</td>\n",
              "      <td>NaN</td>\n",
              "      <td>NaN</td>\n",
              "      <td>NaN</td>\n",
              "      <td>NaN</td>\n",
              "      <td>NaN</td>\n",
              "      <td>NaN</td>\n",
              "      <td>NaN</td>\n",
              "    </tr>\n",
              "    <tr>\n",
              "      <th>...</th>\n",
              "      <td>...</td>\n",
              "      <td>...</td>\n",
              "      <td>...</td>\n",
              "      <td>...</td>\n",
              "      <td>...</td>\n",
              "      <td>...</td>\n",
              "      <td>...</td>\n",
              "      <td>...</td>\n",
              "      <td>...</td>\n",
              "      <td>...</td>\n",
              "      <td>...</td>\n",
              "      <td>...</td>\n",
              "      <td>...</td>\n",
              "      <td>...</td>\n",
              "      <td>...</td>\n",
              "      <td>...</td>\n",
              "      <td>...</td>\n",
              "      <td>...</td>\n",
              "      <td>...</td>\n",
              "      <td>...</td>\n",
              "      <td>...</td>\n",
              "    </tr>\n",
              "    <tr>\n",
              "      <th>1566</th>\n",
              "      <td>Годен</td>\n",
              "      <td>Годен</td>\n",
              "      <td>Годен</td>\n",
              "      <td>NaN</td>\n",
              "      <td>NaN</td>\n",
              "      <td>NaN</td>\n",
              "      <td>NaN</td>\n",
              "      <td>NaN</td>\n",
              "      <td>Годен</td>\n",
              "      <td>Годен</td>\n",
              "      <td>...</td>\n",
              "      <td>NaN</td>\n",
              "      <td>NaN</td>\n",
              "      <td>NaN</td>\n",
              "      <td>NaN</td>\n",
              "      <td>NaN</td>\n",
              "      <td>NaN</td>\n",
              "      <td>NaN</td>\n",
              "      <td>NaN</td>\n",
              "      <td>NaN</td>\n",
              "      <td>NaN</td>\n",
              "    </tr>\n",
              "    <tr>\n",
              "      <th>1567</th>\n",
              "      <td>Годен</td>\n",
              "      <td>NaN</td>\n",
              "      <td>Годен</td>\n",
              "      <td>NaN</td>\n",
              "      <td>NaN</td>\n",
              "      <td>NaN</td>\n",
              "      <td>NaN</td>\n",
              "      <td>NaN</td>\n",
              "      <td>Годен</td>\n",
              "      <td>Годен</td>\n",
              "      <td>...</td>\n",
              "      <td>NaN</td>\n",
              "      <td>NaN</td>\n",
              "      <td>NaN</td>\n",
              "      <td>NaN</td>\n",
              "      <td>NaN</td>\n",
              "      <td>NaN</td>\n",
              "      <td>NaN</td>\n",
              "      <td>NaN</td>\n",
              "      <td>NaN</td>\n",
              "      <td>NaN</td>\n",
              "    </tr>\n",
              "    <tr>\n",
              "      <th>1568</th>\n",
              "      <td>Годен</td>\n",
              "      <td>Годен</td>\n",
              "      <td>Годен</td>\n",
              "      <td>NaN</td>\n",
              "      <td>NaN</td>\n",
              "      <td>NaN</td>\n",
              "      <td>NaN</td>\n",
              "      <td>NaN</td>\n",
              "      <td>Годен</td>\n",
              "      <td>Годен</td>\n",
              "      <td>...</td>\n",
              "      <td>NaN</td>\n",
              "      <td>NaN</td>\n",
              "      <td>NaN</td>\n",
              "      <td>NaN</td>\n",
              "      <td>NaN</td>\n",
              "      <td>NaN</td>\n",
              "      <td>NaN</td>\n",
              "      <td>NaN</td>\n",
              "      <td>NaN</td>\n",
              "      <td>NaN</td>\n",
              "    </tr>\n",
              "    <tr>\n",
              "      <th>1569</th>\n",
              "      <td>Годен</td>\n",
              "      <td>Годен</td>\n",
              "      <td>Годен</td>\n",
              "      <td>NaN</td>\n",
              "      <td>NaN</td>\n",
              "      <td>NaN</td>\n",
              "      <td>NaN</td>\n",
              "      <td>NaN</td>\n",
              "      <td>Годен</td>\n",
              "      <td>Годен</td>\n",
              "      <td>...</td>\n",
              "      <td>NaN</td>\n",
              "      <td>NaN</td>\n",
              "      <td>NaN</td>\n",
              "      <td>NaN</td>\n",
              "      <td>NaN</td>\n",
              "      <td>NaN</td>\n",
              "      <td>NaN</td>\n",
              "      <td>NaN</td>\n",
              "      <td>NaN</td>\n",
              "      <td>NaN</td>\n",
              "    </tr>\n",
              "    <tr>\n",
              "      <th>1570</th>\n",
              "      <td>Годен</td>\n",
              "      <td>NaN</td>\n",
              "      <td>Годен</td>\n",
              "      <td>NaN</td>\n",
              "      <td>NaN</td>\n",
              "      <td>Годен</td>\n",
              "      <td>NaN</td>\n",
              "      <td>NaN</td>\n",
              "      <td>Годен</td>\n",
              "      <td>Годен</td>\n",
              "      <td>...</td>\n",
              "      <td>NaN</td>\n",
              "      <td>NaN</td>\n",
              "      <td>NaN</td>\n",
              "      <td>NaN</td>\n",
              "      <td>NaN</td>\n",
              "      <td>NaN</td>\n",
              "      <td>NaN</td>\n",
              "      <td>NaN</td>\n",
              "      <td>NaN</td>\n",
              "      <td>NaN</td>\n",
              "    </tr>\n",
              "  </tbody>\n",
              "</table>\n",
              "<p>1571 rows × 79 columns</p>\n",
              "</div>\n",
              "      <button class=\"colab-df-convert\" onclick=\"convertToInteractive('df-b0aa07f8-f483-4d2b-85ec-b7adb210e575')\"\n",
              "              title=\"Convert this dataframe to an interactive table.\"\n",
              "              style=\"display:none;\">\n",
              "        \n",
              "  <svg xmlns=\"http://www.w3.org/2000/svg\" height=\"24px\"viewBox=\"0 0 24 24\"\n",
              "       width=\"24px\">\n",
              "    <path d=\"M0 0h24v24H0V0z\" fill=\"none\"/>\n",
              "    <path d=\"M18.56 5.44l.94 2.06.94-2.06 2.06-.94-2.06-.94-.94-2.06-.94 2.06-2.06.94zm-11 1L8.5 8.5l.94-2.06 2.06-.94-2.06-.94L8.5 2.5l-.94 2.06-2.06.94zm10 10l.94 2.06.94-2.06 2.06-.94-2.06-.94-.94-2.06-.94 2.06-2.06.94z\"/><path d=\"M17.41 7.96l-1.37-1.37c-.4-.4-.92-.59-1.43-.59-.52 0-1.04.2-1.43.59L10.3 9.45l-7.72 7.72c-.78.78-.78 2.05 0 2.83L4 21.41c.39.39.9.59 1.41.59.51 0 1.02-.2 1.41-.59l7.78-7.78 2.81-2.81c.8-.78.8-2.07 0-2.86zM5.41 20L4 18.59l7.72-7.72 1.47 1.35L5.41 20z\"/>\n",
              "  </svg>\n",
              "      </button>\n",
              "      \n",
              "  <style>\n",
              "    .colab-df-container {\n",
              "      display:flex;\n",
              "      flex-wrap:wrap;\n",
              "      gap: 12px;\n",
              "    }\n",
              "\n",
              "    .colab-df-convert {\n",
              "      background-color: #E8F0FE;\n",
              "      border: none;\n",
              "      border-radius: 50%;\n",
              "      cursor: pointer;\n",
              "      display: none;\n",
              "      fill: #1967D2;\n",
              "      height: 32px;\n",
              "      padding: 0 0 0 0;\n",
              "      width: 32px;\n",
              "    }\n",
              "\n",
              "    .colab-df-convert:hover {\n",
              "      background-color: #E2EBFA;\n",
              "      box-shadow: 0px 1px 2px rgba(60, 64, 67, 0.3), 0px 1px 3px 1px rgba(60, 64, 67, 0.15);\n",
              "      fill: #174EA6;\n",
              "    }\n",
              "\n",
              "    [theme=dark] .colab-df-convert {\n",
              "      background-color: #3B4455;\n",
              "      fill: #D2E3FC;\n",
              "    }\n",
              "\n",
              "    [theme=dark] .colab-df-convert:hover {\n",
              "      background-color: #434B5C;\n",
              "      box-shadow: 0px 1px 3px 1px rgba(0, 0, 0, 0.15);\n",
              "      filter: drop-shadow(0px 1px 2px rgba(0, 0, 0, 0.3));\n",
              "      fill: #FFFFFF;\n",
              "    }\n",
              "  </style>\n",
              "\n",
              "      <script>\n",
              "        const buttonEl =\n",
              "          document.querySelector('#df-b0aa07f8-f483-4d2b-85ec-b7adb210e575 button.colab-df-convert');\n",
              "        buttonEl.style.display =\n",
              "          google.colab.kernel.accessAllowed ? 'block' : 'none';\n",
              "\n",
              "        async function convertToInteractive(key) {\n",
              "          const element = document.querySelector('#df-b0aa07f8-f483-4d2b-85ec-b7adb210e575');\n",
              "          const dataTable =\n",
              "            await google.colab.kernel.invokeFunction('convertToInteractive',\n",
              "                                                     [key], {});\n",
              "          if (!dataTable) return;\n",
              "\n",
              "          const docLinkHtml = 'Like what you see? Visit the ' +\n",
              "            '<a target=\"_blank\" href=https://colab.research.google.com/notebooks/data_table.ipynb>data table notebook</a>'\n",
              "            + ' to learn more about interactive tables.';\n",
              "          element.innerHTML = '';\n",
              "          dataTable['output_type'] = 'display_data';\n",
              "          await google.colab.output.renderOutput(dataTable, element);\n",
              "          const docLink = document.createElement('div');\n",
              "          docLink.innerHTML = docLinkHtml;\n",
              "          element.appendChild(docLink);\n",
              "        }\n",
              "      </script>\n",
              "    </div>\n",
              "  </div>\n",
              "  "
            ]
          },
          "metadata": {},
          "execution_count": 17
        }
      ]
    },
    {
      "cell_type": "markdown",
      "source": [
        "# Формирование справочников и функций для парсинга данных"
      ],
      "metadata": {
        "id": "S3k2XCT7t4wI"
      }
    },
    {
      "cell_type": "markdown",
      "source": [
        "Для универсальности используем токенайзер, во избежание переписывания функций при изменении входных данных (например добавлении или удалении каких-либо параметров) "
      ],
      "metadata": {
        "id": "D01ta5VkuHP7"
      }
    },
    {
      "cell_type": "code",
      "source": [],
      "metadata": {
        "id": "wsIDN8-jEOsG"
      },
      "execution_count": 17,
      "outputs": []
    },
    {
      "cell_type": "code",
      "source": [
        "#@title Справочник 'КлиентПолПредставление'\n",
        "\n",
        "vocabulary_sex = list(df['КлиентПолПредставление'].astype(str).unique())\n",
        "try: \n",
        "    vocabulary_sex.remove('nan')\n",
        "except: \n",
        "    pass\n",
        "print(vocabulary_sex)"
      ],
      "metadata": {
        "colab": {
          "base_uri": "https://localhost:8080/"
        },
        "id": "NB_RDkTauCa1",
        "outputId": "9e147287-a391-4628-d3fb-0ee78beec738"
      },
      "execution_count": 18,
      "outputs": [
        {
          "output_type": "stream",
          "name": "stdout",
          "text": [
            "['Женский', 'Мужской']\n"
          ]
        }
      ]
    },
    {
      "cell_type": "code",
      "source": [
        "#@title Справочник 'ДиспансернаяГруппаПредставление'\n",
        "\n",
        "vocabulary_dispensary = list(df['ДиспансернаяГруппаПредставление'].astype(str).unique())\n",
        "try: \n",
        "    vocabulary_dispensary.remove('nan')\n",
        "except: \n",
        "    pass\n",
        "print(vocabulary_dispensary)"
      ],
      "metadata": {
        "colab": {
          "base_uri": "https://localhost:8080/"
        },
        "id": "fQ-SOOtOCtvg",
        "outputId": "1be24257-f212-4b05-b99d-2439d002b98e"
      },
      "execution_count": 19,
      "outputs": [
        {
          "output_type": "stream",
          "name": "stdout",
          "text": [
            "['I', 'IIIа', 'II', 'IIIб']\n"
          ]
        }
      ]
    },
    {
      "cell_type": "markdown",
      "source": [
        "### Справочник 'ВредныеФакторы'\n",
        "В данном ноутбуке справочник 'ВредныеФакторы' формируется на основе нормативной документации. Далее можно использовать справочник, который используется в клинике."
      ],
      "metadata": {
        "id": "S1L9KUAjf1Tk"
      }
    },
    {
      "cell_type": "code",
      "source": [
        "df_factors = pd.read_csv('/content/drive/MyDrive/NU_files/стажировка/Вредные факторы_справочник - Лист1 - Вредные факторы_справочник - Лист1.csv')\n",
        "df_factors.info()"
      ],
      "metadata": {
        "colab": {
          "base_uri": "https://localhost:8080/"
        },
        "id": "SpbYH37Sc26l",
        "outputId": "bea4f2c5-020c-4e0b-dc59-b2ba3b939cde"
      },
      "execution_count": 20,
      "outputs": [
        {
          "output_type": "stream",
          "name": "stdout",
          "text": [
            "<class 'pandas.core.frame.DataFrame'>\n",
            "RangeIndex: 230 entries, 0 to 229\n",
            "Data columns (total 1 columns):\n",
            " #   Column  Non-Null Count  Dtype \n",
            "---  ------  --------------  ----- \n",
            " 0   1       230 non-null    object\n",
            "dtypes: object(1)\n",
            "memory usage: 1.9+ KB\n"
          ]
        }
      ]
    },
    {
      "cell_type": "code",
      "source": [
        "df_factors['1'][0]"
      ],
      "metadata": {
        "colab": {
          "base_uri": "https://localhost:8080/",
          "height": 36
        },
        "id": "zbCtFFbtfvTK",
        "outputId": "ab70c983-5ab0-4735-c351-232d830f4843"
      },
      "execution_count": 21,
      "outputs": [
        {
          "output_type": "execute_result",
          "data": {
            "text/plain": [
              "'1.1. Азота неорганические соединения (в том числе азота оксиды О1, азота диоксид О).'"
            ],
            "application/vnd.google.colaboratory.intrinsic+json": {
              "type": "string"
            }
          },
          "metadata": {},
          "execution_count": 21
        }
      ]
    },
    {
      "cell_type": "code",
      "source": [
        "def factors_find(arg):\n",
        "    # string = df_factors['1'][200]\n",
        "    factors = re.split(r' ', arg)\n",
        "    \n",
        "    return factors[0][:][:-1]"
      ],
      "metadata": {
        "id": "V1zcxp0shVjE"
      },
      "execution_count": 22,
      "outputs": []
    },
    {
      "cell_type": "code",
      "source": [
        "df_factors['2'] = df_factors['1'].apply(factors_find)\n",
        "df_factors['2'][0]"
      ],
      "metadata": {
        "colab": {
          "base_uri": "https://localhost:8080/",
          "height": 36
        },
        "id": "WuEbiGK3hVdX",
        "outputId": "e5366665-8aaf-4e1d-9e53-7fe202a10078"
      },
      "execution_count": 23,
      "outputs": [
        {
          "output_type": "execute_result",
          "data": {
            "text/plain": [
              "'1.1'"
            ],
            "application/vnd.google.colaboratory.intrinsic+json": {
              "type": "string"
            }
          },
          "metadata": {},
          "execution_count": 23
        }
      ]
    },
    {
      "cell_type": "code",
      "source": [
        "vocabulary_hfactor = df_factors['2'].to_list()\n",
        "print(vocabulary_hfactor[:10], '\\n')\n",
        "print('Длина справочника ВредныеФакторы: ',len(vocabulary_hfactor))"
      ],
      "metadata": {
        "colab": {
          "base_uri": "https://localhost:8080/"
        },
        "id": "XXefwDlZhVYY",
        "outputId": "49a8ff7a-f763-4626-9db9-084718f15d71"
      },
      "execution_count": 24,
      "outputs": [
        {
          "output_type": "stream",
          "name": "stdout",
          "text": [
            "['1.1', '1.2', '1.3', '1.4', '1.5', '1.5.1', '1.6', '1.7', '1.7.1', '1.7.2'] \n",
            "\n",
            "Длина справочника ВредныеФакторы:  230\n"
          ]
        }
      ]
    },
    {
      "cell_type": "markdown",
      "source": [
        "### Справочник 'МКБ'\n",
        "В данном ноутбуке справочник 'МКБ' формируется на основе нормативной документации. Далее можно использовать справочник, который используется в клинике."
      ],
      "metadata": {
        "id": "J1x7pe6pfZv5"
      }
    },
    {
      "cell_type": "code",
      "source": [
        "df_mkb_catalog = pd.read_excel('/content/drive/MyDrive/NU_files/стажировка/spr_mkb10.xls')\n",
        "df_mkb_catalog .info()"
      ],
      "metadata": {
        "id": "xhYa8QN0hhYw",
        "colab": {
          "base_uri": "https://localhost:8080/"
        },
        "outputId": "3bc6f087-3b24-4f27-c4e9-35afee40ff72"
      },
      "execution_count": 25,
      "outputs": [
        {
          "output_type": "stream",
          "name": "stdout",
          "text": [
            "<class 'pandas.core.frame.DataFrame'>\n",
            "RangeIndex: 12941 entries, 0 to 12940\n",
            "Data columns (total 3 columns):\n",
            " #   Column    Non-Null Count  Dtype \n",
            "---  ------    --------------  ----- \n",
            " 0   mkb_cod   12941 non-null  object\n",
            " 1   mkb_name  12941 non-null  object\n",
            " 2   class_id  12941 non-null  int64 \n",
            "dtypes: int64(1), object(2)\n",
            "memory usage: 303.4+ KB\n"
          ]
        }
      ]
    },
    {
      "cell_type": "code",
      "source": [
        "df_mkb_catalog['mkb_cod'][:5]"
      ],
      "metadata": {
        "colab": {
          "base_uri": "https://localhost:8080/"
        },
        "id": "Yzyf7Udif0fe",
        "outputId": "c391e5a3-7cc3-43c2-8a82-c72ba3c5dd99"
      },
      "execution_count": 26,
      "outputs": [
        {
          "output_type": "execute_result",
          "data": {
            "text/plain": [
              "0      A00\n",
              "1    A00.0\n",
              "2    A00.1\n",
              "3    A00.9\n",
              "4      A01\n",
              "Name: mkb_cod, dtype: object"
            ]
          },
          "metadata": {},
          "execution_count": 26
        }
      ]
    },
    {
      "cell_type": "code",
      "source": [
        "vocabulary_mkb = df_mkb_catalog['mkb_cod'].to_list()\n",
        "print(vocabulary_mkb[:10], '\\n')\n",
        "print('Длина справочника МКБ: ',len(vocabulary_mkb))"
      ],
      "metadata": {
        "colab": {
          "base_uri": "https://localhost:8080/"
        },
        "id": "18Rszqhvf0Z_",
        "outputId": "1aa7a272-62c6-4463-cece-7ac97eda5072"
      },
      "execution_count": 27,
      "outputs": [
        {
          "output_type": "stream",
          "name": "stdout",
          "text": [
            "['A00', 'A00.0', 'A00.1', 'A00.9', 'A01', 'A01.0', 'A01.1', 'A01.2', 'A01.3', 'A01.4'] \n",
            "\n",
            "Длина справочника МКБ:  12941\n"
          ]
        }
      ]
    },
    {
      "cell_type": "markdown",
      "source": [
        "### Справочник для векторизации"
      ],
      "metadata": {
        "id": "wjX_O2ABCfoj"
      }
    },
    {
      "cell_type": "code",
      "source": [
        "vocabulary = vocabulary_sex + vocabulary_dispensary + vocabulary_hfactor + vocabulary_mkb\n",
        "\n",
        "print(vocabulary[:10])\n",
        "print(vocabulary[230:240])\n",
        "print('Длина общего справочника: ',len(vocabulary))\n"
      ],
      "metadata": {
        "colab": {
          "base_uri": "https://localhost:8080/"
        },
        "id": "MEM1GkjigbeB",
        "outputId": "a767fec9-c589-4652-f983-d127d59ba43a"
      },
      "execution_count": 28,
      "outputs": [
        {
          "output_type": "stream",
          "name": "stdout",
          "text": [
            "['Женский', 'Мужской', 'I', 'IIIа', 'II', 'IIIб', '1.1', '1.2', '1.3', '1.4']\n",
            "['22', '23', '24', '25', '26', '27', 'A00', 'A00.0', 'A00.1', 'A00.9']\n",
            "Длина общего справочника:  13177\n"
          ]
        }
      ]
    },
    {
      "cell_type": "markdown",
      "source": [
        "## Tokenizer"
      ],
      "metadata": {
        "id": "Im6aoKgFc-zU"
      }
    },
    {
      "cell_type": "code",
      "source": [
        "max_tokens = len(vocabulary)+1\n",
        "tokenizer = Tokenizer(num_words=max_tokens, \n",
        "                             filters='!\"#$%&()*+-–—/…:;<=>?@[\\\\]^_`{|}~«»\\t\\n\\xa0\\ufeff', \n",
        "                             lower=False, \n",
        "                             split=',', \n",
        "                             oov_token='unknown', \n",
        "                             char_level=False)\n",
        "\n",
        "\n",
        "tokenizer.fit_on_texts(vocabulary)"
      ],
      "metadata": {
        "id": "1FRs689TuTQa"
      },
      "execution_count": 62,
      "outputs": []
    },
    {
      "cell_type": "code",
      "source": [
        "# print(tokenizer.word_index)"
      ],
      "metadata": {
        "id": "yFo0hD4WuUVn"
      },
      "execution_count": 111,
      "outputs": []
    },
    {
      "cell_type": "code",
      "source": [
        "def tokenization_x(arg):\n",
        "    # for i in arg:\n",
        "    #     print(i)\n",
        "    k = tokenizer.texts_to_sequences(arg)\n",
        "    n = tokenizer.sequences_to_matrix(k)\n",
        "    f = sum(n)\n",
        "    return f"
      ],
      "metadata": {
        "id": "Q0p8udb6u-Nh"
      },
      "execution_count": 68,
      "outputs": []
    },
    {
      "cell_type": "markdown",
      "source": [
        "# Формирование выборок"
      ],
      "metadata": {
        "id": "C_VKq00UC1qN"
      }
    },
    {
      "cell_type": "markdown",
      "source": [
        "##  xTrain"
      ],
      "metadata": {
        "id": "t_Oe9AaKh9Y2"
      }
    },
    {
      "cell_type": "code",
      "source": [
        "columns_xtrain = ['КлиентПолПредставление', 'ДиспансернаяГруппаПредставление', 'ВредныеФакторы'] + columns_mkb"
      ],
      "metadata": {
        "id": "nCNgrNLgim0h"
      },
      "execution_count": 32,
      "outputs": []
    },
    {
      "cell_type": "code",
      "source": [
        "print(len(columns_xtrain))\n",
        "print(columns_xtrain[:5])"
      ],
      "metadata": {
        "colab": {
          "base_uri": "https://localhost:8080/"
        },
        "id": "t26j5aRQjDP6",
        "outputId": "8b06c95b-bff8-4ad8-e69e-6bb35916a76e"
      },
      "execution_count": 33,
      "outputs": [
        {
          "output_type": "stream",
          "name": "stdout",
          "text": [
            "94\n",
            "['КлиентПолПредставление', 'ДиспансернаяГруппаПредставление', 'ВредныеФакторы', 'ПсихиатрияНаркология1_МКБ101', 'Офтальмология1_МКБ101']\n"
          ]
        }
      ]
    },
    {
      "cell_type": "code",
      "source": [
        "df['x_raw'] = df[columns_xtrain].astype(str).agg(','. join , axis= 1 ) "
      ],
      "metadata": {
        "id": "T5cQRBNGf0Xb"
      },
      "execution_count": 34,
      "outputs": []
    },
    {
      "cell_type": "code",
      "source": [
        "p = df['x_raw'][5]\n",
        "type(p)\n",
        "print(p)\n",
        "print(len(p))\n",
        "row_length = len(p)"
      ],
      "metadata": {
        "colab": {
          "base_uri": "https://localhost:8080/"
        },
        "id": "yCHU5Uf4f0Sm",
        "outputId": "420a7419-fbaa-4e74-81e9-3b9555dd5a6b"
      },
      "execution_count": 35,
      "outputs": [
        {
          "output_type": "stream",
          "name": "stdout",
          "text": [
            "Мужской,II,11.1,nan,H52.2,Z00.0,nan,nan,Z00.0,nan,nan,Z00.0,Z00.0,Z00.0,H53.0,Z00.0,nan,nan,nan,nan,nan,nan,nan,nan,nan,nan,nan,nan,nan,nan,nan,nan,nan,nan,nan,nan,nan,nan,nan,nan,nan,nan,nan,nan,nan,nan,nan,nan,nan,nan,nan,nan,nan,nan,nan,nan,nan,nan,nan,nan,nan,nan,nan,nan,nan,nan,nan,nan,nan,nan,nan,nan,nan,nan,nan,nan,nan,nan,nan,nan,nan,nan,nan,nan,nan,nan,nan,nan,nan,nan,nan,nan,nan,nan\n",
            "395\n"
          ]
        }
      ]
    },
    {
      "cell_type": "code",
      "source": [
        "d = re.split(r',', p)"
      ],
      "metadata": {
        "id": "MIZEzyum-mZ7"
      },
      "execution_count": 36,
      "outputs": []
    },
    {
      "cell_type": "code",
      "source": [
        "len(d)"
      ],
      "metadata": {
        "colab": {
          "base_uri": "https://localhost:8080/"
        },
        "id": "0nuEyjdI-rNm",
        "outputId": "bf79d64b-d747-4503-8c1a-a570364fb4be"
      },
      "execution_count": 37,
      "outputs": [
        {
          "output_type": "execute_result",
          "data": {
            "text/plain": [
              "94"
            ]
          },
          "metadata": {},
          "execution_count": 37
        }
      ]
    },
    {
      "cell_type": "code",
      "source": [
        "def x_train_cleandata(arg):\n",
        "    splitted = re.split(r',', arg)\n",
        "    # unique = splitted\n",
        "\n",
        "    \n",
        "    unique = []\n",
        "    for i in splitted:\n",
        "        if i not in unique:\n",
        "            unique.append(i)\n",
        "    unique.remove('nan') # убираем из значений nan\n",
        "    # while len(unique) < 30:\n",
        "    #     unique.append('0')\n",
        "    # unique = tuple(unique)\n",
        "    # unique = np.asarray(unique)\n",
        "    # unique = str(unique) # переводим значения в строки\n",
        "    \n",
        "    return unique"
      ],
      "metadata": {
        "id": "YVFTii-MjtdM"
      },
      "execution_count": 38,
      "outputs": []
    },
    {
      "cell_type": "code",
      "source": [
        "df['x_clean'] = df['x_raw'].apply(x_train_cleandata)"
      ],
      "metadata": {
        "id": "pZr9j3o8iejQ"
      },
      "execution_count": 39,
      "outputs": []
    },
    {
      "cell_type": "code",
      "source": [
        "x_whole = df['x_clean']"
      ],
      "metadata": {
        "id": "68maGnNIusY1"
      },
      "execution_count": 40,
      "outputs": []
    },
    {
      "cell_type": "code",
      "source": [
        "arg = x_whole[3]\n",
        "arg"
      ],
      "metadata": {
        "colab": {
          "base_uri": "https://localhost:8080/"
        },
        "id": "m5QzZyIeyPqw",
        "outputId": "8261ebdf-d55f-43c4-fca5-e1053323eac2"
      },
      "execution_count": 72,
      "outputs": [
        {
          "output_type": "execute_result",
          "data": {
            "text/plain": [
              "['Мужской', 'I', '11.1', 'Z00.0']"
            ]
          },
          "metadata": {},
          "execution_count": 72
        }
      ]
    },
    {
      "cell_type": "code",
      "source": [
        "k = tokenizer.texts_to_sequences(arg)\n",
        "n = tokenizer.sequences_to_matrix(k)\n",
        "f = sum(n)"
      ],
      "metadata": {
        "id": "1VTdkEWey4Fe"
      },
      "execution_count": 67,
      "outputs": []
    },
    {
      "cell_type": "code",
      "source": [
        "tokenization_x(x_whole[3])"
      ],
      "metadata": {
        "colab": {
          "base_uri": "https://localhost:8080/"
        },
        "id": "LeFfKBLuyUGR",
        "outputId": "60868a76-d5e4-4281-c7f7-d663e30d8046"
      },
      "execution_count": 71,
      "outputs": [
        {
          "output_type": "execute_result",
          "data": {
            "text/plain": [
              "array([0., 0., 0., ..., 0., 0., 0.])"
            ]
          },
          "metadata": {},
          "execution_count": 71
        }
      ]
    },
    {
      "cell_type": "code",
      "source": [
        "x_train = x_whole.map(tokenization_x)\n",
        "\n",
        "print(type(x_train))\n",
        "print(x_train.dtypes)"
      ],
      "metadata": {
        "colab": {
          "base_uri": "https://localhost:8080/"
        },
        "id": "DW5X549YvYQL",
        "outputId": "dd80f905-9562-45ce-96dd-ca1e5e72f607"
      },
      "execution_count": 73,
      "outputs": [
        {
          "output_type": "stream",
          "name": "stdout",
          "text": [
            "<class 'pandas.core.series.Series'>\n",
            "object\n"
          ]
        }
      ]
    },
    {
      "cell_type": "code",
      "source": [
        "x_train = x_train.apply(lambda x: pd.Series(flatten(x)))\n",
        "x_train_np = x_train.to_numpy()\n",
        "\n",
        "print(type(x_train_np))\n",
        "print(x_train_np)\n",
        "print(x_train_np.shape)"
      ],
      "metadata": {
        "colab": {
          "base_uri": "https://localhost:8080/"
        },
        "id": "-oePfC1avcZx",
        "outputId": "fb0cdc26-ffb9-41fb-e59a-fbdf3cac5e21"
      },
      "execution_count": 74,
      "outputs": [
        {
          "output_type": "stream",
          "name": "stdout",
          "text": [
            "<class 'numpy.ndarray'>\n",
            "[[0. 0. 1. ... 0. 0. 0.]\n",
            " [0. 0. 0. ... 0. 0. 0.]\n",
            " [0. 0. 0. ... 0. 0. 0.]\n",
            " ...\n",
            " [0. 0. 0. ... 0. 0. 0.]\n",
            " [0. 0. 0. ... 0. 0. 0.]\n",
            " [0. 0. 0. ... 0. 0. 0.]]\n",
            "(1571, 13178)\n"
          ]
        }
      ]
    },
    {
      "cell_type": "markdown",
      "source": [
        "## yTrain"
      ],
      "metadata": {
        "id": "rq7Alql2huBi"
      }
    },
    {
      "cell_type": "code",
      "source": [
        "columns[:6]"
      ],
      "metadata": {
        "colab": {
          "base_uri": "https://localhost:8080/"
        },
        "id": "j5wprRsfmlGI",
        "outputId": "d9e94574-b64c-485f-b47b-b79b458f5de2"
      },
      "execution_count": 75,
      "outputs": [
        {
          "output_type": "execute_result",
          "data": {
            "text/plain": [
              "Index(['КлиентПолПредставление', 'Возраст', 'ДиспансернаяГруппаПредставление',\n",
              "       'Профессия', 'ВредныеФакторы', 'ЗаключениеМК'],\n",
              "      dtype='object')"
            ]
          },
          "metadata": {},
          "execution_count": 75
        }
      ]
    },
    {
      "cell_type": "code",
      "source": [
        "df['ЗаключениеМК'].unique()"
      ],
      "metadata": {
        "colab": {
          "base_uri": "https://localhost:8080/"
        },
        "id": "9X1xm3PciGpv",
        "outputId": "f4a23bdf-95d2-460c-cfde-d0ac6cb47348"
      },
      "execution_count": 76,
      "outputs": [
        {
          "output_type": "execute_result",
          "data": {
            "text/plain": [
              "array(['Годен', 'ГоденСКоррекциейЗрения', 'ГоденБезРаботНаВысотах',\n",
              "       'НуждаетсяВДообследованииИЛечении', 'ВременноНегоден',\n",
              "       'ОграниченноГоден'], dtype=object)"
            ]
          },
          "metadata": {},
          "execution_count": 76
        }
      ]
    },
    {
      "cell_type": "code",
      "source": [
        "df['ЗаключениеМК'].value_counts()"
      ],
      "metadata": {
        "colab": {
          "base_uri": "https://localhost:8080/"
        },
        "id": "aJkoV0VpoNkM",
        "outputId": "8c0709e7-ddf0-419c-d67f-f2897eadad8e"
      },
      "execution_count": 77,
      "outputs": [
        {
          "output_type": "execute_result",
          "data": {
            "text/plain": [
              "Годен                               1434\n",
              "ГоденСКоррекциейЗрения               123\n",
              "ВременноНегоден                        9\n",
              "НуждаетсяВДообследованииИЛечении       2\n",
              "ОграниченноГоден                       2\n",
              "ГоденБезРаботНаВысотах                 1\n",
              "Name: ЗаключениеМК, dtype: int64"
            ]
          },
          "metadata": {},
          "execution_count": 77
        }
      ]
    },
    {
      "cell_type": "code",
      "source": [
        "limited_eff = ['ГоденСКоррекциейЗрения', 'ГоденБезРаботНаВысотах', 'ОграниченноГоден']"
      ],
      "metadata": {
        "id": "avC_xSyDokhh"
      },
      "execution_count": 78,
      "outputs": []
    },
    {
      "cell_type": "code",
      "source": [
        "def y_train(arg):\n",
        "    \n",
        "    limited_eff = ['ГоденСКоррекциейЗрения', 'ГоденБезРаботНаВысотах', 'ОграниченноГоден']\n",
        "    \n",
        "    if arg == 'Годен': y = 0\n",
        "    \n",
        "    elif arg in limited_eff: y = 1\n",
        "    # elif arg == 'ГоденБезРаботНаВысотах': y = 1\n",
        "    # elif arg == 'ОграниченноГоден': y = 1\n",
        "\n",
        "    else: y = 2\n",
        "\n",
        "    return utils.to_categorical(y, num_classes=3)"
      ],
      "metadata": {
        "id": "8NBtQyQenUMZ"
      },
      "execution_count": 79,
      "outputs": []
    },
    {
      "cell_type": "code",
      "source": [
        "df['y_train'] = df['ЗаключениеМК'].apply(y_train)"
      ],
      "metadata": {
        "id": "pRcQa13_pNCZ"
      },
      "execution_count": 80,
      "outputs": []
    },
    {
      "cell_type": "code",
      "source": [
        "print(df['y_train'][:5], '\\n')\n",
        "# print('Количество значений в каждой группе:')\n",
        "# print(df['y_train'].value_counts())"
      ],
      "metadata": {
        "colab": {
          "base_uri": "https://localhost:8080/"
        },
        "id": "ARdWvfVrpb_q",
        "outputId": "677a70ae-8675-43ce-d2ec-20ada8f5536a"
      },
      "execution_count": 81,
      "outputs": [
        {
          "output_type": "stream",
          "name": "stdout",
          "text": [
            "0    [1.0, 0.0, 0.0]\n",
            "1    [1.0, 0.0, 0.0]\n",
            "2    [0.0, 1.0, 0.0]\n",
            "3    [1.0, 0.0, 0.0]\n",
            "4    [0.0, 1.0, 0.0]\n",
            "Name: y_train, dtype: object \n",
            "\n"
          ]
        }
      ]
    },
    {
      "cell_type": "code",
      "source": [
        "y_whole = df['y_train']"
      ],
      "metadata": {
        "id": "p8i9MYbewYj9"
      },
      "execution_count": 82,
      "outputs": []
    },
    {
      "cell_type": "code",
      "source": [
        "y_train = y_whole.apply(lambda x: pd.Series(flatten(x)))\n",
        "y_train_np = y_train.to_numpy()\n",
        "\n",
        "print(type(y_train_np))\n",
        "print(y_train_np)\n",
        "print(y_train_np.shape)"
      ],
      "metadata": {
        "colab": {
          "base_uri": "https://localhost:8080/"
        },
        "id": "H8eRmZhcvREX",
        "outputId": "fbab18dc-b374-4c23-bc3a-f00d63f7637d"
      },
      "execution_count": 84,
      "outputs": [
        {
          "output_type": "stream",
          "name": "stdout",
          "text": [
            "<class 'numpy.ndarray'>\n",
            "[[1. 0. 0.]\n",
            " [1. 0. 0.]\n",
            " [0. 1. 0.]\n",
            " ...\n",
            " [1. 0. 0.]\n",
            " [1. 0. 0.]\n",
            " [1. 0. 0.]]\n",
            "(1571, 3)\n"
          ]
        }
      ]
    },
    {
      "cell_type": "markdown",
      "source": [
        "## Обучающая и тестовая выборка"
      ],
      "metadata": {
        "id": "isSf4_pGZKDw"
      }
    },
    {
      "cell_type": "code",
      "source": [
        "# x_whole, y_whole = df['x_clean'], df['y_train']\n",
        "\n",
        "x_train_dataset, x_test_dataset, y_train_dataset, y_test_dataset = train_test_split(\n",
        "                                                                                    x_train_np, y_train_np,\n",
        "                                                                                    train_size=0.8,\n",
        "                                                                                    test_size=0.2,\n",
        "                                                                                    random_state=42,\n",
        "                                                                                    shuffle = False,      # перемешиваем выборку (нет)\n",
        "                                                                                    stratify=None    # равномерно распределяем по категорииям (нет)\n",
        "    )\n",
        "\n",
        "print(x_whole[0], y_whole[0])\n",
        "print()\n",
        "print('x_whole.shape', x_whole.shape)\n",
        "print('y_whole.shape', y_whole.shape)\n",
        "print()\n",
        "print('x_train.shape', x_train_dataset.shape, type(x_train_dataset[0]),type(x_train_dataset))\n",
        "print('y_train.shape', y_train_dataset.shape, type(y_train_dataset[0]),type(y_train_dataset))\n",
        "print()\n",
        "print('x_test.shape:', x_test_dataset.shape)\n",
        "print('y_test.shape:', y_test_dataset.shape)"
      ],
      "metadata": {
        "id": "Jx196XgxZMl8",
        "colab": {
          "base_uri": "https://localhost:8080/"
        },
        "outputId": "36517a58-1293-4ca6-80ac-d8f7d9f8aba0"
      },
      "execution_count": 85,
      "outputs": [
        {
          "output_type": "stream",
          "name": "stdout",
          "text": [
            "['Женский', 'I', '11.4', 'Z00.0'] [1. 0. 0.]\n",
            "\n",
            "x_whole.shape (1571,)\n",
            "y_whole.shape (1571,)\n",
            "\n",
            "x_train.shape (1256, 13178) <class 'numpy.ndarray'> <class 'numpy.ndarray'>\n",
            "y_train.shape (1256, 3) <class 'numpy.ndarray'> <class 'numpy.ndarray'>\n",
            "\n",
            "x_test.shape: (315, 13178)\n",
            "y_test.shape: (315, 3)\n"
          ]
        }
      ]
    },
    {
      "cell_type": "markdown",
      "source": [
        "## Нейросеть (1)"
      ],
      "metadata": {
        "id": "eTWugn5At3nW"
      }
    },
    {
      "cell_type": "code",
      "source": [
        "model_1 = Sequential()\n",
        "model_1.add(Dense(32, activation = 'relu', input_shape=(13178,)))\n",
        "model_1.add(Dense(32, activation = 'relu'))\n",
        "model_1.add(Dense(3, activation = 'softmax'))\n",
        "\n",
        "model_1.summary()\n"
      ],
      "metadata": {
        "colab": {
          "base_uri": "https://localhost:8080/"
        },
        "id": "OqL_ql5huzAb",
        "outputId": "5a1ebb87-cfe3-4f56-9ec6-bb12e631ba56"
      },
      "execution_count": 91,
      "outputs": [
        {
          "output_type": "stream",
          "name": "stdout",
          "text": [
            "Model: \"sequential_1\"\n",
            "_________________________________________________________________\n",
            " Layer (type)                Output Shape              Param #   \n",
            "=================================================================\n",
            " dense_3 (Dense)             (None, 32)                421728    \n",
            "                                                                 \n",
            " dense_4 (Dense)             (None, 32)                1056      \n",
            "                                                                 \n",
            " dense_5 (Dense)             (None, 3)                 99        \n",
            "                                                                 \n",
            "=================================================================\n",
            "Total params: 422,883\n",
            "Trainable params: 422,883\n",
            "Non-trainable params: 0\n",
            "_________________________________________________________________\n"
          ]
        }
      ]
    },
    {
      "cell_type": "markdown",
      "source": [
        "### metrics=['accuracy']"
      ],
      "metadata": {
        "id": "mWJysaai1o3z"
      }
    },
    {
      "cell_type": "code",
      "source": [
        "model_1.compile(optimizer='adam', \n",
        "                loss='categorical_crossentropy', \n",
        "                metrics=['accuracy'])"
      ],
      "metadata": {
        "id": "k75lxyEwvfD0"
      },
      "execution_count": 94,
      "outputs": []
    },
    {
      "cell_type": "code",
      "source": [
        "history = model_1.fit(x_train_dataset, y_train_dataset, batch_size=32, epochs=30, validation_data=(x_test_dataset, y_test_dataset))"
      ],
      "metadata": {
        "colab": {
          "base_uri": "https://localhost:8080/"
        },
        "id": "OWtGqnqAve5o",
        "outputId": "fbf3e136-670c-4593-daa1-31ae6b9e991a"
      },
      "execution_count": 95,
      "outputs": [
        {
          "output_type": "stream",
          "name": "stdout",
          "text": [
            "Epoch 1/30\n",
            "40/40 [==============================] - 1s 14ms/step - loss: 0.8036 - accuracy: 0.9005 - val_loss: 0.3794 - val_accuracy: 0.9365\n",
            "Epoch 2/30\n",
            "40/40 [==============================] - 0s 10ms/step - loss: 0.3597 - accuracy: 0.9068 - val_loss: 0.2658 - val_accuracy: 0.9365\n",
            "Epoch 3/30\n",
            "40/40 [==============================] - 0s 10ms/step - loss: 0.2918 - accuracy: 0.9068 - val_loss: 0.2404 - val_accuracy: 0.9365\n",
            "Epoch 4/30\n",
            "40/40 [==============================] - 0s 9ms/step - loss: 0.2533 - accuracy: 0.9068 - val_loss: 0.2256 - val_accuracy: 0.9365\n",
            "Epoch 5/30\n",
            "40/40 [==============================] - 0s 8ms/step - loss: 0.2311 - accuracy: 0.9068 - val_loss: 0.2181 - val_accuracy: 0.9365\n",
            "Epoch 6/30\n",
            "40/40 [==============================] - 0s 10ms/step - loss: 0.2146 - accuracy: 0.9061 - val_loss: 0.2166 - val_accuracy: 0.9365\n",
            "Epoch 7/30\n",
            "40/40 [==============================] - 0s 9ms/step - loss: 0.2079 - accuracy: 0.9132 - val_loss: 0.2146 - val_accuracy: 0.9333\n",
            "Epoch 8/30\n",
            "40/40 [==============================] - 0s 9ms/step - loss: 0.1972 - accuracy: 0.9140 - val_loss: 0.2150 - val_accuracy: 0.9238\n",
            "Epoch 9/30\n",
            "40/40 [==============================] - 0s 9ms/step - loss: 0.1913 - accuracy: 0.9220 - val_loss: 0.2145 - val_accuracy: 0.9270\n",
            "Epoch 10/30\n",
            "40/40 [==============================] - 0s 10ms/step - loss: 0.1846 - accuracy: 0.9180 - val_loss: 0.2132 - val_accuracy: 0.9270\n",
            "Epoch 11/30\n",
            "40/40 [==============================] - 0s 9ms/step - loss: 0.1831 - accuracy: 0.9180 - val_loss: 0.2132 - val_accuracy: 0.9270\n",
            "Epoch 12/30\n",
            "40/40 [==============================] - 0s 9ms/step - loss: 0.1783 - accuracy: 0.9220 - val_loss: 0.2153 - val_accuracy: 0.9270\n",
            "Epoch 13/30\n",
            "40/40 [==============================] - 0s 9ms/step - loss: 0.1729 - accuracy: 0.9220 - val_loss: 0.2142 - val_accuracy: 0.9270\n",
            "Epoch 14/30\n",
            "40/40 [==============================] - 0s 10ms/step - loss: 0.1710 - accuracy: 0.9212 - val_loss: 0.2151 - val_accuracy: 0.9270\n",
            "Epoch 15/30\n",
            "40/40 [==============================] - 0s 9ms/step - loss: 0.1678 - accuracy: 0.9291 - val_loss: 0.2188 - val_accuracy: 0.9270\n",
            "Epoch 16/30\n",
            "40/40 [==============================] - 0s 11ms/step - loss: 0.1648 - accuracy: 0.9291 - val_loss: 0.2138 - val_accuracy: 0.9270\n",
            "Epoch 17/30\n",
            "40/40 [==============================] - 1s 14ms/step - loss: 0.1607 - accuracy: 0.9268 - val_loss: 0.2144 - val_accuracy: 0.9206\n",
            "Epoch 18/30\n",
            "40/40 [==============================] - 1s 13ms/step - loss: 0.1578 - accuracy: 0.9268 - val_loss: 0.2167 - val_accuracy: 0.9206\n",
            "Epoch 19/30\n",
            "40/40 [==============================] - 1s 13ms/step - loss: 0.1553 - accuracy: 0.9339 - val_loss: 0.2163 - val_accuracy: 0.9206\n",
            "Epoch 20/30\n",
            "40/40 [==============================] - 1s 14ms/step - loss: 0.1506 - accuracy: 0.9347 - val_loss: 0.2233 - val_accuracy: 0.9270\n",
            "Epoch 21/30\n",
            "40/40 [==============================] - 1s 13ms/step - loss: 0.1494 - accuracy: 0.9387 - val_loss: 0.2230 - val_accuracy: 0.9238\n",
            "Epoch 22/30\n",
            "40/40 [==============================] - 1s 29ms/step - loss: 0.1487 - accuracy: 0.9403 - val_loss: 0.2228 - val_accuracy: 0.9206\n",
            "Epoch 23/30\n",
            "40/40 [==============================] - 1s 16ms/step - loss: 0.1431 - accuracy: 0.9403 - val_loss: 0.2185 - val_accuracy: 0.9206\n",
            "Epoch 24/30\n",
            "40/40 [==============================] - 0s 10ms/step - loss: 0.1408 - accuracy: 0.9411 - val_loss: 0.2251 - val_accuracy: 0.9302\n",
            "Epoch 25/30\n",
            "40/40 [==============================] - 0s 10ms/step - loss: 0.1384 - accuracy: 0.9451 - val_loss: 0.2213 - val_accuracy: 0.9175\n",
            "Epoch 26/30\n",
            "40/40 [==============================] - 0s 10ms/step - loss: 0.1353 - accuracy: 0.9435 - val_loss: 0.2224 - val_accuracy: 0.9143\n",
            "Epoch 27/30\n",
            "40/40 [==============================] - 0s 10ms/step - loss: 0.1332 - accuracy: 0.9459 - val_loss: 0.2246 - val_accuracy: 0.9270\n",
            "Epoch 28/30\n",
            "40/40 [==============================] - 0s 10ms/step - loss: 0.1304 - accuracy: 0.9395 - val_loss: 0.2260 - val_accuracy: 0.9143\n",
            "Epoch 29/30\n",
            "40/40 [==============================] - 0s 9ms/step - loss: 0.1267 - accuracy: 0.9467 - val_loss: 0.2340 - val_accuracy: 0.9270\n",
            "Epoch 30/30\n",
            "40/40 [==============================] - 0s 9ms/step - loss: 0.1230 - accuracy: 0.9498 - val_loss: 0.2325 - val_accuracy: 0.9111\n"
          ]
        }
      ]
    },
    {
      "cell_type": "markdown",
      "source": [
        "### metrics=['f1_score']"
      ],
      "metadata": {
        "id": "PufMhK7o1fLL"
      }
    },
    {
      "cell_type": "code",
      "source": [
        "model_1.compile(optimizer='adam', \n",
        "                loss='categorical_crossentropy', \n",
        "                metrics=[''])"
      ],
      "metadata": {
        "id": "OfyHUinS04Wo"
      },
      "execution_count": 106,
      "outputs": []
    },
    {
      "cell_type": "code",
      "source": [
        "# history = model_1.fit(x_train_dataset, y_train_dataset, batch_size=32, epochs=30, validation_data=(x_test_dataset, y_test_dataset))"
      ],
      "metadata": {
        "id": "IUwch7_b2X9b"
      },
      "execution_count": 108,
      "outputs": []
    },
    {
      "cell_type": "markdown",
      "source": [
        "# Расширение данных на основе нормативной документации"
      ],
      "metadata": {
        "id": "upyMXDPPe4OI"
      }
    },
    {
      "cell_type": "code",
      "source": [
        "df_extension = pd.read_excel('/content/drive/MyDrive/NU_files/стажировка/spr_mkb10.xls')"
      ],
      "metadata": {
        "id": "2Awwz_T8e2r8"
      },
      "execution_count": null,
      "outputs": []
    },
    {
      "cell_type": "code",
      "source": [
        "df_extension.head()"
      ],
      "metadata": {
        "id": "iNblKDWvfkVG"
      },
      "execution_count": null,
      "outputs": []
    },
    {
      "cell_type": "code",
      "source": [
        "df_extension = df_extension.drop('class_id', axis=1)\n",
        "df_extension.head()"
      ],
      "metadata": {
        "id": "PnTbB_uffthm"
      },
      "execution_count": null,
      "outputs": []
    },
    {
      "cell_type": "code",
      "source": [
        "# list_1 = df_extension['mkb_cod']"
      ],
      "metadata": {
        "id": "lwGcgasSh9GP"
      },
      "execution_count": null,
      "outputs": []
    },
    {
      "cell_type": "code",
      "source": [
        "# def extension(arg):\n",
        "#     mkb = df_extension['mkb_cod']\n",
        "#     if mkb in list_1:\n",
        "#         df_extension['factors_diseased'] "
      ],
      "metadata": {
        "id": "oIpomhqFgCyY"
      },
      "execution_count": null,
      "outputs": []
    },
    {
      "cell_type": "code",
      "source": [
        "vocabulary_mkb[:5]"
      ],
      "metadata": {
        "id": "70wnQttVrLZu"
      },
      "execution_count": null,
      "outputs": []
    },
    {
      "cell_type": "code",
      "source": [
        "print(vocabulary_mkb.index('A00'))\n",
        "print(vocabulary_mkb.index('A09'))"
      ],
      "metadata": {
        "id": "pe61ruWwrT1Z"
      },
      "execution_count": null,
      "outputs": []
    },
    {
      "cell_type": "code",
      "source": [
        "list_1 = vocabulary_mkb[0:68]\n",
        "list_1"
      ],
      "metadata": {
        "id": "PQm6fz6Ir-OP"
      },
      "execution_count": null,
      "outputs": []
    },
    {
      "cell_type": "code",
      "source": [
        "import random\n",
        "\n",
        "random.choice(list_1)"
      ],
      "metadata": {
        "id": "JHahbdCRslyv"
      },
      "execution_count": null,
      "outputs": []
    },
    {
      "cell_type": "code",
      "source": [
        "vocabulary_mkb.index('E84')"
      ],
      "metadata": {
        "id": "t70BijOfyGnx"
      },
      "execution_count": null,
      "outputs": []
    },
    {
      "cell_type": "code",
      "source": [
        "vocabulary_mkb[vocabulary_mkb.index('E84'):2420]\n",
        "# print(vocabulary_mkb.index('A09'))"
      ],
      "metadata": {
        "id": "q2vrs0q9sKl0"
      },
      "execution_count": null,
      "outputs": []
    }
  ]
}