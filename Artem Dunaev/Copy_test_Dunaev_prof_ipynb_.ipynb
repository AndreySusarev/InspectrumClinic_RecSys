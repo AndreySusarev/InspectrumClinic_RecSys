{
  "nbformat": 4,
  "nbformat_minor": 0,
  "metadata": {
    "colab": {
      "provenance": []
    },
    "kernelspec": {
      "name": "python3",
      "display_name": "Python 3"
    },
    "language_info": {
      "name": "python"
    }
  },
  "cells": [
    {
      "cell_type": "code",
      "execution_count": 72,
      "metadata": {
        "id": "jYjmmkF_H8cn"
      },
      "outputs": [],
      "source": [
        "%matplotlib inline\n",
        "\n",
        "import pandas as pd\n",
        "import matplotlib.pyplot as plt\n",
        "from tensorflow.keras import utils\n",
        "from tensorflow.keras.models import Sequential, Model\n",
        "from tensorflow.keras.layers import Dense, Activation, Dropout, BatchNormalization, Input, concatenate\n",
        "from tensorflow.keras.optimizers import Adam, Adadelta\n",
        "from tensorflow.keras.metrics import Precision\n",
        "from sklearn.model_selection import train_test_split \n",
        "import numpy as np\n",
        "from keras.preprocessing.text import Tokenizer, text_to_word_sequence,tokenizer_from_json \n",
        "\n",
        "from sklearn.preprocessing import StandardScaler, LabelEncoder\n",
        "import sklearn.metrics\n",
        "\n",
        "from sklearn.preprocessing import StandardScaler\n",
        "from sklearn.cluster import KMeans\n",
        "import time\n",
        "import re"
      ]
    },
    {
      "cell_type": "code",
      "source": [
        "from google.colab import drive\n",
        "drive.mount('/content/drive')"
      ],
      "metadata": {
        "colab": {
          "base_uri": "https://localhost:8080/"
        },
        "id": "A_L_xANzH96C",
        "outputId": "7fe99dd9-8e47-4228-b1e8-e18906ee1c8d"
      },
      "execution_count": 3,
      "outputs": [
        {
          "output_type": "stream",
          "name": "stdout",
          "text": [
            "Mounted at /content/drive\n"
          ]
        }
      ]
    },
    {
      "cell_type": "markdown",
      "source": [
        "**Подгружаем датасет, чистим от мусора, преобразуем данные к единому формату**"
      ],
      "metadata": {
        "id": "qQ7jCc1dKOhS"
      }
    },
    {
      "cell_type": "code",
      "source": [
        "df = pd.read_excel('/content/drive/MyDrive/Colab Notebooks/Стажировка/data2.xlsx')"
      ],
      "metadata": {
        "id": "zRoRDkL_IAkn"
      },
      "execution_count": 4,
      "outputs": []
    },
    {
      "cell_type": "code",
      "source": [
        "column_list = df.columns.tolist()"
      ],
      "metadata": {
        "id": "M_bsPgzVIuU9"
      },
      "execution_count": 5,
      "outputs": []
    },
    {
      "cell_type": "code",
      "source": [
        "df_1 = df.dropna(axis=0, how='all')\n",
        "df_2 = df_1.dropna(axis=1, how='all')"
      ],
      "metadata": {
        "id": "ZqCsHxe6lK8L"
      },
      "execution_count": 6,
      "outputs": []
    },
    {
      "cell_type": "code",
      "source": [
        "df_list_1 = []\n",
        "for i in column_list:\n",
        "  if \"МКБ\" in i:\n",
        "    df_list_1.append(i)"
      ],
      "metadata": {
        "id": "qaFkReIF7UGi"
      },
      "execution_count": 7,
      "outputs": []
    },
    {
      "cell_type": "code",
      "source": [
        "df2=df_2[df_list_1]"
      ],
      "metadata": {
        "id": "t27C7cbIUgZM"
      },
      "execution_count": 8,
      "outputs": []
    },
    {
      "cell_type": "code",
      "source": [
        "df2.fillna(0, inplace=True)"
      ],
      "metadata": {
        "colab": {
          "base_uri": "https://localhost:8080/"
        },
        "id": "7kQMPNM_ClO-",
        "outputId": "1aea91a0-d9d4-4421-81c9-4287b79902ed"
      },
      "execution_count": 9,
      "outputs": [
        {
          "output_type": "stream",
          "name": "stderr",
          "text": [
            "<ipython-input-9-32f74130add2>:1: SettingWithCopyWarning: \n",
            "A value is trying to be set on a copy of a slice from a DataFrame\n",
            "\n",
            "See the caveats in the documentation: https://pandas.pydata.org/pandas-docs/stable/user_guide/indexing.html#returning-a-view-versus-a-copy\n",
            "  df2.fillna(0, inplace=True)\n"
          ]
        }
      ]
    },
    {
      "cell_type": "code",
      "source": [
        "df3=df[[\n",
        "  'КлиентДатаРождения',\n",
        "  'КлиентПол',\n",
        "  'Профессия',\n",
        "  'ЗаключениеМК',\n",
        "  'ДиспансернаяГруппа',\n",
        "  'ВредныеФакторы']]"
      ],
      "metadata": {
        "id": "lSD-lEU85GFB"
      },
      "execution_count": 10,
      "outputs": []
    },
    {
      "cell_type": "code",
      "source": [
        "df_full=pd.concat([df3,df2], axis=1, sort=False)"
      ],
      "metadata": {
        "id": "n9oAW7_7NA7A"
      },
      "execution_count": 11,
      "outputs": []
    },
    {
      "cell_type": "code",
      "source": [
        "df_full_1=df_full.dropna(subset=['ЗаключениеМК'])"
      ],
      "metadata": {
        "id": "ydqvVhudN3lZ"
      },
      "execution_count": 12,
      "outputs": []
    },
    {
      "cell_type": "code",
      "source": [
        "df_full_1['КлиентДатаРождения'] = pd.to_datetime(df_full_1['КлиентДатаРождения'], errors=\"coerce\")\n",
        "df_full_1[\"Возраст\"] = \\\n",
        "    (pd.to_datetime(\"today\") - df_full_1[\"КлиентДатаРождения\"]).astype('<m8[Y]')"
      ],
      "metadata": {
        "colab": {
          "base_uri": "https://localhost:8080/"
        },
        "id": "TjOW8vAOeIZO",
        "outputId": "d4b5b789-93a2-455a-cf50-b2d05aaf7a0b"
      },
      "execution_count": 13,
      "outputs": [
        {
          "output_type": "stream",
          "name": "stderr",
          "text": [
            "<ipython-input-13-b3a31f71bf19>:1: SettingWithCopyWarning: \n",
            "A value is trying to be set on a copy of a slice from a DataFrame.\n",
            "Try using .loc[row_indexer,col_indexer] = value instead\n",
            "\n",
            "See the caveats in the documentation: https://pandas.pydata.org/pandas-docs/stable/user_guide/indexing.html#returning-a-view-versus-a-copy\n",
            "  df_full_1['КлиентДатаРождения'] = pd.to_datetime(df_full_1['КлиентДатаРождения'], errors=\"coerce\")\n",
            "<ipython-input-13-b3a31f71bf19>:2: SettingWithCopyWarning: \n",
            "A value is trying to be set on a copy of a slice from a DataFrame.\n",
            "Try using .loc[row_indexer,col_indexer] = value instead\n",
            "\n",
            "See the caveats in the documentation: https://pandas.pydata.org/pandas-docs/stable/user_guide/indexing.html#returning-a-view-versus-a-copy\n",
            "  df_full_1[\"Возраст\"] = \\\n"
          ]
        }
      ]
    },
    {
      "cell_type": "code",
      "source": [
        "df_full_1['КлиентДатаРождения']=df_full_1[\"Возраст\"]"
      ],
      "metadata": {
        "colab": {
          "base_uri": "https://localhost:8080/"
        },
        "id": "aOUBgFRofXQY",
        "outputId": "35c5c418-767b-4c65-a189-f086f6791417"
      },
      "execution_count": 14,
      "outputs": [
        {
          "output_type": "stream",
          "name": "stderr",
          "text": [
            "<ipython-input-14-d8f2baee0d43>:1: SettingWithCopyWarning: \n",
            "A value is trying to be set on a copy of a slice from a DataFrame.\n",
            "Try using .loc[row_indexer,col_indexer] = value instead\n",
            "\n",
            "See the caveats in the documentation: https://pandas.pydata.org/pandas-docs/stable/user_guide/indexing.html#returning-a-view-versus-a-copy\n",
            "  df_full_1['КлиентДатаРождения']=df_full_1[\"Возраст\"]\n"
          ]
        }
      ]
    },
    {
      "cell_type": "code",
      "source": [
        "df_full_1 = df_full_1.drop(columns='Возраст')"
      ],
      "metadata": {
        "id": "7LkYJpdbfuLy"
      },
      "execution_count": 15,
      "outputs": []
    },
    {
      "cell_type": "code",
      "source": [
        "df_full_1.loc[df_full_1['КлиентПол'] == \"Женский\", 'КлиентПол'] = 0\n",
        "df_full_1.loc[df_full_1['КлиентПол'] == \"Мужской\", 'КлиентПол'] = 1"
      ],
      "metadata": {
        "id": "S9JLBnC6dhdW"
      },
      "execution_count": 16,
      "outputs": []
    },
    {
      "cell_type": "code",
      "source": [
        "df_full_1[\"КлиентДатаРождения\"]=df_full_1[\"КлиентДатаРождения\"].astype (int)"
      ],
      "metadata": {
        "id": "MuvOq1Brn9IV"
      },
      "execution_count": 17,
      "outputs": []
    },
    {
      "cell_type": "code",
      "source": [
        "def getParameterAgeVect(arg):\n",
        "    outClass =int((arg-13)/5)\n",
        "    outClass = max(0, min(10,outClass))\n",
        "    return outClass"
      ],
      "metadata": {
        "id": "C8NwQUH8nfYs"
      },
      "execution_count": 18,
      "outputs": []
    },
    {
      "cell_type": "code",
      "source": [
        "df_full_1['ВозрастКатегория'] = df_full_1['КлиентДатаРождения'].apply(getParameterAgeVect)"
      ],
      "metadata": {
        "id": "541xA4W6qfo0"
      },
      "execution_count": 19,
      "outputs": []
    },
    {
      "cell_type": "code",
      "source": [
        "df_full_1 = df_full_1.drop(columns='КлиентДатаРождения')"
      ],
      "metadata": {
        "id": "AeR4AvrJrEzw"
      },
      "execution_count": 20,
      "outputs": []
    },
    {
      "cell_type": "code",
      "source": [
        "df_full_1[\"ЗаключениеМК\"].unique ()"
      ],
      "metadata": {
        "colab": {
          "base_uri": "https://localhost:8080/"
        },
        "id": "3HSQX6FOmquz",
        "outputId": "74910b38-9b74-438f-df1f-4e46821f4cca"
      },
      "execution_count": 21,
      "outputs": [
        {
          "output_type": "execute_result",
          "data": {
            "text/plain": [
              "array(['Годен', 'ГоденСКоррекциейЗрения', 'ГоденБезРаботНаВысотах',\n",
              "       'НуждаетсяВДообследованииИЛечении', 'ВременноНегоден',\n",
              "       'ОграниченноГоден', 'машинист бульдозера', 'Газоспасатель',\n",
              "       ' Газоспасатель'], dtype=object)"
            ]
          },
          "metadata": {},
          "execution_count": 21
        }
      ]
    },
    {
      "cell_type": "markdown",
      "source": [
        "**\"машинист бульдозера\", 'Газоспасатель', ' Газоспасатель' - явно лишние в заключении мед комиссии. **"
      ],
      "metadata": {
        "id": "H2bcQaCvKfYt"
      }
    },
    {
      "cell_type": "code",
      "source": [
        "new = df_full_1.loc[~df['ЗаключениеМК'].isin([\"машинист бульдозера\", 'Газоспасатель', ' Газоспасатель'])]"
      ],
      "metadata": {
        "id": "0eY9Gv97oBMr"
      },
      "execution_count": 22,
      "outputs": []
    },
    {
      "cell_type": "code",
      "source": [
        "new[\"ЗаключениеМК\"].unique()"
      ],
      "metadata": {
        "colab": {
          "base_uri": "https://localhost:8080/"
        },
        "id": "YNUFtdsRnhE9",
        "outputId": "3f2c870e-e106-49f9-bdb5-4d7ec9b7644c"
      },
      "execution_count": 23,
      "outputs": [
        {
          "output_type": "execute_result",
          "data": {
            "text/plain": [
              "array(['Годен', 'ГоденСКоррекциейЗрения', 'ГоденБезРаботНаВысотах',\n",
              "       'НуждаетсяВДообследованииИЛечении', 'ВременноНегоден',\n",
              "       'ОграниченноГоден'], dtype=object)"
            ]
          },
          "metadata": {},
          "execution_count": 23
        }
      ]
    },
    {
      "cell_type": "markdown",
      "source": [
        "**Разделяю на 2 класса.**\n",
        "\n",
        "**0 = годен,**\n",
        "\n",
        "**1  =Ограниченно годен, ВременноНегоден, НуждаетсяВДообследованииИЛечении и др.**\n",
        "\n",
        "**Кол-ва примеров в датасэте недостаточно для получения большей точности на большем кол-ве классов. Необходимо увеличить кол-во примеров для других классов кроме класса годен.**"
      ],
      "metadata": {
        "id": "DhE15FGirtvN"
      }
    },
    {
      "cell_type": "code",
      "source": [
        "new.loc[new['ЗаключениеМК'] == \"Годен\", 'ЗаключениеМК'] = 0\n",
        "new.loc[new['ЗаключениеМК'] == \"ГоденСКоррекциейЗрения\", 'ЗаключениеМК'] = 1\n",
        "new.loc[new['ЗаключениеМК'] == \"ГоденБезРаботНаВысотах\", 'ЗаключениеМК'] = 1\n",
        "new.loc[new['ЗаключениеМК'] == \"НуждаетсяВДообследованииИЛечении\", 'ЗаключениеМК'] = 1\n",
        "new.loc[new['ЗаключениеМК'] == \"ВременноНегоден\", 'ЗаключениеМК'] = 1\n",
        "new.loc[new['ЗаключениеМК'] == \"ОграниченноГоден\", 'ЗаключениеМК'] = 1"
      ],
      "metadata": {
        "id": "xluXOSpWlCiy"
      },
      "execution_count": 24,
      "outputs": []
    },
    {
      "cell_type": "code",
      "source": [
        "# преобразуем коды МКБ\n",
        "list_of_alf=(list(\"ABCDEFGHIJKLMNOPQRSTUVWXYZ\"))\n",
        "list_of_alf"
      ],
      "metadata": {
        "colab": {
          "base_uri": "https://localhost:8080/"
        },
        "id": "4yGQkTwe554K",
        "outputId": "d793049c-e3b6-47ac-b47f-221d760e9209"
      },
      "execution_count": 26,
      "outputs": [
        {
          "output_type": "execute_result",
          "data": {
            "text/plain": [
              "['A',\n",
              " 'B',\n",
              " 'C',\n",
              " 'D',\n",
              " 'E',\n",
              " 'F',\n",
              " 'G',\n",
              " 'H',\n",
              " 'I',\n",
              " 'J',\n",
              " 'K',\n",
              " 'L',\n",
              " 'M',\n",
              " 'N',\n",
              " 'O',\n",
              " 'P',\n",
              " 'Q',\n",
              " 'R',\n",
              " 'S',\n",
              " 'T',\n",
              " 'U',\n",
              " 'V',\n",
              " 'W',\n",
              " 'X',\n",
              " 'Y',\n",
              " 'Z']"
            ]
          },
          "metadata": {},
          "execution_count": 26
        }
      ]
    },
    {
      "cell_type": "code",
      "source": [
        "for i in list_of_alf:\n",
        "  print(\"     new[i] = new[i].astype(str).str.replace(\",\"'\",i,\"',\",\"'\",\"0.\",25-list_of_alf.index(i)+1,\"'\",\")\", sep='')"
      ],
      "metadata": {
        "colab": {
          "base_uri": "https://localhost:8080/"
        },
        "id": "w8WDWda_53Qi",
        "outputId": "653d9bca-be96-4e41-c4d0-48725a6d9fe7"
      },
      "execution_count": 27,
      "outputs": [
        {
          "output_type": "stream",
          "name": "stdout",
          "text": [
            "     new[i] = new[i].astype(str).str.replace('A','0.26')\n",
            "     new[i] = new[i].astype(str).str.replace('B','0.25')\n",
            "     new[i] = new[i].astype(str).str.replace('C','0.24')\n",
            "     new[i] = new[i].astype(str).str.replace('D','0.23')\n",
            "     new[i] = new[i].astype(str).str.replace('E','0.22')\n",
            "     new[i] = new[i].astype(str).str.replace('F','0.21')\n",
            "     new[i] = new[i].astype(str).str.replace('G','0.20')\n",
            "     new[i] = new[i].astype(str).str.replace('H','0.19')\n",
            "     new[i] = new[i].astype(str).str.replace('I','0.18')\n",
            "     new[i] = new[i].astype(str).str.replace('J','0.17')\n",
            "     new[i] = new[i].astype(str).str.replace('K','0.16')\n",
            "     new[i] = new[i].astype(str).str.replace('L','0.15')\n",
            "     new[i] = new[i].astype(str).str.replace('M','0.14')\n",
            "     new[i] = new[i].astype(str).str.replace('N','0.13')\n",
            "     new[i] = new[i].astype(str).str.replace('O','0.12')\n",
            "     new[i] = new[i].astype(str).str.replace('P','0.11')\n",
            "     new[i] = new[i].astype(str).str.replace('Q','0.10')\n",
            "     new[i] = new[i].astype(str).str.replace('R','0.9')\n",
            "     new[i] = new[i].astype(str).str.replace('S','0.8')\n",
            "     new[i] = new[i].astype(str).str.replace('T','0.7')\n",
            "     new[i] = new[i].astype(str).str.replace('U','0.6')\n",
            "     new[i] = new[i].astype(str).str.replace('V','0.5')\n",
            "     new[i] = new[i].astype(str).str.replace('W','0.4')\n",
            "     new[i] = new[i].astype(str).str.replace('X','0.3')\n",
            "     new[i] = new[i].astype(str).str.replace('Y','0.2')\n",
            "     new[i] = new[i].astype(str).str.replace('Z','0.1')\n"
          ]
        }
      ]
    },
    {
      "cell_type": "code",
      "source": [
        "new2=new.copy()"
      ],
      "metadata": {
        "id": "e3zolbd42MBz"
      },
      "execution_count": 28,
      "outputs": []
    },
    {
      "cell_type": "code",
      "source": [
        "new2.fillna(0, inplace=True)"
      ],
      "metadata": {
        "id": "kR9DEh8m4gvb"
      },
      "execution_count": 29,
      "outputs": []
    },
    {
      "cell_type": "code",
      "source": [
        "new.fillna(0, inplace=True)"
      ],
      "metadata": {
        "colab": {
          "base_uri": "https://localhost:8080/"
        },
        "id": "QumoPKmaCava",
        "outputId": "35efc8f4-c193-433f-9e9c-0d01928b04d5"
      },
      "execution_count": 30,
      "outputs": [
        {
          "output_type": "stream",
          "name": "stderr",
          "text": [
            "<ipython-input-30-8cba954ed67a>:1: SettingWithCopyWarning: \n",
            "A value is trying to be set on a copy of a slice from a DataFrame\n",
            "\n",
            "See the caveats in the documentation: https://pandas.pydata.org/pandas-docs/stable/user_guide/indexing.html#returning-a-view-versus-a-copy\n",
            "  new.fillna(0, inplace=True)\n"
          ]
        }
      ]
    },
    {
      "cell_type": "code",
      "source": [
        "for i in df_list_1:\n",
        "  new[i] = new[i].astype(str).str.replace('.','')"
      ],
      "metadata": {
        "colab": {
          "base_uri": "https://localhost:8080/"
        },
        "id": "onIhFnHWCePl",
        "outputId": "0967340b-af57-479d-9ef8-08e7c4cc4737"
      },
      "execution_count": 31,
      "outputs": [
        {
          "output_type": "stream",
          "name": "stderr",
          "text": [
            "<ipython-input-31-7b0ed68127fe>:2: FutureWarning: The default value of regex will change from True to False in a future version. In addition, single character regular expressions will *not* be treated as literal strings when regex=True.\n",
            "  new[i] = new[i].astype(str).str.replace('.','')\n",
            "<ipython-input-31-7b0ed68127fe>:2: SettingWithCopyWarning: \n",
            "A value is trying to be set on a copy of a slice from a DataFrame.\n",
            "Try using .loc[row_indexer,col_indexer] = value instead\n",
            "\n",
            "See the caveats in the documentation: https://pandas.pydata.org/pandas-docs/stable/user_guide/indexing.html#returning-a-view-versus-a-copy\n",
            "  new[i] = new[i].astype(str).str.replace('.','')\n"
          ]
        }
      ]
    },
    {
      "cell_type": "code",
      "source": [
        "new=new.drop(columns=\"ДиспансернаяГруппа\")"
      ],
      "metadata": {
        "id": "IbAemqZ5Ezqe"
      },
      "execution_count": 32,
      "outputs": []
    },
    {
      "cell_type": "code",
      "source": [
        "for i in new:\n",
        "     new[i] = new[i].astype(str).str.replace('A','0.26')\n",
        "     new[i] = new[i].astype(str).str.replace('B','0.25')\n",
        "     new[i] = new[i].astype(str).str.replace('C','0.24')\n",
        "     new[i] = new[i].astype(str).str.replace('D','0.23')\n",
        "     new[i] = new[i].astype(str).str.replace('E','0.22')\n",
        "     new[i] = new[i].astype(str).str.replace('F','0.21')\n",
        "     new[i] = new[i].astype(str).str.replace('G','0.20')\n",
        "     new[i] = new[i].astype(str).str.replace('H','0.19')\n",
        "     new[i] = new[i].astype(str).str.replace('I','0.18')\n",
        "     new[i] = new[i].astype(str).str.replace('J','0.17')\n",
        "     new[i] = new[i].astype(str).str.replace('K','0.16')\n",
        "     new[i] = new[i].astype(str).str.replace('L','0.15')\n",
        "     new[i] = new[i].astype(str).str.replace('M','0.14')\n",
        "     new[i] = new[i].astype(str).str.replace('N','0.13')\n",
        "     new[i] = new[i].astype(str).str.replace('O','0.12')\n",
        "     new[i] = new[i].astype(str).str.replace('P','0.11')\n",
        "     new[i] = new[i].astype(str).str.replace('Q','0.10')\n",
        "     new[i] = new[i].astype(str).str.replace('R','0.9')\n",
        "     new[i] = new[i].astype(str).str.replace('S','0.8')\n",
        "     new[i] = new[i].astype(str).str.replace('T','0.7')\n",
        "     new[i] = new[i].astype(str).str.replace('U','0.6')\n",
        "     new[i] = new[i].astype(str).str.replace('V','0.5')\n",
        "     new[i] = new[i].astype(str).str.replace('W','0.4')\n",
        "     new[i] = new[i].astype(str).str.replace('X','0.3')\n",
        "     new[i] = new[i].astype(str).str.replace('Y','0.2')\n",
        "     new[i] = new[i].astype(str).str.replace('Z','0.1')"
      ],
      "metadata": {
        "id": "nKXO-qckVoJt"
      },
      "execution_count": 35,
      "outputs": []
    },
    {
      "cell_type": "code",
      "source": [
        "type(new[\"ПсихиатрияНаркология1_МКБ101\"][0])"
      ],
      "metadata": {
        "colab": {
          "base_uri": "https://localhost:8080/"
        },
        "id": "7eprxWSiEUxo",
        "outputId": "5b5d1943-e57e-4ebf-d5ac-e12951a47290"
      },
      "execution_count": 36,
      "outputs": [
        {
          "output_type": "execute_result",
          "data": {
            "text/plain": [
              "str"
            ]
          },
          "metadata": {},
          "execution_count": 36
        }
      ]
    },
    {
      "cell_type": "markdown",
      "source": [
        "_____________________________"
      ],
      "metadata": {
        "id": "z0SHCQIvFTIM"
      }
    },
    {
      "cell_type": "code",
      "source": [
        "new['СписокВредныхФакторов'] = new['ВредныеФакторы'].apply(lambda x: x.replace('.', 'x'))"
      ],
      "metadata": {
        "id": "lncdc8vZWHAl"
      },
      "execution_count": 37,
      "outputs": []
    },
    {
      "cell_type": "code",
      "source": [
        "new=new.drop(columns=\"ВредныеФакторы\")"
      ],
      "metadata": {
        "id": "K3-P9ntyX0Og"
      },
      "execution_count": 38,
      "outputs": []
    },
    {
      "cell_type": "markdown",
      "source": [
        "_____________________________"
      ],
      "metadata": {
        "id": "d71mkKSkFReO"
      }
    },
    {
      "cell_type": "code",
      "source": [
        "# Профессия\n",
        "xTrainProf = new['Профессия'] \n",
        "print(xTrainProf[0]) # пример "
      ],
      "metadata": {
        "colab": {
          "base_uri": "https://localhost:8080/"
        },
        "id": "jUs0Q3kZ1NtD",
        "outputId": "5c55ca4d-7832-4876-dec4-7c7a85b89927"
      },
      "execution_count": 40,
      "outputs": [
        {
          "output_type": "stream",
          "name": "stdout",
          "text": [
            "Ведущий специалист по организации обуения\n"
          ]
        }
      ]
    },
    {
      "cell_type": "code",
      "source": [
        "maxWordsCount = 10000 \n",
        "tokenizer = Tokenizer(num_words=maxWordsCount, filters='!\"#$%&()*+,-–—./:;<=>?@[\\]^_`{|}~\\t\\n\\xa0', lower=True, split=' ', oov_token='unknown', char_level=False)\n",
        "tokenizer.fit_on_texts(xTrainProf) \n",
        "items = list(tokenizer.word_index.items())  "
      ],
      "metadata": {
        "id": "83VXES9L1nUP"
      },
      "execution_count": 41,
      "outputs": []
    },
    {
      "cell_type": "code",
      "source": [
        "xTrainProfIndexes = tokenizer.texts_to_sequences(xTrainProf) "
      ],
      "metadata": {
        "id": "-_Ua-g_Y1wGx"
      },
      "execution_count": 42,
      "outputs": []
    },
    {
      "cell_type": "code",
      "source": [
        "xTrainProf01 = tokenizer.sequences_to_matrix(xTrainProfIndexes) \n",
        "print(xTrainProf01.shape)                                      \n",
        "print(xTrainProf01[0][0:100])  "
      ],
      "metadata": {
        "colab": {
          "base_uri": "https://localhost:8080/"
        },
        "id": "qfMMuQtg1zJy",
        "outputId": "a6937e5d-0bce-40d0-d882-42dcc6302ec4"
      },
      "execution_count": 43,
      "outputs": [
        {
          "output_type": "stream",
          "name": "stdout",
          "text": [
            "(1571, 10000)\n",
            "[0. 0. 0. 1. 0. 1. 1. 0. 0. 0. 0. 0. 0. 0. 0. 0. 0. 0. 0. 0. 0. 0. 0. 0.\n",
            " 0. 0. 0. 0. 0. 0. 0. 0. 0. 0. 0. 0. 0. 0. 0. 0. 0. 0. 0. 0. 0. 0. 0. 0.\n",
            " 0. 0. 0. 0. 0. 0. 0. 0. 0. 0. 0. 0. 0. 0. 0. 0. 0. 0. 0. 0. 0. 0. 0. 0.\n",
            " 0. 0. 0. 0. 0. 0. 0. 0. 0. 0. 0. 0. 0. 0. 0. 0. 0. 0. 0. 0. 0. 0. 0. 0.\n",
            " 0. 0. 0. 0.]\n"
          ]
        }
      ]
    },
    {
      "cell_type": "code",
      "source": [
        "n = 0\n",
        "print(xTrainProf[n])       \n",
        "print(xTrainProfIndexes[n]) "
      ],
      "metadata": {
        "colab": {
          "base_uri": "https://localhost:8080/"
        },
        "id": "Lolr2pXh1-_9",
        "outputId": "a54d6601-55fe-45c7-a6cc-63651072146b"
      },
      "execution_count": 44,
      "outputs": [
        {
          "output_type": "stream",
          "name": "stdout",
          "text": [
            "Ведущий специалист по организации обуения\n",
            "[6, 5, 3, 189, 309]\n"
          ]
        }
      ]
    },
    {
      "cell_type": "markdown",
      "source": [
        "____________________________"
      ],
      "metadata": {
        "id": "yRtqYAH1FP1i"
      }
    },
    {
      "cell_type": "code",
      "source": [
        "#СписокВредныхФакторов\n",
        "xTrainFactor = new['СписокВредныхФакторов'] \n",
        "print(xTrainFactor[10])"
      ],
      "metadata": {
        "colab": {
          "base_uri": "https://localhost:8080/"
        },
        "id": "oAxPVDdgZKpw",
        "outputId": "0b56c0f2-222a-412c-bbfd-09c16c401d9c"
      },
      "execution_count": 45,
      "outputs": [
        {
          "output_type": "stream",
          "name": "stdout",
          "text": [
            "11x1\n"
          ]
        }
      ]
    },
    {
      "cell_type": "code",
      "source": [
        "maxWordsCount = 1000\n",
        "tokenizer = Tokenizer(num_words=maxWordsCount, filters='!\"#$%&()*+,-–—./:;<=>?@[\\]^_`{|}~\\t\\n\\xa0', lower=True, split=' ', oov_token='unknown', char_level=False)\n",
        "tokenizer.fit_on_texts(xTrainFactor) \n",
        "items = list(tokenizer.word_index.items())  "
      ],
      "metadata": {
        "id": "RUAfowSZZMss"
      },
      "execution_count": 46,
      "outputs": []
    },
    {
      "cell_type": "code",
      "source": [
        "xTrainFactorIndexes = tokenizer.texts_to_sequences(xTrainFactor) "
      ],
      "metadata": {
        "id": "Q3B6V10vZOrj"
      },
      "execution_count": 47,
      "outputs": []
    },
    {
      "cell_type": "code",
      "source": [
        "xTrainFactor01 = tokenizer.sequences_to_matrix(xTrainFactorIndexes) \n",
        "print(xTrainFactor01.shape)                                      \n",
        "print(xTrainFactor01[0][0:100])  "
      ],
      "metadata": {
        "colab": {
          "base_uri": "https://localhost:8080/"
        },
        "id": "ZMQZsRvWZRyC",
        "outputId": "28bdb947-ffd9-4247-f963-2c4fa5e87b14"
      },
      "execution_count": 48,
      "outputs": [
        {
          "output_type": "stream",
          "name": "stdout",
          "text": [
            "(1571, 1000)\n",
            "[0. 0. 0. 0. 0. 0. 0. 0. 0. 0. 0. 0. 0. 0. 1. 0. 0. 0. 0. 0. 0. 0. 0. 0.\n",
            " 0. 0. 0. 0. 0. 0. 0. 0. 0. 0. 0. 0. 0. 0. 0. 0. 0. 0. 0. 0. 0. 0. 0. 0.\n",
            " 0. 0. 0. 0. 0. 0. 0. 0. 0. 0. 0. 0. 0. 0. 0. 0. 0. 0. 0. 0. 0. 0. 0. 0.\n",
            " 0. 0. 0. 0. 0. 0. 0. 0. 0. 0. 0. 0. 0. 0. 0. 0. 0. 0. 0. 0. 0. 0. 0. 0.\n",
            " 0. 0. 0. 0.]\n"
          ]
        }
      ]
    },
    {
      "cell_type": "code",
      "source": [
        "n = 0\n",
        "print(xTrainFactor[n])       \n",
        "print(xTrainFactorIndexes[n])"
      ],
      "metadata": {
        "colab": {
          "base_uri": "https://localhost:8080/"
        },
        "id": "qplapCqkZUWT",
        "outputId": "4ea208f0-c651-47c1-fe0d-630f6e1845c1"
      },
      "execution_count": 49,
      "outputs": [
        {
          "output_type": "stream",
          "name": "stdout",
          "text": [
            "11x4\n",
            "[14]\n"
          ]
        }
      ]
    },
    {
      "cell_type": "markdown",
      "source": [
        "_______________________________"
      ],
      "metadata": {
        "id": "0teyR2OqXbur"
      }
    },
    {
      "cell_type": "code",
      "source": [
        "for i in new:\n",
        "  print(\"                             \",\"'\",i,\"'\", \",\", sep=\"\")"
      ],
      "metadata": {
        "id": "PdkyadDhaF8Y"
      },
      "execution_count": null,
      "outputs": []
    },
    {
      "cell_type": "code",
      "source": [
        "new_ohe = pd.get_dummies(new, columns=['КлиентПол',\n",
        "                             'ПсихиатрияНаркология1_МКБ101',\n",
        "                             'Офтальмология1_МКБ101',\n",
        "                             'Оториноларингология1_МКБ101',\n",
        "                             'ХирургНеИсп1_МКБ101',\n",
        "                             'Гинекология1_МКБ101',\n",
        "                             'Стоматология1_МКБ101',\n",
        "                             'Дерматовенерология1_МКБ101',\n",
        "                             'Рентгенология1_МКБ101',\n",
        "                             'Неврология1_МКБ101',\n",
        "                             'Терапия1_МКБ101',\n",
        "                             'Хирургия1_МКБ101',\n",
        "                             'Офтальмология1_МКБ102',\n",
        "                             'Терапия2_МКБ101',\n",
        "                             'Неврология2_МКБ101',\n",
        "                             'ЛабораторныеИсследования1_МКБ101',\n",
        "                             'ЭКГНеИсп1_МКБ101',\n",
        "                             'УЗИДиагностика1_МКБ101',\n",
        "                             'УЗИДиагностика2_МКБ101',\n",
        "                             'ПсихиатрияНаркология2_МКБ101',\n",
        "                             'Терапия1_МКБ102',\n",
        "                             'ЛабораторныеИсследования2_МКБ101',\n",
        "                             'Терапия1_МКБ103',\n",
        "                             'Психиатрия1_МКБ101',\n",
        "                             'Гинекология1_МКБ102',\n",
        "                             'Рентгенология2_МКБ101',\n",
        "                             'Гинекология2_МКБ101',\n",
        "                             'Хирургия2_МКБ101',\n",
        "                             'ПроцедурнаяМедсестра1_МКБ101',\n",
        "                             'ФункциональнаяДиагностика1_МКБ101',\n",
        "                             'УЗИДиагностика1_МКБ102',\n",
        "                             'Стоматология2_МКБ101',\n",
        "                             'Неврология1_МКБ102',\n",
        "                             'Оториноларингология2_МКБ101',\n",
        "                             'Дерматовенерология1_МКБ102',\n",
        "                             'Дерматовенерология2_МКБ101',\n",
        "                             'Дерматовенерология2_МКБ102',\n",
        "                             'Хирургия1_МКБ102',\n",
        "                             'Хирургия2_МКБ102',\n",
        "                             'Офтальмология2_МКБ101',\n",
        "                             'Офтальмология2_МКБ102',\n",
        "                             'Неврология2_МКБ102',\n",
        "                             'ПсихиатрияНаркология1_МКБ102',\n",
        "                             'ПсихиатрияНаркология2_МКБ102',\n",
        "                             'УЗИДиагностика2_МКБ102',\n",
        "                             'Оториноларингология1_МКБ102',\n",
        "                             'Оториноларингология2_МКБ102',\n",
        "                             'Терапия2_МКБ102',\n",
        "                             'Оториноларингология1_МКБ103',\n",
        "                             'Оториноларингология1_МКБ104',\n",
        "                             'Оториноларингология2_МКБ103',\n",
        "                             'Оториноларингология2_МКБ104',\n",
        "                             'Терапия3_МКБ101',\n",
        "                             'Терапия3_МКБ102',\n",
        "                             'Терапия4_МКБ101',\n",
        "                             'Терапия4_МКБ102',\n",
        "                             'Гинекология2_МКБ102',\n",
        "                             'УЗИДиагностика1_МКБ103',\n",
        "                             'УЗИДиагностика1_МКБ104',\n",
        "                             'УЗИДиагностика2_МКБ103',\n",
        "                             'УЗИДиагностика2_МКБ104',\n",
        "                             'Стоматология1_МКБ102',\n",
        "                             'Стоматология2_МКБ102',\n",
        "                             'Терапия1_МКБ104',\n",
        "                             'Терапия2_МКБ103',\n",
        "                             'Терапия2_МКБ104',\n",
        "                             'Офтальмология1_МКБ103',\n",
        "                             'Офтальмология1_МКБ104',\n",
        "                             'Офтальмология2_МКБ103',\n",
        "                             'Офтальмология2_МКБ104',\n",
        "                             'ЛабораторныеИсследования1_МКБ102',\n",
        "                             'ЛабораторныеИсследования2_МКБ102',\n",
        "                             'Хирургия3_МКБ101',\n",
        "                             'Гинекология3_МКБ101',\n",
        "                             'Гинекология3_МКБ102',\n",
        "                             'Гинекология4_МКБ101',\n",
        "                             'Гинекология4_МКБ102',\n",
        "                             'ТерапевтНеИсп1_МКБ101',\n",
        "                             'Эндоскопия1_МКБ101',\n",
        "                             'ТерапевтНеИсп1_МКБ102',\n",
        "                             'ХирургНеИсп1_МКБ102',\n",
        "                             'ХирургНеИсп2_МКБ101',\n",
        "                             'ХирургНеИсп2_МКБ102',\n",
        "                             'Психиатрия1_МКБ102',\n",
        "                             'Психиатрия2_МКБ101',\n",
        "                             'Психиатрия2_МКБ102',\n",
        "                             'Рентгенология1_МКБ102',\n",
        "                             'Рентгенология2_МКБ102',\n",
        "                             'Психиатрия3_МКБ101',\n",
        "                             'Психиатрия3_МКБ102',\n",
        "                             'Психиатрия4_МКБ101',\n",
        "                             'Психиатрия4_МКБ102',\n",
        "                             'Оториноларингология3_МКБ101',\n",
        "                             'ВозрастКатегория',\n",
        "                           ])"
      ],
      "metadata": {
        "id": "_MmNuRw0Zxcp"
      },
      "execution_count": 51,
      "outputs": []
    },
    {
      "cell_type": "code",
      "source": [
        "new_ohe=new_ohe.drop(columns=\"Профессия\")"
      ],
      "metadata": {
        "id": "z58ELu5WbuIC"
      },
      "execution_count": 52,
      "outputs": []
    },
    {
      "cell_type": "code",
      "source": [
        "new_ohe=new_ohe.drop(columns=\"СписокВредныхФакторов\")\n",
        "new_ohe=new_ohe.drop(columns=\"ЗаключениеМК\")"
      ],
      "metadata": {
        "id": "ADvPBuM-doxY"
      },
      "execution_count": 53,
      "outputs": []
    },
    {
      "cell_type": "code",
      "source": [
        "colms5 = new_ohe.columns.values.tolist()"
      ],
      "metadata": {
        "id": "1RHiZr37cdgc"
      },
      "execution_count": 56,
      "outputs": []
    },
    {
      "cell_type": "code",
      "source": [
        "yTrain = new['ЗаключениеМК'].to_numpy()"
      ],
      "metadata": {
        "id": "wIV1KKvCcpyN"
      },
      "execution_count": 57,
      "outputs": []
    },
    {
      "cell_type": "code",
      "source": [
        "yTrain = yTrain.astype(float)"
      ],
      "metadata": {
        "id": "41UPEOeDcna_"
      },
      "execution_count": 58,
      "outputs": []
    },
    {
      "cell_type": "code",
      "source": [
        "yTrain"
      ],
      "metadata": {
        "colab": {
          "base_uri": "https://localhost:8080/"
        },
        "id": "XKRDkPixctyp",
        "outputId": "88764032-55b6-4be3-d0c2-709f9c01d492"
      },
      "execution_count": 59,
      "outputs": [
        {
          "output_type": "execute_result",
          "data": {
            "text/plain": [
              "array([0., 0., 1., ..., 0., 0., 0.])"
            ]
          },
          "metadata": {},
          "execution_count": 59
        }
      ]
    },
    {
      "cell_type": "code",
      "source": [
        "yTrain.shape"
      ],
      "metadata": {
        "colab": {
          "base_uri": "https://localhost:8080/"
        },
        "id": "pxywnRDrczkQ",
        "outputId": "0542a0d1-7060-4570-87be-8ffcc60ce75c"
      },
      "execution_count": 60,
      "outputs": [
        {
          "output_type": "execute_result",
          "data": {
            "text/plain": [
              "(1571,)"
            ]
          },
          "metadata": {},
          "execution_count": 60
        }
      ]
    },
    {
      "cell_type": "code",
      "source": [
        "new_ohe = new_ohe.astype(float)"
      ],
      "metadata": {
        "id": "O6sbqD9Rc6Of"
      },
      "execution_count": 61,
      "outputs": []
    },
    {
      "cell_type": "code",
      "source": [
        "xTrain01 = new_ohe.to_numpy()"
      ],
      "metadata": {
        "id": "pNO1H0q7dur3"
      },
      "execution_count": 62,
      "outputs": []
    },
    {
      "cell_type": "code",
      "source": [
        "xTrain01"
      ],
      "metadata": {
        "colab": {
          "base_uri": "https://localhost:8080/"
        },
        "id": "cYpaUd4hdzOO",
        "outputId": "00397542-7ce3-44f7-ac33-e602d8c8f892"
      },
      "execution_count": 63,
      "outputs": [
        {
          "output_type": "execute_result",
          "data": {
            "text/plain": [
              "array([[1., 0., 0., ..., 0., 0., 0.],\n",
              "       [0., 1., 0., ..., 0., 0., 0.],\n",
              "       [0., 1., 0., ..., 0., 0., 0.],\n",
              "       ...,\n",
              "       [0., 1., 0., ..., 0., 0., 0.],\n",
              "       [0., 1., 0., ..., 0., 0., 0.],\n",
              "       [0., 1., 0., ..., 1., 0., 0.]])"
            ]
          },
          "metadata": {},
          "execution_count": 63
        }
      ]
    },
    {
      "cell_type": "code",
      "source": [
        "xTrain01.shape"
      ],
      "metadata": {
        "colab": {
          "base_uri": "https://localhost:8080/"
        },
        "id": "TfNi5W4Cd1dQ",
        "outputId": "37324dfa-5fe9-4d03-fa41-45ef10c46f8d"
      },
      "execution_count": 64,
      "outputs": [
        {
          "output_type": "execute_result",
          "data": {
            "text/plain": [
              "(1571, 376)"
            ]
          },
          "metadata": {},
          "execution_count": 64
        }
      ]
    },
    {
      "cell_type": "code",
      "source": [
        "x_train, x_test, x_train_text1, x_test_text1, x_train_text2, x_test_text2, y_train, y_test = train_test_split(xTrain01,\n",
        "                                                                                                              xTrainProf01, \n",
        "                                                                                                              xTrainFactor01,\n",
        "                                                                                                              yTrain, \n",
        "                                                                                                              test_size=0.25,\n",
        "                                                                                                              shuffle = False)"
      ],
      "metadata": {
        "id": "_9bAJ_6ueUQF"
      },
      "execution_count": 66,
      "outputs": []
    },
    {
      "cell_type": "code",
      "source": [
        "# Визуальная оценка ошибки на обучающей и проверочной выборках\n",
        "def compare_sharp_loss (history, x_size, y_size):\n",
        "  \n",
        "  plt.figure(figsize=(x_size,y_size))\n",
        "  plt.plot(history.history['loss'], \n",
        "         label='Ошибка на обучающей выборке')\n",
        "  \n",
        "  plt.plot(history.history['val_loss'], \n",
        "         label='Ошибка проверочном наборе')\n",
        "  plt.xlabel('Эпоха обучения')\n",
        "  plt.ylabel('Средняя ошибка')\n",
        "  plt.legend()\n",
        "  plt.show()"
      ],
      "metadata": {
        "id": "LuUfQdYkfIkM"
      },
      "execution_count": 67,
      "outputs": []
    },
    {
      "cell_type": "markdown",
      "source": [
        "___________________________________"
      ],
      "metadata": {
        "id": "LxBRAHc8ZxyP"
      }
    },
    {
      "cell_type": "markdown",
      "source": [
        "_________________________________________"
      ],
      "metadata": {
        "id": "2RijsUxTZzLF"
      }
    },
    {
      "cell_type": "markdown",
      "source": [
        "# **Создаем модель, обучаем модель**"
      ],
      "metadata": {
        "id": "rFZ7Q3X6EvDV"
      }
    },
    {
      "cell_type": "code",
      "source": [
        "input1 = Input((x_train.shape[1],))\n",
        "input2 = Input((x_train_text1.shape[1],))\n",
        "input3 = Input((x_train_text2.shape[1],))  "
      ],
      "metadata": {
        "id": "tb9fd-eQe2zi"
      },
      "execution_count": 68,
      "outputs": []
    },
    {
      "cell_type": "code",
      "source": [
        "x1 = BatchNormalization()(input1) \n",
        "x1 = Dense(1024, activation='relu') (x1)\n",
        "x1 = BatchNormalization()(x1)\n",
        "x1 = Dropout(0.3)(x1)\n",
        "x1 = Dense(768, activation='sigmoid')(x1)\n",
        "x1 = BatchNormalization()(x1)\n",
        "x1 = Dropout(0.3)(x1)\n",
        "x1 = Dense(512, activation='sigmoid')(x1)\n",
        "\n",
        "x2 = Dense(100, activation='sigmoid') (input2)\n",
        "x2 = BatchNormalization()(x2)\n",
        "x2 = Dropout(0.3)(x2)\n",
        "x2 = Dense(100, activation='sigmoid') (x2)\n",
        "\n",
        "\n",
        "x3 = Dense(100, activation='sigmoid') (input3)\n",
        "x3 = BatchNormalization()(x3)\n",
        "x3 = Dropout(0.3)(x3)\n",
        "x3 = Dense(100, activation='sigmoid') (x3)\n",
        "\n",
        "x = concatenate([x1, x2, x3])\n",
        "\n",
        "x = Dense(100, activation='relu')(x)\n",
        "x = BatchNormalization()(x)\n",
        "x = Dropout(0.3)(x)\n",
        "x = Dense(50, activation='sigmoid')(x)\n",
        "x = Dropout(0.3)(x)\n",
        "x = Dense(1, activation='linear')(x)\n",
        "\n",
        "model = Model((input1, input2, input3), x) \n",
        "\n",
        "model.compile(optimizer=Adam(learning_rate=0.0001), loss='mse', metrics=[\"mae\"])\n",
        "\n",
        "history = model.fit((x_train, x_train_text1, x_train_text2), \n",
        "                    y_train, \n",
        "                    epochs= 200, \n",
        "                    validation_split = 0.3,\n",
        "                    verbose=1, shuffle=True)\n",
        "\n",
        "compare_sharp_loss(history,10,4) "
      ],
      "metadata": {
        "colab": {
          "base_uri": "https://localhost:8080/",
          "height": 1000
        },
        "id": "RAl6iyeLe8fY",
        "outputId": "10f56cf6-bd5a-4487-fb9e-da1d2f6785b9"
      },
      "execution_count": 79,
      "outputs": [
        {
          "output_type": "stream",
          "name": "stdout",
          "text": [
            "Epoch 1/200\n",
            "26/26 [==============================] - 6s 65ms/step - loss: 2.1842 - mae: 1.3518 - val_loss: 1.4480 - val_mae: 1.1707\n",
            "Epoch 2/200\n",
            "26/26 [==============================] - 2s 78ms/step - loss: 1.9511 - mae: 1.2598 - val_loss: 1.1974 - val_mae: 1.0583\n",
            "Epoch 3/200\n",
            "26/26 [==============================] - 2s 88ms/step - loss: 1.7397 - mae: 1.1842 - val_loss: 0.9582 - val_mae: 0.9388\n",
            "Epoch 4/200\n",
            "26/26 [==============================] - 2s 89ms/step - loss: 1.5435 - mae: 1.1074 - val_loss: 0.8430 - val_mae: 0.8808\n",
            "Epoch 5/200\n",
            "26/26 [==============================] - 2s 94ms/step - loss: 1.4026 - mae: 1.0497 - val_loss: 0.8214 - val_mae: 0.8699\n",
            "Epoch 6/200\n",
            "26/26 [==============================] - 1s 50ms/step - loss: 1.2855 - mae: 0.9853 - val_loss: 0.6933 - val_mae: 0.8040\n",
            "Epoch 7/200\n",
            "26/26 [==============================] - 1s 47ms/step - loss: 1.1183 - mae: 0.9204 - val_loss: 0.6054 - val_mae: 0.7542\n",
            "Epoch 8/200\n",
            "26/26 [==============================] - 1s 48ms/step - loss: 0.9937 - mae: 0.8609 - val_loss: 0.5021 - val_mae: 0.6883\n",
            "Epoch 9/200\n",
            "26/26 [==============================] - 1s 48ms/step - loss: 0.9099 - mae: 0.8165 - val_loss: 0.4527 - val_mae: 0.6538\n",
            "Epoch 10/200\n",
            "26/26 [==============================] - 1s 48ms/step - loss: 0.7803 - mae: 0.7414 - val_loss: 0.3968 - val_mae: 0.6075\n",
            "Epoch 11/200\n",
            "26/26 [==============================] - 1s 48ms/step - loss: 0.6993 - mae: 0.6864 - val_loss: 0.3541 - val_mae: 0.5707\n",
            "Epoch 12/200\n",
            "26/26 [==============================] - 1s 47ms/step - loss: 0.6194 - mae: 0.6576 - val_loss: 0.2947 - val_mae: 0.5131\n",
            "Epoch 13/200\n",
            "26/26 [==============================] - 1s 49ms/step - loss: 0.5999 - mae: 0.6526 - val_loss: 0.2465 - val_mae: 0.4519\n",
            "Epoch 14/200\n",
            "26/26 [==============================] - 2s 74ms/step - loss: 0.5256 - mae: 0.5906 - val_loss: 0.2013 - val_mae: 0.4014\n",
            "Epoch 15/200\n",
            "26/26 [==============================] - 2s 79ms/step - loss: 0.4931 - mae: 0.5756 - val_loss: 0.1887 - val_mae: 0.3913\n",
            "Epoch 16/200\n",
            "26/26 [==============================] - 1s 56ms/step - loss: 0.4170 - mae: 0.5200 - val_loss: 0.1583 - val_mae: 0.3428\n",
            "Epoch 17/200\n",
            "26/26 [==============================] - 1s 47ms/step - loss: 0.4141 - mae: 0.5254 - val_loss: 0.1226 - val_mae: 0.2782\n",
            "Epoch 18/200\n",
            "26/26 [==============================] - 1s 47ms/step - loss: 0.4043 - mae: 0.5026 - val_loss: 0.1076 - val_mae: 0.2435\n",
            "Epoch 19/200\n",
            "26/26 [==============================] - 1s 46ms/step - loss: 0.3934 - mae: 0.4988 - val_loss: 0.1082 - val_mae: 0.2443\n",
            "Epoch 20/200\n",
            "26/26 [==============================] - 1s 48ms/step - loss: 0.3533 - mae: 0.4747 - val_loss: 0.0911 - val_mae: 0.2213\n",
            "Epoch 21/200\n",
            "26/26 [==============================] - 1s 50ms/step - loss: 0.3633 - mae: 0.4796 - val_loss: 0.0931 - val_mae: 0.2221\n",
            "Epoch 22/200\n",
            "26/26 [==============================] - 1s 49ms/step - loss: 0.3442 - mae: 0.4754 - val_loss: 0.0892 - val_mae: 0.2080\n",
            "Epoch 23/200\n",
            "26/26 [==============================] - 1s 48ms/step - loss: 0.3217 - mae: 0.4486 - val_loss: 0.0818 - val_mae: 0.1934\n",
            "Epoch 24/200\n",
            "26/26 [==============================] - 2s 62ms/step - loss: 0.2982 - mae: 0.4318 - val_loss: 0.0807 - val_mae: 0.1942\n",
            "Epoch 25/200\n",
            "26/26 [==============================] - 2s 73ms/step - loss: 0.3196 - mae: 0.4454 - val_loss: 0.0795 - val_mae: 0.1913\n",
            "Epoch 26/200\n",
            "26/26 [==============================] - 2s 70ms/step - loss: 0.2963 - mae: 0.4305 - val_loss: 0.0810 - val_mae: 0.1921\n",
            "Epoch 27/200\n",
            "26/26 [==============================] - 1s 48ms/step - loss: 0.3075 - mae: 0.4448 - val_loss: 0.0868 - val_mae: 0.2101\n",
            "Epoch 28/200\n",
            "26/26 [==============================] - 1s 49ms/step - loss: 0.2990 - mae: 0.4301 - val_loss: 0.0820 - val_mae: 0.2004\n",
            "Epoch 29/200\n",
            "26/26 [==============================] - 1s 50ms/step - loss: 0.2939 - mae: 0.4268 - val_loss: 0.0807 - val_mae: 0.1941\n",
            "Epoch 30/200\n",
            "26/26 [==============================] - 1s 48ms/step - loss: 0.3313 - mae: 0.4594 - val_loss: 0.0892 - val_mae: 0.2167\n",
            "Epoch 31/200\n",
            "26/26 [==============================] - 1s 49ms/step - loss: 0.2950 - mae: 0.4396 - val_loss: 0.0941 - val_mae: 0.2271\n",
            "Epoch 32/200\n",
            "26/26 [==============================] - 1s 48ms/step - loss: 0.2756 - mae: 0.4151 - val_loss: 0.0853 - val_mae: 0.2080\n",
            "Epoch 33/200\n",
            "26/26 [==============================] - 1s 47ms/step - loss: 0.2753 - mae: 0.4125 - val_loss: 0.0838 - val_mae: 0.1975\n",
            "Epoch 34/200\n",
            "26/26 [==============================] - 1s 55ms/step - loss: 0.2798 - mae: 0.4174 - val_loss: 0.0879 - val_mae: 0.2043\n",
            "Epoch 35/200\n",
            "26/26 [==============================] - 2s 82ms/step - loss: 0.2718 - mae: 0.4060 - val_loss: 0.0906 - val_mae: 0.2020\n",
            "Epoch 36/200\n",
            "26/26 [==============================] - 2s 72ms/step - loss: 0.2817 - mae: 0.4199 - val_loss: 0.0871 - val_mae: 0.1989\n",
            "Epoch 37/200\n",
            "26/26 [==============================] - 1s 48ms/step - loss: 0.2499 - mae: 0.4010 - val_loss: 0.0901 - val_mae: 0.2065\n",
            "Epoch 38/200\n",
            "26/26 [==============================] - 1s 46ms/step - loss: 0.2855 - mae: 0.4302 - val_loss: 0.0898 - val_mae: 0.2019\n",
            "Epoch 39/200\n",
            "26/26 [==============================] - 1s 48ms/step - loss: 0.2730 - mae: 0.4170 - val_loss: 0.1247 - val_mae: 0.2253\n",
            "Epoch 40/200\n",
            "26/26 [==============================] - 1s 47ms/step - loss: 0.2648 - mae: 0.4080 - val_loss: 0.0924 - val_mae: 0.2134\n",
            "Epoch 41/200\n",
            "26/26 [==============================] - 1s 48ms/step - loss: 0.2689 - mae: 0.4110 - val_loss: 0.0882 - val_mae: 0.1972\n",
            "Epoch 42/200\n",
            "26/26 [==============================] - 1s 49ms/step - loss: 0.2774 - mae: 0.4202 - val_loss: 0.0868 - val_mae: 0.1894\n",
            "Epoch 43/200\n",
            "26/26 [==============================] - 1s 47ms/step - loss: 0.2684 - mae: 0.4070 - val_loss: 0.0868 - val_mae: 0.1908\n",
            "Epoch 44/200\n",
            "26/26 [==============================] - 1s 56ms/step - loss: 0.2843 - mae: 0.4231 - val_loss: 0.0865 - val_mae: 0.1815\n",
            "Epoch 45/200\n",
            "26/26 [==============================] - 2s 75ms/step - loss: 0.2636 - mae: 0.4012 - val_loss: 0.0943 - val_mae: 0.1981\n",
            "Epoch 46/200\n",
            "26/26 [==============================] - 2s 74ms/step - loss: 0.2515 - mae: 0.3929 - val_loss: 0.0959 - val_mae: 0.2104\n",
            "Epoch 47/200\n",
            "26/26 [==============================] - 1s 48ms/step - loss: 0.2578 - mae: 0.4001 - val_loss: 0.0887 - val_mae: 0.1979\n",
            "Epoch 48/200\n",
            "26/26 [==============================] - 1s 47ms/step - loss: 0.2759 - mae: 0.4096 - val_loss: 0.0877 - val_mae: 0.1896\n",
            "Epoch 49/200\n",
            "26/26 [==============================] - 1s 49ms/step - loss: 0.2519 - mae: 0.3930 - val_loss: 0.0864 - val_mae: 0.1826\n",
            "Epoch 50/200\n",
            "26/26 [==============================] - 1s 50ms/step - loss: 0.2493 - mae: 0.3945 - val_loss: 0.0881 - val_mae: 0.1845\n",
            "Epoch 51/200\n",
            "26/26 [==============================] - 1s 48ms/step - loss: 0.2528 - mae: 0.3880 - val_loss: 0.0876 - val_mae: 0.1858\n",
            "Epoch 52/200\n",
            "26/26 [==============================] - 1s 47ms/step - loss: 0.2279 - mae: 0.3846 - val_loss: 0.0858 - val_mae: 0.1826\n",
            "Epoch 53/200\n",
            "26/26 [==============================] - 1s 47ms/step - loss: 0.2207 - mae: 0.3727 - val_loss: 0.0919 - val_mae: 0.1975\n",
            "Epoch 54/200\n",
            "26/26 [==============================] - 1s 47ms/step - loss: 0.2387 - mae: 0.3888 - val_loss: 0.0866 - val_mae: 0.1875\n",
            "Epoch 55/200\n",
            "26/26 [==============================] - 2s 74ms/step - loss: 0.2450 - mae: 0.3941 - val_loss: 0.0884 - val_mae: 0.1941\n",
            "Epoch 56/200\n",
            "26/26 [==============================] - 2s 81ms/step - loss: 0.2340 - mae: 0.3833 - val_loss: 0.0871 - val_mae: 0.1884\n",
            "Epoch 57/200\n",
            "26/26 [==============================] - 1s 51ms/step - loss: 0.2475 - mae: 0.3903 - val_loss: 0.0891 - val_mae: 0.1822\n",
            "Epoch 58/200\n",
            "26/26 [==============================] - 1s 48ms/step - loss: 0.2472 - mae: 0.3933 - val_loss: 0.0899 - val_mae: 0.1763\n",
            "Epoch 59/200\n",
            "26/26 [==============================] - 1s 51ms/step - loss: 0.2343 - mae: 0.3838 - val_loss: 0.0861 - val_mae: 0.1811\n",
            "Epoch 60/200\n",
            "26/26 [==============================] - 1s 49ms/step - loss: 0.2364 - mae: 0.3846 - val_loss: 0.0842 - val_mae: 0.1729\n",
            "Epoch 61/200\n",
            "26/26 [==============================] - 1s 50ms/step - loss: 0.2513 - mae: 0.3937 - val_loss: 0.0892 - val_mae: 0.1801\n",
            "Epoch 62/200\n",
            "26/26 [==============================] - 1s 48ms/step - loss: 0.2171 - mae: 0.3694 - val_loss: 0.0880 - val_mae: 0.1824\n",
            "Epoch 63/200\n",
            "26/26 [==============================] - 1s 49ms/step - loss: 0.2151 - mae: 0.3661 - val_loss: 0.0907 - val_mae: 0.1820\n",
            "Epoch 64/200\n",
            "26/26 [==============================] - 1s 50ms/step - loss: 0.2182 - mae: 0.3674 - val_loss: 0.0961 - val_mae: 0.1887\n",
            "Epoch 65/200\n",
            "26/26 [==============================] - 2s 80ms/step - loss: 0.2021 - mae: 0.3533 - val_loss: 0.1279 - val_mae: 0.2351\n",
            "Epoch 66/200\n",
            "26/26 [==============================] - 2s 82ms/step - loss: 0.2178 - mae: 0.3684 - val_loss: 0.1115 - val_mae: 0.2151\n",
            "Epoch 67/200\n",
            "26/26 [==============================] - 1s 50ms/step - loss: 0.2152 - mae: 0.3664 - val_loss: 0.0971 - val_mae: 0.1970\n",
            "Epoch 68/200\n",
            "26/26 [==============================] - 1s 51ms/step - loss: 0.2304 - mae: 0.3742 - val_loss: 0.1000 - val_mae: 0.1988\n",
            "Epoch 69/200\n",
            "26/26 [==============================] - 1s 51ms/step - loss: 0.2078 - mae: 0.3577 - val_loss: 0.0928 - val_mae: 0.1853\n",
            "Epoch 70/200\n",
            "26/26 [==============================] - 1s 51ms/step - loss: 0.2175 - mae: 0.3641 - val_loss: 0.1063 - val_mae: 0.2032\n",
            "Epoch 71/200\n",
            "26/26 [==============================] - 1s 50ms/step - loss: 0.2002 - mae: 0.3526 - val_loss: 0.1076 - val_mae: 0.2043\n",
            "Epoch 72/200\n",
            "26/26 [==============================] - 1s 48ms/step - loss: 0.1977 - mae: 0.3462 - val_loss: 0.1012 - val_mae: 0.1952\n",
            "Epoch 73/200\n",
            "26/26 [==============================] - 1s 47ms/step - loss: 0.2067 - mae: 0.3566 - val_loss: 0.0988 - val_mae: 0.1924\n",
            "Epoch 74/200\n",
            "26/26 [==============================] - 1s 57ms/step - loss: 0.2031 - mae: 0.3556 - val_loss: 0.0979 - val_mae: 0.1910\n",
            "Epoch 75/200\n",
            "26/26 [==============================] - 2s 82ms/step - loss: 0.2150 - mae: 0.3643 - val_loss: 0.1029 - val_mae: 0.2025\n",
            "Epoch 76/200\n",
            "26/26 [==============================] - 2s 74ms/step - loss: 0.2124 - mae: 0.3682 - val_loss: 0.1004 - val_mae: 0.1940\n",
            "Epoch 77/200\n",
            "26/26 [==============================] - 1s 49ms/step - loss: 0.1843 - mae: 0.3378 - val_loss: 0.1027 - val_mae: 0.1933\n",
            "Epoch 78/200\n",
            "26/26 [==============================] - 1s 49ms/step - loss: 0.1978 - mae: 0.3486 - val_loss: 0.1021 - val_mae: 0.1981\n",
            "Epoch 79/200\n",
            "26/26 [==============================] - 1s 47ms/step - loss: 0.2012 - mae: 0.3575 - val_loss: 0.0992 - val_mae: 0.1964\n",
            "Epoch 80/200\n",
            "26/26 [==============================] - 1s 47ms/step - loss: 0.2202 - mae: 0.3696 - val_loss: 0.0960 - val_mae: 0.1912\n",
            "Epoch 81/200\n",
            "26/26 [==============================] - 1s 50ms/step - loss: 0.1923 - mae: 0.3433 - val_loss: 0.1001 - val_mae: 0.1992\n",
            "Epoch 82/200\n",
            "26/26 [==============================] - 1s 48ms/step - loss: 0.1889 - mae: 0.3365 - val_loss: 0.1039 - val_mae: 0.2086\n",
            "Epoch 83/200\n",
            "26/26 [==============================] - 1s 50ms/step - loss: 0.1930 - mae: 0.3452 - val_loss: 0.1085 - val_mae: 0.2052\n",
            "Epoch 84/200\n",
            "26/26 [==============================] - 2s 60ms/step - loss: 0.1948 - mae: 0.3431 - val_loss: 0.1112 - val_mae: 0.2028\n",
            "Epoch 85/200\n",
            "26/26 [==============================] - 2s 80ms/step - loss: 0.1821 - mae: 0.3360 - val_loss: 0.1065 - val_mae: 0.1988\n",
            "Epoch 86/200\n",
            "26/26 [==============================] - 2s 71ms/step - loss: 0.1916 - mae: 0.3436 - val_loss: 0.1031 - val_mae: 0.1955\n",
            "Epoch 87/200\n",
            "26/26 [==============================] - 1s 47ms/step - loss: 0.1937 - mae: 0.3447 - val_loss: 0.0937 - val_mae: 0.1774\n",
            "Epoch 88/200\n",
            "26/26 [==============================] - 1s 51ms/step - loss: 0.1954 - mae: 0.3478 - val_loss: 0.0936 - val_mae: 0.1793\n",
            "Epoch 89/200\n",
            "26/26 [==============================] - 1s 50ms/step - loss: 0.1841 - mae: 0.3410 - val_loss: 0.0929 - val_mae: 0.1828\n",
            "Epoch 90/200\n",
            "26/26 [==============================] - 1s 47ms/step - loss: 0.1768 - mae: 0.3264 - val_loss: 0.0890 - val_mae: 0.1792\n",
            "Epoch 91/200\n",
            "26/26 [==============================] - 1s 48ms/step - loss: 0.1762 - mae: 0.3373 - val_loss: 0.0877 - val_mae: 0.1739\n",
            "Epoch 92/200\n",
            "26/26 [==============================] - 1s 49ms/step - loss: 0.1669 - mae: 0.3205 - val_loss: 0.0902 - val_mae: 0.1835\n",
            "Epoch 93/200\n",
            "26/26 [==============================] - 1s 50ms/step - loss: 0.1827 - mae: 0.3310 - val_loss: 0.0894 - val_mae: 0.1814\n",
            "Epoch 94/200\n",
            "26/26 [==============================] - 2s 63ms/step - loss: 0.1793 - mae: 0.3314 - val_loss: 0.0909 - val_mae: 0.1856\n",
            "Epoch 95/200\n",
            "26/26 [==============================] - 2s 73ms/step - loss: 0.1712 - mae: 0.3240 - val_loss: 0.0975 - val_mae: 0.1955\n",
            "Epoch 96/200\n",
            "26/26 [==============================] - 2s 71ms/step - loss: 0.1693 - mae: 0.3098 - val_loss: 0.0920 - val_mae: 0.1888\n",
            "Epoch 97/200\n",
            "26/26 [==============================] - 1s 50ms/step - loss: 0.1504 - mae: 0.3036 - val_loss: 0.0973 - val_mae: 0.1968\n",
            "Epoch 98/200\n",
            "26/26 [==============================] - 1s 49ms/step - loss: 0.1706 - mae: 0.3248 - val_loss: 0.0957 - val_mae: 0.1888\n",
            "Epoch 99/200\n",
            "26/26 [==============================] - 1s 49ms/step - loss: 0.1875 - mae: 0.3341 - val_loss: 0.0887 - val_mae: 0.1718\n",
            "Epoch 100/200\n",
            "26/26 [==============================] - 1s 49ms/step - loss: 0.1675 - mae: 0.3167 - val_loss: 0.0905 - val_mae: 0.1740\n",
            "Epoch 101/200\n",
            "26/26 [==============================] - 1s 50ms/step - loss: 0.1663 - mae: 0.3164 - val_loss: 0.0912 - val_mae: 0.1727\n",
            "Epoch 102/200\n",
            "26/26 [==============================] - 1s 51ms/step - loss: 0.1598 - mae: 0.3149 - val_loss: 0.0928 - val_mae: 0.1735\n",
            "Epoch 103/200\n",
            "26/26 [==============================] - 1s 52ms/step - loss: 0.1663 - mae: 0.3215 - val_loss: 0.0942 - val_mae: 0.1746\n",
            "Epoch 104/200\n",
            "26/26 [==============================] - 2s 63ms/step - loss: 0.1681 - mae: 0.3204 - val_loss: 0.0941 - val_mae: 0.1760\n",
            "Epoch 105/200\n",
            "26/26 [==============================] - 2s 84ms/step - loss: 0.1592 - mae: 0.3122 - val_loss: 0.1008 - val_mae: 0.1917\n",
            "Epoch 106/200\n",
            "26/26 [==============================] - 2s 67ms/step - loss: 0.1636 - mae: 0.3132 - val_loss: 0.1021 - val_mae: 0.1904\n",
            "Epoch 107/200\n",
            "26/26 [==============================] - 1s 49ms/step - loss: 0.1531 - mae: 0.3075 - val_loss: 0.0990 - val_mae: 0.1769\n",
            "Epoch 108/200\n",
            "26/26 [==============================] - 1s 47ms/step - loss: 0.1479 - mae: 0.3017 - val_loss: 0.1005 - val_mae: 0.1854\n",
            "Epoch 109/200\n",
            "26/26 [==============================] - 1s 49ms/step - loss: 0.1566 - mae: 0.3112 - val_loss: 0.1052 - val_mae: 0.2001\n",
            "Epoch 110/200\n",
            "26/26 [==============================] - 1s 50ms/step - loss: 0.1551 - mae: 0.3035 - val_loss: 0.1086 - val_mae: 0.2042\n",
            "Epoch 111/200\n",
            "26/26 [==============================] - 1s 49ms/step - loss: 0.1479 - mae: 0.3048 - val_loss: 0.0999 - val_mae: 0.1918\n",
            "Epoch 112/200\n",
            "26/26 [==============================] - 1s 49ms/step - loss: 0.1636 - mae: 0.3122 - val_loss: 0.0986 - val_mae: 0.1899\n",
            "Epoch 113/200\n",
            "26/26 [==============================] - 1s 48ms/step - loss: 0.1639 - mae: 0.3159 - val_loss: 0.0985 - val_mae: 0.1877\n",
            "Epoch 114/200\n",
            "26/26 [==============================] - 2s 68ms/step - loss: 0.1436 - mae: 0.3001 - val_loss: 0.0962 - val_mae: 0.1826\n",
            "Epoch 115/200\n",
            "26/26 [==============================] - 2s 81ms/step - loss: 0.1437 - mae: 0.2968 - val_loss: 0.0965 - val_mae: 0.1842\n",
            "Epoch 116/200\n",
            "26/26 [==============================] - 2s 64ms/step - loss: 0.1408 - mae: 0.2915 - val_loss: 0.0959 - val_mae: 0.1749\n",
            "Epoch 117/200\n",
            "26/26 [==============================] - 1s 49ms/step - loss: 0.1404 - mae: 0.2871 - val_loss: 0.0970 - val_mae: 0.1753\n",
            "Epoch 118/200\n",
            "26/26 [==============================] - 1s 49ms/step - loss: 0.1375 - mae: 0.2832 - val_loss: 0.0982 - val_mae: 0.1775\n",
            "Epoch 119/200\n",
            "26/26 [==============================] - 1s 49ms/step - loss: 0.1324 - mae: 0.2903 - val_loss: 0.0958 - val_mae: 0.1696\n",
            "Epoch 120/200\n",
            "26/26 [==============================] - 1s 49ms/step - loss: 0.1366 - mae: 0.2885 - val_loss: 0.0936 - val_mae: 0.1664\n",
            "Epoch 121/200\n",
            "26/26 [==============================] - 1s 49ms/step - loss: 0.1534 - mae: 0.3031 - val_loss: 0.0912 - val_mae: 0.1615\n",
            "Epoch 122/200\n",
            "26/26 [==============================] - 1s 49ms/step - loss: 0.1545 - mae: 0.3025 - val_loss: 0.0927 - val_mae: 0.1654\n",
            "Epoch 123/200\n",
            "26/26 [==============================] - 1s 50ms/step - loss: 0.1472 - mae: 0.2992 - val_loss: 0.0962 - val_mae: 0.1668\n",
            "Epoch 124/200\n",
            "26/26 [==============================] - 2s 70ms/step - loss: 0.1358 - mae: 0.2840 - val_loss: 0.0954 - val_mae: 0.1692\n",
            "Epoch 125/200\n",
            "26/26 [==============================] - 2s 77ms/step - loss: 0.1349 - mae: 0.2812 - val_loss: 0.0945 - val_mae: 0.1690\n",
            "Epoch 126/200\n",
            "26/26 [==============================] - 2s 67ms/step - loss: 0.1366 - mae: 0.2850 - val_loss: 0.0992 - val_mae: 0.1731\n",
            "Epoch 127/200\n",
            "26/26 [==============================] - 1s 49ms/step - loss: 0.1328 - mae: 0.2852 - val_loss: 0.0981 - val_mae: 0.1744\n",
            "Epoch 128/200\n",
            "26/26 [==============================] - 1s 48ms/step - loss: 0.1358 - mae: 0.2791 - val_loss: 0.0964 - val_mae: 0.1754\n",
            "Epoch 129/200\n",
            "26/26 [==============================] - 1s 49ms/step - loss: 0.1365 - mae: 0.2842 - val_loss: 0.1012 - val_mae: 0.1768\n",
            "Epoch 130/200\n",
            "26/26 [==============================] - 1s 51ms/step - loss: 0.1378 - mae: 0.2901 - val_loss: 0.1049 - val_mae: 0.1786\n",
            "Epoch 131/200\n",
            "26/26 [==============================] - 1s 49ms/step - loss: 0.1238 - mae: 0.2710 - val_loss: 0.1035 - val_mae: 0.1801\n",
            "Epoch 132/200\n",
            "26/26 [==============================] - 1s 50ms/step - loss: 0.1151 - mae: 0.2658 - val_loss: 0.1010 - val_mae: 0.1783\n",
            "Epoch 133/200\n",
            "26/26 [==============================] - 1s 51ms/step - loss: 0.1193 - mae: 0.2675 - val_loss: 0.1054 - val_mae: 0.1832\n",
            "Epoch 134/200\n",
            "26/26 [==============================] - 2s 69ms/step - loss: 0.1233 - mae: 0.2708 - val_loss: 0.0991 - val_mae: 0.1732\n",
            "Epoch 135/200\n",
            "26/26 [==============================] - 2s 83ms/step - loss: 0.1289 - mae: 0.2715 - val_loss: 0.0991 - val_mae: 0.1703\n",
            "Epoch 136/200\n",
            "26/26 [==============================] - 2s 60ms/step - loss: 0.1216 - mae: 0.2684 - val_loss: 0.1018 - val_mae: 0.1750\n",
            "Epoch 137/200\n",
            "26/26 [==============================] - 1s 50ms/step - loss: 0.1187 - mae: 0.2632 - val_loss: 0.1002 - val_mae: 0.1697\n",
            "Epoch 138/200\n",
            "26/26 [==============================] - 1s 47ms/step - loss: 0.1268 - mae: 0.2785 - val_loss: 0.0941 - val_mae: 0.1637\n",
            "Epoch 139/200\n",
            "26/26 [==============================] - 1s 50ms/step - loss: 0.1187 - mae: 0.2616 - val_loss: 0.0975 - val_mae: 0.1630\n",
            "Epoch 140/200\n",
            "26/26 [==============================] - 1s 50ms/step - loss: 0.1233 - mae: 0.2679 - val_loss: 0.0992 - val_mae: 0.1656\n",
            "Epoch 141/200\n",
            "26/26 [==============================] - 1s 47ms/step - loss: 0.1192 - mae: 0.2667 - val_loss: 0.1017 - val_mae: 0.1708\n",
            "Epoch 142/200\n",
            "26/26 [==============================] - 1s 50ms/step - loss: 0.1025 - mae: 0.2468 - val_loss: 0.0945 - val_mae: 0.1647\n",
            "Epoch 143/200\n",
            "26/26 [==============================] - 1s 48ms/step - loss: 0.1132 - mae: 0.2597 - val_loss: 0.0955 - val_mae: 0.1689\n",
            "Epoch 144/200\n",
            "26/26 [==============================] - 2s 70ms/step - loss: 0.1132 - mae: 0.2594 - val_loss: 0.0971 - val_mae: 0.1699\n",
            "Epoch 145/200\n",
            "26/26 [==============================] - 2s 81ms/step - loss: 0.1121 - mae: 0.2542 - val_loss: 0.1001 - val_mae: 0.1749\n",
            "Epoch 146/200\n",
            "26/26 [==============================] - 2s 59ms/step - loss: 0.1184 - mae: 0.2615 - val_loss: 0.0955 - val_mae: 0.1658\n",
            "Epoch 147/200\n",
            "26/26 [==============================] - 1s 49ms/step - loss: 0.1037 - mae: 0.2431 - val_loss: 0.0938 - val_mae: 0.1620\n",
            "Epoch 148/200\n",
            "26/26 [==============================] - 1s 46ms/step - loss: 0.1141 - mae: 0.2555 - val_loss: 0.0989 - val_mae: 0.1631\n",
            "Epoch 149/200\n",
            "26/26 [==============================] - 1s 46ms/step - loss: 0.1051 - mae: 0.2500 - val_loss: 0.0996 - val_mae: 0.1616\n",
            "Epoch 150/200\n",
            "26/26 [==============================] - 1s 47ms/step - loss: 0.1051 - mae: 0.2491 - val_loss: 0.1038 - val_mae: 0.1664\n",
            "Epoch 151/200\n",
            "26/26 [==============================] - 1s 47ms/step - loss: 0.0995 - mae: 0.2410 - val_loss: 0.1028 - val_mae: 0.1658\n",
            "Epoch 152/200\n",
            "26/26 [==============================] - 1s 49ms/step - loss: 0.1003 - mae: 0.2399 - val_loss: 0.1093 - val_mae: 0.1741\n",
            "Epoch 153/200\n",
            "26/26 [==============================] - 1s 48ms/step - loss: 0.0957 - mae: 0.2324 - val_loss: 0.1095 - val_mae: 0.1792\n",
            "Epoch 154/200\n",
            "26/26 [==============================] - 2s 60ms/step - loss: 0.1087 - mae: 0.2527 - val_loss: 0.0992 - val_mae: 0.1612\n",
            "Epoch 155/200\n",
            "26/26 [==============================] - 2s 81ms/step - loss: 0.0963 - mae: 0.2359 - val_loss: 0.0987 - val_mae: 0.1593\n",
            "Epoch 156/200\n",
            "26/26 [==============================] - 2s 71ms/step - loss: 0.0993 - mae: 0.2358 - val_loss: 0.1003 - val_mae: 0.1635\n",
            "Epoch 157/200\n",
            "26/26 [==============================] - 1s 49ms/step - loss: 0.1072 - mae: 0.2505 - val_loss: 0.1028 - val_mae: 0.1733\n",
            "Epoch 158/200\n",
            "26/26 [==============================] - 1s 48ms/step - loss: 0.1038 - mae: 0.2415 - val_loss: 0.0966 - val_mae: 0.1611\n",
            "Epoch 159/200\n",
            "26/26 [==============================] - 1s 51ms/step - loss: 0.0888 - mae: 0.2251 - val_loss: 0.1013 - val_mae: 0.1655\n",
            "Epoch 160/200\n",
            "26/26 [==============================] - 1s 48ms/step - loss: 0.0897 - mae: 0.2293 - val_loss: 0.0949 - val_mae: 0.1564\n",
            "Epoch 161/200\n",
            "26/26 [==============================] - 1s 49ms/step - loss: 0.0912 - mae: 0.2332 - val_loss: 0.0973 - val_mae: 0.1612\n",
            "Epoch 162/200\n",
            "26/26 [==============================] - 1s 49ms/step - loss: 0.0915 - mae: 0.2306 - val_loss: 0.1041 - val_mae: 0.1697\n",
            "Epoch 163/200\n",
            "26/26 [==============================] - 1s 49ms/step - loss: 0.0969 - mae: 0.2342 - val_loss: 0.0970 - val_mae: 0.1629\n",
            "Epoch 164/200\n",
            "26/26 [==============================] - 2s 63ms/step - loss: 0.0910 - mae: 0.2287 - val_loss: 0.0924 - val_mae: 0.1576\n",
            "Epoch 165/200\n",
            "26/26 [==============================] - 2s 79ms/step - loss: 0.0922 - mae: 0.2306 - val_loss: 0.0955 - val_mae: 0.1586\n",
            "Epoch 166/200\n",
            "26/26 [==============================] - 2s 70ms/step - loss: 0.0979 - mae: 0.2324 - val_loss: 0.0985 - val_mae: 0.1620\n",
            "Epoch 167/200\n",
            "26/26 [==============================] - 1s 48ms/step - loss: 0.0899 - mae: 0.2229 - val_loss: 0.0965 - val_mae: 0.1615\n",
            "Epoch 168/200\n",
            "26/26 [==============================] - 1s 47ms/step - loss: 0.0880 - mae: 0.2242 - val_loss: 0.0962 - val_mae: 0.1599\n",
            "Epoch 169/200\n",
            "26/26 [==============================] - 1s 51ms/step - loss: 0.0896 - mae: 0.2260 - val_loss: 0.0957 - val_mae: 0.1592\n",
            "Epoch 170/200\n",
            "26/26 [==============================] - 1s 48ms/step - loss: 0.0810 - mae: 0.2179 - val_loss: 0.0962 - val_mae: 0.1591\n",
            "Epoch 171/200\n",
            "26/26 [==============================] - 1s 51ms/step - loss: 0.0864 - mae: 0.2208 - val_loss: 0.0976 - val_mae: 0.1579\n",
            "Epoch 172/200\n",
            "26/26 [==============================] - 1s 47ms/step - loss: 0.0815 - mae: 0.2165 - val_loss: 0.0953 - val_mae: 0.1542\n",
            "Epoch 173/200\n",
            "26/26 [==============================] - 1s 48ms/step - loss: 0.0762 - mae: 0.2102 - val_loss: 0.1001 - val_mae: 0.1596\n",
            "Epoch 174/200\n",
            "26/26 [==============================] - 2s 62ms/step - loss: 0.0876 - mae: 0.2215 - val_loss: 0.1038 - val_mae: 0.1641\n",
            "Epoch 175/200\n",
            "26/26 [==============================] - 2s 79ms/step - loss: 0.0911 - mae: 0.2277 - val_loss: 0.0967 - val_mae: 0.1581\n",
            "Epoch 176/200\n",
            "26/26 [==============================] - 2s 71ms/step - loss: 0.0804 - mae: 0.2112 - val_loss: 0.1008 - val_mae: 0.1613\n",
            "Epoch 177/200\n",
            "26/26 [==============================] - 1s 49ms/step - loss: 0.0823 - mae: 0.2166 - val_loss: 0.0933 - val_mae: 0.1548\n",
            "Epoch 178/200\n",
            "26/26 [==============================] - 1s 47ms/step - loss: 0.0760 - mae: 0.2050 - val_loss: 0.0914 - val_mae: 0.1517\n",
            "Epoch 179/200\n",
            "26/26 [==============================] - 1s 48ms/step - loss: 0.0787 - mae: 0.2095 - val_loss: 0.0917 - val_mae: 0.1527\n",
            "Epoch 180/200\n",
            "26/26 [==============================] - 1s 50ms/step - loss: 0.0816 - mae: 0.2172 - val_loss: 0.0950 - val_mae: 0.1546\n",
            "Epoch 181/200\n",
            "26/26 [==============================] - 1s 48ms/step - loss: 0.0696 - mae: 0.1990 - val_loss: 0.0940 - val_mae: 0.1532\n",
            "Epoch 182/200\n",
            "26/26 [==============================] - 1s 49ms/step - loss: 0.0702 - mae: 0.2021 - val_loss: 0.0987 - val_mae: 0.1591\n",
            "Epoch 183/200\n",
            "26/26 [==============================] - 1s 47ms/step - loss: 0.0850 - mae: 0.2171 - val_loss: 0.1010 - val_mae: 0.1613\n",
            "Epoch 184/200\n",
            "26/26 [==============================] - 2s 59ms/step - loss: 0.0766 - mae: 0.2118 - val_loss: 0.0970 - val_mae: 0.1566\n",
            "Epoch 185/200\n",
            "26/26 [==============================] - 2s 75ms/step - loss: 0.0794 - mae: 0.2063 - val_loss: 0.0963 - val_mae: 0.1528\n",
            "Epoch 186/200\n",
            "26/26 [==============================] - 2s 74ms/step - loss: 0.0775 - mae: 0.2082 - val_loss: 0.0950 - val_mae: 0.1529\n",
            "Epoch 187/200\n",
            "26/26 [==============================] - 1s 50ms/step - loss: 0.0729 - mae: 0.2002 - val_loss: 0.0994 - val_mae: 0.1564\n",
            "Epoch 188/200\n",
            "26/26 [==============================] - 1s 48ms/step - loss: 0.0711 - mae: 0.1986 - val_loss: 0.1021 - val_mae: 0.1629\n",
            "Epoch 189/200\n",
            "26/26 [==============================] - 1s 48ms/step - loss: 0.0719 - mae: 0.1984 - val_loss: 0.0974 - val_mae: 0.1594\n",
            "Epoch 190/200\n",
            "26/26 [==============================] - 1s 50ms/step - loss: 0.0719 - mae: 0.2029 - val_loss: 0.0966 - val_mae: 0.1569\n",
            "Epoch 191/200\n",
            "26/26 [==============================] - 1s 49ms/step - loss: 0.0610 - mae: 0.1839 - val_loss: 0.0904 - val_mae: 0.1461\n",
            "Epoch 192/200\n",
            "26/26 [==============================] - 1s 48ms/step - loss: 0.0655 - mae: 0.1872 - val_loss: 0.0904 - val_mae: 0.1466\n",
            "Epoch 193/200\n",
            "26/26 [==============================] - 1s 48ms/step - loss: 0.0629 - mae: 0.1869 - val_loss: 0.0908 - val_mae: 0.1473\n",
            "Epoch 194/200\n",
            "26/26 [==============================] - 1s 49ms/step - loss: 0.0684 - mae: 0.1922 - val_loss: 0.0959 - val_mae: 0.1647\n",
            "Epoch 195/200\n",
            "26/26 [==============================] - 2s 75ms/step - loss: 0.0660 - mae: 0.1895 - val_loss: 0.0991 - val_mae: 0.1780\n",
            "Epoch 196/200\n",
            "26/26 [==============================] - 2s 75ms/step - loss: 0.0669 - mae: 0.1893 - val_loss: 0.0987 - val_mae: 0.1629\n",
            "Epoch 197/200\n",
            "26/26 [==============================] - 1s 57ms/step - loss: 0.0703 - mae: 0.1917 - val_loss: 0.1007 - val_mae: 0.1656\n",
            "Epoch 198/200\n",
            "26/26 [==============================] - 1s 50ms/step - loss: 0.0651 - mae: 0.1866 - val_loss: 0.0948 - val_mae: 0.1585\n",
            "Epoch 199/200\n",
            "26/26 [==============================] - 1s 50ms/step - loss: 0.0544 - mae: 0.1750 - val_loss: 0.0933 - val_mae: 0.1534\n",
            "Epoch 200/200\n",
            "26/26 [==============================] - 1s 48ms/step - loss: 0.0588 - mae: 0.1796 - val_loss: 0.0900 - val_mae: 0.1482\n"
          ]
        },
        {
          "output_type": "display_data",
          "data": {
            "text/plain": [
              "<Figure size 1000x400 with 1 Axes>"
            ],
            "image/png": "[encoded data removed]"
          },
          "metadata": {}
        }
      ]
    },
    {
      "cell_type": "code",
      "source": [
        "plt.plot(history.history['mae'], \n",
        "         label='Средняя абсолютная ошибка на обучающем наборе')\n",
        "plt.plot(history.history['val_mae'], \n",
        "         label='Средняя абсолютная ошибка на проверочном наборе')\n",
        "plt.xlabel('Эпоха обучения')\n",
        "plt.ylabel('Средняя абсолютная ошибка')\n",
        "plt.legend()\n",
        "plt.show()"
      ],
      "metadata": {
        "colab": {
          "base_uri": "https://localhost:8080/",
          "height": 452
        },
        "id": "lyAw_S1ge_M6",
        "outputId": "e7401a41-e728-4862-e34e-29121c7030f1"
      },
      "execution_count": 80,
      "outputs": [
        {
          "output_type": "display_data",
          "data": {
            "text/plain": [
              "<Figure size 640x480 with 1 Axes>"
            ],
            "image/png": "[encoded data removed]"
          },
          "metadata": {}
        }
      ]
    },
    {
      "cell_type": "code",
      "source": [
        "pred = model.predict([x_test, x_test_text1, x_test_text2]) \n",
        "plt.scatter(y_test, pred)\n",
        "plt.xlabel('Правильные значение')\n",
        "plt.ylabel('Предсказания')\n",
        "plt.axis('equal')\n",
        "plt.xlim(plt.xlim())\n",
        "plt.ylim(plt.ylim())\n",
        "plt.plot([-1000, 1000], [-1000, 1000])\n",
        "plt.show()"
      ],
      "metadata": {
        "colab": {
          "base_uri": "https://localhost:8080/",
          "height": 466
        },
        "id": "0Co0yQafuqsr",
        "outputId": "6fce8da6-6a53-46ac-d75a-16dfd5acd9c2"
      },
      "execution_count": 81,
      "outputs": [
        {
          "output_type": "stream",
          "name": "stdout",
          "text": [
            "13/13 [==============================] - 0s 9ms/step\n"
          ]
        },
        {
          "output_type": "display_data",
          "data": {
            "text/plain": [
              "<Figure size 640x480 with 1 Axes>"
            ],
            "image/png": "[encoded data removed]"
          },
          "metadata": {}
        }
      ]
    },
    {
      "cell_type": "code",
      "source": [
        "m_l = []\n",
        "s = 0\n",
        "for i in range(0, len(y_test)):\n",
        "    if np.round(y_test[i]) == np.round(pred[i]):\n",
        "        s += 1\n",
        "    dif = (y_test[i] - pred[i])**2\n",
        "    print(y_test[i], pred[i], dif, np.round(y_test[i]), np.round(pred[i]))\n",
        "    m_l.append(dif)\n",
        "\n",
        "print('Среднеквадратичное отклонение', np.sqrt(np.mean(m_l)))\n",
        "print('Точность модели', s / len(y_test))"
      ],
      "metadata": {
        "colab": {
          "base_uri": "https://localhost:8080/"
        },
        "id": "x291FFBKoXEQ",
        "outputId": "c4d660e1-445d-4697-dcdb-76023a46d28d"
      },
      "execution_count": 82,
      "outputs": [
        {
          "output_type": "stream",
          "name": "stdout",
          "text": [
            "0.0 [-0.02839546] [0.0008063] 0.0 [-0.]\n",
            "0.0 [-0.00374721] [1.4041582e-05] 0.0 [-0.]\n",
            "0.0 [0.02917601] [0.00085124] 0.0 [0.]\n",
            "0.0 [-0.13322498] [0.01774889] 0.0 [-0.]\n",
            "1.0 [0.05053312] [0.90148735] 1.0 [0.]\n",
            "0.0 [-0.02051258] [0.00042077] 0.0 [-0.]\n",
            "0.0 [0.01798247] [0.00032337] 0.0 [0.]\n",
            "0.0 [0.0438047] [0.00191885] 0.0 [0.]\n",
            "0.0 [0.11917882] [0.01420359] 0.0 [0.]\n",
            "0.0 [-0.03579614] [0.00128136] 0.0 [-0.]\n",
            "0.0 [0.0438047] [0.00191885] 0.0 [0.]\n",
            "0.0 [0.03325622] [0.00110598] 0.0 [0.]\n",
            "1.0 [-0.01186821] [1.0238774] 1.0 [-0.]\n",
            "0.0 [0.085956] [0.00738843] 0.0 [0.]\n",
            "0.0 [0.04825601] [0.00232864] 0.0 [0.]\n",
            "0.0 [-0.05024405] [0.00252446] 0.0 [-0.]\n",
            "0.0 [0.02260817] [0.00051113] 0.0 [0.]\n",
            "0.0 [0.00042941] [1.8439657e-07] 0.0 [0.]\n",
            "1.0 [0.8740726] [0.01585771] 1.0 [1.]\n",
            "0.0 [-0.05732799] [0.0032865] 0.0 [-0.]\n",
            "0.0 [0.0064513] [4.161924e-05] 0.0 [0.]\n",
            "1.0 [0.04268584] [0.9164503] 1.0 [0.]\n",
            "0.0 [-0.05663648] [0.00320769] 0.0 [-0.]\n",
            "0.0 [0.13597369] [0.01848884] 0.0 [0.]\n",
            "0.0 [0.02539372] [0.00064484] 0.0 [0.]\n",
            "0.0 [-0.00621708] [3.8652142e-05] 0.0 [-0.]\n",
            "0.0 [0.04562811] [0.00208192] 0.0 [0.]\n",
            "0.0 [-0.01899192] [0.00036069] 0.0 [-0.]\n",
            "0.0 [0.0112523] [0.00012661] 0.0 [0.]\n",
            "1.0 [0.10222962] [0.8059917] 1.0 [0.]\n",
            "0.0 [-0.09143975] [0.00836123] 0.0 [-0.]\n",
            "0.0 [-0.02344223] [0.00054954] 0.0 [-0.]\n",
            "0.0 [-0.06571905] [0.00431899] 0.0 [-0.]\n",
            "0.0 [0.10593779] [0.01122281] 0.0 [0.]\n",
            "1.0 [-0.05117851] [1.1049762] 1.0 [-0.]\n",
            "0.0 [0.21586046] [0.04659574] 0.0 [0.]\n",
            "0.0 [0.05337211] [0.00284858] 0.0 [0.]\n",
            "0.0 [-0.08984374] [0.0080719] 0.0 [-0.]\n",
            "0.0 [0.01871508] [0.00035025] 0.0 [0.]\n",
            "0.0 [0.02927165] [0.00085683] 0.0 [0.]\n",
            "0.0 [-0.05358198] [0.00287103] 0.0 [-0.]\n",
            "0.0 [0.00551175] [3.0379382e-05] 0.0 [0.]\n",
            "0.0 [-0.03283142] [0.0010779] 0.0 [-0.]\n",
            "0.0 [-0.01593765] [0.00025401] 0.0 [-0.]\n",
            "0.0 [0.00281377] [7.917289e-06] 0.0 [0.]\n",
            "0.0 [0.12138516] [0.01473436] 0.0 [0.]\n",
            "0.0 [-0.00113535] [1.289018e-06] 0.0 [-0.]\n",
            "0.0 [-0.05420947] [0.00293867] 0.0 [-0.]\n",
            "0.0 [-0.05378641] [0.00289298] 0.0 [-0.]\n",
            "0.0 [-0.00713988] [5.0977837e-05] 0.0 [-0.]\n",
            "0.0 [0.05634598] [0.00317487] 0.0 [0.]\n",
            "0.0 [0.05634598] [0.00317487] 0.0 [0.]\n",
            "0.0 [0.01638161] [0.00026836] 0.0 [0.]\n",
            "0.0 [0.06328101] [0.00400449] 0.0 [0.]\n",
            "0.0 [0.05686574] [0.00323371] 0.0 [0.]\n",
            "0.0 [0.03247229] [0.00105445] 0.0 [0.]\n",
            "0.0 [0.02028207] [0.00041136] 0.0 [0.]\n",
            "1.0 [0.40758082] [0.35096043] 1.0 [0.]\n",
            "0.0 [-0.00435396] [1.895696e-05] 0.0 [-0.]\n",
            "0.0 [-0.03083293] [0.00095067] 0.0 [-0.]\n",
            "0.0 [0.00136912] [1.8744962e-06] 0.0 [0.]\n",
            "0.0 [-0.02192296] [0.00048062] 0.0 [-0.]\n",
            "0.0 [0.0123175] [0.00015172] 0.0 [0.]\n",
            "0.0 [0.02815749] [0.00079284] 0.0 [0.]\n",
            "0.0 [0.00243178] [5.9135546e-06] 0.0 [0.]\n",
            "0.0 [0.01693784] [0.00028689] 0.0 [0.]\n",
            "0.0 [-0.04411728] [0.00194633] 0.0 [-0.]\n",
            "1.0 [0.20726904] [0.6284223] 1.0 [0.]\n",
            "0.0 [-0.05873629] [0.00344995] 0.0 [-0.]\n",
            "0.0 [0.15109372] [0.02282931] 0.0 [0.]\n",
            "0.0 [0.02359937] [0.00055693] 0.0 [0.]\n",
            "0.0 [0.00086688] [7.514724e-07] 0.0 [0.]\n",
            "0.0 [-0.0649318] [0.00421614] 0.0 [-0.]\n",
            "0.0 [0.06180849] [0.00382029] 0.0 [0.]\n",
            "0.0 [0.24607888] [0.06055481] 0.0 [0.]\n",
            "0.0 [-0.01663018] [0.00027656] 0.0 [-0.]\n",
            "0.0 [-0.00857823] [7.358609e-05] 0.0 [-0.]\n",
            "0.0 [0.00553368] [3.0621617e-05] 0.0 [0.]\n",
            "0.0 [-0.05072679] [0.00257321] 0.0 [-0.]\n",
            "0.0 [-0.10315463] [0.01064088] 0.0 [-0.]\n",
            "0.0 [0.01604224] [0.00025735] 0.0 [0.]\n",
            "0.0 [-0.07097964] [0.00503811] 0.0 [-0.]\n",
            "0.0 [-0.06163645] [0.00379905] 0.0 [-0.]\n",
            "0.0 [-0.05451156] [0.00297151] 0.0 [-0.]\n",
            "0.0 [-0.02922348] [0.00085401] 0.0 [-0.]\n",
            "0.0 [-0.00094592] [8.9476134e-07] 0.0 [-0.]\n",
            "0.0 [-0.05811943] [0.00337787] 0.0 [-0.]\n",
            "0.0 [-0.05732799] [0.0032865] 0.0 [-0.]\n",
            "0.0 [-0.0556553] [0.00309751] 0.0 [-0.]\n",
            "0.0 [-0.04156572] [0.00172771] 0.0 [-0.]\n",
            "0.0 [-0.02982069] [0.00088927] 0.0 [-0.]\n",
            "0.0 [0.14101428] [0.01988503] 0.0 [0.]\n",
            "0.0 [-0.01949319] [0.00037998] 0.0 [-0.]\n",
            "0.0 [-0.04142313] [0.00171588] 0.0 [-0.]\n",
            "0.0 [-0.0414231] [0.00171587] 0.0 [-0.]\n",
            "0.0 [-0.01949328] [0.00037999] 0.0 [-0.]\n",
            "0.0 [1.1851825] [1.4046575] 0.0 [1.]\n",
            "0.0 [0.00312638] [9.774246e-06] 0.0 [0.]\n",
            "0.0 [-0.02442007] [0.00059634] 0.0 [-0.]\n",
            "0.0 [0.04103968] [0.00168426] 0.0 [0.]\n",
            "0.0 [0.04556962] [0.00207659] 0.0 [0.]\n",
            "0.0 [-0.00224255] [5.029015e-06] 0.0 [-0.]\n",
            "0.0 [-0.0494639] [0.00244668] 0.0 [-0.]\n",
            "0.0 [-0.04561359] [0.0020806] 0.0 [-0.]\n",
            "1.0 [0.08713239] [0.8333273] 1.0 [0.]\n",
            "0.0 [-0.00518716] [2.6906642e-05] 0.0 [-0.]\n",
            "0.0 [-0.06782462] [0.00460018] 0.0 [-0.]\n",
            "0.0 [-0.01361857] [0.00018547] 0.0 [-0.]\n",
            "0.0 [0.04519244] [0.00204236] 0.0 [0.]\n",
            "0.0 [0.1436576] [0.0206375] 0.0 [0.]\n",
            "0.0 [-0.00429175] [1.8419123e-05] 0.0 [-0.]\n",
            "0.0 [0.03727435] [0.00138938] 0.0 [0.]\n",
            "0.0 [-0.04076147] [0.0016615] 0.0 [-0.]\n",
            "0.0 [0.02047934] [0.0004194] 0.0 [0.]\n",
            "0.0 [-0.10175197] [0.01035346] 0.0 [-0.]\n",
            "0.0 [-0.04804444] [0.00230827] 0.0 [-0.]\n",
            "0.0 [0.05952451] [0.00354317] 0.0 [0.]\n",
            "0.0 [0.19107226] [0.03650861] 0.0 [0.]\n",
            "0.0 [-0.028817] [0.00083042] 0.0 [-0.]\n",
            "0.0 [-0.08995875] [0.00809258] 0.0 [-0.]\n",
            "0.0 [-0.01865781] [0.00034811] 0.0 [-0.]\n",
            "0.0 [0.00855875] [7.32522e-05] 0.0 [0.]\n",
            "0.0 [0.00906252] [8.212929e-05] 0.0 [0.]\n",
            "0.0 [-0.03339745] [0.00111539] 0.0 [-0.]\n",
            "0.0 [0.00119393] [1.4254587e-06] 0.0 [0.]\n",
            "0.0 [0.04736451] [0.0022434] 0.0 [0.]\n",
            "0.0 [-0.00601634] [3.6196347e-05] 0.0 [-0.]\n",
            "0.0 [0.5340036] [0.28515986] 0.0 [1.]\n",
            "0.0 [0.02871875] [0.00082477] 0.0 [0.]\n",
            "0.0 [-0.02006042] [0.00040242] 0.0 [-0.]\n",
            "0.0 [0.01372081] [0.00018826] 0.0 [0.]\n",
            "0.0 [-0.06359071] [0.00404378] 0.0 [-0.]\n",
            "1.0 [0.00569692] [0.98863864] 1.0 [0.]\n",
            "0.0 [-0.03221085] [0.00103754] 0.0 [-0.]\n",
            "0.0 [0.03954002] [0.00156341] 0.0 [0.]\n",
            "0.0 [-0.00878139] [7.711278e-05] 0.0 [-0.]\n",
            "0.0 [1.0454497] [1.0929651] 0.0 [1.]\n",
            "0.0 [0.06021771] [0.00362617] 0.0 [0.]\n",
            "1.0 [0.03030291] [0.9403125] 1.0 [0.]\n",
            "0.0 [0.04463924] [0.00199266] 0.0 [0.]\n",
            "0.0 [0.04564968] [0.00208389] 0.0 [0.]\n",
            "0.0 [-0.01429664] [0.00020439] 0.0 [-0.]\n",
            "1.0 [0.02528466] [0.95007] 1.0 [0.]\n",
            "0.0 [-0.04731657] [0.00223886] 0.0 [-0.]\n",
            "0.0 [0.18886855] [0.03567133] 0.0 [0.]\n",
            "0.0 [-0.02546016] [0.00064822] 0.0 [-0.]\n",
            "0.0 [0.02247663] [0.0005052] 0.0 [0.]\n",
            "0.0 [-0.00918901] [8.4437896e-05] 0.0 [-0.]\n",
            "0.0 [0.12221662] [0.0149369] 0.0 [0.]\n",
            "0.0 [0.01071414] [0.00011479] 0.0 [0.]\n",
            "0.0 [-0.03330496] [0.00110922] 0.0 [-0.]\n",
            "0.0 [-0.044718] [0.0019997] 0.0 [-0.]\n",
            "0.0 [0.27049208] [0.07316596] 0.0 [0.]\n",
            "0.0 [0.00347383] [1.2067465e-05] 0.0 [0.]\n",
            "0.0 [0.06278772] [0.0039423] 0.0 [0.]\n",
            "0.0 [0.21795556] [0.04750463] 0.0 [0.]\n",
            "0.0 [0.370852] [0.1375312] 0.0 [0.]\n",
            "1.0 [0.710623] [0.08373903] 1.0 [1.]\n",
            "0.0 [0.18594351] [0.03457499] 0.0 [0.]\n",
            "0.0 [0.02795038] [0.00078122] 0.0 [0.]\n",
            "0.0 [-0.01680535] [0.00028242] 0.0 [-0.]\n",
            "0.0 [0.10859238] [0.01179231] 0.0 [0.]\n",
            "0.0 [-0.0087248] [7.612216e-05] 0.0 [-0.]\n",
            "0.0 [0.02375577] [0.00056434] 0.0 [0.]\n",
            "0.0 [0.00967794] [9.366251e-05] 0.0 [0.]\n",
            "1.0 [1.2384913] [0.0568781] 1.0 [1.]\n",
            "0.0 [0.07913508] [0.00626236] 0.0 [0.]\n",
            "0.0 [0.00347383] [1.2067465e-05] 0.0 [0.]\n",
            "0.0 [0.10823677] [0.0117152] 0.0 [0.]\n",
            "0.0 [0.19878557] [0.0395157] 0.0 [0.]\n",
            "1.0 [0.45217556] [0.30011162] 1.0 [0.]\n",
            "0.0 [1.0833662] [1.1736822] 0.0 [1.]\n",
            "0.0 [0.01514851] [0.00022948] 0.0 [0.]\n",
            "0.0 [0.08203163] [0.00672919] 0.0 [0.]\n",
            "0.0 [0.00599483] [3.593799e-05] 0.0 [0.]\n",
            "0.0 [0.00347383] [1.2067465e-05] 0.0 [0.]\n",
            "0.0 [0.04591688] [0.00210836] 0.0 [0.]\n",
            "0.0 [0.04248952] [0.00180536] 0.0 [0.]\n",
            "0.0 [0.13093716] [0.01714454] 0.0 [0.]\n",
            "0.0 [0.01413182] [0.00019971] 0.0 [0.]\n",
            "1.0 [0.18708903] [0.66082424] 1.0 [0.]\n",
            "0.0 [0.02430832] [0.00059089] 0.0 [0.]\n",
            "0.0 [-0.04485271] [0.00201177] 0.0 [-0.]\n",
            "0.0 [0.08030581] [0.00644902] 0.0 [0.]\n",
            "1.0 [0.05729444] [0.8886938] 1.0 [0.]\n",
            "0.0 [-0.02791292] [0.00077913] 0.0 [-0.]\n",
            "0.0 [-0.00094592] [8.9476134e-07] 0.0 [-0.]\n",
            "0.0 [-0.05811943] [0.00337787] 0.0 [-0.]\n",
            "0.0 [-0.04716935] [0.00222495] 0.0 [-0.]\n",
            "0.0 [-0.06773321] [0.00458779] 0.0 [-0.]\n",
            "0.0 [-0.08804634] [0.00775216] 0.0 [-0.]\n",
            "0.0 [-0.00907383] [8.233441e-05] 0.0 [-0.]\n",
            "0.0 [0.09309363] [0.00866642] 0.0 [0.]\n",
            "0.0 [1.0387214] [1.0789422] 0.0 [1.]\n",
            "0.0 [0.07071059] [0.00499999] 0.0 [0.]\n",
            "0.0 [0.12577456] [0.01581924] 0.0 [0.]\n",
            "0.0 [-0.05451156] [0.00297151] 0.0 [-0.]\n",
            "0.0 [-0.04182211] [0.00174909] 0.0 [-0.]\n",
            "0.0 [-0.03419255] [0.00116913] 0.0 [-0.]\n",
            "0.0 [-0.05468453] [0.0029904] 0.0 [-0.]\n",
            "0.0 [0.13849795] [0.01918168] 0.0 [0.]\n",
            "0.0 [-0.00299789] [8.987323e-06] 0.0 [-0.]\n",
            "0.0 [-0.04535208] [0.00205681] 0.0 [-0.]\n",
            "0.0 [0.06193482] [0.00383592] 0.0 [0.]\n",
            "0.0 [0.15709004] [0.02467728] 0.0 [0.]\n",
            "0.0 [0.0088038] [7.7506826e-05] 0.0 [0.]\n",
            "0.0 [-0.00683397] [4.6703153e-05] 0.0 [-0.]\n",
            "0.0 [-0.0492218] [0.00242279] 0.0 [-0.]\n",
            "0.0 [-0.03231343] [0.00104416] 0.0 [-0.]\n",
            "0.0 [-0.01398367] [0.00019554] 0.0 [-0.]\n",
            "0.0 [0.15054283] [0.02266314] 0.0 [0.]\n",
            "0.0 [-0.01957546] [0.0003832] 0.0 [-0.]\n",
            "0.0 [-0.02820544] [0.00079555] 0.0 [-0.]\n",
            "0.0 [0.22292724] [0.04969656] 0.0 [0.]\n",
            "0.0 [0.02814526] [0.00079216] 0.0 [0.]\n",
            "0.0 [0.25276223] [0.06388874] 0.0 [0.]\n",
            "0.0 [-0.00734116] [5.389265e-05] 0.0 [-0.]\n",
            "0.0 [-0.0453122] [0.0020532] 0.0 [-0.]\n",
            "0.0 [-0.03985708] [0.00158859] 0.0 [-0.]\n",
            "0.0 [0.03163929] [0.00100104] 0.0 [0.]\n",
            "0.0 [-0.06803749] [0.0046291] 0.0 [-0.]\n",
            "0.0 [0.04740672] [0.0022474] 0.0 [0.]\n",
            "0.0 [-0.01961912] [0.00038491] 0.0 [-0.]\n",
            "0.0 [-0.02519222] [0.00063465] 0.0 [-0.]\n",
            "0.0 [-0.03630343] [0.00131794] 0.0 [-0.]\n",
            "0.0 [0.05455875] [0.00297666] 0.0 [0.]\n",
            "1.0 [-0.04683009] [1.0958532] 1.0 [-0.]\n",
            "0.0 [0.01112887] [0.00012385] 0.0 [0.]\n",
            "1.0 [-0.02037579] [1.0411667] 1.0 [-0.]\n",
            "0.0 [-0.04874709] [0.00237628] 0.0 [-0.]\n",
            "0.0 [-0.02989002] [0.00089341] 0.0 [-0.]\n",
            "0.0 [0.06732297] [0.00453238] 0.0 [0.]\n",
            "0.0 [0.0165839] [0.00027503] 0.0 [0.]\n",
            "0.0 [-0.01955242] [0.0003823] 0.0 [-0.]\n",
            "0.0 [-0.06725198] [0.00452283] 0.0 [-0.]\n",
            "1.0 [0.02662062] [0.9474674] 1.0 [0.]\n",
            "0.0 [0.01855819] [0.00034441] 0.0 [0.]\n",
            "0.0 [0.15246013] [0.02324409] 0.0 [0.]\n",
            "0.0 [0.1388951] [0.01929185] 0.0 [0.]\n",
            "0.0 [-0.02270076] [0.00051532] 0.0 [-0.]\n",
            "0.0 [0.09126677] [0.00832962] 0.0 [0.]\n",
            "0.0 [-0.03137416] [0.00098434] 0.0 [-0.]\n",
            "0.0 [0.15728611] [0.02473892] 0.0 [0.]\n",
            "0.0 [-0.03657501] [0.00133773] 0.0 [-0.]\n",
            "0.0 [-0.00395154] [1.5614685e-05] 0.0 [-0.]\n",
            "0.0 [-0.08198892] [0.00672218] 0.0 [-0.]\n",
            "0.0 [0.04162969] [0.00173303] 0.0 [0.]\n",
            "0.0 [-0.03736132] [0.00139587] 0.0 [-0.]\n",
            "0.0 [0.10406893] [0.01083034] 0.0 [0.]\n",
            "0.0 [0.00820406] [6.7306566e-05] 0.0 [0.]\n",
            "0.0 [0.8649889] [0.74820584] 0.0 [1.]\n",
            "0.0 [0.00329608] [1.0864125e-05] 0.0 [0.]\n",
            "0.0 [-0.06660005] [0.00443557] 0.0 [-0.]\n",
            "0.0 [0.01409232] [0.00019859] 0.0 [0.]\n",
            "0.0 [-0.01612703] [0.00026008] 0.0 [-0.]\n",
            "0.0 [-0.00242249] [5.868454e-06] 0.0 [-0.]\n",
            "0.0 [0.01299955] [0.00016899] 0.0 [0.]\n",
            "0.0 [0.00114221] [1.3046381e-06] 0.0 [0.]\n",
            "0.0 [-0.08119497] [0.00659262] 0.0 [-0.]\n",
            "0.0 [-0.03007892] [0.00090474] 0.0 [-0.]\n",
            "0.0 [-0.02244612] [0.00050383] 0.0 [-0.]\n",
            "0.0 [0.03633487] [0.00132022] 0.0 [0.]\n",
            "0.0 [0.02603819] [0.00067799] 0.0 [0.]\n",
            "1.0 [0.01732059] [0.96565884] 1.0 [0.]\n",
            "0.0 [-0.04831452] [0.00233429] 0.0 [-0.]\n",
            "0.0 [-0.04978243] [0.00247829] 0.0 [-0.]\n",
            "0.0 [-0.0509517] [0.00259608] 0.0 [-0.]\n",
            "0.0 [-0.03608593] [0.00130219] 0.0 [-0.]\n",
            "0.0 [-0.01629361] [0.00026548] 0.0 [-0.]\n",
            "0.0 [0.4498648] [0.20237835] 0.0 [0.]\n",
            "0.0 [0.00695277] [4.834096e-05] 0.0 [0.]\n",
            "0.0 [-0.00309949] [9.606815e-06] 0.0 [-0.]\n",
            "0.0 [-0.00192624] [3.7104132e-06] 0.0 [-0.]\n",
            "0.0 [0.03448144] [0.00118897] 0.0 [0.]\n",
            "0.0 [0.01089527] [0.00011871] 0.0 [0.]\n",
            "0.0 [-0.03291617] [0.00108347] 0.0 [-0.]\n",
            "0.0 [0.0404208] [0.00163384] 0.0 [0.]\n",
            "0.0 [0.00396856] [1.5749492e-05] 0.0 [0.]\n",
            "0.0 [-0.01418202] [0.00020113] 0.0 [-0.]\n",
            "0.0 [0.08867537] [0.00786332] 0.0 [0.]\n",
            "0.0 [0.09797975] [0.00960003] 0.0 [0.]\n",
            "0.0 [0.02688313] [0.0007227] 0.0 [0.]\n",
            "0.0 [-0.00793166] [6.291125e-05] 0.0 [-0.]\n",
            "0.0 [-0.00798319] [6.3731364e-05] 0.0 [-0.]\n",
            "0.0 [0.05159851] [0.00266241] 0.0 [0.]\n",
            "0.0 [0.14989188] [0.02246758] 0.0 [0.]\n",
            "0.0 [0.08762693] [0.00767848] 0.0 [0.]\n",
            "0.0 [-0.01557839] [0.00024269] 0.0 [-0.]\n",
            "0.0 [-0.03696197] [0.00136619] 0.0 [-0.]\n",
            "0.0 [-0.04957789] [0.00245797] 0.0 [-0.]\n",
            "0.0 [-0.0110311] [0.00012169] 0.0 [-0.]\n",
            "0.0 [-0.00286762] [8.223247e-06] 0.0 [-0.]\n",
            "0.0 [-0.02981987] [0.00088922] 0.0 [-0.]\n",
            "0.0 [0.09364351] [0.00876911] 0.0 [0.]\n",
            "0.0 [0.62285256] [0.38794532] 0.0 [1.]\n",
            "0.0 [0.28992623] [0.08405722] 0.0 [0.]\n",
            "0.0 [0.0119038] [0.0001417] 0.0 [0.]\n",
            "0.0 [0.7526937] [0.5665478] 0.0 [1.]\n",
            "0.0 [0.00593816] [3.52618e-05] 0.0 [0.]\n",
            "0.0 [-0.00503393] [2.534044e-05] 0.0 [-0.]\n",
            "0.0 [0.04895806] [0.00239689] 0.0 [0.]\n",
            "0.0 [-0.01332691] [0.00017761] 0.0 [-0.]\n",
            "0.0 [0.00095338] [9.0894054e-07] 0.0 [0.]\n",
            "0.0 [0.00095338] [9.0894054e-07] 0.0 [0.]\n",
            "0.0 [0.00228235] [5.209144e-06] 0.0 [0.]\n",
            "0.0 [-0.04495695] [0.00202113] 0.0 [-0.]\n",
            "0.0 [0.01568568] [0.00024604] 0.0 [0.]\n",
            "0.0 [-0.06316908] [0.00399033] 0.0 [-0.]\n",
            "1.0 [-0.02558661] [1.0518279] 1.0 [-0.]\n",
            "0.0 [-0.02558661] [0.00065467] 0.0 [-0.]\n",
            "0.0 [0.00998386] [9.9677534e-05] 0.0 [0.]\n",
            "0.0 [0.03962225] [0.00156992] 0.0 [0.]\n",
            "0.0 [0.00813935] [6.624901e-05] 0.0 [0.]\n",
            "0.0 [0.00687854] [4.7314363e-05] 0.0 [0.]\n",
            "0.0 [-0.03824558] [0.00146272] 0.0 [-0.]\n",
            "0.0 [-0.00909577] [8.273309e-05] 0.0 [-0.]\n",
            "0.0 [0.00723912] [5.2404834e-05] 0.0 [0.]\n",
            "0.0 [0.07459477] [0.00556438] 0.0 [0.]\n",
            "0.0 [-0.05429649] [0.00294811] 0.0 [-0.]\n",
            "0.0 [-0.00844314] [7.128667e-05] 0.0 [-0.]\n",
            "0.0 [-0.06726818] [0.00452501] 0.0 [-0.]\n",
            "0.0 [-0.00260473] [6.7846204e-06] 0.0 [-0.]\n",
            "0.0 [-0.03590302] [0.00128903] 0.0 [-0.]\n",
            "0.0 [-0.02265986] [0.00051347] 0.0 [-0.]\n",
            "0.0 [0.01225913] [0.00015029] 0.0 [0.]\n",
            "0.0 [-0.02615025] [0.00068384] 0.0 [-0.]\n",
            "0.0 [-0.00517458] [2.677625e-05] 0.0 [-0.]\n",
            "0.0 [0.02058017] [0.00042354] 0.0 [0.]\n",
            "0.0 [-0.05103323] [0.00260439] 0.0 [-0.]\n",
            "0.0 [-0.0299396] [0.00089638] 0.0 [-0.]\n",
            "0.0 [-0.01046501] [0.00010952] 0.0 [-0.]\n",
            "0.0 [-0.00305221] [9.316e-06] 0.0 [-0.]\n",
            "0.0 [-0.01888603] [0.00035668] 0.0 [-0.]\n",
            "0.0 [-0.0479958] [0.0023036] 0.0 [-0.]\n",
            "0.0 [-0.07389482] [0.00546044] 0.0 [-0.]\n",
            "1.0 [0.00171521] [0.99657255] 1.0 [0.]\n",
            "1.0 [0.4149892] [0.3422376] 1.0 [0.]\n",
            "0.0 [-0.05445148] [0.00296496] 0.0 [-0.]\n",
            "0.0 [0.01787108] [0.00031938] 0.0 [0.]\n",
            "0.0 [-0.0058043] [3.3689947e-05] 0.0 [-0.]\n",
            "0.0 [-0.08627897] [0.00744406] 0.0 [-0.]\n",
            "0.0 [-0.06257273] [0.00391535] 0.0 [-0.]\n",
            "0.0 [-0.04039932] [0.0016321] 0.0 [-0.]\n",
            "0.0 [-0.06190861] [0.00383268] 0.0 [-0.]\n",
            "0.0 [-0.00419109] [1.7565199e-05] 0.0 [-0.]\n",
            "0.0 [0.01225913] [0.00015029] 0.0 [0.]\n",
            "0.0 [0.16097897] [0.02591423] 0.0 [0.]\n",
            "0.0 [0.06893107] [0.00475149] 0.0 [0.]\n",
            "0.0 [-0.06291637] [0.00395847] 0.0 [-0.]\n",
            "0.0 [-0.00345573] [1.1942058e-05] 0.0 [-0.]\n",
            "0.0 [0.05872376] [0.00344848] 0.0 [0.]\n",
            "1.0 [0.19826436] [0.64278007] 1.0 [0.]\n",
            "0.0 [-0.05109166] [0.00261036] 0.0 [-0.]\n",
            "0.0 [-0.0356597] [0.00127161] 0.0 [-0.]\n",
            "0.0 [-0.02311118] [0.00053413] 0.0 [-0.]\n",
            "0.0 [-0.00542635] [2.9445244e-05] 0.0 [-0.]\n",
            "0.0 [-0.0509065] [0.00259147] 0.0 [-0.]\n",
            "0.0 [-0.06171563] [0.00380882] 0.0 [-0.]\n",
            "0.0 [0.06341206] [0.00402109] 0.0 [0.]\n",
            "0.0 [0.08039523] [0.00646339] 0.0 [0.]\n",
            "0.0 [0.01190063] [0.00014163] 0.0 [0.]\n",
            "0.0 [0.09118215] [0.00831418] 0.0 [0.]\n",
            "0.0 [0.06284297] [0.00394924] 0.0 [0.]\n",
            "0.0 [0.4149892] [0.17221604] 0.0 [0.]\n",
            "0.0 [0.01618614] [0.00026199] 0.0 [0.]\n",
            "0.0 [0.01547614] [0.00023951] 0.0 [0.]\n",
            "0.0 [-0.00324329] [1.0518929e-05] 0.0 [-0.]\n",
            "0.0 [-0.00580665] [3.371724e-05] 0.0 [-0.]\n",
            "0.0 [0.53490376] [0.28612202] 0.0 [1.]\n",
            "0.0 [-0.06509914] [0.0042379] 0.0 [-0.]\n",
            "0.0 [-0.01174482] [0.00013794] 0.0 [-0.]\n",
            "0.0 [-0.01069298] [0.00011434] 0.0 [-0.]\n",
            "0.0 [-0.05317532] [0.00282761] 0.0 [-0.]\n",
            "0.0 [-0.02921567] [0.00085356] 0.0 [-0.]\n",
            "1.0 [0.70285684] [0.08829406] 1.0 [1.]\n",
            "0.0 [0.04592346] [0.00210896] 0.0 [0.]\n",
            "1.0 [-0.04267076] [1.0871623] 1.0 [-0.]\n",
            "0.0 [-0.07619037] [0.00580497] 0.0 [-0.]\n",
            "1.0 [0.03188775] [0.9372413] 1.0 [0.]\n",
            "0.0 [0.06714164] [0.004508] 0.0 [0.]\n",
            "0.0 [0.03475119] [0.00120765] 0.0 [0.]\n",
            "0.0 [-0.07422509] [0.00550936] 0.0 [-0.]\n",
            "0.0 [0.0034127] [1.1646504e-05] 0.0 [0.]\n",
            "0.0 [-0.00608296] [3.700235e-05] 0.0 [-0.]\n",
            "0.0 [-0.01397817] [0.00019539] 0.0 [-0.]\n",
            "0.0 [0.73704034] [0.54322845] 0.0 [1.]\n",
            "0.0 [-0.04003275] [0.00160262] 0.0 [-0.]\n",
            "0.0 [0.03022822] [0.00091375] 0.0 [0.]\n",
            "0.0 [0.02688307] [0.0007227] 0.0 [0.]\n",
            "0.0 [-0.02670486] [0.00071315] 0.0 [-0.]\n",
            "0.0 [0.02384405] [0.00056854] 0.0 [0.]\n",
            "0.0 [0.01775888] [0.00031538] 0.0 [0.]\n",
            "0.0 [0.06141746] [0.0037721] 0.0 [0.]\n",
            "Среднеквадратичное отклонение 0.2775144\n",
            "Точность модели 0.9134860050890585\n"
          ]
        }
      ]
    },
    {
      "cell_type": "markdown",
      "source": [
        "**Увеличение кол-ва эпох не повлияло на точность. Другие манипуляции вряд-ли приведут к улучшению результата. Необходимо увеличить кол-во примеров других классов (Не годен, Временно не годен, Ограниченно годен и др.), на данный момент их можно пересчитать по пальцам в отличии от класса Годен, что создает проблемы при обучении сети (при DL). Даже пришлось разбить датасет на 2 класса (Годен и все остальное) вместо 3. Почистил код, улучшил внешний вид. Точность около 91 % считаю неплохим результатом для тестовой модели на deep learning. Финальный вариант с большим датасэтом (если заказчик предоставит) будет явно лучше нынешнего результата.**"
      ],
      "metadata": {
        "id": "a0NaxljYHiy9"
      }
    },
    {
      "cell_type": "markdown",
      "source": [
        "________________________________________\n"
      ],
      "metadata": {
        "id": "0hDRwMXjQVJE"
      }
    },
    {
      "cell_type": "markdown",
      "source": [
        "____________________________________"
      ],
      "metadata": {
        "id": "Fq0HegSPQWnB"
      }
    },
    {
      "cell_type": "markdown",
      "source": [
        "_____________________________________________"
      ],
      "metadata": {
        "id": "irp-XUknQXpH"
      }
    }
  ]
}