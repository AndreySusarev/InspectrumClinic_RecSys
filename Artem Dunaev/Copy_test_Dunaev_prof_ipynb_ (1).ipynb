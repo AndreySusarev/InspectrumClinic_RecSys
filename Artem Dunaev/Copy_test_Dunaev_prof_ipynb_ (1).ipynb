{
  "nbformat": 4,
  "nbformat_minor": 0,
  "metadata": {
    "colab": {
      "provenance": []
    },
    "kernelspec": {
      "name": "python3",
      "display_name": "Python 3"
    },
    "language_info": {
      "name": "python"
    }
  },
  "cells": [
    {
      "cell_type": "markdown",
      "source": [
        "# **Подгружаем библиотеки**"
      ],
      "metadata": {
        "id": "m8L6enjTZYWp"
      }
    },
    {
      "cell_type": "code",
      "execution_count": null,
      "metadata": {
        "id": "jYjmmkF_H8cn"
      },
      "outputs": [],
      "source": [
        "%matplotlib inline\n",
        "\n",
        "import pandas as pd\n",
        "import matplotlib.pyplot as plt\n",
        "from tensorflow.keras import utils\n",
        "from tensorflow.keras.models import Sequential, Model\n",
        "from tensorflow.keras.layers import Dense, Activation, Dropout, BatchNormalization, Input, concatenate\n",
        "from tensorflow.keras.optimizers import Adam, Adadelta\n",
        "from tensorflow.keras.metrics import Precision\n",
        "from sklearn.model_selection import train_test_split \n",
        "import numpy as np\n",
        "from keras.preprocessing.text import Tokenizer, text_to_word_sequence,tokenizer_from_json \n",
        "\n",
        "from sklearn.preprocessing import StandardScaler, LabelEncoder\n",
        "import sklearn.metrics\n",
        "\n",
        "from sklearn.preprocessing import StandardScaler\n",
        "from sklearn.cluster import KMeans\n",
        "import time\n",
        "import re"
      ]
    },
    {
      "cell_type": "code",
      "source": [
        "from google.colab import drive\n",
        "drive.mount('/content/drive')"
      ],
      "metadata": {
        "colab": {
          "base_uri": "https://localhost:8080/"
        },
        "id": "A_L_xANzH96C",
        "outputId": "c0f76508-8cee-4a8d-f660-a1b5b7434b21"
      },
      "execution_count": null,
      "outputs": [
        {
          "output_type": "stream",
          "name": "stdout",
          "text": [
            "Drive already mounted at /content/drive; to attempt to forcibly remount, call drive.mount(\"/content/drive\", force_remount=True).\n"
          ]
        }
      ]
    },
    {
      "cell_type": "markdown",
      "source": [
        "# **Подгружаем датасет, чистим от мусора, преобразуем данные в единый формат**"
      ],
      "metadata": {
        "id": "qQ7jCc1dKOhS"
      }
    },
    {
      "cell_type": "code",
      "source": [
        "df = pd.read_excel('/content/drive/MyDrive/Colab Notebooks/Стажировка/data2.xlsx') #читаем предоставленную таблицу"
      ],
      "metadata": {
        "id": "zRoRDkL_IAkn"
      },
      "execution_count": null,
      "outputs": []
    },
    {
      "cell_type": "code",
      "source": [
        "column_list = df.columns.tolist() #создаем список колонок таблицы"
      ],
      "metadata": {
        "id": "M_bsPgzVIuU9"
      },
      "execution_count": null,
      "outputs": []
    },
    {
      "cell_type": "code",
      "source": [
        "df_1 = df.dropna(axis=0, how='all') #удаляем пустые строки и столбцы\n",
        "df_2 = df_1.dropna(axis=1, how='all')"
      ],
      "metadata": {
        "id": "ZqCsHxe6lK8L"
      },
      "execution_count": null,
      "outputs": []
    },
    {
      "cell_type": "code",
      "source": [
        "df_list_1 = [] #создаем список колоок содержащих МКБ\n",
        "for i in column_list:\n",
        "  if \"МКБ\" in i:\n",
        "    df_list_1.append(i)"
      ],
      "metadata": {
        "id": "qaFkReIF7UGi"
      },
      "execution_count": null,
      "outputs": []
    },
    {
      "cell_type": "code",
      "source": [
        "df_list_1"
      ],
      "metadata": {
        "id": "-oeHBFFHyPpF"
      },
      "execution_count": null,
      "outputs": []
    },
    {
      "cell_type": "code",
      "source": [
        "df_list_di = [] #создаем список колонок с диагнозом \n",
        "for i in column_list:\n",
        "  if \"Диагноз_ЗначениеПредставление\" in i:\n",
        "    df_list_di.append(i)"
      ],
      "metadata": {
        "id": "IAWx31Jisbyk"
      },
      "execution_count": null,
      "outputs": []
    },
    {
      "cell_type": "code",
      "source": [
        "df_list_di"
      ],
      "metadata": {
        "colab": {
          "base_uri": "https://localhost:8080/"
        },
        "id": "4rSHP9PnyKQ2",
        "outputId": "24661c5c-64ab-4371-e927-b6df277374d5"
      },
      "execution_count": null,
      "outputs": [
        {
          "output_type": "execute_result",
          "data": {
            "text/plain": [
              "['ПсихиатрияНаркология1_Диагноз_ЗначениеПредставление',\n",
              " 'Офтальмология1_Диагноз_ЗначениеПредставление',\n",
              " 'Оториноларингология1_Диагноз_ЗначениеПредставление',\n",
              " 'ХирургНеИсп1_Диагноз_ЗначениеПредставление',\n",
              " 'Гинекология1_Диагноз_ЗначениеПредставление',\n",
              " 'Стоматология1_Диагноз_ЗначениеПредставление',\n",
              " 'Дерматовенерология1_Диагноз_ЗначениеПредставление',\n",
              " 'Неврология1_Диагноз_ЗначениеПредставление',\n",
              " 'Хирургия1_Диагноз_ЗначениеПредставление',\n",
              " 'Неврология2_Диагноз_ЗначениеПредставление',\n",
              " 'ПсихиатрияНаркология2_Диагноз_ЗначениеПредставление',\n",
              " 'Психиатрия1_Диагноз_ЗначениеПредставление',\n",
              " 'Гинекология2_Диагноз_ЗначениеПредставление',\n",
              " 'Хирургия2_Диагноз_ЗначениеПредставление',\n",
              " 'Стоматология2_Диагноз_ЗначениеПредставление',\n",
              " 'Оториноларингология2_Диагноз_ЗначениеПредставление',\n",
              " 'Дерматовенерология2_Диагноз_ЗначениеПредставление',\n",
              " 'Терапия2_Диагноз_ЗначениеПредставление',\n",
              " 'Офтальмология2_Диагноз_ЗначениеПредставление',\n",
              " 'Терапия3_Диагноз_ЗначениеПредставление',\n",
              " 'Терапия4_Диагноз_ЗначениеПредставление',\n",
              " 'Терапия1_Диагноз_ЗначениеПредставление',\n",
              " 'Хирургия3_Диагноз_ЗначениеПредставление',\n",
              " 'Гинекология3_Диагноз_ЗначениеПредставление',\n",
              " 'Гинекология4_Диагноз_ЗначениеПредставление',\n",
              " 'ТерапевтНеИсп1_Диагноз_ЗначениеПредставление',\n",
              " 'ХирургНеИсп2_Диагноз_ЗначениеПредставление',\n",
              " 'Психиатрия2_Диагноз_ЗначениеПредставление',\n",
              " 'Психиатрия3_Диагноз_ЗначениеПредставление',\n",
              " 'Психиатрия4_Диагноз_ЗначениеПредставление',\n",
              " 'Оториноларингология3_Диагноз_ЗначениеПредставление']"
            ]
          },
          "metadata": {},
          "execution_count": 141
        }
      ]
    },
    {
      "cell_type": "code",
      "source": [
        "df2=df_2[df_list_1]"
      ],
      "metadata": {
        "id": "t27C7cbIUgZM"
      },
      "execution_count": null,
      "outputs": []
    },
    {
      "cell_type": "code",
      "source": [
        "#df3 =df_2[df_list_di]"
      ],
      "metadata": {
        "id": "v7IYMJLos2fJ"
      },
      "execution_count": null,
      "outputs": []
    },
    {
      "cell_type": "code",
      "source": [
        "df2.fillna(0, inplace=True)"
      ],
      "metadata": {
        "colab": {
          "base_uri": "https://localhost:8080/"
        },
        "id": "7kQMPNM_ClO-",
        "outputId": "4454f6f9-5c15-41d2-babe-af95c54dad58"
      },
      "execution_count": null,
      "outputs": [
        {
          "output_type": "stream",
          "name": "stderr",
          "text": [
            "<ipython-input-144-32f74130add2>:1: SettingWithCopyWarning: \n",
            "A value is trying to be set on a copy of a slice from a DataFrame\n",
            "\n",
            "See the caveats in the documentation: https://pandas.pydata.org/pandas-docs/stable/user_guide/indexing.html#returning-a-view-versus-a-copy\n",
            "  df2.fillna(0, inplace=True)\n"
          ]
        }
      ]
    },
    {
      "cell_type": "code",
      "source": [
        "#df3.fillna(0, inplace=True)"
      ],
      "metadata": {
        "colab": {
          "base_uri": "https://localhost:8080/"
        },
        "id": "RnsLqWEnuQ-b",
        "outputId": "a27b6309-1fd1-4da6-ad23-0faeafe7bba7"
      },
      "execution_count": null,
      "outputs": [
        {
          "output_type": "stream",
          "name": "stderr",
          "text": [
            "<ipython-input-88-88c9cf2d6b5d>:1: SettingWithCopyWarning: \n",
            "A value is trying to be set on a copy of a slice from a DataFrame\n",
            "\n",
            "See the caveats in the documentation: https://pandas.pydata.org/pandas-docs/stable/user_guide/indexing.html#returning-a-view-versus-a-copy\n",
            "  df3.fillna(0, inplace=True)\n"
          ]
        }
      ]
    },
    {
      "cell_type": "code",
      "source": [
        "df4=df[[\n",
        "  'КлиентДатаРождения',\n",
        "  'КлиентПол',\n",
        "  'Профессия',\n",
        "  'ЗаключениеМК',\n",
        "  'ДиспансернаяГруппа',\n",
        "  'ВредныеФакторы']]"
      ],
      "metadata": {
        "id": "lSD-lEU85GFB"
      },
      "execution_count": null,
      "outputs": []
    },
    {
      "cell_type": "code",
      "source": [
        "df_full=pd.concat([df4,df2], axis=1, sort=False)"
      ],
      "metadata": {
        "id": "n9oAW7_7NA7A"
      },
      "execution_count": null,
      "outputs": []
    },
    {
      "cell_type": "code",
      "source": [
        "#df_full_0=pd.concat([df4,df_full_0], axis=1, sort=False)"
      ],
      "metadata": {
        "id": "hJ8eB1-OucJu"
      },
      "execution_count": null,
      "outputs": []
    },
    {
      "cell_type": "code",
      "source": [
        "df_full_1=df_full.dropna(subset=['ЗаключениеМК'])"
      ],
      "metadata": {
        "id": "ydqvVhudN3lZ"
      },
      "execution_count": null,
      "outputs": []
    },
    {
      "cell_type": "code",
      "source": [
        "df_full_1['КлиентДатаРождения'] = pd.to_datetime(df_full_1['КлиентДатаРождения'], errors=\"coerce\")\n",
        "df_full_1[\"Возраст\"] = \\\n",
        "    (pd.to_datetime(\"today\") - df_full_1[\"КлиентДатаРождения\"]).astype('<m8[Y]')"
      ],
      "metadata": {
        "colab": {
          "base_uri": "https://localhost:8080/"
        },
        "id": "TjOW8vAOeIZO",
        "outputId": "e8c6b14e-d68f-4dec-af36-fe05b5b2d933"
      },
      "execution_count": null,
      "outputs": [
        {
          "output_type": "stream",
          "name": "stderr",
          "text": [
            "<ipython-input-148-b3a31f71bf19>:1: SettingWithCopyWarning: \n",
            "A value is trying to be set on a copy of a slice from a DataFrame.\n",
            "Try using .loc[row_indexer,col_indexer] = value instead\n",
            "\n",
            "See the caveats in the documentation: https://pandas.pydata.org/pandas-docs/stable/user_guide/indexing.html#returning-a-view-versus-a-copy\n",
            "  df_full_1['КлиентДатаРождения'] = pd.to_datetime(df_full_1['КлиентДатаРождения'], errors=\"coerce\")\n",
            "<ipython-input-148-b3a31f71bf19>:2: SettingWithCopyWarning: \n",
            "A value is trying to be set on a copy of a slice from a DataFrame.\n",
            "Try using .loc[row_indexer,col_indexer] = value instead\n",
            "\n",
            "See the caveats in the documentation: https://pandas.pydata.org/pandas-docs/stable/user_guide/indexing.html#returning-a-view-versus-a-copy\n",
            "  df_full_1[\"Возраст\"] = \\\n"
          ]
        }
      ]
    },
    {
      "cell_type": "code",
      "source": [
        "df_full_1['КлиентДатаРождения']=df_full_1[\"Возраст\"]"
      ],
      "metadata": {
        "colab": {
          "base_uri": "https://localhost:8080/"
        },
        "id": "aOUBgFRofXQY",
        "outputId": "d47377c6-3d97-4f1d-be7e-fabb8afd2455"
      },
      "execution_count": null,
      "outputs": [
        {
          "output_type": "stream",
          "name": "stderr",
          "text": [
            "<ipython-input-149-d8f2baee0d43>:1: SettingWithCopyWarning: \n",
            "A value is trying to be set on a copy of a slice from a DataFrame.\n",
            "Try using .loc[row_indexer,col_indexer] = value instead\n",
            "\n",
            "See the caveats in the documentation: https://pandas.pydata.org/pandas-docs/stable/user_guide/indexing.html#returning-a-view-versus-a-copy\n",
            "  df_full_1['КлиентДатаРождения']=df_full_1[\"Возраст\"]\n"
          ]
        }
      ]
    },
    {
      "cell_type": "code",
      "source": [
        "df_full_1 = df_full_1.drop(columns='Возраст')"
      ],
      "metadata": {
        "id": "7LkYJpdbfuLy"
      },
      "execution_count": null,
      "outputs": []
    },
    {
      "cell_type": "code",
      "source": [
        "df_full_1.loc[df_full_1['КлиентПол'] == \"Женский\", 'КлиентПол'] = 0\n",
        "df_full_1.loc[df_full_1['КлиентПол'] == \"Мужской\", 'КлиентПол'] = 1"
      ],
      "metadata": {
        "id": "S9JLBnC6dhdW"
      },
      "execution_count": null,
      "outputs": []
    },
    {
      "cell_type": "code",
      "source": [
        "df_full_1[\"КлиентДатаРождения\"]=df_full_1[\"КлиентДатаРождения\"].astype (int)"
      ],
      "metadata": {
        "id": "MuvOq1Brn9IV"
      },
      "execution_count": null,
      "outputs": []
    },
    {
      "cell_type": "code",
      "source": [
        "def getParameterAgeVect(arg):\n",
        "    outClass =int((arg-13)/5)\n",
        "    outClass = max(0, min(10,outClass))\n",
        "    return outClass"
      ],
      "metadata": {
        "id": "C8NwQUH8nfYs"
      },
      "execution_count": null,
      "outputs": []
    },
    {
      "cell_type": "code",
      "source": [
        "df_full_1['ВозрастКатегория'] = df_full_1['КлиентДатаРождения'].apply(getParameterAgeVect)"
      ],
      "metadata": {
        "id": "541xA4W6qfo0"
      },
      "execution_count": null,
      "outputs": []
    },
    {
      "cell_type": "code",
      "source": [
        "df_full_1 = df_full_1.drop(columns='КлиентДатаРождения')"
      ],
      "metadata": {
        "id": "AeR4AvrJrEzw"
      },
      "execution_count": null,
      "outputs": []
    },
    {
      "cell_type": "code",
      "source": [
        "df_full_1[\"ЗаключениеМК\"].unique ()"
      ],
      "metadata": {
        "colab": {
          "base_uri": "https://localhost:8080/"
        },
        "id": "3HSQX6FOmquz",
        "outputId": "afb8c8eb-140d-47ef-b443-e18b6410e0d3"
      },
      "execution_count": null,
      "outputs": [
        {
          "output_type": "execute_result",
          "data": {
            "text/plain": [
              "array(['Годен', 'ГоденСКоррекциейЗрения', 'ГоденБезРаботНаВысотах',\n",
              "       'НуждаетсяВДообследованииИЛечении', 'ВременноНегоден',\n",
              "       'ОграниченноГоден', 'машинист бульдозера', 'Газоспасатель',\n",
              "       ' Газоспасатель'], dtype=object)"
            ]
          },
          "metadata": {},
          "execution_count": 156
        }
      ]
    },
    {
      "cell_type": "markdown",
      "source": [
        "**\"машинист бульдозера\", 'Газоспасатель', ' Газоспасатель' - явно лишние в заключении мед комиссии. **"
      ],
      "metadata": {
        "id": "H2bcQaCvKfYt"
      }
    },
    {
      "cell_type": "code",
      "source": [
        "new = df_full_1.loc[~df['ЗаключениеМК'].isin([\"машинист бульдозера\", 'Газоспасатель', ' Газоспасатель'])]"
      ],
      "metadata": {
        "id": "0eY9Gv97oBMr"
      },
      "execution_count": null,
      "outputs": []
    },
    {
      "cell_type": "code",
      "source": [
        "new[\"ЗаключениеМК\"].unique()"
      ],
      "metadata": {
        "colab": {
          "base_uri": "https://localhost:8080/"
        },
        "id": "YNUFtdsRnhE9",
        "outputId": "0cd4b2f5-7257-4975-b1ad-27f710e1847d"
      },
      "execution_count": null,
      "outputs": [
        {
          "output_type": "execute_result",
          "data": {
            "text/plain": [
              "array(['Годен', 'ГоденСКоррекциейЗрения', 'ГоденБезРаботНаВысотах',\n",
              "       'НуждаетсяВДообследованииИЛечении', 'ВременноНегоден',\n",
              "       'ОграниченноГоден'], dtype=object)"
            ]
          },
          "metadata": {},
          "execution_count": 158
        }
      ]
    },
    {
      "cell_type": "markdown",
      "source": [
        "**Разделяю на 2 класса.**\n",
        "\n",
        "**0 = годен,**\n",
        "\n",
        "**1  =Ограниченно годен, ВременноНегоден, НуждаетсяВДообследованииИЛечении и др.**\n",
        "\n",
        "**Кол-ва примеров в датасэте недостаточно для получения большей точности на большем кол-ве классов (годе, негоден, ограниченно годен). Необходимо увеличить кол-во примеров для других классов кроме класса годен. Пока не уверен в необходимости искусственного увеличения датасета за счет данных из приказов для профпатологов, хотя возможый результат использования подобного подхода перспективен. Думаю, что точность можно увеличть за счет увеличения кол-ва примеров в датасете (собрать большую базу с большим представительством классов: негоден, ограниченно годен)**"
      ],
      "metadata": {
        "id": "DhE15FGirtvN"
      }
    },
    {
      "cell_type": "code",
      "source": [
        "new.loc[new['ЗаключениеМК'] == \"Годен\", 'ЗаключениеМК'] = 0\n",
        "new.loc[new['ЗаключениеМК'] == \"ГоденСКоррекциейЗрения\", 'ЗаключениеМК'] = 1\n",
        "new.loc[new['ЗаключениеМК'] == \"ГоденБезРаботНаВысотах\", 'ЗаключениеМК'] = 1\n",
        "new.loc[new['ЗаключениеМК'] == \"НуждаетсяВДообследованииИЛечении\", 'ЗаключениеМК'] = 1\n",
        "new.loc[new['ЗаключениеМК'] == \"ВременноНегоден\", 'ЗаключениеМК'] = 1\n",
        "new.loc[new['ЗаключениеМК'] == \"ОграниченноГоден\", 'ЗаключениеМК'] = 1"
      ],
      "metadata": {
        "id": "xluXOSpWlCiy"
      },
      "execution_count": null,
      "outputs": []
    },
    {
      "cell_type": "code",
      "source": [
        "# преобразуем коды МКБ\n",
        "list_of_alf=(list(\"ABCDEFGHIJKLMNOPQRSTUVWXYZ\"))\n",
        "list_of_alf"
      ],
      "metadata": {
        "colab": {
          "base_uri": "https://localhost:8080/"
        },
        "id": "4yGQkTwe554K",
        "outputId": "1b9b98b9-a3e7-4496-a934-be3e5356cf20"
      },
      "execution_count": null,
      "outputs": [
        {
          "output_type": "execute_result",
          "data": {
            "text/plain": [
              "['A',\n",
              " 'B',\n",
              " 'C',\n",
              " 'D',\n",
              " 'E',\n",
              " 'F',\n",
              " 'G',\n",
              " 'H',\n",
              " 'I',\n",
              " 'J',\n",
              " 'K',\n",
              " 'L',\n",
              " 'M',\n",
              " 'N',\n",
              " 'O',\n",
              " 'P',\n",
              " 'Q',\n",
              " 'R',\n",
              " 'S',\n",
              " 'T',\n",
              " 'U',\n",
              " 'V',\n",
              " 'W',\n",
              " 'X',\n",
              " 'Y',\n",
              " 'Z']"
            ]
          },
          "metadata": {},
          "execution_count": 160
        }
      ]
    },
    {
      "cell_type": "code",
      "source": [
        "for i in list_of_alf:\n",
        "  print(\"     new[i] = new[i].astype(str).str.replace(\",\"'\",i,\"',\",\"'\",\"0.\",25-list_of_alf.index(i)+1,\"'\",\")\", sep='')"
      ],
      "metadata": {
        "colab": {
          "base_uri": "https://localhost:8080/"
        },
        "id": "w8WDWda_53Qi",
        "outputId": "6584b9e4-d24c-4195-b6cd-60bff7d24f9f"
      },
      "execution_count": null,
      "outputs": [
        {
          "output_type": "stream",
          "name": "stdout",
          "text": [
            "     new[i] = new[i].astype(str).str.replace('A','0.26')\n",
            "     new[i] = new[i].astype(str).str.replace('B','0.25')\n",
            "     new[i] = new[i].astype(str).str.replace('C','0.24')\n",
            "     new[i] = new[i].astype(str).str.replace('D','0.23')\n",
            "     new[i] = new[i].astype(str).str.replace('E','0.22')\n",
            "     new[i] = new[i].astype(str).str.replace('F','0.21')\n",
            "     new[i] = new[i].astype(str).str.replace('G','0.20')\n",
            "     new[i] = new[i].astype(str).str.replace('H','0.19')\n",
            "     new[i] = new[i].astype(str).str.replace('I','0.18')\n",
            "     new[i] = new[i].astype(str).str.replace('J','0.17')\n",
            "     new[i] = new[i].astype(str).str.replace('K','0.16')\n",
            "     new[i] = new[i].astype(str).str.replace('L','0.15')\n",
            "     new[i] = new[i].astype(str).str.replace('M','0.14')\n",
            "     new[i] = new[i].astype(str).str.replace('N','0.13')\n",
            "     new[i] = new[i].astype(str).str.replace('O','0.12')\n",
            "     new[i] = new[i].astype(str).str.replace('P','0.11')\n",
            "     new[i] = new[i].astype(str).str.replace('Q','0.10')\n",
            "     new[i] = new[i].astype(str).str.replace('R','0.9')\n",
            "     new[i] = new[i].astype(str).str.replace('S','0.8')\n",
            "     new[i] = new[i].astype(str).str.replace('T','0.7')\n",
            "     new[i] = new[i].astype(str).str.replace('U','0.6')\n",
            "     new[i] = new[i].astype(str).str.replace('V','0.5')\n",
            "     new[i] = new[i].astype(str).str.replace('W','0.4')\n",
            "     new[i] = new[i].astype(str).str.replace('X','0.3')\n",
            "     new[i] = new[i].astype(str).str.replace('Y','0.2')\n",
            "     new[i] = new[i].astype(str).str.replace('Z','0.1')\n"
          ]
        }
      ]
    },
    {
      "cell_type": "code",
      "source": [
        "new2=new.copy()"
      ],
      "metadata": {
        "id": "e3zolbd42MBz"
      },
      "execution_count": null,
      "outputs": []
    },
    {
      "cell_type": "code",
      "source": [
        "new2.fillna(0, inplace=True)"
      ],
      "metadata": {
        "id": "kR9DEh8m4gvb"
      },
      "execution_count": null,
      "outputs": []
    },
    {
      "cell_type": "code",
      "source": [
        "new.fillna(0, inplace=True)"
      ],
      "metadata": {
        "colab": {
          "base_uri": "https://localhost:8080/"
        },
        "id": "QumoPKmaCava",
        "outputId": "aec5e606-16ff-48d5-fe99-b1fd47887d13"
      },
      "execution_count": null,
      "outputs": [
        {
          "output_type": "stream",
          "name": "stderr",
          "text": [
            "<ipython-input-164-8cba954ed67a>:1: SettingWithCopyWarning: \n",
            "A value is trying to be set on a copy of a slice from a DataFrame\n",
            "\n",
            "See the caveats in the documentation: https://pandas.pydata.org/pandas-docs/stable/user_guide/indexing.html#returning-a-view-versus-a-copy\n",
            "  new.fillna(0, inplace=True)\n"
          ]
        }
      ]
    },
    {
      "cell_type": "code",
      "source": [
        "for i in df_list_1:\n",
        "  new[i] = new[i].astype(str).str.replace('.','')"
      ],
      "metadata": {
        "colab": {
          "base_uri": "https://localhost:8080/"
        },
        "id": "onIhFnHWCePl",
        "outputId": "eaf353a0-f2ca-4da3-a4e4-eec88d29120e"
      },
      "execution_count": null,
      "outputs": [
        {
          "output_type": "stream",
          "name": "stderr",
          "text": [
            "<ipython-input-165-7b0ed68127fe>:2: FutureWarning: The default value of regex will change from True to False in a future version. In addition, single character regular expressions will *not* be treated as literal strings when regex=True.\n",
            "  new[i] = new[i].astype(str).str.replace('.','')\n",
            "<ipython-input-165-7b0ed68127fe>:2: SettingWithCopyWarning: \n",
            "A value is trying to be set on a copy of a slice from a DataFrame.\n",
            "Try using .loc[row_indexer,col_indexer] = value instead\n",
            "\n",
            "See the caveats in the documentation: https://pandas.pydata.org/pandas-docs/stable/user_guide/indexing.html#returning-a-view-versus-a-copy\n",
            "  new[i] = new[i].astype(str).str.replace('.','')\n"
          ]
        }
      ]
    },
    {
      "cell_type": "code",
      "source": [
        "new=new.drop(columns=\"ДиспансернаяГруппа\")"
      ],
      "metadata": {
        "id": "IbAemqZ5Ezqe"
      },
      "execution_count": null,
      "outputs": []
    },
    {
      "cell_type": "code",
      "source": [
        "for i in new:\n",
        "     new[i] = new[i].astype(str).str.replace('A','0.26')\n",
        "     new[i] = new[i].astype(str).str.replace('B','0.25')\n",
        "     new[i] = new[i].astype(str).str.replace('C','0.24')\n",
        "     new[i] = new[i].astype(str).str.replace('D','0.23')\n",
        "     new[i] = new[i].astype(str).str.replace('E','0.22')\n",
        "     new[i] = new[i].astype(str).str.replace('F','0.21')\n",
        "     new[i] = new[i].astype(str).str.replace('G','0.20')\n",
        "     new[i] = new[i].astype(str).str.replace('H','0.19')\n",
        "     new[i] = new[i].astype(str).str.replace('I','0.18')\n",
        "     new[i] = new[i].astype(str).str.replace('J','0.17')\n",
        "     new[i] = new[i].astype(str).str.replace('K','0.16')\n",
        "     new[i] = new[i].astype(str).str.replace('L','0.15')\n",
        "     new[i] = new[i].astype(str).str.replace('M','0.14')\n",
        "     new[i] = new[i].astype(str).str.replace('N','0.13')\n",
        "     new[i] = new[i].astype(str).str.replace('O','0.12')\n",
        "     new[i] = new[i].astype(str).str.replace('P','0.11')\n",
        "     new[i] = new[i].astype(str).str.replace('Q','0.10')\n",
        "     new[i] = new[i].astype(str).str.replace('R','0.9')\n",
        "     new[i] = new[i].astype(str).str.replace('S','0.8')\n",
        "     new[i] = new[i].astype(str).str.replace('T','0.7')\n",
        "     new[i] = new[i].astype(str).str.replace('U','0.6')\n",
        "     new[i] = new[i].astype(str).str.replace('V','0.5')\n",
        "     new[i] = new[i].astype(str).str.replace('W','0.4')\n",
        "     new[i] = new[i].astype(str).str.replace('X','0.3')\n",
        "     new[i] = new[i].astype(str).str.replace('Y','0.2')\n",
        "     new[i] = new[i].astype(str).str.replace('Z','0.1')"
      ],
      "metadata": {
        "id": "nKXO-qckVoJt"
      },
      "execution_count": null,
      "outputs": []
    },
    {
      "cell_type": "code",
      "source": [
        "type(new[\"ПсихиатрияНаркология1_МКБ101\"][0])"
      ],
      "metadata": {
        "colab": {
          "base_uri": "https://localhost:8080/"
        },
        "id": "7eprxWSiEUxo",
        "outputId": "f291ba1c-54c2-4630-a82c-a90eceb86206"
      },
      "execution_count": null,
      "outputs": [
        {
          "output_type": "execute_result",
          "data": {
            "text/plain": [
              "str"
            ]
          },
          "metadata": {},
          "execution_count": 168
        }
      ]
    },
    {
      "cell_type": "markdown",
      "source": [
        "_____________________________"
      ],
      "metadata": {
        "id": "z0SHCQIvFTIM"
      }
    },
    {
      "cell_type": "code",
      "source": [
        "new['СписокВредныхФакторов'] = new['ВредныеФакторы'].apply(lambda x: x.replace('.', 'x'))"
      ],
      "metadata": {
        "id": "lncdc8vZWHAl"
      },
      "execution_count": null,
      "outputs": []
    },
    {
      "cell_type": "code",
      "source": [
        "new=new.drop(columns=\"ВредныеФакторы\")"
      ],
      "metadata": {
        "id": "K3-P9ntyX0Og"
      },
      "execution_count": null,
      "outputs": []
    },
    {
      "cell_type": "code",
      "source": [
        "new"
      ],
      "metadata": {
        "colab": {
          "base_uri": "https://localhost:8080/",
          "height": 696
        },
        "id": "z7VpzA4irzde",
        "outputId": "80f9e29b-a688-4290-beef-a8759d495f9a"
      },
      "execution_count": null,
      "outputs": [
        {
          "output_type": "execute_result",
          "data": {
            "text/plain": [
              "     КлиентПол                                          Профессия  \\\n",
              "0            0          Ведущий специалист по организации обуения   \n",
              "1            1                                 Ведущий специалист   \n",
              "2            1                                   Главный менеджер   \n",
              "3            1                                 Главный специалист   \n",
              "4            1                                 Старший специалист   \n",
              "...        ...                                                ...   \n",
              "1961         1                                            Инженер   \n",
              "1962         1                              Начальник лаборатории   \n",
              "1972         1  Инженер по бурению 1 категории, непосредственн...   \n",
              "1973         1                           Приемщик вагонов в депо    \n",
              "1981         1                                       Анестезиолог   \n",
              "\n",
              "     ЗаключениеМК ПсихиатрияНаркология1_МКБ101 Офтальмология1_МКБ101  \\\n",
              "0               0                       0.1000                0.1000   \n",
              "1               0                       0.1000                0.1000   \n",
              "2               1                       0.1000               0.19521   \n",
              "3               0                            0                0.1000   \n",
              "4               1                            0               0.19522   \n",
              "...           ...                          ...                   ...   \n",
              "1961            0                       0.1000                0.1000   \n",
              "1962            0                       0.1000                     0   \n",
              "1972            0                       0.1000                0.1000   \n",
              "1973            0                       0.1000                0.1000   \n",
              "1981            0                       0.1000                     0   \n",
              "\n",
              "     Оториноларингология1_МКБ101 ХирургНеИсп1_МКБ101 Гинекология1_МКБ101  \\\n",
              "0                         0.1000              0.1000              0.1000   \n",
              "1                              0                   0                   0   \n",
              "2                              0                   0                   0   \n",
              "3                         0.1000              0.1000                   0   \n",
              "4                         0.1000                   0                   0   \n",
              "...                          ...                 ...                 ...   \n",
              "1961                      0.1000                   0                   0   \n",
              "1962                      0.1000                   0                   0   \n",
              "1972                      0.1000                   0                   0   \n",
              "1973                      0.1000                   0                   0   \n",
              "1981                      0.1000                   0                   0   \n",
              "\n",
              "     Стоматология1_МКБ101 Дерматовенерология1_МКБ101  ... Психиатрия2_МКБ102  \\\n",
              "0                  0.1000                          0  ...                  0   \n",
              "1                       0                     0.1000  ...                  0   \n",
              "2                       0                     0.1000  ...                  0   \n",
              "3                  0.1000                          0  ...                  0   \n",
              "4                  0.1000                          0  ...                  0   \n",
              "...                   ...                        ...  ...                ...   \n",
              "1961                    0                          0  ...                  0   \n",
              "1962                    0                          0  ...                  0   \n",
              "1972                    0                          0  ...                  0   \n",
              "1973                    0                          0  ...                  0   \n",
              "1981               0.1000                          0  ...                  0   \n",
              "\n",
              "     Рентгенология1_МКБ102 Рентгенология2_МКБ102 Психиатрия3_МКБ101  \\\n",
              "0                        0                     0                  0   \n",
              "1                        0                     0                  0   \n",
              "2                        0                     0                  0   \n",
              "3                        0                     0                  0   \n",
              "4                        0                     0                  0   \n",
              "...                    ...                   ...                ...   \n",
              "1961                     0                     0                  0   \n",
              "1962                     0                     0                  0   \n",
              "1972                     0                     0                  0   \n",
              "1973                     0                     0                  0   \n",
              "1981                     0                     0                  0   \n",
              "\n",
              "     Психиатрия3_МКБ102 Психиатрия4_МКБ101 Психиатрия4_МКБ102  \\\n",
              "0                     0                  0                  0   \n",
              "1                     0                  0                  0   \n",
              "2                     0                  0                  0   \n",
              "3                     0                  0                  0   \n",
              "4                     0                  0                  0   \n",
              "...                 ...                ...                ...   \n",
              "1961                  0                  0                  0   \n",
              "1962                  0                  0                  0   \n",
              "1972                  0                  0                  0   \n",
              "1973                  0                  0                  0   \n",
              "1981                  0                  0                  0   \n",
              "\n",
              "     Оториноларингология3_МКБ101 ВозрастКатегория СписокВредныхФакторов  \n",
              "0                              0                6                  11x4  \n",
              "1                              0                4                 4x2x5  \n",
              "2                              0                4                 4x2x5  \n",
              "3                              0                4                  11x1  \n",
              "4                              0                5                  11x1  \n",
              "...                          ...              ...                   ...  \n",
              "1961                           0                3           4x4,4x5,6x1  \n",
              "1962                           0                4                   4x4  \n",
              "1972                           0                4               3x1x8x2  \n",
              "1973                           0                3             4x2x5,6x1  \n",
              "1981                           0                7                    27  \n",
              "\n",
              "[1571 rows x 97 columns]"
            ],
            "text/html": [
              "\n",
              "  <div id=\"df-c864a05c-244a-4673-a3ab-9dbbe2f06fee\">\n",
              "    <div class=\"colab-df-container\">\n",
              "      <div>\n",
              "<style scoped>\n",
              "    .dataframe tbody tr th:only-of-type {\n",
              "        vertical-align: middle;\n",
              "    }\n",
              "\n",
              "    .dataframe tbody tr th {\n",
              "        vertical-align: top;\n",
              "    }\n",
              "\n",
              "    .dataframe thead th {\n",
              "        text-align: right;\n",
              "    }\n",
              "</style>\n",
              "<table border=\"1\" class=\"dataframe\">\n",
              "  <thead>\n",
              "    <tr style=\"text-align: right;\">\n",
              "      <th></th>\n",
              "      <th>КлиентПол</th>\n",
              "      <th>Профессия</th>\n",
              "      <th>ЗаключениеМК</th>\n",
              "      <th>ПсихиатрияНаркология1_МКБ101</th>\n",
              "      <th>Офтальмология1_МКБ101</th>\n",
              "      <th>Оториноларингология1_МКБ101</th>\n",
              "      <th>ХирургНеИсп1_МКБ101</th>\n",
              "      <th>Гинекология1_МКБ101</th>\n",
              "      <th>Стоматология1_МКБ101</th>\n",
              "      <th>Дерматовенерология1_МКБ101</th>\n",
              "      <th>...</th>\n",
              "      <th>Психиатрия2_МКБ102</th>\n",
              "      <th>Рентгенология1_МКБ102</th>\n",
              "      <th>Рентгенология2_МКБ102</th>\n",
              "      <th>Психиатрия3_МКБ101</th>\n",
              "      <th>Психиатрия3_МКБ102</th>\n",
              "      <th>Психиатрия4_МКБ101</th>\n",
              "      <th>Психиатрия4_МКБ102</th>\n",
              "      <th>Оториноларингология3_МКБ101</th>\n",
              "      <th>ВозрастКатегория</th>\n",
              "      <th>СписокВредныхФакторов</th>\n",
              "    </tr>\n",
              "  </thead>\n",
              "  <tbody>\n",
              "    <tr>\n",
              "      <th>0</th>\n",
              "      <td>0</td>\n",
              "      <td>Ведущий специалист по организации обуения</td>\n",
              "      <td>0</td>\n",
              "      <td>0.1000</td>\n",
              "      <td>0.1000</td>\n",
              "      <td>0.1000</td>\n",
              "      <td>0.1000</td>\n",
              "      <td>0.1000</td>\n",
              "      <td>0.1000</td>\n",
              "      <td>0</td>\n",
              "      <td>...</td>\n",
              "      <td>0</td>\n",
              "      <td>0</td>\n",
              "      <td>0</td>\n",
              "      <td>0</td>\n",
              "      <td>0</td>\n",
              "      <td>0</td>\n",
              "      <td>0</td>\n",
              "      <td>0</td>\n",
              "      <td>6</td>\n",
              "      <td>11x4</td>\n",
              "    </tr>\n",
              "    <tr>\n",
              "      <th>1</th>\n",
              "      <td>1</td>\n",
              "      <td>Ведущий специалист</td>\n",
              "      <td>0</td>\n",
              "      <td>0.1000</td>\n",
              "      <td>0.1000</td>\n",
              "      <td>0</td>\n",
              "      <td>0</td>\n",
              "      <td>0</td>\n",
              "      <td>0</td>\n",
              "      <td>0.1000</td>\n",
              "      <td>...</td>\n",
              "      <td>0</td>\n",
              "      <td>0</td>\n",
              "      <td>0</td>\n",
              "      <td>0</td>\n",
              "      <td>0</td>\n",
              "      <td>0</td>\n",
              "      <td>0</td>\n",
              "      <td>0</td>\n",
              "      <td>4</td>\n",
              "      <td>4x2x5</td>\n",
              "    </tr>\n",
              "    <tr>\n",
              "      <th>2</th>\n",
              "      <td>1</td>\n",
              "      <td>Главный менеджер</td>\n",
              "      <td>1</td>\n",
              "      <td>0.1000</td>\n",
              "      <td>0.19521</td>\n",
              "      <td>0</td>\n",
              "      <td>0</td>\n",
              "      <td>0</td>\n",
              "      <td>0</td>\n",
              "      <td>0.1000</td>\n",
              "      <td>...</td>\n",
              "      <td>0</td>\n",
              "      <td>0</td>\n",
              "      <td>0</td>\n",
              "      <td>0</td>\n",
              "      <td>0</td>\n",
              "      <td>0</td>\n",
              "      <td>0</td>\n",
              "      <td>0</td>\n",
              "      <td>4</td>\n",
              "      <td>4x2x5</td>\n",
              "    </tr>\n",
              "    <tr>\n",
              "      <th>3</th>\n",
              "      <td>1</td>\n",
              "      <td>Главный специалист</td>\n",
              "      <td>0</td>\n",
              "      <td>0</td>\n",
              "      <td>0.1000</td>\n",
              "      <td>0.1000</td>\n",
              "      <td>0.1000</td>\n",
              "      <td>0</td>\n",
              "      <td>0.1000</td>\n",
              "      <td>0</td>\n",
              "      <td>...</td>\n",
              "      <td>0</td>\n",
              "      <td>0</td>\n",
              "      <td>0</td>\n",
              "      <td>0</td>\n",
              "      <td>0</td>\n",
              "      <td>0</td>\n",
              "      <td>0</td>\n",
              "      <td>0</td>\n",
              "      <td>4</td>\n",
              "      <td>11x1</td>\n",
              "    </tr>\n",
              "    <tr>\n",
              "      <th>4</th>\n",
              "      <td>1</td>\n",
              "      <td>Старший специалист</td>\n",
              "      <td>1</td>\n",
              "      <td>0</td>\n",
              "      <td>0.19522</td>\n",
              "      <td>0.1000</td>\n",
              "      <td>0</td>\n",
              "      <td>0</td>\n",
              "      <td>0.1000</td>\n",
              "      <td>0</td>\n",
              "      <td>...</td>\n",
              "      <td>0</td>\n",
              "      <td>0</td>\n",
              "      <td>0</td>\n",
              "      <td>0</td>\n",
              "      <td>0</td>\n",
              "      <td>0</td>\n",
              "      <td>0</td>\n",
              "      <td>0</td>\n",
              "      <td>5</td>\n",
              "      <td>11x1</td>\n",
              "    </tr>\n",
              "    <tr>\n",
              "      <th>...</th>\n",
              "      <td>...</td>\n",
              "      <td>...</td>\n",
              "      <td>...</td>\n",
              "      <td>...</td>\n",
              "      <td>...</td>\n",
              "      <td>...</td>\n",
              "      <td>...</td>\n",
              "      <td>...</td>\n",
              "      <td>...</td>\n",
              "      <td>...</td>\n",
              "      <td>...</td>\n",
              "      <td>...</td>\n",
              "      <td>...</td>\n",
              "      <td>...</td>\n",
              "      <td>...</td>\n",
              "      <td>...</td>\n",
              "      <td>...</td>\n",
              "      <td>...</td>\n",
              "      <td>...</td>\n",
              "      <td>...</td>\n",
              "      <td>...</td>\n",
              "    </tr>\n",
              "    <tr>\n",
              "      <th>1961</th>\n",
              "      <td>1</td>\n",
              "      <td>Инженер</td>\n",
              "      <td>0</td>\n",
              "      <td>0.1000</td>\n",
              "      <td>0.1000</td>\n",
              "      <td>0.1000</td>\n",
              "      <td>0</td>\n",
              "      <td>0</td>\n",
              "      <td>0</td>\n",
              "      <td>0</td>\n",
              "      <td>...</td>\n",
              "      <td>0</td>\n",
              "      <td>0</td>\n",
              "      <td>0</td>\n",
              "      <td>0</td>\n",
              "      <td>0</td>\n",
              "      <td>0</td>\n",
              "      <td>0</td>\n",
              "      <td>0</td>\n",
              "      <td>3</td>\n",
              "      <td>4x4,4x5,6x1</td>\n",
              "    </tr>\n",
              "    <tr>\n",
              "      <th>1962</th>\n",
              "      <td>1</td>\n",
              "      <td>Начальник лаборатории</td>\n",
              "      <td>0</td>\n",
              "      <td>0.1000</td>\n",
              "      <td>0</td>\n",
              "      <td>0.1000</td>\n",
              "      <td>0</td>\n",
              "      <td>0</td>\n",
              "      <td>0</td>\n",
              "      <td>0</td>\n",
              "      <td>...</td>\n",
              "      <td>0</td>\n",
              "      <td>0</td>\n",
              "      <td>0</td>\n",
              "      <td>0</td>\n",
              "      <td>0</td>\n",
              "      <td>0</td>\n",
              "      <td>0</td>\n",
              "      <td>0</td>\n",
              "      <td>4</td>\n",
              "      <td>4x4</td>\n",
              "    </tr>\n",
              "    <tr>\n",
              "      <th>1972</th>\n",
              "      <td>1</td>\n",
              "      <td>Инженер по бурению 1 категории, непосредственн...</td>\n",
              "      <td>0</td>\n",
              "      <td>0.1000</td>\n",
              "      <td>0.1000</td>\n",
              "      <td>0.1000</td>\n",
              "      <td>0</td>\n",
              "      <td>0</td>\n",
              "      <td>0</td>\n",
              "      <td>0</td>\n",
              "      <td>...</td>\n",
              "      <td>0</td>\n",
              "      <td>0</td>\n",
              "      <td>0</td>\n",
              "      <td>0</td>\n",
              "      <td>0</td>\n",
              "      <td>0</td>\n",
              "      <td>0</td>\n",
              "      <td>0</td>\n",
              "      <td>4</td>\n",
              "      <td>3x1x8x2</td>\n",
              "    </tr>\n",
              "    <tr>\n",
              "      <th>1973</th>\n",
              "      <td>1</td>\n",
              "      <td>Приемщик вагонов в депо</td>\n",
              "      <td>0</td>\n",
              "      <td>0.1000</td>\n",
              "      <td>0.1000</td>\n",
              "      <td>0.1000</td>\n",
              "      <td>0</td>\n",
              "      <td>0</td>\n",
              "      <td>0</td>\n",
              "      <td>0</td>\n",
              "      <td>...</td>\n",
              "      <td>0</td>\n",
              "      <td>0</td>\n",
              "      <td>0</td>\n",
              "      <td>0</td>\n",
              "      <td>0</td>\n",
              "      <td>0</td>\n",
              "      <td>0</td>\n",
              "      <td>0</td>\n",
              "      <td>3</td>\n",
              "      <td>4x2x5,6x1</td>\n",
              "    </tr>\n",
              "    <tr>\n",
              "      <th>1981</th>\n",
              "      <td>1</td>\n",
              "      <td>Анестезиолог</td>\n",
              "      <td>0</td>\n",
              "      <td>0.1000</td>\n",
              "      <td>0</td>\n",
              "      <td>0.1000</td>\n",
              "      <td>0</td>\n",
              "      <td>0</td>\n",
              "      <td>0.1000</td>\n",
              "      <td>0</td>\n",
              "      <td>...</td>\n",
              "      <td>0</td>\n",
              "      <td>0</td>\n",
              "      <td>0</td>\n",
              "      <td>0</td>\n",
              "      <td>0</td>\n",
              "      <td>0</td>\n",
              "      <td>0</td>\n",
              "      <td>0</td>\n",
              "      <td>7</td>\n",
              "      <td>27</td>\n",
              "    </tr>\n",
              "  </tbody>\n",
              "</table>\n",
              "<p>1571 rows × 97 columns</p>\n",
              "</div>\n",
              "      <button class=\"colab-df-convert\" onclick=\"convertToInteractive('df-c864a05c-244a-4673-a3ab-9dbbe2f06fee')\"\n",
              "              title=\"Convert this dataframe to an interactive table.\"\n",
              "              style=\"display:none;\">\n",
              "        \n",
              "  <svg xmlns=\"http://www.w3.org/2000/svg\" height=\"24px\"viewBox=\"0 0 24 24\"\n",
              "       width=\"24px\">\n",
              "    <path d=\"M0 0h24v24H0V0z\" fill=\"none\"/>\n",
              "    <path d=\"M18.56 5.44l.94 2.06.94-2.06 2.06-.94-2.06-.94-.94-2.06-.94 2.06-2.06.94zm-11 1L8.5 8.5l.94-2.06 2.06-.94-2.06-.94L8.5 2.5l-.94 2.06-2.06.94zm10 10l.94 2.06.94-2.06 2.06-.94-2.06-.94-.94-2.06-.94 2.06-2.06.94z\"/><path d=\"M17.41 7.96l-1.37-1.37c-.4-.4-.92-.59-1.43-.59-.52 0-1.04.2-1.43.59L10.3 9.45l-7.72 7.72c-.78.78-.78 2.05 0 2.83L4 21.41c.39.39.9.59 1.41.59.51 0 1.02-.2 1.41-.59l7.78-7.78 2.81-2.81c.8-.78.8-2.07 0-2.86zM5.41 20L4 18.59l7.72-7.72 1.47 1.35L5.41 20z\"/>\n",
              "  </svg>\n",
              "      </button>\n",
              "      \n",
              "  <style>\n",
              "    .colab-df-container {\n",
              "      display:flex;\n",
              "      flex-wrap:wrap;\n",
              "      gap: 12px;\n",
              "    }\n",
              "\n",
              "    .colab-df-convert {\n",
              "      background-color: #E8F0FE;\n",
              "      border: none;\n",
              "      border-radius: 50%;\n",
              "      cursor: pointer;\n",
              "      display: none;\n",
              "      fill: #1967D2;\n",
              "      height: 32px;\n",
              "      padding: 0 0 0 0;\n",
              "      width: 32px;\n",
              "    }\n",
              "\n",
              "    .colab-df-convert:hover {\n",
              "      background-color: #E2EBFA;\n",
              "      box-shadow: 0px 1px 2px rgba(60, 64, 67, 0.3), 0px 1px 3px 1px rgba(60, 64, 67, 0.15);\n",
              "      fill: #174EA6;\n",
              "    }\n",
              "\n",
              "    [theme=dark] .colab-df-convert {\n",
              "      background-color: #3B4455;\n",
              "      fill: #D2E3FC;\n",
              "    }\n",
              "\n",
              "    [theme=dark] .colab-df-convert:hover {\n",
              "      background-color: #434B5C;\n",
              "      box-shadow: 0px 1px 3px 1px rgba(0, 0, 0, 0.15);\n",
              "      filter: drop-shadow(0px 1px 2px rgba(0, 0, 0, 0.3));\n",
              "      fill: #FFFFFF;\n",
              "    }\n",
              "  </style>\n",
              "\n",
              "      <script>\n",
              "        const buttonEl =\n",
              "          document.querySelector('#df-c864a05c-244a-4673-a3ab-9dbbe2f06fee button.colab-df-convert');\n",
              "        buttonEl.style.display =\n",
              "          google.colab.kernel.accessAllowed ? 'block' : 'none';\n",
              "\n",
              "        async function convertToInteractive(key) {\n",
              "          const element = document.querySelector('#df-c864a05c-244a-4673-a3ab-9dbbe2f06fee');\n",
              "          const dataTable =\n",
              "            await google.colab.kernel.invokeFunction('convertToInteractive',\n",
              "                                                     [key], {});\n",
              "          if (!dataTable) return;\n",
              "\n",
              "          const docLinkHtml = 'Like what you see? Visit the ' +\n",
              "            '<a target=\"_blank\" href=https://colab.research.google.com/notebooks/data_table.ipynb>data table notebook</a>'\n",
              "            + ' to learn more about interactive tables.';\n",
              "          element.innerHTML = '';\n",
              "          dataTable['output_type'] = 'display_data';\n",
              "          await google.colab.output.renderOutput(dataTable, element);\n",
              "          const docLink = document.createElement('div');\n",
              "          docLink.innerHTML = docLinkHtml;\n",
              "          element.appendChild(docLink);\n",
              "        }\n",
              "      </script>\n",
              "    </div>\n",
              "  </div>\n",
              "  "
            ]
          },
          "metadata": {},
          "execution_count": 171
        }
      ]
    },
    {
      "cell_type": "markdown",
      "source": [
        "_____________________________"
      ],
      "metadata": {
        "id": "d71mkKSkFReO"
      }
    },
    {
      "cell_type": "markdown",
      "source": [
        "# **Токенезируем строковые данные**"
      ],
      "metadata": {
        "id": "jIXx9dvxCzZL"
      }
    },
    {
      "cell_type": "markdown",
      "source": [
        "Поработаем с текстовым диагнозом\n",
        "\n",
        "Создадим единую колоку содержащую все диагнозы всех специалистов для каждого отдельного случая (пациента-клиента)"
      ],
      "metadata": {
        "id": "NcQM4USdyot_"
      }
    },
    {
      "cell_type": "code",
      "source": [
        "for i in df_list_di:\n",
        "  print(i)"
      ],
      "metadata": {
        "colab": {
          "base_uri": "https://localhost:8080/"
        },
        "id": "jsK_WovPz4Op",
        "outputId": "cc9e1fd3-e0e1-43bd-d2e1-395319000dc1"
      },
      "execution_count": null,
      "outputs": [
        {
          "output_type": "stream",
          "name": "stdout",
          "text": [
            "ПсихиатрияНаркология1_Диагноз_ЗначениеПредставление\n",
            "Офтальмология1_Диагноз_ЗначениеПредставление\n",
            "Оториноларингология1_Диагноз_ЗначениеПредставление\n",
            "ХирургНеИсп1_Диагноз_ЗначениеПредставление\n",
            "Гинекология1_Диагноз_ЗначениеПредставление\n",
            "Стоматология1_Диагноз_ЗначениеПредставление\n",
            "Дерматовенерология1_Диагноз_ЗначениеПредставление\n",
            "Неврология1_Диагноз_ЗначениеПредставление\n",
            "Хирургия1_Диагноз_ЗначениеПредставление\n",
            "Неврология2_Диагноз_ЗначениеПредставление\n",
            "ПсихиатрияНаркология2_Диагноз_ЗначениеПредставление\n",
            "Психиатрия1_Диагноз_ЗначениеПредставление\n",
            "Гинекология2_Диагноз_ЗначениеПредставление\n",
            "Хирургия2_Диагноз_ЗначениеПредставление\n",
            "Стоматология2_Диагноз_ЗначениеПредставление\n",
            "Оториноларингология2_Диагноз_ЗначениеПредставление\n",
            "Дерматовенерология2_Диагноз_ЗначениеПредставление\n",
            "Терапия2_Диагноз_ЗначениеПредставление\n",
            "Офтальмология2_Диагноз_ЗначениеПредставление\n",
            "Терапия3_Диагноз_ЗначениеПредставление\n",
            "Терапия4_Диагноз_ЗначениеПредставление\n",
            "Терапия1_Диагноз_ЗначениеПредставление\n",
            "Хирургия3_Диагноз_ЗначениеПредставление\n",
            "Гинекология3_Диагноз_ЗначениеПредставление\n",
            "Гинекология4_Диагноз_ЗначениеПредставление\n",
            "ТерапевтНеИсп1_Диагноз_ЗначениеПредставление\n",
            "ХирургНеИсп2_Диагноз_ЗначениеПредставление\n",
            "Психиатрия2_Диагноз_ЗначениеПредставление\n",
            "Психиатрия3_Диагноз_ЗначениеПредставление\n",
            "Психиатрия4_Диагноз_ЗначениеПредставление\n",
            "Оториноларингология3_Диагноз_ЗначениеПредставление\n"
          ]
        }
      ]
    },
    {
      "cell_type": "code",
      "source": [
        "df3 =df_2[df_list_di]"
      ],
      "metadata": {
        "id": "qhAztpax_lXQ"
      },
      "execution_count": null,
      "outputs": []
    },
    {
      "cell_type": "code",
      "source": [
        "df3.fillna(0, inplace=True)"
      ],
      "metadata": {
        "colab": {
          "base_uri": "https://localhost:8080/"
        },
        "id": "0q2ehJjxKHiq",
        "outputId": "254e1322-ba1b-4e65-cf4a-db1a75ac8f62"
      },
      "execution_count": null,
      "outputs": [
        {
          "output_type": "stream",
          "name": "stderr",
          "text": [
            "<ipython-input-178-88c9cf2d6b5d>:1: SettingWithCopyWarning: \n",
            "A value is trying to be set on a copy of a slice from a DataFrame\n",
            "\n",
            "See the caveats in the documentation: https://pandas.pydata.org/pandas-docs/stable/user_guide/indexing.html#returning-a-view-versus-a-copy\n",
            "  df3.fillna(0, inplace=True)\n"
          ]
        }
      ]
    },
    {
      "cell_type": "code",
      "source": [
        "for i in df_list_di:\n",
        "  print(\" + df3[\",\"'\",i,\"'\",\"].map(str)+\",\"'\",\",\",\"'\", sep='')"
      ],
      "metadata": {
        "colab": {
          "base_uri": "https://localhost:8080/"
        },
        "id": "aR5hNOu7zPqv",
        "outputId": "fbe3bfeb-7a01-4e3c-abc7-2e65538b095b"
      },
      "execution_count": null,
      "outputs": [
        {
          "output_type": "stream",
          "name": "stdout",
          "text": [
            " + df3['ПсихиатрияНаркология1_Диагноз_ЗначениеПредставление'].map(str)+','\n",
            " + df3['Офтальмология1_Диагноз_ЗначениеПредставление'].map(str)+','\n",
            " + df3['Оториноларингология1_Диагноз_ЗначениеПредставление'].map(str)+','\n",
            " + df3['ХирургНеИсп1_Диагноз_ЗначениеПредставление'].map(str)+','\n",
            " + df3['Гинекология1_Диагноз_ЗначениеПредставление'].map(str)+','\n",
            " + df3['Стоматология1_Диагноз_ЗначениеПредставление'].map(str)+','\n",
            " + df3['Дерматовенерология1_Диагноз_ЗначениеПредставление'].map(str)+','\n",
            " + df3['Неврология1_Диагноз_ЗначениеПредставление'].map(str)+','\n",
            " + df3['Хирургия1_Диагноз_ЗначениеПредставление'].map(str)+','\n",
            " + df3['Неврология2_Диагноз_ЗначениеПредставление'].map(str)+','\n",
            " + df3['ПсихиатрияНаркология2_Диагноз_ЗначениеПредставление'].map(str)+','\n",
            " + df3['Психиатрия1_Диагноз_ЗначениеПредставление'].map(str)+','\n",
            " + df3['Гинекология2_Диагноз_ЗначениеПредставление'].map(str)+','\n",
            " + df3['Хирургия2_Диагноз_ЗначениеПредставление'].map(str)+','\n",
            " + df3['Стоматология2_Диагноз_ЗначениеПредставление'].map(str)+','\n",
            " + df3['Оториноларингология2_Диагноз_ЗначениеПредставление'].map(str)+','\n",
            " + df3['Дерматовенерология2_Диагноз_ЗначениеПредставление'].map(str)+','\n",
            " + df3['Терапия2_Диагноз_ЗначениеПредставление'].map(str)+','\n",
            " + df3['Офтальмология2_Диагноз_ЗначениеПредставление'].map(str)+','\n",
            " + df3['Терапия3_Диагноз_ЗначениеПредставление'].map(str)+','\n",
            " + df3['Терапия4_Диагноз_ЗначениеПредставление'].map(str)+','\n",
            " + df3['Терапия1_Диагноз_ЗначениеПредставление'].map(str)+','\n",
            " + df3['Хирургия3_Диагноз_ЗначениеПредставление'].map(str)+','\n",
            " + df3['Гинекология3_Диагноз_ЗначениеПредставление'].map(str)+','\n",
            " + df3['Гинекология4_Диагноз_ЗначениеПредставление'].map(str)+','\n",
            " + df3['ТерапевтНеИсп1_Диагноз_ЗначениеПредставление'].map(str)+','\n",
            " + df3['ХирургНеИсп2_Диагноз_ЗначениеПредставление'].map(str)+','\n",
            " + df3['Психиатрия2_Диагноз_ЗначениеПредставление'].map(str)+','\n",
            " + df3['Психиатрия3_Диагноз_ЗначениеПредставление'].map(str)+','\n",
            " + df3['Психиатрия4_Диагноз_ЗначениеПредставление'].map(str)+','\n",
            " + df3['Оториноларингология3_Диагноз_ЗначениеПредставление'].map(str)+','\n"
          ]
        }
      ]
    },
    {
      "cell_type": "code",
      "source": [
        "new['все_диагнозы'] = (df3['ПсихиатрияНаркология1_Диагноз_ЗначениеПредставление'].map(str)+','\n",
        " + df3['Офтальмология1_Диагноз_ЗначениеПредставление'].map(str)+','\n",
        " + df3['Оториноларингология1_Диагноз_ЗначениеПредставление'].map(str)+','\n",
        " + df3['ХирургНеИсп1_Диагноз_ЗначениеПредставление'].map(str)+','\n",
        " + df3['Гинекология1_Диагноз_ЗначениеПредставление'].map(str)+','\n",
        " + df3['Стоматология1_Диагноз_ЗначениеПредставление'].map(str)+','\n",
        " + df3['Дерматовенерология1_Диагноз_ЗначениеПредставление'].map(str)+','\n",
        " + df3['Неврология1_Диагноз_ЗначениеПредставление'].map(str)+','\n",
        " + df3['Хирургия1_Диагноз_ЗначениеПредставление'].map(str)+','\n",
        " + df3['Неврология2_Диагноз_ЗначениеПредставление'].map(str)+','\n",
        " + df3['ПсихиатрияНаркология2_Диагноз_ЗначениеПредставление'].map(str)+','\n",
        " + df3['Психиатрия1_Диагноз_ЗначениеПредставление'].map(str)+','\n",
        " + df3['Гинекология2_Диагноз_ЗначениеПредставление'].map(str)+','\n",
        " + df3['Хирургия2_Диагноз_ЗначениеПредставление'].map(str)+','\n",
        " + df3['Стоматология2_Диагноз_ЗначениеПредставление'].map(str)+','\n",
        " + df3['Оториноларингология2_Диагноз_ЗначениеПредставление'].map(str)+','\n",
        " + df3['Дерматовенерология2_Диагноз_ЗначениеПредставление'].map(str)+','\n",
        " + df3['Терапия2_Диагноз_ЗначениеПредставление'].map(str)+','\n",
        " + df3['Офтальмология2_Диагноз_ЗначениеПредставление'].map(str)+','\n",
        " + df3['Терапия3_Диагноз_ЗначениеПредставление'].map(str)+','\n",
        " + df3['Терапия4_Диагноз_ЗначениеПредставление'].map(str)+','\n",
        " + df3['Терапия1_Диагноз_ЗначениеПредставление'].map(str)+','\n",
        " + df3['Хирургия3_Диагноз_ЗначениеПредставление'].map(str)+','\n",
        " + df3['Гинекология3_Диагноз_ЗначениеПредставление'].map(str)+','\n",
        " + df3['Гинекология4_Диагноз_ЗначениеПредставление'].map(str)+','\n",
        " + df3['ТерапевтНеИсп1_Диагноз_ЗначениеПредставление'].map(str)+','\n",
        " + df3['ХирургНеИсп2_Диагноз_ЗначениеПредставление'].map(str)+','\n",
        " + df3['Психиатрия2_Диагноз_ЗначениеПредставление'].map(str)+','\n",
        " + df3['Психиатрия3_Диагноз_ЗначениеПредставление'].map(str)+','\n",
        " + df3['Психиатрия4_Диагноз_ЗначениеПредставление'].map(str)+','\n",
        " + df3['Оториноларингология3_Диагноз_ЗначениеПредставление'].map(str))"
      ],
      "metadata": {
        "id": "1uSK6WPdynsO"
      },
      "execution_count": null,
      "outputs": []
    },
    {
      "cell_type": "code",
      "source": [
        "new"
      ],
      "metadata": {
        "colab": {
          "base_uri": "https://localhost:8080/",
          "height": 748
        },
        "id": "YlT2DpNQ1zdc",
        "outputId": "69d04603-5aab-43db-83c6-160628a2136c"
      },
      "execution_count": null,
      "outputs": [
        {
          "output_type": "execute_result",
          "data": {
            "text/plain": [
              "     КлиентПол                                          Профессия  \\\n",
              "0            0          Ведущий специалист по организации обуения   \n",
              "1            1                                 Ведущий специалист   \n",
              "2            1                                   Главный менеджер   \n",
              "3            1                                 Главный специалист   \n",
              "4            1                                 Старший специалист   \n",
              "...        ...                                                ...   \n",
              "1961         1                                            Инженер   \n",
              "1962         1                              Начальник лаборатории   \n",
              "1972         1  Инженер по бурению 1 категории, непосредственн...   \n",
              "1973         1                           Приемщик вагонов в депо    \n",
              "1981         1                                       Анестезиолог   \n",
              "\n",
              "     ЗаключениеМК ПсихиатрияНаркология1_МКБ101 Офтальмология1_МКБ101  \\\n",
              "0               0                       0.1000                0.1000   \n",
              "1               0                       0.1000                0.1000   \n",
              "2               1                       0.1000               0.19521   \n",
              "3               0                            0                0.1000   \n",
              "4               1                            0               0.19522   \n",
              "...           ...                          ...                   ...   \n",
              "1961            0                       0.1000                0.1000   \n",
              "1962            0                       0.1000                     0   \n",
              "1972            0                       0.1000                0.1000   \n",
              "1973            0                       0.1000                0.1000   \n",
              "1981            0                       0.1000                     0   \n",
              "\n",
              "     Оториноларингология1_МКБ101 ХирургНеИсп1_МКБ101 Гинекология1_МКБ101  \\\n",
              "0                         0.1000              0.1000              0.1000   \n",
              "1                              0                   0                   0   \n",
              "2                              0                   0                   0   \n",
              "3                         0.1000              0.1000                   0   \n",
              "4                         0.1000                   0                   0   \n",
              "...                          ...                 ...                 ...   \n",
              "1961                      0.1000                   0                   0   \n",
              "1962                      0.1000                   0                   0   \n",
              "1972                      0.1000                   0                   0   \n",
              "1973                      0.1000                   0                   0   \n",
              "1981                      0.1000                   0                   0   \n",
              "\n",
              "     Стоматология1_МКБ101 Дерматовенерология1_МКБ101  ...  \\\n",
              "0                  0.1000                          0  ...   \n",
              "1                       0                     0.1000  ...   \n",
              "2                       0                     0.1000  ...   \n",
              "3                  0.1000                          0  ...   \n",
              "4                  0.1000                          0  ...   \n",
              "...                   ...                        ...  ...   \n",
              "1961                    0                          0  ...   \n",
              "1962                    0                          0  ...   \n",
              "1972                    0                          0  ...   \n",
              "1973                    0                          0  ...   \n",
              "1981               0.1000                          0  ...   \n",
              "\n",
              "     Рентгенология1_МКБ102 Рентгенология2_МКБ102 Психиатрия3_МКБ101  \\\n",
              "0                        0                     0                  0   \n",
              "1                        0                     0                  0   \n",
              "2                        0                     0                  0   \n",
              "3                        0                     0                  0   \n",
              "4                        0                     0                  0   \n",
              "...                    ...                   ...                ...   \n",
              "1961                     0                     0                  0   \n",
              "1962                     0                     0                  0   \n",
              "1972                     0                     0                  0   \n",
              "1973                     0                     0                  0   \n",
              "1981                     0                     0                  0   \n",
              "\n",
              "     Психиатрия3_МКБ102 Психиатрия4_МКБ101 Психиатрия4_МКБ102  \\\n",
              "0                     0                  0                  0   \n",
              "1                     0                  0                  0   \n",
              "2                     0                  0                  0   \n",
              "3                     0                  0                  0   \n",
              "4                     0                  0                  0   \n",
              "...                 ...                ...                ...   \n",
              "1961                  0                  0                  0   \n",
              "1962                  0                  0                  0   \n",
              "1972                  0                  0                  0   \n",
              "1973                  0                  0                  0   \n",
              "1981                  0                  0                  0   \n",
              "\n",
              "     Оториноларингология3_МКБ101 ВозрастКатегория СписокВредныхФакторов  \\\n",
              "0                              0                6                  11x4   \n",
              "1                              0                4                 4x2x5   \n",
              "2                              0                4                 4x2x5   \n",
              "3                              0                4                  11x1   \n",
              "4                              0                5                  11x1   \n",
              "...                          ...              ...                   ...   \n",
              "1961                           0                3           4x4,4x5,6x1   \n",
              "1962                           0                4                   4x4   \n",
              "1972                           0                4               3x1x8x2   \n",
              "1973                           0                3             4x2x5,6x1   \n",
              "1981                           0                7                    27   \n",
              "\n",
              "                                           все_диагнозы  \n",
              "0     [Z00.0] Общий медицинский осмотр_x000D_\\n,[Z00...  \n",
              "1     [Z00.0] Общий медицинский осмотр_x000D_\\n,[Z00...  \n",
              "2     [Z00.0] Общий медицинский осмотр_x000D_\\n,[H52...  \n",
              "3     0,[Z00.0] Общий медицинский осмотр_x000D_\\n,[Z...  \n",
              "4     0,[H52.2] Астигматизм_x000D_\\nОписание: Миопич...  \n",
              "...                                                 ...  \n",
              "1961  [Z00.0] Общий медицинский осмотр_x000D_\\n,[Z00...  \n",
              "1962  [Z00.0] Общий медицинский осмотр_x000D_\\n,0,[Z...  \n",
              "1972  [Z00.0] Общий медицинский осмотр_x000D_\\n,[Z00...  \n",
              "1973  [Z00.0] Общий медицинский осмотр_x000D_\\n,[Z00...  \n",
              "1981  [Z00.0] Общий медицинский осмотр_x000D_\\n,0,[Z...  \n",
              "\n",
              "[1571 rows x 98 columns]"
            ],
            "text/html": [
              "\n",
              "  <div id=\"df-9edb2ee6-3b07-46bd-a24b-117029fafd8d\">\n",
              "    <div class=\"colab-df-container\">\n",
              "      <div>\n",
              "<style scoped>\n",
              "    .dataframe tbody tr th:only-of-type {\n",
              "        vertical-align: middle;\n",
              "    }\n",
              "\n",
              "    .dataframe tbody tr th {\n",
              "        vertical-align: top;\n",
              "    }\n",
              "\n",
              "    .dataframe thead th {\n",
              "        text-align: right;\n",
              "    }\n",
              "</style>\n",
              "<table border=\"1\" class=\"dataframe\">\n",
              "  <thead>\n",
              "    <tr style=\"text-align: right;\">\n",
              "      <th></th>\n",
              "      <th>КлиентПол</th>\n",
              "      <th>Профессия</th>\n",
              "      <th>ЗаключениеМК</th>\n",
              "      <th>ПсихиатрияНаркология1_МКБ101</th>\n",
              "      <th>Офтальмология1_МКБ101</th>\n",
              "      <th>Оториноларингология1_МКБ101</th>\n",
              "      <th>ХирургНеИсп1_МКБ101</th>\n",
              "      <th>Гинекология1_МКБ101</th>\n",
              "      <th>Стоматология1_МКБ101</th>\n",
              "      <th>Дерматовенерология1_МКБ101</th>\n",
              "      <th>...</th>\n",
              "      <th>Рентгенология1_МКБ102</th>\n",
              "      <th>Рентгенология2_МКБ102</th>\n",
              "      <th>Психиатрия3_МКБ101</th>\n",
              "      <th>Психиатрия3_МКБ102</th>\n",
              "      <th>Психиатрия4_МКБ101</th>\n",
              "      <th>Психиатрия4_МКБ102</th>\n",
              "      <th>Оториноларингология3_МКБ101</th>\n",
              "      <th>ВозрастКатегория</th>\n",
              "      <th>СписокВредныхФакторов</th>\n",
              "      <th>все_диагнозы</th>\n",
              "    </tr>\n",
              "  </thead>\n",
              "  <tbody>\n",
              "    <tr>\n",
              "      <th>0</th>\n",
              "      <td>0</td>\n",
              "      <td>Ведущий специалист по организации обуения</td>\n",
              "      <td>0</td>\n",
              "      <td>0.1000</td>\n",
              "      <td>0.1000</td>\n",
              "      <td>0.1000</td>\n",
              "      <td>0.1000</td>\n",
              "      <td>0.1000</td>\n",
              "      <td>0.1000</td>\n",
              "      <td>0</td>\n",
              "      <td>...</td>\n",
              "      <td>0</td>\n",
              "      <td>0</td>\n",
              "      <td>0</td>\n",
              "      <td>0</td>\n",
              "      <td>0</td>\n",
              "      <td>0</td>\n",
              "      <td>0</td>\n",
              "      <td>6</td>\n",
              "      <td>11x4</td>\n",
              "      <td>[Z00.0] Общий медицинский осмотр_x000D_\\n,[Z00...</td>\n",
              "    </tr>\n",
              "    <tr>\n",
              "      <th>1</th>\n",
              "      <td>1</td>\n",
              "      <td>Ведущий специалист</td>\n",
              "      <td>0</td>\n",
              "      <td>0.1000</td>\n",
              "      <td>0.1000</td>\n",
              "      <td>0</td>\n",
              "      <td>0</td>\n",
              "      <td>0</td>\n",
              "      <td>0</td>\n",
              "      <td>0.1000</td>\n",
              "      <td>...</td>\n",
              "      <td>0</td>\n",
              "      <td>0</td>\n",
              "      <td>0</td>\n",
              "      <td>0</td>\n",
              "      <td>0</td>\n",
              "      <td>0</td>\n",
              "      <td>0</td>\n",
              "      <td>4</td>\n",
              "      <td>4x2x5</td>\n",
              "      <td>[Z00.0] Общий медицинский осмотр_x000D_\\n,[Z00...</td>\n",
              "    </tr>\n",
              "    <tr>\n",
              "      <th>2</th>\n",
              "      <td>1</td>\n",
              "      <td>Главный менеджер</td>\n",
              "      <td>1</td>\n",
              "      <td>0.1000</td>\n",
              "      <td>0.19521</td>\n",
              "      <td>0</td>\n",
              "      <td>0</td>\n",
              "      <td>0</td>\n",
              "      <td>0</td>\n",
              "      <td>0.1000</td>\n",
              "      <td>...</td>\n",
              "      <td>0</td>\n",
              "      <td>0</td>\n",
              "      <td>0</td>\n",
              "      <td>0</td>\n",
              "      <td>0</td>\n",
              "      <td>0</td>\n",
              "      <td>0</td>\n",
              "      <td>4</td>\n",
              "      <td>4x2x5</td>\n",
              "      <td>[Z00.0] Общий медицинский осмотр_x000D_\\n,[H52...</td>\n",
              "    </tr>\n",
              "    <tr>\n",
              "      <th>3</th>\n",
              "      <td>1</td>\n",
              "      <td>Главный специалист</td>\n",
              "      <td>0</td>\n",
              "      <td>0</td>\n",
              "      <td>0.1000</td>\n",
              "      <td>0.1000</td>\n",
              "      <td>0.1000</td>\n",
              "      <td>0</td>\n",
              "      <td>0.1000</td>\n",
              "      <td>0</td>\n",
              "      <td>...</td>\n",
              "      <td>0</td>\n",
              "      <td>0</td>\n",
              "      <td>0</td>\n",
              "      <td>0</td>\n",
              "      <td>0</td>\n",
              "      <td>0</td>\n",
              "      <td>0</td>\n",
              "      <td>4</td>\n",
              "      <td>11x1</td>\n",
              "      <td>0,[Z00.0] Общий медицинский осмотр_x000D_\\n,[Z...</td>\n",
              "    </tr>\n",
              "    <tr>\n",
              "      <th>4</th>\n",
              "      <td>1</td>\n",
              "      <td>Старший специалист</td>\n",
              "      <td>1</td>\n",
              "      <td>0</td>\n",
              "      <td>0.19522</td>\n",
              "      <td>0.1000</td>\n",
              "      <td>0</td>\n",
              "      <td>0</td>\n",
              "      <td>0.1000</td>\n",
              "      <td>0</td>\n",
              "      <td>...</td>\n",
              "      <td>0</td>\n",
              "      <td>0</td>\n",
              "      <td>0</td>\n",
              "      <td>0</td>\n",
              "      <td>0</td>\n",
              "      <td>0</td>\n",
              "      <td>0</td>\n",
              "      <td>5</td>\n",
              "      <td>11x1</td>\n",
              "      <td>0,[H52.2] Астигматизм_x000D_\\nОписание: Миопич...</td>\n",
              "    </tr>\n",
              "    <tr>\n",
              "      <th>...</th>\n",
              "      <td>...</td>\n",
              "      <td>...</td>\n",
              "      <td>...</td>\n",
              "      <td>...</td>\n",
              "      <td>...</td>\n",
              "      <td>...</td>\n",
              "      <td>...</td>\n",
              "      <td>...</td>\n",
              "      <td>...</td>\n",
              "      <td>...</td>\n",
              "      <td>...</td>\n",
              "      <td>...</td>\n",
              "      <td>...</td>\n",
              "      <td>...</td>\n",
              "      <td>...</td>\n",
              "      <td>...</td>\n",
              "      <td>...</td>\n",
              "      <td>...</td>\n",
              "      <td>...</td>\n",
              "      <td>...</td>\n",
              "      <td>...</td>\n",
              "    </tr>\n",
              "    <tr>\n",
              "      <th>1961</th>\n",
              "      <td>1</td>\n",
              "      <td>Инженер</td>\n",
              "      <td>0</td>\n",
              "      <td>0.1000</td>\n",
              "      <td>0.1000</td>\n",
              "      <td>0.1000</td>\n",
              "      <td>0</td>\n",
              "      <td>0</td>\n",
              "      <td>0</td>\n",
              "      <td>0</td>\n",
              "      <td>...</td>\n",
              "      <td>0</td>\n",
              "      <td>0</td>\n",
              "      <td>0</td>\n",
              "      <td>0</td>\n",
              "      <td>0</td>\n",
              "      <td>0</td>\n",
              "      <td>0</td>\n",
              "      <td>3</td>\n",
              "      <td>4x4,4x5,6x1</td>\n",
              "      <td>[Z00.0] Общий медицинский осмотр_x000D_\\n,[Z00...</td>\n",
              "    </tr>\n",
              "    <tr>\n",
              "      <th>1962</th>\n",
              "      <td>1</td>\n",
              "      <td>Начальник лаборатории</td>\n",
              "      <td>0</td>\n",
              "      <td>0.1000</td>\n",
              "      <td>0</td>\n",
              "      <td>0.1000</td>\n",
              "      <td>0</td>\n",
              "      <td>0</td>\n",
              "      <td>0</td>\n",
              "      <td>0</td>\n",
              "      <td>...</td>\n",
              "      <td>0</td>\n",
              "      <td>0</td>\n",
              "      <td>0</td>\n",
              "      <td>0</td>\n",
              "      <td>0</td>\n",
              "      <td>0</td>\n",
              "      <td>0</td>\n",
              "      <td>4</td>\n",
              "      <td>4x4</td>\n",
              "      <td>[Z00.0] Общий медицинский осмотр_x000D_\\n,0,[Z...</td>\n",
              "    </tr>\n",
              "    <tr>\n",
              "      <th>1972</th>\n",
              "      <td>1</td>\n",
              "      <td>Инженер по бурению 1 категории, непосредственн...</td>\n",
              "      <td>0</td>\n",
              "      <td>0.1000</td>\n",
              "      <td>0.1000</td>\n",
              "      <td>0.1000</td>\n",
              "      <td>0</td>\n",
              "      <td>0</td>\n",
              "      <td>0</td>\n",
              "      <td>0</td>\n",
              "      <td>...</td>\n",
              "      <td>0</td>\n",
              "      <td>0</td>\n",
              "      <td>0</td>\n",
              "      <td>0</td>\n",
              "      <td>0</td>\n",
              "      <td>0</td>\n",
              "      <td>0</td>\n",
              "      <td>4</td>\n",
              "      <td>3x1x8x2</td>\n",
              "      <td>[Z00.0] Общий медицинский осмотр_x000D_\\n,[Z00...</td>\n",
              "    </tr>\n",
              "    <tr>\n",
              "      <th>1973</th>\n",
              "      <td>1</td>\n",
              "      <td>Приемщик вагонов в депо</td>\n",
              "      <td>0</td>\n",
              "      <td>0.1000</td>\n",
              "      <td>0.1000</td>\n",
              "      <td>0.1000</td>\n",
              "      <td>0</td>\n",
              "      <td>0</td>\n",
              "      <td>0</td>\n",
              "      <td>0</td>\n",
              "      <td>...</td>\n",
              "      <td>0</td>\n",
              "      <td>0</td>\n",
              "      <td>0</td>\n",
              "      <td>0</td>\n",
              "      <td>0</td>\n",
              "      <td>0</td>\n",
              "      <td>0</td>\n",
              "      <td>3</td>\n",
              "      <td>4x2x5,6x1</td>\n",
              "      <td>[Z00.0] Общий медицинский осмотр_x000D_\\n,[Z00...</td>\n",
              "    </tr>\n",
              "    <tr>\n",
              "      <th>1981</th>\n",
              "      <td>1</td>\n",
              "      <td>Анестезиолог</td>\n",
              "      <td>0</td>\n",
              "      <td>0.1000</td>\n",
              "      <td>0</td>\n",
              "      <td>0.1000</td>\n",
              "      <td>0</td>\n",
              "      <td>0</td>\n",
              "      <td>0.1000</td>\n",
              "      <td>0</td>\n",
              "      <td>...</td>\n",
              "      <td>0</td>\n",
              "      <td>0</td>\n",
              "      <td>0</td>\n",
              "      <td>0</td>\n",
              "      <td>0</td>\n",
              "      <td>0</td>\n",
              "      <td>0</td>\n",
              "      <td>7</td>\n",
              "      <td>27</td>\n",
              "      <td>[Z00.0] Общий медицинский осмотр_x000D_\\n,0,[Z...</td>\n",
              "    </tr>\n",
              "  </tbody>\n",
              "</table>\n",
              "<p>1571 rows × 98 columns</p>\n",
              "</div>\n",
              "      <button class=\"colab-df-convert\" onclick=\"convertToInteractive('df-9edb2ee6-3b07-46bd-a24b-117029fafd8d')\"\n",
              "              title=\"Convert this dataframe to an interactive table.\"\n",
              "              style=\"display:none;\">\n",
              "        \n",
              "  <svg xmlns=\"http://www.w3.org/2000/svg\" height=\"24px\"viewBox=\"0 0 24 24\"\n",
              "       width=\"24px\">\n",
              "    <path d=\"M0 0h24v24H0V0z\" fill=\"none\"/>\n",
              "    <path d=\"M18.56 5.44l.94 2.06.94-2.06 2.06-.94-2.06-.94-.94-2.06-.94 2.06-2.06.94zm-11 1L8.5 8.5l.94-2.06 2.06-.94-2.06-.94L8.5 2.5l-.94 2.06-2.06.94zm10 10l.94 2.06.94-2.06 2.06-.94-2.06-.94-.94-2.06-.94 2.06-2.06.94z\"/><path d=\"M17.41 7.96l-1.37-1.37c-.4-.4-.92-.59-1.43-.59-.52 0-1.04.2-1.43.59L10.3 9.45l-7.72 7.72c-.78.78-.78 2.05 0 2.83L4 21.41c.39.39.9.59 1.41.59.51 0 1.02-.2 1.41-.59l7.78-7.78 2.81-2.81c.8-.78.8-2.07 0-2.86zM5.41 20L4 18.59l7.72-7.72 1.47 1.35L5.41 20z\"/>\n",
              "  </svg>\n",
              "      </button>\n",
              "      \n",
              "  <style>\n",
              "    .colab-df-container {\n",
              "      display:flex;\n",
              "      flex-wrap:wrap;\n",
              "      gap: 12px;\n",
              "    }\n",
              "\n",
              "    .colab-df-convert {\n",
              "      background-color: #E8F0FE;\n",
              "      border: none;\n",
              "      border-radius: 50%;\n",
              "      cursor: pointer;\n",
              "      display: none;\n",
              "      fill: #1967D2;\n",
              "      height: 32px;\n",
              "      padding: 0 0 0 0;\n",
              "      width: 32px;\n",
              "    }\n",
              "\n",
              "    .colab-df-convert:hover {\n",
              "      background-color: #E2EBFA;\n",
              "      box-shadow: 0px 1px 2px rgba(60, 64, 67, 0.3), 0px 1px 3px 1px rgba(60, 64, 67, 0.15);\n",
              "      fill: #174EA6;\n",
              "    }\n",
              "\n",
              "    [theme=dark] .colab-df-convert {\n",
              "      background-color: #3B4455;\n",
              "      fill: #D2E3FC;\n",
              "    }\n",
              "\n",
              "    [theme=dark] .colab-df-convert:hover {\n",
              "      background-color: #434B5C;\n",
              "      box-shadow: 0px 1px 3px 1px rgba(0, 0, 0, 0.15);\n",
              "      filter: drop-shadow(0px 1px 2px rgba(0, 0, 0, 0.3));\n",
              "      fill: #FFFFFF;\n",
              "    }\n",
              "  </style>\n",
              "\n",
              "      <script>\n",
              "        const buttonEl =\n",
              "          document.querySelector('#df-9edb2ee6-3b07-46bd-a24b-117029fafd8d button.colab-df-convert');\n",
              "        buttonEl.style.display =\n",
              "          google.colab.kernel.accessAllowed ? 'block' : 'none';\n",
              "\n",
              "        async function convertToInteractive(key) {\n",
              "          const element = document.querySelector('#df-9edb2ee6-3b07-46bd-a24b-117029fafd8d');\n",
              "          const dataTable =\n",
              "            await google.colab.kernel.invokeFunction('convertToInteractive',\n",
              "                                                     [key], {});\n",
              "          if (!dataTable) return;\n",
              "\n",
              "          const docLinkHtml = 'Like what you see? Visit the ' +\n",
              "            '<a target=\"_blank\" href=https://colab.research.google.com/notebooks/data_table.ipynb>data table notebook</a>'\n",
              "            + ' to learn more about interactive tables.';\n",
              "          element.innerHTML = '';\n",
              "          dataTable['output_type'] = 'display_data';\n",
              "          await google.colab.output.renderOutput(dataTable, element);\n",
              "          const docLink = document.createElement('div');\n",
              "          docLink.innerHTML = docLinkHtml;\n",
              "          element.appendChild(docLink);\n",
              "        }\n",
              "      </script>\n",
              "    </div>\n",
              "  </div>\n",
              "  "
            ]
          },
          "metadata": {},
          "execution_count": 181
        }
      ]
    },
    {
      "cell_type": "code",
      "source": [
        "xTrainDiag = new['все_диагнозы'] \n",
        "print(xTrainDiag[2]) # пример "
      ],
      "metadata": {
        "id": "K6d_GfteB2H7",
        "colab": {
          "base_uri": "https://localhost:8080/"
        },
        "outputId": "4a955847-ddec-4463-80dd-02bf1b7bfb00"
      },
      "execution_count": null,
      "outputs": [
        {
          "output_type": "stream",
          "name": "stdout",
          "text": [
            "[Z00.0] Общий медицинский осмотр_x000D_\n",
            ",[H52.1] Миопия_x000D_\n",
            "Описание: Миопия слабой степени обоих глаз_x000D_\n",
            ",0,0,0,0,[Z00.0] Общий медицинский осмотр_x000D_\n",
            ",0,0,0,0,0,0,0,0,0,0,0,0,0,0,0,0,0,0,0,0,0,0,0,0\n"
          ]
        }
      ]
    },
    {
      "cell_type": "code",
      "source": [
        "maxWordsCount = 10000 \n",
        "tokenizer = Tokenizer(num_words=maxWordsCount, filters='!\"#$%&()*+,-–—./:;<=>?@[\\]^_`{|}~\\t\\n\\xa0\\_x000D_', lower=True, split=' ', oov_token='unknown', char_level=False)\n",
        "tokenizer.fit_on_texts(xTrainDiag) \n",
        "items = list(tokenizer.word_index.items())  "
      ],
      "metadata": {
        "id": "ilzER_hlB84x"
      },
      "execution_count": null,
      "outputs": []
    },
    {
      "cell_type": "code",
      "source": [
        "xTrainDiagIndexes = tokenizer.texts_to_sequences(xTrainDiag) "
      ],
      "metadata": {
        "id": "b5nXbToyB-Bo"
      },
      "execution_count": null,
      "outputs": []
    },
    {
      "cell_type": "code",
      "source": [
        "xTrainDiag01 = tokenizer.sequences_to_matrix(xTrainDiagIndexes) \n",
        "print(xTrainDiag01.shape)                                      \n",
        "print(xTrainDiag01[0][0:100])  "
      ],
      "metadata": {
        "id": "WYzKqiELB_Ha",
        "colab": {
          "base_uri": "https://localhost:8080/"
        },
        "outputId": "951e1a5e-5a9f-44fd-addb-0c0f4acc1485"
      },
      "execution_count": null,
      "outputs": [
        {
          "output_type": "stream",
          "name": "stdout",
          "text": [
            "(1571, 10000)\n",
            "[0. 0. 1. 1. 1. 1. 1. 0. 0. 0. 0. 0. 0. 0. 0. 0. 0. 0. 0. 0. 0. 0. 0. 0.\n",
            " 0. 0. 0. 0. 0. 0. 0. 0. 0. 0. 0. 0. 0. 0. 0. 0. 0. 0. 0. 0. 0. 0. 0. 0.\n",
            " 0. 0. 0. 0. 0. 0. 0. 0. 0. 0. 0. 0. 0. 0. 0. 0. 0. 0. 0. 0. 0. 0. 0. 0.\n",
            " 0. 0. 0. 0. 0. 0. 0. 0. 0. 0. 0. 0. 0. 0. 0. 0. 0. 0. 0. 0. 0. 0. 0. 0.\n",
            " 0. 0. 0. 0.]\n"
          ]
        }
      ]
    },
    {
      "cell_type": "code",
      "source": [
        "n = 0\n",
        "print(xTrainDiag01[n])       \n",
        "print(xTrainDiagIndexes[n]) "
      ],
      "metadata": {
        "id": "uMO1TZWOCA07",
        "colab": {
          "base_uri": "https://localhost:8080/"
        },
        "outputId": "4337b786-16eb-40dd-9edf-c9e304a49427"
      },
      "execution_count": null,
      "outputs": [
        {
          "output_type": "stream",
          "name": "stdout",
          "text": [
            "[0. 0. 1. ... 0. 0. 0.]\n",
            "[6, 3, 4, 5, 2, 6, 3, 4, 5, 2, 6, 3, 4, 5, 2, 6, 3, 4, 5, 2, 6, 3, 4, 5, 2, 6, 3, 4, 5, 2]\n"
          ]
        }
      ]
    },
    {
      "cell_type": "markdown",
      "source": [
        "_______________________________"
      ],
      "metadata": {
        "id": "iA8QvaV2B5xj"
      }
    },
    {
      "cell_type": "markdown",
      "source": [
        "Поработаем с профессией"
      ],
      "metadata": {
        "id": "-f8JpT6ZK84L"
      }
    },
    {
      "cell_type": "code",
      "source": [
        "# Профессия\n",
        "xTrainProf = new['Профессия'] \n",
        "print(xTrainProf[0]) # пример "
      ],
      "metadata": {
        "colab": {
          "base_uri": "https://localhost:8080/"
        },
        "id": "jUs0Q3kZ1NtD",
        "outputId": "81389c30-3f99-4b64-bd45-8674bc9820bf"
      },
      "execution_count": null,
      "outputs": [
        {
          "output_type": "stream",
          "name": "stdout",
          "text": [
            "Ведущий специалист по организации обуения\n"
          ]
        }
      ]
    },
    {
      "cell_type": "code",
      "source": [
        "maxWordsCount = 10000 \n",
        "tokenizer = Tokenizer(num_words=maxWordsCount, filters='!\"#$%&()*+,-–—./:;<=>?@[\\]^_`{|}~\\t\\n\\xa0', lower=True, split=' ', oov_token='unknown', char_level=False)\n",
        "tokenizer.fit_on_texts(xTrainProf) \n",
        "items = list(tokenizer.word_index.items())  "
      ],
      "metadata": {
        "id": "83VXES9L1nUP"
      },
      "execution_count": null,
      "outputs": []
    },
    {
      "cell_type": "code",
      "source": [
        "xTrainProfIndexes = tokenizer.texts_to_sequences(xTrainProf) "
      ],
      "metadata": {
        "id": "-_Ua-g_Y1wGx"
      },
      "execution_count": null,
      "outputs": []
    },
    {
      "cell_type": "code",
      "source": [
        "xTrainProf01 = tokenizer.sequences_to_matrix(xTrainProfIndexes) \n",
        "print(xTrainProf01.shape)                                      \n",
        "print(xTrainProf01[0][0:100])  "
      ],
      "metadata": {
        "colab": {
          "base_uri": "https://localhost:8080/"
        },
        "id": "qfMMuQtg1zJy",
        "outputId": "852bd63f-6f29-46fa-b264-4eebcb29ab7c"
      },
      "execution_count": null,
      "outputs": [
        {
          "output_type": "stream",
          "name": "stdout",
          "text": [
            "(1571, 10000)\n",
            "[0. 0. 0. 1. 0. 1. 1. 0. 0. 0. 0. 0. 0. 0. 0. 0. 0. 0. 0. 0. 0. 0. 0. 0.\n",
            " 0. 0. 0. 0. 0. 0. 0. 0. 0. 0. 0. 0. 0. 0. 0. 0. 0. 0. 0. 0. 0. 0. 0. 0.\n",
            " 0. 0. 0. 0. 0. 0. 0. 0. 0. 0. 0. 0. 0. 0. 0. 0. 0. 0. 0. 0. 0. 0. 0. 0.\n",
            " 0. 0. 0. 0. 0. 0. 0. 0. 0. 0. 0. 0. 0. 0. 0. 0. 0. 0. 0. 0. 0. 0. 0. 0.\n",
            " 0. 0. 0. 0.]\n"
          ]
        }
      ]
    },
    {
      "cell_type": "code",
      "source": [
        "n = 0\n",
        "print(xTrainProf[n])       \n",
        "print(xTrainProfIndexes[n]) "
      ],
      "metadata": {
        "colab": {
          "base_uri": "https://localhost:8080/"
        },
        "id": "Lolr2pXh1-_9",
        "outputId": "24c25a01-c16c-48db-9e33-19e600314667"
      },
      "execution_count": null,
      "outputs": [
        {
          "output_type": "stream",
          "name": "stdout",
          "text": [
            "Ведущий специалист по организации обуения\n",
            "[6, 5, 3, 189, 309]\n"
          ]
        }
      ]
    },
    {
      "cell_type": "markdown",
      "source": [
        "____________________________"
      ],
      "metadata": {
        "id": "yRtqYAH1FP1i"
      }
    },
    {
      "cell_type": "markdown",
      "source": [
        "Поработаем с вредыми факторами"
      ],
      "metadata": {
        "id": "BzA1iNTnLCzC"
      }
    },
    {
      "cell_type": "code",
      "source": [
        "#СписокВредныхФакторов\n",
        "xTrainFactor = new['СписокВредныхФакторов'] \n",
        "print(xTrainFactor[10])"
      ],
      "metadata": {
        "colab": {
          "base_uri": "https://localhost:8080/"
        },
        "id": "oAxPVDdgZKpw",
        "outputId": "f498c02c-d466-46d6-a89b-5bd308acee89"
      },
      "execution_count": null,
      "outputs": [
        {
          "output_type": "stream",
          "name": "stdout",
          "text": [
            "11x1\n"
          ]
        }
      ]
    },
    {
      "cell_type": "code",
      "source": [
        "maxWordsCount = 1000\n",
        "tokenizer = Tokenizer(num_words=maxWordsCount, filters='!\"#$%&()*+,-–—./:;<=>?@[\\]^_`{|}~\\t\\n\\xa0', lower=True, split=' ', oov_token='unknown', char_level=False)\n",
        "tokenizer.fit_on_texts(xTrainFactor) \n",
        "items = list(tokenizer.word_index.items())  "
      ],
      "metadata": {
        "id": "RUAfowSZZMss"
      },
      "execution_count": null,
      "outputs": []
    },
    {
      "cell_type": "code",
      "source": [
        "xTrainFactorIndexes = tokenizer.texts_to_sequences(xTrainFactor) "
      ],
      "metadata": {
        "id": "Q3B6V10vZOrj"
      },
      "execution_count": null,
      "outputs": []
    },
    {
      "cell_type": "code",
      "source": [
        "xTrainFactor01 = tokenizer.sequences_to_matrix(xTrainFactorIndexes) \n",
        "print(xTrainFactor01.shape)                                      \n",
        "print(xTrainFactor01[0][0:100])  "
      ],
      "metadata": {
        "colab": {
          "base_uri": "https://localhost:8080/"
        },
        "id": "ZMQZsRvWZRyC",
        "outputId": "4baab4b0-e387-447d-9485-0ddc899f0907"
      },
      "execution_count": null,
      "outputs": [
        {
          "output_type": "stream",
          "name": "stdout",
          "text": [
            "(1571, 1000)\n",
            "[0. 0. 0. 0. 0. 0. 0. 0. 0. 0. 0. 0. 0. 0. 1. 0. 0. 0. 0. 0. 0. 0. 0. 0.\n",
            " 0. 0. 0. 0. 0. 0. 0. 0. 0. 0. 0. 0. 0. 0. 0. 0. 0. 0. 0. 0. 0. 0. 0. 0.\n",
            " 0. 0. 0. 0. 0. 0. 0. 0. 0. 0. 0. 0. 0. 0. 0. 0. 0. 0. 0. 0. 0. 0. 0. 0.\n",
            " 0. 0. 0. 0. 0. 0. 0. 0. 0. 0. 0. 0. 0. 0. 0. 0. 0. 0. 0. 0. 0. 0. 0. 0.\n",
            " 0. 0. 0. 0.]\n"
          ]
        }
      ]
    },
    {
      "cell_type": "code",
      "source": [
        "n = 0\n",
        "print(xTrainFactor[n])       \n",
        "print(xTrainFactorIndexes[n])"
      ],
      "metadata": {
        "colab": {
          "base_uri": "https://localhost:8080/"
        },
        "id": "qplapCqkZUWT",
        "outputId": "bee69b63-4269-421d-b952-965128cc4de8"
      },
      "execution_count": null,
      "outputs": [
        {
          "output_type": "stream",
          "name": "stdout",
          "text": [
            "11x4\n",
            "[14]\n"
          ]
        }
      ]
    },
    {
      "cell_type": "markdown",
      "source": [
        "_______________________________"
      ],
      "metadata": {
        "id": "0teyR2OqXbur"
      }
    },
    {
      "cell_type": "code",
      "source": [
        "for i in new:\n",
        "  print(\"                             \",\"'\",i,\"'\", \",\", sep=\"\")"
      ],
      "metadata": {
        "id": "PdkyadDhaF8Y",
        "colab": {
          "base_uri": "https://localhost:8080/"
        },
        "outputId": "340954fe-dd13-4f26-dc08-291cb8de819e"
      },
      "execution_count": null,
      "outputs": [
        {
          "output_type": "stream",
          "name": "stdout",
          "text": [
            "                             'КлиентПол',\n",
            "                             'Профессия',\n",
            "                             'ЗаключениеМК',\n",
            "                             'ПсихиатрияНаркология1_МКБ101',\n",
            "                             'Офтальмология1_МКБ101',\n",
            "                             'Оториноларингология1_МКБ101',\n",
            "                             'ХирургНеИсп1_МКБ101',\n",
            "                             'Гинекология1_МКБ101',\n",
            "                             'Стоматология1_МКБ101',\n",
            "                             'Дерматовенерология1_МКБ101',\n",
            "                             'Рентгенология1_МКБ101',\n",
            "                             'Неврология1_МКБ101',\n",
            "                             'Терапия1_МКБ101',\n",
            "                             'Хирургия1_МКБ101',\n",
            "                             'Офтальмология1_МКБ102',\n",
            "                             'Терапия2_МКБ101',\n",
            "                             'Неврология2_МКБ101',\n",
            "                             'ЛабораторныеИсследования1_МКБ101',\n",
            "                             'ЭКГНеИсп1_МКБ101',\n",
            "                             'УЗИДиагностика1_МКБ101',\n",
            "                             'УЗИДиагностика2_МКБ101',\n",
            "                             'ПсихиатрияНаркология2_МКБ101',\n",
            "                             'Терапия1_МКБ102',\n",
            "                             'ЛабораторныеИсследования2_МКБ101',\n",
            "                             'Терапия1_МКБ103',\n",
            "                             'Психиатрия1_МКБ101',\n",
            "                             'Гинекология1_МКБ102',\n",
            "                             'Рентгенология2_МКБ101',\n",
            "                             'Гинекология2_МКБ101',\n",
            "                             'Хирургия2_МКБ101',\n",
            "                             'ПроцедурнаяМедсестра1_МКБ101',\n",
            "                             'ФункциональнаяДиагностика1_МКБ101',\n",
            "                             'УЗИДиагностика1_МКБ102',\n",
            "                             'Стоматология2_МКБ101',\n",
            "                             'Неврология1_МКБ102',\n",
            "                             'Оториноларингология2_МКБ101',\n",
            "                             'Дерматовенерология1_МКБ102',\n",
            "                             'Дерматовенерология2_МКБ101',\n",
            "                             'Дерматовенерология2_МКБ102',\n",
            "                             'Хирургия1_МКБ102',\n",
            "                             'Хирургия2_МКБ102',\n",
            "                             'Офтальмология2_МКБ101',\n",
            "                             'Офтальмология2_МКБ102',\n",
            "                             'Неврология2_МКБ102',\n",
            "                             'ПсихиатрияНаркология1_МКБ102',\n",
            "                             'ПсихиатрияНаркология2_МКБ102',\n",
            "                             'УЗИДиагностика2_МКБ102',\n",
            "                             'Оториноларингология1_МКБ102',\n",
            "                             'Оториноларингология2_МКБ102',\n",
            "                             'Терапия2_МКБ102',\n",
            "                             'Оториноларингология1_МКБ103',\n",
            "                             'Оториноларингология1_МКБ104',\n",
            "                             'Оториноларингология2_МКБ103',\n",
            "                             'Оториноларингология2_МКБ104',\n",
            "                             'Терапия3_МКБ101',\n",
            "                             'Терапия3_МКБ102',\n",
            "                             'Терапия4_МКБ101',\n",
            "                             'Терапия4_МКБ102',\n",
            "                             'Гинекология2_МКБ102',\n",
            "                             'УЗИДиагностика1_МКБ103',\n",
            "                             'УЗИДиагностика1_МКБ104',\n",
            "                             'УЗИДиагностика2_МКБ103',\n",
            "                             'УЗИДиагностика2_МКБ104',\n",
            "                             'Стоматология1_МКБ102',\n",
            "                             'Стоматология2_МКБ102',\n",
            "                             'Терапия1_МКБ104',\n",
            "                             'Терапия2_МКБ103',\n",
            "                             'Терапия2_МКБ104',\n",
            "                             'Офтальмология1_МКБ103',\n",
            "                             'Офтальмология1_МКБ104',\n",
            "                             'Офтальмология2_МКБ103',\n",
            "                             'Офтальмология2_МКБ104',\n",
            "                             'ЛабораторныеИсследования1_МКБ102',\n",
            "                             'ЛабораторныеИсследования2_МКБ102',\n",
            "                             'Хирургия3_МКБ101',\n",
            "                             'Гинекология3_МКБ101',\n",
            "                             'Гинекология3_МКБ102',\n",
            "                             'Гинекология4_МКБ101',\n",
            "                             'Гинекология4_МКБ102',\n",
            "                             'ТерапевтНеИсп1_МКБ101',\n",
            "                             'Эндоскопия1_МКБ101',\n",
            "                             'ТерапевтНеИсп1_МКБ102',\n",
            "                             'ХирургНеИсп1_МКБ102',\n",
            "                             'ХирургНеИсп2_МКБ101',\n",
            "                             'ХирургНеИсп2_МКБ102',\n",
            "                             'Психиатрия1_МКБ102',\n",
            "                             'Психиатрия2_МКБ101',\n",
            "                             'Психиатрия2_МКБ102',\n",
            "                             'Рентгенология1_МКБ102',\n",
            "                             'Рентгенология2_МКБ102',\n",
            "                             'Психиатрия3_МКБ101',\n",
            "                             'Психиатрия3_МКБ102',\n",
            "                             'Психиатрия4_МКБ101',\n",
            "                             'Психиатрия4_МКБ102',\n",
            "                             'Оториноларингология3_МКБ101',\n",
            "                             'ВозрастКатегория',\n",
            "                             'СписокВредныхФакторов',\n",
            "                             'все_диагнозы',\n"
          ]
        }
      ]
    },
    {
      "cell_type": "code",
      "source": [
        "new_ohe = pd.get_dummies(new, columns=['КлиентПол',\n",
        "                             'Профессия',\n",
        "                             'ЗаключениеМК',\n",
        "                             'ПсихиатрияНаркология1_МКБ101',\n",
        "                             'Офтальмология1_МКБ101',\n",
        "                             'Оториноларингология1_МКБ101',\n",
        "                             'ХирургНеИсп1_МКБ101',\n",
        "                             'Гинекология1_МКБ101',\n",
        "                             'Стоматология1_МКБ101',\n",
        "                             'Дерматовенерология1_МКБ101',\n",
        "                             'Рентгенология1_МКБ101',\n",
        "                             'Неврология1_МКБ101',\n",
        "                             'Терапия1_МКБ101',\n",
        "                             'Хирургия1_МКБ101',\n",
        "                             'Офтальмология1_МКБ102',\n",
        "                             'Терапия2_МКБ101',\n",
        "                             'Неврология2_МКБ101',\n",
        "                             'ЛабораторныеИсследования1_МКБ101',\n",
        "                             'ЭКГНеИсп1_МКБ101',\n",
        "                             'УЗИДиагностика1_МКБ101',\n",
        "                             'УЗИДиагностика2_МКБ101',\n",
        "                             'ПсихиатрияНаркология2_МКБ101',\n",
        "                             'Терапия1_МКБ102',\n",
        "                             'ЛабораторныеИсследования2_МКБ101',\n",
        "                             'Терапия1_МКБ103',\n",
        "                             'Психиатрия1_МКБ101',\n",
        "                             'Гинекология1_МКБ102',\n",
        "                             'Рентгенология2_МКБ101',\n",
        "                             'Гинекология2_МКБ101',\n",
        "                             'Хирургия2_МКБ101',\n",
        "                             'ПроцедурнаяМедсестра1_МКБ101',\n",
        "                             'ФункциональнаяДиагностика1_МКБ101',\n",
        "                             'УЗИДиагностика1_МКБ102',\n",
        "                             'Стоматология2_МКБ101',\n",
        "                             'Неврология1_МКБ102',\n",
        "                             'Оториноларингология2_МКБ101',\n",
        "                             'Дерматовенерология1_МКБ102',\n",
        "                             'Дерматовенерология2_МКБ101',\n",
        "                             'Дерматовенерология2_МКБ102',\n",
        "                             'Хирургия1_МКБ102',\n",
        "                             'Хирургия2_МКБ102',\n",
        "                             'Офтальмология2_МКБ101',\n",
        "                             'Офтальмология2_МКБ102',\n",
        "                             'Неврология2_МКБ102',\n",
        "                             'ПсихиатрияНаркология1_МКБ102',\n",
        "                             'ПсихиатрияНаркология2_МКБ102',\n",
        "                             'УЗИДиагностика2_МКБ102',\n",
        "                             'Оториноларингология1_МКБ102',\n",
        "                             'Оториноларингология2_МКБ102',\n",
        "                             'Терапия2_МКБ102',\n",
        "                             'Оториноларингология1_МКБ103',\n",
        "                             'Оториноларингология1_МКБ104',\n",
        "                             'Оториноларингология2_МКБ103',\n",
        "                             'Оториноларингология2_МКБ104',\n",
        "                             'Терапия3_МКБ101',\n",
        "                             'Терапия3_МКБ102',\n",
        "                             'Терапия4_МКБ101',\n",
        "                             'Терапия4_МКБ102',\n",
        "                             'Гинекология2_МКБ102',\n",
        "                             'УЗИДиагностика1_МКБ103',\n",
        "                             'УЗИДиагностика1_МКБ104',\n",
        "                             'УЗИДиагностика2_МКБ103',\n",
        "                             'УЗИДиагностика2_МКБ104',\n",
        "                             'Стоматология1_МКБ102',\n",
        "                             'Стоматология2_МКБ102',\n",
        "                             'Терапия1_МКБ104',\n",
        "                             'Терапия2_МКБ103',\n",
        "                             'Терапия2_МКБ104',\n",
        "                             'Офтальмология1_МКБ103',\n",
        "                             'Офтальмология1_МКБ104',\n",
        "                             'Офтальмология2_МКБ103',\n",
        "                             'Офтальмология2_МКБ104',\n",
        "                             'ЛабораторныеИсследования1_МКБ102',\n",
        "                             'ЛабораторныеИсследования2_МКБ102',\n",
        "                             'Хирургия3_МКБ101',\n",
        "                             'Гинекология3_МКБ101',\n",
        "                             'Гинекология3_МКБ102',\n",
        "                             'Гинекология4_МКБ101',\n",
        "                             'Гинекология4_МКБ102',\n",
        "                             'ТерапевтНеИсп1_МКБ101',\n",
        "                             'Эндоскопия1_МКБ101',\n",
        "                             'ТерапевтНеИсп1_МКБ102',\n",
        "                             'ХирургНеИсп1_МКБ102',\n",
        "                             'ХирургНеИсп2_МКБ101',\n",
        "                             'ХирургНеИсп2_МКБ102',\n",
        "                             'Психиатрия1_МКБ102',\n",
        "                             'Психиатрия2_МКБ101',\n",
        "                             'Психиатрия2_МКБ102',\n",
        "                             'Рентгенология1_МКБ102',\n",
        "                             'Рентгенология2_МКБ102',\n",
        "                             'Психиатрия3_МКБ101',\n",
        "                             'Психиатрия3_МКБ102',\n",
        "                             'Психиатрия4_МКБ101',\n",
        "                             'Психиатрия4_МКБ102',\n",
        "                             'Оториноларингология3_МКБ101',\n",
        "                             'ВозрастКатегория',\n",
        "                             'СписокВредныхФакторов',\n",
        "                             'все_диагнозы',\n",
        "                           ])"
      ],
      "metadata": {
        "id": "_MmNuRw0Zxcp"
      },
      "execution_count": null,
      "outputs": []
    },
    {
      "cell_type": "code",
      "source": [
        "new_ohe=new_ohe.drop(columns=\"Профессия\")"
      ],
      "metadata": {
        "id": "z58ELu5WbuIC"
      },
      "execution_count": null,
      "outputs": []
    },
    {
      "cell_type": "code",
      "source": [
        "new_ohe=new_ohe.drop(columns=\"СписокВредныхФакторов\")"
      ],
      "metadata": {
        "id": "ADvPBuM-doxY"
      },
      "execution_count": null,
      "outputs": []
    },
    {
      "cell_type": "code",
      "source": [
        "new_ohe=new_ohe.drop(columns=\"ЗаключениеМК\")"
      ],
      "metadata": {
        "id": "Bi8JeZjLMJLw"
      },
      "execution_count": null,
      "outputs": []
    },
    {
      "cell_type": "code",
      "source": [
        "new_ohe=new_ohe.drop(columns=\"все_диагнозы\")"
      ],
      "metadata": {
        "id": "0TzC337EMJjx"
      },
      "execution_count": null,
      "outputs": []
    },
    {
      "cell_type": "code",
      "source": [
        "colms5 = new_ohe.columns.values.tolist()"
      ],
      "metadata": {
        "id": "1RHiZr37cdgc"
      },
      "execution_count": null,
      "outputs": []
    },
    {
      "cell_type": "code",
      "source": [
        "yTrain = new['ЗаключениеМК'].to_numpy()"
      ],
      "metadata": {
        "id": "wIV1KKvCcpyN"
      },
      "execution_count": null,
      "outputs": []
    },
    {
      "cell_type": "code",
      "source": [
        "yTrain = yTrain.astype(float)"
      ],
      "metadata": {
        "id": "41UPEOeDcna_"
      },
      "execution_count": null,
      "outputs": []
    },
    {
      "cell_type": "code",
      "source": [
        "yTrain"
      ],
      "metadata": {
        "colab": {
          "base_uri": "https://localhost:8080/"
        },
        "id": "XKRDkPixctyp",
        "outputId": "c66358f2-0cad-4aea-be11-ad769cd7a139"
      },
      "execution_count": null,
      "outputs": [
        {
          "output_type": "execute_result",
          "data": {
            "text/plain": [
              "array([0., 0., 1., ..., 0., 0., 0.])"
            ]
          },
          "metadata": {},
          "execution_count": 221
        }
      ]
    },
    {
      "cell_type": "code",
      "source": [
        "yTrain.shape"
      ],
      "metadata": {
        "colab": {
          "base_uri": "https://localhost:8080/"
        },
        "id": "pxywnRDrczkQ",
        "outputId": "97e18592-46e1-4e30-f2a8-4c69f4637bac"
      },
      "execution_count": null,
      "outputs": [
        {
          "output_type": "execute_result",
          "data": {
            "text/plain": [
              "(1571,)"
            ]
          },
          "metadata": {},
          "execution_count": 222
        }
      ]
    },
    {
      "cell_type": "code",
      "source": [
        "new_ohe = new_ohe.astype(float)"
      ],
      "metadata": {
        "id": "O6sbqD9Rc6Of"
      },
      "execution_count": null,
      "outputs": []
    },
    {
      "cell_type": "code",
      "source": [
        "xTrain01 = new_ohe.to_numpy()"
      ],
      "metadata": {
        "id": "pNO1H0q7dur3"
      },
      "execution_count": null,
      "outputs": []
    },
    {
      "cell_type": "code",
      "source": [
        "xTrain01"
      ],
      "metadata": {
        "colab": {
          "base_uri": "https://localhost:8080/"
        },
        "id": "cYpaUd4hdzOO",
        "outputId": "44bea7dc-9838-4e1b-92eb-c6e2085cbc5d"
      },
      "execution_count": null,
      "outputs": [
        {
          "output_type": "execute_result",
          "data": {
            "text/plain": [
              "array([[1., 0., 0., ..., 0., 0., 0.],\n",
              "       [0., 1., 0., ..., 0., 0., 0.],\n",
              "       [0., 1., 0., ..., 0., 0., 0.],\n",
              "       ...,\n",
              "       [0., 1., 0., ..., 0., 0., 0.],\n",
              "       [0., 1., 0., ..., 0., 0., 0.],\n",
              "       [0., 1., 0., ..., 0., 0., 0.]])"
            ]
          },
          "metadata": {},
          "execution_count": 225
        }
      ]
    },
    {
      "cell_type": "code",
      "source": [
        "xTrain01.shape"
      ],
      "metadata": {
        "colab": {
          "base_uri": "https://localhost:8080/"
        },
        "id": "TfNi5W4Cd1dQ",
        "outputId": "62a15ae3-0d7a-4984-d717-1d6542a7758c"
      },
      "execution_count": null,
      "outputs": [
        {
          "output_type": "execute_result",
          "data": {
            "text/plain": [
              "(1571, 2069)"
            ]
          },
          "metadata": {},
          "execution_count": 226
        }
      ]
    },
    {
      "cell_type": "code",
      "source": [
        "x_train, x_test, x_train_text1, x_test_text1, x_train_text2, x_test_text2, x_train_text3, x_test_text3, y_train, y_test = train_test_split(xTrain01,\n",
        "                                                                                                                                           xTrainProf01, \n",
        "                                                                                                                                           xTrainFactor01,\n",
        "                                                                                                                                           xTrainDiag01,\n",
        "                                                                                                                                           yTrain, \n",
        "                                                                                                                                           test_size=0.25,\n",
        "                                                                                                                                           shuffle = False)"
      ],
      "metadata": {
        "id": "_9bAJ_6ueUQF"
      },
      "execution_count": null,
      "outputs": []
    },
    {
      "cell_type": "code",
      "source": [
        "# Визуальная оценка ошибки на обучающей и проверочной выборках\n",
        "def compare_sharp_loss (history, x_size, y_size):\n",
        "  \n",
        "  plt.figure(figsize=(x_size,y_size))\n",
        "  plt.plot(history.history['loss'], \n",
        "         label='Ошибка на обучающей выборке')\n",
        "  \n",
        "  plt.plot(history.history['val_loss'], \n",
        "         label='Ошибка проверочном наборе')\n",
        "  plt.xlabel('Эпоха обучения')\n",
        "  plt.ylabel('Средняя ошибка')\n",
        "  plt.legend()\n",
        "  plt.show()"
      ],
      "metadata": {
        "id": "LuUfQdYkfIkM"
      },
      "execution_count": null,
      "outputs": []
    },
    {
      "cell_type": "markdown",
      "source": [
        "___________________________________"
      ],
      "metadata": {
        "id": "LxBRAHc8ZxyP"
      }
    },
    {
      "cell_type": "markdown",
      "source": [
        "_________________________________________"
      ],
      "metadata": {
        "id": "2RijsUxTZzLF"
      }
    },
    {
      "cell_type": "markdown",
      "source": [
        "# **Создаем модель, обучаем модель**"
      ],
      "metadata": {
        "id": "rFZ7Q3X6EvDV"
      }
    },
    {
      "cell_type": "code",
      "source": [
        "input1 = Input((x_train.shape[1],))\n",
        "input2 = Input((x_train_text1.shape[1],))\n",
        "input3 = Input((x_train_text2.shape[1],))\n",
        "input4 = Input((x_train_text3.shape[1],)) "
      ],
      "metadata": {
        "id": "tb9fd-eQe2zi"
      },
      "execution_count": null,
      "outputs": []
    },
    {
      "cell_type": "code",
      "source": [
        "x1 = BatchNormalization()(input1) \n",
        "x1 = Dense(1024, activation='relu') (x1)\n",
        "x1 = BatchNormalization()(x1)\n",
        "x1 = Dropout(0.3)(x1)\n",
        "x1 = Dense(768, activation='sigmoid')(x1)\n",
        "x1 = BatchNormalization()(x1)\n",
        "x1 = Dropout(0.3)(x1)\n",
        "x1 = Dense(512, activation='sigmoid')(x1)\n",
        "\n",
        "x2 = Dense(100, activation='sigmoid') (input2)\n",
        "x2 = BatchNormalization()(x2)\n",
        "x2 = Dropout(0.3)(x2)\n",
        "x2 = Dense(100, activation='sigmoid') (x2)\n",
        "\n",
        "\n",
        "x3 = Dense(100, activation='sigmoid') (input3)\n",
        "x3 = BatchNormalization()(x3)\n",
        "x3 = Dropout(0.3)(x3)\n",
        "x3 = Dense(100, activation='sigmoid') (x3)\n",
        "\n",
        "x4 = Dense(100, activation='sigmoid') (input4)\n",
        "x4 = BatchNormalization()(x4)\n",
        "x4 = Dropout(0.3)(x4)\n",
        "x4 = Dense(100, activation='sigmoid') (x4)\n",
        "\n",
        "x = concatenate([x1, x2, x3, x4])\n",
        "\n",
        "x = Dense(100, activation='relu')(x)\n",
        "x = BatchNormalization()(x)\n",
        "x = Dropout(0.3)(x)\n",
        "x = Dense(50, activation='sigmoid')(x)\n",
        "x = Dropout(0.3)(x)\n",
        "x = Dense(1, activation='linear')(x)\n",
        "\n",
        "model = Model((input1, input2, input3, input4), x) \n",
        "\n",
        "model.compile(optimizer=Adam(learning_rate=0.0003), loss='mse', metrics=[\"mae\"])\n",
        "\n",
        "history = model.fit((x_train, x_train_text1, x_train_text2, x_train_text3), \n",
        "                    y_train, \n",
        "                    epochs= 200, \n",
        "                    validation_split = 0.3,\n",
        "                    verbose=1, shuffle=True)\n",
        "\n",
        "compare_sharp_loss(history,10,4) "
      ],
      "metadata": {
        "colab": {
          "base_uri": "https://localhost:8080/",
          "height": 1000
        },
        "id": "RAl6iyeLe8fY",
        "outputId": "da2cb765-c02b-4ac4-8066-4c4f0585fba8"
      },
      "execution_count": null,
      "outputs": [
        {
          "output_type": "stream",
          "name": "stdout",
          "text": [
            "Epoch 1/200\n",
            "26/26 [==============================] - 8s 125ms/step - loss: 0.3819 - mae: 0.4983 - val_loss: 0.0777 - val_mae: 0.1861\n",
            "Epoch 2/200\n",
            "26/26 [==============================] - 3s 130ms/step - loss: 0.3197 - mae: 0.4563 - val_loss: 0.0785 - val_mae: 0.1035\n",
            "Epoch 3/200\n",
            "26/26 [==============================] - 3s 128ms/step - loss: 0.2644 - mae: 0.4078 - val_loss: 0.0733 - val_mae: 0.1306\n",
            "Epoch 4/200\n",
            "26/26 [==============================] - 2s 95ms/step - loss: 0.2561 - mae: 0.4079 - val_loss: 0.0806 - val_mae: 0.1066\n",
            "Epoch 5/200\n",
            "26/26 [==============================] - 2s 96ms/step - loss: 0.2529 - mae: 0.3981 - val_loss: 0.1065 - val_mae: 0.2017\n",
            "Epoch 6/200\n",
            "26/26 [==============================] - 3s 99ms/step - loss: 0.2384 - mae: 0.3902 - val_loss: 0.0622 - val_mae: 0.1039\n",
            "Epoch 7/200\n",
            "26/26 [==============================] - 3s 119ms/step - loss: 0.2287 - mae: 0.3773 - val_loss: 0.0569 - val_mae: 0.1646\n",
            "Epoch 8/200\n",
            "26/26 [==============================] - 4s 138ms/step - loss: 0.2119 - mae: 0.3711 - val_loss: 0.0528 - val_mae: 0.1020\n",
            "Epoch 9/200\n",
            "26/26 [==============================] - 3s 99ms/step - loss: 0.1942 - mae: 0.3459 - val_loss: 0.0435 - val_mae: 0.0987\n",
            "Epoch 10/200\n",
            "26/26 [==============================] - 3s 100ms/step - loss: 0.1752 - mae: 0.3317 - val_loss: 0.0385 - val_mae: 0.1056\n",
            "Epoch 11/200\n",
            "26/26 [==============================] - 3s 98ms/step - loss: 0.1738 - mae: 0.3264 - val_loss: 0.0401 - val_mae: 0.1127\n",
            "Epoch 12/200\n",
            "26/26 [==============================] - 3s 116ms/step - loss: 0.1627 - mae: 0.3191 - val_loss: 0.0379 - val_mae: 0.1256\n",
            "Epoch 13/200\n",
            "26/26 [==============================] - 6s 219ms/step - loss: 0.1650 - mae: 0.3216 - val_loss: 0.0332 - val_mae: 0.1134\n",
            "Epoch 14/200\n",
            "26/26 [==============================] - 5s 178ms/step - loss: 0.1454 - mae: 0.3064 - val_loss: 0.0207 - val_mae: 0.0983\n",
            "Epoch 15/200\n",
            "26/26 [==============================] - 4s 161ms/step - loss: 0.1432 - mae: 0.2984 - val_loss: 0.0298 - val_mae: 0.1200\n",
            "Epoch 16/200\n",
            "26/26 [==============================] - 4s 143ms/step - loss: 0.1319 - mae: 0.2866 - val_loss: 0.0246 - val_mae: 0.1112\n",
            "Epoch 17/200\n",
            "26/26 [==============================] - 3s 101ms/step - loss: 0.1329 - mae: 0.2877 - val_loss: 0.0255 - val_mae: 0.1153\n",
            "Epoch 18/200\n",
            "26/26 [==============================] - 3s 99ms/step - loss: 0.1341 - mae: 0.2842 - val_loss: 0.0224 - val_mae: 0.1079\n",
            "Epoch 19/200\n",
            "26/26 [==============================] - 2s 95ms/step - loss: 0.1297 - mae: 0.2873 - val_loss: 0.0216 - val_mae: 0.1076\n",
            "Epoch 20/200\n",
            "26/26 [==============================] - 2s 93ms/step - loss: 0.1220 - mae: 0.2731 - val_loss: 0.0279 - val_mae: 0.1264\n",
            "Epoch 21/200\n",
            "26/26 [==============================] - 4s 146ms/step - loss: 0.1280 - mae: 0.2770 - val_loss: 0.0382 - val_mae: 0.1511\n",
            "Epoch 22/200\n",
            "26/26 [==============================] - 3s 125ms/step - loss: 0.1166 - mae: 0.2665 - val_loss: 0.0376 - val_mae: 0.1467\n",
            "Epoch 23/200\n",
            "26/26 [==============================] - 3s 98ms/step - loss: 0.1115 - mae: 0.2570 - val_loss: 0.0422 - val_mae: 0.1560\n",
            "Epoch 24/200\n",
            "26/26 [==============================] - 3s 100ms/step - loss: 0.1052 - mae: 0.2537 - val_loss: 0.0382 - val_mae: 0.1518\n",
            "Epoch 25/200\n",
            "26/26 [==============================] - 3s 109ms/step - loss: 0.1038 - mae: 0.2504 - val_loss: 0.0463 - val_mae: 0.1766\n",
            "Epoch 26/200\n",
            "26/26 [==============================] - 4s 154ms/step - loss: 0.0985 - mae: 0.2455 - val_loss: 0.0444 - val_mae: 0.1664\n",
            "Epoch 27/200\n",
            "26/26 [==============================] - 3s 126ms/step - loss: 0.0927 - mae: 0.2339 - val_loss: 0.0389 - val_mae: 0.1499\n",
            "Epoch 28/200\n",
            "26/26 [==============================] - 3s 98ms/step - loss: 0.0891 - mae: 0.2275 - val_loss: 0.0420 - val_mae: 0.1577\n",
            "Epoch 29/200\n",
            "26/26 [==============================] - 3s 102ms/step - loss: 0.0876 - mae: 0.2279 - val_loss: 0.0463 - val_mae: 0.1764\n",
            "Epoch 30/200\n",
            "26/26 [==============================] - 3s 115ms/step - loss: 0.0874 - mae: 0.2329 - val_loss: 0.0512 - val_mae: 0.1848\n",
            "Epoch 31/200\n",
            "26/26 [==============================] - 4s 144ms/step - loss: 0.0737 - mae: 0.2102 - val_loss: 0.0491 - val_mae: 0.1782\n",
            "Epoch 32/200\n",
            "26/26 [==============================] - 3s 102ms/step - loss: 0.0787 - mae: 0.2141 - val_loss: 0.0448 - val_mae: 0.1676\n",
            "Epoch 33/200\n",
            "26/26 [==============================] - 3s 97ms/step - loss: 0.0714 - mae: 0.2066 - val_loss: 0.0440 - val_mae: 0.1632\n",
            "Epoch 34/200\n",
            "26/26 [==============================] - 2s 94ms/step - loss: 0.0741 - mae: 0.2076 - val_loss: 0.0587 - val_mae: 0.2027\n",
            "Epoch 35/200\n",
            "26/26 [==============================] - 3s 115ms/step - loss: 0.0653 - mae: 0.1998 - val_loss: 0.0430 - val_mae: 0.1591\n",
            "Epoch 36/200\n",
            "26/26 [==============================] - 4s 140ms/step - loss: 0.0691 - mae: 0.2042 - val_loss: 0.0421 - val_mae: 0.1604\n",
            "Epoch 37/200\n",
            "26/26 [==============================] - 3s 103ms/step - loss: 0.0680 - mae: 0.1972 - val_loss: 0.0415 - val_mae: 0.1599\n",
            "Epoch 38/200\n",
            "26/26 [==============================] - 3s 100ms/step - loss: 0.0615 - mae: 0.1895 - val_loss: 0.0376 - val_mae: 0.1457\n",
            "Epoch 39/200\n",
            "26/26 [==============================] - 3s 103ms/step - loss: 0.0546 - mae: 0.1781 - val_loss: 0.0386 - val_mae: 0.1516\n",
            "Epoch 40/200\n",
            "26/26 [==============================] - 3s 110ms/step - loss: 0.0520 - mae: 0.1744 - val_loss: 0.0433 - val_mae: 0.1643\n",
            "Epoch 41/200\n",
            "26/26 [==============================] - 4s 151ms/step - loss: 0.0503 - mae: 0.1688 - val_loss: 0.0420 - val_mae: 0.1603\n",
            "Epoch 42/200\n",
            "26/26 [==============================] - 3s 100ms/step - loss: 0.0557 - mae: 0.1794 - val_loss: 0.0397 - val_mae: 0.1550\n",
            "Epoch 43/200\n",
            "26/26 [==============================] - 3s 103ms/step - loss: 0.0477 - mae: 0.1684 - val_loss: 0.0487 - val_mae: 0.1760\n",
            "Epoch 44/200\n",
            "26/26 [==============================] - 3s 100ms/step - loss: 0.0493 - mae: 0.1688 - val_loss: 0.0448 - val_mae: 0.1706\n",
            "Epoch 45/200\n",
            "26/26 [==============================] - 3s 113ms/step - loss: 0.0453 - mae: 0.1598 - val_loss: 0.0431 - val_mae: 0.1657\n",
            "Epoch 46/200\n",
            "26/26 [==============================] - 4s 142ms/step - loss: 0.0431 - mae: 0.1592 - val_loss: 0.0421 - val_mae: 0.1617\n",
            "Epoch 47/200\n",
            "26/26 [==============================] - 3s 103ms/step - loss: 0.0398 - mae: 0.1528 - val_loss: 0.0410 - val_mae: 0.1603\n",
            "Epoch 48/200\n",
            "26/26 [==============================] - 3s 102ms/step - loss: 0.0393 - mae: 0.1503 - val_loss: 0.0413 - val_mae: 0.1581\n",
            "Epoch 49/200\n",
            "26/26 [==============================] - 3s 102ms/step - loss: 0.0367 - mae: 0.1445 - val_loss: 0.0421 - val_mae: 0.1596\n",
            "Epoch 50/200\n",
            "26/26 [==============================] - 3s 116ms/step - loss: 0.0332 - mae: 0.1390 - val_loss: 0.0389 - val_mae: 0.1514\n",
            "Epoch 51/200\n",
            "26/26 [==============================] - 4s 145ms/step - loss: 0.0337 - mae: 0.1372 - val_loss: 0.0410 - val_mae: 0.1546\n",
            "Epoch 52/200\n",
            "26/26 [==============================] - 3s 105ms/step - loss: 0.0345 - mae: 0.1444 - val_loss: 0.0373 - val_mae: 0.1446\n",
            "Epoch 53/200\n",
            "26/26 [==============================] - 2s 95ms/step - loss: 0.0318 - mae: 0.1346 - val_loss: 0.0317 - val_mae: 0.1258\n",
            "Epoch 54/200\n",
            "26/26 [==============================] - 2s 96ms/step - loss: 0.0321 - mae: 0.1342 - val_loss: 0.0346 - val_mae: 0.1392\n",
            "Epoch 55/200\n",
            "26/26 [==============================] - 3s 110ms/step - loss: 0.0309 - mae: 0.1326 - val_loss: 0.0396 - val_mae: 0.1529\n",
            "Epoch 56/200\n",
            "26/26 [==============================] - 4s 148ms/step - loss: 0.0329 - mae: 0.1330 - val_loss: 0.0355 - val_mae: 0.1395\n",
            "Epoch 57/200\n",
            "26/26 [==============================] - 2s 96ms/step - loss: 0.0323 - mae: 0.1346 - val_loss: 0.0345 - val_mae: 0.1386\n",
            "Epoch 58/200\n",
            "26/26 [==============================] - 3s 98ms/step - loss: 0.0261 - mae: 0.1200 - val_loss: 0.0341 - val_mae: 0.1395\n",
            "Epoch 59/200\n",
            "26/26 [==============================] - 3s 99ms/step - loss: 0.0259 - mae: 0.1190 - val_loss: 0.0341 - val_mae: 0.1418\n",
            "Epoch 60/200\n",
            "26/26 [==============================] - 3s 107ms/step - loss: 0.0254 - mae: 0.1189 - val_loss: 0.0355 - val_mae: 0.1455\n",
            "Epoch 61/200\n",
            "26/26 [==============================] - 4s 146ms/step - loss: 0.0223 - mae: 0.1130 - val_loss: 0.0354 - val_mae: 0.1487\n",
            "Epoch 62/200\n",
            "26/26 [==============================] - 3s 99ms/step - loss: 0.0218 - mae: 0.1110 - val_loss: 0.0303 - val_mae: 0.1285\n",
            "Epoch 63/200\n",
            "26/26 [==============================] - 3s 98ms/step - loss: 0.0230 - mae: 0.1103 - val_loss: 0.0330 - val_mae: 0.1365\n",
            "Epoch 64/200\n",
            "26/26 [==============================] - 3s 124ms/step - loss: 0.0233 - mae: 0.1128 - val_loss: 0.0306 - val_mae: 0.1297\n",
            "Epoch 65/200\n",
            "26/26 [==============================] - 3s 115ms/step - loss: 0.0199 - mae: 0.1042 - val_loss: 0.0324 - val_mae: 0.1399\n",
            "Epoch 66/200\n",
            "26/26 [==============================] - 4s 140ms/step - loss: 0.0175 - mae: 0.0966 - val_loss: 0.0308 - val_mae: 0.1347\n",
            "Epoch 67/200\n",
            "26/26 [==============================] - 3s 101ms/step - loss: 0.0198 - mae: 0.1018 - val_loss: 0.0315 - val_mae: 0.1333\n",
            "Epoch 68/200\n",
            "26/26 [==============================] - 3s 105ms/step - loss: 0.0206 - mae: 0.1035 - val_loss: 0.0329 - val_mae: 0.1381\n",
            "Epoch 69/200\n",
            "26/26 [==============================] - 3s 105ms/step - loss: 0.0213 - mae: 0.1036 - val_loss: 0.0333 - val_mae: 0.1423\n",
            "Epoch 70/200\n",
            "26/26 [==============================] - 3s 121ms/step - loss: 0.0193 - mae: 0.0977 - val_loss: 0.0322 - val_mae: 0.1380\n",
            "Epoch 71/200\n",
            "26/26 [==============================] - 4s 141ms/step - loss: 0.0172 - mae: 0.0979 - val_loss: 0.0293 - val_mae: 0.1255\n",
            "Epoch 72/200\n",
            "26/26 [==============================] - 3s 104ms/step - loss: 0.0175 - mae: 0.0952 - val_loss: 0.0276 - val_mae: 0.1242\n",
            "Epoch 73/200\n",
            "26/26 [==============================] - 3s 103ms/step - loss: 0.0169 - mae: 0.0920 - val_loss: 0.0276 - val_mae: 0.1248\n",
            "Epoch 74/200\n",
            "26/26 [==============================] - 3s 102ms/step - loss: 0.0154 - mae: 0.0886 - val_loss: 0.0275 - val_mae: 0.1247\n",
            "Epoch 75/200\n",
            "26/26 [==============================] - 3s 121ms/step - loss: 0.0155 - mae: 0.0887 - val_loss: 0.0283 - val_mae: 0.1269\n",
            "Epoch 76/200\n",
            "26/26 [==============================] - 4s 139ms/step - loss: 0.0174 - mae: 0.0925 - val_loss: 0.0286 - val_mae: 0.1292\n",
            "Epoch 77/200\n",
            "26/26 [==============================] - 3s 102ms/step - loss: 0.0147 - mae: 0.0868 - val_loss: 0.0261 - val_mae: 0.1179\n",
            "Epoch 78/200\n",
            "26/26 [==============================] - 2s 94ms/step - loss: 0.0114 - mae: 0.0795 - val_loss: 0.0278 - val_mae: 0.1222\n",
            "Epoch 79/200\n",
            "26/26 [==============================] - 3s 100ms/step - loss: 0.0158 - mae: 0.0872 - val_loss: 0.0284 - val_mae: 0.1261\n",
            "Epoch 80/200\n",
            "26/26 [==============================] - 3s 116ms/step - loss: 0.0135 - mae: 0.0815 - val_loss: 0.0271 - val_mae: 0.1187\n",
            "Epoch 81/200\n",
            "26/26 [==============================] - 4s 136ms/step - loss: 0.0111 - mae: 0.0768 - val_loss: 0.0264 - val_mae: 0.1149\n",
            "Epoch 82/200\n",
            "26/26 [==============================] - 3s 100ms/step - loss: 0.0118 - mae: 0.0767 - val_loss: 0.0280 - val_mae: 0.1245\n",
            "Epoch 83/200\n",
            "26/26 [==============================] - 3s 97ms/step - loss: 0.0131 - mae: 0.0812 - val_loss: 0.0266 - val_mae: 0.1180\n",
            "Epoch 84/200\n",
            "26/26 [==============================] - 3s 99ms/step - loss: 0.0111 - mae: 0.0739 - val_loss: 0.0252 - val_mae: 0.1109\n",
            "Epoch 85/200\n",
            "26/26 [==============================] - 3s 108ms/step - loss: 0.0109 - mae: 0.0738 - val_loss: 0.0255 - val_mae: 0.1131\n",
            "Epoch 86/200\n",
            "26/26 [==============================] - 4s 142ms/step - loss: 0.0126 - mae: 0.0756 - val_loss: 0.0241 - val_mae: 0.1083\n",
            "Epoch 87/200\n",
            "26/26 [==============================] - 2s 93ms/step - loss: 0.0110 - mae: 0.0735 - val_loss: 0.0246 - val_mae: 0.1114\n",
            "Epoch 88/200\n",
            "26/26 [==============================] - 2s 97ms/step - loss: 0.0121 - mae: 0.0730 - val_loss: 0.0239 - val_mae: 0.1059\n",
            "Epoch 89/200\n",
            "26/26 [==============================] - 3s 98ms/step - loss: 0.0111 - mae: 0.0715 - val_loss: 0.0253 - val_mae: 0.1146\n",
            "Epoch 90/200\n",
            "26/26 [==============================] - 3s 103ms/step - loss: 0.0116 - mae: 0.0724 - val_loss: 0.0241 - val_mae: 0.1096\n",
            "Epoch 91/200\n",
            "26/26 [==============================] - 4s 149ms/step - loss: 0.0111 - mae: 0.0704 - val_loss: 0.0247 - val_mae: 0.1130\n",
            "Epoch 92/200\n",
            "26/26 [==============================] - 3s 106ms/step - loss: 0.0109 - mae: 0.0701 - val_loss: 0.0249 - val_mae: 0.1148\n",
            "Epoch 93/200\n",
            "26/26 [==============================] - 3s 102ms/step - loss: 0.0123 - mae: 0.0747 - val_loss: 0.0235 - val_mae: 0.1068\n",
            "Epoch 94/200\n",
            "26/26 [==============================] - 3s 97ms/step - loss: 0.0113 - mae: 0.0698 - val_loss: 0.0237 - val_mae: 0.1084\n",
            "Epoch 95/200\n",
            "26/26 [==============================] - 2s 96ms/step - loss: 0.0124 - mae: 0.0729 - val_loss: 0.0242 - val_mae: 0.1065\n",
            "Epoch 96/200\n",
            "26/26 [==============================] - 4s 147ms/step - loss: 0.0087 - mae: 0.0623 - val_loss: 0.0240 - val_mae: 0.1071\n",
            "Epoch 97/200\n",
            "26/26 [==============================] - 3s 113ms/step - loss: 0.0083 - mae: 0.0622 - val_loss: 0.0241 - val_mae: 0.1106\n",
            "Epoch 98/200\n",
            "26/26 [==============================] - 3s 103ms/step - loss: 0.0089 - mae: 0.0628 - val_loss: 0.0219 - val_mae: 0.0979\n",
            "Epoch 99/200\n",
            "26/26 [==============================] - 3s 98ms/step - loss: 0.0086 - mae: 0.0601 - val_loss: 0.0227 - val_mae: 0.0972\n",
            "Epoch 100/200\n",
            "26/26 [==============================] - 3s 105ms/step - loss: 0.0090 - mae: 0.0601 - val_loss: 0.0219 - val_mae: 0.0975\n",
            "Epoch 101/200\n",
            "26/26 [==============================] - 4s 146ms/step - loss: 0.0105 - mae: 0.0626 - val_loss: 0.0241 - val_mae: 0.1069\n",
            "Epoch 102/200\n",
            "26/26 [==============================] - 3s 105ms/step - loss: 0.0089 - mae: 0.0586 - val_loss: 0.0249 - val_mae: 0.1089\n",
            "Epoch 103/200\n",
            "26/26 [==============================] - 3s 116ms/step - loss: 0.0075 - mae: 0.0561 - val_loss: 0.0236 - val_mae: 0.1048\n",
            "Epoch 104/200\n",
            "26/26 [==============================] - 3s 100ms/step - loss: 0.0087 - mae: 0.0581 - val_loss: 0.0242 - val_mae: 0.1073\n",
            "Epoch 105/200\n",
            "26/26 [==============================] - 3s 105ms/step - loss: 0.0098 - mae: 0.0611 - val_loss: 0.0229 - val_mae: 0.0996\n",
            "Epoch 106/200\n",
            "26/26 [==============================] - 4s 152ms/step - loss: 0.0099 - mae: 0.0592 - val_loss: 0.0230 - val_mae: 0.1013\n",
            "Epoch 107/200\n",
            "26/26 [==============================] - 3s 98ms/step - loss: 0.0098 - mae: 0.0616 - val_loss: 0.0249 - val_mae: 0.1062\n",
            "Epoch 108/200\n",
            "26/26 [==============================] - 3s 100ms/step - loss: 0.0090 - mae: 0.0588 - val_loss: 0.0240 - val_mae: 0.1024\n",
            "Epoch 109/200\n",
            "26/26 [==============================] - 3s 98ms/step - loss: 0.0069 - mae: 0.0545 - val_loss: 0.0268 - val_mae: 0.1099\n",
            "Epoch 110/200\n",
            "26/26 [==============================] - 3s 97ms/step - loss: 0.0065 - mae: 0.0519 - val_loss: 0.0254 - val_mae: 0.1050\n",
            "Epoch 111/200\n",
            "26/26 [==============================] - 4s 143ms/step - loss: 0.0069 - mae: 0.0525 - val_loss: 0.0244 - val_mae: 0.1023\n",
            "Epoch 112/200\n",
            "26/26 [==============================] - 3s 113ms/step - loss: 0.0079 - mae: 0.0567 - val_loss: 0.0247 - val_mae: 0.1049\n",
            "Epoch 113/200\n",
            "26/26 [==============================] - 2s 96ms/step - loss: 0.0058 - mae: 0.0507 - val_loss: 0.0231 - val_mae: 0.1012\n",
            "Epoch 114/200\n",
            "26/26 [==============================] - 3s 103ms/step - loss: 0.0070 - mae: 0.0525 - val_loss: 0.0243 - val_mae: 0.1013\n",
            "Epoch 115/200\n",
            "26/26 [==============================] - 3s 101ms/step - loss: 0.0071 - mae: 0.0527 - val_loss: 0.0267 - val_mae: 0.1076\n",
            "Epoch 116/200\n",
            "26/26 [==============================] - 4s 143ms/step - loss: 0.0067 - mae: 0.0496 - val_loss: 0.0264 - val_mae: 0.1066\n",
            "Epoch 117/200\n",
            "26/26 [==============================] - 3s 116ms/step - loss: 0.0081 - mae: 0.0523 - val_loss: 0.0246 - val_mae: 0.1036\n",
            "Epoch 118/200\n",
            "26/26 [==============================] - 3s 99ms/step - loss: 0.0067 - mae: 0.0514 - val_loss: 0.0266 - val_mae: 0.1070\n",
            "Epoch 119/200\n",
            "26/26 [==============================] - 3s 103ms/step - loss: 0.0075 - mae: 0.0517 - val_loss: 0.0261 - val_mae: 0.1077\n",
            "Epoch 120/200\n",
            "26/26 [==============================] - 3s 103ms/step - loss: 0.0067 - mae: 0.0504 - val_loss: 0.0280 - val_mae: 0.1143\n",
            "Epoch 121/200\n",
            "26/26 [==============================] - 4s 149ms/step - loss: 0.0068 - mae: 0.0498 - val_loss: 0.0257 - val_mae: 0.1065\n",
            "Epoch 122/200\n",
            "26/26 [==============================] - 3s 106ms/step - loss: 0.0054 - mae: 0.0468 - val_loss: 0.0254 - val_mae: 0.1054\n",
            "Epoch 123/200\n",
            "26/26 [==============================] - 3s 103ms/step - loss: 0.0061 - mae: 0.0474 - val_loss: 0.0263 - val_mae: 0.1084\n",
            "Epoch 124/200\n",
            "26/26 [==============================] - 3s 97ms/step - loss: 0.0054 - mae: 0.0467 - val_loss: 0.0282 - val_mae: 0.1129\n",
            "Epoch 125/200\n",
            "26/26 [==============================] - 3s 103ms/step - loss: 0.0067 - mae: 0.0460 - val_loss: 0.0272 - val_mae: 0.1104\n",
            "Epoch 126/200\n",
            "26/26 [==============================] - 4s 144ms/step - loss: 0.0073 - mae: 0.0474 - val_loss: 0.0340 - val_mae: 0.1217\n",
            "Epoch 127/200\n",
            "26/26 [==============================] - 3s 112ms/step - loss: 0.0074 - mae: 0.0497 - val_loss: 0.0254 - val_mae: 0.1047\n",
            "Epoch 128/200\n",
            "26/26 [==============================] - 3s 102ms/step - loss: 0.0077 - mae: 0.0510 - val_loss: 0.0243 - val_mae: 0.1016\n",
            "Epoch 129/200\n",
            "26/26 [==============================] - 3s 103ms/step - loss: 0.0061 - mae: 0.0467 - val_loss: 0.0257 - val_mae: 0.1050\n",
            "Epoch 130/200\n",
            "26/26 [==============================] - 3s 99ms/step - loss: 0.0049 - mae: 0.0419 - val_loss: 0.0264 - val_mae: 0.1059\n",
            "Epoch 131/200\n",
            "26/26 [==============================] - 4s 147ms/step - loss: 0.0060 - mae: 0.0436 - val_loss: 0.0230 - val_mae: 0.0987\n",
            "Epoch 132/200\n",
            "26/26 [==============================] - 3s 106ms/step - loss: 0.0060 - mae: 0.0454 - val_loss: 0.0216 - val_mae: 0.0955\n",
            "Epoch 133/200\n",
            "26/26 [==============================] - 2s 94ms/step - loss: 0.0060 - mae: 0.0463 - val_loss: 0.0207 - val_mae: 0.0879\n",
            "Epoch 134/200\n",
            "26/26 [==============================] - 3s 98ms/step - loss: 0.0062 - mae: 0.0457 - val_loss: 0.0222 - val_mae: 0.0932\n",
            "Epoch 135/200\n",
            "26/26 [==============================] - 2s 96ms/step - loss: 0.0051 - mae: 0.0437 - val_loss: 0.0213 - val_mae: 0.0920\n",
            "Epoch 136/200\n",
            "26/26 [==============================] - 3s 134ms/step - loss: 0.0054 - mae: 0.0439 - val_loss: 0.0203 - val_mae: 0.0873\n",
            "Epoch 137/200\n",
            "26/26 [==============================] - 3s 117ms/step - loss: 0.0059 - mae: 0.0421 - val_loss: 0.0208 - val_mae: 0.0786\n",
            "Epoch 138/200\n",
            "26/26 [==============================] - 3s 99ms/step - loss: 0.0048 - mae: 0.0434 - val_loss: 0.0200 - val_mae: 0.0797\n",
            "Epoch 139/200\n",
            "26/26 [==============================] - 3s 102ms/step - loss: 0.0053 - mae: 0.0432 - val_loss: 0.0197 - val_mae: 0.0851\n",
            "Epoch 140/200\n",
            "26/26 [==============================] - 3s 99ms/step - loss: 0.0045 - mae: 0.0390 - val_loss: 0.0202 - val_mae: 0.0876\n",
            "Epoch 141/200\n",
            "26/26 [==============================] - 3s 136ms/step - loss: 0.0050 - mae: 0.0396 - val_loss: 0.0231 - val_mae: 0.0972\n",
            "Epoch 142/200\n",
            "26/26 [==============================] - 3s 130ms/step - loss: 0.0055 - mae: 0.0421 - val_loss: 0.0212 - val_mae: 0.0891\n",
            "Epoch 143/200\n",
            "26/26 [==============================] - 2s 95ms/step - loss: 0.0054 - mae: 0.0421 - val_loss: 0.0218 - val_mae: 0.0914\n",
            "Epoch 144/200\n",
            "26/26 [==============================] - 3s 100ms/step - loss: 0.0043 - mae: 0.0376 - val_loss: 0.0211 - val_mae: 0.0878\n",
            "Epoch 145/200\n",
            "26/26 [==============================] - 3s 103ms/step - loss: 0.0058 - mae: 0.0430 - val_loss: 0.0213 - val_mae: 0.0922\n",
            "Epoch 146/200\n",
            "26/26 [==============================] - 3s 127ms/step - loss: 0.0057 - mae: 0.0440 - val_loss: 0.0211 - val_mae: 0.0891\n",
            "Epoch 147/200\n",
            "26/26 [==============================] - 3s 126ms/step - loss: 0.0078 - mae: 0.0428 - val_loss: 0.0224 - val_mae: 0.0953\n",
            "Epoch 148/200\n",
            "26/26 [==============================] - 3s 100ms/step - loss: 0.0054 - mae: 0.0416 - val_loss: 0.0185 - val_mae: 0.0758\n",
            "Epoch 149/200\n",
            "26/26 [==============================] - 2s 96ms/step - loss: 0.0055 - mae: 0.0404 - val_loss: 0.0187 - val_mae: 0.0847\n",
            "Epoch 150/200\n",
            "26/26 [==============================] - 2s 95ms/step - loss: 0.0042 - mae: 0.0379 - val_loss: 0.0191 - val_mae: 0.0879\n",
            "Epoch 151/200\n",
            "26/26 [==============================] - 3s 117ms/step - loss: 0.0066 - mae: 0.0433 - val_loss: 0.0202 - val_mae: 0.0900\n",
            "Epoch 152/200\n",
            "26/26 [==============================] - 4s 138ms/step - loss: 0.0049 - mae: 0.0391 - val_loss: 0.0197 - val_mae: 0.0849\n",
            "Epoch 153/200\n",
            "26/26 [==============================] - 3s 97ms/step - loss: 0.0048 - mae: 0.0373 - val_loss: 0.0197 - val_mae: 0.0856\n",
            "Epoch 154/200\n",
            "26/26 [==============================] - 3s 98ms/step - loss: 0.0051 - mae: 0.0421 - val_loss: 0.0197 - val_mae: 0.0834\n",
            "Epoch 155/200\n",
            "26/26 [==============================] - 2s 95ms/step - loss: 0.0040 - mae: 0.0350 - val_loss: 0.0202 - val_mae: 0.0846\n",
            "Epoch 156/200\n",
            "26/26 [==============================] - 3s 105ms/step - loss: 0.0046 - mae: 0.0361 - val_loss: 0.0207 - val_mae: 0.0882\n",
            "Epoch 157/200\n",
            "26/26 [==============================] - 4s 145ms/step - loss: 0.0046 - mae: 0.0374 - val_loss: 0.0206 - val_mae: 0.0866\n",
            "Epoch 158/200\n",
            "26/26 [==============================] - 3s 104ms/step - loss: 0.0056 - mae: 0.0410 - val_loss: 0.0212 - val_mae: 0.0879\n",
            "Epoch 159/200\n",
            "26/26 [==============================] - 2s 95ms/step - loss: 0.0044 - mae: 0.0360 - val_loss: 0.0243 - val_mae: 0.1013\n",
            "Epoch 160/200\n",
            "26/26 [==============================] - 3s 103ms/step - loss: 0.0050 - mae: 0.0388 - val_loss: 0.0241 - val_mae: 0.0966\n",
            "Epoch 161/200\n",
            "26/26 [==============================] - 3s 99ms/step - loss: 0.0041 - mae: 0.0364 - val_loss: 0.0216 - val_mae: 0.0900\n",
            "Epoch 162/200\n",
            "26/26 [==============================] - 4s 145ms/step - loss: 0.0048 - mae: 0.0357 - val_loss: 0.0257 - val_mae: 0.1015\n",
            "Epoch 163/200\n",
            "26/26 [==============================] - 3s 110ms/step - loss: 0.0033 - mae: 0.0338 - val_loss: 0.0246 - val_mae: 0.0976\n",
            "Epoch 164/200\n",
            "26/26 [==============================] - 3s 104ms/step - loss: 0.0051 - mae: 0.0373 - val_loss: 0.0221 - val_mae: 0.0894\n",
            "Epoch 165/200\n",
            "26/26 [==============================] - 3s 100ms/step - loss: 0.0038 - mae: 0.0320 - val_loss: 0.0230 - val_mae: 0.0962\n",
            "Epoch 166/200\n",
            "26/26 [==============================] - 3s 101ms/step - loss: 0.0067 - mae: 0.0416 - val_loss: 0.0229 - val_mae: 0.0943\n",
            "Epoch 167/200\n",
            "26/26 [==============================] - 4s 145ms/step - loss: 0.0045 - mae: 0.0368 - val_loss: 0.0236 - val_mae: 0.0957\n",
            "Epoch 168/200\n",
            "26/26 [==============================] - 3s 108ms/step - loss: 0.0049 - mae: 0.0364 - val_loss: 0.0296 - val_mae: 0.1081\n",
            "Epoch 169/200\n",
            "26/26 [==============================] - 2s 93ms/step - loss: 0.0048 - mae: 0.0360 - val_loss: 0.0239 - val_mae: 0.0940\n",
            "Epoch 170/200\n",
            "26/26 [==============================] - 3s 102ms/step - loss: 0.0036 - mae: 0.0312 - val_loss: 0.0265 - val_mae: 0.0995\n",
            "Epoch 171/200\n",
            "26/26 [==============================] - 2s 94ms/step - loss: 0.0036 - mae: 0.0324 - val_loss: 0.0278 - val_mae: 0.1030\n",
            "Epoch 172/200\n",
            "26/26 [==============================] - 4s 140ms/step - loss: 0.0045 - mae: 0.0366 - val_loss: 0.0257 - val_mae: 0.0983\n",
            "Epoch 173/200\n",
            "26/26 [==============================] - 3s 112ms/step - loss: 0.0033 - mae: 0.0306 - val_loss: 0.0271 - val_mae: 0.1018\n",
            "Epoch 174/200\n",
            "26/26 [==============================] - 2s 96ms/step - loss: 0.0038 - mae: 0.0332 - val_loss: 0.0255 - val_mae: 0.0972\n",
            "Epoch 175/200\n",
            "26/26 [==============================] - 3s 98ms/step - loss: 0.0037 - mae: 0.0312 - val_loss: 0.0253 - val_mae: 0.0973\n",
            "Epoch 176/200\n",
            "26/26 [==============================] - 3s 105ms/step - loss: 0.0042 - mae: 0.0330 - val_loss: 0.0255 - val_mae: 0.0969\n",
            "Epoch 177/200\n",
            "26/26 [==============================] - 3s 135ms/step - loss: 0.0037 - mae: 0.0309 - val_loss: 0.0399 - val_mae: 0.1213\n",
            "Epoch 178/200\n",
            "26/26 [==============================] - 3s 127ms/step - loss: 0.0046 - mae: 0.0362 - val_loss: 0.0287 - val_mae: 0.1005\n",
            "Epoch 179/200\n",
            "26/26 [==============================] - 3s 101ms/step - loss: 0.0026 - mae: 0.0287 - val_loss: 0.0292 - val_mae: 0.1004\n",
            "Epoch 180/200\n",
            "26/26 [==============================] - 3s 99ms/step - loss: 0.0043 - mae: 0.0340 - val_loss: 0.0308 - val_mae: 0.1062\n",
            "Epoch 181/200\n",
            "26/26 [==============================] - 3s 101ms/step - loss: 0.0043 - mae: 0.0347 - val_loss: 0.0277 - val_mae: 0.0951\n",
            "Epoch 182/200\n",
            "26/26 [==============================] - 3s 129ms/step - loss: 0.0038 - mae: 0.0329 - val_loss: 0.0279 - val_mae: 0.0975\n",
            "Epoch 183/200\n",
            "26/26 [==============================] - 3s 126ms/step - loss: 0.0041 - mae: 0.0343 - val_loss: 0.0297 - val_mae: 0.0996\n",
            "Epoch 184/200\n",
            "26/26 [==============================] - 3s 102ms/step - loss: 0.0031 - mae: 0.0298 - val_loss: 0.0305 - val_mae: 0.0985\n",
            "Epoch 185/200\n",
            "26/26 [==============================] - 3s 100ms/step - loss: 0.0031 - mae: 0.0296 - val_loss: 0.0310 - val_mae: 0.1017\n",
            "Epoch 186/200\n",
            "26/26 [==============================] - 2s 95ms/step - loss: 0.0041 - mae: 0.0297 - val_loss: 0.0346 - val_mae: 0.1099\n",
            "Epoch 187/200\n",
            "26/26 [==============================] - 3s 120ms/step - loss: 0.0051 - mae: 0.0304 - val_loss: 0.0335 - val_mae: 0.1059\n",
            "Epoch 188/200\n",
            "26/26 [==============================] - 3s 133ms/step - loss: 0.0031 - mae: 0.0281 - val_loss: 0.0370 - val_mae: 0.1104\n",
            "Epoch 189/200\n",
            "26/26 [==============================] - 2s 95ms/step - loss: 0.0033 - mae: 0.0296 - val_loss: 0.0438 - val_mae: 0.1195\n",
            "Epoch 190/200\n",
            "26/26 [==============================] - 3s 100ms/step - loss: 0.0029 - mae: 0.0273 - val_loss: 0.0426 - val_mae: 0.1190\n",
            "Epoch 191/200\n",
            "26/26 [==============================] - 2s 95ms/step - loss: 0.0028 - mae: 0.0280 - val_loss: 0.0362 - val_mae: 0.1070\n",
            "Epoch 192/200\n",
            "26/26 [==============================] - 3s 107ms/step - loss: 0.0031 - mae: 0.0289 - val_loss: 0.0365 - val_mae: 0.1075\n",
            "Epoch 193/200\n",
            "26/26 [==============================] - 4s 144ms/step - loss: 0.0033 - mae: 0.0297 - val_loss: 0.0431 - val_mae: 0.1180\n",
            "Epoch 194/200\n",
            "26/26 [==============================] - 3s 98ms/step - loss: 0.0030 - mae: 0.0273 - val_loss: 0.0400 - val_mae: 0.1110\n",
            "Epoch 195/200\n",
            "26/26 [==============================] - 2s 96ms/step - loss: 0.0033 - mae: 0.0276 - val_loss: 0.0396 - val_mae: 0.1097\n",
            "Epoch 196/200\n",
            "26/26 [==============================] - 3s 98ms/step - loss: 0.0028 - mae: 0.0251 - val_loss: 0.0381 - val_mae: 0.1083\n",
            "Epoch 197/200\n",
            "26/26 [==============================] - 3s 98ms/step - loss: 0.0046 - mae: 0.0325 - val_loss: 0.0486 - val_mae: 0.1227\n",
            "Epoch 198/200\n",
            "26/26 [==============================] - 4s 144ms/step - loss: 0.0046 - mae: 0.0303 - val_loss: 0.0504 - val_mae: 0.1249\n",
            "Epoch 199/200\n",
            "26/26 [==============================] - 3s 109ms/step - loss: 0.0038 - mae: 0.0266 - val_loss: 0.0488 - val_mae: 0.1228\n",
            "Epoch 200/200\n",
            "26/26 [==============================] - 3s 97ms/step - loss: 0.0036 - mae: 0.0278 - val_loss: 0.0349 - val_mae: 0.0983\n"
          ]
        },
        {
          "output_type": "display_data",
          "data": {
            "text/plain": [
              "<Figure size 1000x400 with 1 Axes>"
            ],
            "image/png": "[encoded data removed]"
          },
          "metadata": {}
        }
      ]
    },
    {
      "cell_type": "code",
      "source": [
        "plt.plot(history.history['mae'], \n",
        "         label='Средняя абсолютная ошибка на обучающем наборе')\n",
        "plt.plot(history.history['val_mae'], \n",
        "         label='Средняя абсолютная ошибка на проверочном наборе')\n",
        "plt.xlabel('Эпоха обучения')\n",
        "plt.ylabel('Средняя абсолютная ошибка')\n",
        "plt.legend()\n",
        "plt.show()"
      ],
      "metadata": {
        "colab": {
          "base_uri": "https://localhost:8080/",
          "height": 449
        },
        "id": "lyAw_S1ge_M6",
        "outputId": "1cf8c1c9-34ed-447a-b1be-8778dd4d1dd2"
      },
      "execution_count": null,
      "outputs": [
        {
          "output_type": "display_data",
          "data": {
            "text/plain": [
              "<Figure size 640x480 with 1 Axes>"
            ],
            "image/png": "[encoded data removed]"
          },
          "metadata": {}
        }
      ]
    },
    {
      "cell_type": "code",
      "source": [
        "model.save('/content/drive/MyDrive/Colab Notebooks/Стажировка/')"
      ],
      "metadata": {
        "colab": {
          "base_uri": "https://localhost:8080/"
        },
        "id": "Qg117a3hYWr2",
        "outputId": "96d54cdb-90f9-4aa8-b88e-a2b5bf2b4ea5"
      },
      "execution_count": null,
      "outputs": [
        {
          "output_type": "stream",
          "name": "stderr",
          "text": [
            "WARNING:absl:Found untraced functions such as _update_step_xla while saving (showing 1 of 1). These functions will not be directly callable after loading.\n"
          ]
        }
      ]
    },
    {
      "cell_type": "code",
      "source": [
        "pred = model.predict([x_test, x_test_text1, x_test_text2, x_test_text3]) \n",
        "plt.scatter(y_test, pred)\n",
        "plt.xlabel('Правильные значение')\n",
        "plt.ylabel('Предсказания')\n",
        "plt.axis('equal')\n",
        "plt.xlim(plt.xlim())\n",
        "plt.ylim(plt.ylim())\n",
        "plt.plot([-1000, 1000], [-1000, 1000])\n",
        "plt.show()"
      ],
      "metadata": {
        "colab": {
          "base_uri": "https://localhost:8080/",
          "height": 466
        },
        "id": "0Co0yQafuqsr",
        "outputId": "9662df32-b43b-4c65-80db-6d522a9dd9d4"
      },
      "execution_count": null,
      "outputs": [
        {
          "output_type": "stream",
          "name": "stdout",
          "text": [
            "13/13 [==============================] - 1s 17ms/step\n"
          ]
        },
        {
          "output_type": "display_data",
          "data": {
            "text/plain": [
              "<Figure size 640x480 with 1 Axes>"
            ],
            "image/png": "[encoded data removed]"
          },
          "metadata": {}
        }
      ]
    },
    {
      "cell_type": "code",
      "source": [
        "m_l = []\n",
        "s = 0\n",
        "for i in range(0, len(y_test)):\n",
        "    if np.round(y_test[i]) == np.round(pred[i]):\n",
        "        s += 1\n",
        "    dif = (y_test[i] - pred[i])**2\n",
        "    print(y_test[i], pred[i], dif, np.round(y_test[i]), np.round(pred[i]))\n",
        "    m_l.append(dif)\n",
        "\n",
        "print('Среднеквадратичное отклонение', np.sqrt(np.mean(m_l)))\n",
        "print('Точность модели', round(s / len(y_test)*100,0),\"%\" )"
      ],
      "metadata": {
        "colab": {
          "base_uri": "https://localhost:8080/"
        },
        "id": "x291FFBKoXEQ",
        "outputId": "3f9b324a-002d-4cc4-e70d-956938accd6f"
      },
      "execution_count": null,
      "outputs": [
        {
          "output_type": "stream",
          "name": "stdout",
          "text": [
            "0.0 [0.0968205] [0.00937421] 0.0 [0.]\n",
            "0.0 [0.02484142] [0.0006171] 0.0 [0.]\n",
            "0.0 [0.5296899] [0.2805714] 0.0 [1.]\n",
            "0.0 [0.40110397] [0.1608844] 0.0 [0.]\n",
            "1.0 [0.9764316] [0.00055547] 1.0 [1.]\n",
            "0.0 [-0.00277451] [7.697884e-06] 0.0 [-0.]\n",
            "0.0 [0.04031165] [0.00162503] 0.0 [0.]\n",
            "0.0 [0.01882928] [0.00035454] 0.0 [0.]\n",
            "0.0 [0.01514773] [0.00022945] 0.0 [0.]\n",
            "0.0 [0.16713369] [0.02793367] 0.0 [0.]\n",
            "0.0 [0.01882928] [0.00035454] 0.0 [0.]\n",
            "0.0 [0.01130577] [0.00012782] 0.0 [0.]\n",
            "1.0 [0.88721704] [0.01272] 1.0 [1.]\n",
            "0.0 [0.07069979] [0.00499846] 0.0 [0.]\n",
            "0.0 [-0.00358629] [1.2861454e-05] 0.0 [-0.]\n",
            "0.0 [0.10513203] [0.01105274] 0.0 [0.]\n",
            "0.0 [0.00847023] [7.174484e-05] 0.0 [0.]\n",
            "0.0 [0.09519038] [0.00906121] 0.0 [0.]\n",
            "1.0 [0.9722411] [0.00077056] 1.0 [1.]\n",
            "0.0 [-0.00083266] [6.9332987e-07] 0.0 [-0.]\n",
            "0.0 [0.00060443] [3.65337e-07] 0.0 [0.]\n",
            "1.0 [0.44444576] [0.30864054] 1.0 [0.]\n",
            "0.0 [0.47659868] [0.2271463] 0.0 [0.]\n",
            "0.0 [0.09364621] [0.00876961] 0.0 [0.]\n",
            "0.0 [0.04349787] [0.00189206] 0.0 [0.]\n",
            "0.0 [0.48985335] [0.2399563] 0.0 [0.]\n",
            "0.0 [0.25252452] [0.06376863] 0.0 [0.]\n",
            "0.0 [0.05836133] [0.00340604] 0.0 [0.]\n",
            "0.0 [0.01333348] [0.00017778] 0.0 [0.]\n",
            "1.0 [0.9407991] [0.00350474] 1.0 [1.]\n",
            "0.0 [0.23218377] [0.0539093] 0.0 [0.]\n",
            "0.0 [0.03951837] [0.0015617] 0.0 [0.]\n",
            "0.0 [-0.00214179] [4.5872634e-06] 0.0 [-0.]\n",
            "0.0 [-0.00880169] [7.746977e-05] 0.0 [-0.]\n",
            "1.0 [0.93867224] [0.00376109] 1.0 [1.]\n",
            "0.0 [0.33036792] [0.10914297] 0.0 [0.]\n",
            "0.0 [0.00043085] [1.856328e-07] 0.0 [0.]\n",
            "0.0 [0.14459597] [0.02090799] 0.0 [0.]\n",
            "0.0 [0.06285664] [0.00395096] 0.0 [0.]\n",
            "0.0 [0.01832445] [0.00033579] 0.0 [0.]\n",
            "0.0 [0.20930073] [0.0438068] 0.0 [0.]\n",
            "0.0 [-0.00473068] [2.237935e-05] 0.0 [-0.]\n",
            "0.0 [0.02352022] [0.0005532] 0.0 [0.]\n",
            "0.0 [0.03151902] [0.00099345] 0.0 [0.]\n",
            "0.0 [7.353886e-05] [5.407964e-09] 0.0 [0.]\n",
            "0.0 [0.07169943] [0.00514081] 0.0 [0.]\n",
            "0.0 [0.0023157] [5.3624667e-06] 0.0 [0.]\n",
            "0.0 [-0.00711777] [5.066259e-05] 0.0 [-0.]\n",
            "0.0 [0.02463357] [0.00060681] 0.0 [0.]\n",
            "0.0 [0.03228097] [0.00104206] 0.0 [0.]\n",
            "0.0 [0.33369303] [0.11135104] 0.0 [0.]\n",
            "0.0 [0.33369303] [0.11135104] 0.0 [0.]\n",
            "0.0 [-0.00269428] [7.259153e-06] 0.0 [-0.]\n",
            "0.0 [-0.00572025] [3.272121e-05] 0.0 [-0.]\n",
            "0.0 [0.25580308] [0.06543522] 0.0 [0.]\n",
            "0.0 [-0.02053702] [0.00042177] 0.0 [-0.]\n",
            "0.0 [0.04849002] [0.00235128] 0.0 [0.]\n",
            "1.0 [0.97050893] [0.00086972] 1.0 [1.]\n",
            "0.0 [0.01267329] [0.00016061] 0.0 [0.]\n",
            "0.0 [0.02184864] [0.00047736] 0.0 [0.]\n",
            "0.0 [-0.00131343] [1.725107e-06] 0.0 [-0.]\n",
            "0.0 [0.09849165] [0.00970061] 0.0 [0.]\n",
            "0.0 [0.0043451] [1.887986e-05] 0.0 [0.]\n",
            "0.0 [0.272317] [0.07415655] 0.0 [0.]\n",
            "0.0 [0.04940445] [0.0024408] 0.0 [0.]\n",
            "0.0 [0.06668996] [0.00444755] 0.0 [0.]\n",
            "0.0 [0.5759846] [0.33175826] 0.0 [1.]\n",
            "1.0 [0.95903033] [0.00167851] 1.0 [1.]\n",
            "0.0 [-0.01063843] [0.00011318] 0.0 [-0.]\n",
            "0.0 [0.05934269] [0.00352155] 0.0 [0.]\n",
            "0.0 [0.00904246] [8.176604e-05] 0.0 [0.]\n",
            "0.0 [0.3010761] [0.09064683] 0.0 [0.]\n",
            "0.0 [0.5291387] [0.27998775] 0.0 [1.]\n",
            "0.0 [0.02394381] [0.00057331] 0.0 [0.]\n",
            "0.0 [0.0339567] [0.00115306] 0.0 [0.]\n",
            "0.0 [-0.00154559] [2.3888445e-06] 0.0 [-0.]\n",
            "0.0 [-0.00084876] [7.203989e-07] 0.0 [-0.]\n",
            "0.0 [-0.00355101] [1.2609661e-05] 0.0 [-0.]\n",
            "0.0 [0.38555047] [0.14864917] 0.0 [0.]\n",
            "0.0 [0.06357554] [0.00404185] 0.0 [0.]\n",
            "0.0 [0.00852758] [7.271955e-05] 0.0 [0.]\n",
            "0.0 [0.06605086] [0.00436272] 0.0 [0.]\n",
            "0.0 [-0.00295813] [8.750549e-06] 0.0 [-0.]\n",
            "0.0 [1.4219433e-05] [2.0219228e-10] 0.0 [0.]\n",
            "0.0 [0.00326185] [1.0639668e-05] 0.0 [0.]\n",
            "0.0 [0.00463549] [2.1487767e-05] 0.0 [0.]\n",
            "0.0 [0.06381876] [0.00407283] 0.0 [0.]\n",
            "0.0 [-0.00083266] [6.9332987e-07] 0.0 [-0.]\n",
            "0.0 [-0.00086816] [7.537075e-07] 0.0 [-0.]\n",
            "0.0 [0.07260483] [0.00527146] 0.0 [0.]\n",
            "0.0 [0.07415547] [0.00549903] 0.0 [0.]\n",
            "0.0 [0.04779554] [0.00228441] 0.0 [0.]\n",
            "0.0 [0.02128045] [0.00045286] 0.0 [0.]\n",
            "0.0 [0.27815273] [0.07736894] 0.0 [0.]\n",
            "0.0 [0.2781527] [0.07736893] 0.0 [0.]\n",
            "0.0 [0.02128046] [0.00045286] 0.0 [0.]\n",
            "0.0 [0.21637738] [0.04681917] 0.0 [0.]\n",
            "0.0 [-0.0084896] [7.207336e-05] 0.0 [-0.]\n",
            "0.0 [0.0517884] [0.00268204] 0.0 [0.]\n",
            "0.0 [0.19850072] [0.03940254] 0.0 [0.]\n",
            "0.0 [0.00898248] [8.0684906e-05] 0.0 [0.]\n",
            "0.0 [0.18803772] [0.03535819] 0.0 [0.]\n",
            "0.0 [0.05470156] [0.00299226] 0.0 [0.]\n",
            "0.0 [0.00816906] [6.673349e-05] 0.0 [0.]\n",
            "1.0 [0.90111446] [0.00977835] 1.0 [1.]\n",
            "0.0 [0.15600288] [0.0243369] 0.0 [0.]\n",
            "0.0 [0.3015386] [0.09092552] 0.0 [0.]\n",
            "0.0 [0.10959566] [0.01201121] 0.0 [0.]\n",
            "0.0 [0.23480383] [0.05513284] 0.0 [0.]\n",
            "0.0 [0.01648402] [0.00027172] 0.0 [0.]\n",
            "0.0 [-0.00119222] [1.4213774e-06] 0.0 [-0.]\n",
            "0.0 [0.01359041] [0.0001847] 0.0 [0.]\n",
            "0.0 [0.00024794] [6.1472605e-08] 0.0 [0.]\n",
            "0.0 [0.01560729] [0.00024359] 0.0 [0.]\n",
            "0.0 [0.03254037] [0.00105888] 0.0 [0.]\n",
            "0.0 [0.01366752] [0.0001868] 0.0 [0.]\n",
            "0.0 [0.3555997] [0.12645115] 0.0 [0.]\n",
            "0.0 [0.05771264] [0.00333075] 0.0 [0.]\n",
            "0.0 [0.10428324] [0.010875] 0.0 [0.]\n",
            "0.0 [0.01442764] [0.00020816] 0.0 [0.]\n",
            "0.0 [0.3832226] [0.14685957] 0.0 [0.]\n",
            "0.0 [0.01408285] [0.00019833] 0.0 [0.]\n",
            "0.0 [-0.00167456] [2.804139e-06] 0.0 [-0.]\n",
            "0.0 [0.00820618] [6.734138e-05] 0.0 [0.]\n",
            "0.0 [0.01096635] [0.00012026] 0.0 [0.]\n",
            "0.0 [0.0584651] [0.00341817] 0.0 [0.]\n",
            "0.0 [0.3507495] [0.12302521] 0.0 [0.]\n",
            "0.0 [0.11430569] [0.01306579] 0.0 [0.]\n",
            "0.0 [0.04245699] [0.0018026] 0.0 [0.]\n",
            "0.0 [0.09965798] [0.00993171] 0.0 [0.]\n",
            "0.0 [0.00764295] [5.8414684e-05] 0.0 [0.]\n",
            "0.0 [0.0565788] [0.00320116] 0.0 [0.]\n",
            "1.0 [0.8949186] [0.0110421] 1.0 [1.]\n",
            "0.0 [0.02233233] [0.00049873] 0.0 [0.]\n",
            "0.0 [0.00623254] [3.8844555e-05] 0.0 [0.]\n",
            "0.0 [0.00335967] [1.1287366e-05] 0.0 [0.]\n",
            "0.0 [0.6883642] [0.47384527] 0.0 [1.]\n",
            "0.0 [0.05431784] [0.00295043] 0.0 [0.]\n",
            "1.0 [0.9547921] [0.00204376] 1.0 [1.]\n",
            "0.0 [0.03848792] [0.00148132] 0.0 [0.]\n",
            "0.0 [0.03875781] [0.00150217] 0.0 [0.]\n",
            "0.0 [0.01070931] [0.00011469] 0.0 [0.]\n",
            "1.0 [0.7553193] [0.05986864] 1.0 [1.]\n",
            "0.0 [0.20402814] [0.04162749] 0.0 [0.]\n",
            "0.0 [0.03437015] [0.00118131] 0.0 [0.]\n",
            "0.0 [0.25432116] [0.06467925] 0.0 [0.]\n",
            "0.0 [0.11957303] [0.01429771] 0.0 [0.]\n",
            "0.0 [0.22966781] [0.05274731] 0.0 [0.]\n",
            "0.0 [-0.00957754] [9.172934e-05] 0.0 [-0.]\n",
            "0.0 [0.00773343] [5.9805894e-05] 0.0 [0.]\n",
            "0.0 [0.18336429] [0.03362246] 0.0 [0.]\n",
            "0.0 [0.23672529] [0.05603886] 0.0 [0.]\n",
            "0.0 [0.22015575] [0.04846855] 0.0 [0.]\n",
            "0.0 [-0.0107771] [0.00011615] 0.0 [-0.]\n",
            "0.0 [0.18754788] [0.03517421] 0.0 [0.]\n",
            "0.0 [0.8608635] [0.741086] 0.0 [1.]\n",
            "0.0 [0.6106832] [0.37293398] 0.0 [1.]\n",
            "1.0 [1.0059878] [3.585331e-05] 1.0 [1.]\n",
            "0.0 [0.72326684] [0.5231149] 0.0 [1.]\n",
            "0.0 [-0.00699614] [4.894601e-05] 0.0 [-0.]\n",
            "0.0 [0.03065032] [0.00093944] 0.0 [0.]\n",
            "0.0 [0.01729766] [0.00029921] 0.0 [0.]\n",
            "0.0 [0.14843255] [0.02203222] 0.0 [0.]\n",
            "0.0 [-0.00419754] [1.7619317e-05] 0.0 [-0.]\n",
            "0.0 [0.01371858] [0.0001882] 0.0 [0.]\n",
            "1.0 [0.94530654] [0.00299137] 1.0 [1.]\n",
            "0.0 [0.02356472] [0.0005553] 0.0 [0.]\n",
            "0.0 [-0.0107771] [0.00011615] 0.0 [-0.]\n",
            "0.0 [-0.00466227] [2.1736803e-05] 0.0 [-0.]\n",
            "0.0 [0.01799343] [0.00032376] 0.0 [0.]\n",
            "1.0 [0.9658237] [0.00116802] 1.0 [1.]\n",
            "0.0 [0.07472144] [0.00558329] 0.0 [0.]\n",
            "0.0 [0.00864832] [7.479344e-05] 0.0 [0.]\n",
            "0.0 [-0.00287253] [8.251453e-06] 0.0 [-0.]\n",
            "0.0 [0.01652043] [0.00027292] 0.0 [0.]\n",
            "0.0 [-0.0107771] [0.00011615] 0.0 [-0.]\n",
            "0.0 [0.02706585] [0.00073256] 0.0 [0.]\n",
            "0.0 [0.02728983] [0.00074473] 0.0 [0.]\n",
            "0.0 [0.00739125] [5.463053e-05] 0.0 [0.]\n",
            "0.0 [0.03366115] [0.00113307] 0.0 [0.]\n",
            "1.0 [0.9086047] [0.0083531] 1.0 [1.]\n",
            "0.0 [0.08447901] [0.0071367] 0.0 [0.]\n",
            "0.0 [0.06416976] [0.00411776] 0.0 [0.]\n",
            "0.0 [0.02257712] [0.00050973] 0.0 [0.]\n",
            "1.0 [0.9360752] [0.00408638] 1.0 [1.]\n",
            "0.0 [0.02601034] [0.00067654] 0.0 [0.]\n",
            "0.0 [0.00463549] [2.1487767e-05] 0.0 [0.]\n",
            "0.0 [0.06381876] [0.00407283] 0.0 [0.]\n",
            "0.0 [-0.00087573] [7.669097e-07] 0.0 [-0.]\n",
            "0.0 [-0.00428447] [1.835667e-05] 0.0 [-0.]\n",
            "0.0 [0.01199152] [0.0001438] 0.0 [0.]\n",
            "0.0 [0.43466887] [0.18893702] 0.0 [0.]\n",
            "0.0 [0.01778902] [0.00031645] 0.0 [0.]\n",
            "0.0 [0.11406164] [0.01301006] 0.0 [0.]\n",
            "0.0 [0.06273524] [0.00393571] 0.0 [0.]\n",
            "0.0 [0.03318101] [0.00110098] 0.0 [0.]\n",
            "0.0 [1.4219433e-05] [2.0219228e-10] 0.0 [0.]\n",
            "0.0 [0.00029921] [8.952939e-08] 0.0 [0.]\n",
            "0.0 [0.04243492] [0.00180072] 0.0 [0.]\n",
            "0.0 [0.01639783] [0.00026889] 0.0 [0.]\n",
            "0.0 [0.01959655] [0.00038402] 0.0 [0.]\n",
            "0.0 [0.00151595] [2.2981014e-06] 0.0 [0.]\n",
            "0.0 [0.00938164] [8.8015164e-05] 0.0 [0.]\n",
            "0.0 [0.04854748] [0.00235686] 0.0 [0.]\n",
            "0.0 [0.42523414] [0.18082407] 0.0 [0.]\n",
            "0.0 [0.01156986] [0.00013386] 0.0 [0.]\n",
            "0.0 [0.00235796] [5.559997e-06] 0.0 [0.]\n",
            "0.0 [-0.00815205] [6.645592e-05] 0.0 [-0.]\n",
            "0.0 [0.21695793] [0.04707074] 0.0 [0.]\n",
            "0.0 [0.08219936] [0.00675673] 0.0 [0.]\n",
            "0.0 [0.28053814] [0.07870165] 0.0 [0.]\n",
            "0.0 [-0.00030882] [9.536982e-08] 0.0 [-0.]\n",
            "0.0 [-0.00025771] [6.6415524e-08] 0.0 [-0.]\n",
            "0.0 [0.03060353] [0.00093658] 0.0 [0.]\n",
            "0.0 [0.19803497] [0.03921785] 0.0 [0.]\n",
            "0.0 [0.6091864] [0.37110808] 0.0 [1.]\n",
            "0.0 [0.0217561] [0.00047333] 0.0 [0.]\n",
            "0.0 [0.01669275] [0.00027865] 0.0 [0.]\n",
            "0.0 [-0.00277919] [7.72388e-06] 0.0 [-0.]\n",
            "0.0 [-0.00149263] [2.2279303e-06] 0.0 [-0.]\n",
            "0.0 [0.05278274] [0.00278602] 0.0 [0.]\n",
            "0.0 [0.00965919] [9.329998e-05] 0.0 [0.]\n",
            "0.0 [0.05451213] [0.00297157] 0.0 [0.]\n",
            "0.0 [0.0167629] [0.00028099] 0.0 [0.]\n",
            "0.0 [0.18806933] [0.03537007] 0.0 [0.]\n",
            "0.0 [0.09163499] [0.00839697] 0.0 [0.]\n",
            "1.0 [0.9382255] [0.00381609] 1.0 [1.]\n",
            "0.0 [-0.00216323] [4.679561e-06] 0.0 [-0.]\n",
            "1.0 [0.73773384] [0.06878354] 1.0 [1.]\n",
            "0.0 [-0.00273767] [7.4948116e-06] 0.0 [-0.]\n",
            "0.0 [0.05420017] [0.00293766] 0.0 [0.]\n",
            "0.0 [0.05658722] [0.00320211] 0.0 [0.]\n",
            "0.0 [0.00223352] [4.9886194e-06] 0.0 [0.]\n",
            "0.0 [0.04047352] [0.00163811] 0.0 [0.]\n",
            "0.0 [0.00382751] [1.464984e-05] 0.0 [0.]\n",
            "1.0 [0.86294067] [0.01878526] 1.0 [1.]\n",
            "0.0 [0.04313391] [0.00186053] 0.0 [0.]\n",
            "0.0 [0.02654137] [0.00070444] 0.0 [0.]\n",
            "0.0 [0.02468582] [0.00060939] 0.0 [0.]\n",
            "0.0 [0.00075375] [5.6814605e-07] 0.0 [0.]\n",
            "0.0 [0.6309808] [0.39813676] 0.0 [1.]\n",
            "0.0 [0.06336633] [0.00401529] 0.0 [0.]\n",
            "0.0 [0.07127278] [0.00507981] 0.0 [0.]\n",
            "0.0 [0.01176571] [0.00013843] 0.0 [0.]\n",
            "0.0 [0.0282309] [0.00079698] 0.0 [0.]\n",
            "0.0 [0.00606051] [3.6729816e-05] 0.0 [0.]\n",
            "0.0 [0.01167587] [0.00013633] 0.0 [0.]\n",
            "0.0 [0.00733008] [5.373005e-05] 0.0 [0.]\n",
            "0.0 [-0.00927746] [8.607128e-05] 0.0 [-0.]\n",
            "0.0 [0.35661298] [0.12717281] 0.0 [0.]\n",
            "0.0 [0.10277462] [0.01056262] 0.0 [0.]\n",
            "0.0 [-0.00764156] [5.8393416e-05] 0.0 [-0.]\n",
            "0.0 [0.00855688] [7.3220275e-05] 0.0 [0.]\n",
            "0.0 [0.10989922] [0.01207784] 0.0 [0.]\n",
            "0.0 [-0.00157775] [2.4893056e-06] 0.0 [-0.]\n",
            "0.0 [0.07294929] [0.0053216] 0.0 [0.]\n",
            "0.0 [-0.00135361] [1.8322653e-06] 0.0 [-0.]\n",
            "0.0 [0.1857306] [0.03449586] 0.0 [0.]\n",
            "0.0 [0.02027014] [0.00041088] 0.0 [0.]\n",
            "0.0 [-0.00125134] [1.5658434e-06] 0.0 [-0.]\n",
            "0.0 [0.04160955] [0.00173135] 0.0 [0.]\n",
            "0.0 [-0.00055327] [3.061042e-07] 0.0 [-0.]\n",
            "0.0 [0.00311628] [9.711197e-06] 0.0 [0.]\n",
            "1.0 [0.6793921] [0.10278942] 1.0 [1.]\n",
            "0.0 [0.02104317] [0.00044281] 0.0 [0.]\n",
            "0.0 [0.02630485] [0.00069195] 0.0 [0.]\n",
            "0.0 [0.00097618] [9.5293075e-07] 0.0 [0.]\n",
            "0.0 [0.02158608] [0.00046596] 0.0 [0.]\n",
            "0.0 [0.05678206] [0.0032242] 0.0 [0.]\n",
            "0.0 [0.4381105] [0.19194081] 0.0 [0.]\n",
            "0.0 [-0.01179511] [0.00013912] 0.0 [-0.]\n",
            "0.0 [0.01190998] [0.00014185] 0.0 [0.]\n",
            "0.0 [0.11453697] [0.01311872] 0.0 [0.]\n",
            "0.0 [0.00256728] [6.5909103e-06] 0.0 [0.]\n",
            "0.0 [0.0103418] [0.00010695] 0.0 [0.]\n",
            "0.0 [0.06821425] [0.00465318] 0.0 [0.]\n",
            "0.0 [0.01564557] [0.00024478] 0.0 [0.]\n",
            "0.0 [0.00654164] [4.279307e-05] 0.0 [0.]\n",
            "0.0 [-0.00742281] [5.5098073e-05] 0.0 [-0.]\n",
            "0.0 [0.04717564] [0.00222554] 0.0 [0.]\n",
            "0.0 [0.0413174] [0.00170713] 0.0 [0.]\n",
            "0.0 [0.00109138] [1.1911203e-06] 0.0 [0.]\n",
            "0.0 [0.15190087] [0.02307387] 0.0 [0.]\n",
            "0.0 [0.01540068] [0.00023718] 0.0 [0.]\n",
            "0.0 [-0.00872143] [7.6063305e-05] 0.0 [-0.]\n",
            "0.0 [0.00503368] [2.5337951e-05] 0.0 [0.]\n",
            "0.0 [0.02267098] [0.00051397] 0.0 [0.]\n",
            "0.0 [0.04008598] [0.00160689] 0.0 [0.]\n",
            "0.0 [0.00049016] [2.402545e-07] 0.0 [0.]\n",
            "0.0 [0.0006458] [4.1705258e-07] 0.0 [0.]\n",
            "0.0 [-0.00096289] [9.271531e-07] 0.0 [-0.]\n",
            "0.0 [0.08155633] [0.00665143] 0.0 [0.]\n",
            "0.0 [0.01319916] [0.00017422] 0.0 [0.]\n",
            "0.0 [0.02777295] [0.00077134] 0.0 [0.]\n",
            "0.0 [0.01098104] [0.00012058] 0.0 [0.]\n",
            "0.0 [0.05531502] [0.00305975] 0.0 [0.]\n",
            "0.0 [0.06912154] [0.00477779] 0.0 [0.]\n",
            "0.0 [0.0738999] [0.0054612] 0.0 [0.]\n",
            "0.0 [0.1255135] [0.01575364] 0.0 [0.]\n",
            "0.0 [0.00342181] [1.1708816e-05] 0.0 [0.]\n",
            "0.0 [8.007488e-05] [6.411987e-09] 0.0 [0.]\n",
            "0.0 [0.00239092] [5.7165084e-06] 0.0 [0.]\n",
            "0.0 [-0.00436679] [1.9068839e-05] 0.0 [-0.]\n",
            "0.0 [-0.00436679] [1.9068839e-05] 0.0 [-0.]\n",
            "0.0 [-0.00190853] [3.6424983e-06] 0.0 [-0.]\n",
            "0.0 [0.30900797] [0.09548593] 0.0 [0.]\n",
            "0.0 [0.32516152] [0.10573001] 0.0 [0.]\n",
            "0.0 [0.04878182] [0.00237967] 0.0 [0.]\n",
            "1.0 [0.41118473] [0.3467034] 1.0 [0.]\n",
            "0.0 [0.02594683] [0.00067324] 0.0 [0.]\n",
            "0.0 [0.52045816] [0.2708767] 0.0 [1.]\n",
            "0.0 [0.02188287] [0.00047886] 0.0 [0.]\n",
            "0.0 [0.1676258] [0.02809841] 0.0 [0.]\n",
            "0.0 [0.12508169] [0.01564543] 0.0 [0.]\n",
            "0.0 [0.02973162] [0.00088397] 0.0 [0.]\n",
            "0.0 [-0.00314454] [9.888138e-06] 0.0 [-0.]\n",
            "0.0 [0.06475449] [0.00419314] 0.0 [0.]\n",
            "0.0 [0.02037857] [0.00041529] 0.0 [0.]\n",
            "0.0 [-0.00636415] [4.0502346e-05] 0.0 [-0.]\n",
            "0.0 [0.02287764] [0.00052339] 0.0 [0.]\n",
            "0.0 [0.01766201] [0.00031195] 0.0 [0.]\n",
            "0.0 [0.25953585] [0.06735886] 0.0 [0.]\n",
            "0.0 [0.05399403] [0.00291535] 0.0 [0.]\n",
            "0.0 [0.00418865] [1.754483e-05] 0.0 [0.]\n",
            "0.0 [-0.00204195] [4.1695603e-06] 0.0 [-0.]\n",
            "0.0 [0.00123712] [1.5304679e-06] 0.0 [0.]\n",
            "0.0 [0.01073123] [0.00011516] 0.0 [0.]\n",
            "0.0 [0.03468308] [0.00120292] 0.0 [0.]\n",
            "0.0 [0.00857665] [7.355896e-05] 0.0 [0.]\n",
            "0.0 [0.14670397] [0.02152206] 0.0 [0.]\n",
            "0.0 [0.00222241] [4.939107e-06] 0.0 [0.]\n",
            "0.0 [0.03757639] [0.00141199] 0.0 [0.]\n",
            "0.0 [0.03418214] [0.00116842] 0.0 [0.]\n",
            "0.0 [0.00898771] [8.07789e-05] 0.0 [0.]\n",
            "0.0 [0.18739802] [0.03511802] 0.0 [0.]\n",
            "1.0 [0.869522] [0.01702452] 1.0 [1.]\n",
            "1.0 [0.9263544] [0.00542367] 1.0 [1.]\n",
            "0.0 [0.01688088] [0.00028496] 0.0 [0.]\n",
            "0.0 [0.75234216] [0.56601876] 0.0 [1.]\n",
            "0.0 [0.01948227] [0.00037956] 0.0 [0.]\n",
            "0.0 [-0.00840565] [7.065501e-05] 0.0 [-0.]\n",
            "0.0 [0.06305867] [0.0039764] 0.0 [0.]\n",
            "0.0 [0.04169854] [0.00173877] 0.0 [0.]\n",
            "0.0 [-0.00080925] [6.5488695e-07] 0.0 [-0.]\n",
            "0.0 [-0.00535916] [2.8720544e-05] 0.0 [-0.]\n",
            "0.0 [-0.00204195] [4.1695603e-06] 0.0 [-0.]\n",
            "0.0 [0.05023412] [0.00252347] 0.0 [0.]\n",
            "0.0 [0.00233851] [5.4686257e-06] 0.0 [0.]\n",
            "0.0 [0.11494826] [0.0132131] 0.0 [0.]\n",
            "0.0 [-0.0042378] [1.7958979e-05] 0.0 [-0.]\n",
            "0.0 [0.07951697] [0.00632295] 0.0 [0.]\n",
            "1.0 [0.50214976] [0.24785486] 1.0 [1.]\n",
            "0.0 [0.31129456] [0.0969043] 0.0 [0.]\n",
            "0.0 [0.05444623] [0.00296439] 0.0 [0.]\n",
            "0.0 [0.38053262] [0.14480507] 0.0 [0.]\n",
            "0.0 [0.20678765] [0.04276113] 0.0 [0.]\n",
            "0.0 [0.02361115] [0.00055749] 0.0 [0.]\n",
            "0.0 [0.12084743] [0.0146041] 0.0 [0.]\n",
            "0.0 [0.02470457] [0.00061032] 0.0 [0.]\n",
            "0.0 [-0.00087792] [7.707355e-07] 0.0 [-0.]\n",
            "0.0 [0.00090435] [8.1784145e-07] 0.0 [0.]\n",
            "0.0 [-0.00669065] [4.4764838e-05] 0.0 [-0.]\n",
            "0.0 [0.22761275] [0.05180756] 0.0 [0.]\n",
            "0.0 [0.01625002] [0.00026406] 0.0 [0.]\n",
            "0.0 [0.01906959] [0.00036365] 0.0 [0.]\n",
            "0.0 [0.0023782] [5.6558406e-06] 0.0 [0.]\n",
            "0.0 [0.00294876] [8.695189e-06] 0.0 [0.]\n",
            "0.0 [-0.00063889] [4.0818082e-07] 0.0 [-0.]\n",
            "0.0 [0.1044031] [0.01090001] 0.0 [0.]\n",
            "0.0 [-0.00395048] [1.5606318e-05] 0.0 [-0.]\n",
            "0.0 [0.07722412] [0.00596356] 0.0 [0.]\n",
            "0.0 [-0.00907423] [8.234163e-05] 0.0 [-0.]\n",
            "0.0 [0.03976597] [0.00158133] 0.0 [0.]\n",
            "0.0 [0.0559984] [0.00313582] 0.0 [0.]\n",
            "1.0 [0.8940089] [0.01123412] 1.0 [1.]\n",
            "0.0 [0.3865419] [0.14941464] 0.0 [0.]\n",
            "1.0 [0.6347705] [0.13339257] 1.0 [1.]\n",
            "0.0 [-0.0046687] [2.1796739e-05] 0.0 [-0.]\n",
            "1.0 [0.8200673] [0.03237578] 1.0 [1.]\n",
            "0.0 [0.03459286] [0.00119667] 0.0 [0.]\n",
            "0.0 [0.00941232] [8.859169e-05] 0.0 [0.]\n",
            "0.0 [0.04912276] [0.00241305] 0.0 [0.]\n",
            "0.0 [0.00817616] [6.684967e-05] 0.0 [0.]\n",
            "0.0 [0.00766478] [5.8748785e-05] 0.0 [0.]\n",
            "0.0 [0.00521225] [2.7167524e-05] 0.0 [0.]\n",
            "0.0 [0.02836155] [0.00080438] 0.0 [0.]\n",
            "0.0 [0.03769233] [0.00142071] 0.0 [0.]\n",
            "0.0 [-0.00061599] [3.794466e-07] 0.0 [-0.]\n",
            "0.0 [0.00109138] [1.1911177e-06] 0.0 [0.]\n",
            "0.0 [0.0131261] [0.00017229] 0.0 [0.]\n",
            "0.0 [0.00883613] [7.807717e-05] 0.0 [0.]\n",
            "0.0 [-0.00768741] [5.9096306e-05] 0.0 [-0.]\n",
            "0.0 [0.0842116] [0.00709159] 0.0 [0.]\n",
            "Среднеквадратичное отклонение 0.16788657\n",
            "Точность модели 97.0 %\n"
          ]
        }
      ]
    },
    {
      "cell_type": "markdown",
      "source": [
        "# **Резюме:** \n",
        "\n",
        "**- При создании нейронной сети (НС) были выбраны колонки:**\n",
        "\n",
        "**1)Пол** - разбито на 2 класса, \n",
        "\n",
        "**2)Профессия** - токенезировано\n",
        "\n",
        "**3)ЗаключениеМК** - разбит на 2 класса (годен, все остальные варианты). Объясняю такой выбор минимальным кол-вом примеров других классов кроме годен)\n",
        "\n",
        "**4)Возраст** - разбито на возрастные категории (см. выше в коде)\n",
        "\n",
        "**5)Список Вредных Факторов** - токенезировано\n",
        "\n",
        "**6)все_диагнозы** - взято текстовое представление диагоза всех специалистов и токенезировано\n",
        "\n",
        "**7)МКБ** - взят код мкб приведен в числовой формат вручную.\n",
        "\n",
        "Объясняю выбор колонок: решение профпатолога зависит в том числе от совокупности решений специалистов мед.комиссии. Итогом их (узких спец.) работы (решением) является выставленный диагноз. Также важными факторами для того или иного решения профпатолога являются: возраст, пол, вредые факторы производства(работы).\n",
        "\n",
        "В процессе работы над нейронной сетью датасет **не был** искусственно увеличен данными из официальных приказов для профпатологов. \n",
        "\n",
        "Подход при котором датасет увеличивается за счет достоверных данных из приказов считаю  перспективным, но хотелось бы поработать с новым улучшенным датасетом от заказчика (с увеличенным кол-вом примеров по другим классам) прежде чем добавлять костыли."
      ],
      "metadata": {
        "id": "XBGhb2D3QVoZ"
      }
    },
    {
      "cell_type": "markdown",
      "source": [
        "# **Вывод:** \n",
        "\n",
        "Выбранный подход принес свои плоды. Точность нейронной сети при классификации на 2 класса составила ~97 %. Считаю результат достойным с учетом малого кол-ва предоставленных даных по другим классам (разбалансировка данных). При получении от заказчика большего датасета результат будет лучше."
      ],
      "metadata": {
        "id": "eUzbeQT0WMtK"
      }
    },
    {
      "cell_type": "markdown",
      "source": [
        "________________________________________\n"
      ],
      "metadata": {
        "id": "0hDRwMXjQVJE"
      }
    },
    {
      "cell_type": "markdown",
      "source": [
        "____________________________________"
      ],
      "metadata": {
        "id": "Fq0HegSPQWnB"
      }
    },
    {
      "cell_type": "markdown",
      "source": [
        "_____________________________________________"
      ],
      "metadata": {
        "id": "irp-XUknQXpH"
      }
    }
  ]
}