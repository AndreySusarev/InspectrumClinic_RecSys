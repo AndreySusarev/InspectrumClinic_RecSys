{
  "nbformat": 4,
  "nbformat_minor": 0,
  "metadata": {
    "colab": {
      "provenance": []
    },
    "kernelspec": {
      "name": "python3",
      "display_name": "Python 3"
    },
    "language_info": {
      "name": "python"
    }
  },
  "cells": [
    {
      "cell_type": "markdown",
      "source": [
        "# **Подгружаем библиотеки**"
      ],
      "metadata": {
        "id": "m8L6enjTZYWp"
      }
    },
    {
      "cell_type": "code",
      "execution_count": null,
      "metadata": {
        "id": "jYjmmkF_H8cn"
      },
      "outputs": [],
      "source": [
        "%matplotlib inline\n",
        "\n",
        "import pandas as pd\n",
        "import matplotlib.pyplot as plt\n",
        "from tensorflow.keras import utils\n",
        "from tensorflow.keras.models import Sequential, Model\n",
        "from tensorflow.keras.layers import Dense, Activation, Dropout, BatchNormalization, Input, concatenate\n",
        "from tensorflow.keras.optimizers import Adam, Adadelta\n",
        "from tensorflow.keras.metrics import Precision\n",
        "from sklearn.model_selection import train_test_split \n",
        "import numpy as np\n",
        "from keras.preprocessing.text import Tokenizer, text_to_word_sequence,tokenizer_from_json \n",
        "\n",
        "from sklearn.preprocessing import StandardScaler, LabelEncoder\n",
        "import sklearn.metrics\n",
        "\n",
        "from sklearn.preprocessing import StandardScaler\n",
        "from sklearn.cluster import KMeans\n",
        "import time\n",
        "import re"
      ]
    },
    {
      "cell_type": "code",
      "source": [
        "from google.colab import drive\n",
        "drive.mount('/content/drive')"
      ],
      "metadata": {
        "colab": {
          "base_uri": "https://localhost:8080/"
        },
        "id": "A_L_xANzH96C",
        "outputId": "c87b49cf-fb38-451c-eafd-e57a8dc43c80"
      },
      "execution_count": null,
      "outputs": [
        {
          "output_type": "stream",
          "name": "stdout",
          "text": [
            "Mounted at /content/drive\n"
          ]
        }
      ]
    },
    {
      "cell_type": "markdown",
      "source": [
        "# **Подгружаем датасет, чистим от мусора, преобразуем данные в единый формат**"
      ],
      "metadata": {
        "id": "qQ7jCc1dKOhS"
      }
    },
    {
      "cell_type": "code",
      "source": [
        "df = pd.read_excel('/content/drive/MyDrive/Colab Notebooks/Стажировка/data2.xlsx') #читаем предоставленную таблицу"
      ],
      "metadata": {
        "id": "zRoRDkL_IAkn"
      },
      "execution_count": null,
      "outputs": []
    },
    {
      "cell_type": "code",
      "source": [
        "column_list = df.columns.tolist() #создаем список колонок таблицы"
      ],
      "metadata": {
        "id": "M_bsPgzVIuU9"
      },
      "execution_count": null,
      "outputs": []
    },
    {
      "cell_type": "code",
      "source": [
        "df_1 = df.dropna(axis=0, how='all') #удаляем пустые строки и столбцы\n",
        "df_2 = df_1.dropna(axis=1, how='all')"
      ],
      "metadata": {
        "id": "ZqCsHxe6lK8L"
      },
      "execution_count": null,
      "outputs": []
    },
    {
      "cell_type": "code",
      "source": [
        "df_list_1 = [] #создаем список колоок содержащих МКБ\n",
        "for i in column_list:\n",
        "  if \"МКБ\" in i:\n",
        "    df_list_1.append(i)"
      ],
      "metadata": {
        "id": "qaFkReIF7UGi"
      },
      "execution_count": null,
      "outputs": []
    },
    {
      "cell_type": "code",
      "source": [
        "df_list_1"
      ],
      "metadata": {
        "id": "-oeHBFFHyPpF",
        "colab": {
          "base_uri": "https://localhost:8080/"
        },
        "outputId": "69403c93-3154-43d4-ee6c-2699cfb7eb17"
      },
      "execution_count": null,
      "outputs": [
        {
          "output_type": "execute_result",
          "data": {
            "text/plain": [
              "['ПсихиатрияНаркология1_МКБ101',\n",
              " 'Офтальмология1_МКБ101',\n",
              " 'Оториноларингология1_МКБ101',\n",
              " 'ХирургНеИсп1_МКБ101',\n",
              " 'Гинекология1_МКБ101',\n",
              " 'Стоматология1_МКБ101',\n",
              " 'Дерматовенерология1_МКБ101',\n",
              " 'Рентгенология1_МКБ101',\n",
              " 'Неврология1_МКБ101',\n",
              " 'Терапия1_МКБ101',\n",
              " 'Хирургия1_МКБ101',\n",
              " 'Офтальмология1_МКБ102',\n",
              " 'Терапия2_МКБ101',\n",
              " 'Неврология2_МКБ101',\n",
              " 'ЛабораторныеИсследования1_МКБ101',\n",
              " 'ЭКГНеИсп1_МКБ101',\n",
              " 'УЗИДиагностика1_МКБ101',\n",
              " 'УЗИДиагностика2_МКБ101',\n",
              " 'ПсихиатрияНаркология2_МКБ101',\n",
              " 'Терапия1_МКБ102',\n",
              " 'ЛабораторныеИсследования2_МКБ101',\n",
              " 'Терапия1_МКБ103',\n",
              " 'Психиатрия1_МКБ101',\n",
              " 'Гинекология1_МКБ102',\n",
              " 'Рентгенология2_МКБ101',\n",
              " 'Гинекология2_МКБ101',\n",
              " 'Хирургия2_МКБ101',\n",
              " 'ПроцедурнаяМедсестра1_МКБ101',\n",
              " 'ФункциональнаяДиагностика1_МКБ101',\n",
              " 'УЗИДиагностика1_МКБ102',\n",
              " 'Стоматология2_МКБ101',\n",
              " 'Неврология1_МКБ102',\n",
              " 'Оториноларингология2_МКБ101',\n",
              " 'Дерматовенерология1_МКБ102',\n",
              " 'Дерматовенерология2_МКБ101',\n",
              " 'Дерматовенерология2_МКБ102',\n",
              " 'Хирургия1_МКБ102',\n",
              " 'Хирургия2_МКБ102',\n",
              " 'Офтальмология2_МКБ101',\n",
              " 'Офтальмология2_МКБ102',\n",
              " 'Неврология2_МКБ102',\n",
              " 'ПсихиатрияНаркология1_МКБ102',\n",
              " 'ПсихиатрияНаркология2_МКБ102',\n",
              " 'УЗИДиагностика2_МКБ102',\n",
              " 'Оториноларингология1_МКБ102',\n",
              " 'Оториноларингология2_МКБ102',\n",
              " 'Терапия2_МКБ102',\n",
              " 'Оториноларингология1_МКБ103',\n",
              " 'Оториноларингология1_МКБ104',\n",
              " 'Оториноларингология2_МКБ103',\n",
              " 'Оториноларингология2_МКБ104',\n",
              " 'Терапия3_МКБ101',\n",
              " 'Терапия3_МКБ102',\n",
              " 'Терапия4_МКБ101',\n",
              " 'Терапия4_МКБ102',\n",
              " 'Гинекология2_МКБ102',\n",
              " 'УЗИДиагностика1_МКБ103',\n",
              " 'УЗИДиагностика1_МКБ104',\n",
              " 'УЗИДиагностика2_МКБ103',\n",
              " 'УЗИДиагностика2_МКБ104',\n",
              " 'Стоматология1_МКБ102',\n",
              " 'Стоматология2_МКБ102',\n",
              " 'Терапия1_МКБ104',\n",
              " 'Терапия2_МКБ103',\n",
              " 'Терапия2_МКБ104',\n",
              " 'Офтальмология1_МКБ103',\n",
              " 'Офтальмология1_МКБ104',\n",
              " 'Офтальмология2_МКБ103',\n",
              " 'Офтальмология2_МКБ104',\n",
              " 'ЛабораторныеИсследования1_МКБ102',\n",
              " 'ЛабораторныеИсследования2_МКБ102',\n",
              " 'Хирургия3_МКБ101',\n",
              " 'Гинекология3_МКБ101',\n",
              " 'Гинекология3_МКБ102',\n",
              " 'Гинекология4_МКБ101',\n",
              " 'Гинекология4_МКБ102',\n",
              " 'ТерапевтНеИсп1_МКБ101',\n",
              " 'Эндоскопия1_МКБ101',\n",
              " 'ТерапевтНеИсп1_МКБ102',\n",
              " 'ХирургНеИсп1_МКБ102',\n",
              " 'ХирургНеИсп2_МКБ101',\n",
              " 'ХирургНеИсп2_МКБ102',\n",
              " 'Психиатрия1_МКБ102',\n",
              " 'Психиатрия2_МКБ101',\n",
              " 'Психиатрия2_МКБ102',\n",
              " 'Рентгенология1_МКБ102',\n",
              " 'Рентгенология2_МКБ102',\n",
              " 'Психиатрия3_МКБ101',\n",
              " 'Психиатрия3_МКБ102',\n",
              " 'Психиатрия4_МКБ101',\n",
              " 'Психиатрия4_МКБ102',\n",
              " 'Оториноларингология3_МКБ101']"
            ]
          },
          "metadata": {},
          "execution_count": 7
        }
      ]
    },
    {
      "cell_type": "code",
      "source": [
        "df_list_di = [] #создаем список колонок с диагнозом \n",
        "for i in column_list:\n",
        "  if \"Диагноз_ЗначениеПредставление\" in i:\n",
        "    df_list_di.append(i)"
      ],
      "metadata": {
        "id": "IAWx31Jisbyk"
      },
      "execution_count": null,
      "outputs": []
    },
    {
      "cell_type": "code",
      "source": [
        "df_list_di"
      ],
      "metadata": {
        "colab": {
          "base_uri": "https://localhost:8080/"
        },
        "id": "4rSHP9PnyKQ2",
        "outputId": "c55ddf05-5560-4b60-b9b1-10b02faeadd1"
      },
      "execution_count": null,
      "outputs": [
        {
          "output_type": "execute_result",
          "data": {
            "text/plain": [
              "['ПсихиатрияНаркология1_Диагноз_ЗначениеПредставление',\n",
              " 'Офтальмология1_Диагноз_ЗначениеПредставление',\n",
              " 'Оториноларингология1_Диагноз_ЗначениеПредставление',\n",
              " 'ХирургНеИсп1_Диагноз_ЗначениеПредставление',\n",
              " 'Гинекология1_Диагноз_ЗначениеПредставление',\n",
              " 'Стоматология1_Диагноз_ЗначениеПредставление',\n",
              " 'Дерматовенерология1_Диагноз_ЗначениеПредставление',\n",
              " 'Неврология1_Диагноз_ЗначениеПредставление',\n",
              " 'Хирургия1_Диагноз_ЗначениеПредставление',\n",
              " 'Неврология2_Диагноз_ЗначениеПредставление',\n",
              " 'ПсихиатрияНаркология2_Диагноз_ЗначениеПредставление',\n",
              " 'Психиатрия1_Диагноз_ЗначениеПредставление',\n",
              " 'Гинекология2_Диагноз_ЗначениеПредставление',\n",
              " 'Хирургия2_Диагноз_ЗначениеПредставление',\n",
              " 'Стоматология2_Диагноз_ЗначениеПредставление',\n",
              " 'Оториноларингология2_Диагноз_ЗначениеПредставление',\n",
              " 'Дерматовенерология2_Диагноз_ЗначениеПредставление',\n",
              " 'Терапия2_Диагноз_ЗначениеПредставление',\n",
              " 'Офтальмология2_Диагноз_ЗначениеПредставление',\n",
              " 'Терапия3_Диагноз_ЗначениеПредставление',\n",
              " 'Терапия4_Диагноз_ЗначениеПредставление',\n",
              " 'Терапия1_Диагноз_ЗначениеПредставление',\n",
              " 'Хирургия3_Диагноз_ЗначениеПредставление',\n",
              " 'Гинекология3_Диагноз_ЗначениеПредставление',\n",
              " 'Гинекология4_Диагноз_ЗначениеПредставление',\n",
              " 'ТерапевтНеИсп1_Диагноз_ЗначениеПредставление',\n",
              " 'ХирургНеИсп2_Диагноз_ЗначениеПредставление',\n",
              " 'Психиатрия2_Диагноз_ЗначениеПредставление',\n",
              " 'Психиатрия3_Диагноз_ЗначениеПредставление',\n",
              " 'Психиатрия4_Диагноз_ЗначениеПредставление',\n",
              " 'Оториноларингология3_Диагноз_ЗначениеПредставление']"
            ]
          },
          "metadata": {},
          "execution_count": 8
        }
      ]
    },
    {
      "cell_type": "code",
      "source": [
        "df2=df_2[df_list_1]"
      ],
      "metadata": {
        "id": "t27C7cbIUgZM"
      },
      "execution_count": null,
      "outputs": []
    },
    {
      "cell_type": "code",
      "source": [
        "#df3 =df_2[df_list_di]"
      ],
      "metadata": {
        "id": "v7IYMJLos2fJ"
      },
      "execution_count": null,
      "outputs": []
    },
    {
      "cell_type": "code",
      "source": [
        "df2.fillna(0, inplace=True)"
      ],
      "metadata": {
        "colab": {
          "base_uri": "https://localhost:8080/"
        },
        "id": "7kQMPNM_ClO-",
        "outputId": "100491e4-e91a-40de-efbc-68c25cb50efa"
      },
      "execution_count": null,
      "outputs": [
        {
          "output_type": "stream",
          "name": "stderr",
          "text": [
            "<ipython-input-10-32f74130add2>:1: SettingWithCopyWarning: \n",
            "A value is trying to be set on a copy of a slice from a DataFrame\n",
            "\n",
            "See the caveats in the documentation: https://pandas.pydata.org/pandas-docs/stable/user_guide/indexing.html#returning-a-view-versus-a-copy\n",
            "  df2.fillna(0, inplace=True)\n"
          ]
        }
      ]
    },
    {
      "cell_type": "code",
      "source": [
        "#df3.fillna(0, inplace=True)"
      ],
      "metadata": {
        "colab": {
          "base_uri": "https://localhost:8080/"
        },
        "id": "RnsLqWEnuQ-b",
        "outputId": "a27b6309-1fd1-4da6-ad23-0faeafe7bba7"
      },
      "execution_count": null,
      "outputs": [
        {
          "output_type": "stream",
          "name": "stderr",
          "text": [
            "<ipython-input-88-88c9cf2d6b5d>:1: SettingWithCopyWarning: \n",
            "A value is trying to be set on a copy of a slice from a DataFrame\n",
            "\n",
            "See the caveats in the documentation: https://pandas.pydata.org/pandas-docs/stable/user_guide/indexing.html#returning-a-view-versus-a-copy\n",
            "  df3.fillna(0, inplace=True)\n"
          ]
        }
      ]
    },
    {
      "cell_type": "code",
      "source": [
        "df4=df[[\n",
        "  'КлиентДатаРождения',\n",
        "  'КлиентПол',\n",
        "  'Профессия',\n",
        "  'ЗаключениеМК',\n",
        "  'ДиспансернаяГруппа',\n",
        "  'ВредныеФакторы']]"
      ],
      "metadata": {
        "id": "lSD-lEU85GFB"
      },
      "execution_count": null,
      "outputs": []
    },
    {
      "cell_type": "code",
      "source": [
        "df_full=pd.concat([df4,df2], axis=1, sort=False)"
      ],
      "metadata": {
        "id": "n9oAW7_7NA7A"
      },
      "execution_count": null,
      "outputs": []
    },
    {
      "cell_type": "code",
      "source": [
        "#df_full_0=pd.concat([df4,df_full_0], axis=1, sort=False)"
      ],
      "metadata": {
        "id": "hJ8eB1-OucJu"
      },
      "execution_count": null,
      "outputs": []
    },
    {
      "cell_type": "code",
      "source": [
        "df_full_1=df_full.dropna(subset=['ЗаключениеМК'])"
      ],
      "metadata": {
        "id": "ydqvVhudN3lZ"
      },
      "execution_count": null,
      "outputs": []
    },
    {
      "cell_type": "code",
      "source": [
        "df_full_1['КлиентДатаРождения'] = pd.to_datetime(df_full_1['КлиентДатаРождения'], errors=\"coerce\")\n",
        "df_full_1[\"Возраст\"] = \\\n",
        "    (pd.to_datetime(\"today\") - df_full_1[\"КлиентДатаРождения\"]).astype('<m8[Y]')"
      ],
      "metadata": {
        "colab": {
          "base_uri": "https://localhost:8080/"
        },
        "id": "TjOW8vAOeIZO",
        "outputId": "121fe9ac-c433-4df7-c951-d650965b6a3c"
      },
      "execution_count": null,
      "outputs": [
        {
          "output_type": "stream",
          "name": "stderr",
          "text": [
            "<ipython-input-14-b3a31f71bf19>:1: SettingWithCopyWarning: \n",
            "A value is trying to be set on a copy of a slice from a DataFrame.\n",
            "Try using .loc[row_indexer,col_indexer] = value instead\n",
            "\n",
            "See the caveats in the documentation: https://pandas.pydata.org/pandas-docs/stable/user_guide/indexing.html#returning-a-view-versus-a-copy\n",
            "  df_full_1['КлиентДатаРождения'] = pd.to_datetime(df_full_1['КлиентДатаРождения'], errors=\"coerce\")\n",
            "<ipython-input-14-b3a31f71bf19>:2: SettingWithCopyWarning: \n",
            "A value is trying to be set on a copy of a slice from a DataFrame.\n",
            "Try using .loc[row_indexer,col_indexer] = value instead\n",
            "\n",
            "See the caveats in the documentation: https://pandas.pydata.org/pandas-docs/stable/user_guide/indexing.html#returning-a-view-versus-a-copy\n",
            "  df_full_1[\"Возраст\"] = \\\n"
          ]
        }
      ]
    },
    {
      "cell_type": "code",
      "source": [
        "df_full_1['КлиентДатаРождения']=df_full_1[\"Возраст\"]"
      ],
      "metadata": {
        "colab": {
          "base_uri": "https://localhost:8080/"
        },
        "id": "aOUBgFRofXQY",
        "outputId": "06ada617-a60b-4343-8930-271c6b7ad1dc"
      },
      "execution_count": null,
      "outputs": [
        {
          "output_type": "stream",
          "name": "stderr",
          "text": [
            "<ipython-input-15-d8f2baee0d43>:1: SettingWithCopyWarning: \n",
            "A value is trying to be set on a copy of a slice from a DataFrame.\n",
            "Try using .loc[row_indexer,col_indexer] = value instead\n",
            "\n",
            "See the caveats in the documentation: https://pandas.pydata.org/pandas-docs/stable/user_guide/indexing.html#returning-a-view-versus-a-copy\n",
            "  df_full_1['КлиентДатаРождения']=df_full_1[\"Возраст\"]\n"
          ]
        }
      ]
    },
    {
      "cell_type": "code",
      "source": [
        "df_full_1 = df_full_1.drop(columns='Возраст')"
      ],
      "metadata": {
        "id": "7LkYJpdbfuLy"
      },
      "execution_count": null,
      "outputs": []
    },
    {
      "cell_type": "code",
      "source": [
        "df_full_1.loc[df_full_1['КлиентПол'] == \"Женский\", 'КлиентПол'] = 0\n",
        "df_full_1.loc[df_full_1['КлиентПол'] == \"Мужской\", 'КлиентПол'] = 1"
      ],
      "metadata": {
        "id": "S9JLBnC6dhdW"
      },
      "execution_count": null,
      "outputs": []
    },
    {
      "cell_type": "code",
      "source": [
        "df_full_1[\"КлиентДатаРождения\"]=df_full_1[\"КлиентДатаРождения\"].astype (int)"
      ],
      "metadata": {
        "id": "MuvOq1Brn9IV"
      },
      "execution_count": null,
      "outputs": []
    },
    {
      "cell_type": "code",
      "source": [
        "def getParameterAgeVect(arg):\n",
        "    outClass =int((arg-13)/5)\n",
        "    outClass = max(0, min(10,outClass))\n",
        "    return outClass"
      ],
      "metadata": {
        "id": "C8NwQUH8nfYs"
      },
      "execution_count": null,
      "outputs": []
    },
    {
      "cell_type": "code",
      "source": [
        "df_full_1['ВозрастКатегория'] = df_full_1['КлиентДатаРождения'].apply(getParameterAgeVect)"
      ],
      "metadata": {
        "id": "541xA4W6qfo0"
      },
      "execution_count": null,
      "outputs": []
    },
    {
      "cell_type": "code",
      "source": [
        "df_full_1 = df_full_1.drop(columns='КлиентДатаРождения')"
      ],
      "metadata": {
        "id": "AeR4AvrJrEzw"
      },
      "execution_count": null,
      "outputs": []
    },
    {
      "cell_type": "code",
      "source": [
        "df_full_1[\"ЗаключениеМК\"].unique ()"
      ],
      "metadata": {
        "colab": {
          "base_uri": "https://localhost:8080/"
        },
        "id": "3HSQX6FOmquz",
        "outputId": "e1440474-ed1c-497b-8f9a-82e18cc61f89"
      },
      "execution_count": null,
      "outputs": [
        {
          "output_type": "execute_result",
          "data": {
            "text/plain": [
              "array(['Годен', 'ГоденСКоррекциейЗрения', 'ГоденБезРаботНаВысотах',\n",
              "       'НуждаетсяВДообследованииИЛечении', 'ВременноНегоден',\n",
              "       'ОграниченноГоден', 'машинист бульдозера', 'Газоспасатель',\n",
              "       ' Газоспасатель'], dtype=object)"
            ]
          },
          "metadata": {},
          "execution_count": 22
        }
      ]
    },
    {
      "cell_type": "markdown",
      "source": [
        "**\"машинист бульдозера\", 'Газоспасатель', ' Газоспасатель' - явно лишние в заключении мед комиссии. **"
      ],
      "metadata": {
        "id": "H2bcQaCvKfYt"
      }
    },
    {
      "cell_type": "code",
      "source": [
        "new = df_full_1.loc[~df['ЗаключениеМК'].isin([\"машинист бульдозера\", 'Газоспасатель', ' Газоспасатель'])]"
      ],
      "metadata": {
        "id": "0eY9Gv97oBMr"
      },
      "execution_count": null,
      "outputs": []
    },
    {
      "cell_type": "code",
      "source": [
        "new[\"ЗаключениеМК\"].unique()"
      ],
      "metadata": {
        "colab": {
          "base_uri": "https://localhost:8080/"
        },
        "id": "YNUFtdsRnhE9",
        "outputId": "8ce75366-df92-46d7-9bd4-119620e1e436"
      },
      "execution_count": null,
      "outputs": [
        {
          "output_type": "execute_result",
          "data": {
            "text/plain": [
              "array(['Годен', 'ГоденСКоррекциейЗрения', 'ГоденБезРаботНаВысотах',\n",
              "       'НуждаетсяВДообследованииИЛечении', 'ВременноНегоден',\n",
              "       'ОграниченноГоден'], dtype=object)"
            ]
          },
          "metadata": {},
          "execution_count": 24
        }
      ]
    },
    {
      "cell_type": "markdown",
      "source": [
        "**Разделяю на 3 класса.**\n",
        "\n",
        "**0 = годен,**\n",
        "\n",
        "**1  =Ограниченно годен, НуждаетсяВДообследованииИЛечении и др.**\n",
        "\n",
        "**2 - ВременноНегоден**"
      ],
      "metadata": {
        "id": "DhE15FGirtvN"
      }
    },
    {
      "cell_type": "code",
      "source": [
        "new.loc[new['ЗаключениеМК'] == \"Годен\", 'ЗаключениеМК'] = 0\n",
        "new.loc[new['ЗаключениеМК'] == \"ГоденСКоррекциейЗрения\", 'ЗаключениеМК'] = 1\n",
        "new.loc[new['ЗаключениеМК'] == \"ГоденБезРаботНаВысотах\", 'ЗаключениеМК'] = 1\n",
        "new.loc[new['ЗаключениеМК'] == \"НуждаетсяВДообследованииИЛечении\", 'ЗаключениеМК'] = 1\n",
        "new.loc[new['ЗаключениеМК'] == \"ВременноНегоден\", 'ЗаключениеМК'] = 2\n",
        "new.loc[new['ЗаключениеМК'] == \"ОграниченноГоден\", 'ЗаключениеМК'] = 1"
      ],
      "metadata": {
        "id": "xluXOSpWlCiy"
      },
      "execution_count": null,
      "outputs": []
    },
    {
      "cell_type": "code",
      "source": [
        "# преобразуем коды МКБ\n",
        "list_of_alf=(list(\"ABCDEFGHIJKLMNOPQRSTUVWXYZ\"))\n",
        "list_of_alf"
      ],
      "metadata": {
        "colab": {
          "base_uri": "https://localhost:8080/"
        },
        "id": "4yGQkTwe554K",
        "outputId": "95687211-f2b2-4951-b408-f1d1cd0ce7ae"
      },
      "execution_count": null,
      "outputs": [
        {
          "output_type": "execute_result",
          "data": {
            "text/plain": [
              "['A',\n",
              " 'B',\n",
              " 'C',\n",
              " 'D',\n",
              " 'E',\n",
              " 'F',\n",
              " 'G',\n",
              " 'H',\n",
              " 'I',\n",
              " 'J',\n",
              " 'K',\n",
              " 'L',\n",
              " 'M',\n",
              " 'N',\n",
              " 'O',\n",
              " 'P',\n",
              " 'Q',\n",
              " 'R',\n",
              " 'S',\n",
              " 'T',\n",
              " 'U',\n",
              " 'V',\n",
              " 'W',\n",
              " 'X',\n",
              " 'Y',\n",
              " 'Z']"
            ]
          },
          "metadata": {},
          "execution_count": 26
        }
      ]
    },
    {
      "cell_type": "code",
      "source": [
        "for i in list_of_alf:\n",
        "  print(\"     new[i] = new[i].astype(str).str.replace(\",\"'\",i,\"',\",\"'\",\"0.\",25-list_of_alf.index(i)+1,\"'\",\")\", sep='')"
      ],
      "metadata": {
        "colab": {
          "base_uri": "https://localhost:8080/"
        },
        "id": "w8WDWda_53Qi",
        "outputId": "9db08ceb-fcf4-426d-947f-3cf9c4824365"
      },
      "execution_count": null,
      "outputs": [
        {
          "output_type": "stream",
          "name": "stdout",
          "text": [
            "     new[i] = new[i].astype(str).str.replace('A','0.26')\n",
            "     new[i] = new[i].astype(str).str.replace('B','0.25')\n",
            "     new[i] = new[i].astype(str).str.replace('C','0.24')\n",
            "     new[i] = new[i].astype(str).str.replace('D','0.23')\n",
            "     new[i] = new[i].astype(str).str.replace('E','0.22')\n",
            "     new[i] = new[i].astype(str).str.replace('F','0.21')\n",
            "     new[i] = new[i].astype(str).str.replace('G','0.20')\n",
            "     new[i] = new[i].astype(str).str.replace('H','0.19')\n",
            "     new[i] = new[i].astype(str).str.replace('I','0.18')\n",
            "     new[i] = new[i].astype(str).str.replace('J','0.17')\n",
            "     new[i] = new[i].astype(str).str.replace('K','0.16')\n",
            "     new[i] = new[i].astype(str).str.replace('L','0.15')\n",
            "     new[i] = new[i].astype(str).str.replace('M','0.14')\n",
            "     new[i] = new[i].astype(str).str.replace('N','0.13')\n",
            "     new[i] = new[i].astype(str).str.replace('O','0.12')\n",
            "     new[i] = new[i].astype(str).str.replace('P','0.11')\n",
            "     new[i] = new[i].astype(str).str.replace('Q','0.10')\n",
            "     new[i] = new[i].astype(str).str.replace('R','0.9')\n",
            "     new[i] = new[i].astype(str).str.replace('S','0.8')\n",
            "     new[i] = new[i].astype(str).str.replace('T','0.7')\n",
            "     new[i] = new[i].astype(str).str.replace('U','0.6')\n",
            "     new[i] = new[i].astype(str).str.replace('V','0.5')\n",
            "     new[i] = new[i].astype(str).str.replace('W','0.4')\n",
            "     new[i] = new[i].astype(str).str.replace('X','0.3')\n",
            "     new[i] = new[i].astype(str).str.replace('Y','0.2')\n",
            "     new[i] = new[i].astype(str).str.replace('Z','0.1')\n"
          ]
        }
      ]
    },
    {
      "cell_type": "code",
      "source": [
        "new2=new.copy()"
      ],
      "metadata": {
        "id": "e3zolbd42MBz"
      },
      "execution_count": null,
      "outputs": []
    },
    {
      "cell_type": "code",
      "source": [
        "new2.fillna(0, inplace=True)"
      ],
      "metadata": {
        "id": "kR9DEh8m4gvb"
      },
      "execution_count": null,
      "outputs": []
    },
    {
      "cell_type": "code",
      "source": [
        "new.fillna(0, inplace=True)"
      ],
      "metadata": {
        "colab": {
          "base_uri": "https://localhost:8080/"
        },
        "id": "QumoPKmaCava",
        "outputId": "a69b5e68-b444-4b0b-f0c3-3856bd0c6112"
      },
      "execution_count": null,
      "outputs": [
        {
          "output_type": "stream",
          "name": "stderr",
          "text": [
            "<ipython-input-30-8cba954ed67a>:1: SettingWithCopyWarning: \n",
            "A value is trying to be set on a copy of a slice from a DataFrame\n",
            "\n",
            "See the caveats in the documentation: https://pandas.pydata.org/pandas-docs/stable/user_guide/indexing.html#returning-a-view-versus-a-copy\n",
            "  new.fillna(0, inplace=True)\n"
          ]
        }
      ]
    },
    {
      "cell_type": "code",
      "source": [
        "for i in df_list_1:\n",
        "  new[i] = new[i].astype(str).str.replace('.','')"
      ],
      "metadata": {
        "colab": {
          "base_uri": "https://localhost:8080/"
        },
        "id": "onIhFnHWCePl",
        "outputId": "3cf5c415-0076-41a6-847c-b7ee796a883d"
      },
      "execution_count": null,
      "outputs": [
        {
          "output_type": "stream",
          "name": "stderr",
          "text": [
            "<ipython-input-31-7b0ed68127fe>:2: FutureWarning: The default value of regex will change from True to False in a future version. In addition, single character regular expressions will *not* be treated as literal strings when regex=True.\n",
            "  new[i] = new[i].astype(str).str.replace('.','')\n",
            "<ipython-input-31-7b0ed68127fe>:2: SettingWithCopyWarning: \n",
            "A value is trying to be set on a copy of a slice from a DataFrame.\n",
            "Try using .loc[row_indexer,col_indexer] = value instead\n",
            "\n",
            "See the caveats in the documentation: https://pandas.pydata.org/pandas-docs/stable/user_guide/indexing.html#returning-a-view-versus-a-copy\n",
            "  new[i] = new[i].astype(str).str.replace('.','')\n"
          ]
        }
      ]
    },
    {
      "cell_type": "code",
      "source": [
        "new=new.drop(columns=\"ДиспансернаяГруппа\")"
      ],
      "metadata": {
        "id": "IbAemqZ5Ezqe"
      },
      "execution_count": null,
      "outputs": []
    },
    {
      "cell_type": "code",
      "source": [
        "for i in new:\n",
        "     new[i] = new[i].astype(str).str.replace('A','0.26')\n",
        "     new[i] = new[i].astype(str).str.replace('B','0.25')\n",
        "     new[i] = new[i].astype(str).str.replace('C','0.24')\n",
        "     new[i] = new[i].astype(str).str.replace('D','0.23')\n",
        "     new[i] = new[i].astype(str).str.replace('E','0.22')\n",
        "     new[i] = new[i].astype(str).str.replace('F','0.21')\n",
        "     new[i] = new[i].astype(str).str.replace('G','0.20')\n",
        "     new[i] = new[i].astype(str).str.replace('H','0.19')\n",
        "     new[i] = new[i].astype(str).str.replace('I','0.18')\n",
        "     new[i] = new[i].astype(str).str.replace('J','0.17')\n",
        "     new[i] = new[i].astype(str).str.replace('K','0.16')\n",
        "     new[i] = new[i].astype(str).str.replace('L','0.15')\n",
        "     new[i] = new[i].astype(str).str.replace('M','0.14')\n",
        "     new[i] = new[i].astype(str).str.replace('N','0.13')\n",
        "     new[i] = new[i].astype(str).str.replace('O','0.12')\n",
        "     new[i] = new[i].astype(str).str.replace('P','0.11')\n",
        "     new[i] = new[i].astype(str).str.replace('Q','0.10')\n",
        "     new[i] = new[i].astype(str).str.replace('R','0.9')\n",
        "     new[i] = new[i].astype(str).str.replace('S','0.8')\n",
        "     new[i] = new[i].astype(str).str.replace('T','0.7')\n",
        "     new[i] = new[i].astype(str).str.replace('U','0.6')\n",
        "     new[i] = new[i].astype(str).str.replace('V','0.5')\n",
        "     new[i] = new[i].astype(str).str.replace('W','0.4')\n",
        "     new[i] = new[i].astype(str).str.replace('X','0.3')\n",
        "     new[i] = new[i].astype(str).str.replace('Y','0.2')\n",
        "     new[i] = new[i].astype(str).str.replace('Z','0.1')"
      ],
      "metadata": {
        "id": "nKXO-qckVoJt"
      },
      "execution_count": null,
      "outputs": []
    },
    {
      "cell_type": "code",
      "source": [
        "type(new[\"ПсихиатрияНаркология1_МКБ101\"][0])"
      ],
      "metadata": {
        "colab": {
          "base_uri": "https://localhost:8080/"
        },
        "id": "7eprxWSiEUxo",
        "outputId": "2b8f314c-c026-4be9-e704-2a4b3ec4195a"
      },
      "execution_count": null,
      "outputs": [
        {
          "output_type": "execute_result",
          "data": {
            "text/plain": [
              "str"
            ]
          },
          "metadata": {},
          "execution_count": 34
        }
      ]
    },
    {
      "cell_type": "markdown",
      "source": [
        "_____________________________"
      ],
      "metadata": {
        "id": "z0SHCQIvFTIM"
      }
    },
    {
      "cell_type": "code",
      "source": [
        "new['СписокВредныхФакторов'] = new['ВредныеФакторы'].apply(lambda x: x.replace('.', 'x'))"
      ],
      "metadata": {
        "id": "lncdc8vZWHAl"
      },
      "execution_count": null,
      "outputs": []
    },
    {
      "cell_type": "code",
      "source": [
        "new=new.drop(columns=\"ВредныеФакторы\")"
      ],
      "metadata": {
        "id": "K3-P9ntyX0Og"
      },
      "execution_count": null,
      "outputs": []
    },
    {
      "cell_type": "code",
      "source": [
        "new"
      ],
      "metadata": {
        "colab": {
          "base_uri": "https://localhost:8080/",
          "height": 696
        },
        "id": "z7VpzA4irzde",
        "outputId": "22e30986-7f22-4622-a2dd-88bf93644e55"
      },
      "execution_count": null,
      "outputs": [
        {
          "output_type": "execute_result",
          "data": {
            "text/plain": [
              "     КлиентПол                                          Профессия  \\\n",
              "0            0          Ведущий специалист по организации обуения   \n",
              "1            1                                 Ведущий специалист   \n",
              "2            1                                   Главный менеджер   \n",
              "3            1                                 Главный специалист   \n",
              "4            1                                 Старший специалист   \n",
              "...        ...                                                ...   \n",
              "1961         1                                            Инженер   \n",
              "1962         1                              Начальник лаборатории   \n",
              "1972         1  Инженер по бурению 1 категории, непосредственн...   \n",
              "1973         1                           Приемщик вагонов в депо    \n",
              "1981         1                                       Анестезиолог   \n",
              "\n",
              "     ЗаключениеМК ПсихиатрияНаркология1_МКБ101 Офтальмология1_МКБ101  \\\n",
              "0               0                       0.1000                0.1000   \n",
              "1               0                       0.1000                0.1000   \n",
              "2               1                       0.1000               0.19521   \n",
              "3               0                            0                0.1000   \n",
              "4               1                            0               0.19522   \n",
              "...           ...                          ...                   ...   \n",
              "1961            0                       0.1000                0.1000   \n",
              "1962            0                       0.1000                     0   \n",
              "1972            0                       0.1000                0.1000   \n",
              "1973            0                       0.1000                0.1000   \n",
              "1981            0                       0.1000                     0   \n",
              "\n",
              "     Оториноларингология1_МКБ101 ХирургНеИсп1_МКБ101 Гинекология1_МКБ101  \\\n",
              "0                         0.1000              0.1000              0.1000   \n",
              "1                              0                   0                   0   \n",
              "2                              0                   0                   0   \n",
              "3                         0.1000              0.1000                   0   \n",
              "4                         0.1000                   0                   0   \n",
              "...                          ...                 ...                 ...   \n",
              "1961                      0.1000                   0                   0   \n",
              "1962                      0.1000                   0                   0   \n",
              "1972                      0.1000                   0                   0   \n",
              "1973                      0.1000                   0                   0   \n",
              "1981                      0.1000                   0                   0   \n",
              "\n",
              "     Стоматология1_МКБ101 Дерматовенерология1_МКБ101  ... Психиатрия2_МКБ102  \\\n",
              "0                  0.1000                          0  ...                  0   \n",
              "1                       0                     0.1000  ...                  0   \n",
              "2                       0                     0.1000  ...                  0   \n",
              "3                  0.1000                          0  ...                  0   \n",
              "4                  0.1000                          0  ...                  0   \n",
              "...                   ...                        ...  ...                ...   \n",
              "1961                    0                          0  ...                  0   \n",
              "1962                    0                          0  ...                  0   \n",
              "1972                    0                          0  ...                  0   \n",
              "1973                    0                          0  ...                  0   \n",
              "1981               0.1000                          0  ...                  0   \n",
              "\n",
              "     Рентгенология1_МКБ102 Рентгенология2_МКБ102 Психиатрия3_МКБ101  \\\n",
              "0                        0                     0                  0   \n",
              "1                        0                     0                  0   \n",
              "2                        0                     0                  0   \n",
              "3                        0                     0                  0   \n",
              "4                        0                     0                  0   \n",
              "...                    ...                   ...                ...   \n",
              "1961                     0                     0                  0   \n",
              "1962                     0                     0                  0   \n",
              "1972                     0                     0                  0   \n",
              "1973                     0                     0                  0   \n",
              "1981                     0                     0                  0   \n",
              "\n",
              "     Психиатрия3_МКБ102 Психиатрия4_МКБ101 Психиатрия4_МКБ102  \\\n",
              "0                     0                  0                  0   \n",
              "1                     0                  0                  0   \n",
              "2                     0                  0                  0   \n",
              "3                     0                  0                  0   \n",
              "4                     0                  0                  0   \n",
              "...                 ...                ...                ...   \n",
              "1961                  0                  0                  0   \n",
              "1962                  0                  0                  0   \n",
              "1972                  0                  0                  0   \n",
              "1973                  0                  0                  0   \n",
              "1981                  0                  0                  0   \n",
              "\n",
              "     Оториноларингология3_МКБ101 ВозрастКатегория СписокВредныхФакторов  \n",
              "0                              0                6                  11x4  \n",
              "1                              0                4                 4x2x5  \n",
              "2                              0                4                 4x2x5  \n",
              "3                              0                4                  11x1  \n",
              "4                              0                5                  11x1  \n",
              "...                          ...              ...                   ...  \n",
              "1961                           0                3           4x4,4x5,6x1  \n",
              "1962                           0                4                   4x4  \n",
              "1972                           0                4               3x1x8x2  \n",
              "1973                           0                3             4x2x5,6x1  \n",
              "1981                           0                7                    27  \n",
              "\n",
              "[1571 rows x 97 columns]"
            ],
            "text/html": [
              "\n",
              "  <div id=\"df-5caaaa70-2e41-4f9a-96e1-9ea44ef7085d\">\n",
              "    <div class=\"colab-df-container\">\n",
              "      <div>\n",
              "<style scoped>\n",
              "    .dataframe tbody tr th:only-of-type {\n",
              "        vertical-align: middle;\n",
              "    }\n",
              "\n",
              "    .dataframe tbody tr th {\n",
              "        vertical-align: top;\n",
              "    }\n",
              "\n",
              "    .dataframe thead th {\n",
              "        text-align: right;\n",
              "    }\n",
              "</style>\n",
              "<table border=\"1\" class=\"dataframe\">\n",
              "  <thead>\n",
              "    <tr style=\"text-align: right;\">\n",
              "      <th></th>\n",
              "      <th>КлиентПол</th>\n",
              "      <th>Профессия</th>\n",
              "      <th>ЗаключениеМК</th>\n",
              "      <th>ПсихиатрияНаркология1_МКБ101</th>\n",
              "      <th>Офтальмология1_МКБ101</th>\n",
              "      <th>Оториноларингология1_МКБ101</th>\n",
              "      <th>ХирургНеИсп1_МКБ101</th>\n",
              "      <th>Гинекология1_МКБ101</th>\n",
              "      <th>Стоматология1_МКБ101</th>\n",
              "      <th>Дерматовенерология1_МКБ101</th>\n",
              "      <th>...</th>\n",
              "      <th>Психиатрия2_МКБ102</th>\n",
              "      <th>Рентгенология1_МКБ102</th>\n",
              "      <th>Рентгенология2_МКБ102</th>\n",
              "      <th>Психиатрия3_МКБ101</th>\n",
              "      <th>Психиатрия3_МКБ102</th>\n",
              "      <th>Психиатрия4_МКБ101</th>\n",
              "      <th>Психиатрия4_МКБ102</th>\n",
              "      <th>Оториноларингология3_МКБ101</th>\n",
              "      <th>ВозрастКатегория</th>\n",
              "      <th>СписокВредныхФакторов</th>\n",
              "    </tr>\n",
              "  </thead>\n",
              "  <tbody>\n",
              "    <tr>\n",
              "      <th>0</th>\n",
              "      <td>0</td>\n",
              "      <td>Ведущий специалист по организации обуения</td>\n",
              "      <td>0</td>\n",
              "      <td>0.1000</td>\n",
              "      <td>0.1000</td>\n",
              "      <td>0.1000</td>\n",
              "      <td>0.1000</td>\n",
              "      <td>0.1000</td>\n",
              "      <td>0.1000</td>\n",
              "      <td>0</td>\n",
              "      <td>...</td>\n",
              "      <td>0</td>\n",
              "      <td>0</td>\n",
              "      <td>0</td>\n",
              "      <td>0</td>\n",
              "      <td>0</td>\n",
              "      <td>0</td>\n",
              "      <td>0</td>\n",
              "      <td>0</td>\n",
              "      <td>6</td>\n",
              "      <td>11x4</td>\n",
              "    </tr>\n",
              "    <tr>\n",
              "      <th>1</th>\n",
              "      <td>1</td>\n",
              "      <td>Ведущий специалист</td>\n",
              "      <td>0</td>\n",
              "      <td>0.1000</td>\n",
              "      <td>0.1000</td>\n",
              "      <td>0</td>\n",
              "      <td>0</td>\n",
              "      <td>0</td>\n",
              "      <td>0</td>\n",
              "      <td>0.1000</td>\n",
              "      <td>...</td>\n",
              "      <td>0</td>\n",
              "      <td>0</td>\n",
              "      <td>0</td>\n",
              "      <td>0</td>\n",
              "      <td>0</td>\n",
              "      <td>0</td>\n",
              "      <td>0</td>\n",
              "      <td>0</td>\n",
              "      <td>4</td>\n",
              "      <td>4x2x5</td>\n",
              "    </tr>\n",
              "    <tr>\n",
              "      <th>2</th>\n",
              "      <td>1</td>\n",
              "      <td>Главный менеджер</td>\n",
              "      <td>1</td>\n",
              "      <td>0.1000</td>\n",
              "      <td>0.19521</td>\n",
              "      <td>0</td>\n",
              "      <td>0</td>\n",
              "      <td>0</td>\n",
              "      <td>0</td>\n",
              "      <td>0.1000</td>\n",
              "      <td>...</td>\n",
              "      <td>0</td>\n",
              "      <td>0</td>\n",
              "      <td>0</td>\n",
              "      <td>0</td>\n",
              "      <td>0</td>\n",
              "      <td>0</td>\n",
              "      <td>0</td>\n",
              "      <td>0</td>\n",
              "      <td>4</td>\n",
              "      <td>4x2x5</td>\n",
              "    </tr>\n",
              "    <tr>\n",
              "      <th>3</th>\n",
              "      <td>1</td>\n",
              "      <td>Главный специалист</td>\n",
              "      <td>0</td>\n",
              "      <td>0</td>\n",
              "      <td>0.1000</td>\n",
              "      <td>0.1000</td>\n",
              "      <td>0.1000</td>\n",
              "      <td>0</td>\n",
              "      <td>0.1000</td>\n",
              "      <td>0</td>\n",
              "      <td>...</td>\n",
              "      <td>0</td>\n",
              "      <td>0</td>\n",
              "      <td>0</td>\n",
              "      <td>0</td>\n",
              "      <td>0</td>\n",
              "      <td>0</td>\n",
              "      <td>0</td>\n",
              "      <td>0</td>\n",
              "      <td>4</td>\n",
              "      <td>11x1</td>\n",
              "    </tr>\n",
              "    <tr>\n",
              "      <th>4</th>\n",
              "      <td>1</td>\n",
              "      <td>Старший специалист</td>\n",
              "      <td>1</td>\n",
              "      <td>0</td>\n",
              "      <td>0.19522</td>\n",
              "      <td>0.1000</td>\n",
              "      <td>0</td>\n",
              "      <td>0</td>\n",
              "      <td>0.1000</td>\n",
              "      <td>0</td>\n",
              "      <td>...</td>\n",
              "      <td>0</td>\n",
              "      <td>0</td>\n",
              "      <td>0</td>\n",
              "      <td>0</td>\n",
              "      <td>0</td>\n",
              "      <td>0</td>\n",
              "      <td>0</td>\n",
              "      <td>0</td>\n",
              "      <td>5</td>\n",
              "      <td>11x1</td>\n",
              "    </tr>\n",
              "    <tr>\n",
              "      <th>...</th>\n",
              "      <td>...</td>\n",
              "      <td>...</td>\n",
              "      <td>...</td>\n",
              "      <td>...</td>\n",
              "      <td>...</td>\n",
              "      <td>...</td>\n",
              "      <td>...</td>\n",
              "      <td>...</td>\n",
              "      <td>...</td>\n",
              "      <td>...</td>\n",
              "      <td>...</td>\n",
              "      <td>...</td>\n",
              "      <td>...</td>\n",
              "      <td>...</td>\n",
              "      <td>...</td>\n",
              "      <td>...</td>\n",
              "      <td>...</td>\n",
              "      <td>...</td>\n",
              "      <td>...</td>\n",
              "      <td>...</td>\n",
              "      <td>...</td>\n",
              "    </tr>\n",
              "    <tr>\n",
              "      <th>1961</th>\n",
              "      <td>1</td>\n",
              "      <td>Инженер</td>\n",
              "      <td>0</td>\n",
              "      <td>0.1000</td>\n",
              "      <td>0.1000</td>\n",
              "      <td>0.1000</td>\n",
              "      <td>0</td>\n",
              "      <td>0</td>\n",
              "      <td>0</td>\n",
              "      <td>0</td>\n",
              "      <td>...</td>\n",
              "      <td>0</td>\n",
              "      <td>0</td>\n",
              "      <td>0</td>\n",
              "      <td>0</td>\n",
              "      <td>0</td>\n",
              "      <td>0</td>\n",
              "      <td>0</td>\n",
              "      <td>0</td>\n",
              "      <td>3</td>\n",
              "      <td>4x4,4x5,6x1</td>\n",
              "    </tr>\n",
              "    <tr>\n",
              "      <th>1962</th>\n",
              "      <td>1</td>\n",
              "      <td>Начальник лаборатории</td>\n",
              "      <td>0</td>\n",
              "      <td>0.1000</td>\n",
              "      <td>0</td>\n",
              "      <td>0.1000</td>\n",
              "      <td>0</td>\n",
              "      <td>0</td>\n",
              "      <td>0</td>\n",
              "      <td>0</td>\n",
              "      <td>...</td>\n",
              "      <td>0</td>\n",
              "      <td>0</td>\n",
              "      <td>0</td>\n",
              "      <td>0</td>\n",
              "      <td>0</td>\n",
              "      <td>0</td>\n",
              "      <td>0</td>\n",
              "      <td>0</td>\n",
              "      <td>4</td>\n",
              "      <td>4x4</td>\n",
              "    </tr>\n",
              "    <tr>\n",
              "      <th>1972</th>\n",
              "      <td>1</td>\n",
              "      <td>Инженер по бурению 1 категории, непосредственн...</td>\n",
              "      <td>0</td>\n",
              "      <td>0.1000</td>\n",
              "      <td>0.1000</td>\n",
              "      <td>0.1000</td>\n",
              "      <td>0</td>\n",
              "      <td>0</td>\n",
              "      <td>0</td>\n",
              "      <td>0</td>\n",
              "      <td>...</td>\n",
              "      <td>0</td>\n",
              "      <td>0</td>\n",
              "      <td>0</td>\n",
              "      <td>0</td>\n",
              "      <td>0</td>\n",
              "      <td>0</td>\n",
              "      <td>0</td>\n",
              "      <td>0</td>\n",
              "      <td>4</td>\n",
              "      <td>3x1x8x2</td>\n",
              "    </tr>\n",
              "    <tr>\n",
              "      <th>1973</th>\n",
              "      <td>1</td>\n",
              "      <td>Приемщик вагонов в депо</td>\n",
              "      <td>0</td>\n",
              "      <td>0.1000</td>\n",
              "      <td>0.1000</td>\n",
              "      <td>0.1000</td>\n",
              "      <td>0</td>\n",
              "      <td>0</td>\n",
              "      <td>0</td>\n",
              "      <td>0</td>\n",
              "      <td>...</td>\n",
              "      <td>0</td>\n",
              "      <td>0</td>\n",
              "      <td>0</td>\n",
              "      <td>0</td>\n",
              "      <td>0</td>\n",
              "      <td>0</td>\n",
              "      <td>0</td>\n",
              "      <td>0</td>\n",
              "      <td>3</td>\n",
              "      <td>4x2x5,6x1</td>\n",
              "    </tr>\n",
              "    <tr>\n",
              "      <th>1981</th>\n",
              "      <td>1</td>\n",
              "      <td>Анестезиолог</td>\n",
              "      <td>0</td>\n",
              "      <td>0.1000</td>\n",
              "      <td>0</td>\n",
              "      <td>0.1000</td>\n",
              "      <td>0</td>\n",
              "      <td>0</td>\n",
              "      <td>0.1000</td>\n",
              "      <td>0</td>\n",
              "      <td>...</td>\n",
              "      <td>0</td>\n",
              "      <td>0</td>\n",
              "      <td>0</td>\n",
              "      <td>0</td>\n",
              "      <td>0</td>\n",
              "      <td>0</td>\n",
              "      <td>0</td>\n",
              "      <td>0</td>\n",
              "      <td>7</td>\n",
              "      <td>27</td>\n",
              "    </tr>\n",
              "  </tbody>\n",
              "</table>\n",
              "<p>1571 rows × 97 columns</p>\n",
              "</div>\n",
              "      <button class=\"colab-df-convert\" onclick=\"convertToInteractive('df-5caaaa70-2e41-4f9a-96e1-9ea44ef7085d')\"\n",
              "              title=\"Convert this dataframe to an interactive table.\"\n",
              "              style=\"display:none;\">\n",
              "        \n",
              "  <svg xmlns=\"http://www.w3.org/2000/svg\" height=\"24px\"viewBox=\"0 0 24 24\"\n",
              "       width=\"24px\">\n",
              "    <path d=\"M0 0h24v24H0V0z\" fill=\"none\"/>\n",
              "    <path d=\"M18.56 5.44l.94 2.06.94-2.06 2.06-.94-2.06-.94-.94-2.06-.94 2.06-2.06.94zm-11 1L8.5 8.5l.94-2.06 2.06-.94-2.06-.94L8.5 2.5l-.94 2.06-2.06.94zm10 10l.94 2.06.94-2.06 2.06-.94-2.06-.94-.94-2.06-.94 2.06-2.06.94z\"/><path d=\"M17.41 7.96l-1.37-1.37c-.4-.4-.92-.59-1.43-.59-.52 0-1.04.2-1.43.59L10.3 9.45l-7.72 7.72c-.78.78-.78 2.05 0 2.83L4 21.41c.39.39.9.59 1.41.59.51 0 1.02-.2 1.41-.59l7.78-7.78 2.81-2.81c.8-.78.8-2.07 0-2.86zM5.41 20L4 18.59l7.72-7.72 1.47 1.35L5.41 20z\"/>\n",
              "  </svg>\n",
              "      </button>\n",
              "      \n",
              "  <style>\n",
              "    .colab-df-container {\n",
              "      display:flex;\n",
              "      flex-wrap:wrap;\n",
              "      gap: 12px;\n",
              "    }\n",
              "\n",
              "    .colab-df-convert {\n",
              "      background-color: #E8F0FE;\n",
              "      border: none;\n",
              "      border-radius: 50%;\n",
              "      cursor: pointer;\n",
              "      display: none;\n",
              "      fill: #1967D2;\n",
              "      height: 32px;\n",
              "      padding: 0 0 0 0;\n",
              "      width: 32px;\n",
              "    }\n",
              "\n",
              "    .colab-df-convert:hover {\n",
              "      background-color: #E2EBFA;\n",
              "      box-shadow: 0px 1px 2px rgba(60, 64, 67, 0.3), 0px 1px 3px 1px rgba(60, 64, 67, 0.15);\n",
              "      fill: #174EA6;\n",
              "    }\n",
              "\n",
              "    [theme=dark] .colab-df-convert {\n",
              "      background-color: #3B4455;\n",
              "      fill: #D2E3FC;\n",
              "    }\n",
              "\n",
              "    [theme=dark] .colab-df-convert:hover {\n",
              "      background-color: #434B5C;\n",
              "      box-shadow: 0px 1px 3px 1px rgba(0, 0, 0, 0.15);\n",
              "      filter: drop-shadow(0px 1px 2px rgba(0, 0, 0, 0.3));\n",
              "      fill: #FFFFFF;\n",
              "    }\n",
              "  </style>\n",
              "\n",
              "      <script>\n",
              "        const buttonEl =\n",
              "          document.querySelector('#df-5caaaa70-2e41-4f9a-96e1-9ea44ef7085d button.colab-df-convert');\n",
              "        buttonEl.style.display =\n",
              "          google.colab.kernel.accessAllowed ? 'block' : 'none';\n",
              "\n",
              "        async function convertToInteractive(key) {\n",
              "          const element = document.querySelector('#df-5caaaa70-2e41-4f9a-96e1-9ea44ef7085d');\n",
              "          const dataTable =\n",
              "            await google.colab.kernel.invokeFunction('convertToInteractive',\n",
              "                                                     [key], {});\n",
              "          if (!dataTable) return;\n",
              "\n",
              "          const docLinkHtml = 'Like what you see? Visit the ' +\n",
              "            '<a target=\"_blank\" href=https://colab.research.google.com/notebooks/data_table.ipynb>data table notebook</a>'\n",
              "            + ' to learn more about interactive tables.';\n",
              "          element.innerHTML = '';\n",
              "          dataTable['output_type'] = 'display_data';\n",
              "          await google.colab.output.renderOutput(dataTable, element);\n",
              "          const docLink = document.createElement('div');\n",
              "          docLink.innerHTML = docLinkHtml;\n",
              "          element.appendChild(docLink);\n",
              "        }\n",
              "      </script>\n",
              "    </div>\n",
              "  </div>\n",
              "  "
            ]
          },
          "metadata": {},
          "execution_count": 37
        }
      ]
    },
    {
      "cell_type": "markdown",
      "source": [
        "_____________________________"
      ],
      "metadata": {
        "id": "d71mkKSkFReO"
      }
    },
    {
      "cell_type": "markdown",
      "source": [
        "# **Токенезируем строковые данные**"
      ],
      "metadata": {
        "id": "jIXx9dvxCzZL"
      }
    },
    {
      "cell_type": "markdown",
      "source": [
        "Поработаем с текстовым диагнозом\n",
        "\n",
        "Создадим единую колоку содержащую все диагнозы всех специалистов для каждого отдельного случая (пациента-клиента)"
      ],
      "metadata": {
        "id": "NcQM4USdyot_"
      }
    },
    {
      "cell_type": "code",
      "source": [
        "for i in df_list_di:\n",
        "  print(i)"
      ],
      "metadata": {
        "colab": {
          "base_uri": "https://localhost:8080/"
        },
        "id": "jsK_WovPz4Op",
        "outputId": "a6d1fe9b-c43f-4293-f3aa-8cb2fffe0170"
      },
      "execution_count": null,
      "outputs": [
        {
          "output_type": "stream",
          "name": "stdout",
          "text": [
            "ПсихиатрияНаркология1_Диагноз_ЗначениеПредставление\n",
            "Офтальмология1_Диагноз_ЗначениеПредставление\n",
            "Оториноларингология1_Диагноз_ЗначениеПредставление\n",
            "ХирургНеИсп1_Диагноз_ЗначениеПредставление\n",
            "Гинекология1_Диагноз_ЗначениеПредставление\n",
            "Стоматология1_Диагноз_ЗначениеПредставление\n",
            "Дерматовенерология1_Диагноз_ЗначениеПредставление\n",
            "Неврология1_Диагноз_ЗначениеПредставление\n",
            "Хирургия1_Диагноз_ЗначениеПредставление\n",
            "Неврология2_Диагноз_ЗначениеПредставление\n",
            "ПсихиатрияНаркология2_Диагноз_ЗначениеПредставление\n",
            "Психиатрия1_Диагноз_ЗначениеПредставление\n",
            "Гинекология2_Диагноз_ЗначениеПредставление\n",
            "Хирургия2_Диагноз_ЗначениеПредставление\n",
            "Стоматология2_Диагноз_ЗначениеПредставление\n",
            "Оториноларингология2_Диагноз_ЗначениеПредставление\n",
            "Дерматовенерология2_Диагноз_ЗначениеПредставление\n",
            "Терапия2_Диагноз_ЗначениеПредставление\n",
            "Офтальмология2_Диагноз_ЗначениеПредставление\n",
            "Терапия3_Диагноз_ЗначениеПредставление\n",
            "Терапия4_Диагноз_ЗначениеПредставление\n",
            "Терапия1_Диагноз_ЗначениеПредставление\n",
            "Хирургия3_Диагноз_ЗначениеПредставление\n",
            "Гинекология3_Диагноз_ЗначениеПредставление\n",
            "Гинекология4_Диагноз_ЗначениеПредставление\n",
            "ТерапевтНеИсп1_Диагноз_ЗначениеПредставление\n",
            "ХирургНеИсп2_Диагноз_ЗначениеПредставление\n",
            "Психиатрия2_Диагноз_ЗначениеПредставление\n",
            "Психиатрия3_Диагноз_ЗначениеПредставление\n",
            "Психиатрия4_Диагноз_ЗначениеПредставление\n",
            "Оториноларингология3_Диагноз_ЗначениеПредставление\n"
          ]
        }
      ]
    },
    {
      "cell_type": "code",
      "source": [
        "df3 =df_2[df_list_di]"
      ],
      "metadata": {
        "id": "qhAztpax_lXQ"
      },
      "execution_count": null,
      "outputs": []
    },
    {
      "cell_type": "code",
      "source": [
        "df3.fillna(0, inplace=True)"
      ],
      "metadata": {
        "colab": {
          "base_uri": "https://localhost:8080/"
        },
        "id": "0q2ehJjxKHiq",
        "outputId": "f6e15445-3d43-4716-c13b-0292df01953e"
      },
      "execution_count": null,
      "outputs": [
        {
          "output_type": "stream",
          "name": "stderr",
          "text": [
            "<ipython-input-40-88c9cf2d6b5d>:1: SettingWithCopyWarning: \n",
            "A value is trying to be set on a copy of a slice from a DataFrame\n",
            "\n",
            "See the caveats in the documentation: https://pandas.pydata.org/pandas-docs/stable/user_guide/indexing.html#returning-a-view-versus-a-copy\n",
            "  df3.fillna(0, inplace=True)\n"
          ]
        }
      ]
    },
    {
      "cell_type": "code",
      "source": [
        "for i in df_list_di:\n",
        "  print(\" + df3[\",\"'\",i,\"'\",\"].map(str)+\",\"'\",\",\",\"'\", sep='')"
      ],
      "metadata": {
        "colab": {
          "base_uri": "https://localhost:8080/"
        },
        "id": "aR5hNOu7zPqv",
        "outputId": "a22e9a0b-9954-407f-a52a-b5b5f19a62cd"
      },
      "execution_count": null,
      "outputs": [
        {
          "output_type": "stream",
          "name": "stdout",
          "text": [
            " + df3['ПсихиатрияНаркология1_Диагноз_ЗначениеПредставление'].map(str)+','\n",
            " + df3['Офтальмология1_Диагноз_ЗначениеПредставление'].map(str)+','\n",
            " + df3['Оториноларингология1_Диагноз_ЗначениеПредставление'].map(str)+','\n",
            " + df3['ХирургНеИсп1_Диагноз_ЗначениеПредставление'].map(str)+','\n",
            " + df3['Гинекология1_Диагноз_ЗначениеПредставление'].map(str)+','\n",
            " + df3['Стоматология1_Диагноз_ЗначениеПредставление'].map(str)+','\n",
            " + df3['Дерматовенерология1_Диагноз_ЗначениеПредставление'].map(str)+','\n",
            " + df3['Неврология1_Диагноз_ЗначениеПредставление'].map(str)+','\n",
            " + df3['Хирургия1_Диагноз_ЗначениеПредставление'].map(str)+','\n",
            " + df3['Неврология2_Диагноз_ЗначениеПредставление'].map(str)+','\n",
            " + df3['ПсихиатрияНаркология2_Диагноз_ЗначениеПредставление'].map(str)+','\n",
            " + df3['Психиатрия1_Диагноз_ЗначениеПредставление'].map(str)+','\n",
            " + df3['Гинекология2_Диагноз_ЗначениеПредставление'].map(str)+','\n",
            " + df3['Хирургия2_Диагноз_ЗначениеПредставление'].map(str)+','\n",
            " + df3['Стоматология2_Диагноз_ЗначениеПредставление'].map(str)+','\n",
            " + df3['Оториноларингология2_Диагноз_ЗначениеПредставление'].map(str)+','\n",
            " + df3['Дерматовенерология2_Диагноз_ЗначениеПредставление'].map(str)+','\n",
            " + df3['Терапия2_Диагноз_ЗначениеПредставление'].map(str)+','\n",
            " + df3['Офтальмология2_Диагноз_ЗначениеПредставление'].map(str)+','\n",
            " + df3['Терапия3_Диагноз_ЗначениеПредставление'].map(str)+','\n",
            " + df3['Терапия4_Диагноз_ЗначениеПредставление'].map(str)+','\n",
            " + df3['Терапия1_Диагноз_ЗначениеПредставление'].map(str)+','\n",
            " + df3['Хирургия3_Диагноз_ЗначениеПредставление'].map(str)+','\n",
            " + df3['Гинекология3_Диагноз_ЗначениеПредставление'].map(str)+','\n",
            " + df3['Гинекология4_Диагноз_ЗначениеПредставление'].map(str)+','\n",
            " + df3['ТерапевтНеИсп1_Диагноз_ЗначениеПредставление'].map(str)+','\n",
            " + df3['ХирургНеИсп2_Диагноз_ЗначениеПредставление'].map(str)+','\n",
            " + df3['Психиатрия2_Диагноз_ЗначениеПредставление'].map(str)+','\n",
            " + df3['Психиатрия3_Диагноз_ЗначениеПредставление'].map(str)+','\n",
            " + df3['Психиатрия4_Диагноз_ЗначениеПредставление'].map(str)+','\n",
            " + df3['Оториноларингология3_Диагноз_ЗначениеПредставление'].map(str)+','\n"
          ]
        }
      ]
    },
    {
      "cell_type": "code",
      "source": [
        "new['все_диагнозы'] = (df3['ПсихиатрияНаркология1_Диагноз_ЗначениеПредставление'].map(str)+','\n",
        " + df3['Офтальмология1_Диагноз_ЗначениеПредставление'].map(str)+','\n",
        " + df3['Оториноларингология1_Диагноз_ЗначениеПредставление'].map(str)+','\n",
        " + df3['ХирургНеИсп1_Диагноз_ЗначениеПредставление'].map(str)+','\n",
        " + df3['Гинекология1_Диагноз_ЗначениеПредставление'].map(str)+','\n",
        " + df3['Стоматология1_Диагноз_ЗначениеПредставление'].map(str)+','\n",
        " + df3['Дерматовенерология1_Диагноз_ЗначениеПредставление'].map(str)+','\n",
        " + df3['Неврология1_Диагноз_ЗначениеПредставление'].map(str)+','\n",
        " + df3['Хирургия1_Диагноз_ЗначениеПредставление'].map(str)+','\n",
        " + df3['Неврология2_Диагноз_ЗначениеПредставление'].map(str)+','\n",
        " + df3['ПсихиатрияНаркология2_Диагноз_ЗначениеПредставление'].map(str)+','\n",
        " + df3['Психиатрия1_Диагноз_ЗначениеПредставление'].map(str)+','\n",
        " + df3['Гинекология2_Диагноз_ЗначениеПредставление'].map(str)+','\n",
        " + df3['Хирургия2_Диагноз_ЗначениеПредставление'].map(str)+','\n",
        " + df3['Стоматология2_Диагноз_ЗначениеПредставление'].map(str)+','\n",
        " + df3['Оториноларингология2_Диагноз_ЗначениеПредставление'].map(str)+','\n",
        " + df3['Дерматовенерология2_Диагноз_ЗначениеПредставление'].map(str)+','\n",
        " + df3['Терапия2_Диагноз_ЗначениеПредставление'].map(str)+','\n",
        " + df3['Офтальмология2_Диагноз_ЗначениеПредставление'].map(str)+','\n",
        " + df3['Терапия3_Диагноз_ЗначениеПредставление'].map(str)+','\n",
        " + df3['Терапия4_Диагноз_ЗначениеПредставление'].map(str)+','\n",
        " + df3['Терапия1_Диагноз_ЗначениеПредставление'].map(str)+','\n",
        " + df3['Хирургия3_Диагноз_ЗначениеПредставление'].map(str)+','\n",
        " + df3['Гинекология3_Диагноз_ЗначениеПредставление'].map(str)+','\n",
        " + df3['Гинекология4_Диагноз_ЗначениеПредставление'].map(str)+','\n",
        " + df3['ТерапевтНеИсп1_Диагноз_ЗначениеПредставление'].map(str)+','\n",
        " + df3['ХирургНеИсп2_Диагноз_ЗначениеПредставление'].map(str)+','\n",
        " + df3['Психиатрия2_Диагноз_ЗначениеПредставление'].map(str)+','\n",
        " + df3['Психиатрия3_Диагноз_ЗначениеПредставление'].map(str)+','\n",
        " + df3['Психиатрия4_Диагноз_ЗначениеПредставление'].map(str)+','\n",
        " + df3['Оториноларингология3_Диагноз_ЗначениеПредставление'].map(str))"
      ],
      "metadata": {
        "id": "1uSK6WPdynsO"
      },
      "execution_count": null,
      "outputs": []
    },
    {
      "cell_type": "code",
      "source": [
        "new"
      ],
      "metadata": {
        "colab": {
          "base_uri": "https://localhost:8080/",
          "height": 748
        },
        "id": "YlT2DpNQ1zdc",
        "outputId": "cb4d9afb-af9b-4a72-8128-5776e810f7fc"
      },
      "execution_count": null,
      "outputs": [
        {
          "output_type": "execute_result",
          "data": {
            "text/plain": [
              "     КлиентПол                                          Профессия  \\\n",
              "0            0          Ведущий специалист по организации обуения   \n",
              "1            1                                 Ведущий специалист   \n",
              "2            1                                   Главный менеджер   \n",
              "3            1                                 Главный специалист   \n",
              "4            1                                 Старший специалист   \n",
              "...        ...                                                ...   \n",
              "1961         1                                            Инженер   \n",
              "1962         1                              Начальник лаборатории   \n",
              "1972         1  Инженер по бурению 1 категории, непосредственн...   \n",
              "1973         1                           Приемщик вагонов в депо    \n",
              "1981         1                                       Анестезиолог   \n",
              "\n",
              "     ЗаключениеМК ПсихиатрияНаркология1_МКБ101 Офтальмология1_МКБ101  \\\n",
              "0               0                       0.1000                0.1000   \n",
              "1               0                       0.1000                0.1000   \n",
              "2               1                       0.1000               0.19521   \n",
              "3               0                            0                0.1000   \n",
              "4               1                            0               0.19522   \n",
              "...           ...                          ...                   ...   \n",
              "1961            0                       0.1000                0.1000   \n",
              "1962            0                       0.1000                     0   \n",
              "1972            0                       0.1000                0.1000   \n",
              "1973            0                       0.1000                0.1000   \n",
              "1981            0                       0.1000                     0   \n",
              "\n",
              "     Оториноларингология1_МКБ101 ХирургНеИсп1_МКБ101 Гинекология1_МКБ101  \\\n",
              "0                         0.1000              0.1000              0.1000   \n",
              "1                              0                   0                   0   \n",
              "2                              0                   0                   0   \n",
              "3                         0.1000              0.1000                   0   \n",
              "4                         0.1000                   0                   0   \n",
              "...                          ...                 ...                 ...   \n",
              "1961                      0.1000                   0                   0   \n",
              "1962                      0.1000                   0                   0   \n",
              "1972                      0.1000                   0                   0   \n",
              "1973                      0.1000                   0                   0   \n",
              "1981                      0.1000                   0                   0   \n",
              "\n",
              "     Стоматология1_МКБ101 Дерматовенерология1_МКБ101  ...  \\\n",
              "0                  0.1000                          0  ...   \n",
              "1                       0                     0.1000  ...   \n",
              "2                       0                     0.1000  ...   \n",
              "3                  0.1000                          0  ...   \n",
              "4                  0.1000                          0  ...   \n",
              "...                   ...                        ...  ...   \n",
              "1961                    0                          0  ...   \n",
              "1962                    0                          0  ...   \n",
              "1972                    0                          0  ...   \n",
              "1973                    0                          0  ...   \n",
              "1981               0.1000                          0  ...   \n",
              "\n",
              "     Рентгенология1_МКБ102 Рентгенология2_МКБ102 Психиатрия3_МКБ101  \\\n",
              "0                        0                     0                  0   \n",
              "1                        0                     0                  0   \n",
              "2                        0                     0                  0   \n",
              "3                        0                     0                  0   \n",
              "4                        0                     0                  0   \n",
              "...                    ...                   ...                ...   \n",
              "1961                     0                     0                  0   \n",
              "1962                     0                     0                  0   \n",
              "1972                     0                     0                  0   \n",
              "1973                     0                     0                  0   \n",
              "1981                     0                     0                  0   \n",
              "\n",
              "     Психиатрия3_МКБ102 Психиатрия4_МКБ101 Психиатрия4_МКБ102  \\\n",
              "0                     0                  0                  0   \n",
              "1                     0                  0                  0   \n",
              "2                     0                  0                  0   \n",
              "3                     0                  0                  0   \n",
              "4                     0                  0                  0   \n",
              "...                 ...                ...                ...   \n",
              "1961                  0                  0                  0   \n",
              "1962                  0                  0                  0   \n",
              "1972                  0                  0                  0   \n",
              "1973                  0                  0                  0   \n",
              "1981                  0                  0                  0   \n",
              "\n",
              "     Оториноларингология3_МКБ101 ВозрастКатегория СписокВредныхФакторов  \\\n",
              "0                              0                6                  11x4   \n",
              "1                              0                4                 4x2x5   \n",
              "2                              0                4                 4x2x5   \n",
              "3                              0                4                  11x1   \n",
              "4                              0                5                  11x1   \n",
              "...                          ...              ...                   ...   \n",
              "1961                           0                3           4x4,4x5,6x1   \n",
              "1962                           0                4                   4x4   \n",
              "1972                           0                4               3x1x8x2   \n",
              "1973                           0                3             4x2x5,6x1   \n",
              "1981                           0                7                    27   \n",
              "\n",
              "                                           все_диагнозы  \n",
              "0     [Z00.0] Общий медицинский осмотр_x000D_\\n,[Z00...  \n",
              "1     [Z00.0] Общий медицинский осмотр_x000D_\\n,[Z00...  \n",
              "2     [Z00.0] Общий медицинский осмотр_x000D_\\n,[H52...  \n",
              "3     0,[Z00.0] Общий медицинский осмотр_x000D_\\n,[Z...  \n",
              "4     0,[H52.2] Астигматизм_x000D_\\nОписание: Миопич...  \n",
              "...                                                 ...  \n",
              "1961  [Z00.0] Общий медицинский осмотр_x000D_\\n,[Z00...  \n",
              "1962  [Z00.0] Общий медицинский осмотр_x000D_\\n,0,[Z...  \n",
              "1972  [Z00.0] Общий медицинский осмотр_x000D_\\n,[Z00...  \n",
              "1973  [Z00.0] Общий медицинский осмотр_x000D_\\n,[Z00...  \n",
              "1981  [Z00.0] Общий медицинский осмотр_x000D_\\n,0,[Z...  \n",
              "\n",
              "[1571 rows x 98 columns]"
            ],
            "text/html": [
              "\n",
              "  <div id=\"df-f467242a-81e3-4556-b4fd-ea03ac1f1cc2\">\n",
              "    <div class=\"colab-df-container\">\n",
              "      <div>\n",
              "<style scoped>\n",
              "    .dataframe tbody tr th:only-of-type {\n",
              "        vertical-align: middle;\n",
              "    }\n",
              "\n",
              "    .dataframe tbody tr th {\n",
              "        vertical-align: top;\n",
              "    }\n",
              "\n",
              "    .dataframe thead th {\n",
              "        text-align: right;\n",
              "    }\n",
              "</style>\n",
              "<table border=\"1\" class=\"dataframe\">\n",
              "  <thead>\n",
              "    <tr style=\"text-align: right;\">\n",
              "      <th></th>\n",
              "      <th>КлиентПол</th>\n",
              "      <th>Профессия</th>\n",
              "      <th>ЗаключениеМК</th>\n",
              "      <th>ПсихиатрияНаркология1_МКБ101</th>\n",
              "      <th>Офтальмология1_МКБ101</th>\n",
              "      <th>Оториноларингология1_МКБ101</th>\n",
              "      <th>ХирургНеИсп1_МКБ101</th>\n",
              "      <th>Гинекология1_МКБ101</th>\n",
              "      <th>Стоматология1_МКБ101</th>\n",
              "      <th>Дерматовенерология1_МКБ101</th>\n",
              "      <th>...</th>\n",
              "      <th>Рентгенология1_МКБ102</th>\n",
              "      <th>Рентгенология2_МКБ102</th>\n",
              "      <th>Психиатрия3_МКБ101</th>\n",
              "      <th>Психиатрия3_МКБ102</th>\n",
              "      <th>Психиатрия4_МКБ101</th>\n",
              "      <th>Психиатрия4_МКБ102</th>\n",
              "      <th>Оториноларингология3_МКБ101</th>\n",
              "      <th>ВозрастКатегория</th>\n",
              "      <th>СписокВредныхФакторов</th>\n",
              "      <th>все_диагнозы</th>\n",
              "    </tr>\n",
              "  </thead>\n",
              "  <tbody>\n",
              "    <tr>\n",
              "      <th>0</th>\n",
              "      <td>0</td>\n",
              "      <td>Ведущий специалист по организации обуения</td>\n",
              "      <td>0</td>\n",
              "      <td>0.1000</td>\n",
              "      <td>0.1000</td>\n",
              "      <td>0.1000</td>\n",
              "      <td>0.1000</td>\n",
              "      <td>0.1000</td>\n",
              "      <td>0.1000</td>\n",
              "      <td>0</td>\n",
              "      <td>...</td>\n",
              "      <td>0</td>\n",
              "      <td>0</td>\n",
              "      <td>0</td>\n",
              "      <td>0</td>\n",
              "      <td>0</td>\n",
              "      <td>0</td>\n",
              "      <td>0</td>\n",
              "      <td>6</td>\n",
              "      <td>11x4</td>\n",
              "      <td>[Z00.0] Общий медицинский осмотр_x000D_\\n,[Z00...</td>\n",
              "    </tr>\n",
              "    <tr>\n",
              "      <th>1</th>\n",
              "      <td>1</td>\n",
              "      <td>Ведущий специалист</td>\n",
              "      <td>0</td>\n",
              "      <td>0.1000</td>\n",
              "      <td>0.1000</td>\n",
              "      <td>0</td>\n",
              "      <td>0</td>\n",
              "      <td>0</td>\n",
              "      <td>0</td>\n",
              "      <td>0.1000</td>\n",
              "      <td>...</td>\n",
              "      <td>0</td>\n",
              "      <td>0</td>\n",
              "      <td>0</td>\n",
              "      <td>0</td>\n",
              "      <td>0</td>\n",
              "      <td>0</td>\n",
              "      <td>0</td>\n",
              "      <td>4</td>\n",
              "      <td>4x2x5</td>\n",
              "      <td>[Z00.0] Общий медицинский осмотр_x000D_\\n,[Z00...</td>\n",
              "    </tr>\n",
              "    <tr>\n",
              "      <th>2</th>\n",
              "      <td>1</td>\n",
              "      <td>Главный менеджер</td>\n",
              "      <td>1</td>\n",
              "      <td>0.1000</td>\n",
              "      <td>0.19521</td>\n",
              "      <td>0</td>\n",
              "      <td>0</td>\n",
              "      <td>0</td>\n",
              "      <td>0</td>\n",
              "      <td>0.1000</td>\n",
              "      <td>...</td>\n",
              "      <td>0</td>\n",
              "      <td>0</td>\n",
              "      <td>0</td>\n",
              "      <td>0</td>\n",
              "      <td>0</td>\n",
              "      <td>0</td>\n",
              "      <td>0</td>\n",
              "      <td>4</td>\n",
              "      <td>4x2x5</td>\n",
              "      <td>[Z00.0] Общий медицинский осмотр_x000D_\\n,[H52...</td>\n",
              "    </tr>\n",
              "    <tr>\n",
              "      <th>3</th>\n",
              "      <td>1</td>\n",
              "      <td>Главный специалист</td>\n",
              "      <td>0</td>\n",
              "      <td>0</td>\n",
              "      <td>0.1000</td>\n",
              "      <td>0.1000</td>\n",
              "      <td>0.1000</td>\n",
              "      <td>0</td>\n",
              "      <td>0.1000</td>\n",
              "      <td>0</td>\n",
              "      <td>...</td>\n",
              "      <td>0</td>\n",
              "      <td>0</td>\n",
              "      <td>0</td>\n",
              "      <td>0</td>\n",
              "      <td>0</td>\n",
              "      <td>0</td>\n",
              "      <td>0</td>\n",
              "      <td>4</td>\n",
              "      <td>11x1</td>\n",
              "      <td>0,[Z00.0] Общий медицинский осмотр_x000D_\\n,[Z...</td>\n",
              "    </tr>\n",
              "    <tr>\n",
              "      <th>4</th>\n",
              "      <td>1</td>\n",
              "      <td>Старший специалист</td>\n",
              "      <td>1</td>\n",
              "      <td>0</td>\n",
              "      <td>0.19522</td>\n",
              "      <td>0.1000</td>\n",
              "      <td>0</td>\n",
              "      <td>0</td>\n",
              "      <td>0.1000</td>\n",
              "      <td>0</td>\n",
              "      <td>...</td>\n",
              "      <td>0</td>\n",
              "      <td>0</td>\n",
              "      <td>0</td>\n",
              "      <td>0</td>\n",
              "      <td>0</td>\n",
              "      <td>0</td>\n",
              "      <td>0</td>\n",
              "      <td>5</td>\n",
              "      <td>11x1</td>\n",
              "      <td>0,[H52.2] Астигматизм_x000D_\\nОписание: Миопич...</td>\n",
              "    </tr>\n",
              "    <tr>\n",
              "      <th>...</th>\n",
              "      <td>...</td>\n",
              "      <td>...</td>\n",
              "      <td>...</td>\n",
              "      <td>...</td>\n",
              "      <td>...</td>\n",
              "      <td>...</td>\n",
              "      <td>...</td>\n",
              "      <td>...</td>\n",
              "      <td>...</td>\n",
              "      <td>...</td>\n",
              "      <td>...</td>\n",
              "      <td>...</td>\n",
              "      <td>...</td>\n",
              "      <td>...</td>\n",
              "      <td>...</td>\n",
              "      <td>...</td>\n",
              "      <td>...</td>\n",
              "      <td>...</td>\n",
              "      <td>...</td>\n",
              "      <td>...</td>\n",
              "      <td>...</td>\n",
              "    </tr>\n",
              "    <tr>\n",
              "      <th>1961</th>\n",
              "      <td>1</td>\n",
              "      <td>Инженер</td>\n",
              "      <td>0</td>\n",
              "      <td>0.1000</td>\n",
              "      <td>0.1000</td>\n",
              "      <td>0.1000</td>\n",
              "      <td>0</td>\n",
              "      <td>0</td>\n",
              "      <td>0</td>\n",
              "      <td>0</td>\n",
              "      <td>...</td>\n",
              "      <td>0</td>\n",
              "      <td>0</td>\n",
              "      <td>0</td>\n",
              "      <td>0</td>\n",
              "      <td>0</td>\n",
              "      <td>0</td>\n",
              "      <td>0</td>\n",
              "      <td>3</td>\n",
              "      <td>4x4,4x5,6x1</td>\n",
              "      <td>[Z00.0] Общий медицинский осмотр_x000D_\\n,[Z00...</td>\n",
              "    </tr>\n",
              "    <tr>\n",
              "      <th>1962</th>\n",
              "      <td>1</td>\n",
              "      <td>Начальник лаборатории</td>\n",
              "      <td>0</td>\n",
              "      <td>0.1000</td>\n",
              "      <td>0</td>\n",
              "      <td>0.1000</td>\n",
              "      <td>0</td>\n",
              "      <td>0</td>\n",
              "      <td>0</td>\n",
              "      <td>0</td>\n",
              "      <td>...</td>\n",
              "      <td>0</td>\n",
              "      <td>0</td>\n",
              "      <td>0</td>\n",
              "      <td>0</td>\n",
              "      <td>0</td>\n",
              "      <td>0</td>\n",
              "      <td>0</td>\n",
              "      <td>4</td>\n",
              "      <td>4x4</td>\n",
              "      <td>[Z00.0] Общий медицинский осмотр_x000D_\\n,0,[Z...</td>\n",
              "    </tr>\n",
              "    <tr>\n",
              "      <th>1972</th>\n",
              "      <td>1</td>\n",
              "      <td>Инженер по бурению 1 категории, непосредственн...</td>\n",
              "      <td>0</td>\n",
              "      <td>0.1000</td>\n",
              "      <td>0.1000</td>\n",
              "      <td>0.1000</td>\n",
              "      <td>0</td>\n",
              "      <td>0</td>\n",
              "      <td>0</td>\n",
              "      <td>0</td>\n",
              "      <td>...</td>\n",
              "      <td>0</td>\n",
              "      <td>0</td>\n",
              "      <td>0</td>\n",
              "      <td>0</td>\n",
              "      <td>0</td>\n",
              "      <td>0</td>\n",
              "      <td>0</td>\n",
              "      <td>4</td>\n",
              "      <td>3x1x8x2</td>\n",
              "      <td>[Z00.0] Общий медицинский осмотр_x000D_\\n,[Z00...</td>\n",
              "    </tr>\n",
              "    <tr>\n",
              "      <th>1973</th>\n",
              "      <td>1</td>\n",
              "      <td>Приемщик вагонов в депо</td>\n",
              "      <td>0</td>\n",
              "      <td>0.1000</td>\n",
              "      <td>0.1000</td>\n",
              "      <td>0.1000</td>\n",
              "      <td>0</td>\n",
              "      <td>0</td>\n",
              "      <td>0</td>\n",
              "      <td>0</td>\n",
              "      <td>...</td>\n",
              "      <td>0</td>\n",
              "      <td>0</td>\n",
              "      <td>0</td>\n",
              "      <td>0</td>\n",
              "      <td>0</td>\n",
              "      <td>0</td>\n",
              "      <td>0</td>\n",
              "      <td>3</td>\n",
              "      <td>4x2x5,6x1</td>\n",
              "      <td>[Z00.0] Общий медицинский осмотр_x000D_\\n,[Z00...</td>\n",
              "    </tr>\n",
              "    <tr>\n",
              "      <th>1981</th>\n",
              "      <td>1</td>\n",
              "      <td>Анестезиолог</td>\n",
              "      <td>0</td>\n",
              "      <td>0.1000</td>\n",
              "      <td>0</td>\n",
              "      <td>0.1000</td>\n",
              "      <td>0</td>\n",
              "      <td>0</td>\n",
              "      <td>0.1000</td>\n",
              "      <td>0</td>\n",
              "      <td>...</td>\n",
              "      <td>0</td>\n",
              "      <td>0</td>\n",
              "      <td>0</td>\n",
              "      <td>0</td>\n",
              "      <td>0</td>\n",
              "      <td>0</td>\n",
              "      <td>0</td>\n",
              "      <td>7</td>\n",
              "      <td>27</td>\n",
              "      <td>[Z00.0] Общий медицинский осмотр_x000D_\\n,0,[Z...</td>\n",
              "    </tr>\n",
              "  </tbody>\n",
              "</table>\n",
              "<p>1571 rows × 98 columns</p>\n",
              "</div>\n",
              "      <button class=\"colab-df-convert\" onclick=\"convertToInteractive('df-f467242a-81e3-4556-b4fd-ea03ac1f1cc2')\"\n",
              "              title=\"Convert this dataframe to an interactive table.\"\n",
              "              style=\"display:none;\">\n",
              "        \n",
              "  <svg xmlns=\"http://www.w3.org/2000/svg\" height=\"24px\"viewBox=\"0 0 24 24\"\n",
              "       width=\"24px\">\n",
              "    <path d=\"M0 0h24v24H0V0z\" fill=\"none\"/>\n",
              "    <path d=\"M18.56 5.44l.94 2.06.94-2.06 2.06-.94-2.06-.94-.94-2.06-.94 2.06-2.06.94zm-11 1L8.5 8.5l.94-2.06 2.06-.94-2.06-.94L8.5 2.5l-.94 2.06-2.06.94zm10 10l.94 2.06.94-2.06 2.06-.94-2.06-.94-.94-2.06-.94 2.06-2.06.94z\"/><path d=\"M17.41 7.96l-1.37-1.37c-.4-.4-.92-.59-1.43-.59-.52 0-1.04.2-1.43.59L10.3 9.45l-7.72 7.72c-.78.78-.78 2.05 0 2.83L4 21.41c.39.39.9.59 1.41.59.51 0 1.02-.2 1.41-.59l7.78-7.78 2.81-2.81c.8-.78.8-2.07 0-2.86zM5.41 20L4 18.59l7.72-7.72 1.47 1.35L5.41 20z\"/>\n",
              "  </svg>\n",
              "      </button>\n",
              "      \n",
              "  <style>\n",
              "    .colab-df-container {\n",
              "      display:flex;\n",
              "      flex-wrap:wrap;\n",
              "      gap: 12px;\n",
              "    }\n",
              "\n",
              "    .colab-df-convert {\n",
              "      background-color: #E8F0FE;\n",
              "      border: none;\n",
              "      border-radius: 50%;\n",
              "      cursor: pointer;\n",
              "      display: none;\n",
              "      fill: #1967D2;\n",
              "      height: 32px;\n",
              "      padding: 0 0 0 0;\n",
              "      width: 32px;\n",
              "    }\n",
              "\n",
              "    .colab-df-convert:hover {\n",
              "      background-color: #E2EBFA;\n",
              "      box-shadow: 0px 1px 2px rgba(60, 64, 67, 0.3), 0px 1px 3px 1px rgba(60, 64, 67, 0.15);\n",
              "      fill: #174EA6;\n",
              "    }\n",
              "\n",
              "    [theme=dark] .colab-df-convert {\n",
              "      background-color: #3B4455;\n",
              "      fill: #D2E3FC;\n",
              "    }\n",
              "\n",
              "    [theme=dark] .colab-df-convert:hover {\n",
              "      background-color: #434B5C;\n",
              "      box-shadow: 0px 1px 3px 1px rgba(0, 0, 0, 0.15);\n",
              "      filter: drop-shadow(0px 1px 2px rgba(0, 0, 0, 0.3));\n",
              "      fill: #FFFFFF;\n",
              "    }\n",
              "  </style>\n",
              "\n",
              "      <script>\n",
              "        const buttonEl =\n",
              "          document.querySelector('#df-f467242a-81e3-4556-b4fd-ea03ac1f1cc2 button.colab-df-convert');\n",
              "        buttonEl.style.display =\n",
              "          google.colab.kernel.accessAllowed ? 'block' : 'none';\n",
              "\n",
              "        async function convertToInteractive(key) {\n",
              "          const element = document.querySelector('#df-f467242a-81e3-4556-b4fd-ea03ac1f1cc2');\n",
              "          const dataTable =\n",
              "            await google.colab.kernel.invokeFunction('convertToInteractive',\n",
              "                                                     [key], {});\n",
              "          if (!dataTable) return;\n",
              "\n",
              "          const docLinkHtml = 'Like what you see? Visit the ' +\n",
              "            '<a target=\"_blank\" href=https://colab.research.google.com/notebooks/data_table.ipynb>data table notebook</a>'\n",
              "            + ' to learn more about interactive tables.';\n",
              "          element.innerHTML = '';\n",
              "          dataTable['output_type'] = 'display_data';\n",
              "          await google.colab.output.renderOutput(dataTable, element);\n",
              "          const docLink = document.createElement('div');\n",
              "          docLink.innerHTML = docLinkHtml;\n",
              "          element.appendChild(docLink);\n",
              "        }\n",
              "      </script>\n",
              "    </div>\n",
              "  </div>\n",
              "  "
            ]
          },
          "metadata": {},
          "execution_count": 43
        }
      ]
    },
    {
      "cell_type": "code",
      "source": [
        "xTrainDiag = new['все_диагнозы'] \n",
        "print(xTrainDiag[2]) # пример "
      ],
      "metadata": {
        "id": "K6d_GfteB2H7",
        "colab": {
          "base_uri": "https://localhost:8080/"
        },
        "outputId": "73390e11-61b5-43f1-e2dd-38781b5cc2dd"
      },
      "execution_count": null,
      "outputs": [
        {
          "output_type": "stream",
          "name": "stdout",
          "text": [
            "[Z00.0] Общий медицинский осмотр_x000D_\n",
            ",[H52.1] Миопия_x000D_\n",
            "Описание: Миопия слабой степени обоих глаз_x000D_\n",
            ",0,0,0,0,[Z00.0] Общий медицинский осмотр_x000D_\n",
            ",0,0,0,0,0,0,0,0,0,0,0,0,0,0,0,0,0,0,0,0,0,0,0,0\n"
          ]
        }
      ]
    },
    {
      "cell_type": "code",
      "source": [
        "maxWordsCount = 10000 \n",
        "tokenizer = Tokenizer(num_words=maxWordsCount, filters='!\"#$%&()*+,-–—./:;<=>?@[\\]^_`{|}~\\t\\n\\xa0\\_x000D_', lower=True, split=' ', oov_token='unknown', char_level=False)\n",
        "tokenizer.fit_on_texts(xTrainDiag) \n",
        "items = list(tokenizer.word_index.items())  "
      ],
      "metadata": {
        "id": "ilzER_hlB84x"
      },
      "execution_count": null,
      "outputs": []
    },
    {
      "cell_type": "code",
      "source": [
        "xTrainDiagIndexes = tokenizer.texts_to_sequences(xTrainDiag) "
      ],
      "metadata": {
        "id": "b5nXbToyB-Bo"
      },
      "execution_count": null,
      "outputs": []
    },
    {
      "cell_type": "code",
      "source": [
        "xTrainDiag01 = tokenizer.sequences_to_matrix(xTrainDiagIndexes) \n",
        "print(xTrainDiag01.shape)                                      \n",
        "print(xTrainDiag01[0][0:100])  "
      ],
      "metadata": {
        "id": "WYzKqiELB_Ha",
        "colab": {
          "base_uri": "https://localhost:8080/"
        },
        "outputId": "f2310fd7-15ef-4047-b4a7-866977768743"
      },
      "execution_count": null,
      "outputs": [
        {
          "output_type": "stream",
          "name": "stdout",
          "text": [
            "(1571, 10000)\n",
            "[0. 0. 1. 1. 1. 1. 1. 0. 0. 0. 0. 0. 0. 0. 0. 0. 0. 0. 0. 0. 0. 0. 0. 0.\n",
            " 0. 0. 0. 0. 0. 0. 0. 0. 0. 0. 0. 0. 0. 0. 0. 0. 0. 0. 0. 0. 0. 0. 0. 0.\n",
            " 0. 0. 0. 0. 0. 0. 0. 0. 0. 0. 0. 0. 0. 0. 0. 0. 0. 0. 0. 0. 0. 0. 0. 0.\n",
            " 0. 0. 0. 0. 0. 0. 0. 0. 0. 0. 0. 0. 0. 0. 0. 0. 0. 0. 0. 0. 0. 0. 0. 0.\n",
            " 0. 0. 0. 0.]\n"
          ]
        }
      ]
    },
    {
      "cell_type": "code",
      "source": [
        "n = 0\n",
        "print(xTrainDiag01[n])       \n",
        "print(xTrainDiagIndexes[n]) "
      ],
      "metadata": {
        "id": "uMO1TZWOCA07",
        "colab": {
          "base_uri": "https://localhost:8080/"
        },
        "outputId": "3ec92363-6a79-4873-9160-5c8ae30b0e54"
      },
      "execution_count": null,
      "outputs": [
        {
          "output_type": "stream",
          "name": "stdout",
          "text": [
            "[0. 0. 1. ... 0. 0. 0.]\n",
            "[6, 3, 4, 5, 2, 6, 3, 4, 5, 2, 6, 3, 4, 5, 2, 6, 3, 4, 5, 2, 6, 3, 4, 5, 2, 6, 3, 4, 5, 2]\n"
          ]
        }
      ]
    },
    {
      "cell_type": "markdown",
      "source": [
        "_______________________________"
      ],
      "metadata": {
        "id": "iA8QvaV2B5xj"
      }
    },
    {
      "cell_type": "markdown",
      "source": [
        "Поработаем с профессией"
      ],
      "metadata": {
        "id": "-f8JpT6ZK84L"
      }
    },
    {
      "cell_type": "code",
      "source": [
        "# Профессия\n",
        "xTrainProf = new['Профессия'] \n",
        "print(xTrainProf[0]) # пример "
      ],
      "metadata": {
        "colab": {
          "base_uri": "https://localhost:8080/"
        },
        "id": "jUs0Q3kZ1NtD",
        "outputId": "7041fbaf-4682-49be-f71e-37634221d032"
      },
      "execution_count": null,
      "outputs": [
        {
          "output_type": "stream",
          "name": "stdout",
          "text": [
            "Ведущий специалист по организации обуения\n"
          ]
        }
      ]
    },
    {
      "cell_type": "code",
      "source": [
        "maxWordsCount = 10000 \n",
        "tokenizer = Tokenizer(num_words=maxWordsCount, filters='!\"#$%&()*+,-–—./:;<=>?@[\\]^_`{|}~\\t\\n\\xa0', lower=True, split=' ', oov_token='unknown', char_level=False)\n",
        "tokenizer.fit_on_texts(xTrainProf) \n",
        "items = list(tokenizer.word_index.items())  "
      ],
      "metadata": {
        "id": "83VXES9L1nUP"
      },
      "execution_count": null,
      "outputs": []
    },
    {
      "cell_type": "code",
      "source": [
        "xTrainProfIndexes = tokenizer.texts_to_sequences(xTrainProf) "
      ],
      "metadata": {
        "id": "-_Ua-g_Y1wGx"
      },
      "execution_count": null,
      "outputs": []
    },
    {
      "cell_type": "code",
      "source": [
        "xTrainProf01 = tokenizer.sequences_to_matrix(xTrainProfIndexes) \n",
        "print(xTrainProf01.shape)                                      \n",
        "print(xTrainProf01[0][0:100])  "
      ],
      "metadata": {
        "colab": {
          "base_uri": "https://localhost:8080/"
        },
        "id": "qfMMuQtg1zJy",
        "outputId": "757d252d-221a-46e0-a720-1b36dbe6f44d"
      },
      "execution_count": null,
      "outputs": [
        {
          "output_type": "stream",
          "name": "stdout",
          "text": [
            "(1571, 10000)\n",
            "[0. 0. 0. 1. 0. 1. 1. 0. 0. 0. 0. 0. 0. 0. 0. 0. 0. 0. 0. 0. 0. 0. 0. 0.\n",
            " 0. 0. 0. 0. 0. 0. 0. 0. 0. 0. 0. 0. 0. 0. 0. 0. 0. 0. 0. 0. 0. 0. 0. 0.\n",
            " 0. 0. 0. 0. 0. 0. 0. 0. 0. 0. 0. 0. 0. 0. 0. 0. 0. 0. 0. 0. 0. 0. 0. 0.\n",
            " 0. 0. 0. 0. 0. 0. 0. 0. 0. 0. 0. 0. 0. 0. 0. 0. 0. 0. 0. 0. 0. 0. 0. 0.\n",
            " 0. 0. 0. 0.]\n"
          ]
        }
      ]
    },
    {
      "cell_type": "code",
      "source": [
        "n = 0\n",
        "print(xTrainProf[n])       \n",
        "print(xTrainProfIndexes[n]) "
      ],
      "metadata": {
        "colab": {
          "base_uri": "https://localhost:8080/"
        },
        "id": "Lolr2pXh1-_9",
        "outputId": "24c25a01-c16c-48db-9e33-19e600314667"
      },
      "execution_count": null,
      "outputs": [
        {
          "output_type": "stream",
          "name": "stdout",
          "text": [
            "Ведущий специалист по организации обуения\n",
            "[6, 5, 3, 189, 309]\n"
          ]
        }
      ]
    },
    {
      "cell_type": "markdown",
      "source": [
        "____________________________"
      ],
      "metadata": {
        "id": "yRtqYAH1FP1i"
      }
    },
    {
      "cell_type": "markdown",
      "source": [
        "Поработаем с вредыми факторами"
      ],
      "metadata": {
        "id": "BzA1iNTnLCzC"
      }
    },
    {
      "cell_type": "code",
      "source": [
        "#СписокВредныхФакторов\n",
        "xTrainFactor = new['СписокВредныхФакторов'] \n",
        "print(xTrainFactor[10])"
      ],
      "metadata": {
        "colab": {
          "base_uri": "https://localhost:8080/"
        },
        "id": "oAxPVDdgZKpw",
        "outputId": "5575fceb-2263-491a-f97f-ec7911a37d15"
      },
      "execution_count": null,
      "outputs": [
        {
          "output_type": "stream",
          "name": "stdout",
          "text": [
            "11x1\n"
          ]
        }
      ]
    },
    {
      "cell_type": "code",
      "source": [
        "maxWordsCount = 1000\n",
        "tokenizer = Tokenizer(num_words=maxWordsCount, filters='!\"#$%&()*+,-–—./:;<=>?@[\\]^_`{|}~\\t\\n\\xa0', lower=True, split=' ', oov_token='unknown', char_level=False)\n",
        "tokenizer.fit_on_texts(xTrainFactor) \n",
        "items = list(tokenizer.word_index.items())  "
      ],
      "metadata": {
        "id": "RUAfowSZZMss"
      },
      "execution_count": null,
      "outputs": []
    },
    {
      "cell_type": "code",
      "source": [
        "xTrainFactorIndexes = tokenizer.texts_to_sequences(xTrainFactor) "
      ],
      "metadata": {
        "id": "Q3B6V10vZOrj"
      },
      "execution_count": null,
      "outputs": []
    },
    {
      "cell_type": "code",
      "source": [
        "xTrainFactor01 = tokenizer.sequences_to_matrix(xTrainFactorIndexes) \n",
        "print(xTrainFactor01.shape)                                      \n",
        "print(xTrainFactor01[0][0:100])  "
      ],
      "metadata": {
        "colab": {
          "base_uri": "https://localhost:8080/"
        },
        "id": "ZMQZsRvWZRyC",
        "outputId": "66939c84-61f6-4eec-a808-2bc22fc62517"
      },
      "execution_count": null,
      "outputs": [
        {
          "output_type": "stream",
          "name": "stdout",
          "text": [
            "(1571, 1000)\n",
            "[0. 0. 0. 0. 0. 0. 0. 0. 0. 0. 0. 0. 0. 0. 1. 0. 0. 0. 0. 0. 0. 0. 0. 0.\n",
            " 0. 0. 0. 0. 0. 0. 0. 0. 0. 0. 0. 0. 0. 0. 0. 0. 0. 0. 0. 0. 0. 0. 0. 0.\n",
            " 0. 0. 0. 0. 0. 0. 0. 0. 0. 0. 0. 0. 0. 0. 0. 0. 0. 0. 0. 0. 0. 0. 0. 0.\n",
            " 0. 0. 0. 0. 0. 0. 0. 0. 0. 0. 0. 0. 0. 0. 0. 0. 0. 0. 0. 0. 0. 0. 0. 0.\n",
            " 0. 0. 0. 0.]\n"
          ]
        }
      ]
    },
    {
      "cell_type": "code",
      "source": [
        "n = 0\n",
        "print(xTrainFactor[n])       \n",
        "print(xTrainFactorIndexes[n])"
      ],
      "metadata": {
        "colab": {
          "base_uri": "https://localhost:8080/"
        },
        "id": "qplapCqkZUWT",
        "outputId": "7eb9e7a3-4dea-4371-9e0e-a467231d7f04"
      },
      "execution_count": null,
      "outputs": [
        {
          "output_type": "stream",
          "name": "stdout",
          "text": [
            "11x4\n",
            "[14]\n"
          ]
        }
      ]
    },
    {
      "cell_type": "markdown",
      "source": [
        "_______________________________"
      ],
      "metadata": {
        "id": "0teyR2OqXbur"
      }
    },
    {
      "cell_type": "code",
      "source": [
        "for i in new:\n",
        "  print(\"                             \",\"'\",i,\"'\", \",\", sep=\"\")"
      ],
      "metadata": {
        "id": "PdkyadDhaF8Y",
        "colab": {
          "base_uri": "https://localhost:8080/"
        },
        "outputId": "84190494-0fc7-4925-974e-83e9a79c4825"
      },
      "execution_count": null,
      "outputs": [
        {
          "output_type": "stream",
          "name": "stdout",
          "text": [
            "                             'КлиентПол',\n",
            "                             'Профессия',\n",
            "                             'ЗаключениеМК',\n",
            "                             'ПсихиатрияНаркология1_МКБ101',\n",
            "                             'Офтальмология1_МКБ101',\n",
            "                             'Оториноларингология1_МКБ101',\n",
            "                             'ХирургНеИсп1_МКБ101',\n",
            "                             'Гинекология1_МКБ101',\n",
            "                             'Стоматология1_МКБ101',\n",
            "                             'Дерматовенерология1_МКБ101',\n",
            "                             'Рентгенология1_МКБ101',\n",
            "                             'Неврология1_МКБ101',\n",
            "                             'Терапия1_МКБ101',\n",
            "                             'Хирургия1_МКБ101',\n",
            "                             'Офтальмология1_МКБ102',\n",
            "                             'Терапия2_МКБ101',\n",
            "                             'Неврология2_МКБ101',\n",
            "                             'ЛабораторныеИсследования1_МКБ101',\n",
            "                             'ЭКГНеИсп1_МКБ101',\n",
            "                             'УЗИДиагностика1_МКБ101',\n",
            "                             'УЗИДиагностика2_МКБ101',\n",
            "                             'ПсихиатрияНаркология2_МКБ101',\n",
            "                             'Терапия1_МКБ102',\n",
            "                             'ЛабораторныеИсследования2_МКБ101',\n",
            "                             'Терапия1_МКБ103',\n",
            "                             'Психиатрия1_МКБ101',\n",
            "                             'Гинекология1_МКБ102',\n",
            "                             'Рентгенология2_МКБ101',\n",
            "                             'Гинекология2_МКБ101',\n",
            "                             'Хирургия2_МКБ101',\n",
            "                             'ПроцедурнаяМедсестра1_МКБ101',\n",
            "                             'ФункциональнаяДиагностика1_МКБ101',\n",
            "                             'УЗИДиагностика1_МКБ102',\n",
            "                             'Стоматология2_МКБ101',\n",
            "                             'Неврология1_МКБ102',\n",
            "                             'Оториноларингология2_МКБ101',\n",
            "                             'Дерматовенерология1_МКБ102',\n",
            "                             'Дерматовенерология2_МКБ101',\n",
            "                             'Дерматовенерология2_МКБ102',\n",
            "                             'Хирургия1_МКБ102',\n",
            "                             'Хирургия2_МКБ102',\n",
            "                             'Офтальмология2_МКБ101',\n",
            "                             'Офтальмология2_МКБ102',\n",
            "                             'Неврология2_МКБ102',\n",
            "                             'ПсихиатрияНаркология1_МКБ102',\n",
            "                             'ПсихиатрияНаркология2_МКБ102',\n",
            "                             'УЗИДиагностика2_МКБ102',\n",
            "                             'Оториноларингология1_МКБ102',\n",
            "                             'Оториноларингология2_МКБ102',\n",
            "                             'Терапия2_МКБ102',\n",
            "                             'Оториноларингология1_МКБ103',\n",
            "                             'Оториноларингология1_МКБ104',\n",
            "                             'Оториноларингология2_МКБ103',\n",
            "                             'Оториноларингология2_МКБ104',\n",
            "                             'Терапия3_МКБ101',\n",
            "                             'Терапия3_МКБ102',\n",
            "                             'Терапия4_МКБ101',\n",
            "                             'Терапия4_МКБ102',\n",
            "                             'Гинекология2_МКБ102',\n",
            "                             'УЗИДиагностика1_МКБ103',\n",
            "                             'УЗИДиагностика1_МКБ104',\n",
            "                             'УЗИДиагностика2_МКБ103',\n",
            "                             'УЗИДиагностика2_МКБ104',\n",
            "                             'Стоматология1_МКБ102',\n",
            "                             'Стоматология2_МКБ102',\n",
            "                             'Терапия1_МКБ104',\n",
            "                             'Терапия2_МКБ103',\n",
            "                             'Терапия2_МКБ104',\n",
            "                             'Офтальмология1_МКБ103',\n",
            "                             'Офтальмология1_МКБ104',\n",
            "                             'Офтальмология2_МКБ103',\n",
            "                             'Офтальмология2_МКБ104',\n",
            "                             'ЛабораторныеИсследования1_МКБ102',\n",
            "                             'ЛабораторныеИсследования2_МКБ102',\n",
            "                             'Хирургия3_МКБ101',\n",
            "                             'Гинекология3_МКБ101',\n",
            "                             'Гинекология3_МКБ102',\n",
            "                             'Гинекология4_МКБ101',\n",
            "                             'Гинекология4_МКБ102',\n",
            "                             'ТерапевтНеИсп1_МКБ101',\n",
            "                             'Эндоскопия1_МКБ101',\n",
            "                             'ТерапевтНеИсп1_МКБ102',\n",
            "                             'ХирургНеИсп1_МКБ102',\n",
            "                             'ХирургНеИсп2_МКБ101',\n",
            "                             'ХирургНеИсп2_МКБ102',\n",
            "                             'Психиатрия1_МКБ102',\n",
            "                             'Психиатрия2_МКБ101',\n",
            "                             'Психиатрия2_МКБ102',\n",
            "                             'Рентгенология1_МКБ102',\n",
            "                             'Рентгенология2_МКБ102',\n",
            "                             'Психиатрия3_МКБ101',\n",
            "                             'Психиатрия3_МКБ102',\n",
            "                             'Психиатрия4_МКБ101',\n",
            "                             'Психиатрия4_МКБ102',\n",
            "                             'Оториноларингология3_МКБ101',\n",
            "                             'ВозрастКатегория',\n",
            "                             'СписокВредныхФакторов',\n",
            "                             'все_диагнозы',\n"
          ]
        }
      ]
    },
    {
      "cell_type": "code",
      "source": [
        "new_ohe = pd.get_dummies(new, columns=['КлиентПол',\n",
        "                             'Профессия',\n",
        "                             'ЗаключениеМК',\n",
        "                             'ПсихиатрияНаркология1_МКБ101',\n",
        "                             'Офтальмология1_МКБ101',\n",
        "                             'Оториноларингология1_МКБ101',\n",
        "                             'ХирургНеИсп1_МКБ101',\n",
        "                             'Гинекология1_МКБ101',\n",
        "                             'Стоматология1_МКБ101',\n",
        "                             'Дерматовенерология1_МКБ101',\n",
        "                             'Рентгенология1_МКБ101',\n",
        "                             'Неврология1_МКБ101',\n",
        "                             'Терапия1_МКБ101',\n",
        "                             'Хирургия1_МКБ101',\n",
        "                             'Офтальмология1_МКБ102',\n",
        "                             'Терапия2_МКБ101',\n",
        "                             'Неврология2_МКБ101',\n",
        "                             'ЛабораторныеИсследования1_МКБ101',\n",
        "                             'ЭКГНеИсп1_МКБ101',\n",
        "                             'УЗИДиагностика1_МКБ101',\n",
        "                             'УЗИДиагностика2_МКБ101',\n",
        "                             'ПсихиатрияНаркология2_МКБ101',\n",
        "                             'Терапия1_МКБ102',\n",
        "                             'ЛабораторныеИсследования2_МКБ101',\n",
        "                             'Терапия1_МКБ103',\n",
        "                             'Психиатрия1_МКБ101',\n",
        "                             'Гинекология1_МКБ102',\n",
        "                             'Рентгенология2_МКБ101',\n",
        "                             'Гинекология2_МКБ101',\n",
        "                             'Хирургия2_МКБ101',\n",
        "                             'ПроцедурнаяМедсестра1_МКБ101',\n",
        "                             'ФункциональнаяДиагностика1_МКБ101',\n",
        "                             'УЗИДиагностика1_МКБ102',\n",
        "                             'Стоматология2_МКБ101',\n",
        "                             'Неврология1_МКБ102',\n",
        "                             'Оториноларингология2_МКБ101',\n",
        "                             'Дерматовенерология1_МКБ102',\n",
        "                             'Дерматовенерология2_МКБ101',\n",
        "                             'Дерматовенерология2_МКБ102',\n",
        "                             'Хирургия1_МКБ102',\n",
        "                             'Хирургия2_МКБ102',\n",
        "                             'Офтальмология2_МКБ101',\n",
        "                             'Офтальмология2_МКБ102',\n",
        "                             'Неврология2_МКБ102',\n",
        "                             'ПсихиатрияНаркология1_МКБ102',\n",
        "                             'ПсихиатрияНаркология2_МКБ102',\n",
        "                             'УЗИДиагностика2_МКБ102',\n",
        "                             'Оториноларингология1_МКБ102',\n",
        "                             'Оториноларингология2_МКБ102',\n",
        "                             'Терапия2_МКБ102',\n",
        "                             'Оториноларингология1_МКБ103',\n",
        "                             'Оториноларингология1_МКБ104',\n",
        "                             'Оториноларингология2_МКБ103',\n",
        "                             'Оториноларингология2_МКБ104',\n",
        "                             'Терапия3_МКБ101',\n",
        "                             'Терапия3_МКБ102',\n",
        "                             'Терапия4_МКБ101',\n",
        "                             'Терапия4_МКБ102',\n",
        "                             'Гинекология2_МКБ102',\n",
        "                             'УЗИДиагностика1_МКБ103',\n",
        "                             'УЗИДиагностика1_МКБ104',\n",
        "                             'УЗИДиагностика2_МКБ103',\n",
        "                             'УЗИДиагностика2_МКБ104',\n",
        "                             'Стоматология1_МКБ102',\n",
        "                             'Стоматология2_МКБ102',\n",
        "                             'Терапия1_МКБ104',\n",
        "                             'Терапия2_МКБ103',\n",
        "                             'Терапия2_МКБ104',\n",
        "                             'Офтальмология1_МКБ103',\n",
        "                             'Офтальмология1_МКБ104',\n",
        "                             'Офтальмология2_МКБ103',\n",
        "                             'Офтальмология2_МКБ104',\n",
        "                             'ЛабораторныеИсследования1_МКБ102',\n",
        "                             'ЛабораторныеИсследования2_МКБ102',\n",
        "                             'Хирургия3_МКБ101',\n",
        "                             'Гинекология3_МКБ101',\n",
        "                             'Гинекология3_МКБ102',\n",
        "                             'Гинекология4_МКБ101',\n",
        "                             'Гинекология4_МКБ102',\n",
        "                             'ТерапевтНеИсп1_МКБ101',\n",
        "                             'Эндоскопия1_МКБ101',\n",
        "                             'ТерапевтНеИсп1_МКБ102',\n",
        "                             'ХирургНеИсп1_МКБ102',\n",
        "                             'ХирургНеИсп2_МКБ101',\n",
        "                             'ХирургНеИсп2_МКБ102',\n",
        "                             'Психиатрия1_МКБ102',\n",
        "                             'Психиатрия2_МКБ101',\n",
        "                             'Психиатрия2_МКБ102',\n",
        "                             'Рентгенология1_МКБ102',\n",
        "                             'Рентгенология2_МКБ102',\n",
        "                             'Психиатрия3_МКБ101',\n",
        "                             'Психиатрия3_МКБ102',\n",
        "                             'Психиатрия4_МКБ101',\n",
        "                             'Психиатрия4_МКБ102',\n",
        "                             'Оториноларингология3_МКБ101',\n",
        "                             'ВозрастКатегория',\n",
        "                             'СписокВредныхФакторов',\n",
        "                             'все_диагнозы',\n",
        "                           ])"
      ],
      "metadata": {
        "id": "_MmNuRw0Zxcp"
      },
      "execution_count": null,
      "outputs": []
    },
    {
      "cell_type": "code",
      "source": [
        "new_ohe=new_ohe.drop(columns=\"Профессия\")"
      ],
      "metadata": {
        "id": "z58ELu5WbuIC"
      },
      "execution_count": null,
      "outputs": []
    },
    {
      "cell_type": "code",
      "source": [
        "new_ohe=new_ohe.drop(columns=\"СписокВредныхФакторов\")"
      ],
      "metadata": {
        "id": "ADvPBuM-doxY"
      },
      "execution_count": null,
      "outputs": []
    },
    {
      "cell_type": "code",
      "source": [
        "new_ohe=new_ohe.drop(columns=\"ЗаключениеМК\")"
      ],
      "metadata": {
        "id": "Bi8JeZjLMJLw"
      },
      "execution_count": null,
      "outputs": []
    },
    {
      "cell_type": "code",
      "source": [
        "new_ohe=new_ohe.drop(columns=\"все_диагнозы\")"
      ],
      "metadata": {
        "id": "0TzC337EMJjx"
      },
      "execution_count": null,
      "outputs": []
    },
    {
      "cell_type": "code",
      "source": [
        "colms5 = new_ohe.columns.values.tolist()"
      ],
      "metadata": {
        "id": "1RHiZr37cdgc"
      },
      "execution_count": null,
      "outputs": []
    },
    {
      "cell_type": "code",
      "source": [
        "yTrain = new['ЗаключениеМК'].to_numpy()"
      ],
      "metadata": {
        "id": "wIV1KKvCcpyN"
      },
      "execution_count": null,
      "outputs": []
    },
    {
      "cell_type": "code",
      "source": [
        "yTrain = yTrain.astype(float)"
      ],
      "metadata": {
        "id": "41UPEOeDcna_"
      },
      "execution_count": null,
      "outputs": []
    },
    {
      "cell_type": "code",
      "source": [
        "yTrain"
      ],
      "metadata": {
        "colab": {
          "base_uri": "https://localhost:8080/"
        },
        "id": "XKRDkPixctyp",
        "outputId": "d926698b-7b6c-49ed-975a-7b85401f773b"
      },
      "execution_count": null,
      "outputs": [
        {
          "output_type": "execute_result",
          "data": {
            "text/plain": [
              "array([0., 0., 1., ..., 0., 0., 0.])"
            ]
          },
          "metadata": {},
          "execution_count": 69
        }
      ]
    },
    {
      "cell_type": "code",
      "source": [
        "yTrain.shape"
      ],
      "metadata": {
        "colab": {
          "base_uri": "https://localhost:8080/"
        },
        "id": "pxywnRDrczkQ",
        "outputId": "8768b27e-7077-4bf0-e2aa-ea20281ba29b"
      },
      "execution_count": null,
      "outputs": [
        {
          "output_type": "execute_result",
          "data": {
            "text/plain": [
              "(1571,)"
            ]
          },
          "metadata": {},
          "execution_count": 70
        }
      ]
    },
    {
      "cell_type": "code",
      "source": [
        "new_ohe = new_ohe.astype(float)"
      ],
      "metadata": {
        "id": "O6sbqD9Rc6Of"
      },
      "execution_count": null,
      "outputs": []
    },
    {
      "cell_type": "code",
      "source": [
        "xTrain01 = new_ohe.to_numpy()"
      ],
      "metadata": {
        "id": "pNO1H0q7dur3"
      },
      "execution_count": null,
      "outputs": []
    },
    {
      "cell_type": "code",
      "source": [
        "xTrain01"
      ],
      "metadata": {
        "colab": {
          "base_uri": "https://localhost:8080/"
        },
        "id": "cYpaUd4hdzOO",
        "outputId": "6caeded3-c31e-41f8-f6de-555c4e7767b7"
      },
      "execution_count": null,
      "outputs": [
        {
          "output_type": "execute_result",
          "data": {
            "text/plain": [
              "array([[1., 0., 0., ..., 0., 0., 0.],\n",
              "       [0., 1., 0., ..., 0., 0., 0.],\n",
              "       [0., 1., 0., ..., 0., 0., 0.],\n",
              "       ...,\n",
              "       [0., 1., 0., ..., 0., 0., 0.],\n",
              "       [0., 1., 0., ..., 0., 0., 0.],\n",
              "       [0., 1., 0., ..., 0., 0., 0.]])"
            ]
          },
          "metadata": {},
          "execution_count": 73
        }
      ]
    },
    {
      "cell_type": "code",
      "source": [
        "xTrain01.shape"
      ],
      "metadata": {
        "colab": {
          "base_uri": "https://localhost:8080/"
        },
        "id": "TfNi5W4Cd1dQ",
        "outputId": "404e15fa-ab0b-454d-a32f-7a2b99fa0563"
      },
      "execution_count": null,
      "outputs": [
        {
          "output_type": "execute_result",
          "data": {
            "text/plain": [
              "(1571, 2070)"
            ]
          },
          "metadata": {},
          "execution_count": 74
        }
      ]
    },
    {
      "cell_type": "code",
      "source": [
        "x_train, x_test, x_train_text1, x_test_text1, x_train_text2, x_test_text2, x_train_text3, x_test_text3, y_train, y_test = train_test_split(xTrain01,\n",
        "                                                                                                                                           xTrainProf01, \n",
        "                                                                                                                                           xTrainFactor01,\n",
        "                                                                                                                                           xTrainDiag01,\n",
        "                                                                                                                                           yTrain, \n",
        "                                                                                                                                           test_size=0.25,\n",
        "                                                                                                                                           shuffle = False)"
      ],
      "metadata": {
        "id": "_9bAJ_6ueUQF"
      },
      "execution_count": null,
      "outputs": []
    },
    {
      "cell_type": "code",
      "source": [
        "# Визуальная оценка ошибки на обучающей и проверочной выборках\n",
        "def compare_sharp_loss (history, x_size, y_size):\n",
        "  \n",
        "  plt.figure(figsize=(x_size,y_size))\n",
        "  plt.plot(history.history['loss'], \n",
        "         label='Ошибка на обучающей выборке')\n",
        "  \n",
        "  plt.plot(history.history['val_loss'], \n",
        "         label='Ошибка проверочном наборе')\n",
        "  plt.xlabel('Эпоха обучения')\n",
        "  plt.ylabel('Средняя ошибка')\n",
        "  plt.legend()\n",
        "  plt.show()"
      ],
      "metadata": {
        "id": "LuUfQdYkfIkM"
      },
      "execution_count": null,
      "outputs": []
    },
    {
      "cell_type": "markdown",
      "source": [
        "___________________________________"
      ],
      "metadata": {
        "id": "LxBRAHc8ZxyP"
      }
    },
    {
      "cell_type": "markdown",
      "source": [
        "_________________________________________"
      ],
      "metadata": {
        "id": "2RijsUxTZzLF"
      }
    },
    {
      "cell_type": "markdown",
      "source": [
        "# **Создаем модель, обучаем модель**"
      ],
      "metadata": {
        "id": "rFZ7Q3X6EvDV"
      }
    },
    {
      "cell_type": "code",
      "source": [
        "from tensorflow.keras.callbacks import EarlyStopping\n",
        "from tensorflow.keras.callbacks import ModelCheckpoint"
      ],
      "metadata": {
        "id": "mjFH1tWqILKQ"
      },
      "execution_count": null,
      "outputs": []
    },
    {
      "cell_type": "code",
      "source": [
        "#early_stop = EarlyStopping(monitor='val_mae', min_delta=0.001,\n",
        "                           #patience=3, verbose=1, mode='auto')\n",
        "chkpt = ModelCheckpoint('/content/drive/MyDrive/Colab Notebooks/Стажировка/architecture.hdf5', \n",
        "                        monitor='val_mae', \n",
        "                        verbose=1, \n",
        "                        save_best_only=True, \n",
        "                        mode='auto')\n",
        "callbacks = [chkpt]"
      ],
      "metadata": {
        "id": "v88y9DDiIL1f"
      },
      "execution_count": null,
      "outputs": []
    },
    {
      "cell_type": "code",
      "source": [
        "from keras.optimizers import Adagrad, Adadelta, RMSprop, Adam"
      ],
      "metadata": {
        "id": "FH4o-9F3Ip9p"
      },
      "execution_count": null,
      "outputs": []
    },
    {
      "cell_type": "code",
      "source": [
        "opt = Adam(lr=0.0003, beta_1=0.9, beta_2=0.999, epsilon=1e-08, decay=0.0)"
      ],
      "metadata": {
        "id": "HjV3cy4jIOAv"
      },
      "execution_count": null,
      "outputs": []
    },
    {
      "cell_type": "code",
      "source": [
        "input1 = Input((x_train.shape[1],))\n",
        "input2 = Input((x_train_text1.shape[1],))\n",
        "input3 = Input((x_train_text2.shape[1],))\n",
        "input4 = Input((x_train_text3.shape[1],)) "
      ],
      "metadata": {
        "id": "tb9fd-eQe2zi"
      },
      "execution_count": null,
      "outputs": []
    },
    {
      "cell_type": "code",
      "source": [
        "x1 = BatchNormalization()(input1) \n",
        "x1 = Dense(1024, activation='relu') (x1)\n",
        "x1 = BatchNormalization()(x1)\n",
        "x1 = Dropout(0.3)(x1)\n",
        "x1 = Dense(768, activation='sigmoid')(x1)\n",
        "x1 = BatchNormalization()(x1)\n",
        "x1 = Dropout(0.3)(x1)\n",
        "x1 = Dense(512, activation='sigmoid')(x1)\n",
        "\n",
        "x2 = Dense(100, activation='sigmoid') (input2)\n",
        "x2 = BatchNormalization()(x2)\n",
        "x2 = Dropout(0.3)(x2)\n",
        "x2 = Dense(100, activation='sigmoid') (x2)\n",
        "\n",
        "\n",
        "x3 = Dense(100, activation='sigmoid') (input3)\n",
        "x3 = BatchNormalization()(x3)\n",
        "x3 = Dropout(0.3)(x3)\n",
        "x3 = Dense(100, activation='sigmoid') (x3)\n",
        "\n",
        "x4 = Dense(100, activation='sigmoid') (input4)\n",
        "x4 = BatchNormalization()(x4)\n",
        "x4 = Dropout(0.3)(x4)\n",
        "x4 = Dense(100, activation='sigmoid') (x4)\n",
        "\n",
        "x = concatenate([x1, x2, x3, x4])\n",
        "\n",
        "x = Dense(100, activation='relu')(x)\n",
        "x = BatchNormalization()(x)\n",
        "x = Dropout(0.3)(x)\n",
        "x = Dense(50, activation='sigmoid')(x)\n",
        "x = Dropout(0.3)(x)\n",
        "x = Dense(1, activation='linear')(x)\n",
        "\n",
        "model = Model((input1, input2, input3, input4), x) \n",
        "\n",
        "model.compile(optimizer=opt, loss='mse', metrics=[\"mae\"])\n",
        "\n",
        "history = model.fit((x_train, x_train_text1, x_train_text2, x_train_text3), \n",
        "                    y_train, \n",
        "                    epochs= 200, \n",
        "                    validation_split = 0.3,\n",
        "                    verbose=1, shuffle=True, callbacks=callbacks)\n",
        "\n",
        "compare_sharp_loss(history,10,4) "
      ],
      "metadata": {
        "colab": {
          "base_uri": "https://localhost:8080/",
          "height": 1000
        },
        "id": "RAl6iyeLe8fY",
        "outputId": "ef61f00b-55ee-4c8e-af92-c25d55ba3c73"
      },
      "execution_count": null,
      "outputs": [
        {
          "output_type": "stream",
          "name": "stdout",
          "text": [
            "Epoch 1/200\n",
            "26/26 [==============================] - ETA: 0s - loss: 1.9157 - mae: 1.2379\n",
            "Epoch 1: val_mae improved from inf to 0.70906, saving model to /content/drive/MyDrive/Colab Notebooks/Стажировка/architecture.hdf5\n",
            "26/26 [==============================] - 5s 113ms/step - loss: 1.9157 - mae: 1.2379 - val_loss: 0.5228 - val_mae: 0.7091\n",
            "Epoch 2/200\n",
            "26/26 [==============================] - ETA: 0s - loss: 1.2443 - mae: 0.9692\n",
            "Epoch 2: val_mae improved from 0.70906 to 0.52962, saving model to /content/drive/MyDrive/Colab Notebooks/Стажировка/architecture.hdf5\n",
            "26/26 [==============================] - 1s 54ms/step - loss: 1.2443 - mae: 0.9692 - val_loss: 0.2835 - val_mae: 0.5296\n",
            "Epoch 3/200\n",
            "25/26 [===========================>..] - ETA: 0s - loss: 0.9511 - mae: 0.8129\n",
            "Epoch 3: val_mae improved from 0.52962 to 0.40669, saving model to /content/drive/MyDrive/Colab Notebooks/Стажировка/architecture.hdf5\n",
            "26/26 [==============================] - 1s 51ms/step - loss: 0.9480 - mae: 0.8096 - val_loss: 0.1722 - val_mae: 0.4067\n",
            "Epoch 4/200\n",
            "25/26 [===========================>..] - ETA: 0s - loss: 0.6247 - mae: 0.6535\n",
            "Epoch 4: val_mae improved from 0.40669 to 0.27267, saving model to /content/drive/MyDrive/Colab Notebooks/Стажировка/architecture.hdf5\n",
            "26/26 [==============================] - 2s 60ms/step - loss: 0.6199 - mae: 0.6505 - val_loss: 0.0986 - val_mae: 0.2727\n",
            "Epoch 5/200\n",
            "25/26 [===========================>..] - ETA: 0s - loss: 0.5055 - mae: 0.5776\n",
            "Epoch 5: val_mae improved from 0.27267 to 0.16310, saving model to /content/drive/MyDrive/Colab Notebooks/Стажировка/architecture.hdf5\n",
            "26/26 [==============================] - 1s 52ms/step - loss: 0.4984 - mae: 0.5731 - val_loss: 0.0747 - val_mae: 0.1631\n",
            "Epoch 6/200\n",
            "25/26 [===========================>..] - ETA: 0s - loss: 0.3960 - mae: 0.4970\n",
            "Epoch 6: val_mae improved from 0.16310 to 0.11647, saving model to /content/drive/MyDrive/Colab Notebooks/Стажировка/architecture.hdf5\n",
            "26/26 [==============================] - 1s 56ms/step - loss: 0.3940 - mae: 0.4969 - val_loss: 0.0819 - val_mae: 0.1165\n",
            "Epoch 7/200\n",
            "26/26 [==============================] - ETA: 0s - loss: 0.3375 - mae: 0.4596\n",
            "Epoch 7: val_mae did not improve from 0.11647\n",
            "26/26 [==============================] - 1s 43ms/step - loss: 0.3375 - mae: 0.4596 - val_loss: 0.0850 - val_mae: 0.1602\n",
            "Epoch 8/200\n",
            "26/26 [==============================] - ETA: 0s - loss: 0.3410 - mae: 0.4663\n",
            "Epoch 8: val_mae did not improve from 0.11647\n",
            "26/26 [==============================] - 2s 60ms/step - loss: 0.3410 - mae: 0.4663 - val_loss: 0.1051 - val_mae: 0.2305\n",
            "Epoch 9/200\n",
            "26/26 [==============================] - ETA: 0s - loss: 0.3151 - mae: 0.4444\n",
            "Epoch 9: val_mae did not improve from 0.11647\n",
            "26/26 [==============================] - 3s 103ms/step - loss: 0.3151 - mae: 0.4444 - val_loss: 0.0931 - val_mae: 0.2104\n",
            "Epoch 10/200\n",
            "26/26 [==============================] - ETA: 0s - loss: 0.3142 - mae: 0.4425\n",
            "Epoch 10: val_mae did not improve from 0.11647\n",
            "26/26 [==============================] - 2s 89ms/step - loss: 0.3142 - mae: 0.4425 - val_loss: 0.0643 - val_mae: 0.1594\n",
            "Epoch 11/200\n",
            "26/26 [==============================] - ETA: 0s - loss: 0.2956 - mae: 0.4329\n",
            "Epoch 11: val_mae did not improve from 0.11647\n",
            "26/26 [==============================] - 1s 48ms/step - loss: 0.2956 - mae: 0.4329 - val_loss: 0.0660 - val_mae: 0.2014\n",
            "Epoch 12/200\n",
            "25/26 [===========================>..] - ETA: 0s - loss: 0.3106 - mae: 0.4428\n",
            "Epoch 12: val_mae did not improve from 0.11647\n",
            "26/26 [==============================] - 1s 41ms/step - loss: 0.3093 - mae: 0.4425 - val_loss: 0.0400 - val_mae: 0.1430\n",
            "Epoch 13/200\n",
            "25/26 [===========================>..] - ETA: 0s - loss: 0.3019 - mae: 0.4311\n",
            "Epoch 13: val_mae did not improve from 0.11647\n",
            "26/26 [==============================] - 1s 41ms/step - loss: 0.2987 - mae: 0.4286 - val_loss: 0.0542 - val_mae: 0.1814\n",
            "Epoch 14/200\n",
            "25/26 [===========================>..] - ETA: 0s - loss: 0.2889 - mae: 0.4267\n",
            "Epoch 14: val_mae did not improve from 0.11647\n",
            "26/26 [==============================] - 1s 43ms/step - loss: 0.2892 - mae: 0.4283 - val_loss: 0.0412 - val_mae: 0.1451\n",
            "Epoch 15/200\n",
            "25/26 [===========================>..] - ETA: 0s - loss: 0.2896 - mae: 0.4270\n",
            "Epoch 15: val_mae improved from 0.11647 to 0.11037, saving model to /content/drive/MyDrive/Colab Notebooks/Стажировка/architecture.hdf5\n",
            "26/26 [==============================] - 2s 74ms/step - loss: 0.2878 - mae: 0.4246 - val_loss: 0.0283 - val_mae: 0.1104\n",
            "Epoch 16/200\n",
            "25/26 [===========================>..] - ETA: 0s - loss: 0.2890 - mae: 0.4290\n",
            "Epoch 16: val_mae did not improve from 0.11037\n",
            "26/26 [==============================] - 1s 43ms/step - loss: 0.2924 - mae: 0.4313 - val_loss: 0.0296 - val_mae: 0.1148\n",
            "Epoch 17/200\n",
            "25/26 [===========================>..] - ETA: 0s - loss: 0.2887 - mae: 0.4206\n",
            "Epoch 17: val_mae did not improve from 0.11037\n",
            "26/26 [==============================] - 2s 68ms/step - loss: 0.2935 - mae: 0.4230 - val_loss: 0.0394 - val_mae: 0.1320\n",
            "Epoch 18/200\n",
            "25/26 [===========================>..] - ETA: 0s - loss: 0.2870 - mae: 0.4187\n",
            "Epoch 18: val_mae did not improve from 0.11037\n",
            "26/26 [==============================] - 1s 56ms/step - loss: 0.2875 - mae: 0.4196 - val_loss: 0.0312 - val_mae: 0.1186\n",
            "Epoch 19/200\n",
            "25/26 [===========================>..] - ETA: 0s - loss: 0.2651 - mae: 0.4065\n",
            "Epoch 19: val_mae improved from 0.11037 to 0.10674, saving model to /content/drive/MyDrive/Colab Notebooks/Стажировка/architecture.hdf5\n",
            "26/26 [==============================] - 1s 52ms/step - loss: 0.2662 - mae: 0.4076 - val_loss: 0.0264 - val_mae: 0.1067\n",
            "Epoch 20/200\n",
            "25/26 [===========================>..] - ETA: 0s - loss: 0.2633 - mae: 0.4065\n",
            "Epoch 20: val_mae did not improve from 0.10674\n",
            "26/26 [==============================] - 1s 43ms/step - loss: 0.2623 - mae: 0.4063 - val_loss: 0.0314 - val_mae: 0.1155\n",
            "Epoch 21/200\n",
            "25/26 [===========================>..] - ETA: 0s - loss: 0.2694 - mae: 0.4141\n",
            "Epoch 21: val_mae did not improve from 0.10674\n",
            "26/26 [==============================] - 1s 43ms/step - loss: 0.2694 - mae: 0.4146 - val_loss: 0.0358 - val_mae: 0.1264\n",
            "Epoch 22/200\n",
            "25/26 [===========================>..] - ETA: 0s - loss: 0.2362 - mae: 0.3871\n",
            "Epoch 22: val_mae did not improve from 0.10674\n",
            "26/26 [==============================] - 1s 42ms/step - loss: 0.2326 - mae: 0.3836 - val_loss: 0.0379 - val_mae: 0.1299\n",
            "Epoch 23/200\n",
            "25/26 [===========================>..] - ETA: 0s - loss: 0.2525 - mae: 0.3920\n",
            "Epoch 23: val_mae did not improve from 0.10674\n",
            "26/26 [==============================] - 1s 42ms/step - loss: 0.2544 - mae: 0.3942 - val_loss: 0.0590 - val_mae: 0.1555\n",
            "Epoch 24/200\n",
            "25/26 [===========================>..] - ETA: 0s - loss: 0.2414 - mae: 0.3837\n",
            "Epoch 24: val_mae did not improve from 0.10674\n",
            "26/26 [==============================] - 1s 43ms/step - loss: 0.2391 - mae: 0.3819 - val_loss: 0.0551 - val_mae: 0.1679\n",
            "Epoch 25/200\n",
            "26/26 [==============================] - ETA: 0s - loss: 0.2450 - mae: 0.3838\n",
            "Epoch 25: val_mae did not improve from 0.10674\n",
            "26/26 [==============================] - 1s 45ms/step - loss: 0.2450 - mae: 0.3838 - val_loss: 0.0493 - val_mae: 0.1591\n",
            "Epoch 26/200\n",
            "26/26 [==============================] - ETA: 0s - loss: 0.2310 - mae: 0.3751\n",
            "Epoch 26: val_mae did not improve from 0.10674\n",
            "26/26 [==============================] - 1s 48ms/step - loss: 0.2310 - mae: 0.3751 - val_loss: 0.0552 - val_mae: 0.1702\n",
            "Epoch 27/200\n",
            "25/26 [===========================>..] - ETA: 0s - loss: 0.2330 - mae: 0.3742\n",
            "Epoch 27: val_mae did not improve from 0.10674\n",
            "26/26 [==============================] - 2s 68ms/step - loss: 0.2349 - mae: 0.3753 - val_loss: 0.0760 - val_mae: 0.2122\n",
            "Epoch 28/200\n",
            "25/26 [===========================>..] - ETA: 0s - loss: 0.2222 - mae: 0.3654\n",
            "Epoch 28: val_mae did not improve from 0.10674\n",
            "26/26 [==============================] - 2s 78ms/step - loss: 0.2214 - mae: 0.3654 - val_loss: 0.0692 - val_mae: 0.2056\n",
            "Epoch 29/200\n",
            "26/26 [==============================] - ETA: 0s - loss: 0.2309 - mae: 0.3823\n",
            "Epoch 29: val_mae did not improve from 0.10674\n",
            "26/26 [==============================] - 1s 44ms/step - loss: 0.2309 - mae: 0.3823 - val_loss: 0.0604 - val_mae: 0.1813\n",
            "Epoch 30/200\n",
            "26/26 [==============================] - ETA: 0s - loss: 0.2152 - mae: 0.3659\n",
            "Epoch 30: val_mae did not improve from 0.10674\n",
            "26/26 [==============================] - 1s 58ms/step - loss: 0.2152 - mae: 0.3659 - val_loss: 0.0644 - val_mae: 0.1961\n",
            "Epoch 31/200\n",
            "25/26 [===========================>..] - ETA: 0s - loss: 0.2226 - mae: 0.3705\n",
            "Epoch 31: val_mae did not improve from 0.10674\n",
            "26/26 [==============================] - 1s 46ms/step - loss: 0.2231 - mae: 0.3716 - val_loss: 0.0721 - val_mae: 0.2082\n",
            "Epoch 32/200\n",
            "25/26 [===========================>..] - ETA: 0s - loss: 0.2004 - mae: 0.3471\n",
            "Epoch 32: val_mae did not improve from 0.10674\n",
            "26/26 [==============================] - 1s 42ms/step - loss: 0.1982 - mae: 0.3453 - val_loss: 0.0726 - val_mae: 0.1951\n",
            "Epoch 33/200\n",
            "25/26 [===========================>..] - ETA: 0s - loss: 0.1931 - mae: 0.3427\n",
            "Epoch 33: val_mae did not improve from 0.10674\n",
            "26/26 [==============================] - 1s 41ms/step - loss: 0.1944 - mae: 0.3446 - val_loss: 0.0624 - val_mae: 0.1839\n",
            "Epoch 34/200\n",
            "25/26 [===========================>..] - ETA: 0s - loss: 0.1614 - mae: 0.3209\n",
            "Epoch 34: val_mae did not improve from 0.10674\n",
            "26/26 [==============================] - 1s 42ms/step - loss: 0.1621 - mae: 0.3211 - val_loss: 0.0649 - val_mae: 0.1943\n",
            "Epoch 35/200\n",
            "25/26 [===========================>..] - ETA: 0s - loss: 0.1902 - mae: 0.3449\n",
            "Epoch 35: val_mae did not improve from 0.10674\n",
            "26/26 [==============================] - 1s 42ms/step - loss: 0.1883 - mae: 0.3432 - val_loss: 0.0825 - val_mae: 0.2203\n",
            "Epoch 36/200\n",
            "25/26 [===========================>..] - ETA: 0s - loss: 0.1796 - mae: 0.3335\n",
            "Epoch 36: val_mae did not improve from 0.10674\n",
            "26/26 [==============================] - 1s 41ms/step - loss: 0.1795 - mae: 0.3344 - val_loss: 0.0780 - val_mae: 0.2112\n",
            "Epoch 37/200\n",
            "26/26 [==============================] - ETA: 0s - loss: 0.1791 - mae: 0.3235\n",
            "Epoch 37: val_mae did not improve from 0.10674\n",
            "26/26 [==============================] - 2s 67ms/step - loss: 0.1791 - mae: 0.3235 - val_loss: 0.0744 - val_mae: 0.2052\n",
            "Epoch 38/200\n",
            "26/26 [==============================] - ETA: 0s - loss: 0.1735 - mae: 0.3197\n",
            "Epoch 38: val_mae did not improve from 0.10674\n",
            "26/26 [==============================] - 1s 58ms/step - loss: 0.1735 - mae: 0.3197 - val_loss: 0.0807 - val_mae: 0.2258\n",
            "Epoch 39/200\n",
            "25/26 [===========================>..] - ETA: 0s - loss: 0.1560 - mae: 0.3083\n",
            "Epoch 39: val_mae did not improve from 0.10674\n",
            "26/26 [==============================] - 1s 42ms/step - loss: 0.1555 - mae: 0.3077 - val_loss: 0.0862 - val_mae: 0.2371\n",
            "Epoch 40/200\n",
            "25/26 [===========================>..] - ETA: 0s - loss: 0.1643 - mae: 0.3195\n",
            "Epoch 40: val_mae did not improve from 0.10674\n",
            "26/26 [==============================] - 1s 43ms/step - loss: 0.1634 - mae: 0.3193 - val_loss: 0.0885 - val_mae: 0.2244\n",
            "Epoch 41/200\n",
            "25/26 [===========================>..] - ETA: 0s - loss: 0.1626 - mae: 0.3126\n",
            "Epoch 41: val_mae did not improve from 0.10674\n",
            "26/26 [==============================] - 1s 42ms/step - loss: 0.1623 - mae: 0.3127 - val_loss: 0.0701 - val_mae: 0.1955\n",
            "Epoch 42/200\n",
            "25/26 [===========================>..] - ETA: 0s - loss: 0.1514 - mae: 0.3055\n",
            "Epoch 42: val_mae did not improve from 0.10674\n",
            "26/26 [==============================] - 1s 41ms/step - loss: 0.1530 - mae: 0.3072 - val_loss: 0.0655 - val_mae: 0.1968\n",
            "Epoch 43/200\n",
            "25/26 [===========================>..] - ETA: 0s - loss: 0.1518 - mae: 0.2991\n",
            "Epoch 43: val_mae did not improve from 0.10674\n",
            "26/26 [==============================] - 1s 42ms/step - loss: 0.1526 - mae: 0.3007 - val_loss: 0.0720 - val_mae: 0.2134\n",
            "Epoch 44/200\n",
            "25/26 [===========================>..] - ETA: 0s - loss: 0.1551 - mae: 0.2990\n",
            "Epoch 44: val_mae did not improve from 0.10674\n",
            "26/26 [==============================] - 1s 43ms/step - loss: 0.1563 - mae: 0.3001 - val_loss: 0.0688 - val_mae: 0.1998\n",
            "Epoch 45/200\n",
            "25/26 [===========================>..] - ETA: 0s - loss: 0.1548 - mae: 0.2997\n",
            "Epoch 45: val_mae did not improve from 0.10674\n",
            "26/26 [==============================] - 1s 42ms/step - loss: 0.1567 - mae: 0.3008 - val_loss: 0.0591 - val_mae: 0.1773\n",
            "Epoch 46/200\n",
            "25/26 [===========================>..] - ETA: 0s - loss: 0.1403 - mae: 0.2871\n",
            "Epoch 46: val_mae did not improve from 0.10674\n",
            "26/26 [==============================] - 1s 43ms/step - loss: 0.1399 - mae: 0.2871 - val_loss: 0.0582 - val_mae: 0.1804\n",
            "Epoch 47/200\n",
            "25/26 [===========================>..] - ETA: 0s - loss: 0.1360 - mae: 0.2826\n",
            "Epoch 47: val_mae did not improve from 0.10674\n",
            "26/26 [==============================] - 1s 52ms/step - loss: 0.1388 - mae: 0.2857 - val_loss: 0.0596 - val_mae: 0.1748\n",
            "Epoch 48/200\n",
            "26/26 [==============================] - ETA: 0s - loss: 0.1293 - mae: 0.2808\n",
            "Epoch 48: val_mae did not improve from 0.10674\n",
            "26/26 [==============================] - 2s 63ms/step - loss: 0.1293 - mae: 0.2808 - val_loss: 0.0846 - val_mae: 0.2142\n",
            "Epoch 49/200\n",
            "25/26 [===========================>..] - ETA: 0s - loss: 0.1299 - mae: 0.2726\n",
            "Epoch 49: val_mae did not improve from 0.10674\n",
            "26/26 [==============================] - 1s 52ms/step - loss: 0.1298 - mae: 0.2720 - val_loss: 0.0480 - val_mae: 0.1494\n",
            "Epoch 50/200\n",
            "25/26 [===========================>..] - ETA: 0s - loss: 0.1340 - mae: 0.2768\n",
            "Epoch 50: val_mae did not improve from 0.10674\n",
            "26/26 [==============================] - 1s 42ms/step - loss: 0.1333 - mae: 0.2751 - val_loss: 0.0547 - val_mae: 0.1668\n",
            "Epoch 51/200\n",
            "25/26 [===========================>..] - ETA: 0s - loss: 0.1314 - mae: 0.2760\n",
            "Epoch 51: val_mae did not improve from 0.10674\n",
            "26/26 [==============================] - 1s 44ms/step - loss: 0.1287 - mae: 0.2724 - val_loss: 0.0437 - val_mae: 0.1360\n",
            "Epoch 52/200\n",
            "25/26 [===========================>..] - ETA: 0s - loss: 0.1175 - mae: 0.2582\n",
            "Epoch 52: val_mae did not improve from 0.10674\n",
            "26/26 [==============================] - 1s 44ms/step - loss: 0.1168 - mae: 0.2576 - val_loss: 0.0486 - val_mae: 0.1493\n",
            "Epoch 53/200\n",
            "25/26 [===========================>..] - ETA: 0s - loss: 0.1149 - mae: 0.2646\n",
            "Epoch 53: val_mae did not improve from 0.10674\n",
            "26/26 [==============================] - 1s 42ms/step - loss: 0.1163 - mae: 0.2659 - val_loss: 0.0501 - val_mae: 0.1540\n",
            "Epoch 54/200\n",
            "25/26 [===========================>..] - ETA: 0s - loss: 0.1280 - mae: 0.2673\n",
            "Epoch 54: val_mae did not improve from 0.10674\n",
            "26/26 [==============================] - 1s 43ms/step - loss: 0.1264 - mae: 0.2658 - val_loss: 0.0440 - val_mae: 0.1258\n",
            "Epoch 55/200\n",
            "25/26 [===========================>..] - ETA: 0s - loss: 0.1062 - mae: 0.2534\n",
            "Epoch 55: val_mae did not improve from 0.10674\n",
            "26/26 [==============================] - 1s 43ms/step - loss: 0.1061 - mae: 0.2541 - val_loss: 0.0455 - val_mae: 0.1321\n",
            "Epoch 56/200\n",
            "25/26 [===========================>..] - ETA: 0s - loss: 0.1107 - mae: 0.2518\n",
            "Epoch 56: val_mae did not improve from 0.10674\n",
            "26/26 [==============================] - 1s 45ms/step - loss: 0.1094 - mae: 0.2503 - val_loss: 0.0425 - val_mae: 0.1235\n",
            "Epoch 57/200\n",
            "26/26 [==============================] - ETA: 0s - loss: 0.0947 - mae: 0.2381\n",
            "Epoch 57: val_mae did not improve from 0.10674\n",
            "26/26 [==============================] - 1s 42ms/step - loss: 0.0947 - mae: 0.2381 - val_loss: 0.0411 - val_mae: 0.1273\n",
            "Epoch 58/200\n",
            "25/26 [===========================>..] - ETA: 0s - loss: 0.1008 - mae: 0.2402\n",
            "Epoch 58: val_mae did not improve from 0.10674\n",
            "26/26 [==============================] - 2s 65ms/step - loss: 0.1032 - mae: 0.2414 - val_loss: 0.0394 - val_mae: 0.1193\n",
            "Epoch 59/200\n",
            "26/26 [==============================] - ETA: 0s - loss: 0.0997 - mae: 0.2394\n",
            "Epoch 59: val_mae did not improve from 0.10674\n",
            "26/26 [==============================] - 2s 62ms/step - loss: 0.0997 - mae: 0.2394 - val_loss: 0.0408 - val_mae: 0.1262\n",
            "Epoch 60/200\n",
            "25/26 [===========================>..] - ETA: 0s - loss: 0.1000 - mae: 0.2382\n",
            "Epoch 60: val_mae did not improve from 0.10674\n",
            "26/26 [==============================] - 1s 45ms/step - loss: 0.0998 - mae: 0.2386 - val_loss: 0.0452 - val_mae: 0.1398\n",
            "Epoch 61/200\n",
            "26/26 [==============================] - ETA: 0s - loss: 0.0874 - mae: 0.2260\n",
            "Epoch 61: val_mae did not improve from 0.10674\n",
            "26/26 [==============================] - 1s 42ms/step - loss: 0.0874 - mae: 0.2260 - val_loss: 0.0409 - val_mae: 0.1257\n",
            "Epoch 62/200\n",
            "26/26 [==============================] - ETA: 0s - loss: 0.0923 - mae: 0.2284\n",
            "Epoch 62: val_mae did not improve from 0.10674\n",
            "26/26 [==============================] - 1s 44ms/step - loss: 0.0923 - mae: 0.2284 - val_loss: 0.0399 - val_mae: 0.1332\n",
            "Epoch 63/200\n",
            "25/26 [===========================>..] - ETA: 0s - loss: 0.0807 - mae: 0.2184\n",
            "Epoch 63: val_mae did not improve from 0.10674\n",
            "26/26 [==============================] - 1s 43ms/step - loss: 0.0821 - mae: 0.2203 - val_loss: 0.0395 - val_mae: 0.1285\n",
            "Epoch 64/200\n",
            "25/26 [===========================>..] - ETA: 0s - loss: 0.0802 - mae: 0.2157\n",
            "Epoch 64: val_mae did not improve from 0.10674\n",
            "26/26 [==============================] - 1s 43ms/step - loss: 0.0800 - mae: 0.2153 - val_loss: 0.0423 - val_mae: 0.1379\n",
            "Epoch 65/200\n",
            "25/26 [===========================>..] - ETA: 0s - loss: 0.0892 - mae: 0.2213\n",
            "Epoch 65: val_mae did not improve from 0.10674\n",
            "26/26 [==============================] - 1s 43ms/step - loss: 0.0882 - mae: 0.2204 - val_loss: 0.0377 - val_mae: 0.1124\n",
            "Epoch 66/200\n",
            "25/26 [===========================>..] - ETA: 0s - loss: 0.0765 - mae: 0.2033\n",
            "Epoch 66: val_mae did not improve from 0.10674\n",
            "26/26 [==============================] - 1s 43ms/step - loss: 0.0773 - mae: 0.2043 - val_loss: 0.0403 - val_mae: 0.1193\n",
            "Epoch 67/200\n",
            "25/26 [===========================>..] - ETA: 0s - loss: 0.0725 - mae: 0.2040\n",
            "Epoch 67: val_mae did not improve from 0.10674\n",
            "26/26 [==============================] - 1s 43ms/step - loss: 0.0743 - mae: 0.2050 - val_loss: 0.0409 - val_mae: 0.1316\n",
            "Epoch 68/200\n",
            "26/26 [==============================] - ETA: 0s - loss: 0.0702 - mae: 0.2050\n",
            "Epoch 68: val_mae did not improve from 0.10674\n",
            "26/26 [==============================] - 1s 56ms/step - loss: 0.0702 - mae: 0.2050 - val_loss: 0.0385 - val_mae: 0.1152\n",
            "Epoch 69/200\n",
            "25/26 [===========================>..] - ETA: 0s - loss: 0.0678 - mae: 0.1949\n",
            "Epoch 69: val_mae did not improve from 0.10674\n",
            "26/26 [==============================] - 2s 71ms/step - loss: 0.0669 - mae: 0.1934 - val_loss: 0.0412 - val_mae: 0.1283\n",
            "Epoch 70/200\n",
            "26/26 [==============================] - ETA: 0s - loss: 0.0661 - mae: 0.1918\n",
            "Epoch 70: val_mae did not improve from 0.10674\n",
            "26/26 [==============================] - 1s 47ms/step - loss: 0.0661 - mae: 0.1918 - val_loss: 0.0402 - val_mae: 0.1350\n",
            "Epoch 71/200\n",
            "25/26 [===========================>..] - ETA: 0s - loss: 0.0628 - mae: 0.1885\n",
            "Epoch 71: val_mae did not improve from 0.10674\n",
            "26/26 [==============================] - 1s 44ms/step - loss: 0.0633 - mae: 0.1896 - val_loss: 0.0407 - val_mae: 0.1362\n",
            "Epoch 72/200\n",
            "25/26 [===========================>..] - ETA: 0s - loss: 0.0596 - mae: 0.1812\n",
            "Epoch 72: val_mae did not improve from 0.10674\n",
            "26/26 [==============================] - 1s 44ms/step - loss: 0.0595 - mae: 0.1812 - val_loss: 0.0448 - val_mae: 0.1425\n",
            "Epoch 73/200\n",
            "26/26 [==============================] - ETA: 0s - loss: 0.0710 - mae: 0.1956\n",
            "Epoch 73: val_mae did not improve from 0.10674\n",
            "26/26 [==============================] - 1s 43ms/step - loss: 0.0710 - mae: 0.1956 - val_loss: 0.0568 - val_mae: 0.1676\n",
            "Epoch 74/200\n",
            "25/26 [===========================>..] - ETA: 0s - loss: 0.0641 - mae: 0.1881\n",
            "Epoch 74: val_mae did not improve from 0.10674\n",
            "26/26 [==============================] - 1s 42ms/step - loss: 0.0635 - mae: 0.1874 - val_loss: 0.0532 - val_mae: 0.1650\n",
            "Epoch 75/200\n",
            "26/26 [==============================] - ETA: 0s - loss: 0.0536 - mae: 0.1748\n",
            "Epoch 75: val_mae did not improve from 0.10674\n",
            "26/26 [==============================] - 1s 43ms/step - loss: 0.0536 - mae: 0.1748 - val_loss: 0.0490 - val_mae: 0.1558\n",
            "Epoch 76/200\n",
            "25/26 [===========================>..] - ETA: 0s - loss: 0.0547 - mae: 0.1743\n",
            "Epoch 76: val_mae did not improve from 0.10674\n",
            "26/26 [==============================] - 1s 43ms/step - loss: 0.0543 - mae: 0.1735 - val_loss: 0.0441 - val_mae: 0.1476\n",
            "Epoch 77/200\n",
            "25/26 [===========================>..] - ETA: 0s - loss: 0.0618 - mae: 0.1737\n",
            "Epoch 77: val_mae did not improve from 0.10674\n",
            "26/26 [==============================] - 1s 42ms/step - loss: 0.0606 - mae: 0.1718 - val_loss: 0.0443 - val_mae: 0.1474\n",
            "Epoch 78/200\n",
            "25/26 [===========================>..] - ETA: 0s - loss: 0.0498 - mae: 0.1633\n",
            "Epoch 78: val_mae did not improve from 0.10674\n",
            "26/26 [==============================] - 1s 43ms/step - loss: 0.0503 - mae: 0.1641 - val_loss: 0.0417 - val_mae: 0.1391\n",
            "Epoch 79/200\n",
            "26/26 [==============================] - ETA: 0s - loss: 0.0513 - mae: 0.1713\n",
            "Epoch 79: val_mae did not improve from 0.10674\n",
            "26/26 [==============================] - 2s 69ms/step - loss: 0.0513 - mae: 0.1713 - val_loss: 0.0391 - val_mae: 0.1309\n",
            "Epoch 80/200\n",
            "25/26 [===========================>..] - ETA: 0s - loss: 0.0446 - mae: 0.1555\n",
            "Epoch 80: val_mae did not improve from 0.10674\n",
            "26/26 [==============================] - 2s 60ms/step - loss: 0.0453 - mae: 0.1565 - val_loss: 0.0372 - val_mae: 0.1165\n",
            "Epoch 81/200\n",
            "25/26 [===========================>..] - ETA: 0s - loss: 0.0447 - mae: 0.1561\n",
            "Epoch 81: val_mae did not improve from 0.10674\n",
            "26/26 [==============================] - 1s 43ms/step - loss: 0.0444 - mae: 0.1557 - val_loss: 0.0358 - val_mae: 0.1160\n",
            "Epoch 82/200\n",
            "25/26 [===========================>..] - ETA: 0s - loss: 0.0468 - mae: 0.1597\n",
            "Epoch 82: val_mae did not improve from 0.10674\n",
            "26/26 [==============================] - 1s 44ms/step - loss: 0.0464 - mae: 0.1591 - val_loss: 0.0373 - val_mae: 0.1239\n",
            "Epoch 83/200\n",
            "25/26 [===========================>..] - ETA: 0s - loss: 0.0420 - mae: 0.1540\n",
            "Epoch 83: val_mae did not improve from 0.10674\n",
            "26/26 [==============================] - 1s 43ms/step - loss: 0.0438 - mae: 0.1553 - val_loss: 0.0385 - val_mae: 0.1111\n",
            "Epoch 84/200\n",
            "25/26 [===========================>..] - ETA: 0s - loss: 0.0450 - mae: 0.1570\n",
            "Epoch 84: val_mae did not improve from 0.10674\n",
            "26/26 [==============================] - 1s 43ms/step - loss: 0.0444 - mae: 0.1555 - val_loss: 0.0345 - val_mae: 0.1119\n",
            "Epoch 85/200\n",
            "26/26 [==============================] - ETA: 0s - loss: 0.0414 - mae: 0.1514\n",
            "Epoch 85: val_mae did not improve from 0.10674\n",
            "26/26 [==============================] - 1s 44ms/step - loss: 0.0414 - mae: 0.1514 - val_loss: 0.0341 - val_mae: 0.1164\n",
            "Epoch 86/200\n",
            "25/26 [===========================>..] - ETA: 0s - loss: 0.0431 - mae: 0.1528\n",
            "Epoch 86: val_mae did not improve from 0.10674\n",
            "26/26 [==============================] - 1s 44ms/step - loss: 0.0442 - mae: 0.1527 - val_loss: 0.0354 - val_mae: 0.1238\n",
            "Epoch 87/200\n",
            "25/26 [===========================>..] - ETA: 0s - loss: 0.0379 - mae: 0.1440\n",
            "Epoch 87: val_mae did not improve from 0.10674\n",
            "26/26 [==============================] - 1s 44ms/step - loss: 0.0377 - mae: 0.1440 - val_loss: 0.0329 - val_mae: 0.1150\n",
            "Epoch 88/200\n",
            "25/26 [===========================>..] - ETA: 0s - loss: 0.0383 - mae: 0.1383\n",
            "Epoch 88: val_mae did not improve from 0.10674\n",
            "26/26 [==============================] - 1s 45ms/step - loss: 0.0385 - mae: 0.1392 - val_loss: 0.0318 - val_mae: 0.1133\n",
            "Epoch 89/200\n",
            "25/26 [===========================>..] - ETA: 0s - loss: 0.0386 - mae: 0.1401\n",
            "Epoch 89: val_mae did not improve from 0.10674\n",
            "26/26 [==============================] - 1s 52ms/step - loss: 0.0382 - mae: 0.1396 - val_loss: 0.0341 - val_mae: 0.1156\n",
            "Epoch 90/200\n",
            "25/26 [===========================>..] - ETA: 0s - loss: 0.0415 - mae: 0.1422\n",
            "Epoch 90: val_mae did not improve from 0.10674\n",
            "26/26 [==============================] - 2s 64ms/step - loss: 0.0418 - mae: 0.1427 - val_loss: 0.0327 - val_mae: 0.1124\n",
            "Epoch 91/200\n",
            "26/26 [==============================] - ETA: 0s - loss: 0.0306 - mae: 0.1260\n",
            "Epoch 91: val_mae did not improve from 0.10674\n",
            "26/26 [==============================] - 1s 53ms/step - loss: 0.0306 - mae: 0.1260 - val_loss: 0.0324 - val_mae: 0.1111\n",
            "Epoch 92/200\n",
            "25/26 [===========================>..] - ETA: 0s - loss: 0.0372 - mae: 0.1348\n",
            "Epoch 92: val_mae did not improve from 0.10674\n",
            "26/26 [==============================] - 1s 42ms/step - loss: 0.0370 - mae: 0.1343 - val_loss: 0.0339 - val_mae: 0.1111\n",
            "Epoch 93/200\n",
            "25/26 [===========================>..] - ETA: 0s - loss: 0.0335 - mae: 0.1295\n",
            "Epoch 93: val_mae did not improve from 0.10674\n",
            "26/26 [==============================] - 1s 42ms/step - loss: 0.0330 - mae: 0.1286 - val_loss: 0.0315 - val_mae: 0.1079\n",
            "Epoch 94/200\n",
            "26/26 [==============================] - ETA: 0s - loss: 0.0350 - mae: 0.1313\n",
            "Epoch 94: val_mae improved from 0.10674 to 0.10595, saving model to /content/drive/MyDrive/Colab Notebooks/Стажировка/architecture.hdf5\n",
            "26/26 [==============================] - 3s 135ms/step - loss: 0.0350 - mae: 0.1313 - val_loss: 0.0299 - val_mae: 0.1059\n",
            "Epoch 95/200\n",
            "25/26 [===========================>..] - ETA: 0s - loss: 0.0343 - mae: 0.1307\n",
            "Epoch 95: val_mae improved from 0.10595 to 0.10507, saving model to /content/drive/MyDrive/Colab Notebooks/Стажировка/architecture.hdf5\n",
            "26/26 [==============================] - 1s 53ms/step - loss: 0.0342 - mae: 0.1306 - val_loss: 0.0293 - val_mae: 0.1051\n",
            "Epoch 96/200\n",
            "25/26 [===========================>..] - ETA: 0s - loss: 0.0306 - mae: 0.1262\n",
            "Epoch 96: val_mae did not improve from 0.10507\n",
            "26/26 [==============================] - 1s 43ms/step - loss: 0.0314 - mae: 0.1278 - val_loss: 0.0300 - val_mae: 0.1098\n",
            "Epoch 97/200\n",
            "25/26 [===========================>..] - ETA: 0s - loss: 0.0252 - mae: 0.1124\n",
            "Epoch 97: val_mae did not improve from 0.10507\n",
            "26/26 [==============================] - 1s 43ms/step - loss: 0.0254 - mae: 0.1134 - val_loss: 0.0293 - val_mae: 0.1078\n",
            "Epoch 98/200\n",
            "25/26 [===========================>..] - ETA: 0s - loss: 0.0304 - mae: 0.1233\n",
            "Epoch 98: val_mae did not improve from 0.10507\n",
            "26/26 [==============================] - 2s 70ms/step - loss: 0.0301 - mae: 0.1230 - val_loss: 0.0284 - val_mae: 0.1053\n",
            "Epoch 99/200\n",
            "25/26 [===========================>..] - ETA: 0s - loss: 0.0236 - mae: 0.1106\n",
            "Epoch 99: val_mae did not improve from 0.10507\n",
            "26/26 [==============================] - 2s 60ms/step - loss: 0.0240 - mae: 0.1115 - val_loss: 0.0294 - val_mae: 0.1091\n",
            "Epoch 100/200\n",
            "25/26 [===========================>..] - ETA: 0s - loss: 0.0244 - mae: 0.1121\n",
            "Epoch 100: val_mae did not improve from 0.10507\n",
            "26/26 [==============================] - 1s 43ms/step - loss: 0.0241 - mae: 0.1115 - val_loss: 0.0295 - val_mae: 0.1077\n",
            "Epoch 101/200\n",
            "25/26 [===========================>..] - ETA: 0s - loss: 0.0229 - mae: 0.1101\n",
            "Epoch 101: val_mae did not improve from 0.10507\n",
            "26/26 [==============================] - 1s 44ms/step - loss: 0.0225 - mae: 0.1092 - val_loss: 0.0289 - val_mae: 0.1065\n",
            "Epoch 102/200\n",
            "25/26 [===========================>..] - ETA: 0s - loss: 0.0238 - mae: 0.1078\n",
            "Epoch 102: val_mae did not improve from 0.10507\n",
            "26/26 [==============================] - 1s 48ms/step - loss: 0.0236 - mae: 0.1079 - val_loss: 0.0287 - val_mae: 0.1069\n",
            "Epoch 103/200\n",
            "26/26 [==============================] - ETA: 0s - loss: 0.0244 - mae: 0.1052\n",
            "Epoch 103: val_mae did not improve from 0.10507\n",
            "26/26 [==============================] - 1s 46ms/step - loss: 0.0244 - mae: 0.1052 - val_loss: 0.0299 - val_mae: 0.1109\n",
            "Epoch 104/200\n",
            "25/26 [===========================>..] - ETA: 0s - loss: 0.0256 - mae: 0.1093\n",
            "Epoch 104: val_mae did not improve from 0.10507\n",
            "26/26 [==============================] - 1s 45ms/step - loss: 0.0254 - mae: 0.1093 - val_loss: 0.0315 - val_mae: 0.1095\n",
            "Epoch 105/200\n",
            "26/26 [==============================] - ETA: 0s - loss: 0.0212 - mae: 0.1021\n",
            "Epoch 105: val_mae did not improve from 0.10507\n",
            "26/26 [==============================] - 1s 46ms/step - loss: 0.0212 - mae: 0.1021 - val_loss: 0.0312 - val_mae: 0.1110\n",
            "Epoch 106/200\n",
            "25/26 [===========================>..] - ETA: 0s - loss: 0.0237 - mae: 0.1031\n",
            "Epoch 106: val_mae did not improve from 0.10507\n",
            "26/26 [==============================] - 1s 43ms/step - loss: 0.0235 - mae: 0.1030 - val_loss: 0.0307 - val_mae: 0.1131\n",
            "Epoch 107/200\n",
            "25/26 [===========================>..] - ETA: 0s - loss: 0.0187 - mae: 0.0968\n",
            "Epoch 107: val_mae did not improve from 0.10507\n",
            "26/26 [==============================] - 1s 44ms/step - loss: 0.0188 - mae: 0.0973 - val_loss: 0.0299 - val_mae: 0.1111\n",
            "Epoch 108/200\n",
            "26/26 [==============================] - ETA: 0s - loss: 0.0177 - mae: 0.0918\n",
            "Epoch 108: val_mae did not improve from 0.10507\n",
            "26/26 [==============================] - 2s 62ms/step - loss: 0.0177 - mae: 0.0918 - val_loss: 0.0321 - val_mae: 0.1175\n",
            "Epoch 109/200\n",
            "26/26 [==============================] - ETA: 0s - loss: 0.0230 - mae: 0.1001\n",
            "Epoch 109: val_mae did not improve from 0.10507\n",
            "26/26 [==============================] - 2s 70ms/step - loss: 0.0230 - mae: 0.1001 - val_loss: 0.0313 - val_mae: 0.1161\n",
            "Epoch 110/200\n",
            "25/26 [===========================>..] - ETA: 0s - loss: 0.0238 - mae: 0.1030\n",
            "Epoch 110: val_mae did not improve from 0.10507\n",
            "26/26 [==============================] - 1s 44ms/step - loss: 0.0241 - mae: 0.1040 - val_loss: 0.0301 - val_mae: 0.1133\n",
            "Epoch 111/200\n",
            "25/26 [===========================>..] - ETA: 0s - loss: 0.0198 - mae: 0.1004\n",
            "Epoch 111: val_mae did not improve from 0.10507\n",
            "26/26 [==============================] - 1s 44ms/step - loss: 0.0196 - mae: 0.0998 - val_loss: 0.0300 - val_mae: 0.1081\n",
            "Epoch 112/200\n",
            "26/26 [==============================] - ETA: 0s - loss: 0.0258 - mae: 0.1031\n",
            "Epoch 112: val_mae did not improve from 0.10507\n",
            "26/26 [==============================] - 1s 45ms/step - loss: 0.0258 - mae: 0.1031 - val_loss: 0.0319 - val_mae: 0.1079\n",
            "Epoch 113/200\n",
            "25/26 [===========================>..] - ETA: 0s - loss: 0.0201 - mae: 0.0972\n",
            "Epoch 113: val_mae improved from 0.10507 to 0.09939, saving model to /content/drive/MyDrive/Colab Notebooks/Стажировка/architecture.hdf5\n",
            "26/26 [==============================] - 2s 75ms/step - loss: 0.0208 - mae: 0.0981 - val_loss: 0.0270 - val_mae: 0.0994\n",
            "Epoch 114/200\n",
            "25/26 [===========================>..] - ETA: 0s - loss: 0.0210 - mae: 0.0972\n",
            "Epoch 114: val_mae did not improve from 0.09939\n",
            "26/26 [==============================] - 1s 43ms/step - loss: 0.0207 - mae: 0.0968 - val_loss: 0.0258 - val_mae: 0.0996\n",
            "Epoch 115/200\n",
            "25/26 [===========================>..] - ETA: 0s - loss: 0.0168 - mae: 0.0880\n",
            "Epoch 115: val_mae improved from 0.09939 to 0.09918, saving model to /content/drive/MyDrive/Colab Notebooks/Стажировка/architecture.hdf5\n",
            "26/26 [==============================] - 1s 54ms/step - loss: 0.0168 - mae: 0.0884 - val_loss: 0.0272 - val_mae: 0.0992\n",
            "Epoch 116/200\n",
            "25/26 [===========================>..] - ETA: 0s - loss: 0.0200 - mae: 0.0922\n",
            "Epoch 116: val_mae improved from 0.09918 to 0.09428, saving model to /content/drive/MyDrive/Colab Notebooks/Стажировка/architecture.hdf5\n",
            "26/26 [==============================] - 1s 54ms/step - loss: 0.0199 - mae: 0.0924 - val_loss: 0.0265 - val_mae: 0.0943\n",
            "Epoch 117/200\n",
            "25/26 [===========================>..] - ETA: 0s - loss: 0.0150 - mae: 0.0861\n",
            "Epoch 117: val_mae did not improve from 0.09428\n",
            "26/26 [==============================] - 2s 64ms/step - loss: 0.0148 - mae: 0.0856 - val_loss: 0.0260 - val_mae: 0.0968\n",
            "Epoch 118/200\n",
            "26/26 [==============================] - ETA: 0s - loss: 0.0161 - mae: 0.0891\n",
            "Epoch 118: val_mae did not improve from 0.09428\n",
            "26/26 [==============================] - 2s 63ms/step - loss: 0.0161 - mae: 0.0891 - val_loss: 0.0292 - val_mae: 0.1038\n",
            "Epoch 119/200\n",
            "26/26 [==============================] - ETA: 0s - loss: 0.0166 - mae: 0.0870\n",
            "Epoch 119: val_mae did not improve from 0.09428\n",
            "26/26 [==============================] - 1s 45ms/step - loss: 0.0166 - mae: 0.0870 - val_loss: 0.0292 - val_mae: 0.1025\n",
            "Epoch 120/200\n",
            "25/26 [===========================>..] - ETA: 0s - loss: 0.0208 - mae: 0.0928\n",
            "Epoch 120: val_mae did not improve from 0.09428\n",
            "26/26 [==============================] - 1s 43ms/step - loss: 0.0210 - mae: 0.0936 - val_loss: 0.0267 - val_mae: 0.0970\n",
            "Epoch 121/200\n",
            "26/26 [==============================] - ETA: 0s - loss: 0.0130 - mae: 0.0789\n",
            "Epoch 121: val_mae did not improve from 0.09428\n",
            "26/26 [==============================] - 1s 48ms/step - loss: 0.0130 - mae: 0.0789 - val_loss: 0.0266 - val_mae: 0.0954\n",
            "Epoch 122/200\n",
            "26/26 [==============================] - ETA: 0s - loss: 0.0128 - mae: 0.0772\n",
            "Epoch 122: val_mae improved from 0.09428 to 0.09280, saving model to /content/drive/MyDrive/Colab Notebooks/Стажировка/architecture.hdf5\n",
            "26/26 [==============================] - 1s 53ms/step - loss: 0.0128 - mae: 0.0772 - val_loss: 0.0271 - val_mae: 0.0928\n",
            "Epoch 123/200\n",
            "25/26 [===========================>..] - ETA: 0s - loss: 0.0167 - mae: 0.0872\n",
            "Epoch 123: val_mae did not improve from 0.09280\n",
            "26/26 [==============================] - 1s 43ms/step - loss: 0.0165 - mae: 0.0866 - val_loss: 0.0298 - val_mae: 0.1000\n",
            "Epoch 124/200\n",
            "25/26 [===========================>..] - ETA: 0s - loss: 0.0149 - mae: 0.0779\n",
            "Epoch 124: val_mae did not improve from 0.09280\n",
            "26/26 [==============================] - 1s 43ms/step - loss: 0.0150 - mae: 0.0787 - val_loss: 0.0320 - val_mae: 0.1061\n",
            "Epoch 125/200\n",
            "25/26 [===========================>..] - ETA: 0s - loss: 0.0158 - mae: 0.0829\n",
            "Epoch 125: val_mae did not improve from 0.09280\n",
            "26/26 [==============================] - 1s 44ms/step - loss: 0.0165 - mae: 0.0834 - val_loss: 0.0288 - val_mae: 0.0999\n",
            "Epoch 126/200\n",
            "25/26 [===========================>..] - ETA: 0s - loss: 0.0170 - mae: 0.0814\n",
            "Epoch 126: val_mae did not improve from 0.09280\n",
            "26/26 [==============================] - 1s 46ms/step - loss: 0.0170 - mae: 0.0815 - val_loss: 0.0276 - val_mae: 0.0967\n",
            "Epoch 127/200\n",
            "26/26 [==============================] - ETA: 0s - loss: 0.0142 - mae: 0.0762\n",
            "Epoch 127: val_mae did not improve from 0.09280\n",
            "26/26 [==============================] - 1s 56ms/step - loss: 0.0142 - mae: 0.0762 - val_loss: 0.0282 - val_mae: 0.0965\n",
            "Epoch 128/200\n",
            "26/26 [==============================] - ETA: 0s - loss: 0.0135 - mae: 0.0783\n",
            "Epoch 128: val_mae improved from 0.09280 to 0.08980, saving model to /content/drive/MyDrive/Colab Notebooks/Стажировка/architecture.hdf5\n",
            "26/26 [==============================] - 2s 83ms/step - loss: 0.0135 - mae: 0.0783 - val_loss: 0.0258 - val_mae: 0.0898\n",
            "Epoch 129/200\n",
            "25/26 [===========================>..] - ETA: 0s - loss: 0.0120 - mae: 0.0750\n",
            "Epoch 129: val_mae improved from 0.08980 to 0.08754, saving model to /content/drive/MyDrive/Colab Notebooks/Стажировка/architecture.hdf5\n",
            "26/26 [==============================] - 1s 54ms/step - loss: 0.0129 - mae: 0.0768 - val_loss: 0.0288 - val_mae: 0.0875\n",
            "Epoch 130/200\n",
            "25/26 [===========================>..] - ETA: 0s - loss: 0.0170 - mae: 0.0794\n",
            "Epoch 130: val_mae did not improve from 0.08754\n",
            "26/26 [==============================] - 1s 44ms/step - loss: 0.0170 - mae: 0.0792 - val_loss: 0.0257 - val_mae: 0.0893\n",
            "Epoch 131/200\n",
            "26/26 [==============================] - ETA: 0s - loss: 0.0136 - mae: 0.0735\n",
            "Epoch 131: val_mae did not improve from 0.08754\n",
            "26/26 [==============================] - 1s 43ms/step - loss: 0.0136 - mae: 0.0735 - val_loss: 0.0247 - val_mae: 0.0882\n",
            "Epoch 132/200\n",
            "25/26 [===========================>..] - ETA: 0s - loss: 0.0167 - mae: 0.0783\n",
            "Epoch 132: val_mae did not improve from 0.08754\n",
            "26/26 [==============================] - 1s 44ms/step - loss: 0.0167 - mae: 0.0789 - val_loss: 0.0256 - val_mae: 0.0966\n",
            "Epoch 133/200\n",
            "26/26 [==============================] - ETA: 0s - loss: 0.0157 - mae: 0.0798\n",
            "Epoch 133: val_mae did not improve from 0.08754\n",
            "26/26 [==============================] - 1s 44ms/step - loss: 0.0157 - mae: 0.0798 - val_loss: 0.0236 - val_mae: 0.0915\n",
            "Epoch 134/200\n",
            "25/26 [===========================>..] - ETA: 0s - loss: 0.0107 - mae: 0.0687\n",
            "Epoch 134: val_mae did not improve from 0.08754\n",
            "26/26 [==============================] - 1s 48ms/step - loss: 0.0108 - mae: 0.0691 - val_loss: 0.0241 - val_mae: 0.0935\n",
            "Epoch 135/200\n",
            "25/26 [===========================>..] - ETA: 0s - loss: 0.0118 - mae: 0.0696\n",
            "Epoch 135: val_mae did not improve from 0.08754\n",
            "26/26 [==============================] - 1s 48ms/step - loss: 0.0133 - mae: 0.0709 - val_loss: 0.0244 - val_mae: 0.0934\n",
            "Epoch 136/200\n",
            "25/26 [===========================>..] - ETA: 0s - loss: 0.0130 - mae: 0.0715\n",
            "Epoch 136: val_mae did not improve from 0.08754\n",
            "26/26 [==============================] - 1s 43ms/step - loss: 0.0128 - mae: 0.0713 - val_loss: 0.0242 - val_mae: 0.0994\n",
            "Epoch 137/200\n",
            "26/26 [==============================] - ETA: 0s - loss: 0.0126 - mae: 0.0707\n",
            "Epoch 137: val_mae did not improve from 0.08754\n",
            "26/26 [==============================] - 2s 60ms/step - loss: 0.0126 - mae: 0.0707 - val_loss: 0.0220 - val_mae: 0.0899\n",
            "Epoch 138/200\n",
            "26/26 [==============================] - ETA: 0s - loss: 0.0113 - mae: 0.0690\n",
            "Epoch 138: val_mae did not improve from 0.08754\n",
            "26/26 [==============================] - 2s 70ms/step - loss: 0.0113 - mae: 0.0690 - val_loss: 0.0223 - val_mae: 0.0918\n",
            "Epoch 139/200\n",
            "25/26 [===========================>..] - ETA: 0s - loss: 0.0107 - mae: 0.0659\n",
            "Epoch 139: val_mae did not improve from 0.08754\n",
            "26/26 [==============================] - 1s 45ms/step - loss: 0.0108 - mae: 0.0659 - val_loss: 0.0235 - val_mae: 0.0962\n",
            "Epoch 140/200\n",
            "25/26 [===========================>..] - ETA: 0s - loss: 0.0120 - mae: 0.0703\n",
            "Epoch 140: val_mae did not improve from 0.08754\n",
            "26/26 [==============================] - 1s 45ms/step - loss: 0.0119 - mae: 0.0700 - val_loss: 0.0258 - val_mae: 0.1007\n",
            "Epoch 141/200\n",
            "25/26 [===========================>..] - ETA: 0s - loss: 0.0119 - mae: 0.0669\n",
            "Epoch 141: val_mae did not improve from 0.08754\n",
            "26/26 [==============================] - 1s 43ms/step - loss: 0.0116 - mae: 0.0664 - val_loss: 0.0217 - val_mae: 0.0890\n",
            "Epoch 142/200\n",
            "25/26 [===========================>..] - ETA: 0s - loss: 0.0097 - mae: 0.0632\n",
            "Epoch 142: val_mae did not improve from 0.08754\n",
            "26/26 [==============================] - 1s 44ms/step - loss: 0.0097 - mae: 0.0632 - val_loss: 0.0212 - val_mae: 0.0880\n",
            "Epoch 143/200\n",
            "25/26 [===========================>..] - ETA: 0s - loss: 0.0136 - mae: 0.0709\n",
            "Epoch 143: val_mae improved from 0.08754 to 0.08407, saving model to /content/drive/MyDrive/Colab Notebooks/Стажировка/architecture.hdf5\n",
            "26/26 [==============================] - 2s 77ms/step - loss: 0.0135 - mae: 0.0709 - val_loss: 0.0210 - val_mae: 0.0841\n",
            "Epoch 144/200\n",
            "25/26 [===========================>..] - ETA: 0s - loss: 0.0112 - mae: 0.0648\n",
            "Epoch 144: val_mae did not improve from 0.08407\n",
            "26/26 [==============================] - 1s 43ms/step - loss: 0.0112 - mae: 0.0647 - val_loss: 0.0226 - val_mae: 0.0872\n",
            "Epoch 145/200\n",
            "25/26 [===========================>..] - ETA: 0s - loss: 0.0120 - mae: 0.0692\n",
            "Epoch 145: val_mae did not improve from 0.08407\n",
            "26/26 [==============================] - 1s 46ms/step - loss: 0.0124 - mae: 0.0700 - val_loss: 0.0238 - val_mae: 0.0907\n",
            "Epoch 146/200\n",
            "26/26 [==============================] - ETA: 0s - loss: 0.0100 - mae: 0.0652\n",
            "Epoch 146: val_mae did not improve from 0.08407\n",
            "26/26 [==============================] - 1s 54ms/step - loss: 0.0100 - mae: 0.0652 - val_loss: 0.0223 - val_mae: 0.0858\n",
            "Epoch 147/200\n",
            "26/26 [==============================] - ETA: 0s - loss: 0.0107 - mae: 0.0631\n",
            "Epoch 147: val_mae did not improve from 0.08407\n",
            "26/26 [==============================] - 2s 67ms/step - loss: 0.0107 - mae: 0.0631 - val_loss: 0.0240 - val_mae: 0.0915\n",
            "Epoch 148/200\n",
            "25/26 [===========================>..] - ETA: 0s - loss: 0.0094 - mae: 0.0612\n",
            "Epoch 148: val_mae did not improve from 0.08407\n",
            "26/26 [==============================] - 1s 53ms/step - loss: 0.0093 - mae: 0.0611 - val_loss: 0.0214 - val_mae: 0.0855\n",
            "Epoch 149/200\n",
            "25/26 [===========================>..] - ETA: 0s - loss: 0.0120 - mae: 0.0653\n",
            "Epoch 149: val_mae improved from 0.08407 to 0.08100, saving model to /content/drive/MyDrive/Colab Notebooks/Стажировка/architecture.hdf5\n",
            "26/26 [==============================] - 1s 53ms/step - loss: 0.0119 - mae: 0.0651 - val_loss: 0.0207 - val_mae: 0.0810\n",
            "Epoch 150/200\n",
            "25/26 [===========================>..] - ETA: 0s - loss: 0.0120 - mae: 0.0671\n",
            "Epoch 150: val_mae improved from 0.08100 to 0.08000, saving model to /content/drive/MyDrive/Colab Notebooks/Стажировка/architecture.hdf5\n",
            "26/26 [==============================] - 1s 54ms/step - loss: 0.0118 - mae: 0.0668 - val_loss: 0.0196 - val_mae: 0.0800\n",
            "Epoch 151/200\n",
            "25/26 [===========================>..] - ETA: 0s - loss: 0.0116 - mae: 0.0642\n",
            "Epoch 151: val_mae improved from 0.08000 to 0.07737, saving model to /content/drive/MyDrive/Colab Notebooks/Стажировка/architecture.hdf5\n",
            "26/26 [==============================] - 1s 55ms/step - loss: 0.0113 - mae: 0.0637 - val_loss: 0.0193 - val_mae: 0.0774\n",
            "Epoch 152/200\n",
            "25/26 [===========================>..] - ETA: 0s - loss: 0.0086 - mae: 0.0591\n",
            "Epoch 152: val_mae did not improve from 0.07737\n",
            "26/26 [==============================] - 1s 43ms/step - loss: 0.0089 - mae: 0.0598 - val_loss: 0.0190 - val_mae: 0.0778\n",
            "Epoch 153/200\n",
            "25/26 [===========================>..] - ETA: 0s - loss: 0.0097 - mae: 0.0618\n",
            "Epoch 153: val_mae improved from 0.07737 to 0.07504, saving model to /content/drive/MyDrive/Colab Notebooks/Стажировка/architecture.hdf5\n",
            "26/26 [==============================] - 1s 55ms/step - loss: 0.0098 - mae: 0.0621 - val_loss: 0.0180 - val_mae: 0.0750\n",
            "Epoch 154/200\n",
            "26/26 [==============================] - ETA: 0s - loss: 0.0130 - mae: 0.0622\n",
            "Epoch 154: val_mae did not improve from 0.07504\n",
            "26/26 [==============================] - 1s 46ms/step - loss: 0.0130 - mae: 0.0622 - val_loss: 0.0171 - val_mae: 0.0774\n",
            "Epoch 155/200\n",
            "26/26 [==============================] - ETA: 0s - loss: 0.0084 - mae: 0.0572\n",
            "Epoch 155: val_mae did not improve from 0.07504\n",
            "26/26 [==============================] - 1s 44ms/step - loss: 0.0084 - mae: 0.0572 - val_loss: 0.0175 - val_mae: 0.0776\n",
            "Epoch 156/200\n",
            "26/26 [==============================] - ETA: 0s - loss: 0.0096 - mae: 0.0625\n",
            "Epoch 156: val_mae did not improve from 0.07504\n",
            "26/26 [==============================] - 2s 65ms/step - loss: 0.0096 - mae: 0.0625 - val_loss: 0.0174 - val_mae: 0.0774\n",
            "Epoch 157/200\n",
            "25/26 [===========================>..] - ETA: 0s - loss: 0.0085 - mae: 0.0542\n",
            "Epoch 157: val_mae did not improve from 0.07504\n",
            "26/26 [==============================] - 2s 64ms/step - loss: 0.0093 - mae: 0.0556 - val_loss: 0.0175 - val_mae: 0.0762\n",
            "Epoch 158/200\n",
            "26/26 [==============================] - ETA: 0s - loss: 0.0093 - mae: 0.0567\n",
            "Epoch 158: val_mae did not improve from 0.07504\n",
            "26/26 [==============================] - 1s 49ms/step - loss: 0.0093 - mae: 0.0567 - val_loss: 0.0183 - val_mae: 0.0789\n",
            "Epoch 159/200\n",
            "25/26 [===========================>..] - ETA: 0s - loss: 0.0071 - mae: 0.0547\n",
            "Epoch 159: val_mae did not improve from 0.07504\n",
            "26/26 [==============================] - 1s 43ms/step - loss: 0.0074 - mae: 0.0555 - val_loss: 0.0182 - val_mae: 0.0785\n",
            "Epoch 160/200\n",
            "25/26 [===========================>..] - ETA: 0s - loss: 0.0084 - mae: 0.0547\n",
            "Epoch 160: val_mae did not improve from 0.07504\n",
            "26/26 [==============================] - 1s 43ms/step - loss: 0.0083 - mae: 0.0547 - val_loss: 0.0178 - val_mae: 0.0778\n",
            "Epoch 161/200\n",
            "26/26 [==============================] - ETA: 0s - loss: 0.0092 - mae: 0.0568\n",
            "Epoch 161: val_mae did not improve from 0.07504\n",
            "26/26 [==============================] - 1s 44ms/step - loss: 0.0092 - mae: 0.0568 - val_loss: 0.0175 - val_mae: 0.0754\n",
            "Epoch 162/200\n",
            "25/26 [===========================>..] - ETA: 0s - loss: 0.0103 - mae: 0.0568\n",
            "Epoch 162: val_mae improved from 0.07504 to 0.07201, saving model to /content/drive/MyDrive/Colab Notebooks/Стажировка/architecture.hdf5\n",
            "26/26 [==============================] - 2s 76ms/step - loss: 0.0101 - mae: 0.0564 - val_loss: 0.0162 - val_mae: 0.0720\n",
            "Epoch 163/200\n",
            "25/26 [===========================>..] - ETA: 0s - loss: 0.0071 - mae: 0.0533\n",
            "Epoch 163: val_mae improved from 0.07201 to 0.07164, saving model to /content/drive/MyDrive/Colab Notebooks/Стажировка/architecture.hdf5\n",
            "26/26 [==============================] - 1s 56ms/step - loss: 0.0071 - mae: 0.0538 - val_loss: 0.0165 - val_mae: 0.0716\n",
            "Epoch 164/200\n",
            "25/26 [===========================>..] - ETA: 0s - loss: 0.0078 - mae: 0.0521\n",
            "Epoch 164: val_mae improved from 0.07164 to 0.07078, saving model to /content/drive/MyDrive/Colab Notebooks/Стажировка/architecture.hdf5\n",
            "26/26 [==============================] - 1s 55ms/step - loss: 0.0076 - mae: 0.0517 - val_loss: 0.0172 - val_mae: 0.0708\n",
            "Epoch 165/200\n",
            "26/26 [==============================] - ETA: 0s - loss: 0.0092 - mae: 0.0568\n",
            "Epoch 165: val_mae did not improve from 0.07078\n",
            "26/26 [==============================] - 2s 61ms/step - loss: 0.0092 - mae: 0.0568 - val_loss: 0.0167 - val_mae: 0.0710\n",
            "Epoch 166/200\n",
            "25/26 [===========================>..] - ETA: 0s - loss: 0.0077 - mae: 0.0528\n",
            "Epoch 166: val_mae improved from 0.07078 to 0.06837, saving model to /content/drive/MyDrive/Colab Notebooks/Стажировка/architecture.hdf5\n",
            "26/26 [==============================] - 2s 76ms/step - loss: 0.0076 - mae: 0.0526 - val_loss: 0.0156 - val_mae: 0.0684\n",
            "Epoch 167/200\n",
            "26/26 [==============================] - ETA: 0s - loss: 0.0104 - mae: 0.0562\n",
            "Epoch 167: val_mae did not improve from 0.06837\n",
            "26/26 [==============================] - 1s 45ms/step - loss: 0.0104 - mae: 0.0562 - val_loss: 0.0164 - val_mae: 0.0717\n",
            "Epoch 168/200\n",
            "25/26 [===========================>..] - ETA: 0s - loss: 0.0090 - mae: 0.0537\n",
            "Epoch 168: val_mae improved from 0.06837 to 0.06822, saving model to /content/drive/MyDrive/Colab Notebooks/Стажировка/architecture.hdf5\n",
            "26/26 [==============================] - 1s 53ms/step - loss: 0.0091 - mae: 0.0541 - val_loss: 0.0176 - val_mae: 0.0682\n",
            "Epoch 169/200\n",
            "26/26 [==============================] - ETA: 0s - loss: 0.0074 - mae: 0.0524\n",
            "Epoch 169: val_mae improved from 0.06822 to 0.06481, saving model to /content/drive/MyDrive/Colab Notebooks/Стажировка/architecture.hdf5\n",
            "26/26 [==============================] - 1s 55ms/step - loss: 0.0074 - mae: 0.0524 - val_loss: 0.0161 - val_mae: 0.0648\n",
            "Epoch 170/200\n",
            "25/26 [===========================>..] - ETA: 0s - loss: 0.0092 - mae: 0.0568\n",
            "Epoch 170: val_mae did not improve from 0.06481\n",
            "26/26 [==============================] - 1s 43ms/step - loss: 0.0090 - mae: 0.0560 - val_loss: 0.0163 - val_mae: 0.0659\n",
            "Epoch 171/200\n",
            "26/26 [==============================] - ETA: 0s - loss: 0.0072 - mae: 0.0494\n",
            "Epoch 171: val_mae did not improve from 0.06481\n",
            "26/26 [==============================] - 1s 46ms/step - loss: 0.0072 - mae: 0.0494 - val_loss: 0.0166 - val_mae: 0.0662\n",
            "Epoch 172/200\n",
            "25/26 [===========================>..] - ETA: 0s - loss: 0.0085 - mae: 0.0524\n",
            "Epoch 172: val_mae did not improve from 0.06481\n",
            "26/26 [==============================] - 1s 45ms/step - loss: 0.0085 - mae: 0.0526 - val_loss: 0.0170 - val_mae: 0.0670\n",
            "Epoch 173/200\n",
            "25/26 [===========================>..] - ETA: 0s - loss: 0.0079 - mae: 0.0506\n",
            "Epoch 173: val_mae did not improve from 0.06481\n",
            "26/26 [==============================] - 1s 44ms/step - loss: 0.0082 - mae: 0.0517 - val_loss: 0.0186 - val_mae: 0.0660\n",
            "Epoch 174/200\n",
            "25/26 [===========================>..] - ETA: 0s - loss: 0.0066 - mae: 0.0492\n",
            "Epoch 174: val_mae did not improve from 0.06481\n",
            "26/26 [==============================] - 1s 45ms/step - loss: 0.0065 - mae: 0.0490 - val_loss: 0.0206 - val_mae: 0.0666\n",
            "Epoch 175/200\n",
            "26/26 [==============================] - ETA: 0s - loss: 0.0077 - mae: 0.0494\n",
            "Epoch 175: val_mae did not improve from 0.06481\n",
            "26/26 [==============================] - 2s 61ms/step - loss: 0.0077 - mae: 0.0494 - val_loss: 0.0177 - val_mae: 0.0675\n",
            "Epoch 176/200\n",
            "26/26 [==============================] - ETA: 0s - loss: 0.0098 - mae: 0.0531\n",
            "Epoch 176: val_mae did not improve from 0.06481\n",
            "26/26 [==============================] - 2s 67ms/step - loss: 0.0098 - mae: 0.0531 - val_loss: 0.0183 - val_mae: 0.0703\n",
            "Epoch 177/200\n",
            "25/26 [===========================>..] - ETA: 0s - loss: 0.0087 - mae: 0.0516\n",
            "Epoch 177: val_mae did not improve from 0.06481\n",
            "26/26 [==============================] - 1s 52ms/step - loss: 0.0085 - mae: 0.0508 - val_loss: 0.0176 - val_mae: 0.0737\n",
            "Epoch 178/200\n",
            "25/26 [===========================>..] - ETA: 0s - loss: 0.0090 - mae: 0.0528\n",
            "Epoch 178: val_mae improved from 0.06481 to 0.06425, saving model to /content/drive/MyDrive/Colab Notebooks/Стажировка/architecture.hdf5\n",
            "26/26 [==============================] - 2s 74ms/step - loss: 0.0089 - mae: 0.0530 - val_loss: 0.0153 - val_mae: 0.0642\n",
            "Epoch 179/200\n",
            "25/26 [===========================>..] - ETA: 0s - loss: 0.0067 - mae: 0.0480\n",
            "Epoch 179: val_mae improved from 0.06425 to 0.06259, saving model to /content/drive/MyDrive/Colab Notebooks/Стажировка/architecture.hdf5\n",
            "26/26 [==============================] - 1s 57ms/step - loss: 0.0070 - mae: 0.0485 - val_loss: 0.0161 - val_mae: 0.0626\n",
            "Epoch 180/200\n",
            "25/26 [===========================>..] - ETA: 0s - loss: 0.0083 - mae: 0.0514\n",
            "Epoch 180: val_mae did not improve from 0.06259\n",
            "26/26 [==============================] - 1s 44ms/step - loss: 0.0081 - mae: 0.0509 - val_loss: 0.0170 - val_mae: 0.0653\n",
            "Epoch 181/200\n",
            "25/26 [===========================>..] - ETA: 0s - loss: 0.0074 - mae: 0.0479\n",
            "Epoch 181: val_mae did not improve from 0.06259\n",
            "26/26 [==============================] - 1s 44ms/step - loss: 0.0079 - mae: 0.0486 - val_loss: 0.0161 - val_mae: 0.0649\n",
            "Epoch 182/200\n",
            "26/26 [==============================] - ETA: 0s - loss: 0.0071 - mae: 0.0484\n",
            "Epoch 182: val_mae improved from 0.06259 to 0.06237, saving model to /content/drive/MyDrive/Colab Notebooks/Стажировка/architecture.hdf5\n",
            "26/26 [==============================] - 1s 55ms/step - loss: 0.0071 - mae: 0.0484 - val_loss: 0.0157 - val_mae: 0.0624\n",
            "Epoch 183/200\n",
            "25/26 [===========================>..] - ETA: 0s - loss: 0.0066 - mae: 0.0481\n",
            "Epoch 183: val_mae improved from 0.06237 to 0.05880, saving model to /content/drive/MyDrive/Colab Notebooks/Стажировка/architecture.hdf5\n",
            "26/26 [==============================] - 1s 54ms/step - loss: 0.0065 - mae: 0.0477 - val_loss: 0.0153 - val_mae: 0.0588\n",
            "Epoch 184/200\n",
            "25/26 [===========================>..] - ETA: 0s - loss: 0.0074 - mae: 0.0499\n",
            "Epoch 184: val_mae did not improve from 0.05880\n",
            "26/26 [==============================] - 2s 62ms/step - loss: 0.0077 - mae: 0.0505 - val_loss: 0.0152 - val_mae: 0.0592\n",
            "Epoch 185/200\n",
            "26/26 [==============================] - ETA: 0s - loss: 0.0073 - mae: 0.0479\n",
            "Epoch 185: val_mae did not improve from 0.05880\n",
            "26/26 [==============================] - 2s 72ms/step - loss: 0.0073 - mae: 0.0479 - val_loss: 0.0161 - val_mae: 0.0649\n",
            "Epoch 186/200\n",
            "25/26 [===========================>..] - ETA: 0s - loss: 0.0084 - mae: 0.0489\n",
            "Epoch 186: val_mae did not improve from 0.05880\n",
            "26/26 [==============================] - 1s 44ms/step - loss: 0.0083 - mae: 0.0489 - val_loss: 0.0161 - val_mae: 0.0649\n",
            "Epoch 187/200\n",
            "25/26 [===========================>..] - ETA: 0s - loss: 0.0075 - mae: 0.0472\n",
            "Epoch 187: val_mae did not improve from 0.05880\n",
            "26/26 [==============================] - 1s 45ms/step - loss: 0.0075 - mae: 0.0478 - val_loss: 0.0160 - val_mae: 0.0652\n",
            "Epoch 188/200\n",
            "26/26 [==============================] - ETA: 0s - loss: 0.0060 - mae: 0.0430\n",
            "Epoch 188: val_mae did not improve from 0.05880\n",
            "26/26 [==============================] - 2s 78ms/step - loss: 0.0060 - mae: 0.0430 - val_loss: 0.0156 - val_mae: 0.0629\n",
            "Epoch 189/200\n",
            "25/26 [===========================>..] - ETA: 0s - loss: 0.0082 - mae: 0.0477\n",
            "Epoch 189: val_mae did not improve from 0.05880\n",
            "26/26 [==============================] - 1s 52ms/step - loss: 0.0086 - mae: 0.0484 - val_loss: 0.0150 - val_mae: 0.0638\n",
            "Epoch 190/200\n",
            "25/26 [===========================>..] - ETA: 0s - loss: 0.0093 - mae: 0.0490\n",
            "Epoch 190: val_mae did not improve from 0.05880\n",
            "26/26 [==============================] - 1s 44ms/step - loss: 0.0091 - mae: 0.0486 - val_loss: 0.0160 - val_mae: 0.0687\n",
            "Epoch 191/200\n",
            "26/26 [==============================] - ETA: 0s - loss: 0.0054 - mae: 0.0419\n",
            "Epoch 191: val_mae did not improve from 0.05880\n",
            "26/26 [==============================] - 1s 44ms/step - loss: 0.0054 - mae: 0.0419 - val_loss: 0.0168 - val_mae: 0.0692\n",
            "Epoch 192/200\n",
            "25/26 [===========================>..] - ETA: 0s - loss: 0.0066 - mae: 0.0451\n",
            "Epoch 192: val_mae did not improve from 0.05880\n",
            "26/26 [==============================] - 1s 43ms/step - loss: 0.0067 - mae: 0.0453 - val_loss: 0.0170 - val_mae: 0.0685\n",
            "Epoch 193/200\n",
            "26/26 [==============================] - ETA: 0s - loss: 0.0084 - mae: 0.0466\n",
            "Epoch 193: val_mae did not improve from 0.05880\n",
            "26/26 [==============================] - 1s 55ms/step - loss: 0.0084 - mae: 0.0466 - val_loss: 0.0160 - val_mae: 0.0681\n",
            "Epoch 194/200\n",
            "25/26 [===========================>..] - ETA: 0s - loss: 0.0074 - mae: 0.0460\n",
            "Epoch 194: val_mae did not improve from 0.05880\n",
            "26/26 [==============================] - 2s 68ms/step - loss: 0.0073 - mae: 0.0461 - val_loss: 0.0167 - val_mae: 0.0691\n",
            "Epoch 195/200\n",
            "25/26 [===========================>..] - ETA: 0s - loss: 0.0090 - mae: 0.0470\n",
            "Epoch 195: val_mae did not improve from 0.05880\n",
            "26/26 [==============================] - 1s 52ms/step - loss: 0.0096 - mae: 0.0475 - val_loss: 0.0170 - val_mae: 0.0698\n",
            "Epoch 196/200\n",
            "26/26 [==============================] - ETA: 0s - loss: 0.0083 - mae: 0.0465\n",
            "Epoch 196: val_mae did not improve from 0.05880\n",
            "26/26 [==============================] - 1s 45ms/step - loss: 0.0083 - mae: 0.0465 - val_loss: 0.0165 - val_mae: 0.0673\n",
            "Epoch 197/200\n",
            "26/26 [==============================] - ETA: 0s - loss: 0.0059 - mae: 0.0433\n",
            "Epoch 197: val_mae did not improve from 0.05880\n",
            "26/26 [==============================] - 1s 45ms/step - loss: 0.0059 - mae: 0.0433 - val_loss: 0.0160 - val_mae: 0.0670\n",
            "Epoch 198/200\n",
            "25/26 [===========================>..] - ETA: 0s - loss: 0.0079 - mae: 0.0473\n",
            "Epoch 198: val_mae did not improve from 0.05880\n",
            "26/26 [==============================] - 1s 45ms/step - loss: 0.0078 - mae: 0.0474 - val_loss: 0.0159 - val_mae: 0.0672\n",
            "Epoch 199/200\n",
            "25/26 [===========================>..] - ETA: 0s - loss: 0.0065 - mae: 0.0422\n",
            "Epoch 199: val_mae did not improve from 0.05880\n",
            "26/26 [==============================] - 1s 43ms/step - loss: 0.0066 - mae: 0.0427 - val_loss: 0.0156 - val_mae: 0.0672\n",
            "Epoch 200/200\n",
            "25/26 [===========================>..] - ETA: 0s - loss: 0.0056 - mae: 0.0413\n",
            "Epoch 200: val_mae did not improve from 0.05880\n",
            "26/26 [==============================] - 1s 46ms/step - loss: 0.0055 - mae: 0.0411 - val_loss: 0.0146 - val_mae: 0.0645\n"
          ]
        },
        {
          "output_type": "display_data",
          "data": {
            "text/plain": [
              "<Figure size 1000x400 with 1 Axes>"
            ],
            "image/png": "[encoded data removed]"
          },
          "metadata": {}
        }
      ]
    },
    {
      "cell_type": "code",
      "source": [
        "from tensorflow.keras.models import load_model"
      ],
      "metadata": {
        "id": "WOL7zQ9sL5qJ"
      },
      "execution_count": null,
      "outputs": []
    },
    {
      "cell_type": "code",
      "source": [
        "model=load_model(\"/content/drive/MyDrive/Colab Notebooks/Стажировка/architecture.hdf5\")"
      ],
      "metadata": {
        "id": "bij6LQASJLJZ"
      },
      "execution_count": null,
      "outputs": []
    },
    {
      "cell_type": "code",
      "source": [
        "plt.plot(history.history['mae'], \n",
        "         label='Средняя абсолютная ошибка на обучающем наборе')\n",
        "plt.plot(history.history['val_mae'], \n",
        "         label='Средняя абсолютная ошибка на проверочном наборе')\n",
        "plt.xlabel('Эпоха обучения')\n",
        "plt.ylabel('Средняя абсолютная ошибка')\n",
        "plt.legend()\n",
        "plt.show()"
      ],
      "metadata": {
        "colab": {
          "base_uri": "https://localhost:8080/",
          "height": 449
        },
        "id": "lyAw_S1ge_M6",
        "outputId": "cdafef9c-05c7-4e89-99d7-c0a1212475ef"
      },
      "execution_count": null,
      "outputs": [
        {
          "output_type": "display_data",
          "data": {
            "text/plain": [
              "<Figure size 640x480 with 1 Axes>"
            ],
            "image/png": "[encoded data removed]"
          },
          "metadata": {}
        }
      ]
    },
    {
      "cell_type": "code",
      "source": [
        "#model.save('/content/drive/MyDrive/Colab Notebooks/Стажировка/')"
      ],
      "metadata": {
        "colab": {
          "base_uri": "https://localhost:8080/"
        },
        "id": "Qg117a3hYWr2",
        "outputId": "96d54cdb-90f9-4aa8-b88e-a2b5bf2b4ea5"
      },
      "execution_count": null,
      "outputs": [
        {
          "output_type": "stream",
          "name": "stderr",
          "text": [
            "WARNING:absl:Found untraced functions such as _update_step_xla while saving (showing 1 of 1). These functions will not be directly callable after loading.\n"
          ]
        }
      ]
    },
    {
      "cell_type": "code",
      "source": [
        "pred = model.predict([x_test, x_test_text1, x_test_text2, x_test_text3]) \n",
        "plt.scatter(y_test, pred)\n",
        "plt.xlabel('Правильные значение')\n",
        "plt.ylabel('Предсказания')\n",
        "plt.axis('equal')\n",
        "plt.xlim(plt.xlim())\n",
        "plt.ylim(plt.ylim())\n",
        "plt.plot([-1000, 1000], [-1000, 1000])\n",
        "plt.show()"
      ],
      "metadata": {
        "colab": {
          "base_uri": "https://localhost:8080/",
          "height": 466
        },
        "id": "0Co0yQafuqsr",
        "outputId": "6e8600ff-82c6-4258-c986-c55460ce7df3"
      },
      "execution_count": null,
      "outputs": [
        {
          "output_type": "stream",
          "name": "stdout",
          "text": [
            "13/13 [==============================] - 0s 9ms/step\n"
          ]
        },
        {
          "output_type": "display_data",
          "data": {
            "text/plain": [
              "<Figure size 640x480 with 1 Axes>"
            ],
            "image/png": "[encoded data removed]"
          },
          "metadata": {}
        }
      ]
    },
    {
      "cell_type": "code",
      "source": [
        "m_l = []\n",
        "s = 0\n",
        "for i in range(0, len(y_test)):\n",
        "    if np.round(y_test[i]) == np.round(pred[i]):\n",
        "        s += 1\n",
        "    dif = (y_test[i] - pred[i])**2\n",
        "    print(y_test[i], pred[i], dif, np.round(y_test[i]), np.round(pred[i]))\n",
        "    m_l.append(dif)\n",
        "\n",
        "print('Среднеквадратичное отклонение', np.sqrt(np.mean(m_l)))\n",
        "print('Точность модели', round(s / len(y_test)*100,5),\"%\" )"
      ],
      "metadata": {
        "colab": {
          "base_uri": "https://localhost:8080/"
        },
        "id": "x291FFBKoXEQ",
        "outputId": "18c6e9a5-1a94-4d0e-ee38-43147eb1da0c"
      },
      "execution_count": null,
      "outputs": [
        {
          "output_type": "stream",
          "name": "stdout",
          "text": [
            "0.0 [0.00712041] [5.0700237e-05] 0.0 [0.]\n",
            "0.0 [0.14068817] [0.01979316] 0.0 [0.]\n",
            "0.0 [0.00368624] [1.3588337e-05] 0.0 [0.]\n",
            "0.0 [0.02211078] [0.00048889] 0.0 [0.]\n",
            "1.0 [0.79202193] [0.04325488] 1.0 [1.]\n",
            "0.0 [0.00075756] [5.73903e-07] 0.0 [0.]\n",
            "0.0 [0.10147437] [0.01029705] 0.0 [0.]\n",
            "0.0 [0.1998641] [0.03994566] 0.0 [0.]\n",
            "0.0 [0.09297341] [0.00864406] 0.0 [0.]\n",
            "0.0 [0.07030463] [0.00494274] 0.0 [0.]\n",
            "0.0 [0.1998641] [0.03994566] 0.0 [0.]\n",
            "0.0 [0.03065849] [0.00093994] 0.0 [0.]\n",
            "1.0 [0.7848799] [0.04627665] 1.0 [1.]\n",
            "0.0 [0.23518872] [0.05531374] 0.0 [0.]\n",
            "0.0 [0.02858937] [0.00081735] 0.0 [0.]\n",
            "0.0 [0.30247962] [0.09149393] 0.0 [0.]\n",
            "0.0 [0.03642446] [0.00132674] 0.0 [0.]\n",
            "0.0 [-0.00389687] [1.518563e-05] 0.0 [-0.]\n",
            "1.0 [0.93442273] [0.00430038] 1.0 [1.]\n",
            "0.0 [0.00220055] [4.8424017e-06] 0.0 [0.]\n",
            "0.0 [-0.00679479] [4.6169156e-05] 0.0 [-0.]\n",
            "1.0 [0.8195139] [0.03257523] 1.0 [1.]\n",
            "0.0 [-0.00884139] [7.817014e-05] 0.0 [-0.]\n",
            "0.0 [0.2871723] [0.08246792] 0.0 [0.]\n",
            "0.0 [0.00660361] [4.360771e-05] 0.0 [0.]\n",
            "0.0 [0.01469207] [0.00021586] 0.0 [0.]\n",
            "0.0 [0.05359318] [0.00287223] 0.0 [0.]\n",
            "0.0 [0.07867515] [0.00618978] 0.0 [0.]\n",
            "0.0 [0.03244326] [0.00105257] 0.0 [0.]\n",
            "1.0 [0.8555748] [0.02085864] 1.0 [1.]\n",
            "0.0 [0.04267992] [0.00182158] 0.0 [0.]\n",
            "0.0 [0.05740567] [0.00329541] 0.0 [0.]\n",
            "0.0 [-0.00562555] [3.164685e-05] 0.0 [-0.]\n",
            "0.0 [-0.01294056] [0.00016746] 0.0 [-0.]\n",
            "1.0 [0.6903109] [0.09590734] 1.0 [1.]\n",
            "0.0 [0.04745349] [0.00225183] 0.0 [0.]\n",
            "0.0 [0.01152081] [0.00013273] 0.0 [0.]\n",
            "0.0 [0.01276616] [0.00016297] 0.0 [0.]\n",
            "0.0 [-0.00103213] [1.0652979e-06] 0.0 [-0.]\n",
            "0.0 [0.03659873] [0.00133947] 0.0 [0.]\n",
            "0.0 [0.03645302] [0.00132882] 0.0 [0.]\n",
            "0.0 [0.00289944] [8.406763e-06] 0.0 [0.]\n",
            "0.0 [0.01877534] [0.00035251] 0.0 [0.]\n",
            "0.0 [0.01531059] [0.00023441] 0.0 [0.]\n",
            "0.0 [0.04187026] [0.00175312] 0.0 [0.]\n",
            "0.0 [0.04148735] [0.0017212] 0.0 [0.]\n",
            "0.0 [0.00174031] [3.0286735e-06] 0.0 [0.]\n",
            "0.0 [-0.00333399] [1.1115486e-05] 0.0 [-0.]\n",
            "0.0 [0.00967118] [9.353179e-05] 0.0 [0.]\n",
            "0.0 [0.01792535] [0.00032132] 0.0 [0.]\n",
            "0.0 [0.0601188] [0.00361427] 0.0 [0.]\n",
            "0.0 [0.0601188] [0.00361427] 0.0 [0.]\n",
            "0.0 [0.10751012] [0.01155843] 0.0 [0.]\n",
            "0.0 [0.05867137] [0.00344233] 0.0 [0.]\n",
            "0.0 [-0.00510889] [2.6100768e-05] 0.0 [-0.]\n",
            "0.0 [0.00410484] [1.6849739e-05] 0.0 [0.]\n",
            "0.0 [0.0130159] [0.00016941] 0.0 [0.]\n",
            "1.0 [0.5311427] [0.21982716] 1.0 [1.]\n",
            "0.0 [-0.01872281] [0.00035054] 0.0 [-0.]\n",
            "0.0 [0.00034226] [1.17142626e-07] 0.0 [0.]\n",
            "0.0 [-0.00218103] [4.7569115e-06] 0.0 [-0.]\n",
            "0.0 [-8.126721e-06] [6.604359e-11] 0.0 [-0.]\n",
            "0.0 [0.02747817] [0.00075505] 0.0 [0.]\n",
            "0.0 [0.05621773] [0.00316043] 0.0 [0.]\n",
            "0.0 [0.14354472] [0.02060509] 0.0 [0.]\n",
            "0.0 [0.06202745] [0.0038474] 0.0 [0.]\n",
            "0.0 [-0.01225493] [0.00015018] 0.0 [-0.]\n",
            "1.0 [0.7730881] [0.05148901] 1.0 [1.]\n",
            "0.0 [-0.01498305] [0.00022449] 0.0 [-0.]\n",
            "0.0 [0.01040761] [0.00010832] 0.0 [0.]\n",
            "0.0 [0.07995193] [0.00639231] 0.0 [0.]\n",
            "0.0 [0.0264104] [0.00069751] 0.0 [0.]\n",
            "0.0 [-0.0044163] [1.9503672e-05] 0.0 [-0.]\n",
            "0.0 [0.02318262] [0.00053743] 0.0 [0.]\n",
            "0.0 [0.01645554] [0.00027078] 0.0 [0.]\n",
            "0.0 [-0.01054852] [0.00011127] 0.0 [-0.]\n",
            "0.0 [0.08254366] [0.00681346] 0.0 [0.]\n",
            "0.0 [-0.00842681] [7.101117e-05] 0.0 [-0.]\n",
            "0.0 [0.00483022] [2.3330978e-05] 0.0 [0.]\n",
            "0.0 [0.01074277] [0.00011541] 0.0 [0.]\n",
            "0.0 [0.00105494] [1.1129e-06] 0.0 [0.]\n",
            "0.0 [-0.00923791] [8.533892e-05] 0.0 [-0.]\n",
            "0.0 [0.00206747] [4.2744437e-06] 0.0 [0.]\n",
            "0.0 [-0.00545764] [2.978584e-05] 0.0 [-0.]\n",
            "0.0 [-0.01734051] [0.00030069] 0.0 [-0.]\n",
            "0.0 [-0.01488317] [0.00022151] 0.0 [-0.]\n",
            "0.0 [-0.00751316] [5.6447545e-05] 0.0 [-0.]\n",
            "0.0 [0.00220055] [4.8424017e-06] 0.0 [0.]\n",
            "0.0 [-0.00081692] [6.673626e-07] 0.0 [-0.]\n",
            "0.0 [0.01927636] [0.00037158] 0.0 [0.]\n",
            "0.0 [0.05991497] [0.0035898] 0.0 [0.]\n",
            "0.0 [0.03325361] [0.0011058] 0.0 [0.]\n",
            "0.0 [-0.00415071] [1.7228402e-05] 0.0 [-0.]\n",
            "0.0 [-0.00984807] [9.6984564e-05] 0.0 [-0.]\n",
            "0.0 [-0.00984806] [9.698429e-05] 0.0 [-0.]\n",
            "0.0 [-0.00415074] [1.722868e-05] 0.0 [-0.]\n",
            "0.0 [-0.00250627] [6.281385e-06] 0.0 [-0.]\n",
            "0.0 [-0.00232216] [5.392426e-06] 0.0 [-0.]\n",
            "0.0 [-0.00482578] [2.3288145e-05] 0.0 [-0.]\n",
            "0.0 [0.04113262] [0.00169189] 0.0 [0.]\n",
            "0.0 [0.02007268] [0.00040291] 0.0 [0.]\n",
            "0.0 [0.03748383] [0.00140504] 0.0 [0.]\n",
            "0.0 [-0.0110652] [0.00012244] 0.0 [-0.]\n",
            "0.0 [0.03699198] [0.00136841] 0.0 [0.]\n",
            "1.0 [0.7912548] [0.04357455] 1.0 [1.]\n",
            "0.0 [0.04866144] [0.00236794] 0.0 [0.]\n",
            "0.0 [-0.00035841] [1.2845518e-07] 0.0 [-0.]\n",
            "0.0 [-0.01020617] [0.00010417] 0.0 [-0.]\n",
            "0.0 [-0.01555185] [0.00024186] 0.0 [-0.]\n",
            "0.0 [0.03268895] [0.00106857] 0.0 [0.]\n",
            "0.0 [0.08622473] [0.0074347] 0.0 [0.]\n",
            "0.0 [-0.00951374] [9.0511276e-05] 0.0 [-0.]\n",
            "0.0 [0.0203089] [0.00041245] 0.0 [0.]\n",
            "0.0 [-0.01107127] [0.00012257] 0.0 [-0.]\n",
            "0.0 [-0.01052368] [0.00011075] 0.0 [-0.]\n",
            "0.0 [-0.01311787] [0.00017208] 0.0 [-0.]\n",
            "0.0 [0.01737528] [0.0003019] 0.0 [0.]\n",
            "0.0 [0.03618073] [0.00130905] 0.0 [0.]\n",
            "0.0 [-0.00771282] [5.9487527e-05] 0.0 [-0.]\n",
            "0.0 [-0.00666666] [4.4444383e-05] 0.0 [-0.]\n",
            "0.0 [0.01526057] [0.00023288] 0.0 [0.]\n",
            "0.0 [-0.00885162] [7.83511e-05] 0.0 [-0.]\n",
            "0.0 [0.09443854] [0.00891864] 0.0 [0.]\n",
            "0.0 [-0.00887507] [7.876682e-05] 0.0 [-0.]\n",
            "0.0 [-0.00670925] [4.501397e-05] 0.0 [-0.]\n",
            "0.0 [-0.00710841] [5.0529543e-05] 0.0 [-0.]\n",
            "0.0 [0.03786518] [0.00143377] 0.0 [0.]\n",
            "0.0 [0.3374696] [0.11388574] 0.0 [0.]\n",
            "0.0 [0.01086543] [0.00011806] 0.0 [0.]\n",
            "0.0 [-0.00038658] [1.4944186e-07] 0.0 [-0.]\n",
            "0.0 [-0.00360336] [1.2984228e-05] 0.0 [-0.]\n",
            "0.0 [-0.0041414] [1.7151191e-05] 0.0 [-0.]\n",
            "1.0 [0.7630995] [0.05612185] 1.0 [1.]\n",
            "0.0 [0.01571096] [0.00024683] 0.0 [0.]\n",
            "0.0 [0.00484352] [2.3459668e-05] 0.0 [0.]\n",
            "0.0 [0.07855794] [0.00617135] 0.0 [0.]\n",
            "0.0 [0.26629555] [0.07091332] 0.0 [0.]\n",
            "0.0 [0.03039666] [0.00092396] 0.0 [0.]\n",
            "1.0 [0.7430474] [0.06602463] 1.0 [1.]\n",
            "0.0 [-0.00623162] [3.883304e-05] 0.0 [-0.]\n",
            "0.0 [0.00627851] [3.9419727e-05] 0.0 [0.]\n",
            "0.0 [0.00160296] [2.569495e-06] 0.0 [0.]\n",
            "1.0 [0.593975] [0.1648563] 1.0 [1.]\n",
            "0.0 [-0.00567057] [3.215531e-05] 0.0 [-0.]\n",
            "0.0 [0.11596559] [0.01344802] 0.0 [0.]\n",
            "0.0 [-0.00463909] [2.1521113e-05] 0.0 [-0.]\n",
            "0.0 [-0.00620285] [3.847532e-05] 0.0 [-0.]\n",
            "0.0 [0.03215862] [0.00103418] 0.0 [0.]\n",
            "0.0 [-0.00103996] [1.081508e-06] 0.0 [-0.]\n",
            "0.0 [0.07685997] [0.00590745] 0.0 [0.]\n",
            "0.0 [-0.00207343] [4.2990946e-06] 0.0 [-0.]\n",
            "0.0 [-0.00582459] [3.392584e-05] 0.0 [-0.]\n",
            "0.0 [-0.00541774] [2.9351926e-05] 0.0 [-0.]\n",
            "0.0 [-0.01768306] [0.00031269] 0.0 [-0.]\n",
            "0.0 [0.07058209] [0.00498183] 0.0 [0.]\n",
            "0.0 [0.1351124] [0.01825536] 0.0 [0.]\n",
            "0.0 [0.02098436] [0.00044034] 0.0 [0.]\n",
            "1.0 [0.93936557] [0.00367653] 1.0 [1.]\n",
            "0.0 [0.0588054] [0.00345808] 0.0 [0.]\n",
            "0.0 [-0.01397496] [0.0001953] 0.0 [-0.]\n",
            "0.0 [0.00528449] [2.7925875e-05] 0.0 [0.]\n",
            "0.0 [0.00353173] [1.2473129e-05] 0.0 [0.]\n",
            "0.0 [0.00025549] [6.52769e-08] 0.0 [0.]\n",
            "0.0 [-0.01224661] [0.00014998] 0.0 [-0.]\n",
            "0.0 [-0.0142793] [0.0002039] 0.0 [-0.]\n",
            "1.0 [0.7435751] [0.06575373] 1.0 [1.]\n",
            "0.0 [-0.00357851] [1.28057345e-05] 0.0 [-0.]\n",
            "0.0 [-0.01768306] [0.00031269] 0.0 [-0.]\n",
            "0.0 [0.01385373] [0.00019193] 0.0 [0.]\n",
            "0.0 [-0.01289986] [0.00016641] 0.0 [-0.]\n",
            "1.0 [0.45611852] [0.29580706] 1.0 [0.]\n",
            "0.0 [0.07682399] [0.00590193] 0.0 [0.]\n",
            "0.0 [-0.01401016] [0.00019628] 0.0 [-0.]\n",
            "0.0 [0.00747775] [5.5916815e-05] 0.0 [0.]\n",
            "0.0 [-0.01236209] [0.00015282] 0.0 [-0.]\n",
            "0.0 [-0.01768306] [0.00031269] 0.0 [-0.]\n",
            "0.0 [-0.00191923] [3.6834526e-06] 0.0 [-0.]\n",
            "0.0 [-0.00311047] [9.675014e-06] 0.0 [-0.]\n",
            "0.0 [-0.00201431] [4.0574414e-06] 0.0 [-0.]\n",
            "0.0 [-0.00703254] [4.945656e-05] 0.0 [-0.]\n",
            "1.0 [0.94024074] [0.00357117] 1.0 [1.]\n",
            "0.0 [0.01373193] [0.00018857] 0.0 [0.]\n",
            "0.0 [0.0085788] [7.359587e-05] 0.0 [0.]\n",
            "0.0 [0.00159393] [2.540603e-06] 0.0 [0.]\n",
            "1.0 [0.6203633] [0.14412403] 1.0 [1.]\n",
            "0.0 [0.03306013] [0.00109297] 0.0 [0.]\n",
            "0.0 [-0.01488317] [0.00022151] 0.0 [-0.]\n",
            "0.0 [-0.00751316] [5.6447545e-05] 0.0 [-0.]\n",
            "0.0 [-0.0162428] [0.00026383] 0.0 [-0.]\n",
            "0.0 [-0.0070324] [4.9454622e-05] 0.0 [-0.]\n",
            "0.0 [0.02230924] [0.0004977] 0.0 [0.]\n",
            "0.0 [0.01617096] [0.0002615] 0.0 [0.]\n",
            "0.0 [0.07879572] [0.00620876] 0.0 [0.]\n",
            "0.0 [0.16035137] [0.02571256] 0.0 [0.]\n",
            "0.0 [0.1537701] [0.02364524] 0.0 [0.]\n",
            "0.0 [0.00144301] [2.0822774e-06] 0.0 [0.]\n",
            "0.0 [-0.00545764] [2.978584e-05] 0.0 [-0.]\n",
            "0.0 [-0.01450801] [0.00021048] 0.0 [-0.]\n",
            "0.0 [0.04304637] [0.00185299] 0.0 [0.]\n",
            "0.0 [-0.00957206] [9.162428e-05] 0.0 [-0.]\n",
            "0.0 [0.01089551] [0.00011871] 0.0 [0.]\n",
            "0.0 [0.02686946] [0.00072197] 0.0 [0.]\n",
            "0.0 [0.16091283] [0.02589294] 0.0 [0.]\n",
            "0.0 [0.00871923] [7.602491e-05] 0.0 [0.]\n",
            "0.0 [0.09178956] [0.00842532] 0.0 [0.]\n",
            "0.0 [0.0104025] [0.00010821] 0.0 [0.]\n",
            "0.0 [-0.01460925] [0.00021343] 0.0 [-0.]\n",
            "0.0 [0.06941144] [0.00481795] 0.0 [0.]\n",
            "0.0 [0.05279511] [0.00278732] 0.0 [0.]\n",
            "0.0 [0.01246205] [0.0001553] 0.0 [0.]\n",
            "0.0 [0.08152471] [0.00664628] 0.0 [0.]\n",
            "0.0 [0.0337694] [0.00114037] 0.0 [0.]\n",
            "0.0 [0.19092236] [0.03645135] 0.0 [0.]\n",
            "0.0 [0.01470056] [0.00021611] 0.0 [0.]\n",
            "0.0 [0.00257874] [6.6499047e-06] 0.0 [0.]\n",
            "0.0 [-0.00882512] [7.788282e-05] 0.0 [-0.]\n",
            "0.0 [0.02290941] [0.00052484] 0.0 [0.]\n",
            "0.0 [0.00790914] [6.255446e-05] 0.0 [0.]\n",
            "0.0 [0.05894668] [0.00347471] 0.0 [0.]\n",
            "0.0 [0.00592897] [3.515265e-05] 0.0 [0.]\n",
            "0.0 [-0.00316563] [1.0021182e-05] 0.0 [-0.]\n",
            "0.0 [0.00938363] [8.8052475e-05] 0.0 [0.]\n",
            "0.0 [-0.00917139] [8.411431e-05] 0.0 [-0.]\n",
            "0.0 [-0.00232283] [5.395523e-06] 0.0 [-0.]\n",
            "0.0 [-0.01178836] [0.00013897] 0.0 [-0.]\n",
            "0.0 [0.06283613] [0.00394838] 0.0 [0.]\n",
            "2.0 [1.5801356] [0.17628613] 2.0 [2.]\n",
            "0.0 [-0.01457324] [0.00021238] 0.0 [-0.]\n",
            "1.0 [0.8795217] [0.01451501] 1.0 [1.]\n",
            "0.0 [0.07787016] [0.00606376] 0.0 [0.]\n",
            "0.0 [0.01034387] [0.000107] 0.0 [0.]\n",
            "0.0 [0.0953376] [0.00908926] 0.0 [0.]\n",
            "0.0 [0.01023389] [0.00010473] 0.0 [0.]\n",
            "0.0 [0.07755615] [0.00601496] 0.0 [0.]\n",
            "0.0 [0.01481814] [0.00021958] 0.0 [0.]\n",
            "2.0 [1.303317] [0.48536727] 2.0 [1.]\n",
            "0.0 [0.00912981] [8.3353414e-05] 0.0 [0.]\n",
            "0.0 [0.04056004] [0.00164512] 0.0 [0.]\n",
            "0.0 [0.07403652] [0.00548141] 0.0 [0.]\n",
            "0.0 [0.03222895] [0.00103871] 0.0 [0.]\n",
            "0.0 [0.12013009] [0.01443124] 0.0 [0.]\n",
            "0.0 [-0.00104293] [1.0877077e-06] 0.0 [-0.]\n",
            "0.0 [0.05873082] [0.00344931] 0.0 [0.]\n",
            "0.0 [0.08667395] [0.00751237] 0.0 [0.]\n",
            "0.0 [0.14920768] [0.02226293] 0.0 [0.]\n",
            "0.0 [-0.00914092] [8.355645e-05] 0.0 [-0.]\n",
            "0.0 [0.05972393] [0.00356695] 0.0 [0.]\n",
            "0.0 [0.05370214] [0.00288392] 0.0 [0.]\n",
            "0.0 [-0.00378814] [1.4349995e-05] 0.0 [-0.]\n",
            "0.0 [0.04020575] [0.0016165] 0.0 [0.]\n",
            "0.0 [0.1465527] [0.02147769] 0.0 [0.]\n",
            "0.0 [0.04187734] [0.00175371] 0.0 [0.]\n",
            "0.0 [0.00644892] [4.1588555e-05] 0.0 [0.]\n",
            "0.0 [0.01372439] [0.00018836] 0.0 [0.]\n",
            "0.0 [-0.00659454] [4.348795e-05] 0.0 [-0.]\n",
            "0.0 [-0.00573741] [3.2917917e-05] 0.0 [-0.]\n",
            "0.0 [-0.0026435] [6.9880994e-06] 0.0 [-0.]\n",
            "0.0 [-0.00605562] [3.6670495e-05] 0.0 [-0.]\n",
            "0.0 [0.04272683] [0.00182558] 0.0 [0.]\n",
            "0.0 [0.02565179] [0.00065801] 0.0 [0.]\n",
            "0.0 [0.13632599] [0.01858477] 0.0 [0.]\n",
            "0.0 [0.01476595] [0.00021803] 0.0 [0.]\n",
            "0.0 [-0.00248825] [6.191406e-06] 0.0 [-0.]\n",
            "1.0 [0.5883334] [0.16946937] 1.0 [1.]\n",
            "0.0 [0.06367821] [0.00405491] 0.0 [0.]\n",
            "0.0 [0.01610996] [0.00025953] 0.0 [0.]\n",
            "0.0 [0.01976268] [0.00039056] 0.0 [0.]\n",
            "0.0 [0.21627165] [0.04677343] 0.0 [0.]\n",
            "0.0 [0.12289816] [0.01510396] 0.0 [0.]\n",
            "0.0 [0.0517349] [0.0026765] 0.0 [0.]\n",
            "0.0 [0.03087793] [0.00095345] 0.0 [0.]\n",
            "0.0 [0.03730122] [0.00139138] 0.0 [0.]\n",
            "0.0 [0.00736969] [5.4312324e-05] 0.0 [0.]\n",
            "0.0 [0.03800575] [0.00144444] 0.0 [0.]\n",
            "0.0 [0.01938589] [0.00037581] 0.0 [0.]\n",
            "0.0 [0.07298832] [0.00532729] 0.0 [0.]\n",
            "0.0 [0.05217023] [0.00272173] 0.0 [0.]\n",
            "0.0 [0.01201906] [0.00014446] 0.0 [0.]\n",
            "0.0 [0.02385968] [0.00056928] 0.0 [0.]\n",
            "0.0 [0.01804826] [0.00032574] 0.0 [0.]\n",
            "0.0 [0.04088319] [0.00167144] 0.0 [0.]\n",
            "0.0 [-0.02059631] [0.00042421] 0.0 [-0.]\n",
            "0.0 [0.01873647] [0.00035106] 0.0 [0.]\n",
            "0.0 [0.04650747] [0.00216294] 0.0 [0.]\n",
            "0.0 [0.01767198] [0.0003123] 0.0 [0.]\n",
            "0.0 [0.03575806] [0.00127864] 0.0 [0.]\n",
            "0.0 [0.01696493] [0.00028781] 0.0 [0.]\n",
            "0.0 [-0.01084912] [0.0001177] 0.0 [-0.]\n",
            "0.0 [0.01613066] [0.0002602] 0.0 [0.]\n",
            "0.0 [0.00533286] [2.8439368e-05] 0.0 [0.]\n",
            "0.0 [-0.02070433] [0.00042867] 0.0 [-0.]\n",
            "0.0 [0.01771275] [0.00031374] 0.0 [0.]\n",
            "0.0 [-0.00296826] [8.810595e-06] 0.0 [-0.]\n",
            "0.0 [0.09146024] [0.00836498] 0.0 [0.]\n",
            "0.0 [0.3836098] [0.14715648] 0.0 [0.]\n",
            "0.0 [0.00881485] [7.7701596e-05] 0.0 [0.]\n",
            "0.0 [0.1243173] [0.01545479] 0.0 [0.]\n",
            "0.0 [0.08895801] [0.00791353] 0.0 [0.]\n",
            "0.0 [0.15421233] [0.02378144] 0.0 [0.]\n",
            "0.0 [0.00836908] [7.004145e-05] 0.0 [0.]\n",
            "0.0 [0.03699043] [0.00136829] 0.0 [0.]\n",
            "0.0 [0.06138894] [0.0037686] 0.0 [0.]\n",
            "0.0 [-0.01265509] [0.00016015] 0.0 [-0.]\n",
            "0.0 [-0.01265509] [0.00016015] 0.0 [-0.]\n",
            "0.0 [-0.00522064] [2.7255057e-05] 0.0 [-0.]\n",
            "0.0 [-0.01860296] [0.00034607] 0.0 [-0.]\n",
            "0.0 [-0.0133724] [0.00017882] 0.0 [-0.]\n",
            "0.0 [-0.01422567] [0.00020237] 0.0 [-0.]\n",
            "1.0 [0.22610953] [0.5989065] 1.0 [0.]\n",
            "0.0 [0.00738926] [5.4601143e-05] 0.0 [0.]\n",
            "0.0 [0.13297407] [0.0176821] 0.0 [0.]\n",
            "0.0 [0.0440945] [0.00194432] 0.0 [0.]\n",
            "0.0 [0.04008927] [0.00160715] 0.0 [0.]\n",
            "0.0 [0.04056547] [0.00164556] 0.0 [0.]\n",
            "0.0 [0.03687914] [0.00136007] 0.0 [0.]\n",
            "0.0 [-0.0104976] [0.0001102] 0.0 [-0.]\n",
            "0.0 [-0.00666815] [4.4464217e-05] 0.0 [-0.]\n",
            "0.0 [-0.00447772] [2.0049965e-05] 0.0 [-0.]\n",
            "0.0 [-0.00801239] [6.419842e-05] 0.0 [-0.]\n",
            "0.0 [0.02136025] [0.00045626] 0.0 [0.]\n",
            "0.0 [0.01980663] [0.0003923] 0.0 [0.]\n",
            "0.0 [0.0438783] [0.00192531] 0.0 [0.]\n",
            "0.0 [0.00268493] [7.208831e-06] 0.0 [0.]\n",
            "0.0 [0.00118264] [1.3986329e-06] 0.0 [0.]\n",
            "0.0 [-0.01231854] [0.00015175] 0.0 [-0.]\n",
            "0.0 [-0.00742466] [5.5125547e-05] 0.0 [-0.]\n",
            "0.0 [0.00533879] [2.8502638e-05] 0.0 [0.]\n",
            "0.0 [0.05936223] [0.00352387] 0.0 [0.]\n",
            "0.0 [0.06328683] [0.00400522] 0.0 [0.]\n",
            "0.0 [0.04272879] [0.00182575] 0.0 [0.]\n",
            "0.0 [0.00033091] [1.09500256e-07] 0.0 [0.]\n",
            "0.0 [0.01037869] [0.00010772] 0.0 [0.]\n",
            "0.0 [0.00201259] [4.0505333e-06] 0.0 [0.]\n",
            "0.0 [0.03383673] [0.00114492] 0.0 [0.]\n",
            "0.0 [0.00065298] [4.2638297e-07] 0.0 [0.]\n",
            "1.0 [0.32246006] [0.45906037] 1.0 [0.]\n",
            "1.0 [0.89226955] [0.01160585] 1.0 [1.]\n",
            "0.0 [0.068864] [0.00474225] 0.0 [0.]\n",
            "0.0 [0.04675217] [0.00218576] 0.0 [0.]\n",
            "0.0 [0.01111501] [0.00012354] 0.0 [0.]\n",
            "0.0 [0.01662933] [0.00027653] 0.0 [0.]\n",
            "0.0 [-0.00362928] [1.3171648e-05] 0.0 [-0.]\n",
            "0.0 [0.04808359] [0.00231203] 0.0 [0.]\n",
            "0.0 [-0.00284677] [8.104089e-06] 0.0 [-0.]\n",
            "0.0 [0.01651743] [0.00027283] 0.0 [0.]\n",
            "0.0 [-0.01231854] [0.00015175] 0.0 [-0.]\n",
            "0.0 [0.03437617] [0.00118172] 0.0 [0.]\n",
            "0.0 [0.0072677] [5.2819523e-05] 0.0 [0.]\n",
            "0.0 [0.06116929] [0.00374168] 0.0 [0.]\n",
            "0.0 [0.02017863] [0.00040718] 0.0 [0.]\n",
            "0.0 [0.05691063] [0.00323882] 0.0 [0.]\n",
            "1.0 [0.73849225] [0.0683863] 1.0 [1.]\n",
            "0.0 [0.00275901] [7.6121237e-06] 0.0 [0.]\n",
            "0.0 [0.00154566] [2.3890539e-06] 0.0 [0.]\n",
            "0.0 [0.00389159] [1.5144466e-05] 0.0 [0.]\n",
            "0.0 [0.00563184] [3.1717598e-05] 0.0 [0.]\n",
            "0.0 [0.00820294] [6.728823e-05] 0.0 [0.]\n",
            "0.0 [-0.00751679] [5.6502162e-05] 0.0 [-0.]\n",
            "0.0 [0.07944307] [0.0063112] 0.0 [0.]\n",
            "0.0 [0.00902319] [8.141802e-05] 0.0 [0.]\n",
            "0.0 [0.0325467] [0.00105929] 0.0 [0.]\n",
            "0.0 [-0.00484734] [2.3496745e-05] 0.0 [-0.]\n",
            "0.0 [0.09192318] [0.00844987] 0.0 [0.]\n",
            "0.0 [0.08557364] [0.00732285] 0.0 [0.]\n",
            "0.0 [0.21577862] [0.04656041] 0.0 [0.]\n",
            "0.0 [0.00554626] [3.076105e-05] 0.0 [0.]\n",
            "0.0 [0.04939527] [0.00243989] 0.0 [0.]\n",
            "0.0 [-0.00066844] [4.4681704e-07] 0.0 [-0.]\n",
            "0.0 [0.07296537] [0.00532395] 0.0 [0.]\n",
            "0.0 [-0.00813465] [6.6172535e-05] 0.0 [-0.]\n",
            "0.0 [0.01116289] [0.00012461] 0.0 [0.]\n",
            "0.0 [-0.0044692] [1.997374e-05] 0.0 [-0.]\n",
            "0.0 [0.12958132] [0.01679132] 0.0 [0.]\n",
            "0.0 [-0.00068849] [4.7401784e-07] 0.0 [-0.]\n",
            "1.0 [0.9056549] [0.008901] 1.0 [1.]\n",
            "0.0 [-0.00742784] [5.517284e-05] 0.0 [-0.]\n",
            "1.0 [0.6849556] [0.09925298] 1.0 [1.]\n",
            "0.0 [0.01303787] [0.00016999] 0.0 [0.]\n",
            "2.0 [1.2750965] [0.52548504] 2.0 [1.]\n",
            "0.0 [0.01669573] [0.00027875] 0.0 [0.]\n",
            "0.0 [0.05310236] [0.00281986] 0.0 [0.]\n",
            "0.0 [0.00814435] [6.633036e-05] 0.0 [0.]\n",
            "0.0 [0.00113186] [1.2811167e-06] 0.0 [0.]\n",
            "0.0 [-0.00863009] [7.447841e-05] 0.0 [-0.]\n",
            "0.0 [0.00236518] [5.594056e-06] 0.0 [0.]\n",
            "0.0 [0.17716067] [0.0313859] 0.0 [0.]\n",
            "0.0 [-0.00419281] [1.7579629e-05] 0.0 [-0.]\n",
            "0.0 [0.05367817] [0.00288135] 0.0 [0.]\n",
            "0.0 [-0.02059629] [0.00042421] 0.0 [-0.]\n",
            "0.0 [0.06746033] [0.0045509] 0.0 [0.]\n",
            "0.0 [-0.00925563] [8.566665e-05] 0.0 [-0.]\n",
            "0.0 [0.01105971] [0.00012232] 0.0 [0.]\n",
            "0.0 [0.06382838] [0.00407406] 0.0 [0.]\n",
            "Среднеквадратичное отклонение 0.11822892\n",
            "Точность модели 98.72774 %\n"
          ]
        }
      ]
    },
    {
      "cell_type": "markdown",
      "source": [
        "# **Резюме:** \n",
        "\n",
        "**- При создании нейронной сети (НС) были выбраны колонки:**\n",
        "\n",
        "**1)Пол**, \n",
        "\n",
        "**2)Профессия** - токенезировано.\n",
        "\n",
        "**3)ЗаключениеМК** - разбит на 3 класса (годен ограничено годен, негоде).\n",
        "\n",
        "**4)Возраст** - разбито на возрастные категории.\n",
        "\n",
        "**5)Список Вредных Факторов** - токенезировано\n",
        "\n",
        "**6)все_диагнозы** - взято текстовое представление диагоза всех специалистов и токенезировано\n",
        "\n",
        "**7)МКБ** - взят код мкб приведен в числовой формат.\n",
        "\n",
        "Объясняю выбор колонок: решение профпатолога зависит в том числе от совокупности решений специалистов мед.комиссии. Итогом их (узких спец.) работы (решением) является выставленный диагноз. Также важными факторами для того или иного решения профпатолога являются: возраст, пол, вредые факторы производства(работы).\n",
        "\n",
        "В процессе работы над нейронной сетью датасет **не был** искусственно увеличен данными из официальных приказов для профпатологов. \n",
        "\n",
        "Подход при котором датасет увеличивается за счет достоверных данных из приказов считаю  перспективным, но хотелось бы поработать с новым улучшенным датасетом от заказчика (с увеличенным кол-вом примеров по другим классам) прежде чем добавлять костыли."
      ],
      "metadata": {
        "id": "XBGhb2D3QVoZ"
      }
    },
    {
      "cell_type": "markdown",
      "source": [
        "# **Вывод:** \n",
        "\n",
        "Точность нейронной сети при классификации на 3 класса составила ~**98.72 %**."
      ],
      "metadata": {
        "id": "eUzbeQT0WMtK"
      }
    },
    {
      "cell_type": "markdown",
      "source": [
        "________________________________________\n"
      ],
      "metadata": {
        "id": "0hDRwMXjQVJE"
      }
    },
    {
      "cell_type": "markdown",
      "source": [
        "____________________________________"
      ],
      "metadata": {
        "id": "Fq0HegSPQWnB"
      }
    },
    {
      "cell_type": "markdown",
      "source": [
        "_____________________________________________"
      ],
      "metadata": {
        "id": "irp-XUknQXpH"
      }
    }
  ]
}