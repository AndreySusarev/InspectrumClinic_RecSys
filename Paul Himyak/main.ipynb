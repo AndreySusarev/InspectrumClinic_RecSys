{
  "nbformat": 4,
  "nbformat_minor": 0,
  "metadata": {
    "colab": {
      "provenance": [],
      "mount_file_id": "https://github.com/Untick/InspectrumClinic_RecSys/blob/main/Paul%20Himyak/main.ipynb",
      "authorship_tag": "ABX9TyOSfLnCyM4xZee4gWY6Md7H",
      "include_colab_link": true
    },
    "kernelspec": {
      "name": "python3",
      "display_name": "Python 3"
    },
    "language_info": {
      "name": "python"
    }
  },
  "cells": [
    {
      "cell_type": "markdown",
      "metadata": {
        "id": "view-in-github",
        "colab_type": "text"
      },
      "source": [
        "<a href=\"https://colab.research.google.com/github/Untick/InspectrumClinic_RecSys/blob/main/Paul%20Himyak/main.ipynb\" target=\"_parent\"><img src=\"https://colab.research.google.com/assets/colab-badge.svg\" alt=\"Open In Colab\"/></a>"
      ]
    },
    {
      "cell_type": "code",
      "source": [
        "import pandas as pd\n",
        "import matplotlib.pyplot as plt\n",
        "import uuid\n",
        "import re\n",
        "import numpy as np\n",
        "import seaborn as sns\n",
        "from datetime import datetime\n",
        "\n",
        "from tensorflow.keras.preprocessing.text import Tokenizer\n",
        "from tensorflow.keras.preprocessing.sequence import pad_sequences\n",
        "\n",
        "import gdown"
      ],
      "metadata": {
        "id": "P83i6KfIF2gd"
      },
      "execution_count": 1,
      "outputs": []
    },
    {
      "cell_type": "code",
      "execution_count": 2,
      "metadata": {
        "id": "1vSWmbjqEvHX",
        "colab": {
          "base_uri": "https://localhost:8080/",
          "height": 35
        },
        "outputId": "62d888a6-9199-46be-8a07-d230beeb74e6"
      },
      "outputs": [
        {
          "output_type": "execute_result",
          "data": {
            "text/plain": [
              "'profpatolog_modified.xlsx'"
            ],
            "application/vnd.google.colaboratory.intrinsic+json": {
              "type": "string"
            }
          },
          "metadata": {},
          "execution_count": 2
        }
      ],
      "source": [
        "dataset_url = \"https://drive.google.com/uc?export=download&id=1ErXvN290PPthLGsb0ALpa_0aUDnvC0jg\"\n",
        "#dataset_url = \"https://docs.google.com/spreadsheets/d/1ErXvN290PPthLGsb0ALpa_0aUDnvC0jg/edit?usp=share_link&ouid=113369956649761615778&rtpof=true&sd=true\"\n",
        "dataset_filename = \"profpatolog_modified.xlsx\"\n",
        "#!wget -qc dataset_url -O dataset_filename\n",
        "gdown.download(dataset_url, output=dataset_filename, quiet=True )\n"
      ]
    },
    {
      "cell_type": "code",
      "source": [
        "df = pd.read_excel(\"profpatolog_modified.xlsx\")\n"
      ],
      "metadata": {
        "id": "c2g1o_nMF48g"
      },
      "execution_count": 276,
      "outputs": []
    },
    {
      "cell_type": "markdown",
      "source": [],
      "metadata": {
        "id": "Vso46VI_dhRx"
      }
    },
    {
      "cell_type": "code",
      "source": [
        "#Удаляем случайные вбросы\n",
        "df.drop([843, 851, 1022, 1024], inplace = True)\n",
        "\n",
        "#Убираем пустые колонки\n",
        "empty_columns = df.columns[df.isna().all()]\n",
        "df.drop(empty_columns, inplace = True, axis = 1)"
      ],
      "metadata": {
        "id": "dJT7uj6rGAtJ"
      },
      "execution_count": 277,
      "outputs": []
    },
    {
      "cell_type": "code",
      "source": [
        "FIELD_CLIENT_AGE = \"КлиентВозраст\"\n",
        "FIELD_CLIENT_BIRTH_DAY = \"КлиентДатаРождения\"\n",
        "FIELD_CLIENT_GENDER = \"КлиентПол\"\n",
        "FIELD_CLIENT_GENDER_M = 0\n",
        "FIELD_CLIENT_GENDER_F = 1\n",
        "FIELD_CONCLUSION = \"ЗаключениеМК\"\n",
        "FIELD_CONCLUSION_FIT = 0\n",
        "FIELD_CONCLUSION_PART_FIT = 1\n",
        "FIELD_CONCLUSION_NOT_FIT = 2\n",
        "\n",
        "FIELD_DISPANSARY_GROUP = \"ДиспансернаяГруппа\"\n",
        "FIELD_DISPANSARY_GROUP_I = 0\n",
        "FIELD_DISPANSARY_GROUP_II = 1\n",
        "FIELD_DISPANSARY_GROUP_III = 2\n",
        "FIELD_DISPANSARY_GROUP_OTHER = 3\n",
        "\n",
        "FIELD_HARMFUL_FACTORS = \"ВредныеФакторы\""
      ],
      "metadata": {
        "id": "ACwbB23gGTTN"
      },
      "execution_count": 278,
      "outputs": []
    },
    {
      "cell_type": "code",
      "source": [
        "from datetime import datetime\n",
        "class MyUtils:\n",
        "  @staticmethod  \n",
        "  # Определяем функцию для расчета возраста на основе даты\n",
        "  def resolve_birthdate_to_age(date):\n",
        "    current_year = pd.Timestamp.now().year\n",
        "    age = current_year - date.year\n",
        "    return age\n",
        "  def resolve_genger(x):\n",
        "    if x == 'Мужской':\n",
        "        return FIELD_CLIENT_GENDER_M\n",
        "    elif x == 'Женский':\n",
        "        return FIELD_CLIENT_GENDER_F\n",
        "    else:\n",
        "        return None\n",
        "  def resolve_conclusion(arg):\n",
        "    try:\n",
        "      if \"Годен\" == arg:\n",
        "        return FIELD_CONCLUSION_FIT\n",
        "      elif \"Негоден\" in arg:\n",
        "        return FIELD_CONCLUSION_NOT_FIT\n",
        "      elif \"Годен\" in arg:\n",
        "        return FIELD_CONCLUSION_PART_FIT\n",
        "      else:\n",
        "        return FIELD_CONCLUSION_NOT_FIT\n",
        "    except (TypeError):\n",
        "        return None\n",
        "  def resolve_dispansary_group(arg):\n",
        "    try:\n",
        "      if arg == \"I\":\n",
        "        return FIELD_DISPANSARY_GROUP_I\n",
        "      elif arg == \"II\":\n",
        "        return FIELD_DISPANSARY_GROUP_II\n",
        "      elif \"III\" in arg :\n",
        "        return FIELD_DISPANSARY_GROUP_III\n",
        "      else:\n",
        "        return FIELD_DISPANSARY_GROUP_OTHER\n",
        "    except (TypeError):\n",
        "        return None"
      ],
      "metadata": {
        "id": "no1rdjq8gAo5"
      },
      "execution_count": 258,
      "outputs": []
    },
    {
      "cell_type": "code",
      "source": [
        "df[FIELD_CLIENT_AGE] = df[FIELD_CLIENT_BIRTH_DAY].apply(MyUtils.resolve_birthdate_to_age)"
      ],
      "metadata": {
        "id": "pDec93FchU2W"
      },
      "execution_count": 281,
      "outputs": []
    },
    {
      "cell_type": "code",
      "source": [
        "df[FIELD_CLIENT_GENDER] = df[FIELD_CLIENT_GENDER].apply(lambda x: MyUtils.resolve_genger(x) if pd.notnull(x) else x)"
      ],
      "metadata": {
        "id": "LoVVmjLjht85"
      },
      "execution_count": 282,
      "outputs": []
    },
    {
      "cell_type": "code",
      "source": [
        "del df[FIELD_CLIENT_BIRTH_DAY]"
      ],
      "metadata": {
        "id": "o92c3rRThdOE"
      },
      "execution_count": 283,
      "outputs": []
    },
    {
      "cell_type": "code",
      "source": [
        "df[FIELD_DISPANSARY_GROUP] = df[FIELD_DISPANSARY_GROUP].apply(MyUtils.resolve_dispansary_group)"
      ],
      "metadata": {
        "id": "A2mCflmmh8j_"
      },
      "execution_count": 284,
      "outputs": []
    },
    {
      "cell_type": "code",
      "source": [
        "df[FIELD_CONCLUSION] = df[FIELD_CONCLUSION].apply(lambda x: MyUtils.resolve_conclusion(x))"
      ],
      "metadata": {
        "id": "K_y8i4Lhids7"
      },
      "execution_count": 285,
      "outputs": []
    },
    {
      "cell_type": "code",
      "source": [
        "mkb_columns = df.filter(regex=\"(?i)МКБ10\").columns\n"
      ],
      "metadata": {
        "id": "-lZQMN7pqrMU"
      },
      "execution_count": 286,
      "outputs": []
    },
    {
      "cell_type": "code",
      "source": [
        "df[mkb_columns] = df[mkb_columns].fillna(value='Z00.0')"
      ],
      "metadata": {
        "id": "1DpU2h3L9yxO"
      },
      "execution_count": 287,
      "outputs": []
    },
    {
      "cell_type": "code",
      "source": [
        "# объединяем значения из нескольких столбцов в один массив, удаляем дубликаты\n",
        "#df['mkb'] = df.apply(lambda row: list(set([row[mkb_col_name] for mkb_col_name in mkb_columns if not pd.isna(row[mkb_col_name]) ])), axis=1)\n",
        "df['mkb'] = df.apply(lambda row: list(set([row[mkb_col_name] for mkb_col_name in mkb_columns])), axis=1)\n"
      ],
      "metadata": {
        "id": "x5kr13GK9pa0"
      },
      "execution_count": 288,
      "outputs": []
    },
    {
      "cell_type": "code",
      "source": [
        "df = df.loc[:, ~df.columns.str.contains('мкб10', case=False)]\n"
      ],
      "metadata": {
        "id": "wT1ieDEai-Uy"
      },
      "execution_count": 289,
      "outputs": []
    },
    {
      "cell_type": "code",
      "source": [
        "df[FIELD_HARMFUL_FACTORS] = df[FIELD_HARMFUL_FACTORS].str.split(\",\")"
      ],
      "metadata": {
        "id": "O8GH_WB1ImjW"
      },
      "execution_count": 279,
      "outputs": []
    },
    {
      "cell_type": "code",
      "source": [
        "df"
      ],
      "metadata": {
        "id": "DsWB3U0hoDaZ",
        "outputId": "28701337-5f37-4db1-9ff0-63aa3843323e",
        "colab": {
          "base_uri": "https://localhost:8080/",
          "height": 423
        }
      },
      "execution_count": 290,
      "outputs": [
        {
          "output_type": "execute_result",
          "data": {
            "text/plain": [
              "      Unnamed: 0  КлиентПол  ЗаключениеМК  ДиспансернаяГруппа ВредныеФакторы  \\\n",
              "0              0          1           0.0                 0.0         [11.4]   \n",
              "1              1          0           0.0                 2.0        [4.2.5]   \n",
              "2              2          0           1.0                 1.0        [4.2.5]   \n",
              "3              3          0           0.0                 0.0         [11.1]   \n",
              "4              4          0           1.0                 1.0         [11.1]   \n",
              "...          ...        ...           ...                 ...            ...   \n",
              "1977        1977          0           NaN                 NaN          [6.1]   \n",
              "1978        1978          0           NaN                 NaN          [6.1]   \n",
              "1979        1979          0           NaN                 NaN      [5.1, 23]   \n",
              "1980        1980          1           NaN                 NaN           [23]   \n",
              "1981        1981          0           0.0                 NaN           [27]   \n",
              "\n",
              "      КлиентВозраст             mkb  \n",
              "0                47         [Z00.0]  \n",
              "1                36  [Z00.0, I11.9]  \n",
              "2                38  [Z00.0, H52.1]  \n",
              "3                35         [Z00.0]  \n",
              "4                39  [H52.2, Z00.0]  \n",
              "...             ...             ...  \n",
              "1977             51         [Z00.0]  \n",
              "1978             37         [Z00.0]  \n",
              "1979             29  [K02.1, Z00.0]  \n",
              "1980             51  [Z00.0, I11.9]  \n",
              "1981             52         [Z00.0]  \n",
              "\n",
              "[1978 rows x 7 columns]"
            ],
            "text/html": [
              "\n",
              "  <div id=\"df-4f31f0c2-e610-45fd-8db0-2bd60d2060c7\">\n",
              "    <div class=\"colab-df-container\">\n",
              "      <div>\n",
              "<style scoped>\n",
              "    .dataframe tbody tr th:only-of-type {\n",
              "        vertical-align: middle;\n",
              "    }\n",
              "\n",
              "    .dataframe tbody tr th {\n",
              "        vertical-align: top;\n",
              "    }\n",
              "\n",
              "    .dataframe thead th {\n",
              "        text-align: right;\n",
              "    }\n",
              "</style>\n",
              "<table border=\"1\" class=\"dataframe\">\n",
              "  <thead>\n",
              "    <tr style=\"text-align: right;\">\n",
              "      <th></th>\n",
              "      <th>Unnamed: 0</th>\n",
              "      <th>КлиентПол</th>\n",
              "      <th>ЗаключениеМК</th>\n",
              "      <th>ДиспансернаяГруппа</th>\n",
              "      <th>ВредныеФакторы</th>\n",
              "      <th>КлиентВозраст</th>\n",
              "      <th>mkb</th>\n",
              "    </tr>\n",
              "  </thead>\n",
              "  <tbody>\n",
              "    <tr>\n",
              "      <th>0</th>\n",
              "      <td>0</td>\n",
              "      <td>1</td>\n",
              "      <td>0.0</td>\n",
              "      <td>0.0</td>\n",
              "      <td>[11.4]</td>\n",
              "      <td>47</td>\n",
              "      <td>[Z00.0]</td>\n",
              "    </tr>\n",
              "    <tr>\n",
              "      <th>1</th>\n",
              "      <td>1</td>\n",
              "      <td>0</td>\n",
              "      <td>0.0</td>\n",
              "      <td>2.0</td>\n",
              "      <td>[4.2.5]</td>\n",
              "      <td>36</td>\n",
              "      <td>[Z00.0, I11.9]</td>\n",
              "    </tr>\n",
              "    <tr>\n",
              "      <th>2</th>\n",
              "      <td>2</td>\n",
              "      <td>0</td>\n",
              "      <td>1.0</td>\n",
              "      <td>1.0</td>\n",
              "      <td>[4.2.5]</td>\n",
              "      <td>38</td>\n",
              "      <td>[Z00.0, H52.1]</td>\n",
              "    </tr>\n",
              "    <tr>\n",
              "      <th>3</th>\n",
              "      <td>3</td>\n",
              "      <td>0</td>\n",
              "      <td>0.0</td>\n",
              "      <td>0.0</td>\n",
              "      <td>[11.1]</td>\n",
              "      <td>35</td>\n",
              "      <td>[Z00.0]</td>\n",
              "    </tr>\n",
              "    <tr>\n",
              "      <th>4</th>\n",
              "      <td>4</td>\n",
              "      <td>0</td>\n",
              "      <td>1.0</td>\n",
              "      <td>1.0</td>\n",
              "      <td>[11.1]</td>\n",
              "      <td>39</td>\n",
              "      <td>[H52.2, Z00.0]</td>\n",
              "    </tr>\n",
              "    <tr>\n",
              "      <th>...</th>\n",
              "      <td>...</td>\n",
              "      <td>...</td>\n",
              "      <td>...</td>\n",
              "      <td>...</td>\n",
              "      <td>...</td>\n",
              "      <td>...</td>\n",
              "      <td>...</td>\n",
              "    </tr>\n",
              "    <tr>\n",
              "      <th>1977</th>\n",
              "      <td>1977</td>\n",
              "      <td>0</td>\n",
              "      <td>NaN</td>\n",
              "      <td>NaN</td>\n",
              "      <td>[6.1]</td>\n",
              "      <td>51</td>\n",
              "      <td>[Z00.0]</td>\n",
              "    </tr>\n",
              "    <tr>\n",
              "      <th>1978</th>\n",
              "      <td>1978</td>\n",
              "      <td>0</td>\n",
              "      <td>NaN</td>\n",
              "      <td>NaN</td>\n",
              "      <td>[6.1]</td>\n",
              "      <td>37</td>\n",
              "      <td>[Z00.0]</td>\n",
              "    </tr>\n",
              "    <tr>\n",
              "      <th>1979</th>\n",
              "      <td>1979</td>\n",
              "      <td>0</td>\n",
              "      <td>NaN</td>\n",
              "      <td>NaN</td>\n",
              "      <td>[5.1, 23]</td>\n",
              "      <td>29</td>\n",
              "      <td>[K02.1, Z00.0]</td>\n",
              "    </tr>\n",
              "    <tr>\n",
              "      <th>1980</th>\n",
              "      <td>1980</td>\n",
              "      <td>1</td>\n",
              "      <td>NaN</td>\n",
              "      <td>NaN</td>\n",
              "      <td>[23]</td>\n",
              "      <td>51</td>\n",
              "      <td>[Z00.0, I11.9]</td>\n",
              "    </tr>\n",
              "    <tr>\n",
              "      <th>1981</th>\n",
              "      <td>1981</td>\n",
              "      <td>0</td>\n",
              "      <td>0.0</td>\n",
              "      <td>NaN</td>\n",
              "      <td>[27]</td>\n",
              "      <td>52</td>\n",
              "      <td>[Z00.0]</td>\n",
              "    </tr>\n",
              "  </tbody>\n",
              "</table>\n",
              "<p>1978 rows × 7 columns</p>\n",
              "</div>\n",
              "      <button class=\"colab-df-convert\" onclick=\"convertToInteractive('df-4f31f0c2-e610-45fd-8db0-2bd60d2060c7')\"\n",
              "              title=\"Convert this dataframe to an interactive table.\"\n",
              "              style=\"display:none;\">\n",
              "        \n",
              "  <svg xmlns=\"http://www.w3.org/2000/svg\" height=\"24px\"viewBox=\"0 0 24 24\"\n",
              "       width=\"24px\">\n",
              "    <path d=\"M0 0h24v24H0V0z\" fill=\"none\"/>\n",
              "    <path d=\"M18.56 5.44l.94 2.06.94-2.06 2.06-.94-2.06-.94-.94-2.06-.94 2.06-2.06.94zm-11 1L8.5 8.5l.94-2.06 2.06-.94-2.06-.94L8.5 2.5l-.94 2.06-2.06.94zm10 10l.94 2.06.94-2.06 2.06-.94-2.06-.94-.94-2.06-.94 2.06-2.06.94z\"/><path d=\"M17.41 7.96l-1.37-1.37c-.4-.4-.92-.59-1.43-.59-.52 0-1.04.2-1.43.59L10.3 9.45l-7.72 7.72c-.78.78-.78 2.05 0 2.83L4 21.41c.39.39.9.59 1.41.59.51 0 1.02-.2 1.41-.59l7.78-7.78 2.81-2.81c.8-.78.8-2.07 0-2.86zM5.41 20L4 18.59l7.72-7.72 1.47 1.35L5.41 20z\"/>\n",
              "  </svg>\n",
              "      </button>\n",
              "      \n",
              "  <style>\n",
              "    .colab-df-container {\n",
              "      display:flex;\n",
              "      flex-wrap:wrap;\n",
              "      gap: 12px;\n",
              "    }\n",
              "\n",
              "    .colab-df-convert {\n",
              "      background-color: #E8F0FE;\n",
              "      border: none;\n",
              "      border-radius: 50%;\n",
              "      cursor: pointer;\n",
              "      display: none;\n",
              "      fill: #1967D2;\n",
              "      height: 32px;\n",
              "      padding: 0 0 0 0;\n",
              "      width: 32px;\n",
              "    }\n",
              "\n",
              "    .colab-df-convert:hover {\n",
              "      background-color: #E2EBFA;\n",
              "      box-shadow: 0px 1px 2px rgba(60, 64, 67, 0.3), 0px 1px 3px 1px rgba(60, 64, 67, 0.15);\n",
              "      fill: #174EA6;\n",
              "    }\n",
              "\n",
              "    [theme=dark] .colab-df-convert {\n",
              "      background-color: #3B4455;\n",
              "      fill: #D2E3FC;\n",
              "    }\n",
              "\n",
              "    [theme=dark] .colab-df-convert:hover {\n",
              "      background-color: #434B5C;\n",
              "      box-shadow: 0px 1px 3px 1px rgba(0, 0, 0, 0.15);\n",
              "      filter: drop-shadow(0px 1px 2px rgba(0, 0, 0, 0.3));\n",
              "      fill: #FFFFFF;\n",
              "    }\n",
              "  </style>\n",
              "\n",
              "      <script>\n",
              "        const buttonEl =\n",
              "          document.querySelector('#df-4f31f0c2-e610-45fd-8db0-2bd60d2060c7 button.colab-df-convert');\n",
              "        buttonEl.style.display =\n",
              "          google.colab.kernel.accessAllowed ? 'block' : 'none';\n",
              "\n",
              "        async function convertToInteractive(key) {\n",
              "          const element = document.querySelector('#df-4f31f0c2-e610-45fd-8db0-2bd60d2060c7');\n",
              "          const dataTable =\n",
              "            await google.colab.kernel.invokeFunction('convertToInteractive',\n",
              "                                                     [key], {});\n",
              "          if (!dataTable) return;\n",
              "\n",
              "          const docLinkHtml = 'Like what you see? Visit the ' +\n",
              "            '<a target=\"_blank\" href=https://colab.research.google.com/notebooks/data_table.ipynb>data table notebook</a>'\n",
              "            + ' to learn more about interactive tables.';\n",
              "          element.innerHTML = '';\n",
              "          dataTable['output_type'] = 'display_data';\n",
              "          await google.colab.output.renderOutput(dataTable, element);\n",
              "          const docLink = document.createElement('div');\n",
              "          docLink.innerHTML = docLinkHtml;\n",
              "          element.appendChild(docLink);\n",
              "        }\n",
              "      </script>\n",
              "    </div>\n",
              "  </div>\n",
              "  "
            ]
          },
          "metadata": {},
          "execution_count": 290
        }
      ]
    },
    {
      "cell_type": "code",
      "source": [
        "df['mkb'].explode().unique()"
      ],
      "metadata": {
        "colab": {
          "base_uri": "https://localhost:8080/"
        },
        "id": "YddNNL_EAwuu",
        "outputId": "5abc9370-20c3-45a1-87f2-03ca3226d8c9"
      },
      "execution_count": 102,
      "outputs": [
        {
          "output_type": "execute_result",
          "data": {
            "text/plain": [
              "array(['Z00.0', 'I11.9', 'H52.1', 'H52.2', 'H53.0', 'K29.3', 'I70',\n",
              "       'H90.5', 'G90.9', 'H52.0', 'S68.2', 'N60.2', 'E11.9', 'K29.6',\n",
              "       'M42.1', 'D25', 'I69.4', 'N83.2', 'H90.3', 'K44.9', 'N80.0',\n",
              "       'G99.0', 'G12.1', 'K81.9', 'H11.0', 'G25.0', 'K26.9', 'K86.1',\n",
              "       'H91.1', 'H74.1', 'I67.2', 'N28.1', 'I83.9', 'L40.0', 'T90.4',\n",
              "       'H93.0', 'D25.9', 'I25.8', 'K80.5', 'F06.6', 'K40.9', 'E11.8',\n",
              "       'E10.9', 'T94.0', 'F10.7', 'D35.2', 'L20.8', 'K29.5', 'H50.9',\n",
              "       'K80.2', 'I25.2', 'E14.8', 'I67.9', 'Q12.0', 'S51.9', 'K02.1',\n",
              "       'K00.0', 'F06.7', 'K03.66', 'K02.0', 'H25.0', 'I66.9', 'K29.8',\n",
              "       'T92.0', 'F98.5', 'H40.1', 'H90.4', 'F41.0', 'R25.1', 'K25.7',\n",
              "       'K29.7', 'J45.8', 'H47.2', 'J33.0', 'H66.1', 'K76.0', 'K04.5',\n",
              "       'K80.1', 'H25.1', 'K25.9', 'K05.4', 'K26.7', 'H02.4', 'I49.9',\n",
              "       'H01.0', 'I49.8', 'H35.0', 'H17.1', 'K43.6', 'J30.1', 'F07.0',\n",
              "       'G58.9', 'J37.0', 'I25.9', 'H40.9', 'F70.0', 'G90.8', 'K08.2',\n",
              "       'K82.8', 'K82.9', 'J45.9', 'K05.3', 'F10.1', 'K29.4', 'C53.9'],\n",
              "      dtype=object)"
            ]
          },
          "metadata": {},
          "execution_count": 102
        }
      ]
    },
    {
      "cell_type": "code",
      "source": [
        "tokenizer = Tokenizer()\n",
        "tokenizer.fit_on_texts(np.array(df['mkb']))"
      ],
      "metadata": {
        "id": "5QfwEGduA77h"
      },
      "execution_count": 291,
      "outputs": []
    },
    {
      "cell_type": "code",
      "source": [
        "xMkbIndexed = tokenizer.texts_to_sequences(df['mkb'])"
      ],
      "metadata": {
        "id": "VTCD56dABj8J"
      },
      "execution_count": 292,
      "outputs": []
    },
    {
      "cell_type": "code",
      "source": [
        "mkb_max_len = max(len(sublist) for sublist in xMkbIndexed)\n",
        "#mkb_max_len = max(xMkbIndexed, key=len)\n",
        "print(mkb_max_len)"
      ],
      "metadata": {
        "colab": {
          "base_uri": "https://localhost:8080/"
        },
        "id": "Ncw4WKUkBj2E",
        "outputId": "20a9329e-04bc-406d-f138-2118d7d0a13e"
      },
      "execution_count": 293,
      "outputs": [
        {
          "output_type": "stream",
          "name": "stdout",
          "text": [
            "6\n"
          ]
        }
      ]
    },
    {
      "cell_type": "code",
      "source": [
        "xMkbIndexedPadded = pad_sequences(xMkbIndexed, maxlen=mkb_max_len, padding='post')"
      ],
      "metadata": {
        "id": "mfj7L1-AZMoQ"
      },
      "execution_count": 294,
      "outputs": []
    },
    {
      "cell_type": "code",
      "source": [
        "xMkbIndexedPadded.shape"
      ],
      "metadata": {
        "colab": {
          "base_uri": "https://localhost:8080/"
        },
        "id": "iMqTEUZoCeub",
        "outputId": "ab2a0abf-e476-4196-8b01-5a1f63b830f1"
      },
      "execution_count": 295,
      "outputs": [
        {
          "output_type": "execute_result",
          "data": {
            "text/plain": [
              "(1978, 6)"
            ]
          },
          "metadata": {},
          "execution_count": 295
        }
      ]
    },
    {
      "cell_type": "code",
      "source": [
        "#df[FIELD_HARMFUL_FACTORS] = df[FIELD_HARMFUL_FACTORS].apply(lambda x: x.replace(\".\", \"x\"))"
      ],
      "metadata": {
        "id": "H-lwjg6qrPxY"
      },
      "execution_count": 34,
      "outputs": []
    },
    {
      "cell_type": "code",
      "source": [
        "#df[FIELD_HARMFUL_FACTORS] = df[FIELD_HARMFUL_FACTORS].str.split(\",\")\n",
        "#df[FIELD_HARMFUL_FACTORS] = df[FIELD_HARMFUL_FACTORS].apply(lambda x: \",\".join(x))"
      ],
      "metadata": {
        "id": "gPvyI9CV5cgp"
      },
      "execution_count": 29,
      "outputs": []
    },
    {
      "cell_type": "code",
      "source": [
        "tokenizer = Tokenizer()"
      ],
      "metadata": {
        "id": "pht4dtJ1JInA"
      },
      "execution_count": 296,
      "outputs": []
    },
    {
      "cell_type": "code",
      "source": [
        "tokenizer.fit_on_texts(df[FIELD_HARMFUL_FACTORS])"
      ],
      "metadata": {
        "id": "y8X4vDHzJU5a"
      },
      "execution_count": 297,
      "outputs": []
    },
    {
      "cell_type": "code",
      "source": [
        "xTrainHarmfulIndexes = tokenizer.texts_to_sequences(df[FIELD_HARMFUL_FACTORS])"
      ],
      "metadata": {
        "id": "10IkPfDUJa9K"
      },
      "execution_count": 298,
      "outputs": []
    },
    {
      "cell_type": "code",
      "source": [
        "harm_max_len = max(len(sublist) for sublist in xTrainHarmfulIndexes)\n"
      ],
      "metadata": {
        "id": "xXhmYgtG3Viz"
      },
      "execution_count": 185,
      "outputs": []
    },
    {
      "cell_type": "code",
      "source": [
        "xTrainHarmfulIndexesPadded = pad_sequences(xTrainHarmfulIndexes, maxlen=harm_max_len, padding='post')"
      ],
      "metadata": {
        "id": "qdL0cWUxO4P5"
      },
      "execution_count": 299,
      "outputs": []
    },
    {
      "cell_type": "code",
      "source": [
        "xTrainHarmfulIndexesPadded.shape"
      ],
      "metadata": {
        "colab": {
          "base_uri": "https://localhost:8080/"
        },
        "id": "WOVx8kwfwS6A",
        "outputId": "844873d9-4f65-471d-f4dc-33f0d7402d9d"
      },
      "execution_count": 300,
      "outputs": [
        {
          "output_type": "execute_result",
          "data": {
            "text/plain": [
              "(1978, 13)"
            ]
          },
          "metadata": {},
          "execution_count": 300
        }
      ]
    },
    {
      "cell_type": "code",
      "source": [],
      "metadata": {
        "id": "ASRBU5I6o3vY"
      },
      "execution_count": null,
      "outputs": []
    }
  ]
}