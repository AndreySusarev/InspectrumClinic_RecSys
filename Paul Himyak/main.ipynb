{
  "nbformat": 4,
  "nbformat_minor": 0,
  "metadata": {
    "colab": {
      "provenance": [],
      "mount_file_id": "https://github.com/Untick/InspectrumClinic_RecSys/blob/main/Paul%20Himyak/main.ipynb",
      "authorship_tag": "ABX9TyPcc1qL68Lz+EHF7uCpirAZ",
      "include_colab_link": true
    },
    "kernelspec": {
      "name": "python3",
      "display_name": "Python 3"
    },
    "language_info": {
      "name": "python"
    }
  },
  "cells": [
    {
      "cell_type": "markdown",
      "metadata": {
        "id": "view-in-github",
        "colab_type": "text"
      },
      "source": [
        "<a href=\"https://colab.research.google.com/github/Untick/InspectrumClinic_RecSys/blob/main/Paul%20Himyak/main.ipynb\" target=\"_parent\"><img src=\"https://colab.research.google.com/assets/colab-badge.svg\" alt=\"Open In Colab\"/></a>"
      ]
    },
    {
      "cell_type": "code",
      "source": [
        "import pandas as pd\n",
        "import matplotlib.pyplot as plt\n",
        "import uuid\n",
        "import re\n",
        "import numpy as np\n",
        "import seaborn as sns\n",
        "from datetime import datetime\n",
        "\n",
        "from sklearn.model_selection import train_test_split \n",
        "\n",
        "from tensorflow.keras.preprocessing.text import Tokenizer\n",
        "from tensorflow.keras.preprocessing.sequence import pad_sequences\n",
        "\n",
        "from tensorflow.keras.layers import concatenate, Embedding, Conv1D, Input, Dense, Dropout, BatchNormalization, Flatten , SpatialDropout1D, Reshape, RepeatVector, GlobalMaxPooling1D\n",
        "from tensorflow.keras.models import Model\n",
        "from tensorflow.keras.optimizers import Adam\n",
        "import tensorflow.keras.losses as keras_losses\n",
        "import tensorflow.keras.metrics as keras_metrics\n",
        "from tensorflow.keras import utils\n",
        "\n",
        "\n",
        "import gdown"
      ],
      "metadata": {
        "id": "P83i6KfIF2gd"
      },
      "execution_count": 1,
      "outputs": []
    },
    {
      "cell_type": "code",
      "execution_count": 2,
      "metadata": {
        "id": "1vSWmbjqEvHX",
        "colab": {
          "base_uri": "https://localhost:8080/",
          "height": 35
        },
        "outputId": "22d46e9f-cf3a-430a-9727-e030c292f6a2"
      },
      "outputs": [
        {
          "output_type": "execute_result",
          "data": {
            "text/plain": [
              "'profpatolog_modified.xlsx'"
            ],
            "application/vnd.google.colaboratory.intrinsic+json": {
              "type": "string"
            }
          },
          "metadata": {},
          "execution_count": 2
        }
      ],
      "source": [
        "dataset_url = \"https://drive.google.com/uc?export=download&id=1ErXvN290PPthLGsb0ALpa_0aUDnvC0jg\"\n",
        "#dataset_url = \"https://docs.google.com/spreadsheets/d/1ErXvN290PPthLGsb0ALpa_0aUDnvC0jg/edit?usp=share_link&ouid=113369956649761615778&rtpof=true&sd=true\"\n",
        "dataset_filename = \"profpatolog_modified.xlsx\"\n",
        "#!wget -qc dataset_url -O dataset_filename\n",
        "gdown.download(dataset_url, output=dataset_filename, quiet=True )\n"
      ]
    },
    {
      "cell_type": "code",
      "source": [
        "df = pd.read_excel(\"profpatolog_modified.xlsx\")\n"
      ],
      "metadata": {
        "id": "c2g1o_nMF48g"
      },
      "execution_count": 3,
      "outputs": []
    },
    {
      "cell_type": "markdown",
      "source": [],
      "metadata": {
        "id": "Vso46VI_dhRx"
      }
    },
    {
      "cell_type": "code",
      "source": [
        "#Удаляем случайные вбросы\n",
        "df.drop([843, 851, 1022, 1024], inplace = True)\n",
        "\n",
        "#Убираем пустые колонки\n",
        "empty_columns = df.columns[df.isna().all()]\n",
        "df.drop(empty_columns, inplace = True, axis = 1)"
      ],
      "metadata": {
        "id": "dJT7uj6rGAtJ"
      },
      "execution_count": 4,
      "outputs": []
    },
    {
      "cell_type": "code",
      "source": [
        "del df['Unnamed: 0']"
      ],
      "metadata": {
        "id": "QHIIwbuCxZjz"
      },
      "execution_count": 5,
      "outputs": []
    },
    {
      "cell_type": "code",
      "source": [
        "FIELD_CLIENT_AGE = \"КлиентВозраст\"\n",
        "FIELD_CLIENT_BIRTH_DAY = \"КлиентДатаРождения\"\n",
        "FIELD_CLIENT_GENDER = \"КлиентПол\"\n",
        "FIELD_CLIENT_GENDER_M = 0\n",
        "FIELD_CLIENT_GENDER_F = 1\n",
        "FIELD_CONCLUSION = \"ЗаключениеМК\"\n",
        "FIELD_CONCLUSION_FIT = 0\n",
        "FIELD_CONCLUSION_PART_FIT = 1\n",
        "FIELD_CONCLUSION_NOT_FIT = 2\n",
        "\n",
        "FIELD_DISPANSARY_GROUP = \"ДиспансернаяГруппа\"\n",
        "FIELD_DISPANSARY_GROUP_I = 0\n",
        "FIELD_DISPANSARY_GROUP_II = 1\n",
        "FIELD_DISPANSARY_GROUP_III = 2\n",
        "FIELD_DISPANSARY_GROUP_OTHER = 3\n",
        "\n",
        "FIELD_HARMFUL_FACTORS = \"ВредныеФакторы\"\n",
        "\n",
        "\n",
        "FIELD_NEW_AGE_CATEGORY = \"ВозрастКатегория\"\n",
        "\n",
        "FIELD_CLIENT_PROFESSION = \"Профессия\""
      ],
      "metadata": {
        "id": "ACwbB23gGTTN"
      },
      "execution_count": 6,
      "outputs": []
    },
    {
      "cell_type": "code",
      "source": [
        "from datetime import datetime\n",
        "class MyUtils:\n",
        "  @staticmethod  \n",
        "  # Определяем функцию для расчета возраста на основе даты\n",
        "  def resolve_birthdate_to_age(date):\n",
        "    current_year = pd.Timestamp.now().year\n",
        "    age = current_year - date.year\n",
        "    return age\n",
        "  def resolve_genger(x):\n",
        "    if x == 'Мужской':\n",
        "        return FIELD_CLIENT_GENDER_M\n",
        "    elif x == 'Женский':\n",
        "        return FIELD_CLIENT_GENDER_F\n",
        "    else:\n",
        "        return None\n",
        "  def resolve_conclusion(arg):\n",
        "    try:\n",
        "      if \"Годен\" == arg:\n",
        "        return FIELD_CONCLUSION_FIT\n",
        "      elif \"Негоден\" in arg:\n",
        "        return FIELD_CONCLUSION_NOT_FIT\n",
        "      elif \"Годен\" in arg:\n",
        "        return FIELD_CONCLUSION_PART_FIT\n",
        "      else:\n",
        "        return FIELD_CONCLUSION_NOT_FIT\n",
        "    except (TypeError):\n",
        "        return None\n",
        "  def resolve_dispansary_group(arg):\n",
        "    try:\n",
        "      if arg == \"I\":\n",
        "        return FIELD_DISPANSARY_GROUP_I\n",
        "      elif arg == \"II\":\n",
        "        return FIELD_DISPANSARY_GROUP_II\n",
        "      elif \"III\" in arg :\n",
        "        return FIELD_DISPANSARY_GROUP_III\n",
        "      else:\n",
        "        return FIELD_DISPANSARY_GROUP_OTHER\n",
        "    except (TypeError):\n",
        "        return None\n",
        "  def resolve_age_to_category(arg):\n",
        "    outClass =int((arg-13)/5)\n",
        "    outClass = max(0, min(10,outClass))\n",
        "    return outClass"
      ],
      "metadata": {
        "id": "no1rdjq8gAo5"
      },
      "execution_count": 7,
      "outputs": []
    },
    {
      "cell_type": "code",
      "source": [
        "df[FIELD_CLIENT_AGE] = df[FIELD_CLIENT_BIRTH_DAY].apply(MyUtils.resolve_birthdate_to_age)"
      ],
      "metadata": {
        "id": "pDec93FchU2W"
      },
      "execution_count": 8,
      "outputs": []
    },
    {
      "cell_type": "code",
      "source": [
        "df[FIELD_NEW_AGE_CATEGORY] = df[FIELD_CLIENT_AGE].apply(MyUtils.resolve_age_to_category)"
      ],
      "metadata": {
        "id": "SvWVDJwiqG3I"
      },
      "execution_count": 9,
      "outputs": []
    },
    {
      "cell_type": "code",
      "source": [
        "df[FIELD_CLIENT_GENDER] = df[FIELD_CLIENT_GENDER].apply(lambda x: MyUtils.resolve_genger(x) if pd.notnull(x) else x)"
      ],
      "metadata": {
        "id": "LoVVmjLjht85"
      },
      "execution_count": 10,
      "outputs": []
    },
    {
      "cell_type": "code",
      "source": [
        "del df[FIELD_CLIENT_BIRTH_DAY]"
      ],
      "metadata": {
        "id": "o92c3rRThdOE"
      },
      "execution_count": 11,
      "outputs": []
    },
    {
      "cell_type": "code",
      "source": [
        "del  df[FIELD_CLIENT_AGE]"
      ],
      "metadata": {
        "id": "1O4zPcu3rRtW"
      },
      "execution_count": 12,
      "outputs": []
    },
    {
      "cell_type": "code",
      "source": [
        "df[FIELD_DISPANSARY_GROUP] = df[FIELD_DISPANSARY_GROUP].apply(MyUtils.resolve_dispansary_group)"
      ],
      "metadata": {
        "id": "A2mCflmmh8j_"
      },
      "execution_count": 13,
      "outputs": []
    },
    {
      "cell_type": "code",
      "source": [
        "df[FIELD_CONCLUSION] = df[FIELD_CONCLUSION].apply(lambda x: MyUtils.resolve_conclusion(x))"
      ],
      "metadata": {
        "id": "K_y8i4Lhids7"
      },
      "execution_count": 14,
      "outputs": []
    },
    {
      "cell_type": "code",
      "source": [
        "mkb_columns = df.filter(regex=\"(?i)МКБ10\").columns\n"
      ],
      "metadata": {
        "id": "-lZQMN7pqrMU"
      },
      "execution_count": 15,
      "outputs": []
    },
    {
      "cell_type": "code",
      "source": [
        "df[mkb_columns] = df[mkb_columns].fillna(value='Z00.0')"
      ],
      "metadata": {
        "id": "1DpU2h3L9yxO"
      },
      "execution_count": 16,
      "outputs": []
    },
    {
      "cell_type": "code",
      "source": [
        "# объединяем значения из нескольких столбцов в один массив, удаляем дубликаты\n",
        "#df['mkb'] = df.apply(lambda row: list(set([row[mkb_col_name] for mkb_col_name in mkb_columns if not pd.isna(row[mkb_col_name]) ])), axis=1)\n",
        "df['mkb'] = df.apply(lambda row: list(set([row[mkb_col_name] for mkb_col_name in mkb_columns])), axis=1)\n"
      ],
      "metadata": {
        "id": "x5kr13GK9pa0"
      },
      "execution_count": 17,
      "outputs": []
    },
    {
      "cell_type": "code",
      "source": [
        "df = df.loc[:, ~df.columns.str.contains('мкб10', case=False)]\n"
      ],
      "metadata": {
        "id": "wT1ieDEai-Uy"
      },
      "execution_count": 18,
      "outputs": []
    },
    {
      "cell_type": "code",
      "source": [
        "df[FIELD_HARMFUL_FACTORS] = df[FIELD_HARMFUL_FACTORS].str.split(\",\")"
      ],
      "metadata": {
        "colab": {
          "base_uri": "https://localhost:8080/"
        },
        "id": "O8GH_WB1ImjW",
        "outputId": "97f9178f-ec78-41aa-dd86-c7411912e719"
      },
      "execution_count": 19,
      "outputs": [
        {
          "output_type": "stream",
          "name": "stderr",
          "text": [
            "<ipython-input-19-5df6e72f6511>:1: SettingWithCopyWarning: \n",
            "A value is trying to be set on a copy of a slice from a DataFrame.\n",
            "Try using .loc[row_indexer,col_indexer] = value instead\n",
            "\n",
            "See the caveats in the documentation: https://pandas.pydata.org/pandas-docs/stable/user_guide/indexing.html#returning-a-view-versus-a-copy\n",
            "  df[FIELD_HARMFUL_FACTORS] = df[FIELD_HARMFUL_FACTORS].str.split(\",\")\n"
          ]
        }
      ]
    },
    {
      "cell_type": "code",
      "source": [
        "df.dropna(inplace = True)"
      ],
      "metadata": {
        "colab": {
          "base_uri": "https://localhost:8080/"
        },
        "id": "3LHxZ1wDxty6",
        "outputId": "73aa901e-eebe-45a9-cb00-714787b753b6"
      },
      "execution_count": 20,
      "outputs": [
        {
          "output_type": "stream",
          "name": "stderr",
          "text": [
            "<ipython-input-20-d1ada024d2eb>:1: SettingWithCopyWarning: \n",
            "A value is trying to be set on a copy of a slice from a DataFrame\n",
            "\n",
            "See the caveats in the documentation: https://pandas.pydata.org/pandas-docs/stable/user_guide/indexing.html#returning-a-view-versus-a-copy\n",
            "  df.dropna(inplace = True)\n"
          ]
        }
      ]
    },
    {
      "cell_type": "code",
      "source": [
        "df_ohe = pd.get_dummies(df[[FIELD_CLIENT_GENDER, FIELD_DISPANSARY_GROUP, FIELD_NEW_AGE_CATEGORY]],  columns = [FIELD_CLIENT_GENDER, FIELD_DISPANSARY_GROUP, FIELD_NEW_AGE_CATEGORY] )"
      ],
      "metadata": {
        "id": "yOrH0jogzbIA"
      },
      "execution_count": 21,
      "outputs": []
    },
    {
      "cell_type": "code",
      "source": [
        "xTrain0 = df_ohe.values"
      ],
      "metadata": {
        "id": "Bm7v8sSo3_kL"
      },
      "execution_count": 22,
      "outputs": []
    },
    {
      "cell_type": "code",
      "source": [
        "xTrain0.shape"
      ],
      "metadata": {
        "colab": {
          "base_uri": "https://localhost:8080/"
        },
        "id": "w-7XmdZa5jWp",
        "outputId": "b819a4c6-d836-4cc7-804c-39eb2a9dd7b5"
      },
      "execution_count": 23,
      "outputs": [
        {
          "output_type": "execute_result",
          "data": {
            "text/plain": [
              "(1562, 16)"
            ]
          },
          "metadata": {},
          "execution_count": 23
        }
      ]
    },
    {
      "cell_type": "code",
      "source": [
        "yTrain =  pd.get_dummies(df[FIELD_CONCLUSION]).values"
      ],
      "metadata": {
        "id": "uWqHha7N5rhy"
      },
      "execution_count": 24,
      "outputs": []
    },
    {
      "cell_type": "code",
      "source": [
        "yTrain.shape"
      ],
      "metadata": {
        "colab": {
          "base_uri": "https://localhost:8080/"
        },
        "id": "UQv52YEK6IvJ",
        "outputId": "b7f23a44-6f61-4d4e-a1f9-0347f0bf09ba"
      },
      "execution_count": 25,
      "outputs": [
        {
          "output_type": "execute_result",
          "data": {
            "text/plain": [
              "(1562, 3)"
            ]
          },
          "metadata": {},
          "execution_count": 25
        }
      ]
    },
    {
      "cell_type": "code",
      "source": [
        "df"
      ],
      "metadata": {
        "colab": {
          "base_uri": "https://localhost:8080/",
          "height": 423
        },
        "id": "DsWB3U0hoDaZ",
        "outputId": "2fec7bf8-3fea-4de1-d072-030e649ecab0"
      },
      "execution_count": 26,
      "outputs": [
        {
          "output_type": "execute_result",
          "data": {
            "text/plain": [
              "      КлиентПол  ЗаключениеМК  ДиспансернаяГруппа   ВредныеФакторы  \\\n",
              "0             1           0.0                 0.0           [11.4]   \n",
              "1             0           0.0                 2.0          [4.2.5]   \n",
              "2             0           1.0                 1.0          [4.2.5]   \n",
              "3             0           0.0                 0.0           [11.1]   \n",
              "4             0           1.0                 1.0           [11.1]   \n",
              "...         ...           ...                 ...              ...   \n",
              "1960          0           0.0                 1.0  [4.4, 4.5, 6.1]   \n",
              "1961          0           0.0                 0.0  [4.4, 4.5, 6.1]   \n",
              "1962          0           0.0                 0.0            [4.4]   \n",
              "1972          0           0.0                 0.0        [3.1.8.2]   \n",
              "1973          0           0.0                 0.0     [4.2.5, 6.1]   \n",
              "\n",
              "                                              Профессия  ВозрастКатегория  \\\n",
              "0             Ведущий специалист по организации обуения                 6   \n",
              "1                                    Ведущий специалист                 4   \n",
              "2                                      Главный менеджер                 5   \n",
              "3                                    Главный специалист                 4   \n",
              "4                                    Старший специалист                 5   \n",
              "...                                                 ...               ...   \n",
              "1960                                            Инженер                 4   \n",
              "1961                                            Инженер                 3   \n",
              "1962                              Начальник лаборатории                 4   \n",
              "1972  Инженер по бурению 1 категории, непосредственн...                 4   \n",
              "1973                           Приемщик вагонов в депо                  3   \n",
              "\n",
              "                 mkb  \n",
              "0            [Z00.0]  \n",
              "1     [Z00.0, I11.9]  \n",
              "2     [Z00.0, H52.1]  \n",
              "3            [Z00.0]  \n",
              "4     [Z00.0, H52.2]  \n",
              "...              ...  \n",
              "1960  [Z00.0, H52.1]  \n",
              "1961         [Z00.0]  \n",
              "1962         [Z00.0]  \n",
              "1972         [Z00.0]  \n",
              "1973         [Z00.0]  \n",
              "\n",
              "[1562 rows x 7 columns]"
            ],
            "text/html": [
              "\n",
              "  <div id=\"df-aa4abc8d-c3d9-4f94-aa35-d2a128dd43ef\">\n",
              "    <div class=\"colab-df-container\">\n",
              "      <div>\n",
              "<style scoped>\n",
              "    .dataframe tbody tr th:only-of-type {\n",
              "        vertical-align: middle;\n",
              "    }\n",
              "\n",
              "    .dataframe tbody tr th {\n",
              "        vertical-align: top;\n",
              "    }\n",
              "\n",
              "    .dataframe thead th {\n",
              "        text-align: right;\n",
              "    }\n",
              "</style>\n",
              "<table border=\"1\" class=\"dataframe\">\n",
              "  <thead>\n",
              "    <tr style=\"text-align: right;\">\n",
              "      <th></th>\n",
              "      <th>КлиентПол</th>\n",
              "      <th>ЗаключениеМК</th>\n",
              "      <th>ДиспансернаяГруппа</th>\n",
              "      <th>ВредныеФакторы</th>\n",
              "      <th>Профессия</th>\n",
              "      <th>ВозрастКатегория</th>\n",
              "      <th>mkb</th>\n",
              "    </tr>\n",
              "  </thead>\n",
              "  <tbody>\n",
              "    <tr>\n",
              "      <th>0</th>\n",
              "      <td>1</td>\n",
              "      <td>0.0</td>\n",
              "      <td>0.0</td>\n",
              "      <td>[11.4]</td>\n",
              "      <td>Ведущий специалист по организации обуения</td>\n",
              "      <td>6</td>\n",
              "      <td>[Z00.0]</td>\n",
              "    </tr>\n",
              "    <tr>\n",
              "      <th>1</th>\n",
              "      <td>0</td>\n",
              "      <td>0.0</td>\n",
              "      <td>2.0</td>\n",
              "      <td>[4.2.5]</td>\n",
              "      <td>Ведущий специалист</td>\n",
              "      <td>4</td>\n",
              "      <td>[Z00.0, I11.9]</td>\n",
              "    </tr>\n",
              "    <tr>\n",
              "      <th>2</th>\n",
              "      <td>0</td>\n",
              "      <td>1.0</td>\n",
              "      <td>1.0</td>\n",
              "      <td>[4.2.5]</td>\n",
              "      <td>Главный менеджер</td>\n",
              "      <td>5</td>\n",
              "      <td>[Z00.0, H52.1]</td>\n",
              "    </tr>\n",
              "    <tr>\n",
              "      <th>3</th>\n",
              "      <td>0</td>\n",
              "      <td>0.0</td>\n",
              "      <td>0.0</td>\n",
              "      <td>[11.1]</td>\n",
              "      <td>Главный специалист</td>\n",
              "      <td>4</td>\n",
              "      <td>[Z00.0]</td>\n",
              "    </tr>\n",
              "    <tr>\n",
              "      <th>4</th>\n",
              "      <td>0</td>\n",
              "      <td>1.0</td>\n",
              "      <td>1.0</td>\n",
              "      <td>[11.1]</td>\n",
              "      <td>Старший специалист</td>\n",
              "      <td>5</td>\n",
              "      <td>[Z00.0, H52.2]</td>\n",
              "    </tr>\n",
              "    <tr>\n",
              "      <th>...</th>\n",
              "      <td>...</td>\n",
              "      <td>...</td>\n",
              "      <td>...</td>\n",
              "      <td>...</td>\n",
              "      <td>...</td>\n",
              "      <td>...</td>\n",
              "      <td>...</td>\n",
              "    </tr>\n",
              "    <tr>\n",
              "      <th>1960</th>\n",
              "      <td>0</td>\n",
              "      <td>0.0</td>\n",
              "      <td>1.0</td>\n",
              "      <td>[4.4, 4.5, 6.1]</td>\n",
              "      <td>Инженер</td>\n",
              "      <td>4</td>\n",
              "      <td>[Z00.0, H52.1]</td>\n",
              "    </tr>\n",
              "    <tr>\n",
              "      <th>1961</th>\n",
              "      <td>0</td>\n",
              "      <td>0.0</td>\n",
              "      <td>0.0</td>\n",
              "      <td>[4.4, 4.5, 6.1]</td>\n",
              "      <td>Инженер</td>\n",
              "      <td>3</td>\n",
              "      <td>[Z00.0]</td>\n",
              "    </tr>\n",
              "    <tr>\n",
              "      <th>1962</th>\n",
              "      <td>0</td>\n",
              "      <td>0.0</td>\n",
              "      <td>0.0</td>\n",
              "      <td>[4.4]</td>\n",
              "      <td>Начальник лаборатории</td>\n",
              "      <td>4</td>\n",
              "      <td>[Z00.0]</td>\n",
              "    </tr>\n",
              "    <tr>\n",
              "      <th>1972</th>\n",
              "      <td>0</td>\n",
              "      <td>0.0</td>\n",
              "      <td>0.0</td>\n",
              "      <td>[3.1.8.2]</td>\n",
              "      <td>Инженер по бурению 1 категории, непосредственн...</td>\n",
              "      <td>4</td>\n",
              "      <td>[Z00.0]</td>\n",
              "    </tr>\n",
              "    <tr>\n",
              "      <th>1973</th>\n",
              "      <td>0</td>\n",
              "      <td>0.0</td>\n",
              "      <td>0.0</td>\n",
              "      <td>[4.2.5, 6.1]</td>\n",
              "      <td>Приемщик вагонов в депо</td>\n",
              "      <td>3</td>\n",
              "      <td>[Z00.0]</td>\n",
              "    </tr>\n",
              "  </tbody>\n",
              "</table>\n",
              "<p>1562 rows × 7 columns</p>\n",
              "</div>\n",
              "      <button class=\"colab-df-convert\" onclick=\"convertToInteractive('df-aa4abc8d-c3d9-4f94-aa35-d2a128dd43ef')\"\n",
              "              title=\"Convert this dataframe to an interactive table.\"\n",
              "              style=\"display:none;\">\n",
              "        \n",
              "  <svg xmlns=\"http://www.w3.org/2000/svg\" height=\"24px\"viewBox=\"0 0 24 24\"\n",
              "       width=\"24px\">\n",
              "    <path d=\"M0 0h24v24H0V0z\" fill=\"none\"/>\n",
              "    <path d=\"M18.56 5.44l.94 2.06.94-2.06 2.06-.94-2.06-.94-.94-2.06-.94 2.06-2.06.94zm-11 1L8.5 8.5l.94-2.06 2.06-.94-2.06-.94L8.5 2.5l-.94 2.06-2.06.94zm10 10l.94 2.06.94-2.06 2.06-.94-2.06-.94-.94-2.06-.94 2.06-2.06.94z\"/><path d=\"M17.41 7.96l-1.37-1.37c-.4-.4-.92-.59-1.43-.59-.52 0-1.04.2-1.43.59L10.3 9.45l-7.72 7.72c-.78.78-.78 2.05 0 2.83L4 21.41c.39.39.9.59 1.41.59.51 0 1.02-.2 1.41-.59l7.78-7.78 2.81-2.81c.8-.78.8-2.07 0-2.86zM5.41 20L4 18.59l7.72-7.72 1.47 1.35L5.41 20z\"/>\n",
              "  </svg>\n",
              "      </button>\n",
              "      \n",
              "  <style>\n",
              "    .colab-df-container {\n",
              "      display:flex;\n",
              "      flex-wrap:wrap;\n",
              "      gap: 12px;\n",
              "    }\n",
              "\n",
              "    .colab-df-convert {\n",
              "      background-color: #E8F0FE;\n",
              "      border: none;\n",
              "      border-radius: 50%;\n",
              "      cursor: pointer;\n",
              "      display: none;\n",
              "      fill: #1967D2;\n",
              "      height: 32px;\n",
              "      padding: 0 0 0 0;\n",
              "      width: 32px;\n",
              "    }\n",
              "\n",
              "    .colab-df-convert:hover {\n",
              "      background-color: #E2EBFA;\n",
              "      box-shadow: 0px 1px 2px rgba(60, 64, 67, 0.3), 0px 1px 3px 1px rgba(60, 64, 67, 0.15);\n",
              "      fill: #174EA6;\n",
              "    }\n",
              "\n",
              "    [theme=dark] .colab-df-convert {\n",
              "      background-color: #3B4455;\n",
              "      fill: #D2E3FC;\n",
              "    }\n",
              "\n",
              "    [theme=dark] .colab-df-convert:hover {\n",
              "      background-color: #434B5C;\n",
              "      box-shadow: 0px 1px 3px 1px rgba(0, 0, 0, 0.15);\n",
              "      filter: drop-shadow(0px 1px 2px rgba(0, 0, 0, 0.3));\n",
              "      fill: #FFFFFF;\n",
              "    }\n",
              "  </style>\n",
              "\n",
              "      <script>\n",
              "        const buttonEl =\n",
              "          document.querySelector('#df-aa4abc8d-c3d9-4f94-aa35-d2a128dd43ef button.colab-df-convert');\n",
              "        buttonEl.style.display =\n",
              "          google.colab.kernel.accessAllowed ? 'block' : 'none';\n",
              "\n",
              "        async function convertToInteractive(key) {\n",
              "          const element = document.querySelector('#df-aa4abc8d-c3d9-4f94-aa35-d2a128dd43ef');\n",
              "          const dataTable =\n",
              "            await google.colab.kernel.invokeFunction('convertToInteractive',\n",
              "                                                     [key], {});\n",
              "          if (!dataTable) return;\n",
              "\n",
              "          const docLinkHtml = 'Like what you see? Visit the ' +\n",
              "            '<a target=\"_blank\" href=https://colab.research.google.com/notebooks/data_table.ipynb>data table notebook</a>'\n",
              "            + ' to learn more about interactive tables.';\n",
              "          element.innerHTML = '';\n",
              "          dataTable['output_type'] = 'display_data';\n",
              "          await google.colab.output.renderOutput(dataTable, element);\n",
              "          const docLink = document.createElement('div');\n",
              "          docLink.innerHTML = docLinkHtml;\n",
              "          element.appendChild(docLink);\n",
              "        }\n",
              "      </script>\n",
              "    </div>\n",
              "  </div>\n",
              "  "
            ]
          },
          "metadata": {},
          "execution_count": 26
        }
      ]
    },
    {
      "cell_type": "code",
      "source": [
        "df['mkb'].explode().unique()"
      ],
      "metadata": {
        "colab": {
          "base_uri": "https://localhost:8080/"
        },
        "id": "YddNNL_EAwuu",
        "outputId": "559747f9-428a-46ba-892a-866f1a23c91c"
      },
      "execution_count": 27,
      "outputs": [
        {
          "output_type": "execute_result",
          "data": {
            "text/plain": [
              "array(['Z00.0', 'I11.9', 'H52.1', 'H52.2', 'H53.0', 'K29.3', 'I70',\n",
              "       'H90.5', 'G90.9', 'H52.0', 'S68.2', 'N60.2', 'E11.9', 'K29.6',\n",
              "       'M42.1', 'D25', 'I69.4', 'N83.2', 'H90.3', 'K44.9', 'N80.0',\n",
              "       'G99.0', 'G12.1', 'K81.9', 'H11.0', 'G25.0', 'K26.9', 'H91.1',\n",
              "       'K86.1', 'H74.1', 'I67.2', 'N28.1', 'L40.0', 'I83.9', 'H93.0',\n",
              "       'D25.9', 'I25.8', 'K80.5', 'F06.6', 'K40.9', 'E11.8', 'E10.9',\n",
              "       'T94.0', 'F10.7', 'D35.2', 'L20.8', 'K29.5', 'H50.9', 'K80.2',\n",
              "       'I25.2', 'Q12.0', 'S51.9', 'F06.7', 'H25.0', 'I66.9', 'I67.9',\n",
              "       'K29.8', 'T90.4', 'H40.1', 'H90.4', 'F41.0', 'R25.1', 'K29.7',\n",
              "       'H47.2', 'J33.0', 'H66.1', 'K26.7', 'H02.4', 'I49.9', 'H01.0',\n",
              "       'F98.5', 'I49.8', 'J45.8', 'H35.0', 'H17.1', 'J30.1', 'F07.0',\n",
              "       'G58.9', 'J37.0', 'H25.1', 'I25.9', 'K82.9', 'J45.9', 'G90.8',\n",
              "       'K29.4'], dtype=object)"
            ]
          },
          "metadata": {},
          "execution_count": 27
        }
      ]
    },
    {
      "cell_type": "code",
      "source": [
        "tokenizer_mkb = Tokenizer()\n",
        "tokenizer_mkb.fit_on_texts(np.array(df['mkb']))\n",
        "mkb_vocab_size = len(tokenizer_mkb.word_index) + 1\n"
      ],
      "metadata": {
        "id": "5QfwEGduA77h"
      },
      "execution_count": 28,
      "outputs": []
    },
    {
      "cell_type": "code",
      "source": [
        "xMkbIndexed = tokenizer_mkb.texts_to_sequences(df['mkb'])"
      ],
      "metadata": {
        "id": "VTCD56dABj8J"
      },
      "execution_count": 29,
      "outputs": []
    },
    {
      "cell_type": "code",
      "source": [
        "mkb_max_len = max(len(sublist) for sublist in xMkbIndexed)\n",
        "#mkb_max_len = max(xMkbIndexed, key=len)\n",
        "print(mkb_max_len)"
      ],
      "metadata": {
        "colab": {
          "base_uri": "https://localhost:8080/"
        },
        "id": "Ncw4WKUkBj2E",
        "outputId": "0b6468bb-fc3c-4bb8-c97f-f3c2b65a6012"
      },
      "execution_count": 30,
      "outputs": [
        {
          "output_type": "stream",
          "name": "stdout",
          "text": [
            "5\n"
          ]
        }
      ]
    },
    {
      "cell_type": "code",
      "source": [
        "xMkbIndexedPadded = pad_sequences(xMkbIndexed, maxlen=mkb_max_len, padding='post')\n",
        "xTrainMkb = xMkbIndexedPadded"
      ],
      "metadata": {
        "id": "mfj7L1-AZMoQ"
      },
      "execution_count": 31,
      "outputs": []
    },
    {
      "cell_type": "code",
      "source": [
        "xMkbIndexedPadded.shape"
      ],
      "metadata": {
        "colab": {
          "base_uri": "https://localhost:8080/"
        },
        "id": "iMqTEUZoCeub",
        "outputId": "fe61e4fe-7a9c-43f1-d046-af273d15a44d"
      },
      "execution_count": 32,
      "outputs": [
        {
          "output_type": "execute_result",
          "data": {
            "text/plain": [
              "(1562, 5)"
            ]
          },
          "metadata": {},
          "execution_count": 32
        }
      ]
    },
    {
      "cell_type": "code",
      "source": [
        "tokenizer_harmfull = Tokenizer()"
      ],
      "metadata": {
        "id": "pht4dtJ1JInA"
      },
      "execution_count": 33,
      "outputs": []
    },
    {
      "cell_type": "code",
      "source": [
        "tokenizer_harmfull.fit_on_texts(df[FIELD_HARMFUL_FACTORS])\n"
      ],
      "metadata": {
        "id": "y8X4vDHzJU5a"
      },
      "execution_count": 34,
      "outputs": []
    },
    {
      "cell_type": "code",
      "source": [
        "harmfull_vocab_size = len(tokenizer_harmfull.word_index) + 1\n"
      ],
      "metadata": {
        "id": "0jc_bt24pnGl"
      },
      "execution_count": 35,
      "outputs": []
    },
    {
      "cell_type": "code",
      "source": [
        "xTrainHarmfulIndexes = tokenizer_harmfull.texts_to_sequences(df[FIELD_HARMFUL_FACTORS])"
      ],
      "metadata": {
        "id": "10IkPfDUJa9K"
      },
      "execution_count": 36,
      "outputs": []
    },
    {
      "cell_type": "code",
      "source": [
        "harm_max_len = max(len(sublist) for sublist in xTrainHarmfulIndexes)\n"
      ],
      "metadata": {
        "id": "xXhmYgtG3Viz"
      },
      "execution_count": 37,
      "outputs": []
    },
    {
      "cell_type": "code",
      "source": [
        "xTrainHarmfulIndexesPadded = pad_sequences(xTrainHarmfulIndexes, maxlen=harm_max_len, padding='post')\n",
        "xTrainHarmFull = xTrainHarmfulIndexesPadded"
      ],
      "metadata": {
        "id": "qdL0cWUxO4P5"
      },
      "execution_count": 38,
      "outputs": []
    },
    {
      "cell_type": "code",
      "source": [
        "xTrainHarmFull.shape"
      ],
      "metadata": {
        "colab": {
          "base_uri": "https://localhost:8080/"
        },
        "id": "WOVx8kwfwS6A",
        "outputId": "0085df8e-dbda-4994-b4f1-55605feda16d"
      },
      "execution_count": 39,
      "outputs": [
        {
          "output_type": "execute_result",
          "data": {
            "text/plain": [
              "(1562, 13)"
            ]
          },
          "metadata": {},
          "execution_count": 39
        }
      ]
    },
    {
      "cell_type": "code",
      "source": [
        "maxWordsCount = 1000 \n",
        "tokenizer_prof = Tokenizer(num_words=maxWordsCount, filters='!\"#$%&()*+,-–—./:;<=>?@[\\]^_`{|}~\\t\\n\\xa0', lower=True, split=' ', oov_token='unknown', char_level=False)\n",
        "tokenizer_prof.fit_on_texts(df[FIELD_CLIENT_PROFESSION]) \n"
      ],
      "metadata": {
        "id": "ASRBU5I6o3vY"
      },
      "execution_count": 40,
      "outputs": []
    },
    {
      "cell_type": "code",
      "source": [
        "prof_vocab_size = len(tokenizer_prof.word_index) + 1\n"
      ],
      "metadata": {
        "id": "yGB_OM8srHJH"
      },
      "execution_count": 41,
      "outputs": []
    },
    {
      "cell_type": "code",
      "source": [
        "xTrainProfIndexed = tokenizer_prof.texts_to_sequences(df[FIELD_CLIENT_PROFESSION])"
      ],
      "metadata": {
        "id": "wVgWnOZowdbE"
      },
      "execution_count": 42,
      "outputs": []
    },
    {
      "cell_type": "code",
      "source": [
        "prof_max_len = max(len(sublist) for sublist in xTrainProfIndexed)\n"
      ],
      "metadata": {
        "id": "vaHNOY8Lw1km"
      },
      "execution_count": 43,
      "outputs": []
    },
    {
      "cell_type": "code",
      "source": [
        "xTrainProfIndexedPadded = pad_sequences(xTrainProfIndexed, maxlen=prof_max_len, padding='post')\n",
        "xTrainProf = xTrainProfIndexedPadded"
      ],
      "metadata": {
        "id": "4V8uF098wxhE"
      },
      "execution_count": 44,
      "outputs": []
    },
    {
      "cell_type": "code",
      "source": [
        "xTrainProf.shape"
      ],
      "metadata": {
        "colab": {
          "base_uri": "https://localhost:8080/"
        },
        "id": "ahGOfkljw_Lx",
        "outputId": "3a269c5c-a1f3-4a8a-8f7d-02b1e1624249"
      },
      "execution_count": 45,
      "outputs": [
        {
          "output_type": "execute_result",
          "data": {
            "text/plain": [
              "(1562, 12)"
            ]
          },
          "metadata": {},
          "execution_count": 45
        }
      ]
    },
    {
      "cell_type": "code",
      "source": [
        "x_train, x_test, x_train_mkb, x_test_mkb, x_train_harmfull, x_test_harmfull, x_train_prof, x_test_prof,  y_train, y_test = train_test_split(xTrain0,\n",
        "                                                                                                              xTrainMkb,\n",
        "                                                                                                              xTrainHarmFull,\n",
        "                                                                                                              xTrainProf,                                                                                                              \n",
        "                                                                                                              yTrain, \n",
        "                                                                                                              test_size=0.2,\n",
        "                                                                                                              shuffle = False)"
      ],
      "metadata": {
        "id": "PFlbTaYhzEZG"
      },
      "execution_count": 46,
      "outputs": []
    },
    {
      "cell_type": "code",
      "source": [
        "input0 = Input((x_train.shape[1],))\n",
        "input_mkb = Input((x_train_mkb.shape[1],))\n",
        "input_harmfull = Input((x_train_harmfull.shape[1],))\n",
        "input_prof = Input((x_train_prof.shape[1],))"
      ],
      "metadata": {
        "id": "xBK0bLli6rua"
      },
      "execution_count": 47,
      "outputs": []
    },
    {
      "cell_type": "code",
      "source": [
        "x_train_mkb[:3,:]"
      ],
      "metadata": {
        "colab": {
          "base_uri": "https://localhost:8080/"
        },
        "id": "3aKPkrVbZKnq",
        "outputId": "1d6a78ec-4e20-48c0-d339-867805f00fc3"
      },
      "execution_count": 48,
      "outputs": [
        {
          "output_type": "execute_result",
          "data": {
            "text/plain": [
              "array([[1, 0, 0, 0, 0],\n",
              "       [1, 2, 0, 0, 0],\n",
              "       [1, 3, 0, 0, 0]], dtype=int32)"
            ]
          },
          "metadata": {},
          "execution_count": 48
        }
      ]
    },
    {
      "cell_type": "code",
      "source": [
        "def create_model1(input0, input_mkb, input_harmfull, input_prof):\n",
        "  x0 = BatchNormalization()(input0)\n",
        "  x0 = Dense(1024, activation='relu') (x0)\n",
        "  x0 = BatchNormalization()(x0)\n",
        "  x0 = Dropout(0.3)(x0)\n",
        "  x0 = Dense(768, activation='sigmoid')(x0)\n",
        "  x0 = BatchNormalization()(x0)\n",
        "  x0 = Dropout(0.3)(x0)\n",
        "  x0 = Dense(512, activation='sigmoid')(x0)\n",
        "\n",
        "  x1 = Embedding(mkb_vocab_size, 10, input_length = mkb_max_len)(input_mkb)\n",
        "  x1 = SpatialDropout1D(0.2)(x1)\n",
        "  x1 = Dense(100, activation = 'sigmoid')(x1)\n",
        "  #x1 = Flatten()(x1)\n",
        "\n",
        "  x2 = Embedding(harmfull_vocab_size, 10, input_length = harm_max_len)(input_harmfull)\n",
        "  x2 = SpatialDropout1D(0.2)(x2)\n",
        "  x2 = Dense(100, activation = 'sigmoid')(x2)\n",
        "  #x2 = Flatten()(x2)\n",
        "\n",
        "  x3 = Embedding(prof_vocab_size, 10, input_length = prof_max_len)(input_prof)\n",
        "  x3 = SpatialDropout1D(0.2)(x3)\n",
        "  x3 = Dense(100, activation = 'sigmoid')(x3)\n",
        "  #x3 = Flatten()(x3)\n",
        "\n",
        "  x_ = concatenate([x1, x2, x3], axis = -2)\n",
        "  x_ = Flatten()(x_)\n",
        "  x = concatenate([x0, x_])\n",
        "\n",
        "\n",
        "  x = Dense(800, activation = 'relu')(x)\n",
        "  x = BatchNormalization()(x)\n",
        "  x = Dropout(0.3)(x)\n",
        "  x = Dense(1, activation='linear')(x)\n",
        "\n",
        "  return Model((input0, input_mkb, input_harmfull, input_prof), x )\n"
      ],
      "metadata": {
        "id": "1S2NAzZw8Um2"
      },
      "execution_count": 78,
      "outputs": []
    },
    {
      "cell_type": "code",
      "source": [
        "model1 = create_model1(input0, input_mkb, input_harmfull, input_prof)\n",
        "utils.plot_model(model1, dpi=60, show_shapes = True)\n"
      ],
      "metadata": {
        "id": "sTqDxSXnmA8h",
        "outputId": "09ba384f-37f6-43f3-dd8f-1b967534ba58",
        "colab": {
          "base_uri": "https://localhost:8080/",
          "height": 962
        }
      },
      "execution_count": 79,
      "outputs": [
        {
          "output_type": "execute_result",
          "data": {
            "image/png": "[encoded data removed]",
            "text/plain": [
              "<IPython.core.display.Image object>"
            ]
          },
          "metadata": {},
          "execution_count": 79
        }
      ]
    },
    {
      "cell_type": "code",
      "source": [
        "model1.compile(optimizer = Adam(learning_rate = 0.0003), loss = keras_losses.mse, metrics=[keras_metrics.mae])"
      ],
      "metadata": {
        "id": "CTNtSx_GVWkS"
      },
      "execution_count": 80,
      "outputs": []
    },
    {
      "cell_type": "code",
      "source": [
        "\n",
        "# Визуальная оценка ошибки на обучающей и проверочной выборках\n",
        "\n",
        "def compare_sharp_loss (history, x_size, y_size):\n",
        "  \n",
        "  plt.figure(figsize=(x_size,y_size))\n",
        "  plt.plot(history.history['loss'], \n",
        "         label='Ошибка на обучающей выборке')\n",
        "  \n",
        "  plt.plot(history.history['val_loss'], \n",
        "         label='Ошибка проверочном наборе')\n",
        "  plt.xlabel('Эпоха обучения')\n",
        "  plt.ylabel('Средняя ошибка')\n",
        "  plt.legend()\n",
        "  plt.show()"
      ],
      "metadata": {
        "id": "WPAL3J7rnIWW"
      },
      "execution_count": 55,
      "outputs": []
    },
    {
      "cell_type": "code",
      "source": [],
      "metadata": {
        "id": "MHvcoW5yg40D"
      },
      "execution_count": null,
      "outputs": []
    },
    {
      "cell_type": "code",
      "source": [
        "history = model1.fit([x_train, x_train_mkb, x_train_harmfull, x_train_prof],\n",
        "                    y_train,\n",
        "                    batch_size=256,\n",
        "                    epochs = 100,\n",
        "                    validation_split = 0.15,\n",
        "                    verbose = 1)"
      ],
      "metadata": {
        "colab": {
          "base_uri": "https://localhost:8080/"
        },
        "id": "lZAupbFKWh7p",
        "outputId": "3522756c-3d39-49cc-91c4-3ebd7a3538e4"
      },
      "execution_count": 81,
      "outputs": [
        {
          "output_type": "stream",
          "name": "stdout",
          "text": [
            "Epoch 1/100\n",
            "5/5 [==============================] - 6s 418ms/step - loss: 1.7073 - mean_absolute_error: 1.0380 - val_loss: 3.9014 - val_mean_absolute_error: 1.9181\n",
            "Epoch 2/100\n",
            "5/5 [==============================] - 1s 246ms/step - loss: 1.0178 - mean_absolute_error: 0.8076 - val_loss: 6.0847 - val_mean_absolute_error: 2.4212\n",
            "Epoch 3/100\n",
            "5/5 [==============================] - 1s 175ms/step - loss: 0.9726 - mean_absolute_error: 0.7810 - val_loss: 6.3650 - val_mean_absolute_error: 2.4785\n",
            "Epoch 4/100\n",
            "5/5 [==============================] - 1s 170ms/step - loss: 0.8292 - mean_absolute_error: 0.7269 - val_loss: 6.1749 - val_mean_absolute_error: 2.4398\n",
            "Epoch 5/100\n",
            "5/5 [==============================] - 1s 175ms/step - loss: 0.8243 - mean_absolute_error: 0.7244 - val_loss: 5.3242 - val_mean_absolute_error: 2.2588\n",
            "Epoch 6/100\n",
            "5/5 [==============================] - 1s 169ms/step - loss: 0.6966 - mean_absolute_error: 0.6667 - val_loss: 5.4630 - val_mean_absolute_error: 2.2893\n",
            "Epoch 7/100\n",
            "5/5 [==============================] - 1s 165ms/step - loss: 0.6382 - mean_absolute_error: 0.6406 - val_loss: 6.1769 - val_mean_absolute_error: 2.4402\n",
            "Epoch 8/100\n",
            "5/5 [==============================] - 1s 175ms/step - loss: 0.6208 - mean_absolute_error: 0.6332 - val_loss: 7.5658 - val_mean_absolute_error: 2.7099\n",
            "Epoch 9/100\n",
            "5/5 [==============================] - 1s 170ms/step - loss: 0.6597 - mean_absolute_error: 0.6556 - val_loss: 9.9216 - val_mean_absolute_error: 3.1144\n",
            "Epoch 10/100\n",
            "5/5 [==============================] - 1s 169ms/step - loss: 0.6167 - mean_absolute_error: 0.6327 - val_loss: 11.2724 - val_mean_absolute_error: 3.3242\n",
            "Epoch 11/100\n",
            "5/5 [==============================] - 1s 173ms/step - loss: 0.6177 - mean_absolute_error: 0.6364 - val_loss: 11.6402 - val_mean_absolute_error: 3.3791\n",
            "Epoch 12/100\n",
            "5/5 [==============================] - 1s 324ms/step - loss: 0.6220 - mean_absolute_error: 0.6377 - val_loss: 11.7031 - val_mean_absolute_error: 3.3883\n",
            "Epoch 13/100\n",
            "5/5 [==============================] - 1s 251ms/step - loss: 0.5827 - mean_absolute_error: 0.6147 - val_loss: 10.4485 - val_mean_absolute_error: 3.1978\n",
            "Epoch 14/100\n",
            "5/5 [==============================] - 1s 291ms/step - loss: 0.6294 - mean_absolute_error: 0.6375 - val_loss: 8.8293 - val_mean_absolute_error: 2.9338\n",
            "Epoch 15/100\n",
            "5/5 [==============================] - 1s 275ms/step - loss: 0.6053 - mean_absolute_error: 0.6288 - val_loss: 6.0410 - val_mean_absolute_error: 2.4122\n",
            "Epoch 16/100\n",
            "5/5 [==============================] - 1s 266ms/step - loss: 0.5981 - mean_absolute_error: 0.6244 - val_loss: 4.4083 - val_mean_absolute_error: 2.0460\n",
            "Epoch 17/100\n",
            "5/5 [==============================] - 1s 178ms/step - loss: 0.5909 - mean_absolute_error: 0.6200 - val_loss: 3.4537 - val_mean_absolute_error: 1.7976\n",
            "Epoch 18/100\n",
            "5/5 [==============================] - 1s 174ms/step - loss: 0.5700 - mean_absolute_error: 0.6099 - val_loss: 3.2485 - val_mean_absolute_error: 1.7396\n",
            "Epoch 19/100\n",
            "5/5 [==============================] - 1s 178ms/step - loss: 0.5427 - mean_absolute_error: 0.5994 - val_loss: 4.3343 - val_mean_absolute_error: 2.0278\n",
            "Epoch 20/100\n",
            "5/5 [==============================] - 2s 292ms/step - loss: 0.5826 - mean_absolute_error: 0.6152 - val_loss: 4.9792 - val_mean_absolute_error: 2.1810\n",
            "Epoch 21/100\n",
            "5/5 [==============================] - 1s 193ms/step - loss: 0.5346 - mean_absolute_error: 0.5908 - val_loss: 4.7826 - val_mean_absolute_error: 2.1355\n",
            "Epoch 22/100\n",
            "5/5 [==============================] - 1s 175ms/step - loss: 0.5373 - mean_absolute_error: 0.5948 - val_loss: 4.9218 - val_mean_absolute_error: 2.1678\n",
            "Epoch 23/100\n",
            "5/5 [==============================] - 1s 252ms/step - loss: 0.5411 - mean_absolute_error: 0.5973 - val_loss: 5.6145 - val_mean_absolute_error: 2.3221\n",
            "Epoch 24/100\n",
            "5/5 [==============================] - 1s 203ms/step - loss: 0.5149 - mean_absolute_error: 0.5844 - val_loss: 5.8698 - val_mean_absolute_error: 2.3765\n",
            "Epoch 25/100\n",
            "5/5 [==============================] - 1s 180ms/step - loss: 0.5207 - mean_absolute_error: 0.5850 - val_loss: 5.5229 - val_mean_absolute_error: 2.3023\n",
            "Epoch 26/100\n",
            "5/5 [==============================] - 1s 281ms/step - loss: 0.4951 - mean_absolute_error: 0.5689 - val_loss: 5.6136 - val_mean_absolute_error: 2.3219\n",
            "Epoch 27/100\n",
            "5/5 [==============================] - 1s 287ms/step - loss: 0.4984 - mean_absolute_error: 0.5754 - val_loss: 6.2159 - val_mean_absolute_error: 2.4482\n",
            "Epoch 28/100\n",
            "5/5 [==============================] - 1s 294ms/step - loss: 0.5141 - mean_absolute_error: 0.5802 - val_loss: 6.7835 - val_mean_absolute_error: 2.5615\n",
            "Epoch 29/100\n",
            "5/5 [==============================] - 1s 286ms/step - loss: 0.5243 - mean_absolute_error: 0.5842 - val_loss: 7.1524 - val_mean_absolute_error: 2.6325\n",
            "Epoch 30/100\n",
            "5/5 [==============================] - 1s 271ms/step - loss: 0.4999 - mean_absolute_error: 0.5730 - val_loss: 7.8081 - val_mean_absolute_error: 2.7542\n",
            "Epoch 31/100\n",
            "5/5 [==============================] - 1s 180ms/step - loss: 0.5138 - mean_absolute_error: 0.5811 - val_loss: 7.1698 - val_mean_absolute_error: 2.6358\n",
            "Epoch 32/100\n",
            "5/5 [==============================] - 1s 178ms/step - loss: 0.4879 - mean_absolute_error: 0.5678 - val_loss: 6.8395 - val_mean_absolute_error: 2.5724\n",
            "Epoch 33/100\n",
            "5/5 [==============================] - 1s 219ms/step - loss: 0.4918 - mean_absolute_error: 0.5741 - val_loss: 6.5079 - val_mean_absolute_error: 2.5071\n",
            "Epoch 34/100\n",
            "5/5 [==============================] - 1s 250ms/step - loss: 0.4956 - mean_absolute_error: 0.5756 - val_loss: 5.8437 - val_mean_absolute_error: 2.3710\n",
            "Epoch 35/100\n",
            "5/5 [==============================] - 1s 297ms/step - loss: 0.4869 - mean_absolute_error: 0.5713 - val_loss: 4.9349 - val_mean_absolute_error: 2.1708\n",
            "Epoch 36/100\n",
            "5/5 [==============================] - 1s 190ms/step - loss: 0.4801 - mean_absolute_error: 0.5618 - val_loss: 3.9855 - val_mean_absolute_error: 1.9399\n",
            "Epoch 37/100\n",
            "5/5 [==============================] - 1s 251ms/step - loss: 0.4802 - mean_absolute_error: 0.5617 - val_loss: 2.8427 - val_mean_absolute_error: 1.6187\n",
            "Epoch 38/100\n",
            "5/5 [==============================] - 2s 421ms/step - loss: 0.4774 - mean_absolute_error: 0.5612 - val_loss: 1.9160 - val_mean_absolute_error: 1.3014\n",
            "Epoch 39/100\n",
            "5/5 [==============================] - 2s 417ms/step - loss: 0.4546 - mean_absolute_error: 0.5511 - val_loss: 1.8808 - val_mean_absolute_error: 1.2878\n",
            "Epoch 40/100\n",
            "5/5 [==============================] - 2s 328ms/step - loss: 0.4545 - mean_absolute_error: 0.5509 - val_loss: 3.6078 - val_mean_absolute_error: 1.8400\n",
            "Epoch 41/100\n",
            "5/5 [==============================] - 1s 243ms/step - loss: 0.4572 - mean_absolute_error: 0.5503 - val_loss: 5.5718 - val_mean_absolute_error: 2.3129\n",
            "Epoch 42/100\n",
            "5/5 [==============================] - 1s 259ms/step - loss: 0.4451 - mean_absolute_error: 0.5444 - val_loss: 6.9006 - val_mean_absolute_error: 2.5842\n",
            "Epoch 43/100\n",
            "5/5 [==============================] - 1s 181ms/step - loss: 0.4435 - mean_absolute_error: 0.5440 - val_loss: 7.2692 - val_mean_absolute_error: 2.6546\n",
            "Epoch 44/100\n",
            "5/5 [==============================] - 1s 177ms/step - loss: 0.4498 - mean_absolute_error: 0.5469 - val_loss: 7.6322 - val_mean_absolute_error: 2.7221\n",
            "Epoch 45/100\n",
            "5/5 [==============================] - 1s 250ms/step - loss: 0.4419 - mean_absolute_error: 0.5446 - val_loss: 8.0501 - val_mean_absolute_error: 2.7978\n",
            "Epoch 46/100\n",
            "5/5 [==============================] - 1s 190ms/step - loss: 0.4346 - mean_absolute_error: 0.5415 - val_loss: 7.6738 - val_mean_absolute_error: 2.7297\n",
            "Epoch 47/100\n",
            "5/5 [==============================] - 1s 194ms/step - loss: 0.4355 - mean_absolute_error: 0.5437 - val_loss: 6.8946 - val_mean_absolute_error: 2.5830\n",
            "Epoch 48/100\n",
            "5/5 [==============================] - 1s 175ms/step - loss: 0.4165 - mean_absolute_error: 0.5267 - val_loss: 6.4867 - val_mean_absolute_error: 2.5028\n",
            "Epoch 49/100\n",
            "5/5 [==============================] - 1s 183ms/step - loss: 0.4325 - mean_absolute_error: 0.5368 - val_loss: 6.6108 - val_mean_absolute_error: 2.5275\n",
            "Epoch 50/100\n",
            "5/5 [==============================] - 2s 463ms/step - loss: 0.4105 - mean_absolute_error: 0.5282 - val_loss: 7.0120 - val_mean_absolute_error: 2.6056\n",
            "Epoch 51/100\n",
            "5/5 [==============================] - 2s 310ms/step - loss: 0.4005 - mean_absolute_error: 0.5202 - val_loss: 7.4142 - val_mean_absolute_error: 2.6817\n",
            "Epoch 52/100\n",
            "5/5 [==============================] - 1s 225ms/step - loss: 0.4083 - mean_absolute_error: 0.5271 - val_loss: 6.7629 - val_mean_absolute_error: 2.5572\n",
            "Epoch 53/100\n",
            "5/5 [==============================] - 1s 179ms/step - loss: 0.4037 - mean_absolute_error: 0.5242 - val_loss: 5.5342 - val_mean_absolute_error: 2.3047\n",
            "Epoch 54/100\n",
            "5/5 [==============================] - 1s 172ms/step - loss: 0.4071 - mean_absolute_error: 0.5223 - val_loss: 4.4721 - val_mean_absolute_error: 2.0614\n",
            "Epoch 55/100\n",
            "5/5 [==============================] - 1s 180ms/step - loss: 0.3939 - mean_absolute_error: 0.5177 - val_loss: 5.1190 - val_mean_absolute_error: 2.2127\n",
            "Epoch 56/100\n",
            "5/5 [==============================] - 1s 182ms/step - loss: 0.3986 - mean_absolute_error: 0.5223 - val_loss: 5.1279 - val_mean_absolute_error: 2.2147\n",
            "Epoch 57/100\n",
            "5/5 [==============================] - 1s 176ms/step - loss: 0.3872 - mean_absolute_error: 0.5145 - val_loss: 4.9477 - val_mean_absolute_error: 2.1736\n",
            "Epoch 58/100\n",
            "5/5 [==============================] - 1s 179ms/step - loss: 0.3906 - mean_absolute_error: 0.5144 - val_loss: 4.5162 - val_mean_absolute_error: 2.0720\n",
            "Epoch 59/100\n",
            "5/5 [==============================] - 1s 178ms/step - loss: 0.3881 - mean_absolute_error: 0.5106 - val_loss: 3.7117 - val_mean_absolute_error: 1.8679\n",
            "Epoch 60/100\n",
            "5/5 [==============================] - 1s 177ms/step - loss: 0.3821 - mean_absolute_error: 0.5124 - val_loss: 3.7953 - val_mean_absolute_error: 1.8900\n",
            "Epoch 61/100\n",
            "5/5 [==============================] - 1s 175ms/step - loss: 0.3829 - mean_absolute_error: 0.5095 - val_loss: 3.8815 - val_mean_absolute_error: 1.9124\n",
            "Epoch 62/100\n",
            "5/5 [==============================] - 1s 180ms/step - loss: 0.3809 - mean_absolute_error: 0.5111 - val_loss: 3.6522 - val_mean_absolute_error: 1.8517\n",
            "Epoch 63/100\n",
            "5/5 [==============================] - 1s 222ms/step - loss: 0.3935 - mean_absolute_error: 0.5126 - val_loss: 3.4253 - val_mean_absolute_error: 1.7893\n",
            "Epoch 64/100\n",
            "5/5 [==============================] - 2s 294ms/step - loss: 0.3565 - mean_absolute_error: 0.4969 - val_loss: 3.0990 - val_mean_absolute_error: 1.6954\n",
            "Epoch 65/100\n",
            "5/5 [==============================] - 1s 292ms/step - loss: 0.3754 - mean_absolute_error: 0.5076 - val_loss: 2.8369 - val_mean_absolute_error: 1.6164\n",
            "Epoch 66/100\n",
            "5/5 [==============================] - 1s 256ms/step - loss: 0.3744 - mean_absolute_error: 0.5060 - val_loss: 2.6233 - val_mean_absolute_error: 1.5492\n",
            "Epoch 67/100\n",
            "5/5 [==============================] - 1s 169ms/step - loss: 0.3580 - mean_absolute_error: 0.4978 - val_loss: 2.1244 - val_mean_absolute_error: 1.3782\n",
            "Epoch 68/100\n",
            "5/5 [==============================] - 1s 171ms/step - loss: 0.3717 - mean_absolute_error: 0.5032 - val_loss: 1.7289 - val_mean_absolute_error: 1.2270\n",
            "Epoch 69/100\n",
            "5/5 [==============================] - 1s 169ms/step - loss: 0.3562 - mean_absolute_error: 0.4947 - val_loss: 1.6981 - val_mean_absolute_error: 1.2140\n",
            "Epoch 70/100\n",
            "5/5 [==============================] - 1s 171ms/step - loss: 0.3562 - mean_absolute_error: 0.4944 - val_loss: 1.5496 - val_mean_absolute_error: 1.1515\n",
            "Epoch 71/100\n",
            "5/5 [==============================] - 1s 176ms/step - loss: 0.3590 - mean_absolute_error: 0.4935 - val_loss: 1.5553 - val_mean_absolute_error: 1.1538\n",
            "Epoch 72/100\n",
            "5/5 [==============================] - 1s 179ms/step - loss: 0.3547 - mean_absolute_error: 0.4928 - val_loss: 1.5828 - val_mean_absolute_error: 1.1657\n",
            "Epoch 73/100\n",
            "5/5 [==============================] - 1s 183ms/step - loss: 0.3471 - mean_absolute_error: 0.4901 - val_loss: 1.3608 - val_mean_absolute_error: 1.0664\n",
            "Epoch 74/100\n",
            "5/5 [==============================] - 1s 172ms/step - loss: 0.3521 - mean_absolute_error: 0.4982 - val_loss: 1.0176 - val_mean_absolute_error: 0.8907\n",
            "Epoch 75/100\n",
            "5/5 [==============================] - 1s 170ms/step - loss: 0.3456 - mean_absolute_error: 0.4936 - val_loss: 0.8406 - val_mean_absolute_error: 0.7853\n",
            "Epoch 76/100\n",
            "5/5 [==============================] - 1s 167ms/step - loss: 0.3445 - mean_absolute_error: 0.4897 - val_loss: 0.6527 - val_mean_absolute_error: 0.6531\n",
            "Epoch 77/100\n",
            "5/5 [==============================] - 1s 178ms/step - loss: 0.3417 - mean_absolute_error: 0.4891 - val_loss: 0.4956 - val_mean_absolute_error: 0.5215\n",
            "Epoch 78/100\n",
            "5/5 [==============================] - 1s 296ms/step - loss: 0.3283 - mean_absolute_error: 0.4780 - val_loss: 0.3899 - val_mean_absolute_error: 0.4078\n",
            "Epoch 79/100\n",
            "5/5 [==============================] - 2s 319ms/step - loss: 0.3472 - mean_absolute_error: 0.4913 - val_loss: 0.3366 - val_mean_absolute_error: 0.3544\n",
            "Epoch 80/100\n",
            "5/5 [==============================] - 2s 305ms/step - loss: 0.3353 - mean_absolute_error: 0.4842 - val_loss: 0.3144 - val_mean_absolute_error: 0.3507\n",
            "Epoch 81/100\n",
            "5/5 [==============================] - 1s 167ms/step - loss: 0.3281 - mean_absolute_error: 0.4788 - val_loss: 0.3300 - val_mean_absolute_error: 0.3516\n",
            "Epoch 82/100\n",
            "5/5 [==============================] - 1s 173ms/step - loss: 0.3218 - mean_absolute_error: 0.4764 - val_loss: 0.4172 - val_mean_absolute_error: 0.4393\n",
            "Epoch 83/100\n",
            "5/5 [==============================] - 1s 176ms/step - loss: 0.3261 - mean_absolute_error: 0.4776 - val_loss: 0.5396 - val_mean_absolute_error: 0.5623\n",
            "Epoch 84/100\n",
            "5/5 [==============================] - 1s 181ms/step - loss: 0.3307 - mean_absolute_error: 0.4857 - val_loss: 0.7046 - val_mean_absolute_error: 0.6937\n",
            "Epoch 85/100\n",
            "5/5 [==============================] - 1s 185ms/step - loss: 0.3226 - mean_absolute_error: 0.4770 - val_loss: 0.8156 - val_mean_absolute_error: 0.7691\n",
            "Epoch 86/100\n",
            "5/5 [==============================] - 1s 179ms/step - loss: 0.3246 - mean_absolute_error: 0.4785 - val_loss: 0.8848 - val_mean_absolute_error: 0.8132\n",
            "Epoch 87/100\n",
            "5/5 [==============================] - 1s 172ms/step - loss: 0.3189 - mean_absolute_error: 0.4776 - val_loss: 1.0222 - val_mean_absolute_error: 0.8928\n",
            "Epoch 88/100\n",
            "5/5 [==============================] - 1s 182ms/step - loss: 0.3188 - mean_absolute_error: 0.4734 - val_loss: 0.9304 - val_mean_absolute_error: 0.8410\n",
            "Epoch 89/100\n",
            "5/5 [==============================] - 1s 171ms/step - loss: 0.3172 - mean_absolute_error: 0.4749 - val_loss: 0.9755 - val_mean_absolute_error: 0.8661\n",
            "Epoch 90/100\n",
            "5/5 [==============================] - 1s 177ms/step - loss: 0.3174 - mean_absolute_error: 0.4690 - val_loss: 1.2263 - val_mean_absolute_error: 1.0003\n",
            "Epoch 91/100\n",
            "5/5 [==============================] - 1s 170ms/step - loss: 0.3133 - mean_absolute_error: 0.4709 - val_loss: 1.2882 - val_mean_absolute_error: 1.0316\n",
            "Epoch 92/100\n",
            "5/5 [==============================] - 1s 265ms/step - loss: 0.3163 - mean_absolute_error: 0.4719 - val_loss: 1.4062 - val_mean_absolute_error: 1.0873\n",
            "Epoch 93/100\n",
            "5/5 [==============================] - 1s 289ms/step - loss: 0.3051 - mean_absolute_error: 0.4658 - val_loss: 1.3705 - val_mean_absolute_error: 1.0706\n",
            "Epoch 94/100\n",
            "5/5 [==============================] - 2s 318ms/step - loss: 0.3105 - mean_absolute_error: 0.4733 - val_loss: 1.2586 - val_mean_absolute_error: 1.0177\n",
            "Epoch 95/100\n",
            "5/5 [==============================] - 1s 196ms/step - loss: 0.2989 - mean_absolute_error: 0.4654 - val_loss: 1.2953 - val_mean_absolute_error: 1.0349\n",
            "Epoch 96/100\n",
            "5/5 [==============================] - 1s 173ms/step - loss: 0.3001 - mean_absolute_error: 0.4671 - val_loss: 1.3047 - val_mean_absolute_error: 1.0396\n",
            "Epoch 97/100\n",
            "5/5 [==============================] - 1s 183ms/step - loss: 0.2998 - mean_absolute_error: 0.4658 - val_loss: 1.4886 - val_mean_absolute_error: 1.1250\n",
            "Epoch 98/100\n",
            "5/5 [==============================] - 1s 177ms/step - loss: 0.2942 - mean_absolute_error: 0.4619 - val_loss: 1.7572 - val_mean_absolute_error: 1.2379\n",
            "Epoch 99/100\n",
            "5/5 [==============================] - 1s 178ms/step - loss: 0.3053 - mean_absolute_error: 0.4676 - val_loss: 1.7614 - val_mean_absolute_error: 1.2400\n",
            "Epoch 100/100\n",
            "5/5 [==============================] - 1s 179ms/step - loss: 0.2978 - mean_absolute_error: 0.4647 - val_loss: 1.6051 - val_mean_absolute_error: 1.1749\n"
          ]
        }
      ]
    },
    {
      "cell_type": "code",
      "source": [
        "compare_sharp_loss(history, 10, 4)"
      ],
      "metadata": {
        "colab": {
          "base_uri": "https://localhost:8080/",
          "height": 388
        },
        "id": "1FPBsoMznK7C",
        "outputId": "4ed6ec14-74e2-4cbe-913d-b675f43b1f9b"
      },
      "execution_count": 73,
      "outputs": [
        {
          "output_type": "display_data",
          "data": {
            "text/plain": [
              "<Figure size 1000x400 with 1 Axes>"
            ],
            "image/png": "[encoded data removed]"
          },
          "metadata": {}
        }
      ]
    },
    {
      "cell_type": "code",
      "source": [
        "x0 = BatchNormalization()(input0)\n",
        "x0 = Dense(1024, activation='relu') (x0)\n",
        "x0 = BatchNormalization()(x0)\n",
        "x0 = Dropout(0.3)(x0)\n",
        "x0 = Dense(768, activation='sigmoid')(x0)\n",
        "x0 = BatchNormalization()(x0)\n",
        "x0 = Dropout(0.3)(x0)\n",
        "x0 = Dense(512, activation='sigmoid')(x0)\n",
        "\n",
        "x1 = Embedding(mkb_vocab_size, 10, input_length = mkb_max_len)(input_mkb)\n",
        "x1 = SpatialDropout1D(0.2)(x1)\n",
        "x1 = Conv1D(50,3, activation = 'relu', padding='same')(x1)\n",
        "x1 = GlobalMaxPooling1D()(x1)\n",
        "x1 = Dense(100, activation = 'sigmoid')(x1)\n",
        "#x1 = Flatten()(x1)\n",
        "\n",
        "x2 = Embedding(harmfull_vocab_size, 10, input_length = harm_max_len)(input_harmfull)\n",
        "x2 = SpatialDropout1D(0.2)(x2)\n",
        "x2 = Conv1D(50,3, activation = 'relu', padding='same')(x2)\n",
        "x2 = GlobalMaxPooling1D()(x2)\n",
        "x2 = Dense(100, activation = 'sigmoid')(x2)\n",
        "#x2 = Flatten()(x2)\n",
        "\n",
        "x3 = Embedding(prof_vocab_size, 10, input_length = prof_max_len)(input_prof)\n",
        "x3 = SpatialDropout1D(0.2)(x3)\n",
        "x3 = Conv1D(50,3, activation = 'relu', padding='same')(x3)\n",
        "x3 = GlobalMaxPooling1D()(x3)\n",
        "x3 = Dense(100, activation = 'sigmoid')(x3)\n",
        "#x3 = Flatten()(x3)\n",
        "\n",
        "#x_ = concatenate([x1, x2, x3], axis = -2)\n",
        "#x_ = Flatten()(x_)\n",
        "x = concatenate([x0, x1, x2, x3])\n",
        "\n",
        "\n",
        "x = Dense(800, activation = 'relu')(x)\n",
        "x = BatchNormalization()(x)\n",
        "x = Dropout(0.3)(x)\n",
        "x = Dense(1, activation='linear')(x)\n",
        "\n",
        "model2 =  Model((input0, input_mkb, input_harmfull, input_prof), x )\n",
        "utils.plot_model(model2, dpi=60, show_shapes = True)\n",
        "model2.compile(optimizer = Adam(learning_rate = 0.0003), loss = keras_losses.mse, metrics=[keras_metrics.mae])\n"
      ],
      "metadata": {
        "id": "90seVJWImma1"
      },
      "execution_count": 86,
      "outputs": []
    },
    {
      "cell_type": "code",
      "source": [
        "history = model2.fit([x_train, x_train_mkb, x_train_harmfull, x_train_prof],\n",
        "                    y_train,\n",
        "                    batch_size=256,\n",
        "                    epochs = 100,\n",
        "                    validation_split = 0.15,\n",
        "                    verbose = 1)"
      ],
      "metadata": {
        "id": "Y2UTfoQxnhdo",
        "outputId": "581a5fc4-e9f4-4df4-f0b4-9b3c49fdf4af",
        "colab": {
          "base_uri": "https://localhost:8080/"
        }
      },
      "execution_count": 88,
      "outputs": [
        {
          "output_type": "stream",
          "name": "stdout",
          "text": [
            "Epoch 1/100\n",
            "5/5 [==============================] - 5s 181ms/step - loss: 2.1103 - mean_absolute_error: 1.1623 - val_loss: 0.2224 - val_mean_absolute_error: 0.4396\n",
            "Epoch 2/100\n",
            "5/5 [==============================] - 1s 101ms/step - loss: 1.5033 - mean_absolute_error: 0.9714 - val_loss: 0.2225 - val_mean_absolute_error: 0.4503\n",
            "Epoch 3/100\n",
            "5/5 [==============================] - 0s 99ms/step - loss: 1.1230 - mean_absolute_error: 0.8452 - val_loss: 0.2222 - val_mean_absolute_error: 0.4433\n",
            "Epoch 4/100\n",
            "5/5 [==============================] - 0s 98ms/step - loss: 1.0361 - mean_absolute_error: 0.8126 - val_loss: 0.2223 - val_mean_absolute_error: 0.4465\n",
            "Epoch 5/100\n",
            "5/5 [==============================] - 1s 167ms/step - loss: 0.8981 - mean_absolute_error: 0.7546 - val_loss: 0.2274 - val_mean_absolute_error: 0.4684\n",
            "Epoch 6/100\n",
            "5/5 [==============================] - 1s 164ms/step - loss: 0.8295 - mean_absolute_error: 0.7308 - val_loss: 0.2372 - val_mean_absolute_error: 0.4852\n",
            "Epoch 7/100\n",
            "5/5 [==============================] - 1s 176ms/step - loss: 0.8209 - mean_absolute_error: 0.7298 - val_loss: 0.2701 - val_mean_absolute_error: 0.5174\n",
            "Epoch 8/100\n",
            "5/5 [==============================] - 1s 166ms/step - loss: 0.8051 - mean_absolute_error: 0.7215 - val_loss: 0.3127 - val_mean_absolute_error: 0.5447\n",
            "Epoch 9/100\n",
            "5/5 [==============================] - 1s 171ms/step - loss: 0.8093 - mean_absolute_error: 0.7201 - val_loss: 0.3246 - val_mean_absolute_error: 0.5511\n",
            "Epoch 10/100\n",
            "5/5 [==============================] - 1s 130ms/step - loss: 0.8045 - mean_absolute_error: 0.7204 - val_loss: 0.3475 - val_mean_absolute_error: 0.5624\n",
            "Epoch 11/100\n",
            "5/5 [==============================] - 0s 98ms/step - loss: 0.7504 - mean_absolute_error: 0.6923 - val_loss: 0.3632 - val_mean_absolute_error: 0.5696\n",
            "Epoch 12/100\n",
            "5/5 [==============================] - 0s 94ms/step - loss: 0.7516 - mean_absolute_error: 0.6991 - val_loss: 0.3926 - val_mean_absolute_error: 0.5820\n",
            "Epoch 13/100\n",
            "5/5 [==============================] - 1s 98ms/step - loss: 0.7097 - mean_absolute_error: 0.6751 - val_loss: 0.4150 - val_mean_absolute_error: 0.5908\n",
            "Epoch 14/100\n",
            "5/5 [==============================] - 0s 96ms/step - loss: 0.6732 - mean_absolute_error: 0.6579 - val_loss: 0.4426 - val_mean_absolute_error: 0.6009\n",
            "Epoch 15/100\n",
            "5/5 [==============================] - 1s 98ms/step - loss: 0.7361 - mean_absolute_error: 0.6877 - val_loss: 0.4921 - val_mean_absolute_error: 0.6176\n",
            "Epoch 16/100\n",
            "5/5 [==============================] - 0s 95ms/step - loss: 0.6671 - mean_absolute_error: 0.6545 - val_loss: 0.5072 - val_mean_absolute_error: 0.6224\n",
            "Epoch 17/100\n",
            "5/5 [==============================] - 1s 97ms/step - loss: 0.6923 - mean_absolute_error: 0.6662 - val_loss: 0.5226 - val_mean_absolute_error: 0.6271\n",
            "Epoch 18/100\n",
            "5/5 [==============================] - 0s 99ms/step - loss: 0.6405 - mean_absolute_error: 0.6483 - val_loss: 0.5601 - val_mean_absolute_error: 0.6382\n",
            "Epoch 19/100\n",
            "5/5 [==============================] - 0s 99ms/step - loss: 0.6495 - mean_absolute_error: 0.6463 - val_loss: 0.6085 - val_mean_absolute_error: 0.6516\n",
            "Epoch 20/100\n",
            "5/5 [==============================] - 0s 94ms/step - loss: 0.6161 - mean_absolute_error: 0.6323 - val_loss: 0.6737 - val_mean_absolute_error: 0.6722\n",
            "Epoch 21/100\n",
            "5/5 [==============================] - 1s 101ms/step - loss: 0.6500 - mean_absolute_error: 0.6491 - val_loss: 0.7834 - val_mean_absolute_error: 0.7491\n",
            "Epoch 22/100\n",
            "5/5 [==============================] - 0s 95ms/step - loss: 0.6371 - mean_absolute_error: 0.6414 - val_loss: 0.9296 - val_mean_absolute_error: 0.8410\n",
            "Epoch 23/100\n",
            "5/5 [==============================] - 0s 99ms/step - loss: 0.6151 - mean_absolute_error: 0.6291 - val_loss: 1.0313 - val_mean_absolute_error: 0.8995\n",
            "Epoch 24/100\n",
            "5/5 [==============================] - 1s 101ms/step - loss: 0.6473 - mean_absolute_error: 0.6428 - val_loss: 1.1285 - val_mean_absolute_error: 0.9520\n",
            "Epoch 25/100\n",
            "5/5 [==============================] - 1s 100ms/step - loss: 0.5990 - mean_absolute_error: 0.6246 - val_loss: 1.1829 - val_mean_absolute_error: 0.9801\n",
            "Epoch 26/100\n",
            "5/5 [==============================] - 0s 97ms/step - loss: 0.6000 - mean_absolute_error: 0.6248 - val_loss: 1.0860 - val_mean_absolute_error: 0.9293\n",
            "Epoch 27/100\n",
            "5/5 [==============================] - 0s 99ms/step - loss: 0.6213 - mean_absolute_error: 0.6321 - val_loss: 1.1107 - val_mean_absolute_error: 0.9426\n",
            "Epoch 28/100\n",
            "5/5 [==============================] - 1s 108ms/step - loss: 0.5909 - mean_absolute_error: 0.6214 - val_loss: 0.9938 - val_mean_absolute_error: 0.8783\n",
            "Epoch 29/100\n",
            "5/5 [==============================] - 1s 100ms/step - loss: 0.5907 - mean_absolute_error: 0.6195 - val_loss: 0.8807 - val_mean_absolute_error: 0.8113\n",
            "Epoch 30/100\n",
            "5/5 [==============================] - 1s 132ms/step - loss: 0.5721 - mean_absolute_error: 0.6121 - val_loss: 0.8603 - val_mean_absolute_error: 0.7987\n",
            "Epoch 31/100\n",
            "5/5 [==============================] - 1s 176ms/step - loss: 0.5875 - mean_absolute_error: 0.6154 - val_loss: 0.7372 - val_mean_absolute_error: 0.7175\n",
            "Epoch 32/100\n",
            "5/5 [==============================] - 1s 182ms/step - loss: 0.5653 - mean_absolute_error: 0.6055 - val_loss: 0.7652 - val_mean_absolute_error: 0.7367\n",
            "Epoch 33/100\n",
            "5/5 [==============================] - 1s 181ms/step - loss: 0.5445 - mean_absolute_error: 0.5979 - val_loss: 0.7288 - val_mean_absolute_error: 0.7117\n",
            "Epoch 34/100\n",
            "5/5 [==============================] - 1s 174ms/step - loss: 0.5987 - mean_absolute_error: 0.6231 - val_loss: 0.6692 - val_mean_absolute_error: 0.6701\n",
            "Epoch 35/100\n",
            "5/5 [==============================] - 1s 148ms/step - loss: 0.5499 - mean_absolute_error: 0.6040 - val_loss: 0.5599 - val_mean_absolute_error: 0.6381\n",
            "Epoch 36/100\n",
            "5/5 [==============================] - 1s 106ms/step - loss: 0.5323 - mean_absolute_error: 0.5930 - val_loss: 0.4228 - val_mean_absolute_error: 0.5937\n",
            "Epoch 37/100\n",
            "5/5 [==============================] - 1s 107ms/step - loss: 0.5497 - mean_absolute_error: 0.5970 - val_loss: 0.3795 - val_mean_absolute_error: 0.5766\n",
            "Epoch 38/100\n",
            "5/5 [==============================] - 0s 99ms/step - loss: 0.5368 - mean_absolute_error: 0.5929 - val_loss: 0.3940 - val_mean_absolute_error: 0.5825\n",
            "Epoch 39/100\n",
            "5/5 [==============================] - 1s 102ms/step - loss: 0.5094 - mean_absolute_error: 0.5807 - val_loss: 0.3727 - val_mean_absolute_error: 0.5735\n",
            "Epoch 40/100\n",
            "5/5 [==============================] - 0s 97ms/step - loss: 0.5332 - mean_absolute_error: 0.5926 - val_loss: 0.3448 - val_mean_absolute_error: 0.5609\n",
            "Epoch 41/100\n",
            "5/5 [==============================] - 1s 107ms/step - loss: 0.5071 - mean_absolute_error: 0.5755 - val_loss: 0.3247 - val_mean_absolute_error: 0.5510\n",
            "Epoch 42/100\n",
            "5/5 [==============================] - 0s 96ms/step - loss: 0.4940 - mean_absolute_error: 0.5709 - val_loss: 0.2999 - val_mean_absolute_error: 0.5371\n",
            "Epoch 43/100\n",
            "5/5 [==============================] - 1s 110ms/step - loss: 0.4865 - mean_absolute_error: 0.5688 - val_loss: 0.2558 - val_mean_absolute_error: 0.5051\n",
            "Epoch 44/100\n",
            "5/5 [==============================] - 0s 96ms/step - loss: 0.5022 - mean_absolute_error: 0.5766 - val_loss: 0.2313 - val_mean_absolute_error: 0.4752\n",
            "Epoch 45/100\n",
            "5/5 [==============================] - 0s 98ms/step - loss: 0.4911 - mean_absolute_error: 0.5734 - val_loss: 0.2254 - val_mean_absolute_error: 0.4609\n",
            "Epoch 46/100\n",
            "5/5 [==============================] - 0s 96ms/step - loss: 0.5161 - mean_absolute_error: 0.5822 - val_loss: 0.2234 - val_mean_absolute_error: 0.4524\n",
            "Epoch 47/100\n",
            "5/5 [==============================] - 1s 106ms/step - loss: 0.4994 - mean_absolute_error: 0.5729 - val_loss: 0.2256 - val_mean_absolute_error: 0.4278\n",
            "Epoch 48/100\n",
            "5/5 [==============================] - 0s 96ms/step - loss: 0.4850 - mean_absolute_error: 0.5632 - val_loss: 0.2281 - val_mean_absolute_error: 0.4213\n",
            "Epoch 49/100\n",
            "5/5 [==============================] - 1s 108ms/step - loss: 0.5001 - mean_absolute_error: 0.5748 - val_loss: 0.2342 - val_mean_absolute_error: 0.4091\n",
            "Epoch 50/100\n",
            "5/5 [==============================] - 0s 96ms/step - loss: 0.4763 - mean_absolute_error: 0.5609 - val_loss: 0.2338 - val_mean_absolute_error: 0.4116\n",
            "Epoch 51/100\n",
            "5/5 [==============================] - 1s 100ms/step - loss: 0.4841 - mean_absolute_error: 0.5642 - val_loss: 0.2392 - val_mean_absolute_error: 0.4019\n",
            "Epoch 52/100\n",
            "5/5 [==============================] - 0s 96ms/step - loss: 0.4603 - mean_absolute_error: 0.5527 - val_loss: 0.2272 - val_mean_absolute_error: 0.4232\n",
            "Epoch 53/100\n",
            "5/5 [==============================] - 0s 96ms/step - loss: 0.4681 - mean_absolute_error: 0.5559 - val_loss: 0.2246 - val_mean_absolute_error: 0.4556\n",
            "Epoch 54/100\n",
            "5/5 [==============================] - 0s 98ms/step - loss: 0.4514 - mean_absolute_error: 0.5508 - val_loss: 0.2337 - val_mean_absolute_error: 0.4783\n",
            "Epoch 55/100\n",
            "5/5 [==============================] - 1s 162ms/step - loss: 0.4508 - mean_absolute_error: 0.5487 - val_loss: 0.2451 - val_mean_absolute_error: 0.4937\n",
            "Epoch 56/100\n",
            "5/5 [==============================] - 1s 166ms/step - loss: 0.4577 - mean_absolute_error: 0.5509 - val_loss: 0.2731 - val_mean_absolute_error: 0.5187\n",
            "Epoch 57/100\n",
            "5/5 [==============================] - 1s 178ms/step - loss: 0.4576 - mean_absolute_error: 0.5519 - val_loss: 0.2592 - val_mean_absolute_error: 0.5069\n",
            "Epoch 58/100\n",
            "5/5 [==============================] - 1s 167ms/step - loss: 0.4456 - mean_absolute_error: 0.5478 - val_loss: 0.2350 - val_mean_absolute_error: 0.4794\n",
            "Epoch 59/100\n",
            "5/5 [==============================] - 1s 177ms/step - loss: 0.4501 - mean_absolute_error: 0.5503 - val_loss: 0.2329 - val_mean_absolute_error: 0.4765\n",
            "Epoch 60/100\n",
            "5/5 [==============================] - 1s 144ms/step - loss: 0.4386 - mean_absolute_error: 0.5386 - val_loss: 0.2437 - val_mean_absolute_error: 0.4892\n",
            "Epoch 61/100\n",
            "5/5 [==============================] - 0s 98ms/step - loss: 0.4323 - mean_absolute_error: 0.5364 - val_loss: 0.2327 - val_mean_absolute_error: 0.4757\n",
            "Epoch 62/100\n",
            "5/5 [==============================] - 0s 98ms/step - loss: 0.4223 - mean_absolute_error: 0.5321 - val_loss: 0.2301 - val_mean_absolute_error: 0.4714\n",
            "Epoch 63/100\n",
            "5/5 [==============================] - 0s 96ms/step - loss: 0.4344 - mean_absolute_error: 0.5367 - val_loss: 0.2386 - val_mean_absolute_error: 0.4826\n",
            "Epoch 64/100\n",
            "5/5 [==============================] - 0s 99ms/step - loss: 0.4455 - mean_absolute_error: 0.5421 - val_loss: 0.2703 - val_mean_absolute_error: 0.5152\n",
            "Epoch 65/100\n",
            "5/5 [==============================] - 0s 97ms/step - loss: 0.4148 - mean_absolute_error: 0.5269 - val_loss: 0.2923 - val_mean_absolute_error: 0.5313\n",
            "Epoch 66/100\n",
            "5/5 [==============================] - 0s 99ms/step - loss: 0.4262 - mean_absolute_error: 0.5376 - val_loss: 0.2908 - val_mean_absolute_error: 0.5309\n",
            "Epoch 67/100\n",
            "5/5 [==============================] - 0s 96ms/step - loss: 0.4211 - mean_absolute_error: 0.5345 - val_loss: 0.2879 - val_mean_absolute_error: 0.5279\n",
            "Epoch 68/100\n",
            "5/5 [==============================] - 0s 99ms/step - loss: 0.4112 - mean_absolute_error: 0.5236 - val_loss: 0.3014 - val_mean_absolute_error: 0.5367\n",
            "Epoch 69/100\n",
            "5/5 [==============================] - 0s 99ms/step - loss: 0.4070 - mean_absolute_error: 0.5250 - val_loss: 0.3288 - val_mean_absolute_error: 0.5523\n",
            "Epoch 70/100\n",
            "5/5 [==============================] - 1s 101ms/step - loss: 0.3992 - mean_absolute_error: 0.5179 - val_loss: 0.3501 - val_mean_absolute_error: 0.5625\n",
            "Epoch 71/100\n",
            "5/5 [==============================] - 0s 96ms/step - loss: 0.3903 - mean_absolute_error: 0.5175 - val_loss: 0.3185 - val_mean_absolute_error: 0.5467\n",
            "Epoch 72/100\n",
            "5/5 [==============================] - 0s 99ms/step - loss: 0.3839 - mean_absolute_error: 0.5086 - val_loss: 0.2896 - val_mean_absolute_error: 0.5303\n",
            "Epoch 73/100\n",
            "5/5 [==============================] - 1s 99ms/step - loss: 0.3817 - mean_absolute_error: 0.5134 - val_loss: 0.2649 - val_mean_absolute_error: 0.5124\n",
            "Epoch 74/100\n",
            "5/5 [==============================] - 1s 102ms/step - loss: 0.3865 - mean_absolute_error: 0.5136 - val_loss: 0.2415 - val_mean_absolute_error: 0.4890\n",
            "Epoch 75/100\n",
            "5/5 [==============================] - 0s 97ms/step - loss: 0.3886 - mean_absolute_error: 0.5117 - val_loss: 0.2345 - val_mean_absolute_error: 0.4758\n",
            "Epoch 76/100\n",
            "5/5 [==============================] - 1s 99ms/step - loss: 0.3784 - mean_absolute_error: 0.5042 - val_loss: 0.2285 - val_mean_absolute_error: 0.4634\n",
            "Epoch 77/100\n",
            "5/5 [==============================] - 0s 97ms/step - loss: 0.3766 - mean_absolute_error: 0.5069 - val_loss: 0.2292 - val_mean_absolute_error: 0.4612\n",
            "Epoch 78/100\n",
            "5/5 [==============================] - 0s 97ms/step - loss: 0.3803 - mean_absolute_error: 0.5050 - val_loss: 0.2315 - val_mean_absolute_error: 0.4715\n",
            "Epoch 79/100\n",
            "5/5 [==============================] - 1s 99ms/step - loss: 0.3748 - mean_absolute_error: 0.5090 - val_loss: 0.2381 - val_mean_absolute_error: 0.4840\n",
            "Epoch 80/100\n",
            "5/5 [==============================] - 1s 120ms/step - loss: 0.3783 - mean_absolute_error: 0.5083 - val_loss: 0.2386 - val_mean_absolute_error: 0.4792\n",
            "Epoch 81/100\n",
            "5/5 [==============================] - 1s 174ms/step - loss: 0.3765 - mean_absolute_error: 0.5092 - val_loss: 0.2340 - val_mean_absolute_error: 0.4714\n",
            "Epoch 82/100\n",
            "5/5 [==============================] - 1s 176ms/step - loss: 0.3667 - mean_absolute_error: 0.5027 - val_loss: 0.2330 - val_mean_absolute_error: 0.4746\n",
            "Epoch 83/100\n",
            "5/5 [==============================] - 1s 169ms/step - loss: 0.3816 - mean_absolute_error: 0.5092 - val_loss: 0.2326 - val_mean_absolute_error: 0.4676\n",
            "Epoch 84/100\n",
            "5/5 [==============================] - 1s 171ms/step - loss: 0.3601 - mean_absolute_error: 0.4974 - val_loss: 0.2253 - val_mean_absolute_error: 0.4571\n",
            "Epoch 85/100\n",
            "5/5 [==============================] - 1s 173ms/step - loss: 0.3485 - mean_absolute_error: 0.4899 - val_loss: 0.2257 - val_mean_absolute_error: 0.4571\n",
            "Epoch 86/100\n",
            "5/5 [==============================] - 1s 107ms/step - loss: 0.3621 - mean_absolute_error: 0.4978 - val_loss: 0.2313 - val_mean_absolute_error: 0.4606\n",
            "Epoch 87/100\n",
            "5/5 [==============================] - 1s 100ms/step - loss: 0.3487 - mean_absolute_error: 0.4878 - val_loss: 0.2256 - val_mean_absolute_error: 0.4525\n",
            "Epoch 88/100\n",
            "5/5 [==============================] - 0s 98ms/step - loss: 0.3499 - mean_absolute_error: 0.4917 - val_loss: 0.2259 - val_mean_absolute_error: 0.4458\n",
            "Epoch 89/100\n",
            "5/5 [==============================] - 1s 103ms/step - loss: 0.3480 - mean_absolute_error: 0.4890 - val_loss: 0.2278 - val_mean_absolute_error: 0.4661\n",
            "Epoch 90/100\n",
            "5/5 [==============================] - 1s 99ms/step - loss: 0.3415 - mean_absolute_error: 0.4888 - val_loss: 0.2431 - val_mean_absolute_error: 0.4892\n",
            "Epoch 91/100\n",
            "5/5 [==============================] - 1s 105ms/step - loss: 0.3525 - mean_absolute_error: 0.4960 - val_loss: 0.2415 - val_mean_absolute_error: 0.4859\n",
            "Epoch 92/100\n",
            "5/5 [==============================] - 1s 108ms/step - loss: 0.3520 - mean_absolute_error: 0.4971 - val_loss: 0.2464 - val_mean_absolute_error: 0.4939\n",
            "Epoch 93/100\n",
            "5/5 [==============================] - 1s 106ms/step - loss: 0.3520 - mean_absolute_error: 0.4971 - val_loss: 0.2548 - val_mean_absolute_error: 0.5012\n",
            "Epoch 94/100\n",
            "5/5 [==============================] - 0s 97ms/step - loss: 0.3493 - mean_absolute_error: 0.4915 - val_loss: 0.2567 - val_mean_absolute_error: 0.5039\n",
            "Epoch 95/100\n",
            "5/5 [==============================] - 1s 104ms/step - loss: 0.3340 - mean_absolute_error: 0.4821 - val_loss: 0.2512 - val_mean_absolute_error: 0.4933\n",
            "Epoch 96/100\n",
            "5/5 [==============================] - 0s 98ms/step - loss: 0.3307 - mean_absolute_error: 0.4807 - val_loss: 0.2631 - val_mean_absolute_error: 0.5101\n",
            "Epoch 97/100\n",
            "5/5 [==============================] - 1s 102ms/step - loss: 0.3358 - mean_absolute_error: 0.4840 - val_loss: 0.2718 - val_mean_absolute_error: 0.5141\n",
            "Epoch 98/100\n",
            "5/5 [==============================] - 0s 100ms/step - loss: 0.3346 - mean_absolute_error: 0.4861 - val_loss: 0.2685 - val_mean_absolute_error: 0.5129\n",
            "Epoch 99/100\n",
            "5/5 [==============================] - 1s 111ms/step - loss: 0.3292 - mean_absolute_error: 0.4800 - val_loss: 0.2935 - val_mean_absolute_error: 0.5312\n",
            "Epoch 100/100\n",
            "5/5 [==============================] - 0s 97ms/step - loss: 0.3349 - mean_absolute_error: 0.4855 - val_loss: 0.2921 - val_mean_absolute_error: 0.5294\n"
          ]
        }
      ]
    },
    {
      "cell_type": "code",
      "source": [
        "compare_sharp_loss(history, 10, 4)"
      ],
      "metadata": {
        "id": "HSwLxs6rpGFT",
        "outputId": "257987c0-b909-478f-f43a-f2efe2cb3913",
        "colab": {
          "base_uri": "https://localhost:8080/",
          "height": 388
        }
      },
      "execution_count": 89,
      "outputs": [
        {
          "output_type": "display_data",
          "data": {
            "text/plain": [
              "<Figure size 1000x400 with 1 Axes>"
            ],
            "image/png": "[encoded data removed]"
          },
          "metadata": {}
        }
      ]
    }
  ]
}