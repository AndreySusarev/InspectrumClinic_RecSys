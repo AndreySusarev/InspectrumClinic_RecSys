{
  "nbformat": 4,
  "nbformat_minor": 0,
  "metadata": {
    "colab": {
      "provenance": [],
      "mount_file_id": "https://github.com/Untick/InspectrumClinic_RecSys/blob/main/Paul%20Himyak/main.ipynb",
      "authorship_tag": "ABX9TyNJ/hxD46D1E07TVDXjzCWQ",
      "include_colab_link": true
    },
    "kernelspec": {
      "name": "python3",
      "display_name": "Python 3"
    },
    "language_info": {
      "name": "python"
    }
  },
  "cells": [
    {
      "cell_type": "markdown",
      "metadata": {
        "id": "view-in-github",
        "colab_type": "text"
      },
      "source": [
        "<a href=\"https://colab.research.google.com/github/Untick/InspectrumClinic_RecSys/blob/main/Paul%20Himyak/main.ipynb\" target=\"_parent\"><img src=\"https://colab.research.google.com/assets/colab-badge.svg\" alt=\"Open In Colab\"/></a>"
      ]
    },
    {
      "cell_type": "code",
      "source": [
        "import pandas as pd\n",
        "import matplotlib.pyplot as plt\n",
        "import uuid\n",
        "import re\n",
        "import numpy as np\n",
        "import seaborn as sns\n",
        "from datetime import datetime\n",
        "\n",
        "from tensorflow.keras.preprocessing.text import Tokenizer\n",
        "from tensorflow.keras.preprocessing.sequence import pad_sequences\n",
        "\n",
        "import gdown"
      ],
      "metadata": {
        "id": "P83i6KfIF2gd"
      },
      "execution_count": 1,
      "outputs": []
    },
    {
      "cell_type": "code",
      "execution_count": 2,
      "metadata": {
        "id": "1vSWmbjqEvHX",
        "colab": {
          "base_uri": "https://localhost:8080/",
          "height": 35
        },
        "outputId": "62d888a6-9199-46be-8a07-d230beeb74e6"
      },
      "outputs": [
        {
          "output_type": "execute_result",
          "data": {
            "text/plain": [
              "'profpatolog_modified.xlsx'"
            ],
            "application/vnd.google.colaboratory.intrinsic+json": {
              "type": "string"
            }
          },
          "metadata": {},
          "execution_count": 2
        }
      ],
      "source": [
        "dataset_url = \"https://drive.google.com/uc?export=download&id=1ErXvN290PPthLGsb0ALpa_0aUDnvC0jg\"\n",
        "#dataset_url = \"https://docs.google.com/spreadsheets/d/1ErXvN290PPthLGsb0ALpa_0aUDnvC0jg/edit?usp=share_link&ouid=113369956649761615778&rtpof=true&sd=true\"\n",
        "dataset_filename = \"profpatolog_modified.xlsx\"\n",
        "#!wget -qc dataset_url -O dataset_filename\n",
        "gdown.download(dataset_url, output=dataset_filename, quiet=True )\n"
      ]
    },
    {
      "cell_type": "code",
      "source": [
        "df = pd.read_excel(\"profpatolog_modified.xlsx\")\n"
      ],
      "metadata": {
        "id": "c2g1o_nMF48g"
      },
      "execution_count": 3,
      "outputs": []
    },
    {
      "cell_type": "markdown",
      "source": [],
      "metadata": {
        "id": "Vso46VI_dhRx"
      }
    },
    {
      "cell_type": "code",
      "source": [
        "#Удаляем случайные вбросы\n",
        "df.drop([843, 851, 1022, 1024], inplace = True)\n",
        "\n",
        "#Убираем пустые колонки\n",
        "empty_columns = df.columns[df.isna().all()]\n",
        "df.drop(empty_columns, inplace = True, axis = 1)"
      ],
      "metadata": {
        "id": "dJT7uj6rGAtJ"
      },
      "execution_count": 4,
      "outputs": []
    },
    {
      "cell_type": "code",
      "source": [
        "FIELD_CLIENT_AGE = \"КлиентВозраст\"\n",
        "FIELD_CLIENT_BIRTH_DAY = \"КлиентДатаРождения\"\n",
        "FIELD_CLIENT_GENDER = \"КлиентПол\"\n",
        "FIELD_CLIENT_GENDER_M = 0\n",
        "FIELD_CLIENT_GENDER_F = 1\n",
        "FIELD_CONCLUSION = \"ЗаключениеМК\"\n",
        "FIELD_CONCLUSION_FIT = 0\n",
        "FIELD_CONCLUSION_PART_FIT = 1\n",
        "FIELD_CONCLUSION_NOT_FIT = 2\n",
        "\n",
        "FIELD_DISPANSARY_GROUP = \"ДиспансернаяГруппа\"\n",
        "FIELD_DISPANSARY_GROUP_I = 0\n",
        "FIELD_DISPANSARY_GROUP_II = 1\n",
        "FIELD_DISPANSARY_GROUP_III = 2\n",
        "FIELD_DISPANSARY_GROUP_OTHER = 3\n",
        "\n",
        "FIELD_HARMFUL_FACTORS = \"ВредныеФакторы\""
      ],
      "metadata": {
        "id": "ACwbB23gGTTN"
      },
      "execution_count": 5,
      "outputs": []
    },
    {
      "cell_type": "code",
      "source": [
        "mkb_columns = df.filter(regex=\"(?i)МКБ10\").columns\n"
      ],
      "metadata": {
        "id": "-lZQMN7pqrMU"
      },
      "execution_count": 6,
      "outputs": []
    },
    {
      "cell_type": "code",
      "source": [
        "#df[FIELD_HARMFUL_FACTORS] = df[FIELD_HARMFUL_FACTORS].apply(lambda x: x.replace(\".\", \"x\"))"
      ],
      "metadata": {
        "id": "H-lwjg6qrPxY"
      },
      "execution_count": 34,
      "outputs": []
    },
    {
      "cell_type": "code",
      "source": [
        "#df[FIELD_HARMFUL_FACTORS] = df[FIELD_HARMFUL_FACTORS].str.split(\",\")\n",
        "#df[FIELD_HARMFUL_FACTORS] = df[FIELD_HARMFUL_FACTORS].apply(lambda x: \",\".join(x))"
      ],
      "metadata": {
        "id": "gPvyI9CV5cgp"
      },
      "execution_count": 29,
      "outputs": []
    },
    {
      "cell_type": "code",
      "source": [
        "tokenizer = Tokenizer(filters=\" \", split = \",\", oov_token = \"unknown\", char_level = False)"
      ],
      "metadata": {
        "id": "pht4dtJ1JInA"
      },
      "execution_count": 7,
      "outputs": []
    },
    {
      "cell_type": "code",
      "source": [
        "tokenizer.fit_on_texts(df[FIELD_HARMFUL_FACTORS])"
      ],
      "metadata": {
        "id": "y8X4vDHzJU5a"
      },
      "execution_count": 8,
      "outputs": []
    },
    {
      "cell_type": "code",
      "source": [
        "xTrainHarmfulIndexes = tokenizer.texts_to_sequences(df[FIELD_HARMFUL_FACTORS])"
      ],
      "metadata": {
        "id": "10IkPfDUJa9K"
      },
      "execution_count": 9,
      "outputs": []
    },
    {
      "cell_type": "code",
      "source": [
        "max_len = max(xTrainHarmfulIndexes, key=len)\n"
      ],
      "metadata": {
        "id": "xXhmYgtG3Viz",
        "outputId": "3dd27c52-24b2-4dbc-fd89-3d8a0aa5305b",
        "colab": {
          "base_uri": "https://localhost:8080/"
        }
      },
      "execution_count": 26,
      "outputs": [
        {
          "output_type": "stream",
          "name": "stdout",
          "text": [
            "13\n"
          ]
        }
      ]
    },
    {
      "cell_type": "code",
      "source": [
        "xTrainHarmfulIndexesPadded = pad_sequences(xTrainHarmfulIndexes, maxlen=max_len, padding='post')"
      ],
      "metadata": {
        "id": "qdL0cWUxO4P5"
      },
      "execution_count": 17,
      "outputs": []
    },
    {
      "cell_type": "code",
      "source": [
        "xTrainHarmfulIndexesPadded.shape"
      ],
      "metadata": {
        "id": "WOVx8kwfwS6A",
        "outputId": "cef63cb9-b50f-4830-b42a-bb3fc8877aa6",
        "colab": {
          "base_uri": "https://localhost:8080/"
        }
      },
      "execution_count": 14,
      "outputs": [
        {
          "output_type": "execute_result",
          "data": {
            "text/plain": [
              "(1978, 20)"
            ]
          },
          "metadata": {},
          "execution_count": 14
        }
      ]
    }
  ]
}