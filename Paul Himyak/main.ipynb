{
  "nbformat": 4,
  "nbformat_minor": 0,
  "metadata": {
    "colab": {
      "provenance": [],
      "mount_file_id": "https://github.com/Untick/InspectrumClinic_RecSys/blob/main/Paul%20Himyak/main.ipynb",
      "authorship_tag": "ABX9TyPjrYHc9pKDUMczpzBy3gD7",
      "include_colab_link": true
    },
    "kernelspec": {
      "name": "python3",
      "display_name": "Python 3"
    },
    "language_info": {
      "name": "python"
    }
  },
  "cells": [
    {
      "cell_type": "markdown",
      "metadata": {
        "id": "view-in-github",
        "colab_type": "text"
      },
      "source": [
        "<a href=\"https://colab.research.google.com/github/Untick/InspectrumClinic_RecSys/blob/main/Paul%20Himyak/main.ipynb\" target=\"_parent\"><img src=\"https://colab.research.google.com/assets/colab-badge.svg\" alt=\"Open In Colab\"/></a>"
      ]
    },
    {
      "cell_type": "code",
      "source": [
        "import pandas as pd\n",
        "import matplotlib.pyplot as plt\n",
        "import uuid\n",
        "import re\n",
        "import numpy as np\n",
        "import seaborn as sns\n",
        "from datetime import datetime\n",
        "\n",
        "from tensorflow.keras.preprocessing.text import Tokenizer\n",
        "from tensorflow.keras.preprocessing.sequence import pad_sequences\n",
        "\n",
        "import gdown"
      ],
      "metadata": {
        "id": "P83i6KfIF2gd"
      },
      "execution_count": 1,
      "outputs": []
    },
    {
      "cell_type": "code",
      "execution_count": 2,
      "metadata": {
        "id": "1vSWmbjqEvHX",
        "colab": {
          "base_uri": "https://localhost:8080/",
          "height": 35
        },
        "outputId": "62d888a6-9199-46be-8a07-d230beeb74e6"
      },
      "outputs": [
        {
          "output_type": "execute_result",
          "data": {
            "text/plain": [
              "'profpatolog_modified.xlsx'"
            ],
            "application/vnd.google.colaboratory.intrinsic+json": {
              "type": "string"
            }
          },
          "metadata": {},
          "execution_count": 2
        }
      ],
      "source": [
        "dataset_url = \"https://drive.google.com/uc?export=download&id=1ErXvN290PPthLGsb0ALpa_0aUDnvC0jg\"\n",
        "#dataset_url = \"https://docs.google.com/spreadsheets/d/1ErXvN290PPthLGsb0ALpa_0aUDnvC0jg/edit?usp=share_link&ouid=113369956649761615778&rtpof=true&sd=true\"\n",
        "dataset_filename = \"profpatolog_modified.xlsx\"\n",
        "#!wget -qc dataset_url -O dataset_filename\n",
        "gdown.download(dataset_url, output=dataset_filename, quiet=True )\n"
      ]
    },
    {
      "cell_type": "code",
      "source": [
        "df = pd.read_excel(\"profpatolog_modified.xlsx\")\n"
      ],
      "metadata": {
        "id": "c2g1o_nMF48g"
      },
      "execution_count": 3,
      "outputs": []
    },
    {
      "cell_type": "markdown",
      "source": [],
      "metadata": {
        "id": "Vso46VI_dhRx"
      }
    },
    {
      "cell_type": "code",
      "source": [
        "#Удаляем случайные вбросы\n",
        "df.drop([843, 851, 1022, 1024], inplace = True)\n",
        "\n",
        "#Убираем пустые колонки\n",
        "empty_columns = df.columns[df.isna().all()]\n",
        "df.drop(empty_columns, inplace = True, axis = 1)"
      ],
      "metadata": {
        "id": "dJT7uj6rGAtJ"
      },
      "execution_count": 4,
      "outputs": []
    },
    {
      "cell_type": "code",
      "source": [
        "FIELD_CLIENT_AGE = \"КлиентВозраст\"\n",
        "FIELD_CLIENT_BIRTH_DAY = \"КлиентДатаРождения\"\n",
        "FIELD_CLIENT_GENDER = \"КлиентПол\"\n",
        "FIELD_CLIENT_GENDER_M = 0\n",
        "FIELD_CLIENT_GENDER_F = 1\n",
        "FIELD_CONCLUSION = \"ЗаключениеМК\"\n",
        "FIELD_CONCLUSION_FIT = 0\n",
        "FIELD_CONCLUSION_PART_FIT = 1\n",
        "FIELD_CONCLUSION_NOT_FIT = 2\n",
        "\n",
        "FIELD_DISPANSARY_GROUP = \"ДиспансернаяГруппа\"\n",
        "FIELD_DISPANSARY_GROUP_I = 0\n",
        "FIELD_DISPANSARY_GROUP_II = 1\n",
        "FIELD_DISPANSARY_GROUP_III = 2\n",
        "FIELD_DISPANSARY_GROUP_OTHER = 3\n",
        "\n",
        "FIELD_HARMFUL_FACTORS = \"ВредныеФакторы\""
      ],
      "metadata": {
        "id": "ACwbB23gGTTN"
      },
      "execution_count": 5,
      "outputs": []
    },
    {
      "cell_type": "code",
      "source": [
        "mkb_columns = df.filter(regex=\"(?i)МКБ10\").columns\n"
      ],
      "metadata": {
        "id": "-lZQMN7pqrMU"
      },
      "execution_count": 6,
      "outputs": []
    },
    {
      "cell_type": "code",
      "source": [
        "mkb_columns"
      ],
      "metadata": {
        "id": "1DpU2h3L9yxO",
        "outputId": "4b7fb515-a9f5-43ad-e9e9-fdd33a8cfacc",
        "colab": {
          "base_uri": "https://localhost:8080/"
        }
      },
      "execution_count": 28,
      "outputs": [
        {
          "output_type": "execute_result",
          "data": {
            "text/plain": [
              "Index(['ПсихиатрияНаркология1_МКБ101', 'Офтальмология1_МКБ101',\n",
              "       'Оториноларингология1_МКБ101', 'ХирургНеИсп1_МКБ101',\n",
              "       'Гинекология1_МКБ101', 'Стоматология1_МКБ101',\n",
              "       'Дерматовенерология1_МКБ101', 'Рентгенология1_МКБ101',\n",
              "       'Неврология1_МКБ101', 'Терапия1_МКБ101', 'Хирургия1_МКБ101',\n",
              "       'Офтальмология1_МКБ102', 'Терапия2_МКБ101', 'Неврология2_МКБ101',\n",
              "       'ЛабораторныеИсследования1_МКБ101', 'ЭКГНеИсп1_МКБ101',\n",
              "       'УЗИДиагностика1_МКБ101', 'УЗИДиагностика2_МКБ101',\n",
              "       'ПсихиатрияНаркология2_МКБ101', 'Терапия1_МКБ102',\n",
              "       'ЛабораторныеИсследования2_МКБ101', 'Терапия1_МКБ103',\n",
              "       'Психиатрия1_МКБ101', 'Гинекология1_МКБ102', 'Рентгенология2_МКБ101',\n",
              "       'Гинекология2_МКБ101', 'Хирургия2_МКБ101',\n",
              "       'ПроцедурнаяМедсестра1_МКБ101', 'ФункциональнаяДиагностика1_МКБ101',\n",
              "       'УЗИДиагностика1_МКБ102', 'Стоматология2_МКБ101', 'Неврология1_МКБ102',\n",
              "       'Оториноларингология2_МКБ101', 'Дерматовенерология1_МКБ102',\n",
              "       'Дерматовенерология2_МКБ101', 'Дерматовенерология2_МКБ102',\n",
              "       'Хирургия1_МКБ102', 'Хирургия2_МКБ102', 'Офтальмология2_МКБ101',\n",
              "       'Офтальмология2_МКБ102', 'Неврология2_МКБ102',\n",
              "       'ПсихиатрияНаркология1_МКБ102', 'ПсихиатрияНаркология2_МКБ102',\n",
              "       'УЗИДиагностика2_МКБ102', 'Оториноларингология1_МКБ102',\n",
              "       'Оториноларингология2_МКБ102', 'Терапия2_МКБ102',\n",
              "       'Оториноларингология1_МКБ103', 'Оториноларингология1_МКБ104',\n",
              "       'Оториноларингология2_МКБ103', 'Оториноларингология2_МКБ104',\n",
              "       'Терапия3_МКБ101', 'Терапия3_МКБ102', 'Терапия4_МКБ101',\n",
              "       'Терапия4_МКБ102', 'Гинекология2_МКБ102', 'УЗИДиагностика1_МКБ103',\n",
              "       'УЗИДиагностика1_МКБ104', 'УЗИДиагностика2_МКБ103',\n",
              "       'УЗИДиагностика2_МКБ104', 'Стоматология1_МКБ102',\n",
              "       'Стоматология2_МКБ102', 'Терапия1_МКБ104', 'Терапия2_МКБ103',\n",
              "       'Терапия2_МКБ104', 'Офтальмология1_МКБ103', 'Офтальмология1_МКБ104',\n",
              "       'Офтальмология2_МКБ103', 'Офтальмология2_МКБ104',\n",
              "       'ЛабораторныеИсследования1_МКБ102', 'ЛабораторныеИсследования2_МКБ102',\n",
              "       'Хирургия3_МКБ101', 'Гинекология3_МКБ101', 'Гинекология3_МКБ102',\n",
              "       'Гинекология4_МКБ101', 'Гинекология4_МКБ102', 'ТерапевтНеИсп1_МКБ101',\n",
              "       'Эндоскопия1_МКБ101', 'ТерапевтНеИсп1_МКБ102', 'ХирургНеИсп1_МКБ102',\n",
              "       'ХирургНеИсп2_МКБ101', 'ХирургНеИсп2_МКБ102', 'Психиатрия1_МКБ102',\n",
              "       'Психиатрия2_МКБ101', 'Психиатрия2_МКБ102', 'Рентгенология1_МКБ102',\n",
              "       'Рентгенология2_МКБ102', 'Психиатрия3_МКБ101', 'Психиатрия3_МКБ102',\n",
              "       'Психиатрия4_МКБ101', 'Психиатрия4_МКБ102',\n",
              "       'Оториноларингология3_МКБ101'],\n",
              "      dtype='object')"
            ]
          },
          "metadata": {},
          "execution_count": 28
        }
      ]
    },
    {
      "cell_type": "code",
      "source": [
        "df[mkb_columns]"
      ],
      "metadata": {
        "id": "xzy0COMi7jy9",
        "outputId": "673aebfb-50bf-4011-da58-253fe865ce2f",
        "colab": {
          "base_uri": "https://localhost:8080/",
          "height": 487
        }
      },
      "execution_count": 27,
      "outputs": [
        {
          "output_type": "execute_result",
          "data": {
            "text/plain": [
              "     ПсихиатрияНаркология1_МКБ101 Офтальмология1_МКБ101  \\\n",
              "0                           Z00.0                 Z00.0   \n",
              "1                           Z00.0                 Z00.0   \n",
              "2                           Z00.0                 H52.1   \n",
              "3                             NaN                 Z00.0   \n",
              "4                             NaN                 H52.2   \n",
              "...                           ...                   ...   \n",
              "1977                          NaN                   NaN   \n",
              "1978                          NaN                   NaN   \n",
              "1979                        Z00.0                 Z00.0   \n",
              "1980                        Z00.0                   NaN   \n",
              "1981                        Z00.0                   NaN   \n",
              "\n",
              "     Оториноларингология1_МКБ101 ХирургНеИсп1_МКБ101 Гинекология1_МКБ101  \\\n",
              "0                          Z00.0               Z00.0               Z00.0   \n",
              "1                            NaN                 NaN                 NaN   \n",
              "2                            NaN                 NaN                 NaN   \n",
              "3                          Z00.0               Z00.0                 NaN   \n",
              "4                          Z00.0                 NaN                 NaN   \n",
              "...                          ...                 ...                 ...   \n",
              "1977                         NaN                 NaN                 NaN   \n",
              "1978                         NaN                 NaN                 NaN   \n",
              "1979                       Z00.0                 NaN                 NaN   \n",
              "1980                       Z00.0                 NaN               Z00.0   \n",
              "1981                       Z00.0                 NaN                 NaN   \n",
              "\n",
              "     Стоматология1_МКБ101 Дерматовенерология1_МКБ101 Рентгенология1_МКБ101  \\\n",
              "0                   Z00.0                        NaN                   NaN   \n",
              "1                     NaN                      Z00.0                 Z00.0   \n",
              "2                     NaN                      Z00.0                   NaN   \n",
              "3                   Z00.0                        NaN                   NaN   \n",
              "4                   Z00.0                        NaN                   NaN   \n",
              "...                   ...                        ...                   ...   \n",
              "1977                  NaN                        NaN                   NaN   \n",
              "1978                  NaN                        NaN                   NaN   \n",
              "1979                K02.1                      Z00.0                   NaN   \n",
              "1980                  NaN                      Z00.0                   NaN   \n",
              "1981                Z00.0                        NaN                   NaN   \n",
              "\n",
              "     Неврология1_МКБ101 Терапия1_МКБ101  ... Психиатрия1_МКБ102  \\\n",
              "0                   NaN             NaN  ...                NaN   \n",
              "1                 Z00.0           I11.9  ...                NaN   \n",
              "2                   NaN           Z00.0  ...                NaN   \n",
              "3                 Z00.0           Z00.0  ...                NaN   \n",
              "4                 Z00.0           Z00.0  ...                NaN   \n",
              "...                 ...             ...  ...                ...   \n",
              "1977                NaN             NaN  ...                NaN   \n",
              "1978                NaN             NaN  ...                NaN   \n",
              "1979              Z00.0           Z00.0  ...                NaN   \n",
              "1980              Z00.0           Z00.0  ...                NaN   \n",
              "1981              Z00.0           Z00.0  ...                NaN   \n",
              "\n",
              "     Психиатрия2_МКБ101 Психиатрия2_МКБ102 Рентгенология1_МКБ102  \\\n",
              "0                   NaN                NaN                   NaN   \n",
              "1                   NaN                NaN                   NaN   \n",
              "2                   NaN                NaN                   NaN   \n",
              "3                   NaN                NaN                   NaN   \n",
              "4                   NaN                NaN                   NaN   \n",
              "...                 ...                ...                   ...   \n",
              "1977                NaN                NaN                   NaN   \n",
              "1978                NaN                NaN                   NaN   \n",
              "1979                NaN                NaN                   NaN   \n",
              "1980                NaN                NaN                   NaN   \n",
              "1981                NaN                NaN                   NaN   \n",
              "\n",
              "     Рентгенология2_МКБ102 Психиатрия3_МКБ101 Психиатрия3_МКБ102  \\\n",
              "0                      NaN                NaN                NaN   \n",
              "1                      NaN                NaN                NaN   \n",
              "2                      NaN                NaN                NaN   \n",
              "3                      NaN                NaN                NaN   \n",
              "4                      NaN                NaN                NaN   \n",
              "...                    ...                ...                ...   \n",
              "1977                   NaN                NaN                NaN   \n",
              "1978                   NaN                NaN                NaN   \n",
              "1979                   NaN                NaN                NaN   \n",
              "1980                   NaN                NaN                NaN   \n",
              "1981                   NaN                NaN                NaN   \n",
              "\n",
              "     Психиатрия4_МКБ101 Психиатрия4_МКБ102 Оториноларингология3_МКБ101  \n",
              "0                   NaN                NaN                         NaN  \n",
              "1                   NaN                NaN                         NaN  \n",
              "2                   NaN                NaN                         NaN  \n",
              "3                   NaN                NaN                         NaN  \n",
              "4                   NaN                NaN                         NaN  \n",
              "...                 ...                ...                         ...  \n",
              "1977                NaN                NaN                         NaN  \n",
              "1978                NaN                NaN                         NaN  \n",
              "1979                NaN                NaN                         NaN  \n",
              "1980                NaN                NaN                         NaN  \n",
              "1981                NaN                NaN                         NaN  \n",
              "\n",
              "[1978 rows x 92 columns]"
            ],
            "text/html": [
              "\n",
              "  <div id=\"df-35409387-c37d-40d4-9ce6-825110d031d3\">\n",
              "    <div class=\"colab-df-container\">\n",
              "      <div>\n",
              "<style scoped>\n",
              "    .dataframe tbody tr th:only-of-type {\n",
              "        vertical-align: middle;\n",
              "    }\n",
              "\n",
              "    .dataframe tbody tr th {\n",
              "        vertical-align: top;\n",
              "    }\n",
              "\n",
              "    .dataframe thead th {\n",
              "        text-align: right;\n",
              "    }\n",
              "</style>\n",
              "<table border=\"1\" class=\"dataframe\">\n",
              "  <thead>\n",
              "    <tr style=\"text-align: right;\">\n",
              "      <th></th>\n",
              "      <th>ПсихиатрияНаркология1_МКБ101</th>\n",
              "      <th>Офтальмология1_МКБ101</th>\n",
              "      <th>Оториноларингология1_МКБ101</th>\n",
              "      <th>ХирургНеИсп1_МКБ101</th>\n",
              "      <th>Гинекология1_МКБ101</th>\n",
              "      <th>Стоматология1_МКБ101</th>\n",
              "      <th>Дерматовенерология1_МКБ101</th>\n",
              "      <th>Рентгенология1_МКБ101</th>\n",
              "      <th>Неврология1_МКБ101</th>\n",
              "      <th>Терапия1_МКБ101</th>\n",
              "      <th>...</th>\n",
              "      <th>Психиатрия1_МКБ102</th>\n",
              "      <th>Психиатрия2_МКБ101</th>\n",
              "      <th>Психиатрия2_МКБ102</th>\n",
              "      <th>Рентгенология1_МКБ102</th>\n",
              "      <th>Рентгенология2_МКБ102</th>\n",
              "      <th>Психиатрия3_МКБ101</th>\n",
              "      <th>Психиатрия3_МКБ102</th>\n",
              "      <th>Психиатрия4_МКБ101</th>\n",
              "      <th>Психиатрия4_МКБ102</th>\n",
              "      <th>Оториноларингология3_МКБ101</th>\n",
              "    </tr>\n",
              "  </thead>\n",
              "  <tbody>\n",
              "    <tr>\n",
              "      <th>0</th>\n",
              "      <td>Z00.0</td>\n",
              "      <td>Z00.0</td>\n",
              "      <td>Z00.0</td>\n",
              "      <td>Z00.0</td>\n",
              "      <td>Z00.0</td>\n",
              "      <td>Z00.0</td>\n",
              "      <td>NaN</td>\n",
              "      <td>NaN</td>\n",
              "      <td>NaN</td>\n",
              "      <td>NaN</td>\n",
              "      <td>...</td>\n",
              "      <td>NaN</td>\n",
              "      <td>NaN</td>\n",
              "      <td>NaN</td>\n",
              "      <td>NaN</td>\n",
              "      <td>NaN</td>\n",
              "      <td>NaN</td>\n",
              "      <td>NaN</td>\n",
              "      <td>NaN</td>\n",
              "      <td>NaN</td>\n",
              "      <td>NaN</td>\n",
              "    </tr>\n",
              "    <tr>\n",
              "      <th>1</th>\n",
              "      <td>Z00.0</td>\n",
              "      <td>Z00.0</td>\n",
              "      <td>NaN</td>\n",
              "      <td>NaN</td>\n",
              "      <td>NaN</td>\n",
              "      <td>NaN</td>\n",
              "      <td>Z00.0</td>\n",
              "      <td>Z00.0</td>\n",
              "      <td>Z00.0</td>\n",
              "      <td>I11.9</td>\n",
              "      <td>...</td>\n",
              "      <td>NaN</td>\n",
              "      <td>NaN</td>\n",
              "      <td>NaN</td>\n",
              "      <td>NaN</td>\n",
              "      <td>NaN</td>\n",
              "      <td>NaN</td>\n",
              "      <td>NaN</td>\n",
              "      <td>NaN</td>\n",
              "      <td>NaN</td>\n",
              "      <td>NaN</td>\n",
              "    </tr>\n",
              "    <tr>\n",
              "      <th>2</th>\n",
              "      <td>Z00.0</td>\n",
              "      <td>H52.1</td>\n",
              "      <td>NaN</td>\n",
              "      <td>NaN</td>\n",
              "      <td>NaN</td>\n",
              "      <td>NaN</td>\n",
              "      <td>Z00.0</td>\n",
              "      <td>NaN</td>\n",
              "      <td>NaN</td>\n",
              "      <td>Z00.0</td>\n",
              "      <td>...</td>\n",
              "      <td>NaN</td>\n",
              "      <td>NaN</td>\n",
              "      <td>NaN</td>\n",
              "      <td>NaN</td>\n",
              "      <td>NaN</td>\n",
              "      <td>NaN</td>\n",
              "      <td>NaN</td>\n",
              "      <td>NaN</td>\n",
              "      <td>NaN</td>\n",
              "      <td>NaN</td>\n",
              "    </tr>\n",
              "    <tr>\n",
              "      <th>3</th>\n",
              "      <td>NaN</td>\n",
              "      <td>Z00.0</td>\n",
              "      <td>Z00.0</td>\n",
              "      <td>Z00.0</td>\n",
              "      <td>NaN</td>\n",
              "      <td>Z00.0</td>\n",
              "      <td>NaN</td>\n",
              "      <td>NaN</td>\n",
              "      <td>Z00.0</td>\n",
              "      <td>Z00.0</td>\n",
              "      <td>...</td>\n",
              "      <td>NaN</td>\n",
              "      <td>NaN</td>\n",
              "      <td>NaN</td>\n",
              "      <td>NaN</td>\n",
              "      <td>NaN</td>\n",
              "      <td>NaN</td>\n",
              "      <td>NaN</td>\n",
              "      <td>NaN</td>\n",
              "      <td>NaN</td>\n",
              "      <td>NaN</td>\n",
              "    </tr>\n",
              "    <tr>\n",
              "      <th>4</th>\n",
              "      <td>NaN</td>\n",
              "      <td>H52.2</td>\n",
              "      <td>Z00.0</td>\n",
              "      <td>NaN</td>\n",
              "      <td>NaN</td>\n",
              "      <td>Z00.0</td>\n",
              "      <td>NaN</td>\n",
              "      <td>NaN</td>\n",
              "      <td>Z00.0</td>\n",
              "      <td>Z00.0</td>\n",
              "      <td>...</td>\n",
              "      <td>NaN</td>\n",
              "      <td>NaN</td>\n",
              "      <td>NaN</td>\n",
              "      <td>NaN</td>\n",
              "      <td>NaN</td>\n",
              "      <td>NaN</td>\n",
              "      <td>NaN</td>\n",
              "      <td>NaN</td>\n",
              "      <td>NaN</td>\n",
              "      <td>NaN</td>\n",
              "    </tr>\n",
              "    <tr>\n",
              "      <th>...</th>\n",
              "      <td>...</td>\n",
              "      <td>...</td>\n",
              "      <td>...</td>\n",
              "      <td>...</td>\n",
              "      <td>...</td>\n",
              "      <td>...</td>\n",
              "      <td>...</td>\n",
              "      <td>...</td>\n",
              "      <td>...</td>\n",
              "      <td>...</td>\n",
              "      <td>...</td>\n",
              "      <td>...</td>\n",
              "      <td>...</td>\n",
              "      <td>...</td>\n",
              "      <td>...</td>\n",
              "      <td>...</td>\n",
              "      <td>...</td>\n",
              "      <td>...</td>\n",
              "      <td>...</td>\n",
              "      <td>...</td>\n",
              "      <td>...</td>\n",
              "    </tr>\n",
              "    <tr>\n",
              "      <th>1977</th>\n",
              "      <td>NaN</td>\n",
              "      <td>NaN</td>\n",
              "      <td>NaN</td>\n",
              "      <td>NaN</td>\n",
              "      <td>NaN</td>\n",
              "      <td>NaN</td>\n",
              "      <td>NaN</td>\n",
              "      <td>NaN</td>\n",
              "      <td>NaN</td>\n",
              "      <td>NaN</td>\n",
              "      <td>...</td>\n",
              "      <td>NaN</td>\n",
              "      <td>NaN</td>\n",
              "      <td>NaN</td>\n",
              "      <td>NaN</td>\n",
              "      <td>NaN</td>\n",
              "      <td>NaN</td>\n",
              "      <td>NaN</td>\n",
              "      <td>NaN</td>\n",
              "      <td>NaN</td>\n",
              "      <td>NaN</td>\n",
              "    </tr>\n",
              "    <tr>\n",
              "      <th>1978</th>\n",
              "      <td>NaN</td>\n",
              "      <td>NaN</td>\n",
              "      <td>NaN</td>\n",
              "      <td>NaN</td>\n",
              "      <td>NaN</td>\n",
              "      <td>NaN</td>\n",
              "      <td>NaN</td>\n",
              "      <td>NaN</td>\n",
              "      <td>NaN</td>\n",
              "      <td>NaN</td>\n",
              "      <td>...</td>\n",
              "      <td>NaN</td>\n",
              "      <td>NaN</td>\n",
              "      <td>NaN</td>\n",
              "      <td>NaN</td>\n",
              "      <td>NaN</td>\n",
              "      <td>NaN</td>\n",
              "      <td>NaN</td>\n",
              "      <td>NaN</td>\n",
              "      <td>NaN</td>\n",
              "      <td>NaN</td>\n",
              "    </tr>\n",
              "    <tr>\n",
              "      <th>1979</th>\n",
              "      <td>Z00.0</td>\n",
              "      <td>Z00.0</td>\n",
              "      <td>Z00.0</td>\n",
              "      <td>NaN</td>\n",
              "      <td>NaN</td>\n",
              "      <td>K02.1</td>\n",
              "      <td>Z00.0</td>\n",
              "      <td>NaN</td>\n",
              "      <td>Z00.0</td>\n",
              "      <td>Z00.0</td>\n",
              "      <td>...</td>\n",
              "      <td>NaN</td>\n",
              "      <td>NaN</td>\n",
              "      <td>NaN</td>\n",
              "      <td>NaN</td>\n",
              "      <td>NaN</td>\n",
              "      <td>NaN</td>\n",
              "      <td>NaN</td>\n",
              "      <td>NaN</td>\n",
              "      <td>NaN</td>\n",
              "      <td>NaN</td>\n",
              "    </tr>\n",
              "    <tr>\n",
              "      <th>1980</th>\n",
              "      <td>Z00.0</td>\n",
              "      <td>NaN</td>\n",
              "      <td>Z00.0</td>\n",
              "      <td>NaN</td>\n",
              "      <td>Z00.0</td>\n",
              "      <td>NaN</td>\n",
              "      <td>Z00.0</td>\n",
              "      <td>NaN</td>\n",
              "      <td>Z00.0</td>\n",
              "      <td>Z00.0</td>\n",
              "      <td>...</td>\n",
              "      <td>NaN</td>\n",
              "      <td>NaN</td>\n",
              "      <td>NaN</td>\n",
              "      <td>NaN</td>\n",
              "      <td>NaN</td>\n",
              "      <td>NaN</td>\n",
              "      <td>NaN</td>\n",
              "      <td>NaN</td>\n",
              "      <td>NaN</td>\n",
              "      <td>NaN</td>\n",
              "    </tr>\n",
              "    <tr>\n",
              "      <th>1981</th>\n",
              "      <td>Z00.0</td>\n",
              "      <td>NaN</td>\n",
              "      <td>Z00.0</td>\n",
              "      <td>NaN</td>\n",
              "      <td>NaN</td>\n",
              "      <td>Z00.0</td>\n",
              "      <td>NaN</td>\n",
              "      <td>NaN</td>\n",
              "      <td>Z00.0</td>\n",
              "      <td>Z00.0</td>\n",
              "      <td>...</td>\n",
              "      <td>NaN</td>\n",
              "      <td>NaN</td>\n",
              "      <td>NaN</td>\n",
              "      <td>NaN</td>\n",
              "      <td>NaN</td>\n",
              "      <td>NaN</td>\n",
              "      <td>NaN</td>\n",
              "      <td>NaN</td>\n",
              "      <td>NaN</td>\n",
              "      <td>NaN</td>\n",
              "    </tr>\n",
              "  </tbody>\n",
              "</table>\n",
              "<p>1978 rows × 92 columns</p>\n",
              "</div>\n",
              "      <button class=\"colab-df-convert\" onclick=\"convertToInteractive('df-35409387-c37d-40d4-9ce6-825110d031d3')\"\n",
              "              title=\"Convert this dataframe to an interactive table.\"\n",
              "              style=\"display:none;\">\n",
              "        \n",
              "  <svg xmlns=\"http://www.w3.org/2000/svg\" height=\"24px\"viewBox=\"0 0 24 24\"\n",
              "       width=\"24px\">\n",
              "    <path d=\"M0 0h24v24H0V0z\" fill=\"none\"/>\n",
              "    <path d=\"M18.56 5.44l.94 2.06.94-2.06 2.06-.94-2.06-.94-.94-2.06-.94 2.06-2.06.94zm-11 1L8.5 8.5l.94-2.06 2.06-.94-2.06-.94L8.5 2.5l-.94 2.06-2.06.94zm10 10l.94 2.06.94-2.06 2.06-.94-2.06-.94-.94-2.06-.94 2.06-2.06.94z\"/><path d=\"M17.41 7.96l-1.37-1.37c-.4-.4-.92-.59-1.43-.59-.52 0-1.04.2-1.43.59L10.3 9.45l-7.72 7.72c-.78.78-.78 2.05 0 2.83L4 21.41c.39.39.9.59 1.41.59.51 0 1.02-.2 1.41-.59l7.78-7.78 2.81-2.81c.8-.78.8-2.07 0-2.86zM5.41 20L4 18.59l7.72-7.72 1.47 1.35L5.41 20z\"/>\n",
              "  </svg>\n",
              "      </button>\n",
              "      \n",
              "  <style>\n",
              "    .colab-df-container {\n",
              "      display:flex;\n",
              "      flex-wrap:wrap;\n",
              "      gap: 12px;\n",
              "    }\n",
              "\n",
              "    .colab-df-convert {\n",
              "      background-color: #E8F0FE;\n",
              "      border: none;\n",
              "      border-radius: 50%;\n",
              "      cursor: pointer;\n",
              "      display: none;\n",
              "      fill: #1967D2;\n",
              "      height: 32px;\n",
              "      padding: 0 0 0 0;\n",
              "      width: 32px;\n",
              "    }\n",
              "\n",
              "    .colab-df-convert:hover {\n",
              "      background-color: #E2EBFA;\n",
              "      box-shadow: 0px 1px 2px rgba(60, 64, 67, 0.3), 0px 1px 3px 1px rgba(60, 64, 67, 0.15);\n",
              "      fill: #174EA6;\n",
              "    }\n",
              "\n",
              "    [theme=dark] .colab-df-convert {\n",
              "      background-color: #3B4455;\n",
              "      fill: #D2E3FC;\n",
              "    }\n",
              "\n",
              "    [theme=dark] .colab-df-convert:hover {\n",
              "      background-color: #434B5C;\n",
              "      box-shadow: 0px 1px 3px 1px rgba(0, 0, 0, 0.15);\n",
              "      filter: drop-shadow(0px 1px 2px rgba(0, 0, 0, 0.3));\n",
              "      fill: #FFFFFF;\n",
              "    }\n",
              "  </style>\n",
              "\n",
              "      <script>\n",
              "        const buttonEl =\n",
              "          document.querySelector('#df-35409387-c37d-40d4-9ce6-825110d031d3 button.colab-df-convert');\n",
              "        buttonEl.style.display =\n",
              "          google.colab.kernel.accessAllowed ? 'block' : 'none';\n",
              "\n",
              "        async function convertToInteractive(key) {\n",
              "          const element = document.querySelector('#df-35409387-c37d-40d4-9ce6-825110d031d3');\n",
              "          const dataTable =\n",
              "            await google.colab.kernel.invokeFunction('convertToInteractive',\n",
              "                                                     [key], {});\n",
              "          if (!dataTable) return;\n",
              "\n",
              "          const docLinkHtml = 'Like what you see? Visit the ' +\n",
              "            '<a target=\"_blank\" href=https://colab.research.google.com/notebooks/data_table.ipynb>data table notebook</a>'\n",
              "            + ' to learn more about interactive tables.';\n",
              "          element.innerHTML = '';\n",
              "          dataTable['output_type'] = 'display_data';\n",
              "          await google.colab.output.renderOutput(dataTable, element);\n",
              "          const docLink = document.createElement('div');\n",
              "          docLink.innerHTML = docLinkHtml;\n",
              "          element.appendChild(docLink);\n",
              "        }\n",
              "      </script>\n",
              "    </div>\n",
              "  </div>\n",
              "  "
            ]
          },
          "metadata": {},
          "execution_count": 27
        }
      ]
    },
    {
      "cell_type": "code",
      "source": [],
      "metadata": {
        "id": "ZBKhevPk9pmf"
      },
      "execution_count": null,
      "outputs": []
    },
    {
      "cell_type": "code",
      "source": [
        "\n",
        "# объединяем значения из нескольких столбцов в один массив, удаляем дубликаты\n",
        "df['D'] = df.apply(lambda row: list(set([row[mkb_col_name] for mkb_col_name in mkb_columns if not pd.isna(row[mkb_col_name]) ])), axis=1).apply(lambda x: x if len(x) > 0 else None)\n"
      ],
      "metadata": {
        "id": "x5kr13GK9pa0"
      },
      "execution_count": 36,
      "outputs": []
    },
    {
      "cell_type": "code",
      "source": [
        "df['D']"
      ],
      "metadata": {
        "id": "rlUZd9Oj-JC6",
        "outputId": "9a872a62-f2fb-4be3-b3a6-d8ae025d158a",
        "colab": {
          "base_uri": "https://localhost:8080/"
        }
      },
      "execution_count": 37,
      "outputs": [
        {
          "output_type": "execute_result",
          "data": {
            "text/plain": [
              "0              [Z00.0]\n",
              "1       [Z00.0, I11.9]\n",
              "2       [Z00.0, H52.1]\n",
              "3              [Z00.0]\n",
              "4       [H52.2, Z00.0]\n",
              "             ...      \n",
              "1977              None\n",
              "1978              None\n",
              "1979    [K02.1, Z00.0]\n",
              "1980    [Z00.0, I11.9]\n",
              "1981           [Z00.0]\n",
              "Name: D, Length: 1978, dtype: object"
            ]
          },
          "metadata": {},
          "execution_count": 37
        }
      ]
    },
    {
      "cell_type": "markdown",
      "source": [],
      "metadata": {
        "id": "EJ6bdemf98LP"
      }
    },
    {
      "cell_type": "code",
      "source": [
        "#df[FIELD_HARMFUL_FACTORS] = df[FIELD_HARMFUL_FACTORS].apply(lambda x: x.replace(\".\", \"x\"))"
      ],
      "metadata": {
        "id": "H-lwjg6qrPxY"
      },
      "execution_count": 34,
      "outputs": []
    },
    {
      "cell_type": "code",
      "source": [
        "#df[FIELD_HARMFUL_FACTORS] = df[FIELD_HARMFUL_FACTORS].str.split(\",\")\n",
        "#df[FIELD_HARMFUL_FACTORS] = df[FIELD_HARMFUL_FACTORS].apply(lambda x: \",\".join(x))"
      ],
      "metadata": {
        "id": "gPvyI9CV5cgp"
      },
      "execution_count": 29,
      "outputs": []
    },
    {
      "cell_type": "code",
      "source": [
        "tokenizer = Tokenizer(filters=\" \", split = \",\", oov_token = \"unknown\", char_level = False)"
      ],
      "metadata": {
        "id": "pht4dtJ1JInA"
      },
      "execution_count": 7,
      "outputs": []
    },
    {
      "cell_type": "code",
      "source": [
        "tokenizer.fit_on_texts(df[FIELD_HARMFUL_FACTORS])"
      ],
      "metadata": {
        "id": "y8X4vDHzJU5a"
      },
      "execution_count": 8,
      "outputs": []
    },
    {
      "cell_type": "code",
      "source": [
        "xTrainHarmfulIndexes = tokenizer.texts_to_sequences(df[FIELD_HARMFUL_FACTORS])"
      ],
      "metadata": {
        "id": "10IkPfDUJa9K"
      },
      "execution_count": 9,
      "outputs": []
    },
    {
      "cell_type": "code",
      "source": [
        "max_len = max(xTrainHarmfulIndexes, key=len)\n"
      ],
      "metadata": {
        "colab": {
          "base_uri": "https://localhost:8080/"
        },
        "id": "xXhmYgtG3Viz",
        "outputId": "3dd27c52-24b2-4dbc-fd89-3d8a0aa5305b"
      },
      "execution_count": 26,
      "outputs": [
        {
          "output_type": "stream",
          "name": "stdout",
          "text": [
            "13\n"
          ]
        }
      ]
    },
    {
      "cell_type": "code",
      "source": [
        "xTrainHarmfulIndexesPadded = pad_sequences(xTrainHarmfulIndexes, maxlen=max_len, padding='post')"
      ],
      "metadata": {
        "id": "qdL0cWUxO4P5"
      },
      "execution_count": 17,
      "outputs": []
    },
    {
      "cell_type": "code",
      "source": [
        "xTrainHarmfulIndexesPadded.shape"
      ],
      "metadata": {
        "colab": {
          "base_uri": "https://localhost:8080/"
        },
        "id": "WOVx8kwfwS6A",
        "outputId": "cef63cb9-b50f-4830-b42a-bb3fc8877aa6"
      },
      "execution_count": 14,
      "outputs": [
        {
          "output_type": "execute_result",
          "data": {
            "text/plain": [
              "(1978, 20)"
            ]
          },
          "metadata": {},
          "execution_count": 14
        }
      ]
    }
  ]
}