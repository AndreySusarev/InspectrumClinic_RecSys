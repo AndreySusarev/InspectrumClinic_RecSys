{
  "nbformat": 4,
  "nbformat_minor": 0,
  "metadata": {
    "colab": {
      "provenance": [],
      "mount_file_id": "https://github.com/Untick/InspectrumClinic_RecSys/blob/main/Paul%20Himyak/main.ipynb",
      "authorship_tag": "ABX9TyNtDvnHjanykBPq9okSGMgC",
      "include_colab_link": true
    },
    "kernelspec": {
      "name": "python3",
      "display_name": "Python 3"
    },
    "language_info": {
      "name": "python"
    }
  },
  "cells": [
    {
      "cell_type": "markdown",
      "metadata": {
        "id": "view-in-github",
        "colab_type": "text"
      },
      "source": [
        "<a href=\"https://colab.research.google.com/github/Untick/InspectrumClinic_RecSys/blob/main/Paul%20Himyak/main.ipynb\" target=\"_parent\"><img src=\"https://colab.research.google.com/assets/colab-badge.svg\" alt=\"Open In Colab\"/></a>"
      ]
    },
    {
      "cell_type": "code",
      "source": [
        "import pandas as pd\n",
        "import matplotlib.pyplot as plt\n",
        "import uuid\n",
        "import re\n",
        "import numpy as np\n",
        "import seaborn as sns\n",
        "from datetime import datetime\n",
        "\n",
        "from tensorflow.keras.preprocessing.text import Tokenizer\n",
        "\n",
        "import gdown"
      ],
      "metadata": {
        "id": "P83i6KfIF2gd"
      },
      "execution_count": 57,
      "outputs": []
    },
    {
      "cell_type": "code",
      "execution_count": 44,
      "metadata": {
        "id": "1vSWmbjqEvHX",
        "outputId": "f02a066e-9e32-4b7a-f3fd-4ed2c809fbfb",
        "colab": {
          "base_uri": "https://localhost:8080/",
          "height": 90
        }
      },
      "outputs": [
        {
          "output_type": "stream",
          "name": "stderr",
          "text": [
            "/usr/local/lib/python3.9/dist-packages/gdown/parse_url.py:35: UserWarning: You specified a Google Drive link that is not the correct link to download a file. You might want to try `--fuzzy` option or the following url: https://drive.google.com/uc?id=None\n",
            "  warnings.warn(\n"
          ]
        },
        {
          "output_type": "execute_result",
          "data": {
            "text/plain": [
              "'profpatolog_modified.xlsx'"
            ],
            "application/vnd.google.colaboratory.intrinsic+json": {
              "type": "string"
            }
          },
          "metadata": {},
          "execution_count": 44
        }
      ],
      "source": [
        "dataset_url = \"https://docs.google.com/spreadsheets/d/1ErXvN290PPthLGsb0ALpa_0aUDnvC0jg/edit?usp=share_link&ouid=113369956649761615778&rtpof=true&sd=true\"\n",
        "dataset_filename = \"profpatolog_modified.xlsx\"\n",
        "#!wget -qc dataset_url -O dataset_filename\n",
        "gdown.download(dataset_url, output=dataset_filename, quiet=True )\n"
      ]
    },
    {
      "cell_type": "code",
      "source": [
        "from google.colab import drive\n",
        "\n",
        "# Монтируем Google Диск\n",
        "drive.mount('/content/drive')"
      ],
      "metadata": {
        "id": "gendL9u9p0NN",
        "outputId": "8dda5bbd-4c82-4e9b-bbf5-581a36bdb127",
        "colab": {
          "base_uri": "https://localhost:8080/"
        }
      },
      "execution_count": 47,
      "outputs": [
        {
          "output_type": "stream",
          "name": "stdout",
          "text": [
            "Drive already mounted at /content/drive; to attempt to forcibly remount, call drive.mount(\"/content/drive\", force_remount=True).\n"
          ]
        }
      ]
    },
    {
      "cell_type": "code",
      "source": [
        "df = pd.read_excel(\"/content/drive/MyDrive/profpatolog_modified.xlsx\")\n"
      ],
      "metadata": {
        "id": "c2g1o_nMF48g"
      },
      "execution_count": 49,
      "outputs": []
    },
    {
      "cell_type": "markdown",
      "source": [],
      "metadata": {
        "id": "Vso46VI_dhRx"
      }
    },
    {
      "cell_type": "code",
      "source": [
        "#Удаляем случайные вбросы\n",
        "df.drop([843, 851, 1022, 1024], inplace = True)\n",
        "\n",
        "#Убираем пустые колонки\n",
        "empty_columns = df.columns[df.isna().all()]\n",
        "df.drop(empty_columns, inplace = True, axis = 1)"
      ],
      "metadata": {
        "id": "dJT7uj6rGAtJ"
      },
      "execution_count": 50,
      "outputs": []
    },
    {
      "cell_type": "code",
      "source": [
        "FIELD_CLIENT_AGE = \"КлиентВозраст\"\n",
        "FIELD_CLIENT_BIRTH_DAY = \"КлиентДатаРождения\"\n",
        "FIELD_CLIENT_GENDER = \"КлиентПол\"\n",
        "FIELD_CLIENT_GENDER_M = 0\n",
        "FIELD_CLIENT_GENDER_F = 1\n",
        "FIELD_CONCLUSION = \"ЗаключениеМК\"\n",
        "FIELD_CONCLUSION_FIT = 0\n",
        "FIELD_CONCLUSION_PART_FIT = 1\n",
        "FIELD_CONCLUSION_NOT_FIT = 2\n",
        "\n",
        "FIELD_DISPANSARY_GROUP = \"ДиспансернаяГруппа\"\n",
        "FIELD_DISPANSARY_GROUP_I = 0\n",
        "FIELD_DISPANSARY_GROUP_II = 1\n",
        "FIELD_DISPANSARY_GROUP_III = 2\n",
        "FIELD_DISPANSARY_GROUP_OTHER = 3\n",
        "\n",
        "FIELD_HARMFUL_FACTORS = \"ВредныеФакторы\""
      ],
      "metadata": {
        "id": "ACwbB23gGTTN"
      },
      "execution_count": 51,
      "outputs": []
    },
    {
      "cell_type": "code",
      "source": [
        "mkb_columns = df.filter(regex=\"(?i)МКБ10\").columns\n"
      ],
      "metadata": {
        "id": "-lZQMN7pqrMU"
      },
      "execution_count": 53,
      "outputs": []
    },
    {
      "cell_type": "code",
      "source": [
        "df1 = df[FIELD_HARMFUL_FACTORS].str.split(\",\")"
      ],
      "metadata": {
        "id": "H-lwjg6qrPxY"
      },
      "execution_count": 59,
      "outputs": []
    },
    {
      "cell_type": "code",
      "source": [
        "harmful_values = df1.explode().sort_values().apply(lambda x: x.replace(\".\", \"x\")).unique()"
      ],
      "metadata": {
        "id": "c1fEdd5BsmYS"
      },
      "execution_count": 63,
      "outputs": []
    },
    {
      "cell_type": "code",
      "source": [
        "tokenizer = Tokenizer(filters='!\"#$%&()*+,-–—./…:;<=>?@[\\\\]^_`{|}~«»\\t\\n\\xa0\\ufeff', lower=True, split=' ', oov_token='unknown', char_level=False)\n",
        "tokenizer.fit_on_texts(harmful_values)"
      ],
      "metadata": {
        "id": "8J89EGrlr8x5"
      },
      "execution_count": 65,
      "outputs": []
    },
    {
      "cell_type": "code",
      "source": [
        "tokenizer."
      ],
      "metadata": {
        "id": "-eO55fXFtQJy",
        "outputId": "506c0dbb-7cb4-4a1f-e42d-845359afd654",
        "colab": {
          "base_uri": "https://localhost:8080/"
        }
      },
      "execution_count": 68,
      "outputs": [
        {
          "output_type": "execute_result",
          "data": {
            "text/plain": [
              "dict_items([('unknown', 1), ('1x1', 2), ('1x14x1', 3), ('1x14x2', 4), ('1x15', 5), ('1x17', 6), ('1x18x3', 7), ('1x19x1', 8), ('1x2', 9), ('1x23', 10), ('1x24', 11), ('1x29', 12), ('1x29x1', 13), ('1x29x2', 14), ('1x29x4', 15), ('1x3', 16), ('1x30x1', 17), ('1x34x1', 18), ('1x36', 19), ('1x36x1', 20), ('1x37', 21), ('1x37x1', 22), ('1x37x1x1', 23), ('1x37x1x2', 24), ('1x39', 25), ('1x45x1', 26), ('1x46', 27), ('1x48', 28), ('1x49', 29), ('1x49x14', 30), ('1x49x2', 31), ('1x50', 32), ('1x8x1', 33), ('1x8x1x1', 34), ('1x8x1x2', 35), ('1x8x2', 36), ('1x8x2x1', 37), ('1x8x2x2', 38), ('1x8x3', 39), ('1x8x3x1', 40), ('1x8x3x2', 41), ('10', 42), ('11', 43), ('11x1', 44), ('11x2', 45), ('11x3', 46), ('11x4', 47), ('12', 48), ('13', 49), ('14', 50), ('15', 51), ('17', 52), ('18', 53), ('18x1', 54), ('18x2', 55), ('2x4', 56), ('2x4x3', 57), ('22', 58), ('23', 59), ('24', 60), ('25', 61), ('26', 62), ('27', 63), ('3x1', 64), ('3x1x2', 65), ('3x1x7', 66), ('3x1x8x1', 67), ('3x1x8x2', 68), ('3x1x8x3', 69), ('3x4', 70), ('4x1', 71), ('4x10', 72), ('4x2', 73), ('4x2x1', 74), ('4x2x3', 75), ('4x2x4', 76), ('4x2x5', 77), ('4x3x1', 78), ('4x3x2', 79), ('4x4', 80), ('4x5', 81), ('4x6', 82), ('4x7', 83), ('4x8', 84), ('4x9', 85), ('5x1', 86), ('5x2', 87), ('5x2x1', 88), ('6', 89), ('6x1', 90), ('6x2', 91), ('8', 92), ('9', 93)])"
            ]
          },
          "metadata": {},
          "execution_count": 68
        }
      ]
    }
  ]
}