{
  "nbformat": 4,
  "nbformat_minor": 0,
  "metadata": {
    "colab": {
      "provenance": [],
      "mount_file_id": "https://github.com/Untick/InspectrumClinic_RecSys/blob/main/Paul%20Himyak/main.ipynb",
      "authorship_tag": "ABX9TyOH9xpzMLZ3JXWwz2t8O40v",
      "include_colab_link": true
    },
    "kernelspec": {
      "name": "python3",
      "display_name": "Python 3"
    },
    "language_info": {
      "name": "python"
    }
  },
  "cells": [
    {
      "cell_type": "markdown",
      "metadata": {
        "id": "view-in-github",
        "colab_type": "text"
      },
      "source": [
        "<a href=\"https://colab.research.google.com/github/Untick/InspectrumClinic_RecSys/blob/main/Paul%20Himyak/main.ipynb\" target=\"_parent\"><img src=\"https://colab.research.google.com/assets/colab-badge.svg\" alt=\"Open In Colab\"/></a>"
      ]
    },
    {
      "cell_type": "code",
      "source": [
        "import pandas as pd\n",
        "import matplotlib.pyplot as plt\n",
        "import uuid\n",
        "import re\n",
        "import numpy as np\n",
        "import seaborn as sns\n",
        "from datetime import datetime\n",
        "\n",
        "from sklearn.model_selection import train_test_split \n",
        "\n",
        "from tensorflow.keras.preprocessing.text import Tokenizer\n",
        "from tensorflow.keras.preprocessing.sequence import pad_sequences\n",
        "\n",
        "from tensorflow.keras.layers import concatenate, Embedding, Conv1D, Input, Dense, Dropout, BatchNormalization, Flatten , SpatialDropout1D, Reshape, RepeatVector, GlobalMaxPooling1D\n",
        "from tensorflow.keras.models import Model\n",
        "from tensorflow.keras.optimizers import Adam\n",
        "import tensorflow.keras.losses as keras_losses\n",
        "import tensorflow.keras.metrics as keras_metrics\n",
        "from tensorflow.keras import utils\n",
        "\n",
        "\n",
        "import gdown"
      ],
      "metadata": {
        "id": "P83i6KfIF2gd"
      },
      "execution_count": 125,
      "outputs": []
    },
    {
      "cell_type": "code",
      "execution_count": 4,
      "metadata": {
        "id": "1vSWmbjqEvHX",
        "colab": {
          "base_uri": "https://localhost:8080/",
          "height": 35
        },
        "outputId": "92935fe3-f8f7-469a-8ce1-6b6f307e6ab5"
      },
      "outputs": [
        {
          "output_type": "execute_result",
          "data": {
            "text/plain": [
              "'profpatolog_modified.xlsx'"
            ],
            "application/vnd.google.colaboratory.intrinsic+json": {
              "type": "string"
            }
          },
          "metadata": {},
          "execution_count": 4
        }
      ],
      "source": [
        "dataset_url = \"https://drive.google.com/uc?export=download&id=1ErXvN290PPthLGsb0ALpa_0aUDnvC0jg\"\n",
        "#dataset_url = \"https://docs.google.com/spreadsheets/d/1ErXvN290PPthLGsb0ALpa_0aUDnvC0jg/edit?usp=share_link&ouid=113369956649761615778&rtpof=true&sd=true\"\n",
        "dataset_filename = \"profpatolog_modified.xlsx\"\n",
        "#!wget -qc dataset_url -O dataset_filename\n",
        "gdown.download(dataset_url, output=dataset_filename, quiet=True )\n"
      ]
    },
    {
      "cell_type": "code",
      "source": [
        "df = pd.read_excel(\"profpatolog_modified.xlsx\")\n"
      ],
      "metadata": {
        "id": "c2g1o_nMF48g"
      },
      "execution_count": 5,
      "outputs": []
    },
    {
      "cell_type": "markdown",
      "source": [],
      "metadata": {
        "id": "Vso46VI_dhRx"
      }
    },
    {
      "cell_type": "code",
      "source": [
        "#Удаляем случайные вбросы\n",
        "df.drop([843, 851, 1022, 1024], inplace = True)\n",
        "\n",
        "#Убираем пустые колонки\n",
        "empty_columns = df.columns[df.isna().all()]\n",
        "df.drop(empty_columns, inplace = True, axis = 1)"
      ],
      "metadata": {
        "id": "dJT7uj6rGAtJ"
      },
      "execution_count": 6,
      "outputs": []
    },
    {
      "cell_type": "code",
      "source": [
        "del df['Unnamed: 0']"
      ],
      "metadata": {
        "id": "QHIIwbuCxZjz"
      },
      "execution_count": 7,
      "outputs": []
    },
    {
      "cell_type": "code",
      "source": [
        "FIELD_CLIENT_AGE = \"КлиентВозраст\"\n",
        "FIELD_CLIENT_BIRTH_DAY = \"КлиентДатаРождения\"\n",
        "FIELD_CLIENT_GENDER = \"КлиентПол\"\n",
        "FIELD_CLIENT_GENDER_M = 0\n",
        "FIELD_CLIENT_GENDER_F = 1\n",
        "FIELD_CONCLUSION = \"ЗаключениеМК\"\n",
        "FIELD_CONCLUSION_FIT = 0\n",
        "FIELD_CONCLUSION_PART_FIT = 1\n",
        "FIELD_CONCLUSION_NOT_FIT = 2\n",
        "\n",
        "FIELD_DISPANSARY_GROUP = \"ДиспансернаяГруппа\"\n",
        "FIELD_DISPANSARY_GROUP_I = 0\n",
        "FIELD_DISPANSARY_GROUP_II = 1\n",
        "FIELD_DISPANSARY_GROUP_III = 2\n",
        "FIELD_DISPANSARY_GROUP_OTHER = 3\n",
        "\n",
        "FIELD_HARMFUL_FACTORS = \"ВредныеФакторы\"\n",
        "\n",
        "\n",
        "FIELD_NEW_AGE_CATEGORY = \"ВозрастКатегория\"\n",
        "\n",
        "FIELD_CLIENT_PROFESSION = \"Профессия\""
      ],
      "metadata": {
        "id": "ACwbB23gGTTN"
      },
      "execution_count": 8,
      "outputs": []
    },
    {
      "cell_type": "code",
      "source": [
        "from datetime import datetime\n",
        "class MyUtils:\n",
        "  @staticmethod  \n",
        "  # Определяем функцию для расчета возраста на основе даты\n",
        "  def resolve_birthdate_to_age(date):\n",
        "    current_year = pd.Timestamp.now().year\n",
        "    age = current_year - date.year\n",
        "    return age\n",
        "  def resolve_genger(x):\n",
        "    if x == 'Мужской':\n",
        "        return FIELD_CLIENT_GENDER_M\n",
        "    elif x == 'Женский':\n",
        "        return FIELD_CLIENT_GENDER_F\n",
        "    else:\n",
        "        return None\n",
        "  def resolve_conclusion(arg):\n",
        "    try:\n",
        "      if \"Годен\" == arg:\n",
        "        return FIELD_CONCLUSION_FIT\n",
        "      elif \"Негоден\" in arg:\n",
        "        return FIELD_CONCLUSION_NOT_FIT\n",
        "      elif \"Годен\" in arg:\n",
        "        return FIELD_CONCLUSION_PART_FIT\n",
        "      else:\n",
        "        return FIELD_CONCLUSION_NOT_FIT\n",
        "    except (TypeError):\n",
        "        return None\n",
        "  def resolve_dispansary_group(arg):\n",
        "    try:\n",
        "      if arg == \"I\":\n",
        "        return FIELD_DISPANSARY_GROUP_I\n",
        "      elif arg == \"II\":\n",
        "        return FIELD_DISPANSARY_GROUP_II\n",
        "      elif \"III\" in arg :\n",
        "        return FIELD_DISPANSARY_GROUP_III\n",
        "      else:\n",
        "        return FIELD_DISPANSARY_GROUP_OTHER\n",
        "    except (TypeError):\n",
        "        return None\n",
        "  def resolve_age_to_category(arg):\n",
        "    outClass =int((arg-13)/5)\n",
        "    outClass = max(0, min(10,outClass))\n",
        "    return outClass"
      ],
      "metadata": {
        "id": "no1rdjq8gAo5"
      },
      "execution_count": 9,
      "outputs": []
    },
    {
      "cell_type": "code",
      "source": [
        "df[FIELD_CLIENT_AGE] = df[FIELD_CLIENT_BIRTH_DAY].apply(MyUtils.resolve_birthdate_to_age)"
      ],
      "metadata": {
        "id": "pDec93FchU2W"
      },
      "execution_count": 10,
      "outputs": []
    },
    {
      "cell_type": "code",
      "source": [
        "df[FIELD_NEW_AGE_CATEGORY] = df[FIELD_CLIENT_AGE].apply(MyUtils.resolve_age_to_category)"
      ],
      "metadata": {
        "id": "SvWVDJwiqG3I"
      },
      "execution_count": 11,
      "outputs": []
    },
    {
      "cell_type": "code",
      "source": [
        "df[FIELD_CLIENT_GENDER] = df[FIELD_CLIENT_GENDER].apply(lambda x: MyUtils.resolve_genger(x) if pd.notnull(x) else x)"
      ],
      "metadata": {
        "id": "LoVVmjLjht85"
      },
      "execution_count": 12,
      "outputs": []
    },
    {
      "cell_type": "code",
      "source": [
        "del df[FIELD_CLIENT_BIRTH_DAY]"
      ],
      "metadata": {
        "id": "o92c3rRThdOE"
      },
      "execution_count": 13,
      "outputs": []
    },
    {
      "cell_type": "code",
      "source": [
        "del  df[FIELD_CLIENT_AGE]"
      ],
      "metadata": {
        "id": "1O4zPcu3rRtW"
      },
      "execution_count": 14,
      "outputs": []
    },
    {
      "cell_type": "code",
      "source": [
        "df[FIELD_DISPANSARY_GROUP] = df[FIELD_DISPANSARY_GROUP].apply(MyUtils.resolve_dispansary_group)"
      ],
      "metadata": {
        "id": "A2mCflmmh8j_"
      },
      "execution_count": 15,
      "outputs": []
    },
    {
      "cell_type": "code",
      "source": [
        "df[FIELD_CONCLUSION] = df[FIELD_CONCLUSION].apply(lambda x: MyUtils.resolve_conclusion(x))"
      ],
      "metadata": {
        "id": "K_y8i4Lhids7"
      },
      "execution_count": 16,
      "outputs": []
    },
    {
      "cell_type": "code",
      "source": [
        "mkb_columns = df.filter(regex=\"(?i)МКБ10\").columns\n"
      ],
      "metadata": {
        "id": "-lZQMN7pqrMU"
      },
      "execution_count": 17,
      "outputs": []
    },
    {
      "cell_type": "code",
      "source": [
        "df[mkb_columns] = df[mkb_columns].fillna(value='Z00.0')"
      ],
      "metadata": {
        "id": "1DpU2h3L9yxO"
      },
      "execution_count": 18,
      "outputs": []
    },
    {
      "cell_type": "code",
      "source": [
        "# объединяем значения из нескольких столбцов в один массив, удаляем дубликаты\n",
        "#df['mkb'] = df.apply(lambda row: list(set([row[mkb_col_name] for mkb_col_name in mkb_columns if not pd.isna(row[mkb_col_name]) ])), axis=1)\n",
        "df['mkb'] = df.apply(lambda row: list(set([row[mkb_col_name] for mkb_col_name in mkb_columns])), axis=1)\n"
      ],
      "metadata": {
        "id": "x5kr13GK9pa0"
      },
      "execution_count": 19,
      "outputs": []
    },
    {
      "cell_type": "code",
      "source": [
        "df = df.loc[:, ~df.columns.str.contains('мкб10', case=False)]\n"
      ],
      "metadata": {
        "id": "wT1ieDEai-Uy"
      },
      "execution_count": 20,
      "outputs": []
    },
    {
      "cell_type": "code",
      "source": [
        "df[FIELD_HARMFUL_FACTORS] = df[FIELD_HARMFUL_FACTORS].str.split(\",\")"
      ],
      "metadata": {
        "colab": {
          "base_uri": "https://localhost:8080/"
        },
        "id": "O8GH_WB1ImjW",
        "outputId": "6ec7bbf4-af9a-4ae0-96f6-f7402e992dfb"
      },
      "execution_count": 21,
      "outputs": [
        {
          "output_type": "stream",
          "name": "stderr",
          "text": [
            "<ipython-input-21-5df6e72f6511>:1: SettingWithCopyWarning: \n",
            "A value is trying to be set on a copy of a slice from a DataFrame.\n",
            "Try using .loc[row_indexer,col_indexer] = value instead\n",
            "\n",
            "See the caveats in the documentation: https://pandas.pydata.org/pandas-docs/stable/user_guide/indexing.html#returning-a-view-versus-a-copy\n",
            "  df[FIELD_HARMFUL_FACTORS] = df[FIELD_HARMFUL_FACTORS].str.split(\",\")\n"
          ]
        }
      ]
    },
    {
      "cell_type": "code",
      "source": [
        "df.dropna(inplace = True)"
      ],
      "metadata": {
        "colab": {
          "base_uri": "https://localhost:8080/"
        },
        "id": "3LHxZ1wDxty6",
        "outputId": "12ec7839-2468-4f80-c032-e6b1ff00a0f9"
      },
      "execution_count": 22,
      "outputs": [
        {
          "output_type": "stream",
          "name": "stderr",
          "text": [
            "<ipython-input-22-d1ada024d2eb>:1: SettingWithCopyWarning: \n",
            "A value is trying to be set on a copy of a slice from a DataFrame\n",
            "\n",
            "See the caveats in the documentation: https://pandas.pydata.org/pandas-docs/stable/user_guide/indexing.html#returning-a-view-versus-a-copy\n",
            "  df.dropna(inplace = True)\n"
          ]
        }
      ]
    },
    {
      "cell_type": "code",
      "source": [
        "df_ohe = pd.get_dummies(df[[FIELD_CLIENT_GENDER, FIELD_DISPANSARY_GROUP, FIELD_NEW_AGE_CATEGORY]],  columns = [FIELD_CLIENT_GENDER, FIELD_DISPANSARY_GROUP, FIELD_NEW_AGE_CATEGORY] )"
      ],
      "metadata": {
        "id": "yOrH0jogzbIA"
      },
      "execution_count": 23,
      "outputs": []
    },
    {
      "cell_type": "code",
      "source": [
        "xTrain0 = df_ohe.values"
      ],
      "metadata": {
        "id": "Bm7v8sSo3_kL"
      },
      "execution_count": 24,
      "outputs": []
    },
    {
      "cell_type": "code",
      "source": [
        "xTrain0.shape"
      ],
      "metadata": {
        "colab": {
          "base_uri": "https://localhost:8080/"
        },
        "id": "w-7XmdZa5jWp",
        "outputId": "b463e696-5470-4d70-87d6-631d2848e844"
      },
      "execution_count": 25,
      "outputs": [
        {
          "output_type": "execute_result",
          "data": {
            "text/plain": [
              "(1562, 16)"
            ]
          },
          "metadata": {},
          "execution_count": 25
        }
      ]
    },
    {
      "cell_type": "code",
      "source": [
        "yTrain =  pd.get_dummies(df[FIELD_CONCLUSION]).values"
      ],
      "metadata": {
        "id": "uWqHha7N5rhy"
      },
      "execution_count": 26,
      "outputs": []
    },
    {
      "cell_type": "code",
      "source": [
        "yTrain.shape"
      ],
      "metadata": {
        "colab": {
          "base_uri": "https://localhost:8080/"
        },
        "id": "UQv52YEK6IvJ",
        "outputId": "097e67ae-bc4a-455e-dff7-e2a003a51f30"
      },
      "execution_count": 27,
      "outputs": [
        {
          "output_type": "execute_result",
          "data": {
            "text/plain": [
              "(1562, 3)"
            ]
          },
          "metadata": {},
          "execution_count": 27
        }
      ]
    },
    {
      "cell_type": "code",
      "source": [
        "df"
      ],
      "metadata": {
        "colab": {
          "base_uri": "https://localhost:8080/",
          "height": 423
        },
        "id": "DsWB3U0hoDaZ",
        "outputId": "3d9d5d14-45a8-486f-dcd6-9029d71e8fce"
      },
      "execution_count": 28,
      "outputs": [
        {
          "output_type": "execute_result",
          "data": {
            "text/plain": [
              "      КлиентПол  ЗаключениеМК  ...  ВозрастКатегория             mkb\n",
              "0             1           0.0  ...                 6         [Z00.0]\n",
              "1             0           0.0  ...                 4  [Z00.0, I11.9]\n",
              "2             0           1.0  ...                 5  [Z00.0, H52.1]\n",
              "3             0           0.0  ...                 4         [Z00.0]\n",
              "4             0           1.0  ...                 5  [Z00.0, H52.2]\n",
              "...         ...           ...  ...               ...             ...\n",
              "1960          0           0.0  ...                 4  [Z00.0, H52.1]\n",
              "1961          0           0.0  ...                 3         [Z00.0]\n",
              "1962          0           0.0  ...                 4         [Z00.0]\n",
              "1972          0           0.0  ...                 4         [Z00.0]\n",
              "1973          0           0.0  ...                 3         [Z00.0]\n",
              "\n",
              "[1562 rows x 7 columns]"
            ],
            "text/html": [
              "\n",
              "  <div id=\"df-f8db6869-cc7a-4510-a53c-8974ebfb6771\">\n",
              "    <div class=\"colab-df-container\">\n",
              "      <div>\n",
              "<style scoped>\n",
              "    .dataframe tbody tr th:only-of-type {\n",
              "        vertical-align: middle;\n",
              "    }\n",
              "\n",
              "    .dataframe tbody tr th {\n",
              "        vertical-align: top;\n",
              "    }\n",
              "\n",
              "    .dataframe thead th {\n",
              "        text-align: right;\n",
              "    }\n",
              "</style>\n",
              "<table border=\"1\" class=\"dataframe\">\n",
              "  <thead>\n",
              "    <tr style=\"text-align: right;\">\n",
              "      <th></th>\n",
              "      <th>КлиентПол</th>\n",
              "      <th>ЗаключениеМК</th>\n",
              "      <th>ДиспансернаяГруппа</th>\n",
              "      <th>ВредныеФакторы</th>\n",
              "      <th>Профессия</th>\n",
              "      <th>ВозрастКатегория</th>\n",
              "      <th>mkb</th>\n",
              "    </tr>\n",
              "  </thead>\n",
              "  <tbody>\n",
              "    <tr>\n",
              "      <th>0</th>\n",
              "      <td>1</td>\n",
              "      <td>0.0</td>\n",
              "      <td>0.0</td>\n",
              "      <td>[11.4]</td>\n",
              "      <td>Ведущий специалист по организации обуения</td>\n",
              "      <td>6</td>\n",
              "      <td>[Z00.0]</td>\n",
              "    </tr>\n",
              "    <tr>\n",
              "      <th>1</th>\n",
              "      <td>0</td>\n",
              "      <td>0.0</td>\n",
              "      <td>2.0</td>\n",
              "      <td>[4.2.5]</td>\n",
              "      <td>Ведущий специалист</td>\n",
              "      <td>4</td>\n",
              "      <td>[Z00.0, I11.9]</td>\n",
              "    </tr>\n",
              "    <tr>\n",
              "      <th>2</th>\n",
              "      <td>0</td>\n",
              "      <td>1.0</td>\n",
              "      <td>1.0</td>\n",
              "      <td>[4.2.5]</td>\n",
              "      <td>Главный менеджер</td>\n",
              "      <td>5</td>\n",
              "      <td>[Z00.0, H52.1]</td>\n",
              "    </tr>\n",
              "    <tr>\n",
              "      <th>3</th>\n",
              "      <td>0</td>\n",
              "      <td>0.0</td>\n",
              "      <td>0.0</td>\n",
              "      <td>[11.1]</td>\n",
              "      <td>Главный специалист</td>\n",
              "      <td>4</td>\n",
              "      <td>[Z00.0]</td>\n",
              "    </tr>\n",
              "    <tr>\n",
              "      <th>4</th>\n",
              "      <td>0</td>\n",
              "      <td>1.0</td>\n",
              "      <td>1.0</td>\n",
              "      <td>[11.1]</td>\n",
              "      <td>Старший специалист</td>\n",
              "      <td>5</td>\n",
              "      <td>[Z00.0, H52.2]</td>\n",
              "    </tr>\n",
              "    <tr>\n",
              "      <th>...</th>\n",
              "      <td>...</td>\n",
              "      <td>...</td>\n",
              "      <td>...</td>\n",
              "      <td>...</td>\n",
              "      <td>...</td>\n",
              "      <td>...</td>\n",
              "      <td>...</td>\n",
              "    </tr>\n",
              "    <tr>\n",
              "      <th>1960</th>\n",
              "      <td>0</td>\n",
              "      <td>0.0</td>\n",
              "      <td>1.0</td>\n",
              "      <td>[4.4, 4.5, 6.1]</td>\n",
              "      <td>Инженер</td>\n",
              "      <td>4</td>\n",
              "      <td>[Z00.0, H52.1]</td>\n",
              "    </tr>\n",
              "    <tr>\n",
              "      <th>1961</th>\n",
              "      <td>0</td>\n",
              "      <td>0.0</td>\n",
              "      <td>0.0</td>\n",
              "      <td>[4.4, 4.5, 6.1]</td>\n",
              "      <td>Инженер</td>\n",
              "      <td>3</td>\n",
              "      <td>[Z00.0]</td>\n",
              "    </tr>\n",
              "    <tr>\n",
              "      <th>1962</th>\n",
              "      <td>0</td>\n",
              "      <td>0.0</td>\n",
              "      <td>0.0</td>\n",
              "      <td>[4.4]</td>\n",
              "      <td>Начальник лаборатории</td>\n",
              "      <td>4</td>\n",
              "      <td>[Z00.0]</td>\n",
              "    </tr>\n",
              "    <tr>\n",
              "      <th>1972</th>\n",
              "      <td>0</td>\n",
              "      <td>0.0</td>\n",
              "      <td>0.0</td>\n",
              "      <td>[3.1.8.2]</td>\n",
              "      <td>Инженер по бурению 1 категории, непосредственн...</td>\n",
              "      <td>4</td>\n",
              "      <td>[Z00.0]</td>\n",
              "    </tr>\n",
              "    <tr>\n",
              "      <th>1973</th>\n",
              "      <td>0</td>\n",
              "      <td>0.0</td>\n",
              "      <td>0.0</td>\n",
              "      <td>[4.2.5, 6.1]</td>\n",
              "      <td>Приемщик вагонов в депо</td>\n",
              "      <td>3</td>\n",
              "      <td>[Z00.0]</td>\n",
              "    </tr>\n",
              "  </tbody>\n",
              "</table>\n",
              "<p>1562 rows × 7 columns</p>\n",
              "</div>\n",
              "      <button class=\"colab-df-convert\" onclick=\"convertToInteractive('df-f8db6869-cc7a-4510-a53c-8974ebfb6771')\"\n",
              "              title=\"Convert this dataframe to an interactive table.\"\n",
              "              style=\"display:none;\">\n",
              "        \n",
              "  <svg xmlns=\"http://www.w3.org/2000/svg\" height=\"24px\"viewBox=\"0 0 24 24\"\n",
              "       width=\"24px\">\n",
              "    <path d=\"M0 0h24v24H0V0z\" fill=\"none\"/>\n",
              "    <path d=\"M18.56 5.44l.94 2.06.94-2.06 2.06-.94-2.06-.94-.94-2.06-.94 2.06-2.06.94zm-11 1L8.5 8.5l.94-2.06 2.06-.94-2.06-.94L8.5 2.5l-.94 2.06-2.06.94zm10 10l.94 2.06.94-2.06 2.06-.94-2.06-.94-.94-2.06-.94 2.06-2.06.94z\"/><path d=\"M17.41 7.96l-1.37-1.37c-.4-.4-.92-.59-1.43-.59-.52 0-1.04.2-1.43.59L10.3 9.45l-7.72 7.72c-.78.78-.78 2.05 0 2.83L4 21.41c.39.39.9.59 1.41.59.51 0 1.02-.2 1.41-.59l7.78-7.78 2.81-2.81c.8-.78.8-2.07 0-2.86zM5.41 20L4 18.59l7.72-7.72 1.47 1.35L5.41 20z\"/>\n",
              "  </svg>\n",
              "      </button>\n",
              "      \n",
              "  <style>\n",
              "    .colab-df-container {\n",
              "      display:flex;\n",
              "      flex-wrap:wrap;\n",
              "      gap: 12px;\n",
              "    }\n",
              "\n",
              "    .colab-df-convert {\n",
              "      background-color: #E8F0FE;\n",
              "      border: none;\n",
              "      border-radius: 50%;\n",
              "      cursor: pointer;\n",
              "      display: none;\n",
              "      fill: #1967D2;\n",
              "      height: 32px;\n",
              "      padding: 0 0 0 0;\n",
              "      width: 32px;\n",
              "    }\n",
              "\n",
              "    .colab-df-convert:hover {\n",
              "      background-color: #E2EBFA;\n",
              "      box-shadow: 0px 1px 2px rgba(60, 64, 67, 0.3), 0px 1px 3px 1px rgba(60, 64, 67, 0.15);\n",
              "      fill: #174EA6;\n",
              "    }\n",
              "\n",
              "    [theme=dark] .colab-df-convert {\n",
              "      background-color: #3B4455;\n",
              "      fill: #D2E3FC;\n",
              "    }\n",
              "\n",
              "    [theme=dark] .colab-df-convert:hover {\n",
              "      background-color: #434B5C;\n",
              "      box-shadow: 0px 1px 3px 1px rgba(0, 0, 0, 0.15);\n",
              "      filter: drop-shadow(0px 1px 2px rgba(0, 0, 0, 0.3));\n",
              "      fill: #FFFFFF;\n",
              "    }\n",
              "  </style>\n",
              "\n",
              "      <script>\n",
              "        const buttonEl =\n",
              "          document.querySelector('#df-f8db6869-cc7a-4510-a53c-8974ebfb6771 button.colab-df-convert');\n",
              "        buttonEl.style.display =\n",
              "          google.colab.kernel.accessAllowed ? 'block' : 'none';\n",
              "\n",
              "        async function convertToInteractive(key) {\n",
              "          const element = document.querySelector('#df-f8db6869-cc7a-4510-a53c-8974ebfb6771');\n",
              "          const dataTable =\n",
              "            await google.colab.kernel.invokeFunction('convertToInteractive',\n",
              "                                                     [key], {});\n",
              "          if (!dataTable) return;\n",
              "\n",
              "          const docLinkHtml = 'Like what you see? Visit the ' +\n",
              "            '<a target=\"_blank\" href=https://colab.research.google.com/notebooks/data_table.ipynb>data table notebook</a>'\n",
              "            + ' to learn more about interactive tables.';\n",
              "          element.innerHTML = '';\n",
              "          dataTable['output_type'] = 'display_data';\n",
              "          await google.colab.output.renderOutput(dataTable, element);\n",
              "          const docLink = document.createElement('div');\n",
              "          docLink.innerHTML = docLinkHtml;\n",
              "          element.appendChild(docLink);\n",
              "        }\n",
              "      </script>\n",
              "    </div>\n",
              "  </div>\n",
              "  "
            ]
          },
          "metadata": {},
          "execution_count": 28
        }
      ]
    },
    {
      "cell_type": "code",
      "source": [
        "df['mkb'].explode().unique()"
      ],
      "metadata": {
        "colab": {
          "base_uri": "https://localhost:8080/"
        },
        "id": "YddNNL_EAwuu",
        "outputId": "71963b8d-6d7b-4a39-d85c-680c4f45e788"
      },
      "execution_count": 29,
      "outputs": [
        {
          "output_type": "execute_result",
          "data": {
            "text/plain": [
              "array(['Z00.0', 'I11.9', 'H52.1', 'H52.2', 'H53.0', 'K29.3', 'I70',\n",
              "       'H90.5', 'G90.9', 'H52.0', 'S68.2', 'N60.2', 'E11.9', 'K29.6',\n",
              "       'M42.1', 'D25', 'I69.4', 'N83.2', 'H90.3', 'K44.9', 'N80.0',\n",
              "       'G99.0', 'G12.1', 'K81.9', 'H11.0', 'G25.0', 'K26.9', 'H91.1',\n",
              "       'K86.1', 'I67.2', 'H74.1', 'N28.1', 'I83.9', 'L40.0', 'H93.0',\n",
              "       'D25.9', 'I25.8', 'K80.5', 'F06.6', 'K40.9', 'E11.8', 'E10.9',\n",
              "       'T94.0', 'F10.7', 'D35.2', 'L20.8', 'K29.5', 'H50.9', 'K80.2',\n",
              "       'I25.2', 'Q12.0', 'S51.9', 'F06.7', 'H25.0', 'I66.9', 'I67.9',\n",
              "       'K29.8', 'T90.4', 'H40.1', 'H90.4', 'F41.0', 'R25.1', 'K29.7',\n",
              "       'H47.2', 'J33.0', 'H66.1', 'K26.7', 'H02.4', 'I49.9', 'H01.0',\n",
              "       'F98.5', 'I49.8', 'J45.8', 'H35.0', 'H17.1', 'J30.1', 'F07.0',\n",
              "       'G58.9', 'J37.0', 'H25.1', 'I25.9', 'K82.9', 'J45.9', 'G90.8',\n",
              "       'K29.4'], dtype=object)"
            ]
          },
          "metadata": {},
          "execution_count": 29
        }
      ]
    },
    {
      "cell_type": "code",
      "source": [
        "tokenizer_mkb = Tokenizer()\n",
        "tokenizer_mkb.fit_on_texts(np.array(df['mkb']))\n",
        "mkb_vocab_size = len(tokenizer_mkb.word_index) + 1\n"
      ],
      "metadata": {
        "id": "5QfwEGduA77h"
      },
      "execution_count": 84,
      "outputs": []
    },
    {
      "cell_type": "code",
      "source": [
        "xMkbIndexed = tokenizer_mkb.texts_to_sequences(df['mkb'])"
      ],
      "metadata": {
        "id": "VTCD56dABj8J"
      },
      "execution_count": 86,
      "outputs": []
    },
    {
      "cell_type": "code",
      "source": [
        "mkb_max_len = max(len(sublist) for sublist in xMkbIndexed)\n",
        "#mkb_max_len = max(xMkbIndexed, key=len)\n",
        "print(mkb_max_len)"
      ],
      "metadata": {
        "colab": {
          "base_uri": "https://localhost:8080/"
        },
        "id": "Ncw4WKUkBj2E",
        "outputId": "92140dbd-95ac-45cc-bd40-6d9f9ae53542"
      },
      "execution_count": 87,
      "outputs": [
        {
          "output_type": "stream",
          "name": "stdout",
          "text": [
            "5\n"
          ]
        }
      ]
    },
    {
      "cell_type": "code",
      "source": [
        "xMkbIndexedPadded = pad_sequences(xMkbIndexed, maxlen=mkb_max_len, padding='post')\n",
        "xTrainMkb = xMkbIndexedPadded"
      ],
      "metadata": {
        "id": "mfj7L1-AZMoQ"
      },
      "execution_count": 88,
      "outputs": []
    },
    {
      "cell_type": "code",
      "source": [
        "xMkbIndexedPadded.shape"
      ],
      "metadata": {
        "colab": {
          "base_uri": "https://localhost:8080/"
        },
        "id": "iMqTEUZoCeub",
        "outputId": "8bd29d3f-44fc-4492-ba4e-77cd02c872d1"
      },
      "execution_count": 89,
      "outputs": [
        {
          "output_type": "execute_result",
          "data": {
            "text/plain": [
              "(1562, 5)"
            ]
          },
          "metadata": {},
          "execution_count": 89
        }
      ]
    },
    {
      "cell_type": "code",
      "source": [
        "tokenizer_harmfull = Tokenizer()"
      ],
      "metadata": {
        "id": "pht4dtJ1JInA"
      },
      "execution_count": 139,
      "outputs": []
    },
    {
      "cell_type": "code",
      "source": [
        "tokenizer_harmfull.fit_on_texts(df[FIELD_HARMFUL_FACTORS])\n"
      ],
      "metadata": {
        "id": "y8X4vDHzJU5a"
      },
      "execution_count": 140,
      "outputs": []
    },
    {
      "cell_type": "code",
      "source": [
        "harmfull_vocab_size = len(tokenizer_harmfull.word_index) + 1\n"
      ],
      "metadata": {
        "id": "0jc_bt24pnGl"
      },
      "execution_count": 144,
      "outputs": []
    },
    {
      "cell_type": "code",
      "source": [
        "xTrainHarmfulIndexes = tokenizer_harmfull.texts_to_sequences(df[FIELD_HARMFUL_FACTORS])"
      ],
      "metadata": {
        "id": "10IkPfDUJa9K"
      },
      "execution_count": 141,
      "outputs": []
    },
    {
      "cell_type": "code",
      "source": [
        "harm_max_len = max(len(sublist) for sublist in xTrainHarmfulIndexes)\n"
      ],
      "metadata": {
        "id": "xXhmYgtG3Viz"
      },
      "execution_count": 142,
      "outputs": []
    },
    {
      "cell_type": "code",
      "source": [
        "xTrainHarmfulIndexesPadded = pad_sequences(xTrainHarmfulIndexes, maxlen=harm_max_len, padding='post')\n",
        "xTrainHarmFull = xTrainHarmfulIndexesPadded"
      ],
      "metadata": {
        "id": "qdL0cWUxO4P5"
      },
      "execution_count": 143,
      "outputs": []
    },
    {
      "cell_type": "code",
      "source": [
        "xTrainHarmFull.shape"
      ],
      "metadata": {
        "colab": {
          "base_uri": "https://localhost:8080/"
        },
        "id": "WOVx8kwfwS6A",
        "outputId": "789aadb9-3764-42a3-c0aa-b420e910c106"
      },
      "execution_count": 40,
      "outputs": [
        {
          "output_type": "execute_result",
          "data": {
            "text/plain": [
              "(1562, 13)"
            ]
          },
          "metadata": {},
          "execution_count": 40
        }
      ]
    },
    {
      "cell_type": "code",
      "source": [
        "maxWordsCount = 1000 \n",
        "tokenizer_prof = Tokenizer(num_words=maxWordsCount, filters='!\"#$%&()*+,-–—./:;<=>?@[\\]^_`{|}~\\t\\n\\xa0', lower=True, split=' ', oov_token='unknown', char_level=False)\n",
        "tokenizer_prof.fit_on_texts(df[FIELD_CLIENT_PROFESSION]) \n"
      ],
      "metadata": {
        "id": "ASRBU5I6o3vY"
      },
      "execution_count": 41,
      "outputs": []
    },
    {
      "cell_type": "code",
      "source": [
        "prof_vocab_size = len(tokenizer_prof.word_index) + 1\n"
      ],
      "metadata": {
        "id": "yGB_OM8srHJH"
      },
      "execution_count": 158,
      "outputs": []
    },
    {
      "cell_type": "code",
      "source": [
        "xTrainProfIndexed = tokenizer_prof.texts_to_sequences(df[FIELD_CLIENT_PROFESSION])"
      ],
      "metadata": {
        "id": "wVgWnOZowdbE"
      },
      "execution_count": 42,
      "outputs": []
    },
    {
      "cell_type": "code",
      "source": [
        "prof_max_len = max(len(sublist) for sublist in xTrainProfIndexed)\n"
      ],
      "metadata": {
        "id": "vaHNOY8Lw1km"
      },
      "execution_count": 43,
      "outputs": []
    },
    {
      "cell_type": "code",
      "source": [
        "xTrainProfIndexedPadded = pad_sequences(xTrainProfIndexed, maxlen=prof_max_len, padding='post')\n",
        "xTrainProf = xTrainProfIndexedPadded"
      ],
      "metadata": {
        "id": "4V8uF098wxhE"
      },
      "execution_count": 44,
      "outputs": []
    },
    {
      "cell_type": "code",
      "source": [
        "xTrainProf.shape"
      ],
      "metadata": {
        "colab": {
          "base_uri": "https://localhost:8080/"
        },
        "id": "ahGOfkljw_Lx",
        "outputId": "b5a0d882-55b3-49e8-92b2-1dbb1ef338ac"
      },
      "execution_count": 45,
      "outputs": [
        {
          "output_type": "execute_result",
          "data": {
            "text/plain": [
              "(1562, 12)"
            ]
          },
          "metadata": {},
          "execution_count": 45
        }
      ]
    },
    {
      "cell_type": "code",
      "source": [
        "x_train, x_test, x_train_mkb, x_test_mkb, x_train_harmfull, x_test_harmfull, x_train_prof, x_test_prof,  y_train, y_test = train_test_split(xTrain0,\n",
        "                                                                                                              xTrainMkb,\n",
        "                                                                                                              xTrainHarmFull,\n",
        "                                                                                                              xTrainProf,                                                                                                              \n",
        "                                                                                                              yTrain, \n",
        "                                                                                                              test_size=0.2,\n",
        "                                                                                                              shuffle = False)"
      ],
      "metadata": {
        "id": "PFlbTaYhzEZG"
      },
      "execution_count": 145,
      "outputs": []
    },
    {
      "cell_type": "code",
      "source": [
        "input0 = Input((x_train.shape[1],))\n",
        "input_mkb = Input((x_train_mkb.shape[1],))\n",
        "input_harmfull = Input((x_train_harmfull.shape[1],))\n",
        "input_prof = Input((x_train_prof.shape[1],))"
      ],
      "metadata": {
        "id": "xBK0bLli6rua"
      },
      "execution_count": 146,
      "outputs": []
    },
    {
      "cell_type": "code",
      "source": [
        "x_train_mkb[:3,:]"
      ],
      "metadata": {
        "colab": {
          "base_uri": "https://localhost:8080/"
        },
        "id": "3aKPkrVbZKnq",
        "outputId": "e81ef713-9793-4b93-c880-acda18ec0d0a"
      },
      "execution_count": 67,
      "outputs": [
        {
          "output_type": "execute_result",
          "data": {
            "text/plain": [
              "array([[1, 0, 0, 0, 0],\n",
              "       [1, 2, 0, 0, 0],\n",
              "       [1, 3, 0, 0, 0]], dtype=int32)"
            ]
          },
          "metadata": {},
          "execution_count": 67
        }
      ]
    },
    {
      "cell_type": "code",
      "source": [
        "x0 = BatchNormalization()(input0)\n",
        "x0 = Dense(1024, activation='relu') (x0)\n",
        "x0 = BatchNormalization()(x0)\n",
        "x0 = Dropout(0.3)(x0)\n",
        "x0 = Dense(768, activation='sigmoid')(x0)\n",
        "x0 = BatchNormalization()(x0)\n",
        "x0 = Dropout(0.3)(x0)\n",
        "x0 = Dense(512, activation='sigmoid')(x0)\n",
        "\n",
        "\n",
        "x1 = Embedding(mkb_vocab_size, 10, input_length = mkb_max_len)(input_mkb)\n",
        "x1 = SpatialDropout1D(0.2)(x1)\n",
        "x1 = Dense(100, activation = 'sigmoid')(x1)\n",
        "x1 = GlobalMaxPooling1D()(x1)\n",
        "\n",
        "x2 = Embedding(harmfull_vocab_size, 10, input_length = harm_max_len)(input_harmfull)\n",
        "x2 = SpatialDropout1D(0.2)(x2)\n",
        "x2 = Dense(100, activation = 'sigmoid')(x2)\n",
        "x2 = GlobalMaxPooling1D()(x2)\n",
        "\n",
        "x3 = Embedding(prof_vocab_size, 10, input_length = prof_max_len)(input_prof)\n",
        "x3 = SpatialDropout1D(0.2)(x3)\n",
        "x3 = Dense(100, activation = 'sigmoid')(x3)\n",
        "x3 = GlobalMaxPooling1D()(x3)\n",
        "\n",
        "x = concatenate([x0, x1, x2, x3])\n",
        "\n",
        "\n",
        "x = Dense(100, activation = 'relu')(x)\n",
        "x = BatchNormalization()(x)\n",
        "x = Dropout(0.3)(x)\n",
        "x = Dense(1, activation='linear')(x)\n",
        "\n",
        "model = Model((input0, input_mkb, input_harmfull, input_prof), x )\n",
        "utils.plot_model(model, dpi=60, show_shapes = True)\n"
      ],
      "metadata": {
        "colab": {
          "base_uri": "https://localhost:8080/",
          "height": 962
        },
        "id": "1S2NAzZw8Um2",
        "outputId": "198841ac-3298-49ba-b2b9-104555927e73"
      },
      "execution_count": 160,
      "outputs": [
        {
          "output_type": "execute_result",
          "data": {
            "image/png": "[encoded data removed]",
            "text/plain": [
              "<IPython.core.display.Image object>"
            ]
          },
          "metadata": {},
          "execution_count": 160
        }
      ]
    },
    {
      "cell_type": "code",
      "source": [
        "model.compile(optimizer = Adam(learning_rate = 0.0003), loss = keras_losses.mse, metrics=[keras_metrics.mae])"
      ],
      "metadata": {
        "id": "CTNtSx_GVWkS"
      },
      "execution_count": 165,
      "outputs": []
    },
    {
      "cell_type": "code",
      "source": [
        "\n",
        "# Визуальная оценка ошибки на обучающей и проверочной выборках\n",
        "\n",
        "def compare_sharp_loss (history, x_size, y_size):\n",
        "  \n",
        "  plt.figure(figsize=(x_size,y_size))\n",
        "  plt.plot(history.history['loss'], \n",
        "         label='Ошибка на обучающей выборке')\n",
        "  \n",
        "  plt.plot(history.history['val_loss'], \n",
        "         label='Ошибка проверочном наборе')\n",
        "  plt.xlabel('Эпоха обучения')\n",
        "  plt.ylabel('Средняя ошибка')\n",
        "  plt.legend()\n",
        "  plt.show()"
      ],
      "metadata": {
        "id": "WPAL3J7rnIWW"
      },
      "execution_count": 162,
      "outputs": []
    },
    {
      "cell_type": "code",
      "source": [
        "history = model.fit([x_train, x_train_mkb, x_train_harmfull, x_train_prof],\n",
        "                    y_train,\n",
        "                    batch_size=256,\n",
        "                    epochs = 100,\n",
        "                    validation_split = 0.15,\n",
        "                    verbose = 1)"
      ],
      "metadata": {
        "colab": {
          "base_uri": "https://localhost:8080/"
        },
        "id": "lZAupbFKWh7p",
        "outputId": "78692c40-342b-41db-d876-12b9f67c3228"
      },
      "execution_count": 166,
      "outputs": [
        {
          "output_type": "stream",
          "name": "stdout",
          "text": [
            "Epoch 1/100\n",
            "5/5 [==============================] - 5s 176ms/step - loss: 1.7940 - mean_absolute_error: 1.0653 - val_loss: 0.2575 - val_mean_absolute_error: 0.3819\n",
            "Epoch 2/100\n",
            "5/5 [==============================] - 0s 81ms/step - loss: 1.3370 - mean_absolute_error: 0.9107 - val_loss: 0.3412 - val_mean_absolute_error: 0.3450\n",
            "Epoch 3/100\n",
            "5/5 [==============================] - 0s 82ms/step - loss: 1.1209 - mean_absolute_error: 0.8409 - val_loss: 0.5702 - val_mean_absolute_error: 0.5899\n",
            "Epoch 4/100\n",
            "5/5 [==============================] - 0s 69ms/step - loss: 0.9103 - mean_absolute_error: 0.7583 - val_loss: 0.9135 - val_mean_absolute_error: 0.8314\n",
            "Epoch 5/100\n",
            "5/5 [==============================] - 0s 69ms/step - loss: 0.9245 - mean_absolute_error: 0.7597 - val_loss: 1.2220 - val_mean_absolute_error: 0.9999\n",
            "Epoch 6/100\n",
            "5/5 [==============================] - 0s 70ms/step - loss: 0.8592 - mean_absolute_error: 0.7386 - val_loss: 1.2223 - val_mean_absolute_error: 1.0000\n",
            "Epoch 7/100\n",
            "5/5 [==============================] - 0s 76ms/step - loss: 0.8254 - mean_absolute_error: 0.7248 - val_loss: 1.2125 - val_mean_absolute_error: 0.9951\n",
            "Epoch 8/100\n",
            "5/5 [==============================] - 0s 79ms/step - loss: 0.8333 - mean_absolute_error: 0.7292 - val_loss: 1.1829 - val_mean_absolute_error: 0.9801\n",
            "Epoch 9/100\n",
            "5/5 [==============================] - 0s 80ms/step - loss: 0.8131 - mean_absolute_error: 0.7200 - val_loss: 1.0888 - val_mean_absolute_error: 0.9309\n",
            "Epoch 10/100\n",
            "5/5 [==============================] - 0s 79ms/step - loss: 0.8077 - mean_absolute_error: 0.7160 - val_loss: 1.0531 - val_mean_absolute_error: 0.9115\n",
            "Epoch 11/100\n",
            "5/5 [==============================] - 0s 81ms/step - loss: 0.7173 - mean_absolute_error: 0.6785 - val_loss: 1.0216 - val_mean_absolute_error: 0.8941\n",
            "Epoch 12/100\n",
            "5/5 [==============================] - 0s 76ms/step - loss: 0.7618 - mean_absolute_error: 0.6964 - val_loss: 0.9947 - val_mean_absolute_error: 0.8789\n",
            "Epoch 13/100\n",
            "5/5 [==============================] - 0s 84ms/step - loss: 0.7274 - mean_absolute_error: 0.6847 - val_loss: 0.9484 - val_mean_absolute_error: 0.8521\n",
            "Epoch 14/100\n",
            "5/5 [==============================] - 0s 77ms/step - loss: 0.7026 - mean_absolute_error: 0.6744 - val_loss: 1.0271 - val_mean_absolute_error: 0.8971\n",
            "Epoch 15/100\n",
            "5/5 [==============================] - 0s 81ms/step - loss: 0.6981 - mean_absolute_error: 0.6637 - val_loss: 1.1801 - val_mean_absolute_error: 0.9787\n",
            "Epoch 16/100\n",
            "5/5 [==============================] - 0s 79ms/step - loss: 0.6907 - mean_absolute_error: 0.6639 - val_loss: 1.2963 - val_mean_absolute_error: 1.0363\n",
            "Epoch 17/100\n",
            "5/5 [==============================] - 0s 79ms/step - loss: 0.6597 - mean_absolute_error: 0.6518 - val_loss: 1.2278 - val_mean_absolute_error: 1.0027\n",
            "Epoch 18/100\n",
            "5/5 [==============================] - 0s 81ms/step - loss: 0.6790 - mean_absolute_error: 0.6623 - val_loss: 1.0857 - val_mean_absolute_error: 0.9292\n",
            "Epoch 19/100\n",
            "5/5 [==============================] - 0s 78ms/step - loss: 0.7062 - mean_absolute_error: 0.6712 - val_loss: 0.9092 - val_mean_absolute_error: 0.8288\n",
            "Epoch 20/100\n",
            "5/5 [==============================] - 0s 102ms/step - loss: 0.6738 - mean_absolute_error: 0.6591 - val_loss: 0.6922 - val_mean_absolute_error: 0.6855\n",
            "Epoch 21/100\n",
            "5/5 [==============================] - 1s 133ms/step - loss: 0.6674 - mean_absolute_error: 0.6553 - val_loss: 0.5234 - val_mean_absolute_error: 0.5487\n",
            "Epoch 22/100\n",
            "5/5 [==============================] - 1s 123ms/step - loss: 0.6470 - mean_absolute_error: 0.6441 - val_loss: 0.4289 - val_mean_absolute_error: 0.4544\n",
            "Epoch 23/100\n",
            "5/5 [==============================] - 1s 139ms/step - loss: 0.6225 - mean_absolute_error: 0.6338 - val_loss: 0.3916 - val_mean_absolute_error: 0.4113\n",
            "Epoch 24/100\n",
            "5/5 [==============================] - 1s 127ms/step - loss: 0.6599 - mean_absolute_error: 0.6522 - val_loss: 0.3920 - val_mean_absolute_error: 0.4119\n",
            "Epoch 25/100\n",
            "5/5 [==============================] - 1s 123ms/step - loss: 0.6030 - mean_absolute_error: 0.6300 - val_loss: 0.3860 - val_mean_absolute_error: 0.4043\n",
            "Epoch 26/100\n",
            "5/5 [==============================] - 1s 125ms/step - loss: 0.6091 - mean_absolute_error: 0.6286 - val_loss: 0.3787 - val_mean_absolute_error: 0.3952\n",
            "Epoch 27/100\n",
            "5/5 [==============================] - 0s 91ms/step - loss: 0.6102 - mean_absolute_error: 0.6305 - val_loss: 0.4032 - val_mean_absolute_error: 0.4251\n",
            "Epoch 28/100\n",
            "5/5 [==============================] - 0s 81ms/step - loss: 0.6080 - mean_absolute_error: 0.6284 - val_loss: 0.4324 - val_mean_absolute_error: 0.4581\n",
            "Epoch 29/100\n",
            "5/5 [==============================] - 0s 78ms/step - loss: 0.6055 - mean_absolute_error: 0.6269 - val_loss: 0.4053 - val_mean_absolute_error: 0.4275\n",
            "Epoch 30/100\n",
            "5/5 [==============================] - 0s 83ms/step - loss: 0.6253 - mean_absolute_error: 0.6349 - val_loss: 0.4026 - val_mean_absolute_error: 0.4244\n",
            "Epoch 31/100\n",
            "5/5 [==============================] - 0s 81ms/step - loss: 0.5881 - mean_absolute_error: 0.6210 - val_loss: 0.3840 - val_mean_absolute_error: 0.4017\n",
            "Epoch 32/100\n",
            "5/5 [==============================] - 0s 76ms/step - loss: 0.5770 - mean_absolute_error: 0.6127 - val_loss: 0.3684 - val_mean_absolute_error: 0.3834\n",
            "Epoch 33/100\n",
            "5/5 [==============================] - 0s 77ms/step - loss: 0.5979 - mean_absolute_error: 0.6174 - val_loss: 0.3604 - val_mean_absolute_error: 0.3724\n",
            "Epoch 34/100\n",
            "5/5 [==============================] - 0s 79ms/step - loss: 0.5878 - mean_absolute_error: 0.6196 - val_loss: 0.3064 - val_mean_absolute_error: 0.3479\n",
            "Epoch 35/100\n",
            "5/5 [==============================] - 0s 83ms/step - loss: 0.5672 - mean_absolute_error: 0.6097 - val_loss: 0.2508 - val_mean_absolute_error: 0.3884\n",
            "Epoch 36/100\n",
            "5/5 [==============================] - 0s 77ms/step - loss: 0.5855 - mean_absolute_error: 0.6155 - val_loss: 0.2279 - val_mean_absolute_error: 0.4204\n",
            "Epoch 37/100\n",
            "5/5 [==============================] - 0s 74ms/step - loss: 0.5411 - mean_absolute_error: 0.5955 - val_loss: 0.2261 - val_mean_absolute_error: 0.4250\n",
            "Epoch 38/100\n",
            "5/5 [==============================] - 0s 80ms/step - loss: 0.5634 - mean_absolute_error: 0.6094 - val_loss: 0.2306 - val_mean_absolute_error: 0.4155\n",
            "Epoch 39/100\n",
            "5/5 [==============================] - 0s 74ms/step - loss: 0.5715 - mean_absolute_error: 0.6091 - val_loss: 0.2237 - val_mean_absolute_error: 0.4364\n",
            "Epoch 40/100\n",
            "5/5 [==============================] - 0s 78ms/step - loss: 0.5590 - mean_absolute_error: 0.6052 - val_loss: 0.2241 - val_mean_absolute_error: 0.4535\n",
            "Epoch 41/100\n",
            "5/5 [==============================] - 0s 75ms/step - loss: 0.5535 - mean_absolute_error: 0.6033 - val_loss: 0.2231 - val_mean_absolute_error: 0.4421\n",
            "Epoch 42/100\n",
            "5/5 [==============================] - 0s 69ms/step - loss: 0.5625 - mean_absolute_error: 0.6049 - val_loss: 0.2235 - val_mean_absolute_error: 0.4526\n",
            "Epoch 43/100\n",
            "5/5 [==============================] - 0s 74ms/step - loss: 0.5380 - mean_absolute_error: 0.5938 - val_loss: 0.2291 - val_mean_absolute_error: 0.4698\n",
            "Epoch 44/100\n",
            "5/5 [==============================] - 0s 69ms/step - loss: 0.5523 - mean_absolute_error: 0.6024 - val_loss: 0.2396 - val_mean_absolute_error: 0.4869\n",
            "Epoch 45/100\n",
            "5/5 [==============================] - 0s 75ms/step - loss: 0.5358 - mean_absolute_error: 0.5919 - val_loss: 0.2581 - val_mean_absolute_error: 0.5065\n",
            "Epoch 46/100\n",
            "5/5 [==============================] - 0s 74ms/step - loss: 0.5227 - mean_absolute_error: 0.5862 - val_loss: 0.2576 - val_mean_absolute_error: 0.5058\n",
            "Epoch 47/100\n",
            "5/5 [==============================] - 0s 71ms/step - loss: 0.5170 - mean_absolute_error: 0.5816 - val_loss: 0.2595 - val_mean_absolute_error: 0.5072\n",
            "Epoch 48/100\n",
            "5/5 [==============================] - 0s 68ms/step - loss: 0.5323 - mean_absolute_error: 0.5916 - val_loss: 0.2474 - val_mean_absolute_error: 0.4958\n",
            "Epoch 49/100\n",
            "5/5 [==============================] - 0s 76ms/step - loss: 0.5212 - mean_absolute_error: 0.5843 - val_loss: 0.2400 - val_mean_absolute_error: 0.4875\n",
            "Epoch 50/100\n",
            "5/5 [==============================] - 0s 84ms/step - loss: 0.5232 - mean_absolute_error: 0.5878 - val_loss: 0.2336 - val_mean_absolute_error: 0.4766\n",
            "Epoch 51/100\n",
            "5/5 [==============================] - 0s 74ms/step - loss: 0.5010 - mean_absolute_error: 0.5732 - val_loss: 0.2297 - val_mean_absolute_error: 0.4657\n",
            "Epoch 52/100\n",
            "5/5 [==============================] - 0s 79ms/step - loss: 0.4896 - mean_absolute_error: 0.5709 - val_loss: 0.2291 - val_mean_absolute_error: 0.4649\n",
            "Epoch 53/100\n",
            "5/5 [==============================] - 1s 137ms/step - loss: 0.5116 - mean_absolute_error: 0.5798 - val_loss: 0.2272 - val_mean_absolute_error: 0.4639\n",
            "Epoch 54/100\n",
            "5/5 [==============================] - 1s 129ms/step - loss: 0.4982 - mean_absolute_error: 0.5695 - val_loss: 0.2275 - val_mean_absolute_error: 0.4641\n",
            "Epoch 55/100\n",
            "5/5 [==============================] - 1s 139ms/step - loss: 0.4813 - mean_absolute_error: 0.5616 - val_loss: 0.2266 - val_mean_absolute_error: 0.4611\n",
            "Epoch 56/100\n",
            "5/5 [==============================] - 1s 128ms/step - loss: 0.5003 - mean_absolute_error: 0.5734 - val_loss: 0.2255 - val_mean_absolute_error: 0.4434\n",
            "Epoch 57/100\n",
            "5/5 [==============================] - 1s 138ms/step - loss: 0.4953 - mean_absolute_error: 0.5726 - val_loss: 0.2290 - val_mean_absolute_error: 0.4306\n",
            "Epoch 58/100\n",
            "5/5 [==============================] - 1s 143ms/step - loss: 0.4875 - mean_absolute_error: 0.5655 - val_loss: 0.2341 - val_mean_absolute_error: 0.4135\n",
            "Epoch 59/100\n",
            "5/5 [==============================] - 1s 100ms/step - loss: 0.4933 - mean_absolute_error: 0.5688 - val_loss: 0.2408 - val_mean_absolute_error: 0.4001\n",
            "Epoch 60/100\n",
            "5/5 [==============================] - 0s 85ms/step - loss: 0.4870 - mean_absolute_error: 0.5695 - val_loss: 0.2408 - val_mean_absolute_error: 0.4005\n",
            "Epoch 61/100\n",
            "5/5 [==============================] - 0s 78ms/step - loss: 0.4876 - mean_absolute_error: 0.5664 - val_loss: 0.2352 - val_mean_absolute_error: 0.4085\n",
            "Epoch 62/100\n",
            "5/5 [==============================] - 0s 80ms/step - loss: 0.4730 - mean_absolute_error: 0.5577 - val_loss: 0.2326 - val_mean_absolute_error: 0.4137\n",
            "Epoch 63/100\n",
            "5/5 [==============================] - 0s 82ms/step - loss: 0.4573 - mean_absolute_error: 0.5528 - val_loss: 0.2403 - val_mean_absolute_error: 0.4033\n",
            "Epoch 64/100\n",
            "5/5 [==============================] - 0s 80ms/step - loss: 0.4759 - mean_absolute_error: 0.5594 - val_loss: 0.2478 - val_mean_absolute_error: 0.3961\n",
            "Epoch 65/100\n",
            "5/5 [==============================] - 0s 78ms/step - loss: 0.4693 - mean_absolute_error: 0.5569 - val_loss: 0.2454 - val_mean_absolute_error: 0.3977\n",
            "Epoch 66/100\n",
            "5/5 [==============================] - 0s 76ms/step - loss: 0.4755 - mean_absolute_error: 0.5621 - val_loss: 0.2490 - val_mean_absolute_error: 0.3921\n",
            "Epoch 67/100\n",
            "5/5 [==============================] - 0s 69ms/step - loss: 0.4619 - mean_absolute_error: 0.5549 - val_loss: 0.2528 - val_mean_absolute_error: 0.3891\n",
            "Epoch 68/100\n",
            "5/5 [==============================] - 0s 76ms/step - loss: 0.4598 - mean_absolute_error: 0.5524 - val_loss: 0.2659 - val_mean_absolute_error: 0.3763\n",
            "Epoch 69/100\n",
            "5/5 [==============================] - 0s 73ms/step - loss: 0.4521 - mean_absolute_error: 0.5432 - val_loss: 0.2880 - val_mean_absolute_error: 0.3601\n",
            "Epoch 70/100\n",
            "5/5 [==============================] - 0s 74ms/step - loss: 0.4439 - mean_absolute_error: 0.5432 - val_loss: 0.3015 - val_mean_absolute_error: 0.3537\n",
            "Epoch 71/100\n",
            "5/5 [==============================] - 0s 74ms/step - loss: 0.4330 - mean_absolute_error: 0.5417 - val_loss: 0.3078 - val_mean_absolute_error: 0.3489\n",
            "Epoch 72/100\n",
            "5/5 [==============================] - 0s 71ms/step - loss: 0.4237 - mean_absolute_error: 0.5315 - val_loss: 0.3041 - val_mean_absolute_error: 0.3523\n",
            "Epoch 73/100\n",
            "5/5 [==============================] - 0s 79ms/step - loss: 0.4505 - mean_absolute_error: 0.5479 - val_loss: 0.2992 - val_mean_absolute_error: 0.3549\n",
            "Epoch 74/100\n",
            "5/5 [==============================] - 0s 81ms/step - loss: 0.4287 - mean_absolute_error: 0.5364 - val_loss: 0.2941 - val_mean_absolute_error: 0.3581\n",
            "Epoch 75/100\n",
            "5/5 [==============================] - 0s 80ms/step - loss: 0.4421 - mean_absolute_error: 0.5440 - val_loss: 0.2854 - val_mean_absolute_error: 0.3612\n",
            "Epoch 76/100\n",
            "5/5 [==============================] - 0s 81ms/step - loss: 0.4279 - mean_absolute_error: 0.5372 - val_loss: 0.2784 - val_mean_absolute_error: 0.3661\n",
            "Epoch 77/100\n",
            "5/5 [==============================] - 0s 81ms/step - loss: 0.4278 - mean_absolute_error: 0.5367 - val_loss: 0.2743 - val_mean_absolute_error: 0.3693\n",
            "Epoch 78/100\n",
            "5/5 [==============================] - 0s 83ms/step - loss: 0.4244 - mean_absolute_error: 0.5349 - val_loss: 0.2799 - val_mean_absolute_error: 0.3660\n",
            "Epoch 79/100\n",
            "5/5 [==============================] - 0s 83ms/step - loss: 0.4171 - mean_absolute_error: 0.5282 - val_loss: 0.2817 - val_mean_absolute_error: 0.3678\n",
            "Epoch 80/100\n",
            "5/5 [==============================] - 0s 78ms/step - loss: 0.4265 - mean_absolute_error: 0.5368 - val_loss: 0.2840 - val_mean_absolute_error: 0.3639\n",
            "Epoch 81/100\n",
            "5/5 [==============================] - 0s 90ms/step - loss: 0.3974 - mean_absolute_error: 0.5212 - val_loss: 0.2817 - val_mean_absolute_error: 0.3668\n",
            "Epoch 82/100\n",
            "5/5 [==============================] - 0s 80ms/step - loss: 0.4049 - mean_absolute_error: 0.5211 - val_loss: 0.2771 - val_mean_absolute_error: 0.3684\n",
            "Epoch 83/100\n",
            "5/5 [==============================] - 0s 78ms/step - loss: 0.4124 - mean_absolute_error: 0.5257 - val_loss: 0.2656 - val_mean_absolute_error: 0.3761\n",
            "Epoch 84/100\n",
            "5/5 [==============================] - 0s 96ms/step - loss: 0.3889 - mean_absolute_error: 0.5130 - val_loss: 0.2539 - val_mean_absolute_error: 0.3864\n",
            "Epoch 85/100\n",
            "5/5 [==============================] - 1s 135ms/step - loss: 0.4052 - mean_absolute_error: 0.5212 - val_loss: 0.2424 - val_mean_absolute_error: 0.3986\n",
            "Epoch 86/100\n",
            "5/5 [==============================] - 1s 121ms/step - loss: 0.4148 - mean_absolute_error: 0.5280 - val_loss: 0.2402 - val_mean_absolute_error: 0.4017\n",
            "Epoch 87/100\n",
            "5/5 [==============================] - 1s 148ms/step - loss: 0.3924 - mean_absolute_error: 0.5170 - val_loss: 0.2402 - val_mean_absolute_error: 0.4018\n",
            "Epoch 88/100\n",
            "5/5 [==============================] - 1s 140ms/step - loss: 0.3821 - mean_absolute_error: 0.5132 - val_loss: 0.2414 - val_mean_absolute_error: 0.4015\n",
            "Epoch 89/100\n",
            "5/5 [==============================] - 1s 134ms/step - loss: 0.3907 - mean_absolute_error: 0.5112 - val_loss: 0.2413 - val_mean_absolute_error: 0.4012\n",
            "Epoch 90/100\n",
            "5/5 [==============================] - 1s 146ms/step - loss: 0.3966 - mean_absolute_error: 0.5181 - val_loss: 0.2448 - val_mean_absolute_error: 0.3961\n",
            "Epoch 91/100\n",
            "5/5 [==============================] - 0s 80ms/step - loss: 0.3873 - mean_absolute_error: 0.5127 - val_loss: 0.2508 - val_mean_absolute_error: 0.3900\n",
            "Epoch 92/100\n",
            "5/5 [==============================] - 0s 83ms/step - loss: 0.3794 - mean_absolute_error: 0.5068 - val_loss: 0.2554 - val_mean_absolute_error: 0.3855\n",
            "Epoch 93/100\n",
            "5/5 [==============================] - 0s 78ms/step - loss: 0.3821 - mean_absolute_error: 0.5092 - val_loss: 0.2542 - val_mean_absolute_error: 0.3864\n",
            "Epoch 94/100\n",
            "5/5 [==============================] - 0s 86ms/step - loss: 0.3802 - mean_absolute_error: 0.5121 - val_loss: 0.2515 - val_mean_absolute_error: 0.3891\n",
            "Epoch 95/100\n",
            "5/5 [==============================] - 0s 73ms/step - loss: 0.3846 - mean_absolute_error: 0.5100 - val_loss: 0.2474 - val_mean_absolute_error: 0.3933\n",
            "Epoch 96/100\n",
            "5/5 [==============================] - 0s 72ms/step - loss: 0.3794 - mean_absolute_error: 0.5086 - val_loss: 0.2417 - val_mean_absolute_error: 0.4000\n",
            "Epoch 97/100\n",
            "5/5 [==============================] - 0s 80ms/step - loss: 0.3674 - mean_absolute_error: 0.4993 - val_loss: 0.2338 - val_mean_absolute_error: 0.4107\n",
            "Epoch 98/100\n",
            "5/5 [==============================] - 0s 79ms/step - loss: 0.3721 - mean_absolute_error: 0.5055 - val_loss: 0.2286 - val_mean_absolute_error: 0.4208\n",
            "Epoch 99/100\n",
            "5/5 [==============================] - 0s 78ms/step - loss: 0.3757 - mean_absolute_error: 0.5037 - val_loss: 0.2247 - val_mean_absolute_error: 0.4308\n",
            "Epoch 100/100\n",
            "5/5 [==============================] - 0s 72ms/step - loss: 0.3624 - mean_absolute_error: 0.4999 - val_loss: 0.2233 - val_mean_absolute_error: 0.4373\n"
          ]
        }
      ]
    },
    {
      "cell_type": "code",
      "source": [
        "compare_sharp_loss(history, 10, 4)"
      ],
      "metadata": {
        "colab": {
          "base_uri": "https://localhost:8080/",
          "height": 388
        },
        "id": "1FPBsoMznK7C",
        "outputId": "491aba01-bafb-4c99-fd58-a76f90059e22"
      },
      "execution_count": 167,
      "outputs": [
        {
          "output_type": "display_data",
          "data": {
            "text/plain": [
              "<Figure size 1000x400 with 1 Axes>"
            ],
            "image/png": "[encoded data removed]"
          },
          "metadata": {}
        }
      ]
    }
  ]
}