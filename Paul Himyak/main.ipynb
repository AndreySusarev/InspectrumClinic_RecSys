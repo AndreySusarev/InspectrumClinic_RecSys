{
  "nbformat": 4,
  "nbformat_minor": 0,
  "metadata": {
    "colab": {
      "provenance": [],
      "mount_file_id": "https://github.com/Untick/InspectrumClinic_RecSys/blob/main/Paul%20Himyak/main.ipynb",
      "authorship_tag": "ABX9TyOnKE8uU2InY+3CKY7uD3xl",
      "include_colab_link": true
    },
    "kernelspec": {
      "name": "python3",
      "display_name": "Python 3"
    },
    "language_info": {
      "name": "python"
    }
  },
  "cells": [
    {
      "cell_type": "markdown",
      "metadata": {
        "id": "view-in-github",
        "colab_type": "text"
      },
      "source": [
        "<a href=\"https://colab.research.google.com/github/Untick/InspectrumClinic_RecSys/blob/main/Paul%20Himyak/main.ipynb\" target=\"_parent\"><img src=\"https://colab.research.google.com/assets/colab-badge.svg\" alt=\"Open In Colab\"/></a>"
      ]
    },
    {
      "cell_type": "code",
      "source": [
        "import pandas as pd\n",
        "import matplotlib.pyplot as plt\n",
        "import uuid\n",
        "import re\n",
        "import numpy as np\n",
        "import seaborn as sns\n",
        "from datetime import datetime\n",
        "\n",
        "from tensorflow.keras.preprocessing.text import Tokenizer\n",
        "from tensorflow.keras.preprocessing.sequence import pad_sequences\n",
        "\n",
        "import gdown"
      ],
      "metadata": {
        "id": "P83i6KfIF2gd"
      },
      "execution_count": 322,
      "outputs": []
    },
    {
      "cell_type": "code",
      "execution_count": 323,
      "metadata": {
        "id": "1vSWmbjqEvHX",
        "colab": {
          "base_uri": "https://localhost:8080/",
          "height": 35
        },
        "outputId": "ac1fc729-4b96-4738-8941-a79cef1e2d44"
      },
      "outputs": [
        {
          "output_type": "execute_result",
          "data": {
            "text/plain": [
              "'profpatolog_modified.xlsx'"
            ],
            "application/vnd.google.colaboratory.intrinsic+json": {
              "type": "string"
            }
          },
          "metadata": {},
          "execution_count": 323
        }
      ],
      "source": [
        "dataset_url = \"https://drive.google.com/uc?export=download&id=1ErXvN290PPthLGsb0ALpa_0aUDnvC0jg\"\n",
        "#dataset_url = \"https://docs.google.com/spreadsheets/d/1ErXvN290PPthLGsb0ALpa_0aUDnvC0jg/edit?usp=share_link&ouid=113369956649761615778&rtpof=true&sd=true\"\n",
        "dataset_filename = \"profpatolog_modified.xlsx\"\n",
        "#!wget -qc dataset_url -O dataset_filename\n",
        "gdown.download(dataset_url, output=dataset_filename, quiet=True )\n"
      ]
    },
    {
      "cell_type": "code",
      "source": [
        "df = pd.read_excel(\"profpatolog_modified.xlsx\")\n"
      ],
      "metadata": {
        "id": "c2g1o_nMF48g"
      },
      "execution_count": 324,
      "outputs": []
    },
    {
      "cell_type": "markdown",
      "source": [],
      "metadata": {
        "id": "Vso46VI_dhRx"
      }
    },
    {
      "cell_type": "code",
      "source": [
        "#Удаляем случайные вбросы\n",
        "df.drop([843, 851, 1022, 1024], inplace = True)\n",
        "\n",
        "#Убираем пустые колонки\n",
        "empty_columns = df.columns[df.isna().all()]\n",
        "df.drop(empty_columns, inplace = True, axis = 1)"
      ],
      "metadata": {
        "id": "dJT7uj6rGAtJ"
      },
      "execution_count": 325,
      "outputs": []
    },
    {
      "cell_type": "code",
      "source": [
        "del df['Unnamed: 0']"
      ],
      "metadata": {
        "id": "QHIIwbuCxZjz"
      },
      "execution_count": 366,
      "outputs": []
    },
    {
      "cell_type": "code",
      "source": [
        "FIELD_CLIENT_AGE = \"КлиентВозраст\"\n",
        "FIELD_CLIENT_BIRTH_DAY = \"КлиентДатаРождения\"\n",
        "FIELD_CLIENT_GENDER = \"КлиентПол\"\n",
        "FIELD_CLIENT_GENDER_M = 0\n",
        "FIELD_CLIENT_GENDER_F = 1\n",
        "FIELD_CONCLUSION = \"ЗаключениеМК\"\n",
        "FIELD_CONCLUSION_FIT = 0\n",
        "FIELD_CONCLUSION_PART_FIT = 1\n",
        "FIELD_CONCLUSION_NOT_FIT = 2\n",
        "\n",
        "FIELD_DISPANSARY_GROUP = \"ДиспансернаяГруппа\"\n",
        "FIELD_DISPANSARY_GROUP_I = 0\n",
        "FIELD_DISPANSARY_GROUP_II = 1\n",
        "FIELD_DISPANSARY_GROUP_III = 2\n",
        "FIELD_DISPANSARY_GROUP_OTHER = 3\n",
        "\n",
        "FIELD_HARMFUL_FACTORS = \"ВредныеФакторы\"\n",
        "\n",
        "\n",
        "FIELD_NEW_AGE_CATEGORY = \"ВозрастКатегория\"\n",
        "\n",
        "FIELD_CLIENT_PROFESSION = \"Профессия\""
      ],
      "metadata": {
        "id": "ACwbB23gGTTN"
      },
      "execution_count": 326,
      "outputs": []
    },
    {
      "cell_type": "code",
      "source": [
        "from datetime import datetime\n",
        "class MyUtils:\n",
        "  @staticmethod  \n",
        "  # Определяем функцию для расчета возраста на основе даты\n",
        "  def resolve_birthdate_to_age(date):\n",
        "    current_year = pd.Timestamp.now().year\n",
        "    age = current_year - date.year\n",
        "    return age\n",
        "  def resolve_genger(x):\n",
        "    if x == 'Мужской':\n",
        "        return FIELD_CLIENT_GENDER_M\n",
        "    elif x == 'Женский':\n",
        "        return FIELD_CLIENT_GENDER_F\n",
        "    else:\n",
        "        return None\n",
        "  def resolve_conclusion(arg):\n",
        "    try:\n",
        "      if \"Годен\" == arg:\n",
        "        return FIELD_CONCLUSION_FIT\n",
        "      elif \"Негоден\" in arg:\n",
        "        return FIELD_CONCLUSION_NOT_FIT\n",
        "      elif \"Годен\" in arg:\n",
        "        return FIELD_CONCLUSION_PART_FIT\n",
        "      else:\n",
        "        return FIELD_CONCLUSION_NOT_FIT\n",
        "    except (TypeError):\n",
        "        return None\n",
        "  def resolve_dispansary_group(arg):\n",
        "    try:\n",
        "      if arg == \"I\":\n",
        "        return FIELD_DISPANSARY_GROUP_I\n",
        "      elif arg == \"II\":\n",
        "        return FIELD_DISPANSARY_GROUP_II\n",
        "      elif \"III\" in arg :\n",
        "        return FIELD_DISPANSARY_GROUP_III\n",
        "      else:\n",
        "        return FIELD_DISPANSARY_GROUP_OTHER\n",
        "    except (TypeError):\n",
        "        return None\n",
        "  def resolve_age_to_category(arg):\n",
        "    outClass =int((arg-13)/5)\n",
        "    outClass = max(0, min(10,outClass))\n",
        "    return outClass"
      ],
      "metadata": {
        "id": "no1rdjq8gAo5"
      },
      "execution_count": 327,
      "outputs": []
    },
    {
      "cell_type": "code",
      "source": [
        "df[FIELD_CLIENT_AGE] = df[FIELD_CLIENT_BIRTH_DAY].apply(MyUtils.resolve_birthdate_to_age)"
      ],
      "metadata": {
        "id": "pDec93FchU2W"
      },
      "execution_count": 328,
      "outputs": []
    },
    {
      "cell_type": "code",
      "source": [
        "df[FIELD_NEW_AGE_CATEGORY] = df[FIELD_CLIENT_AGE].apply(MyUtils.resolve_age_to_category)"
      ],
      "metadata": {
        "id": "SvWVDJwiqG3I"
      },
      "execution_count": 329,
      "outputs": []
    },
    {
      "cell_type": "code",
      "source": [
        "df[FIELD_CLIENT_GENDER] = df[FIELD_CLIENT_GENDER].apply(lambda x: MyUtils.resolve_genger(x) if pd.notnull(x) else x)"
      ],
      "metadata": {
        "id": "LoVVmjLjht85"
      },
      "execution_count": 330,
      "outputs": []
    },
    {
      "cell_type": "code",
      "source": [
        "del df[FIELD_CLIENT_BIRTH_DAY]"
      ],
      "metadata": {
        "id": "o92c3rRThdOE"
      },
      "execution_count": 331,
      "outputs": []
    },
    {
      "cell_type": "code",
      "source": [
        "del  df[FIELD_CLIENT_AGE]"
      ],
      "metadata": {
        "id": "1O4zPcu3rRtW"
      },
      "execution_count": 332,
      "outputs": []
    },
    {
      "cell_type": "code",
      "source": [
        "df[FIELD_DISPANSARY_GROUP] = df[FIELD_DISPANSARY_GROUP].apply(MyUtils.resolve_dispansary_group)"
      ],
      "metadata": {
        "id": "A2mCflmmh8j_"
      },
      "execution_count": 333,
      "outputs": []
    },
    {
      "cell_type": "code",
      "source": [
        "df[FIELD_CONCLUSION] = df[FIELD_CONCLUSION].apply(lambda x: MyUtils.resolve_conclusion(x))"
      ],
      "metadata": {
        "id": "K_y8i4Lhids7"
      },
      "execution_count": 334,
      "outputs": []
    },
    {
      "cell_type": "code",
      "source": [
        "mkb_columns = df.filter(regex=\"(?i)МКБ10\").columns\n"
      ],
      "metadata": {
        "id": "-lZQMN7pqrMU"
      },
      "execution_count": 335,
      "outputs": []
    },
    {
      "cell_type": "code",
      "source": [
        "df[mkb_columns] = df[mkb_columns].fillna(value='Z00.0')"
      ],
      "metadata": {
        "id": "1DpU2h3L9yxO"
      },
      "execution_count": 336,
      "outputs": []
    },
    {
      "cell_type": "code",
      "source": [
        "# объединяем значения из нескольких столбцов в один массив, удаляем дубликаты\n",
        "#df['mkb'] = df.apply(lambda row: list(set([row[mkb_col_name] for mkb_col_name in mkb_columns if not pd.isna(row[mkb_col_name]) ])), axis=1)\n",
        "df['mkb'] = df.apply(lambda row: list(set([row[mkb_col_name] for mkb_col_name in mkb_columns])), axis=1)\n"
      ],
      "metadata": {
        "id": "x5kr13GK9pa0"
      },
      "execution_count": 337,
      "outputs": []
    },
    {
      "cell_type": "code",
      "source": [
        "df = df.loc[:, ~df.columns.str.contains('мкб10', case=False)]\n"
      ],
      "metadata": {
        "id": "wT1ieDEai-Uy"
      },
      "execution_count": 338,
      "outputs": []
    },
    {
      "cell_type": "code",
      "source": [
        "df[FIELD_HARMFUL_FACTORS] = df[FIELD_HARMFUL_FACTORS].str.split(\",\")"
      ],
      "metadata": {
        "colab": {
          "base_uri": "https://localhost:8080/"
        },
        "id": "O8GH_WB1ImjW",
        "outputId": "a3494ed3-2472-4362-92ff-6a6654ce373b"
      },
      "execution_count": 339,
      "outputs": [
        {
          "output_type": "stream",
          "name": "stderr",
          "text": [
            "<ipython-input-339-5df6e72f6511>:1: SettingWithCopyWarning: \n",
            "A value is trying to be set on a copy of a slice from a DataFrame.\n",
            "Try using .loc[row_indexer,col_indexer] = value instead\n",
            "\n",
            "See the caveats in the documentation: https://pandas.pydata.org/pandas-docs/stable/user_guide/indexing.html#returning-a-view-versus-a-copy\n",
            "  df[FIELD_HARMFUL_FACTORS] = df[FIELD_HARMFUL_FACTORS].str.split(\",\")\n"
          ]
        }
      ]
    },
    {
      "cell_type": "code",
      "source": [
        "df.dropna(inplace = True)"
      ],
      "metadata": {
        "id": "3LHxZ1wDxty6"
      },
      "execution_count": 369,
      "outputs": []
    },
    {
      "cell_type": "code",
      "source": [
        "df_ohe = pd.get_dummies(df, columns = [FIELD_CLIENT_GENGER, FIELD_NEW_AGE_CATEGORY])"
      ],
      "metadata": {
        "id": "yOrH0jogzbIA"
      },
      "execution_count": null,
      "outputs": []
    },
    {
      "cell_type": "code",
      "source": [
        "df"
      ],
      "metadata": {
        "colab": {
          "base_uri": "https://localhost:8080/",
          "height": 423
        },
        "id": "DsWB3U0hoDaZ",
        "outputId": "c91be995-4725-4787-e04c-8c1064d4f167"
      },
      "execution_count": 370,
      "outputs": [
        {
          "output_type": "execute_result",
          "data": {
            "text/plain": [
              "      КлиентПол  ЗаключениеМК  ДиспансернаяГруппа   ВредныеФакторы  \\\n",
              "0             1           0.0                 0.0           [11.4]   \n",
              "1             0           0.0                 2.0          [4.2.5]   \n",
              "2             0           1.0                 1.0          [4.2.5]   \n",
              "3             0           0.0                 0.0           [11.1]   \n",
              "4             0           1.0                 1.0           [11.1]   \n",
              "...         ...           ...                 ...              ...   \n",
              "1960          0           0.0                 1.0  [4.4, 4.5, 6.1]   \n",
              "1961          0           0.0                 0.0  [4.4, 4.5, 6.1]   \n",
              "1962          0           0.0                 0.0            [4.4]   \n",
              "1972          0           0.0                 0.0        [3.1.8.2]   \n",
              "1973          0           0.0                 0.0     [4.2.5, 6.1]   \n",
              "\n",
              "                                              Профессия  ВозрастКатегория  \\\n",
              "0             Ведущий специалист по организации обуения                 6   \n",
              "1                                    Ведущий специалист                 4   \n",
              "2                                      Главный менеджер                 5   \n",
              "3                                    Главный специалист                 4   \n",
              "4                                    Старший специалист                 5   \n",
              "...                                                 ...               ...   \n",
              "1960                                            Инженер                 4   \n",
              "1961                                            Инженер                 3   \n",
              "1962                              Начальник лаборатории                 4   \n",
              "1972  Инженер по бурению 1 категории, непосредственн...                 4   \n",
              "1973                           Приемщик вагонов в депо                  3   \n",
              "\n",
              "                 mkb  \n",
              "0            [Z00.0]  \n",
              "1     [Z00.0, I11.9]  \n",
              "2     [Z00.0, H52.1]  \n",
              "3            [Z00.0]  \n",
              "4     [H52.2, Z00.0]  \n",
              "...              ...  \n",
              "1960  [Z00.0, H52.1]  \n",
              "1961         [Z00.0]  \n",
              "1962         [Z00.0]  \n",
              "1972         [Z00.0]  \n",
              "1973         [Z00.0]  \n",
              "\n",
              "[1562 rows x 7 columns]"
            ],
            "text/html": [
              "\n",
              "  <div id=\"df-f7f47eff-e218-4e2a-a671-65f107842a39\">\n",
              "    <div class=\"colab-df-container\">\n",
              "      <div>\n",
              "<style scoped>\n",
              "    .dataframe tbody tr th:only-of-type {\n",
              "        vertical-align: middle;\n",
              "    }\n",
              "\n",
              "    .dataframe tbody tr th {\n",
              "        vertical-align: top;\n",
              "    }\n",
              "\n",
              "    .dataframe thead th {\n",
              "        text-align: right;\n",
              "    }\n",
              "</style>\n",
              "<table border=\"1\" class=\"dataframe\">\n",
              "  <thead>\n",
              "    <tr style=\"text-align: right;\">\n",
              "      <th></th>\n",
              "      <th>КлиентПол</th>\n",
              "      <th>ЗаключениеМК</th>\n",
              "      <th>ДиспансернаяГруппа</th>\n",
              "      <th>ВредныеФакторы</th>\n",
              "      <th>Профессия</th>\n",
              "      <th>ВозрастКатегория</th>\n",
              "      <th>mkb</th>\n",
              "    </tr>\n",
              "  </thead>\n",
              "  <tbody>\n",
              "    <tr>\n",
              "      <th>0</th>\n",
              "      <td>1</td>\n",
              "      <td>0.0</td>\n",
              "      <td>0.0</td>\n",
              "      <td>[11.4]</td>\n",
              "      <td>Ведущий специалист по организации обуения</td>\n",
              "      <td>6</td>\n",
              "      <td>[Z00.0]</td>\n",
              "    </tr>\n",
              "    <tr>\n",
              "      <th>1</th>\n",
              "      <td>0</td>\n",
              "      <td>0.0</td>\n",
              "      <td>2.0</td>\n",
              "      <td>[4.2.5]</td>\n",
              "      <td>Ведущий специалист</td>\n",
              "      <td>4</td>\n",
              "      <td>[Z00.0, I11.9]</td>\n",
              "    </tr>\n",
              "    <tr>\n",
              "      <th>2</th>\n",
              "      <td>0</td>\n",
              "      <td>1.0</td>\n",
              "      <td>1.0</td>\n",
              "      <td>[4.2.5]</td>\n",
              "      <td>Главный менеджер</td>\n",
              "      <td>5</td>\n",
              "      <td>[Z00.0, H52.1]</td>\n",
              "    </tr>\n",
              "    <tr>\n",
              "      <th>3</th>\n",
              "      <td>0</td>\n",
              "      <td>0.0</td>\n",
              "      <td>0.0</td>\n",
              "      <td>[11.1]</td>\n",
              "      <td>Главный специалист</td>\n",
              "      <td>4</td>\n",
              "      <td>[Z00.0]</td>\n",
              "    </tr>\n",
              "    <tr>\n",
              "      <th>4</th>\n",
              "      <td>0</td>\n",
              "      <td>1.0</td>\n",
              "      <td>1.0</td>\n",
              "      <td>[11.1]</td>\n",
              "      <td>Старший специалист</td>\n",
              "      <td>5</td>\n",
              "      <td>[H52.2, Z00.0]</td>\n",
              "    </tr>\n",
              "    <tr>\n",
              "      <th>...</th>\n",
              "      <td>...</td>\n",
              "      <td>...</td>\n",
              "      <td>...</td>\n",
              "      <td>...</td>\n",
              "      <td>...</td>\n",
              "      <td>...</td>\n",
              "      <td>...</td>\n",
              "    </tr>\n",
              "    <tr>\n",
              "      <th>1960</th>\n",
              "      <td>0</td>\n",
              "      <td>0.0</td>\n",
              "      <td>1.0</td>\n",
              "      <td>[4.4, 4.5, 6.1]</td>\n",
              "      <td>Инженер</td>\n",
              "      <td>4</td>\n",
              "      <td>[Z00.0, H52.1]</td>\n",
              "    </tr>\n",
              "    <tr>\n",
              "      <th>1961</th>\n",
              "      <td>0</td>\n",
              "      <td>0.0</td>\n",
              "      <td>0.0</td>\n",
              "      <td>[4.4, 4.5, 6.1]</td>\n",
              "      <td>Инженер</td>\n",
              "      <td>3</td>\n",
              "      <td>[Z00.0]</td>\n",
              "    </tr>\n",
              "    <tr>\n",
              "      <th>1962</th>\n",
              "      <td>0</td>\n",
              "      <td>0.0</td>\n",
              "      <td>0.0</td>\n",
              "      <td>[4.4]</td>\n",
              "      <td>Начальник лаборатории</td>\n",
              "      <td>4</td>\n",
              "      <td>[Z00.0]</td>\n",
              "    </tr>\n",
              "    <tr>\n",
              "      <th>1972</th>\n",
              "      <td>0</td>\n",
              "      <td>0.0</td>\n",
              "      <td>0.0</td>\n",
              "      <td>[3.1.8.2]</td>\n",
              "      <td>Инженер по бурению 1 категории, непосредственн...</td>\n",
              "      <td>4</td>\n",
              "      <td>[Z00.0]</td>\n",
              "    </tr>\n",
              "    <tr>\n",
              "      <th>1973</th>\n",
              "      <td>0</td>\n",
              "      <td>0.0</td>\n",
              "      <td>0.0</td>\n",
              "      <td>[4.2.5, 6.1]</td>\n",
              "      <td>Приемщик вагонов в депо</td>\n",
              "      <td>3</td>\n",
              "      <td>[Z00.0]</td>\n",
              "    </tr>\n",
              "  </tbody>\n",
              "</table>\n",
              "<p>1562 rows × 7 columns</p>\n",
              "</div>\n",
              "      <button class=\"colab-df-convert\" onclick=\"convertToInteractive('df-f7f47eff-e218-4e2a-a671-65f107842a39')\"\n",
              "              title=\"Convert this dataframe to an interactive table.\"\n",
              "              style=\"display:none;\">\n",
              "        \n",
              "  <svg xmlns=\"http://www.w3.org/2000/svg\" height=\"24px\"viewBox=\"0 0 24 24\"\n",
              "       width=\"24px\">\n",
              "    <path d=\"M0 0h24v24H0V0z\" fill=\"none\"/>\n",
              "    <path d=\"M18.56 5.44l.94 2.06.94-2.06 2.06-.94-2.06-.94-.94-2.06-.94 2.06-2.06.94zm-11 1L8.5 8.5l.94-2.06 2.06-.94-2.06-.94L8.5 2.5l-.94 2.06-2.06.94zm10 10l.94 2.06.94-2.06 2.06-.94-2.06-.94-.94-2.06-.94 2.06-2.06.94z\"/><path d=\"M17.41 7.96l-1.37-1.37c-.4-.4-.92-.59-1.43-.59-.52 0-1.04.2-1.43.59L10.3 9.45l-7.72 7.72c-.78.78-.78 2.05 0 2.83L4 21.41c.39.39.9.59 1.41.59.51 0 1.02-.2 1.41-.59l7.78-7.78 2.81-2.81c.8-.78.8-2.07 0-2.86zM5.41 20L4 18.59l7.72-7.72 1.47 1.35L5.41 20z\"/>\n",
              "  </svg>\n",
              "      </button>\n",
              "      \n",
              "  <style>\n",
              "    .colab-df-container {\n",
              "      display:flex;\n",
              "      flex-wrap:wrap;\n",
              "      gap: 12px;\n",
              "    }\n",
              "\n",
              "    .colab-df-convert {\n",
              "      background-color: #E8F0FE;\n",
              "      border: none;\n",
              "      border-radius: 50%;\n",
              "      cursor: pointer;\n",
              "      display: none;\n",
              "      fill: #1967D2;\n",
              "      height: 32px;\n",
              "      padding: 0 0 0 0;\n",
              "      width: 32px;\n",
              "    }\n",
              "\n",
              "    .colab-df-convert:hover {\n",
              "      background-color: #E2EBFA;\n",
              "      box-shadow: 0px 1px 2px rgba(60, 64, 67, 0.3), 0px 1px 3px 1px rgba(60, 64, 67, 0.15);\n",
              "      fill: #174EA6;\n",
              "    }\n",
              "\n",
              "    [theme=dark] .colab-df-convert {\n",
              "      background-color: #3B4455;\n",
              "      fill: #D2E3FC;\n",
              "    }\n",
              "\n",
              "    [theme=dark] .colab-df-convert:hover {\n",
              "      background-color: #434B5C;\n",
              "      box-shadow: 0px 1px 3px 1px rgba(0, 0, 0, 0.15);\n",
              "      filter: drop-shadow(0px 1px 2px rgba(0, 0, 0, 0.3));\n",
              "      fill: #FFFFFF;\n",
              "    }\n",
              "  </style>\n",
              "\n",
              "      <script>\n",
              "        const buttonEl =\n",
              "          document.querySelector('#df-f7f47eff-e218-4e2a-a671-65f107842a39 button.colab-df-convert');\n",
              "        buttonEl.style.display =\n",
              "          google.colab.kernel.accessAllowed ? 'block' : 'none';\n",
              "\n",
              "        async function convertToInteractive(key) {\n",
              "          const element = document.querySelector('#df-f7f47eff-e218-4e2a-a671-65f107842a39');\n",
              "          const dataTable =\n",
              "            await google.colab.kernel.invokeFunction('convertToInteractive',\n",
              "                                                     [key], {});\n",
              "          if (!dataTable) return;\n",
              "\n",
              "          const docLinkHtml = 'Like what you see? Visit the ' +\n",
              "            '<a target=\"_blank\" href=https://colab.research.google.com/notebooks/data_table.ipynb>data table notebook</a>'\n",
              "            + ' to learn more about interactive tables.';\n",
              "          element.innerHTML = '';\n",
              "          dataTable['output_type'] = 'display_data';\n",
              "          await google.colab.output.renderOutput(dataTable, element);\n",
              "          const docLink = document.createElement('div');\n",
              "          docLink.innerHTML = docLinkHtml;\n",
              "          element.appendChild(docLink);\n",
              "        }\n",
              "      </script>\n",
              "    </div>\n",
              "  </div>\n",
              "  "
            ]
          },
          "metadata": {},
          "execution_count": 370
        }
      ]
    },
    {
      "cell_type": "code",
      "source": [
        "df['mkb'].explode().unique()"
      ],
      "metadata": {
        "colab": {
          "base_uri": "https://localhost:8080/"
        },
        "id": "YddNNL_EAwuu",
        "outputId": "a0acbc06-d8e4-48eb-c800-f4336a7b1dec"
      },
      "execution_count": 371,
      "outputs": [
        {
          "output_type": "execute_result",
          "data": {
            "text/plain": [
              "array(['Z00.0', 'I11.9', 'H52.1', 'H52.2', 'H53.0', 'K29.3', 'I70',\n",
              "       'H90.5', 'G90.9', 'H52.0', 'S68.2', 'N60.2', 'E11.9', 'K29.6',\n",
              "       'M42.1', 'D25', 'I69.4', 'N83.2', 'H90.3', 'K44.9', 'N80.0',\n",
              "       'G99.0', 'G12.1', 'K81.9', 'H11.0', 'G25.0', 'K26.9', 'K86.1',\n",
              "       'H91.1', 'H74.1', 'I67.2', 'N28.1', 'I83.9', 'L40.0', 'H93.0',\n",
              "       'D25.9', 'I25.8', 'K80.5', 'F06.6', 'K40.9', 'E11.8', 'E10.9',\n",
              "       'T94.0', 'F10.7', 'D35.2', 'L20.8', 'K29.5', 'H50.9', 'K80.2',\n",
              "       'I25.2', 'Q12.0', 'S51.9', 'F06.7', 'H25.0', 'I67.9', 'I66.9',\n",
              "       'K29.8', 'T90.4', 'H40.1', 'H90.4', 'F41.0', 'R25.1', 'K29.7',\n",
              "       'H47.2', 'J33.0', 'H66.1', 'K26.7', 'H02.4', 'I49.9', 'H01.0',\n",
              "       'F98.5', 'I49.8', 'J45.8', 'H35.0', 'H17.1', 'J30.1', 'F07.0',\n",
              "       'G58.9', 'J37.0', 'H25.1', 'I25.9', 'K82.9', 'J45.9', 'G90.8',\n",
              "       'K29.4'], dtype=object)"
            ]
          },
          "metadata": {},
          "execution_count": 371
        }
      ]
    },
    {
      "cell_type": "code",
      "source": [
        "tokenizer = Tokenizer()\n",
        "tokenizer.fit_on_texts(np.array(df['mkb']))"
      ],
      "metadata": {
        "id": "5QfwEGduA77h"
      },
      "execution_count": 372,
      "outputs": []
    },
    {
      "cell_type": "code",
      "source": [
        "xMkbIndexed = tokenizer.texts_to_sequences(df['mkb'])"
      ],
      "metadata": {
        "id": "VTCD56dABj8J"
      },
      "execution_count": 373,
      "outputs": []
    },
    {
      "cell_type": "code",
      "source": [
        "mkb_max_len = max(len(sublist) for sublist in xMkbIndexed)\n",
        "#mkb_max_len = max(xMkbIndexed, key=len)\n",
        "print(mkb_max_len)"
      ],
      "metadata": {
        "colab": {
          "base_uri": "https://localhost:8080/"
        },
        "id": "Ncw4WKUkBj2E",
        "outputId": "15155956-6854-4be1-cdf5-76bfb44971b0"
      },
      "execution_count": 374,
      "outputs": [
        {
          "output_type": "stream",
          "name": "stdout",
          "text": [
            "5\n"
          ]
        }
      ]
    },
    {
      "cell_type": "code",
      "source": [
        "xMkbIndexedPadded = pad_sequences(xMkbIndexed, maxlen=mkb_max_len, padding='post')"
      ],
      "metadata": {
        "id": "mfj7L1-AZMoQ"
      },
      "execution_count": 345,
      "outputs": []
    },
    {
      "cell_type": "code",
      "source": [
        "xMkbIndexedPadded.shape"
      ],
      "metadata": {
        "colab": {
          "base_uri": "https://localhost:8080/"
        },
        "id": "iMqTEUZoCeub",
        "outputId": "3348be62-aa6a-4127-e28d-b1cf9b328922"
      },
      "execution_count": 375,
      "outputs": [
        {
          "output_type": "execute_result",
          "data": {
            "text/plain": [
              "(1978, 6)"
            ]
          },
          "metadata": {},
          "execution_count": 375
        }
      ]
    },
    {
      "cell_type": "code",
      "source": [
        "tokenizer = Tokenizer()"
      ],
      "metadata": {
        "id": "pht4dtJ1JInA"
      },
      "execution_count": 376,
      "outputs": []
    },
    {
      "cell_type": "code",
      "source": [
        "tokenizer.fit_on_texts(df[FIELD_HARMFUL_FACTORS])"
      ],
      "metadata": {
        "id": "y8X4vDHzJU5a"
      },
      "execution_count": 377,
      "outputs": []
    },
    {
      "cell_type": "code",
      "source": [
        "xTrainHarmfulIndexes = tokenizer.texts_to_sequences(df[FIELD_HARMFUL_FACTORS])"
      ],
      "metadata": {
        "id": "10IkPfDUJa9K"
      },
      "execution_count": 378,
      "outputs": []
    },
    {
      "cell_type": "code",
      "source": [
        "harm_max_len = max(len(sublist) for sublist in xTrainHarmfulIndexes)\n"
      ],
      "metadata": {
        "id": "xXhmYgtG3Viz"
      },
      "execution_count": 379,
      "outputs": []
    },
    {
      "cell_type": "code",
      "source": [
        "xTrainHarmfulIndexesPadded = pad_sequences(xTrainHarmfulIndexes, maxlen=harm_max_len, padding='post')"
      ],
      "metadata": {
        "id": "qdL0cWUxO4P5"
      },
      "execution_count": 380,
      "outputs": []
    },
    {
      "cell_type": "code",
      "source": [
        "xTrainHarmfulIndexesPadded.shape"
      ],
      "metadata": {
        "colab": {
          "base_uri": "https://localhost:8080/"
        },
        "id": "WOVx8kwfwS6A",
        "outputId": "89e1928a-4162-49dc-c47d-e7a6fb1e67f3"
      },
      "execution_count": 352,
      "outputs": [
        {
          "output_type": "execute_result",
          "data": {
            "text/plain": [
              "(1978, 13)"
            ]
          },
          "metadata": {},
          "execution_count": 352
        }
      ]
    },
    {
      "cell_type": "code",
      "source": [
        "xTrainProf = df[FIELD_CLIENT_PROFESSION]"
      ],
      "metadata": {
        "id": "ljG9cYQlwWd5"
      },
      "execution_count": 381,
      "outputs": []
    },
    {
      "cell_type": "code",
      "source": [
        "maxWordsCount = 1000 \n",
        "tokenizer_prof = Tokenizer(num_words=maxWordsCount, filters='!\"#$%&()*+,-–—./:;<=>?@[\\]^_`{|}~\\t\\n\\xa0', lower=True, split=' ', oov_token='unknown', char_level=False)\n",
        "tokenizer_prof.fit_on_texts(xTrainProf) \n"
      ],
      "metadata": {
        "id": "ASRBU5I6o3vY"
      },
      "execution_count": 387,
      "outputs": []
    },
    {
      "cell_type": "code",
      "source": [
        "xTrainProfIndexed = tokenizer_prof.texts_to_sequences(xTrainProf)"
      ],
      "metadata": {
        "id": "wVgWnOZowdbE"
      },
      "execution_count": 383,
      "outputs": []
    },
    {
      "cell_type": "code",
      "source": [
        "prof_max_len = max(len(sublist) for sublist in xTrainProfIndexed)\n"
      ],
      "metadata": {
        "id": "vaHNOY8Lw1km"
      },
      "execution_count": 388,
      "outputs": []
    },
    {
      "cell_type": "code",
      "source": [
        "xTrainProfIndexedPadded = pad_sequences(xTrainProfIndexed, maxlen=prof_max_len, padding='post')"
      ],
      "metadata": {
        "id": "4V8uF098wxhE"
      },
      "execution_count": 389,
      "outputs": []
    },
    {
      "cell_type": "code",
      "source": [
        "xTrainProfIndexedPadded"
      ],
      "metadata": {
        "id": "ahGOfkljw_Lx",
        "outputId": "d51e24cb-673e-4e15-eae8-2016c585a749",
        "colab": {
          "base_uri": "https://localhost:8080/"
        }
      },
      "execution_count": 391,
      "outputs": [
        {
          "output_type": "execute_result",
          "data": {
            "text/plain": [
              "array([[  6,   5,   3, ...,   0,   0,   0],\n",
              "       [  6,   5,   0, ...,   0,   0,   0],\n",
              "       [ 16,  22,   0, ...,   0,   0,   0],\n",
              "       ...,\n",
              "       [ 12, 203,   0, ...,   0,   0,   0],\n",
              "       [  2,   3, 115, ...,   0,   0,   0],\n",
              "       [269, 512, 122, ...,   0,   0,   0]], dtype=int32)"
            ]
          },
          "metadata": {},
          "execution_count": 391
        }
      ]
    },
    {
      "cell_type": "code",
      "source": [],
      "metadata": {
        "id": "PFlbTaYhzEZG"
      },
      "execution_count": null,
      "outputs": []
    }
  ]
}