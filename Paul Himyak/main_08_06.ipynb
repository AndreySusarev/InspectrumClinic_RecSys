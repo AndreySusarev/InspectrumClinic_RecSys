{
  "nbformat": 4,
  "nbformat_minor": 0,
  "metadata": {
    "colab": {
      "provenance": [],
      "gpuType": "T4",
      "include_colab_link": true
    },
    "kernelspec": {
      "name": "python3",
      "display_name": "Python 3"
    },
    "language_info": {
      "name": "python"
    },
    "accelerator": "GPU"
  },
  "cells": [
    {
      "cell_type": "markdown",
      "metadata": {
        "id": "view-in-github",
        "colab_type": "text"
      },
      "source": [
        "<a href=\"https://colab.research.google.com/github/Untick/InspectrumClinic_RecSys/blob/main/Paul%20Himyak/main_08_06.ipynb\" target=\"_parent\"><img src=\"https://colab.research.google.com/assets/colab-badge.svg\" alt=\"Open In Colab\"/></a>"
      ]
    },
    {
      "cell_type": "code",
      "source": [
        "!python3 -m pip install -q git+https://github.com/keras-team/keras-tuner.git\n",
        "!python3 -m pip install -q autokeras"
      ],
      "metadata": {
        "id": "oX7QA9eUMv9r",
        "outputId": "b291bdc8-369f-4f41-ba1d-73a8583dca57",
        "colab": {
          "base_uri": "https://localhost:8080/"
        }
      },
      "execution_count": 3,
      "outputs": [
        {
          "output_type": "stream",
          "name": "stdout",
          "text": [
            "  Installing build dependencies ... \u001b[?25l\u001b[?25hdone\n",
            "  Getting requirements to build wheel ... \u001b[?25l\u001b[?25hdone\n",
            "  Preparing metadata (pyproject.toml) ... \u001b[?25l\u001b[?25hdone\n"
          ]
        }
      ]
    },
    {
      "cell_type": "code",
      "source": [
        "import pandas as pd\n",
        "import matplotlib.pyplot as plt\n",
        "import uuid\n",
        "import re\n",
        "import numpy as np\n",
        "import seaborn as sns\n",
        "from datetime import datetime\n",
        "\n",
        "from sklearn.model_selection import train_test_split \n",
        "from sklearn.metrics import confusion_matrix, ConfusionMatrixDisplay\n",
        "from sklearn.utils import resample\n",
        "\n",
        "from tensorflow.keras.preprocessing.text import Tokenizer\n",
        "from tensorflow.keras.preprocessing.sequence import pad_sequences\n",
        "\n",
        "from tensorflow.keras.layers import concatenate, Embedding, Conv1D, Input, Dense, Dropout, BatchNormalization, Flatten , SpatialDropout1D, Reshape, RepeatVector, GlobalMaxPooling1D\n",
        "from tensorflow.keras.models import Model\n",
        "from tensorflow.keras.optimizers import Adam\n",
        "import tensorflow.keras.losses as keras_losses\n",
        "import tensorflow.keras.metrics as keras_metrics\n",
        "from tensorflow.keras import utils\n",
        "import tensorflow as tf\n",
        "!pip install -q tensorflow-addons\n",
        "import tensorflow_addons as tfad\n",
        "\n",
        "import sklearn.metrics as skl_metrics\n",
        "\n",
        "import autokeras as ak\n",
        "\n",
        "\n",
        "import gdown"
      ],
      "metadata": {
        "id": "P83i6KfIF2gd",
        "colab": {
          "base_uri": "https://localhost:8080/"
        },
        "outputId": "76fa9277-0c48-475b-c5c6-d6735e1c88b0"
      },
      "outputs": [
        {
          "output_type": "stream",
          "name": "stdout",
          "text": [
            "\u001b[?25l     \u001b[90m━━━━━━━━━━━━━━━━━━━━━━━━━━━━━━━━━━━━━━━━\u001b[0m \u001b[32m0.0/591.0 kB\u001b[0m \u001b[31m?\u001b[0m eta \u001b[36m-:--:--\u001b[0m\r\u001b[2K     \u001b[90m━━━━━━━━━━━━━━━━━━━━━━━━━━━━━━━━━━━━━━\u001b[0m \u001b[32m591.0/591.0 kB\u001b[0m \u001b[31m17.8 MB/s\u001b[0m eta \u001b[36m0:00:00\u001b[0m\n",
            "\u001b[?25h"
          ]
        },
        {
          "output_type": "stream",
          "name": "stderr",
          "text": [
            "/usr/local/lib/python3.10/dist-packages/tensorflow_addons/utils/tfa_eol_msg.py:23: UserWarning: \n",
            "\n",
            "TensorFlow Addons (TFA) has ended development and introduction of new features.\n",
            "TFA has entered a minimal maintenance and release mode until a planned end of life in May 2024.\n",
            "Please modify downstream libraries to take dependencies from other repositories in our TensorFlow community (e.g. Keras, Keras-CV, and Keras-NLP). \n",
            "\n",
            "For more information see: https://github.com/tensorflow/addons/issues/2807 \n",
            "\n",
            "  warnings.warn(\n"
          ]
        }
      ],
      "execution_count": 4
    },
    {
      "cell_type": "code",
      "metadata": {
        "id": "1vSWmbjqEvHX",
        "colab": {
          "base_uri": "https://localhost:8080/",
          "height": 36
        },
        "outputId": "4f836f78-b37a-423e-bae7-30811d8b8543"
      },
      "outputs": [
        {
          "output_type": "execute_result",
          "data": {
            "text/plain": [
              "'profpatolog_modified.xlsx'"
            ],
            "application/vnd.google.colaboratory.intrinsic+json": {
              "type": "string"
            }
          },
          "metadata": {},
          "execution_count": 5
        }
      ],
      "source": [
        "dataset_url = \"https://drive.google.com/uc?export=download&id=1ErXvN290PPthLGsb0ALpa_0aUDnvC0jg\"\n",
        "#dataset_url = \"https://docs.google.com/spreadsheets/d/1ErXvN290PPthLGsb0ALpa_0aUDnvC0jg/edit?usp=share_link&ouid=113369956649761615778&rtpof=true&sd=true\"\n",
        "dataset_filename = \"profpatolog_modified.xlsx\"\n",
        "#!wget -qc dataset_url -O dataset_filename\n",
        "gdown.download(dataset_url, output=dataset_filename, quiet=True )\n"
      ],
      "execution_count": 5
    },
    {
      "cell_type": "code",
      "source": [
        "df = pd.read_excel(\"profpatolog_modified.xlsx\")\n"
      ],
      "metadata": {
        "id": "c2g1o_nMF48g"
      },
      "outputs": [],
      "execution_count": 6
    },
    {
      "cell_type": "code",
      "source": [
        "del df['Unnamed: 0']"
      ],
      "metadata": {
        "id": "QHIIwbuCxZjz"
      },
      "outputs": [],
      "execution_count": 7
    },
    {
      "cell_type": "code",
      "source": [
        "FIELD_CLIENT_AGE = \"КлиентВозраст\"\n",
        "FIELD_CLIENT_BIRTH_DAY = \"КлиентДатаРождения\"\n",
        "FIELD_CLIENT_GENDER = \"КлиентПол\"\n",
        "FIELD_CLIENT_GENDER_M = 0\n",
        "FIELD_CLIENT_GENDER_F = 1\n",
        "FIELD_CONCLUSION = \"ЗаключениеМК\"\n",
        "FIELD_CONCLUSION_FIT = 1\n",
        "FIELD_CONCLUSION_PART_FIT = 2\n",
        "FIELD_CONCLUSION_NOT_FIT = 0\n",
        "\n",
        "FIELD_DISPANSARY_GROUP = \"ДиспансернаяГруппа\"\n",
        "FIELD_DISPANSARY_GROUP_I = 0\n",
        "FIELD_DISPANSARY_GROUP_II = 1\n",
        "FIELD_DISPANSARY_GROUP_III = 2\n",
        "FIELD_DISPANSARY_GROUP_OTHER = 3\n",
        "\n",
        "FIELD_HARMFUL_FACTORS = \"ВредныеФакторы\"\n",
        "\n",
        "\n",
        "FIELD_NEW_AGE_CATEGORY = \"ВозрастКатегория\"\n",
        "FIELD_NEW_MKBS = \"mkbs\"\n",
        "\n",
        "FIELD_CLIENT_PROFESSION = \"Профессия\"\n",
        "FIELD_NEW_CLIENT_PROFESSION = \"Profession\"\n",
        "FIELD_NEW_CLIENT_ADDITIONS = \"Дополнения сводные\"\n",
        "FIELD_NEW_CLIENT_DIAG = \"Diagnoz\""
      ],
      "metadata": {
        "id": "ACwbB23gGTTN"
      },
      "outputs": [],
      "execution_count": 8
    },
    {
      "cell_type": "code",
      "source": [
        "import re\n",
        "#функция из названя столбца выделяет первое значение\n",
        "def extract_specialist_from_column_name(string):\n",
        "    # Выделить первую часть до символа `_`\n",
        "    first_part = string.split(\"_\")[0]\n",
        "\n",
        "    # Разбить первую часть на слова по стилю CamelCase и исключить цифры\n",
        "    words = re.findall('[A-ZА-ЯЁ][a-zа-яё]*', first_part)\n",
        "\n",
        "    # Объединить слова в строку с пробелами\n",
        "    result = ' '.join(words)\n",
        "\n",
        "    return result\n",
        "extract_specialist_from_column_name(\"ПсихиатрияНаркология1_ДиагнозПредставление1\")"
      ],
      "metadata": {
        "colab": {
          "base_uri": "https://localhost:8080/",
          "height": 36
        },
        "id": "Ex970gHu3EE-",
        "outputId": "6df5b1f9-16db-43f4-a672-1693c2abb56f"
      },
      "execution_count": 9,
      "outputs": [
        {
          "output_type": "execute_result",
          "data": {
            "text/plain": [
              "'Психиатрия Наркология'"
            ],
            "application/vnd.google.colaboratory.intrinsic+json": {
              "type": "string"
            }
          },
          "metadata": {},
          "execution_count": 9
        }
      ]
    },
    {
      "cell_type": "code",
      "source": [
        "#функция объединения ячеек в одну удаляя ненужный символ и объединяя вместе с названиями колонок\n",
        "def join_not_nan_columns(df, columns_filter, value_for_unset = None):\n",
        "  if value_for_unset is not None:\n",
        "    df.loc[:, columns_filter.columns] = df.loc[:, columns_filter.columns].replace(value_for_unset, np.nan)\n",
        "  return df[columns_filter.columns].apply(lambda row: \",\".join(f\"{extract_specialist_from_column_name(column_name)} {value}\" for column_name, value in zip(columns_filter.columns, row) if pd.notna(value)), axis=1)\n",
        "  \n",
        "\n"
      ],
      "metadata": {
        "id": "czpGp1teAUWo"
      },
      "execution_count": 10,
      "outputs": []
    },
    {
      "cell_type": "code",
      "source": [
        "diag_filter = df.filter(regex=\"(?i)Диагноз\\s?Представление\")\n",
        "df[FIELD_NEW_CLIENT_DIAG] =  join_not_nan_columns(df, diag_filter, value_for_unset=\"Общий медицинский осмотр\")\n",
        "#Удаляю ненужные колонки\n",
        "df = df.drop(columns=diag_filter)"
      ],
      "metadata": {
        "colab": {
          "base_uri": "https://localhost:8080/"
        },
        "id": "OP63MSG-F9nL",
        "outputId": "e468ca8c-6e08-437d-a7b4-2d6ff7479d60"
      },
      "execution_count": 11,
      "outputs": [
        {
          "output_type": "stream",
          "name": "stderr",
          "text": [
            "<ipython-input-10-15e3a35bde05>:4: DeprecationWarning: In a future version, `df.iloc[:, i] = newvals` will attempt to set the values inplace instead of always setting a new array. To retain the old behavior, use either `df[df.columns[i]] = newvals` or, if columns are non-unique, `df.isetitem(i, newvals)`\n",
            "  df.loc[:, columns_filter.columns] = df.loc[:, columns_filter.columns].replace(value_for_unset, np.nan)\n"
          ]
        }
      ]
    },
    {
      "cell_type": "code",
      "source": [
        "additions_filter = df.filter(regex=\"(?i)Дополнение_Значение$\")\n",
        "df[FIELD_NEW_CLIENT_ADDITIONS] = join_not_nan_columns(df, additions_filter)\n",
        "df = df.drop(columns=additions_filter)"
      ],
      "metadata": {
        "id": "HxJrSNPlaNKt"
      },
      "execution_count": 12,
      "outputs": []
    },
    {
      "cell_type": "code",
      "source": [
        "mkbs_filter = df.filter(regex=\"(?i)МКБ10\")\n",
        "df[FIELD_NEW_MKBS] = join_not_nan_columns(df, mkbs_filter, value_for_unset=\"Z00.0\")\n",
        "df = df.drop(columns=mkbs_filter)"
      ],
      "metadata": {
        "colab": {
          "base_uri": "https://localhost:8080/"
        },
        "id": "enBKwl4mJKGb",
        "outputId": "0d84e02c-5509-4acc-89bb-0aad9b9ccf6d"
      },
      "execution_count": 13,
      "outputs": [
        {
          "output_type": "stream",
          "name": "stderr",
          "text": [
            "<ipython-input-10-15e3a35bde05>:4: DeprecationWarning: In a future version, `df.iloc[:, i] = newvals` will attempt to set the values inplace instead of always setting a new array. To retain the old behavior, use either `df[df.columns[i]] = newvals` or, if columns are non-unique, `df.isetitem(i, newvals)`\n",
            "  df.loc[:, columns_filter.columns] = df.loc[:, columns_filter.columns].replace(value_for_unset, np.nan)\n"
          ]
        }
      ]
    },
    {
      "cell_type": "code",
      "source": [
        "df "
      ],
      "metadata": {
        "colab": {
          "base_uri": "https://localhost:8080/",
          "height": 799
        },
        "id": "NSdHA4UZKEdu",
        "outputId": "c2953c94-8a35-46e4-d9e3-af1e356cd984"
      },
      "execution_count": 14,
      "outputs": [
        {
          "output_type": "execute_result",
          "data": {
            "text/plain": [
              "     КлиентДатаРождения КлиентПол            ЗаключениеМК ДиспансернаяГруппа  \\\n",
              "0            1976-10-24   Женский                   Годен                  I   \n",
              "1            1987-11-18   Мужской                   Годен               IIIа   \n",
              "2            1985-09-08   Мужской  ГоденСКоррекциейЗрения                 II   \n",
              "3            1988-04-25   Мужской                   Годен                  I   \n",
              "4            1984-04-17   Мужской  ГоденСКоррекциейЗрения                 II   \n",
              "...                 ...       ...                     ...                ...   \n",
              "1973         1972-11-12   Мужской                     NaN                NaN   \n",
              "1974         1986-07-09   Мужской                     NaN                NaN   \n",
              "1975         1994-05-12   Мужской                     NaN                NaN   \n",
              "1976         1972-04-17   Женский                     NaN                NaN   \n",
              "1977         1971-09-14   Мужской                   Годен                NaN   \n",
              "\n",
              "     ВредныеФакторы                                      Профессия  \\\n",
              "0              11.4      Ведущий специалист по организации обуения   \n",
              "1             4.2.5                             Ведущий специалист   \n",
              "2             4.2.5                               Главный менеджер   \n",
              "3              11.1                             Главный специалист   \n",
              "4              11.1                             Старший специалист   \n",
              "...             ...                                            ...   \n",
              "1973            6.1                      Директор по строительству   \n",
              "1974            6.1  Начальник производственно-технического отдела   \n",
              "1975         5.1,23                            Помощник кладовщика   \n",
              "1976             23                                         Повар    \n",
              "1977             27                                   Анестезиолог   \n",
              "\n",
              "                                                Diagnoz  \\\n",
              "0                                                         \n",
              "1     Терапия Гипертензивная [гипертоническая] болез...   \n",
              "2                                  Офтальмология Миопия   \n",
              "3                                                         \n",
              "4                             Офтальмология Астигматизм   \n",
              "...                                                 ...   \n",
              "1973                                                      \n",
              "1974                                                      \n",
              "1975                        Стоматология Кариес дентина   \n",
              "1976  Терапия Гипертензивная [гипертоническая] болез...   \n",
              "1977                                                      \n",
              "\n",
              "                                     Дополнения сводные                 mkbs  \n",
              "0     Эндоскопия Дискинезия желчевыводящих путей ,Те...                       \n",
              "1                                 Терапия В анамнезе ГБ        Терапия I11.9  \n",
              "2     Терапия карбомезипин,мексидол,Офтальмология но...  Офтальмология H52.1  \n",
              "3     Эндоскопия Патологии со стороны слизистой пище...                       \n",
              "4     Эндоскопия Без патологии.,Офтальмология носит ...  Офтальмология H52.2  \n",
              "...                                                 ...                  ...  \n",
              "1973                                                                          \n",
              "1974                                                                          \n",
              "1975  Психиатрия Наркология Тесты на обобщение и иск...   Стоматология K02.1  \n",
              "1976  Терапия Гипертоническая болезнь, принимает Амл...        Терапия I11.9  \n",
              "1977                                                                          \n",
              "\n",
              "[1978 rows x 9 columns]"
            ],
            "text/html": [
              "\n",
              "  <div id=\"df-c857026f-0c27-4045-aae5-1b586abaf86d\">\n",
              "    <div class=\"colab-df-container\">\n",
              "      <div>\n",
              "<style scoped>\n",
              "    .dataframe tbody tr th:only-of-type {\n",
              "        vertical-align: middle;\n",
              "    }\n",
              "\n",
              "    .dataframe tbody tr th {\n",
              "        vertical-align: top;\n",
              "    }\n",
              "\n",
              "    .dataframe thead th {\n",
              "        text-align: right;\n",
              "    }\n",
              "</style>\n",
              "<table border=\"1\" class=\"dataframe\">\n",
              "  <thead>\n",
              "    <tr style=\"text-align: right;\">\n",
              "      <th></th>\n",
              "      <th>КлиентДатаРождения</th>\n",
              "      <th>КлиентПол</th>\n",
              "      <th>ЗаключениеМК</th>\n",
              "      <th>ДиспансернаяГруппа</th>\n",
              "      <th>ВредныеФакторы</th>\n",
              "      <th>Профессия</th>\n",
              "      <th>Diagnoz</th>\n",
              "      <th>Дополнения сводные</th>\n",
              "      <th>mkbs</th>\n",
              "    </tr>\n",
              "  </thead>\n",
              "  <tbody>\n",
              "    <tr>\n",
              "      <th>0</th>\n",
              "      <td>1976-10-24</td>\n",
              "      <td>Женский</td>\n",
              "      <td>Годен</td>\n",
              "      <td>I</td>\n",
              "      <td>11.4</td>\n",
              "      <td>Ведущий специалист по организации обуения</td>\n",
              "      <td></td>\n",
              "      <td>Эндоскопия Дискинезия желчевыводящих путей ,Те...</td>\n",
              "      <td></td>\n",
              "    </tr>\n",
              "    <tr>\n",
              "      <th>1</th>\n",
              "      <td>1987-11-18</td>\n",
              "      <td>Мужской</td>\n",
              "      <td>Годен</td>\n",
              "      <td>IIIа</td>\n",
              "      <td>4.2.5</td>\n",
              "      <td>Ведущий специалист</td>\n",
              "      <td>Терапия Гипертензивная [гипертоническая] болез...</td>\n",
              "      <td>Терапия В анамнезе ГБ</td>\n",
              "      <td>Терапия I11.9</td>\n",
              "    </tr>\n",
              "    <tr>\n",
              "      <th>2</th>\n",
              "      <td>1985-09-08</td>\n",
              "      <td>Мужской</td>\n",
              "      <td>ГоденСКоррекциейЗрения</td>\n",
              "      <td>II</td>\n",
              "      <td>4.2.5</td>\n",
              "      <td>Главный менеджер</td>\n",
              "      <td>Офтальмология Миопия</td>\n",
              "      <td>Терапия карбомезипин,мексидол,Офтальмология но...</td>\n",
              "      <td>Офтальмология H52.1</td>\n",
              "    </tr>\n",
              "    <tr>\n",
              "      <th>3</th>\n",
              "      <td>1988-04-25</td>\n",
              "      <td>Мужской</td>\n",
              "      <td>Годен</td>\n",
              "      <td>I</td>\n",
              "      <td>11.1</td>\n",
              "      <td>Главный специалист</td>\n",
              "      <td></td>\n",
              "      <td>Эндоскопия Патологии со стороны слизистой пище...</td>\n",
              "      <td></td>\n",
              "    </tr>\n",
              "    <tr>\n",
              "      <th>4</th>\n",
              "      <td>1984-04-17</td>\n",
              "      <td>Мужской</td>\n",
              "      <td>ГоденСКоррекциейЗрения</td>\n",
              "      <td>II</td>\n",
              "      <td>11.1</td>\n",
              "      <td>Старший специалист</td>\n",
              "      <td>Офтальмология Астигматизм</td>\n",
              "      <td>Эндоскопия Без патологии.,Офтальмология носит ...</td>\n",
              "      <td>Офтальмология H52.2</td>\n",
              "    </tr>\n",
              "    <tr>\n",
              "      <th>...</th>\n",
              "      <td>...</td>\n",
              "      <td>...</td>\n",
              "      <td>...</td>\n",
              "      <td>...</td>\n",
              "      <td>...</td>\n",
              "      <td>...</td>\n",
              "      <td>...</td>\n",
              "      <td>...</td>\n",
              "      <td>...</td>\n",
              "    </tr>\n",
              "    <tr>\n",
              "      <th>1973</th>\n",
              "      <td>1972-11-12</td>\n",
              "      <td>Мужской</td>\n",
              "      <td>NaN</td>\n",
              "      <td>NaN</td>\n",
              "      <td>6.1</td>\n",
              "      <td>Директор по строительству</td>\n",
              "      <td></td>\n",
              "      <td></td>\n",
              "      <td></td>\n",
              "    </tr>\n",
              "    <tr>\n",
              "      <th>1974</th>\n",
              "      <td>1986-07-09</td>\n",
              "      <td>Мужской</td>\n",
              "      <td>NaN</td>\n",
              "      <td>NaN</td>\n",
              "      <td>6.1</td>\n",
              "      <td>Начальник производственно-технического отдела</td>\n",
              "      <td></td>\n",
              "      <td></td>\n",
              "      <td></td>\n",
              "    </tr>\n",
              "    <tr>\n",
              "      <th>1975</th>\n",
              "      <td>1994-05-12</td>\n",
              "      <td>Мужской</td>\n",
              "      <td>NaN</td>\n",
              "      <td>NaN</td>\n",
              "      <td>5.1,23</td>\n",
              "      <td>Помощник кладовщика</td>\n",
              "      <td>Стоматология Кариес дентина</td>\n",
              "      <td>Психиатрия Наркология Тесты на обобщение и иск...</td>\n",
              "      <td>Стоматология K02.1</td>\n",
              "    </tr>\n",
              "    <tr>\n",
              "      <th>1976</th>\n",
              "      <td>1972-04-17</td>\n",
              "      <td>Женский</td>\n",
              "      <td>NaN</td>\n",
              "      <td>NaN</td>\n",
              "      <td>23</td>\n",
              "      <td>Повар</td>\n",
              "      <td>Терапия Гипертензивная [гипертоническая] болез...</td>\n",
              "      <td>Терапия Гипертоническая болезнь, принимает Амл...</td>\n",
              "      <td>Терапия I11.9</td>\n",
              "    </tr>\n",
              "    <tr>\n",
              "      <th>1977</th>\n",
              "      <td>1971-09-14</td>\n",
              "      <td>Мужской</td>\n",
              "      <td>Годен</td>\n",
              "      <td>NaN</td>\n",
              "      <td>27</td>\n",
              "      <td>Анестезиолог</td>\n",
              "      <td></td>\n",
              "      <td></td>\n",
              "      <td></td>\n",
              "    </tr>\n",
              "  </tbody>\n",
              "</table>\n",
              "<p>1978 rows × 9 columns</p>\n",
              "</div>\n",
              "      <button class=\"colab-df-convert\" onclick=\"convertToInteractive('df-c857026f-0c27-4045-aae5-1b586abaf86d')\"\n",
              "              title=\"Convert this dataframe to an interactive table.\"\n",
              "              style=\"display:none;\">\n",
              "        \n",
              "  <svg xmlns=\"http://www.w3.org/2000/svg\" height=\"24px\"viewBox=\"0 0 24 24\"\n",
              "       width=\"24px\">\n",
              "    <path d=\"M0 0h24v24H0V0z\" fill=\"none\"/>\n",
              "    <path d=\"M18.56 5.44l.94 2.06.94-2.06 2.06-.94-2.06-.94-.94-2.06-.94 2.06-2.06.94zm-11 1L8.5 8.5l.94-2.06 2.06-.94-2.06-.94L8.5 2.5l-.94 2.06-2.06.94zm10 10l.94 2.06.94-2.06 2.06-.94-2.06-.94-.94-2.06-.94 2.06-2.06.94z\"/><path d=\"M17.41 7.96l-1.37-1.37c-.4-.4-.92-.59-1.43-.59-.52 0-1.04.2-1.43.59L10.3 9.45l-7.72 7.72c-.78.78-.78 2.05 0 2.83L4 21.41c.39.39.9.59 1.41.59.51 0 1.02-.2 1.41-.59l7.78-7.78 2.81-2.81c.8-.78.8-2.07 0-2.86zM5.41 20L4 18.59l7.72-7.72 1.47 1.35L5.41 20z\"/>\n",
              "  </svg>\n",
              "      </button>\n",
              "      \n",
              "  <style>\n",
              "    .colab-df-container {\n",
              "      display:flex;\n",
              "      flex-wrap:wrap;\n",
              "      gap: 12px;\n",
              "    }\n",
              "\n",
              "    .colab-df-convert {\n",
              "      background-color: #E8F0FE;\n",
              "      border: none;\n",
              "      border-radius: 50%;\n",
              "      cursor: pointer;\n",
              "      display: none;\n",
              "      fill: #1967D2;\n",
              "      height: 32px;\n",
              "      padding: 0 0 0 0;\n",
              "      width: 32px;\n",
              "    }\n",
              "\n",
              "    .colab-df-convert:hover {\n",
              "      background-color: #E2EBFA;\n",
              "      box-shadow: 0px 1px 2px rgba(60, 64, 67, 0.3), 0px 1px 3px 1px rgba(60, 64, 67, 0.15);\n",
              "      fill: #174EA6;\n",
              "    }\n",
              "\n",
              "    [theme=dark] .colab-df-convert {\n",
              "      background-color: #3B4455;\n",
              "      fill: #D2E3FC;\n",
              "    }\n",
              "\n",
              "    [theme=dark] .colab-df-convert:hover {\n",
              "      background-color: #434B5C;\n",
              "      box-shadow: 0px 1px 3px 1px rgba(0, 0, 0, 0.15);\n",
              "      filter: drop-shadow(0px 1px 2px rgba(0, 0, 0, 0.3));\n",
              "      fill: #FFFFFF;\n",
              "    }\n",
              "  </style>\n",
              "\n",
              "      <script>\n",
              "        const buttonEl =\n",
              "          document.querySelector('#df-c857026f-0c27-4045-aae5-1b586abaf86d button.colab-df-convert');\n",
              "        buttonEl.style.display =\n",
              "          google.colab.kernel.accessAllowed ? 'block' : 'none';\n",
              "\n",
              "        async function convertToInteractive(key) {\n",
              "          const element = document.querySelector('#df-c857026f-0c27-4045-aae5-1b586abaf86d');\n",
              "          const dataTable =\n",
              "            await google.colab.kernel.invokeFunction('convertToInteractive',\n",
              "                                                     [key], {});\n",
              "          if (!dataTable) return;\n",
              "\n",
              "          const docLinkHtml = 'Like what you see? Visit the ' +\n",
              "            '<a target=\"_blank\" href=https://colab.research.google.com/notebooks/data_table.ipynb>data table notebook</a>'\n",
              "            + ' to learn more about interactive tables.';\n",
              "          element.innerHTML = '';\n",
              "          dataTable['output_type'] = 'display_data';\n",
              "          await google.colab.output.renderOutput(dataTable, element);\n",
              "          const docLink = document.createElement('div');\n",
              "          docLink.innerHTML = docLinkHtml;\n",
              "          element.appendChild(docLink);\n",
              "        }\n",
              "      </script>\n",
              "    </div>\n",
              "  </div>\n",
              "  "
            ]
          },
          "metadata": {},
          "execution_count": 14
        }
      ]
    },
    {
      "cell_type": "code",
      "source": [
        "from datetime import datetime\n",
        "class MyUtils:\n",
        "  conclusion_map = {FIELD_CONCLUSION_FIT:'Годен', FIELD_CONCLUSION_PART_FIT:\"Частично годен\", FIELD_CONCLUSION_NOT_FIT: 'Негоден'}\n",
        "  @classmethod\n",
        "  def conclusion_labels(cls):\n",
        "    return  [cls.conclusion_map[k] for k in sorted(cls.conclusion_map)]\n",
        "\n",
        "  @classmethod\n",
        "  def resolve_conclusion_map(cls,x):\n",
        "    return cls.conclusion_map[x]\n",
        "  @staticmethod  \n",
        "  # Определяем функцию для расчета возраста на основе даты\n",
        "  def resolve_birthdate_to_age(date):\n",
        "    current_year = pd.Timestamp.now().year\n",
        "    age = current_year - date.year\n",
        "    return age\n",
        "  def resolve_genger(x):\n",
        "    if x == 'Мужской':\n",
        "        return FIELD_CLIENT_GENDER_M\n",
        "    elif x == 'Женский':\n",
        "        return FIELD_CLIENT_GENDER_F\n",
        "    else:\n",
        "        return None\n",
        "\n",
        "  def resolve_conclusion_binary(arg):\n",
        "    try:\n",
        "      if \"Годен\" == arg:\n",
        "        return FIELD_CONCLUSION_FIT\n",
        "      else:\n",
        "        return FIELD_CONCLUSION_NOT_FIT\n",
        "    except (TypeError):\n",
        "        return None\n",
        "  def resolve_conclusion(arg):\n",
        "    try:\n",
        "      if \"Годен\" == arg:\n",
        "        return FIELD_CONCLUSION_FIT\n",
        "      elif \"Негоден\" in arg:\n",
        "        return FIELD_CONCLUSION_NOT_FIT\n",
        "      elif \"Годен\" in arg:\n",
        "        return FIELD_CONCLUSION_PART_FIT\n",
        "      else:\n",
        "        return FIELD_CONCLUSION_NOT_FIT\n",
        "    except (TypeError):\n",
        "        return None\n",
        "  def resolve_dispansary_group(arg):\n",
        "    try:\n",
        "      if arg == \"I\":\n",
        "        return FIELD_DISPANSARY_GROUP_I\n",
        "      elif arg == \"II\":\n",
        "        return FIELD_DISPANSARY_GROUP_II\n",
        "      elif \"III\" in arg :\n",
        "        return FIELD_DISPANSARY_GROUP_III\n",
        "      else:\n",
        "        return FIELD_DISPANSARY_GROUP_OTHER\n",
        "    except (TypeError):\n",
        "        return None\n",
        "  def resolve_age_to_category(arg):\n",
        "    outClass =int((arg-13)/5)\n",
        "    outClass = max(0, min(10,outClass))\n",
        "    return outClass"
      ],
      "metadata": {
        "id": "no1rdjq8gAo5"
      },
      "outputs": [],
      "execution_count": 15
    },
    {
      "cell_type": "code",
      "source": [
        "# Преобразование заключения в цифру\n",
        "df[FIELD_CONCLUSION] = df[FIELD_CONCLUSION].apply(lambda x: MyUtils.resolve_conclusion(x))"
      ],
      "metadata": {
        "id": "K_y8i4Lhids7"
      },
      "outputs": [],
      "execution_count": 16
    },
    {
      "cell_type": "code",
      "source": [
        "# Преобразование колонки возраста в цифровой вид\n",
        "df[FIELD_CLIENT_AGE] = df[FIELD_CLIENT_BIRTH_DAY].apply(MyUtils.resolve_birthdate_to_age)\n",
        "\n",
        "# разделение возраста на категории\n",
        "df[FIELD_NEW_AGE_CATEGORY] = df[FIELD_CLIENT_AGE].apply(MyUtils.resolve_age_to_category)\n",
        "\n",
        "# Пол в цифру\n",
        "df[FIELD_CLIENT_GENDER] = df[FIELD_CLIENT_GENDER].apply(lambda x: MyUtils.resolve_genger(x) if pd.notnull(x) else x)\n",
        "\n",
        "# Удалим неиспользованные колонки\n",
        "del df[FIELD_CLIENT_BIRTH_DAY]\n",
        "del  df[FIELD_CLIENT_AGE]"
      ],
      "metadata": {
        "id": "pDec93FchU2W"
      },
      "outputs": [],
      "execution_count": 17
    },
    {
      "cell_type": "code",
      "source": [
        "#Преобразование диспансерных групп в цифру\n",
        "df[FIELD_DISPANSARY_GROUP] = df[FIELD_DISPANSARY_GROUP].apply(MyUtils.resolve_dispansary_group)"
      ],
      "metadata": {
        "id": "A2mCflmmh8j_"
      },
      "outputs": [],
      "execution_count": 18
    },
    {
      "cell_type": "code",
      "source": [
        "# разделяем факторы по одному значению\n",
        "df[FIELD_HARMFUL_FACTORS] = df[FIELD_HARMFUL_FACTORS].str.split(\",\")"
      ],
      "metadata": {
        "id": "O8GH_WB1ImjW"
      },
      "outputs": [],
      "execution_count": 19
    },
    {
      "cell_type": "code",
      "source": [
        "df.dropna(inplace = True)"
      ],
      "metadata": {
        "id": "3LHxZ1wDxty6"
      },
      "outputs": [],
      "execution_count": 20
    },
    {
      "cell_type": "markdown",
      "source": [
        "Подготавливаю все однозначные цифровые данные в OHE"
      ],
      "metadata": {
        "id": "Yz7Il0yQ-cmx"
      }
    },
    {
      "cell_type": "code",
      "source": [
        "# Объединяю категориальные значения в OHE\n",
        "df_ohe  = pd.get_dummies(df[[FIELD_CLIENT_GENDER, FIELD_DISPANSARY_GROUP, FIELD_NEW_AGE_CATEGORY]],  columns = [FIELD_CLIENT_GENDER, FIELD_DISPANSARY_GROUP, FIELD_NEW_AGE_CATEGORY] )\n",
        "xTrain0 = df_ohe.values\n",
        "xTrain0.shape\n"
      ],
      "metadata": {
        "id": "yOrH0jogzbIA",
        "outputId": "1f88edd4-6cf3-409f-804c-3a4cc18e0098",
        "colab": {
          "base_uri": "https://localhost:8080/"
        }
      },
      "outputs": [
        {
          "output_type": "execute_result",
          "data": {
            "text/plain": [
              "(1562, 16)"
            ]
          },
          "metadata": {},
          "execution_count": 21
        }
      ],
      "execution_count": 21
    },
    {
      "cell_type": "code",
      "source": [
        "yTrain =  pd.get_dummies(df[FIELD_CONCLUSION]).values"
      ],
      "metadata": {
        "id": "uWqHha7N5rhy"
      },
      "outputs": [],
      "execution_count": 22
    },
    {
      "cell_type": "code",
      "source": [
        "Y_CLASSES = yTrain.shape[1]\n",
        "Y_CLASSES"
      ],
      "metadata": {
        "colab": {
          "base_uri": "https://localhost:8080/"
        },
        "id": "eotMwYrWTXzq",
        "outputId": "84b5a920-c846-448a-9afb-71450de633e0"
      },
      "outputs": [
        {
          "output_type": "execute_result",
          "data": {
            "text/plain": [
              "3"
            ]
          },
          "metadata": {},
          "execution_count": 23
        }
      ],
      "execution_count": 23
    },
    {
      "cell_type": "markdown",
      "source": [
        "Токенизируем наши поля"
      ],
      "metadata": {
        "id": "0gaR78O_TzEC"
      }
    },
    {
      "cell_type": "markdown",
      "source": [
        "Это моя обертка над токенизатором, для удобства использования для повторяющейся задачи"
      ],
      "metadata": {
        "id": "5K2ghKaakUXu"
      }
    },
    {
      "cell_type": "code",
      "source": [
        "np_len = np.vectorize(len)\n",
        "\n",
        "\n",
        "class MySequences:\n",
        "  value = None\n",
        "  max_len = None\n",
        "  def get_padded(self):\n",
        "    return pad_sequences(self.value, maxlen=self.max_len, padding='post')\n",
        "\n",
        "\n",
        "class MyTokenizer:\n",
        "  tokenizer:Tokenizer\n",
        "  _indexed = None\n",
        "  def __init__(self, *tokenizer_args, **tokenizer_kwargs):\n",
        "    self.tokenizer = Tokenizer(*tokenizer_args, **tokenizer_kwargs)\n",
        "    \n",
        "  @property\n",
        "  def vocab_size(self):\n",
        "    return len(self.tokenizer.word_index) + 1\n",
        " \n",
        "  def fit_on_texts(self, series):\n",
        "    self.tokenizer.fit_on_texts(series)\n",
        " \n",
        "  def texts_to_sequences(self, series):\n",
        "    \n",
        "    self._indexed = MySequences()\n",
        "\n",
        "\n",
        "    self._indexed.value = self.tokenizer.texts_to_sequences(series)\n",
        "    self._indexed.max_len = np_len(self._indexed.value).max()\n",
        "    return self._indexed\n",
        "  \n",
        "  def process_data(self, series):\n",
        "    self.fit_on_texts(series)\n",
        "    self.texts_to_sequences(series)\n",
        "  \n",
        "  @property\n",
        "  def indexed(self)->MySequences:\n",
        "    return self._indexed\n",
        "\n",
        "  def __call__(self):\n",
        "    return self.tokenizer"
      ],
      "metadata": {
        "id": "eZaVjrHmNfQI"
      },
      "execution_count": 24,
      "outputs": []
    },
    {
      "cell_type": "code",
      "source": [
        "df"
      ],
      "metadata": {
        "colab": {
          "base_uri": "https://localhost:8080/",
          "height": 765
        },
        "id": "7wX_D0BPTYog",
        "outputId": "351ff727-adc9-4c7c-90be-39c3abe552c8"
      },
      "execution_count": 25,
      "outputs": [
        {
          "output_type": "execute_result",
          "data": {
            "text/plain": [
              "      КлиентПол  ЗаключениеМК  ДиспансернаяГруппа   ВредныеФакторы  \\\n",
              "0             1           1.0                 0.0           [11.4]   \n",
              "1             0           1.0                 2.0          [4.2.5]   \n",
              "2             0           2.0                 1.0          [4.2.5]   \n",
              "3             0           1.0                 0.0           [11.1]   \n",
              "4             0           2.0                 1.0           [11.1]   \n",
              "...         ...           ...                 ...              ...   \n",
              "1956          0           1.0                 1.0  [4.4, 4.5, 6.1]   \n",
              "1957          0           1.0                 0.0  [4.4, 4.5, 6.1]   \n",
              "1958          0           1.0                 0.0            [4.4]   \n",
              "1968          0           1.0                 0.0        [3.1.8.2]   \n",
              "1969          0           1.0                 0.0     [4.2.5, 6.1]   \n",
              "\n",
              "                                              Профессия  \\\n",
              "0             Ведущий специалист по организации обуения   \n",
              "1                                    Ведущий специалист   \n",
              "2                                      Главный менеджер   \n",
              "3                                    Главный специалист   \n",
              "4                                    Старший специалист   \n",
              "...                                                 ...   \n",
              "1956                                            Инженер   \n",
              "1957                                            Инженер   \n",
              "1958                              Начальник лаборатории   \n",
              "1968  Инженер по бурению 1 категории, непосредственн...   \n",
              "1969                           Приемщик вагонов в депо    \n",
              "\n",
              "                                                Diagnoz  \\\n",
              "0                                                         \n",
              "1     Терапия Гипертензивная [гипертоническая] болез...   \n",
              "2                                  Офтальмология Миопия   \n",
              "3                                                         \n",
              "4                             Офтальмология Астигматизм   \n",
              "...                                                 ...   \n",
              "1956                               Офтальмология Миопия   \n",
              "1957                                                      \n",
              "1958                                                      \n",
              "1968                                                      \n",
              "1969                                                      \n",
              "\n",
              "                                     Дополнения сводные                 mkbs  \\\n",
              "0     Эндоскопия Дискинезия желчевыводящих путей ,Те...                        \n",
              "1                                 Терапия В анамнезе ГБ        Терапия I11.9   \n",
              "2     Терапия карбомезипин,мексидол,Офтальмология но...  Офтальмология H52.1   \n",
              "3     Эндоскопия Патологии со стороны слизистой пище...                        \n",
              "4     Эндоскопия Без патологии.,Офтальмология носит ...  Офтальмология H52.2   \n",
              "...                                                 ...                  ...   \n",
              "1956  Офтальмология 1,0,Офтальмология -0,75 -0,50/-0,50  Офтальмология H52.1   \n",
              "1957                                                                           \n",
              "1958                                                                           \n",
              "1968                                                                           \n",
              "1969  Офтальмология 2019г Лазик (-3.0),Психиатрия На...                        \n",
              "\n",
              "      ВозрастКатегория  \n",
              "0                    6  \n",
              "1                    4  \n",
              "2                    5  \n",
              "3                    4  \n",
              "4                    5  \n",
              "...                ...  \n",
              "1956                 4  \n",
              "1957                 3  \n",
              "1958                 4  \n",
              "1968                 4  \n",
              "1969                 3  \n",
              "\n",
              "[1562 rows x 9 columns]"
            ],
            "text/html": [
              "\n",
              "  <div id=\"df-f4f5e499-1921-4aca-a58b-1ec518bf0e36\">\n",
              "    <div class=\"colab-df-container\">\n",
              "      <div>\n",
              "<style scoped>\n",
              "    .dataframe tbody tr th:only-of-type {\n",
              "        vertical-align: middle;\n",
              "    }\n",
              "\n",
              "    .dataframe tbody tr th {\n",
              "        vertical-align: top;\n",
              "    }\n",
              "\n",
              "    .dataframe thead th {\n",
              "        text-align: right;\n",
              "    }\n",
              "</style>\n",
              "<table border=\"1\" class=\"dataframe\">\n",
              "  <thead>\n",
              "    <tr style=\"text-align: right;\">\n",
              "      <th></th>\n",
              "      <th>КлиентПол</th>\n",
              "      <th>ЗаключениеМК</th>\n",
              "      <th>ДиспансернаяГруппа</th>\n",
              "      <th>ВредныеФакторы</th>\n",
              "      <th>Профессия</th>\n",
              "      <th>Diagnoz</th>\n",
              "      <th>Дополнения сводные</th>\n",
              "      <th>mkbs</th>\n",
              "      <th>ВозрастКатегория</th>\n",
              "    </tr>\n",
              "  </thead>\n",
              "  <tbody>\n",
              "    <tr>\n",
              "      <th>0</th>\n",
              "      <td>1</td>\n",
              "      <td>1.0</td>\n",
              "      <td>0.0</td>\n",
              "      <td>[11.4]</td>\n",
              "      <td>Ведущий специалист по организации обуения</td>\n",
              "      <td></td>\n",
              "      <td>Эндоскопия Дискинезия желчевыводящих путей ,Те...</td>\n",
              "      <td></td>\n",
              "      <td>6</td>\n",
              "    </tr>\n",
              "    <tr>\n",
              "      <th>1</th>\n",
              "      <td>0</td>\n",
              "      <td>1.0</td>\n",
              "      <td>2.0</td>\n",
              "      <td>[4.2.5]</td>\n",
              "      <td>Ведущий специалист</td>\n",
              "      <td>Терапия Гипертензивная [гипертоническая] болез...</td>\n",
              "      <td>Терапия В анамнезе ГБ</td>\n",
              "      <td>Терапия I11.9</td>\n",
              "      <td>4</td>\n",
              "    </tr>\n",
              "    <tr>\n",
              "      <th>2</th>\n",
              "      <td>0</td>\n",
              "      <td>2.0</td>\n",
              "      <td>1.0</td>\n",
              "      <td>[4.2.5]</td>\n",
              "      <td>Главный менеджер</td>\n",
              "      <td>Офтальмология Миопия</td>\n",
              "      <td>Терапия карбомезипин,мексидол,Офтальмология но...</td>\n",
              "      <td>Офтальмология H52.1</td>\n",
              "      <td>5</td>\n",
              "    </tr>\n",
              "    <tr>\n",
              "      <th>3</th>\n",
              "      <td>0</td>\n",
              "      <td>1.0</td>\n",
              "      <td>0.0</td>\n",
              "      <td>[11.1]</td>\n",
              "      <td>Главный специалист</td>\n",
              "      <td></td>\n",
              "      <td>Эндоскопия Патологии со стороны слизистой пище...</td>\n",
              "      <td></td>\n",
              "      <td>4</td>\n",
              "    </tr>\n",
              "    <tr>\n",
              "      <th>4</th>\n",
              "      <td>0</td>\n",
              "      <td>2.0</td>\n",
              "      <td>1.0</td>\n",
              "      <td>[11.1]</td>\n",
              "      <td>Старший специалист</td>\n",
              "      <td>Офтальмология Астигматизм</td>\n",
              "      <td>Эндоскопия Без патологии.,Офтальмология носит ...</td>\n",
              "      <td>Офтальмология H52.2</td>\n",
              "      <td>5</td>\n",
              "    </tr>\n",
              "    <tr>\n",
              "      <th>...</th>\n",
              "      <td>...</td>\n",
              "      <td>...</td>\n",
              "      <td>...</td>\n",
              "      <td>...</td>\n",
              "      <td>...</td>\n",
              "      <td>...</td>\n",
              "      <td>...</td>\n",
              "      <td>...</td>\n",
              "      <td>...</td>\n",
              "    </tr>\n",
              "    <tr>\n",
              "      <th>1956</th>\n",
              "      <td>0</td>\n",
              "      <td>1.0</td>\n",
              "      <td>1.0</td>\n",
              "      <td>[4.4, 4.5, 6.1]</td>\n",
              "      <td>Инженер</td>\n",
              "      <td>Офтальмология Миопия</td>\n",
              "      <td>Офтальмология 1,0,Офтальмология -0,75 -0,50/-0,50</td>\n",
              "      <td>Офтальмология H52.1</td>\n",
              "      <td>4</td>\n",
              "    </tr>\n",
              "    <tr>\n",
              "      <th>1957</th>\n",
              "      <td>0</td>\n",
              "      <td>1.0</td>\n",
              "      <td>0.0</td>\n",
              "      <td>[4.4, 4.5, 6.1]</td>\n",
              "      <td>Инженер</td>\n",
              "      <td></td>\n",
              "      <td></td>\n",
              "      <td></td>\n",
              "      <td>3</td>\n",
              "    </tr>\n",
              "    <tr>\n",
              "      <th>1958</th>\n",
              "      <td>0</td>\n",
              "      <td>1.0</td>\n",
              "      <td>0.0</td>\n",
              "      <td>[4.4]</td>\n",
              "      <td>Начальник лаборатории</td>\n",
              "      <td></td>\n",
              "      <td></td>\n",
              "      <td></td>\n",
              "      <td>4</td>\n",
              "    </tr>\n",
              "    <tr>\n",
              "      <th>1968</th>\n",
              "      <td>0</td>\n",
              "      <td>1.0</td>\n",
              "      <td>0.0</td>\n",
              "      <td>[3.1.8.2]</td>\n",
              "      <td>Инженер по бурению 1 категории, непосредственн...</td>\n",
              "      <td></td>\n",
              "      <td></td>\n",
              "      <td></td>\n",
              "      <td>4</td>\n",
              "    </tr>\n",
              "    <tr>\n",
              "      <th>1969</th>\n",
              "      <td>0</td>\n",
              "      <td>1.0</td>\n",
              "      <td>0.0</td>\n",
              "      <td>[4.2.5, 6.1]</td>\n",
              "      <td>Приемщик вагонов в депо</td>\n",
              "      <td></td>\n",
              "      <td>Офтальмология 2019г Лазик (-3.0),Психиатрия На...</td>\n",
              "      <td></td>\n",
              "      <td>3</td>\n",
              "    </tr>\n",
              "  </tbody>\n",
              "</table>\n",
              "<p>1562 rows × 9 columns</p>\n",
              "</div>\n",
              "      <button class=\"colab-df-convert\" onclick=\"convertToInteractive('df-f4f5e499-1921-4aca-a58b-1ec518bf0e36')\"\n",
              "              title=\"Convert this dataframe to an interactive table.\"\n",
              "              style=\"display:none;\">\n",
              "        \n",
              "  <svg xmlns=\"http://www.w3.org/2000/svg\" height=\"24px\"viewBox=\"0 0 24 24\"\n",
              "       width=\"24px\">\n",
              "    <path d=\"M0 0h24v24H0V0z\" fill=\"none\"/>\n",
              "    <path d=\"M18.56 5.44l.94 2.06.94-2.06 2.06-.94-2.06-.94-.94-2.06-.94 2.06-2.06.94zm-11 1L8.5 8.5l.94-2.06 2.06-.94-2.06-.94L8.5 2.5l-.94 2.06-2.06.94zm10 10l.94 2.06.94-2.06 2.06-.94-2.06-.94-.94-2.06-.94 2.06-2.06.94z\"/><path d=\"M17.41 7.96l-1.37-1.37c-.4-.4-.92-.59-1.43-.59-.52 0-1.04.2-1.43.59L10.3 9.45l-7.72 7.72c-.78.78-.78 2.05 0 2.83L4 21.41c.39.39.9.59 1.41.59.51 0 1.02-.2 1.41-.59l7.78-7.78 2.81-2.81c.8-.78.8-2.07 0-2.86zM5.41 20L4 18.59l7.72-7.72 1.47 1.35L5.41 20z\"/>\n",
              "  </svg>\n",
              "      </button>\n",
              "      \n",
              "  <style>\n",
              "    .colab-df-container {\n",
              "      display:flex;\n",
              "      flex-wrap:wrap;\n",
              "      gap: 12px;\n",
              "    }\n",
              "\n",
              "    .colab-df-convert {\n",
              "      background-color: #E8F0FE;\n",
              "      border: none;\n",
              "      border-radius: 50%;\n",
              "      cursor: pointer;\n",
              "      display: none;\n",
              "      fill: #1967D2;\n",
              "      height: 32px;\n",
              "      padding: 0 0 0 0;\n",
              "      width: 32px;\n",
              "    }\n",
              "\n",
              "    .colab-df-convert:hover {\n",
              "      background-color: #E2EBFA;\n",
              "      box-shadow: 0px 1px 2px rgba(60, 64, 67, 0.3), 0px 1px 3px 1px rgba(60, 64, 67, 0.15);\n",
              "      fill: #174EA6;\n",
              "    }\n",
              "\n",
              "    [theme=dark] .colab-df-convert {\n",
              "      background-color: #3B4455;\n",
              "      fill: #D2E3FC;\n",
              "    }\n",
              "\n",
              "    [theme=dark] .colab-df-convert:hover {\n",
              "      background-color: #434B5C;\n",
              "      box-shadow: 0px 1px 3px 1px rgba(0, 0, 0, 0.15);\n",
              "      filter: drop-shadow(0px 1px 2px rgba(0, 0, 0, 0.3));\n",
              "      fill: #FFFFFF;\n",
              "    }\n",
              "  </style>\n",
              "\n",
              "      <script>\n",
              "        const buttonEl =\n",
              "          document.querySelector('#df-f4f5e499-1921-4aca-a58b-1ec518bf0e36 button.colab-df-convert');\n",
              "        buttonEl.style.display =\n",
              "          google.colab.kernel.accessAllowed ? 'block' : 'none';\n",
              "\n",
              "        async function convertToInteractive(key) {\n",
              "          const element = document.querySelector('#df-f4f5e499-1921-4aca-a58b-1ec518bf0e36');\n",
              "          const dataTable =\n",
              "            await google.colab.kernel.invokeFunction('convertToInteractive',\n",
              "                                                     [key], {});\n",
              "          if (!dataTable) return;\n",
              "\n",
              "          const docLinkHtml = 'Like what you see? Visit the ' +\n",
              "            '<a target=\"_blank\" href=https://colab.research.google.com/notebooks/data_table.ipynb>data table notebook</a>'\n",
              "            + ' to learn more about interactive tables.';\n",
              "          element.innerHTML = '';\n",
              "          dataTable['output_type'] = 'display_data';\n",
              "          await google.colab.output.renderOutput(dataTable, element);\n",
              "          const docLink = document.createElement('div');\n",
              "          docLink.innerHTML = docLinkHtml;\n",
              "          element.appendChild(docLink);\n",
              "        }\n",
              "      </script>\n",
              "    </div>\n",
              "  </div>\n",
              "  "
            ]
          },
          "metadata": {},
          "execution_count": 25
        }
      ]
    },
    {
      "cell_type": "code",
      "source": [
        "df[[FIELD_NEW_AGE_CATEGORY, FIELD_CLIENT_GENDER, FIELD_DISPANSARY_GROUP]]\n"
      ],
      "metadata": {
        "id": "J1HohUNcZ_Bd",
        "outputId": "59c35e63-68f9-40f9-c313-cf2c946f04e6",
        "colab": {
          "base_uri": "https://localhost:8080/",
          "height": 423
        }
      },
      "execution_count": 32,
      "outputs": [
        {
          "output_type": "execute_result",
          "data": {
            "text/plain": [
              "      ВозрастКатегория  КлиентПол  ДиспансернаяГруппа\n",
              "0                    6          1                 0.0\n",
              "1                    4          0                 2.0\n",
              "2                    5          0                 1.0\n",
              "3                    4          0                 0.0\n",
              "4                    5          0                 1.0\n",
              "...                ...        ...                 ...\n",
              "1956                 4          0                 1.0\n",
              "1957                 3          0                 0.0\n",
              "1958                 4          0                 0.0\n",
              "1968                 4          0                 0.0\n",
              "1969                 3          0                 0.0\n",
              "\n",
              "[1562 rows x 3 columns]"
            ],
            "text/html": [
              "\n",
              "  <div id=\"df-fdef4ded-a037-4a88-99e1-03d5b4c40b09\">\n",
              "    <div class=\"colab-df-container\">\n",
              "      <div>\n",
              "<style scoped>\n",
              "    .dataframe tbody tr th:only-of-type {\n",
              "        vertical-align: middle;\n",
              "    }\n",
              "\n",
              "    .dataframe tbody tr th {\n",
              "        vertical-align: top;\n",
              "    }\n",
              "\n",
              "    .dataframe thead th {\n",
              "        text-align: right;\n",
              "    }\n",
              "</style>\n",
              "<table border=\"1\" class=\"dataframe\">\n",
              "  <thead>\n",
              "    <tr style=\"text-align: right;\">\n",
              "      <th></th>\n",
              "      <th>ВозрастКатегория</th>\n",
              "      <th>КлиентПол</th>\n",
              "      <th>ДиспансернаяГруппа</th>\n",
              "    </tr>\n",
              "  </thead>\n",
              "  <tbody>\n",
              "    <tr>\n",
              "      <th>0</th>\n",
              "      <td>6</td>\n",
              "      <td>1</td>\n",
              "      <td>0.0</td>\n",
              "    </tr>\n",
              "    <tr>\n",
              "      <th>1</th>\n",
              "      <td>4</td>\n",
              "      <td>0</td>\n",
              "      <td>2.0</td>\n",
              "    </tr>\n",
              "    <tr>\n",
              "      <th>2</th>\n",
              "      <td>5</td>\n",
              "      <td>0</td>\n",
              "      <td>1.0</td>\n",
              "    </tr>\n",
              "    <tr>\n",
              "      <th>3</th>\n",
              "      <td>4</td>\n",
              "      <td>0</td>\n",
              "      <td>0.0</td>\n",
              "    </tr>\n",
              "    <tr>\n",
              "      <th>4</th>\n",
              "      <td>5</td>\n",
              "      <td>0</td>\n",
              "      <td>1.0</td>\n",
              "    </tr>\n",
              "    <tr>\n",
              "      <th>...</th>\n",
              "      <td>...</td>\n",
              "      <td>...</td>\n",
              "      <td>...</td>\n",
              "    </tr>\n",
              "    <tr>\n",
              "      <th>1956</th>\n",
              "      <td>4</td>\n",
              "      <td>0</td>\n",
              "      <td>1.0</td>\n",
              "    </tr>\n",
              "    <tr>\n",
              "      <th>1957</th>\n",
              "      <td>3</td>\n",
              "      <td>0</td>\n",
              "      <td>0.0</td>\n",
              "    </tr>\n",
              "    <tr>\n",
              "      <th>1958</th>\n",
              "      <td>4</td>\n",
              "      <td>0</td>\n",
              "      <td>0.0</td>\n",
              "    </tr>\n",
              "    <tr>\n",
              "      <th>1968</th>\n",
              "      <td>4</td>\n",
              "      <td>0</td>\n",
              "      <td>0.0</td>\n",
              "    </tr>\n",
              "    <tr>\n",
              "      <th>1969</th>\n",
              "      <td>3</td>\n",
              "      <td>0</td>\n",
              "      <td>0.0</td>\n",
              "    </tr>\n",
              "  </tbody>\n",
              "</table>\n",
              "<p>1562 rows × 3 columns</p>\n",
              "</div>\n",
              "      <button class=\"colab-df-convert\" onclick=\"convertToInteractive('df-fdef4ded-a037-4a88-99e1-03d5b4c40b09')\"\n",
              "              title=\"Convert this dataframe to an interactive table.\"\n",
              "              style=\"display:none;\">\n",
              "        \n",
              "  <svg xmlns=\"http://www.w3.org/2000/svg\" height=\"24px\"viewBox=\"0 0 24 24\"\n",
              "       width=\"24px\">\n",
              "    <path d=\"M0 0h24v24H0V0z\" fill=\"none\"/>\n",
              "    <path d=\"M18.56 5.44l.94 2.06.94-2.06 2.06-.94-2.06-.94-.94-2.06-.94 2.06-2.06.94zm-11 1L8.5 8.5l.94-2.06 2.06-.94-2.06-.94L8.5 2.5l-.94 2.06-2.06.94zm10 10l.94 2.06.94-2.06 2.06-.94-2.06-.94-.94-2.06-.94 2.06-2.06.94z\"/><path d=\"M17.41 7.96l-1.37-1.37c-.4-.4-.92-.59-1.43-.59-.52 0-1.04.2-1.43.59L10.3 9.45l-7.72 7.72c-.78.78-.78 2.05 0 2.83L4 21.41c.39.39.9.59 1.41.59.51 0 1.02-.2 1.41-.59l7.78-7.78 2.81-2.81c.8-.78.8-2.07 0-2.86zM5.41 20L4 18.59l7.72-7.72 1.47 1.35L5.41 20z\"/>\n",
              "  </svg>\n",
              "      </button>\n",
              "      \n",
              "  <style>\n",
              "    .colab-df-container {\n",
              "      display:flex;\n",
              "      flex-wrap:wrap;\n",
              "      gap: 12px;\n",
              "    }\n",
              "\n",
              "    .colab-df-convert {\n",
              "      background-color: #E8F0FE;\n",
              "      border: none;\n",
              "      border-radius: 50%;\n",
              "      cursor: pointer;\n",
              "      display: none;\n",
              "      fill: #1967D2;\n",
              "      height: 32px;\n",
              "      padding: 0 0 0 0;\n",
              "      width: 32px;\n",
              "    }\n",
              "\n",
              "    .colab-df-convert:hover {\n",
              "      background-color: #E2EBFA;\n",
              "      box-shadow: 0px 1px 2px rgba(60, 64, 67, 0.3), 0px 1px 3px 1px rgba(60, 64, 67, 0.15);\n",
              "      fill: #174EA6;\n",
              "    }\n",
              "\n",
              "    [theme=dark] .colab-df-convert {\n",
              "      background-color: #3B4455;\n",
              "      fill: #D2E3FC;\n",
              "    }\n",
              "\n",
              "    [theme=dark] .colab-df-convert:hover {\n",
              "      background-color: #434B5C;\n",
              "      box-shadow: 0px 1px 3px 1px rgba(0, 0, 0, 0.15);\n",
              "      filter: drop-shadow(0px 1px 2px rgba(0, 0, 0, 0.3));\n",
              "      fill: #FFFFFF;\n",
              "    }\n",
              "  </style>\n",
              "\n",
              "      <script>\n",
              "        const buttonEl =\n",
              "          document.querySelector('#df-fdef4ded-a037-4a88-99e1-03d5b4c40b09 button.colab-df-convert');\n",
              "        buttonEl.style.display =\n",
              "          google.colab.kernel.accessAllowed ? 'block' : 'none';\n",
              "\n",
              "        async function convertToInteractive(key) {\n",
              "          const element = document.querySelector('#df-fdef4ded-a037-4a88-99e1-03d5b4c40b09');\n",
              "          const dataTable =\n",
              "            await google.colab.kernel.invokeFunction('convertToInteractive',\n",
              "                                                     [key], {});\n",
              "          if (!dataTable) return;\n",
              "\n",
              "          const docLinkHtml = 'Like what you see? Visit the ' +\n",
              "            '<a target=\"_blank\" href=https://colab.research.google.com/notebooks/data_table.ipynb>data table notebook</a>'\n",
              "            + ' to learn more about interactive tables.';\n",
              "          element.innerHTML = '';\n",
              "          dataTable['output_type'] = 'display_data';\n",
              "          await google.colab.output.renderOutput(dataTable, element);\n",
              "          const docLink = document.createElement('div');\n",
              "          docLink.innerHTML = docLinkHtml;\n",
              "          element.appendChild(docLink);\n",
              "        }\n",
              "      </script>\n",
              "    </div>\n",
              "  </div>\n",
              "  "
            ]
          },
          "metadata": {},
          "execution_count": 32
        }
      ]
    },
    {
      "cell_type": "code",
      "source": [
        "df[FIELD_CLIENT_PROFESSION]"
      ],
      "metadata": {
        "id": "WMDSZk1NZwJs",
        "outputId": "c5228113-197b-4cfa-d6dc-4114db92798a",
        "colab": {
          "base_uri": "https://localhost:8080/"
        }
      },
      "execution_count": 27,
      "outputs": [
        {
          "output_type": "execute_result",
          "data": {
            "text/plain": [
              "0               Ведущий специалист по организации обуения\n",
              "1                                      Ведущий специалист\n",
              "2                                        Главный менеджер\n",
              "3                                      Главный специалист\n",
              "4                                      Старший специалист\n",
              "                              ...                        \n",
              "1956                                              Инженер\n",
              "1957                                              Инженер\n",
              "1958                                Начальник лаборатории\n",
              "1968    Инженер по бурению 1 категории, непосредственн...\n",
              "1969                             Приемщик вагонов в депо \n",
              "Name: Профессия, Length: 1562, dtype: object"
            ]
          },
          "metadata": {},
          "execution_count": 27
        }
      ]
    },
    {
      "cell_type": "code",
      "source": [],
      "metadata": {
        "id": "8HRrclc2apOn"
      },
      "execution_count": null,
      "outputs": []
    },
    {
      "cell_type": "code",
      "source": [
        "df[FIELD_NEW_CLIENT_ADDITIONS]"
      ],
      "metadata": {
        "id": "4TyGXWtDanvy",
        "outputId": "a4364832-99cc-4da2-d243-d007c5d12ff7",
        "colab": {
          "base_uri": "https://localhost:8080/"
        }
      },
      "execution_count": 33,
      "outputs": [
        {
          "output_type": "execute_result",
          "data": {
            "text/plain": [
              "0       Эндоскопия Дискинезия желчевыводящих путей ,Те...\n",
              "1                                   Терапия В анамнезе ГБ\n",
              "2       Терапия карбомезипин,мексидол,Офтальмология но...\n",
              "3       Эндоскопия Патологии со стороны слизистой пище...\n",
              "4       Эндоскопия Без патологии.,Офтальмология носит ...\n",
              "                              ...                        \n",
              "1956    Офтальмология 1,0,Офтальмология -0,75 -0,50/-0,50\n",
              "1957                                                     \n",
              "1958                                                     \n",
              "1968                                                     \n",
              "1969    Офтальмология 2019г Лазик (-3.0),Психиатрия На...\n",
              "Name: Дополнения сводные, Length: 1562, dtype: object"
            ]
          },
          "metadata": {},
          "execution_count": 33
        }
      ]
    },
    {
      "cell_type": "code",
      "source": [
        "df[FIELD_HARMFUL_FACTORS]"
      ],
      "metadata": {
        "id": "a8Rc1Sqka6U7",
        "outputId": "0a351c98-4a37-43ea-d201-ab386ba1075c",
        "colab": {
          "base_uri": "https://localhost:8080/"
        }
      },
      "execution_count": 35,
      "outputs": [
        {
          "output_type": "execute_result",
          "data": {
            "text/plain": [
              "0                [11.4]\n",
              "1               [4.2.5]\n",
              "2               [4.2.5]\n",
              "3                [11.1]\n",
              "4                [11.1]\n",
              "             ...       \n",
              "1956    [4.4, 4.5, 6.1]\n",
              "1957    [4.4, 4.5, 6.1]\n",
              "1958              [4.4]\n",
              "1968          [3.1.8.2]\n",
              "1969       [4.2.5, 6.1]\n",
              "Name: ВредныеФакторы, Length: 1562, dtype: object"
            ]
          },
          "metadata": {},
          "execution_count": 35
        }
      ]
    },
    {
      "cell_type": "code",
      "source": [
        "# создаем входной узел для структурированных данных\n",
        "x_base = ak.StructuredDataInput()\n",
        "x_base = ak.StructuredDataBlock()(x_base)\n",
        "\n",
        "# создаем входной узел для текстовых данных\n",
        "x_prof = ak.TextInput()\n",
        "x_prof = ak.TextToIntSequence()(x_prof)\n",
        "x_prof = ak.Embedding()(x_prof)\n",
        "x_prof = ak.ConvBlock(separable=True)(x_prof)\n",
        "\n",
        "# создаем входной узел для текстовых данных\n",
        "x_ = ak.TextInput()\n",
        "x_prof = ak.TextToIntSequence()(x_prof)\n",
        "x_prof = ak.Embedding()(x_prof)\n",
        "x_prof = ak.ConvBlock(separable=True)(x_prof)\n",
        "# объединяем оба выхода\n",
        "\n",
        "# объединяем оба выхода\n",
        "merged_output = ak.Merge()([x_base, x_prof])\n",
        "\n",
        "# добавляем выходной узел для классификации\n",
        "output_node = ak.ClassificationHead(num_classes=3)(merged_output)\n",
        "\n",
        "# создаем и обучаем автомодель\n",
        "auto_model = ak.AutoModel(\n",
        "    inputs=[\n",
        "      df[[FIELD_NEW_AGE_CATEGORY, FIELD_CLIENT_GENDER, FIELD_DISPANSARY_GROUP]],\n",
        "      df[FIELD_HARMFUL_FACTORS],\n",
        "      df[FIELD_CLIENT_PROFESSION],\n",
        "      df[FIELD_NEW_CLIENT_ADDITIONS],\n",
        "      df[FIELD_NEW_CLIENT_DIAG]\n",
        "      ], \n",
        "    outputs=output_node, \n",
        "    overwrite=True, \n",
        "    max_trials=3\n",
        ")\n",
        "\n",
        "x_train_text = ...  # ваша текстовая обучающая выборка\n",
        "y_train = ...  # ваши обучающие метки\n",
        "y_train = to_categorical(y_train, num_classes=3)  # one-hot encoding для меток классов\n",
        "\n",
        "auto_model.fit([\n",
        "      df[[FIELD_NEW_AGE_CATEGORY, FIELD_CLIENT_GENDER, FIELD_DISPANSARY_GROUP]],\n",
        "      df[FIELD_CLIENT_PROFESSION],\n",
        "      df[FIELD]\n",
        "    ]\n",
        "    , y_train, epochs=10)"
      ],
      "metadata": {
        "id": "6vK6fig0TB9r"
      },
      "execution_count": null,
      "outputs": []
    },
    {
      "cell_type": "code",
      "source": [],
      "metadata": {
        "id": "tTFb33x9ZdIq",
        "outputId": "b4978739-e5c0-49f2-bf47-6644f0cc4822",
        "colab": {
          "base_uri": "https://localhost:8080/",
          "height": 169
        }
      },
      "execution_count": 2,
      "outputs": [
        {
          "output_type": "error",
          "ename": "NameError",
          "evalue": "ignored",
          "traceback": [
            "\u001b[0;31m---------------------------------------------------------------------------\u001b[0m",
            "\u001b[0;31mNameError\u001b[0m                                 Traceback (most recent call last)",
            "\u001b[0;32m<ipython-input-2-8bdbd4402401>\u001b[0m in \u001b[0;36m<cell line: 1>\u001b[0;34m()\u001b[0m\n\u001b[0;32m----> 1\u001b[0;31m \u001b[0mdf\u001b[0m\u001b[0;34m[\u001b[0m\u001b[0mFIELD_NEW_CLIENT_PROFESSION\u001b[0m\u001b[0;34m]\u001b[0m\u001b[0;34m\u001b[0m\u001b[0;34m\u001b[0m\u001b[0m\n\u001b[0m",
            "\u001b[0;31mNameError\u001b[0m: name 'df' is not defined"
          ]
        }
      ]
    }
  ]
}