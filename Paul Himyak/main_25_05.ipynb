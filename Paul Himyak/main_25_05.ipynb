{
  "nbformat": 4,
  "nbformat_minor": 0,
  "metadata": {
    "colab": {
      "provenance": [],
      "gpuType": "T4",
      "include_colab_link": true
    },
    "kernelspec": {
      "name": "python3",
      "display_name": "Python 3"
    },
    "language_info": {
      "name": "python"
    },
    "accelerator": "GPU"
  },
  "cells": [
    {
      "cell_type": "markdown",
      "metadata": {
        "id": "view-in-github",
        "colab_type": "text"
      },
      "source": [
        "<a href=\"https://colab.research.google.com/github/Untick/InspectrumClinic_RecSys/blob/main/Paul%20Himyak/main_25_05.ipynb\" target=\"_parent\"><img src=\"https://colab.research.google.com/assets/colab-badge.svg\" alt=\"Open In Colab\"/></a>"
      ]
    },
    {
      "cell_type": "code",
      "source": [
        "import pandas as pd\n",
        "import matplotlib.pyplot as plt\n",
        "import uuid\n",
        "import re\n",
        "import numpy as np\n",
        "import seaborn as sns\n",
        "from datetime import datetime\n",
        "\n",
        "from sklearn.model_selection import train_test_split \n",
        "from sklearn.metrics import confusion_matrix, ConfusionMatrixDisplay\n",
        "from sklearn.utils import resample\n",
        "\n",
        "from tensorflow.keras.preprocessing.text import Tokenizer\n",
        "from tensorflow.keras.preprocessing.sequence import pad_sequences\n",
        "\n",
        "from tensorflow.keras.layers import concatenate, Embedding, Conv1D, Input, Dense, Dropout, BatchNormalization, Flatten , SpatialDropout1D, Reshape, RepeatVector, GlobalMaxPooling1D\n",
        "from tensorflow.keras.models import Model\n",
        "from tensorflow.keras.optimizers import Adam\n",
        "import tensorflow.keras.losses as keras_losses\n",
        "import tensorflow.keras.metrics as keras_metrics\n",
        "from tensorflow.keras import utils\n",
        "import tensorflow as tf\n",
        "!pip install -q tensorflow-addons\n",
        "import tensorflow_addons as tfad\n",
        "\n",
        "import sklearn.metrics as skl_metrics\n",
        "\n",
        "\n",
        "\n",
        "\n",
        "import gdown"
      ],
      "metadata": {
        "id": "P83i6KfIF2gd"
      },
      "outputs": [],
      "execution_count": 110
    },
    {
      "cell_type": "code",
      "metadata": {
        "id": "1vSWmbjqEvHX",
        "colab": {
          "base_uri": "https://localhost:8080/",
          "height": 36
        },
        "outputId": "b62a8087-70b8-4b52-e046-1f995fa7e66e"
      },
      "outputs": [
        {
          "output_type": "execute_result",
          "data": {
            "text/plain": [
              "'profpatolog_modified.xlsx'"
            ],
            "application/vnd.google.colaboratory.intrinsic+json": {
              "type": "string"
            }
          },
          "metadata": {},
          "execution_count": 111
        }
      ],
      "source": [
        "dataset_url = \"https://drive.google.com/uc?export=download&id=1ErXvN290PPthLGsb0ALpa_0aUDnvC0jg\"\n",
        "#dataset_url = \"https://docs.google.com/spreadsheets/d/1ErXvN290PPthLGsb0ALpa_0aUDnvC0jg/edit?usp=share_link&ouid=113369956649761615778&rtpof=true&sd=true\"\n",
        "dataset_filename = \"profpatolog_modified.xlsx\"\n",
        "#!wget -qc dataset_url -O dataset_filename\n",
        "gdown.download(dataset_url, output=dataset_filename, quiet=True )\n"
      ],
      "execution_count": 111
    },
    {
      "cell_type": "code",
      "source": [
        "df = pd.read_excel(\"profpatolog_modified.xlsx\")\n"
      ],
      "metadata": {
        "id": "c2g1o_nMF48g"
      },
      "outputs": [],
      "execution_count": 112
    },
    {
      "cell_type": "code",
      "source": [
        "del df['Unnamed: 0']"
      ],
      "metadata": {
        "id": "QHIIwbuCxZjz"
      },
      "outputs": [],
      "execution_count": 113
    },
    {
      "cell_type": "code",
      "source": [
        "FIELD_CLIENT_AGE = \"КлиентВозраст\"\n",
        "FIELD_CLIENT_BIRTH_DAY = \"КлиентДатаРождения\"\n",
        "FIELD_CLIENT_GENDER = \"КлиентПол\"\n",
        "FIELD_CLIENT_GENDER_M = 0\n",
        "FIELD_CLIENT_GENDER_F = 1\n",
        "FIELD_CONCLUSION = \"ЗаключениеМК\"\n",
        "FIELD_CONCLUSION_FIT = 1\n",
        "FIELD_CONCLUSION_PART_FIT = 2\n",
        "FIELD_CONCLUSION_NOT_FIT = 0\n",
        "\n",
        "FIELD_DISPANSARY_GROUP = \"ДиспансернаяГруппа\"\n",
        "FIELD_DISPANSARY_GROUP_I = 0\n",
        "FIELD_DISPANSARY_GROUP_II = 1\n",
        "FIELD_DISPANSARY_GROUP_III = 2\n",
        "FIELD_DISPANSARY_GROUP_OTHER = 3\n",
        "\n",
        "FIELD_HARMFUL_FACTORS = \"ВредныеФакторы\"\n",
        "\n",
        "\n",
        "FIELD_NEW_AGE_CATEGORY = \"ВозрастКатегория\"\n",
        "FIELD_NEW_MKBS = \"mkbs\"\n",
        "\n",
        "FIELD_CLIENT_PROFESSION = \"Профессия\"\n",
        "FIELD_NEW_CLIENT_PROFESSION = \"Profession\"\n",
        "FIELD_NEW_CLIENT_ADDITIONS = \"Дополнения сводные\"\n",
        "FIELD_NEW_CLIENT_DIAG = \"Diagnoz\""
      ],
      "metadata": {
        "id": "ACwbB23gGTTN"
      },
      "outputs": [],
      "execution_count": 114
    },
    {
      "cell_type": "code",
      "source": [
        "import re\n",
        "#функция из названя столбца выделяет первое значение\n",
        "def extract_specialist_from_column_name(string):\n",
        "    # Выделить первую часть до символа `_`\n",
        "    first_part = string.split(\"_\")[0]\n",
        "\n",
        "    # Разбить первую часть на слова по стилю CamelCase и исключить цифры\n",
        "    words = re.findall('[A-ZА-ЯЁ][a-zа-яё]*', first_part)\n",
        "\n",
        "    # Объединить слова в строку с пробелами\n",
        "    result = ' '.join(words)\n",
        "\n",
        "    return result\n",
        "extract_specialist_from_column_name(\"ПсихиатрияНаркология1_ДиагнозПредставление1\")"
      ],
      "metadata": {
        "colab": {
          "base_uri": "https://localhost:8080/",
          "height": 36
        },
        "id": "Ex970gHu3EE-",
        "outputId": "4bb673b9-0aca-4fb0-a341-404648b749ed"
      },
      "execution_count": 115,
      "outputs": [
        {
          "output_type": "execute_result",
          "data": {
            "text/plain": [
              "'Психиатрия Наркология'"
            ],
            "application/vnd.google.colaboratory.intrinsic+json": {
              "type": "string"
            }
          },
          "metadata": {},
          "execution_count": 115
        }
      ]
    },
    {
      "cell_type": "code",
      "source": [
        "#функция объединения ячеек в одну удаляя ненужный символ и объединяя вместе с названиями колонок\n",
        "def join_not_nan_columns(df, columns_filter, value_for_unset = None):\n",
        "  if value_for_unset is not None:\n",
        "    df.loc[:, columns_filter.columns] = df.loc[:, columns_filter.columns].replace(value_for_unset, np.nan)\n",
        "  return df[columns_filter.columns].apply(lambda row: \",\".join(f\"{extract_specialist_from_column_name(column_name)} {value}\" for column_name, value in zip(columns_filter.columns, row) if pd.notna(value)), axis=1)\n",
        "  \n",
        "\n"
      ],
      "metadata": {
        "id": "czpGp1teAUWo"
      },
      "execution_count": 116,
      "outputs": []
    },
    {
      "cell_type": "code",
      "source": [
        "diag_filter = df.filter(regex=\"(?i)Диагноз\\s?Представление\")\n",
        "df[FIELD_NEW_CLIENT_DIAG] =  join_not_nan_columns(df, diag_filter, value_for_unset=\"Общий медицинский осмотр\")\n",
        "#Удаляю ненужные колонки\n",
        "df = df.drop(columns=diag_filter)"
      ],
      "metadata": {
        "colab": {
          "base_uri": "https://localhost:8080/"
        },
        "id": "OP63MSG-F9nL",
        "outputId": "9f299568-6732-4aad-d24e-daca18048162"
      },
      "execution_count": 117,
      "outputs": [
        {
          "output_type": "stream",
          "name": "stderr",
          "text": [
            "<ipython-input-116-15e3a35bde05>:4: DeprecationWarning: In a future version, `df.iloc[:, i] = newvals` will attempt to set the values inplace instead of always setting a new array. To retain the old behavior, use either `df[df.columns[i]] = newvals` or, if columns are non-unique, `df.isetitem(i, newvals)`\n",
            "  df.loc[:, columns_filter.columns] = df.loc[:, columns_filter.columns].replace(value_for_unset, np.nan)\n"
          ]
        }
      ]
    },
    {
      "cell_type": "code",
      "source": [
        "additions_filter = df.filter(regex=\"(?i)Дополнение_Значение$\")\n",
        "df[FIELD_NEW_CLIENT_ADDITIONS] = join_not_nan_columns(df, additions_filter)\n",
        "df = df.drop(columns=additions_filter)"
      ],
      "metadata": {
        "id": "HxJrSNPlaNKt"
      },
      "execution_count": 118,
      "outputs": []
    },
    {
      "cell_type": "code",
      "source": [
        "mkbs_filter = df.filter(regex=\"(?i)МКБ10\")\n",
        "df[FIELD_NEW_MKBS] = join_not_nan_columns(df, mkbs_filter, value_for_unset=\"Z00.0\")\n",
        "df = df.drop(columns=mkbs_filter)"
      ],
      "metadata": {
        "colab": {
          "base_uri": "https://localhost:8080/"
        },
        "id": "enBKwl4mJKGb",
        "outputId": "d492d682-061c-469e-bb90-90318bdc1001"
      },
      "execution_count": 119,
      "outputs": [
        {
          "output_type": "stream",
          "name": "stderr",
          "text": [
            "<ipython-input-116-15e3a35bde05>:4: DeprecationWarning: In a future version, `df.iloc[:, i] = newvals` will attempt to set the values inplace instead of always setting a new array. To retain the old behavior, use either `df[df.columns[i]] = newvals` or, if columns are non-unique, `df.isetitem(i, newvals)`\n",
            "  df.loc[:, columns_filter.columns] = df.loc[:, columns_filter.columns].replace(value_for_unset, np.nan)\n"
          ]
        }
      ]
    },
    {
      "cell_type": "code",
      "source": [
        "df "
      ],
      "metadata": {
        "colab": {
          "base_uri": "https://localhost:8080/",
          "height": 799
        },
        "id": "NSdHA4UZKEdu",
        "outputId": "0f05bfab-9757-4bc4-c45c-f310951cc943"
      },
      "execution_count": 120,
      "outputs": [
        {
          "output_type": "execute_result",
          "data": {
            "text/plain": [
              "     КлиентДатаРождения КлиентПол            ЗаключениеМК ДиспансернаяГруппа  \\\n",
              "0            1976-10-24   Женский                   Годен                  I   \n",
              "1            1987-11-18   Мужской                   Годен               IIIа   \n",
              "2            1985-09-08   Мужской  ГоденСКоррекциейЗрения                 II   \n",
              "3            1988-04-25   Мужской                   Годен                  I   \n",
              "4            1984-04-17   Мужской  ГоденСКоррекциейЗрения                 II   \n",
              "...                 ...       ...                     ...                ...   \n",
              "1973         1972-11-12   Мужской                     NaN                NaN   \n",
              "1974         1986-07-09   Мужской                     NaN                NaN   \n",
              "1975         1994-05-12   Мужской                     NaN                NaN   \n",
              "1976         1972-04-17   Женский                     NaN                NaN   \n",
              "1977         1971-09-14   Мужской                   Годен                NaN   \n",
              "\n",
              "     ВредныеФакторы                                      Профессия  \\\n",
              "0              11.4      Ведущий специалист по организации обуения   \n",
              "1             4.2.5                             Ведущий специалист   \n",
              "2             4.2.5                               Главный менеджер   \n",
              "3              11.1                             Главный специалист   \n",
              "4              11.1                             Старший специалист   \n",
              "...             ...                                            ...   \n",
              "1973            6.1                      Директор по строительству   \n",
              "1974            6.1  Начальник производственно-технического отдела   \n",
              "1975         5.1,23                            Помощник кладовщика   \n",
              "1976             23                                         Повар    \n",
              "1977             27                                   Анестезиолог   \n",
              "\n",
              "                                                Diagnoz  \\\n",
              "0                                                         \n",
              "1     Терапия Гипертензивная [гипертоническая] болез...   \n",
              "2                                  Офтальмология Миопия   \n",
              "3                                                         \n",
              "4                             Офтальмология Астигматизм   \n",
              "...                                                 ...   \n",
              "1973                                                      \n",
              "1974                                                      \n",
              "1975                        Стоматология Кариес дентина   \n",
              "1976  Терапия Гипертензивная [гипертоническая] болез...   \n",
              "1977                                                      \n",
              "\n",
              "                                     Дополнения сводные                 mkbs  \n",
              "0     Эндоскопия Дискинезия желчевыводящих путей ,Те...                       \n",
              "1                                 Терапия В анамнезе ГБ        Терапия I11.9  \n",
              "2     Терапия карбомезипин,мексидол,Офтальмология но...  Офтальмология H52.1  \n",
              "3     Эндоскопия Патологии со стороны слизистой пище...                       \n",
              "4     Эндоскопия Без патологии.,Офтальмология носит ...  Офтальмология H52.2  \n",
              "...                                                 ...                  ...  \n",
              "1973                                                                          \n",
              "1974                                                                          \n",
              "1975  Психиатрия Наркология Тесты на обобщение и иск...   Стоматология K02.1  \n",
              "1976  Терапия Гипертоническая болезнь, принимает Амл...        Терапия I11.9  \n",
              "1977                                                                          \n",
              "\n",
              "[1978 rows x 9 columns]"
            ],
            "text/html": [
              "\n",
              "  <div id=\"df-b1d5b437-7a15-4a7d-bd29-ff9a4e18a9c8\">\n",
              "    <div class=\"colab-df-container\">\n",
              "      <div>\n",
              "<style scoped>\n",
              "    .dataframe tbody tr th:only-of-type {\n",
              "        vertical-align: middle;\n",
              "    }\n",
              "\n",
              "    .dataframe tbody tr th {\n",
              "        vertical-align: top;\n",
              "    }\n",
              "\n",
              "    .dataframe thead th {\n",
              "        text-align: right;\n",
              "    }\n",
              "</style>\n",
              "<table border=\"1\" class=\"dataframe\">\n",
              "  <thead>\n",
              "    <tr style=\"text-align: right;\">\n",
              "      <th></th>\n",
              "      <th>КлиентДатаРождения</th>\n",
              "      <th>КлиентПол</th>\n",
              "      <th>ЗаключениеМК</th>\n",
              "      <th>ДиспансернаяГруппа</th>\n",
              "      <th>ВредныеФакторы</th>\n",
              "      <th>Профессия</th>\n",
              "      <th>Diagnoz</th>\n",
              "      <th>Дополнения сводные</th>\n",
              "      <th>mkbs</th>\n",
              "    </tr>\n",
              "  </thead>\n",
              "  <tbody>\n",
              "    <tr>\n",
              "      <th>0</th>\n",
              "      <td>1976-10-24</td>\n",
              "      <td>Женский</td>\n",
              "      <td>Годен</td>\n",
              "      <td>I</td>\n",
              "      <td>11.4</td>\n",
              "      <td>Ведущий специалист по организации обуения</td>\n",
              "      <td></td>\n",
              "      <td>Эндоскопия Дискинезия желчевыводящих путей ,Те...</td>\n",
              "      <td></td>\n",
              "    </tr>\n",
              "    <tr>\n",
              "      <th>1</th>\n",
              "      <td>1987-11-18</td>\n",
              "      <td>Мужской</td>\n",
              "      <td>Годен</td>\n",
              "      <td>IIIа</td>\n",
              "      <td>4.2.5</td>\n",
              "      <td>Ведущий специалист</td>\n",
              "      <td>Терапия Гипертензивная [гипертоническая] болез...</td>\n",
              "      <td>Терапия В анамнезе ГБ</td>\n",
              "      <td>Терапия I11.9</td>\n",
              "    </tr>\n",
              "    <tr>\n",
              "      <th>2</th>\n",
              "      <td>1985-09-08</td>\n",
              "      <td>Мужской</td>\n",
              "      <td>ГоденСКоррекциейЗрения</td>\n",
              "      <td>II</td>\n",
              "      <td>4.2.5</td>\n",
              "      <td>Главный менеджер</td>\n",
              "      <td>Офтальмология Миопия</td>\n",
              "      <td>Терапия карбомезипин,мексидол,Офтальмология но...</td>\n",
              "      <td>Офтальмология H52.1</td>\n",
              "    </tr>\n",
              "    <tr>\n",
              "      <th>3</th>\n",
              "      <td>1988-04-25</td>\n",
              "      <td>Мужской</td>\n",
              "      <td>Годен</td>\n",
              "      <td>I</td>\n",
              "      <td>11.1</td>\n",
              "      <td>Главный специалист</td>\n",
              "      <td></td>\n",
              "      <td>Эндоскопия Патологии со стороны слизистой пище...</td>\n",
              "      <td></td>\n",
              "    </tr>\n",
              "    <tr>\n",
              "      <th>4</th>\n",
              "      <td>1984-04-17</td>\n",
              "      <td>Мужской</td>\n",
              "      <td>ГоденСКоррекциейЗрения</td>\n",
              "      <td>II</td>\n",
              "      <td>11.1</td>\n",
              "      <td>Старший специалист</td>\n",
              "      <td>Офтальмология Астигматизм</td>\n",
              "      <td>Эндоскопия Без патологии.,Офтальмология носит ...</td>\n",
              "      <td>Офтальмология H52.2</td>\n",
              "    </tr>\n",
              "    <tr>\n",
              "      <th>...</th>\n",
              "      <td>...</td>\n",
              "      <td>...</td>\n",
              "      <td>...</td>\n",
              "      <td>...</td>\n",
              "      <td>...</td>\n",
              "      <td>...</td>\n",
              "      <td>...</td>\n",
              "      <td>...</td>\n",
              "      <td>...</td>\n",
              "    </tr>\n",
              "    <tr>\n",
              "      <th>1973</th>\n",
              "      <td>1972-11-12</td>\n",
              "      <td>Мужской</td>\n",
              "      <td>NaN</td>\n",
              "      <td>NaN</td>\n",
              "      <td>6.1</td>\n",
              "      <td>Директор по строительству</td>\n",
              "      <td></td>\n",
              "      <td></td>\n",
              "      <td></td>\n",
              "    </tr>\n",
              "    <tr>\n",
              "      <th>1974</th>\n",
              "      <td>1986-07-09</td>\n",
              "      <td>Мужской</td>\n",
              "      <td>NaN</td>\n",
              "      <td>NaN</td>\n",
              "      <td>6.1</td>\n",
              "      <td>Начальник производственно-технического отдела</td>\n",
              "      <td></td>\n",
              "      <td></td>\n",
              "      <td></td>\n",
              "    </tr>\n",
              "    <tr>\n",
              "      <th>1975</th>\n",
              "      <td>1994-05-12</td>\n",
              "      <td>Мужской</td>\n",
              "      <td>NaN</td>\n",
              "      <td>NaN</td>\n",
              "      <td>5.1,23</td>\n",
              "      <td>Помощник кладовщика</td>\n",
              "      <td>Стоматология Кариес дентина</td>\n",
              "      <td>Психиатрия Наркология Тесты на обобщение и иск...</td>\n",
              "      <td>Стоматология K02.1</td>\n",
              "    </tr>\n",
              "    <tr>\n",
              "      <th>1976</th>\n",
              "      <td>1972-04-17</td>\n",
              "      <td>Женский</td>\n",
              "      <td>NaN</td>\n",
              "      <td>NaN</td>\n",
              "      <td>23</td>\n",
              "      <td>Повар</td>\n",
              "      <td>Терапия Гипертензивная [гипертоническая] болез...</td>\n",
              "      <td>Терапия Гипертоническая болезнь, принимает Амл...</td>\n",
              "      <td>Терапия I11.9</td>\n",
              "    </tr>\n",
              "    <tr>\n",
              "      <th>1977</th>\n",
              "      <td>1971-09-14</td>\n",
              "      <td>Мужской</td>\n",
              "      <td>Годен</td>\n",
              "      <td>NaN</td>\n",
              "      <td>27</td>\n",
              "      <td>Анестезиолог</td>\n",
              "      <td></td>\n",
              "      <td></td>\n",
              "      <td></td>\n",
              "    </tr>\n",
              "  </tbody>\n",
              "</table>\n",
              "<p>1978 rows × 9 columns</p>\n",
              "</div>\n",
              "      <button class=\"colab-df-convert\" onclick=\"convertToInteractive('df-b1d5b437-7a15-4a7d-bd29-ff9a4e18a9c8')\"\n",
              "              title=\"Convert this dataframe to an interactive table.\"\n",
              "              style=\"display:none;\">\n",
              "        \n",
              "  <svg xmlns=\"http://www.w3.org/2000/svg\" height=\"24px\"viewBox=\"0 0 24 24\"\n",
              "       width=\"24px\">\n",
              "    <path d=\"M0 0h24v24H0V0z\" fill=\"none\"/>\n",
              "    <path d=\"M18.56 5.44l.94 2.06.94-2.06 2.06-.94-2.06-.94-.94-2.06-.94 2.06-2.06.94zm-11 1L8.5 8.5l.94-2.06 2.06-.94-2.06-.94L8.5 2.5l-.94 2.06-2.06.94zm10 10l.94 2.06.94-2.06 2.06-.94-2.06-.94-.94-2.06-.94 2.06-2.06.94z\"/><path d=\"M17.41 7.96l-1.37-1.37c-.4-.4-.92-.59-1.43-.59-.52 0-1.04.2-1.43.59L10.3 9.45l-7.72 7.72c-.78.78-.78 2.05 0 2.83L4 21.41c.39.39.9.59 1.41.59.51 0 1.02-.2 1.41-.59l7.78-7.78 2.81-2.81c.8-.78.8-2.07 0-2.86zM5.41 20L4 18.59l7.72-7.72 1.47 1.35L5.41 20z\"/>\n",
              "  </svg>\n",
              "      </button>\n",
              "      \n",
              "  <style>\n",
              "    .colab-df-container {\n",
              "      display:flex;\n",
              "      flex-wrap:wrap;\n",
              "      gap: 12px;\n",
              "    }\n",
              "\n",
              "    .colab-df-convert {\n",
              "      background-color: #E8F0FE;\n",
              "      border: none;\n",
              "      border-radius: 50%;\n",
              "      cursor: pointer;\n",
              "      display: none;\n",
              "      fill: #1967D2;\n",
              "      height: 32px;\n",
              "      padding: 0 0 0 0;\n",
              "      width: 32px;\n",
              "    }\n",
              "\n",
              "    .colab-df-convert:hover {\n",
              "      background-color: #E2EBFA;\n",
              "      box-shadow: 0px 1px 2px rgba(60, 64, 67, 0.3), 0px 1px 3px 1px rgba(60, 64, 67, 0.15);\n",
              "      fill: #174EA6;\n",
              "    }\n",
              "\n",
              "    [theme=dark] .colab-df-convert {\n",
              "      background-color: #3B4455;\n",
              "      fill: #D2E3FC;\n",
              "    }\n",
              "\n",
              "    [theme=dark] .colab-df-convert:hover {\n",
              "      background-color: #434B5C;\n",
              "      box-shadow: 0px 1px 3px 1px rgba(0, 0, 0, 0.15);\n",
              "      filter: drop-shadow(0px 1px 2px rgba(0, 0, 0, 0.3));\n",
              "      fill: #FFFFFF;\n",
              "    }\n",
              "  </style>\n",
              "\n",
              "      <script>\n",
              "        const buttonEl =\n",
              "          document.querySelector('#df-b1d5b437-7a15-4a7d-bd29-ff9a4e18a9c8 button.colab-df-convert');\n",
              "        buttonEl.style.display =\n",
              "          google.colab.kernel.accessAllowed ? 'block' : 'none';\n",
              "\n",
              "        async function convertToInteractive(key) {\n",
              "          const element = document.querySelector('#df-b1d5b437-7a15-4a7d-bd29-ff9a4e18a9c8');\n",
              "          const dataTable =\n",
              "            await google.colab.kernel.invokeFunction('convertToInteractive',\n",
              "                                                     [key], {});\n",
              "          if (!dataTable) return;\n",
              "\n",
              "          const docLinkHtml = 'Like what you see? Visit the ' +\n",
              "            '<a target=\"_blank\" href=https://colab.research.google.com/notebooks/data_table.ipynb>data table notebook</a>'\n",
              "            + ' to learn more about interactive tables.';\n",
              "          element.innerHTML = '';\n",
              "          dataTable['output_type'] = 'display_data';\n",
              "          await google.colab.output.renderOutput(dataTable, element);\n",
              "          const docLink = document.createElement('div');\n",
              "          docLink.innerHTML = docLinkHtml;\n",
              "          element.appendChild(docLink);\n",
              "        }\n",
              "      </script>\n",
              "    </div>\n",
              "  </div>\n",
              "  "
            ]
          },
          "metadata": {},
          "execution_count": 120
        }
      ]
    },
    {
      "cell_type": "code",
      "source": [
        "from datetime import datetime\n",
        "class MyUtils:\n",
        "  conclusion_map = {FIELD_CONCLUSION_FIT:'Годен', FIELD_CONCLUSION_PART_FIT:\"Частично годен\", FIELD_CONCLUSION_NOT_FIT: 'Негоден'}\n",
        "  @classmethod\n",
        "  def conclusion_labels(cls):\n",
        "    return  [cls.conclusion_map[k] for k in sorted(cls.conclusion_map)]\n",
        "\n",
        "  @classmethod\n",
        "  def resolve_conclusion_map(cls,x):\n",
        "    return cls.conclusion_map[x]\n",
        "  @staticmethod  \n",
        "  # Определяем функцию для расчета возраста на основе даты\n",
        "  def resolve_birthdate_to_age(date):\n",
        "    current_year = pd.Timestamp.now().year\n",
        "    age = current_year - date.year\n",
        "    return age\n",
        "  def resolve_genger(x):\n",
        "    if x == 'Мужской':\n",
        "        return FIELD_CLIENT_GENDER_M\n",
        "    elif x == 'Женский':\n",
        "        return FIELD_CLIENT_GENDER_F\n",
        "    else:\n",
        "        return None\n",
        "\n",
        "  def resolve_conclusion_binary(arg):\n",
        "    try:\n",
        "      if \"Годен\" == arg:\n",
        "        return FIELD_CONCLUSION_FIT\n",
        "      else:\n",
        "        return FIELD_CONCLUSION_NOT_FIT\n",
        "    except (TypeError):\n",
        "        return None\n",
        "  def resolve_conclusion(arg):\n",
        "    try:\n",
        "      if \"Годен\" == arg:\n",
        "        return FIELD_CONCLUSION_FIT\n",
        "      elif \"Негоден\" in arg:\n",
        "        return FIELD_CONCLUSION_NOT_FIT\n",
        "      elif \"Годен\" in arg:\n",
        "        return FIELD_CONCLUSION_PART_FIT\n",
        "      else:\n",
        "        return FIELD_CONCLUSION_NOT_FIT\n",
        "    except (TypeError):\n",
        "        return None\n",
        "  def resolve_dispansary_group(arg):\n",
        "    try:\n",
        "      if arg == \"I\":\n",
        "        return FIELD_DISPANSARY_GROUP_I\n",
        "      elif arg == \"II\":\n",
        "        return FIELD_DISPANSARY_GROUP_II\n",
        "      elif \"III\" in arg :\n",
        "        return FIELD_DISPANSARY_GROUP_III\n",
        "      else:\n",
        "        return FIELD_DISPANSARY_GROUP_OTHER\n",
        "    except (TypeError):\n",
        "        return None\n",
        "  def resolve_age_to_category(arg):\n",
        "    outClass =int((arg-13)/5)\n",
        "    outClass = max(0, min(10,outClass))\n",
        "    return outClass"
      ],
      "metadata": {
        "id": "no1rdjq8gAo5"
      },
      "outputs": [],
      "execution_count": 121
    },
    {
      "cell_type": "code",
      "source": [
        "# Преобразование заключения в цифру\n",
        "df[FIELD_CONCLUSION] = df[FIELD_CONCLUSION].apply(lambda x: MyUtils.resolve_conclusion(x))"
      ],
      "metadata": {
        "id": "K_y8i4Lhids7"
      },
      "outputs": [],
      "execution_count": 122
    },
    {
      "cell_type": "code",
      "source": [
        "def ___unused___balance_dataset():\n",
        "  # Разделим данные по значениям поля FIELD_CONCLUSION\n",
        "  fit = df[df[FIELD_CONCLUSION] == FIELD_CONCLUSION_FIT]\n",
        "  not_fit = df[df[FIELD_CONCLUSION] == FIELD_CONCLUSION_NOT_FIT]\n",
        "  part_fit = df[df[FIELD_CONCLUSION] == FIELD_CONCLUSION_PART_FIT]\n",
        "\n",
        "  # Увеличим меньшие классы до размера большего класса\n",
        "  n_samples = len(fit)\n",
        "  not_fit_upsampled = resample(not_fit, replace=True, n_samples=n_samples, random_state=42)\n",
        "  part_fit_upsampled = resample(part_fit, replace=True, n_samples=n_samples, random_state=42)\n",
        "\n",
        "  # Объединим данные и перемешаем их\n",
        "  df_balanced = pd.concat([fit, not_fit_upsampled, part_fit_upsampled])\n",
        "  df_balanced = df_balanced.sample(frac=1, random_state=42)\n"
      ],
      "metadata": {
        "id": "xH3lLkj0U8jK"
      },
      "outputs": [],
      "execution_count": null
    },
    {
      "cell_type": "code",
      "source": [
        "# Преобразование колонки возраста в цифровой вид\n",
        "df[FIELD_CLIENT_AGE] = df[FIELD_CLIENT_BIRTH_DAY].apply(MyUtils.resolve_birthdate_to_age)\n",
        "\n",
        "# разделение возраста на категории\n",
        "df[FIELD_NEW_AGE_CATEGORY] = df[FIELD_CLIENT_AGE].apply(MyUtils.resolve_age_to_category)\n",
        "\n",
        "# Пол в цифру\n",
        "df[FIELD_CLIENT_GENDER] = df[FIELD_CLIENT_GENDER].apply(lambda x: MyUtils.resolve_genger(x) if pd.notnull(x) else x)\n",
        "\n",
        "# Удалим неиспользованные колонки\n",
        "del df[FIELD_CLIENT_BIRTH_DAY]\n",
        "del  df[FIELD_CLIENT_AGE]"
      ],
      "metadata": {
        "id": "pDec93FchU2W"
      },
      "outputs": [],
      "execution_count": 123
    },
    {
      "cell_type": "code",
      "source": [
        "#Преобразование диспансерных групп в цифру\n",
        "df[FIELD_DISPANSARY_GROUP] = df[FIELD_DISPANSARY_GROUP].apply(MyUtils.resolve_dispansary_group)"
      ],
      "metadata": {
        "id": "A2mCflmmh8j_"
      },
      "outputs": [],
      "execution_count": 124
    },
    {
      "cell_type": "code",
      "source": [
        "# разделяем факторы по одному значению\n",
        "df[FIELD_HARMFUL_FACTORS] = df[FIELD_HARMFUL_FACTORS].str.split(\",\")"
      ],
      "metadata": {
        "id": "O8GH_WB1ImjW"
      },
      "outputs": [],
      "execution_count": 125
    },
    {
      "cell_type": "code",
      "source": [
        "df.dropna(inplace = True)"
      ],
      "metadata": {
        "id": "3LHxZ1wDxty6"
      },
      "outputs": [],
      "execution_count": 126
    },
    {
      "cell_type": "markdown",
      "source": [
        "Подготавливаю все однозначные цифровые данные в OHE"
      ],
      "metadata": {
        "id": "Yz7Il0yQ-cmx"
      }
    },
    {
      "cell_type": "code",
      "source": [
        "# Объединяю категориальные значения в OHE\n",
        "df_ohe  = pd.get_dummies(df[[FIELD_CLIENT_GENDER, FIELD_DISPANSARY_GROUP, FIELD_NEW_AGE_CATEGORY]],  columns = [FIELD_CLIENT_GENDER, FIELD_DISPANSARY_GROUP, FIELD_NEW_AGE_CATEGORY] )\n",
        "xTrain0 = df_ohe.values\n",
        "xTrain0.shape\n"
      ],
      "metadata": {
        "id": "yOrH0jogzbIA",
        "outputId": "a0d766d3-d9bc-4558-cda9-0a25e6e2501a",
        "colab": {
          "base_uri": "https://localhost:8080/"
        }
      },
      "outputs": [
        {
          "output_type": "execute_result",
          "data": {
            "text/plain": [
              "(1562, 16)"
            ]
          },
          "metadata": {},
          "execution_count": 128
        }
      ],
      "execution_count": 128
    },
    {
      "cell_type": "code",
      "source": [
        "yTrain =  pd.get_dummies(df[FIELD_CONCLUSION]).values"
      ],
      "metadata": {
        "id": "uWqHha7N5rhy"
      },
      "outputs": [],
      "execution_count": 130
    },
    {
      "cell_type": "code",
      "source": [
        "Y_CLASSES = yTrain.shape[1]\n",
        "Y_CLASSES"
      ],
      "metadata": {
        "colab": {
          "base_uri": "https://localhost:8080/"
        },
        "id": "eotMwYrWTXzq",
        "outputId": "5e849c15-b36f-49ef-9346-9d488366e3e4"
      },
      "outputs": [
        {
          "output_type": "execute_result",
          "data": {
            "text/plain": [
              "3"
            ]
          },
          "metadata": {},
          "execution_count": 131
        }
      ],
      "execution_count": 131
    },
    {
      "cell_type": "code",
      "source": [
        "df"
      ],
      "metadata": {
        "colab": {
          "base_uri": "https://localhost:8080/",
          "height": 765
        },
        "id": "7wX_D0BPTYog",
        "outputId": "80850a6a-2003-499a-8a6a-f97d5fa9b3df"
      },
      "execution_count": 141,
      "outputs": [
        {
          "output_type": "execute_result",
          "data": {
            "text/plain": [
              "      КлиентПол  ЗаключениеМК  ДиспансернаяГруппа   ВредныеФакторы  \\\n",
              "0             1           1.0                 0.0           [11.4]   \n",
              "1             0           1.0                 2.0          [4.2.5]   \n",
              "2             0           2.0                 1.0          [4.2.5]   \n",
              "3             0           1.0                 0.0           [11.1]   \n",
              "4             0           2.0                 1.0           [11.1]   \n",
              "...         ...           ...                 ...              ...   \n",
              "1956          0           1.0                 1.0  [4.4, 4.5, 6.1]   \n",
              "1957          0           1.0                 0.0  [4.4, 4.5, 6.1]   \n",
              "1958          0           1.0                 0.0            [4.4]   \n",
              "1968          0           1.0                 0.0        [3.1.8.2]   \n",
              "1969          0           1.0                 0.0     [4.2.5, 6.1]   \n",
              "\n",
              "                                              Профессия  \\\n",
              "0             Ведущий специалист по организации обуения   \n",
              "1                                    Ведущий специалист   \n",
              "2                                      Главный менеджер   \n",
              "3                                    Главный специалист   \n",
              "4                                    Старший специалист   \n",
              "...                                                 ...   \n",
              "1956                                            Инженер   \n",
              "1957                                            Инженер   \n",
              "1958                              Начальник лаборатории   \n",
              "1968  Инженер по бурению 1 категории, непосредственн...   \n",
              "1969                           Приемщик вагонов в депо    \n",
              "\n",
              "                                                Diagnoz  \\\n",
              "0                                                         \n",
              "1     Терапия Гипертензивная [гипертоническая] болез...   \n",
              "2                                  Офтальмология Миопия   \n",
              "3                                                         \n",
              "4                             Офтальмология Астигматизм   \n",
              "...                                                 ...   \n",
              "1956                               Офтальмология Миопия   \n",
              "1957                                                      \n",
              "1958                                                      \n",
              "1968                                                      \n",
              "1969                                                      \n",
              "\n",
              "                                     Дополнения сводные                 mkbs  \\\n",
              "0     Эндоскопия Дискинезия желчевыводящих путей ,Те...                        \n",
              "1                                 Терапия В анамнезе ГБ        Терапия I11.9   \n",
              "2     Терапия карбомезипин,мексидол,Офтальмология но...  Офтальмология H52.1   \n",
              "3     Эндоскопия Патологии со стороны слизистой пище...                        \n",
              "4     Эндоскопия Без патологии.,Офтальмология носит ...  Офтальмология H52.2   \n",
              "...                                                 ...                  ...   \n",
              "1956  Офтальмология 1,0,Офтальмология -0,75 -0,50/-0,50  Офтальмология H52.1   \n",
              "1957                                                                           \n",
              "1958                                                                           \n",
              "1968                                                                           \n",
              "1969  Офтальмология 2019г Лазик (-3.0),Психиатрия На...                        \n",
              "\n",
              "      ВозрастКатегория  \n",
              "0                    6  \n",
              "1                    4  \n",
              "2                    5  \n",
              "3                    4  \n",
              "4                    5  \n",
              "...                ...  \n",
              "1956                 4  \n",
              "1957                 3  \n",
              "1958                 4  \n",
              "1968                 4  \n",
              "1969                 3  \n",
              "\n",
              "[1562 rows x 9 columns]"
            ],
            "text/html": [
              "\n",
              "  <div id=\"df-6f58988f-f26b-457f-b58a-a68c5a748d9b\">\n",
              "    <div class=\"colab-df-container\">\n",
              "      <div>\n",
              "<style scoped>\n",
              "    .dataframe tbody tr th:only-of-type {\n",
              "        vertical-align: middle;\n",
              "    }\n",
              "\n",
              "    .dataframe tbody tr th {\n",
              "        vertical-align: top;\n",
              "    }\n",
              "\n",
              "    .dataframe thead th {\n",
              "        text-align: right;\n",
              "    }\n",
              "</style>\n",
              "<table border=\"1\" class=\"dataframe\">\n",
              "  <thead>\n",
              "    <tr style=\"text-align: right;\">\n",
              "      <th></th>\n",
              "      <th>КлиентПол</th>\n",
              "      <th>ЗаключениеМК</th>\n",
              "      <th>ДиспансернаяГруппа</th>\n",
              "      <th>ВредныеФакторы</th>\n",
              "      <th>Профессия</th>\n",
              "      <th>Diagnoz</th>\n",
              "      <th>Дополнения сводные</th>\n",
              "      <th>mkbs</th>\n",
              "      <th>ВозрастКатегория</th>\n",
              "    </tr>\n",
              "  </thead>\n",
              "  <tbody>\n",
              "    <tr>\n",
              "      <th>0</th>\n",
              "      <td>1</td>\n",
              "      <td>1.0</td>\n",
              "      <td>0.0</td>\n",
              "      <td>[11.4]</td>\n",
              "      <td>Ведущий специалист по организации обуения</td>\n",
              "      <td></td>\n",
              "      <td>Эндоскопия Дискинезия желчевыводящих путей ,Те...</td>\n",
              "      <td></td>\n",
              "      <td>6</td>\n",
              "    </tr>\n",
              "    <tr>\n",
              "      <th>1</th>\n",
              "      <td>0</td>\n",
              "      <td>1.0</td>\n",
              "      <td>2.0</td>\n",
              "      <td>[4.2.5]</td>\n",
              "      <td>Ведущий специалист</td>\n",
              "      <td>Терапия Гипертензивная [гипертоническая] болез...</td>\n",
              "      <td>Терапия В анамнезе ГБ</td>\n",
              "      <td>Терапия I11.9</td>\n",
              "      <td>4</td>\n",
              "    </tr>\n",
              "    <tr>\n",
              "      <th>2</th>\n",
              "      <td>0</td>\n",
              "      <td>2.0</td>\n",
              "      <td>1.0</td>\n",
              "      <td>[4.2.5]</td>\n",
              "      <td>Главный менеджер</td>\n",
              "      <td>Офтальмология Миопия</td>\n",
              "      <td>Терапия карбомезипин,мексидол,Офтальмология но...</td>\n",
              "      <td>Офтальмология H52.1</td>\n",
              "      <td>5</td>\n",
              "    </tr>\n",
              "    <tr>\n",
              "      <th>3</th>\n",
              "      <td>0</td>\n",
              "      <td>1.0</td>\n",
              "      <td>0.0</td>\n",
              "      <td>[11.1]</td>\n",
              "      <td>Главный специалист</td>\n",
              "      <td></td>\n",
              "      <td>Эндоскопия Патологии со стороны слизистой пище...</td>\n",
              "      <td></td>\n",
              "      <td>4</td>\n",
              "    </tr>\n",
              "    <tr>\n",
              "      <th>4</th>\n",
              "      <td>0</td>\n",
              "      <td>2.0</td>\n",
              "      <td>1.0</td>\n",
              "      <td>[11.1]</td>\n",
              "      <td>Старший специалист</td>\n",
              "      <td>Офтальмология Астигматизм</td>\n",
              "      <td>Эндоскопия Без патологии.,Офтальмология носит ...</td>\n",
              "      <td>Офтальмология H52.2</td>\n",
              "      <td>5</td>\n",
              "    </tr>\n",
              "    <tr>\n",
              "      <th>...</th>\n",
              "      <td>...</td>\n",
              "      <td>...</td>\n",
              "      <td>...</td>\n",
              "      <td>...</td>\n",
              "      <td>...</td>\n",
              "      <td>...</td>\n",
              "      <td>...</td>\n",
              "      <td>...</td>\n",
              "      <td>...</td>\n",
              "    </tr>\n",
              "    <tr>\n",
              "      <th>1956</th>\n",
              "      <td>0</td>\n",
              "      <td>1.0</td>\n",
              "      <td>1.0</td>\n",
              "      <td>[4.4, 4.5, 6.1]</td>\n",
              "      <td>Инженер</td>\n",
              "      <td>Офтальмология Миопия</td>\n",
              "      <td>Офтальмология 1,0,Офтальмология -0,75 -0,50/-0,50</td>\n",
              "      <td>Офтальмология H52.1</td>\n",
              "      <td>4</td>\n",
              "    </tr>\n",
              "    <tr>\n",
              "      <th>1957</th>\n",
              "      <td>0</td>\n",
              "      <td>1.0</td>\n",
              "      <td>0.0</td>\n",
              "      <td>[4.4, 4.5, 6.1]</td>\n",
              "      <td>Инженер</td>\n",
              "      <td></td>\n",
              "      <td></td>\n",
              "      <td></td>\n",
              "      <td>3</td>\n",
              "    </tr>\n",
              "    <tr>\n",
              "      <th>1958</th>\n",
              "      <td>0</td>\n",
              "      <td>1.0</td>\n",
              "      <td>0.0</td>\n",
              "      <td>[4.4]</td>\n",
              "      <td>Начальник лаборатории</td>\n",
              "      <td></td>\n",
              "      <td></td>\n",
              "      <td></td>\n",
              "      <td>4</td>\n",
              "    </tr>\n",
              "    <tr>\n",
              "      <th>1968</th>\n",
              "      <td>0</td>\n",
              "      <td>1.0</td>\n",
              "      <td>0.0</td>\n",
              "      <td>[3.1.8.2]</td>\n",
              "      <td>Инженер по бурению 1 категории, непосредственн...</td>\n",
              "      <td></td>\n",
              "      <td></td>\n",
              "      <td></td>\n",
              "      <td>4</td>\n",
              "    </tr>\n",
              "    <tr>\n",
              "      <th>1969</th>\n",
              "      <td>0</td>\n",
              "      <td>1.0</td>\n",
              "      <td>0.0</td>\n",
              "      <td>[4.2.5, 6.1]</td>\n",
              "      <td>Приемщик вагонов в депо</td>\n",
              "      <td></td>\n",
              "      <td>Офтальмология 2019г Лазик (-3.0),Психиатрия На...</td>\n",
              "      <td></td>\n",
              "      <td>3</td>\n",
              "    </tr>\n",
              "  </tbody>\n",
              "</table>\n",
              "<p>1562 rows × 9 columns</p>\n",
              "</div>\n",
              "      <button class=\"colab-df-convert\" onclick=\"convertToInteractive('df-6f58988f-f26b-457f-b58a-a68c5a748d9b')\"\n",
              "              title=\"Convert this dataframe to an interactive table.\"\n",
              "              style=\"display:none;\">\n",
              "        \n",
              "  <svg xmlns=\"http://www.w3.org/2000/svg\" height=\"24px\"viewBox=\"0 0 24 24\"\n",
              "       width=\"24px\">\n",
              "    <path d=\"M0 0h24v24H0V0z\" fill=\"none\"/>\n",
              "    <path d=\"M18.56 5.44l.94 2.06.94-2.06 2.06-.94-2.06-.94-.94-2.06-.94 2.06-2.06.94zm-11 1L8.5 8.5l.94-2.06 2.06-.94-2.06-.94L8.5 2.5l-.94 2.06-2.06.94zm10 10l.94 2.06.94-2.06 2.06-.94-2.06-.94-.94-2.06-.94 2.06-2.06.94z\"/><path d=\"M17.41 7.96l-1.37-1.37c-.4-.4-.92-.59-1.43-.59-.52 0-1.04.2-1.43.59L10.3 9.45l-7.72 7.72c-.78.78-.78 2.05 0 2.83L4 21.41c.39.39.9.59 1.41.59.51 0 1.02-.2 1.41-.59l7.78-7.78 2.81-2.81c.8-.78.8-2.07 0-2.86zM5.41 20L4 18.59l7.72-7.72 1.47 1.35L5.41 20z\"/>\n",
              "  </svg>\n",
              "      </button>\n",
              "      \n",
              "  <style>\n",
              "    .colab-df-container {\n",
              "      display:flex;\n",
              "      flex-wrap:wrap;\n",
              "      gap: 12px;\n",
              "    }\n",
              "\n",
              "    .colab-df-convert {\n",
              "      background-color: #E8F0FE;\n",
              "      border: none;\n",
              "      border-radius: 50%;\n",
              "      cursor: pointer;\n",
              "      display: none;\n",
              "      fill: #1967D2;\n",
              "      height: 32px;\n",
              "      padding: 0 0 0 0;\n",
              "      width: 32px;\n",
              "    }\n",
              "\n",
              "    .colab-df-convert:hover {\n",
              "      background-color: #E2EBFA;\n",
              "      box-shadow: 0px 1px 2px rgba(60, 64, 67, 0.3), 0px 1px 3px 1px rgba(60, 64, 67, 0.15);\n",
              "      fill: #174EA6;\n",
              "    }\n",
              "\n",
              "    [theme=dark] .colab-df-convert {\n",
              "      background-color: #3B4455;\n",
              "      fill: #D2E3FC;\n",
              "    }\n",
              "\n",
              "    [theme=dark] .colab-df-convert:hover {\n",
              "      background-color: #434B5C;\n",
              "      box-shadow: 0px 1px 3px 1px rgba(0, 0, 0, 0.15);\n",
              "      filter: drop-shadow(0px 1px 2px rgba(0, 0, 0, 0.3));\n",
              "      fill: #FFFFFF;\n",
              "    }\n",
              "  </style>\n",
              "\n",
              "      <script>\n",
              "        const buttonEl =\n",
              "          document.querySelector('#df-6f58988f-f26b-457f-b58a-a68c5a748d9b button.colab-df-convert');\n",
              "        buttonEl.style.display =\n",
              "          google.colab.kernel.accessAllowed ? 'block' : 'none';\n",
              "\n",
              "        async function convertToInteractive(key) {\n",
              "          const element = document.querySelector('#df-6f58988f-f26b-457f-b58a-a68c5a748d9b');\n",
              "          const dataTable =\n",
              "            await google.colab.kernel.invokeFunction('convertToInteractive',\n",
              "                                                     [key], {});\n",
              "          if (!dataTable) return;\n",
              "\n",
              "          const docLinkHtml = 'Like what you see? Visit the ' +\n",
              "            '<a target=\"_blank\" href=https://colab.research.google.com/notebooks/data_table.ipynb>data table notebook</a>'\n",
              "            + ' to learn more about interactive tables.';\n",
              "          element.innerHTML = '';\n",
              "          dataTable['output_type'] = 'display_data';\n",
              "          await google.colab.output.renderOutput(dataTable, element);\n",
              "          const docLink = document.createElement('div');\n",
              "          docLink.innerHTML = docLinkHtml;\n",
              "          element.appendChild(docLink);\n",
              "        }\n",
              "      </script>\n",
              "    </div>\n",
              "  </div>\n",
              "  "
            ]
          },
          "metadata": {},
          "execution_count": 141
        }
      ]
    },
    {
      "cell_type": "markdown",
      "source": [
        "Токенизируем наши поля"
      ],
      "metadata": {
        "id": "0gaR78O_TzEC"
      }
    },
    {
      "cell_type": "code",
      "source": [
        "np_len = np.vectorize(len)\n",
        "class MySequences:\n",
        "  value = None\n",
        "  max_len = None\n",
        "  def get_padded(self):\n",
        "    return pad_sequences(self.value, maxlen=self.max_len, padding='post')\n",
        "\n",
        "\n",
        "class MyTokenizer:\n",
        "  tokenizer:Tokenizer\n",
        "  _indexed = None\n",
        "  def __init__(self, *tokenizer_args, **tokenizer_kwargs):\n",
        "    self.tokenizer = Tokenizer(*tokenizer_args, **tokenizer_kwargs)\n",
        "    \n",
        "  @property\n",
        "  def vocab_size(self):\n",
        "    return len(self.tokenizer.word_index) + 1\n",
        " \n",
        "  def fit_on_texts(self, series):\n",
        "    self.tokenizer.fit_on_texts(series)\n",
        " \n",
        "  def texts_to_sequences(self, series):\n",
        "    \n",
        "    self._indexed = MySequences()\n",
        "\n",
        "\n",
        "    self._indexed.value = self.tokenizer.texts_to_sequences(series)\n",
        "    self._indexed.max_len = np_len(self._indexed.value).max()\n",
        "    return self._indexed\n",
        "  \n",
        "  def process_data(self, series):\n",
        "    self.fit_on_texts(series)\n",
        "    self.texts_to_sequences(series)\n",
        "  \n",
        "  @property\n",
        "  def indexed(self)->MySequences:\n",
        "    return self._indexed\n",
        "\n",
        "  def __call__(self):\n",
        "    return self.tokenizer"
      ],
      "metadata": {
        "id": "eZaVjrHmNfQI"
      },
      "execution_count": 203,
      "outputs": []
    },
    {
      "cell_type": "code",
      "source": [
        "tokenizer_mkb = MyTokenizer()\n",
        "tokenizer_mkb.process_data(df[FIELD_NEW_MKBS])\n",
        "tokenizer_mkb.vocab_size"
      ],
      "metadata": {
        "id": "5QfwEGduA77h",
        "colab": {
          "base_uri": "https://localhost:8080/"
        },
        "outputId": "b6c00b52-9723-4025-e6cb-a9c61bae18c0"
      },
      "outputs": [
        {
          "output_type": "execute_result",
          "data": {
            "text/plain": [
              "96"
            ]
          },
          "metadata": {},
          "execution_count": 204
        }
      ],
      "execution_count": 204
    },
    {
      "cell_type": "code",
      "source": [
        "xTrainMkb = tokenizer_mkb.indexed.get_padded()"
      ],
      "metadata": {
        "id": "mfj7L1-AZMoQ"
      },
      "outputs": [],
      "execution_count": 205
    },
    {
      "cell_type": "code",
      "source": [
        "xTrainMkb.shape"
      ],
      "metadata": {
        "colab": {
          "base_uri": "https://localhost:8080/"
        },
        "id": "iMqTEUZoCeub",
        "outputId": "b6a40e29-707f-4b1d-e7d8-c5ab0842fcc7"
      },
      "outputs": [
        {
          "output_type": "execute_result",
          "data": {
            "text/plain": [
              "(1562, 48)"
            ]
          },
          "metadata": {},
          "execution_count": 206
        }
      ],
      "execution_count": 206
    },
    {
      "cell_type": "markdown",
      "source": [
        "вредные факторы тоже токенизировал для дальнейшего использования его в эмбединге"
      ],
      "metadata": {
        "id": "PEKsRThf_TeV"
      }
    },
    {
      "cell_type": "code",
      "source": [
        "tokenizer_harmfull = MyTokenizer()\n",
        "tokenizer_harmfull.process_data(df[FIELD_HARMFUL_FACTORS])\n",
        "xTrainHarmFull = tokenizer_harmfull.indexed.get_padded()\n",
        "xTrainHarmFull.shape\n"
      ],
      "metadata": {
        "colab": {
          "base_uri": "https://localhost:8080/"
        },
        "id": "JxK3vi5fYrF4",
        "outputId": "abe4b56d-da90-4a91-b000-cce511ff1aa9"
      },
      "execution_count": 207,
      "outputs": [
        {
          "output_type": "execute_result",
          "data": {
            "text/plain": [
              "(1562, 13)"
            ]
          },
          "metadata": {},
          "execution_count": 207
        }
      ]
    },
    {
      "cell_type": "markdown",
      "source": [
        "Профессии токенизировал тоже будут эмбеддингами"
      ],
      "metadata": {
        "id": "mxpHoizC_iA9"
      }
    },
    {
      "cell_type": "code",
      "source": [
        "maxWordsCount = 1000 \n",
        "tokenizer_prof = MyTokenizer(num_words=maxWordsCount, filters='!\"#$%&()*+,-–—./:;<=>?@[\\]^_`{|}~\\t\\n\\xa0', lower=True, split=' ', oov_token='unknown', char_level=False)\n",
        "tokenizer_prof.process_data(df[FIELD_CLIENT_PROFESSION]) \n",
        "tokenizer_prof.vocab_size"
      ],
      "metadata": {
        "id": "ASRBU5I6o3vY",
        "colab": {
          "base_uri": "https://localhost:8080/"
        },
        "outputId": "f412bbe9-a956-4bf7-b53d-56f4ed9d5a3f"
      },
      "outputs": [
        {
          "output_type": "stream",
          "name": "stderr",
          "text": [
            "/usr/local/lib/python3.10/dist-packages/numpy/lib/function_base.py:2336: VisibleDeprecationWarning: Creating an ndarray from ragged nested sequences (which is a list-or-tuple of lists-or-tuples-or ndarrays with different lengths or shapes) is deprecated. If you meant to do this, you must specify 'dtype=object' when creating the ndarray.\n",
            "  args = [asarray(arg) for arg in args]\n"
          ]
        },
        {
          "output_type": "execute_result",
          "data": {
            "text/plain": [
              "514"
            ]
          },
          "metadata": {},
          "execution_count": 208
        }
      ],
      "execution_count": 208
    },
    {
      "cell_type": "code",
      "source": [
        "xTrainProf = tokenizer_prof.indexed.get_padded()\n",
        "xTrainProf.shape\n",
        "\n"
      ],
      "metadata": {
        "id": "wVgWnOZowdbE",
        "outputId": "868ba684-1b2d-4eeb-f9d7-26256473c7aa",
        "colab": {
          "base_uri": "https://localhost:8080/"
        }
      },
      "outputs": [
        {
          "output_type": "execute_result",
          "data": {
            "text/plain": [
              "(1562, 12)"
            ]
          },
          "metadata": {},
          "execution_count": 209
        }
      ],
      "execution_count": 209
    },
    {
      "cell_type": "markdown",
      "source": [
        "Дополнительные комментарии специалистов"
      ],
      "metadata": {
        "id": "51PelgrZdfib"
      }
    },
    {
      "cell_type": "code",
      "source": [
        "tokenizer_additions = MyTokenizer(num_words=1000, filters='!\"#$%&()*+,-–—./:;<=>?@[\\]^_`{|}~\\t\\n\\xa0', lower=True, split=' ', oov_token='unknown', char_level=False)\n",
        "tokenizer_additions.process_data(df[FIELD_NEW_CLIENT_ADDITIONS]) \n",
        "tokenizer_additions.vocab_size"
      ],
      "metadata": {
        "id": "gBxhNt9CdyuY",
        "colab": {
          "base_uri": "https://localhost:8080/"
        },
        "outputId": "de0dd408-c100-4fdd-b695-0d4498a0156d"
      },
      "execution_count": 212,
      "outputs": [
        {
          "output_type": "stream",
          "name": "stderr",
          "text": [
            "/usr/local/lib/python3.10/dist-packages/numpy/lib/function_base.py:2336: VisibleDeprecationWarning: Creating an ndarray from ragged nested sequences (which is a list-or-tuple of lists-or-tuples-or ndarrays with different lengths or shapes) is deprecated. If you meant to do this, you must specify 'dtype=object' when creating the ndarray.\n",
            "  args = [asarray(arg) for arg in args]\n"
          ]
        },
        {
          "output_type": "execute_result",
          "data": {
            "text/plain": [
              "1408"
            ]
          },
          "metadata": {},
          "execution_count": 212
        }
      ]
    },
    {
      "cell_type": "code",
      "source": [
        "xTrainAdditions = tokenizer_additions.indexed.get_padded()\n",
        "xTrainAdditions.shape"
      ],
      "metadata": {
        "colab": {
          "base_uri": "https://localhost:8080/"
        },
        "id": "XAH2TninddJv",
        "outputId": "90ec7c49-d90d-4578-a1b9-42a487f01489"
      },
      "execution_count": 213,
      "outputs": [
        {
          "output_type": "execute_result",
          "data": {
            "text/plain": [
              "(1562, 117)"
            ]
          },
          "metadata": {},
          "execution_count": 213
        }
      ]
    },
    {
      "cell_type": "code",
      "source": [
        "tokenizer_diagnose = MyTokenizer(num_words=1000, filters='!\"#$%&()*+,-–—./:;<=>?@[\\]^_`{|}~\\t\\n\\xa0', lower=True, split=' ', oov_token='unknown', char_level=False)\n",
        "tokenizer_diagnose.process_data(df[FIELD_NEW_CLIENT_DIAG]) \n",
        "tokenizer_diagnose.vocab_size"
      ],
      "metadata": {
        "colab": {
          "base_uri": "https://localhost:8080/"
        },
        "id": "A5gWUVKqcZ2z",
        "outputId": "3a5b1b18-a5b3-4fef-9a65-4d199238ae87"
      },
      "execution_count": 215,
      "outputs": [
        {
          "output_type": "stream",
          "name": "stderr",
          "text": [
            "/usr/local/lib/python3.10/dist-packages/numpy/lib/function_base.py:2336: VisibleDeprecationWarning: Creating an ndarray from ragged nested sequences (which is a list-or-tuple of lists-or-tuples-or ndarrays with different lengths or shapes) is deprecated. If you meant to do this, you must specify 'dtype=object' when creating the ndarray.\n",
            "  args = [asarray(arg) for arg in args]\n"
          ]
        },
        {
          "output_type": "execute_result",
          "data": {
            "text/plain": [
              "250"
            ]
          },
          "metadata": {},
          "execution_count": 215
        }
      ]
    },
    {
      "cell_type": "code",
      "source": [
        "xTrainDiag = tokenizer_diagnose.indexed.get_padded()\n",
        "xTrainDiag.shape"
      ],
      "metadata": {
        "colab": {
          "base_uri": "https://localhost:8080/"
        },
        "id": "rIV5adL1cvXh",
        "outputId": "a22498ed-59e1-4361-9616-73cac9b748df"
      },
      "execution_count": 216,
      "outputs": [
        {
          "output_type": "execute_result",
          "data": {
            "text/plain": [
              "(1562, 108)"
            ]
          },
          "metadata": {},
          "execution_count": 216
        }
      ]
    },
    {
      "cell_type": "code",
      "source": [
        "x_train, x_test, x_train_mkb, x_test_mkb, x_train_harmfull, x_test_harmfull, x_train_prof, x_test_prof, x_train_additions, x_test_additions, x_train_diag, x_test_diag,  y_train, y_test = train_test_split(xTrain0,\n",
        "                                                                                                              xTrainMkb,\n",
        "                                                                                                              xTrainHarmFull,\n",
        "                                                                                                              xTrainProf,\n",
        "                                                                                                              xTrainAdditions, \n",
        "                                                                                                              xTrainDiag,                                                                                                            \n",
        "                                                                                                              yTrain, \n",
        "                                                                                                              test_size=0.2,\n",
        "                                                                                                              shuffle = False)"
      ],
      "metadata": {
        "id": "PFlbTaYhzEZG"
      },
      "outputs": [],
      "execution_count": 217
    },
    {
      "cell_type": "code",
      "source": [
        "from os import name\n",
        "# На этот вход подаются все OHE\n",
        "input0 = Input((x_train.shape[1], ), name=\"OHE\")\n",
        "# Сюда подаются mkb в виде последовательности токенов , поскольку они уже объединины в одой колонке\n",
        "input_mkb = Input((x_train_mkb.shape[1],), name=\"MKB\")\n",
        "# Сюда подаются вредные факторы тоже аналогично мкб , как будто это предложение из токенов \n",
        "input_harmfull = Input((x_train_harmfull.shape[1],), name=\"harm\")\n",
        "# Сюда подаются профессии , тоже как предложение токенов\n",
        "input_prof = Input((x_train_prof.shape[1],), name=\"prof\")\n",
        "# Дополнения от специалистов\n",
        "input_additions = Input((x_train_additions.shape[1],), name=\"additions\")\n",
        "# Диагнозы от специалистов (текст)\n",
        "input_diag = Input((x_train_diag.shape[1],), name=\"diag\")"
      ],
      "metadata": {
        "id": "xBK0bLli6rua"
      },
      "outputs": [],
      "execution_count": 218
    },
    {
      "cell_type": "code",
      "source": [
        "print(\n",
        "    input_harmfull.shape,\n",
        "    input_prof.shape,\n",
        "    input_additions.shape,\n",
        "    input_diag.shape\n",
        ")\n"
      ],
      "metadata": {
        "id": "SffH7HpWIQBk",
        "outputId": "cfd3c25e-45f6-4f98-d1d1-521fadbe9982",
        "colab": {
          "base_uri": "https://localhost:8080/"
        }
      },
      "outputs": [
        {
          "output_type": "stream",
          "name": "stdout",
          "text": [
            "(None, 13) (None, 12) (None, 117) (None, 108)\n"
          ]
        }
      ],
      "execution_count": 220
    },
    {
      "cell_type": "code",
      "source": [
        "def create_model1(input0, input_mkb, input_harmfull, input_prof):\n",
        "  x0 = BatchNormalization()(input0)\n",
        "  x0 = Dense(1024, activation='relu') (x0)\n",
        "  x0 = BatchNormalization()(x0)\n",
        "  x0 = Dropout(0.3)(x0)\n",
        "  x0 = Dense(768, activation='sigmoid')(x0)\n",
        "  x0 = BatchNormalization()(x0)\n",
        "  x0 = Dropout(0.3)(x0)\n",
        "  x0 = Dense(512, activation='sigmoid')(x0)\n",
        "\n",
        "  x1 = Embedding(tokenizer_mkb.vocab_size, 128,  input_length = tokenizer_mkb.indexed.max_len)(input_mkb)\n",
        "  x1 = SpatialDropout1D(0.2)(x1)\n",
        "  x1 = Dense(100, activation = 'sigmoid')(x1)\n",
        "  #x1 = Flatten()(x1)\n",
        "\n",
        "  x2 = Embedding(tokenizer_harmfull.vocab_size, 128, input_length = tokenizer_harmfull.indexed.max_len)(input_harmfull)\n",
        "  x2 = SpatialDropout1D(0.2)(x2)\n",
        "  x2 = Dense(100, activation = 'sigmoid')(x2)\n",
        "  #x2 = Flatten()(x2)\n",
        "\n",
        " # x3 = Embedding(prof_vocab_size, 256, input_length = prof_max_len)(input_prof)\n",
        " # x3 = SpatialDropout1D(0.2)(x3)\n",
        "  x3 = Dense(100, activation = 'sigmoid')(input_prof)\n",
        "  x3 = Reshape((1, 100))(x3)\n",
        "\n",
        "  #x3 = Flatten()(x3)\n",
        "\n",
        "  x_ = concatenate([x1, x2, x3], axis = -2)\n",
        "  x_ = Flatten()(x_)\n",
        "  x = concatenate([x0, x_])\n",
        "\n",
        "\n",
        "  x = Dense(800, activation = 'relu')(x)\n",
        "  x = BatchNormalization()(x)\n",
        "  x = Dropout(0.3)(x)\n",
        "  x = Dense(Y_CLASSES, activation='softmax')(x)\n",
        "\n",
        "  return Model((input0, input_mkb, input_harmfull, input_prof), x )\n"
      ],
      "metadata": {
        "id": "1S2NAzZw8Um2"
      },
      "execution_count": 223,
      "outputs": []
    },
    {
      "cell_type": "markdown",
      "source": [
        "Модель 1"
      ],
      "metadata": {
        "id": "-SeONgscAh-x"
      }
    },
    {
      "cell_type": "code",
      "source": [
        "#model1 = create_model1(input0, input_mkb, input_harmfull, input_prof)\n",
        "#utils.plot_model(model1, dpi=60, show_shapes = True)\n"
      ],
      "metadata": {
        "id": "sTqDxSXnmA8h"
      },
      "execution_count": null,
      "outputs": []
    },
    {
      "cell_type": "code",
      "source": [
        "def f1_score_keras(y_true, y_pred):\n",
        "    y_pred = tf.round(y_pred)  # Округление предсказанных значений до 0 или 1\n",
        "    return skl_metrics.f1_score(y_true, y_pred)\n",
        "\n",
        "f1score = tfad.metrics.F1Score(num_classes=Y_CLASSES)\n"
      ],
      "metadata": {
        "id": "buEdBBV-HLa7"
      },
      "execution_count": 225,
      "outputs": []
    },
    {
      "cell_type": "code",
      "source": [
        "#model1.compile(optimizer = Adam(learning_rate = 1e-5), loss = keras_losses.categorical_crossentropy, metrics=['mae', 'accuracy'])"
      ],
      "metadata": {
        "id": "CTNtSx_GVWkS"
      },
      "execution_count": null,
      "outputs": []
    },
    {
      "cell_type": "code",
      "source": [
        "\n",
        "# Визуальная оценка ошибки на обучающей и проверочной выборках\n",
        "\n",
        "def compare_sharp_loss (history, x_size, y_size):\n",
        "  \n",
        "  plt.figure(figsize=(x_size,y_size))\n",
        "  plt.plot(history.history['loss'], \n",
        "         label='Ошибка на обучающей выборке')\n",
        "  \n",
        "  plt.plot(history.history['val_loss'], \n",
        "         label='Ошибка проверочном наборе')\n",
        "  plt.xlabel('Эпоха обучения')\n",
        "  plt.ylabel('Средняя ошибка')\n",
        "  plt.legend()\n",
        "  plt.show()"
      ],
      "metadata": {
        "id": "WPAL3J7rnIWW"
      },
      "outputs": [],
      "execution_count": null
    },
    {
      "cell_type": "code",
      "source": [
        "#history = model1.fit([x_train, x_train_mkb, x_train_harmfull, x_train_prof],\n",
        "#                    y_train,\n",
        "#                    batch_size=32,\n",
        "#                    epochs = 100,\n",
        "#                    validation_split = 0.2,\n",
        "#                    verbose = 1)"
      ],
      "metadata": {
        "id": "lZAupbFKWh7p"
      },
      "execution_count": null,
      "outputs": []
    },
    {
      "cell_type": "code",
      "source": [
        "#model1.save(\"drive/MyDrive/prof_patolog/model1.h5\")"
      ],
      "metadata": {
        "id": "whZkyE6zCdYx"
      },
      "execution_count": null,
      "outputs": []
    },
    {
      "cell_type": "code",
      "source": [],
      "metadata": {
        "id": "8PrFp11XECZ0"
      },
      "execution_count": null,
      "outputs": []
    },
    {
      "cell_type": "code",
      "source": [
        "#дообучение\n",
        "#model1.compile(optimizer = Adam(learning_rate = 5e-6), loss = keras_losses.categorical_crossentropy, metrics=['mae', 'accuracy'])\n",
        "#history = model1.fit([x_train, x_train_mkb, x_train_harmfull, x_train_prof], #model1.fit([x_train, x_train_mkb, x_train_harmfull, x_train_prof],\n",
        "##                    y_train,\n",
        "#                    batch_size=32,\n",
        "#                    epochs = 50,\n",
        "#                    validation_split = 0.2,\n",
        "#                    verbose = 1)"
      ],
      "metadata": {
        "id": "O1OChdi9DvsQ"
      },
      "execution_count": null,
      "outputs": []
    },
    {
      "cell_type": "code",
      "source": [
        "#compare_sharp_loss(history, 10, 4)"
      ],
      "metadata": {
        "id": "1FPBsoMznK7C"
      },
      "execution_count": null,
      "outputs": []
    },
    {
      "cell_type": "markdown",
      "source": [
        "Модель 2"
      ],
      "metadata": {
        "id": "w8Y5yUGDBHEk"
      }
    },
    {
      "cell_type": "code",
      "source": [
        "x0 = BatchNormalization()(input0)\n",
        "x0 = Dense(1024, activation='relu') (x0)\n",
        "x0 = BatchNormalization()(x0)\n",
        "x0 = Dropout(0.3)(x0)\n",
        "x0 = Dense(768, activation='sigmoid')(x0)\n",
        "x0 = BatchNormalization()(x0)\n",
        "x0 = Dropout(0.3)(x0)\n",
        "x0 = Dense(512, activation='sigmoid')(x0)\n",
        "\n",
        "x1 = Embedding(tokenizer_mkb.vocab_size, 128, input_length = tokenizer_mkb.indexed.max_len)(input_mkb)\n",
        "x1 = SpatialDropout1D(0.2)(x1)\n",
        "x1 = Conv1D(128,3, activation = 'relu', padding='same')(x1)\n",
        "x1 = GlobalMaxPooling1D()(x1)\n",
        "x1 = Dense(256, activation = 'sigmoid')(x1)\n",
        "#x1 = Flatten()(x1)\n",
        "\n",
        "x2 = Embedding(tokenizer_harmfull.vocab_size, 128, input_length = tokenizer_harmfull.indexed.max_len)(input_harmfull)\n",
        "x2 = SpatialDropout1D(0.2)(x2)\n",
        "x2 = Conv1D(128,3, activation = 'relu', padding='same')(x2)\n",
        "x2 = GlobalMaxPooling1D()(x2)\n",
        "x2 = Dense(256, activation = 'relu')(x2)\n",
        "#x2 = Flatten()(x2)\n",
        "\n",
        "x3 = Embedding(tokenizer_prof.vocab_size, 256, input_length = tokenizer_prof.indexed.max_len)(input_prof)\n",
        "x3 = SpatialDropout1D(0.2)(x3)\n",
        "x3 = Conv1D(128,2, activation = 'relu', padding='same')(x3)\n",
        "x3 = GlobalMaxPooling1D()(x3)\n",
        "x3 = Dense(256, activation = 'relu')(x3)\n",
        "#x3 = Flatten()(x3)\n",
        "\n",
        "x4 = Embedding(tokenizer_additions.vocab_size, 256, input_length = tokenizer_additions.indexed.max_len)(input_additions)\n",
        "x4 = SpatialDropout1D(0.2)(x4)\n",
        "x4 = Conv1D(128,2, activation = 'relu', padding='same')(x4)\n",
        "x4 = GlobalMaxPooling1D()(x4)\n",
        "x4 = Dense(256, activation = 'relu')(x4)\n",
        "#x3 = Flatten()(x3)\n",
        "\n",
        "x = concatenate([x0,x1, x2, x3, x4])\n",
        "x = Dense(800, activation = 'relu')(x)\n",
        "x = BatchNormalization()(x)\n",
        "x = Dropout(0.3)(x)\n",
        "x = Dense(Y_CLASSES, activation='softmax')(x)\n",
        "\n",
        "model2 =  Model((input0, input_mkb, input_harmfull, input_prof, input_additions), x )\n",
        "model2.compile(optimizer = Adam(learning_rate = 1e-4), loss = keras_losses.mse, metrics=[keras_metrics.mae, f1score])\n"
      ],
      "metadata": {
        "id": "90seVJWImma1"
      },
      "outputs": [],
      "execution_count": 226
    },
    {
      "cell_type": "code",
      "source": [
        "utils.plot_model(model2, dpi=60, show_shapes = True)\n"
      ],
      "metadata": {
        "colab": {
          "base_uri": "https://localhost:8080/",
          "height": 758
        },
        "id": "G7GjGfp_qV4Q",
        "outputId": "edbafe43-e16f-4e83-cef2-ad61d07ce5d0"
      },
      "outputs": [
        {
          "output_type": "execute_result",
          "data": {
            "image/png": "[encoded data removed]",
            "text/plain": [
              "<IPython.core.display.Image object>"
            ]
          },
          "metadata": {},
          "execution_count": 227
        }
      ],
      "execution_count": 227
    },
    {
      "cell_type": "code",
      "source": [
        "print(x_train.shape,x_train_mkb.shape, x_train_harmfull.shape, x_train_prof.shape, x_train_additions.shape)"
      ],
      "metadata": {
        "colab": {
          "base_uri": "https://localhost:8080/"
        },
        "id": "I9XGqLuDNosI",
        "outputId": "8fbef807-d6af-41bb-c879-069cce87b643"
      },
      "execution_count": 228,
      "outputs": [
        {
          "output_type": "stream",
          "name": "stdout",
          "text": [
            "(1249, 16) (1249, 48) (1249, 13) (1249, 12) (1249, 117)\n"
          ]
        }
      ]
    },
    {
      "cell_type": "code",
      "source": [
        "history = model2.fit([x_train, x_train_mkb, x_train_harmfull, x_train_prof, x_train_additions],\n",
        "                    y_train,\n",
        "                    batch_size=32,\n",
        "                    epochs = 70,\n",
        "                    validation_split = 0.20,\n",
        "                    verbose = 1)"
      ],
      "metadata": {
        "colab": {
          "base_uri": "https://localhost:8080/"
        },
        "id": "Y2UTfoQxnhdo",
        "outputId": "e11eb7b0-b438-4c8a-f2ef-b8d68bbf5512"
      },
      "outputs": [
        {
          "output_type": "stream",
          "name": "stdout",
          "text": [
            "Epoch 1/70\n",
            "32/32 [==============================] - 39s 633ms/step - loss: 0.2403 - mean_absolute_error: 0.3551 - f1_score: 0.3069 - val_loss: 0.1514 - val_mean_absolute_error: 0.3631 - val_f1_score: 0.3158\n",
            "Epoch 2/70\n",
            " 6/32 [====>.........................] - ETA: 3s - loss: 0.1945 - mean_absolute_error: 0.2847 - f1_score: 0.3348"
          ]
        }
      ],
      "execution_count": null
    },
    {
      "cell_type": "code",
      "source": [
        "compare_sharp_loss(history, 10, 4)"
      ],
      "metadata": {
        "colab": {
          "base_uri": "https://localhost:8080/",
          "height": 392
        },
        "id": "HSwLxs6rpGFT",
        "outputId": "95d6c8c7-c6e0-41fe-860c-42684237f37f"
      },
      "outputs": [
        {
          "output_type": "display_data",
          "data": {
            "text/plain": [
              "<Figure size 1000x400 with 1 Axes>"
            ],
            "image/png": "[encoded data removed]"
          },
          "metadata": {}
        }
      ],
      "execution_count": null
    },
    {
      "cell_type": "markdown",
      "source": [
        "F1Score"
      ],
      "metadata": {
        "id": "2TUaM2RLUKzM"
      }
    },
    {
      "cell_type": "code",
      "source": [
        "\n",
        "train_f1scores = np.array(history.history['f1_score'])\n",
        "val_f1scores = np.array(history.history['val_f1_score'])\n",
        "plt.figure(figsize=(10,5))\n",
        "\n",
        "for class_idx in range(Y_CLASSES):\n",
        "    color = f'C{class_idx}'\n",
        "    plt.plot(train_f1scores[:, class_idx], color=color, linestyle = '-', label=f'Training (Class {MyUtils.conclusion_map[class_idx]})')\n",
        "    plt.plot(val_f1scores[:, class_idx], color=color, linestyle = '--',label=f'Validation (Class {MyUtils.conclusion_map[class_idx]})')\n",
        "\n",
        "plt.legend(fontsize='small')\n",
        "\n",
        "plt.xlabel('Эпоха обучения')\n",
        "plt.ylabel('Средняя f1score')\n",
        "\n",
        "#plt.title(\"Training and Validation F1 Score by Class\")\n",
        "\n",
        "plt.show()"
      ],
      "metadata": {
        "colab": {
          "base_uri": "https://localhost:8080/",
          "height": 465
        },
        "id": "EPx0-yEULod5",
        "outputId": "5ca5ad1d-7717-44dc-ff2c-15ccb857975d"
      },
      "execution_count": null,
      "outputs": [
        {
          "output_type": "display_data",
          "data": {
            "text/plain": [
              "<Figure size 1000x500 with 1 Axes>"
            ],
            "image/png": "[encoded data removed]"
          },
          "metadata": {}
        }
      ]
    },
    {
      "cell_type": "code",
      "source": [
        "y_pred  = model2.predict((x_test, x_test_mkb, x_test_harmfull, x_test_prof, x_test_additions))\n"
      ],
      "metadata": {
        "id": "LMURxjGRNRm_",
        "outputId": "0e5c9fb3-4077-4746-f222-604466a33a15",
        "colab": {
          "base_uri": "https://localhost:8080/"
        }
      },
      "outputs": [
        {
          "output_type": "stream",
          "name": "stdout",
          "text": [
            "10/10 [==============================] - 0s 21ms/step\n"
          ]
        }
      ],
      "execution_count": null
    },
    {
      "cell_type": "code",
      "source": [
        "print(y_pred[0], '-' , y_test[0])\n"
      ],
      "metadata": {
        "id": "GLQeegaLNWsZ",
        "outputId": "46085d86-b3b7-46b9-8758-eb5c7aed6916",
        "colab": {
          "base_uri": "https://localhost:8080/"
        }
      },
      "outputs": [
        {
          "output_type": "stream",
          "name": "stdout",
          "text": [
            "[1.02908336e-04 9.99894321e-01 2.77734875e-06] - [0 1 0]\n"
          ]
        }
      ],
      "execution_count": null
    },
    {
      "cell_type": "code",
      "source": [
        "y_pred_idx = np.argmax(y_pred, axis=1)\n",
        "y_test_idx = np.argmax(y_test, axis=1)\n",
        "df_result = pd.DataFrame({'pred': y_pred_idx, 'test': y_test_idx})\n",
        "df_result['pred'] = df_result['pred'].apply(MyUtils.resolve_conclusion_map)\n",
        "df_result['test'] = df_result['test'].apply(MyUtils.resolve_conclusion_map)\n",
        "display(df_result)\n",
        "num_wrong = 0\n",
        "for pred, test in zip(y_pred_idx, y_test_idx):\n",
        "    if pred != test:\n",
        "        num_wrong += 1\n",
        "\n",
        "percent_wrong = num_wrong / len(y_test_idx) * 100\n",
        "print(f\"Percent wrong: {percent_wrong:.2f}%\")\n"
      ],
      "metadata": {
        "id": "kpSS2DJQsQ1E",
        "outputId": "36ef5b88-67c0-419d-f63e-a96fa50eee5c",
        "colab": {
          "base_uri": "https://localhost:8080/",
          "height": 441
        }
      },
      "outputs": [
        {
          "output_type": "display_data",
          "data": {
            "text/plain": [
              "      pred   test\n",
              "0    Годен  Годен\n",
              "1    Годен  Годен\n",
              "2    Годен  Годен\n",
              "3    Годен  Годен\n",
              "4    Годен  Годен\n",
              "..     ...    ...\n",
              "308  Годен  Годен\n",
              "309  Годен  Годен\n",
              "310  Годен  Годен\n",
              "311  Годен  Годен\n",
              "312  Годен  Годен\n",
              "\n",
              "[313 rows x 2 columns]"
            ],
            "text/html": [
              "\n",
              "  <div id=\"df-5fa0ad36-02dc-4472-b447-0773fcf2547f\">\n",
              "    <div class=\"colab-df-container\">\n",
              "      <div>\n",
              "<style scoped>\n",
              "    .dataframe tbody tr th:only-of-type {\n",
              "        vertical-align: middle;\n",
              "    }\n",
              "\n",
              "    .dataframe tbody tr th {\n",
              "        vertical-align: top;\n",
              "    }\n",
              "\n",
              "    .dataframe thead th {\n",
              "        text-align: right;\n",
              "    }\n",
              "</style>\n",
              "<table border=\"1\" class=\"dataframe\">\n",
              "  <thead>\n",
              "    <tr style=\"text-align: right;\">\n",
              "      <th></th>\n",
              "      <th>pred</th>\n",
              "      <th>test</th>\n",
              "    </tr>\n",
              "  </thead>\n",
              "  <tbody>\n",
              "    <tr>\n",
              "      <th>0</th>\n",
              "      <td>Годен</td>\n",
              "      <td>Годен</td>\n",
              "    </tr>\n",
              "    <tr>\n",
              "      <th>1</th>\n",
              "      <td>Годен</td>\n",
              "      <td>Годен</td>\n",
              "    </tr>\n",
              "    <tr>\n",
              "      <th>2</th>\n",
              "      <td>Годен</td>\n",
              "      <td>Годен</td>\n",
              "    </tr>\n",
              "    <tr>\n",
              "      <th>3</th>\n",
              "      <td>Годен</td>\n",
              "      <td>Годен</td>\n",
              "    </tr>\n",
              "    <tr>\n",
              "      <th>4</th>\n",
              "      <td>Годен</td>\n",
              "      <td>Годен</td>\n",
              "    </tr>\n",
              "    <tr>\n",
              "      <th>...</th>\n",
              "      <td>...</td>\n",
              "      <td>...</td>\n",
              "    </tr>\n",
              "    <tr>\n",
              "      <th>308</th>\n",
              "      <td>Годен</td>\n",
              "      <td>Годен</td>\n",
              "    </tr>\n",
              "    <tr>\n",
              "      <th>309</th>\n",
              "      <td>Годен</td>\n",
              "      <td>Годен</td>\n",
              "    </tr>\n",
              "    <tr>\n",
              "      <th>310</th>\n",
              "      <td>Годен</td>\n",
              "      <td>Годен</td>\n",
              "    </tr>\n",
              "    <tr>\n",
              "      <th>311</th>\n",
              "      <td>Годен</td>\n",
              "      <td>Годен</td>\n",
              "    </tr>\n",
              "    <tr>\n",
              "      <th>312</th>\n",
              "      <td>Годен</td>\n",
              "      <td>Годен</td>\n",
              "    </tr>\n",
              "  </tbody>\n",
              "</table>\n",
              "<p>313 rows × 2 columns</p>\n",
              "</div>\n",
              "      <button class=\"colab-df-convert\" onclick=\"convertToInteractive('df-5fa0ad36-02dc-4472-b447-0773fcf2547f')\"\n",
              "              title=\"Convert this dataframe to an interactive table.\"\n",
              "              style=\"display:none;\">\n",
              "        \n",
              "  <svg xmlns=\"http://www.w3.org/2000/svg\" height=\"24px\"viewBox=\"0 0 24 24\"\n",
              "       width=\"24px\">\n",
              "    <path d=\"M0 0h24v24H0V0z\" fill=\"none\"/>\n",
              "    <path d=\"M18.56 5.44l.94 2.06.94-2.06 2.06-.94-2.06-.94-.94-2.06-.94 2.06-2.06.94zm-11 1L8.5 8.5l.94-2.06 2.06-.94-2.06-.94L8.5 2.5l-.94 2.06-2.06.94zm10 10l.94 2.06.94-2.06 2.06-.94-2.06-.94-.94-2.06-.94 2.06-2.06.94z\"/><path d=\"M17.41 7.96l-1.37-1.37c-.4-.4-.92-.59-1.43-.59-.52 0-1.04.2-1.43.59L10.3 9.45l-7.72 7.72c-.78.78-.78 2.05 0 2.83L4 21.41c.39.39.9.59 1.41.59.51 0 1.02-.2 1.41-.59l7.78-7.78 2.81-2.81c.8-.78.8-2.07 0-2.86zM5.41 20L4 18.59l7.72-7.72 1.47 1.35L5.41 20z\"/>\n",
              "  </svg>\n",
              "      </button>\n",
              "      \n",
              "  <style>\n",
              "    .colab-df-container {\n",
              "      display:flex;\n",
              "      flex-wrap:wrap;\n",
              "      gap: 12px;\n",
              "    }\n",
              "\n",
              "    .colab-df-convert {\n",
              "      background-color: #E8F0FE;\n",
              "      border: none;\n",
              "      border-radius: 50%;\n",
              "      cursor: pointer;\n",
              "      display: none;\n",
              "      fill: #1967D2;\n",
              "      height: 32px;\n",
              "      padding: 0 0 0 0;\n",
              "      width: 32px;\n",
              "    }\n",
              "\n",
              "    .colab-df-convert:hover {\n",
              "      background-color: #E2EBFA;\n",
              "      box-shadow: 0px 1px 2px rgba(60, 64, 67, 0.3), 0px 1px 3px 1px rgba(60, 64, 67, 0.15);\n",
              "      fill: #174EA6;\n",
              "    }\n",
              "\n",
              "    [theme=dark] .colab-df-convert {\n",
              "      background-color: #3B4455;\n",
              "      fill: #D2E3FC;\n",
              "    }\n",
              "\n",
              "    [theme=dark] .colab-df-convert:hover {\n",
              "      background-color: #434B5C;\n",
              "      box-shadow: 0px 1px 3px 1px rgba(0, 0, 0, 0.15);\n",
              "      filter: drop-shadow(0px 1px 2px rgba(0, 0, 0, 0.3));\n",
              "      fill: #FFFFFF;\n",
              "    }\n",
              "  </style>\n",
              "\n",
              "      <script>\n",
              "        const buttonEl =\n",
              "          document.querySelector('#df-5fa0ad36-02dc-4472-b447-0773fcf2547f button.colab-df-convert');\n",
              "        buttonEl.style.display =\n",
              "          google.colab.kernel.accessAllowed ? 'block' : 'none';\n",
              "\n",
              "        async function convertToInteractive(key) {\n",
              "          const element = document.querySelector('#df-5fa0ad36-02dc-4472-b447-0773fcf2547f');\n",
              "          const dataTable =\n",
              "            await google.colab.kernel.invokeFunction('convertToInteractive',\n",
              "                                                     [key], {});\n",
              "          if (!dataTable) return;\n",
              "\n",
              "          const docLinkHtml = 'Like what you see? Visit the ' +\n",
              "            '<a target=\"_blank\" href=https://colab.research.google.com/notebooks/data_table.ipynb>data table notebook</a>'\n",
              "            + ' to learn more about interactive tables.';\n",
              "          element.innerHTML = '';\n",
              "          dataTable['output_type'] = 'display_data';\n",
              "          await google.colab.output.renderOutput(dataTable, element);\n",
              "          const docLink = document.createElement('div');\n",
              "          docLink.innerHTML = docLinkHtml;\n",
              "          element.appendChild(docLink);\n",
              "        }\n",
              "      </script>\n",
              "    </div>\n",
              "  </div>\n",
              "  "
            ]
          },
          "metadata": {}
        },
        {
          "output_type": "stream",
          "name": "stdout",
          "text": [
            "Percent wrong: 10.54%\n"
          ]
        }
      ],
      "execution_count": null
    },
    {
      "cell_type": "code",
      "source": [
        "(df_result['pred'] != df_result['test']).sum()\n"
      ],
      "metadata": {
        "colab": {
          "base_uri": "https://localhost:8080/"
        },
        "id": "fLMCXX9IlDKG",
        "outputId": "97639099-7182-4016-df42-35924bd3ef29"
      },
      "execution_count": null,
      "outputs": [
        {
          "output_type": "execute_result",
          "data": {
            "text/plain": [
              "33"
            ]
          },
          "metadata": {},
          "execution_count": 131
        }
      ]
    },
    {
      "cell_type": "code",
      "source": [
        "# Подсчет общего количества значений в столбце test\n",
        "total_values = df_result['test'].count()\n",
        "\n",
        "# Подсчет количества несовпадений\n",
        "num_mismatches = (df_result['pred'] != df_result['test']).sum()\n",
        "\n",
        "# Подсчет процентного соотношения несовпадений\n",
        "mismatch_percentage = (num_mismatches / total_values) * 100\n",
        "mismatch_percentage\n"
      ],
      "metadata": {
        "colab": {
          "base_uri": "https://localhost:8080/"
        },
        "id": "DL3yIRbTJSwD",
        "outputId": "e8d27759-cb13-4e18-ed5c-d07549b01c61"
      },
      "outputs": [
        {
          "output_type": "execute_result",
          "data": {
            "text/plain": [
              "10.543130990415335"
            ]
          },
          "metadata": {},
          "execution_count": 157
        }
      ],
      "execution_count": null
    },
    {
      "cell_type": "code",
      "source": [
        "np.argmax(y_pred, axis = -1).shape"
      ],
      "metadata": {
        "colab": {
          "base_uri": "https://localhost:8080/"
        },
        "id": "HQ_69z4MdWOQ",
        "outputId": "577bd217-4794-48a1-b6f0-ddef19db0dd2"
      },
      "outputs": [
        {
          "output_type": "execute_result",
          "data": {
            "text/plain": [
              "(313,)"
            ]
          },
          "metadata": {},
          "execution_count": 158
        }
      ],
      "execution_count": null
    },
    {
      "cell_type": "code",
      "source": [
        "np.argmax(y_test, axis = -1).shape"
      ],
      "metadata": {
        "colab": {
          "base_uri": "https://localhost:8080/"
        },
        "id": "7ppcg09ycbKi",
        "outputId": "3a70e38e-17f8-4736-9268-9d142618f90b"
      },
      "outputs": [
        {
          "output_type": "execute_result",
          "data": {
            "text/plain": [
              "(313,)"
            ]
          },
          "metadata": {},
          "execution_count": 159
        }
      ],
      "execution_count": null
    },
    {
      "cell_type": "code",
      "source": [
        "cm = confusion_matrix(np.argmax(y_test, axis=-1),\n",
        "                          np.argmax(y_pred, axis=-1),\n",
        "                          normalize='true')"
      ],
      "metadata": {
        "id": "KCIQL3EYb3ir"
      },
      "outputs": [],
      "execution_count": null
    },
    {
      "cell_type": "code",
      "source": [
        "cm = np.around(cm, 1)"
      ],
      "metadata": {
        "id": "lrhtGqueesH2"
      },
      "outputs": [],
      "execution_count": null
    },
    {
      "cell_type": "code",
      "source": [
        "MyUtils.conclusion_labels()[np.argmax([1,0,0])]"
      ],
      "metadata": {
        "id": "nv_vzjKhMijL",
        "outputId": "16d792d5-e2d0-4374-cfb6-d1beb849be26",
        "colab": {
          "base_uri": "https://localhost:8080/",
          "height": 36
        }
      },
      "outputs": [
        {
          "output_type": "execute_result",
          "data": {
            "text/plain": [
              "'Негоден'"
            ],
            "application/vnd.google.colaboratory.intrinsic+json": {
              "type": "string"
            }
          },
          "metadata": {},
          "execution_count": 162
        }
      ],
      "execution_count": null
    },
    {
      "cell_type": "code",
      "source": [
        "\n",
        "figsize = (10,10)\n",
        "title = \"model2\"\n",
        "# Отрисовка матрицы ошибок\n",
        "fig, ax = plt.subplots(figsize=figsize)\n",
        "ax.set_title(f'Нейросеть {title}: матрица ошибок нормализованная', fontsize=18)\n",
        "disp = ConfusionMatrixDisplay(confusion_matrix=cm, display_labels=MyUtils.conclusion_labels())\n",
        "disp.plot(ax=ax)\n",
        "plt.gca().images[-1].colorbar.remove()  # Стирание ненужной цветовой шкалы\n",
        "plt.xlabel('Предсказанные классы', fontsize=16)\n",
        "plt.ylabel('Верные классы', fontsize=16)\n",
        "fig.autofmt_xdate(rotation=45)          # Наклон меток горизонтальной оси при необходимости\n",
        "plt.show()    "
      ],
      "metadata": {
        "colab": {
          "base_uri": "https://localhost:8080/",
          "height": 872
        },
        "id": "fYfH3kh0dwHi",
        "outputId": "466ac8a9-57f9-4299-c9ab-09678695c95d"
      },
      "outputs": [
        {
          "output_type": "display_data",
          "data": {
            "text/plain": [
              "<Figure size 1000x1000 with 1 Axes>"
            ],
            "image/png": "[encoded data removed]"
          },
          "metadata": {}
        }
      ],
      "execution_count": null
    },
    {
      "cell_type": "code",
      "source": [
        "# Подсчет матрицы ошибок\n",
        "cm = confusion_matrix(y_test_idx, y_pred_idx)\n",
        "\n",
        "# Подсчет количества верных предсказаний\n",
        "num_correct = cm.diagonal().sum()\n",
        "\n",
        "# Подсчет количества ошибочных предсказаний\n",
        "num_mismatches = cm.sum() - num_correct\n",
        "\n",
        "# Подсчет процентного соотношения несовпадений\n",
        "mismatch_percentage = (num_mismatches / cm.sum()) * 100\n",
        "\n",
        "# Вывод результата\n",
        "print(f'Количество верных предсказаний: {num_correct}')\n",
        "print(f'Количество ошибочных предсказаний: {num_mismatches}')\n",
        "print(f'Процентное соотношение несовпадений: {mismatch_percentage:.2f}%')"
      ],
      "metadata": {
        "colab": {
          "base_uri": "https://localhost:8080/"
        },
        "id": "3ld5l5QGh3KT",
        "outputId": "b2a0bcb1-4a47-4f08-d515-7aaa17c95d3f"
      },
      "outputs": [
        {
          "output_type": "stream",
          "name": "stdout",
          "text": [
            "Количество верных предсказаний: 280\n",
            "Количество ошибочных предсказаний: 33\n",
            "Процентное соотношение несовпадений: 10.54%\n"
          ]
        }
      ],
      "execution_count": null
    },
    {
      "cell_type": "code",
      "source": [
        "fig, ax = plt.subplots(figsize=figsize)\n",
        "ax.scatter(y_test_idx, y_pred_idx)"
      ],
      "metadata": {
        "colab": {
          "base_uri": "https://localhost:8080/",
          "height": 848
        },
        "id": "6pvpn04_QGHp",
        "outputId": "c0ec1299-ca1e-4549-fa6d-f7c165be120a"
      },
      "outputs": [
        {
          "output_type": "execute_result",
          "data": {
            "text/plain": [
              "<matplotlib.collections.PathCollection at 0x7f92a1586a10>"
            ]
          },
          "metadata": {},
          "execution_count": 140
        },
        {
          "output_type": "display_data",
          "data": {
            "text/plain": [
              "<Figure size 1000x1000 with 1 Axes>"
            ],
            "image/png": "[encoded data removed]"
          },
          "metadata": {}
        }
      ],
      "execution_count": null
    },
    {
      "cell_type": "markdown",
      "source": [
        "**Вывод**: Основная идея объединить МКБ в одну колонку и пройти по ней как по предложению через свертки, для выявления взаимосвязи между специалистами.\n",
        "\n",
        "Результат слабоватый, возможно из-за слишком несбалансированнной базы\n",
        "По этой же причине не стал обрабатывать основные текстовые поля, хотя была та же идея избавится от разрежения значений полей специалистов путём объединения текстов колонок в одну в виде текста с разбивкой на абзацы и заголовками  для каждого специалиста.\n",
        "Если будет база со сбалансированными данными, возможно это будет уместно сделать "
      ],
      "metadata": {
        "id": "l1SlAlJwBdVx"
      }
    }
  ]
}